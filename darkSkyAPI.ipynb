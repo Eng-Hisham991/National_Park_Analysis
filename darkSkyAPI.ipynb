{
 "cells": [
  {
   "cell_type": "code",
   "execution_count": 3,
   "metadata": {},
   "outputs": [
    {
     "name": "stdout",
     "output_type": "stream",
     "text": [
      "https://api.darksky.net/forecast/bd68446f07bf23135ddb503583feeb54/29.7604,-95.3698,255657600\n"
     ]
    }
   ],
   "source": [
    "lat = 29.7604\n",
    "lon = -95.3698\n",
    "\n",
    "start=1583626314\n",
    "end=1582329605\n",
    "\n",
    "w_api_key = 'bd68446f07bf23135ddb503583feeb54'\n",
    "\n",
    "url = f'https://api.darksky.net/forecast/{w_api_key}/{lat},{lon},255657600'\n",
    "\n",
    "print(url)"
   ]
  },
  {
   "cell_type": "code",
   "execution_count": 5,
   "metadata": {},
   "outputs": [
    {
     "name": "stdout",
     "output_type": "stream",
     "text": [
      "1548892800.0\n"
     ]
    }
   ],
   "source": [
    "import datetime\n",
    "orig = datetime.datetime.fromtimestamp(1546300800)\n",
    "new = orig + datetime.timedelta(days=30)\n",
    "print(new.timestamp())"
   ]
  },
  {
   "cell_type": "code",
   "execution_count": null,
   "metadata": {},
   "outputs": [],
   "source": []
  }
 ],
 "metadata": {
  "kernelspec": {
   "display_name": "Python 3",
   "language": "python",
   "name": "python3"
  },
  "language_info": {
   "codemirror_mode": {
    "name": "ipython",
    "version": 3
   },
   "file_extension": ".py",
   "mimetype": "text/x-python",
   "name": "python",
   "nbconvert_exporter": "python",
   "pygments_lexer": "ipython3",
   "version": "3.7.6"
  }
 },
 "nbformat": 4,
 "nbformat_minor": 4
}
