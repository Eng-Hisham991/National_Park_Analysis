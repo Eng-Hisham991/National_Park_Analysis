{
 "cells": [
  {
   "cell_type": "markdown",
   "metadata": {},
   "source": [
    "# Import dependences"
   ]
  },
  {
   "cell_type": "code",
   "execution_count": 15,
   "metadata": {},
   "outputs": [],
   "source": [
    "import requests, json \n",
    "import matplotlib as plt \n",
    "import numpy as np, pandas as pd \n",
    "import os, time \n",
    "from census import Census\n",
    "import us\n",
    "from NPS_key import Api_key\n",
    "from Censuskey import census_api_key\n",
    "import plotly.express as px\n",
    "# from eia_api_keys import eia_Api_key\n",
    "\n",
    "from IPython.core.interactiveshell import InteractiveShell\n",
    "InteractiveShell.ast_node_interactivity = \"all\""
   ]
  },
  {
   "cell_type": "markdown",
   "metadata": {},
   "source": [
    "# Assigned the states of NE & MW regions to lists."
   ]
  },
  {
   "cell_type": "code",
   "execution_count": 16,
   "metadata": {},
   "outputs": [],
   "source": [
    "States1= ['CT', 'ME', 'MA', 'NH', 'NJ', 'NY', 'PA', 'RI', 'VT', 'DE', 'MD']\n",
    "States2= ['ND', 'SD','NE','KS','MO','IA','MN','WI','MI','IL','IN','OH']"
   ]
  },
  {
   "cell_type": "markdown",
   "metadata": {},
   "source": [
    "# Make api request for each state in the NE."
   ]
  },
  {
   "cell_type": "code",
   "execution_count": 17,
   "metadata": {},
   "outputs": [],
   "source": [
    "CT_Results=[]  \n",
    "ME_Results=[]\n",
    "MA_Results=[]\n",
    "NH_Results=[]\n",
    "NJ_Results=[]\n",
    "NY_Results=[]\n",
    "PA_Results=[]\n",
    "RI_Results=[]\n",
    "VT_Results=[]\n",
    "DE_Results=[]\n",
    "MD_Results=[]\n",
    "\n",
    "for state in States1:\n",
    "    if state == 'CT':\n",
    "        CT_URL= f'https://developer.nps.gov/api/v1/parks?stateCode={state}&api_key={Api_key}'\n",
    "        CT_json= requests.get(CT_URL).json()\n",
    "        CT_Results.append(CT_json)\n",
    "    if state == 'ME':\n",
    "        ME_URL= f'https://developer.nps.gov/api/v1/parks?stateCode={state}&api_key={Api_key}'\n",
    "        ME_json= requests.get(ME_URL).json()\n",
    "        ME_Results.append(ME_json)\n",
    "    if state == 'MA':\n",
    "        MA_URL= f'https://developer.nps.gov/api/v1/parks?stateCode={state}&api_key={Api_key}'\n",
    "        MA_json= requests.get(MA_URL).json()\n",
    "        MA_Results.append(MA_json)\n",
    "    if state == 'NH':\n",
    "        NH_URL= f'https://developer.nps.gov/api/v1/parks?stateCode={state}&api_key={Api_key}'\n",
    "        NH_json= requests.get(NH_URL).json()\n",
    "        NH_Results.append(NH_json)\n",
    "    if state == 'NJ':\n",
    "        NJ_URL= f'https://developer.nps.gov/api/v1/parks?stateCode={state}&api_key={Api_key}'\n",
    "        NJ_json= requests.get(NJ_URL).json()\n",
    "        NJ_Results.append(NJ_json)\n",
    "    if state == 'NY':\n",
    "        NY_URL= f'https://developer.nps.gov/api/v1/parks?stateCode={state}&api_key={Api_key}'\n",
    "        NY_json= requests.get(NY_URL).json()\n",
    "        NY_Results.append(NY_json)\n",
    "    if state == 'PA':\n",
    "        PA_URL= f'https://developer.nps.gov/api/v1/parks?stateCode={state}&api_key={Api_key}'\n",
    "        PA_json= requests.get(PA_URL).json()\n",
    "        PA_Results.append(PA_json)\n",
    "    if state == 'RI':\n",
    "        RI_URL= f'https://developer.nps.gov/api/v1/parks?stateCode={state}&api_key={Api_key}'\n",
    "        RI_json= requests.get(RI_URL).json()\n",
    "        RI_Results.append(RI_json)\n",
    "    if state == 'VT':\n",
    "        VT_URL= f'https://developer.nps.gov/api/v1/parks?stateCode={state}&api_key={Api_key}'\n",
    "        VT_json= requests.get(VT_URL).json()\n",
    "        VT_Results.append(VT_json)\n",
    "    if state == 'DE':\n",
    "        DE_URL= f'https://developer.nps.gov/api/v1/parks?stateCode={state}&api_key={Api_key}'\n",
    "        DE_json= requests.get(DE_URL).json()\n",
    "        DE_Results.append(DE_json)\n",
    "    if state == 'MD':\n",
    "        MD_URL= f'https://developer.nps.gov/api/v1/parks?stateCode={state}&api_key={Api_key}'\n",
    "        MD_json= requests.get(MD_URL).json()\n",
    "        MD_Results.append(MD_json)"
   ]
  },
  {
   "cell_type": "code",
   "execution_count": null,
   "metadata": {},
   "outputs": [],
   "source": []
  },
  {
   "cell_type": "code",
   "execution_count": 29,
   "metadata": {},
   "outputs": [
    {
     "data": {
      "text/html": [
       "<div>\n",
       "<style scoped>\n",
       "    .dataframe tbody tr th:only-of-type {\n",
       "        vertical-align: middle;\n",
       "    }\n",
       "\n",
       "    .dataframe tbody tr th {\n",
       "        vertical-align: top;\n",
       "    }\n",
       "\n",
       "    .dataframe thead th {\n",
       "        text-align: right;\n",
       "    }\n",
       "</style>\n",
       "<table border=\"1\" class=\"dataframe\">\n",
       "  <thead>\n",
       "    <tr style=\"text-align: right;\">\n",
       "      <th></th>\n",
       "      <th>Full Name</th>\n",
       "      <th>ParkCode</th>\n",
       "      <th>Lat</th>\n",
       "      <th>Lon</th>\n",
       "      <th>State</th>\n",
       "    </tr>\n",
       "  </thead>\n",
       "  <tbody>\n",
       "    <tr>\n",
       "      <td>0</td>\n",
       "      <td>CT</td>\n",
       "      <td>colt</td>\n",
       "      <td>Coltsville National Historical Park</td>\n",
       "      <td>42.467751</td>\n",
       "      <td>-73.203667</td>\n",
       "    </tr>\n",
       "    <tr>\n",
       "      <td>1</td>\n",
       "      <td>CT</td>\n",
       "      <td>neen</td>\n",
       "      <td>New England National Scenic Trail</td>\n",
       "      <td>42.291582</td>\n",
       "      <td>-72.524277</td>\n",
       "    </tr>\n",
       "    <tr>\n",
       "      <td>2</td>\n",
       "      <td>CT</td>\n",
       "      <td>wefa</td>\n",
       "      <td>Weir Farm National Historic Site</td>\n",
       "      <td>41.258863</td>\n",
       "      <td>-73.454525</td>\n",
       "    </tr>\n",
       "  </tbody>\n",
       "</table>\n",
       "</div>"
      ],
      "text/plain": [
       "  Full Name ParkCode                                  Lat        Lon  \\\n",
       "0        CT     colt  Coltsville National Historical Park  42.467751   \n",
       "1        CT     neen    New England National Scenic Trail  42.291582   \n",
       "2        CT     wefa     Weir Farm National Historic Site  41.258863   \n",
       "\n",
       "       State  \n",
       "0 -73.203667  \n",
       "1 -72.524277  \n",
       "2 -73.454525  "
      ]
     },
     "execution_count": 29,
     "metadata": {},
     "output_type": "execute_result"
    }
   ],
   "source": [
    "# CT_Results\n",
    "CT_par=[]\n",
    "for i in range(len(CT_Results[0]['data'])):\n",
    "    for j in range(len(CT_Results[0]['data'][i]['addresses'])):\n",
    "        CT_par.append([CT_Results[0]['data'][i]['fullName'], CT_Results[0]['data'][i]['parkCode'],\n",
    "                        CT_Results[0]['data'][i]['addresses'][j]['stateCode']])                              \n",
    "CT_Par1= pd.DataFrame(CT_par, columns=['Full Name', 'ParkCode', 'State_code'])\n",
    "CT_Par1 = CT_Par1[CT_Par1.State_code != 'WV']\n",
    "CT_Par1 = CT_Par1[CT_Par1.State_code != 'MA']\n",
    "CT_Par1 = CT_Par1[CT_Par1.State_code != 'PA']\n",
    "CT_Par1 = CT_Par1[CT_Par1.ParkCode != 'qush'] # Dropped because it doesn't have lat/lng data.\n",
    "def convert(latlon):\n",
    "    latlon = (data[\"data\"][0][\"latLong\"])\n",
    "\n",
    "    lat,lon = latlon.split(\", \")\n",
    "\n",
    "    l, lat=lat.split(':')\n",
    "    l, lon=lon.split(':')\n",
    "\n",
    "    lat = float(lat)\n",
    "    lon = float(lon)\n",
    "    return([lat, lon])\n",
    "latlon=[]\n",
    "for park in CT_Par1['ParkCode']:\n",
    "    url = f\"https://developer.nps.gov/api/v1/parks?parkCode={park}&api_key={Api_key}\"\n",
    "    try:\n",
    "        data = requests.get(url).json()\n",
    "        l_l = convert(data[\"data\"][0][\"latLong\"])\n",
    "        state = data[\"data\"][0]['states']\n",
    "        latlon.append([state, park, data[\"data\"][0][\"fullName\"], l_l[0], l_l[1]])\n",
    "    except:\n",
    "        print(f\"Chech the cde...Skipping {park}\")\n",
    "CT_Par_latlng= pd.DataFrame(latlon, columns = ['Full Name', 'ParkCode', 'Lat', 'Lon', 'State'])\n",
    "CT_Par1.drop_duplicates(subset=None, keep='first', inplace=False)\n",
    "# CT_Parks_lat_lon = pd.DataFrame(latlon, columns = ['State','ParkCode','Park', 'Lat', 'Lon'])\n",
    "# CT_Par_latlng['Full Name']=['CT', 'CT', 'CT', 'CT']\n",
    "CT_Par_latlng= CT_Par_latlng.drop_duplicates(subset=None, keep='first', inplace=False)\n",
    "CT_Par_latlng"
   ]
  },
  {
   "cell_type": "code",
   "execution_count": 32,
   "metadata": {},
   "outputs": [
    {
     "data": {
      "text/html": [
       "<div>\n",
       "<style scoped>\n",
       "    .dataframe tbody tr th:only-of-type {\n",
       "        vertical-align: middle;\n",
       "    }\n",
       "\n",
       "    .dataframe tbody tr th {\n",
       "        vertical-align: top;\n",
       "    }\n",
       "\n",
       "    .dataframe thead th {\n",
       "        text-align: right;\n",
       "    }\n",
       "</style>\n",
       "<table border=\"1\" class=\"dataframe\">\n",
       "  <thead>\n",
       "    <tr style=\"text-align: right;\">\n",
       "      <th></th>\n",
       "      <th>Full Name</th>\n",
       "      <th>ParkCode</th>\n",
       "      <th>Lat</th>\n",
       "      <th>Lon</th>\n",
       "      <th>State</th>\n",
       "    </tr>\n",
       "  </thead>\n",
       "  <tbody>\n",
       "    <tr>\n",
       "      <td>0</td>\n",
       "      <td>ME</td>\n",
       "      <td>acad</td>\n",
       "      <td>Acadia National Park</td>\n",
       "      <td>44.307775</td>\n",
       "      <td>-68.300633</td>\n",
       "    </tr>\n",
       "    <tr>\n",
       "      <td>1</td>\n",
       "      <td>ME</td>\n",
       "      <td>kaww</td>\n",
       "      <td>Katahdin Woods and Waters National Monument</td>\n",
       "      <td>45.956757</td>\n",
       "      <td>-68.712288</td>\n",
       "    </tr>\n",
       "    <tr>\n",
       "      <td>2</td>\n",
       "      <td>ME</td>\n",
       "      <td>maac</td>\n",
       "      <td>Maine Acadian Culture</td>\n",
       "      <td>47.283112</td>\n",
       "      <td>-68.411087</td>\n",
       "    </tr>\n",
       "    <tr>\n",
       "      <td>3</td>\n",
       "      <td>ME</td>\n",
       "      <td>roca</td>\n",
       "      <td>Roosevelt Campobello International Park</td>\n",
       "      <td>44.873572</td>\n",
       "      <td>-66.962099</td>\n",
       "    </tr>\n",
       "    <tr>\n",
       "      <td>4</td>\n",
       "      <td>ME</td>\n",
       "      <td>sacr</td>\n",
       "      <td>Saint Croix Island International Historic Site</td>\n",
       "      <td>45.128588</td>\n",
       "      <td>-67.133637</td>\n",
       "    </tr>\n",
       "  </tbody>\n",
       "</table>\n",
       "</div>"
      ],
      "text/plain": [
       "  Full Name ParkCode                                             Lat  \\\n",
       "0        ME     acad                            Acadia National Park   \n",
       "1        ME     kaww     Katahdin Woods and Waters National Monument   \n",
       "2        ME     maac                           Maine Acadian Culture   \n",
       "3        ME     roca         Roosevelt Campobello International Park   \n",
       "4        ME     sacr  Saint Croix Island International Historic Site   \n",
       "\n",
       "         Lon      State  \n",
       "0  44.307775 -68.300633  \n",
       "1  45.956757 -68.712288  \n",
       "2  47.283112 -68.411087  \n",
       "3  44.873572 -66.962099  \n",
       "4  45.128588 -67.133637  "
      ]
     },
     "execution_count": 32,
     "metadata": {},
     "output_type": "execute_result"
    }
   ],
   "source": [
    "# ME_Results\n",
    "ME_par=[]\n",
    "for i in range(len(ME_Results[0]['data'])):\n",
    "    for j in range(len(ME_Results[0]['data'][i]['addresses'])):\n",
    "        LatLng= convert(ME_Results[0][\"data\"][0][\"latLong\"])\n",
    "        ME_par.append([ME_Results[0]['data'][i]['fullName'], ME_Results[0]['data'][i]['parkCode'],\n",
    "                       LatLng[0], LatLng[1], ME_Results[0]['data'][i]['addresses'][j]['stateCode']])                              \n",
    "        \n",
    "ME_Par1= pd.DataFrame(ME_par, columns=['Full Name', 'ParkCode', 'Lat', 'Lng', 'State_code'])\n",
    "ME_Par1 = ME_Par1[ME_Par1.State_code != 'WV']\n",
    "ME_Par1.drop_duplicates(subset=None, keep='first', inplace=True)\n",
    "# ME_Par1\n",
    "latlon=[]\n",
    "for park in ME_Par1['ParkCode']:\n",
    "    url = f\"https://developer.nps.gov/api/v1/parks?parkCode={park}&api_key={Api_key}\"\n",
    "    try:\n",
    "        data = requests.get(url).json()\n",
    "        l_l = convert(data[\"data\"][0][\"latLong\"])\n",
    "        state = data[\"data\"][0]['states']\n",
    "        latlon.append([state, park, data[\"data\"][0][\"fullName\"], l_l[0], l_l[1]])\n",
    "    except:\n",
    "        print(f\"Chech the cde...Skipping {park}\")\n",
    "ME_Par_latlng= pd.DataFrame(latlon, columns = ['Full Name', 'ParkCode', 'Lat', 'Lon', 'State'])\n",
    "# ME_Par1.drop_duplicates(subset=None, keep='first', inplace=True)\n",
    "# ME_Parks_lat_lon = pd.DataFrame(latlon, columns = ['State','ParkCode','Park', 'Lat', 'Lon'])\n",
    "ME_Par_latlng"
   ]
  },
  {
   "cell_type": "code",
   "execution_count": 33,
   "metadata": {
    "scrolled": true
   },
   "outputs": [
    {
     "data": {
      "text/html": [
       "<div>\n",
       "<style scoped>\n",
       "    .dataframe tbody tr th:only-of-type {\n",
       "        vertical-align: middle;\n",
       "    }\n",
       "\n",
       "    .dataframe tbody tr th {\n",
       "        vertical-align: top;\n",
       "    }\n",
       "\n",
       "    .dataframe thead th {\n",
       "        text-align: right;\n",
       "    }\n",
       "</style>\n",
       "<table border=\"1\" class=\"dataframe\">\n",
       "  <thead>\n",
       "    <tr style=\"text-align: right;\">\n",
       "      <th></th>\n",
       "      <th>Full Name</th>\n",
       "      <th>ParkCode</th>\n",
       "      <th>Lat</th>\n",
       "      <th>Lon</th>\n",
       "      <th>State</th>\n",
       "    </tr>\n",
       "  </thead>\n",
       "  <tbody>\n",
       "    <tr>\n",
       "      <td>0</td>\n",
       "      <td>MA</td>\n",
       "      <td>adam</td>\n",
       "      <td>Adams National Historical Park</td>\n",
       "      <td>42.255396</td>\n",
       "      <td>-71.011604</td>\n",
       "    </tr>\n",
       "    <tr>\n",
       "      <td>1</td>\n",
       "      <td>RI,MA</td>\n",
       "      <td>blrv</td>\n",
       "      <td>Blackstone River Valley National Historical Park</td>\n",
       "      <td>42.098543</td>\n",
       "      <td>-71.646254</td>\n",
       "    </tr>\n",
       "    <tr>\n",
       "      <td>2</td>\n",
       "      <td>MA</td>\n",
       "      <td>boaf</td>\n",
       "      <td>Boston African American National Historic Site</td>\n",
       "      <td>42.359083</td>\n",
       "      <td>-71.067642</td>\n",
       "    </tr>\n",
       "    <tr>\n",
       "      <td>3</td>\n",
       "      <td>MA</td>\n",
       "      <td>boha</td>\n",
       "      <td>Boston Harbor Islands National Recreation Area</td>\n",
       "      <td>42.309055</td>\n",
       "      <td>-70.939411</td>\n",
       "    </tr>\n",
       "    <tr>\n",
       "      <td>4</td>\n",
       "      <td>MA</td>\n",
       "      <td>bost</td>\n",
       "      <td>Boston National Historical Park</td>\n",
       "      <td>42.369574</td>\n",
       "      <td>-71.055368</td>\n",
       "    </tr>\n",
       "    <tr>\n",
       "      <td>5</td>\n",
       "      <td>MA</td>\n",
       "      <td>caco</td>\n",
       "      <td>Cape Cod National Seashore</td>\n",
       "      <td>41.923815</td>\n",
       "      <td>-70.043198</td>\n",
       "    </tr>\n",
       "    <tr>\n",
       "      <td>6</td>\n",
       "      <td>MA</td>\n",
       "      <td>esse</td>\n",
       "      <td>Essex National Heritage Area</td>\n",
       "      <td>42.667831</td>\n",
       "      <td>-70.957108</td>\n",
       "    </tr>\n",
       "    <tr>\n",
       "      <td>7</td>\n",
       "      <td>MA</td>\n",
       "      <td>frla</td>\n",
       "      <td>Frederick Law Olmsted National Historic Site</td>\n",
       "      <td>42.324243</td>\n",
       "      <td>-71.132026</td>\n",
       "    </tr>\n",
       "    <tr>\n",
       "      <td>8</td>\n",
       "      <td>MA</td>\n",
       "      <td>jofi</td>\n",
       "      <td>John Fitzgerald Kennedy National Historic Site</td>\n",
       "      <td>42.346937</td>\n",
       "      <td>-71.123238</td>\n",
       "    </tr>\n",
       "    <tr>\n",
       "      <td>9</td>\n",
       "      <td>MA,RI</td>\n",
       "      <td>blac</td>\n",
       "      <td>John H. Chafee Blackstone River Valley Nationa...</td>\n",
       "      <td>42.201158</td>\n",
       "      <td>-71.668818</td>\n",
       "    </tr>\n",
       "    <tr>\n",
       "      <td>10</td>\n",
       "      <td>MA</td>\n",
       "      <td>long</td>\n",
       "      <td>Longfellow House Washington's Headquarters Nat...</td>\n",
       "      <td>42.376989</td>\n",
       "      <td>-71.126370</td>\n",
       "    </tr>\n",
       "    <tr>\n",
       "      <td>11</td>\n",
       "      <td>MA</td>\n",
       "      <td>lowe</td>\n",
       "      <td>Lowell National Historical Park</td>\n",
       "      <td>42.645537</td>\n",
       "      <td>-71.315887</td>\n",
       "    </tr>\n",
       "    <tr>\n",
       "      <td>12</td>\n",
       "      <td>MA</td>\n",
       "      <td>mima</td>\n",
       "      <td>Minute Man National Historical Park</td>\n",
       "      <td>42.456278</td>\n",
       "      <td>-71.307389</td>\n",
       "    </tr>\n",
       "    <tr>\n",
       "      <td>13</td>\n",
       "      <td>MA</td>\n",
       "      <td>nebe</td>\n",
       "      <td>New Bedford Whaling National Historical Park</td>\n",
       "      <td>41.635406</td>\n",
       "      <td>-70.923223</td>\n",
       "    </tr>\n",
       "    <tr>\n",
       "      <td>14</td>\n",
       "      <td>MA,CT</td>\n",
       "      <td>neen</td>\n",
       "      <td>New England National Scenic Trail</td>\n",
       "      <td>42.291582</td>\n",
       "      <td>-72.524277</td>\n",
       "    </tr>\n",
       "    <tr>\n",
       "      <td>15</td>\n",
       "      <td>MA</td>\n",
       "      <td>sama</td>\n",
       "      <td>Salem Maritime National Historic Site</td>\n",
       "      <td>42.520245</td>\n",
       "      <td>-70.886409</td>\n",
       "    </tr>\n",
       "    <tr>\n",
       "      <td>16</td>\n",
       "      <td>MA</td>\n",
       "      <td>sair</td>\n",
       "      <td>Saugus Iron Works National Historic Site</td>\n",
       "      <td>42.468307</td>\n",
       "      <td>-71.007695</td>\n",
       "    </tr>\n",
       "    <tr>\n",
       "      <td>17</td>\n",
       "      <td>MA</td>\n",
       "      <td>spar</td>\n",
       "      <td>Springfield Armory National Historic Site</td>\n",
       "      <td>42.108637</td>\n",
       "      <td>-72.579674</td>\n",
       "    </tr>\n",
       "  </tbody>\n",
       "</table>\n",
       "</div>"
      ],
      "text/plain": [
       "   Full Name ParkCode                                                Lat  \\\n",
       "0         MA     adam                     Adams National Historical Park   \n",
       "1      RI,MA     blrv   Blackstone River Valley National Historical Park   \n",
       "2         MA     boaf     Boston African American National Historic Site   \n",
       "3         MA     boha     Boston Harbor Islands National Recreation Area   \n",
       "4         MA     bost                    Boston National Historical Park   \n",
       "5         MA     caco                         Cape Cod National Seashore   \n",
       "6         MA     esse                       Essex National Heritage Area   \n",
       "7         MA     frla       Frederick Law Olmsted National Historic Site   \n",
       "8         MA     jofi     John Fitzgerald Kennedy National Historic Site   \n",
       "9      MA,RI     blac  John H. Chafee Blackstone River Valley Nationa...   \n",
       "10        MA     long  Longfellow House Washington's Headquarters Nat...   \n",
       "11        MA     lowe                    Lowell National Historical Park   \n",
       "12        MA     mima                Minute Man National Historical Park   \n",
       "13        MA     nebe       New Bedford Whaling National Historical Park   \n",
       "14     MA,CT     neen                  New England National Scenic Trail   \n",
       "15        MA     sama              Salem Maritime National Historic Site   \n",
       "16        MA     sair           Saugus Iron Works National Historic Site   \n",
       "17        MA     spar          Springfield Armory National Historic Site   \n",
       "\n",
       "          Lon      State  \n",
       "0   42.255396 -71.011604  \n",
       "1   42.098543 -71.646254  \n",
       "2   42.359083 -71.067642  \n",
       "3   42.309055 -70.939411  \n",
       "4   42.369574 -71.055368  \n",
       "5   41.923815 -70.043198  \n",
       "6   42.667831 -70.957108  \n",
       "7   42.324243 -71.132026  \n",
       "8   42.346937 -71.123238  \n",
       "9   42.201158 -71.668818  \n",
       "10  42.376989 -71.126370  \n",
       "11  42.645537 -71.315887  \n",
       "12  42.456278 -71.307389  \n",
       "13  41.635406 -70.923223  \n",
       "14  42.291582 -72.524277  \n",
       "15  42.520245 -70.886409  \n",
       "16  42.468307 -71.007695  \n",
       "17  42.108637 -72.579674  "
      ]
     },
     "execution_count": 33,
     "metadata": {},
     "output_type": "execute_result"
    }
   ],
   "source": [
    "# MA_Results\n",
    "MA_par=[]\n",
    "for i in range(len(MA_Results[0]['data'])):\n",
    "    for j in range(len(MA_Results[0]['data'][i]['addresses'])):\n",
    "        MA_par.append([MA_Results[0]['data'][i]['fullName'], MA_Results[0]['data'][i]['parkCode'],\n",
    "                       MA_Results[0]['data'][i]['addresses'][j]['stateCode']])                              \n",
    "        \n",
    "MA_Par1= pd.DataFrame(MA_par, columns=['Full Name', 'ParkCode', 'State_code'])\n",
    "MA_Par1 = MA_Par1[MA_Par1.State_code != 'WV']\n",
    "MA_Par1 = MA_Par1[MA_Par1.State_code != 'CT']\n",
    "MA_Par1 = MA_Par1[MA_Par1.State_code != 'PA']\n",
    "MA_Par1.drop_duplicates(subset=None, keep='first', inplace=True)\n",
    "# MA_Par1\n",
    "\n",
    "latlon=[]\n",
    "for park in MA_Par1['ParkCode']:\n",
    "    url = f\"https://developer.nps.gov/api/v1/parks?parkCode={park}&api_key={Api_key}\"\n",
    "    try:\n",
    "        data = requests.get(url).json()\n",
    "        l_l = convert(data[\"data\"][0][\"latLong\"])\n",
    "        state = data[\"data\"][0]['states']\n",
    "        latlon.append([state, park, data[\"data\"][0][\"fullName\"], l_l[0], l_l[1]])\n",
    "    except:\n",
    "        print(f\"Chech the cde...Skipping {park}\")\n",
    "MA_Par_latlng= pd.DataFrame(latlon, columns = ['Full Name', 'ParkCode', 'Lat', 'Lon', 'State'])\n",
    "# MA_Par1.drop_duplicates(subset=None, keep='first', inplace=True)\n",
    "MA_Par_latlng"
   ]
  },
  {
   "cell_type": "code",
   "execution_count": 34,
   "metadata": {},
   "outputs": [
    {
     "data": {
      "text/html": [
       "<div>\n",
       "<style scoped>\n",
       "    .dataframe tbody tr th:only-of-type {\n",
       "        vertical-align: middle;\n",
       "    }\n",
       "\n",
       "    .dataframe tbody tr th {\n",
       "        vertical-align: top;\n",
       "    }\n",
       "\n",
       "    .dataframe thead th {\n",
       "        text-align: right;\n",
       "    }\n",
       "</style>\n",
       "<table border=\"1\" class=\"dataframe\">\n",
       "  <thead>\n",
       "    <tr style=\"text-align: right;\">\n",
       "      <th></th>\n",
       "      <th>Full Name</th>\n",
       "      <th>ParkCode</th>\n",
       "      <th>Lat</th>\n",
       "      <th>Lon</th>\n",
       "      <th>State</th>\n",
       "    </tr>\n",
       "  </thead>\n",
       "  <tbody>\n",
       "    <tr>\n",
       "      <td>0</td>\n",
       "      <td>MA</td>\n",
       "      <td>adam</td>\n",
       "      <td>Adams National Historical Park</td>\n",
       "      <td>42.255396</td>\n",
       "      <td>-71.011604</td>\n",
       "    </tr>\n",
       "    <tr>\n",
       "      <td>1</td>\n",
       "      <td>MA</td>\n",
       "      <td>blrv</td>\n",
       "      <td>Blackstone River Valley National Historical Park</td>\n",
       "      <td>42.098543</td>\n",
       "      <td>-71.646254</td>\n",
       "    </tr>\n",
       "    <tr>\n",
       "      <td>2</td>\n",
       "      <td>MA</td>\n",
       "      <td>boaf</td>\n",
       "      <td>Boston African American National Historic Site</td>\n",
       "      <td>42.359083</td>\n",
       "      <td>-71.067642</td>\n",
       "    </tr>\n",
       "    <tr>\n",
       "      <td>3</td>\n",
       "      <td>MA</td>\n",
       "      <td>boha</td>\n",
       "      <td>Boston Harbor Islands National Recreation Area</td>\n",
       "      <td>42.309055</td>\n",
       "      <td>-70.939411</td>\n",
       "    </tr>\n",
       "    <tr>\n",
       "      <td>4</td>\n",
       "      <td>MA</td>\n",
       "      <td>bost</td>\n",
       "      <td>Boston National Historical Park</td>\n",
       "      <td>42.369574</td>\n",
       "      <td>-71.055368</td>\n",
       "    </tr>\n",
       "    <tr>\n",
       "      <td>5</td>\n",
       "      <td>MA</td>\n",
       "      <td>caco</td>\n",
       "      <td>Cape Cod National Seashore</td>\n",
       "      <td>41.923815</td>\n",
       "      <td>-70.043198</td>\n",
       "    </tr>\n",
       "    <tr>\n",
       "      <td>6</td>\n",
       "      <td>MA</td>\n",
       "      <td>esse</td>\n",
       "      <td>Essex National Heritage Area</td>\n",
       "      <td>42.667831</td>\n",
       "      <td>-70.957108</td>\n",
       "    </tr>\n",
       "    <tr>\n",
       "      <td>7</td>\n",
       "      <td>MA</td>\n",
       "      <td>frla</td>\n",
       "      <td>Frederick Law Olmsted National Historic Site</td>\n",
       "      <td>42.324243</td>\n",
       "      <td>-71.132026</td>\n",
       "    </tr>\n",
       "    <tr>\n",
       "      <td>8</td>\n",
       "      <td>MA</td>\n",
       "      <td>jofi</td>\n",
       "      <td>John Fitzgerald Kennedy National Historic Site</td>\n",
       "      <td>42.346937</td>\n",
       "      <td>-71.123238</td>\n",
       "    </tr>\n",
       "    <tr>\n",
       "      <td>9</td>\n",
       "      <td>MA</td>\n",
       "      <td>blac</td>\n",
       "      <td>John H. Chafee Blackstone River Valley Nationa...</td>\n",
       "      <td>42.201158</td>\n",
       "      <td>-71.668818</td>\n",
       "    </tr>\n",
       "    <tr>\n",
       "      <td>10</td>\n",
       "      <td>MA</td>\n",
       "      <td>long</td>\n",
       "      <td>Longfellow House Washington's Headquarters Nat...</td>\n",
       "      <td>42.376989</td>\n",
       "      <td>-71.126370</td>\n",
       "    </tr>\n",
       "    <tr>\n",
       "      <td>11</td>\n",
       "      <td>MA</td>\n",
       "      <td>lowe</td>\n",
       "      <td>Lowell National Historical Park</td>\n",
       "      <td>42.645537</td>\n",
       "      <td>-71.315887</td>\n",
       "    </tr>\n",
       "    <tr>\n",
       "      <td>12</td>\n",
       "      <td>MA</td>\n",
       "      <td>mima</td>\n",
       "      <td>Minute Man National Historical Park</td>\n",
       "      <td>42.456278</td>\n",
       "      <td>-71.307389</td>\n",
       "    </tr>\n",
       "    <tr>\n",
       "      <td>13</td>\n",
       "      <td>MA</td>\n",
       "      <td>nebe</td>\n",
       "      <td>New Bedford Whaling National Historical Park</td>\n",
       "      <td>41.635406</td>\n",
       "      <td>-70.923223</td>\n",
       "    </tr>\n",
       "    <tr>\n",
       "      <td>14</td>\n",
       "      <td>MA</td>\n",
       "      <td>neen</td>\n",
       "      <td>New England National Scenic Trail</td>\n",
       "      <td>42.291582</td>\n",
       "      <td>-72.524277</td>\n",
       "    </tr>\n",
       "    <tr>\n",
       "      <td>15</td>\n",
       "      <td>MA</td>\n",
       "      <td>sama</td>\n",
       "      <td>Salem Maritime National Historic Site</td>\n",
       "      <td>42.520245</td>\n",
       "      <td>-70.886409</td>\n",
       "    </tr>\n",
       "    <tr>\n",
       "      <td>16</td>\n",
       "      <td>MA</td>\n",
       "      <td>sair</td>\n",
       "      <td>Saugus Iron Works National Historic Site</td>\n",
       "      <td>42.468307</td>\n",
       "      <td>-71.007695</td>\n",
       "    </tr>\n",
       "    <tr>\n",
       "      <td>17</td>\n",
       "      <td>MA</td>\n",
       "      <td>spar</td>\n",
       "      <td>Springfield Armory National Historic Site</td>\n",
       "      <td>42.108637</td>\n",
       "      <td>-72.579674</td>\n",
       "    </tr>\n",
       "  </tbody>\n",
       "</table>\n",
       "</div>"
      ],
      "text/plain": [
       "   Full Name ParkCode                                                Lat  \\\n",
       "0         MA     adam                     Adams National Historical Park   \n",
       "1         MA     blrv   Blackstone River Valley National Historical Park   \n",
       "2         MA     boaf     Boston African American National Historic Site   \n",
       "3         MA     boha     Boston Harbor Islands National Recreation Area   \n",
       "4         MA     bost                    Boston National Historical Park   \n",
       "5         MA     caco                         Cape Cod National Seashore   \n",
       "6         MA     esse                       Essex National Heritage Area   \n",
       "7         MA     frla       Frederick Law Olmsted National Historic Site   \n",
       "8         MA     jofi     John Fitzgerald Kennedy National Historic Site   \n",
       "9         MA     blac  John H. Chafee Blackstone River Valley Nationa...   \n",
       "10        MA     long  Longfellow House Washington's Headquarters Nat...   \n",
       "11        MA     lowe                    Lowell National Historical Park   \n",
       "12        MA     mima                Minute Man National Historical Park   \n",
       "13        MA     nebe       New Bedford Whaling National Historical Park   \n",
       "14        MA     neen                  New England National Scenic Trail   \n",
       "15        MA     sama              Salem Maritime National Historic Site   \n",
       "16        MA     sair           Saugus Iron Works National Historic Site   \n",
       "17        MA     spar          Springfield Armory National Historic Site   \n",
       "\n",
       "          Lon      State  \n",
       "0   42.255396 -71.011604  \n",
       "1   42.098543 -71.646254  \n",
       "2   42.359083 -71.067642  \n",
       "3   42.309055 -70.939411  \n",
       "4   42.369574 -71.055368  \n",
       "5   41.923815 -70.043198  \n",
       "6   42.667831 -70.957108  \n",
       "7   42.324243 -71.132026  \n",
       "8   42.346937 -71.123238  \n",
       "9   42.201158 -71.668818  \n",
       "10  42.376989 -71.126370  \n",
       "11  42.645537 -71.315887  \n",
       "12  42.456278 -71.307389  \n",
       "13  41.635406 -70.923223  \n",
       "14  42.291582 -72.524277  \n",
       "15  42.520245 -70.886409  \n",
       "16  42.468307 -71.007695  \n",
       "17  42.108637 -72.579674  "
      ]
     },
     "execution_count": 34,
     "metadata": {},
     "output_type": "execute_result"
    }
   ],
   "source": [
    "MA_Par_latlng['Full Name'].replace({'RI,MA': \"MA\"}, inplace=True)\n",
    "# MA_Par_latlng['Full Name'] = MA_Par_latlng['Full Name'].map({'MA':'MA'})\n",
    "MA_Par_latlng['Full Name'] = 'MA'\n",
    "MA_Par_latlng"
   ]
  },
  {
   "cell_type": "code",
   "execution_count": 35,
   "metadata": {},
   "outputs": [
    {
     "data": {
      "text/html": [
       "<div>\n",
       "<style scoped>\n",
       "    .dataframe tbody tr th:only-of-type {\n",
       "        vertical-align: middle;\n",
       "    }\n",
       "\n",
       "    .dataframe tbody tr th {\n",
       "        vertical-align: top;\n",
       "    }\n",
       "\n",
       "    .dataframe thead th {\n",
       "        text-align: right;\n",
       "    }\n",
       "</style>\n",
       "<table border=\"1\" class=\"dataframe\">\n",
       "  <thead>\n",
       "    <tr style=\"text-align: right;\">\n",
       "      <th></th>\n",
       "      <th>Full Name</th>\n",
       "      <th>ParkCode</th>\n",
       "      <th>Lat</th>\n",
       "      <th>Lon</th>\n",
       "      <th>State</th>\n",
       "    </tr>\n",
       "  </thead>\n",
       "  <tbody>\n",
       "    <tr>\n",
       "      <td>0</td>\n",
       "      <td>Saint-Gaudens National Historical Park</td>\n",
       "      <td>saga</td>\n",
       "      <td>NH</td>\n",
       "      <td>43.499724</td>\n",
       "      <td>-72.37334</td>\n",
       "    </tr>\n",
       "  </tbody>\n",
       "</table>\n",
       "</div>"
      ],
      "text/plain": [
       "                                Full Name ParkCode Lat        Lon     State\n",
       "0  Saint-Gaudens National Historical Park     saga  NH  43.499724 -72.37334"
      ]
     },
     "execution_count": 35,
     "metadata": {},
     "output_type": "execute_result"
    }
   ],
   "source": [
    "# NH_Results\n",
    "NH_par=[]\n",
    "for i in range(len(NH_Results[0]['data'])):\n",
    "    for j in range(len(NH_Results[0]['data'][i]['addresses'])):\n",
    "        NH_par.append([NH_Results[0]['data'][i]['fullName'], NH_Results[0]['data'][i]['parkCode'],\n",
    "                       NH_Results[0]['data'][i]['addresses'][j]['stateCode']])                              \n",
    "        \n",
    "NH_Par1= pd.DataFrame(NH_par, columns=['Full Name', 'ParkCode', 'State_code'])\n",
    "NH_Par1 = NH_Par1[NH_Par1.State_code != 'WV']\n",
    "NH_Par1.drop_duplicates(subset=None, keep='first', inplace=True)\n",
    "# NH_Par1\n",
    "\n",
    "latlon=[]\n",
    "for park in NH_Par1['ParkCode']:\n",
    "    url = f\"https://developer.nps.gov/api/v1/parks?parkCode={park}&api_key={Api_key}\"\n",
    "    try:\n",
    "        data = requests.get(url).json()\n",
    "        l_l = convert(data[\"data\"][0][\"latLong\"])\n",
    "        state = data[\"data\"][0]['states']\n",
    "        latlon.append([data[\"data\"][0][\"fullName\"], park, state, l_l[0], l_l[1]])\n",
    "    except:\n",
    "        print(f\"Chech the code...Skipping {park}\")\n",
    "NH_Par_latlng= pd.DataFrame(latlon, columns = ['Full Name', 'ParkCode', 'Lat', 'Lon', 'State'])\n",
    "# NH_Par1.drop_duplicates(subset=None, keep='first', inplace=True)\n",
    "NH_Par_latlng"
   ]
  },
  {
   "cell_type": "code",
   "execution_count": 36,
   "metadata": {},
   "outputs": [
    {
     "data": {
      "text/html": [
       "<div>\n",
       "<style scoped>\n",
       "    .dataframe tbody tr th:only-of-type {\n",
       "        vertical-align: middle;\n",
       "    }\n",
       "\n",
       "    .dataframe tbody tr th {\n",
       "        vertical-align: top;\n",
       "    }\n",
       "\n",
       "    .dataframe thead th {\n",
       "        text-align: right;\n",
       "    }\n",
       "</style>\n",
       "<table border=\"1\" class=\"dataframe\">\n",
       "  <thead>\n",
       "    <tr style=\"text-align: right;\">\n",
       "      <th></th>\n",
       "      <th>Full Name</th>\n",
       "      <th>ParkCode</th>\n",
       "      <th>Lat</th>\n",
       "      <th>Lon</th>\n",
       "      <th>State</th>\n",
       "    </tr>\n",
       "  </thead>\n",
       "  <tbody>\n",
       "    <tr>\n",
       "      <td>0</td>\n",
       "      <td>NJ</td>\n",
       "      <td>elis</td>\n",
       "      <td>Ellis Island Part of Statue of Liberty Nationa...</td>\n",
       "      <td>40.699460</td>\n",
       "      <td>-74.040100</td>\n",
       "    </tr>\n",
       "    <tr>\n",
       "      <td>1</td>\n",
       "      <td>NJ</td>\n",
       "      <td>greg</td>\n",
       "      <td>Great Egg Harbor River</td>\n",
       "      <td>39.304215</td>\n",
       "      <td>-74.649695</td>\n",
       "    </tr>\n",
       "    <tr>\n",
       "      <td>2</td>\n",
       "      <td>NJ</td>\n",
       "      <td>morr</td>\n",
       "      <td>Morristown National Historical Park</td>\n",
       "      <td>40.765076</td>\n",
       "      <td>-74.534551</td>\n",
       "    </tr>\n",
       "    <tr>\n",
       "      <td>3</td>\n",
       "      <td>NJ</td>\n",
       "      <td>pine</td>\n",
       "      <td>New Jersey Pinelands National Reserve</td>\n",
       "      <td>39.938353</td>\n",
       "      <td>-74.624999</td>\n",
       "    </tr>\n",
       "    <tr>\n",
       "      <td>4</td>\n",
       "      <td>NJ</td>\n",
       "      <td>pagr</td>\n",
       "      <td>Paterson Great Falls National Historical Park</td>\n",
       "      <td>40.915846</td>\n",
       "      <td>-74.180215</td>\n",
       "    </tr>\n",
       "    <tr>\n",
       "      <td>5</td>\n",
       "      <td>NJ</td>\n",
       "      <td>edis</td>\n",
       "      <td>Thomas Edison National Historical Park</td>\n",
       "      <td>40.785499</td>\n",
       "      <td>-74.238211</td>\n",
       "    </tr>\n",
       "  </tbody>\n",
       "</table>\n",
       "</div>"
      ],
      "text/plain": [
       "  Full Name ParkCode                                                Lat  \\\n",
       "0        NJ     elis  Ellis Island Part of Statue of Liberty Nationa...   \n",
       "1        NJ     greg                             Great Egg Harbor River   \n",
       "2        NJ     morr                Morristown National Historical Park   \n",
       "3        NJ     pine              New Jersey Pinelands National Reserve   \n",
       "4        NJ     pagr      Paterson Great Falls National Historical Park   \n",
       "5        NJ     edis             Thomas Edison National Historical Park   \n",
       "\n",
       "         Lon      State  \n",
       "0  40.699460 -74.040100  \n",
       "1  39.304215 -74.649695  \n",
       "2  40.765076 -74.534551  \n",
       "3  39.938353 -74.624999  \n",
       "4  40.915846 -74.180215  \n",
       "5  40.785499 -74.238211  "
      ]
     },
     "execution_count": 36,
     "metadata": {},
     "output_type": "execute_result"
    }
   ],
   "source": [
    "# NJ_Results\n",
    "NJ_par=[]\n",
    "for i in range(len(NJ_Results[0]['data'])):\n",
    "    for j in range(len(NJ_Results[0]['data'][i]['addresses'])):\n",
    "        NJ_par.append([NJ_Results[0]['data'][i]['fullName'], NJ_Results[0]['data'][i]['parkCode'],\n",
    "                       NJ_Results[0]['data'][i]['addresses'][j]['stateCode']])                              \n",
    "        \n",
    "NJ_Par1= pd.DataFrame(NJ_par, columns=['Full Name', 'ParkCode', 'State_code'])\n",
    "NJ_Par1 = NJ_Par1[NJ_Par1.State_code != 'WV']\n",
    "NJ_Par1 = NJ_Par1[NJ_Par1.State_code != 'PA']\n",
    "NJ_Par1 = NJ_Par1[NJ_Par1.State_code != 'NY']\n",
    "NJ_Par1 = NJ_Par1[NJ_Par1.State_code != 'WV']\n",
    "NJ_Par1.drop_duplicates(subset=None, keep='first', inplace=True)\n",
    "# NJ_Par1\n",
    "\n",
    "latlon=[]\n",
    "for park in NJ_Par1['ParkCode']:\n",
    "    url = f\"https://developer.nps.gov/api/v1/parks?parkCode={park}&api_key={Api_key}\"\n",
    "    try:\n",
    "        data = requests.get(url).json()\n",
    "        l_l = convert(data[\"data\"][0][\"latLong\"])\n",
    "        state = data[\"data\"][0]['states']\n",
    "        latlon.append([state, park, data[\"data\"][0][\"fullName\"], l_l[0], l_l[1]])\n",
    "    except:\n",
    "        print(f\"Chech the code...Skipping {park}\")\n",
    "# NJ_Par1.drop_duplicates(subset=None, keep='first', inplace=True)\n",
    "NJ_Parks_lat_lon = pd.DataFrame(latlon, columns = ['Full Name', 'ParkCode', 'Lat', 'Lon', 'State'])\n",
    "NJ_Parks_lat_lon['Full Name'] = 'NJ'\n",
    "NJ_Parks_lat_lon"
   ]
  },
  {
   "cell_type": "code",
   "execution_count": 37,
   "metadata": {},
   "outputs": [
    {
     "data": {
      "text/html": [
       "<div>\n",
       "<style scoped>\n",
       "    .dataframe tbody tr th:only-of-type {\n",
       "        vertical-align: middle;\n",
       "    }\n",
       "\n",
       "    .dataframe tbody tr th {\n",
       "        vertical-align: top;\n",
       "    }\n",
       "\n",
       "    .dataframe thead th {\n",
       "        text-align: right;\n",
       "    }\n",
       "</style>\n",
       "<table border=\"1\" class=\"dataframe\">\n",
       "  <thead>\n",
       "    <tr style=\"text-align: right;\">\n",
       "      <th></th>\n",
       "      <th>Full Name</th>\n",
       "      <th>ParkCode</th>\n",
       "      <th>Lat</th>\n",
       "      <th>Lon</th>\n",
       "      <th>State</th>\n",
       "    </tr>\n",
       "  </thead>\n",
       "  <tbody>\n",
       "    <tr>\n",
       "      <td>0</td>\n",
       "      <td>NY</td>\n",
       "      <td>afbg</td>\n",
       "      <td>African Burial Ground National Monument</td>\n",
       "      <td>40.714527</td>\n",
       "      <td>-74.004474</td>\n",
       "    </tr>\n",
       "    <tr>\n",
       "      <td>1</td>\n",
       "      <td>NY</td>\n",
       "      <td>cacl</td>\n",
       "      <td>Castle Clinton National Monument</td>\n",
       "      <td>40.703478</td>\n",
       "      <td>-74.016806</td>\n",
       "    </tr>\n",
       "    <tr>\n",
       "      <td>2</td>\n",
       "      <td>NY</td>\n",
       "      <td>elro</td>\n",
       "      <td>Eleanor Roosevelt National Historic Site</td>\n",
       "      <td>41.762085</td>\n",
       "      <td>-73.898940</td>\n",
       "    </tr>\n",
       "    <tr>\n",
       "      <td>3</td>\n",
       "      <td>NY</td>\n",
       "      <td>elis</td>\n",
       "      <td>Ellis Island Part of Statue of Liberty Nationa...</td>\n",
       "      <td>40.699460</td>\n",
       "      <td>-74.040100</td>\n",
       "    </tr>\n",
       "    <tr>\n",
       "      <td>4</td>\n",
       "      <td>NY</td>\n",
       "      <td>erie</td>\n",
       "      <td>Erie Canalway National Heritage Corridor</td>\n",
       "      <td>43.017944</td>\n",
       "      <td>-75.996078</td>\n",
       "    </tr>\n",
       "    <tr>\n",
       "      <td>5</td>\n",
       "      <td>NY</td>\n",
       "      <td>feha</td>\n",
       "      <td>Federal Hall National Memorial</td>\n",
       "      <td>40.707312</td>\n",
       "      <td>-74.010256</td>\n",
       "    </tr>\n",
       "    <tr>\n",
       "      <td>6</td>\n",
       "      <td>NY</td>\n",
       "      <td>fiis</td>\n",
       "      <td>Fire Island National Seashore</td>\n",
       "      <td>40.696686</td>\n",
       "      <td>-73.000135</td>\n",
       "    </tr>\n",
       "    <tr>\n",
       "      <td>7</td>\n",
       "      <td>NY</td>\n",
       "      <td>fost</td>\n",
       "      <td>Fort Stanwix National Monument</td>\n",
       "      <td>43.210534</td>\n",
       "      <td>-75.455576</td>\n",
       "    </tr>\n",
       "    <tr>\n",
       "      <td>8</td>\n",
       "      <td>NY</td>\n",
       "      <td>gate</td>\n",
       "      <td>Gateway National Recreation Area</td>\n",
       "      <td>40.565362</td>\n",
       "      <td>-73.917109</td>\n",
       "    </tr>\n",
       "    <tr>\n",
       "      <td>9</td>\n",
       "      <td>NY</td>\n",
       "      <td>gegr</td>\n",
       "      <td>General Grant National Memorial</td>\n",
       "      <td>40.813328</td>\n",
       "      <td>-73.963315</td>\n",
       "    </tr>\n",
       "    <tr>\n",
       "      <td>10</td>\n",
       "      <td>NY</td>\n",
       "      <td>gois</td>\n",
       "      <td>Governors Island National Monument</td>\n",
       "      <td>40.691642</td>\n",
       "      <td>-74.016708</td>\n",
       "    </tr>\n",
       "    <tr>\n",
       "      <td>11</td>\n",
       "      <td>NY</td>\n",
       "      <td>hagr</td>\n",
       "      <td>Hamilton Grange National Memorial</td>\n",
       "      <td>40.818716</td>\n",
       "      <td>-73.948785</td>\n",
       "    </tr>\n",
       "    <tr>\n",
       "      <td>12</td>\n",
       "      <td>NY</td>\n",
       "      <td>hart</td>\n",
       "      <td>Harriet Tubman National Historical Park</td>\n",
       "      <td>42.912892</td>\n",
       "      <td>-76.564672</td>\n",
       "    </tr>\n",
       "    <tr>\n",
       "      <td>13</td>\n",
       "      <td>NY</td>\n",
       "      <td>hofr</td>\n",
       "      <td>Home Of Franklin D Roosevelt National Historic...</td>\n",
       "      <td>41.766398</td>\n",
       "      <td>-73.925169</td>\n",
       "    </tr>\n",
       "    <tr>\n",
       "      <td>14</td>\n",
       "      <td>NY</td>\n",
       "      <td>hurv</td>\n",
       "      <td>Hudson River Valley National Heritage Area</td>\n",
       "      <td>42.039730</td>\n",
       "      <td>-73.958038</td>\n",
       "    </tr>\n",
       "    <tr>\n",
       "      <td>15</td>\n",
       "      <td>NY</td>\n",
       "      <td>loea</td>\n",
       "      <td>Lower East Side Tenement Museum National Histo...</td>\n",
       "      <td>40.718611</td>\n",
       "      <td>-73.990018</td>\n",
       "    </tr>\n",
       "    <tr>\n",
       "      <td>16</td>\n",
       "      <td>NY</td>\n",
       "      <td>mava</td>\n",
       "      <td>Martin Van Buren National Historic Site</td>\n",
       "      <td>42.368196</td>\n",
       "      <td>-73.708343</td>\n",
       "    </tr>\n",
       "    <tr>\n",
       "      <td>17</td>\n",
       "      <td>NY</td>\n",
       "      <td>npnh</td>\n",
       "      <td>National Parks of New York Harbor</td>\n",
       "      <td>40.663192</td>\n",
       "      <td>-74.045105</td>\n",
       "    </tr>\n",
       "    <tr>\n",
       "      <td>18</td>\n",
       "      <td>NY</td>\n",
       "      <td>nifa</td>\n",
       "      <td>Niagara Falls National Heritage Area</td>\n",
       "      <td>43.084789</td>\n",
       "      <td>-79.070328</td>\n",
       "    </tr>\n",
       "    <tr>\n",
       "      <td>19</td>\n",
       "      <td>NY</td>\n",
       "      <td>sahi</td>\n",
       "      <td>Sagamore Hill National Historic Site</td>\n",
       "      <td>40.885791</td>\n",
       "      <td>-73.496864</td>\n",
       "    </tr>\n",
       "    <tr>\n",
       "      <td>20</td>\n",
       "      <td>NY</td>\n",
       "      <td>sapa</td>\n",
       "      <td>Saint Paul's Church National Historic Site</td>\n",
       "      <td>40.892835</td>\n",
       "      <td>-73.825773</td>\n",
       "    </tr>\n",
       "    <tr>\n",
       "      <td>21</td>\n",
       "      <td>NY</td>\n",
       "      <td>sara</td>\n",
       "      <td>Saratoga National Historical Park</td>\n",
       "      <td>42.995226</td>\n",
       "      <td>-73.633861</td>\n",
       "    </tr>\n",
       "    <tr>\n",
       "      <td>22</td>\n",
       "      <td>NY</td>\n",
       "      <td>stli</td>\n",
       "      <td>Statue Of Liberty National Monument</td>\n",
       "      <td>40.695721</td>\n",
       "      <td>-74.042324</td>\n",
       "    </tr>\n",
       "    <tr>\n",
       "      <td>23</td>\n",
       "      <td>NY</td>\n",
       "      <td>ston</td>\n",
       "      <td>Stonewall National Monument</td>\n",
       "      <td>40.733780</td>\n",
       "      <td>-74.000687</td>\n",
       "    </tr>\n",
       "    <tr>\n",
       "      <td>24</td>\n",
       "      <td>NY</td>\n",
       "      <td>thrb</td>\n",
       "      <td>Theodore Roosevelt Birthplace National Histori...</td>\n",
       "      <td>40.738647</td>\n",
       "      <td>-73.989037</td>\n",
       "    </tr>\n",
       "    <tr>\n",
       "      <td>25</td>\n",
       "      <td>NY</td>\n",
       "      <td>thri</td>\n",
       "      <td>Theodore Roosevelt Inaugural National Historic...</td>\n",
       "      <td>42.901468</td>\n",
       "      <td>-78.872484</td>\n",
       "    </tr>\n",
       "    <tr>\n",
       "      <td>26</td>\n",
       "      <td>NY</td>\n",
       "      <td>thco</td>\n",
       "      <td>Thomas Cole National Historic Site</td>\n",
       "      <td>42.225706</td>\n",
       "      <td>-73.861549</td>\n",
       "    </tr>\n",
       "    <tr>\n",
       "      <td>27</td>\n",
       "      <td>NY</td>\n",
       "      <td>vama</td>\n",
       "      <td>Vanderbilt Mansion National Historic Site</td>\n",
       "      <td>41.796979</td>\n",
       "      <td>-73.942056</td>\n",
       "    </tr>\n",
       "    <tr>\n",
       "      <td>28</td>\n",
       "      <td>NY</td>\n",
       "      <td>wori</td>\n",
       "      <td>Women's Rights National Historical Park</td>\n",
       "      <td>42.908171</td>\n",
       "      <td>-76.816556</td>\n",
       "    </tr>\n",
       "  </tbody>\n",
       "</table>\n",
       "</div>"
      ],
      "text/plain": [
       "   Full Name ParkCode                                                Lat  \\\n",
       "0         NY     afbg            African Burial Ground National Monument   \n",
       "1         NY     cacl                   Castle Clinton National Monument   \n",
       "2         NY     elro           Eleanor Roosevelt National Historic Site   \n",
       "3         NY     elis  Ellis Island Part of Statue of Liberty Nationa...   \n",
       "4         NY     erie           Erie Canalway National Heritage Corridor   \n",
       "5         NY     feha                     Federal Hall National Memorial   \n",
       "6         NY     fiis                      Fire Island National Seashore   \n",
       "7         NY     fost                     Fort Stanwix National Monument   \n",
       "8         NY     gate                   Gateway National Recreation Area   \n",
       "9         NY     gegr                    General Grant National Memorial   \n",
       "10        NY     gois                 Governors Island National Monument   \n",
       "11        NY     hagr                  Hamilton Grange National Memorial   \n",
       "12        NY     hart            Harriet Tubman National Historical Park   \n",
       "13        NY     hofr  Home Of Franklin D Roosevelt National Historic...   \n",
       "14        NY     hurv         Hudson River Valley National Heritage Area   \n",
       "15        NY     loea  Lower East Side Tenement Museum National Histo...   \n",
       "16        NY     mava            Martin Van Buren National Historic Site   \n",
       "17        NY     npnh                  National Parks of New York Harbor   \n",
       "18        NY     nifa               Niagara Falls National Heritage Area   \n",
       "19        NY     sahi               Sagamore Hill National Historic Site   \n",
       "20        NY     sapa         Saint Paul's Church National Historic Site   \n",
       "21        NY     sara                  Saratoga National Historical Park   \n",
       "22        NY     stli                Statue Of Liberty National Monument   \n",
       "23        NY     ston                        Stonewall National Monument   \n",
       "24        NY     thrb  Theodore Roosevelt Birthplace National Histori...   \n",
       "25        NY     thri  Theodore Roosevelt Inaugural National Historic...   \n",
       "26        NY     thco                 Thomas Cole National Historic Site   \n",
       "27        NY     vama          Vanderbilt Mansion National Historic Site   \n",
       "28        NY     wori            Women's Rights National Historical Park   \n",
       "\n",
       "          Lon      State  \n",
       "0   40.714527 -74.004474  \n",
       "1   40.703478 -74.016806  \n",
       "2   41.762085 -73.898940  \n",
       "3   40.699460 -74.040100  \n",
       "4   43.017944 -75.996078  \n",
       "5   40.707312 -74.010256  \n",
       "6   40.696686 -73.000135  \n",
       "7   43.210534 -75.455576  \n",
       "8   40.565362 -73.917109  \n",
       "9   40.813328 -73.963315  \n",
       "10  40.691642 -74.016708  \n",
       "11  40.818716 -73.948785  \n",
       "12  42.912892 -76.564672  \n",
       "13  41.766398 -73.925169  \n",
       "14  42.039730 -73.958038  \n",
       "15  40.718611 -73.990018  \n",
       "16  42.368196 -73.708343  \n",
       "17  40.663192 -74.045105  \n",
       "18  43.084789 -79.070328  \n",
       "19  40.885791 -73.496864  \n",
       "20  40.892835 -73.825773  \n",
       "21  42.995226 -73.633861  \n",
       "22  40.695721 -74.042324  \n",
       "23  40.733780 -74.000687  \n",
       "24  40.738647 -73.989037  \n",
       "25  42.901468 -78.872484  \n",
       "26  42.225706 -73.861549  \n",
       "27  41.796979 -73.942056  \n",
       "28  42.908171 -76.816556  "
      ]
     },
     "execution_count": 37,
     "metadata": {},
     "output_type": "execute_result"
    }
   ],
   "source": [
    "# NY_Results\n",
    "NY_par=[]\n",
    "for i in range(len(NY_Results[0]['data'])):\n",
    "    for j in range(len(NY_Results[0]['data'][i]['addresses'])):\n",
    "        NY_par.append([NY_Results[0]['data'][i]['fullName'], NY_Results[0]['data'][i]['parkCode'],\n",
    "                       NY_Results[0]['data'][i]['addresses'][j]['stateCode']])                              \n",
    "        \n",
    "NY_Par1= pd.DataFrame(NY_par, columns=['Full Name', 'ParkCode', 'State_code'])\n",
    "NY_Par1 = NY_Par1[NY_Par1.State_code != 'WV']\n",
    "NY_Par1 = NY_Par1[NY_Par1.State_code != 'VA']\n",
    "NY_Par1 = NY_Par1[NY_Par1.State_code != 'VT']\n",
    "NY_Par1 = NY_Par1[NY_Par1.State_code != 'MD']\n",
    "NY_Par1 = NY_Par1[NY_Par1.State_code != 'NJ']\n",
    "NY_Par1 = NY_Par1[NY_Par1.State_code != 'MI']\n",
    "NY_Par1 = NY_Par1[NY_Par1.State_code != 'PA']\n",
    "NY_Par1.drop_duplicates(subset=None, keep='first', inplace=True)\n",
    "# NY_Par1\n",
    "\n",
    "latlon=[]\n",
    "for park in NY_Par1['ParkCode']:\n",
    "    url = f\"https://developer.nps.gov/api/v1/parks?parkCode={park}&api_key={Api_key}\"\n",
    "    try:\n",
    "        data = requests.get(url).json()\n",
    "        l_l = convert(data[\"data\"][0][\"latLong\"])\n",
    "        state = data[\"data\"][0]['states']\n",
    "        latlon.append([state, park, data[\"data\"][0][\"fullName\"], l_l[0], l_l[1]])\n",
    "    except:\n",
    "        print(f\"Chech the code...Skipping {park}\")\n",
    "# NY_Par1.drop_duplicates(subset=None, keep='first', inplace=True)\n",
    "NY_Parks_lat_lon = pd.DataFrame(latlon, columns = ['Full Name', 'ParkCode', 'Lat', 'Lon', 'State'])\n",
    "NY_Parks_lat_lon['Full Name'] = 'NY'\n",
    "NY_Parks_lat_lon"
   ]
  },
  {
   "cell_type": "code",
   "execution_count": 38,
   "metadata": {},
   "outputs": [
    {
     "name": "stdout",
     "output_type": "stream",
     "text": [
      "Chech the code...Skipping lode\n",
      "Chech the code...Skipping scrv\n",
      "Chech the code...Skipping waro\n"
     ]
    },
    {
     "data": {
      "text/html": [
       "<div>\n",
       "<style scoped>\n",
       "    .dataframe tbody tr th:only-of-type {\n",
       "        vertical-align: middle;\n",
       "    }\n",
       "\n",
       "    .dataframe tbody tr th {\n",
       "        vertical-align: top;\n",
       "    }\n",
       "\n",
       "    .dataframe thead th {\n",
       "        text-align: right;\n",
       "    }\n",
       "</style>\n",
       "<table border=\"1\" class=\"dataframe\">\n",
       "  <thead>\n",
       "    <tr style=\"text-align: right;\">\n",
       "      <th></th>\n",
       "      <th>Full Name</th>\n",
       "      <th>ParkCode</th>\n",
       "      <th>Lat</th>\n",
       "      <th>Lon</th>\n",
       "      <th>State</th>\n",
       "    </tr>\n",
       "  </thead>\n",
       "  <tbody>\n",
       "    <tr>\n",
       "      <td>0</td>\n",
       "      <td>PA</td>\n",
       "      <td>alpo</td>\n",
       "      <td>Allegheny Portage Railroad National Historic Site</td>\n",
       "      <td>40.429775</td>\n",
       "      <td>-78.574316</td>\n",
       "    </tr>\n",
       "    <tr>\n",
       "      <td>1</td>\n",
       "      <td>PA</td>\n",
       "      <td>dele</td>\n",
       "      <td>Delaware &amp; Lehigh National Heritage Corridor</td>\n",
       "      <td>40.669079</td>\n",
       "      <td>-75.236598</td>\n",
       "    </tr>\n",
       "    <tr>\n",
       "      <td>2</td>\n",
       "      <td>PA</td>\n",
       "      <td>dewa</td>\n",
       "      <td>Delaware Water Gap National Recreation Area</td>\n",
       "      <td>41.127935</td>\n",
       "      <td>-74.947512</td>\n",
       "    </tr>\n",
       "    <tr>\n",
       "      <td>3</td>\n",
       "      <td>PA</td>\n",
       "      <td>edal</td>\n",
       "      <td>Edgar Allan Poe National Historic Site</td>\n",
       "      <td>39.961955</td>\n",
       "      <td>-75.150006</td>\n",
       "    </tr>\n",
       "    <tr>\n",
       "      <td>4</td>\n",
       "      <td>PA</td>\n",
       "      <td>eise</td>\n",
       "      <td>Eisenhower National Historic Site</td>\n",
       "      <td>39.795776</td>\n",
       "      <td>-77.265081</td>\n",
       "    </tr>\n",
       "    <tr>\n",
       "      <td>5</td>\n",
       "      <td>PA</td>\n",
       "      <td>flni</td>\n",
       "      <td>Flight 93 National Memorial</td>\n",
       "      <td>40.060615</td>\n",
       "      <td>-78.894569</td>\n",
       "    </tr>\n",
       "    <tr>\n",
       "      <td>6</td>\n",
       "      <td>PA</td>\n",
       "      <td>fone</td>\n",
       "      <td>Fort Necessity National Battlefield</td>\n",
       "      <td>39.813060</td>\n",
       "      <td>-79.590333</td>\n",
       "    </tr>\n",
       "    <tr>\n",
       "      <td>7</td>\n",
       "      <td>PA</td>\n",
       "      <td>frhi</td>\n",
       "      <td>Friendship Hill National Historic Site</td>\n",
       "      <td>39.775434</td>\n",
       "      <td>-79.925042</td>\n",
       "    </tr>\n",
       "    <tr>\n",
       "      <td>8</td>\n",
       "      <td>PA</td>\n",
       "      <td>gett</td>\n",
       "      <td>Gettysburg National Military Park</td>\n",
       "      <td>39.815574</td>\n",
       "      <td>-77.232468</td>\n",
       "    </tr>\n",
       "    <tr>\n",
       "      <td>9</td>\n",
       "      <td>PA</td>\n",
       "      <td>glde</td>\n",
       "      <td>Gloria Dei Church National Historic Site</td>\n",
       "      <td>39.934350</td>\n",
       "      <td>-75.143989</td>\n",
       "    </tr>\n",
       "    <tr>\n",
       "      <td>10</td>\n",
       "      <td>PA</td>\n",
       "      <td>hofu</td>\n",
       "      <td>Hopewell Furnace National Historic Site</td>\n",
       "      <td>40.206106</td>\n",
       "      <td>-75.767664</td>\n",
       "    </tr>\n",
       "    <tr>\n",
       "      <td>11</td>\n",
       "      <td>PA</td>\n",
       "      <td>inde</td>\n",
       "      <td>Independence National Historical Park</td>\n",
       "      <td>39.947461</td>\n",
       "      <td>-75.147942</td>\n",
       "    </tr>\n",
       "    <tr>\n",
       "      <td>12</td>\n",
       "      <td>PA</td>\n",
       "      <td>jofl</td>\n",
       "      <td>Johnstown Flood National Memorial</td>\n",
       "      <td>40.345845</td>\n",
       "      <td>-78.774486</td>\n",
       "    </tr>\n",
       "    <tr>\n",
       "      <td>13</td>\n",
       "      <td>PA</td>\n",
       "      <td>oire</td>\n",
       "      <td>Oil Region National Heritage Area</td>\n",
       "      <td>41.420116</td>\n",
       "      <td>-79.752602</td>\n",
       "    </tr>\n",
       "    <tr>\n",
       "      <td>14</td>\n",
       "      <td>PA</td>\n",
       "      <td>rist</td>\n",
       "      <td>Rivers Of Steel National Heritage Area</td>\n",
       "      <td>40.299576</td>\n",
       "      <td>-79.861961</td>\n",
       "    </tr>\n",
       "    <tr>\n",
       "      <td>15</td>\n",
       "      <td>PA</td>\n",
       "      <td>stea</td>\n",
       "      <td>Steamtown National Historic Site</td>\n",
       "      <td>41.407575</td>\n",
       "      <td>-75.670373</td>\n",
       "    </tr>\n",
       "    <tr>\n",
       "      <td>16</td>\n",
       "      <td>PA</td>\n",
       "      <td>thko</td>\n",
       "      <td>Thaddeus Kosciuszko National Memorial</td>\n",
       "      <td>39.943453</td>\n",
       "      <td>-75.147320</td>\n",
       "    </tr>\n",
       "    <tr>\n",
       "      <td>17</td>\n",
       "      <td>PA</td>\n",
       "      <td>upde</td>\n",
       "      <td>Upper Delaware Scenic &amp; Recreational River</td>\n",
       "      <td>41.661726</td>\n",
       "      <td>-75.038616</td>\n",
       "    </tr>\n",
       "    <tr>\n",
       "      <td>18</td>\n",
       "      <td>PA</td>\n",
       "      <td>vafo</td>\n",
       "      <td>Valley Forge National Historical Park</td>\n",
       "      <td>40.100550</td>\n",
       "      <td>-75.445819</td>\n",
       "    </tr>\n",
       "  </tbody>\n",
       "</table>\n",
       "</div>"
      ],
      "text/plain": [
       "   Full Name ParkCode                                                Lat  \\\n",
       "0         PA     alpo  Allegheny Portage Railroad National Historic Site   \n",
       "1         PA     dele       Delaware & Lehigh National Heritage Corridor   \n",
       "2         PA     dewa        Delaware Water Gap National Recreation Area   \n",
       "3         PA     edal             Edgar Allan Poe National Historic Site   \n",
       "4         PA     eise                  Eisenhower National Historic Site   \n",
       "5         PA     flni                        Flight 93 National Memorial   \n",
       "6         PA     fone                Fort Necessity National Battlefield   \n",
       "7         PA     frhi             Friendship Hill National Historic Site   \n",
       "8         PA     gett                  Gettysburg National Military Park   \n",
       "9         PA     glde           Gloria Dei Church National Historic Site   \n",
       "10        PA     hofu            Hopewell Furnace National Historic Site   \n",
       "11        PA     inde              Independence National Historical Park   \n",
       "12        PA     jofl                  Johnstown Flood National Memorial   \n",
       "13        PA     oire                  Oil Region National Heritage Area   \n",
       "14        PA     rist             Rivers Of Steel National Heritage Area   \n",
       "15        PA     stea                   Steamtown National Historic Site   \n",
       "16        PA     thko              Thaddeus Kosciuszko National Memorial   \n",
       "17        PA     upde         Upper Delaware Scenic & Recreational River   \n",
       "18        PA     vafo              Valley Forge National Historical Park   \n",
       "\n",
       "          Lon      State  \n",
       "0   40.429775 -78.574316  \n",
       "1   40.669079 -75.236598  \n",
       "2   41.127935 -74.947512  \n",
       "3   39.961955 -75.150006  \n",
       "4   39.795776 -77.265081  \n",
       "5   40.060615 -78.894569  \n",
       "6   39.813060 -79.590333  \n",
       "7   39.775434 -79.925042  \n",
       "8   39.815574 -77.232468  \n",
       "9   39.934350 -75.143989  \n",
       "10  40.206106 -75.767664  \n",
       "11  39.947461 -75.147942  \n",
       "12  40.345845 -78.774486  \n",
       "13  41.420116 -79.752602  \n",
       "14  40.299576 -79.861961  \n",
       "15  41.407575 -75.670373  \n",
       "16  39.943453 -75.147320  \n",
       "17  41.661726 -75.038616  \n",
       "18  40.100550 -75.445819  "
      ]
     },
     "execution_count": 38,
     "metadata": {},
     "output_type": "execute_result"
    }
   ],
   "source": [
    "# PA_Results\n",
    "PA_par=[]\n",
    "for i in range(len(PA_Results[0]['data'])):\n",
    "    for j in range(len(PA_Results[0]['data'][i]['addresses'])):\n",
    "        PA_par.append([PA_Results[0]['data'][i]['fullName'], PA_Results[0]['data'][i]['parkCode'],\n",
    "                       PA_Results[0]['data'][i]['addresses'][j]['stateCode']])                              \n",
    "        \n",
    "PA_Par1= pd.DataFrame(PA_par, columns=['Full Name', 'ParkCode', 'State_code'])\n",
    "PA_Par1 = PA_Par1[PA_Par1.State_code != 'WV']\n",
    "PA_Par1 = PA_Par1[PA_Par1.State_code != 'VA']\n",
    "PA_Par1 = PA_Par1[PA_Par1.State_code != 'MD']\n",
    "PA_Par1 = PA_Par1[PA_Par1.State_code != 'DE']\n",
    "PA_Par1 = PA_Par1[PA_Par1.State_code != 'NE']\n",
    "PA_Par1 = PA_Par1[PA_Par1.State_code != 'MI']\n",
    "PA_Par1 = PA_Par1[PA_Par1.State_code != 'DC']\n",
    "PA_Par1.drop_duplicates(subset=None, keep='first', inplace=True)\n",
    "# PA_Par1\n",
    "\n",
    "latlon=[]\n",
    "for park in PA_Par1['ParkCode']:\n",
    "    url = f\"https://developer.nps.gov/api/v1/parks?parkCode={park}&api_key={Api_key}\"\n",
    "    try:\n",
    "        data = requests.get(url).json()\n",
    "        l_l = convert(data[\"data\"][0][\"latLong\"])\n",
    "        state = data[\"data\"][0]['states']\n",
    "        latlon.append([state, park, data[\"data\"][0][\"fullName\"], l_l[0], l_l[1]])\n",
    "    except:\n",
    "        print(f\"Chech the code...Skipping {park}\")\n",
    "# PA_Par1.drop_duplicates(subset=None, keep='first', inplace=True)\n",
    "PA_Parks_lat_lon = pd.DataFrame(latlon, columns = ['Full Name', 'ParkCode', 'Lat', 'Lon', 'State'])\n",
    "PA_Parks_lat_lon['Full Name'] = 'PA'\n",
    "PA_Parks_lat_lon"
   ]
  },
  {
   "cell_type": "code",
   "execution_count": 39,
   "metadata": {},
   "outputs": [
    {
     "data": {
      "text/html": [
       "<div>\n",
       "<style scoped>\n",
       "    .dataframe tbody tr th:only-of-type {\n",
       "        vertical-align: middle;\n",
       "    }\n",
       "\n",
       "    .dataframe tbody tr th {\n",
       "        vertical-align: top;\n",
       "    }\n",
       "\n",
       "    .dataframe thead th {\n",
       "        text-align: right;\n",
       "    }\n",
       "</style>\n",
       "<table border=\"1\" class=\"dataframe\">\n",
       "  <thead>\n",
       "    <tr style=\"text-align: right;\">\n",
       "      <th></th>\n",
       "      <th>Full Name</th>\n",
       "      <th>ParkCode</th>\n",
       "      <th>Lat</th>\n",
       "      <th>Lon</th>\n",
       "      <th>State</th>\n",
       "    </tr>\n",
       "  </thead>\n",
       "  <tbody>\n",
       "    <tr>\n",
       "      <td>0</td>\n",
       "      <td>RI</td>\n",
       "      <td>rowi</td>\n",
       "      <td>Roger Williams National Memorial</td>\n",
       "      <td>41.829895</td>\n",
       "      <td>-71.410567</td>\n",
       "    </tr>\n",
       "    <tr>\n",
       "      <td>1</td>\n",
       "      <td>RI</td>\n",
       "      <td>tosy</td>\n",
       "      <td>Touro Synagogue National Historic Site</td>\n",
       "      <td>41.489284</td>\n",
       "      <td>-71.312116</td>\n",
       "    </tr>\n",
       "  </tbody>\n",
       "</table>\n",
       "</div>"
      ],
      "text/plain": [
       "  Full Name ParkCode                                     Lat        Lon  \\\n",
       "0        RI     rowi        Roger Williams National Memorial  41.829895   \n",
       "1        RI     tosy  Touro Synagogue National Historic Site  41.489284   \n",
       "\n",
       "       State  \n",
       "0 -71.410567  \n",
       "1 -71.312116  "
      ]
     },
     "execution_count": 39,
     "metadata": {},
     "output_type": "execute_result"
    }
   ],
   "source": [
    "# RI_Results\n",
    "RI_par=[]\n",
    "for i in range(len(RI_Results[0]['data'])):\n",
    "    for j in range(len(RI_Results[0]['data'][i]['addresses'])):\n",
    "        RI_par.append([RI_Results[0]['data'][i]['fullName'], RI_Results[0]['data'][i]['parkCode'],\n",
    "                       RI_Results[0]['data'][i]['addresses'][j]['stateCode']])                              \n",
    "        \n",
    "RI_Par1= pd.DataFrame(RI_par, columns=['Full Name', 'ParkCode', 'State_code'])\n",
    "RI_Par1 = RI_Par1[RI_Par1.State_code != 'MA']\n",
    "RI_Par1 = RI_Par1[RI_Par1.State_code != 'PA']\n",
    "RI_Par1.drop_duplicates(subset=None, keep='first', inplace=True)\n",
    "# RI_Par1\n",
    "\n",
    "latlon=[]\n",
    "for park in RI_Par1['ParkCode']:\n",
    "    url = f\"https://developer.nps.gov/api/v1/parks?parkCode={park}&api_key={Api_key}\"\n",
    "    try:\n",
    "        data = requests.get(url).json()\n",
    "        l_l = convert(data[\"data\"][0][\"latLong\"])\n",
    "        state = data[\"data\"][0]['states']\n",
    "        latlon.append([state, park, data[\"data\"][0][\"fullName\"], l_l[0], l_l[1]])\n",
    "    except:\n",
    "        print(f\"Chech the code...Skipping {park}\")\n",
    "# CT_Par1.drop_duplicates(subset=None, keep='first', inplace=True)\n",
    "RI_Parks_lat_lon = pd.DataFrame(latlon, columns = ['Full Name', 'ParkCode', 'Lat', 'Lon', 'State'])\n",
    "RI_Parks_lat_lon['Full Name'] = 'RI'\n",
    "RI_Parks_lat_lon"
   ]
  },
  {
   "cell_type": "code",
   "execution_count": 40,
   "metadata": {},
   "outputs": [
    {
     "data": {
      "text/html": [
       "<div>\n",
       "<style scoped>\n",
       "    .dataframe tbody tr th:only-of-type {\n",
       "        vertical-align: middle;\n",
       "    }\n",
       "\n",
       "    .dataframe tbody tr th {\n",
       "        vertical-align: top;\n",
       "    }\n",
       "\n",
       "    .dataframe thead th {\n",
       "        text-align: right;\n",
       "    }\n",
       "</style>\n",
       "<table border=\"1\" class=\"dataframe\">\n",
       "  <thead>\n",
       "    <tr style=\"text-align: right;\">\n",
       "      <th></th>\n",
       "      <th>Full Name</th>\n",
       "      <th>ParkCode</th>\n",
       "      <th>Lat</th>\n",
       "      <th>Lon</th>\n",
       "      <th>State</th>\n",
       "    </tr>\n",
       "  </thead>\n",
       "  <tbody>\n",
       "    <tr>\n",
       "      <td>0</td>\n",
       "      <td>VT</td>\n",
       "      <td>chva</td>\n",
       "      <td>Champlain Valley National Heritage Partnership</td>\n",
       "      <td>43.997459</td>\n",
       "      <td>-73.481194</td>\n",
       "    </tr>\n",
       "    <tr>\n",
       "      <td>1</td>\n",
       "      <td>VT</td>\n",
       "      <td>mabi</td>\n",
       "      <td>Marsh - Billings - Rockefeller National Histor...</td>\n",
       "      <td>43.633487</td>\n",
       "      <td>-72.534246</td>\n",
       "    </tr>\n",
       "  </tbody>\n",
       "</table>\n",
       "</div>"
      ],
      "text/plain": [
       "  Full Name ParkCode                                                Lat  \\\n",
       "0        VT     chva     Champlain Valley National Heritage Partnership   \n",
       "1        VT     mabi  Marsh - Billings - Rockefeller National Histor...   \n",
       "\n",
       "         Lon      State  \n",
       "0  43.997459 -73.481194  \n",
       "1  43.633487 -72.534246  "
      ]
     },
     "execution_count": 40,
     "metadata": {},
     "output_type": "execute_result"
    }
   ],
   "source": [
    "# VT_Results\n",
    "VT_par=[]\n",
    "for i in range(len(VT_Results[0]['data'])):\n",
    "    for j in range(len(VT_Results[0]['data'][i]['addresses'])):\n",
    "        VT_par.append([VT_Results[0]['data'][i]['fullName'], VT_Results[0]['data'][i]['parkCode'],\n",
    "                       VT_Results[0]['data'][i]['addresses'][j]['stateCode']])                              \n",
    "        \n",
    "VT_Par1= pd.DataFrame(VT_par, columns=['Full Name', 'ParkCode', 'State_code'])\n",
    "VT_Par1 = VT_Par1[VT_Par1.State_code != 'WV']\n",
    "VT_Par1 = VT_Par1[VT_Par1.State_code != 'MI']\n",
    "VT_Par1.drop_duplicates(subset=None, keep='first', inplace=True)\n",
    "# VT_Par1\n",
    "\n",
    "latlon=[]\n",
    "for park in VT_Par1['ParkCode']:\n",
    "    url = f\"https://developer.nps.gov/api/v1/parks?parkCode={park}&api_key={Api_key}\"\n",
    "    try:\n",
    "        data = requests.get(url).json()\n",
    "        l_l = convert(data[\"data\"][0][\"latLong\"])\n",
    "        state = data[\"data\"][0]['states']\n",
    "        latlon.append([state, park, data[\"data\"][0][\"fullName\"], l_l[0], l_l[1]])\n",
    "    except:\n",
    "        print(f\"Chech the code...Skipping {park}\")\n",
    "# VT_Par1.drop_duplicates(subset=None, keep='first', inplace=True)\n",
    "VT_Parks_lat_lon = pd.DataFrame(latlon, columns = ['Full Name', 'ParkCode', 'Lat', 'Lon', 'State'])\n",
    "VT_Parks_lat_lon['Full Name'] = 'VT'\n",
    "VT_Parks_lat_lon"
   ]
  },
  {
   "cell_type": "code",
   "execution_count": 109,
   "metadata": {},
   "outputs": [
    {
     "name": "stdout",
     "output_type": "stream",
     "text": [
      "Chech the code...Skipping frst\n"
     ]
    },
    {
     "data": {
      "text/html": [
       "<div>\n",
       "<style scoped>\n",
       "    .dataframe tbody tr th:only-of-type {\n",
       "        vertical-align: middle;\n",
       "    }\n",
       "\n",
       "    .dataframe tbody tr th {\n",
       "        vertical-align: top;\n",
       "    }\n",
       "\n",
       "    .dataframe thead th {\n",
       "        text-align: right;\n",
       "    }\n",
       "</style>\n",
       "<table border=\"1\" class=\"dataframe\">\n",
       "  <thead>\n",
       "    <tr style=\"text-align: right;\">\n",
       "      <th></th>\n",
       "      <th>ParkCode</th>\n",
       "      <th>Full Name</th>\n",
       "      <th>Lat</th>\n",
       "      <th>Lon</th>\n",
       "      <th>State</th>\n",
       "    </tr>\n",
       "  </thead>\n",
       "  <tbody>\n",
       "  </tbody>\n",
       "</table>\n",
       "</div>"
      ],
      "text/plain": [
       "Empty DataFrame\n",
       "Columns: [ParkCode, Full Name, Lat, Lon, State]\n",
       "Index: []"
      ]
     },
     "execution_count": 109,
     "metadata": {},
     "output_type": "execute_result"
    }
   ],
   "source": [
    "# DE_Results\n",
    "DE_par=[]\n",
    "for i in range(len(DE_Results[0]['data'])):\n",
    "    for j in range(len(DE_Results[0]['data'][i]['addresses'])):\n",
    "        DE_par.append([DE_Results[0]['data'][i]['fullName'], DE_Results[0]['data'][i]['parkCode'],\n",
    "                       DE_Results[0]['data'][i]['addresses'][j]['stateCode']])                              \n",
    "        \n",
    "DE_Par1= pd.DataFrame(DE_par, columns=['Full Name', 'ParkCode', 'State_code'])\n",
    "DE_Par1 = DE_Par1[DE_Par1.State_code != 'WV']\n",
    "DE_Par1 = DE_Par1[DE_Par1.State_code != 'MI']\n",
    "DE_Par1 = DE_Par1[DE_Par1.State_code != 'VA']\n",
    "DE_Par1 = DE_Par1[DE_Par1.State_code != 'MD']\n",
    "DE_Par1 = DE_Par1[DE_Par1.State_code != 'PA']\n",
    "DE_Par1.drop_duplicates(subset=None, keep='first', inplace=True)\n",
    "# DE_Par1\n",
    "\n",
    "latlon=[]\n",
    "for park in DE_Par1['ParkCode']:\n",
    "    url = f\"https://developer.nps.gov/api/v1/parks?parkCode={park}&api_key={Api_key}\"\n",
    "    try:\n",
    "        data = requests.get(url).json()\n",
    "        l_l = convert(data[\"data\"][0][\"latLong\"])\n",
    "        state = data[\"data\"][0]['states']\n",
    "        latlon.append(park, [data[\"data\"][0][\"fullName\"], l_l[0], l_l[1], state])\n",
    "    except:\n",
    "        print(f\"Chech the code...Skipping {park}\")\n",
    "# DE_Par1.drop_duplicates(subset=None, keep='first', inplace=True)\n",
    "DE_Parks_lat_lon = pd.DataFrame(latlon, columns = ['ParkCode', 'Full Name', 'Lat', 'Lon', 'State'])\n",
    "# DE_Parks_lat_lon['Full Name'] = 'DE'\n",
    "DE_Parks_lat_lon\n"
   ]
  },
  {
   "cell_type": "code",
   "execution_count": 103,
   "metadata": {},
   "outputs": [],
   "source": [
    "DE_Parks_lat_lon.to_csv(\"./DELWARE.csv\", encoding=\"utf-8\", index=False)"
   ]
  },
  {
   "cell_type": "code",
   "execution_count": 42,
   "metadata": {},
   "outputs": [
    {
     "data": {
      "text/html": [
       "<div>\n",
       "<style scoped>\n",
       "    .dataframe tbody tr th:only-of-type {\n",
       "        vertical-align: middle;\n",
       "    }\n",
       "\n",
       "    .dataframe tbody tr th {\n",
       "        vertical-align: top;\n",
       "    }\n",
       "\n",
       "    .dataframe thead th {\n",
       "        text-align: right;\n",
       "    }\n",
       "</style>\n",
       "<table border=\"1\" class=\"dataframe\">\n",
       "  <thead>\n",
       "    <tr style=\"text-align: right;\">\n",
       "      <th></th>\n",
       "      <th>Full Name</th>\n",
       "      <th>ParkCode</th>\n",
       "      <th>Lat</th>\n",
       "      <th>Lon</th>\n",
       "      <th>State</th>\n",
       "    </tr>\n",
       "  </thead>\n",
       "  <tbody>\n",
       "    <tr>\n",
       "      <td>0</td>\n",
       "      <td>MD</td>\n",
       "      <td>anti</td>\n",
       "      <td>Antietam National Battlefield</td>\n",
       "      <td>39.467635</td>\n",
       "      <td>-77.738280</td>\n",
       "    </tr>\n",
       "    <tr>\n",
       "      <td>1</td>\n",
       "      <td>MD</td>\n",
       "      <td>asis</td>\n",
       "      <td>Assateague Island National Seashore</td>\n",
       "      <td>38.055932</td>\n",
       "      <td>-75.245246</td>\n",
       "    </tr>\n",
       "    <tr>\n",
       "      <td>2</td>\n",
       "      <td>MD</td>\n",
       "      <td>balt</td>\n",
       "      <td>Baltimore National Heritage Area</td>\n",
       "      <td>39.290497</td>\n",
       "      <td>-76.628403</td>\n",
       "    </tr>\n",
       "    <tr>\n",
       "      <td>3</td>\n",
       "      <td>MD</td>\n",
       "      <td>bawa</td>\n",
       "      <td>Baltimore-Washington Parkway</td>\n",
       "      <td>39.026043</td>\n",
       "      <td>-76.854109</td>\n",
       "    </tr>\n",
       "    <tr>\n",
       "      <td>4</td>\n",
       "      <td>MD</td>\n",
       "      <td>cato</td>\n",
       "      <td>Catoctin Mountain Park</td>\n",
       "      <td>39.650685</td>\n",
       "      <td>-77.464177</td>\n",
       "    </tr>\n",
       "    <tr>\n",
       "      <td>5</td>\n",
       "      <td>MD</td>\n",
       "      <td>choh</td>\n",
       "      <td>Chesapeake &amp; Ohio Canal National Historical Park</td>\n",
       "      <td>39.390982</td>\n",
       "      <td>-77.897635</td>\n",
       "    </tr>\n",
       "    <tr>\n",
       "      <td>6</td>\n",
       "      <td>MD</td>\n",
       "      <td>cbpo</td>\n",
       "      <td>Chesapeake Bay</td>\n",
       "      <td>38.971601</td>\n",
       "      <td>-76.483355</td>\n",
       "    </tr>\n",
       "    <tr>\n",
       "      <td>7</td>\n",
       "      <td>MD</td>\n",
       "      <td>clba</td>\n",
       "      <td>Clara Barton National Historic Site</td>\n",
       "      <td>38.967629</td>\n",
       "      <td>-77.140097</td>\n",
       "    </tr>\n",
       "    <tr>\n",
       "      <td>8</td>\n",
       "      <td>MD</td>\n",
       "      <td>fofo</td>\n",
       "      <td>Fort Foote Park</td>\n",
       "      <td>38.769018</td>\n",
       "      <td>-77.028124</td>\n",
       "    </tr>\n",
       "    <tr>\n",
       "      <td>9</td>\n",
       "      <td>MD</td>\n",
       "      <td>fomc</td>\n",
       "      <td>Fort McHenry National Monument and Historic Sh...</td>\n",
       "      <td>39.263953</td>\n",
       "      <td>-76.580442</td>\n",
       "    </tr>\n",
       "    <tr>\n",
       "      <td>10</td>\n",
       "      <td>MD</td>\n",
       "      <td>fowa</td>\n",
       "      <td>Fort Washington Park</td>\n",
       "      <td>38.708754</td>\n",
       "      <td>-77.021742</td>\n",
       "    </tr>\n",
       "    <tr>\n",
       "      <td>11</td>\n",
       "      <td>MD</td>\n",
       "      <td>glec</td>\n",
       "      <td>Glen Echo Park</td>\n",
       "      <td>38.969123</td>\n",
       "      <td>-77.140122</td>\n",
       "    </tr>\n",
       "    <tr>\n",
       "      <td>12</td>\n",
       "      <td>MD</td>\n",
       "      <td>gree</td>\n",
       "      <td>Greenbelt Park</td>\n",
       "      <td>38.983283</td>\n",
       "      <td>-76.897221</td>\n",
       "    </tr>\n",
       "    <tr>\n",
       "      <td>13</td>\n",
       "      <td>MD</td>\n",
       "      <td>hamp</td>\n",
       "      <td>Hampton National Historic Site</td>\n",
       "      <td>39.417530</td>\n",
       "      <td>-76.587812</td>\n",
       "    </tr>\n",
       "    <tr>\n",
       "      <td>14</td>\n",
       "      <td>MD</td>\n",
       "      <td>haha</td>\n",
       "      <td>Harmony Hall</td>\n",
       "      <td>38.746464</td>\n",
       "      <td>-77.003771</td>\n",
       "    </tr>\n",
       "    <tr>\n",
       "      <td>15</td>\n",
       "      <td>MD</td>\n",
       "      <td>hatu</td>\n",
       "      <td>Harriet Tubman Underground Railroad National H...</td>\n",
       "      <td>38.454864</td>\n",
       "      <td>-76.137345</td>\n",
       "    </tr>\n",
       "    <tr>\n",
       "      <td>16</td>\n",
       "      <td>MD</td>\n",
       "      <td>mono</td>\n",
       "      <td>Monocacy National Battlefield</td>\n",
       "      <td>39.360842</td>\n",
       "      <td>-77.396377</td>\n",
       "    </tr>\n",
       "    <tr>\n",
       "      <td>17</td>\n",
       "      <td>MD</td>\n",
       "      <td>oxhi</td>\n",
       "      <td>Oxon Cove  Park &amp; Oxon Hill Farm</td>\n",
       "      <td>38.805782</td>\n",
       "      <td>-77.011315</td>\n",
       "    </tr>\n",
       "    <tr>\n",
       "      <td>18</td>\n",
       "      <td>MD</td>\n",
       "      <td>pisc</td>\n",
       "      <td>Piscataway Park</td>\n",
       "      <td>38.686800</td>\n",
       "      <td>-77.066597</td>\n",
       "    </tr>\n",
       "    <tr>\n",
       "      <td>19</td>\n",
       "      <td>MD</td>\n",
       "      <td>stsp</td>\n",
       "      <td>Star-Spangled Banner National Historic Trail</td>\n",
       "      <td>39.287251</td>\n",
       "      <td>-76.603432</td>\n",
       "    </tr>\n",
       "    <tr>\n",
       "      <td>20</td>\n",
       "      <td>MD</td>\n",
       "      <td>thst</td>\n",
       "      <td>Thomas Stone National Historic Site</td>\n",
       "      <td>38.529344</td>\n",
       "      <td>-77.037813</td>\n",
       "    </tr>\n",
       "  </tbody>\n",
       "</table>\n",
       "</div>"
      ],
      "text/plain": [
       "   Full Name ParkCode                                                Lat  \\\n",
       "0         MD     anti                      Antietam National Battlefield   \n",
       "1         MD     asis                Assateague Island National Seashore   \n",
       "2         MD     balt                   Baltimore National Heritage Area   \n",
       "3         MD     bawa                       Baltimore-Washington Parkway   \n",
       "4         MD     cato                             Catoctin Mountain Park   \n",
       "5         MD     choh   Chesapeake & Ohio Canal National Historical Park   \n",
       "6         MD     cbpo                                     Chesapeake Bay   \n",
       "7         MD     clba                Clara Barton National Historic Site   \n",
       "8         MD     fofo                                    Fort Foote Park   \n",
       "9         MD     fomc  Fort McHenry National Monument and Historic Sh...   \n",
       "10        MD     fowa                               Fort Washington Park   \n",
       "11        MD     glec                                     Glen Echo Park   \n",
       "12        MD     gree                                     Greenbelt Park   \n",
       "13        MD     hamp                     Hampton National Historic Site   \n",
       "14        MD     haha                                       Harmony Hall   \n",
       "15        MD     hatu  Harriet Tubman Underground Railroad National H...   \n",
       "16        MD     mono                      Monocacy National Battlefield   \n",
       "17        MD     oxhi                   Oxon Cove  Park & Oxon Hill Farm   \n",
       "18        MD     pisc                                    Piscataway Park   \n",
       "19        MD     stsp       Star-Spangled Banner National Historic Trail   \n",
       "20        MD     thst                Thomas Stone National Historic Site   \n",
       "\n",
       "          Lon      State  \n",
       "0   39.467635 -77.738280  \n",
       "1   38.055932 -75.245246  \n",
       "2   39.290497 -76.628403  \n",
       "3   39.026043 -76.854109  \n",
       "4   39.650685 -77.464177  \n",
       "5   39.390982 -77.897635  \n",
       "6   38.971601 -76.483355  \n",
       "7   38.967629 -77.140097  \n",
       "8   38.769018 -77.028124  \n",
       "9   39.263953 -76.580442  \n",
       "10  38.708754 -77.021742  \n",
       "11  38.969123 -77.140122  \n",
       "12  38.983283 -76.897221  \n",
       "13  39.417530 -76.587812  \n",
       "14  38.746464 -77.003771  \n",
       "15  38.454864 -76.137345  \n",
       "16  39.360842 -77.396377  \n",
       "17  38.805782 -77.011315  \n",
       "18  38.686800 -77.066597  \n",
       "19  39.287251 -76.603432  \n",
       "20  38.529344 -77.037813  "
      ]
     },
     "execution_count": 42,
     "metadata": {},
     "output_type": "execute_result"
    }
   ],
   "source": [
    "# MD_Results\n",
    "MD_par=[]\n",
    "for i in range(len(MD_Results[0]['data'])):\n",
    "    for j in range(len(MD_Results[0]['data'][i]['addresses'])):\n",
    "        MD_par.append([MD_Results[0]['data'][i]['fullName'], MD_Results[0]['data'][i]['parkCode'],\n",
    "                       MD_Results[0]['data'][i]['addresses'][j]['stateCode']])                              \n",
    "        \n",
    "MD_Par1= pd.DataFrame(MD_par, columns=['Full Name', 'ParkCode', 'State_code'])\n",
    "MD_Par1 = MD_Par1[MD_Par1.State_code != 'WV']\n",
    "MD_Par1 = MD_Par1[MD_Par1.State_code != 'DC']\n",
    "MD_Par1 = MD_Par1[MD_Par1.State_code != 'VA']\n",
    "MD_Par1 = MD_Par1[MD_Par1.State_code != 'PA']\n",
    "MD_Par1.drop_duplicates(subset=None, keep='first', inplace=True)\n",
    "# MD_Par1\n",
    "\n",
    "latlon=[]\n",
    "for park in MD_Par1['ParkCode']:\n",
    "    url = f\"https://developer.nps.gov/api/v1/parks?parkCode={park}&api_key={Api_key}\"\n",
    "    try:\n",
    "        data = requests.get(url).json()\n",
    "        l_l = convert(data[\"data\"][0][\"latLong\"])\n",
    "        state = data[\"data\"][0]['states']\n",
    "        latlon.append([state, park, data[\"data\"][0][\"fullName\"], l_l[0], l_l[1]])\n",
    "    except:\n",
    "        print(f\"Chech the code...Skipping {park}\")\n",
    "# MD_Par1.drop_duplicates(subset=None, keep='first', inplace=True)\n",
    "MD_Parks_lat_lon = pd.DataFrame(latlon, columns = ['Full Name', 'ParkCode', 'Lat', 'Lon', 'State'])\n",
    "MD_Parks_lat_lon['Full Name'] = 'MD'\n",
    "MD_Parks_lat_lon"
   ]
  },
  {
   "cell_type": "code",
   "execution_count": 43,
   "metadata": {},
   "outputs": [
    {
     "data": {
      "text/html": [
       "<div>\n",
       "<style scoped>\n",
       "    .dataframe tbody tr th:only-of-type {\n",
       "        vertical-align: middle;\n",
       "    }\n",
       "\n",
       "    .dataframe tbody tr th {\n",
       "        vertical-align: top;\n",
       "    }\n",
       "\n",
       "    .dataframe thead th {\n",
       "        text-align: right;\n",
       "    }\n",
       "</style>\n",
       "<table border=\"1\" class=\"dataframe\">\n",
       "  <thead>\n",
       "    <tr style=\"text-align: right;\">\n",
       "      <th></th>\n",
       "      <th>Full Name</th>\n",
       "      <th>ParkCode</th>\n",
       "      <th>Lat</th>\n",
       "      <th>Lon</th>\n",
       "      <th>State</th>\n",
       "    </tr>\n",
       "  </thead>\n",
       "  <tbody>\n",
       "    <tr>\n",
       "      <td>0</td>\n",
       "      <td>CT</td>\n",
       "      <td>colt</td>\n",
       "      <td>Coltsville National Historical Park</td>\n",
       "      <td>42.467751</td>\n",
       "      <td>-73.203667</td>\n",
       "    </tr>\n",
       "    <tr>\n",
       "      <td>1</td>\n",
       "      <td>CT</td>\n",
       "      <td>neen</td>\n",
       "      <td>New England National Scenic Trail</td>\n",
       "      <td>42.291582</td>\n",
       "      <td>-72.524277</td>\n",
       "    </tr>\n",
       "    <tr>\n",
       "      <td>2</td>\n",
       "      <td>CT</td>\n",
       "      <td>wefa</td>\n",
       "      <td>Weir Farm National Historic Site</td>\n",
       "      <td>41.258863</td>\n",
       "      <td>-73.454525</td>\n",
       "    </tr>\n",
       "    <tr>\n",
       "      <td>3</td>\n",
       "      <td>ME</td>\n",
       "      <td>acad</td>\n",
       "      <td>Acadia National Park</td>\n",
       "      <td>44.307775</td>\n",
       "      <td>-68.300633</td>\n",
       "    </tr>\n",
       "    <tr>\n",
       "      <td>4</td>\n",
       "      <td>ME</td>\n",
       "      <td>kaww</td>\n",
       "      <td>Katahdin Woods and Waters National Monument</td>\n",
       "      <td>45.956757</td>\n",
       "      <td>-68.712288</td>\n",
       "    </tr>\n",
       "    <tr>\n",
       "      <td>...</td>\n",
       "      <td>...</td>\n",
       "      <td>...</td>\n",
       "      <td>...</td>\n",
       "      <td>...</td>\n",
       "      <td>...</td>\n",
       "    </tr>\n",
       "    <tr>\n",
       "      <td>102</td>\n",
       "      <td>MD</td>\n",
       "      <td>mono</td>\n",
       "      <td>Monocacy National Battlefield</td>\n",
       "      <td>39.360842</td>\n",
       "      <td>-77.396377</td>\n",
       "    </tr>\n",
       "    <tr>\n",
       "      <td>103</td>\n",
       "      <td>MD</td>\n",
       "      <td>oxhi</td>\n",
       "      <td>Oxon Cove  Park &amp; Oxon Hill Farm</td>\n",
       "      <td>38.805782</td>\n",
       "      <td>-77.011315</td>\n",
       "    </tr>\n",
       "    <tr>\n",
       "      <td>104</td>\n",
       "      <td>MD</td>\n",
       "      <td>pisc</td>\n",
       "      <td>Piscataway Park</td>\n",
       "      <td>38.686800</td>\n",
       "      <td>-77.066597</td>\n",
       "    </tr>\n",
       "    <tr>\n",
       "      <td>105</td>\n",
       "      <td>MD</td>\n",
       "      <td>stsp</td>\n",
       "      <td>Star-Spangled Banner National Historic Trail</td>\n",
       "      <td>39.287251</td>\n",
       "      <td>-76.603432</td>\n",
       "    </tr>\n",
       "    <tr>\n",
       "      <td>106</td>\n",
       "      <td>MD</td>\n",
       "      <td>thst</td>\n",
       "      <td>Thomas Stone National Historic Site</td>\n",
       "      <td>38.529344</td>\n",
       "      <td>-77.037813</td>\n",
       "    </tr>\n",
       "  </tbody>\n",
       "</table>\n",
       "<p>107 rows × 5 columns</p>\n",
       "</div>"
      ],
      "text/plain": [
       "    Full Name ParkCode                                           Lat  \\\n",
       "0          CT     colt           Coltsville National Historical Park   \n",
       "1          CT     neen             New England National Scenic Trail   \n",
       "2          CT     wefa              Weir Farm National Historic Site   \n",
       "3          ME     acad                          Acadia National Park   \n",
       "4          ME     kaww   Katahdin Woods and Waters National Monument   \n",
       "..        ...      ...                                           ...   \n",
       "102        MD     mono                 Monocacy National Battlefield   \n",
       "103        MD     oxhi              Oxon Cove  Park & Oxon Hill Farm   \n",
       "104        MD     pisc                               Piscataway Park   \n",
       "105        MD     stsp  Star-Spangled Banner National Historic Trail   \n",
       "106        MD     thst           Thomas Stone National Historic Site   \n",
       "\n",
       "           Lon      State  \n",
       "0    42.467751 -73.203667  \n",
       "1    42.291582 -72.524277  \n",
       "2    41.258863 -73.454525  \n",
       "3    44.307775 -68.300633  \n",
       "4    45.956757 -68.712288  \n",
       "..         ...        ...  \n",
       "102  39.360842 -77.396377  \n",
       "103  38.805782 -77.011315  \n",
       "104  38.686800 -77.066597  \n",
       "105  39.287251 -76.603432  \n",
       "106  38.529344 -77.037813  \n",
       "\n",
       "[107 rows x 5 columns]"
      ]
     },
     "execution_count": 43,
     "metadata": {},
     "output_type": "execute_result"
    }
   ],
   "source": [
    "\n",
    "A= pd.concat([CT_Par_latlng,ME_Par_latlng], axis=0, ignore_index=False)\n",
    "B= pd.concat([A,MA_Par_latlng], axis=0, ignore_index=False)\n",
    "C= pd.concat([B,NH_Par_latlng], axis=0, ignore_index=False)\n",
    "D= pd.concat([C,NJ_Parks_lat_lon], axis=0, ignore_index=False)\n",
    "E= pd.concat([D,NY_Parks_lat_lon], axis=0, ignore_index=False)\n",
    "F= pd.concat([E,PA_Parks_lat_lon], axis=0, ignore_index=False)\n",
    "G= pd.concat([F,RI_Parks_lat_lon], axis=0, ignore_index=False)\n",
    "H= pd.concat([G,VT_Parks_lat_lon], axis=0, ignore_index=False)\n",
    "I= pd.concat([H,DE_Parks_lat_lon], axis=0, ignore_index=False)\n",
    "J= pd.concat([I,MD_Parks_lat_lon], axis=0, ignore_index=False)\n",
    "J= J.drop_duplicates()\n",
    "Parks_NE= J\n",
    "Parks_NE.reset_index(drop=True)\n",
    "Parks_NE.to_csv(\"./Parks_NE_data_with_lat_lng.csv\", encoding=\"utf-8\", index=False)\n",
    "# Parks_NE"
   ]
  },
  {
   "cell_type": "markdown",
   "metadata": {},
   "source": [
    "# Make api request for each state in the MW."
   ]
  },
  {
   "cell_type": "code",
   "execution_count": 44,
   "metadata": {},
   "outputs": [],
   "source": [
    "States2= ['ND', 'SD','NE','KS','MO','IA','MN','WI','MI','IL','IN','OH']\n",
    "ND_Results=[]  \n",
    "SD_Results=[]\n",
    "NE_Results=[]\n",
    "KS_Results=[]\n",
    "MO_Results=[]\n",
    "IA_Results=[]\n",
    "MN_Results=[]\n",
    "WI_Results=[]\n",
    "MI_Results=[]\n",
    "IL_Results=[]\n",
    "IN_Results=[]\n",
    "OH_Results=[]\n",
    "\n",
    "for state in States2:\n",
    "    if state == 'ND':\n",
    "        ND_URL= f'https://developer.nps.gov/api/v1/parks?stateCode={state}&api_key={Api_key}'\n",
    "        ND_json= requests.get(ND_URL).json()\n",
    "        ND_Results.append(ND_json)\n",
    "    if state == 'SD':\n",
    "        SD_URL= f'https://developer.nps.gov/api/v1/parks?stateCode={state}&api_key={Api_key}'\n",
    "        SD_json= requests.get(SD_URL).json()\n",
    "        SD_Results.append(SD_json)\n",
    "    if state == 'NE':\n",
    "        NE_URL= f'https://developer.nps.gov/api/v1/parks?stateCode={state}&api_key={Api_key}'\n",
    "        NE_json= requests.get(NE_URL).json()\n",
    "        NE_Results.append(NE_json)\n",
    "    if state == 'KS':\n",
    "        KS_URL= f'https://developer.nps.gov/api/v1/parks?stateCode={state}&api_key={Api_key}'\n",
    "        KS_json= requests.get(KS_URL).json()\n",
    "        KS_Results.append(KS_json)\n",
    "    if state == 'MO':\n",
    "        MO_URL= f'https://developer.nps.gov/api/v1/parks?stateCode={state}&api_key={Api_key}'\n",
    "        MO_json= requests.get(MO_URL).json()\n",
    "        MO_Results.append(MO_json)\n",
    "    if state == 'IA':\n",
    "        IA_URL= f'https://developer.nps.gov/api/v1/parks?stateCode={state}&api_key={Api_key}'\n",
    "        IA_json= requests.get(IA_URL).json()\n",
    "        IA_Results.append(IA_json)\n",
    "    if state == 'MN':\n",
    "        MN_URL= f'https://developer.nps.gov/api/v1/parks?stateCode={state}&api_key={Api_key}'\n",
    "        MN_json= requests.get(MN_URL).json()\n",
    "        MN_Results.append(MN_json)\n",
    "    if state == 'WI':\n",
    "        WI_URL= f'https://developer.nps.gov/api/v1/parks?stateCode={state}&api_key={Api_key}'\n",
    "        WI_json= requests.get(WI_URL).json()\n",
    "        WI_Results.append(WI_json)\n",
    "    if state == 'MI':\n",
    "        MI_URL= f'https://developer.nps.gov/api/v1/parks?stateCode={state}&api_key={Api_key}'\n",
    "        MI_json= requests.get(MI_URL).json()\n",
    "        MI_Results.append(MI_json)\n",
    "    if state == 'IL':\n",
    "        IL_URL= f'https://developer.nps.gov/api/v1/parks?stateCode={state}&api_key={Api_key}'\n",
    "        IL_json= requests.get(IL_URL).json()\n",
    "        IL_Results.append(IL_json)\n",
    "    if state == 'IN':\n",
    "        IN_URL= f'https://developer.nps.gov/api/v1/parks?stateCode={state}&api_key={Api_key}'\n",
    "        IN_json= requests.get(IN_URL).json()\n",
    "        IN_Results.append(IN_json)\n",
    "    if state == 'OH':\n",
    "        OH_URL= f'https://developer.nps.gov/api/v1/parks?stateCode={state}&api_key={Api_key}'\n",
    "        OH_json= requests.get(OH_URL).json()\n",
    "        OH_Results.append(OH_json)"
   ]
  },
  {
   "cell_type": "code",
   "execution_count": 45,
   "metadata": {},
   "outputs": [
    {
     "data": {
      "text/html": [
       "<div>\n",
       "<style scoped>\n",
       "    .dataframe tbody tr th:only-of-type {\n",
       "        vertical-align: middle;\n",
       "    }\n",
       "\n",
       "    .dataframe tbody tr th {\n",
       "        vertical-align: top;\n",
       "    }\n",
       "\n",
       "    .dataframe thead th {\n",
       "        text-align: right;\n",
       "    }\n",
       "</style>\n",
       "<table border=\"1\" class=\"dataframe\">\n",
       "  <thead>\n",
       "    <tr style=\"text-align: right;\">\n",
       "      <th></th>\n",
       "      <th>Full Name</th>\n",
       "      <th>ParkCode</th>\n",
       "      <th>Lat</th>\n",
       "      <th>Lon</th>\n",
       "      <th>State</th>\n",
       "    </tr>\n",
       "  </thead>\n",
       "  <tbody>\n",
       "    <tr>\n",
       "      <td>0</td>\n",
       "      <td>ND</td>\n",
       "      <td>fous</td>\n",
       "      <td>Fort Union Trading Post National Historic Site</td>\n",
       "      <td>48.000758</td>\n",
       "      <td>-104.037524</td>\n",
       "    </tr>\n",
       "    <tr>\n",
       "      <td>1</td>\n",
       "      <td>ND</td>\n",
       "      <td>knri</td>\n",
       "      <td>Knife River Indian Villages National Historic ...</td>\n",
       "      <td>47.354022</td>\n",
       "      <td>-101.386053</td>\n",
       "    </tr>\n",
       "    <tr>\n",
       "      <td>2</td>\n",
       "      <td>ND</td>\n",
       "      <td>thro</td>\n",
       "      <td>Theodore Roosevelt National Park</td>\n",
       "      <td>47.177773</td>\n",
       "      <td>-103.430008</td>\n",
       "    </tr>\n",
       "  </tbody>\n",
       "</table>\n",
       "</div>"
      ],
      "text/plain": [
       "  Full Name ParkCode                                                Lat  \\\n",
       "0        ND     fous     Fort Union Trading Post National Historic Site   \n",
       "1        ND     knri  Knife River Indian Villages National Historic ...   \n",
       "2        ND     thro                   Theodore Roosevelt National Park   \n",
       "\n",
       "         Lon       State  \n",
       "0  48.000758 -104.037524  \n",
       "1  47.354022 -101.386053  \n",
       "2  47.177773 -103.430008  "
      ]
     },
     "execution_count": 45,
     "metadata": {},
     "output_type": "execute_result"
    }
   ],
   "source": [
    "# ND_Results\n",
    "ND_par=[]\n",
    "for i in range(len(ND_Results[0]['data'])):\n",
    "    for j in range(len(ND_Results[0]['data'][i]['addresses'])):\n",
    "        ND_par.append([ND_Results[0]['data'][i]['fullName'], ND_Results[0]['data'][i]['parkCode'],\n",
    "                       ND_Results[0]['data'][i]['addresses'][j]['stateCode']])                              \n",
    "        \n",
    "ND_Par1= pd.DataFrame(ND_par, columns=['Full Name', 'ParkCode', 'State_code'])\n",
    "ND_Par1 = ND_Par1[ND_Par1.State_code != 'NE']\n",
    "ND_Par1 = ND_Par1[ND_Par1.State_code != 'MI']\n",
    "ND_Par1.drop_duplicates(subset=None, keep='first', inplace=True)\n",
    "# ND_Par1\n",
    "latlon=[]\n",
    "for park in ND_Par1['ParkCode']:\n",
    "    url = f\"https://developer.nps.gov/api/v1/parks?parkCode={park}&api_key={Api_key}\"\n",
    "    try:\n",
    "        data = requests.get(url).json()\n",
    "        l_l = convert(data[\"data\"][0][\"latLong\"])\n",
    "        state = data[\"data\"][0]['states']\n",
    "        latlon.append([state, park, data[\"data\"][0][\"fullName\"], l_l[0], l_l[1]])\n",
    "    except:\n",
    "        print(f\"Chech the cde...Skipping {park}\")\n",
    "ND_Par_latlng= pd.DataFrame(latlon, columns = ['Full Name', 'ParkCode', 'Lat', 'Lon', 'State'])\n",
    "# ND_Par1.drop_duplicates(subset=None, keep='first', inplace=True)\n",
    "# ND_Parks_lat_lon = pd.DataFrame(latlon, columns = ['State','ParkCode','Park', 'Lat', 'Lon'])\n",
    "ND_Par_latlng['Full Name']='ND'\n",
    "ND_Par_latlng"
   ]
  },
  {
   "cell_type": "code",
   "execution_count": 46,
   "metadata": {},
   "outputs": [
    {
     "data": {
      "text/html": [
       "<div>\n",
       "<style scoped>\n",
       "    .dataframe tbody tr th:only-of-type {\n",
       "        vertical-align: middle;\n",
       "    }\n",
       "\n",
       "    .dataframe tbody tr th {\n",
       "        vertical-align: top;\n",
       "    }\n",
       "\n",
       "    .dataframe thead th {\n",
       "        text-align: right;\n",
       "    }\n",
       "</style>\n",
       "<table border=\"1\" class=\"dataframe\">\n",
       "  <thead>\n",
       "    <tr style=\"text-align: right;\">\n",
       "      <th></th>\n",
       "      <th>Full Name</th>\n",
       "      <th>ParkCode</th>\n",
       "      <th>Lat</th>\n",
       "      <th>Lon</th>\n",
       "      <th>State</th>\n",
       "    </tr>\n",
       "  </thead>\n",
       "  <tbody>\n",
       "    <tr>\n",
       "      <td>0</td>\n",
       "      <td>SD</td>\n",
       "      <td>badl</td>\n",
       "      <td>Badlands National Park</td>\n",
       "      <td>43.685848</td>\n",
       "      <td>-102.482942</td>\n",
       "    </tr>\n",
       "    <tr>\n",
       "      <td>1</td>\n",
       "      <td>SD</td>\n",
       "      <td>jeca</td>\n",
       "      <td>Jewel Cave National Monument</td>\n",
       "      <td>43.731029</td>\n",
       "      <td>-103.829994</td>\n",
       "    </tr>\n",
       "    <tr>\n",
       "      <td>2</td>\n",
       "      <td>SD</td>\n",
       "      <td>mimi</td>\n",
       "      <td>Minuteman Missile National Historic Site</td>\n",
       "      <td>43.895580</td>\n",
       "      <td>-102.027213</td>\n",
       "    </tr>\n",
       "    <tr>\n",
       "      <td>3</td>\n",
       "      <td>SD</td>\n",
       "      <td>mnrr</td>\n",
       "      <td>Missouri National Recreational River</td>\n",
       "      <td>42.788219</td>\n",
       "      <td>-97.590778</td>\n",
       "    </tr>\n",
       "    <tr>\n",
       "      <td>4</td>\n",
       "      <td>SD</td>\n",
       "      <td>moru</td>\n",
       "      <td>Mount Rushmore National Memorial</td>\n",
       "      <td>43.880370</td>\n",
       "      <td>-103.452519</td>\n",
       "    </tr>\n",
       "    <tr>\n",
       "      <td>5</td>\n",
       "      <td>SD</td>\n",
       "      <td>wica</td>\n",
       "      <td>Wind Cave National Park</td>\n",
       "      <td>43.580124</td>\n",
       "      <td>-103.439471</td>\n",
       "    </tr>\n",
       "  </tbody>\n",
       "</table>\n",
       "</div>"
      ],
      "text/plain": [
       "  Full Name ParkCode                                       Lat        Lon  \\\n",
       "0        SD     badl                    Badlands National Park  43.685848   \n",
       "1        SD     jeca              Jewel Cave National Monument  43.731029   \n",
       "2        SD     mimi  Minuteman Missile National Historic Site  43.895580   \n",
       "3        SD     mnrr      Missouri National Recreational River  42.788219   \n",
       "4        SD     moru          Mount Rushmore National Memorial  43.880370   \n",
       "5        SD     wica                   Wind Cave National Park  43.580124   \n",
       "\n",
       "        State  \n",
       "0 -102.482942  \n",
       "1 -103.829994  \n",
       "2 -102.027213  \n",
       "3  -97.590778  \n",
       "4 -103.452519  \n",
       "5 -103.439471  "
      ]
     },
     "execution_count": 46,
     "metadata": {},
     "output_type": "execute_result"
    }
   ],
   "source": [
    "# SD_Results\n",
    "SD_par=[]\n",
    "for i in range(len(SD_Results[0]['data'])):\n",
    "    for j in range(len(SD_Results[0]['data'][i]['addresses'])):\n",
    "        SD_par.append([SD_Results[0]['data'][i]['fullName'], SD_Results[0]['data'][i]['parkCode'],\n",
    "                       SD_Results[0]['data'][i]['addresses'][j]['stateCode']])                              \n",
    "        \n",
    "SD_Par1= pd.DataFrame(SD_par, columns=['Full Name', 'ParkCode', 'State_code'])\n",
    "SD_Par1 = SD_Par1[SD_Par1.State_code != 'NE']\n",
    "SD_Par1 = SD_Par1[SD_Par1.State_code != 'MI']\n",
    "SD_Par1.drop_duplicates(subset=None, keep='first', inplace=True)\n",
    "# SD_Par1\n",
    "\n",
    "latlon=[]\n",
    "for park in SD_Par1['ParkCode']:\n",
    "    url = f\"https://developer.nps.gov/api/v1/parks?parkCode={park}&api_key={Api_key}\"\n",
    "    try:\n",
    "        data = requests.get(url).json()\n",
    "        l_l = convert(data[\"data\"][0][\"latLong\"])\n",
    "        state = data[\"data\"][0]['states']\n",
    "        latlon.append([state, park, data[\"data\"][0][\"fullName\"], l_l[0], l_l[1]])\n",
    "    except:\n",
    "        print(f\"Chech the cde...Skipping {park}\")\n",
    "SD_Par_latlng= pd.DataFrame(latlon, columns = ['Full Name', 'ParkCode', 'Lat', 'Lon', 'State'])\n",
    "# SD_Par1.drop_duplicates(subset=None, keep='first', inplace=True)\n",
    "# SD_Parks_lat_lon = pd.DataFrame(latlon, columns = ['State','ParkCode','Park', 'Lat', 'Lon'])\n",
    "SD_Par_latlng['Full Name']='SD'\n",
    "SD_Par_latlng"
   ]
  },
  {
   "cell_type": "code",
   "execution_count": 47,
   "metadata": {},
   "outputs": [
    {
     "data": {
      "text/html": [
       "<div>\n",
       "<style scoped>\n",
       "    .dataframe tbody tr th:only-of-type {\n",
       "        vertical-align: middle;\n",
       "    }\n",
       "\n",
       "    .dataframe tbody tr th {\n",
       "        vertical-align: top;\n",
       "    }\n",
       "\n",
       "    .dataframe thead th {\n",
       "        text-align: right;\n",
       "    }\n",
       "</style>\n",
       "<table border=\"1\" class=\"dataframe\">\n",
       "  <thead>\n",
       "    <tr style=\"text-align: right;\">\n",
       "      <th></th>\n",
       "      <th>Full Name</th>\n",
       "      <th>ParkCode</th>\n",
       "      <th>Lat</th>\n",
       "      <th>Lon</th>\n",
       "      <th>State</th>\n",
       "    </tr>\n",
       "  </thead>\n",
       "  <tbody>\n",
       "    <tr>\n",
       "      <td>0</td>\n",
       "      <td>NE</td>\n",
       "      <td>agfo</td>\n",
       "      <td>Agate Fossil Beds National Monument</td>\n",
       "      <td>42.421704</td>\n",
       "      <td>-103.753886</td>\n",
       "    </tr>\n",
       "    <tr>\n",
       "      <td>1</td>\n",
       "      <td>NE</td>\n",
       "      <td>home</td>\n",
       "      <td>Homestead National Monument of America</td>\n",
       "      <td>40.288024</td>\n",
       "      <td>-96.833878</td>\n",
       "    </tr>\n",
       "    <tr>\n",
       "      <td>2</td>\n",
       "      <td>NE</td>\n",
       "      <td>lecl</td>\n",
       "      <td>Lewis &amp; Clark National Historic Trail</td>\n",
       "      <td>41.264614</td>\n",
       "      <td>-95.924515</td>\n",
       "    </tr>\n",
       "    <tr>\n",
       "      <td>3</td>\n",
       "      <td>NE</td>\n",
       "      <td>niob</td>\n",
       "      <td>Niobrara National Scenic River</td>\n",
       "      <td>42.794131</td>\n",
       "      <td>-99.918706</td>\n",
       "    </tr>\n",
       "    <tr>\n",
       "      <td>4</td>\n",
       "      <td>NE</td>\n",
       "      <td>scbl</td>\n",
       "      <td>Scotts Bluff National Monument</td>\n",
       "      <td>41.834642</td>\n",
       "      <td>-103.707135</td>\n",
       "    </tr>\n",
       "  </tbody>\n",
       "</table>\n",
       "</div>"
      ],
      "text/plain": [
       "  Full Name ParkCode                                     Lat        Lon  \\\n",
       "0        NE     agfo     Agate Fossil Beds National Monument  42.421704   \n",
       "1        NE     home  Homestead National Monument of America  40.288024   \n",
       "2        NE     lecl   Lewis & Clark National Historic Trail  41.264614   \n",
       "3        NE     niob          Niobrara National Scenic River  42.794131   \n",
       "4        NE     scbl          Scotts Bluff National Monument  41.834642   \n",
       "\n",
       "        State  \n",
       "0 -103.753886  \n",
       "1  -96.833878  \n",
       "2  -95.924515  \n",
       "3  -99.918706  \n",
       "4 -103.707135  "
      ]
     },
     "execution_count": 47,
     "metadata": {},
     "output_type": "execute_result"
    }
   ],
   "source": [
    "# NE_Results\n",
    "NE_par=[]\n",
    "for i in range(len(NE_Results[0]['data'])):\n",
    "    for j in range(len(NE_Results[0]['data'][i]['addresses'])):\n",
    "        NE_par.append([NE_Results[0]['data'][i]['fullName'], NE_Results[0]['data'][i]['parkCode'],\n",
    "                       NE_Results[0]['data'][i]['addresses'][j]['stateCode']])                              \n",
    "        \n",
    "NE_Par1= pd.DataFrame(NE_par, columns=['Full Name', 'ParkCode', 'State_code'])\n",
    "NE_Par1 = NE_Par1[NE_Par1.State_code != 'NM']\n",
    "NE_Par1 = NE_Par1[NE_Par1.State_code != 'SD']\n",
    "NE_Par1.drop_duplicates(subset=None, keep='first', inplace=True)\n",
    "# NE_Par1\n",
    "\n",
    "latlon=[]\n",
    "for park in NE_Par1['ParkCode']:\n",
    "    url = f\"https://developer.nps.gov/api/v1/parks?parkCode={park}&api_key={Api_key}\"\n",
    "    try:\n",
    "        data = requests.get(url).json()\n",
    "        l_l = convert(data[\"data\"][0][\"latLong\"])\n",
    "        state = data[\"data\"][0]['states']\n",
    "        latlon.append([state, park, data[\"data\"][0][\"fullName\"], l_l[0], l_l[1]])\n",
    "    except:\n",
    "        print(f\"Chech the cde...Skipping {park}\")\n",
    "NE_Par_latlng= pd.DataFrame(latlon, columns = ['Full Name', 'ParkCode', 'Lat', 'Lon', 'State'])\n",
    "# NE_Par1.drop_duplicates(subset=None, keep='first', inplace=True)\n",
    "# NE_Parks_lat_lon = pd.DataFrame(latlon, columns = ['State','ParkCode','Park', 'Lat', 'Lon'])\n",
    "NE_Par_latlng['Full Name']='NE'\n",
    "NE_Par_latlng"
   ]
  },
  {
   "cell_type": "code",
   "execution_count": 48,
   "metadata": {},
   "outputs": [
    {
     "data": {
      "text/html": [
       "<div>\n",
       "<style scoped>\n",
       "    .dataframe tbody tr th:only-of-type {\n",
       "        vertical-align: middle;\n",
       "    }\n",
       "\n",
       "    .dataframe tbody tr th {\n",
       "        vertical-align: top;\n",
       "    }\n",
       "\n",
       "    .dataframe thead th {\n",
       "        text-align: right;\n",
       "    }\n",
       "</style>\n",
       "<table border=\"1\" class=\"dataframe\">\n",
       "  <thead>\n",
       "    <tr style=\"text-align: right;\">\n",
       "      <th></th>\n",
       "      <th>Full Name</th>\n",
       "      <th>ParkCode</th>\n",
       "      <th>Lat</th>\n",
       "      <th>Lon</th>\n",
       "      <th>State</th>\n",
       "    </tr>\n",
       "  </thead>\n",
       "  <tbody>\n",
       "    <tr>\n",
       "      <td>0</td>\n",
       "      <td>KS</td>\n",
       "      <td>brvb</td>\n",
       "      <td>Brown v. Board of Education National Historic ...</td>\n",
       "      <td>39.037877</td>\n",
       "      <td>-95.676144</td>\n",
       "    </tr>\n",
       "    <tr>\n",
       "      <td>1</td>\n",
       "      <td>KS</td>\n",
       "      <td>fols</td>\n",
       "      <td>Fort Larned National Historic Site</td>\n",
       "      <td>38.180475</td>\n",
       "      <td>-99.218367</td>\n",
       "    </tr>\n",
       "    <tr>\n",
       "      <td>2</td>\n",
       "      <td>KS</td>\n",
       "      <td>fosc</td>\n",
       "      <td>Fort Scott National Historic Site</td>\n",
       "      <td>37.843588</td>\n",
       "      <td>-94.704292</td>\n",
       "    </tr>\n",
       "    <tr>\n",
       "      <td>3</td>\n",
       "      <td>KS</td>\n",
       "      <td>nico</td>\n",
       "      <td>Nicodemus National Historic Site</td>\n",
       "      <td>39.391676</td>\n",
       "      <td>-99.616803</td>\n",
       "    </tr>\n",
       "    <tr>\n",
       "      <td>4</td>\n",
       "      <td>KS</td>\n",
       "      <td>tapr</td>\n",
       "      <td>Tallgrass Prairie National Preserve</td>\n",
       "      <td>38.440236</td>\n",
       "      <td>-96.567082</td>\n",
       "    </tr>\n",
       "  </tbody>\n",
       "</table>\n",
       "</div>"
      ],
      "text/plain": [
       "  Full Name ParkCode                                                Lat  \\\n",
       "0        KS     brvb  Brown v. Board of Education National Historic ...   \n",
       "1        KS     fols                 Fort Larned National Historic Site   \n",
       "2        KS     fosc                  Fort Scott National Historic Site   \n",
       "3        KS     nico                   Nicodemus National Historic Site   \n",
       "4        KS     tapr                Tallgrass Prairie National Preserve   \n",
       "\n",
       "         Lon      State  \n",
       "0  39.037877 -95.676144  \n",
       "1  38.180475 -99.218367  \n",
       "2  37.843588 -94.704292  \n",
       "3  39.391676 -99.616803  \n",
       "4  38.440236 -96.567082  "
      ]
     },
     "execution_count": 48,
     "metadata": {},
     "output_type": "execute_result"
    }
   ],
   "source": [
    "# KS_Results\n",
    "KS_par=[]\n",
    "for i in range(len(KS_Results[0]['data'])):\n",
    "    for j in range(len(KS_Results[0]['data'][i]['addresses'])):\n",
    "        KS_par.append([KS_Results[0]['data'][i]['fullName'], KS_Results[0]['data'][i]['parkCode'],\n",
    "                       KS_Results[0]['data'][i]['addresses'][j]['stateCode']])                              \n",
    "        \n",
    "KS_Par1= pd.DataFrame(KS_par, columns=['Full Name', 'ParkCode', 'State_code'])\n",
    "KS_Par1 = KS_Par1[KS_Par1.State_code != 'NM']\n",
    "KS_Par1 = KS_Par1[KS_Par1.State_code != 'NE']\n",
    "KS_Par1.drop_duplicates(subset=None, keep='first', inplace=True)\n",
    "# KS_Par1\n",
    "\n",
    "latlon=[]\n",
    "for park in KS_Par1['ParkCode']:\n",
    "    url = f\"https://developer.nps.gov/api/v1/parks?parkCode={park}&api_key={Api_key}\"\n",
    "    try:\n",
    "        data = requests.get(url).json()\n",
    "        l_l = convert(data[\"data\"][0][\"latLong\"])\n",
    "        state = data[\"data\"][0]['states']\n",
    "        latlon.append([state, park, data[\"data\"][0][\"fullName\"], l_l[0], l_l[1]])\n",
    "    except:\n",
    "        print(f\"Chech the cde...Skipping {park}\")\n",
    "KS_Par_latlng= pd.DataFrame(latlon, columns = ['Full Name', 'ParkCode', 'Lat', 'Lon', 'State'])\n",
    "KS_Par_latlng['Full Name']='KS'\n",
    "KS_Par_latlng"
   ]
  },
  {
   "cell_type": "code",
   "execution_count": 50,
   "metadata": {},
   "outputs": [
    {
     "data": {
      "text/html": [
       "<div>\n",
       "<style scoped>\n",
       "    .dataframe tbody tr th:only-of-type {\n",
       "        vertical-align: middle;\n",
       "    }\n",
       "\n",
       "    .dataframe tbody tr th {\n",
       "        vertical-align: top;\n",
       "    }\n",
       "\n",
       "    .dataframe thead th {\n",
       "        text-align: right;\n",
       "    }\n",
       "</style>\n",
       "<table border=\"1\" class=\"dataframe\">\n",
       "  <thead>\n",
       "    <tr style=\"text-align: right;\">\n",
       "      <th></th>\n",
       "      <th>Full Name</th>\n",
       "      <th>ParkCode</th>\n",
       "      <th>Lat</th>\n",
       "      <th>Lon</th>\n",
       "      <th>State</th>\n",
       "    </tr>\n",
       "  </thead>\n",
       "  <tbody>\n",
       "    <tr>\n",
       "      <td>0</td>\n",
       "      <td>MO</td>\n",
       "      <td>jeff</td>\n",
       "      <td>Gateway Arch National Park</td>\n",
       "      <td>38.625807</td>\n",
       "      <td>-90.189251</td>\n",
       "    </tr>\n",
       "    <tr>\n",
       "      <td>1</td>\n",
       "      <td>MO</td>\n",
       "      <td>gwca</td>\n",
       "      <td>George Washington Carver National Monument</td>\n",
       "      <td>36.987132</td>\n",
       "      <td>-94.355227</td>\n",
       "    </tr>\n",
       "    <tr>\n",
       "      <td>2</td>\n",
       "      <td>MO</td>\n",
       "      <td>hstr</td>\n",
       "      <td>Harry S Truman National Historic Site</td>\n",
       "      <td>38.927120</td>\n",
       "      <td>-94.516249</td>\n",
       "    </tr>\n",
       "    <tr>\n",
       "      <td>3</td>\n",
       "      <td>MO</td>\n",
       "      <td>ozar</td>\n",
       "      <td>Ozark National Scenic Riverways</td>\n",
       "      <td>37.139689</td>\n",
       "      <td>-91.257098</td>\n",
       "    </tr>\n",
       "    <tr>\n",
       "      <td>4</td>\n",
       "      <td>MO</td>\n",
       "      <td>ulsg</td>\n",
       "      <td>Ulysses S Grant National Historic Site</td>\n",
       "      <td>38.551824</td>\n",
       "      <td>-90.351693</td>\n",
       "    </tr>\n",
       "    <tr>\n",
       "      <td>5</td>\n",
       "      <td>MO</td>\n",
       "      <td>wicr</td>\n",
       "      <td>Wilson's Creek National Battlefield</td>\n",
       "      <td>37.100013</td>\n",
       "      <td>-93.409867</td>\n",
       "    </tr>\n",
       "  </tbody>\n",
       "</table>\n",
       "</div>"
      ],
      "text/plain": [
       "  Full Name ParkCode                                         Lat        Lon  \\\n",
       "0        MO     jeff                  Gateway Arch National Park  38.625807   \n",
       "1        MO     gwca  George Washington Carver National Monument  36.987132   \n",
       "2        MO     hstr       Harry S Truman National Historic Site  38.927120   \n",
       "3        MO     ozar             Ozark National Scenic Riverways  37.139689   \n",
       "4        MO     ulsg      Ulysses S Grant National Historic Site  38.551824   \n",
       "5        MO     wicr         Wilson's Creek National Battlefield  37.100013   \n",
       "\n",
       "       State  \n",
       "0 -90.189251  \n",
       "1 -94.355227  \n",
       "2 -94.516249  \n",
       "3 -91.257098  \n",
       "4 -90.351693  \n",
       "5 -93.409867  "
      ]
     },
     "execution_count": 50,
     "metadata": {},
     "output_type": "execute_result"
    }
   ],
   "source": [
    "# MO_Results\n",
    "MO_par=[]\n",
    "for i in range(len(MO_Results[0]['data'])):\n",
    "    for j in range(len(MO_Results[0]['data'][i]['addresses'])):\n",
    "        MO_par.append([MO_Results[0]['data'][i]['fullName'], MO_Results[0]['data'][i]['parkCode'],\n",
    "                       MO_Results[0]['data'][i]['addresses'][j]['stateCode']])                              \n",
    "        \n",
    "MO_Par1= pd.DataFrame(MO_par, columns=['Full Name', 'ParkCode', 'State_code'])\n",
    "MO_Par1 = MO_Par1[MO_Par1.State_code != 'NM']\n",
    "MO_Par1 = MO_Par1[MO_Par1.State_code != 'NE']\n",
    "MO_Par1.drop_duplicates(subset=None, keep='first', inplace=True)\n",
    "# MO_Par1\n",
    "\n",
    "latlon=[]\n",
    "for park in MO_Par1['ParkCode']:\n",
    "    url = f\"https://developer.nps.gov/api/v1/parks?parkCode={park}&api_key={Api_key}\"\n",
    "    try:\n",
    "        data = requests.get(url).json()\n",
    "        l_l = convert(data[\"data\"][0][\"latLong\"])\n",
    "        state = data[\"data\"][0]['states']\n",
    "        latlon.append([state, park, data[\"data\"][0][\"fullName\"], l_l[0], l_l[1]])\n",
    "    except:\n",
    "        print(f\"Chech the cde...Skipping {park}\")\n",
    "MO_Par_latlng= pd.DataFrame(latlon, columns = ['Full Name', 'ParkCode', 'Lat', 'Lon', 'State'])\n",
    "MO_Par_latlng['Full Name']='MO'\n",
    "MO_Par_latlng"
   ]
  },
  {
   "cell_type": "code",
   "execution_count": 51,
   "metadata": {},
   "outputs": [
    {
     "data": {
      "text/html": [
       "<div>\n",
       "<style scoped>\n",
       "    .dataframe tbody tr th:only-of-type {\n",
       "        vertical-align: middle;\n",
       "    }\n",
       "\n",
       "    .dataframe tbody tr th {\n",
       "        vertical-align: top;\n",
       "    }\n",
       "\n",
       "    .dataframe thead th {\n",
       "        text-align: right;\n",
       "    }\n",
       "</style>\n",
       "<table border=\"1\" class=\"dataframe\">\n",
       "  <thead>\n",
       "    <tr style=\"text-align: right;\">\n",
       "      <th></th>\n",
       "      <th>Full Name</th>\n",
       "      <th>ParkCode</th>\n",
       "      <th>Lat</th>\n",
       "      <th>Lon</th>\n",
       "      <th>State</th>\n",
       "    </tr>\n",
       "  </thead>\n",
       "  <tbody>\n",
       "    <tr>\n",
       "      <td>0</td>\n",
       "      <td>IA</td>\n",
       "      <td>efmo</td>\n",
       "      <td>Effigy Mounds National Monument</td>\n",
       "      <td>43.080951</td>\n",
       "      <td>-91.196875</td>\n",
       "    </tr>\n",
       "    <tr>\n",
       "      <td>1</td>\n",
       "      <td>IA</td>\n",
       "      <td>heho</td>\n",
       "      <td>Herbert Hoover National Historic Site</td>\n",
       "      <td>41.667936</td>\n",
       "      <td>-91.352321</td>\n",
       "    </tr>\n",
       "  </tbody>\n",
       "</table>\n",
       "</div>"
      ],
      "text/plain": [
       "  Full Name ParkCode                                    Lat        Lon  \\\n",
       "0        IA     efmo        Effigy Mounds National Monument  43.080951   \n",
       "1        IA     heho  Herbert Hoover National Historic Site  41.667936   \n",
       "\n",
       "       State  \n",
       "0 -91.196875  \n",
       "1 -91.352321  "
      ]
     },
     "execution_count": 51,
     "metadata": {},
     "output_type": "execute_result"
    }
   ],
   "source": [
    "# IA_Results\n",
    "IA_par=[]\n",
    "for i in range(len(IA_Results[0]['data'])):\n",
    "    for j in range(len(IA_Results[0]['data'][i]['addresses'])):\n",
    "        IA_par.append([IA_Results[0]['data'][i]['fullName'], IA_Results[0]['data'][i]['parkCode'],\n",
    "                       IA_Results[0]['data'][i]['addresses'][j]['stateCode']])                              \n",
    "        \n",
    "IA_Par1= pd.DataFrame(IA_par, columns=['Full Name', 'ParkCode', 'State_code'])\n",
    "IA_Par1 = IA_Par1[IA_Par1.State_code != 'NM']\n",
    "IA_Par1 = IA_Par1[IA_Par1.State_code != 'NE']\n",
    "IA_Par1.drop_duplicates(subset=None, keep='first', inplace=True)\n",
    "# IA_Par1\n",
    "\n",
    "latlon=[]\n",
    "for park in IA_Par1['ParkCode']:\n",
    "    url = f\"https://developer.nps.gov/api/v1/parks?parkCode={park}&api_key={Api_key}\"\n",
    "    try:\n",
    "        data = requests.get(url).json()\n",
    "        l_l = convert(data[\"data\"][0][\"latLong\"])\n",
    "        state = data[\"data\"][0]['states']\n",
    "        latlon.append([state, park, data[\"data\"][0][\"fullName\"], l_l[0], l_l[1]])\n",
    "    except:\n",
    "        print(f\"Chech the cde...Skipping {park}\")\n",
    "IA_Par_latlng= pd.DataFrame(latlon, columns = ['Full Name', 'ParkCode', 'Lat', 'Lon', 'State'])\n",
    "IA_Par_latlng['Full Name']='IA'\n",
    "IA_Par_latlng"
   ]
  },
  {
   "cell_type": "code",
   "execution_count": 52,
   "metadata": {},
   "outputs": [
    {
     "data": {
      "text/html": [
       "<div>\n",
       "<style scoped>\n",
       "    .dataframe tbody tr th:only-of-type {\n",
       "        vertical-align: middle;\n",
       "    }\n",
       "\n",
       "    .dataframe tbody tr th {\n",
       "        vertical-align: top;\n",
       "    }\n",
       "\n",
       "    .dataframe thead th {\n",
       "        text-align: right;\n",
       "    }\n",
       "</style>\n",
       "<table border=\"1\" class=\"dataframe\">\n",
       "  <thead>\n",
       "    <tr style=\"text-align: right;\">\n",
       "      <th></th>\n",
       "      <th>Full Name</th>\n",
       "      <th>ParkCode</th>\n",
       "      <th>Lat</th>\n",
       "      <th>Lon</th>\n",
       "      <th>State</th>\n",
       "    </tr>\n",
       "  </thead>\n",
       "  <tbody>\n",
       "    <tr>\n",
       "      <td>0</td>\n",
       "      <td>MN</td>\n",
       "      <td>grpo</td>\n",
       "      <td>Grand Portage National Monument</td>\n",
       "      <td>47.992942</td>\n",
       "      <td>-89.755730</td>\n",
       "    </tr>\n",
       "    <tr>\n",
       "      <td>1</td>\n",
       "      <td>MN</td>\n",
       "      <td>miss</td>\n",
       "      <td>Mississippi National River and Recreation Area</td>\n",
       "      <td>44.942487</td>\n",
       "      <td>-93.098712</td>\n",
       "    </tr>\n",
       "    <tr>\n",
       "      <td>2</td>\n",
       "      <td>MN</td>\n",
       "      <td>pipe</td>\n",
       "      <td>Pipestone National Monument</td>\n",
       "      <td>44.013520</td>\n",
       "      <td>-96.324755</td>\n",
       "    </tr>\n",
       "    <tr>\n",
       "      <td>3</td>\n",
       "      <td>MN</td>\n",
       "      <td>voya</td>\n",
       "      <td>Voyageurs National Park</td>\n",
       "      <td>48.483706</td>\n",
       "      <td>-92.838291</td>\n",
       "    </tr>\n",
       "  </tbody>\n",
       "</table>\n",
       "</div>"
      ],
      "text/plain": [
       "  Full Name ParkCode                                             Lat  \\\n",
       "0        MN     grpo                 Grand Portage National Monument   \n",
       "1        MN     miss  Mississippi National River and Recreation Area   \n",
       "2        MN     pipe                     Pipestone National Monument   \n",
       "3        MN     voya                         Voyageurs National Park   \n",
       "\n",
       "         Lon      State  \n",
       "0  47.992942 -89.755730  \n",
       "1  44.942487 -93.098712  \n",
       "2  44.013520 -96.324755  \n",
       "3  48.483706 -92.838291  "
      ]
     },
     "execution_count": 52,
     "metadata": {},
     "output_type": "execute_result"
    }
   ],
   "source": [
    "# MN_Results\n",
    "MN_par=[]\n",
    "for i in range(len(MN_Results[0]['data'])):\n",
    "    for j in range(len(MN_Results[0]['data'][i]['addresses'])):\n",
    "        MN_par.append([MN_Results[0]['data'][i]['fullName'], MN_Results[0]['data'][i]['parkCode'],\n",
    "                       MN_Results[0]['data'][i]['addresses'][j]['stateCode']])                              \n",
    "        \n",
    "MN_Par1= pd.DataFrame(MN_par, columns=['Full Name', 'ParkCode', 'State_code'])\n",
    "MN_Par1 = MN_Par1[MN_Par1.State_code != 'MI']\n",
    "MN_Par1 = MN_Par1[MN_Par1.State_code != 'WI']\n",
    "MN_Par1.drop_duplicates(subset=None, keep='first', inplace=True)\n",
    "# MN_Par1\n",
    "\n",
    "latlon=[]\n",
    "for park in MN_Par1['ParkCode']:\n",
    "    url = f\"https://developer.nps.gov/api/v1/parks?parkCode={park}&api_key={Api_key}\"\n",
    "    try:\n",
    "        data = requests.get(url).json()\n",
    "        l_l = convert(data[\"data\"][0][\"latLong\"])\n",
    "        state = data[\"data\"][0]['states']\n",
    "        latlon.append([state, park, data[\"data\"][0][\"fullName\"], l_l[0], l_l[1]])\n",
    "    except:\n",
    "        print(f\"Chech the cde...Skipping {park}\")\n",
    "MN_Par_latlng= pd.DataFrame(latlon, columns = ['Full Name', 'ParkCode', 'Lat', 'Lon', 'State'])\n",
    "MN_Par_latlng['Full Name']='MN'\n",
    "MN_Par_latlng"
   ]
  },
  {
   "cell_type": "code",
   "execution_count": 53,
   "metadata": {},
   "outputs": [
    {
     "name": "stdout",
     "output_type": "stream",
     "text": [
      "Chech the cde...Skipping iatr\n"
     ]
    },
    {
     "data": {
      "text/html": [
       "<div>\n",
       "<style scoped>\n",
       "    .dataframe tbody tr th:only-of-type {\n",
       "        vertical-align: middle;\n",
       "    }\n",
       "\n",
       "    .dataframe tbody tr th {\n",
       "        vertical-align: top;\n",
       "    }\n",
       "\n",
       "    .dataframe thead th {\n",
       "        text-align: right;\n",
       "    }\n",
       "</style>\n",
       "<table border=\"1\" class=\"dataframe\">\n",
       "  <thead>\n",
       "    <tr style=\"text-align: right;\">\n",
       "      <th></th>\n",
       "      <th>Full Name</th>\n",
       "      <th>ParkCode</th>\n",
       "      <th>Lat</th>\n",
       "      <th>Lon</th>\n",
       "      <th>State</th>\n",
       "    </tr>\n",
       "  </thead>\n",
       "  <tbody>\n",
       "    <tr>\n",
       "      <td>0</td>\n",
       "      <td>WI</td>\n",
       "      <td>apis</td>\n",
       "      <td>Apostle Islands National Lakeshore</td>\n",
       "      <td>46.962405</td>\n",
       "      <td>-90.660457</td>\n",
       "    </tr>\n",
       "    <tr>\n",
       "      <td>1</td>\n",
       "      <td>WI</td>\n",
       "      <td>sacn</td>\n",
       "      <td>Saint Croix National Scenic Riverway</td>\n",
       "      <td>45.700192</td>\n",
       "      <td>-92.361267</td>\n",
       "    </tr>\n",
       "  </tbody>\n",
       "</table>\n",
       "</div>"
      ],
      "text/plain": [
       "  Full Name ParkCode                                   Lat        Lon  \\\n",
       "0        WI     apis    Apostle Islands National Lakeshore  46.962405   \n",
       "1        WI     sacn  Saint Croix National Scenic Riverway  45.700192   \n",
       "\n",
       "       State  \n",
       "0 -90.660457  \n",
       "1 -92.361267  "
      ]
     },
     "execution_count": 53,
     "metadata": {},
     "output_type": "execute_result"
    }
   ],
   "source": [
    "# WI_Results\n",
    "WI_par=[]\n",
    "for i in range(len(WI_Results[0]['data'])):\n",
    "    for j in range(len(WI_Results[0]['data'][i]['addresses'])):\n",
    "        WI_par.append([WI_Results[0]['data'][i]['fullName'], WI_Results[0]['data'][i]['parkCode'],\n",
    "                       WI_Results[0]['data'][i]['addresses'][j]['stateCode']])                              \n",
    "        \n",
    "WI_Par1= pd.DataFrame(WI_par, columns=['Full Name', 'ParkCode', 'State_code'])\n",
    "WI_Par1 = WI_Par1[WI_Par1.State_code != 'MI']\n",
    "WI_Par1.drop_duplicates(subset=None, keep='first', inplace=True)\n",
    "# WI_Par1\n",
    "\n",
    "latlon=[]\n",
    "for park in WI_Par1['ParkCode']:\n",
    "    url = f\"https://developer.nps.gov/api/v1/parks?parkCode={park}&api_key={Api_key}\"\n",
    "    try:\n",
    "        data = requests.get(url).json()\n",
    "        l_l = convert(data[\"data\"][0][\"latLong\"])\n",
    "        state = data[\"data\"][0]['states']\n",
    "        latlon.append([state, park, data[\"data\"][0][\"fullName\"], l_l[0], l_l[1]])\n",
    "    except:\n",
    "        print(f\"Chech the cde...Skipping {park}\")\n",
    "WI_Par_latlng= pd.DataFrame(latlon, columns = ['Full Name', 'ParkCode', 'Lat', 'Lon', 'State'])\n",
    "WI_Par_latlng['Full Name']='WI'\n",
    "WI_Par_latlng"
   ]
  },
  {
   "cell_type": "code",
   "execution_count": 54,
   "metadata": {},
   "outputs": [
    {
     "name": "stdout",
     "output_type": "stream",
     "text": [
      "Chech the cde...Skipping noco\n"
     ]
    },
    {
     "data": {
      "text/html": [
       "<div>\n",
       "<style scoped>\n",
       "    .dataframe tbody tr th:only-of-type {\n",
       "        vertical-align: middle;\n",
       "    }\n",
       "\n",
       "    .dataframe tbody tr th {\n",
       "        vertical-align: top;\n",
       "    }\n",
       "\n",
       "    .dataframe thead th {\n",
       "        text-align: right;\n",
       "    }\n",
       "</style>\n",
       "<table border=\"1\" class=\"dataframe\">\n",
       "  <thead>\n",
       "    <tr style=\"text-align: right;\">\n",
       "      <th></th>\n",
       "      <th>Full Name</th>\n",
       "      <th>ParkCode</th>\n",
       "      <th>Lat</th>\n",
       "      <th>Lon</th>\n",
       "      <th>State</th>\n",
       "    </tr>\n",
       "  </thead>\n",
       "  <tbody>\n",
       "    <tr>\n",
       "      <td>0</td>\n",
       "      <td>MI</td>\n",
       "      <td>isro</td>\n",
       "      <td>Isle Royale National Park</td>\n",
       "      <td>48.011458</td>\n",
       "      <td>-88.827807</td>\n",
       "    </tr>\n",
       "    <tr>\n",
       "      <td>1</td>\n",
       "      <td>MI</td>\n",
       "      <td>kewe</td>\n",
       "      <td>Keweenaw National Historical Park</td>\n",
       "      <td>47.179231</td>\n",
       "      <td>-88.522753</td>\n",
       "    </tr>\n",
       "    <tr>\n",
       "      <td>2</td>\n",
       "      <td>MI</td>\n",
       "      <td>auto</td>\n",
       "      <td>Motor Cities National Heritage Area</td>\n",
       "      <td>42.518181</td>\n",
       "      <td>-83.818771</td>\n",
       "    </tr>\n",
       "    <tr>\n",
       "      <td>3</td>\n",
       "      <td>MI</td>\n",
       "      <td>piro</td>\n",
       "      <td>Pictured Rocks National Lakeshore</td>\n",
       "      <td>46.564356</td>\n",
       "      <td>-86.316287</td>\n",
       "    </tr>\n",
       "    <tr>\n",
       "      <td>4</td>\n",
       "      <td>MI</td>\n",
       "      <td>rira</td>\n",
       "      <td>River Raisin National Battlefield Park</td>\n",
       "      <td>41.912911</td>\n",
       "      <td>-83.376205</td>\n",
       "    </tr>\n",
       "    <tr>\n",
       "      <td>5</td>\n",
       "      <td>MI</td>\n",
       "      <td>slbe</td>\n",
       "      <td>Sleeping Bear Dunes National Lakeshore</td>\n",
       "      <td>44.928450</td>\n",
       "      <td>-86.027066</td>\n",
       "    </tr>\n",
       "  </tbody>\n",
       "</table>\n",
       "</div>"
      ],
      "text/plain": [
       "  Full Name ParkCode                                     Lat        Lon  \\\n",
       "0        MI     isro               Isle Royale National Park  48.011458   \n",
       "1        MI     kewe       Keweenaw National Historical Park  47.179231   \n",
       "2        MI     auto     Motor Cities National Heritage Area  42.518181   \n",
       "3        MI     piro       Pictured Rocks National Lakeshore  46.564356   \n",
       "4        MI     rira  River Raisin National Battlefield Park  41.912911   \n",
       "5        MI     slbe  Sleeping Bear Dunes National Lakeshore  44.928450   \n",
       "\n",
       "       State  \n",
       "0 -88.827807  \n",
       "1 -88.522753  \n",
       "2 -83.818771  \n",
       "3 -86.316287  \n",
       "4 -83.376205  \n",
       "5 -86.027066  "
      ]
     },
     "execution_count": 54,
     "metadata": {},
     "output_type": "execute_result"
    }
   ],
   "source": [
    "# MI_Results\n",
    "MI_par=[]\n",
    "for i in range(len(MI_Results[0]['data'])):\n",
    "    for j in range(len(MI_Results[0]['data'][i]['addresses'])):\n",
    "        MI_par.append([MI_Results[0]['data'][i]['fullName'], MI_Results[0]['data'][i]['parkCode'],\n",
    "                       MI_Results[0]['data'][i]['addresses'][j]['stateCode']])                              \n",
    "        \n",
    "MI_Par1= pd.DataFrame(MI_par, columns=['Full Name', 'ParkCode', 'State_code'])\n",
    "MI_Par1.drop_duplicates(subset=None, keep='first', inplace=True)\n",
    "# MI_Par1\n",
    "\n",
    "latlon=[]\n",
    "for park in MI_Par1['ParkCode']:\n",
    "    url = f\"https://developer.nps.gov/api/v1/parks?parkCode={park}&api_key={Api_key}\"\n",
    "    try:\n",
    "        data = requests.get(url).json()\n",
    "        l_l = convert(data[\"data\"][0][\"latLong\"])\n",
    "        state = data[\"data\"][0]['states']\n",
    "        latlon.append([state, park, data[\"data\"][0][\"fullName\"], l_l[0], l_l[1]])\n",
    "    except:\n",
    "        print(f\"Chech the cde...Skipping {park}\")\n",
    "MI_Par_latlng= pd.DataFrame(latlon, columns = ['Full Name', 'ParkCode', 'Lat', 'Lon', 'State'])\n",
    "MI_Par_latlng['Full Name']='MI'\n",
    "MI_Par_latlng"
   ]
  },
  {
   "cell_type": "code",
   "execution_count": 55,
   "metadata": {},
   "outputs": [
    {
     "data": {
      "text/html": [
       "<div>\n",
       "<style scoped>\n",
       "    .dataframe tbody tr th:only-of-type {\n",
       "        vertical-align: middle;\n",
       "    }\n",
       "\n",
       "    .dataframe tbody tr th {\n",
       "        vertical-align: top;\n",
       "    }\n",
       "\n",
       "    .dataframe thead th {\n",
       "        text-align: right;\n",
       "    }\n",
       "</style>\n",
       "<table border=\"1\" class=\"dataframe\">\n",
       "  <thead>\n",
       "    <tr style=\"text-align: right;\">\n",
       "      <th></th>\n",
       "      <th>Full Name</th>\n",
       "      <th>ParkCode</th>\n",
       "      <th>Lat</th>\n",
       "      <th>Lon</th>\n",
       "      <th>State</th>\n",
       "    </tr>\n",
       "  </thead>\n",
       "  <tbody>\n",
       "    <tr>\n",
       "      <td>0</td>\n",
       "      <td>IL</td>\n",
       "      <td>liho</td>\n",
       "      <td>Lincoln Home National Historic Site</td>\n",
       "      <td>39.797156</td>\n",
       "      <td>-89.645134</td>\n",
       "    </tr>\n",
       "    <tr>\n",
       "      <td>1</td>\n",
       "      <td>IL</td>\n",
       "      <td>pull</td>\n",
       "      <td>Pullman National Monument</td>\n",
       "      <td>41.694292</td>\n",
       "      <td>-87.608738</td>\n",
       "    </tr>\n",
       "  </tbody>\n",
       "</table>\n",
       "</div>"
      ],
      "text/plain": [
       "  Full Name ParkCode                                  Lat        Lon  \\\n",
       "0        IL     liho  Lincoln Home National Historic Site  39.797156   \n",
       "1        IL     pull            Pullman National Monument  41.694292   \n",
       "\n",
       "       State  \n",
       "0 -89.645134  \n",
       "1 -87.608738  "
      ]
     },
     "execution_count": 55,
     "metadata": {},
     "output_type": "execute_result"
    }
   ],
   "source": [
    "# IL_Results\n",
    "IL_par=[]\n",
    "for i in range(len(IL_Results[0]['data'])):\n",
    "    for j in range(len(IL_Results[0]['data'][i]['addresses'])):\n",
    "        IL_par.append([IL_Results[0]['data'][i]['fullName'], IL_Results[0]['data'][i]['parkCode'],\n",
    "                       IL_Results[0]['data'][i]['addresses'][j]['stateCode']])                              \n",
    "        \n",
    "IL_Par1= pd.DataFrame(IL_par, columns=['Full Name', 'ParkCode', 'State_code'])\n",
    "IL_Par1 = IL_Par1[IL_Par1.State_code != 'NE']\n",
    "IL_Par1 = IL_Par1[IL_Par1.State_code != 'NM']\n",
    "IL_Par1.drop_duplicates(subset=None, keep='first', inplace=True)\n",
    "# IL_Par1\n",
    "\n",
    "latlon=[]\n",
    "for park in IL_Par1['ParkCode']:\n",
    "    url = f\"https://developer.nps.gov/api/v1/parks?parkCode={park}&api_key={Api_key}\"\n",
    "    try:\n",
    "        data = requests.get(url).json()\n",
    "        l_l = convert(data[\"data\"][0][\"latLong\"])\n",
    "        state = data[\"data\"][0]['states']\n",
    "        latlon.append([state, park, data[\"data\"][0][\"fullName\"], l_l[0], l_l[1]])\n",
    "    except:\n",
    "        print(f\"Chech the cde...Skipping {park}\")\n",
    "IL_Par_latlng= pd.DataFrame(latlon, columns = ['Full Name', 'ParkCode', 'Lat', 'Lon', 'State'])\n",
    "IL_Par_latlng['Full Name']='IL'\n",
    "IL_Par_latlng"
   ]
  },
  {
   "cell_type": "code",
   "execution_count": 56,
   "metadata": {},
   "outputs": [
    {
     "data": {
      "text/html": [
       "<div>\n",
       "<style scoped>\n",
       "    .dataframe tbody tr th:only-of-type {\n",
       "        vertical-align: middle;\n",
       "    }\n",
       "\n",
       "    .dataframe tbody tr th {\n",
       "        vertical-align: top;\n",
       "    }\n",
       "\n",
       "    .dataframe thead th {\n",
       "        text-align: right;\n",
       "    }\n",
       "</style>\n",
       "<table border=\"1\" class=\"dataframe\">\n",
       "  <thead>\n",
       "    <tr style=\"text-align: right;\">\n",
       "      <th></th>\n",
       "      <th>Full Name</th>\n",
       "      <th>ParkCode</th>\n",
       "      <th>Lat</th>\n",
       "      <th>Lon</th>\n",
       "      <th>State</th>\n",
       "    </tr>\n",
       "  </thead>\n",
       "  <tbody>\n",
       "    <tr>\n",
       "      <td>0</td>\n",
       "      <td>IN</td>\n",
       "      <td>gero</td>\n",
       "      <td>George Rogers Clark National Historical Park</td>\n",
       "      <td>38.679127</td>\n",
       "      <td>-87.535452</td>\n",
       "    </tr>\n",
       "    <tr>\n",
       "      <td>1</td>\n",
       "      <td>IN</td>\n",
       "      <td>indu</td>\n",
       "      <td>Indiana Dunes National Park</td>\n",
       "      <td>41.637655</td>\n",
       "      <td>-87.096474</td>\n",
       "    </tr>\n",
       "    <tr>\n",
       "      <td>2</td>\n",
       "      <td>IN</td>\n",
       "      <td>libo</td>\n",
       "      <td>Lincoln Boyhood National Memorial</td>\n",
       "      <td>38.118170</td>\n",
       "      <td>-86.996569</td>\n",
       "    </tr>\n",
       "  </tbody>\n",
       "</table>\n",
       "</div>"
      ],
      "text/plain": [
       "  Full Name ParkCode                                           Lat        Lon  \\\n",
       "0        IN     gero  George Rogers Clark National Historical Park  38.679127   \n",
       "1        IN     indu                   Indiana Dunes National Park  41.637655   \n",
       "2        IN     libo             Lincoln Boyhood National Memorial  38.118170   \n",
       "\n",
       "       State  \n",
       "0 -87.535452  \n",
       "1 -87.096474  \n",
       "2 -86.996569  "
      ]
     },
     "execution_count": 56,
     "metadata": {},
     "output_type": "execute_result"
    }
   ],
   "source": [
    "# IN_Results\n",
    "IN_par=[]\n",
    "for i in range(len(IN_Results[0]['data'])):\n",
    "    for j in range(len(IN_Results[0]['data'][i]['addresses'])):\n",
    "        IN_par.append([IN_Results[0]['data'][i]['fullName'], IN_Results[0]['data'][i]['parkCode'],\n",
    "                       IN_Results[0]['data'][i]['addresses'][j]['stateCode']])                              \n",
    "        \n",
    "IN_Par1= pd.DataFrame(IN_par, columns=['Full Name', 'ParkCode', 'State_code'])\n",
    "IN_Par1 = IN_Par1[IN_Par1.State_code != 'NE']\n",
    "IN_Par1.drop_duplicates(subset=None, keep='first', inplace=True)\n",
    "# IN_Par1\n",
    "latlon=[]\n",
    "for park in IN_Par1['ParkCode']:\n",
    "    url = f\"https://developer.nps.gov/api/v1/parks?parkCode={park}&api_key={Api_key}\"\n",
    "    try:\n",
    "        data = requests.get(url).json()\n",
    "        l_l = convert(data[\"data\"][0][\"latLong\"])\n",
    "        state = data[\"data\"][0]['states']\n",
    "        latlon.append([state, park, data[\"data\"][0][\"fullName\"], l_l[0], l_l[1]])\n",
    "    except:\n",
    "        print(f\"Chech the cde...Skipping {park}\")\n",
    "IN_Par_latlng= pd.DataFrame(latlon, columns = ['Full Name', 'ParkCode', 'Lat', 'Lon', 'State'])\n",
    "IN_Par_latlng['Full Name']='IN'\n",
    "IN_Par_latlng"
   ]
  },
  {
   "cell_type": "code",
   "execution_count": 57,
   "metadata": {
    "scrolled": true
   },
   "outputs": [
    {
     "data": {
      "text/html": [
       "<div>\n",
       "<style scoped>\n",
       "    .dataframe tbody tr th:only-of-type {\n",
       "        vertical-align: middle;\n",
       "    }\n",
       "\n",
       "    .dataframe tbody tr th {\n",
       "        vertical-align: top;\n",
       "    }\n",
       "\n",
       "    .dataframe thead th {\n",
       "        text-align: right;\n",
       "    }\n",
       "</style>\n",
       "<table border=\"1\" class=\"dataframe\">\n",
       "  <thead>\n",
       "    <tr style=\"text-align: right;\">\n",
       "      <th></th>\n",
       "      <th>Full Name</th>\n",
       "      <th>ParkCode</th>\n",
       "      <th>Lat</th>\n",
       "      <th>Lon</th>\n",
       "      <th>State</th>\n",
       "    </tr>\n",
       "  </thead>\n",
       "  <tbody>\n",
       "    <tr>\n",
       "      <td>0</td>\n",
       "      <td>OH</td>\n",
       "      <td>chyo</td>\n",
       "      <td>Charles Young Buffalo Soldiers National Monument</td>\n",
       "      <td>39.708178</td>\n",
       "      <td>-83.893286</td>\n",
       "    </tr>\n",
       "    <tr>\n",
       "      <td>1</td>\n",
       "      <td>OH</td>\n",
       "      <td>cuva</td>\n",
       "      <td>Cuyahoga Valley National Park</td>\n",
       "      <td>41.260939</td>\n",
       "      <td>-81.571167</td>\n",
       "    </tr>\n",
       "    <tr>\n",
       "      <td>2</td>\n",
       "      <td>OH</td>\n",
       "      <td>dabe</td>\n",
       "      <td>David Berger National Memorial</td>\n",
       "      <td>41.473699</td>\n",
       "      <td>-81.491338</td>\n",
       "    </tr>\n",
       "    <tr>\n",
       "      <td>3</td>\n",
       "      <td>OH</td>\n",
       "      <td>daav</td>\n",
       "      <td>Dayton Aviation Heritage National Historical Park</td>\n",
       "      <td>39.789445</td>\n",
       "      <td>-84.104420</td>\n",
       "    </tr>\n",
       "    <tr>\n",
       "      <td>4</td>\n",
       "      <td>OH</td>\n",
       "      <td>fati</td>\n",
       "      <td>Fallen Timbers Battlefield and Fort Miamis Nat...</td>\n",
       "      <td>41.544167</td>\n",
       "      <td>-83.697502</td>\n",
       "    </tr>\n",
       "    <tr>\n",
       "      <td>5</td>\n",
       "      <td>OH</td>\n",
       "      <td>fila</td>\n",
       "      <td>First Ladies National Historic Site</td>\n",
       "      <td>40.796899</td>\n",
       "      <td>-81.375799</td>\n",
       "    </tr>\n",
       "    <tr>\n",
       "      <td>6</td>\n",
       "      <td>OH</td>\n",
       "      <td>hocu</td>\n",
       "      <td>Hopewell Culture National Historical Park</td>\n",
       "      <td>39.315944</td>\n",
       "      <td>-83.080495</td>\n",
       "    </tr>\n",
       "    <tr>\n",
       "      <td>7</td>\n",
       "      <td>OH</td>\n",
       "      <td>jaga</td>\n",
       "      <td>James A Garfield National Historic Site</td>\n",
       "      <td>41.664865</td>\n",
       "      <td>-81.350866</td>\n",
       "    </tr>\n",
       "    <tr>\n",
       "      <td>8</td>\n",
       "      <td>OH</td>\n",
       "      <td>avia</td>\n",
       "      <td>National Aviation Heritage Area</td>\n",
       "      <td>39.981823</td>\n",
       "      <td>-84.071136</td>\n",
       "    </tr>\n",
       "    <tr>\n",
       "      <td>9</td>\n",
       "      <td>OH</td>\n",
       "      <td>pevi</td>\n",
       "      <td>Perry's Victory &amp; International Peace Memorial</td>\n",
       "      <td>41.654498</td>\n",
       "      <td>-82.811579</td>\n",
       "    </tr>\n",
       "    <tr>\n",
       "      <td>10</td>\n",
       "      <td>OH</td>\n",
       "      <td>wiho</td>\n",
       "      <td>William Howard Taft National Historic Site</td>\n",
       "      <td>39.119704</td>\n",
       "      <td>-84.507590</td>\n",
       "    </tr>\n",
       "  </tbody>\n",
       "</table>\n",
       "</div>"
      ],
      "text/plain": [
       "   Full Name ParkCode                                                Lat  \\\n",
       "0         OH     chyo   Charles Young Buffalo Soldiers National Monument   \n",
       "1         OH     cuva                      Cuyahoga Valley National Park   \n",
       "2         OH     dabe                     David Berger National Memorial   \n",
       "3         OH     daav  Dayton Aviation Heritage National Historical Park   \n",
       "4         OH     fati  Fallen Timbers Battlefield and Fort Miamis Nat...   \n",
       "5         OH     fila                First Ladies National Historic Site   \n",
       "6         OH     hocu          Hopewell Culture National Historical Park   \n",
       "7         OH     jaga            James A Garfield National Historic Site   \n",
       "8         OH     avia                    National Aviation Heritage Area   \n",
       "9         OH     pevi     Perry's Victory & International Peace Memorial   \n",
       "10        OH     wiho         William Howard Taft National Historic Site   \n",
       "\n",
       "          Lon      State  \n",
       "0   39.708178 -83.893286  \n",
       "1   41.260939 -81.571167  \n",
       "2   41.473699 -81.491338  \n",
       "3   39.789445 -84.104420  \n",
       "4   41.544167 -83.697502  \n",
       "5   40.796899 -81.375799  \n",
       "6   39.315944 -83.080495  \n",
       "7   41.664865 -81.350866  \n",
       "8   39.981823 -84.071136  \n",
       "9   41.654498 -82.811579  \n",
       "10  39.119704 -84.507590  "
      ]
     },
     "execution_count": 57,
     "metadata": {},
     "output_type": "execute_result"
    }
   ],
   "source": [
    "# OH_Results\n",
    "OH_par=[]\n",
    "for i in range(len(OH_Results[0]['data'])):\n",
    "    for j in range(len(OH_Results[0]['data'][i]['addresses'])):\n",
    "        OH_par.append([OH_Results[0]['data'][i]['fullName'], OH_Results[0]['data'][i]['parkCode'],\n",
    "                       OH_Results[0]['data'][i]['addresses'][j]['stateCode']])                              \n",
    "        \n",
    "OH_Par1= pd.DataFrame(OH_par, columns=['Full Name', 'ParkCode', 'State_code'])\n",
    "OH_Par1 = OH_Par1[OH_Par1.State_code != 'NE']\n",
    "OH_Par1 = OH_Par1[OH_Par1.State_code != 'MI']\n",
    "OH_Par1.drop_duplicates(subset=None, keep='first', inplace=True)\n",
    "# OH_Par1\n",
    "latlon=[]\n",
    "for park in OH_Par1['ParkCode']:\n",
    "    url = f\"https://developer.nps.gov/api/v1/parks?parkCode={park}&api_key={Api_key}\"\n",
    "    try:\n",
    "        data = requests.get(url).json()\n",
    "        l_l = convert(data[\"data\"][0][\"latLong\"])\n",
    "        state = data[\"data\"][0]['states']\n",
    "        latlon.append([state, park, data[\"data\"][0][\"fullName\"], l_l[0], l_l[1]])\n",
    "    except:\n",
    "        print(f\"Chech the cde...Skipping {park}\")\n",
    "OH_Par_latlng= pd.DataFrame(latlon, columns = ['Full Name', 'ParkCode', 'Lat', 'Lon', 'State'])\n",
    "OH_Par_latlng['Full Name']='OH'\n",
    "OH_Par_latlng"
   ]
  },
  {
   "cell_type": "markdown",
   "metadata": {},
   "source": [
    "# Merge the data for each state in the MW together."
   ]
  },
  {
   "cell_type": "code",
   "execution_count": 58,
   "metadata": {
    "scrolled": false
   },
   "outputs": [
    {
     "data": {
      "text/html": [
       "<div>\n",
       "<style scoped>\n",
       "    .dataframe tbody tr th:only-of-type {\n",
       "        vertical-align: middle;\n",
       "    }\n",
       "\n",
       "    .dataframe tbody tr th {\n",
       "        vertical-align: top;\n",
       "    }\n",
       "\n",
       "    .dataframe thead th {\n",
       "        text-align: right;\n",
       "    }\n",
       "</style>\n",
       "<table border=\"1\" class=\"dataframe\">\n",
       "  <thead>\n",
       "    <tr style=\"text-align: right;\">\n",
       "      <th></th>\n",
       "      <th>State</th>\n",
       "      <th>ParkCode</th>\n",
       "      <th>Full Name</th>\n",
       "      <th>Lat</th>\n",
       "      <th>Lon</th>\n",
       "    </tr>\n",
       "  </thead>\n",
       "  <tbody>\n",
       "    <tr>\n",
       "      <td>0</td>\n",
       "      <td>ND</td>\n",
       "      <td>fous</td>\n",
       "      <td>Fort Union Trading Post National Historic Site</td>\n",
       "      <td>48.000758</td>\n",
       "      <td>-104.037524</td>\n",
       "    </tr>\n",
       "    <tr>\n",
       "      <td>1</td>\n",
       "      <td>ND</td>\n",
       "      <td>knri</td>\n",
       "      <td>Knife River Indian Villages National Historic ...</td>\n",
       "      <td>47.354022</td>\n",
       "      <td>-101.386053</td>\n",
       "    </tr>\n",
       "    <tr>\n",
       "      <td>2</td>\n",
       "      <td>ND</td>\n",
       "      <td>thro</td>\n",
       "      <td>Theodore Roosevelt National Park</td>\n",
       "      <td>47.177773</td>\n",
       "      <td>-103.430008</td>\n",
       "    </tr>\n",
       "    <tr>\n",
       "      <td>3</td>\n",
       "      <td>SD</td>\n",
       "      <td>badl</td>\n",
       "      <td>Badlands National Park</td>\n",
       "      <td>43.685848</td>\n",
       "      <td>-102.482942</td>\n",
       "    </tr>\n",
       "    <tr>\n",
       "      <td>4</td>\n",
       "      <td>SD</td>\n",
       "      <td>jeca</td>\n",
       "      <td>Jewel Cave National Monument</td>\n",
       "      <td>43.731029</td>\n",
       "      <td>-103.829994</td>\n",
       "    </tr>\n",
       "  </tbody>\n",
       "</table>\n",
       "</div>"
      ],
      "text/plain": [
       "  State ParkCode                                          Full Name  \\\n",
       "0    ND     fous     Fort Union Trading Post National Historic Site   \n",
       "1    ND     knri  Knife River Indian Villages National Historic ...   \n",
       "2    ND     thro                   Theodore Roosevelt National Park   \n",
       "3    SD     badl                             Badlands National Park   \n",
       "4    SD     jeca                       Jewel Cave National Monument   \n",
       "\n",
       "         Lat         Lon  \n",
       "0  48.000758 -104.037524  \n",
       "1  47.354022 -101.386053  \n",
       "2  47.177773 -103.430008  \n",
       "3  43.685848 -102.482942  \n",
       "4  43.731029 -103.829994  "
      ]
     },
     "execution_count": 58,
     "metadata": {},
     "output_type": "execute_result"
    }
   ],
   "source": [
    "a= pd.concat([ND_Par_latlng,SD_Par_latlng], axis=0, ignore_index=False)\n",
    "b= pd.concat([a,NE_Par_latlng], axis=0, ignore_index=False)\n",
    "c= pd.concat([b,KS_Par_latlng], axis=0, ignore_index=False)\n",
    "d= pd.concat([c,MO_Par_latlng], axis=0, ignore_index=False)\n",
    "e= pd.concat([d,IA_Par_latlng], axis=0, ignore_index=False)\n",
    "f= pd.concat([e,MN_Par_latlng], axis=0, ignore_index=False)\n",
    "g= pd.concat([f,WI_Par_latlng], axis=0, ignore_index=False)\n",
    "h= pd.concat([g,MI_Par_latlng], axis=0, ignore_index=False)\n",
    "i= pd.concat([h,IL_Par_latlng], axis=0, ignore_index=False)\n",
    "j= pd.concat([i,IN_Par_latlng], axis=0, ignore_index=False)\n",
    "k= pd.concat([j,OH_Par_latlng], axis=0, ignore_index=False)\n",
    "g= k.drop_duplicates()\n",
    "k1= g.rename(columns={'Full Name':'State', 'Lat':'Full Name', 'Lon': 'Lat', 'State':'Lon'})\n",
    "Parks_MW1= k1\n",
    "Parks_MW= Parks_MW1.reset_index(drop=True)\n",
    "Parks_MW.to_csv(\"./Parks_MW_data_with_lat_lng.csv\", encoding=\"utf-8\", index=True)\n",
    "Parks_MW.head()\n",
    "# k1"
   ]
  },
  {
   "cell_type": "markdown",
   "metadata": {},
   "source": [
    "# Getting the visitors data."
   ]
  },
  {
   "cell_type": "code",
   "execution_count": 59,
   "metadata": {},
   "outputs": [],
   "source": [
    "Parks_NE1= Parks_NE.rename(columns={'Full Name':'State', 'State':'Lon', 'Lat': 'Full Name', 'Lon':'Lat'})"
   ]
  },
  {
   "cell_type": "code",
   "execution_count": 60,
   "metadata": {},
   "outputs": [
    {
     "data": {
      "text/html": [
       "<div>\n",
       "<style scoped>\n",
       "    .dataframe tbody tr th:only-of-type {\n",
       "        vertical-align: middle;\n",
       "    }\n",
       "\n",
       "    .dataframe tbody tr th {\n",
       "        vertical-align: top;\n",
       "    }\n",
       "\n",
       "    .dataframe thead th {\n",
       "        text-align: right;\n",
       "    }\n",
       "</style>\n",
       "<table border=\"1\" class=\"dataframe\">\n",
       "  <thead>\n",
       "    <tr style=\"text-align: right;\">\n",
       "      <th></th>\n",
       "      <th>State</th>\n",
       "      <th>ParkCode</th>\n",
       "      <th>Full Name</th>\n",
       "      <th>Lat</th>\n",
       "      <th>Lon</th>\n",
       "    </tr>\n",
       "  </thead>\n",
       "  <tbody>\n",
       "    <tr>\n",
       "      <td>0</td>\n",
       "      <td>CT</td>\n",
       "      <td>colt</td>\n",
       "      <td>Coltsville National Historical Park</td>\n",
       "      <td>42.467751</td>\n",
       "      <td>-73.203667</td>\n",
       "    </tr>\n",
       "    <tr>\n",
       "      <td>1</td>\n",
       "      <td>CT</td>\n",
       "      <td>neen</td>\n",
       "      <td>New England National Scenic Trail</td>\n",
       "      <td>42.291582</td>\n",
       "      <td>-72.524277</td>\n",
       "    </tr>\n",
       "    <tr>\n",
       "      <td>2</td>\n",
       "      <td>CT</td>\n",
       "      <td>wefa</td>\n",
       "      <td>Weir Farm National Historic Site</td>\n",
       "      <td>41.258863</td>\n",
       "      <td>-73.454525</td>\n",
       "    </tr>\n",
       "    <tr>\n",
       "      <td>0</td>\n",
       "      <td>ME</td>\n",
       "      <td>acad</td>\n",
       "      <td>Acadia National Park</td>\n",
       "      <td>44.307775</td>\n",
       "      <td>-68.300633</td>\n",
       "    </tr>\n",
       "    <tr>\n",
       "      <td>1</td>\n",
       "      <td>ME</td>\n",
       "      <td>kaww</td>\n",
       "      <td>Katahdin Woods and Waters National Monument</td>\n",
       "      <td>45.956757</td>\n",
       "      <td>-68.712288</td>\n",
       "    </tr>\n",
       "  </tbody>\n",
       "</table>\n",
       "</div>"
      ],
      "text/plain": [
       "  State ParkCode                                    Full Name        Lat  \\\n",
       "0    CT     colt          Coltsville National Historical Park  42.467751   \n",
       "1    CT     neen            New England National Scenic Trail  42.291582   \n",
       "2    CT     wefa             Weir Farm National Historic Site  41.258863   \n",
       "0    ME     acad                         Acadia National Park  44.307775   \n",
       "1    ME     kaww  Katahdin Woods and Waters National Monument  45.956757   \n",
       "\n",
       "         Lon  \n",
       "0 -73.203667  \n",
       "1 -72.524277  \n",
       "2 -73.454525  \n",
       "0 -68.300633  \n",
       "1 -68.712288  "
      ]
     },
     "execution_count": 60,
     "metadata": {},
     "output_type": "execute_result"
    }
   ],
   "source": [
    "Parks_NE1.head()"
   ]
  },
  {
   "cell_type": "code",
   "execution_count": 72,
   "metadata": {},
   "outputs": [
    {
     "data": {
      "text/html": [
       "<div>\n",
       "<style scoped>\n",
       "    .dataframe tbody tr th:only-of-type {\n",
       "        vertical-align: middle;\n",
       "    }\n",
       "\n",
       "    .dataframe tbody tr th {\n",
       "        vertical-align: top;\n",
       "    }\n",
       "\n",
       "    .dataframe thead th {\n",
       "        text-align: right;\n",
       "    }\n",
       "</style>\n",
       "<table border=\"1\" class=\"dataframe\">\n",
       "  <thead>\n",
       "    <tr style=\"text-align: right;\">\n",
       "      <th></th>\n",
       "      <th>ParkCode</th>\n",
       "      <th>Month</th>\n",
       "      <th>Visitors</th>\n",
       "    </tr>\n",
       "  </thead>\n",
       "  <tbody>\n",
       "    <tr>\n",
       "      <td>0</td>\n",
       "      <td>wefa</td>\n",
       "      <td>0</td>\n",
       "      <td>930</td>\n",
       "    </tr>\n",
       "    <tr>\n",
       "      <td>1</td>\n",
       "      <td>wefa</td>\n",
       "      <td>1</td>\n",
       "      <td>800</td>\n",
       "    </tr>\n",
       "    <tr>\n",
       "      <td>2</td>\n",
       "      <td>wefa</td>\n",
       "      <td>2</td>\n",
       "      <td>1156</td>\n",
       "    </tr>\n",
       "    <tr>\n",
       "      <td>3</td>\n",
       "      <td>wefa</td>\n",
       "      <td>3</td>\n",
       "      <td>2510</td>\n",
       "    </tr>\n",
       "    <tr>\n",
       "      <td>4</td>\n",
       "      <td>wefa</td>\n",
       "      <td>4</td>\n",
       "      <td>4972</td>\n",
       "    </tr>\n",
       "    <tr>\n",
       "      <td>...</td>\n",
       "      <td>...</td>\n",
       "      <td>...</td>\n",
       "      <td>...</td>\n",
       "    </tr>\n",
       "    <tr>\n",
       "      <td>835</td>\n",
       "      <td>thst</td>\n",
       "      <td>7</td>\n",
       "      <td>539</td>\n",
       "    </tr>\n",
       "    <tr>\n",
       "      <td>836</td>\n",
       "      <td>thst</td>\n",
       "      <td>8</td>\n",
       "      <td>1493</td>\n",
       "    </tr>\n",
       "    <tr>\n",
       "      <td>837</td>\n",
       "      <td>thst</td>\n",
       "      <td>9</td>\n",
       "      <td>1053</td>\n",
       "    </tr>\n",
       "    <tr>\n",
       "      <td>838</td>\n",
       "      <td>thst</td>\n",
       "      <td>10</td>\n",
       "      <td>568</td>\n",
       "    </tr>\n",
       "    <tr>\n",
       "      <td>839</td>\n",
       "      <td>thst</td>\n",
       "      <td>11</td>\n",
       "      <td>528</td>\n",
       "    </tr>\n",
       "  </tbody>\n",
       "</table>\n",
       "<p>840 rows × 3 columns</p>\n",
       "</div>"
      ],
      "text/plain": [
       "    ParkCode  Month  Visitors\n",
       "0       wefa      0       930\n",
       "1       wefa      1       800\n",
       "2       wefa      2      1156\n",
       "3       wefa      3      2510\n",
       "4       wefa      4      4972\n",
       "..       ...    ...       ...\n",
       "835     thst      7       539\n",
       "836     thst      8      1493\n",
       "837     thst      9      1053\n",
       "838     thst     10       568\n",
       "839     thst     11       528\n",
       "\n",
       "[840 rows x 3 columns]"
      ]
     },
     "execution_count": 72,
     "metadata": {},
     "output_type": "execute_result"
    }
   ],
   "source": [
    "Data= []\n",
    "startmonth= 1\n",
    "startyear= 2019\n",
    "endmonth= 12\n",
    "endyear= 2019\n",
    "try:\n",
    "    for code in Parks_NE1['ParkCode']:\n",
    "        URL = f'https://irmaservices.nps.gov/v3/rest/stats/visitation?unitCodes={code}&startMonth={startmonth}&startYear={startyear}&endMonth={endmonth}&endYear={endyear}&format=json'\n",
    "        res_visit1 = requests.get(URL).json()\n",
    "        for month in range(0,len(res_visit1)):\n",
    "            Data.append([code, month, res_visit1[month]['RecreationVisitors']])\n",
    "except:\n",
    "    print('Please check the codes above. Skipping....')\n",
    "    \n",
    "columns= ['ParkCode', 'Month', 'Visitors']\n",
    "Visitors_NE_Data= pd.DataFrame(Data, columns=columns)\n",
    "Visitors_NE_Data"
   ]
  },
  {
   "cell_type": "code",
   "execution_count": 76,
   "metadata": {},
   "outputs": [
    {
     "data": {
      "text/html": [
       "<div>\n",
       "<style scoped>\n",
       "    .dataframe tbody tr th:only-of-type {\n",
       "        vertical-align: middle;\n",
       "    }\n",
       "\n",
       "    .dataframe tbody tr th {\n",
       "        vertical-align: top;\n",
       "    }\n",
       "\n",
       "    .dataframe thead th {\n",
       "        text-align: right;\n",
       "    }\n",
       "</style>\n",
       "<table border=\"1\" class=\"dataframe\">\n",
       "  <thead>\n",
       "    <tr style=\"text-align: right;\">\n",
       "      <th></th>\n",
       "      <th>ParkCode</th>\n",
       "      <th>Month</th>\n",
       "      <th>Visitors</th>\n",
       "    </tr>\n",
       "  </thead>\n",
       "  <tbody>\n",
       "    <tr>\n",
       "      <td>0</td>\n",
       "      <td>wefa</td>\n",
       "      <td>1</td>\n",
       "      <td>930</td>\n",
       "    </tr>\n",
       "    <tr>\n",
       "      <td>1</td>\n",
       "      <td>wefa</td>\n",
       "      <td>2</td>\n",
       "      <td>800</td>\n",
       "    </tr>\n",
       "    <tr>\n",
       "      <td>2</td>\n",
       "      <td>wefa</td>\n",
       "      <td>3</td>\n",
       "      <td>1156</td>\n",
       "    </tr>\n",
       "    <tr>\n",
       "      <td>3</td>\n",
       "      <td>wefa</td>\n",
       "      <td>4</td>\n",
       "      <td>2510</td>\n",
       "    </tr>\n",
       "    <tr>\n",
       "      <td>4</td>\n",
       "      <td>wefa</td>\n",
       "      <td>5</td>\n",
       "      <td>4972</td>\n",
       "    </tr>\n",
       "    <tr>\n",
       "      <td>...</td>\n",
       "      <td>...</td>\n",
       "      <td>...</td>\n",
       "      <td>...</td>\n",
       "    </tr>\n",
       "    <tr>\n",
       "      <td>835</td>\n",
       "      <td>thst</td>\n",
       "      <td>8</td>\n",
       "      <td>539</td>\n",
       "    </tr>\n",
       "    <tr>\n",
       "      <td>836</td>\n",
       "      <td>thst</td>\n",
       "      <td>9</td>\n",
       "      <td>1493</td>\n",
       "    </tr>\n",
       "    <tr>\n",
       "      <td>837</td>\n",
       "      <td>thst</td>\n",
       "      <td>10</td>\n",
       "      <td>1053</td>\n",
       "    </tr>\n",
       "    <tr>\n",
       "      <td>838</td>\n",
       "      <td>thst</td>\n",
       "      <td>11</td>\n",
       "      <td>568</td>\n",
       "    </tr>\n",
       "    <tr>\n",
       "      <td>839</td>\n",
       "      <td>thst</td>\n",
       "      <td>12</td>\n",
       "      <td>528</td>\n",
       "    </tr>\n",
       "  </tbody>\n",
       "</table>\n",
       "<p>840 rows × 3 columns</p>\n",
       "</div>"
      ],
      "text/plain": [
       "    ParkCode  Month  Visitors\n",
       "0       wefa      1       930\n",
       "1       wefa      2       800\n",
       "2       wefa      3      1156\n",
       "3       wefa      4      2510\n",
       "4       wefa      5      4972\n",
       "..       ...    ...       ...\n",
       "835     thst      8       539\n",
       "836     thst      9      1493\n",
       "837     thst     10      1053\n",
       "838     thst     11       568\n",
       "839     thst     12       528\n",
       "\n",
       "[840 rows x 3 columns]"
      ]
     },
     "execution_count": 76,
     "metadata": {},
     "output_type": "execute_result"
    }
   ],
   "source": [
    "# s= pd.DataFrame()\n",
    "# mm= {0:1, 1:2, 2:3, 3:4, 4:5, 5:6, 6:7, 7:8, 8:9, 9:10, 10:11, 11:12}\n",
    "# s['Hello'] = Visitors_NE_Data['Month'].map(mm).fillna(Visitors_NE_Data['Month'])\n",
    "# Visitors_NE_Data['Month']= s['Hello']\n",
    "Visitors_NE_Data"
   ]
  },
  {
   "cell_type": "markdown",
   "metadata": {},
   "source": [
    "# Merging the NE park data with the NE visitors data."
   ]
  },
  {
   "cell_type": "code",
   "execution_count": 77,
   "metadata": {},
   "outputs": [
    {
     "data": {
      "text/html": [
       "<div>\n",
       "<style scoped>\n",
       "    .dataframe tbody tr th:only-of-type {\n",
       "        vertical-align: middle;\n",
       "    }\n",
       "\n",
       "    .dataframe tbody tr th {\n",
       "        vertical-align: top;\n",
       "    }\n",
       "\n",
       "    .dataframe thead th {\n",
       "        text-align: right;\n",
       "    }\n",
       "</style>\n",
       "<table border=\"1\" class=\"dataframe\">\n",
       "  <thead>\n",
       "    <tr style=\"text-align: right;\">\n",
       "      <th></th>\n",
       "      <th>ParkCode</th>\n",
       "      <th>Month</th>\n",
       "      <th>Visitors</th>\n",
       "      <th>StateCode</th>\n",
       "      <th>Full Name</th>\n",
       "      <th>Lat</th>\n",
       "      <th>Lon</th>\n",
       "    </tr>\n",
       "  </thead>\n",
       "  <tbody>\n",
       "    <tr>\n",
       "      <td>0</td>\n",
       "      <td>wefa</td>\n",
       "      <td>1</td>\n",
       "      <td>930</td>\n",
       "      <td>CT</td>\n",
       "      <td>Weir Farm National Historic Site</td>\n",
       "      <td>41.258863</td>\n",
       "      <td>-73.454525</td>\n",
       "    </tr>\n",
       "    <tr>\n",
       "      <td>1</td>\n",
       "      <td>wefa</td>\n",
       "      <td>2</td>\n",
       "      <td>800</td>\n",
       "      <td>CT</td>\n",
       "      <td>Weir Farm National Historic Site</td>\n",
       "      <td>41.258863</td>\n",
       "      <td>-73.454525</td>\n",
       "    </tr>\n",
       "    <tr>\n",
       "      <td>2</td>\n",
       "      <td>wefa</td>\n",
       "      <td>3</td>\n",
       "      <td>1156</td>\n",
       "      <td>CT</td>\n",
       "      <td>Weir Farm National Historic Site</td>\n",
       "      <td>41.258863</td>\n",
       "      <td>-73.454525</td>\n",
       "    </tr>\n",
       "    <tr>\n",
       "      <td>3</td>\n",
       "      <td>wefa</td>\n",
       "      <td>4</td>\n",
       "      <td>2510</td>\n",
       "      <td>CT</td>\n",
       "      <td>Weir Farm National Historic Site</td>\n",
       "      <td>41.258863</td>\n",
       "      <td>-73.454525</td>\n",
       "    </tr>\n",
       "    <tr>\n",
       "      <td>4</td>\n",
       "      <td>wefa</td>\n",
       "      <td>5</td>\n",
       "      <td>4972</td>\n",
       "      <td>CT</td>\n",
       "      <td>Weir Farm National Historic Site</td>\n",
       "      <td>41.258863</td>\n",
       "      <td>-73.454525</td>\n",
       "    </tr>\n",
       "    <tr>\n",
       "      <td>...</td>\n",
       "      <td>...</td>\n",
       "      <td>...</td>\n",
       "      <td>...</td>\n",
       "      <td>...</td>\n",
       "      <td>...</td>\n",
       "      <td>...</td>\n",
       "      <td>...</td>\n",
       "    </tr>\n",
       "    <tr>\n",
       "      <td>835</td>\n",
       "      <td>thst</td>\n",
       "      <td>8</td>\n",
       "      <td>539</td>\n",
       "      <td>MD</td>\n",
       "      <td>Thomas Stone National Historic Site</td>\n",
       "      <td>38.529344</td>\n",
       "      <td>-77.037813</td>\n",
       "    </tr>\n",
       "    <tr>\n",
       "      <td>836</td>\n",
       "      <td>thst</td>\n",
       "      <td>9</td>\n",
       "      <td>1493</td>\n",
       "      <td>MD</td>\n",
       "      <td>Thomas Stone National Historic Site</td>\n",
       "      <td>38.529344</td>\n",
       "      <td>-77.037813</td>\n",
       "    </tr>\n",
       "    <tr>\n",
       "      <td>837</td>\n",
       "      <td>thst</td>\n",
       "      <td>10</td>\n",
       "      <td>1053</td>\n",
       "      <td>MD</td>\n",
       "      <td>Thomas Stone National Historic Site</td>\n",
       "      <td>38.529344</td>\n",
       "      <td>-77.037813</td>\n",
       "    </tr>\n",
       "    <tr>\n",
       "      <td>838</td>\n",
       "      <td>thst</td>\n",
       "      <td>11</td>\n",
       "      <td>568</td>\n",
       "      <td>MD</td>\n",
       "      <td>Thomas Stone National Historic Site</td>\n",
       "      <td>38.529344</td>\n",
       "      <td>-77.037813</td>\n",
       "    </tr>\n",
       "    <tr>\n",
       "      <td>839</td>\n",
       "      <td>thst</td>\n",
       "      <td>12</td>\n",
       "      <td>528</td>\n",
       "      <td>MD</td>\n",
       "      <td>Thomas Stone National Historic Site</td>\n",
       "      <td>38.529344</td>\n",
       "      <td>-77.037813</td>\n",
       "    </tr>\n",
       "  </tbody>\n",
       "</table>\n",
       "<p>840 rows × 7 columns</p>\n",
       "</div>"
      ],
      "text/plain": [
       "    ParkCode  Month  Visitors StateCode                            Full Name  \\\n",
       "0       wefa      1       930        CT     Weir Farm National Historic Site   \n",
       "1       wefa      2       800        CT     Weir Farm National Historic Site   \n",
       "2       wefa      3      1156        CT     Weir Farm National Historic Site   \n",
       "3       wefa      4      2510        CT     Weir Farm National Historic Site   \n",
       "4       wefa      5      4972        CT     Weir Farm National Historic Site   \n",
       "..       ...    ...       ...       ...                                  ...   \n",
       "835     thst      8       539        MD  Thomas Stone National Historic Site   \n",
       "836     thst      9      1493        MD  Thomas Stone National Historic Site   \n",
       "837     thst     10      1053        MD  Thomas Stone National Historic Site   \n",
       "838     thst     11       568        MD  Thomas Stone National Historic Site   \n",
       "839     thst     12       528        MD  Thomas Stone National Historic Site   \n",
       "\n",
       "           Lat        Lon  \n",
       "0    41.258863 -73.454525  \n",
       "1    41.258863 -73.454525  \n",
       "2    41.258863 -73.454525  \n",
       "3    41.258863 -73.454525  \n",
       "4    41.258863 -73.454525  \n",
       "..         ...        ...  \n",
       "835  38.529344 -77.037813  \n",
       "836  38.529344 -77.037813  \n",
       "837  38.529344 -77.037813  \n",
       "838  38.529344 -77.037813  \n",
       "839  38.529344 -77.037813  \n",
       "\n",
       "[840 rows x 7 columns]"
      ]
     },
     "execution_count": 77,
     "metadata": {},
     "output_type": "execute_result"
    }
   ],
   "source": [
    "# MERGE \n",
    "Visitors_NE_Data_df = Visitors_NE_Data.merge(Parks_NE1, on='ParkCode', how='left')\n",
    "Visitors_NE_Data_DF= Visitors_NE_Data_df.rename(columns={'State':'StateCode'})\n",
    "Visitors_NE_Data_DF.to_csv(\"./Parks_NE_full_data.csv\", encoding=\"utf-8\", index=True)\n",
    "Visitors_NE_Data_DF"
   ]
  },
  {
   "cell_type": "markdown",
   "metadata": {},
   "source": [
    "# Merging the MW park data with the MW visitors data."
   ]
  },
  {
   "cell_type": "code",
   "execution_count": 78,
   "metadata": {},
   "outputs": [
    {
     "data": {
      "text/html": [
       "<div>\n",
       "<style scoped>\n",
       "    .dataframe tbody tr th:only-of-type {\n",
       "        vertical-align: middle;\n",
       "    }\n",
       "\n",
       "    .dataframe tbody tr th {\n",
       "        vertical-align: top;\n",
       "    }\n",
       "\n",
       "    .dataframe thead th {\n",
       "        text-align: right;\n",
       "    }\n",
       "</style>\n",
       "<table border=\"1\" class=\"dataframe\">\n",
       "  <thead>\n",
       "    <tr style=\"text-align: right;\">\n",
       "      <th></th>\n",
       "      <th>ParkCode</th>\n",
       "      <th>Month</th>\n",
       "      <th>Visitors</th>\n",
       "    </tr>\n",
       "  </thead>\n",
       "  <tbody>\n",
       "    <tr>\n",
       "      <td>0</td>\n",
       "      <td>fous</td>\n",
       "      <td>0</td>\n",
       "      <td>34</td>\n",
       "    </tr>\n",
       "    <tr>\n",
       "      <td>1</td>\n",
       "      <td>fous</td>\n",
       "      <td>1</td>\n",
       "      <td>34</td>\n",
       "    </tr>\n",
       "    <tr>\n",
       "      <td>2</td>\n",
       "      <td>fous</td>\n",
       "      <td>2</td>\n",
       "      <td>196</td>\n",
       "    </tr>\n",
       "    <tr>\n",
       "      <td>3</td>\n",
       "      <td>fous</td>\n",
       "      <td>3</td>\n",
       "      <td>385</td>\n",
       "    </tr>\n",
       "    <tr>\n",
       "      <td>4</td>\n",
       "      <td>fous</td>\n",
       "      <td>4</td>\n",
       "      <td>2169</td>\n",
       "    </tr>\n",
       "  </tbody>\n",
       "</table>\n",
       "</div>"
      ],
      "text/plain": [
       "  ParkCode  Month  Visitors\n",
       "0     fous      0        34\n",
       "1     fous      1        34\n",
       "2     fous      2       196\n",
       "3     fous      3       385\n",
       "4     fous      4      2169"
      ]
     },
     "execution_count": 78,
     "metadata": {},
     "output_type": "execute_result"
    }
   ],
   "source": [
    "# Getting the visitors data.\n",
    "# Parks_MW\n",
    "Data1= []\n",
    "startmonth= 1\n",
    "startyear= 2019\n",
    "endmonth= 12\n",
    "endyear= 2019\n",
    "try:\n",
    "    for code in Parks_MW['ParkCode']:\n",
    "        URL = f'https://irmaservices.nps.gov/v3/rest/stats/visitation?unitCodes={code}&startMonth={startmonth}&startYear={startyear}&endMonth={endmonth}&endYear={endyear}&format=json'\n",
    "        res_visit2 = requests.get(URL).json()\n",
    "        for month in range(0,len(res_visit2)):\n",
    "            Data1.append([code, month, res_visit2[month]['RecreationVisitors']])\n",
    "except:\n",
    "    print('Please check the codes above. Skipping....')\n",
    "    \n",
    "columns= ['ParkCode', 'Month', 'Visitors']\n",
    "Visitors_MW_Data= pd.DataFrame(Data1, columns=columns)\n",
    "Visitors_MW_Data.head()"
   ]
  },
  {
   "cell_type": "code",
   "execution_count": 80,
   "metadata": {},
   "outputs": [
    {
     "data": {
      "text/html": [
       "<div>\n",
       "<style scoped>\n",
       "    .dataframe tbody tr th:only-of-type {\n",
       "        vertical-align: middle;\n",
       "    }\n",
       "\n",
       "    .dataframe tbody tr th {\n",
       "        vertical-align: top;\n",
       "    }\n",
       "\n",
       "    .dataframe thead th {\n",
       "        text-align: right;\n",
       "    }\n",
       "</style>\n",
       "<table border=\"1\" class=\"dataframe\">\n",
       "  <thead>\n",
       "    <tr style=\"text-align: right;\">\n",
       "      <th></th>\n",
       "      <th>ParkCode</th>\n",
       "      <th>Month</th>\n",
       "      <th>Visitors</th>\n",
       "    </tr>\n",
       "  </thead>\n",
       "  <tbody>\n",
       "    <tr>\n",
       "      <td>0</td>\n",
       "      <td>fous</td>\n",
       "      <td>1</td>\n",
       "      <td>34</td>\n",
       "    </tr>\n",
       "    <tr>\n",
       "      <td>1</td>\n",
       "      <td>fous</td>\n",
       "      <td>2</td>\n",
       "      <td>34</td>\n",
       "    </tr>\n",
       "    <tr>\n",
       "      <td>2</td>\n",
       "      <td>fous</td>\n",
       "      <td>3</td>\n",
       "      <td>196</td>\n",
       "    </tr>\n",
       "    <tr>\n",
       "      <td>3</td>\n",
       "      <td>fous</td>\n",
       "      <td>4</td>\n",
       "      <td>385</td>\n",
       "    </tr>\n",
       "    <tr>\n",
       "      <td>4</td>\n",
       "      <td>fous</td>\n",
       "      <td>5</td>\n",
       "      <td>2169</td>\n",
       "    </tr>\n",
       "    <tr>\n",
       "      <td>...</td>\n",
       "      <td>...</td>\n",
       "      <td>...</td>\n",
       "      <td>...</td>\n",
       "    </tr>\n",
       "    <tr>\n",
       "      <td>583</td>\n",
       "      <td>wiho</td>\n",
       "      <td>8</td>\n",
       "      <td>3726</td>\n",
       "    </tr>\n",
       "    <tr>\n",
       "      <td>584</td>\n",
       "      <td>wiho</td>\n",
       "      <td>9</td>\n",
       "      <td>3205</td>\n",
       "    </tr>\n",
       "    <tr>\n",
       "      <td>585</td>\n",
       "      <td>wiho</td>\n",
       "      <td>10</td>\n",
       "      <td>2897</td>\n",
       "    </tr>\n",
       "    <tr>\n",
       "      <td>586</td>\n",
       "      <td>wiho</td>\n",
       "      <td>11</td>\n",
       "      <td>2018</td>\n",
       "    </tr>\n",
       "    <tr>\n",
       "      <td>587</td>\n",
       "      <td>wiho</td>\n",
       "      <td>12</td>\n",
       "      <td>1973</td>\n",
       "    </tr>\n",
       "  </tbody>\n",
       "</table>\n",
       "<p>588 rows × 3 columns</p>\n",
       "</div>"
      ],
      "text/plain": [
       "    ParkCode  Month  Visitors\n",
       "0       fous      1        34\n",
       "1       fous      2        34\n",
       "2       fous      3       196\n",
       "3       fous      4       385\n",
       "4       fous      5      2169\n",
       "..       ...    ...       ...\n",
       "583     wiho      8      3726\n",
       "584     wiho      9      3205\n",
       "585     wiho     10      2897\n",
       "586     wiho     11      2018\n",
       "587     wiho     12      1973\n",
       "\n",
       "[588 rows x 3 columns]"
      ]
     },
     "execution_count": 80,
     "metadata": {},
     "output_type": "execute_result"
    }
   ],
   "source": [
    "# s= pd.DataFrame()\n",
    "# mm= {0:1, 1:2, 2:3, 3:4, 4:5, 5:6, 6:7, 7:8, 8:9, 9:10, 10:11, 11:12}\n",
    "# s['Hello'] = Visitors_MW_Data['Month'].map(mm).fillna(Visitors_MW_Data['Month'])\n",
    "# Visitors_MW_Data['Month']= s['Hello']\n",
    "Visitors_MW_Data"
   ]
  },
  {
   "cell_type": "code",
   "execution_count": 81,
   "metadata": {},
   "outputs": [
    {
     "data": {
      "text/html": [
       "<div>\n",
       "<style scoped>\n",
       "    .dataframe tbody tr th:only-of-type {\n",
       "        vertical-align: middle;\n",
       "    }\n",
       "\n",
       "    .dataframe tbody tr th {\n",
       "        vertical-align: top;\n",
       "    }\n",
       "\n",
       "    .dataframe thead th {\n",
       "        text-align: right;\n",
       "    }\n",
       "</style>\n",
       "<table border=\"1\" class=\"dataframe\">\n",
       "  <thead>\n",
       "    <tr style=\"text-align: right;\">\n",
       "      <th></th>\n",
       "      <th>ParkCode</th>\n",
       "      <th>Month</th>\n",
       "      <th>Visitors</th>\n",
       "      <th>StateCode</th>\n",
       "      <th>Full Name</th>\n",
       "      <th>Lat</th>\n",
       "      <th>Lon</th>\n",
       "    </tr>\n",
       "  </thead>\n",
       "  <tbody>\n",
       "    <tr>\n",
       "      <td>0</td>\n",
       "      <td>fous</td>\n",
       "      <td>1</td>\n",
       "      <td>34</td>\n",
       "      <td>ND</td>\n",
       "      <td>Fort Union Trading Post National Historic Site</td>\n",
       "      <td>48.000758</td>\n",
       "      <td>-104.037524</td>\n",
       "    </tr>\n",
       "    <tr>\n",
       "      <td>1</td>\n",
       "      <td>fous</td>\n",
       "      <td>2</td>\n",
       "      <td>34</td>\n",
       "      <td>ND</td>\n",
       "      <td>Fort Union Trading Post National Historic Site</td>\n",
       "      <td>48.000758</td>\n",
       "      <td>-104.037524</td>\n",
       "    </tr>\n",
       "    <tr>\n",
       "      <td>2</td>\n",
       "      <td>fous</td>\n",
       "      <td>3</td>\n",
       "      <td>196</td>\n",
       "      <td>ND</td>\n",
       "      <td>Fort Union Trading Post National Historic Site</td>\n",
       "      <td>48.000758</td>\n",
       "      <td>-104.037524</td>\n",
       "    </tr>\n",
       "    <tr>\n",
       "      <td>3</td>\n",
       "      <td>fous</td>\n",
       "      <td>4</td>\n",
       "      <td>385</td>\n",
       "      <td>ND</td>\n",
       "      <td>Fort Union Trading Post National Historic Site</td>\n",
       "      <td>48.000758</td>\n",
       "      <td>-104.037524</td>\n",
       "    </tr>\n",
       "    <tr>\n",
       "      <td>4</td>\n",
       "      <td>fous</td>\n",
       "      <td>5</td>\n",
       "      <td>2169</td>\n",
       "      <td>ND</td>\n",
       "      <td>Fort Union Trading Post National Historic Site</td>\n",
       "      <td>48.000758</td>\n",
       "      <td>-104.037524</td>\n",
       "    </tr>\n",
       "    <tr>\n",
       "      <td>...</td>\n",
       "      <td>...</td>\n",
       "      <td>...</td>\n",
       "      <td>...</td>\n",
       "      <td>...</td>\n",
       "      <td>...</td>\n",
       "      <td>...</td>\n",
       "      <td>...</td>\n",
       "    </tr>\n",
       "    <tr>\n",
       "      <td>583</td>\n",
       "      <td>wiho</td>\n",
       "      <td>8</td>\n",
       "      <td>3726</td>\n",
       "      <td>OH</td>\n",
       "      <td>William Howard Taft National Historic Site</td>\n",
       "      <td>39.119704</td>\n",
       "      <td>-84.507590</td>\n",
       "    </tr>\n",
       "    <tr>\n",
       "      <td>584</td>\n",
       "      <td>wiho</td>\n",
       "      <td>9</td>\n",
       "      <td>3205</td>\n",
       "      <td>OH</td>\n",
       "      <td>William Howard Taft National Historic Site</td>\n",
       "      <td>39.119704</td>\n",
       "      <td>-84.507590</td>\n",
       "    </tr>\n",
       "    <tr>\n",
       "      <td>585</td>\n",
       "      <td>wiho</td>\n",
       "      <td>10</td>\n",
       "      <td>2897</td>\n",
       "      <td>OH</td>\n",
       "      <td>William Howard Taft National Historic Site</td>\n",
       "      <td>39.119704</td>\n",
       "      <td>-84.507590</td>\n",
       "    </tr>\n",
       "    <tr>\n",
       "      <td>586</td>\n",
       "      <td>wiho</td>\n",
       "      <td>11</td>\n",
       "      <td>2018</td>\n",
       "      <td>OH</td>\n",
       "      <td>William Howard Taft National Historic Site</td>\n",
       "      <td>39.119704</td>\n",
       "      <td>-84.507590</td>\n",
       "    </tr>\n",
       "    <tr>\n",
       "      <td>587</td>\n",
       "      <td>wiho</td>\n",
       "      <td>12</td>\n",
       "      <td>1973</td>\n",
       "      <td>OH</td>\n",
       "      <td>William Howard Taft National Historic Site</td>\n",
       "      <td>39.119704</td>\n",
       "      <td>-84.507590</td>\n",
       "    </tr>\n",
       "  </tbody>\n",
       "</table>\n",
       "<p>588 rows × 7 columns</p>\n",
       "</div>"
      ],
      "text/plain": [
       "    ParkCode  Month  Visitors StateCode  \\\n",
       "0       fous      1        34        ND   \n",
       "1       fous      2        34        ND   \n",
       "2       fous      3       196        ND   \n",
       "3       fous      4       385        ND   \n",
       "4       fous      5      2169        ND   \n",
       "..       ...    ...       ...       ...   \n",
       "583     wiho      8      3726        OH   \n",
       "584     wiho      9      3205        OH   \n",
       "585     wiho     10      2897        OH   \n",
       "586     wiho     11      2018        OH   \n",
       "587     wiho     12      1973        OH   \n",
       "\n",
       "                                          Full Name        Lat         Lon  \n",
       "0    Fort Union Trading Post National Historic Site  48.000758 -104.037524  \n",
       "1    Fort Union Trading Post National Historic Site  48.000758 -104.037524  \n",
       "2    Fort Union Trading Post National Historic Site  48.000758 -104.037524  \n",
       "3    Fort Union Trading Post National Historic Site  48.000758 -104.037524  \n",
       "4    Fort Union Trading Post National Historic Site  48.000758 -104.037524  \n",
       "..                                              ...        ...         ...  \n",
       "583      William Howard Taft National Historic Site  39.119704  -84.507590  \n",
       "584      William Howard Taft National Historic Site  39.119704  -84.507590  \n",
       "585      William Howard Taft National Historic Site  39.119704  -84.507590  \n",
       "586      William Howard Taft National Historic Site  39.119704  -84.507590  \n",
       "587      William Howard Taft National Historic Site  39.119704  -84.507590  \n",
       "\n",
       "[588 rows x 7 columns]"
      ]
     },
     "execution_count": 81,
     "metadata": {},
     "output_type": "execute_result"
    }
   ],
   "source": [
    "Visitors_MW_Data_df = Visitors_MW_Data.merge(Parks_MW, on='ParkCode', how='left')\n",
    "Visitors_MW_Data_DF= Visitors_MW_Data_df.rename(columns={'State':'StateCode'})\n",
    "Visitors_MW_Data_df.to_csv(\"./Parks_NW_full_data.csv\", encoding=\"utf-8\", index=True)\n",
    "Visitors_MW_Data_DF"
   ]
  },
  {
   "cell_type": "code",
   "execution_count": null,
   "metadata": {},
   "outputs": [],
   "source": []
  },
  {
   "cell_type": "code",
   "execution_count": 969,
   "metadata": {},
   "outputs": [],
   "source": []
  },
  {
   "cell_type": "code",
   "execution_count": null,
   "metadata": {},
   "outputs": [],
   "source": []
  },
  {
   "cell_type": "markdown",
   "metadata": {},
   "source": [
    "# Census Data:"
   ]
  },
  {
   "cell_type": "code",
   "execution_count": 111,
   "metadata": {},
   "outputs": [
    {
     "data": {
      "text/html": [
       "<div>\n",
       "<style scoped>\n",
       "    .dataframe tbody tr th:only-of-type {\n",
       "        vertical-align: middle;\n",
       "    }\n",
       "\n",
       "    .dataframe tbody tr th {\n",
       "        vertical-align: top;\n",
       "    }\n",
       "\n",
       "    .dataframe thead th {\n",
       "        text-align: right;\n",
       "    }\n",
       "</style>\n",
       "<table border=\"1\" class=\"dataframe\">\n",
       "  <thead>\n",
       "    <tr style=\"text-align: right;\">\n",
       "      <th></th>\n",
       "      <th>Name</th>\n",
       "      <th>Household Income</th>\n",
       "      <th>Population</th>\n",
       "      <th>Median Age</th>\n",
       "      <th>Per Capita Income</th>\n",
       "      <th>Poverty Count</th>\n",
       "      <th>Unemployment Count</th>\n",
       "      <th>State</th>\n",
       "    </tr>\n",
       "  </thead>\n",
       "  <tbody>\n",
       "    <tr>\n",
       "      <td>0</td>\n",
       "      <td>Puerto Rico</td>\n",
       "      <td>19775.0</td>\n",
       "      <td>3468963.0</td>\n",
       "      <td>40.1</td>\n",
       "      <td>12081.0</td>\n",
       "      <td>1543220.0</td>\n",
       "      <td>220597.0</td>\n",
       "      <td>72</td>\n",
       "    </tr>\n",
       "    <tr>\n",
       "      <td>1</td>\n",
       "      <td>Alabama</td>\n",
       "      <td>46472.0</td>\n",
       "      <td>4850771.0</td>\n",
       "      <td>38.7</td>\n",
       "      <td>25746.0</td>\n",
       "      <td>849699.0</td>\n",
       "      <td>165391.0</td>\n",
       "      <td>01</td>\n",
       "    </tr>\n",
       "    <tr>\n",
       "      <td>2</td>\n",
       "      <td>Alaska</td>\n",
       "      <td>76114.0</td>\n",
       "      <td>738565.0</td>\n",
       "      <td>33.9</td>\n",
       "      <td>35065.0</td>\n",
       "      <td>73380.0</td>\n",
       "      <td>29548.0</td>\n",
       "      <td>02</td>\n",
       "    </tr>\n",
       "    <tr>\n",
       "      <td>3</td>\n",
       "      <td>Arizona</td>\n",
       "      <td>53510.0</td>\n",
       "      <td>6809946.0</td>\n",
       "      <td>37.2</td>\n",
       "      <td>27964.0</td>\n",
       "      <td>1128046.0</td>\n",
       "      <td>225911.0</td>\n",
       "      <td>04</td>\n",
       "    </tr>\n",
       "    <tr>\n",
       "      <td>4</td>\n",
       "      <td>Arkansas</td>\n",
       "      <td>43813.0</td>\n",
       "      <td>2977944.0</td>\n",
       "      <td>37.9</td>\n",
       "      <td>24426.0</td>\n",
       "      <td>524211.0</td>\n",
       "      <td>85128.0</td>\n",
       "      <td>05</td>\n",
       "    </tr>\n",
       "  </tbody>\n",
       "</table>\n",
       "</div>"
      ],
      "text/plain": [
       "          Name  Household Income  Population  Median Age  Per Capita Income  \\\n",
       "0  Puerto Rico           19775.0   3468963.0        40.1            12081.0   \n",
       "1      Alabama           46472.0   4850771.0        38.7            25746.0   \n",
       "2       Alaska           76114.0    738565.0        33.9            35065.0   \n",
       "3      Arizona           53510.0   6809946.0        37.2            27964.0   \n",
       "4     Arkansas           43813.0   2977944.0        37.9            24426.0   \n",
       "\n",
       "   Poverty Count  Unemployment Count State  \n",
       "0      1543220.0            220597.0    72  \n",
       "1       849699.0            165391.0    01  \n",
       "2        73380.0             29548.0    02  \n",
       "3      1128046.0            225911.0    04  \n",
       "4       524211.0             85128.0    05  "
      ]
     },
     "execution_count": 111,
     "metadata": {},
     "output_type": "execute_result"
    }
   ],
   "source": [
    "c= Census(census_api_key)\n",
    "census_data = c.acs5.get((\"NAME\", \"B19013_001E\", \"B01003_001E\", \"B01002_001E\",\n",
    "                          \"B19301_001E\",\n",
    "                          \"B17001_002E\",\n",
    "                          \"B23025_005E\"), {'for': 'state:*'})\n",
    "\n",
    "#Convert to DataFrame\n",
    "census_data_df = pd.DataFrame(census_data)\n",
    "\n",
    "# Column Reordering\n",
    "census_data_df = census_data_df.rename(columns={\"B01003_001E\": \"Population\",\n",
    "                                      \"B01002_001E\": \"Median Age\",\n",
    "                                      \"B19013_001E\": \"Household Income\",\n",
    "                                      \"B19301_001E\": \"Per Capita Income\",\n",
    "                                      \"B17001_002E\": \"Poverty Count\",\n",
    "                                      \"B23025_005E\": \"Unemployment Count\",\n",
    "                                      \"NAME\": \"Name\", \"state\": \"State\"})\n",
    "\n",
    "\n",
    "\n",
    "census_data_df.to_csv(\".Census_data_whole_US.csv\", encoding=\"utf-8\", index=False)\n",
    "census_data_df.head()"
   ]
  },
  {
   "cell_type": "code",
   "execution_count": 83,
   "metadata": {},
   "outputs": [
    {
     "data": {
      "text/html": [
       "<div>\n",
       "<style scoped>\n",
       "    .dataframe tbody tr th:only-of-type {\n",
       "        vertical-align: middle;\n",
       "    }\n",
       "\n",
       "    .dataframe tbody tr th {\n",
       "        vertical-align: top;\n",
       "    }\n",
       "\n",
       "    .dataframe thead th {\n",
       "        text-align: right;\n",
       "    }\n",
       "</style>\n",
       "<table border=\"1\" class=\"dataframe\">\n",
       "  <thead>\n",
       "    <tr style=\"text-align: right;\">\n",
       "      <th></th>\n",
       "      <th>Name</th>\n",
       "      <th>Household Income</th>\n",
       "      <th>Population</th>\n",
       "      <th>Median Age</th>\n",
       "      <th>Per Capita Income</th>\n",
       "      <th>Poverty Count</th>\n",
       "      <th>Unemployment Count</th>\n",
       "      <th>State</th>\n",
       "    </tr>\n",
       "  </thead>\n",
       "  <tbody>\n",
       "    <tr>\n",
       "      <td>1</td>\n",
       "      <td>Alabama</td>\n",
       "      <td>46472.0</td>\n",
       "      <td>4850771.0</td>\n",
       "      <td>38.7</td>\n",
       "      <td>25746.0</td>\n",
       "      <td>849699.0</td>\n",
       "      <td>165391.0</td>\n",
       "      <td>01</td>\n",
       "    </tr>\n",
       "    <tr>\n",
       "      <td>2</td>\n",
       "      <td>Alaska</td>\n",
       "      <td>76114.0</td>\n",
       "      <td>738565.0</td>\n",
       "      <td>33.9</td>\n",
       "      <td>35065.0</td>\n",
       "      <td>73380.0</td>\n",
       "      <td>29548.0</td>\n",
       "      <td>02</td>\n",
       "    </tr>\n",
       "    <tr>\n",
       "      <td>3</td>\n",
       "      <td>Arizona</td>\n",
       "      <td>53510.0</td>\n",
       "      <td>6809946.0</td>\n",
       "      <td>37.2</td>\n",
       "      <td>27964.0</td>\n",
       "      <td>1128046.0</td>\n",
       "      <td>225911.0</td>\n",
       "      <td>04</td>\n",
       "    </tr>\n",
       "    <tr>\n",
       "      <td>4</td>\n",
       "      <td>Arkansas</td>\n",
       "      <td>43813.0</td>\n",
       "      <td>2977944.0</td>\n",
       "      <td>37.9</td>\n",
       "      <td>24426.0</td>\n",
       "      <td>524211.0</td>\n",
       "      <td>85128.0</td>\n",
       "      <td>05</td>\n",
       "    </tr>\n",
       "    <tr>\n",
       "      <td>5</td>\n",
       "      <td>California</td>\n",
       "      <td>67169.0</td>\n",
       "      <td>38982847.0</td>\n",
       "      <td>36.1</td>\n",
       "      <td>33128.0</td>\n",
       "      <td>5773408.0</td>\n",
       "      <td>1491146.0</td>\n",
       "      <td>06</td>\n",
       "    </tr>\n",
       "  </tbody>\n",
       "</table>\n",
       "</div>"
      ],
      "text/plain": [
       "         Name  Household Income  Population  Median Age  Per Capita Income  \\\n",
       "1     Alabama           46472.0   4850771.0        38.7            25746.0   \n",
       "2      Alaska           76114.0    738565.0        33.9            35065.0   \n",
       "3     Arizona           53510.0   6809946.0        37.2            27964.0   \n",
       "4    Arkansas           43813.0   2977944.0        37.9            24426.0   \n",
       "5  California           67169.0  38982847.0        36.1            33128.0   \n",
       "\n",
       "   Poverty Count  Unemployment Count State  \n",
       "1       849699.0            165391.0    01  \n",
       "2        73380.0             29548.0    02  \n",
       "3      1128046.0            225911.0    04  \n",
       "4       524211.0             85128.0    05  \n",
       "5      5773408.0           1491146.0    06  "
      ]
     },
     "execution_count": 83,
     "metadata": {},
     "output_type": "execute_result"
    }
   ],
   "source": [
    "census_cust_data= census_data_df\n",
    "census_cust_df= census_cust_data.sort_values(['Name'], ascending = (True))\n",
    "census_cust_df.head()"
   ]
  },
  {
   "cell_type": "code",
   "execution_count": 84,
   "metadata": {},
   "outputs": [],
   "source": [
    "us_state_abbrev = {\n",
    "'Alabama': 'AL', 'Alaska': 'AK', 'Arizona': 'AZ', 'Arkansas': 'AR', 'California': 'CA', 'Colorado': 'CO',\n",
    "'Connecticut': 'CT', 'Delaware': 'DE', 'Florida': 'FL', 'Georgia': 'GA', 'Hawaii': 'HI', 'Idaho': 'ID',\n",
    "'Illinois': 'IL', 'Indiana': 'IN', 'Iowa': 'IA', 'Kansas': 'KS', 'Kentucky': 'KY', 'Louisiana': 'LA',\n",
    "'Maine': 'ME', 'Maryland': 'MD', 'Massachusetts': 'MA', 'Michigan': 'MI', 'Minnesota': 'MN', 'Mississippi': 'MS',\n",
    "'Missouri': 'MO', 'Montana': 'MT', 'Nebraska': 'NE', 'Nevada': 'NV', 'New Hampshire': 'NH', 'New Jersey': 'NJ',\n",
    "'New Mexico': 'NM', 'New York': 'NY', 'North Carolina': 'NC', 'North Dakota': 'ND', 'Ohio': 'OH', 'Oklahoma': 'OK',\n",
    "'Oregon': 'OR', 'Pennsylvania': 'PA', 'Rhode Island': 'RI', 'South Carolina': 'SC', 'South Dakota': 'SD',\n",
    "'Tennessee': 'TN', 'Texas': 'TX', 'Utah': 'UT', 'Vermont': 'VT', 'Virginia': 'VA', 'Washington': 'WA',\n",
    "'West Virginia': 'WV', 'Wisconsin': 'WI', 'Wyoming': 'WY'}"
   ]
  },
  {
   "cell_type": "markdown",
   "metadata": {},
   "source": [
    "# - Centroids:"
   ]
  },
  {
   "cell_type": "code",
   "execution_count": 85,
   "metadata": {
    "scrolled": false
   },
   "outputs": [
    {
     "data": {
      "text/html": [
       "<div>\n",
       "<style scoped>\n",
       "    .dataframe tbody tr th:only-of-type {\n",
       "        vertical-align: middle;\n",
       "    }\n",
       "\n",
       "    .dataframe tbody tr th {\n",
       "        vertical-align: top;\n",
       "    }\n",
       "\n",
       "    .dataframe thead th {\n",
       "        text-align: right;\n",
       "    }\n",
       "</style>\n",
       "<table border=\"1\" class=\"dataframe\">\n",
       "  <thead>\n",
       "    <tr style=\"text-align: right;\">\n",
       "      <th></th>\n",
       "      <th>Name</th>\n",
       "      <th>Latitude</th>\n",
       "      <th>Longitude</th>\n",
       "    </tr>\n",
       "  </thead>\n",
       "  <tbody>\n",
       "    <tr>\n",
       "      <td>0</td>\n",
       "      <td>Alabama</td>\n",
       "      <td>32.7794</td>\n",
       "      <td>-86.8287</td>\n",
       "    </tr>\n",
       "    <tr>\n",
       "      <td>1</td>\n",
       "      <td>Alaska</td>\n",
       "      <td>64.0685</td>\n",
       "      <td>-152.2782</td>\n",
       "    </tr>\n",
       "    <tr>\n",
       "      <td>2</td>\n",
       "      <td>Arizona</td>\n",
       "      <td>34.2744</td>\n",
       "      <td>-111.6602</td>\n",
       "    </tr>\n",
       "    <tr>\n",
       "      <td>3</td>\n",
       "      <td>Arkansas</td>\n",
       "      <td>34.8938</td>\n",
       "      <td>-92.4426</td>\n",
       "    </tr>\n",
       "    <tr>\n",
       "      <td>4</td>\n",
       "      <td>California</td>\n",
       "      <td>37.1841</td>\n",
       "      <td>-119.4696</td>\n",
       "    </tr>\n",
       "  </tbody>\n",
       "</table>\n",
       "</div>"
      ],
      "text/plain": [
       "         Name  Latitude  Longitude\n",
       "0     Alabama   32.7794   -86.8287\n",
       "1      Alaska   64.0685  -152.2782\n",
       "2     Arizona   34.2744  -111.6602\n",
       "3    Arkansas   34.8938   -92.4426\n",
       "4  California   37.1841  -119.4696"
      ]
     },
     "execution_count": 85,
     "metadata": {},
     "output_type": "execute_result"
    }
   ],
   "source": [
    "# Read in the csv containing state centroid coordinates\n",
    "State_centroids = pd.read_csv(\"./state_centroids.csv\")\n",
    "State_centroids= State_centroids.sort_values(['State'], ascending = (True))\n",
    "# Centoid_data= State_centroids\n",
    "# centroid_data.rename(columns={'Population':'Pop'})\n",
    "# centroid_data\n",
    "State_centroids_df= State_centroids.rename(columns={'State':'Name'})\n",
    "State_centroids_df.head()"
   ]
  },
  {
   "cell_type": "code",
   "execution_count": 766,
   "metadata": {},
   "outputs": [],
   "source": [
    "# census_data = pd.merge(census_data_df, census_data_df, how=\"left\", left_on=\"Name\")\n",
    "# # census_data= census_data.drop('Household Income_x', 1)\n",
    "# # census_data= census_data.drop('Poverty Count_y', 1)\n",
    "# # census_cust_data1= census_cust_data1.drop('Per Capita Income', 1)\n",
    "# # census_cust_data1= census_cust_data1.drop('Poverty Count', 1)\n",
    "# # census_cust_data1= census_cust_data1.drop('Unemployment Count', 1)\n",
    "# # census_cust_data1= census_cust_data1.drop('State', 1)\n",
    "# # census_data.head()"
   ]
  },
  {
   "cell_type": "code",
   "execution_count": 86,
   "metadata": {},
   "outputs": [
    {
     "data": {
      "text/html": [
       "<div>\n",
       "<style scoped>\n",
       "    .dataframe tbody tr th:only-of-type {\n",
       "        vertical-align: middle;\n",
       "    }\n",
       "\n",
       "    .dataframe tbody tr th {\n",
       "        vertical-align: top;\n",
       "    }\n",
       "\n",
       "    .dataframe thead th {\n",
       "        text-align: right;\n",
       "    }\n",
       "</style>\n",
       "<table border=\"1\" class=\"dataframe\">\n",
       "  <thead>\n",
       "    <tr style=\"text-align: right;\">\n",
       "      <th></th>\n",
       "      <th>Name</th>\n",
       "      <th>Latitude</th>\n",
       "      <th>Longitude</th>\n",
       "      <th>Household Income</th>\n",
       "      <th>Population</th>\n",
       "      <th>Median Age</th>\n",
       "      <th>Per Capita Income</th>\n",
       "      <th>Poverty Count</th>\n",
       "      <th>Unemployment Count</th>\n",
       "      <th>State</th>\n",
       "    </tr>\n",
       "  </thead>\n",
       "  <tbody>\n",
       "    <tr>\n",
       "      <td>0</td>\n",
       "      <td>Alabama</td>\n",
       "      <td>32.7794</td>\n",
       "      <td>-86.8287</td>\n",
       "      <td>46472.0</td>\n",
       "      <td>4850771.0</td>\n",
       "      <td>38.7</td>\n",
       "      <td>25746.0</td>\n",
       "      <td>849699.0</td>\n",
       "      <td>165391.0</td>\n",
       "      <td>01</td>\n",
       "    </tr>\n",
       "    <tr>\n",
       "      <td>1</td>\n",
       "      <td>Alaska</td>\n",
       "      <td>64.0685</td>\n",
       "      <td>-152.2782</td>\n",
       "      <td>76114.0</td>\n",
       "      <td>738565.0</td>\n",
       "      <td>33.9</td>\n",
       "      <td>35065.0</td>\n",
       "      <td>73380.0</td>\n",
       "      <td>29548.0</td>\n",
       "      <td>02</td>\n",
       "    </tr>\n",
       "    <tr>\n",
       "      <td>2</td>\n",
       "      <td>Arizona</td>\n",
       "      <td>34.2744</td>\n",
       "      <td>-111.6602</td>\n",
       "      <td>53510.0</td>\n",
       "      <td>6809946.0</td>\n",
       "      <td>37.2</td>\n",
       "      <td>27964.0</td>\n",
       "      <td>1128046.0</td>\n",
       "      <td>225911.0</td>\n",
       "      <td>04</td>\n",
       "    </tr>\n",
       "    <tr>\n",
       "      <td>3</td>\n",
       "      <td>Arkansas</td>\n",
       "      <td>34.8938</td>\n",
       "      <td>-92.4426</td>\n",
       "      <td>43813.0</td>\n",
       "      <td>2977944.0</td>\n",
       "      <td>37.9</td>\n",
       "      <td>24426.0</td>\n",
       "      <td>524211.0</td>\n",
       "      <td>85128.0</td>\n",
       "      <td>05</td>\n",
       "    </tr>\n",
       "    <tr>\n",
       "      <td>4</td>\n",
       "      <td>California</td>\n",
       "      <td>37.1841</td>\n",
       "      <td>-119.4696</td>\n",
       "      <td>67169.0</td>\n",
       "      <td>38982847.0</td>\n",
       "      <td>36.1</td>\n",
       "      <td>33128.0</td>\n",
       "      <td>5773408.0</td>\n",
       "      <td>1491146.0</td>\n",
       "      <td>06</td>\n",
       "    </tr>\n",
       "  </tbody>\n",
       "</table>\n",
       "</div>"
      ],
      "text/plain": [
       "         Name  Latitude  Longitude  Household Income  Population  Median Age  \\\n",
       "0     Alabama   32.7794   -86.8287           46472.0   4850771.0        38.7   \n",
       "1      Alaska   64.0685  -152.2782           76114.0    738565.0        33.9   \n",
       "2     Arizona   34.2744  -111.6602           53510.0   6809946.0        37.2   \n",
       "3    Arkansas   34.8938   -92.4426           43813.0   2977944.0        37.9   \n",
       "4  California   37.1841  -119.4696           67169.0  38982847.0        36.1   \n",
       "\n",
       "   Per Capita Income  Poverty Count  Unemployment Count State  \n",
       "0            25746.0       849699.0            165391.0    01  \n",
       "1            35065.0        73380.0             29548.0    02  \n",
       "2            27964.0      1128046.0            225911.0    04  \n",
       "3            24426.0       524211.0             85128.0    05  \n",
       "4            33128.0      5773408.0           1491146.0    06  "
      ]
     },
     "execution_count": 86,
     "metadata": {},
     "output_type": "execute_result"
    }
   ],
   "source": [
    "new = pd.merge(State_centroids_df, census_cust_df, how=\"left\", on=\"Name\")\n",
    "new_df= new\n",
    "new_df.head()"
   ]
  },
  {
   "cell_type": "code",
   "execution_count": 87,
   "metadata": {},
   "outputs": [],
   "source": [
    "result= pd.DataFrame()"
   ]
  },
  {
   "cell_type": "code",
   "execution_count": 88,
   "metadata": {},
   "outputs": [],
   "source": [
    "result= new_df[['Name', 'Latitude', 'Longitude', 'Population']].copy()"
   ]
  },
  {
   "cell_type": "code",
   "execution_count": 89,
   "metadata": {
    "scrolled": true
   },
   "outputs": [
    {
     "data": {
      "text/html": [
       "<div>\n",
       "<style scoped>\n",
       "    .dataframe tbody tr th:only-of-type {\n",
       "        vertical-align: middle;\n",
       "    }\n",
       "\n",
       "    .dataframe tbody tr th {\n",
       "        vertical-align: top;\n",
       "    }\n",
       "\n",
       "    .dataframe thead th {\n",
       "        text-align: right;\n",
       "    }\n",
       "</style>\n",
       "<table border=\"1\" class=\"dataframe\">\n",
       "  <thead>\n",
       "    <tr style=\"text-align: right;\">\n",
       "      <th></th>\n",
       "      <th>Name</th>\n",
       "      <th>Latitude</th>\n",
       "      <th>Longitude</th>\n",
       "      <th>Population</th>\n",
       "    </tr>\n",
       "  </thead>\n",
       "  <tbody>\n",
       "    <tr>\n",
       "      <td>0</td>\n",
       "      <td>Alabama</td>\n",
       "      <td>32.7794</td>\n",
       "      <td>-86.8287</td>\n",
       "      <td>4850771.0</td>\n",
       "    </tr>\n",
       "    <tr>\n",
       "      <td>1</td>\n",
       "      <td>Alaska</td>\n",
       "      <td>64.0685</td>\n",
       "      <td>-152.2782</td>\n",
       "      <td>738565.0</td>\n",
       "    </tr>\n",
       "    <tr>\n",
       "      <td>2</td>\n",
       "      <td>Arizona</td>\n",
       "      <td>34.2744</td>\n",
       "      <td>-111.6602</td>\n",
       "      <td>6809946.0</td>\n",
       "    </tr>\n",
       "    <tr>\n",
       "      <td>3</td>\n",
       "      <td>Arkansas</td>\n",
       "      <td>34.8938</td>\n",
       "      <td>-92.4426</td>\n",
       "      <td>2977944.0</td>\n",
       "    </tr>\n",
       "    <tr>\n",
       "      <td>4</td>\n",
       "      <td>California</td>\n",
       "      <td>37.1841</td>\n",
       "      <td>-119.4696</td>\n",
       "      <td>38982847.0</td>\n",
       "    </tr>\n",
       "  </tbody>\n",
       "</table>\n",
       "</div>"
      ],
      "text/plain": [
       "         Name  Latitude  Longitude  Population\n",
       "0     Alabama   32.7794   -86.8287   4850771.0\n",
       "1      Alaska   64.0685  -152.2782    738565.0\n",
       "2     Arizona   34.2744  -111.6602   6809946.0\n",
       "3    Arkansas   34.8938   -92.4426   2977944.0\n",
       "4  California   37.1841  -119.4696  38982847.0"
      ]
     },
     "execution_count": 89,
     "metadata": {},
     "output_type": "execute_result"
    }
   ],
   "source": [
    "Combined_cens_centr= result\n",
    "Combined_cens_centr.head()"
   ]
  },
  {
   "cell_type": "code",
   "execution_count": 90,
   "metadata": {},
   "outputs": [
    {
     "data": {
      "text/html": [
       "<div>\n",
       "<style scoped>\n",
       "    .dataframe tbody tr th:only-of-type {\n",
       "        vertical-align: middle;\n",
       "    }\n",
       "\n",
       "    .dataframe tbody tr th {\n",
       "        vertical-align: top;\n",
       "    }\n",
       "\n",
       "    .dataframe thead th {\n",
       "        text-align: right;\n",
       "    }\n",
       "</style>\n",
       "<table border=\"1\" class=\"dataframe\">\n",
       "  <thead>\n",
       "    <tr style=\"text-align: right;\">\n",
       "      <th></th>\n",
       "      <th>Name</th>\n",
       "      <th>Latitude</th>\n",
       "      <th>Longitude</th>\n",
       "      <th>Population</th>\n",
       "      <th>StateCode</th>\n",
       "    </tr>\n",
       "  </thead>\n",
       "  <tbody>\n",
       "    <tr>\n",
       "      <td>0</td>\n",
       "      <td>Alabama</td>\n",
       "      <td>32.7794</td>\n",
       "      <td>-86.8287</td>\n",
       "      <td>4850771.0</td>\n",
       "      <td>AL</td>\n",
       "    </tr>\n",
       "    <tr>\n",
       "      <td>1</td>\n",
       "      <td>Alaska</td>\n",
       "      <td>64.0685</td>\n",
       "      <td>-152.2782</td>\n",
       "      <td>738565.0</td>\n",
       "      <td>AK</td>\n",
       "    </tr>\n",
       "    <tr>\n",
       "      <td>2</td>\n",
       "      <td>Arizona</td>\n",
       "      <td>34.2744</td>\n",
       "      <td>-111.6602</td>\n",
       "      <td>6809946.0</td>\n",
       "      <td>AZ</td>\n",
       "    </tr>\n",
       "    <tr>\n",
       "      <td>3</td>\n",
       "      <td>Arkansas</td>\n",
       "      <td>34.8938</td>\n",
       "      <td>-92.4426</td>\n",
       "      <td>2977944.0</td>\n",
       "      <td>AR</td>\n",
       "    </tr>\n",
       "    <tr>\n",
       "      <td>4</td>\n",
       "      <td>California</td>\n",
       "      <td>37.1841</td>\n",
       "      <td>-119.4696</td>\n",
       "      <td>38982847.0</td>\n",
       "      <td>CA</td>\n",
       "    </tr>\n",
       "  </tbody>\n",
       "</table>\n",
       "</div>"
      ],
      "text/plain": [
       "         Name  Latitude  Longitude  Population StateCode\n",
       "0     Alabama   32.7794   -86.8287   4850771.0        AL\n",
       "1      Alaska   64.0685  -152.2782    738565.0        AK\n",
       "2     Arizona   34.2744  -111.6602   6809946.0        AZ\n",
       "3    Arkansas   34.8938   -92.4426   2977944.0        AR\n",
       "4  California   37.1841  -119.4696  38982847.0        CA"
      ]
     },
     "execution_count": 90,
     "metadata": {},
     "output_type": "execute_result"
    }
   ],
   "source": [
    "Combined_cens_centr['StateCode'] = Combined_cens_centr['Name'].map(us_state_abbrev).fillna(Combined_cens_centr['Name'])\n",
    "Combined_cens_centr.head()"
   ]
  },
  {
   "cell_type": "code",
   "execution_count": null,
   "metadata": {},
   "outputs": [],
   "source": []
  },
  {
   "cell_type": "markdown",
   "metadata": {
    "scrolled": true
   },
   "source": [
    "# Merge Visitors of MW  with Combined Census_Centroids"
   ]
  },
  {
   "cell_type": "code",
   "execution_count": 91,
   "metadata": {
    "scrolled": true
   },
   "outputs": [
    {
     "data": {
      "text/html": [
       "<div>\n",
       "<style scoped>\n",
       "    .dataframe tbody tr th:only-of-type {\n",
       "        vertical-align: middle;\n",
       "    }\n",
       "\n",
       "    .dataframe tbody tr th {\n",
       "        vertical-align: top;\n",
       "    }\n",
       "\n",
       "    .dataframe thead th {\n",
       "        text-align: right;\n",
       "    }\n",
       "</style>\n",
       "<table border=\"1\" class=\"dataframe\">\n",
       "  <thead>\n",
       "    <tr style=\"text-align: right;\">\n",
       "      <th></th>\n",
       "      <th>ParkCode</th>\n",
       "      <th>Month</th>\n",
       "      <th>Visitors</th>\n",
       "      <th>StateCode</th>\n",
       "      <th>Full Name</th>\n",
       "      <th>Lat</th>\n",
       "      <th>Lon</th>\n",
       "      <th>Name</th>\n",
       "      <th>Latitude</th>\n",
       "      <th>Longitude</th>\n",
       "      <th>Population</th>\n",
       "    </tr>\n",
       "  </thead>\n",
       "  <tbody>\n",
       "    <tr>\n",
       "      <td>0</td>\n",
       "      <td>fous</td>\n",
       "      <td>1</td>\n",
       "      <td>34</td>\n",
       "      <td>ND</td>\n",
       "      <td>Fort Union Trading Post National Historic Site</td>\n",
       "      <td>48.000758</td>\n",
       "      <td>-104.037524</td>\n",
       "      <td>North Dakota</td>\n",
       "      <td>47.4501</td>\n",
       "      <td>-100.4659</td>\n",
       "      <td>745475.0</td>\n",
       "    </tr>\n",
       "    <tr>\n",
       "      <td>1</td>\n",
       "      <td>fous</td>\n",
       "      <td>2</td>\n",
       "      <td>34</td>\n",
       "      <td>ND</td>\n",
       "      <td>Fort Union Trading Post National Historic Site</td>\n",
       "      <td>48.000758</td>\n",
       "      <td>-104.037524</td>\n",
       "      <td>North Dakota</td>\n",
       "      <td>47.4501</td>\n",
       "      <td>-100.4659</td>\n",
       "      <td>745475.0</td>\n",
       "    </tr>\n",
       "    <tr>\n",
       "      <td>2</td>\n",
       "      <td>fous</td>\n",
       "      <td>3</td>\n",
       "      <td>196</td>\n",
       "      <td>ND</td>\n",
       "      <td>Fort Union Trading Post National Historic Site</td>\n",
       "      <td>48.000758</td>\n",
       "      <td>-104.037524</td>\n",
       "      <td>North Dakota</td>\n",
       "      <td>47.4501</td>\n",
       "      <td>-100.4659</td>\n",
       "      <td>745475.0</td>\n",
       "    </tr>\n",
       "    <tr>\n",
       "      <td>3</td>\n",
       "      <td>fous</td>\n",
       "      <td>4</td>\n",
       "      <td>385</td>\n",
       "      <td>ND</td>\n",
       "      <td>Fort Union Trading Post National Historic Site</td>\n",
       "      <td>48.000758</td>\n",
       "      <td>-104.037524</td>\n",
       "      <td>North Dakota</td>\n",
       "      <td>47.4501</td>\n",
       "      <td>-100.4659</td>\n",
       "      <td>745475.0</td>\n",
       "    </tr>\n",
       "    <tr>\n",
       "      <td>4</td>\n",
       "      <td>fous</td>\n",
       "      <td>5</td>\n",
       "      <td>2169</td>\n",
       "      <td>ND</td>\n",
       "      <td>Fort Union Trading Post National Historic Site</td>\n",
       "      <td>48.000758</td>\n",
       "      <td>-104.037524</td>\n",
       "      <td>North Dakota</td>\n",
       "      <td>47.4501</td>\n",
       "      <td>-100.4659</td>\n",
       "      <td>745475.0</td>\n",
       "    </tr>\n",
       "  </tbody>\n",
       "</table>\n",
       "</div>"
      ],
      "text/plain": [
       "  ParkCode  Month  Visitors StateCode  \\\n",
       "0     fous      1        34        ND   \n",
       "1     fous      2        34        ND   \n",
       "2     fous      3       196        ND   \n",
       "3     fous      4       385        ND   \n",
       "4     fous      5      2169        ND   \n",
       "\n",
       "                                        Full Name        Lat         Lon  \\\n",
       "0  Fort Union Trading Post National Historic Site  48.000758 -104.037524   \n",
       "1  Fort Union Trading Post National Historic Site  48.000758 -104.037524   \n",
       "2  Fort Union Trading Post National Historic Site  48.000758 -104.037524   \n",
       "3  Fort Union Trading Post National Historic Site  48.000758 -104.037524   \n",
       "4  Fort Union Trading Post National Historic Site  48.000758 -104.037524   \n",
       "\n",
       "           Name  Latitude  Longitude  Population  \n",
       "0  North Dakota   47.4501  -100.4659    745475.0  \n",
       "1  North Dakota   47.4501  -100.4659    745475.0  \n",
       "2  North Dakota   47.4501  -100.4659    745475.0  \n",
       "3  North Dakota   47.4501  -100.4659    745475.0  \n",
       "4  North Dakota   47.4501  -100.4659    745475.0  "
      ]
     },
     "execution_count": 91,
     "metadata": {},
     "output_type": "execute_result"
    }
   ],
   "source": [
    "Visitor_MW_Pop= Visitors_MW_Data_DF.merge(Combined_cens_centr, on='StateCode', how='left')\n",
    "Visitor_MW_Pop.head()"
   ]
  },
  {
   "cell_type": "markdown",
   "metadata": {},
   "source": [
    "# Merge Visitors of NE  with Combined Census_Centroids"
   ]
  },
  {
   "cell_type": "code",
   "execution_count": 92,
   "metadata": {},
   "outputs": [
    {
     "data": {
      "text/html": [
       "<div>\n",
       "<style scoped>\n",
       "    .dataframe tbody tr th:only-of-type {\n",
       "        vertical-align: middle;\n",
       "    }\n",
       "\n",
       "    .dataframe tbody tr th {\n",
       "        vertical-align: top;\n",
       "    }\n",
       "\n",
       "    .dataframe thead th {\n",
       "        text-align: right;\n",
       "    }\n",
       "</style>\n",
       "<table border=\"1\" class=\"dataframe\">\n",
       "  <thead>\n",
       "    <tr style=\"text-align: right;\">\n",
       "      <th></th>\n",
       "      <th>ParkCode</th>\n",
       "      <th>Month</th>\n",
       "      <th>Visitors</th>\n",
       "      <th>StateCode</th>\n",
       "      <th>Full Name</th>\n",
       "      <th>Lat</th>\n",
       "      <th>Lon</th>\n",
       "      <th>Name</th>\n",
       "      <th>Latitude</th>\n",
       "      <th>Longitude</th>\n",
       "      <th>Population</th>\n",
       "    </tr>\n",
       "  </thead>\n",
       "  <tbody>\n",
       "    <tr>\n",
       "      <td>0</td>\n",
       "      <td>wefa</td>\n",
       "      <td>1</td>\n",
       "      <td>930</td>\n",
       "      <td>CT</td>\n",
       "      <td>Weir Farm National Historic Site</td>\n",
       "      <td>41.258863</td>\n",
       "      <td>-73.454525</td>\n",
       "      <td>Connecticut</td>\n",
       "      <td>41.6219</td>\n",
       "      <td>-72.7273</td>\n",
       "      <td>3594478.0</td>\n",
       "    </tr>\n",
       "    <tr>\n",
       "      <td>1</td>\n",
       "      <td>wefa</td>\n",
       "      <td>2</td>\n",
       "      <td>800</td>\n",
       "      <td>CT</td>\n",
       "      <td>Weir Farm National Historic Site</td>\n",
       "      <td>41.258863</td>\n",
       "      <td>-73.454525</td>\n",
       "      <td>Connecticut</td>\n",
       "      <td>41.6219</td>\n",
       "      <td>-72.7273</td>\n",
       "      <td>3594478.0</td>\n",
       "    </tr>\n",
       "    <tr>\n",
       "      <td>2</td>\n",
       "      <td>wefa</td>\n",
       "      <td>3</td>\n",
       "      <td>1156</td>\n",
       "      <td>CT</td>\n",
       "      <td>Weir Farm National Historic Site</td>\n",
       "      <td>41.258863</td>\n",
       "      <td>-73.454525</td>\n",
       "      <td>Connecticut</td>\n",
       "      <td>41.6219</td>\n",
       "      <td>-72.7273</td>\n",
       "      <td>3594478.0</td>\n",
       "    </tr>\n",
       "    <tr>\n",
       "      <td>3</td>\n",
       "      <td>wefa</td>\n",
       "      <td>4</td>\n",
       "      <td>2510</td>\n",
       "      <td>CT</td>\n",
       "      <td>Weir Farm National Historic Site</td>\n",
       "      <td>41.258863</td>\n",
       "      <td>-73.454525</td>\n",
       "      <td>Connecticut</td>\n",
       "      <td>41.6219</td>\n",
       "      <td>-72.7273</td>\n",
       "      <td>3594478.0</td>\n",
       "    </tr>\n",
       "    <tr>\n",
       "      <td>4</td>\n",
       "      <td>wefa</td>\n",
       "      <td>5</td>\n",
       "      <td>4972</td>\n",
       "      <td>CT</td>\n",
       "      <td>Weir Farm National Historic Site</td>\n",
       "      <td>41.258863</td>\n",
       "      <td>-73.454525</td>\n",
       "      <td>Connecticut</td>\n",
       "      <td>41.6219</td>\n",
       "      <td>-72.7273</td>\n",
       "      <td>3594478.0</td>\n",
       "    </tr>\n",
       "  </tbody>\n",
       "</table>\n",
       "</div>"
      ],
      "text/plain": [
       "  ParkCode  Month  Visitors StateCode                         Full Name  \\\n",
       "0     wefa      1       930        CT  Weir Farm National Historic Site   \n",
       "1     wefa      2       800        CT  Weir Farm National Historic Site   \n",
       "2     wefa      3      1156        CT  Weir Farm National Historic Site   \n",
       "3     wefa      4      2510        CT  Weir Farm National Historic Site   \n",
       "4     wefa      5      4972        CT  Weir Farm National Historic Site   \n",
       "\n",
       "         Lat        Lon         Name  Latitude  Longitude  Population  \n",
       "0  41.258863 -73.454525  Connecticut   41.6219   -72.7273   3594478.0  \n",
       "1  41.258863 -73.454525  Connecticut   41.6219   -72.7273   3594478.0  \n",
       "2  41.258863 -73.454525  Connecticut   41.6219   -72.7273   3594478.0  \n",
       "3  41.258863 -73.454525  Connecticut   41.6219   -72.7273   3594478.0  \n",
       "4  41.258863 -73.454525  Connecticut   41.6219   -72.7273   3594478.0  "
      ]
     },
     "execution_count": 92,
     "metadata": {},
     "output_type": "execute_result"
    }
   ],
   "source": [
    "Visitor_NE_Pop= Visitors_NE_Data_DF.merge(Combined_cens_centr, on='StateCode', how='left')\n",
    "Visitor_NE_Pop.head()"
   ]
  },
  {
   "cell_type": "code",
   "execution_count": 93,
   "metadata": {},
   "outputs": [
    {
     "data": {
      "text/html": [
       "<div>\n",
       "<style scoped>\n",
       "    .dataframe tbody tr th:only-of-type {\n",
       "        vertical-align: middle;\n",
       "    }\n",
       "\n",
       "    .dataframe tbody tr th {\n",
       "        vertical-align: top;\n",
       "    }\n",
       "\n",
       "    .dataframe thead th {\n",
       "        text-align: right;\n",
       "    }\n",
       "</style>\n",
       "<table border=\"1\" class=\"dataframe\">\n",
       "  <thead>\n",
       "    <tr style=\"text-align: right;\">\n",
       "      <th></th>\n",
       "      <th>ParkCode</th>\n",
       "      <th>Month</th>\n",
       "      <th>StateCode</th>\n",
       "      <th>Full Name</th>\n",
       "      <th>Lat</th>\n",
       "      <th>Lon</th>\n",
       "      <th>Name</th>\n",
       "      <th>Latitude</th>\n",
       "      <th>Longitude</th>\n",
       "      <th>Population</th>\n",
       "      <th>Visitors</th>\n",
       "    </tr>\n",
       "  </thead>\n",
       "  <tbody>\n",
       "    <tr>\n",
       "      <td>0</td>\n",
       "      <td>agfo</td>\n",
       "      <td>1</td>\n",
       "      <td>NE</td>\n",
       "      <td>Agate Fossil Beds National Monument</td>\n",
       "      <td>42.421704</td>\n",
       "      <td>-103.753886</td>\n",
       "      <td>Nebraska</td>\n",
       "      <td>41.5378</td>\n",
       "      <td>-99.7951</td>\n",
       "      <td>1893921.0</td>\n",
       "      <td>0</td>\n",
       "    </tr>\n",
       "    <tr>\n",
       "      <td>1</td>\n",
       "      <td>agfo</td>\n",
       "      <td>2</td>\n",
       "      <td>NE</td>\n",
       "      <td>Agate Fossil Beds National Monument</td>\n",
       "      <td>42.421704</td>\n",
       "      <td>-103.753886</td>\n",
       "      <td>Nebraska</td>\n",
       "      <td>41.5378</td>\n",
       "      <td>-99.7951</td>\n",
       "      <td>1893921.0</td>\n",
       "      <td>94</td>\n",
       "    </tr>\n",
       "    <tr>\n",
       "      <td>2</td>\n",
       "      <td>agfo</td>\n",
       "      <td>3</td>\n",
       "      <td>NE</td>\n",
       "      <td>Agate Fossil Beds National Monument</td>\n",
       "      <td>42.421704</td>\n",
       "      <td>-103.753886</td>\n",
       "      <td>Nebraska</td>\n",
       "      <td>41.5378</td>\n",
       "      <td>-99.7951</td>\n",
       "      <td>1893921.0</td>\n",
       "      <td>401</td>\n",
       "    </tr>\n",
       "    <tr>\n",
       "      <td>3</td>\n",
       "      <td>agfo</td>\n",
       "      <td>4</td>\n",
       "      <td>NE</td>\n",
       "      <td>Agate Fossil Beds National Monument</td>\n",
       "      <td>42.421704</td>\n",
       "      <td>-103.753886</td>\n",
       "      <td>Nebraska</td>\n",
       "      <td>41.5378</td>\n",
       "      <td>-99.7951</td>\n",
       "      <td>1893921.0</td>\n",
       "      <td>391</td>\n",
       "    </tr>\n",
       "    <tr>\n",
       "      <td>4</td>\n",
       "      <td>agfo</td>\n",
       "      <td>5</td>\n",
       "      <td>NE</td>\n",
       "      <td>Agate Fossil Beds National Monument</td>\n",
       "      <td>42.421704</td>\n",
       "      <td>-103.753886</td>\n",
       "      <td>Nebraska</td>\n",
       "      <td>41.5378</td>\n",
       "      <td>-99.7951</td>\n",
       "      <td>1893921.0</td>\n",
       "      <td>2188</td>\n",
       "    </tr>\n",
       "  </tbody>\n",
       "</table>\n",
       "</div>"
      ],
      "text/plain": [
       "  ParkCode  Month StateCode                            Full Name        Lat  \\\n",
       "0     agfo      1        NE  Agate Fossil Beds National Monument  42.421704   \n",
       "1     agfo      2        NE  Agate Fossil Beds National Monument  42.421704   \n",
       "2     agfo      3        NE  Agate Fossil Beds National Monument  42.421704   \n",
       "3     agfo      4        NE  Agate Fossil Beds National Monument  42.421704   \n",
       "4     agfo      5        NE  Agate Fossil Beds National Monument  42.421704   \n",
       "\n",
       "          Lon      Name  Latitude  Longitude  Population  Visitors  \n",
       "0 -103.753886  Nebraska   41.5378   -99.7951   1893921.0         0  \n",
       "1 -103.753886  Nebraska   41.5378   -99.7951   1893921.0        94  \n",
       "2 -103.753886  Nebraska   41.5378   -99.7951   1893921.0       401  \n",
       "3 -103.753886  Nebraska   41.5378   -99.7951   1893921.0       391  \n",
       "4 -103.753886  Nebraska   41.5378   -99.7951   1893921.0      2188  "
      ]
     },
     "execution_count": 93,
     "metadata": {},
     "output_type": "execute_result"
    }
   ],
   "source": [
    "# by_year = Visitor_MW_Pop.groupby('ParkCode').sum()\n",
    "MW_visitors_Pop_by_year = Visitor_MW_Pop.groupby(['ParkCode', 'Month','StateCode', 'Full Name','Lat','Lon', 'Name', 'Latitude',\n",
    "                                  'Longitude','Population'], as_index=False)['Visitors'].sum()\n",
    "MW_visitors_Pop_by_year.head()"
   ]
  },
  {
   "cell_type": "code",
   "execution_count": 94,
   "metadata": {},
   "outputs": [
    {
     "data": {
      "text/html": [
       "<div>\n",
       "<style scoped>\n",
       "    .dataframe tbody tr th:only-of-type {\n",
       "        vertical-align: middle;\n",
       "    }\n",
       "\n",
       "    .dataframe tbody tr th {\n",
       "        vertical-align: top;\n",
       "    }\n",
       "\n",
       "    .dataframe thead th {\n",
       "        text-align: right;\n",
       "    }\n",
       "</style>\n",
       "<table border=\"1\" class=\"dataframe\">\n",
       "  <thead>\n",
       "    <tr style=\"text-align: right;\">\n",
       "      <th></th>\n",
       "      <th>ParkCode</th>\n",
       "      <th>Month</th>\n",
       "      <th>StateCode</th>\n",
       "      <th>Full Name</th>\n",
       "      <th>Lat</th>\n",
       "      <th>Lon</th>\n",
       "      <th>Name</th>\n",
       "      <th>Latitude</th>\n",
       "      <th>Longitude</th>\n",
       "      <th>Population</th>\n",
       "      <th>Visitors</th>\n",
       "      <th>Total Visitors</th>\n",
       "    </tr>\n",
       "  </thead>\n",
       "  <tbody>\n",
       "    <tr>\n",
       "      <td>0</td>\n",
       "      <td>agfo</td>\n",
       "      <td>1</td>\n",
       "      <td>NE</td>\n",
       "      <td>Agate Fossil Beds National Monument</td>\n",
       "      <td>42.421704</td>\n",
       "      <td>-103.753886</td>\n",
       "      <td>Nebraska</td>\n",
       "      <td>41.5378</td>\n",
       "      <td>-99.7951</td>\n",
       "      <td>1893921.0</td>\n",
       "      <td>0</td>\n",
       "      <td>325160</td>\n",
       "    </tr>\n",
       "    <tr>\n",
       "      <td>1</td>\n",
       "      <td>agfo</td>\n",
       "      <td>2</td>\n",
       "      <td>NE</td>\n",
       "      <td>Agate Fossil Beds National Monument</td>\n",
       "      <td>42.421704</td>\n",
       "      <td>-103.753886</td>\n",
       "      <td>Nebraska</td>\n",
       "      <td>41.5378</td>\n",
       "      <td>-99.7951</td>\n",
       "      <td>1893921.0</td>\n",
       "      <td>94</td>\n",
       "      <td>408618</td>\n",
       "    </tr>\n",
       "    <tr>\n",
       "      <td>2</td>\n",
       "      <td>agfo</td>\n",
       "      <td>3</td>\n",
       "      <td>NE</td>\n",
       "      <td>Agate Fossil Beds National Monument</td>\n",
       "      <td>42.421704</td>\n",
       "      <td>-103.753886</td>\n",
       "      <td>Nebraska</td>\n",
       "      <td>41.5378</td>\n",
       "      <td>-99.7951</td>\n",
       "      <td>1893921.0</td>\n",
       "      <td>401</td>\n",
       "      <td>833566</td>\n",
       "    </tr>\n",
       "    <tr>\n",
       "      <td>3</td>\n",
       "      <td>agfo</td>\n",
       "      <td>4</td>\n",
       "      <td>NE</td>\n",
       "      <td>Agate Fossil Beds National Monument</td>\n",
       "      <td>42.421704</td>\n",
       "      <td>-103.753886</td>\n",
       "      <td>Nebraska</td>\n",
       "      <td>41.5378</td>\n",
       "      <td>-99.7951</td>\n",
       "      <td>1893921.0</td>\n",
       "      <td>391</td>\n",
       "      <td>893558</td>\n",
       "    </tr>\n",
       "    <tr>\n",
       "      <td>4</td>\n",
       "      <td>agfo</td>\n",
       "      <td>5</td>\n",
       "      <td>NE</td>\n",
       "      <td>Agate Fossil Beds National Monument</td>\n",
       "      <td>42.421704</td>\n",
       "      <td>-103.753886</td>\n",
       "      <td>Nebraska</td>\n",
       "      <td>41.5378</td>\n",
       "      <td>-99.7951</td>\n",
       "      <td>1893921.0</td>\n",
       "      <td>2188</td>\n",
       "      <td>1557746</td>\n",
       "    </tr>\n",
       "  </tbody>\n",
       "</table>\n",
       "</div>"
      ],
      "text/plain": [
       "  ParkCode  Month StateCode                            Full Name        Lat  \\\n",
       "0     agfo      1        NE  Agate Fossil Beds National Monument  42.421704   \n",
       "1     agfo      2        NE  Agate Fossil Beds National Monument  42.421704   \n",
       "2     agfo      3        NE  Agate Fossil Beds National Monument  42.421704   \n",
       "3     agfo      4        NE  Agate Fossil Beds National Monument  42.421704   \n",
       "4     agfo      5        NE  Agate Fossil Beds National Monument  42.421704   \n",
       "\n",
       "          Lon      Name  Latitude  Longitude  Population  Visitors  \\\n",
       "0 -103.753886  Nebraska   41.5378   -99.7951   1893921.0         0   \n",
       "1 -103.753886  Nebraska   41.5378   -99.7951   1893921.0        94   \n",
       "2 -103.753886  Nebraska   41.5378   -99.7951   1893921.0       401   \n",
       "3 -103.753886  Nebraska   41.5378   -99.7951   1893921.0       391   \n",
       "4 -103.753886  Nebraska   41.5378   -99.7951   1893921.0      2188   \n",
       "\n",
       "   Total Visitors  \n",
       "0          325160  \n",
       "1          408618  \n",
       "2          833566  \n",
       "3          893558  \n",
       "4         1557746  "
      ]
     },
     "execution_count": 94,
     "metadata": {},
     "output_type": "execute_result"
    }
   ],
   "source": [
    "Total= []\n",
    "for i in MW_visitors_Pop_by_year['Month']:\n",
    "    A= MW_visitors_Pop_by_year.loc[(MW_visitors_Pop_by_year['Month']== i) , 'Visitors'].sum(axis=0)\n",
    "    Total.append(A)\n",
    "MW_visitors_Pop_by_year['Total Visitors']= Total\n",
    "MW_visitors_Pop_by_year_df= MW_visitors_Pop_by_year\n",
    "MW_visitors_Pop_by_year.head()"
   ]
  },
  {
   "cell_type": "code",
   "execution_count": 95,
   "metadata": {},
   "outputs": [
    {
     "data": {
      "text/html": [
       "<div>\n",
       "<style scoped>\n",
       "    .dataframe tbody tr th:only-of-type {\n",
       "        vertical-align: middle;\n",
       "    }\n",
       "\n",
       "    .dataframe tbody tr th {\n",
       "        vertical-align: top;\n",
       "    }\n",
       "\n",
       "    .dataframe thead th {\n",
       "        text-align: right;\n",
       "    }\n",
       "</style>\n",
       "<table border=\"1\" class=\"dataframe\">\n",
       "  <thead>\n",
       "    <tr style=\"text-align: right;\">\n",
       "      <th></th>\n",
       "      <th>ParkCode</th>\n",
       "      <th>Month</th>\n",
       "      <th>StateCode</th>\n",
       "      <th>Full Name</th>\n",
       "      <th>Lat</th>\n",
       "      <th>Lon</th>\n",
       "      <th>Name</th>\n",
       "      <th>Latitude</th>\n",
       "      <th>Longitude</th>\n",
       "      <th>Population</th>\n",
       "      <th>Visitors</th>\n",
       "    </tr>\n",
       "  </thead>\n",
       "  <tbody>\n",
       "    <tr>\n",
       "      <td>0</td>\n",
       "      <td>acad</td>\n",
       "      <td>1</td>\n",
       "      <td>ME</td>\n",
       "      <td>Acadia National Park</td>\n",
       "      <td>44.307775</td>\n",
       "      <td>-68.300633</td>\n",
       "      <td>Maine</td>\n",
       "      <td>45.3695</td>\n",
       "      <td>-69.2428</td>\n",
       "      <td>1330158.0</td>\n",
       "      <td>8532</td>\n",
       "    </tr>\n",
       "    <tr>\n",
       "      <td>1</td>\n",
       "      <td>acad</td>\n",
       "      <td>2</td>\n",
       "      <td>ME</td>\n",
       "      <td>Acadia National Park</td>\n",
       "      <td>44.307775</td>\n",
       "      <td>-68.300633</td>\n",
       "      <td>Maine</td>\n",
       "      <td>45.3695</td>\n",
       "      <td>-69.2428</td>\n",
       "      <td>1330158.0</td>\n",
       "      <td>9154</td>\n",
       "    </tr>\n",
       "    <tr>\n",
       "      <td>2</td>\n",
       "      <td>acad</td>\n",
       "      <td>3</td>\n",
       "      <td>ME</td>\n",
       "      <td>Acadia National Park</td>\n",
       "      <td>44.307775</td>\n",
       "      <td>-68.300633</td>\n",
       "      <td>Maine</td>\n",
       "      <td>45.3695</td>\n",
       "      <td>-69.2428</td>\n",
       "      <td>1330158.0</td>\n",
       "      <td>20161</td>\n",
       "    </tr>\n",
       "    <tr>\n",
       "      <td>3</td>\n",
       "      <td>acad</td>\n",
       "      <td>4</td>\n",
       "      <td>ME</td>\n",
       "      <td>Acadia National Park</td>\n",
       "      <td>44.307775</td>\n",
       "      <td>-68.300633</td>\n",
       "      <td>Maine</td>\n",
       "      <td>45.3695</td>\n",
       "      <td>-69.2428</td>\n",
       "      <td>1330158.0</td>\n",
       "      <td>68046</td>\n",
       "    </tr>\n",
       "    <tr>\n",
       "      <td>4</td>\n",
       "      <td>acad</td>\n",
       "      <td>5</td>\n",
       "      <td>ME</td>\n",
       "      <td>Acadia National Park</td>\n",
       "      <td>44.307775</td>\n",
       "      <td>-68.300633</td>\n",
       "      <td>Maine</td>\n",
       "      <td>45.3695</td>\n",
       "      <td>-69.2428</td>\n",
       "      <td>1330158.0</td>\n",
       "      <td>226156</td>\n",
       "    </tr>\n",
       "  </tbody>\n",
       "</table>\n",
       "</div>"
      ],
      "text/plain": [
       "  ParkCode  Month StateCode             Full Name        Lat        Lon  \\\n",
       "0     acad      1        ME  Acadia National Park  44.307775 -68.300633   \n",
       "1     acad      2        ME  Acadia National Park  44.307775 -68.300633   \n",
       "2     acad      3        ME  Acadia National Park  44.307775 -68.300633   \n",
       "3     acad      4        ME  Acadia National Park  44.307775 -68.300633   \n",
       "4     acad      5        ME  Acadia National Park  44.307775 -68.300633   \n",
       "\n",
       "    Name  Latitude  Longitude  Population  Visitors  \n",
       "0  Maine   45.3695   -69.2428   1330158.0      8532  \n",
       "1  Maine   45.3695   -69.2428   1330158.0      9154  \n",
       "2  Maine   45.3695   -69.2428   1330158.0     20161  \n",
       "3  Maine   45.3695   -69.2428   1330158.0     68046  \n",
       "4  Maine   45.3695   -69.2428   1330158.0    226156  "
      ]
     },
     "execution_count": 95,
     "metadata": {},
     "output_type": "execute_result"
    }
   ],
   "source": [
    "NE_visitors_Pop_by_year = Visitor_NE_Pop.groupby(['ParkCode', 'Month','StateCode', 'Full Name','Lat','Lon', 'Name', 'Latitude',\n",
    "                                  'Longitude','Population'], as_index=False)['Visitors'].sum()\n",
    "NE_visitors_Pop_by_year.head(5)"
   ]
  },
  {
   "cell_type": "code",
   "execution_count": 96,
   "metadata": {
    "scrolled": true
   },
   "outputs": [
    {
     "data": {
      "text/html": [
       "<div>\n",
       "<style scoped>\n",
       "    .dataframe tbody tr th:only-of-type {\n",
       "        vertical-align: middle;\n",
       "    }\n",
       "\n",
       "    .dataframe tbody tr th {\n",
       "        vertical-align: top;\n",
       "    }\n",
       "\n",
       "    .dataframe thead th {\n",
       "        text-align: right;\n",
       "    }\n",
       "</style>\n",
       "<table border=\"1\" class=\"dataframe\">\n",
       "  <thead>\n",
       "    <tr style=\"text-align: right;\">\n",
       "      <th></th>\n",
       "      <th>ParkCode</th>\n",
       "      <th>Month</th>\n",
       "      <th>StateCode</th>\n",
       "      <th>Full Name</th>\n",
       "      <th>Lat</th>\n",
       "      <th>Lon</th>\n",
       "      <th>Name</th>\n",
       "      <th>Latitude</th>\n",
       "      <th>Longitude</th>\n",
       "      <th>Population</th>\n",
       "      <th>Visitors</th>\n",
       "      <th>Total Visitors</th>\n",
       "    </tr>\n",
       "  </thead>\n",
       "  <tbody>\n",
       "    <tr>\n",
       "      <td>0</td>\n",
       "      <td>acad</td>\n",
       "      <td>1</td>\n",
       "      <td>ME</td>\n",
       "      <td>Acadia National Park</td>\n",
       "      <td>44.307775</td>\n",
       "      <td>-68.300633</td>\n",
       "      <td>Maine</td>\n",
       "      <td>45.3695</td>\n",
       "      <td>-69.2428</td>\n",
       "      <td>1330158.0</td>\n",
       "      <td>8532</td>\n",
       "      <td>1634900</td>\n",
       "    </tr>\n",
       "    <tr>\n",
       "      <td>1</td>\n",
       "      <td>acad</td>\n",
       "      <td>2</td>\n",
       "      <td>ME</td>\n",
       "      <td>Acadia National Park</td>\n",
       "      <td>44.307775</td>\n",
       "      <td>-68.300633</td>\n",
       "      <td>Maine</td>\n",
       "      <td>45.3695</td>\n",
       "      <td>-69.2428</td>\n",
       "      <td>1330158.0</td>\n",
       "      <td>9154</td>\n",
       "      <td>2050522</td>\n",
       "    </tr>\n",
       "    <tr>\n",
       "      <td>2</td>\n",
       "      <td>acad</td>\n",
       "      <td>3</td>\n",
       "      <td>ME</td>\n",
       "      <td>Acadia National Park</td>\n",
       "      <td>44.307775</td>\n",
       "      <td>-68.300633</td>\n",
       "      <td>Maine</td>\n",
       "      <td>45.3695</td>\n",
       "      <td>-69.2428</td>\n",
       "      <td>1330158.0</td>\n",
       "      <td>20161</td>\n",
       "      <td>3034965</td>\n",
       "    </tr>\n",
       "    <tr>\n",
       "      <td>3</td>\n",
       "      <td>acad</td>\n",
       "      <td>4</td>\n",
       "      <td>ME</td>\n",
       "      <td>Acadia National Park</td>\n",
       "      <td>44.307775</td>\n",
       "      <td>-68.300633</td>\n",
       "      <td>Maine</td>\n",
       "      <td>45.3695</td>\n",
       "      <td>-69.2428</td>\n",
       "      <td>1330158.0</td>\n",
       "      <td>68046</td>\n",
       "      <td>4194504</td>\n",
       "    </tr>\n",
       "    <tr>\n",
       "      <td>4</td>\n",
       "      <td>acad</td>\n",
       "      <td>5</td>\n",
       "      <td>ME</td>\n",
       "      <td>Acadia National Park</td>\n",
       "      <td>44.307775</td>\n",
       "      <td>-68.300633</td>\n",
       "      <td>Maine</td>\n",
       "      <td>45.3695</td>\n",
       "      <td>-69.2428</td>\n",
       "      <td>1330158.0</td>\n",
       "      <td>226156</td>\n",
       "      <td>5455843</td>\n",
       "    </tr>\n",
       "  </tbody>\n",
       "</table>\n",
       "</div>"
      ],
      "text/plain": [
       "  ParkCode  Month StateCode             Full Name        Lat        Lon  \\\n",
       "0     acad      1        ME  Acadia National Park  44.307775 -68.300633   \n",
       "1     acad      2        ME  Acadia National Park  44.307775 -68.300633   \n",
       "2     acad      3        ME  Acadia National Park  44.307775 -68.300633   \n",
       "3     acad      4        ME  Acadia National Park  44.307775 -68.300633   \n",
       "4     acad      5        ME  Acadia National Park  44.307775 -68.300633   \n",
       "\n",
       "    Name  Latitude  Longitude  Population  Visitors  Total Visitors  \n",
       "0  Maine   45.3695   -69.2428   1330158.0      8532         1634900  \n",
       "1  Maine   45.3695   -69.2428   1330158.0      9154         2050522  \n",
       "2  Maine   45.3695   -69.2428   1330158.0     20161         3034965  \n",
       "3  Maine   45.3695   -69.2428   1330158.0     68046         4194504  \n",
       "4  Maine   45.3695   -69.2428   1330158.0    226156         5455843  "
      ]
     },
     "execution_count": 96,
     "metadata": {},
     "output_type": "execute_result"
    }
   ],
   "source": [
    "Total= []\n",
    "for i in NE_visitors_Pop_by_year['Month']:\n",
    "    R= NE_visitors_Pop_by_year.loc[(NE_visitors_Pop_by_year['Month']== i) , 'Visitors'].sum(axis=0)\n",
    "    Total.append(R)\n",
    "NE_visitors_Pop_by_year['Total Visitors']= Total\n",
    "NE_visitors_Pop_by_year.head()\n",
    "NE_visitors_Pop_by_year_df = NE_visitors_Pop_by_year"
   ]
  },
  {
   "cell_type": "markdown",
   "metadata": {},
   "source": [
    "# Final NE & MW VISITORS_POP_BY_YEAR  dataframes"
   ]
  },
  {
   "cell_type": "code",
   "execution_count": 98,
   "metadata": {},
   "outputs": [
    {
     "data": {
      "text/html": [
       "<div>\n",
       "<style scoped>\n",
       "    .dataframe tbody tr th:only-of-type {\n",
       "        vertical-align: middle;\n",
       "    }\n",
       "\n",
       "    .dataframe tbody tr th {\n",
       "        vertical-align: top;\n",
       "    }\n",
       "\n",
       "    .dataframe thead th {\n",
       "        text-align: right;\n",
       "    }\n",
       "</style>\n",
       "<table border=\"1\" class=\"dataframe\">\n",
       "  <thead>\n",
       "    <tr style=\"text-align: right;\">\n",
       "      <th></th>\n",
       "      <th>ParkCode</th>\n",
       "      <th>Month</th>\n",
       "      <th>StateCode</th>\n",
       "      <th>Full Name</th>\n",
       "      <th>Lat</th>\n",
       "      <th>Lon</th>\n",
       "      <th>Name</th>\n",
       "      <th>Latitude</th>\n",
       "      <th>Longitude</th>\n",
       "      <th>Population</th>\n",
       "      <th>Total Visitors</th>\n",
       "    </tr>\n",
       "  </thead>\n",
       "  <tbody>\n",
       "    <tr>\n",
       "      <td>0</td>\n",
       "      <td>acad</td>\n",
       "      <td>1</td>\n",
       "      <td>ME</td>\n",
       "      <td>Acadia National Park</td>\n",
       "      <td>44.307775</td>\n",
       "      <td>-68.300633</td>\n",
       "      <td>Maine</td>\n",
       "      <td>45.3695</td>\n",
       "      <td>-69.2428</td>\n",
       "      <td>1330158.0</td>\n",
       "      <td>1634900</td>\n",
       "    </tr>\n",
       "    <tr>\n",
       "      <td>1</td>\n",
       "      <td>acad</td>\n",
       "      <td>2</td>\n",
       "      <td>ME</td>\n",
       "      <td>Acadia National Park</td>\n",
       "      <td>44.307775</td>\n",
       "      <td>-68.300633</td>\n",
       "      <td>Maine</td>\n",
       "      <td>45.3695</td>\n",
       "      <td>-69.2428</td>\n",
       "      <td>1330158.0</td>\n",
       "      <td>2050522</td>\n",
       "    </tr>\n",
       "    <tr>\n",
       "      <td>2</td>\n",
       "      <td>acad</td>\n",
       "      <td>3</td>\n",
       "      <td>ME</td>\n",
       "      <td>Acadia National Park</td>\n",
       "      <td>44.307775</td>\n",
       "      <td>-68.300633</td>\n",
       "      <td>Maine</td>\n",
       "      <td>45.3695</td>\n",
       "      <td>-69.2428</td>\n",
       "      <td>1330158.0</td>\n",
       "      <td>3034965</td>\n",
       "    </tr>\n",
       "    <tr>\n",
       "      <td>3</td>\n",
       "      <td>acad</td>\n",
       "      <td>4</td>\n",
       "      <td>ME</td>\n",
       "      <td>Acadia National Park</td>\n",
       "      <td>44.307775</td>\n",
       "      <td>-68.300633</td>\n",
       "      <td>Maine</td>\n",
       "      <td>45.3695</td>\n",
       "      <td>-69.2428</td>\n",
       "      <td>1330158.0</td>\n",
       "      <td>4194504</td>\n",
       "    </tr>\n",
       "    <tr>\n",
       "      <td>4</td>\n",
       "      <td>acad</td>\n",
       "      <td>5</td>\n",
       "      <td>ME</td>\n",
       "      <td>Acadia National Park</td>\n",
       "      <td>44.307775</td>\n",
       "      <td>-68.300633</td>\n",
       "      <td>Maine</td>\n",
       "      <td>45.3695</td>\n",
       "      <td>-69.2428</td>\n",
       "      <td>1330158.0</td>\n",
       "      <td>5455843</td>\n",
       "    </tr>\n",
       "    <tr>\n",
       "      <td>...</td>\n",
       "      <td>...</td>\n",
       "      <td>...</td>\n",
       "      <td>...</td>\n",
       "      <td>...</td>\n",
       "      <td>...</td>\n",
       "      <td>...</td>\n",
       "      <td>...</td>\n",
       "      <td>...</td>\n",
       "      <td>...</td>\n",
       "      <td>...</td>\n",
       "      <td>...</td>\n",
       "    </tr>\n",
       "    <tr>\n",
       "      <td>823</td>\n",
       "      <td>wori</td>\n",
       "      <td>8</td>\n",
       "      <td>NY</td>\n",
       "      <td>Women's Rights National Historical Park</td>\n",
       "      <td>42.908171</td>\n",
       "      <td>-76.816556</td>\n",
       "      <td>New York</td>\n",
       "      <td>42.9538</td>\n",
       "      <td>-75.5268</td>\n",
       "      <td>19798228.0</td>\n",
       "      <td>7906559</td>\n",
       "    </tr>\n",
       "    <tr>\n",
       "      <td>824</td>\n",
       "      <td>wori</td>\n",
       "      <td>9</td>\n",
       "      <td>NY</td>\n",
       "      <td>Women's Rights National Historical Park</td>\n",
       "      <td>42.908171</td>\n",
       "      <td>-76.816556</td>\n",
       "      <td>New York</td>\n",
       "      <td>42.9538</td>\n",
       "      <td>-75.5268</td>\n",
       "      <td>19798228.0</td>\n",
       "      <td>6116437</td>\n",
       "    </tr>\n",
       "    <tr>\n",
       "      <td>825</td>\n",
       "      <td>wori</td>\n",
       "      <td>10</td>\n",
       "      <td>NY</td>\n",
       "      <td>Women's Rights National Historical Park</td>\n",
       "      <td>42.908171</td>\n",
       "      <td>-76.816556</td>\n",
       "      <td>New York</td>\n",
       "      <td>42.9538</td>\n",
       "      <td>-75.5268</td>\n",
       "      <td>19798228.0</td>\n",
       "      <td>5149394</td>\n",
       "    </tr>\n",
       "    <tr>\n",
       "      <td>826</td>\n",
       "      <td>wori</td>\n",
       "      <td>11</td>\n",
       "      <td>NY</td>\n",
       "      <td>Women's Rights National Historical Park</td>\n",
       "      <td>42.908171</td>\n",
       "      <td>-76.816556</td>\n",
       "      <td>New York</td>\n",
       "      <td>42.9538</td>\n",
       "      <td>-75.5268</td>\n",
       "      <td>19798228.0</td>\n",
       "      <td>3288300</td>\n",
       "    </tr>\n",
       "    <tr>\n",
       "      <td>827</td>\n",
       "      <td>wori</td>\n",
       "      <td>12</td>\n",
       "      <td>NY</td>\n",
       "      <td>Women's Rights National Historical Park</td>\n",
       "      <td>42.908171</td>\n",
       "      <td>-76.816556</td>\n",
       "      <td>New York</td>\n",
       "      <td>42.9538</td>\n",
       "      <td>-75.5268</td>\n",
       "      <td>19798228.0</td>\n",
       "      <td>2620712</td>\n",
       "    </tr>\n",
       "  </tbody>\n",
       "</table>\n",
       "<p>828 rows × 11 columns</p>\n",
       "</div>"
      ],
      "text/plain": [
       "    ParkCode  Month StateCode                                Full Name  \\\n",
       "0       acad      1        ME                     Acadia National Park   \n",
       "1       acad      2        ME                     Acadia National Park   \n",
       "2       acad      3        ME                     Acadia National Park   \n",
       "3       acad      4        ME                     Acadia National Park   \n",
       "4       acad      5        ME                     Acadia National Park   \n",
       "..       ...    ...       ...                                      ...   \n",
       "823     wori      8        NY  Women's Rights National Historical Park   \n",
       "824     wori      9        NY  Women's Rights National Historical Park   \n",
       "825     wori     10        NY  Women's Rights National Historical Park   \n",
       "826     wori     11        NY  Women's Rights National Historical Park   \n",
       "827     wori     12        NY  Women's Rights National Historical Park   \n",
       "\n",
       "           Lat        Lon      Name  Latitude  Longitude  Population  \\\n",
       "0    44.307775 -68.300633     Maine   45.3695   -69.2428   1330158.0   \n",
       "1    44.307775 -68.300633     Maine   45.3695   -69.2428   1330158.0   \n",
       "2    44.307775 -68.300633     Maine   45.3695   -69.2428   1330158.0   \n",
       "3    44.307775 -68.300633     Maine   45.3695   -69.2428   1330158.0   \n",
       "4    44.307775 -68.300633     Maine   45.3695   -69.2428   1330158.0   \n",
       "..         ...        ...       ...       ...        ...         ...   \n",
       "823  42.908171 -76.816556  New York   42.9538   -75.5268  19798228.0   \n",
       "824  42.908171 -76.816556  New York   42.9538   -75.5268  19798228.0   \n",
       "825  42.908171 -76.816556  New York   42.9538   -75.5268  19798228.0   \n",
       "826  42.908171 -76.816556  New York   42.9538   -75.5268  19798228.0   \n",
       "827  42.908171 -76.816556  New York   42.9538   -75.5268  19798228.0   \n",
       "\n",
       "     Total Visitors  \n",
       "0           1634900  \n",
       "1           2050522  \n",
       "2           3034965  \n",
       "3           4194504  \n",
       "4           5455843  \n",
       "..              ...  \n",
       "823         7906559  \n",
       "824         6116437  \n",
       "825         5149394  \n",
       "826         3288300  \n",
       "827         2620712  \n",
       "\n",
       "[828 rows x 11 columns]"
      ]
     },
     "execution_count": 98,
     "metadata": {},
     "output_type": "execute_result"
    }
   ],
   "source": [
    "# del NE_visitors_Pop_by_year_df['Visitors']\n",
    "NE_visitors_Pop_by_year_Final= NE_visitors_Pop_by_year_df\n",
    "NE_visitors_Pop_by_year_df.to_csv(\".Final_NE_data.csv\", encoding=\"utf-8\", index=False)\n",
    "NE_visitors_Pop_by_year_Final"
   ]
  },
  {
   "cell_type": "code",
   "execution_count": 99,
   "metadata": {},
   "outputs": [
    {
     "data": {
      "text/html": [
       "<div>\n",
       "<style scoped>\n",
       "    .dataframe tbody tr th:only-of-type {\n",
       "        vertical-align: middle;\n",
       "    }\n",
       "\n",
       "    .dataframe tbody tr th {\n",
       "        vertical-align: top;\n",
       "    }\n",
       "\n",
       "    .dataframe thead th {\n",
       "        text-align: right;\n",
       "    }\n",
       "</style>\n",
       "<table border=\"1\" class=\"dataframe\">\n",
       "  <thead>\n",
       "    <tr style=\"text-align: right;\">\n",
       "      <th></th>\n",
       "      <th>ParkCode</th>\n",
       "      <th>Month</th>\n",
       "      <th>StateCode</th>\n",
       "      <th>Full Name</th>\n",
       "      <th>Lat</th>\n",
       "      <th>Lon</th>\n",
       "      <th>Name</th>\n",
       "      <th>Latitude</th>\n",
       "      <th>Longitude</th>\n",
       "      <th>Population</th>\n",
       "      <th>Total Visitors</th>\n",
       "    </tr>\n",
       "  </thead>\n",
       "  <tbody>\n",
       "    <tr>\n",
       "      <td>0</td>\n",
       "      <td>agfo</td>\n",
       "      <td>1</td>\n",
       "      <td>NE</td>\n",
       "      <td>Agate Fossil Beds National Monument</td>\n",
       "      <td>42.421704</td>\n",
       "      <td>-103.753886</td>\n",
       "      <td>Nebraska</td>\n",
       "      <td>41.5378</td>\n",
       "      <td>-99.7951</td>\n",
       "      <td>1893921.0</td>\n",
       "      <td>325160</td>\n",
       "    </tr>\n",
       "    <tr>\n",
       "      <td>1</td>\n",
       "      <td>agfo</td>\n",
       "      <td>2</td>\n",
       "      <td>NE</td>\n",
       "      <td>Agate Fossil Beds National Monument</td>\n",
       "      <td>42.421704</td>\n",
       "      <td>-103.753886</td>\n",
       "      <td>Nebraska</td>\n",
       "      <td>41.5378</td>\n",
       "      <td>-99.7951</td>\n",
       "      <td>1893921.0</td>\n",
       "      <td>408618</td>\n",
       "    </tr>\n",
       "    <tr>\n",
       "      <td>2</td>\n",
       "      <td>agfo</td>\n",
       "      <td>3</td>\n",
       "      <td>NE</td>\n",
       "      <td>Agate Fossil Beds National Monument</td>\n",
       "      <td>42.421704</td>\n",
       "      <td>-103.753886</td>\n",
       "      <td>Nebraska</td>\n",
       "      <td>41.5378</td>\n",
       "      <td>-99.7951</td>\n",
       "      <td>1893921.0</td>\n",
       "      <td>833566</td>\n",
       "    </tr>\n",
       "    <tr>\n",
       "      <td>3</td>\n",
       "      <td>agfo</td>\n",
       "      <td>4</td>\n",
       "      <td>NE</td>\n",
       "      <td>Agate Fossil Beds National Monument</td>\n",
       "      <td>42.421704</td>\n",
       "      <td>-103.753886</td>\n",
       "      <td>Nebraska</td>\n",
       "      <td>41.5378</td>\n",
       "      <td>-99.7951</td>\n",
       "      <td>1893921.0</td>\n",
       "      <td>893558</td>\n",
       "    </tr>\n",
       "    <tr>\n",
       "      <td>4</td>\n",
       "      <td>agfo</td>\n",
       "      <td>5</td>\n",
       "      <td>NE</td>\n",
       "      <td>Agate Fossil Beds National Monument</td>\n",
       "      <td>42.421704</td>\n",
       "      <td>-103.753886</td>\n",
       "      <td>Nebraska</td>\n",
       "      <td>41.5378</td>\n",
       "      <td>-99.7951</td>\n",
       "      <td>1893921.0</td>\n",
       "      <td>1557746</td>\n",
       "    </tr>\n",
       "  </tbody>\n",
       "</table>\n",
       "</div>"
      ],
      "text/plain": [
       "  ParkCode  Month StateCode                            Full Name        Lat  \\\n",
       "0     agfo      1        NE  Agate Fossil Beds National Monument  42.421704   \n",
       "1     agfo      2        NE  Agate Fossil Beds National Monument  42.421704   \n",
       "2     agfo      3        NE  Agate Fossil Beds National Monument  42.421704   \n",
       "3     agfo      4        NE  Agate Fossil Beds National Monument  42.421704   \n",
       "4     agfo      5        NE  Agate Fossil Beds National Monument  42.421704   \n",
       "\n",
       "          Lon      Name  Latitude  Longitude  Population  Total Visitors  \n",
       "0 -103.753886  Nebraska   41.5378   -99.7951   1893921.0          325160  \n",
       "1 -103.753886  Nebraska   41.5378   -99.7951   1893921.0          408618  \n",
       "2 -103.753886  Nebraska   41.5378   -99.7951   1893921.0          833566  \n",
       "3 -103.753886  Nebraska   41.5378   -99.7951   1893921.0          893558  \n",
       "4 -103.753886  Nebraska   41.5378   -99.7951   1893921.0         1557746  "
      ]
     },
     "execution_count": 99,
     "metadata": {},
     "output_type": "execute_result"
    }
   ],
   "source": [
    "# del MW_visitors_Pop_by_year_df['Visitors']\n",
    "MW_visitors_Pop_by_year_df.head()\n",
    "MW_visitors_Pop_by_year_df.to_csv(\".Final_MW_data.csv\", encoding=\"utf-8\", index=False)"
   ]
  },
  {
   "cell_type": "code",
   "execution_count": null,
   "metadata": {},
   "outputs": [],
   "source": []
  },
  {
   "cell_type": "code",
   "execution_count": 102,
   "metadata": {},
   "outputs": [
    {
     "data": {
      "application/vnd.plotly.v1+json": {
       "config": {
        "plotlyServerURL": "https://plot.ly"
       },
       "data": [
        {
         "customdata": [
          [
           "NE"
          ],
          [
           "NE"
          ],
          [
           "NE"
          ],
          [
           "NE"
          ],
          [
           "NE"
          ],
          [
           "NE"
          ],
          [
           "NE"
          ],
          [
           "NE"
          ],
          [
           "NE"
          ],
          [
           "NE"
          ],
          [
           "NE"
          ],
          [
           "NE"
          ],
          [
           "WI"
          ],
          [
           "WI"
          ],
          [
           "WI"
          ],
          [
           "WI"
          ],
          [
           "WI"
          ],
          [
           "WI"
          ],
          [
           "WI"
          ],
          [
           "WI"
          ],
          [
           "WI"
          ],
          [
           "WI"
          ],
          [
           "WI"
          ],
          [
           "WI"
          ],
          [
           "SD"
          ],
          [
           "SD"
          ],
          [
           "SD"
          ],
          [
           "SD"
          ],
          [
           "SD"
          ],
          [
           "SD"
          ],
          [
           "SD"
          ],
          [
           "SD"
          ],
          [
           "SD"
          ],
          [
           "SD"
          ],
          [
           "SD"
          ],
          [
           "SD"
          ],
          [
           "KS"
          ],
          [
           "KS"
          ],
          [
           "KS"
          ],
          [
           "KS"
          ],
          [
           "KS"
          ],
          [
           "KS"
          ],
          [
           "KS"
          ],
          [
           "KS"
          ],
          [
           "KS"
          ],
          [
           "KS"
          ],
          [
           "KS"
          ],
          [
           "KS"
          ],
          [
           "OH"
          ],
          [
           "OH"
          ],
          [
           "OH"
          ],
          [
           "OH"
          ],
          [
           "OH"
          ],
          [
           "OH"
          ],
          [
           "OH"
          ],
          [
           "OH"
          ],
          [
           "OH"
          ],
          [
           "OH"
          ],
          [
           "OH"
          ],
          [
           "OH"
          ],
          [
           "OH"
          ],
          [
           "OH"
          ],
          [
           "OH"
          ],
          [
           "OH"
          ],
          [
           "OH"
          ],
          [
           "OH"
          ],
          [
           "OH"
          ],
          [
           "OH"
          ],
          [
           "OH"
          ],
          [
           "OH"
          ],
          [
           "OH"
          ],
          [
           "OH"
          ],
          [
           "OH"
          ],
          [
           "OH"
          ],
          [
           "OH"
          ],
          [
           "OH"
          ],
          [
           "OH"
          ],
          [
           "OH"
          ],
          [
           "OH"
          ],
          [
           "OH"
          ],
          [
           "OH"
          ],
          [
           "OH"
          ],
          [
           "OH"
          ],
          [
           "OH"
          ],
          [
           "IA"
          ],
          [
           "IA"
          ],
          [
           "IA"
          ],
          [
           "IA"
          ],
          [
           "IA"
          ],
          [
           "IA"
          ],
          [
           "IA"
          ],
          [
           "IA"
          ],
          [
           "IA"
          ],
          [
           "IA"
          ],
          [
           "IA"
          ],
          [
           "IA"
          ],
          [
           "OH"
          ],
          [
           "OH"
          ],
          [
           "OH"
          ],
          [
           "OH"
          ],
          [
           "OH"
          ],
          [
           "OH"
          ],
          [
           "OH"
          ],
          [
           "OH"
          ],
          [
           "OH"
          ],
          [
           "OH"
          ],
          [
           "OH"
          ],
          [
           "OH"
          ],
          [
           "KS"
          ],
          [
           "KS"
          ],
          [
           "KS"
          ],
          [
           "KS"
          ],
          [
           "KS"
          ],
          [
           "KS"
          ],
          [
           "KS"
          ],
          [
           "KS"
          ],
          [
           "KS"
          ],
          [
           "KS"
          ],
          [
           "KS"
          ],
          [
           "KS"
          ],
          [
           "KS"
          ],
          [
           "KS"
          ],
          [
           "KS"
          ],
          [
           "KS"
          ],
          [
           "KS"
          ],
          [
           "KS"
          ],
          [
           "KS"
          ],
          [
           "KS"
          ],
          [
           "KS"
          ],
          [
           "KS"
          ],
          [
           "KS"
          ],
          [
           "KS"
          ],
          [
           "ND"
          ],
          [
           "ND"
          ],
          [
           "ND"
          ],
          [
           "ND"
          ],
          [
           "ND"
          ],
          [
           "ND"
          ],
          [
           "ND"
          ],
          [
           "ND"
          ],
          [
           "ND"
          ],
          [
           "ND"
          ],
          [
           "ND"
          ],
          [
           "ND"
          ],
          [
           "IN"
          ],
          [
           "IN"
          ],
          [
           "IN"
          ],
          [
           "IN"
          ],
          [
           "IN"
          ],
          [
           "IN"
          ],
          [
           "IN"
          ],
          [
           "IN"
          ],
          [
           "IN"
          ],
          [
           "IN"
          ],
          [
           "IN"
          ],
          [
           "IN"
          ],
          [
           "MN"
          ],
          [
           "MN"
          ],
          [
           "MN"
          ],
          [
           "MN"
          ],
          [
           "MN"
          ],
          [
           "MN"
          ],
          [
           "MN"
          ],
          [
           "MN"
          ],
          [
           "MN"
          ],
          [
           "MN"
          ],
          [
           "MN"
          ],
          [
           "MN"
          ],
          [
           "MO"
          ],
          [
           "MO"
          ],
          [
           "MO"
          ],
          [
           "MO"
          ],
          [
           "MO"
          ],
          [
           "MO"
          ],
          [
           "MO"
          ],
          [
           "MO"
          ],
          [
           "MO"
          ],
          [
           "MO"
          ],
          [
           "MO"
          ],
          [
           "MO"
          ],
          [
           "IA"
          ],
          [
           "IA"
          ],
          [
           "IA"
          ],
          [
           "IA"
          ],
          [
           "IA"
          ],
          [
           "IA"
          ],
          [
           "IA"
          ],
          [
           "IA"
          ],
          [
           "IA"
          ],
          [
           "IA"
          ],
          [
           "IA"
          ],
          [
           "IA"
          ],
          [
           "OH"
          ],
          [
           "OH"
          ],
          [
           "OH"
          ],
          [
           "OH"
          ],
          [
           "OH"
          ],
          [
           "OH"
          ],
          [
           "OH"
          ],
          [
           "OH"
          ],
          [
           "OH"
          ],
          [
           "OH"
          ],
          [
           "OH"
          ],
          [
           "OH"
          ],
          [
           "NE"
          ],
          [
           "NE"
          ],
          [
           "NE"
          ],
          [
           "NE"
          ],
          [
           "NE"
          ],
          [
           "NE"
          ],
          [
           "NE"
          ],
          [
           "NE"
          ],
          [
           "NE"
          ],
          [
           "NE"
          ],
          [
           "NE"
          ],
          [
           "NE"
          ],
          [
           "MO"
          ],
          [
           "MO"
          ],
          [
           "MO"
          ],
          [
           "MO"
          ],
          [
           "MO"
          ],
          [
           "MO"
          ],
          [
           "MO"
          ],
          [
           "MO"
          ],
          [
           "MO"
          ],
          [
           "MO"
          ],
          [
           "MO"
          ],
          [
           "MO"
          ],
          [
           "IN"
          ],
          [
           "IN"
          ],
          [
           "IN"
          ],
          [
           "IN"
          ],
          [
           "IN"
          ],
          [
           "IN"
          ],
          [
           "IN"
          ],
          [
           "IN"
          ],
          [
           "IN"
          ],
          [
           "IN"
          ],
          [
           "IN"
          ],
          [
           "IN"
          ],
          [
           "MI"
          ],
          [
           "MI"
          ],
          [
           "MI"
          ],
          [
           "MI"
          ],
          [
           "MI"
          ],
          [
           "MI"
          ],
          [
           "MI"
          ],
          [
           "MI"
          ],
          [
           "MI"
          ],
          [
           "MI"
          ],
          [
           "MI"
          ],
          [
           "MI"
          ],
          [
           "OH"
          ],
          [
           "OH"
          ],
          [
           "OH"
          ],
          [
           "OH"
          ],
          [
           "OH"
          ],
          [
           "OH"
          ],
          [
           "OH"
          ],
          [
           "OH"
          ],
          [
           "OH"
          ],
          [
           "OH"
          ],
          [
           "OH"
          ],
          [
           "OH"
          ],
          [
           "SD"
          ],
          [
           "SD"
          ],
          [
           "SD"
          ],
          [
           "SD"
          ],
          [
           "SD"
          ],
          [
           "SD"
          ],
          [
           "SD"
          ],
          [
           "SD"
          ],
          [
           "SD"
          ],
          [
           "SD"
          ],
          [
           "SD"
          ],
          [
           "SD"
          ],
          [
           "MO"
          ],
          [
           "MO"
          ],
          [
           "MO"
          ],
          [
           "MO"
          ],
          [
           "MO"
          ],
          [
           "MO"
          ],
          [
           "MO"
          ],
          [
           "MO"
          ],
          [
           "MO"
          ],
          [
           "MO"
          ],
          [
           "MO"
          ],
          [
           "MO"
          ],
          [
           "MI"
          ],
          [
           "MI"
          ],
          [
           "MI"
          ],
          [
           "MI"
          ],
          [
           "MI"
          ],
          [
           "MI"
          ],
          [
           "MI"
          ],
          [
           "MI"
          ],
          [
           "MI"
          ],
          [
           "MI"
          ],
          [
           "MI"
          ],
          [
           "MI"
          ],
          [
           "ND"
          ],
          [
           "ND"
          ],
          [
           "ND"
          ],
          [
           "ND"
          ],
          [
           "ND"
          ],
          [
           "ND"
          ],
          [
           "ND"
          ],
          [
           "ND"
          ],
          [
           "ND"
          ],
          [
           "ND"
          ],
          [
           "ND"
          ],
          [
           "ND"
          ],
          [
           "IN"
          ],
          [
           "IN"
          ],
          [
           "IN"
          ],
          [
           "IN"
          ],
          [
           "IN"
          ],
          [
           "IN"
          ],
          [
           "IN"
          ],
          [
           "IN"
          ],
          [
           "IN"
          ],
          [
           "IN"
          ],
          [
           "IN"
          ],
          [
           "IN"
          ],
          [
           "IL"
          ],
          [
           "IL"
          ],
          [
           "IL"
          ],
          [
           "IL"
          ],
          [
           "IL"
          ],
          [
           "IL"
          ],
          [
           "IL"
          ],
          [
           "IL"
          ],
          [
           "IL"
          ],
          [
           "IL"
          ],
          [
           "IL"
          ],
          [
           "IL"
          ],
          [
           "SD"
          ],
          [
           "SD"
          ],
          [
           "SD"
          ],
          [
           "SD"
          ],
          [
           "SD"
          ],
          [
           "SD"
          ],
          [
           "SD"
          ],
          [
           "SD"
          ],
          [
           "SD"
          ],
          [
           "SD"
          ],
          [
           "SD"
          ],
          [
           "SD"
          ],
          [
           "MN"
          ],
          [
           "MN"
          ],
          [
           "MN"
          ],
          [
           "MN"
          ],
          [
           "MN"
          ],
          [
           "MN"
          ],
          [
           "MN"
          ],
          [
           "MN"
          ],
          [
           "MN"
          ],
          [
           "MN"
          ],
          [
           "MN"
          ],
          [
           "MN"
          ],
          [
           "SD"
          ],
          [
           "SD"
          ],
          [
           "SD"
          ],
          [
           "SD"
          ],
          [
           "SD"
          ],
          [
           "SD"
          ],
          [
           "SD"
          ],
          [
           "SD"
          ],
          [
           "SD"
          ],
          [
           "SD"
          ],
          [
           "SD"
          ],
          [
           "SD"
          ],
          [
           "SD"
          ],
          [
           "SD"
          ],
          [
           "SD"
          ],
          [
           "SD"
          ],
          [
           "SD"
          ],
          [
           "SD"
          ],
          [
           "SD"
          ],
          [
           "SD"
          ],
          [
           "SD"
          ],
          [
           "SD"
          ],
          [
           "SD"
          ],
          [
           "SD"
          ],
          [
           "KS"
          ],
          [
           "KS"
          ],
          [
           "KS"
          ],
          [
           "KS"
          ],
          [
           "KS"
          ],
          [
           "KS"
          ],
          [
           "KS"
          ],
          [
           "KS"
          ],
          [
           "KS"
          ],
          [
           "KS"
          ],
          [
           "KS"
          ],
          [
           "KS"
          ],
          [
           "NE"
          ],
          [
           "NE"
          ],
          [
           "NE"
          ],
          [
           "NE"
          ],
          [
           "NE"
          ],
          [
           "NE"
          ],
          [
           "NE"
          ],
          [
           "NE"
          ],
          [
           "NE"
          ],
          [
           "NE"
          ],
          [
           "NE"
          ],
          [
           "NE"
          ],
          [
           "MO"
          ],
          [
           "MO"
          ],
          [
           "MO"
          ],
          [
           "MO"
          ],
          [
           "MO"
          ],
          [
           "MO"
          ],
          [
           "MO"
          ],
          [
           "MO"
          ],
          [
           "MO"
          ],
          [
           "MO"
          ],
          [
           "MO"
          ],
          [
           "MO"
          ],
          [
           "OH"
          ],
          [
           "OH"
          ],
          [
           "OH"
          ],
          [
           "OH"
          ],
          [
           "OH"
          ],
          [
           "OH"
          ],
          [
           "OH"
          ],
          [
           "OH"
          ],
          [
           "OH"
          ],
          [
           "OH"
          ],
          [
           "OH"
          ],
          [
           "OH"
          ],
          [
           "MN"
          ],
          [
           "MN"
          ],
          [
           "MN"
          ],
          [
           "MN"
          ],
          [
           "MN"
          ],
          [
           "MN"
          ],
          [
           "MN"
          ],
          [
           "MN"
          ],
          [
           "MN"
          ],
          [
           "MN"
          ],
          [
           "MN"
          ],
          [
           "MN"
          ],
          [
           "MI"
          ],
          [
           "MI"
          ],
          [
           "MI"
          ],
          [
           "MI"
          ],
          [
           "MI"
          ],
          [
           "MI"
          ],
          [
           "MI"
          ],
          [
           "MI"
          ],
          [
           "MI"
          ],
          [
           "MI"
          ],
          [
           "MI"
          ],
          [
           "MI"
          ],
          [
           "MI"
          ],
          [
           "MI"
          ],
          [
           "MI"
          ],
          [
           "MI"
          ],
          [
           "MI"
          ],
          [
           "MI"
          ],
          [
           "MI"
          ],
          [
           "MI"
          ],
          [
           "MI"
          ],
          [
           "MI"
          ],
          [
           "MI"
          ],
          [
           "MI"
          ],
          [
           "WI"
          ],
          [
           "WI"
          ],
          [
           "WI"
          ],
          [
           "WI"
          ],
          [
           "WI"
          ],
          [
           "WI"
          ],
          [
           "WI"
          ],
          [
           "WI"
          ],
          [
           "WI"
          ],
          [
           "WI"
          ],
          [
           "WI"
          ],
          [
           "WI"
          ],
          [
           "NE"
          ],
          [
           "NE"
          ],
          [
           "NE"
          ],
          [
           "NE"
          ],
          [
           "NE"
          ],
          [
           "NE"
          ],
          [
           "NE"
          ],
          [
           "NE"
          ],
          [
           "NE"
          ],
          [
           "NE"
          ],
          [
           "NE"
          ],
          [
           "NE"
          ],
          [
           "MI"
          ],
          [
           "MI"
          ],
          [
           "MI"
          ],
          [
           "MI"
          ],
          [
           "MI"
          ],
          [
           "MI"
          ],
          [
           "MI"
          ],
          [
           "MI"
          ],
          [
           "MI"
          ],
          [
           "MI"
          ],
          [
           "MI"
          ],
          [
           "MI"
          ],
          [
           "KS"
          ],
          [
           "KS"
          ],
          [
           "KS"
          ],
          [
           "KS"
          ],
          [
           "KS"
          ],
          [
           "KS"
          ],
          [
           "KS"
          ],
          [
           "KS"
          ],
          [
           "KS"
          ],
          [
           "KS"
          ],
          [
           "KS"
          ],
          [
           "KS"
          ],
          [
           "ND"
          ],
          [
           "ND"
          ],
          [
           "ND"
          ],
          [
           "ND"
          ],
          [
           "ND"
          ],
          [
           "ND"
          ],
          [
           "ND"
          ],
          [
           "ND"
          ],
          [
           "ND"
          ],
          [
           "ND"
          ],
          [
           "ND"
          ],
          [
           "ND"
          ],
          [
           "MO"
          ],
          [
           "MO"
          ],
          [
           "MO"
          ],
          [
           "MO"
          ],
          [
           "MO"
          ],
          [
           "MO"
          ],
          [
           "MO"
          ],
          [
           "MO"
          ],
          [
           "MO"
          ],
          [
           "MO"
          ],
          [
           "MO"
          ],
          [
           "MO"
          ],
          [
           "MN"
          ],
          [
           "MN"
          ],
          [
           "MN"
          ],
          [
           "MN"
          ],
          [
           "MN"
          ],
          [
           "MN"
          ],
          [
           "MN"
          ],
          [
           "MN"
          ],
          [
           "MN"
          ],
          [
           "MN"
          ],
          [
           "MN"
          ],
          [
           "MN"
          ],
          [
           "SD"
          ],
          [
           "SD"
          ],
          [
           "SD"
          ],
          [
           "SD"
          ],
          [
           "SD"
          ],
          [
           "SD"
          ],
          [
           "SD"
          ],
          [
           "SD"
          ],
          [
           "SD"
          ],
          [
           "SD"
          ],
          [
           "SD"
          ],
          [
           "SD"
          ],
          [
           "MO"
          ],
          [
           "MO"
          ],
          [
           "MO"
          ],
          [
           "MO"
          ],
          [
           "MO"
          ],
          [
           "MO"
          ],
          [
           "MO"
          ],
          [
           "MO"
          ],
          [
           "MO"
          ],
          [
           "MO"
          ],
          [
           "MO"
          ],
          [
           "MO"
          ],
          [
           "OH"
          ],
          [
           "OH"
          ],
          [
           "OH"
          ],
          [
           "OH"
          ],
          [
           "OH"
          ],
          [
           "OH"
          ],
          [
           "OH"
          ],
          [
           "OH"
          ],
          [
           "OH"
          ],
          [
           "OH"
          ],
          [
           "OH"
          ],
          [
           "OH"
          ]
         ],
         "hoverlabel": {
          "namelength": 0
         },
         "hovertemplate": "Population=%{x}<br>Total Visitors=%{marker.size}<br>StateCode=%{customdata[0]}",
         "legendgroup": "",
         "marker": {
          "color": "#636efa",
          "size": [
           325160,
           408618,
           833566,
           893558,
           1557746,
           2825872,
           4201409,
           3192593,
           2029231,
           1120572,
           593559,
           482091,
           325160,
           408618,
           833566,
           893558,
           1557746,
           2825872,
           4201409,
           3192593,
           2029231,
           1120572,
           593559,
           482091,
           325160,
           408618,
           833566,
           893558,
           1557746,
           2825872,
           4201409,
           3192593,
           2029231,
           1120572,
           593559,
           482091,
           325160,
           408618,
           833566,
           893558,
           1557746,
           2825872,
           4201409,
           3192593,
           2029231,
           1120572,
           593559,
           482091,
           325160,
           408618,
           833566,
           893558,
           1557746,
           2825872,
           4201409,
           3192593,
           2029231,
           1120572,
           593559,
           482091,
           325160,
           408618,
           833566,
           893558,
           1557746,
           2825872,
           4201409,
           3192593,
           2029231,
           1120572,
           593559,
           482091,
           325160,
           408618,
           833566,
           893558,
           1557746,
           2825872,
           4201409,
           3192593,
           2029231,
           1120572,
           593559,
           482091,
           325160,
           408618,
           833566,
           893558,
           1557746,
           2825872,
           4201409,
           3192593,
           2029231,
           1120572,
           593559,
           482091,
           325160,
           408618,
           833566,
           893558,
           1557746,
           2825872,
           4201409,
           3192593,
           2029231,
           1120572,
           593559,
           482091,
           325160,
           408618,
           833566,
           893558,
           1557746,
           2825872,
           4201409,
           3192593,
           2029231,
           1120572,
           593559,
           482091,
           325160,
           408618,
           833566,
           893558,
           1557746,
           2825872,
           4201409,
           3192593,
           2029231,
           1120572,
           593559,
           482091,
           325160,
           408618,
           833566,
           893558,
           1557746,
           2825872,
           4201409,
           3192593,
           2029231,
           1120572,
           593559,
           482091,
           325160,
           408618,
           833566,
           893558,
           1557746,
           2825872,
           4201409,
           3192593,
           2029231,
           1120572,
           593559,
           482091,
           325160,
           408618,
           833566,
           893558,
           1557746,
           2825872,
           4201409,
           3192593,
           2029231,
           1120572,
           593559,
           482091,
           325160,
           408618,
           833566,
           893558,
           1557746,
           2825872,
           4201409,
           3192593,
           2029231,
           1120572,
           593559,
           482091,
           325160,
           408618,
           833566,
           893558,
           1557746,
           2825872,
           4201409,
           3192593,
           2029231,
           1120572,
           593559,
           482091,
           325160,
           408618,
           833566,
           893558,
           1557746,
           2825872,
           4201409,
           3192593,
           2029231,
           1120572,
           593559,
           482091,
           325160,
           408618,
           833566,
           893558,
           1557746,
           2825872,
           4201409,
           3192593,
           2029231,
           1120572,
           593559,
           482091,
           325160,
           408618,
           833566,
           893558,
           1557746,
           2825872,
           4201409,
           3192593,
           2029231,
           1120572,
           593559,
           482091,
           325160,
           408618,
           833566,
           893558,
           1557746,
           2825872,
           4201409,
           3192593,
           2029231,
           1120572,
           593559,
           482091,
           325160,
           408618,
           833566,
           893558,
           1557746,
           2825872,
           4201409,
           3192593,
           2029231,
           1120572,
           593559,
           482091,
           325160,
           408618,
           833566,
           893558,
           1557746,
           2825872,
           4201409,
           3192593,
           2029231,
           1120572,
           593559,
           482091,
           325160,
           408618,
           833566,
           893558,
           1557746,
           2825872,
           4201409,
           3192593,
           2029231,
           1120572,
           593559,
           482091,
           325160,
           408618,
           833566,
           893558,
           1557746,
           2825872,
           4201409,
           3192593,
           2029231,
           1120572,
           593559,
           482091,
           325160,
           408618,
           833566,
           893558,
           1557746,
           2825872,
           4201409,
           3192593,
           2029231,
           1120572,
           593559,
           482091,
           325160,
           408618,
           833566,
           893558,
           1557746,
           2825872,
           4201409,
           3192593,
           2029231,
           1120572,
           593559,
           482091,
           325160,
           408618,
           833566,
           893558,
           1557746,
           2825872,
           4201409,
           3192593,
           2029231,
           1120572,
           593559,
           482091,
           325160,
           408618,
           833566,
           893558,
           1557746,
           2825872,
           4201409,
           3192593,
           2029231,
           1120572,
           593559,
           482091,
           325160,
           408618,
           833566,
           893558,
           1557746,
           2825872,
           4201409,
           3192593,
           2029231,
           1120572,
           593559,
           482091,
           325160,
           408618,
           833566,
           893558,
           1557746,
           2825872,
           4201409,
           3192593,
           2029231,
           1120572,
           593559,
           482091,
           325160,
           408618,
           833566,
           893558,
           1557746,
           2825872,
           4201409,
           3192593,
           2029231,
           1120572,
           593559,
           482091,
           325160,
           408618,
           833566,
           893558,
           1557746,
           2825872,
           4201409,
           3192593,
           2029231,
           1120572,
           593559,
           482091,
           325160,
           408618,
           833566,
           893558,
           1557746,
           2825872,
           4201409,
           3192593,
           2029231,
           1120572,
           593559,
           482091,
           325160,
           408618,
           833566,
           893558,
           1557746,
           2825872,
           4201409,
           3192593,
           2029231,
           1120572,
           593559,
           482091,
           325160,
           408618,
           833566,
           893558,
           1557746,
           2825872,
           4201409,
           3192593,
           2029231,
           1120572,
           593559,
           482091,
           325160,
           408618,
           833566,
           893558,
           1557746,
           2825872,
           4201409,
           3192593,
           2029231,
           1120572,
           593559,
           482091,
           325160,
           408618,
           833566,
           893558,
           1557746,
           2825872,
           4201409,
           3192593,
           2029231,
           1120572,
           593559,
           482091,
           325160,
           408618,
           833566,
           893558,
           1557746,
           2825872,
           4201409,
           3192593,
           2029231,
           1120572,
           593559,
           482091,
           325160,
           408618,
           833566,
           893558,
           1557746,
           2825872,
           4201409,
           3192593,
           2029231,
           1120572,
           593559,
           482091,
           325160,
           408618,
           833566,
           893558,
           1557746,
           2825872,
           4201409,
           3192593,
           2029231,
           1120572,
           593559,
           482091,
           325160,
           408618,
           833566,
           893558,
           1557746,
           2825872,
           4201409,
           3192593,
           2029231,
           1120572,
           593559,
           482091,
           325160,
           408618,
           833566,
           893558,
           1557746,
           2825872,
           4201409,
           3192593,
           2029231,
           1120572,
           593559,
           482091,
           325160,
           408618,
           833566,
           893558,
           1557746,
           2825872,
           4201409,
           3192593,
           2029231,
           1120572,
           593559,
           482091,
           325160,
           408618,
           833566,
           893558,
           1557746,
           2825872,
           4201409,
           3192593,
           2029231,
           1120572,
           593559,
           482091,
           325160,
           408618,
           833566,
           893558,
           1557746,
           2825872,
           4201409,
           3192593,
           2029231,
           1120572,
           593559,
           482091,
           325160,
           408618,
           833566,
           893558,
           1557746,
           2825872,
           4201409,
           3192593,
           2029231,
           1120572,
           593559,
           482091,
           325160,
           408618,
           833566,
           893558,
           1557746,
           2825872,
           4201409,
           3192593,
           2029231,
           1120572,
           593559,
           482091,
           325160,
           408618,
           833566,
           893558,
           1557746,
           2825872,
           4201409,
           3192593,
           2029231,
           1120572,
           593559,
           482091,
           325160,
           408618,
           833566,
           893558,
           1557746,
           2825872,
           4201409,
           3192593,
           2029231,
           1120572,
           593559,
           482091
          ],
          "sizemode": "area",
          "sizeref": 10503.5225,
          "symbol": "circle"
         },
         "mode": "markers",
         "name": "",
         "showlegend": false,
         "type": "scatter",
         "x": [
          1893921,
          1893921,
          1893921,
          1893921,
          1893921,
          1893921,
          1893921,
          1893921,
          1893921,
          1893921,
          1893921,
          1893921,
          5763217,
          5763217,
          5763217,
          5763217,
          5763217,
          5763217,
          5763217,
          5763217,
          5763217,
          5763217,
          5763217,
          5763217,
          855444,
          855444,
          855444,
          855444,
          855444,
          855444,
          855444,
          855444,
          855444,
          855444,
          855444,
          855444,
          2903820,
          2903820,
          2903820,
          2903820,
          2903820,
          2903820,
          2903820,
          2903820,
          2903820,
          2903820,
          2903820,
          2903820,
          11609756,
          11609756,
          11609756,
          11609756,
          11609756,
          11609756,
          11609756,
          11609756,
          11609756,
          11609756,
          11609756,
          11609756,
          11609756,
          11609756,
          11609756,
          11609756,
          11609756,
          11609756,
          11609756,
          11609756,
          11609756,
          11609756,
          11609756,
          11609756,
          11609756,
          11609756,
          11609756,
          11609756,
          11609756,
          11609756,
          11609756,
          11609756,
          11609756,
          11609756,
          11609756,
          11609756,
          3118102,
          3118102,
          3118102,
          3118102,
          3118102,
          3118102,
          3118102,
          3118102,
          3118102,
          3118102,
          3118102,
          3118102,
          11609756,
          11609756,
          11609756,
          11609756,
          11609756,
          11609756,
          11609756,
          11609756,
          11609756,
          11609756,
          11609756,
          11609756,
          2903820,
          2903820,
          2903820,
          2903820,
          2903820,
          2903820,
          2903820,
          2903820,
          2903820,
          2903820,
          2903820,
          2903820,
          2903820,
          2903820,
          2903820,
          2903820,
          2903820,
          2903820,
          2903820,
          2903820,
          2903820,
          2903820,
          2903820,
          2903820,
          745475,
          745475,
          745475,
          745475,
          745475,
          745475,
          745475,
          745475,
          745475,
          745475,
          745475,
          745475,
          6614418,
          6614418,
          6614418,
          6614418,
          6614418,
          6614418,
          6614418,
          6614418,
          6614418,
          6614418,
          6614418,
          6614418,
          5490726,
          5490726,
          5490726,
          5490726,
          5490726,
          5490726,
          5490726,
          5490726,
          5490726,
          5490726,
          5490726,
          5490726,
          6075300,
          6075300,
          6075300,
          6075300,
          6075300,
          6075300,
          6075300,
          6075300,
          6075300,
          6075300,
          6075300,
          6075300,
          3118102,
          3118102,
          3118102,
          3118102,
          3118102,
          3118102,
          3118102,
          3118102,
          3118102,
          3118102,
          3118102,
          3118102,
          11609756,
          11609756,
          11609756,
          11609756,
          11609756,
          11609756,
          11609756,
          11609756,
          11609756,
          11609756,
          11609756,
          11609756,
          1893921,
          1893921,
          1893921,
          1893921,
          1893921,
          1893921,
          1893921,
          1893921,
          1893921,
          1893921,
          1893921,
          1893921,
          6075300,
          6075300,
          6075300,
          6075300,
          6075300,
          6075300,
          6075300,
          6075300,
          6075300,
          6075300,
          6075300,
          6075300,
          6614418,
          6614418,
          6614418,
          6614418,
          6614418,
          6614418,
          6614418,
          6614418,
          6614418,
          6614418,
          6614418,
          6614418,
          9925568,
          9925568,
          9925568,
          9925568,
          9925568,
          9925568,
          9925568,
          9925568,
          9925568,
          9925568,
          9925568,
          9925568,
          11609756,
          11609756,
          11609756,
          11609756,
          11609756,
          11609756,
          11609756,
          11609756,
          11609756,
          11609756,
          11609756,
          11609756,
          855444,
          855444,
          855444,
          855444,
          855444,
          855444,
          855444,
          855444,
          855444,
          855444,
          855444,
          855444,
          6075300,
          6075300,
          6075300,
          6075300,
          6075300,
          6075300,
          6075300,
          6075300,
          6075300,
          6075300,
          6075300,
          6075300,
          9925568,
          9925568,
          9925568,
          9925568,
          9925568,
          9925568,
          9925568,
          9925568,
          9925568,
          9925568,
          9925568,
          9925568,
          745475,
          745475,
          745475,
          745475,
          745475,
          745475,
          745475,
          745475,
          745475,
          745475,
          745475,
          745475,
          6614418,
          6614418,
          6614418,
          6614418,
          6614418,
          6614418,
          6614418,
          6614418,
          6614418,
          6614418,
          6614418,
          6614418,
          12854526,
          12854526,
          12854526,
          12854526,
          12854526,
          12854526,
          12854526,
          12854526,
          12854526,
          12854526,
          12854526,
          12854526,
          855444,
          855444,
          855444,
          855444,
          855444,
          855444,
          855444,
          855444,
          855444,
          855444,
          855444,
          855444,
          5490726,
          5490726,
          5490726,
          5490726,
          5490726,
          5490726,
          5490726,
          5490726,
          5490726,
          5490726,
          5490726,
          5490726,
          855444,
          855444,
          855444,
          855444,
          855444,
          855444,
          855444,
          855444,
          855444,
          855444,
          855444,
          855444,
          855444,
          855444,
          855444,
          855444,
          855444,
          855444,
          855444,
          855444,
          855444,
          855444,
          855444,
          855444,
          2903820,
          2903820,
          2903820,
          2903820,
          2903820,
          2903820,
          2903820,
          2903820,
          2903820,
          2903820,
          2903820,
          2903820,
          1893921,
          1893921,
          1893921,
          1893921,
          1893921,
          1893921,
          1893921,
          1893921,
          1893921,
          1893921,
          1893921,
          1893921,
          6075300,
          6075300,
          6075300,
          6075300,
          6075300,
          6075300,
          6075300,
          6075300,
          6075300,
          6075300,
          6075300,
          6075300,
          11609756,
          11609756,
          11609756,
          11609756,
          11609756,
          11609756,
          11609756,
          11609756,
          11609756,
          11609756,
          11609756,
          11609756,
          5490726,
          5490726,
          5490726,
          5490726,
          5490726,
          5490726,
          5490726,
          5490726,
          5490726,
          5490726,
          5490726,
          5490726,
          9925568,
          9925568,
          9925568,
          9925568,
          9925568,
          9925568,
          9925568,
          9925568,
          9925568,
          9925568,
          9925568,
          9925568,
          9925568,
          9925568,
          9925568,
          9925568,
          9925568,
          9925568,
          9925568,
          9925568,
          9925568,
          9925568,
          9925568,
          9925568,
          5763217,
          5763217,
          5763217,
          5763217,
          5763217,
          5763217,
          5763217,
          5763217,
          5763217,
          5763217,
          5763217,
          5763217,
          1893921,
          1893921,
          1893921,
          1893921,
          1893921,
          1893921,
          1893921,
          1893921,
          1893921,
          1893921,
          1893921,
          1893921,
          9925568,
          9925568,
          9925568,
          9925568,
          9925568,
          9925568,
          9925568,
          9925568,
          9925568,
          9925568,
          9925568,
          9925568,
          2903820,
          2903820,
          2903820,
          2903820,
          2903820,
          2903820,
          2903820,
          2903820,
          2903820,
          2903820,
          2903820,
          2903820,
          745475,
          745475,
          745475,
          745475,
          745475,
          745475,
          745475,
          745475,
          745475,
          745475,
          745475,
          745475,
          6075300,
          6075300,
          6075300,
          6075300,
          6075300,
          6075300,
          6075300,
          6075300,
          6075300,
          6075300,
          6075300,
          6075300,
          5490726,
          5490726,
          5490726,
          5490726,
          5490726,
          5490726,
          5490726,
          5490726,
          5490726,
          5490726,
          5490726,
          5490726,
          855444,
          855444,
          855444,
          855444,
          855444,
          855444,
          855444,
          855444,
          855444,
          855444,
          855444,
          855444,
          6075300,
          6075300,
          6075300,
          6075300,
          6075300,
          6075300,
          6075300,
          6075300,
          6075300,
          6075300,
          6075300,
          6075300,
          11609756,
          11609756,
          11609756,
          11609756,
          11609756,
          11609756,
          11609756,
          11609756,
          11609756,
          11609756,
          11609756,
          11609756
         ],
         "xaxis": "x",
         "y": [
          325160,
          408618,
          833566,
          893558,
          1557746,
          2825872,
          4201409,
          3192593,
          2029231,
          1120572,
          593559,
          482091,
          325160,
          408618,
          833566,
          893558,
          1557746,
          2825872,
          4201409,
          3192593,
          2029231,
          1120572,
          593559,
          482091,
          325160,
          408618,
          833566,
          893558,
          1557746,
          2825872,
          4201409,
          3192593,
          2029231,
          1120572,
          593559,
          482091,
          325160,
          408618,
          833566,
          893558,
          1557746,
          2825872,
          4201409,
          3192593,
          2029231,
          1120572,
          593559,
          482091,
          325160,
          408618,
          833566,
          893558,
          1557746,
          2825872,
          4201409,
          3192593,
          2029231,
          1120572,
          593559,
          482091,
          325160,
          408618,
          833566,
          893558,
          1557746,
          2825872,
          4201409,
          3192593,
          2029231,
          1120572,
          593559,
          482091,
          325160,
          408618,
          833566,
          893558,
          1557746,
          2825872,
          4201409,
          3192593,
          2029231,
          1120572,
          593559,
          482091,
          325160,
          408618,
          833566,
          893558,
          1557746,
          2825872,
          4201409,
          3192593,
          2029231,
          1120572,
          593559,
          482091,
          325160,
          408618,
          833566,
          893558,
          1557746,
          2825872,
          4201409,
          3192593,
          2029231,
          1120572,
          593559,
          482091,
          325160,
          408618,
          833566,
          893558,
          1557746,
          2825872,
          4201409,
          3192593,
          2029231,
          1120572,
          593559,
          482091,
          325160,
          408618,
          833566,
          893558,
          1557746,
          2825872,
          4201409,
          3192593,
          2029231,
          1120572,
          593559,
          482091,
          325160,
          408618,
          833566,
          893558,
          1557746,
          2825872,
          4201409,
          3192593,
          2029231,
          1120572,
          593559,
          482091,
          325160,
          408618,
          833566,
          893558,
          1557746,
          2825872,
          4201409,
          3192593,
          2029231,
          1120572,
          593559,
          482091,
          325160,
          408618,
          833566,
          893558,
          1557746,
          2825872,
          4201409,
          3192593,
          2029231,
          1120572,
          593559,
          482091,
          325160,
          408618,
          833566,
          893558,
          1557746,
          2825872,
          4201409,
          3192593,
          2029231,
          1120572,
          593559,
          482091,
          325160,
          408618,
          833566,
          893558,
          1557746,
          2825872,
          4201409,
          3192593,
          2029231,
          1120572,
          593559,
          482091,
          325160,
          408618,
          833566,
          893558,
          1557746,
          2825872,
          4201409,
          3192593,
          2029231,
          1120572,
          593559,
          482091,
          325160,
          408618,
          833566,
          893558,
          1557746,
          2825872,
          4201409,
          3192593,
          2029231,
          1120572,
          593559,
          482091,
          325160,
          408618,
          833566,
          893558,
          1557746,
          2825872,
          4201409,
          3192593,
          2029231,
          1120572,
          593559,
          482091,
          325160,
          408618,
          833566,
          893558,
          1557746,
          2825872,
          4201409,
          3192593,
          2029231,
          1120572,
          593559,
          482091,
          325160,
          408618,
          833566,
          893558,
          1557746,
          2825872,
          4201409,
          3192593,
          2029231,
          1120572,
          593559,
          482091,
          325160,
          408618,
          833566,
          893558,
          1557746,
          2825872,
          4201409,
          3192593,
          2029231,
          1120572,
          593559,
          482091,
          325160,
          408618,
          833566,
          893558,
          1557746,
          2825872,
          4201409,
          3192593,
          2029231,
          1120572,
          593559,
          482091,
          325160,
          408618,
          833566,
          893558,
          1557746,
          2825872,
          4201409,
          3192593,
          2029231,
          1120572,
          593559,
          482091,
          325160,
          408618,
          833566,
          893558,
          1557746,
          2825872,
          4201409,
          3192593,
          2029231,
          1120572,
          593559,
          482091,
          325160,
          408618,
          833566,
          893558,
          1557746,
          2825872,
          4201409,
          3192593,
          2029231,
          1120572,
          593559,
          482091,
          325160,
          408618,
          833566,
          893558,
          1557746,
          2825872,
          4201409,
          3192593,
          2029231,
          1120572,
          593559,
          482091,
          325160,
          408618,
          833566,
          893558,
          1557746,
          2825872,
          4201409,
          3192593,
          2029231,
          1120572,
          593559,
          482091,
          325160,
          408618,
          833566,
          893558,
          1557746,
          2825872,
          4201409,
          3192593,
          2029231,
          1120572,
          593559,
          482091,
          325160,
          408618,
          833566,
          893558,
          1557746,
          2825872,
          4201409,
          3192593,
          2029231,
          1120572,
          593559,
          482091,
          325160,
          408618,
          833566,
          893558,
          1557746,
          2825872,
          4201409,
          3192593,
          2029231,
          1120572,
          593559,
          482091,
          325160,
          408618,
          833566,
          893558,
          1557746,
          2825872,
          4201409,
          3192593,
          2029231,
          1120572,
          593559,
          482091,
          325160,
          408618,
          833566,
          893558,
          1557746,
          2825872,
          4201409,
          3192593,
          2029231,
          1120572,
          593559,
          482091,
          325160,
          408618,
          833566,
          893558,
          1557746,
          2825872,
          4201409,
          3192593,
          2029231,
          1120572,
          593559,
          482091,
          325160,
          408618,
          833566,
          893558,
          1557746,
          2825872,
          4201409,
          3192593,
          2029231,
          1120572,
          593559,
          482091,
          325160,
          408618,
          833566,
          893558,
          1557746,
          2825872,
          4201409,
          3192593,
          2029231,
          1120572,
          593559,
          482091,
          325160,
          408618,
          833566,
          893558,
          1557746,
          2825872,
          4201409,
          3192593,
          2029231,
          1120572,
          593559,
          482091,
          325160,
          408618,
          833566,
          893558,
          1557746,
          2825872,
          4201409,
          3192593,
          2029231,
          1120572,
          593559,
          482091,
          325160,
          408618,
          833566,
          893558,
          1557746,
          2825872,
          4201409,
          3192593,
          2029231,
          1120572,
          593559,
          482091,
          325160,
          408618,
          833566,
          893558,
          1557746,
          2825872,
          4201409,
          3192593,
          2029231,
          1120572,
          593559,
          482091,
          325160,
          408618,
          833566,
          893558,
          1557746,
          2825872,
          4201409,
          3192593,
          2029231,
          1120572,
          593559,
          482091,
          325160,
          408618,
          833566,
          893558,
          1557746,
          2825872,
          4201409,
          3192593,
          2029231,
          1120572,
          593559,
          482091,
          325160,
          408618,
          833566,
          893558,
          1557746,
          2825872,
          4201409,
          3192593,
          2029231,
          1120572,
          593559,
          482091,
          325160,
          408618,
          833566,
          893558,
          1557746,
          2825872,
          4201409,
          3192593,
          2029231,
          1120572,
          593559,
          482091,
          325160,
          408618,
          833566,
          893558,
          1557746,
          2825872,
          4201409,
          3192593,
          2029231,
          1120572,
          593559,
          482091,
          325160,
          408618,
          833566,
          893558,
          1557746,
          2825872,
          4201409,
          3192593,
          2029231,
          1120572,
          593559,
          482091,
          325160,
          408618,
          833566,
          893558,
          1557746,
          2825872,
          4201409,
          3192593,
          2029231,
          1120572,
          593559,
          482091,
          325160,
          408618,
          833566,
          893558,
          1557746,
          2825872,
          4201409,
          3192593,
          2029231,
          1120572,
          593559,
          482091,
          325160,
          408618,
          833566,
          893558,
          1557746,
          2825872,
          4201409,
          3192593,
          2029231,
          1120572,
          593559,
          482091
         ],
         "yaxis": "y"
        }
       ],
       "layout": {
        "legend": {
         "itemsizing": "constant",
         "tracegroupgap": 0
        },
        "margin": {
         "t": 60
        },
        "template": {
         "data": {
          "bar": [
           {
            "error_x": {
             "color": "#2a3f5f"
            },
            "error_y": {
             "color": "#2a3f5f"
            },
            "marker": {
             "line": {
              "color": "#E5ECF6",
              "width": 0.5
             }
            },
            "type": "bar"
           }
          ],
          "barpolar": [
           {
            "marker": {
             "line": {
              "color": "#E5ECF6",
              "width": 0.5
             }
            },
            "type": "barpolar"
           }
          ],
          "carpet": [
           {
            "aaxis": {
             "endlinecolor": "#2a3f5f",
             "gridcolor": "white",
             "linecolor": "white",
             "minorgridcolor": "white",
             "startlinecolor": "#2a3f5f"
            },
            "baxis": {
             "endlinecolor": "#2a3f5f",
             "gridcolor": "white",
             "linecolor": "white",
             "minorgridcolor": "white",
             "startlinecolor": "#2a3f5f"
            },
            "type": "carpet"
           }
          ],
          "choropleth": [
           {
            "colorbar": {
             "outlinewidth": 0,
             "ticks": ""
            },
            "type": "choropleth"
           }
          ],
          "contour": [
           {
            "colorbar": {
             "outlinewidth": 0,
             "ticks": ""
            },
            "colorscale": [
             [
              0,
              "#0d0887"
             ],
             [
              0.1111111111111111,
              "#46039f"
             ],
             [
              0.2222222222222222,
              "#7201a8"
             ],
             [
              0.3333333333333333,
              "#9c179e"
             ],
             [
              0.4444444444444444,
              "#bd3786"
             ],
             [
              0.5555555555555556,
              "#d8576b"
             ],
             [
              0.6666666666666666,
              "#ed7953"
             ],
             [
              0.7777777777777778,
              "#fb9f3a"
             ],
             [
              0.8888888888888888,
              "#fdca26"
             ],
             [
              1,
              "#f0f921"
             ]
            ],
            "type": "contour"
           }
          ],
          "contourcarpet": [
           {
            "colorbar": {
             "outlinewidth": 0,
             "ticks": ""
            },
            "type": "contourcarpet"
           }
          ],
          "heatmap": [
           {
            "colorbar": {
             "outlinewidth": 0,
             "ticks": ""
            },
            "colorscale": [
             [
              0,
              "#0d0887"
             ],
             [
              0.1111111111111111,
              "#46039f"
             ],
             [
              0.2222222222222222,
              "#7201a8"
             ],
             [
              0.3333333333333333,
              "#9c179e"
             ],
             [
              0.4444444444444444,
              "#bd3786"
             ],
             [
              0.5555555555555556,
              "#d8576b"
             ],
             [
              0.6666666666666666,
              "#ed7953"
             ],
             [
              0.7777777777777778,
              "#fb9f3a"
             ],
             [
              0.8888888888888888,
              "#fdca26"
             ],
             [
              1,
              "#f0f921"
             ]
            ],
            "type": "heatmap"
           }
          ],
          "heatmapgl": [
           {
            "colorbar": {
             "outlinewidth": 0,
             "ticks": ""
            },
            "colorscale": [
             [
              0,
              "#0d0887"
             ],
             [
              0.1111111111111111,
              "#46039f"
             ],
             [
              0.2222222222222222,
              "#7201a8"
             ],
             [
              0.3333333333333333,
              "#9c179e"
             ],
             [
              0.4444444444444444,
              "#bd3786"
             ],
             [
              0.5555555555555556,
              "#d8576b"
             ],
             [
              0.6666666666666666,
              "#ed7953"
             ],
             [
              0.7777777777777778,
              "#fb9f3a"
             ],
             [
              0.8888888888888888,
              "#fdca26"
             ],
             [
              1,
              "#f0f921"
             ]
            ],
            "type": "heatmapgl"
           }
          ],
          "histogram": [
           {
            "marker": {
             "colorbar": {
              "outlinewidth": 0,
              "ticks": ""
             }
            },
            "type": "histogram"
           }
          ],
          "histogram2d": [
           {
            "colorbar": {
             "outlinewidth": 0,
             "ticks": ""
            },
            "colorscale": [
             [
              0,
              "#0d0887"
             ],
             [
              0.1111111111111111,
              "#46039f"
             ],
             [
              0.2222222222222222,
              "#7201a8"
             ],
             [
              0.3333333333333333,
              "#9c179e"
             ],
             [
              0.4444444444444444,
              "#bd3786"
             ],
             [
              0.5555555555555556,
              "#d8576b"
             ],
             [
              0.6666666666666666,
              "#ed7953"
             ],
             [
              0.7777777777777778,
              "#fb9f3a"
             ],
             [
              0.8888888888888888,
              "#fdca26"
             ],
             [
              1,
              "#f0f921"
             ]
            ],
            "type": "histogram2d"
           }
          ],
          "histogram2dcontour": [
           {
            "colorbar": {
             "outlinewidth": 0,
             "ticks": ""
            },
            "colorscale": [
             [
              0,
              "#0d0887"
             ],
             [
              0.1111111111111111,
              "#46039f"
             ],
             [
              0.2222222222222222,
              "#7201a8"
             ],
             [
              0.3333333333333333,
              "#9c179e"
             ],
             [
              0.4444444444444444,
              "#bd3786"
             ],
             [
              0.5555555555555556,
              "#d8576b"
             ],
             [
              0.6666666666666666,
              "#ed7953"
             ],
             [
              0.7777777777777778,
              "#fb9f3a"
             ],
             [
              0.8888888888888888,
              "#fdca26"
             ],
             [
              1,
              "#f0f921"
             ]
            ],
            "type": "histogram2dcontour"
           }
          ],
          "mesh3d": [
           {
            "colorbar": {
             "outlinewidth": 0,
             "ticks": ""
            },
            "type": "mesh3d"
           }
          ],
          "parcoords": [
           {
            "line": {
             "colorbar": {
              "outlinewidth": 0,
              "ticks": ""
             }
            },
            "type": "parcoords"
           }
          ],
          "pie": [
           {
            "automargin": true,
            "type": "pie"
           }
          ],
          "scatter": [
           {
            "marker": {
             "colorbar": {
              "outlinewidth": 0,
              "ticks": ""
             }
            },
            "type": "scatter"
           }
          ],
          "scatter3d": [
           {
            "line": {
             "colorbar": {
              "outlinewidth": 0,
              "ticks": ""
             }
            },
            "marker": {
             "colorbar": {
              "outlinewidth": 0,
              "ticks": ""
             }
            },
            "type": "scatter3d"
           }
          ],
          "scattercarpet": [
           {
            "marker": {
             "colorbar": {
              "outlinewidth": 0,
              "ticks": ""
             }
            },
            "type": "scattercarpet"
           }
          ],
          "scattergeo": [
           {
            "marker": {
             "colorbar": {
              "outlinewidth": 0,
              "ticks": ""
             }
            },
            "type": "scattergeo"
           }
          ],
          "scattergl": [
           {
            "marker": {
             "colorbar": {
              "outlinewidth": 0,
              "ticks": ""
             }
            },
            "type": "scattergl"
           }
          ],
          "scattermapbox": [
           {
            "marker": {
             "colorbar": {
              "outlinewidth": 0,
              "ticks": ""
             }
            },
            "type": "scattermapbox"
           }
          ],
          "scatterpolar": [
           {
            "marker": {
             "colorbar": {
              "outlinewidth": 0,
              "ticks": ""
             }
            },
            "type": "scatterpolar"
           }
          ],
          "scatterpolargl": [
           {
            "marker": {
             "colorbar": {
              "outlinewidth": 0,
              "ticks": ""
             }
            },
            "type": "scatterpolargl"
           }
          ],
          "scatterternary": [
           {
            "marker": {
             "colorbar": {
              "outlinewidth": 0,
              "ticks": ""
             }
            },
            "type": "scatterternary"
           }
          ],
          "surface": [
           {
            "colorbar": {
             "outlinewidth": 0,
             "ticks": ""
            },
            "colorscale": [
             [
              0,
              "#0d0887"
             ],
             [
              0.1111111111111111,
              "#46039f"
             ],
             [
              0.2222222222222222,
              "#7201a8"
             ],
             [
              0.3333333333333333,
              "#9c179e"
             ],
             [
              0.4444444444444444,
              "#bd3786"
             ],
             [
              0.5555555555555556,
              "#d8576b"
             ],
             [
              0.6666666666666666,
              "#ed7953"
             ],
             [
              0.7777777777777778,
              "#fb9f3a"
             ],
             [
              0.8888888888888888,
              "#fdca26"
             ],
             [
              1,
              "#f0f921"
             ]
            ],
            "type": "surface"
           }
          ],
          "table": [
           {
            "cells": {
             "fill": {
              "color": "#EBF0F8"
             },
             "line": {
              "color": "white"
             }
            },
            "header": {
             "fill": {
              "color": "#C8D4E3"
             },
             "line": {
              "color": "white"
             }
            },
            "type": "table"
           }
          ]
         },
         "layout": {
          "annotationdefaults": {
           "arrowcolor": "#2a3f5f",
           "arrowhead": 0,
           "arrowwidth": 1
          },
          "coloraxis": {
           "colorbar": {
            "outlinewidth": 0,
            "ticks": ""
           }
          },
          "colorscale": {
           "diverging": [
            [
             0,
             "#8e0152"
            ],
            [
             0.1,
             "#c51b7d"
            ],
            [
             0.2,
             "#de77ae"
            ],
            [
             0.3,
             "#f1b6da"
            ],
            [
             0.4,
             "#fde0ef"
            ],
            [
             0.5,
             "#f7f7f7"
            ],
            [
             0.6,
             "#e6f5d0"
            ],
            [
             0.7,
             "#b8e186"
            ],
            [
             0.8,
             "#7fbc41"
            ],
            [
             0.9,
             "#4d9221"
            ],
            [
             1,
             "#276419"
            ]
           ],
           "sequential": [
            [
             0,
             "#0d0887"
            ],
            [
             0.1111111111111111,
             "#46039f"
            ],
            [
             0.2222222222222222,
             "#7201a8"
            ],
            [
             0.3333333333333333,
             "#9c179e"
            ],
            [
             0.4444444444444444,
             "#bd3786"
            ],
            [
             0.5555555555555556,
             "#d8576b"
            ],
            [
             0.6666666666666666,
             "#ed7953"
            ],
            [
             0.7777777777777778,
             "#fb9f3a"
            ],
            [
             0.8888888888888888,
             "#fdca26"
            ],
            [
             1,
             "#f0f921"
            ]
           ],
           "sequentialminus": [
            [
             0,
             "#0d0887"
            ],
            [
             0.1111111111111111,
             "#46039f"
            ],
            [
             0.2222222222222222,
             "#7201a8"
            ],
            [
             0.3333333333333333,
             "#9c179e"
            ],
            [
             0.4444444444444444,
             "#bd3786"
            ],
            [
             0.5555555555555556,
             "#d8576b"
            ],
            [
             0.6666666666666666,
             "#ed7953"
            ],
            [
             0.7777777777777778,
             "#fb9f3a"
            ],
            [
             0.8888888888888888,
             "#fdca26"
            ],
            [
             1,
             "#f0f921"
            ]
           ]
          },
          "colorway": [
           "#636efa",
           "#EF553B",
           "#00cc96",
           "#ab63fa",
           "#FFA15A",
           "#19d3f3",
           "#FF6692",
           "#B6E880",
           "#FF97FF",
           "#FECB52"
          ],
          "font": {
           "color": "#2a3f5f"
          },
          "geo": {
           "bgcolor": "white",
           "lakecolor": "white",
           "landcolor": "#E5ECF6",
           "showlakes": true,
           "showland": true,
           "subunitcolor": "white"
          },
          "hoverlabel": {
           "align": "left"
          },
          "hovermode": "closest",
          "mapbox": {
           "style": "light"
          },
          "paper_bgcolor": "white",
          "plot_bgcolor": "#E5ECF6",
          "polar": {
           "angularaxis": {
            "gridcolor": "white",
            "linecolor": "white",
            "ticks": ""
           },
           "bgcolor": "#E5ECF6",
           "radialaxis": {
            "gridcolor": "white",
            "linecolor": "white",
            "ticks": ""
           }
          },
          "scene": {
           "xaxis": {
            "backgroundcolor": "#E5ECF6",
            "gridcolor": "white",
            "gridwidth": 2,
            "linecolor": "white",
            "showbackground": true,
            "ticks": "",
            "zerolinecolor": "white"
           },
           "yaxis": {
            "backgroundcolor": "#E5ECF6",
            "gridcolor": "white",
            "gridwidth": 2,
            "linecolor": "white",
            "showbackground": true,
            "ticks": "",
            "zerolinecolor": "white"
           },
           "zaxis": {
            "backgroundcolor": "#E5ECF6",
            "gridcolor": "white",
            "gridwidth": 2,
            "linecolor": "white",
            "showbackground": true,
            "ticks": "",
            "zerolinecolor": "white"
           }
          },
          "shapedefaults": {
           "line": {
            "color": "#2a3f5f"
           }
          },
          "ternary": {
           "aaxis": {
            "gridcolor": "white",
            "linecolor": "white",
            "ticks": ""
           },
           "baxis": {
            "gridcolor": "white",
            "linecolor": "white",
            "ticks": ""
           },
           "bgcolor": "#E5ECF6",
           "caxis": {
            "gridcolor": "white",
            "linecolor": "white",
            "ticks": ""
           }
          },
          "title": {
           "x": 0.05
          },
          "xaxis": {
           "automargin": true,
           "gridcolor": "white",
           "linecolor": "white",
           "ticks": "",
           "title": {
            "standoff": 15
           },
           "zerolinecolor": "white",
           "zerolinewidth": 2
          },
          "yaxis": {
           "automargin": true,
           "gridcolor": "white",
           "linecolor": "white",
           "ticks": "",
           "title": {
            "standoff": 15
           },
           "zerolinecolor": "white",
           "zerolinewidth": 2
          }
         }
        },
        "title": {
         "text": "Population vs. Total Visitor"
        },
        "xaxis": {
         "anchor": "y",
         "domain": [
          0,
          1
         ],
         "title": {
          "text": "Population"
         }
        },
        "yaxis": {
         "anchor": "x",
         "domain": [
          0,
          1
         ],
         "title": {
          "text": "Total Visitors"
         }
        }
       }
      },
      "text/html": [
       "<div>\n",
       "        \n",
       "        \n",
       "            <div id=\"89b6634f-3c1b-4b66-8f32-9ccedf5194c6\" class=\"plotly-graph-div\" style=\"height:525px; width:100%;\"></div>\n",
       "            <script type=\"text/javascript\">\n",
       "                require([\"plotly\"], function(Plotly) {\n",
       "                    window.PLOTLYENV=window.PLOTLYENV || {};\n",
       "                    \n",
       "                if (document.getElementById(\"89b6634f-3c1b-4b66-8f32-9ccedf5194c6\")) {\n",
       "                    Plotly.newPlot(\n",
       "                        '89b6634f-3c1b-4b66-8f32-9ccedf5194c6',\n",
       "                        [{\"customdata\": [[\"NE\"], [\"NE\"], [\"NE\"], [\"NE\"], [\"NE\"], [\"NE\"], [\"NE\"], [\"NE\"], [\"NE\"], [\"NE\"], [\"NE\"], [\"NE\"], [\"WI\"], [\"WI\"], [\"WI\"], [\"WI\"], [\"WI\"], [\"WI\"], [\"WI\"], [\"WI\"], [\"WI\"], [\"WI\"], [\"WI\"], [\"WI\"], [\"SD\"], [\"SD\"], [\"SD\"], [\"SD\"], [\"SD\"], [\"SD\"], [\"SD\"], [\"SD\"], [\"SD\"], [\"SD\"], [\"SD\"], [\"SD\"], [\"KS\"], [\"KS\"], [\"KS\"], [\"KS\"], [\"KS\"], [\"KS\"], [\"KS\"], [\"KS\"], [\"KS\"], [\"KS\"], [\"KS\"], [\"KS\"], [\"OH\"], [\"OH\"], [\"OH\"], [\"OH\"], [\"OH\"], [\"OH\"], [\"OH\"], [\"OH\"], [\"OH\"], [\"OH\"], [\"OH\"], [\"OH\"], [\"OH\"], [\"OH\"], [\"OH\"], [\"OH\"], [\"OH\"], [\"OH\"], [\"OH\"], [\"OH\"], [\"OH\"], [\"OH\"], [\"OH\"], [\"OH\"], [\"OH\"], [\"OH\"], [\"OH\"], [\"OH\"], [\"OH\"], [\"OH\"], [\"OH\"], [\"OH\"], [\"OH\"], [\"OH\"], [\"OH\"], [\"OH\"], [\"IA\"], [\"IA\"], [\"IA\"], [\"IA\"], [\"IA\"], [\"IA\"], [\"IA\"], [\"IA\"], [\"IA\"], [\"IA\"], [\"IA\"], [\"IA\"], [\"OH\"], [\"OH\"], [\"OH\"], [\"OH\"], [\"OH\"], [\"OH\"], [\"OH\"], [\"OH\"], [\"OH\"], [\"OH\"], [\"OH\"], [\"OH\"], [\"KS\"], [\"KS\"], [\"KS\"], [\"KS\"], [\"KS\"], [\"KS\"], [\"KS\"], [\"KS\"], [\"KS\"], [\"KS\"], [\"KS\"], [\"KS\"], [\"KS\"], [\"KS\"], [\"KS\"], [\"KS\"], [\"KS\"], [\"KS\"], [\"KS\"], [\"KS\"], [\"KS\"], [\"KS\"], [\"KS\"], [\"KS\"], [\"ND\"], [\"ND\"], [\"ND\"], [\"ND\"], [\"ND\"], [\"ND\"], [\"ND\"], [\"ND\"], [\"ND\"], [\"ND\"], [\"ND\"], [\"ND\"], [\"IN\"], [\"IN\"], [\"IN\"], [\"IN\"], [\"IN\"], [\"IN\"], [\"IN\"], [\"IN\"], [\"IN\"], [\"IN\"], [\"IN\"], [\"IN\"], [\"MN\"], [\"MN\"], [\"MN\"], [\"MN\"], [\"MN\"], [\"MN\"], [\"MN\"], [\"MN\"], [\"MN\"], [\"MN\"], [\"MN\"], [\"MN\"], [\"MO\"], [\"MO\"], [\"MO\"], [\"MO\"], [\"MO\"], [\"MO\"], [\"MO\"], [\"MO\"], [\"MO\"], [\"MO\"], [\"MO\"], [\"MO\"], [\"IA\"], [\"IA\"], [\"IA\"], [\"IA\"], [\"IA\"], [\"IA\"], [\"IA\"], [\"IA\"], [\"IA\"], [\"IA\"], [\"IA\"], [\"IA\"], [\"OH\"], [\"OH\"], [\"OH\"], [\"OH\"], [\"OH\"], [\"OH\"], [\"OH\"], [\"OH\"], [\"OH\"], [\"OH\"], [\"OH\"], [\"OH\"], [\"NE\"], [\"NE\"], [\"NE\"], [\"NE\"], [\"NE\"], [\"NE\"], [\"NE\"], [\"NE\"], [\"NE\"], [\"NE\"], [\"NE\"], [\"NE\"], [\"MO\"], [\"MO\"], [\"MO\"], [\"MO\"], [\"MO\"], [\"MO\"], [\"MO\"], [\"MO\"], [\"MO\"], [\"MO\"], [\"MO\"], [\"MO\"], [\"IN\"], [\"IN\"], [\"IN\"], [\"IN\"], [\"IN\"], [\"IN\"], [\"IN\"], [\"IN\"], [\"IN\"], [\"IN\"], [\"IN\"], [\"IN\"], [\"MI\"], [\"MI\"], [\"MI\"], [\"MI\"], [\"MI\"], [\"MI\"], [\"MI\"], [\"MI\"], [\"MI\"], [\"MI\"], [\"MI\"], [\"MI\"], [\"OH\"], [\"OH\"], [\"OH\"], [\"OH\"], [\"OH\"], [\"OH\"], [\"OH\"], [\"OH\"], [\"OH\"], [\"OH\"], [\"OH\"], [\"OH\"], [\"SD\"], [\"SD\"], [\"SD\"], [\"SD\"], [\"SD\"], [\"SD\"], [\"SD\"], [\"SD\"], [\"SD\"], [\"SD\"], [\"SD\"], [\"SD\"], [\"MO\"], [\"MO\"], [\"MO\"], [\"MO\"], [\"MO\"], [\"MO\"], [\"MO\"], [\"MO\"], [\"MO\"], [\"MO\"], [\"MO\"], [\"MO\"], [\"MI\"], [\"MI\"], [\"MI\"], [\"MI\"], [\"MI\"], [\"MI\"], [\"MI\"], [\"MI\"], [\"MI\"], [\"MI\"], [\"MI\"], [\"MI\"], [\"ND\"], [\"ND\"], [\"ND\"], [\"ND\"], [\"ND\"], [\"ND\"], [\"ND\"], [\"ND\"], [\"ND\"], [\"ND\"], [\"ND\"], [\"ND\"], [\"IN\"], [\"IN\"], [\"IN\"], [\"IN\"], [\"IN\"], [\"IN\"], [\"IN\"], [\"IN\"], [\"IN\"], [\"IN\"], [\"IN\"], [\"IN\"], [\"IL\"], [\"IL\"], [\"IL\"], [\"IL\"], [\"IL\"], [\"IL\"], [\"IL\"], [\"IL\"], [\"IL\"], [\"IL\"], [\"IL\"], [\"IL\"], [\"SD\"], [\"SD\"], [\"SD\"], [\"SD\"], [\"SD\"], [\"SD\"], [\"SD\"], [\"SD\"], [\"SD\"], [\"SD\"], [\"SD\"], [\"SD\"], [\"MN\"], [\"MN\"], [\"MN\"], [\"MN\"], [\"MN\"], [\"MN\"], [\"MN\"], [\"MN\"], [\"MN\"], [\"MN\"], [\"MN\"], [\"MN\"], [\"SD\"], [\"SD\"], [\"SD\"], [\"SD\"], [\"SD\"], [\"SD\"], [\"SD\"], [\"SD\"], [\"SD\"], [\"SD\"], [\"SD\"], [\"SD\"], [\"SD\"], [\"SD\"], [\"SD\"], [\"SD\"], [\"SD\"], [\"SD\"], [\"SD\"], [\"SD\"], [\"SD\"], [\"SD\"], [\"SD\"], [\"SD\"], [\"KS\"], [\"KS\"], [\"KS\"], [\"KS\"], [\"KS\"], [\"KS\"], [\"KS\"], [\"KS\"], [\"KS\"], [\"KS\"], [\"KS\"], [\"KS\"], [\"NE\"], [\"NE\"], [\"NE\"], [\"NE\"], [\"NE\"], [\"NE\"], [\"NE\"], [\"NE\"], [\"NE\"], [\"NE\"], [\"NE\"], [\"NE\"], [\"MO\"], [\"MO\"], [\"MO\"], [\"MO\"], [\"MO\"], [\"MO\"], [\"MO\"], [\"MO\"], [\"MO\"], [\"MO\"], [\"MO\"], [\"MO\"], [\"OH\"], [\"OH\"], [\"OH\"], [\"OH\"], [\"OH\"], [\"OH\"], [\"OH\"], [\"OH\"], [\"OH\"], [\"OH\"], [\"OH\"], [\"OH\"], [\"MN\"], [\"MN\"], [\"MN\"], [\"MN\"], [\"MN\"], [\"MN\"], [\"MN\"], [\"MN\"], [\"MN\"], [\"MN\"], [\"MN\"], [\"MN\"], [\"MI\"], [\"MI\"], [\"MI\"], [\"MI\"], [\"MI\"], [\"MI\"], [\"MI\"], [\"MI\"], [\"MI\"], [\"MI\"], [\"MI\"], [\"MI\"], [\"MI\"], [\"MI\"], [\"MI\"], [\"MI\"], [\"MI\"], [\"MI\"], [\"MI\"], [\"MI\"], [\"MI\"], [\"MI\"], [\"MI\"], [\"MI\"], [\"WI\"], [\"WI\"], [\"WI\"], [\"WI\"], [\"WI\"], [\"WI\"], [\"WI\"], [\"WI\"], [\"WI\"], [\"WI\"], [\"WI\"], [\"WI\"], [\"NE\"], [\"NE\"], [\"NE\"], [\"NE\"], [\"NE\"], [\"NE\"], [\"NE\"], [\"NE\"], [\"NE\"], [\"NE\"], [\"NE\"], [\"NE\"], [\"MI\"], [\"MI\"], [\"MI\"], [\"MI\"], [\"MI\"], [\"MI\"], [\"MI\"], [\"MI\"], [\"MI\"], [\"MI\"], [\"MI\"], [\"MI\"], [\"KS\"], [\"KS\"], [\"KS\"], [\"KS\"], [\"KS\"], [\"KS\"], [\"KS\"], [\"KS\"], [\"KS\"], [\"KS\"], [\"KS\"], [\"KS\"], [\"ND\"], [\"ND\"], [\"ND\"], [\"ND\"], [\"ND\"], [\"ND\"], [\"ND\"], [\"ND\"], [\"ND\"], [\"ND\"], [\"ND\"], [\"ND\"], [\"MO\"], [\"MO\"], [\"MO\"], [\"MO\"], [\"MO\"], [\"MO\"], [\"MO\"], [\"MO\"], [\"MO\"], [\"MO\"], [\"MO\"], [\"MO\"], [\"MN\"], [\"MN\"], [\"MN\"], [\"MN\"], [\"MN\"], [\"MN\"], [\"MN\"], [\"MN\"], [\"MN\"], [\"MN\"], [\"MN\"], [\"MN\"], [\"SD\"], [\"SD\"], [\"SD\"], [\"SD\"], [\"SD\"], [\"SD\"], [\"SD\"], [\"SD\"], [\"SD\"], [\"SD\"], [\"SD\"], [\"SD\"], [\"MO\"], [\"MO\"], [\"MO\"], [\"MO\"], [\"MO\"], [\"MO\"], [\"MO\"], [\"MO\"], [\"MO\"], [\"MO\"], [\"MO\"], [\"MO\"], [\"OH\"], [\"OH\"], [\"OH\"], [\"OH\"], [\"OH\"], [\"OH\"], [\"OH\"], [\"OH\"], [\"OH\"], [\"OH\"], [\"OH\"], [\"OH\"]], \"hoverlabel\": {\"namelength\": 0}, \"hovertemplate\": \"Population=%{x}<br>Total Visitors=%{marker.size}<br>StateCode=%{customdata[0]}\", \"legendgroup\": \"\", \"marker\": {\"color\": \"#636efa\", \"size\": [325160, 408618, 833566, 893558, 1557746, 2825872, 4201409, 3192593, 2029231, 1120572, 593559, 482091, 325160, 408618, 833566, 893558, 1557746, 2825872, 4201409, 3192593, 2029231, 1120572, 593559, 482091, 325160, 408618, 833566, 893558, 1557746, 2825872, 4201409, 3192593, 2029231, 1120572, 593559, 482091, 325160, 408618, 833566, 893558, 1557746, 2825872, 4201409, 3192593, 2029231, 1120572, 593559, 482091, 325160, 408618, 833566, 893558, 1557746, 2825872, 4201409, 3192593, 2029231, 1120572, 593559, 482091, 325160, 408618, 833566, 893558, 1557746, 2825872, 4201409, 3192593, 2029231, 1120572, 593559, 482091, 325160, 408618, 833566, 893558, 1557746, 2825872, 4201409, 3192593, 2029231, 1120572, 593559, 482091, 325160, 408618, 833566, 893558, 1557746, 2825872, 4201409, 3192593, 2029231, 1120572, 593559, 482091, 325160, 408618, 833566, 893558, 1557746, 2825872, 4201409, 3192593, 2029231, 1120572, 593559, 482091, 325160, 408618, 833566, 893558, 1557746, 2825872, 4201409, 3192593, 2029231, 1120572, 593559, 482091, 325160, 408618, 833566, 893558, 1557746, 2825872, 4201409, 3192593, 2029231, 1120572, 593559, 482091, 325160, 408618, 833566, 893558, 1557746, 2825872, 4201409, 3192593, 2029231, 1120572, 593559, 482091, 325160, 408618, 833566, 893558, 1557746, 2825872, 4201409, 3192593, 2029231, 1120572, 593559, 482091, 325160, 408618, 833566, 893558, 1557746, 2825872, 4201409, 3192593, 2029231, 1120572, 593559, 482091, 325160, 408618, 833566, 893558, 1557746, 2825872, 4201409, 3192593, 2029231, 1120572, 593559, 482091, 325160, 408618, 833566, 893558, 1557746, 2825872, 4201409, 3192593, 2029231, 1120572, 593559, 482091, 325160, 408618, 833566, 893558, 1557746, 2825872, 4201409, 3192593, 2029231, 1120572, 593559, 482091, 325160, 408618, 833566, 893558, 1557746, 2825872, 4201409, 3192593, 2029231, 1120572, 593559, 482091, 325160, 408618, 833566, 893558, 1557746, 2825872, 4201409, 3192593, 2029231, 1120572, 593559, 482091, 325160, 408618, 833566, 893558, 1557746, 2825872, 4201409, 3192593, 2029231, 1120572, 593559, 482091, 325160, 408618, 833566, 893558, 1557746, 2825872, 4201409, 3192593, 2029231, 1120572, 593559, 482091, 325160, 408618, 833566, 893558, 1557746, 2825872, 4201409, 3192593, 2029231, 1120572, 593559, 482091, 325160, 408618, 833566, 893558, 1557746, 2825872, 4201409, 3192593, 2029231, 1120572, 593559, 482091, 325160, 408618, 833566, 893558, 1557746, 2825872, 4201409, 3192593, 2029231, 1120572, 593559, 482091, 325160, 408618, 833566, 893558, 1557746, 2825872, 4201409, 3192593, 2029231, 1120572, 593559, 482091, 325160, 408618, 833566, 893558, 1557746, 2825872, 4201409, 3192593, 2029231, 1120572, 593559, 482091, 325160, 408618, 833566, 893558, 1557746, 2825872, 4201409, 3192593, 2029231, 1120572, 593559, 482091, 325160, 408618, 833566, 893558, 1557746, 2825872, 4201409, 3192593, 2029231, 1120572, 593559, 482091, 325160, 408618, 833566, 893558, 1557746, 2825872, 4201409, 3192593, 2029231, 1120572, 593559, 482091, 325160, 408618, 833566, 893558, 1557746, 2825872, 4201409, 3192593, 2029231, 1120572, 593559, 482091, 325160, 408618, 833566, 893558, 1557746, 2825872, 4201409, 3192593, 2029231, 1120572, 593559, 482091, 325160, 408618, 833566, 893558, 1557746, 2825872, 4201409, 3192593, 2029231, 1120572, 593559, 482091, 325160, 408618, 833566, 893558, 1557746, 2825872, 4201409, 3192593, 2029231, 1120572, 593559, 482091, 325160, 408618, 833566, 893558, 1557746, 2825872, 4201409, 3192593, 2029231, 1120572, 593559, 482091, 325160, 408618, 833566, 893558, 1557746, 2825872, 4201409, 3192593, 2029231, 1120572, 593559, 482091, 325160, 408618, 833566, 893558, 1557746, 2825872, 4201409, 3192593, 2029231, 1120572, 593559, 482091, 325160, 408618, 833566, 893558, 1557746, 2825872, 4201409, 3192593, 2029231, 1120572, 593559, 482091, 325160, 408618, 833566, 893558, 1557746, 2825872, 4201409, 3192593, 2029231, 1120572, 593559, 482091, 325160, 408618, 833566, 893558, 1557746, 2825872, 4201409, 3192593, 2029231, 1120572, 593559, 482091, 325160, 408618, 833566, 893558, 1557746, 2825872, 4201409, 3192593, 2029231, 1120572, 593559, 482091, 325160, 408618, 833566, 893558, 1557746, 2825872, 4201409, 3192593, 2029231, 1120572, 593559, 482091, 325160, 408618, 833566, 893558, 1557746, 2825872, 4201409, 3192593, 2029231, 1120572, 593559, 482091, 325160, 408618, 833566, 893558, 1557746, 2825872, 4201409, 3192593, 2029231, 1120572, 593559, 482091, 325160, 408618, 833566, 893558, 1557746, 2825872, 4201409, 3192593, 2029231, 1120572, 593559, 482091, 325160, 408618, 833566, 893558, 1557746, 2825872, 4201409, 3192593, 2029231, 1120572, 593559, 482091, 325160, 408618, 833566, 893558, 1557746, 2825872, 4201409, 3192593, 2029231, 1120572, 593559, 482091, 325160, 408618, 833566, 893558, 1557746, 2825872, 4201409, 3192593, 2029231, 1120572, 593559, 482091, 325160, 408618, 833566, 893558, 1557746, 2825872, 4201409, 3192593, 2029231, 1120572, 593559, 482091, 325160, 408618, 833566, 893558, 1557746, 2825872, 4201409, 3192593, 2029231, 1120572, 593559, 482091], \"sizemode\": \"area\", \"sizeref\": 10503.5225, \"symbol\": \"circle\"}, \"mode\": \"markers\", \"name\": \"\", \"showlegend\": false, \"type\": \"scatter\", \"x\": [1893921.0, 1893921.0, 1893921.0, 1893921.0, 1893921.0, 1893921.0, 1893921.0, 1893921.0, 1893921.0, 1893921.0, 1893921.0, 1893921.0, 5763217.0, 5763217.0, 5763217.0, 5763217.0, 5763217.0, 5763217.0, 5763217.0, 5763217.0, 5763217.0, 5763217.0, 5763217.0, 5763217.0, 855444.0, 855444.0, 855444.0, 855444.0, 855444.0, 855444.0, 855444.0, 855444.0, 855444.0, 855444.0, 855444.0, 855444.0, 2903820.0, 2903820.0, 2903820.0, 2903820.0, 2903820.0, 2903820.0, 2903820.0, 2903820.0, 2903820.0, 2903820.0, 2903820.0, 2903820.0, 11609756.0, 11609756.0, 11609756.0, 11609756.0, 11609756.0, 11609756.0, 11609756.0, 11609756.0, 11609756.0, 11609756.0, 11609756.0, 11609756.0, 11609756.0, 11609756.0, 11609756.0, 11609756.0, 11609756.0, 11609756.0, 11609756.0, 11609756.0, 11609756.0, 11609756.0, 11609756.0, 11609756.0, 11609756.0, 11609756.0, 11609756.0, 11609756.0, 11609756.0, 11609756.0, 11609756.0, 11609756.0, 11609756.0, 11609756.0, 11609756.0, 11609756.0, 3118102.0, 3118102.0, 3118102.0, 3118102.0, 3118102.0, 3118102.0, 3118102.0, 3118102.0, 3118102.0, 3118102.0, 3118102.0, 3118102.0, 11609756.0, 11609756.0, 11609756.0, 11609756.0, 11609756.0, 11609756.0, 11609756.0, 11609756.0, 11609756.0, 11609756.0, 11609756.0, 11609756.0, 2903820.0, 2903820.0, 2903820.0, 2903820.0, 2903820.0, 2903820.0, 2903820.0, 2903820.0, 2903820.0, 2903820.0, 2903820.0, 2903820.0, 2903820.0, 2903820.0, 2903820.0, 2903820.0, 2903820.0, 2903820.0, 2903820.0, 2903820.0, 2903820.0, 2903820.0, 2903820.0, 2903820.0, 745475.0, 745475.0, 745475.0, 745475.0, 745475.0, 745475.0, 745475.0, 745475.0, 745475.0, 745475.0, 745475.0, 745475.0, 6614418.0, 6614418.0, 6614418.0, 6614418.0, 6614418.0, 6614418.0, 6614418.0, 6614418.0, 6614418.0, 6614418.0, 6614418.0, 6614418.0, 5490726.0, 5490726.0, 5490726.0, 5490726.0, 5490726.0, 5490726.0, 5490726.0, 5490726.0, 5490726.0, 5490726.0, 5490726.0, 5490726.0, 6075300.0, 6075300.0, 6075300.0, 6075300.0, 6075300.0, 6075300.0, 6075300.0, 6075300.0, 6075300.0, 6075300.0, 6075300.0, 6075300.0, 3118102.0, 3118102.0, 3118102.0, 3118102.0, 3118102.0, 3118102.0, 3118102.0, 3118102.0, 3118102.0, 3118102.0, 3118102.0, 3118102.0, 11609756.0, 11609756.0, 11609756.0, 11609756.0, 11609756.0, 11609756.0, 11609756.0, 11609756.0, 11609756.0, 11609756.0, 11609756.0, 11609756.0, 1893921.0, 1893921.0, 1893921.0, 1893921.0, 1893921.0, 1893921.0, 1893921.0, 1893921.0, 1893921.0, 1893921.0, 1893921.0, 1893921.0, 6075300.0, 6075300.0, 6075300.0, 6075300.0, 6075300.0, 6075300.0, 6075300.0, 6075300.0, 6075300.0, 6075300.0, 6075300.0, 6075300.0, 6614418.0, 6614418.0, 6614418.0, 6614418.0, 6614418.0, 6614418.0, 6614418.0, 6614418.0, 6614418.0, 6614418.0, 6614418.0, 6614418.0, 9925568.0, 9925568.0, 9925568.0, 9925568.0, 9925568.0, 9925568.0, 9925568.0, 9925568.0, 9925568.0, 9925568.0, 9925568.0, 9925568.0, 11609756.0, 11609756.0, 11609756.0, 11609756.0, 11609756.0, 11609756.0, 11609756.0, 11609756.0, 11609756.0, 11609756.0, 11609756.0, 11609756.0, 855444.0, 855444.0, 855444.0, 855444.0, 855444.0, 855444.0, 855444.0, 855444.0, 855444.0, 855444.0, 855444.0, 855444.0, 6075300.0, 6075300.0, 6075300.0, 6075300.0, 6075300.0, 6075300.0, 6075300.0, 6075300.0, 6075300.0, 6075300.0, 6075300.0, 6075300.0, 9925568.0, 9925568.0, 9925568.0, 9925568.0, 9925568.0, 9925568.0, 9925568.0, 9925568.0, 9925568.0, 9925568.0, 9925568.0, 9925568.0, 745475.0, 745475.0, 745475.0, 745475.0, 745475.0, 745475.0, 745475.0, 745475.0, 745475.0, 745475.0, 745475.0, 745475.0, 6614418.0, 6614418.0, 6614418.0, 6614418.0, 6614418.0, 6614418.0, 6614418.0, 6614418.0, 6614418.0, 6614418.0, 6614418.0, 6614418.0, 12854526.0, 12854526.0, 12854526.0, 12854526.0, 12854526.0, 12854526.0, 12854526.0, 12854526.0, 12854526.0, 12854526.0, 12854526.0, 12854526.0, 855444.0, 855444.0, 855444.0, 855444.0, 855444.0, 855444.0, 855444.0, 855444.0, 855444.0, 855444.0, 855444.0, 855444.0, 5490726.0, 5490726.0, 5490726.0, 5490726.0, 5490726.0, 5490726.0, 5490726.0, 5490726.0, 5490726.0, 5490726.0, 5490726.0, 5490726.0, 855444.0, 855444.0, 855444.0, 855444.0, 855444.0, 855444.0, 855444.0, 855444.0, 855444.0, 855444.0, 855444.0, 855444.0, 855444.0, 855444.0, 855444.0, 855444.0, 855444.0, 855444.0, 855444.0, 855444.0, 855444.0, 855444.0, 855444.0, 855444.0, 2903820.0, 2903820.0, 2903820.0, 2903820.0, 2903820.0, 2903820.0, 2903820.0, 2903820.0, 2903820.0, 2903820.0, 2903820.0, 2903820.0, 1893921.0, 1893921.0, 1893921.0, 1893921.0, 1893921.0, 1893921.0, 1893921.0, 1893921.0, 1893921.0, 1893921.0, 1893921.0, 1893921.0, 6075300.0, 6075300.0, 6075300.0, 6075300.0, 6075300.0, 6075300.0, 6075300.0, 6075300.0, 6075300.0, 6075300.0, 6075300.0, 6075300.0, 11609756.0, 11609756.0, 11609756.0, 11609756.0, 11609756.0, 11609756.0, 11609756.0, 11609756.0, 11609756.0, 11609756.0, 11609756.0, 11609756.0, 5490726.0, 5490726.0, 5490726.0, 5490726.0, 5490726.0, 5490726.0, 5490726.0, 5490726.0, 5490726.0, 5490726.0, 5490726.0, 5490726.0, 9925568.0, 9925568.0, 9925568.0, 9925568.0, 9925568.0, 9925568.0, 9925568.0, 9925568.0, 9925568.0, 9925568.0, 9925568.0, 9925568.0, 9925568.0, 9925568.0, 9925568.0, 9925568.0, 9925568.0, 9925568.0, 9925568.0, 9925568.0, 9925568.0, 9925568.0, 9925568.0, 9925568.0, 5763217.0, 5763217.0, 5763217.0, 5763217.0, 5763217.0, 5763217.0, 5763217.0, 5763217.0, 5763217.0, 5763217.0, 5763217.0, 5763217.0, 1893921.0, 1893921.0, 1893921.0, 1893921.0, 1893921.0, 1893921.0, 1893921.0, 1893921.0, 1893921.0, 1893921.0, 1893921.0, 1893921.0, 9925568.0, 9925568.0, 9925568.0, 9925568.0, 9925568.0, 9925568.0, 9925568.0, 9925568.0, 9925568.0, 9925568.0, 9925568.0, 9925568.0, 2903820.0, 2903820.0, 2903820.0, 2903820.0, 2903820.0, 2903820.0, 2903820.0, 2903820.0, 2903820.0, 2903820.0, 2903820.0, 2903820.0, 745475.0, 745475.0, 745475.0, 745475.0, 745475.0, 745475.0, 745475.0, 745475.0, 745475.0, 745475.0, 745475.0, 745475.0, 6075300.0, 6075300.0, 6075300.0, 6075300.0, 6075300.0, 6075300.0, 6075300.0, 6075300.0, 6075300.0, 6075300.0, 6075300.0, 6075300.0, 5490726.0, 5490726.0, 5490726.0, 5490726.0, 5490726.0, 5490726.0, 5490726.0, 5490726.0, 5490726.0, 5490726.0, 5490726.0, 5490726.0, 855444.0, 855444.0, 855444.0, 855444.0, 855444.0, 855444.0, 855444.0, 855444.0, 855444.0, 855444.0, 855444.0, 855444.0, 6075300.0, 6075300.0, 6075300.0, 6075300.0, 6075300.0, 6075300.0, 6075300.0, 6075300.0, 6075300.0, 6075300.0, 6075300.0, 6075300.0, 11609756.0, 11609756.0, 11609756.0, 11609756.0, 11609756.0, 11609756.0, 11609756.0, 11609756.0, 11609756.0, 11609756.0, 11609756.0, 11609756.0], \"xaxis\": \"x\", \"y\": [325160, 408618, 833566, 893558, 1557746, 2825872, 4201409, 3192593, 2029231, 1120572, 593559, 482091, 325160, 408618, 833566, 893558, 1557746, 2825872, 4201409, 3192593, 2029231, 1120572, 593559, 482091, 325160, 408618, 833566, 893558, 1557746, 2825872, 4201409, 3192593, 2029231, 1120572, 593559, 482091, 325160, 408618, 833566, 893558, 1557746, 2825872, 4201409, 3192593, 2029231, 1120572, 593559, 482091, 325160, 408618, 833566, 893558, 1557746, 2825872, 4201409, 3192593, 2029231, 1120572, 593559, 482091, 325160, 408618, 833566, 893558, 1557746, 2825872, 4201409, 3192593, 2029231, 1120572, 593559, 482091, 325160, 408618, 833566, 893558, 1557746, 2825872, 4201409, 3192593, 2029231, 1120572, 593559, 482091, 325160, 408618, 833566, 893558, 1557746, 2825872, 4201409, 3192593, 2029231, 1120572, 593559, 482091, 325160, 408618, 833566, 893558, 1557746, 2825872, 4201409, 3192593, 2029231, 1120572, 593559, 482091, 325160, 408618, 833566, 893558, 1557746, 2825872, 4201409, 3192593, 2029231, 1120572, 593559, 482091, 325160, 408618, 833566, 893558, 1557746, 2825872, 4201409, 3192593, 2029231, 1120572, 593559, 482091, 325160, 408618, 833566, 893558, 1557746, 2825872, 4201409, 3192593, 2029231, 1120572, 593559, 482091, 325160, 408618, 833566, 893558, 1557746, 2825872, 4201409, 3192593, 2029231, 1120572, 593559, 482091, 325160, 408618, 833566, 893558, 1557746, 2825872, 4201409, 3192593, 2029231, 1120572, 593559, 482091, 325160, 408618, 833566, 893558, 1557746, 2825872, 4201409, 3192593, 2029231, 1120572, 593559, 482091, 325160, 408618, 833566, 893558, 1557746, 2825872, 4201409, 3192593, 2029231, 1120572, 593559, 482091, 325160, 408618, 833566, 893558, 1557746, 2825872, 4201409, 3192593, 2029231, 1120572, 593559, 482091, 325160, 408618, 833566, 893558, 1557746, 2825872, 4201409, 3192593, 2029231, 1120572, 593559, 482091, 325160, 408618, 833566, 893558, 1557746, 2825872, 4201409, 3192593, 2029231, 1120572, 593559, 482091, 325160, 408618, 833566, 893558, 1557746, 2825872, 4201409, 3192593, 2029231, 1120572, 593559, 482091, 325160, 408618, 833566, 893558, 1557746, 2825872, 4201409, 3192593, 2029231, 1120572, 593559, 482091, 325160, 408618, 833566, 893558, 1557746, 2825872, 4201409, 3192593, 2029231, 1120572, 593559, 482091, 325160, 408618, 833566, 893558, 1557746, 2825872, 4201409, 3192593, 2029231, 1120572, 593559, 482091, 325160, 408618, 833566, 893558, 1557746, 2825872, 4201409, 3192593, 2029231, 1120572, 593559, 482091, 325160, 408618, 833566, 893558, 1557746, 2825872, 4201409, 3192593, 2029231, 1120572, 593559, 482091, 325160, 408618, 833566, 893558, 1557746, 2825872, 4201409, 3192593, 2029231, 1120572, 593559, 482091, 325160, 408618, 833566, 893558, 1557746, 2825872, 4201409, 3192593, 2029231, 1120572, 593559, 482091, 325160, 408618, 833566, 893558, 1557746, 2825872, 4201409, 3192593, 2029231, 1120572, 593559, 482091, 325160, 408618, 833566, 893558, 1557746, 2825872, 4201409, 3192593, 2029231, 1120572, 593559, 482091, 325160, 408618, 833566, 893558, 1557746, 2825872, 4201409, 3192593, 2029231, 1120572, 593559, 482091, 325160, 408618, 833566, 893558, 1557746, 2825872, 4201409, 3192593, 2029231, 1120572, 593559, 482091, 325160, 408618, 833566, 893558, 1557746, 2825872, 4201409, 3192593, 2029231, 1120572, 593559, 482091, 325160, 408618, 833566, 893558, 1557746, 2825872, 4201409, 3192593, 2029231, 1120572, 593559, 482091, 325160, 408618, 833566, 893558, 1557746, 2825872, 4201409, 3192593, 2029231, 1120572, 593559, 482091, 325160, 408618, 833566, 893558, 1557746, 2825872, 4201409, 3192593, 2029231, 1120572, 593559, 482091, 325160, 408618, 833566, 893558, 1557746, 2825872, 4201409, 3192593, 2029231, 1120572, 593559, 482091, 325160, 408618, 833566, 893558, 1557746, 2825872, 4201409, 3192593, 2029231, 1120572, 593559, 482091, 325160, 408618, 833566, 893558, 1557746, 2825872, 4201409, 3192593, 2029231, 1120572, 593559, 482091, 325160, 408618, 833566, 893558, 1557746, 2825872, 4201409, 3192593, 2029231, 1120572, 593559, 482091, 325160, 408618, 833566, 893558, 1557746, 2825872, 4201409, 3192593, 2029231, 1120572, 593559, 482091, 325160, 408618, 833566, 893558, 1557746, 2825872, 4201409, 3192593, 2029231, 1120572, 593559, 482091, 325160, 408618, 833566, 893558, 1557746, 2825872, 4201409, 3192593, 2029231, 1120572, 593559, 482091, 325160, 408618, 833566, 893558, 1557746, 2825872, 4201409, 3192593, 2029231, 1120572, 593559, 482091, 325160, 408618, 833566, 893558, 1557746, 2825872, 4201409, 3192593, 2029231, 1120572, 593559, 482091, 325160, 408618, 833566, 893558, 1557746, 2825872, 4201409, 3192593, 2029231, 1120572, 593559, 482091, 325160, 408618, 833566, 893558, 1557746, 2825872, 4201409, 3192593, 2029231, 1120572, 593559, 482091, 325160, 408618, 833566, 893558, 1557746, 2825872, 4201409, 3192593, 2029231, 1120572, 593559, 482091, 325160, 408618, 833566, 893558, 1557746, 2825872, 4201409, 3192593, 2029231, 1120572, 593559, 482091, 325160, 408618, 833566, 893558, 1557746, 2825872, 4201409, 3192593, 2029231, 1120572, 593559, 482091], \"yaxis\": \"y\"}],\n",
       "                        {\"legend\": {\"itemsizing\": \"constant\", \"tracegroupgap\": 0}, \"margin\": {\"t\": 60}, \"template\": {\"data\": {\"bar\": [{\"error_x\": {\"color\": \"#2a3f5f\"}, \"error_y\": {\"color\": \"#2a3f5f\"}, \"marker\": {\"line\": {\"color\": \"#E5ECF6\", \"width\": 0.5}}, \"type\": \"bar\"}], \"barpolar\": [{\"marker\": {\"line\": {\"color\": \"#E5ECF6\", \"width\": 0.5}}, \"type\": \"barpolar\"}], \"carpet\": [{\"aaxis\": {\"endlinecolor\": \"#2a3f5f\", \"gridcolor\": \"white\", \"linecolor\": \"white\", \"minorgridcolor\": \"white\", \"startlinecolor\": \"#2a3f5f\"}, \"baxis\": {\"endlinecolor\": \"#2a3f5f\", \"gridcolor\": \"white\", \"linecolor\": \"white\", \"minorgridcolor\": \"white\", \"startlinecolor\": \"#2a3f5f\"}, \"type\": \"carpet\"}], \"choropleth\": [{\"colorbar\": {\"outlinewidth\": 0, \"ticks\": \"\"}, \"type\": \"choropleth\"}], \"contour\": [{\"colorbar\": {\"outlinewidth\": 0, \"ticks\": \"\"}, \"colorscale\": [[0.0, \"#0d0887\"], [0.1111111111111111, \"#46039f\"], [0.2222222222222222, \"#7201a8\"], [0.3333333333333333, \"#9c179e\"], [0.4444444444444444, \"#bd3786\"], [0.5555555555555556, \"#d8576b\"], [0.6666666666666666, \"#ed7953\"], [0.7777777777777778, \"#fb9f3a\"], [0.8888888888888888, \"#fdca26\"], [1.0, \"#f0f921\"]], \"type\": \"contour\"}], \"contourcarpet\": [{\"colorbar\": {\"outlinewidth\": 0, \"ticks\": \"\"}, \"type\": \"contourcarpet\"}], \"heatmap\": [{\"colorbar\": {\"outlinewidth\": 0, \"ticks\": \"\"}, \"colorscale\": [[0.0, \"#0d0887\"], [0.1111111111111111, \"#46039f\"], [0.2222222222222222, \"#7201a8\"], [0.3333333333333333, \"#9c179e\"], [0.4444444444444444, \"#bd3786\"], [0.5555555555555556, \"#d8576b\"], [0.6666666666666666, \"#ed7953\"], [0.7777777777777778, \"#fb9f3a\"], [0.8888888888888888, \"#fdca26\"], [1.0, \"#f0f921\"]], \"type\": \"heatmap\"}], \"heatmapgl\": [{\"colorbar\": {\"outlinewidth\": 0, \"ticks\": \"\"}, \"colorscale\": [[0.0, \"#0d0887\"], [0.1111111111111111, \"#46039f\"], [0.2222222222222222, \"#7201a8\"], [0.3333333333333333, \"#9c179e\"], [0.4444444444444444, \"#bd3786\"], [0.5555555555555556, \"#d8576b\"], [0.6666666666666666, \"#ed7953\"], [0.7777777777777778, \"#fb9f3a\"], [0.8888888888888888, \"#fdca26\"], [1.0, \"#f0f921\"]], \"type\": \"heatmapgl\"}], \"histogram\": [{\"marker\": {\"colorbar\": {\"outlinewidth\": 0, \"ticks\": \"\"}}, \"type\": \"histogram\"}], \"histogram2d\": [{\"colorbar\": {\"outlinewidth\": 0, \"ticks\": \"\"}, \"colorscale\": [[0.0, \"#0d0887\"], [0.1111111111111111, \"#46039f\"], [0.2222222222222222, \"#7201a8\"], [0.3333333333333333, \"#9c179e\"], [0.4444444444444444, \"#bd3786\"], [0.5555555555555556, \"#d8576b\"], [0.6666666666666666, \"#ed7953\"], [0.7777777777777778, \"#fb9f3a\"], [0.8888888888888888, \"#fdca26\"], [1.0, \"#f0f921\"]], \"type\": \"histogram2d\"}], \"histogram2dcontour\": [{\"colorbar\": {\"outlinewidth\": 0, \"ticks\": \"\"}, \"colorscale\": [[0.0, \"#0d0887\"], [0.1111111111111111, \"#46039f\"], [0.2222222222222222, \"#7201a8\"], [0.3333333333333333, \"#9c179e\"], [0.4444444444444444, \"#bd3786\"], [0.5555555555555556, \"#d8576b\"], [0.6666666666666666, \"#ed7953\"], [0.7777777777777778, \"#fb9f3a\"], [0.8888888888888888, \"#fdca26\"], [1.0, \"#f0f921\"]], \"type\": \"histogram2dcontour\"}], \"mesh3d\": [{\"colorbar\": {\"outlinewidth\": 0, \"ticks\": \"\"}, \"type\": \"mesh3d\"}], \"parcoords\": [{\"line\": {\"colorbar\": {\"outlinewidth\": 0, \"ticks\": \"\"}}, \"type\": \"parcoords\"}], \"pie\": [{\"automargin\": true, \"type\": \"pie\"}], \"scatter\": [{\"marker\": {\"colorbar\": {\"outlinewidth\": 0, \"ticks\": \"\"}}, \"type\": \"scatter\"}], \"scatter3d\": [{\"line\": {\"colorbar\": {\"outlinewidth\": 0, \"ticks\": \"\"}}, \"marker\": {\"colorbar\": {\"outlinewidth\": 0, \"ticks\": \"\"}}, \"type\": \"scatter3d\"}], \"scattercarpet\": [{\"marker\": {\"colorbar\": {\"outlinewidth\": 0, \"ticks\": \"\"}}, \"type\": \"scattercarpet\"}], \"scattergeo\": [{\"marker\": {\"colorbar\": {\"outlinewidth\": 0, \"ticks\": \"\"}}, \"type\": \"scattergeo\"}], \"scattergl\": [{\"marker\": {\"colorbar\": {\"outlinewidth\": 0, \"ticks\": \"\"}}, \"type\": \"scattergl\"}], \"scattermapbox\": [{\"marker\": {\"colorbar\": {\"outlinewidth\": 0, \"ticks\": \"\"}}, \"type\": \"scattermapbox\"}], \"scatterpolar\": [{\"marker\": {\"colorbar\": {\"outlinewidth\": 0, \"ticks\": \"\"}}, \"type\": \"scatterpolar\"}], \"scatterpolargl\": [{\"marker\": {\"colorbar\": {\"outlinewidth\": 0, \"ticks\": \"\"}}, \"type\": \"scatterpolargl\"}], \"scatterternary\": [{\"marker\": {\"colorbar\": {\"outlinewidth\": 0, \"ticks\": \"\"}}, \"type\": \"scatterternary\"}], \"surface\": [{\"colorbar\": {\"outlinewidth\": 0, \"ticks\": \"\"}, \"colorscale\": [[0.0, \"#0d0887\"], [0.1111111111111111, \"#46039f\"], [0.2222222222222222, \"#7201a8\"], [0.3333333333333333, \"#9c179e\"], [0.4444444444444444, \"#bd3786\"], [0.5555555555555556, \"#d8576b\"], [0.6666666666666666, \"#ed7953\"], [0.7777777777777778, \"#fb9f3a\"], [0.8888888888888888, \"#fdca26\"], [1.0, \"#f0f921\"]], \"type\": \"surface\"}], \"table\": [{\"cells\": {\"fill\": {\"color\": \"#EBF0F8\"}, \"line\": {\"color\": \"white\"}}, \"header\": {\"fill\": {\"color\": \"#C8D4E3\"}, \"line\": {\"color\": \"white\"}}, \"type\": \"table\"}]}, \"layout\": {\"annotationdefaults\": {\"arrowcolor\": \"#2a3f5f\", \"arrowhead\": 0, \"arrowwidth\": 1}, \"coloraxis\": {\"colorbar\": {\"outlinewidth\": 0, \"ticks\": \"\"}}, \"colorscale\": {\"diverging\": [[0, \"#8e0152\"], [0.1, \"#c51b7d\"], [0.2, \"#de77ae\"], [0.3, \"#f1b6da\"], [0.4, \"#fde0ef\"], [0.5, \"#f7f7f7\"], [0.6, \"#e6f5d0\"], [0.7, \"#b8e186\"], [0.8, \"#7fbc41\"], [0.9, \"#4d9221\"], [1, \"#276419\"]], \"sequential\": [[0.0, \"#0d0887\"], [0.1111111111111111, \"#46039f\"], [0.2222222222222222, \"#7201a8\"], [0.3333333333333333, \"#9c179e\"], [0.4444444444444444, \"#bd3786\"], [0.5555555555555556, \"#d8576b\"], [0.6666666666666666, \"#ed7953\"], [0.7777777777777778, \"#fb9f3a\"], [0.8888888888888888, \"#fdca26\"], [1.0, \"#f0f921\"]], \"sequentialminus\": [[0.0, \"#0d0887\"], [0.1111111111111111, \"#46039f\"], [0.2222222222222222, \"#7201a8\"], [0.3333333333333333, \"#9c179e\"], [0.4444444444444444, \"#bd3786\"], [0.5555555555555556, \"#d8576b\"], [0.6666666666666666, \"#ed7953\"], [0.7777777777777778, \"#fb9f3a\"], [0.8888888888888888, \"#fdca26\"], [1.0, \"#f0f921\"]]}, \"colorway\": [\"#636efa\", \"#EF553B\", \"#00cc96\", \"#ab63fa\", \"#FFA15A\", \"#19d3f3\", \"#FF6692\", \"#B6E880\", \"#FF97FF\", \"#FECB52\"], \"font\": {\"color\": \"#2a3f5f\"}, \"geo\": {\"bgcolor\": \"white\", \"lakecolor\": \"white\", \"landcolor\": \"#E5ECF6\", \"showlakes\": true, \"showland\": true, \"subunitcolor\": \"white\"}, \"hoverlabel\": {\"align\": \"left\"}, \"hovermode\": \"closest\", \"mapbox\": {\"style\": \"light\"}, \"paper_bgcolor\": \"white\", \"plot_bgcolor\": \"#E5ECF6\", \"polar\": {\"angularaxis\": {\"gridcolor\": \"white\", \"linecolor\": \"white\", \"ticks\": \"\"}, \"bgcolor\": \"#E5ECF6\", \"radialaxis\": {\"gridcolor\": \"white\", \"linecolor\": \"white\", \"ticks\": \"\"}}, \"scene\": {\"xaxis\": {\"backgroundcolor\": \"#E5ECF6\", \"gridcolor\": \"white\", \"gridwidth\": 2, \"linecolor\": \"white\", \"showbackground\": true, \"ticks\": \"\", \"zerolinecolor\": \"white\"}, \"yaxis\": {\"backgroundcolor\": \"#E5ECF6\", \"gridcolor\": \"white\", \"gridwidth\": 2, \"linecolor\": \"white\", \"showbackground\": true, \"ticks\": \"\", \"zerolinecolor\": \"white\"}, \"zaxis\": {\"backgroundcolor\": \"#E5ECF6\", \"gridcolor\": \"white\", \"gridwidth\": 2, \"linecolor\": \"white\", \"showbackground\": true, \"ticks\": \"\", \"zerolinecolor\": \"white\"}}, \"shapedefaults\": {\"line\": {\"color\": \"#2a3f5f\"}}, \"ternary\": {\"aaxis\": {\"gridcolor\": \"white\", \"linecolor\": \"white\", \"ticks\": \"\"}, \"baxis\": {\"gridcolor\": \"white\", \"linecolor\": \"white\", \"ticks\": \"\"}, \"bgcolor\": \"#E5ECF6\", \"caxis\": {\"gridcolor\": \"white\", \"linecolor\": \"white\", \"ticks\": \"\"}}, \"title\": {\"x\": 0.05}, \"xaxis\": {\"automargin\": true, \"gridcolor\": \"white\", \"linecolor\": \"white\", \"ticks\": \"\", \"title\": {\"standoff\": 15}, \"zerolinecolor\": \"white\", \"zerolinewidth\": 2}, \"yaxis\": {\"automargin\": true, \"gridcolor\": \"white\", \"linecolor\": \"white\", \"ticks\": \"\", \"title\": {\"standoff\": 15}, \"zerolinecolor\": \"white\", \"zerolinewidth\": 2}}}, \"title\": {\"text\": \"Population vs. Total Visitor\"}, \"xaxis\": {\"anchor\": \"y\", \"domain\": [0.0, 1.0], \"title\": {\"text\": \"Population\"}}, \"yaxis\": {\"anchor\": \"x\", \"domain\": [0.0, 1.0], \"title\": {\"text\": \"Total Visitors\"}}},\n",
       "                        {\"responsive\": true}\n",
       "                    ).then(function(){\n",
       "                            \n",
       "var gd = document.getElementById('89b6634f-3c1b-4b66-8f32-9ccedf5194c6');\n",
       "var x = new MutationObserver(function (mutations, observer) {{\n",
       "        var display = window.getComputedStyle(gd).display;\n",
       "        if (!display || display === 'none') {{\n",
       "            console.log([gd, 'removed!']);\n",
       "            Plotly.purge(gd);\n",
       "            observer.disconnect();\n",
       "        }}\n",
       "}});\n",
       "\n",
       "// Listen for the removal of the full notebook cells\n",
       "var notebookContainer = gd.closest('#notebook-container');\n",
       "if (notebookContainer) {{\n",
       "    x.observe(notebookContainer, {childList: true});\n",
       "}}\n",
       "\n",
       "// Listen for the clearing of the current output cell\n",
       "var outputEl = gd.closest('.output');\n",
       "if (outputEl) {{\n",
       "    x.observe(outputEl, {childList: true});\n",
       "}}\n",
       "\n",
       "                        })\n",
       "                };\n",
       "                });\n",
       "            </script>\n",
       "        </div>"
      ]
     },
     "metadata": {},
     "output_type": "display_data"
    },
    {
     "data": {
      "application/vnd.plotly.v1+json": {
       "config": {
        "plotlyServerURL": "https://plot.ly"
       },
       "data": [
        {
         "customdata": [
          [
           "NE"
          ],
          [
           "NE"
          ],
          [
           "NE"
          ],
          [
           "NE"
          ],
          [
           "NE"
          ],
          [
           "NE"
          ],
          [
           "NE"
          ],
          [
           "NE"
          ],
          [
           "NE"
          ],
          [
           "NE"
          ],
          [
           "NE"
          ],
          [
           "NE"
          ],
          [
           "WI"
          ],
          [
           "WI"
          ],
          [
           "WI"
          ],
          [
           "WI"
          ],
          [
           "WI"
          ],
          [
           "WI"
          ],
          [
           "WI"
          ],
          [
           "WI"
          ],
          [
           "WI"
          ],
          [
           "WI"
          ],
          [
           "WI"
          ],
          [
           "WI"
          ],
          [
           "SD"
          ],
          [
           "SD"
          ],
          [
           "SD"
          ],
          [
           "SD"
          ],
          [
           "SD"
          ],
          [
           "SD"
          ],
          [
           "SD"
          ],
          [
           "SD"
          ],
          [
           "SD"
          ],
          [
           "SD"
          ],
          [
           "SD"
          ],
          [
           "SD"
          ],
          [
           "KS"
          ],
          [
           "KS"
          ],
          [
           "KS"
          ],
          [
           "KS"
          ],
          [
           "KS"
          ],
          [
           "KS"
          ],
          [
           "KS"
          ],
          [
           "KS"
          ],
          [
           "KS"
          ],
          [
           "KS"
          ],
          [
           "KS"
          ],
          [
           "KS"
          ],
          [
           "OH"
          ],
          [
           "OH"
          ],
          [
           "OH"
          ],
          [
           "OH"
          ],
          [
           "OH"
          ],
          [
           "OH"
          ],
          [
           "OH"
          ],
          [
           "OH"
          ],
          [
           "OH"
          ],
          [
           "OH"
          ],
          [
           "OH"
          ],
          [
           "OH"
          ],
          [
           "OH"
          ],
          [
           "OH"
          ],
          [
           "OH"
          ],
          [
           "OH"
          ],
          [
           "OH"
          ],
          [
           "OH"
          ],
          [
           "OH"
          ],
          [
           "OH"
          ],
          [
           "OH"
          ],
          [
           "OH"
          ],
          [
           "OH"
          ],
          [
           "OH"
          ],
          [
           "OH"
          ],
          [
           "OH"
          ],
          [
           "OH"
          ],
          [
           "OH"
          ],
          [
           "OH"
          ],
          [
           "OH"
          ],
          [
           "OH"
          ],
          [
           "OH"
          ],
          [
           "OH"
          ],
          [
           "OH"
          ],
          [
           "OH"
          ],
          [
           "OH"
          ],
          [
           "IA"
          ],
          [
           "IA"
          ],
          [
           "IA"
          ],
          [
           "IA"
          ],
          [
           "IA"
          ],
          [
           "IA"
          ],
          [
           "IA"
          ],
          [
           "IA"
          ],
          [
           "IA"
          ],
          [
           "IA"
          ],
          [
           "IA"
          ],
          [
           "IA"
          ],
          [
           "OH"
          ],
          [
           "OH"
          ],
          [
           "OH"
          ],
          [
           "OH"
          ],
          [
           "OH"
          ],
          [
           "OH"
          ],
          [
           "OH"
          ],
          [
           "OH"
          ],
          [
           "OH"
          ],
          [
           "OH"
          ],
          [
           "OH"
          ],
          [
           "OH"
          ],
          [
           "KS"
          ],
          [
           "KS"
          ],
          [
           "KS"
          ],
          [
           "KS"
          ],
          [
           "KS"
          ],
          [
           "KS"
          ],
          [
           "KS"
          ],
          [
           "KS"
          ],
          [
           "KS"
          ],
          [
           "KS"
          ],
          [
           "KS"
          ],
          [
           "KS"
          ],
          [
           "KS"
          ],
          [
           "KS"
          ],
          [
           "KS"
          ],
          [
           "KS"
          ],
          [
           "KS"
          ],
          [
           "KS"
          ],
          [
           "KS"
          ],
          [
           "KS"
          ],
          [
           "KS"
          ],
          [
           "KS"
          ],
          [
           "KS"
          ],
          [
           "KS"
          ],
          [
           "ND"
          ],
          [
           "ND"
          ],
          [
           "ND"
          ],
          [
           "ND"
          ],
          [
           "ND"
          ],
          [
           "ND"
          ],
          [
           "ND"
          ],
          [
           "ND"
          ],
          [
           "ND"
          ],
          [
           "ND"
          ],
          [
           "ND"
          ],
          [
           "ND"
          ],
          [
           "IN"
          ],
          [
           "IN"
          ],
          [
           "IN"
          ],
          [
           "IN"
          ],
          [
           "IN"
          ],
          [
           "IN"
          ],
          [
           "IN"
          ],
          [
           "IN"
          ],
          [
           "IN"
          ],
          [
           "IN"
          ],
          [
           "IN"
          ],
          [
           "IN"
          ],
          [
           "MN"
          ],
          [
           "MN"
          ],
          [
           "MN"
          ],
          [
           "MN"
          ],
          [
           "MN"
          ],
          [
           "MN"
          ],
          [
           "MN"
          ],
          [
           "MN"
          ],
          [
           "MN"
          ],
          [
           "MN"
          ],
          [
           "MN"
          ],
          [
           "MN"
          ],
          [
           "MO"
          ],
          [
           "MO"
          ],
          [
           "MO"
          ],
          [
           "MO"
          ],
          [
           "MO"
          ],
          [
           "MO"
          ],
          [
           "MO"
          ],
          [
           "MO"
          ],
          [
           "MO"
          ],
          [
           "MO"
          ],
          [
           "MO"
          ],
          [
           "MO"
          ],
          [
           "IA"
          ],
          [
           "IA"
          ],
          [
           "IA"
          ],
          [
           "IA"
          ],
          [
           "IA"
          ],
          [
           "IA"
          ],
          [
           "IA"
          ],
          [
           "IA"
          ],
          [
           "IA"
          ],
          [
           "IA"
          ],
          [
           "IA"
          ],
          [
           "IA"
          ],
          [
           "OH"
          ],
          [
           "OH"
          ],
          [
           "OH"
          ],
          [
           "OH"
          ],
          [
           "OH"
          ],
          [
           "OH"
          ],
          [
           "OH"
          ],
          [
           "OH"
          ],
          [
           "OH"
          ],
          [
           "OH"
          ],
          [
           "OH"
          ],
          [
           "OH"
          ],
          [
           "NE"
          ],
          [
           "NE"
          ],
          [
           "NE"
          ],
          [
           "NE"
          ],
          [
           "NE"
          ],
          [
           "NE"
          ],
          [
           "NE"
          ],
          [
           "NE"
          ],
          [
           "NE"
          ],
          [
           "NE"
          ],
          [
           "NE"
          ],
          [
           "NE"
          ],
          [
           "MO"
          ],
          [
           "MO"
          ],
          [
           "MO"
          ],
          [
           "MO"
          ],
          [
           "MO"
          ],
          [
           "MO"
          ],
          [
           "MO"
          ],
          [
           "MO"
          ],
          [
           "MO"
          ],
          [
           "MO"
          ],
          [
           "MO"
          ],
          [
           "MO"
          ],
          [
           "IN"
          ],
          [
           "IN"
          ],
          [
           "IN"
          ],
          [
           "IN"
          ],
          [
           "IN"
          ],
          [
           "IN"
          ],
          [
           "IN"
          ],
          [
           "IN"
          ],
          [
           "IN"
          ],
          [
           "IN"
          ],
          [
           "IN"
          ],
          [
           "IN"
          ],
          [
           "MI"
          ],
          [
           "MI"
          ],
          [
           "MI"
          ],
          [
           "MI"
          ],
          [
           "MI"
          ],
          [
           "MI"
          ],
          [
           "MI"
          ],
          [
           "MI"
          ],
          [
           "MI"
          ],
          [
           "MI"
          ],
          [
           "MI"
          ],
          [
           "MI"
          ],
          [
           "OH"
          ],
          [
           "OH"
          ],
          [
           "OH"
          ],
          [
           "OH"
          ],
          [
           "OH"
          ],
          [
           "OH"
          ],
          [
           "OH"
          ],
          [
           "OH"
          ],
          [
           "OH"
          ],
          [
           "OH"
          ],
          [
           "OH"
          ],
          [
           "OH"
          ],
          [
           "SD"
          ],
          [
           "SD"
          ],
          [
           "SD"
          ],
          [
           "SD"
          ],
          [
           "SD"
          ],
          [
           "SD"
          ],
          [
           "SD"
          ],
          [
           "SD"
          ],
          [
           "SD"
          ],
          [
           "SD"
          ],
          [
           "SD"
          ],
          [
           "SD"
          ],
          [
           "MO"
          ],
          [
           "MO"
          ],
          [
           "MO"
          ],
          [
           "MO"
          ],
          [
           "MO"
          ],
          [
           "MO"
          ],
          [
           "MO"
          ],
          [
           "MO"
          ],
          [
           "MO"
          ],
          [
           "MO"
          ],
          [
           "MO"
          ],
          [
           "MO"
          ],
          [
           "MI"
          ],
          [
           "MI"
          ],
          [
           "MI"
          ],
          [
           "MI"
          ],
          [
           "MI"
          ],
          [
           "MI"
          ],
          [
           "MI"
          ],
          [
           "MI"
          ],
          [
           "MI"
          ],
          [
           "MI"
          ],
          [
           "MI"
          ],
          [
           "MI"
          ],
          [
           "ND"
          ],
          [
           "ND"
          ],
          [
           "ND"
          ],
          [
           "ND"
          ],
          [
           "ND"
          ],
          [
           "ND"
          ],
          [
           "ND"
          ],
          [
           "ND"
          ],
          [
           "ND"
          ],
          [
           "ND"
          ],
          [
           "ND"
          ],
          [
           "ND"
          ],
          [
           "IN"
          ],
          [
           "IN"
          ],
          [
           "IN"
          ],
          [
           "IN"
          ],
          [
           "IN"
          ],
          [
           "IN"
          ],
          [
           "IN"
          ],
          [
           "IN"
          ],
          [
           "IN"
          ],
          [
           "IN"
          ],
          [
           "IN"
          ],
          [
           "IN"
          ],
          [
           "IL"
          ],
          [
           "IL"
          ],
          [
           "IL"
          ],
          [
           "IL"
          ],
          [
           "IL"
          ],
          [
           "IL"
          ],
          [
           "IL"
          ],
          [
           "IL"
          ],
          [
           "IL"
          ],
          [
           "IL"
          ],
          [
           "IL"
          ],
          [
           "IL"
          ],
          [
           "SD"
          ],
          [
           "SD"
          ],
          [
           "SD"
          ],
          [
           "SD"
          ],
          [
           "SD"
          ],
          [
           "SD"
          ],
          [
           "SD"
          ],
          [
           "SD"
          ],
          [
           "SD"
          ],
          [
           "SD"
          ],
          [
           "SD"
          ],
          [
           "SD"
          ],
          [
           "MN"
          ],
          [
           "MN"
          ],
          [
           "MN"
          ],
          [
           "MN"
          ],
          [
           "MN"
          ],
          [
           "MN"
          ],
          [
           "MN"
          ],
          [
           "MN"
          ],
          [
           "MN"
          ],
          [
           "MN"
          ],
          [
           "MN"
          ],
          [
           "MN"
          ],
          [
           "SD"
          ],
          [
           "SD"
          ],
          [
           "SD"
          ],
          [
           "SD"
          ],
          [
           "SD"
          ],
          [
           "SD"
          ],
          [
           "SD"
          ],
          [
           "SD"
          ],
          [
           "SD"
          ],
          [
           "SD"
          ],
          [
           "SD"
          ],
          [
           "SD"
          ],
          [
           "SD"
          ],
          [
           "SD"
          ],
          [
           "SD"
          ],
          [
           "SD"
          ],
          [
           "SD"
          ],
          [
           "SD"
          ],
          [
           "SD"
          ],
          [
           "SD"
          ],
          [
           "SD"
          ],
          [
           "SD"
          ],
          [
           "SD"
          ],
          [
           "SD"
          ],
          [
           "KS"
          ],
          [
           "KS"
          ],
          [
           "KS"
          ],
          [
           "KS"
          ],
          [
           "KS"
          ],
          [
           "KS"
          ],
          [
           "KS"
          ],
          [
           "KS"
          ],
          [
           "KS"
          ],
          [
           "KS"
          ],
          [
           "KS"
          ],
          [
           "KS"
          ],
          [
           "NE"
          ],
          [
           "NE"
          ],
          [
           "NE"
          ],
          [
           "NE"
          ],
          [
           "NE"
          ],
          [
           "NE"
          ],
          [
           "NE"
          ],
          [
           "NE"
          ],
          [
           "NE"
          ],
          [
           "NE"
          ],
          [
           "NE"
          ],
          [
           "NE"
          ],
          [
           "MO"
          ],
          [
           "MO"
          ],
          [
           "MO"
          ],
          [
           "MO"
          ],
          [
           "MO"
          ],
          [
           "MO"
          ],
          [
           "MO"
          ],
          [
           "MO"
          ],
          [
           "MO"
          ],
          [
           "MO"
          ],
          [
           "MO"
          ],
          [
           "MO"
          ],
          [
           "OH"
          ],
          [
           "OH"
          ],
          [
           "OH"
          ],
          [
           "OH"
          ],
          [
           "OH"
          ],
          [
           "OH"
          ],
          [
           "OH"
          ],
          [
           "OH"
          ],
          [
           "OH"
          ],
          [
           "OH"
          ],
          [
           "OH"
          ],
          [
           "OH"
          ],
          [
           "MN"
          ],
          [
           "MN"
          ],
          [
           "MN"
          ],
          [
           "MN"
          ],
          [
           "MN"
          ],
          [
           "MN"
          ],
          [
           "MN"
          ],
          [
           "MN"
          ],
          [
           "MN"
          ],
          [
           "MN"
          ],
          [
           "MN"
          ],
          [
           "MN"
          ],
          [
           "MI"
          ],
          [
           "MI"
          ],
          [
           "MI"
          ],
          [
           "MI"
          ],
          [
           "MI"
          ],
          [
           "MI"
          ],
          [
           "MI"
          ],
          [
           "MI"
          ],
          [
           "MI"
          ],
          [
           "MI"
          ],
          [
           "MI"
          ],
          [
           "MI"
          ],
          [
           "MI"
          ],
          [
           "MI"
          ],
          [
           "MI"
          ],
          [
           "MI"
          ],
          [
           "MI"
          ],
          [
           "MI"
          ],
          [
           "MI"
          ],
          [
           "MI"
          ],
          [
           "MI"
          ],
          [
           "MI"
          ],
          [
           "MI"
          ],
          [
           "MI"
          ],
          [
           "WI"
          ],
          [
           "WI"
          ],
          [
           "WI"
          ],
          [
           "WI"
          ],
          [
           "WI"
          ],
          [
           "WI"
          ],
          [
           "WI"
          ],
          [
           "WI"
          ],
          [
           "WI"
          ],
          [
           "WI"
          ],
          [
           "WI"
          ],
          [
           "WI"
          ],
          [
           "NE"
          ],
          [
           "NE"
          ],
          [
           "NE"
          ],
          [
           "NE"
          ],
          [
           "NE"
          ],
          [
           "NE"
          ],
          [
           "NE"
          ],
          [
           "NE"
          ],
          [
           "NE"
          ],
          [
           "NE"
          ],
          [
           "NE"
          ],
          [
           "NE"
          ],
          [
           "MI"
          ],
          [
           "MI"
          ],
          [
           "MI"
          ],
          [
           "MI"
          ],
          [
           "MI"
          ],
          [
           "MI"
          ],
          [
           "MI"
          ],
          [
           "MI"
          ],
          [
           "MI"
          ],
          [
           "MI"
          ],
          [
           "MI"
          ],
          [
           "MI"
          ],
          [
           "KS"
          ],
          [
           "KS"
          ],
          [
           "KS"
          ],
          [
           "KS"
          ],
          [
           "KS"
          ],
          [
           "KS"
          ],
          [
           "KS"
          ],
          [
           "KS"
          ],
          [
           "KS"
          ],
          [
           "KS"
          ],
          [
           "KS"
          ],
          [
           "KS"
          ],
          [
           "ND"
          ],
          [
           "ND"
          ],
          [
           "ND"
          ],
          [
           "ND"
          ],
          [
           "ND"
          ],
          [
           "ND"
          ],
          [
           "ND"
          ],
          [
           "ND"
          ],
          [
           "ND"
          ],
          [
           "ND"
          ],
          [
           "ND"
          ],
          [
           "ND"
          ],
          [
           "MO"
          ],
          [
           "MO"
          ],
          [
           "MO"
          ],
          [
           "MO"
          ],
          [
           "MO"
          ],
          [
           "MO"
          ],
          [
           "MO"
          ],
          [
           "MO"
          ],
          [
           "MO"
          ],
          [
           "MO"
          ],
          [
           "MO"
          ],
          [
           "MO"
          ],
          [
           "MN"
          ],
          [
           "MN"
          ],
          [
           "MN"
          ],
          [
           "MN"
          ],
          [
           "MN"
          ],
          [
           "MN"
          ],
          [
           "MN"
          ],
          [
           "MN"
          ],
          [
           "MN"
          ],
          [
           "MN"
          ],
          [
           "MN"
          ],
          [
           "MN"
          ],
          [
           "SD"
          ],
          [
           "SD"
          ],
          [
           "SD"
          ],
          [
           "SD"
          ],
          [
           "SD"
          ],
          [
           "SD"
          ],
          [
           "SD"
          ],
          [
           "SD"
          ],
          [
           "SD"
          ],
          [
           "SD"
          ],
          [
           "SD"
          ],
          [
           "SD"
          ],
          [
           "MO"
          ],
          [
           "MO"
          ],
          [
           "MO"
          ],
          [
           "MO"
          ],
          [
           "MO"
          ],
          [
           "MO"
          ],
          [
           "MO"
          ],
          [
           "MO"
          ],
          [
           "MO"
          ],
          [
           "MO"
          ],
          [
           "MO"
          ],
          [
           "MO"
          ],
          [
           "OH"
          ],
          [
           "OH"
          ],
          [
           "OH"
          ],
          [
           "OH"
          ],
          [
           "OH"
          ],
          [
           "OH"
          ],
          [
           "OH"
          ],
          [
           "OH"
          ],
          [
           "OH"
          ],
          [
           "OH"
          ],
          [
           "OH"
          ],
          [
           "OH"
          ]
         ],
         "hoverlabel": {
          "namelength": 0
         },
         "hovertemplate": "Population=%{x}<br>Total Visitors=%{marker.size}<br>StateCode=%{customdata[0]}",
         "legendgroup": "",
         "marker": {
          "color": "#636efa",
          "size": [
           325160,
           408618,
           833566,
           893558,
           1557746,
           2825872,
           4201409,
           3192593,
           2029231,
           1120572,
           593559,
           482091,
           325160,
           408618,
           833566,
           893558,
           1557746,
           2825872,
           4201409,
           3192593,
           2029231,
           1120572,
           593559,
           482091,
           325160,
           408618,
           833566,
           893558,
           1557746,
           2825872,
           4201409,
           3192593,
           2029231,
           1120572,
           593559,
           482091,
           325160,
           408618,
           833566,
           893558,
           1557746,
           2825872,
           4201409,
           3192593,
           2029231,
           1120572,
           593559,
           482091,
           325160,
           408618,
           833566,
           893558,
           1557746,
           2825872,
           4201409,
           3192593,
           2029231,
           1120572,
           593559,
           482091,
           325160,
           408618,
           833566,
           893558,
           1557746,
           2825872,
           4201409,
           3192593,
           2029231,
           1120572,
           593559,
           482091,
           325160,
           408618,
           833566,
           893558,
           1557746,
           2825872,
           4201409,
           3192593,
           2029231,
           1120572,
           593559,
           482091,
           325160,
           408618,
           833566,
           893558,
           1557746,
           2825872,
           4201409,
           3192593,
           2029231,
           1120572,
           593559,
           482091,
           325160,
           408618,
           833566,
           893558,
           1557746,
           2825872,
           4201409,
           3192593,
           2029231,
           1120572,
           593559,
           482091,
           325160,
           408618,
           833566,
           893558,
           1557746,
           2825872,
           4201409,
           3192593,
           2029231,
           1120572,
           593559,
           482091,
           325160,
           408618,
           833566,
           893558,
           1557746,
           2825872,
           4201409,
           3192593,
           2029231,
           1120572,
           593559,
           482091,
           325160,
           408618,
           833566,
           893558,
           1557746,
           2825872,
           4201409,
           3192593,
           2029231,
           1120572,
           593559,
           482091,
           325160,
           408618,
           833566,
           893558,
           1557746,
           2825872,
           4201409,
           3192593,
           2029231,
           1120572,
           593559,
           482091,
           325160,
           408618,
           833566,
           893558,
           1557746,
           2825872,
           4201409,
           3192593,
           2029231,
           1120572,
           593559,
           482091,
           325160,
           408618,
           833566,
           893558,
           1557746,
           2825872,
           4201409,
           3192593,
           2029231,
           1120572,
           593559,
           482091,
           325160,
           408618,
           833566,
           893558,
           1557746,
           2825872,
           4201409,
           3192593,
           2029231,
           1120572,
           593559,
           482091,
           325160,
           408618,
           833566,
           893558,
           1557746,
           2825872,
           4201409,
           3192593,
           2029231,
           1120572,
           593559,
           482091,
           325160,
           408618,
           833566,
           893558,
           1557746,
           2825872,
           4201409,
           3192593,
           2029231,
           1120572,
           593559,
           482091,
           325160,
           408618,
           833566,
           893558,
           1557746,
           2825872,
           4201409,
           3192593,
           2029231,
           1120572,
           593559,
           482091,
           325160,
           408618,
           833566,
           893558,
           1557746,
           2825872,
           4201409,
           3192593,
           2029231,
           1120572,
           593559,
           482091,
           325160,
           408618,
           833566,
           893558,
           1557746,
           2825872,
           4201409,
           3192593,
           2029231,
           1120572,
           593559,
           482091,
           325160,
           408618,
           833566,
           893558,
           1557746,
           2825872,
           4201409,
           3192593,
           2029231,
           1120572,
           593559,
           482091,
           325160,
           408618,
           833566,
           893558,
           1557746,
           2825872,
           4201409,
           3192593,
           2029231,
           1120572,
           593559,
           482091,
           325160,
           408618,
           833566,
           893558,
           1557746,
           2825872,
           4201409,
           3192593,
           2029231,
           1120572,
           593559,
           482091,
           325160,
           408618,
           833566,
           893558,
           1557746,
           2825872,
           4201409,
           3192593,
           2029231,
           1120572,
           593559,
           482091,
           325160,
           408618,
           833566,
           893558,
           1557746,
           2825872,
           4201409,
           3192593,
           2029231,
           1120572,
           593559,
           482091,
           325160,
           408618,
           833566,
           893558,
           1557746,
           2825872,
           4201409,
           3192593,
           2029231,
           1120572,
           593559,
           482091,
           325160,
           408618,
           833566,
           893558,
           1557746,
           2825872,
           4201409,
           3192593,
           2029231,
           1120572,
           593559,
           482091,
           325160,
           408618,
           833566,
           893558,
           1557746,
           2825872,
           4201409,
           3192593,
           2029231,
           1120572,
           593559,
           482091,
           325160,
           408618,
           833566,
           893558,
           1557746,
           2825872,
           4201409,
           3192593,
           2029231,
           1120572,
           593559,
           482091,
           325160,
           408618,
           833566,
           893558,
           1557746,
           2825872,
           4201409,
           3192593,
           2029231,
           1120572,
           593559,
           482091,
           325160,
           408618,
           833566,
           893558,
           1557746,
           2825872,
           4201409,
           3192593,
           2029231,
           1120572,
           593559,
           482091,
           325160,
           408618,
           833566,
           893558,
           1557746,
           2825872,
           4201409,
           3192593,
           2029231,
           1120572,
           593559,
           482091,
           325160,
           408618,
           833566,
           893558,
           1557746,
           2825872,
           4201409,
           3192593,
           2029231,
           1120572,
           593559,
           482091,
           325160,
           408618,
           833566,
           893558,
           1557746,
           2825872,
           4201409,
           3192593,
           2029231,
           1120572,
           593559,
           482091,
           325160,
           408618,
           833566,
           893558,
           1557746,
           2825872,
           4201409,
           3192593,
           2029231,
           1120572,
           593559,
           482091,
           325160,
           408618,
           833566,
           893558,
           1557746,
           2825872,
           4201409,
           3192593,
           2029231,
           1120572,
           593559,
           482091,
           325160,
           408618,
           833566,
           893558,
           1557746,
           2825872,
           4201409,
           3192593,
           2029231,
           1120572,
           593559,
           482091,
           325160,
           408618,
           833566,
           893558,
           1557746,
           2825872,
           4201409,
           3192593,
           2029231,
           1120572,
           593559,
           482091,
           325160,
           408618,
           833566,
           893558,
           1557746,
           2825872,
           4201409,
           3192593,
           2029231,
           1120572,
           593559,
           482091,
           325160,
           408618,
           833566,
           893558,
           1557746,
           2825872,
           4201409,
           3192593,
           2029231,
           1120572,
           593559,
           482091,
           325160,
           408618,
           833566,
           893558,
           1557746,
           2825872,
           4201409,
           3192593,
           2029231,
           1120572,
           593559,
           482091,
           325160,
           408618,
           833566,
           893558,
           1557746,
           2825872,
           4201409,
           3192593,
           2029231,
           1120572,
           593559,
           482091,
           325160,
           408618,
           833566,
           893558,
           1557746,
           2825872,
           4201409,
           3192593,
           2029231,
           1120572,
           593559,
           482091,
           325160,
           408618,
           833566,
           893558,
           1557746,
           2825872,
           4201409,
           3192593,
           2029231,
           1120572,
           593559,
           482091,
           325160,
           408618,
           833566,
           893558,
           1557746,
           2825872,
           4201409,
           3192593,
           2029231,
           1120572,
           593559,
           482091,
           325160,
           408618,
           833566,
           893558,
           1557746,
           2825872,
           4201409,
           3192593,
           2029231,
           1120572,
           593559,
           482091,
           325160,
           408618,
           833566,
           893558,
           1557746,
           2825872,
           4201409,
           3192593,
           2029231,
           1120572,
           593559,
           482091,
           325160,
           408618,
           833566,
           893558,
           1557746,
           2825872,
           4201409,
           3192593,
           2029231,
           1120572,
           593559,
           482091
          ],
          "sizemode": "area",
          "sizeref": 10503.5225,
          "symbol": "circle"
         },
         "mode": "markers",
         "name": "",
         "showlegend": false,
         "type": "scatter",
         "x": [
          1893921,
          1893921,
          1893921,
          1893921,
          1893921,
          1893921,
          1893921,
          1893921,
          1893921,
          1893921,
          1893921,
          1893921,
          5763217,
          5763217,
          5763217,
          5763217,
          5763217,
          5763217,
          5763217,
          5763217,
          5763217,
          5763217,
          5763217,
          5763217,
          855444,
          855444,
          855444,
          855444,
          855444,
          855444,
          855444,
          855444,
          855444,
          855444,
          855444,
          855444,
          2903820,
          2903820,
          2903820,
          2903820,
          2903820,
          2903820,
          2903820,
          2903820,
          2903820,
          2903820,
          2903820,
          2903820,
          11609756,
          11609756,
          11609756,
          11609756,
          11609756,
          11609756,
          11609756,
          11609756,
          11609756,
          11609756,
          11609756,
          11609756,
          11609756,
          11609756,
          11609756,
          11609756,
          11609756,
          11609756,
          11609756,
          11609756,
          11609756,
          11609756,
          11609756,
          11609756,
          11609756,
          11609756,
          11609756,
          11609756,
          11609756,
          11609756,
          11609756,
          11609756,
          11609756,
          11609756,
          11609756,
          11609756,
          3118102,
          3118102,
          3118102,
          3118102,
          3118102,
          3118102,
          3118102,
          3118102,
          3118102,
          3118102,
          3118102,
          3118102,
          11609756,
          11609756,
          11609756,
          11609756,
          11609756,
          11609756,
          11609756,
          11609756,
          11609756,
          11609756,
          11609756,
          11609756,
          2903820,
          2903820,
          2903820,
          2903820,
          2903820,
          2903820,
          2903820,
          2903820,
          2903820,
          2903820,
          2903820,
          2903820,
          2903820,
          2903820,
          2903820,
          2903820,
          2903820,
          2903820,
          2903820,
          2903820,
          2903820,
          2903820,
          2903820,
          2903820,
          745475,
          745475,
          745475,
          745475,
          745475,
          745475,
          745475,
          745475,
          745475,
          745475,
          745475,
          745475,
          6614418,
          6614418,
          6614418,
          6614418,
          6614418,
          6614418,
          6614418,
          6614418,
          6614418,
          6614418,
          6614418,
          6614418,
          5490726,
          5490726,
          5490726,
          5490726,
          5490726,
          5490726,
          5490726,
          5490726,
          5490726,
          5490726,
          5490726,
          5490726,
          6075300,
          6075300,
          6075300,
          6075300,
          6075300,
          6075300,
          6075300,
          6075300,
          6075300,
          6075300,
          6075300,
          6075300,
          3118102,
          3118102,
          3118102,
          3118102,
          3118102,
          3118102,
          3118102,
          3118102,
          3118102,
          3118102,
          3118102,
          3118102,
          11609756,
          11609756,
          11609756,
          11609756,
          11609756,
          11609756,
          11609756,
          11609756,
          11609756,
          11609756,
          11609756,
          11609756,
          1893921,
          1893921,
          1893921,
          1893921,
          1893921,
          1893921,
          1893921,
          1893921,
          1893921,
          1893921,
          1893921,
          1893921,
          6075300,
          6075300,
          6075300,
          6075300,
          6075300,
          6075300,
          6075300,
          6075300,
          6075300,
          6075300,
          6075300,
          6075300,
          6614418,
          6614418,
          6614418,
          6614418,
          6614418,
          6614418,
          6614418,
          6614418,
          6614418,
          6614418,
          6614418,
          6614418,
          9925568,
          9925568,
          9925568,
          9925568,
          9925568,
          9925568,
          9925568,
          9925568,
          9925568,
          9925568,
          9925568,
          9925568,
          11609756,
          11609756,
          11609756,
          11609756,
          11609756,
          11609756,
          11609756,
          11609756,
          11609756,
          11609756,
          11609756,
          11609756,
          855444,
          855444,
          855444,
          855444,
          855444,
          855444,
          855444,
          855444,
          855444,
          855444,
          855444,
          855444,
          6075300,
          6075300,
          6075300,
          6075300,
          6075300,
          6075300,
          6075300,
          6075300,
          6075300,
          6075300,
          6075300,
          6075300,
          9925568,
          9925568,
          9925568,
          9925568,
          9925568,
          9925568,
          9925568,
          9925568,
          9925568,
          9925568,
          9925568,
          9925568,
          745475,
          745475,
          745475,
          745475,
          745475,
          745475,
          745475,
          745475,
          745475,
          745475,
          745475,
          745475,
          6614418,
          6614418,
          6614418,
          6614418,
          6614418,
          6614418,
          6614418,
          6614418,
          6614418,
          6614418,
          6614418,
          6614418,
          12854526,
          12854526,
          12854526,
          12854526,
          12854526,
          12854526,
          12854526,
          12854526,
          12854526,
          12854526,
          12854526,
          12854526,
          855444,
          855444,
          855444,
          855444,
          855444,
          855444,
          855444,
          855444,
          855444,
          855444,
          855444,
          855444,
          5490726,
          5490726,
          5490726,
          5490726,
          5490726,
          5490726,
          5490726,
          5490726,
          5490726,
          5490726,
          5490726,
          5490726,
          855444,
          855444,
          855444,
          855444,
          855444,
          855444,
          855444,
          855444,
          855444,
          855444,
          855444,
          855444,
          855444,
          855444,
          855444,
          855444,
          855444,
          855444,
          855444,
          855444,
          855444,
          855444,
          855444,
          855444,
          2903820,
          2903820,
          2903820,
          2903820,
          2903820,
          2903820,
          2903820,
          2903820,
          2903820,
          2903820,
          2903820,
          2903820,
          1893921,
          1893921,
          1893921,
          1893921,
          1893921,
          1893921,
          1893921,
          1893921,
          1893921,
          1893921,
          1893921,
          1893921,
          6075300,
          6075300,
          6075300,
          6075300,
          6075300,
          6075300,
          6075300,
          6075300,
          6075300,
          6075300,
          6075300,
          6075300,
          11609756,
          11609756,
          11609756,
          11609756,
          11609756,
          11609756,
          11609756,
          11609756,
          11609756,
          11609756,
          11609756,
          11609756,
          5490726,
          5490726,
          5490726,
          5490726,
          5490726,
          5490726,
          5490726,
          5490726,
          5490726,
          5490726,
          5490726,
          5490726,
          9925568,
          9925568,
          9925568,
          9925568,
          9925568,
          9925568,
          9925568,
          9925568,
          9925568,
          9925568,
          9925568,
          9925568,
          9925568,
          9925568,
          9925568,
          9925568,
          9925568,
          9925568,
          9925568,
          9925568,
          9925568,
          9925568,
          9925568,
          9925568,
          5763217,
          5763217,
          5763217,
          5763217,
          5763217,
          5763217,
          5763217,
          5763217,
          5763217,
          5763217,
          5763217,
          5763217,
          1893921,
          1893921,
          1893921,
          1893921,
          1893921,
          1893921,
          1893921,
          1893921,
          1893921,
          1893921,
          1893921,
          1893921,
          9925568,
          9925568,
          9925568,
          9925568,
          9925568,
          9925568,
          9925568,
          9925568,
          9925568,
          9925568,
          9925568,
          9925568,
          2903820,
          2903820,
          2903820,
          2903820,
          2903820,
          2903820,
          2903820,
          2903820,
          2903820,
          2903820,
          2903820,
          2903820,
          745475,
          745475,
          745475,
          745475,
          745475,
          745475,
          745475,
          745475,
          745475,
          745475,
          745475,
          745475,
          6075300,
          6075300,
          6075300,
          6075300,
          6075300,
          6075300,
          6075300,
          6075300,
          6075300,
          6075300,
          6075300,
          6075300,
          5490726,
          5490726,
          5490726,
          5490726,
          5490726,
          5490726,
          5490726,
          5490726,
          5490726,
          5490726,
          5490726,
          5490726,
          855444,
          855444,
          855444,
          855444,
          855444,
          855444,
          855444,
          855444,
          855444,
          855444,
          855444,
          855444,
          6075300,
          6075300,
          6075300,
          6075300,
          6075300,
          6075300,
          6075300,
          6075300,
          6075300,
          6075300,
          6075300,
          6075300,
          11609756,
          11609756,
          11609756,
          11609756,
          11609756,
          11609756,
          11609756,
          11609756,
          11609756,
          11609756,
          11609756,
          11609756
         ],
         "xaxis": "x",
         "y": [
          325160,
          408618,
          833566,
          893558,
          1557746,
          2825872,
          4201409,
          3192593,
          2029231,
          1120572,
          593559,
          482091,
          325160,
          408618,
          833566,
          893558,
          1557746,
          2825872,
          4201409,
          3192593,
          2029231,
          1120572,
          593559,
          482091,
          325160,
          408618,
          833566,
          893558,
          1557746,
          2825872,
          4201409,
          3192593,
          2029231,
          1120572,
          593559,
          482091,
          325160,
          408618,
          833566,
          893558,
          1557746,
          2825872,
          4201409,
          3192593,
          2029231,
          1120572,
          593559,
          482091,
          325160,
          408618,
          833566,
          893558,
          1557746,
          2825872,
          4201409,
          3192593,
          2029231,
          1120572,
          593559,
          482091,
          325160,
          408618,
          833566,
          893558,
          1557746,
          2825872,
          4201409,
          3192593,
          2029231,
          1120572,
          593559,
          482091,
          325160,
          408618,
          833566,
          893558,
          1557746,
          2825872,
          4201409,
          3192593,
          2029231,
          1120572,
          593559,
          482091,
          325160,
          408618,
          833566,
          893558,
          1557746,
          2825872,
          4201409,
          3192593,
          2029231,
          1120572,
          593559,
          482091,
          325160,
          408618,
          833566,
          893558,
          1557746,
          2825872,
          4201409,
          3192593,
          2029231,
          1120572,
          593559,
          482091,
          325160,
          408618,
          833566,
          893558,
          1557746,
          2825872,
          4201409,
          3192593,
          2029231,
          1120572,
          593559,
          482091,
          325160,
          408618,
          833566,
          893558,
          1557746,
          2825872,
          4201409,
          3192593,
          2029231,
          1120572,
          593559,
          482091,
          325160,
          408618,
          833566,
          893558,
          1557746,
          2825872,
          4201409,
          3192593,
          2029231,
          1120572,
          593559,
          482091,
          325160,
          408618,
          833566,
          893558,
          1557746,
          2825872,
          4201409,
          3192593,
          2029231,
          1120572,
          593559,
          482091,
          325160,
          408618,
          833566,
          893558,
          1557746,
          2825872,
          4201409,
          3192593,
          2029231,
          1120572,
          593559,
          482091,
          325160,
          408618,
          833566,
          893558,
          1557746,
          2825872,
          4201409,
          3192593,
          2029231,
          1120572,
          593559,
          482091,
          325160,
          408618,
          833566,
          893558,
          1557746,
          2825872,
          4201409,
          3192593,
          2029231,
          1120572,
          593559,
          482091,
          325160,
          408618,
          833566,
          893558,
          1557746,
          2825872,
          4201409,
          3192593,
          2029231,
          1120572,
          593559,
          482091,
          325160,
          408618,
          833566,
          893558,
          1557746,
          2825872,
          4201409,
          3192593,
          2029231,
          1120572,
          593559,
          482091,
          325160,
          408618,
          833566,
          893558,
          1557746,
          2825872,
          4201409,
          3192593,
          2029231,
          1120572,
          593559,
          482091,
          325160,
          408618,
          833566,
          893558,
          1557746,
          2825872,
          4201409,
          3192593,
          2029231,
          1120572,
          593559,
          482091,
          325160,
          408618,
          833566,
          893558,
          1557746,
          2825872,
          4201409,
          3192593,
          2029231,
          1120572,
          593559,
          482091,
          325160,
          408618,
          833566,
          893558,
          1557746,
          2825872,
          4201409,
          3192593,
          2029231,
          1120572,
          593559,
          482091,
          325160,
          408618,
          833566,
          893558,
          1557746,
          2825872,
          4201409,
          3192593,
          2029231,
          1120572,
          593559,
          482091,
          325160,
          408618,
          833566,
          893558,
          1557746,
          2825872,
          4201409,
          3192593,
          2029231,
          1120572,
          593559,
          482091,
          325160,
          408618,
          833566,
          893558,
          1557746,
          2825872,
          4201409,
          3192593,
          2029231,
          1120572,
          593559,
          482091,
          325160,
          408618,
          833566,
          893558,
          1557746,
          2825872,
          4201409,
          3192593,
          2029231,
          1120572,
          593559,
          482091,
          325160,
          408618,
          833566,
          893558,
          1557746,
          2825872,
          4201409,
          3192593,
          2029231,
          1120572,
          593559,
          482091,
          325160,
          408618,
          833566,
          893558,
          1557746,
          2825872,
          4201409,
          3192593,
          2029231,
          1120572,
          593559,
          482091,
          325160,
          408618,
          833566,
          893558,
          1557746,
          2825872,
          4201409,
          3192593,
          2029231,
          1120572,
          593559,
          482091,
          325160,
          408618,
          833566,
          893558,
          1557746,
          2825872,
          4201409,
          3192593,
          2029231,
          1120572,
          593559,
          482091,
          325160,
          408618,
          833566,
          893558,
          1557746,
          2825872,
          4201409,
          3192593,
          2029231,
          1120572,
          593559,
          482091,
          325160,
          408618,
          833566,
          893558,
          1557746,
          2825872,
          4201409,
          3192593,
          2029231,
          1120572,
          593559,
          482091,
          325160,
          408618,
          833566,
          893558,
          1557746,
          2825872,
          4201409,
          3192593,
          2029231,
          1120572,
          593559,
          482091,
          325160,
          408618,
          833566,
          893558,
          1557746,
          2825872,
          4201409,
          3192593,
          2029231,
          1120572,
          593559,
          482091,
          325160,
          408618,
          833566,
          893558,
          1557746,
          2825872,
          4201409,
          3192593,
          2029231,
          1120572,
          593559,
          482091,
          325160,
          408618,
          833566,
          893558,
          1557746,
          2825872,
          4201409,
          3192593,
          2029231,
          1120572,
          593559,
          482091,
          325160,
          408618,
          833566,
          893558,
          1557746,
          2825872,
          4201409,
          3192593,
          2029231,
          1120572,
          593559,
          482091,
          325160,
          408618,
          833566,
          893558,
          1557746,
          2825872,
          4201409,
          3192593,
          2029231,
          1120572,
          593559,
          482091,
          325160,
          408618,
          833566,
          893558,
          1557746,
          2825872,
          4201409,
          3192593,
          2029231,
          1120572,
          593559,
          482091,
          325160,
          408618,
          833566,
          893558,
          1557746,
          2825872,
          4201409,
          3192593,
          2029231,
          1120572,
          593559,
          482091,
          325160,
          408618,
          833566,
          893558,
          1557746,
          2825872,
          4201409,
          3192593,
          2029231,
          1120572,
          593559,
          482091,
          325160,
          408618,
          833566,
          893558,
          1557746,
          2825872,
          4201409,
          3192593,
          2029231,
          1120572,
          593559,
          482091,
          325160,
          408618,
          833566,
          893558,
          1557746,
          2825872,
          4201409,
          3192593,
          2029231,
          1120572,
          593559,
          482091,
          325160,
          408618,
          833566,
          893558,
          1557746,
          2825872,
          4201409,
          3192593,
          2029231,
          1120572,
          593559,
          482091,
          325160,
          408618,
          833566,
          893558,
          1557746,
          2825872,
          4201409,
          3192593,
          2029231,
          1120572,
          593559,
          482091,
          325160,
          408618,
          833566,
          893558,
          1557746,
          2825872,
          4201409,
          3192593,
          2029231,
          1120572,
          593559,
          482091,
          325160,
          408618,
          833566,
          893558,
          1557746,
          2825872,
          4201409,
          3192593,
          2029231,
          1120572,
          593559,
          482091,
          325160,
          408618,
          833566,
          893558,
          1557746,
          2825872,
          4201409,
          3192593,
          2029231,
          1120572,
          593559,
          482091,
          325160,
          408618,
          833566,
          893558,
          1557746,
          2825872,
          4201409,
          3192593,
          2029231,
          1120572,
          593559,
          482091
         ],
         "yaxis": "y"
        }
       ],
       "layout": {
        "legend": {
         "itemsizing": "constant",
         "tracegroupgap": 0
        },
        "margin": {
         "t": 60
        },
        "template": {
         "data": {
          "bar": [
           {
            "error_x": {
             "color": "#2a3f5f"
            },
            "error_y": {
             "color": "#2a3f5f"
            },
            "marker": {
             "line": {
              "color": "#E5ECF6",
              "width": 0.5
             }
            },
            "type": "bar"
           }
          ],
          "barpolar": [
           {
            "marker": {
             "line": {
              "color": "#E5ECF6",
              "width": 0.5
             }
            },
            "type": "barpolar"
           }
          ],
          "carpet": [
           {
            "aaxis": {
             "endlinecolor": "#2a3f5f",
             "gridcolor": "white",
             "linecolor": "white",
             "minorgridcolor": "white",
             "startlinecolor": "#2a3f5f"
            },
            "baxis": {
             "endlinecolor": "#2a3f5f",
             "gridcolor": "white",
             "linecolor": "white",
             "minorgridcolor": "white",
             "startlinecolor": "#2a3f5f"
            },
            "type": "carpet"
           }
          ],
          "choropleth": [
           {
            "colorbar": {
             "outlinewidth": 0,
             "ticks": ""
            },
            "type": "choropleth"
           }
          ],
          "contour": [
           {
            "colorbar": {
             "outlinewidth": 0,
             "ticks": ""
            },
            "colorscale": [
             [
              0,
              "#0d0887"
             ],
             [
              0.1111111111111111,
              "#46039f"
             ],
             [
              0.2222222222222222,
              "#7201a8"
             ],
             [
              0.3333333333333333,
              "#9c179e"
             ],
             [
              0.4444444444444444,
              "#bd3786"
             ],
             [
              0.5555555555555556,
              "#d8576b"
             ],
             [
              0.6666666666666666,
              "#ed7953"
             ],
             [
              0.7777777777777778,
              "#fb9f3a"
             ],
             [
              0.8888888888888888,
              "#fdca26"
             ],
             [
              1,
              "#f0f921"
             ]
            ],
            "type": "contour"
           }
          ],
          "contourcarpet": [
           {
            "colorbar": {
             "outlinewidth": 0,
             "ticks": ""
            },
            "type": "contourcarpet"
           }
          ],
          "heatmap": [
           {
            "colorbar": {
             "outlinewidth": 0,
             "ticks": ""
            },
            "colorscale": [
             [
              0,
              "#0d0887"
             ],
             [
              0.1111111111111111,
              "#46039f"
             ],
             [
              0.2222222222222222,
              "#7201a8"
             ],
             [
              0.3333333333333333,
              "#9c179e"
             ],
             [
              0.4444444444444444,
              "#bd3786"
             ],
             [
              0.5555555555555556,
              "#d8576b"
             ],
             [
              0.6666666666666666,
              "#ed7953"
             ],
             [
              0.7777777777777778,
              "#fb9f3a"
             ],
             [
              0.8888888888888888,
              "#fdca26"
             ],
             [
              1,
              "#f0f921"
             ]
            ],
            "type": "heatmap"
           }
          ],
          "heatmapgl": [
           {
            "colorbar": {
             "outlinewidth": 0,
             "ticks": ""
            },
            "colorscale": [
             [
              0,
              "#0d0887"
             ],
             [
              0.1111111111111111,
              "#46039f"
             ],
             [
              0.2222222222222222,
              "#7201a8"
             ],
             [
              0.3333333333333333,
              "#9c179e"
             ],
             [
              0.4444444444444444,
              "#bd3786"
             ],
             [
              0.5555555555555556,
              "#d8576b"
             ],
             [
              0.6666666666666666,
              "#ed7953"
             ],
             [
              0.7777777777777778,
              "#fb9f3a"
             ],
             [
              0.8888888888888888,
              "#fdca26"
             ],
             [
              1,
              "#f0f921"
             ]
            ],
            "type": "heatmapgl"
           }
          ],
          "histogram": [
           {
            "marker": {
             "colorbar": {
              "outlinewidth": 0,
              "ticks": ""
             }
            },
            "type": "histogram"
           }
          ],
          "histogram2d": [
           {
            "colorbar": {
             "outlinewidth": 0,
             "ticks": ""
            },
            "colorscale": [
             [
              0,
              "#0d0887"
             ],
             [
              0.1111111111111111,
              "#46039f"
             ],
             [
              0.2222222222222222,
              "#7201a8"
             ],
             [
              0.3333333333333333,
              "#9c179e"
             ],
             [
              0.4444444444444444,
              "#bd3786"
             ],
             [
              0.5555555555555556,
              "#d8576b"
             ],
             [
              0.6666666666666666,
              "#ed7953"
             ],
             [
              0.7777777777777778,
              "#fb9f3a"
             ],
             [
              0.8888888888888888,
              "#fdca26"
             ],
             [
              1,
              "#f0f921"
             ]
            ],
            "type": "histogram2d"
           }
          ],
          "histogram2dcontour": [
           {
            "colorbar": {
             "outlinewidth": 0,
             "ticks": ""
            },
            "colorscale": [
             [
              0,
              "#0d0887"
             ],
             [
              0.1111111111111111,
              "#46039f"
             ],
             [
              0.2222222222222222,
              "#7201a8"
             ],
             [
              0.3333333333333333,
              "#9c179e"
             ],
             [
              0.4444444444444444,
              "#bd3786"
             ],
             [
              0.5555555555555556,
              "#d8576b"
             ],
             [
              0.6666666666666666,
              "#ed7953"
             ],
             [
              0.7777777777777778,
              "#fb9f3a"
             ],
             [
              0.8888888888888888,
              "#fdca26"
             ],
             [
              1,
              "#f0f921"
             ]
            ],
            "type": "histogram2dcontour"
           }
          ],
          "mesh3d": [
           {
            "colorbar": {
             "outlinewidth": 0,
             "ticks": ""
            },
            "type": "mesh3d"
           }
          ],
          "parcoords": [
           {
            "line": {
             "colorbar": {
              "outlinewidth": 0,
              "ticks": ""
             }
            },
            "type": "parcoords"
           }
          ],
          "pie": [
           {
            "automargin": true,
            "type": "pie"
           }
          ],
          "scatter": [
           {
            "marker": {
             "colorbar": {
              "outlinewidth": 0,
              "ticks": ""
             }
            },
            "type": "scatter"
           }
          ],
          "scatter3d": [
           {
            "line": {
             "colorbar": {
              "outlinewidth": 0,
              "ticks": ""
             }
            },
            "marker": {
             "colorbar": {
              "outlinewidth": 0,
              "ticks": ""
             }
            },
            "type": "scatter3d"
           }
          ],
          "scattercarpet": [
           {
            "marker": {
             "colorbar": {
              "outlinewidth": 0,
              "ticks": ""
             }
            },
            "type": "scattercarpet"
           }
          ],
          "scattergeo": [
           {
            "marker": {
             "colorbar": {
              "outlinewidth": 0,
              "ticks": ""
             }
            },
            "type": "scattergeo"
           }
          ],
          "scattergl": [
           {
            "marker": {
             "colorbar": {
              "outlinewidth": 0,
              "ticks": ""
             }
            },
            "type": "scattergl"
           }
          ],
          "scattermapbox": [
           {
            "marker": {
             "colorbar": {
              "outlinewidth": 0,
              "ticks": ""
             }
            },
            "type": "scattermapbox"
           }
          ],
          "scatterpolar": [
           {
            "marker": {
             "colorbar": {
              "outlinewidth": 0,
              "ticks": ""
             }
            },
            "type": "scatterpolar"
           }
          ],
          "scatterpolargl": [
           {
            "marker": {
             "colorbar": {
              "outlinewidth": 0,
              "ticks": ""
             }
            },
            "type": "scatterpolargl"
           }
          ],
          "scatterternary": [
           {
            "marker": {
             "colorbar": {
              "outlinewidth": 0,
              "ticks": ""
             }
            },
            "type": "scatterternary"
           }
          ],
          "surface": [
           {
            "colorbar": {
             "outlinewidth": 0,
             "ticks": ""
            },
            "colorscale": [
             [
              0,
              "#0d0887"
             ],
             [
              0.1111111111111111,
              "#46039f"
             ],
             [
              0.2222222222222222,
              "#7201a8"
             ],
             [
              0.3333333333333333,
              "#9c179e"
             ],
             [
              0.4444444444444444,
              "#bd3786"
             ],
             [
              0.5555555555555556,
              "#d8576b"
             ],
             [
              0.6666666666666666,
              "#ed7953"
             ],
             [
              0.7777777777777778,
              "#fb9f3a"
             ],
             [
              0.8888888888888888,
              "#fdca26"
             ],
             [
              1,
              "#f0f921"
             ]
            ],
            "type": "surface"
           }
          ],
          "table": [
           {
            "cells": {
             "fill": {
              "color": "#EBF0F8"
             },
             "line": {
              "color": "white"
             }
            },
            "header": {
             "fill": {
              "color": "#C8D4E3"
             },
             "line": {
              "color": "white"
             }
            },
            "type": "table"
           }
          ]
         },
         "layout": {
          "annotationdefaults": {
           "arrowcolor": "#2a3f5f",
           "arrowhead": 0,
           "arrowwidth": 1
          },
          "coloraxis": {
           "colorbar": {
            "outlinewidth": 0,
            "ticks": ""
           }
          },
          "colorscale": {
           "diverging": [
            [
             0,
             "#8e0152"
            ],
            [
             0.1,
             "#c51b7d"
            ],
            [
             0.2,
             "#de77ae"
            ],
            [
             0.3,
             "#f1b6da"
            ],
            [
             0.4,
             "#fde0ef"
            ],
            [
             0.5,
             "#f7f7f7"
            ],
            [
             0.6,
             "#e6f5d0"
            ],
            [
             0.7,
             "#b8e186"
            ],
            [
             0.8,
             "#7fbc41"
            ],
            [
             0.9,
             "#4d9221"
            ],
            [
             1,
             "#276419"
            ]
           ],
           "sequential": [
            [
             0,
             "#0d0887"
            ],
            [
             0.1111111111111111,
             "#46039f"
            ],
            [
             0.2222222222222222,
             "#7201a8"
            ],
            [
             0.3333333333333333,
             "#9c179e"
            ],
            [
             0.4444444444444444,
             "#bd3786"
            ],
            [
             0.5555555555555556,
             "#d8576b"
            ],
            [
             0.6666666666666666,
             "#ed7953"
            ],
            [
             0.7777777777777778,
             "#fb9f3a"
            ],
            [
             0.8888888888888888,
             "#fdca26"
            ],
            [
             1,
             "#f0f921"
            ]
           ],
           "sequentialminus": [
            [
             0,
             "#0d0887"
            ],
            [
             0.1111111111111111,
             "#46039f"
            ],
            [
             0.2222222222222222,
             "#7201a8"
            ],
            [
             0.3333333333333333,
             "#9c179e"
            ],
            [
             0.4444444444444444,
             "#bd3786"
            ],
            [
             0.5555555555555556,
             "#d8576b"
            ],
            [
             0.6666666666666666,
             "#ed7953"
            ],
            [
             0.7777777777777778,
             "#fb9f3a"
            ],
            [
             0.8888888888888888,
             "#fdca26"
            ],
            [
             1,
             "#f0f921"
            ]
           ]
          },
          "colorway": [
           "#636efa",
           "#EF553B",
           "#00cc96",
           "#ab63fa",
           "#FFA15A",
           "#19d3f3",
           "#FF6692",
           "#B6E880",
           "#FF97FF",
           "#FECB52"
          ],
          "font": {
           "color": "#2a3f5f"
          },
          "geo": {
           "bgcolor": "white",
           "lakecolor": "white",
           "landcolor": "#E5ECF6",
           "showlakes": true,
           "showland": true,
           "subunitcolor": "white"
          },
          "hoverlabel": {
           "align": "left"
          },
          "hovermode": "closest",
          "mapbox": {
           "style": "light"
          },
          "paper_bgcolor": "white",
          "plot_bgcolor": "#E5ECF6",
          "polar": {
           "angularaxis": {
            "gridcolor": "white",
            "linecolor": "white",
            "ticks": ""
           },
           "bgcolor": "#E5ECF6",
           "radialaxis": {
            "gridcolor": "white",
            "linecolor": "white",
            "ticks": ""
           }
          },
          "scene": {
           "xaxis": {
            "backgroundcolor": "#E5ECF6",
            "gridcolor": "white",
            "gridwidth": 2,
            "linecolor": "white",
            "showbackground": true,
            "ticks": "",
            "zerolinecolor": "white"
           },
           "yaxis": {
            "backgroundcolor": "#E5ECF6",
            "gridcolor": "white",
            "gridwidth": 2,
            "linecolor": "white",
            "showbackground": true,
            "ticks": "",
            "zerolinecolor": "white"
           },
           "zaxis": {
            "backgroundcolor": "#E5ECF6",
            "gridcolor": "white",
            "gridwidth": 2,
            "linecolor": "white",
            "showbackground": true,
            "ticks": "",
            "zerolinecolor": "white"
           }
          },
          "shapedefaults": {
           "line": {
            "color": "#2a3f5f"
           }
          },
          "ternary": {
           "aaxis": {
            "gridcolor": "white",
            "linecolor": "white",
            "ticks": ""
           },
           "baxis": {
            "gridcolor": "white",
            "linecolor": "white",
            "ticks": ""
           },
           "bgcolor": "#E5ECF6",
           "caxis": {
            "gridcolor": "white",
            "linecolor": "white",
            "ticks": ""
           }
          },
          "title": {
           "x": 0.05
          },
          "xaxis": {
           "automargin": true,
           "gridcolor": "white",
           "linecolor": "white",
           "ticks": "",
           "title": {
            "standoff": 15
           },
           "zerolinecolor": "white",
           "zerolinewidth": 2
          },
          "yaxis": {
           "automargin": true,
           "gridcolor": "white",
           "linecolor": "white",
           "ticks": "",
           "title": {
            "standoff": 15
           },
           "zerolinecolor": "white",
           "zerolinewidth": 2
          }
         }
        },
        "title": {
         "text": "Population vs. Total Visitor"
        },
        "xaxis": {
         "anchor": "y",
         "domain": [
          0,
          1
         ],
         "title": {
          "text": "Population"
         }
        },
        "yaxis": {
         "anchor": "x",
         "domain": [
          0,
          1
         ],
         "title": {
          "text": "Total Visitors"
         }
        }
       }
      },
      "text/html": [
       "<div>\n",
       "        \n",
       "        \n",
       "            <div id=\"aaf1533d-b339-4d7b-92af-fe2349393bf2\" class=\"plotly-graph-div\" style=\"height:525px; width:100%;\"></div>\n",
       "            <script type=\"text/javascript\">\n",
       "                require([\"plotly\"], function(Plotly) {\n",
       "                    window.PLOTLYENV=window.PLOTLYENV || {};\n",
       "                    \n",
       "                if (document.getElementById(\"aaf1533d-b339-4d7b-92af-fe2349393bf2\")) {\n",
       "                    Plotly.newPlot(\n",
       "                        'aaf1533d-b339-4d7b-92af-fe2349393bf2',\n",
       "                        [{\"customdata\": [[\"NE\"], [\"NE\"], [\"NE\"], [\"NE\"], [\"NE\"], [\"NE\"], [\"NE\"], [\"NE\"], [\"NE\"], [\"NE\"], [\"NE\"], [\"NE\"], [\"WI\"], [\"WI\"], [\"WI\"], [\"WI\"], [\"WI\"], [\"WI\"], [\"WI\"], [\"WI\"], [\"WI\"], [\"WI\"], [\"WI\"], [\"WI\"], [\"SD\"], [\"SD\"], [\"SD\"], [\"SD\"], [\"SD\"], [\"SD\"], [\"SD\"], [\"SD\"], [\"SD\"], [\"SD\"], [\"SD\"], [\"SD\"], [\"KS\"], [\"KS\"], [\"KS\"], [\"KS\"], [\"KS\"], [\"KS\"], [\"KS\"], [\"KS\"], [\"KS\"], [\"KS\"], [\"KS\"], [\"KS\"], [\"OH\"], [\"OH\"], [\"OH\"], [\"OH\"], [\"OH\"], [\"OH\"], [\"OH\"], [\"OH\"], [\"OH\"], [\"OH\"], [\"OH\"], [\"OH\"], [\"OH\"], [\"OH\"], [\"OH\"], [\"OH\"], [\"OH\"], [\"OH\"], [\"OH\"], [\"OH\"], [\"OH\"], [\"OH\"], [\"OH\"], [\"OH\"], [\"OH\"], [\"OH\"], [\"OH\"], [\"OH\"], [\"OH\"], [\"OH\"], [\"OH\"], [\"OH\"], [\"OH\"], [\"OH\"], [\"OH\"], [\"OH\"], [\"IA\"], [\"IA\"], [\"IA\"], [\"IA\"], [\"IA\"], [\"IA\"], [\"IA\"], [\"IA\"], [\"IA\"], [\"IA\"], [\"IA\"], [\"IA\"], [\"OH\"], [\"OH\"], [\"OH\"], [\"OH\"], [\"OH\"], [\"OH\"], [\"OH\"], [\"OH\"], [\"OH\"], [\"OH\"], [\"OH\"], [\"OH\"], [\"KS\"], [\"KS\"], [\"KS\"], [\"KS\"], [\"KS\"], [\"KS\"], [\"KS\"], [\"KS\"], [\"KS\"], [\"KS\"], [\"KS\"], [\"KS\"], [\"KS\"], [\"KS\"], [\"KS\"], [\"KS\"], [\"KS\"], [\"KS\"], [\"KS\"], [\"KS\"], [\"KS\"], [\"KS\"], [\"KS\"], [\"KS\"], [\"ND\"], [\"ND\"], [\"ND\"], [\"ND\"], [\"ND\"], [\"ND\"], [\"ND\"], [\"ND\"], [\"ND\"], [\"ND\"], [\"ND\"], [\"ND\"], [\"IN\"], [\"IN\"], [\"IN\"], [\"IN\"], [\"IN\"], [\"IN\"], [\"IN\"], [\"IN\"], [\"IN\"], [\"IN\"], [\"IN\"], [\"IN\"], [\"MN\"], [\"MN\"], [\"MN\"], [\"MN\"], [\"MN\"], [\"MN\"], [\"MN\"], [\"MN\"], [\"MN\"], [\"MN\"], [\"MN\"], [\"MN\"], [\"MO\"], [\"MO\"], [\"MO\"], [\"MO\"], [\"MO\"], [\"MO\"], [\"MO\"], [\"MO\"], [\"MO\"], [\"MO\"], [\"MO\"], [\"MO\"], [\"IA\"], [\"IA\"], [\"IA\"], [\"IA\"], [\"IA\"], [\"IA\"], [\"IA\"], [\"IA\"], [\"IA\"], [\"IA\"], [\"IA\"], [\"IA\"], [\"OH\"], [\"OH\"], [\"OH\"], [\"OH\"], [\"OH\"], [\"OH\"], [\"OH\"], [\"OH\"], [\"OH\"], [\"OH\"], [\"OH\"], [\"OH\"], [\"NE\"], [\"NE\"], [\"NE\"], [\"NE\"], [\"NE\"], [\"NE\"], [\"NE\"], [\"NE\"], [\"NE\"], [\"NE\"], [\"NE\"], [\"NE\"], [\"MO\"], [\"MO\"], [\"MO\"], [\"MO\"], [\"MO\"], [\"MO\"], [\"MO\"], [\"MO\"], [\"MO\"], [\"MO\"], [\"MO\"], [\"MO\"], [\"IN\"], [\"IN\"], [\"IN\"], [\"IN\"], [\"IN\"], [\"IN\"], [\"IN\"], [\"IN\"], [\"IN\"], [\"IN\"], [\"IN\"], [\"IN\"], [\"MI\"], [\"MI\"], [\"MI\"], [\"MI\"], [\"MI\"], [\"MI\"], [\"MI\"], [\"MI\"], [\"MI\"], [\"MI\"], [\"MI\"], [\"MI\"], [\"OH\"], [\"OH\"], [\"OH\"], [\"OH\"], [\"OH\"], [\"OH\"], [\"OH\"], [\"OH\"], [\"OH\"], [\"OH\"], [\"OH\"], [\"OH\"], [\"SD\"], [\"SD\"], [\"SD\"], [\"SD\"], [\"SD\"], [\"SD\"], [\"SD\"], [\"SD\"], [\"SD\"], [\"SD\"], [\"SD\"], [\"SD\"], [\"MO\"], [\"MO\"], [\"MO\"], [\"MO\"], [\"MO\"], [\"MO\"], [\"MO\"], [\"MO\"], [\"MO\"], [\"MO\"], [\"MO\"], [\"MO\"], [\"MI\"], [\"MI\"], [\"MI\"], [\"MI\"], [\"MI\"], [\"MI\"], [\"MI\"], [\"MI\"], [\"MI\"], [\"MI\"], [\"MI\"], [\"MI\"], [\"ND\"], [\"ND\"], [\"ND\"], [\"ND\"], [\"ND\"], [\"ND\"], [\"ND\"], [\"ND\"], [\"ND\"], [\"ND\"], [\"ND\"], [\"ND\"], [\"IN\"], [\"IN\"], [\"IN\"], [\"IN\"], [\"IN\"], [\"IN\"], [\"IN\"], [\"IN\"], [\"IN\"], [\"IN\"], [\"IN\"], [\"IN\"], [\"IL\"], [\"IL\"], [\"IL\"], [\"IL\"], [\"IL\"], [\"IL\"], [\"IL\"], [\"IL\"], [\"IL\"], [\"IL\"], [\"IL\"], [\"IL\"], [\"SD\"], [\"SD\"], [\"SD\"], [\"SD\"], [\"SD\"], [\"SD\"], [\"SD\"], [\"SD\"], [\"SD\"], [\"SD\"], [\"SD\"], [\"SD\"], [\"MN\"], [\"MN\"], [\"MN\"], [\"MN\"], [\"MN\"], [\"MN\"], [\"MN\"], [\"MN\"], [\"MN\"], [\"MN\"], [\"MN\"], [\"MN\"], [\"SD\"], [\"SD\"], [\"SD\"], [\"SD\"], [\"SD\"], [\"SD\"], [\"SD\"], [\"SD\"], [\"SD\"], [\"SD\"], [\"SD\"], [\"SD\"], [\"SD\"], [\"SD\"], [\"SD\"], [\"SD\"], [\"SD\"], [\"SD\"], [\"SD\"], [\"SD\"], [\"SD\"], [\"SD\"], [\"SD\"], [\"SD\"], [\"KS\"], [\"KS\"], [\"KS\"], [\"KS\"], [\"KS\"], [\"KS\"], [\"KS\"], [\"KS\"], [\"KS\"], [\"KS\"], [\"KS\"], [\"KS\"], [\"NE\"], [\"NE\"], [\"NE\"], [\"NE\"], [\"NE\"], [\"NE\"], [\"NE\"], [\"NE\"], [\"NE\"], [\"NE\"], [\"NE\"], [\"NE\"], [\"MO\"], [\"MO\"], [\"MO\"], [\"MO\"], [\"MO\"], [\"MO\"], [\"MO\"], [\"MO\"], [\"MO\"], [\"MO\"], [\"MO\"], [\"MO\"], [\"OH\"], [\"OH\"], [\"OH\"], [\"OH\"], [\"OH\"], [\"OH\"], [\"OH\"], [\"OH\"], [\"OH\"], [\"OH\"], [\"OH\"], [\"OH\"], [\"MN\"], [\"MN\"], [\"MN\"], [\"MN\"], [\"MN\"], [\"MN\"], [\"MN\"], [\"MN\"], [\"MN\"], [\"MN\"], [\"MN\"], [\"MN\"], [\"MI\"], [\"MI\"], [\"MI\"], [\"MI\"], [\"MI\"], [\"MI\"], [\"MI\"], [\"MI\"], [\"MI\"], [\"MI\"], [\"MI\"], [\"MI\"], [\"MI\"], [\"MI\"], [\"MI\"], [\"MI\"], [\"MI\"], [\"MI\"], [\"MI\"], [\"MI\"], [\"MI\"], [\"MI\"], [\"MI\"], [\"MI\"], [\"WI\"], [\"WI\"], [\"WI\"], [\"WI\"], [\"WI\"], [\"WI\"], [\"WI\"], [\"WI\"], [\"WI\"], [\"WI\"], [\"WI\"], [\"WI\"], [\"NE\"], [\"NE\"], [\"NE\"], [\"NE\"], [\"NE\"], [\"NE\"], [\"NE\"], [\"NE\"], [\"NE\"], [\"NE\"], [\"NE\"], [\"NE\"], [\"MI\"], [\"MI\"], [\"MI\"], [\"MI\"], [\"MI\"], [\"MI\"], [\"MI\"], [\"MI\"], [\"MI\"], [\"MI\"], [\"MI\"], [\"MI\"], [\"KS\"], [\"KS\"], [\"KS\"], [\"KS\"], [\"KS\"], [\"KS\"], [\"KS\"], [\"KS\"], [\"KS\"], [\"KS\"], [\"KS\"], [\"KS\"], [\"ND\"], [\"ND\"], [\"ND\"], [\"ND\"], [\"ND\"], [\"ND\"], [\"ND\"], [\"ND\"], [\"ND\"], [\"ND\"], [\"ND\"], [\"ND\"], [\"MO\"], [\"MO\"], [\"MO\"], [\"MO\"], [\"MO\"], [\"MO\"], [\"MO\"], [\"MO\"], [\"MO\"], [\"MO\"], [\"MO\"], [\"MO\"], [\"MN\"], [\"MN\"], [\"MN\"], [\"MN\"], [\"MN\"], [\"MN\"], [\"MN\"], [\"MN\"], [\"MN\"], [\"MN\"], [\"MN\"], [\"MN\"], [\"SD\"], [\"SD\"], [\"SD\"], [\"SD\"], [\"SD\"], [\"SD\"], [\"SD\"], [\"SD\"], [\"SD\"], [\"SD\"], [\"SD\"], [\"SD\"], [\"MO\"], [\"MO\"], [\"MO\"], [\"MO\"], [\"MO\"], [\"MO\"], [\"MO\"], [\"MO\"], [\"MO\"], [\"MO\"], [\"MO\"], [\"MO\"], [\"OH\"], [\"OH\"], [\"OH\"], [\"OH\"], [\"OH\"], [\"OH\"], [\"OH\"], [\"OH\"], [\"OH\"], [\"OH\"], [\"OH\"], [\"OH\"]], \"hoverlabel\": {\"namelength\": 0}, \"hovertemplate\": \"Population=%{x}<br>Total Visitors=%{marker.size}<br>StateCode=%{customdata[0]}\", \"legendgroup\": \"\", \"marker\": {\"color\": \"#636efa\", \"size\": [325160, 408618, 833566, 893558, 1557746, 2825872, 4201409, 3192593, 2029231, 1120572, 593559, 482091, 325160, 408618, 833566, 893558, 1557746, 2825872, 4201409, 3192593, 2029231, 1120572, 593559, 482091, 325160, 408618, 833566, 893558, 1557746, 2825872, 4201409, 3192593, 2029231, 1120572, 593559, 482091, 325160, 408618, 833566, 893558, 1557746, 2825872, 4201409, 3192593, 2029231, 1120572, 593559, 482091, 325160, 408618, 833566, 893558, 1557746, 2825872, 4201409, 3192593, 2029231, 1120572, 593559, 482091, 325160, 408618, 833566, 893558, 1557746, 2825872, 4201409, 3192593, 2029231, 1120572, 593559, 482091, 325160, 408618, 833566, 893558, 1557746, 2825872, 4201409, 3192593, 2029231, 1120572, 593559, 482091, 325160, 408618, 833566, 893558, 1557746, 2825872, 4201409, 3192593, 2029231, 1120572, 593559, 482091, 325160, 408618, 833566, 893558, 1557746, 2825872, 4201409, 3192593, 2029231, 1120572, 593559, 482091, 325160, 408618, 833566, 893558, 1557746, 2825872, 4201409, 3192593, 2029231, 1120572, 593559, 482091, 325160, 408618, 833566, 893558, 1557746, 2825872, 4201409, 3192593, 2029231, 1120572, 593559, 482091, 325160, 408618, 833566, 893558, 1557746, 2825872, 4201409, 3192593, 2029231, 1120572, 593559, 482091, 325160, 408618, 833566, 893558, 1557746, 2825872, 4201409, 3192593, 2029231, 1120572, 593559, 482091, 325160, 408618, 833566, 893558, 1557746, 2825872, 4201409, 3192593, 2029231, 1120572, 593559, 482091, 325160, 408618, 833566, 893558, 1557746, 2825872, 4201409, 3192593, 2029231, 1120572, 593559, 482091, 325160, 408618, 833566, 893558, 1557746, 2825872, 4201409, 3192593, 2029231, 1120572, 593559, 482091, 325160, 408618, 833566, 893558, 1557746, 2825872, 4201409, 3192593, 2029231, 1120572, 593559, 482091, 325160, 408618, 833566, 893558, 1557746, 2825872, 4201409, 3192593, 2029231, 1120572, 593559, 482091, 325160, 408618, 833566, 893558, 1557746, 2825872, 4201409, 3192593, 2029231, 1120572, 593559, 482091, 325160, 408618, 833566, 893558, 1557746, 2825872, 4201409, 3192593, 2029231, 1120572, 593559, 482091, 325160, 408618, 833566, 893558, 1557746, 2825872, 4201409, 3192593, 2029231, 1120572, 593559, 482091, 325160, 408618, 833566, 893558, 1557746, 2825872, 4201409, 3192593, 2029231, 1120572, 593559, 482091, 325160, 408618, 833566, 893558, 1557746, 2825872, 4201409, 3192593, 2029231, 1120572, 593559, 482091, 325160, 408618, 833566, 893558, 1557746, 2825872, 4201409, 3192593, 2029231, 1120572, 593559, 482091, 325160, 408618, 833566, 893558, 1557746, 2825872, 4201409, 3192593, 2029231, 1120572, 593559, 482091, 325160, 408618, 833566, 893558, 1557746, 2825872, 4201409, 3192593, 2029231, 1120572, 593559, 482091, 325160, 408618, 833566, 893558, 1557746, 2825872, 4201409, 3192593, 2029231, 1120572, 593559, 482091, 325160, 408618, 833566, 893558, 1557746, 2825872, 4201409, 3192593, 2029231, 1120572, 593559, 482091, 325160, 408618, 833566, 893558, 1557746, 2825872, 4201409, 3192593, 2029231, 1120572, 593559, 482091, 325160, 408618, 833566, 893558, 1557746, 2825872, 4201409, 3192593, 2029231, 1120572, 593559, 482091, 325160, 408618, 833566, 893558, 1557746, 2825872, 4201409, 3192593, 2029231, 1120572, 593559, 482091, 325160, 408618, 833566, 893558, 1557746, 2825872, 4201409, 3192593, 2029231, 1120572, 593559, 482091, 325160, 408618, 833566, 893558, 1557746, 2825872, 4201409, 3192593, 2029231, 1120572, 593559, 482091, 325160, 408618, 833566, 893558, 1557746, 2825872, 4201409, 3192593, 2029231, 1120572, 593559, 482091, 325160, 408618, 833566, 893558, 1557746, 2825872, 4201409, 3192593, 2029231, 1120572, 593559, 482091, 325160, 408618, 833566, 893558, 1557746, 2825872, 4201409, 3192593, 2029231, 1120572, 593559, 482091, 325160, 408618, 833566, 893558, 1557746, 2825872, 4201409, 3192593, 2029231, 1120572, 593559, 482091, 325160, 408618, 833566, 893558, 1557746, 2825872, 4201409, 3192593, 2029231, 1120572, 593559, 482091, 325160, 408618, 833566, 893558, 1557746, 2825872, 4201409, 3192593, 2029231, 1120572, 593559, 482091, 325160, 408618, 833566, 893558, 1557746, 2825872, 4201409, 3192593, 2029231, 1120572, 593559, 482091, 325160, 408618, 833566, 893558, 1557746, 2825872, 4201409, 3192593, 2029231, 1120572, 593559, 482091, 325160, 408618, 833566, 893558, 1557746, 2825872, 4201409, 3192593, 2029231, 1120572, 593559, 482091, 325160, 408618, 833566, 893558, 1557746, 2825872, 4201409, 3192593, 2029231, 1120572, 593559, 482091, 325160, 408618, 833566, 893558, 1557746, 2825872, 4201409, 3192593, 2029231, 1120572, 593559, 482091, 325160, 408618, 833566, 893558, 1557746, 2825872, 4201409, 3192593, 2029231, 1120572, 593559, 482091, 325160, 408618, 833566, 893558, 1557746, 2825872, 4201409, 3192593, 2029231, 1120572, 593559, 482091, 325160, 408618, 833566, 893558, 1557746, 2825872, 4201409, 3192593, 2029231, 1120572, 593559, 482091, 325160, 408618, 833566, 893558, 1557746, 2825872, 4201409, 3192593, 2029231, 1120572, 593559, 482091, 325160, 408618, 833566, 893558, 1557746, 2825872, 4201409, 3192593, 2029231, 1120572, 593559, 482091], \"sizemode\": \"area\", \"sizeref\": 10503.5225, \"symbol\": \"circle\"}, \"mode\": \"markers\", \"name\": \"\", \"showlegend\": false, \"type\": \"scatter\", \"x\": [1893921.0, 1893921.0, 1893921.0, 1893921.0, 1893921.0, 1893921.0, 1893921.0, 1893921.0, 1893921.0, 1893921.0, 1893921.0, 1893921.0, 5763217.0, 5763217.0, 5763217.0, 5763217.0, 5763217.0, 5763217.0, 5763217.0, 5763217.0, 5763217.0, 5763217.0, 5763217.0, 5763217.0, 855444.0, 855444.0, 855444.0, 855444.0, 855444.0, 855444.0, 855444.0, 855444.0, 855444.0, 855444.0, 855444.0, 855444.0, 2903820.0, 2903820.0, 2903820.0, 2903820.0, 2903820.0, 2903820.0, 2903820.0, 2903820.0, 2903820.0, 2903820.0, 2903820.0, 2903820.0, 11609756.0, 11609756.0, 11609756.0, 11609756.0, 11609756.0, 11609756.0, 11609756.0, 11609756.0, 11609756.0, 11609756.0, 11609756.0, 11609756.0, 11609756.0, 11609756.0, 11609756.0, 11609756.0, 11609756.0, 11609756.0, 11609756.0, 11609756.0, 11609756.0, 11609756.0, 11609756.0, 11609756.0, 11609756.0, 11609756.0, 11609756.0, 11609756.0, 11609756.0, 11609756.0, 11609756.0, 11609756.0, 11609756.0, 11609756.0, 11609756.0, 11609756.0, 3118102.0, 3118102.0, 3118102.0, 3118102.0, 3118102.0, 3118102.0, 3118102.0, 3118102.0, 3118102.0, 3118102.0, 3118102.0, 3118102.0, 11609756.0, 11609756.0, 11609756.0, 11609756.0, 11609756.0, 11609756.0, 11609756.0, 11609756.0, 11609756.0, 11609756.0, 11609756.0, 11609756.0, 2903820.0, 2903820.0, 2903820.0, 2903820.0, 2903820.0, 2903820.0, 2903820.0, 2903820.0, 2903820.0, 2903820.0, 2903820.0, 2903820.0, 2903820.0, 2903820.0, 2903820.0, 2903820.0, 2903820.0, 2903820.0, 2903820.0, 2903820.0, 2903820.0, 2903820.0, 2903820.0, 2903820.0, 745475.0, 745475.0, 745475.0, 745475.0, 745475.0, 745475.0, 745475.0, 745475.0, 745475.0, 745475.0, 745475.0, 745475.0, 6614418.0, 6614418.0, 6614418.0, 6614418.0, 6614418.0, 6614418.0, 6614418.0, 6614418.0, 6614418.0, 6614418.0, 6614418.0, 6614418.0, 5490726.0, 5490726.0, 5490726.0, 5490726.0, 5490726.0, 5490726.0, 5490726.0, 5490726.0, 5490726.0, 5490726.0, 5490726.0, 5490726.0, 6075300.0, 6075300.0, 6075300.0, 6075300.0, 6075300.0, 6075300.0, 6075300.0, 6075300.0, 6075300.0, 6075300.0, 6075300.0, 6075300.0, 3118102.0, 3118102.0, 3118102.0, 3118102.0, 3118102.0, 3118102.0, 3118102.0, 3118102.0, 3118102.0, 3118102.0, 3118102.0, 3118102.0, 11609756.0, 11609756.0, 11609756.0, 11609756.0, 11609756.0, 11609756.0, 11609756.0, 11609756.0, 11609756.0, 11609756.0, 11609756.0, 11609756.0, 1893921.0, 1893921.0, 1893921.0, 1893921.0, 1893921.0, 1893921.0, 1893921.0, 1893921.0, 1893921.0, 1893921.0, 1893921.0, 1893921.0, 6075300.0, 6075300.0, 6075300.0, 6075300.0, 6075300.0, 6075300.0, 6075300.0, 6075300.0, 6075300.0, 6075300.0, 6075300.0, 6075300.0, 6614418.0, 6614418.0, 6614418.0, 6614418.0, 6614418.0, 6614418.0, 6614418.0, 6614418.0, 6614418.0, 6614418.0, 6614418.0, 6614418.0, 9925568.0, 9925568.0, 9925568.0, 9925568.0, 9925568.0, 9925568.0, 9925568.0, 9925568.0, 9925568.0, 9925568.0, 9925568.0, 9925568.0, 11609756.0, 11609756.0, 11609756.0, 11609756.0, 11609756.0, 11609756.0, 11609756.0, 11609756.0, 11609756.0, 11609756.0, 11609756.0, 11609756.0, 855444.0, 855444.0, 855444.0, 855444.0, 855444.0, 855444.0, 855444.0, 855444.0, 855444.0, 855444.0, 855444.0, 855444.0, 6075300.0, 6075300.0, 6075300.0, 6075300.0, 6075300.0, 6075300.0, 6075300.0, 6075300.0, 6075300.0, 6075300.0, 6075300.0, 6075300.0, 9925568.0, 9925568.0, 9925568.0, 9925568.0, 9925568.0, 9925568.0, 9925568.0, 9925568.0, 9925568.0, 9925568.0, 9925568.0, 9925568.0, 745475.0, 745475.0, 745475.0, 745475.0, 745475.0, 745475.0, 745475.0, 745475.0, 745475.0, 745475.0, 745475.0, 745475.0, 6614418.0, 6614418.0, 6614418.0, 6614418.0, 6614418.0, 6614418.0, 6614418.0, 6614418.0, 6614418.0, 6614418.0, 6614418.0, 6614418.0, 12854526.0, 12854526.0, 12854526.0, 12854526.0, 12854526.0, 12854526.0, 12854526.0, 12854526.0, 12854526.0, 12854526.0, 12854526.0, 12854526.0, 855444.0, 855444.0, 855444.0, 855444.0, 855444.0, 855444.0, 855444.0, 855444.0, 855444.0, 855444.0, 855444.0, 855444.0, 5490726.0, 5490726.0, 5490726.0, 5490726.0, 5490726.0, 5490726.0, 5490726.0, 5490726.0, 5490726.0, 5490726.0, 5490726.0, 5490726.0, 855444.0, 855444.0, 855444.0, 855444.0, 855444.0, 855444.0, 855444.0, 855444.0, 855444.0, 855444.0, 855444.0, 855444.0, 855444.0, 855444.0, 855444.0, 855444.0, 855444.0, 855444.0, 855444.0, 855444.0, 855444.0, 855444.0, 855444.0, 855444.0, 2903820.0, 2903820.0, 2903820.0, 2903820.0, 2903820.0, 2903820.0, 2903820.0, 2903820.0, 2903820.0, 2903820.0, 2903820.0, 2903820.0, 1893921.0, 1893921.0, 1893921.0, 1893921.0, 1893921.0, 1893921.0, 1893921.0, 1893921.0, 1893921.0, 1893921.0, 1893921.0, 1893921.0, 6075300.0, 6075300.0, 6075300.0, 6075300.0, 6075300.0, 6075300.0, 6075300.0, 6075300.0, 6075300.0, 6075300.0, 6075300.0, 6075300.0, 11609756.0, 11609756.0, 11609756.0, 11609756.0, 11609756.0, 11609756.0, 11609756.0, 11609756.0, 11609756.0, 11609756.0, 11609756.0, 11609756.0, 5490726.0, 5490726.0, 5490726.0, 5490726.0, 5490726.0, 5490726.0, 5490726.0, 5490726.0, 5490726.0, 5490726.0, 5490726.0, 5490726.0, 9925568.0, 9925568.0, 9925568.0, 9925568.0, 9925568.0, 9925568.0, 9925568.0, 9925568.0, 9925568.0, 9925568.0, 9925568.0, 9925568.0, 9925568.0, 9925568.0, 9925568.0, 9925568.0, 9925568.0, 9925568.0, 9925568.0, 9925568.0, 9925568.0, 9925568.0, 9925568.0, 9925568.0, 5763217.0, 5763217.0, 5763217.0, 5763217.0, 5763217.0, 5763217.0, 5763217.0, 5763217.0, 5763217.0, 5763217.0, 5763217.0, 5763217.0, 1893921.0, 1893921.0, 1893921.0, 1893921.0, 1893921.0, 1893921.0, 1893921.0, 1893921.0, 1893921.0, 1893921.0, 1893921.0, 1893921.0, 9925568.0, 9925568.0, 9925568.0, 9925568.0, 9925568.0, 9925568.0, 9925568.0, 9925568.0, 9925568.0, 9925568.0, 9925568.0, 9925568.0, 2903820.0, 2903820.0, 2903820.0, 2903820.0, 2903820.0, 2903820.0, 2903820.0, 2903820.0, 2903820.0, 2903820.0, 2903820.0, 2903820.0, 745475.0, 745475.0, 745475.0, 745475.0, 745475.0, 745475.0, 745475.0, 745475.0, 745475.0, 745475.0, 745475.0, 745475.0, 6075300.0, 6075300.0, 6075300.0, 6075300.0, 6075300.0, 6075300.0, 6075300.0, 6075300.0, 6075300.0, 6075300.0, 6075300.0, 6075300.0, 5490726.0, 5490726.0, 5490726.0, 5490726.0, 5490726.0, 5490726.0, 5490726.0, 5490726.0, 5490726.0, 5490726.0, 5490726.0, 5490726.0, 855444.0, 855444.0, 855444.0, 855444.0, 855444.0, 855444.0, 855444.0, 855444.0, 855444.0, 855444.0, 855444.0, 855444.0, 6075300.0, 6075300.0, 6075300.0, 6075300.0, 6075300.0, 6075300.0, 6075300.0, 6075300.0, 6075300.0, 6075300.0, 6075300.0, 6075300.0, 11609756.0, 11609756.0, 11609756.0, 11609756.0, 11609756.0, 11609756.0, 11609756.0, 11609756.0, 11609756.0, 11609756.0, 11609756.0, 11609756.0], \"xaxis\": \"x\", \"y\": [325160, 408618, 833566, 893558, 1557746, 2825872, 4201409, 3192593, 2029231, 1120572, 593559, 482091, 325160, 408618, 833566, 893558, 1557746, 2825872, 4201409, 3192593, 2029231, 1120572, 593559, 482091, 325160, 408618, 833566, 893558, 1557746, 2825872, 4201409, 3192593, 2029231, 1120572, 593559, 482091, 325160, 408618, 833566, 893558, 1557746, 2825872, 4201409, 3192593, 2029231, 1120572, 593559, 482091, 325160, 408618, 833566, 893558, 1557746, 2825872, 4201409, 3192593, 2029231, 1120572, 593559, 482091, 325160, 408618, 833566, 893558, 1557746, 2825872, 4201409, 3192593, 2029231, 1120572, 593559, 482091, 325160, 408618, 833566, 893558, 1557746, 2825872, 4201409, 3192593, 2029231, 1120572, 593559, 482091, 325160, 408618, 833566, 893558, 1557746, 2825872, 4201409, 3192593, 2029231, 1120572, 593559, 482091, 325160, 408618, 833566, 893558, 1557746, 2825872, 4201409, 3192593, 2029231, 1120572, 593559, 482091, 325160, 408618, 833566, 893558, 1557746, 2825872, 4201409, 3192593, 2029231, 1120572, 593559, 482091, 325160, 408618, 833566, 893558, 1557746, 2825872, 4201409, 3192593, 2029231, 1120572, 593559, 482091, 325160, 408618, 833566, 893558, 1557746, 2825872, 4201409, 3192593, 2029231, 1120572, 593559, 482091, 325160, 408618, 833566, 893558, 1557746, 2825872, 4201409, 3192593, 2029231, 1120572, 593559, 482091, 325160, 408618, 833566, 893558, 1557746, 2825872, 4201409, 3192593, 2029231, 1120572, 593559, 482091, 325160, 408618, 833566, 893558, 1557746, 2825872, 4201409, 3192593, 2029231, 1120572, 593559, 482091, 325160, 408618, 833566, 893558, 1557746, 2825872, 4201409, 3192593, 2029231, 1120572, 593559, 482091, 325160, 408618, 833566, 893558, 1557746, 2825872, 4201409, 3192593, 2029231, 1120572, 593559, 482091, 325160, 408618, 833566, 893558, 1557746, 2825872, 4201409, 3192593, 2029231, 1120572, 593559, 482091, 325160, 408618, 833566, 893558, 1557746, 2825872, 4201409, 3192593, 2029231, 1120572, 593559, 482091, 325160, 408618, 833566, 893558, 1557746, 2825872, 4201409, 3192593, 2029231, 1120572, 593559, 482091, 325160, 408618, 833566, 893558, 1557746, 2825872, 4201409, 3192593, 2029231, 1120572, 593559, 482091, 325160, 408618, 833566, 893558, 1557746, 2825872, 4201409, 3192593, 2029231, 1120572, 593559, 482091, 325160, 408618, 833566, 893558, 1557746, 2825872, 4201409, 3192593, 2029231, 1120572, 593559, 482091, 325160, 408618, 833566, 893558, 1557746, 2825872, 4201409, 3192593, 2029231, 1120572, 593559, 482091, 325160, 408618, 833566, 893558, 1557746, 2825872, 4201409, 3192593, 2029231, 1120572, 593559, 482091, 325160, 408618, 833566, 893558, 1557746, 2825872, 4201409, 3192593, 2029231, 1120572, 593559, 482091, 325160, 408618, 833566, 893558, 1557746, 2825872, 4201409, 3192593, 2029231, 1120572, 593559, 482091, 325160, 408618, 833566, 893558, 1557746, 2825872, 4201409, 3192593, 2029231, 1120572, 593559, 482091, 325160, 408618, 833566, 893558, 1557746, 2825872, 4201409, 3192593, 2029231, 1120572, 593559, 482091, 325160, 408618, 833566, 893558, 1557746, 2825872, 4201409, 3192593, 2029231, 1120572, 593559, 482091, 325160, 408618, 833566, 893558, 1557746, 2825872, 4201409, 3192593, 2029231, 1120572, 593559, 482091, 325160, 408618, 833566, 893558, 1557746, 2825872, 4201409, 3192593, 2029231, 1120572, 593559, 482091, 325160, 408618, 833566, 893558, 1557746, 2825872, 4201409, 3192593, 2029231, 1120572, 593559, 482091, 325160, 408618, 833566, 893558, 1557746, 2825872, 4201409, 3192593, 2029231, 1120572, 593559, 482091, 325160, 408618, 833566, 893558, 1557746, 2825872, 4201409, 3192593, 2029231, 1120572, 593559, 482091, 325160, 408618, 833566, 893558, 1557746, 2825872, 4201409, 3192593, 2029231, 1120572, 593559, 482091, 325160, 408618, 833566, 893558, 1557746, 2825872, 4201409, 3192593, 2029231, 1120572, 593559, 482091, 325160, 408618, 833566, 893558, 1557746, 2825872, 4201409, 3192593, 2029231, 1120572, 593559, 482091, 325160, 408618, 833566, 893558, 1557746, 2825872, 4201409, 3192593, 2029231, 1120572, 593559, 482091, 325160, 408618, 833566, 893558, 1557746, 2825872, 4201409, 3192593, 2029231, 1120572, 593559, 482091, 325160, 408618, 833566, 893558, 1557746, 2825872, 4201409, 3192593, 2029231, 1120572, 593559, 482091, 325160, 408618, 833566, 893558, 1557746, 2825872, 4201409, 3192593, 2029231, 1120572, 593559, 482091, 325160, 408618, 833566, 893558, 1557746, 2825872, 4201409, 3192593, 2029231, 1120572, 593559, 482091, 325160, 408618, 833566, 893558, 1557746, 2825872, 4201409, 3192593, 2029231, 1120572, 593559, 482091, 325160, 408618, 833566, 893558, 1557746, 2825872, 4201409, 3192593, 2029231, 1120572, 593559, 482091, 325160, 408618, 833566, 893558, 1557746, 2825872, 4201409, 3192593, 2029231, 1120572, 593559, 482091, 325160, 408618, 833566, 893558, 1557746, 2825872, 4201409, 3192593, 2029231, 1120572, 593559, 482091, 325160, 408618, 833566, 893558, 1557746, 2825872, 4201409, 3192593, 2029231, 1120572, 593559, 482091, 325160, 408618, 833566, 893558, 1557746, 2825872, 4201409, 3192593, 2029231, 1120572, 593559, 482091], \"yaxis\": \"y\"}],\n",
       "                        {\"legend\": {\"itemsizing\": \"constant\", \"tracegroupgap\": 0}, \"margin\": {\"t\": 60}, \"template\": {\"data\": {\"bar\": [{\"error_x\": {\"color\": \"#2a3f5f\"}, \"error_y\": {\"color\": \"#2a3f5f\"}, \"marker\": {\"line\": {\"color\": \"#E5ECF6\", \"width\": 0.5}}, \"type\": \"bar\"}], \"barpolar\": [{\"marker\": {\"line\": {\"color\": \"#E5ECF6\", \"width\": 0.5}}, \"type\": \"barpolar\"}], \"carpet\": [{\"aaxis\": {\"endlinecolor\": \"#2a3f5f\", \"gridcolor\": \"white\", \"linecolor\": \"white\", \"minorgridcolor\": \"white\", \"startlinecolor\": \"#2a3f5f\"}, \"baxis\": {\"endlinecolor\": \"#2a3f5f\", \"gridcolor\": \"white\", \"linecolor\": \"white\", \"minorgridcolor\": \"white\", \"startlinecolor\": \"#2a3f5f\"}, \"type\": \"carpet\"}], \"choropleth\": [{\"colorbar\": {\"outlinewidth\": 0, \"ticks\": \"\"}, \"type\": \"choropleth\"}], \"contour\": [{\"colorbar\": {\"outlinewidth\": 0, \"ticks\": \"\"}, \"colorscale\": [[0.0, \"#0d0887\"], [0.1111111111111111, \"#46039f\"], [0.2222222222222222, \"#7201a8\"], [0.3333333333333333, \"#9c179e\"], [0.4444444444444444, \"#bd3786\"], [0.5555555555555556, \"#d8576b\"], [0.6666666666666666, \"#ed7953\"], [0.7777777777777778, \"#fb9f3a\"], [0.8888888888888888, \"#fdca26\"], [1.0, \"#f0f921\"]], \"type\": \"contour\"}], \"contourcarpet\": [{\"colorbar\": {\"outlinewidth\": 0, \"ticks\": \"\"}, \"type\": \"contourcarpet\"}], \"heatmap\": [{\"colorbar\": {\"outlinewidth\": 0, \"ticks\": \"\"}, \"colorscale\": [[0.0, \"#0d0887\"], [0.1111111111111111, \"#46039f\"], [0.2222222222222222, \"#7201a8\"], [0.3333333333333333, \"#9c179e\"], [0.4444444444444444, \"#bd3786\"], [0.5555555555555556, \"#d8576b\"], [0.6666666666666666, \"#ed7953\"], [0.7777777777777778, \"#fb9f3a\"], [0.8888888888888888, \"#fdca26\"], [1.0, \"#f0f921\"]], \"type\": \"heatmap\"}], \"heatmapgl\": [{\"colorbar\": {\"outlinewidth\": 0, \"ticks\": \"\"}, \"colorscale\": [[0.0, \"#0d0887\"], [0.1111111111111111, \"#46039f\"], [0.2222222222222222, \"#7201a8\"], [0.3333333333333333, \"#9c179e\"], [0.4444444444444444, \"#bd3786\"], [0.5555555555555556, \"#d8576b\"], [0.6666666666666666, \"#ed7953\"], [0.7777777777777778, \"#fb9f3a\"], [0.8888888888888888, \"#fdca26\"], [1.0, \"#f0f921\"]], \"type\": \"heatmapgl\"}], \"histogram\": [{\"marker\": {\"colorbar\": {\"outlinewidth\": 0, \"ticks\": \"\"}}, \"type\": \"histogram\"}], \"histogram2d\": [{\"colorbar\": {\"outlinewidth\": 0, \"ticks\": \"\"}, \"colorscale\": [[0.0, \"#0d0887\"], [0.1111111111111111, \"#46039f\"], [0.2222222222222222, \"#7201a8\"], [0.3333333333333333, \"#9c179e\"], [0.4444444444444444, \"#bd3786\"], [0.5555555555555556, \"#d8576b\"], [0.6666666666666666, \"#ed7953\"], [0.7777777777777778, \"#fb9f3a\"], [0.8888888888888888, \"#fdca26\"], [1.0, \"#f0f921\"]], \"type\": \"histogram2d\"}], \"histogram2dcontour\": [{\"colorbar\": {\"outlinewidth\": 0, \"ticks\": \"\"}, \"colorscale\": [[0.0, \"#0d0887\"], [0.1111111111111111, \"#46039f\"], [0.2222222222222222, \"#7201a8\"], [0.3333333333333333, \"#9c179e\"], [0.4444444444444444, \"#bd3786\"], [0.5555555555555556, \"#d8576b\"], [0.6666666666666666, \"#ed7953\"], [0.7777777777777778, \"#fb9f3a\"], [0.8888888888888888, \"#fdca26\"], [1.0, \"#f0f921\"]], \"type\": \"histogram2dcontour\"}], \"mesh3d\": [{\"colorbar\": {\"outlinewidth\": 0, \"ticks\": \"\"}, \"type\": \"mesh3d\"}], \"parcoords\": [{\"line\": {\"colorbar\": {\"outlinewidth\": 0, \"ticks\": \"\"}}, \"type\": \"parcoords\"}], \"pie\": [{\"automargin\": true, \"type\": \"pie\"}], \"scatter\": [{\"marker\": {\"colorbar\": {\"outlinewidth\": 0, \"ticks\": \"\"}}, \"type\": \"scatter\"}], \"scatter3d\": [{\"line\": {\"colorbar\": {\"outlinewidth\": 0, \"ticks\": \"\"}}, \"marker\": {\"colorbar\": {\"outlinewidth\": 0, \"ticks\": \"\"}}, \"type\": \"scatter3d\"}], \"scattercarpet\": [{\"marker\": {\"colorbar\": {\"outlinewidth\": 0, \"ticks\": \"\"}}, \"type\": \"scattercarpet\"}], \"scattergeo\": [{\"marker\": {\"colorbar\": {\"outlinewidth\": 0, \"ticks\": \"\"}}, \"type\": \"scattergeo\"}], \"scattergl\": [{\"marker\": {\"colorbar\": {\"outlinewidth\": 0, \"ticks\": \"\"}}, \"type\": \"scattergl\"}], \"scattermapbox\": [{\"marker\": {\"colorbar\": {\"outlinewidth\": 0, \"ticks\": \"\"}}, \"type\": \"scattermapbox\"}], \"scatterpolar\": [{\"marker\": {\"colorbar\": {\"outlinewidth\": 0, \"ticks\": \"\"}}, \"type\": \"scatterpolar\"}], \"scatterpolargl\": [{\"marker\": {\"colorbar\": {\"outlinewidth\": 0, \"ticks\": \"\"}}, \"type\": \"scatterpolargl\"}], \"scatterternary\": [{\"marker\": {\"colorbar\": {\"outlinewidth\": 0, \"ticks\": \"\"}}, \"type\": \"scatterternary\"}], \"surface\": [{\"colorbar\": {\"outlinewidth\": 0, \"ticks\": \"\"}, \"colorscale\": [[0.0, \"#0d0887\"], [0.1111111111111111, \"#46039f\"], [0.2222222222222222, \"#7201a8\"], [0.3333333333333333, \"#9c179e\"], [0.4444444444444444, \"#bd3786\"], [0.5555555555555556, \"#d8576b\"], [0.6666666666666666, \"#ed7953\"], [0.7777777777777778, \"#fb9f3a\"], [0.8888888888888888, \"#fdca26\"], [1.0, \"#f0f921\"]], \"type\": \"surface\"}], \"table\": [{\"cells\": {\"fill\": {\"color\": \"#EBF0F8\"}, \"line\": {\"color\": \"white\"}}, \"header\": {\"fill\": {\"color\": \"#C8D4E3\"}, \"line\": {\"color\": \"white\"}}, \"type\": \"table\"}]}, \"layout\": {\"annotationdefaults\": {\"arrowcolor\": \"#2a3f5f\", \"arrowhead\": 0, \"arrowwidth\": 1}, \"coloraxis\": {\"colorbar\": {\"outlinewidth\": 0, \"ticks\": \"\"}}, \"colorscale\": {\"diverging\": [[0, \"#8e0152\"], [0.1, \"#c51b7d\"], [0.2, \"#de77ae\"], [0.3, \"#f1b6da\"], [0.4, \"#fde0ef\"], [0.5, \"#f7f7f7\"], [0.6, \"#e6f5d0\"], [0.7, \"#b8e186\"], [0.8, \"#7fbc41\"], [0.9, \"#4d9221\"], [1, \"#276419\"]], \"sequential\": [[0.0, \"#0d0887\"], [0.1111111111111111, \"#46039f\"], [0.2222222222222222, \"#7201a8\"], [0.3333333333333333, \"#9c179e\"], [0.4444444444444444, \"#bd3786\"], [0.5555555555555556, \"#d8576b\"], [0.6666666666666666, \"#ed7953\"], [0.7777777777777778, \"#fb9f3a\"], [0.8888888888888888, \"#fdca26\"], [1.0, \"#f0f921\"]], \"sequentialminus\": [[0.0, \"#0d0887\"], [0.1111111111111111, \"#46039f\"], [0.2222222222222222, \"#7201a8\"], [0.3333333333333333, \"#9c179e\"], [0.4444444444444444, \"#bd3786\"], [0.5555555555555556, \"#d8576b\"], [0.6666666666666666, \"#ed7953\"], [0.7777777777777778, \"#fb9f3a\"], [0.8888888888888888, \"#fdca26\"], [1.0, \"#f0f921\"]]}, \"colorway\": [\"#636efa\", \"#EF553B\", \"#00cc96\", \"#ab63fa\", \"#FFA15A\", \"#19d3f3\", \"#FF6692\", \"#B6E880\", \"#FF97FF\", \"#FECB52\"], \"font\": {\"color\": \"#2a3f5f\"}, \"geo\": {\"bgcolor\": \"white\", \"lakecolor\": \"white\", \"landcolor\": \"#E5ECF6\", \"showlakes\": true, \"showland\": true, \"subunitcolor\": \"white\"}, \"hoverlabel\": {\"align\": \"left\"}, \"hovermode\": \"closest\", \"mapbox\": {\"style\": \"light\"}, \"paper_bgcolor\": \"white\", \"plot_bgcolor\": \"#E5ECF6\", \"polar\": {\"angularaxis\": {\"gridcolor\": \"white\", \"linecolor\": \"white\", \"ticks\": \"\"}, \"bgcolor\": \"#E5ECF6\", \"radialaxis\": {\"gridcolor\": \"white\", \"linecolor\": \"white\", \"ticks\": \"\"}}, \"scene\": {\"xaxis\": {\"backgroundcolor\": \"#E5ECF6\", \"gridcolor\": \"white\", \"gridwidth\": 2, \"linecolor\": \"white\", \"showbackground\": true, \"ticks\": \"\", \"zerolinecolor\": \"white\"}, \"yaxis\": {\"backgroundcolor\": \"#E5ECF6\", \"gridcolor\": \"white\", \"gridwidth\": 2, \"linecolor\": \"white\", \"showbackground\": true, \"ticks\": \"\", \"zerolinecolor\": \"white\"}, \"zaxis\": {\"backgroundcolor\": \"#E5ECF6\", \"gridcolor\": \"white\", \"gridwidth\": 2, \"linecolor\": \"white\", \"showbackground\": true, \"ticks\": \"\", \"zerolinecolor\": \"white\"}}, \"shapedefaults\": {\"line\": {\"color\": \"#2a3f5f\"}}, \"ternary\": {\"aaxis\": {\"gridcolor\": \"white\", \"linecolor\": \"white\", \"ticks\": \"\"}, \"baxis\": {\"gridcolor\": \"white\", \"linecolor\": \"white\", \"ticks\": \"\"}, \"bgcolor\": \"#E5ECF6\", \"caxis\": {\"gridcolor\": \"white\", \"linecolor\": \"white\", \"ticks\": \"\"}}, \"title\": {\"x\": 0.05}, \"xaxis\": {\"automargin\": true, \"gridcolor\": \"white\", \"linecolor\": \"white\", \"ticks\": \"\", \"title\": {\"standoff\": 15}, \"zerolinecolor\": \"white\", \"zerolinewidth\": 2}, \"yaxis\": {\"automargin\": true, \"gridcolor\": \"white\", \"linecolor\": \"white\", \"ticks\": \"\", \"title\": {\"standoff\": 15}, \"zerolinecolor\": \"white\", \"zerolinewidth\": 2}}}, \"title\": {\"text\": \"Population vs. Total Visitor\"}, \"xaxis\": {\"anchor\": \"y\", \"domain\": [0.0, 1.0], \"title\": {\"text\": \"Population\"}}, \"yaxis\": {\"anchor\": \"x\", \"domain\": [0.0, 1.0], \"title\": {\"text\": \"Total Visitors\"}}},\n",
       "                        {\"responsive\": true}\n",
       "                    ).then(function(){\n",
       "                            \n",
       "var gd = document.getElementById('aaf1533d-b339-4d7b-92af-fe2349393bf2');\n",
       "var x = new MutationObserver(function (mutations, observer) {{\n",
       "        var display = window.getComputedStyle(gd).display;\n",
       "        if (!display || display === 'none') {{\n",
       "            console.log([gd, 'removed!']);\n",
       "            Plotly.purge(gd);\n",
       "            observer.disconnect();\n",
       "        }}\n",
       "}});\n",
       "\n",
       "// Listen for the removal of the full notebook cells\n",
       "var notebookContainer = gd.closest('#notebook-container');\n",
       "if (notebookContainer) {{\n",
       "    x.observe(notebookContainer, {childList: true});\n",
       "}}\n",
       "\n",
       "// Listen for the clearing of the current output cell\n",
       "var outputEl = gd.closest('.output');\n",
       "if (outputEl) {{\n",
       "    x.observe(outputEl, {childList: true});\n",
       "}}\n",
       "\n",
       "                        })\n",
       "                };\n",
       "                });\n",
       "            </script>\n",
       "        </div>"
      ]
     },
     "metadata": {},
     "output_type": "display_data"
    }
   ],
   "source": [
    "import plotly.express as px\n",
    "fig = px.scatter(MW_visitors_Pop_by_year_df, x=\"Population\", y=\"Total Visitors\", hover_data=[\"StateCode\"], size=\"Total Visitors\" )\n",
    "fig.update_layout(title='Population vs. Total Visitor')\n",
    "fig.show()\n"
   ]
  },
  {
   "cell_type": "code",
   "execution_count": null,
   "metadata": {},
   "outputs": [],
   "source": []
  },
  {
   "cell_type": "code",
   "execution_count": null,
   "metadata": {},
   "outputs": [],
   "source": []
  },
  {
   "cell_type": "code",
   "execution_count": null,
   "metadata": {},
   "outputs": [],
   "source": []
  },
  {
   "cell_type": "code",
   "execution_count": null,
   "metadata": {},
   "outputs": [],
   "source": []
  },
  {
   "cell_type": "code",
   "execution_count": null,
   "metadata": {},
   "outputs": [],
   "source": []
  }
 ],
 "metadata": {
  "kernelspec": {
   "display_name": "Python 3",
   "language": "python",
   "name": "python3"
  },
  "language_info": {
   "codemirror_mode": {
    "name": "ipython",
    "version": 3
   },
   "file_extension": ".py",
   "mimetype": "text/x-python",
   "name": "python",
   "nbconvert_exporter": "python",
   "pygments_lexer": "ipython3",
   "version": "3.7.6"
  }
 },
 "nbformat": 4,
 "nbformat_minor": 2
}
