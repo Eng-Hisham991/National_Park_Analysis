{
 "cells": [
  {
   "cell_type": "code",
   "execution_count": 14,
   "metadata": {},
   "outputs": [],
   "source": [
    "import requests, json \n",
    "import matplotlib as plt \n",
    "import numpy as np, pandas as pd \n",
    "import os, time \n",
    "from NPS_key import Api_key\n",
    "from IPython.core.interactiveshell import InteractiveShell\n",
    "InteractiveShell.ast_node_interactivity = \"all\""
   ]
  },
  {
   "cell_type": "code",
   "execution_count": 15,
   "metadata": {},
   "outputs": [],
   "source": [
    "State1= ['CT', 'ME', 'MA', 'NH', 'NJ', 'NY', 'PA', 'RI', 'VT', 'DE', 'MD']\n",
    "State2= ['ND', 'SD','NE','KS','MO','IA','MN','WI','MI','IL','IN','OH']\n",
    "limit= 3000 #limit of search"
   ]
  },
  {
   "cell_type": "code",
   "execution_count": 3,
   "metadata": {},
   "outputs": [],
   "source": [
    "# Base_url= f'https://developer.nps.gov/api/v1/parks?stateCode={state}&api_key={Api_key}'\n"
   ]
  },
  {
   "cell_type": "code",
   "execution_count": 16,
   "metadata": {},
   "outputs": [],
   "source": [
    "parkCode1= []\n",
    "parkCode2= []\n",
    "urls1= []\n",
    "urls2=[]"
   ]
  },
  {
   "cell_type": "code",
   "execution_count": 17,
   "metadata": {},
   "outputs": [],
   "source": [
    "for state in State1:\n",
    "    try:\n",
    "        Base_url= f'https://developer.nps.gov/api/v1/parks?stateCode={state}&limit={limit}&api_key={Api_key}'\n",
    "        urls1.append(Base_url)\n",
    "        time.sleep(2.0)\n",
    "    except:\n",
    "        print('1- Please check codes in try. Skipping....')\n",
    "for state in State2:\n",
    "    try:\n",
    "        Base_url= f'https://developer.nps.gov/api/v1/parks?stateCode={state}&limit={limit}&api_key={Api_key}'\n",
    "        urls2.append(Base_url)\n",
    "        time.sleep(1.0)\n",
    "    except:\n",
    "        print('2- Please check codes in try. Skipping....')\n",
    "for url in urls1:\n",
    "    try:\n",
    "        response_json1= requests.get(url).json()\n",
    "        time.sleep(2.0)\n",
    "    except:\n",
    "        print('3- Please check codes in try. Skipping....')\n",
    "for url in urls2:\n",
    "    try:\n",
    "        response_json2= requests.get(url).json()\n",
    "        time.sleep(2.0)\n",
    "    except:\n",
    "        print('3- Please check codes in try. Skipping....')"
   ]
  },
  {
   "cell_type": "code",
   "execution_count": 18,
   "metadata": {},
   "outputs": [],
   "source": [
    "park_code1=[]\n",
    "park_code2=[]\n",
    "for i in range(len(response_json1['data'])):\n",
    "    try:\n",
    "        park_code1.append(response_json1['data'][i]['parkCode'])\n",
    "        time.sleep(2.0)\n",
    "    except:\n",
    "        print('1- Please check codes above. Skipping....')\n",
    "for i in range(len(response_json2['data'])):\n",
    "    try:\n",
    "        park_code2.append(response_json2['data'][i]['parkCode'])\n",
    "        time.sleep(2.0)\n",
    "    except:\n",
    "        print('2- Please check codes in try. Skipping....')\n"
   ]
  },
  {
   "cell_type": "code",
   "execution_count": 26,
   "metadata": {},
   "outputs": [],
   "source": [
    "startmonth = '01'\n",
    "startyear = '2019'\n",
    "endmonth = '12'\n",
    "endyear = '2019'\n",
    "totalvisit1 = []\n",
    "totalvisit2 = []\n",
    "\n",
    "for unitcode in range(len(park_code1)):\n",
    "    try:\n",
    "        URL = f'https://irmaservices.nps.gov/v3/rest/stats/visitation?unitCodes={park_code1[unitcode]}&startMonth={startmonth}&startYear={startyear}&endMonth={endmonth}&endYear={endyear}&format=json'\n",
    "        res_visit1 = requests.get(URL).json()\n",
    "        totalvisit1.append(res_visit1)\n",
    "        time.sleep(2.0)\n",
    "\n",
    "    except:\n",
    "        print('1- Please check codes above. Skipping....')\n",
    "    \n",
    "for unitcode in range(len(park_code2)):\n",
    "    try:\n",
    "        URL = f'https://irmaservices.nps.gov/v3/rest/stats/visitation?unitCodes={park_code2[unitcode]}&startMonth={startmonth}&startYear={startyear}&endMonth={endmonth}&endYear={endyear}&format=json'\n",
    "        res_visit2 = requests.get(URL).json()\n",
    "        totalvisit2.append(res_visit2)\n",
    "        time.sleep(2.0)\n",
    "\n",
    "    except:\n",
    "        print('1- Please check codes above. Skipping....')"
   ]
  },
  {
   "cell_type": "code",
   "execution_count": null,
   "metadata": {},
   "outputs": [],
   "source": []
  },
  {
   "cell_type": "code",
   "execution_count": null,
   "metadata": {},
   "outputs": [],
   "source": []
  },
  {
   "cell_type": "code",
   "execution_count": null,
   "metadata": {},
   "outputs": [],
   "source": []
  }
 ],
 "metadata": {
  "kernelspec": {
   "display_name": "Python 3.7.4 64-bit ('base': conda)",
   "language": "python",
   "name": "python37464bitbasecondaf9f71aafbe324dc9a096d863f39dbfae"
  },
  "language_info": {
   "codemirror_mode": {
    "name": "ipython",
    "version": 3
   },
   "file_extension": ".py",
   "mimetype": "text/x-python",
   "name": "python",
   "nbconvert_exporter": "python",
   "pygments_lexer": "ipython3",
   "version": "3.7.4"
  }
 },
 "nbformat": 4,
 "nbformat_minor": 2
}
