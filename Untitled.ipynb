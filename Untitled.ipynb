{
 "cells": [],
 "metadata": {},
 "nbformat": 4,
<<<<<<< HEAD
 "nbformat_minor": 2
=======
 "nbformat_minor": 4
>>>>>>> f2ec0dbdfb01629f0dccc9591b260a2a444d0eac
}
