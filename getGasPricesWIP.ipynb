{
 "cells": [
  {
   "cell_type": "markdown",
   "metadata": {},
   "source": [
    "### Geo Location Nearby Gas Stations \n",
    "Retrieves distance in miles radius of near by gas stations according to a user's geo location. You will need to provide the latitude and longitude from the mobile device or browser. You can plot these stations on a map or a list.\n",
    "\n",
    "Request Url example: /stations/radius/(Latitude)/(Longitude)/(distance)/(fuel type)/(sort by)/apikey.json?\n",
    "\n",
    "Arguments:\n",
    "Latitude\n",
    "Longitude\n",
    "Distance - A number (miles) of the radius distance of stations according to the user's geo location\n",
    "Fuel Type - Argument types: reg,mid,pre or diesel. Which type of gas prices that will be returned.\n",
    "Sort By (Distance or Price) - Type arguments: price or distance. Gas stations will be sorted according to the argument.\n",
    "apikey - An Api key"
   ]
  },
  {
   "cell_type": "code",
   "execution_count": 122,
   "metadata": {},
   "outputs": [
    {
     "ename": "JSONDecodeError",
     "evalue": "Expecting value: line 1 column 1 (char 0)",
     "output_type": "error",
     "traceback": [
      "\u001b[0;31m---------------------------------------------------------------------------\u001b[0m",
      "\u001b[0;31mJSONDecodeError\u001b[0m                           Traceback (most recent call last)",
      "\u001b[0;32m<ipython-input-122-c93d150fb096>\u001b[0m in \u001b[0;36m<module>\u001b[0;34m\u001b[0m\n\u001b[1;32m     22\u001b[0m \u001b[0;31m#print(url)   #uncomment to test url by clicking on it\u001b[0m\u001b[0;34m\u001b[0m\u001b[0;34m\u001b[0m\u001b[0;34m\u001b[0m\u001b[0m\n\u001b[1;32m     23\u001b[0m \u001b[0;34m\u001b[0m\u001b[0m\n\u001b[0;32m---> 24\u001b[0;31m \u001b[0mresponse\u001b[0m \u001b[0;34m=\u001b[0m \u001b[0mrequests\u001b[0m\u001b[0;34m.\u001b[0m\u001b[0mget\u001b[0m\u001b[0;34m(\u001b[0m\u001b[0murl\u001b[0m\u001b[0;34m)\u001b[0m\u001b[0;34m.\u001b[0m\u001b[0mjson\u001b[0m\u001b[0;34m(\u001b[0m\u001b[0;34m)\u001b[0m\u001b[0;34m\u001b[0m\u001b[0;34m\u001b[0m\u001b[0m\n\u001b[0m\u001b[1;32m     25\u001b[0m \u001b[0;34m\u001b[0m\u001b[0m\n\u001b[1;32m     26\u001b[0m \u001b[0mprint\u001b[0m\u001b[0;34m(\u001b[0m\u001b[0mresponse\u001b[0m\u001b[0;34m)\u001b[0m\u001b[0;34m\u001b[0m\u001b[0;34m\u001b[0m\u001b[0m\n",
      "\u001b[0;32m~/opt/anaconda3/envs/pydata/lib/python3.7/site-packages/requests/models.py\u001b[0m in \u001b[0;36mjson\u001b[0;34m(self, **kwargs)\u001b[0m\n\u001b[1;32m    895\u001b[0m                     \u001b[0;31m# used.\u001b[0m\u001b[0;34m\u001b[0m\u001b[0;34m\u001b[0m\u001b[0;34m\u001b[0m\u001b[0m\n\u001b[1;32m    896\u001b[0m                     \u001b[0;32mpass\u001b[0m\u001b[0;34m\u001b[0m\u001b[0;34m\u001b[0m\u001b[0m\n\u001b[0;32m--> 897\u001b[0;31m         \u001b[0;32mreturn\u001b[0m \u001b[0mcomplexjson\u001b[0m\u001b[0;34m.\u001b[0m\u001b[0mloads\u001b[0m\u001b[0;34m(\u001b[0m\u001b[0mself\u001b[0m\u001b[0;34m.\u001b[0m\u001b[0mtext\u001b[0m\u001b[0;34m,\u001b[0m \u001b[0;34m**\u001b[0m\u001b[0mkwargs\u001b[0m\u001b[0;34m)\u001b[0m\u001b[0;34m\u001b[0m\u001b[0;34m\u001b[0m\u001b[0m\n\u001b[0m\u001b[1;32m    898\u001b[0m \u001b[0;34m\u001b[0m\u001b[0m\n\u001b[1;32m    899\u001b[0m     \u001b[0;34m@\u001b[0m\u001b[0mproperty\u001b[0m\u001b[0;34m\u001b[0m\u001b[0;34m\u001b[0m\u001b[0m\n",
      "\u001b[0;32m~/opt/anaconda3/envs/pydata/lib/python3.7/json/__init__.py\u001b[0m in \u001b[0;36mloads\u001b[0;34m(s, encoding, cls, object_hook, parse_float, parse_int, parse_constant, object_pairs_hook, **kw)\u001b[0m\n\u001b[1;32m    346\u001b[0m             \u001b[0mparse_int\u001b[0m \u001b[0;32mis\u001b[0m \u001b[0;32mNone\u001b[0m \u001b[0;32mand\u001b[0m \u001b[0mparse_float\u001b[0m \u001b[0;32mis\u001b[0m \u001b[0;32mNone\u001b[0m \u001b[0;32mand\u001b[0m\u001b[0;34m\u001b[0m\u001b[0;34m\u001b[0m\u001b[0m\n\u001b[1;32m    347\u001b[0m             parse_constant is None and object_pairs_hook is None and not kw):\n\u001b[0;32m--> 348\u001b[0;31m         \u001b[0;32mreturn\u001b[0m \u001b[0m_default_decoder\u001b[0m\u001b[0;34m.\u001b[0m\u001b[0mdecode\u001b[0m\u001b[0;34m(\u001b[0m\u001b[0ms\u001b[0m\u001b[0;34m)\u001b[0m\u001b[0;34m\u001b[0m\u001b[0;34m\u001b[0m\u001b[0m\n\u001b[0m\u001b[1;32m    349\u001b[0m     \u001b[0;32mif\u001b[0m \u001b[0mcls\u001b[0m \u001b[0;32mis\u001b[0m \u001b[0;32mNone\u001b[0m\u001b[0;34m:\u001b[0m\u001b[0;34m\u001b[0m\u001b[0;34m\u001b[0m\u001b[0m\n\u001b[1;32m    350\u001b[0m         \u001b[0mcls\u001b[0m \u001b[0;34m=\u001b[0m \u001b[0mJSONDecoder\u001b[0m\u001b[0;34m\u001b[0m\u001b[0;34m\u001b[0m\u001b[0m\n",
      "\u001b[0;32m~/opt/anaconda3/envs/pydata/lib/python3.7/json/decoder.py\u001b[0m in \u001b[0;36mdecode\u001b[0;34m(self, s, _w)\u001b[0m\n\u001b[1;32m    335\u001b[0m \u001b[0;34m\u001b[0m\u001b[0m\n\u001b[1;32m    336\u001b[0m         \"\"\"\n\u001b[0;32m--> 337\u001b[0;31m         \u001b[0mobj\u001b[0m\u001b[0;34m,\u001b[0m \u001b[0mend\u001b[0m \u001b[0;34m=\u001b[0m \u001b[0mself\u001b[0m\u001b[0;34m.\u001b[0m\u001b[0mraw_decode\u001b[0m\u001b[0;34m(\u001b[0m\u001b[0ms\u001b[0m\u001b[0;34m,\u001b[0m \u001b[0midx\u001b[0m\u001b[0;34m=\u001b[0m\u001b[0m_w\u001b[0m\u001b[0;34m(\u001b[0m\u001b[0ms\u001b[0m\u001b[0;34m,\u001b[0m \u001b[0;36m0\u001b[0m\u001b[0;34m)\u001b[0m\u001b[0;34m.\u001b[0m\u001b[0mend\u001b[0m\u001b[0;34m(\u001b[0m\u001b[0;34m)\u001b[0m\u001b[0;34m)\u001b[0m\u001b[0;34m\u001b[0m\u001b[0;34m\u001b[0m\u001b[0m\n\u001b[0m\u001b[1;32m    338\u001b[0m         \u001b[0mend\u001b[0m \u001b[0;34m=\u001b[0m \u001b[0m_w\u001b[0m\u001b[0;34m(\u001b[0m\u001b[0ms\u001b[0m\u001b[0;34m,\u001b[0m \u001b[0mend\u001b[0m\u001b[0;34m)\u001b[0m\u001b[0;34m.\u001b[0m\u001b[0mend\u001b[0m\u001b[0;34m(\u001b[0m\u001b[0;34m)\u001b[0m\u001b[0;34m\u001b[0m\u001b[0;34m\u001b[0m\u001b[0m\n\u001b[1;32m    339\u001b[0m         \u001b[0;32mif\u001b[0m \u001b[0mend\u001b[0m \u001b[0;34m!=\u001b[0m \u001b[0mlen\u001b[0m\u001b[0;34m(\u001b[0m\u001b[0ms\u001b[0m\u001b[0;34m)\u001b[0m\u001b[0;34m:\u001b[0m\u001b[0;34m\u001b[0m\u001b[0;34m\u001b[0m\u001b[0m\n",
      "\u001b[0;32m~/opt/anaconda3/envs/pydata/lib/python3.7/json/decoder.py\u001b[0m in \u001b[0;36mraw_decode\u001b[0;34m(self, s, idx)\u001b[0m\n\u001b[1;32m    353\u001b[0m             \u001b[0mobj\u001b[0m\u001b[0;34m,\u001b[0m \u001b[0mend\u001b[0m \u001b[0;34m=\u001b[0m \u001b[0mself\u001b[0m\u001b[0;34m.\u001b[0m\u001b[0mscan_once\u001b[0m\u001b[0;34m(\u001b[0m\u001b[0ms\u001b[0m\u001b[0;34m,\u001b[0m \u001b[0midx\u001b[0m\u001b[0;34m)\u001b[0m\u001b[0;34m\u001b[0m\u001b[0;34m\u001b[0m\u001b[0m\n\u001b[1;32m    354\u001b[0m         \u001b[0;32mexcept\u001b[0m \u001b[0mStopIteration\u001b[0m \u001b[0;32mas\u001b[0m \u001b[0merr\u001b[0m\u001b[0;34m:\u001b[0m\u001b[0;34m\u001b[0m\u001b[0;34m\u001b[0m\u001b[0m\n\u001b[0;32m--> 355\u001b[0;31m             \u001b[0;32mraise\u001b[0m \u001b[0mJSONDecodeError\u001b[0m\u001b[0;34m(\u001b[0m\u001b[0;34m\"Expecting value\"\u001b[0m\u001b[0;34m,\u001b[0m \u001b[0ms\u001b[0m\u001b[0;34m,\u001b[0m \u001b[0merr\u001b[0m\u001b[0;34m.\u001b[0m\u001b[0mvalue\u001b[0m\u001b[0;34m)\u001b[0m \u001b[0;32mfrom\u001b[0m \u001b[0;32mNone\u001b[0m\u001b[0;34m\u001b[0m\u001b[0;34m\u001b[0m\u001b[0m\n\u001b[0m\u001b[1;32m    356\u001b[0m         \u001b[0;32mreturn\u001b[0m \u001b[0mobj\u001b[0m\u001b[0;34m,\u001b[0m \u001b[0mend\u001b[0m\u001b[0;34m\u001b[0m\u001b[0;34m\u001b[0m\u001b[0m\n",
      "\u001b[0;31mJSONDecodeError\u001b[0m: Expecting value: line 1 column 1 (char 0)"
     ]
    }
   ],
   "source": [
    "import requests\n",
    "import json\n",
    "import pandas as pd\n",
    "\n",
    "import plotly.express as px \n",
    "\n",
    "from datetime import date\n",
    "import datetime\n",
    "\n",
    "gas_url = \"http://devapi.mygasfeed.com/\"\n",
    "apikey = \"rfej9napna\"  #Waiting for own API KEY THIS IS GENERIC\n",
    "\n",
    "#houston 29.7604° N, 95.3698° W\n",
    "Latitude   = \"29.7604\"\n",
    "Longitude  = \"-95.3698\"\n",
    "distance   = 30          # Valid values must be less than 50\n",
    "fuel_type  =  \"reg\"  # Valid values  reg,mid,pre,diesel\n",
    "\n",
    "query = f\"stations/radius/{Latitude}/{Longitude}/{distance}/{fuel_type}/price/{apikey}.json?\"\n",
    "\n",
    "url = gas_url+query\n",
    "#print(url)   #uncomment to test url by clicking on it \n",
    "\n",
    "response = requests.get(url).json()\n",
    "\n",
    "print(response)\n"
   ]
  },
  {
   "cell_type": "markdown",
   "metadata": {},
   "source": [
    "### Gas Station Brands\n",
    "\n",
    "Retrieves a list of all gas station brands.\n",
    "\n",
    "Request Url example: /stations/brands/apikey.json?callback=?\n",
    "\n",
    "Arguments: Api key"
   ]
  },
  {
   "cell_type": "code",
   "execution_count": 117,
   "metadata": {},
   "outputs": [
    {
     "name": "stdout",
     "output_type": "stream",
     "text": [
      "{'status': {'error': 'NO', 'code': 200, 'description': 'none', 'message': 'Request ok'}, 'stations': [{'name': '', 'id': '80'}, {'name': '', 'id': '72'}, {'name': '', 'id': '79'}, {'name': '', 'id': '78'}, {'name': '', 'id': '73'}, {'name': '', 'id': '77'}, {'name': '', 'id': '76'}, {'name': '', 'id': '75'}, {'name': '', 'id': '74'}, {'name': '1', 'id': '16'}, {'name': '2', 'id': '19'}, {'name': '3', 'id': '23'}, {'name': '4', 'id': '24'}, {'name': '5', 'id': '28'}, {'name': '6', 'id': '25'}, {'name': '7', 'id': '27'}, {'name': '7-Eleven', 'id': '2'}, {'name': '76', 'id': '31'}, {'name': '8', 'id': '29'}, {'name': 'B', 'id': '22'}, {'name': 'BP', 'id': '4'}, {'name': 'C', 'id': '17'}, {'name': 'Chevron', 'id': '6'}, {'name': 'Circle K', 'id': '34'}, {'name': 'Citgo', 'id': '8'}, {'name': 'Clark', 'id': '40'}, {'name': 'Conoco', 'id': '38'}, {'name': 'Convenience Plus', 'id': '57'}, {'name': 'Crown', 'id': '51'}, {'name': 'Cumberland', 'id': '56'}, {'name': 'Dandy Mini Marts', 'id': '67'}, {'name': 'Discount Food Mart', 'id': '42'}, {'name': 'Express Mart', 'id': '63'}, {'name': 'Exxon', 'id': '13'}, {'name': 'F', 'id': '26'}, {'name': 'Fasmart', 'id': '71'}, {'name': 'Fastrac', 'id': '68'}, {'name': 'Favorite Markets', 'id': '53'}, {'name': 'Flying J', 'id': '46'}, {'name': 'Food Bag', 'id': '55'}, {'name': 'Gulf', 'id': '59'}, {'name': 'H', 'id': '20'}, {'name': 'Hess', 'id': '7'}, {'name': 'Irving', 'id': '61'}, {'name': 'Jet-Pep', 'id': '44'}, {'name': 'Kangaroo', 'id': '41'}, {'name': 'Kwik Fill', 'id': '62'}, {'name': 'Loves', 'id': '48'}, {'name': 'M', 'id': '15'}, {'name': 'Manleys Mighty Mart', 'id': '64'}, {'name': 'Mapco', 'id': '49'}, {'name': 'Marathon', 'id': '12'}, {'name': 'Maverik', 'id': '35'}, {'name': 'Minit Man Food Store', 'id': '43'}, {'name': 'Mirabito', 'id': '69'}, {'name': 'Mobil', 'id': '10'}, {'name': 'Murphy Express', 'id': '45'}, {'name': 'Murphy Usa', 'id': '30'}, {'name': 'Patco Handy Stop', 'id': '83'}, {'name': 'Petro South', 'id': '39'}, {'name': 'Petro Stop', 'id': '47'}, {'name': 'Phillips 66', 'id': '54'}, {'name': 'Pride', 'id': '58'}, {'name': 'Pure', 'id': '52'}, {'name': 'Quickway', 'id': '65'}, {'name': 'Racetrac', 'id': '14'}, {'name': 'Raceway', 'id': '37'}, {'name': 'S', 'id': '18'}, {'name': 'Sams Food Store', 'id': '70'}, {'name': 'Sheetz', 'id': '81'}, {'name': 'Shell', 'id': '3'}, {'name': 'Shop N Fill', 'id': '50'}, {'name': 'Sinclair', 'id': '36'}, {'name': 'Stop & Shop', 'id': '60'}, {'name': 'Stop & Shop (ahold)', 'id': '82'}, {'name': 'Sunoco', 'id': '5'}, {'name': 'Texaco', 'id': '1'}, {'name': 'U', 'id': '21'}, {'name': 'Unbranded', 'id': '11'}, {'name': 'United', 'id': '33'}, {'name': 'Usa Petroleum', 'id': '32'}, {'name': 'Valero', 'id': '9'}, {'name': 'Xtramart', 'id': '66'}]}\n"
     ]
    }
   ],
   "source": [
    "query = f\"stations/brands/{apikey}.json?\"\n",
    "url = gas_url+query\n",
    "#print(url)\n",
    "\n",
    "response = requests.get(url).json()\n",
    "\n",
    "print(response)"
   ]
  },
  {
   "cell_type": "markdown",
   "metadata": {},
   "source": [
    "### Gas Prices History \n",
    "Retrieves a list of gas price histroy for a particular gas station.\n",
    "\n",
    "Request Url example: /locations/pricehistory/(station id)/apikey.json?\n",
    "\n",
    "Arguments:\n",
    "station id - The id of the gas station.\n",
    "Api Key\n",
    "\n",
    "\n",
    "NOTE histroy is misspelled on their end so we need to use it like that"
   ]
  },
  {
   "cell_type": "code",
   "execution_count": 118,
   "metadata": {},
   "outputs": [
    {
     "name": "stdout",
     "output_type": "stream",
     "text": [
      "http://devapi.mygasfeed.com/locations/pricehistory/23/rfej9napna.json?\n",
      "{'status': {'error': 'NO', 'code': 200, 'description': 'none', 'message': 'Request ok'}, 'histroy': []}\n"
     ]
    },
    {
     "data": {
      "text/plain": [
       "[]"
      ]
     },
     "execution_count": 118,
     "metadata": {},
     "output_type": "execute_result"
    }
   ],
   "source": [
    "query = f\"locations/pricehistory/23/{apikey}.json?\"\n",
    "url = gas_url+query\n",
    "print(url)   #uncomment to test url by clicking on it \n",
    "\n",
    "response = requests.get(url).json()\n",
    "print(response)\n",
    "#note I cant find any with history\n",
    "\n",
    "response['histroy']"
   ]
  },
  {
   "cell_type": "markdown",
   "metadata": {},
   "source": [
    "### Gas Station Details\n",
    "Retrieves gas station details by providing the station id. The station id can be retrieved when making a request for a list of stations.\n",
    "\n",
    "Request Url example: /stations/details/(Stattion Id)/apikey.json?\n",
    "\n",
    "Arguments:\n",
    "Station id - The number id of station\n",
    "Api Key\n",
    "\n"
   ]
  },
  {
   "cell_type": "code",
   "execution_count": 119,
   "metadata": {},
   "outputs": [
    {
     "name": "stdout",
     "output_type": "stream",
     "text": [
      "http://devapi.mygasfeed.com//stations/details/2/rfej9napna.json?\n",
      "{'status': {'error': 'NO', 'code': 200, 'description': 'none', 'message': 'Request ok'}, 'details': {'address': '837 Suffield St', 'diesel': '1', 'id': '2', 'city': None, 'region': 'Massachusetts', 'country': 'United States', 'lat': '42.060825', 'lng': '-72.632240', 'station_name': '7-Eleven', 'zip': '01001', 'reg_price': '3.59', 'reg_date': '6 years ago', 'mid_price': '3.59', 'mid_date': '6 years ago', 'pre_price': '3.88', 'pre_date': '6 years ago', 'diesel_price': '3.93', 'diesel_date': '6 years ago'}, 'previousPrices': [{'type': 'Regular', 'price': '120.00', 'date': '9 years ago', 'via': 'myGasFeed'}, {'type': 'Regular', 'price': '132.10', 'date': '9 years ago', 'via': 'myGasFeed'}, {'type': 'Regular', 'price': '122.60', 'date': '9 years ago', 'via': 'myGasFeed Dev'}, {'type': 'Regular', 'price': '132.40', 'date': '9 years ago', 'via': 'myGasFeed Dev'}, {'type': 'Regular', 'price': '133.40', 'date': '9 years ago', 'via': 'myGasFeed Dev'}, {'type': 'Regular', 'price': '133.40', 'date': '9 years ago', 'via': 'myGasFeed Dev'}, {'type': 'Regular', 'price': '133.40', 'date': '9 years ago', 'via': 'myGasFeed Dev'}, {'type': 'Diesel', 'price': '125.90', 'date': '9 years ago', 'via': 'myGasFeed Dev'}]}\n"
     ]
    },
    {
     "data": {
      "text/plain": [
       "[{'type': 'Regular',\n",
       "  'price': '120.00',\n",
       "  'date': '9 years ago',\n",
       "  'via': 'myGasFeed'},\n",
       " {'type': 'Regular',\n",
       "  'price': '132.10',\n",
       "  'date': '9 years ago',\n",
       "  'via': 'myGasFeed'},\n",
       " {'type': 'Regular',\n",
       "  'price': '122.60',\n",
       "  'date': '9 years ago',\n",
       "  'via': 'myGasFeed Dev'},\n",
       " {'type': 'Regular',\n",
       "  'price': '132.40',\n",
       "  'date': '9 years ago',\n",
       "  'via': 'myGasFeed Dev'},\n",
       " {'type': 'Regular',\n",
       "  'price': '133.40',\n",
       "  'date': '9 years ago',\n",
       "  'via': 'myGasFeed Dev'},\n",
       " {'type': 'Regular',\n",
       "  'price': '133.40',\n",
       "  'date': '9 years ago',\n",
       "  'via': 'myGasFeed Dev'},\n",
       " {'type': 'Regular',\n",
       "  'price': '133.40',\n",
       "  'date': '9 years ago',\n",
       "  'via': 'myGasFeed Dev'},\n",
       " {'type': 'Diesel',\n",
       "  'price': '125.90',\n",
       "  'date': '9 years ago',\n",
       "  'via': 'myGasFeed Dev'}]"
      ]
     },
     "execution_count": 119,
     "metadata": {},
     "output_type": "execute_result"
    }
   ],
   "source": [
    "query = f\"/stations/details/2/{apikey}.json?\"\n",
    "url = gas_url+query\n",
    "print(url)   #uncomment to test url by clicking on it \n",
    "\n",
    "response = requests.get(url).json()\n",
    "print(response)\n",
    "#note we might want to check we can get the data we want\n",
    "\n",
    "response['previousPrices']"
   ]
  },
  {
   "cell_type": "markdown",
   "metadata": {},
   "source": [
    "# EIA API Query Browser\n",
    "EIA Data Sets > Petroleum > Prices > Weekly Retail Gasoline and Diesel Prices\n",
    "\n",
    "API CALL TO USE:http://api.eia.gov/category/?api_key=YOUR_API_KEY_HERE&category_id=240690\n",
    "\n",
    "Children Categories:\n",
    "by Area\n",
    "by Product"
   ]
  },
  {
   "cell_type": "markdown",
   "metadata": {},
   "source": [
    "##### https://www.eia.gov/developer/\n",
    "\n",
    "#### https://www.eia.gov/opendata/\n"
   ]
  },
  {
   "cell_type": "code",
   "execution_count": 5,
   "metadata": {},
   "outputs": [
    {
     "name": "stdout",
     "output_type": "stream",
     "text": [
      "http://api.eia.gov/category/?api_key=95abebd4884337a93dda412e59cda738&category_id=711295\n"
     ]
    }
   ],
   "source": [
    "from api_keys import eia_key\n",
    "\n",
    "url= f\"http://api.eia.gov/category/?api_key={eia_key}&category_id=711295\"\n",
    "print(url)"
   ]
  },
  {
   "cell_type": "code",
   "execution_count": 8,
   "metadata": {},
   "outputs": [
    {
     "name": "stdout",
     "output_type": "stream",
     "text": [
      "http://api.eia.gov/series/?series_id=query_series_id&api_key=95abebd4884337a93dda412e59cda738&out=json\n"
     ]
    }
   ],
   "source": [
    "query_series_id = \"ELEC.GEN.ALL-AK-99.A\"\n",
    "url = f\"http://api.eia.gov/series/?series_id=query_series_id&api_key={eia_key}&out=json\"\n",
    "print(url)\n"
   ]
  },
  {
   "cell_type": "code",
   "execution_count": 39,
   "metadata": {},
   "outputs": [],
   "source": [
    "# A function to correctly label plots\n",
    "def label_plot(plt,plot_title, x_axis, y_axis, ts):\n",
    "    # plot the title and axes labels\n",
    "    plt.set_title(plot_title + ' (' + ts + ')')\n",
    "    plt.set_xlabel(x_axis)\n",
    "    plt.set_ylabel(y_axis)"
   ]
  },
  {
   "cell_type": "markdown",
   "metadata": {},
   "source": [
    "##### U.S. Regular All Formulations Retail Gasoline Prices, Monthly"
   ]
  },
  {
   "cell_type": "code",
   "execution_count": 140,
   "metadata": {},
   "outputs": [],
   "source": [
    "url = f\"http://api.eia.gov/series/?api_key={eia_key}&series_id=PET.EMM_EPMR_PTE_NUS_DPG.M\"\n",
    "#print(url)\n",
    "response = requests.get(url).json()\n",
    "#print(response)\n",
    "#print(response.keys())   # response and series\n",
    "\n",
    "chart_title = response['series'][0]['name']\n",
    "chart_data  = response['series'][0]['data']\n",
    "\n",
    "prices_df = pd.DataFrame(chart_data, columns={'date', 'price'})\n",
    "#prices_df"
   ]
  },
  {
   "cell_type": "markdown",
   "metadata": {},
   "source": [
    "### Date comes in as a 6 character string YYYYMM so we have to strip it out if we want to plot anything meaningful\n",
    "* We can use datetime library"
   ]
  },
  {
   "cell_type": "code",
   "execution_count": 124,
   "metadata": {},
   "outputs": [
    {
     "name": "stdout",
     "output_type": "stream",
     "text": [
      "2018-09-15 00:00:00\n"
     ]
    }
   ],
   "source": [
    "### EXAMPLES to illustrate use of datetime\n",
    "\n",
    "# today = date.today()\n",
    "# # dd/mm/YY\n",
    "# ts = today.strftime(\"%d/%m/%Y\")\n",
    "# date_object = datetime.strptime(str, '%m-%d-%y')\n",
    "# print(date_object)"
   ]
  },
  {
   "cell_type": "code",
   "execution_count": 138,
   "metadata": {},
   "outputs": [
    {
     "data": {
      "text/html": [
       "<div>\n",
       "<style scoped>\n",
       "    .dataframe tbody tr th:only-of-type {\n",
       "        vertical-align: middle;\n",
       "    }\n",
       "\n",
       "    .dataframe tbody tr th {\n",
       "        vertical-align: top;\n",
       "    }\n",
       "\n",
       "    .dataframe thead th {\n",
       "        text-align: right;\n",
       "    }\n",
       "</style>\n",
       "<table border=\"1\" class=\"dataframe\">\n",
       "  <thead>\n",
       "    <tr style=\"text-align: right;\">\n",
       "      <th></th>\n",
       "      <th>date</th>\n",
       "      <th>price</th>\n",
       "      <th>formatted_date</th>\n",
       "      <th>Date</th>\n",
       "    </tr>\n",
       "  </thead>\n",
       "  <tbody>\n",
       "    <tr>\n",
       "      <th>0</th>\n",
       "      <td>202002</td>\n",
       "      <td>2.442</td>\n",
       "      <td>2020-02-01</td>\n",
       "      <td>2020-02-01</td>\n",
       "    </tr>\n",
       "    <tr>\n",
       "      <th>1</th>\n",
       "      <td>202001</td>\n",
       "      <td>2.548</td>\n",
       "      <td>2020-01-01</td>\n",
       "      <td>2020-01-01</td>\n",
       "    </tr>\n",
       "    <tr>\n",
       "      <th>2</th>\n",
       "      <td>201912</td>\n",
       "      <td>2.555</td>\n",
       "      <td>2019-12-01</td>\n",
       "      <td>2019-12-01</td>\n",
       "    </tr>\n",
       "    <tr>\n",
       "      <th>3</th>\n",
       "      <td>201911</td>\n",
       "      <td>2.598</td>\n",
       "      <td>2019-11-01</td>\n",
       "      <td>2019-11-01</td>\n",
       "    </tr>\n",
       "    <tr>\n",
       "      <th>4</th>\n",
       "      <td>201910</td>\n",
       "      <td>2.627</td>\n",
       "      <td>2019-10-01</td>\n",
       "      <td>2019-10-01</td>\n",
       "    </tr>\n",
       "    <tr>\n",
       "      <th>...</th>\n",
       "      <td>...</td>\n",
       "      <td>...</td>\n",
       "      <td>...</td>\n",
       "      <td>...</td>\n",
       "    </tr>\n",
       "    <tr>\n",
       "      <th>350</th>\n",
       "      <td>199012</td>\n",
       "      <td>NaN</td>\n",
       "      <td>1990-12-01</td>\n",
       "      <td>1990-12-01</td>\n",
       "    </tr>\n",
       "    <tr>\n",
       "      <th>351</th>\n",
       "      <td>199011</td>\n",
       "      <td>1.324</td>\n",
       "      <td>1990-11-01</td>\n",
       "      <td>1990-11-01</td>\n",
       "    </tr>\n",
       "    <tr>\n",
       "      <th>352</th>\n",
       "      <td>199010</td>\n",
       "      <td>1.335</td>\n",
       "      <td>1990-10-01</td>\n",
       "      <td>1990-10-01</td>\n",
       "    </tr>\n",
       "    <tr>\n",
       "      <th>353</th>\n",
       "      <td>199009</td>\n",
       "      <td>1.258</td>\n",
       "      <td>1990-09-01</td>\n",
       "      <td>1990-09-01</td>\n",
       "    </tr>\n",
       "    <tr>\n",
       "      <th>354</th>\n",
       "      <td>199008</td>\n",
       "      <td>NaN</td>\n",
       "      <td>1990-08-01</td>\n",
       "      <td>1990-08-01</td>\n",
       "    </tr>\n",
       "  </tbody>\n",
       "</table>\n",
       "<p>355 rows × 4 columns</p>\n",
       "</div>"
      ],
      "text/plain": [
       "       date  price formatted_date       Date\n",
       "0    202002  2.442     2020-02-01 2020-02-01\n",
       "1    202001  2.548     2020-01-01 2020-01-01\n",
       "2    201912  2.555     2019-12-01 2019-12-01\n",
       "3    201911  2.598     2019-11-01 2019-11-01\n",
       "4    201910  2.627     2019-10-01 2019-10-01\n",
       "..      ...    ...            ...        ...\n",
       "350  199012    NaN     1990-12-01 1990-12-01\n",
       "351  199011  1.324     1990-11-01 1990-11-01\n",
       "352  199010  1.335     1990-10-01 1990-10-01\n",
       "353  199009  1.258     1990-09-01 1990-09-01\n",
       "354  199008    NaN     1990-08-01 1990-08-01\n",
       "\n",
       "[355 rows x 4 columns]"
      ]
     },
     "execution_count": 138,
     "metadata": {},
     "output_type": "execute_result"
    }
   ],
   "source": [
    "# use pd.to_datetime to reformat the date\n",
    "prices_df['Date'] = pd.to_datetime(pd.Series(prices_df['date']), format=\"%Y%m\")\n",
    "prices_df"
   ]
  },
  {
   "cell_type": "markdown",
   "metadata": {},
   "source": [
    "#### using PLOTLY"
   ]
  },
  {
   "cell_type": "code",
   "execution_count": 139,
   "metadata": {},
   "outputs": [
    {
     "data": {
      "application/vnd.plotly.v1+json": {
       "config": {
        "plotlyServerURL": "https://plot.ly"
       },
       "data": [
        {
         "hoverlabel": {
          "namelength": 0
         },
         "hovertemplate": "Date=%{x}<br>price=%{y}",
         "legendgroup": "",
         "line": {
          "color": "#636efa",
          "dash": "solid"
         },
         "mode": "lines",
         "name": "",
         "showlegend": false,
         "type": "scatter",
         "x": [
          "2020-02-01T00:00:00",
          "2020-01-01T00:00:00",
          "2019-12-01T00:00:00",
          "2019-11-01T00:00:00",
          "2019-10-01T00:00:00",
          "2019-09-01T00:00:00",
          "2019-08-01T00:00:00",
          "2019-07-01T00:00:00",
          "2019-06-01T00:00:00",
          "2019-05-01T00:00:00",
          "2019-04-01T00:00:00",
          "2019-03-01T00:00:00",
          "2019-02-01T00:00:00",
          "2019-01-01T00:00:00",
          "2018-12-01T00:00:00",
          "2018-11-01T00:00:00",
          "2018-10-01T00:00:00",
          "2018-09-01T00:00:00",
          "2018-08-01T00:00:00",
          "2018-07-01T00:00:00",
          "2018-06-01T00:00:00",
          "2018-05-01T00:00:00",
          "2018-04-01T00:00:00",
          "2018-03-01T00:00:00",
          "2018-02-01T00:00:00",
          "2018-01-01T00:00:00",
          "2017-12-01T00:00:00",
          "2017-11-01T00:00:00",
          "2017-10-01T00:00:00",
          "2017-09-01T00:00:00",
          "2017-08-01T00:00:00",
          "2017-07-01T00:00:00",
          "2017-06-01T00:00:00",
          "2017-05-01T00:00:00",
          "2017-04-01T00:00:00",
          "2017-03-01T00:00:00",
          "2017-02-01T00:00:00",
          "2017-01-01T00:00:00",
          "2016-12-01T00:00:00",
          "2016-11-01T00:00:00",
          "2016-10-01T00:00:00",
          "2016-09-01T00:00:00",
          "2016-08-01T00:00:00",
          "2016-07-01T00:00:00",
          "2016-06-01T00:00:00",
          "2016-05-01T00:00:00",
          "2016-04-01T00:00:00",
          "2016-03-01T00:00:00",
          "2016-02-01T00:00:00",
          "2016-01-01T00:00:00",
          "2015-12-01T00:00:00",
          "2015-11-01T00:00:00",
          "2015-10-01T00:00:00",
          "2015-09-01T00:00:00",
          "2015-08-01T00:00:00",
          "2015-07-01T00:00:00",
          "2015-06-01T00:00:00",
          "2015-05-01T00:00:00",
          "2015-04-01T00:00:00",
          "2015-03-01T00:00:00",
          "2015-02-01T00:00:00",
          "2015-01-01T00:00:00",
          "2014-12-01T00:00:00",
          "2014-11-01T00:00:00",
          "2014-10-01T00:00:00",
          "2014-09-01T00:00:00",
          "2014-08-01T00:00:00",
          "2014-07-01T00:00:00",
          "2014-06-01T00:00:00",
          "2014-05-01T00:00:00",
          "2014-04-01T00:00:00",
          "2014-03-01T00:00:00",
          "2014-02-01T00:00:00",
          "2014-01-01T00:00:00",
          "2013-12-01T00:00:00",
          "2013-11-01T00:00:00",
          "2013-10-01T00:00:00",
          "2013-09-01T00:00:00",
          "2013-08-01T00:00:00",
          "2013-07-01T00:00:00",
          "2013-06-01T00:00:00",
          "2013-05-01T00:00:00",
          "2013-04-01T00:00:00",
          "2013-03-01T00:00:00",
          "2013-02-01T00:00:00",
          "2013-01-01T00:00:00",
          "2012-12-01T00:00:00",
          "2012-11-01T00:00:00",
          "2012-10-01T00:00:00",
          "2012-09-01T00:00:00",
          "2012-08-01T00:00:00",
          "2012-07-01T00:00:00",
          "2012-06-01T00:00:00",
          "2012-05-01T00:00:00",
          "2012-04-01T00:00:00",
          "2012-03-01T00:00:00",
          "2012-02-01T00:00:00",
          "2012-01-01T00:00:00",
          "2011-12-01T00:00:00",
          "2011-11-01T00:00:00",
          "2011-10-01T00:00:00",
          "2011-09-01T00:00:00",
          "2011-08-01T00:00:00",
          "2011-07-01T00:00:00",
          "2011-06-01T00:00:00",
          "2011-05-01T00:00:00",
          "2011-04-01T00:00:00",
          "2011-03-01T00:00:00",
          "2011-02-01T00:00:00",
          "2011-01-01T00:00:00",
          "2010-12-01T00:00:00",
          "2010-11-01T00:00:00",
          "2010-10-01T00:00:00",
          "2010-09-01T00:00:00",
          "2010-08-01T00:00:00",
          "2010-07-01T00:00:00",
          "2010-06-01T00:00:00",
          "2010-05-01T00:00:00",
          "2010-04-01T00:00:00",
          "2010-03-01T00:00:00",
          "2010-02-01T00:00:00",
          "2010-01-01T00:00:00",
          "2009-12-01T00:00:00",
          "2009-11-01T00:00:00",
          "2009-10-01T00:00:00",
          "2009-09-01T00:00:00",
          "2009-08-01T00:00:00",
          "2009-07-01T00:00:00",
          "2009-06-01T00:00:00",
          "2009-05-01T00:00:00",
          "2009-04-01T00:00:00",
          "2009-03-01T00:00:00",
          "2009-02-01T00:00:00",
          "2009-01-01T00:00:00",
          "2008-12-01T00:00:00",
          "2008-11-01T00:00:00",
          "2008-10-01T00:00:00",
          "2008-09-01T00:00:00",
          "2008-08-01T00:00:00",
          "2008-07-01T00:00:00",
          "2008-06-01T00:00:00",
          "2008-05-01T00:00:00",
          "2008-04-01T00:00:00",
          "2008-03-01T00:00:00",
          "2008-02-01T00:00:00",
          "2008-01-01T00:00:00",
          "2007-12-01T00:00:00",
          "2007-11-01T00:00:00",
          "2007-10-01T00:00:00",
          "2007-09-01T00:00:00",
          "2007-08-01T00:00:00",
          "2007-07-01T00:00:00",
          "2007-06-01T00:00:00",
          "2007-05-01T00:00:00",
          "2007-04-01T00:00:00",
          "2007-03-01T00:00:00",
          "2007-02-01T00:00:00",
          "2007-01-01T00:00:00",
          "2006-12-01T00:00:00",
          "2006-11-01T00:00:00",
          "2006-10-01T00:00:00",
          "2006-09-01T00:00:00",
          "2006-08-01T00:00:00",
          "2006-07-01T00:00:00",
          "2006-06-01T00:00:00",
          "2006-05-01T00:00:00",
          "2006-04-01T00:00:00",
          "2006-03-01T00:00:00",
          "2006-02-01T00:00:00",
          "2006-01-01T00:00:00",
          "2005-12-01T00:00:00",
          "2005-11-01T00:00:00",
          "2005-10-01T00:00:00",
          "2005-09-01T00:00:00",
          "2005-08-01T00:00:00",
          "2005-07-01T00:00:00",
          "2005-06-01T00:00:00",
          "2005-05-01T00:00:00",
          "2005-04-01T00:00:00",
          "2005-03-01T00:00:00",
          "2005-02-01T00:00:00",
          "2005-01-01T00:00:00",
          "2004-12-01T00:00:00",
          "2004-11-01T00:00:00",
          "2004-10-01T00:00:00",
          "2004-09-01T00:00:00",
          "2004-08-01T00:00:00",
          "2004-07-01T00:00:00",
          "2004-06-01T00:00:00",
          "2004-05-01T00:00:00",
          "2004-04-01T00:00:00",
          "2004-03-01T00:00:00",
          "2004-02-01T00:00:00",
          "2004-01-01T00:00:00",
          "2003-12-01T00:00:00",
          "2003-11-01T00:00:00",
          "2003-10-01T00:00:00",
          "2003-09-01T00:00:00",
          "2003-08-01T00:00:00",
          "2003-07-01T00:00:00",
          "2003-06-01T00:00:00",
          "2003-05-01T00:00:00",
          "2003-04-01T00:00:00",
          "2003-03-01T00:00:00",
          "2003-02-01T00:00:00",
          "2003-01-01T00:00:00",
          "2002-12-01T00:00:00",
          "2002-11-01T00:00:00",
          "2002-10-01T00:00:00",
          "2002-09-01T00:00:00",
          "2002-08-01T00:00:00",
          "2002-07-01T00:00:00",
          "2002-06-01T00:00:00",
          "2002-05-01T00:00:00",
          "2002-04-01T00:00:00",
          "2002-03-01T00:00:00",
          "2002-02-01T00:00:00",
          "2002-01-01T00:00:00",
          "2001-12-01T00:00:00",
          "2001-11-01T00:00:00",
          "2001-10-01T00:00:00",
          "2001-09-01T00:00:00",
          "2001-08-01T00:00:00",
          "2001-07-01T00:00:00",
          "2001-06-01T00:00:00",
          "2001-05-01T00:00:00",
          "2001-04-01T00:00:00",
          "2001-03-01T00:00:00",
          "2001-02-01T00:00:00",
          "2001-01-01T00:00:00",
          "2000-12-01T00:00:00",
          "2000-11-01T00:00:00",
          "2000-10-01T00:00:00",
          "2000-09-01T00:00:00",
          "2000-08-01T00:00:00",
          "2000-07-01T00:00:00",
          "2000-06-01T00:00:00",
          "2000-05-01T00:00:00",
          "2000-04-01T00:00:00",
          "2000-03-01T00:00:00",
          "2000-02-01T00:00:00",
          "2000-01-01T00:00:00",
          "1999-12-01T00:00:00",
          "1999-11-01T00:00:00",
          "1999-10-01T00:00:00",
          "1999-09-01T00:00:00",
          "1999-08-01T00:00:00",
          "1999-07-01T00:00:00",
          "1999-06-01T00:00:00",
          "1999-05-01T00:00:00",
          "1999-04-01T00:00:00",
          "1999-03-01T00:00:00",
          "1999-02-01T00:00:00",
          "1999-01-01T00:00:00",
          "1998-12-01T00:00:00",
          "1998-11-01T00:00:00",
          "1998-10-01T00:00:00",
          "1998-09-01T00:00:00",
          "1998-08-01T00:00:00",
          "1998-07-01T00:00:00",
          "1998-06-01T00:00:00",
          "1998-05-01T00:00:00",
          "1998-04-01T00:00:00",
          "1998-03-01T00:00:00",
          "1998-02-01T00:00:00",
          "1998-01-01T00:00:00",
          "1997-12-01T00:00:00",
          "1997-11-01T00:00:00",
          "1997-10-01T00:00:00",
          "1997-09-01T00:00:00",
          "1997-08-01T00:00:00",
          "1997-07-01T00:00:00",
          "1997-06-01T00:00:00",
          "1997-05-01T00:00:00",
          "1997-04-01T00:00:00",
          "1997-03-01T00:00:00",
          "1997-02-01T00:00:00",
          "1997-01-01T00:00:00",
          "1996-12-01T00:00:00",
          "1996-11-01T00:00:00",
          "1996-10-01T00:00:00",
          "1996-09-01T00:00:00",
          "1996-08-01T00:00:00",
          "1996-07-01T00:00:00",
          "1996-06-01T00:00:00",
          "1996-05-01T00:00:00",
          "1996-04-01T00:00:00",
          "1996-03-01T00:00:00",
          "1996-02-01T00:00:00",
          "1996-01-01T00:00:00",
          "1995-12-01T00:00:00",
          "1995-11-01T00:00:00",
          "1995-10-01T00:00:00",
          "1995-09-01T00:00:00",
          "1995-08-01T00:00:00",
          "1995-07-01T00:00:00",
          "1995-06-01T00:00:00",
          "1995-05-01T00:00:00",
          "1995-04-01T00:00:00",
          "1995-03-01T00:00:00",
          "1995-02-01T00:00:00",
          "1995-01-01T00:00:00",
          "1994-12-01T00:00:00",
          "1994-11-01T00:00:00",
          "1994-10-01T00:00:00",
          "1994-09-01T00:00:00",
          "1994-08-01T00:00:00",
          "1994-07-01T00:00:00",
          "1994-06-01T00:00:00",
          "1994-05-01T00:00:00",
          "1994-04-01T00:00:00",
          "1994-03-01T00:00:00",
          "1994-02-01T00:00:00",
          "1994-01-01T00:00:00",
          "1993-12-01T00:00:00",
          "1993-11-01T00:00:00",
          "1993-10-01T00:00:00",
          "1993-09-01T00:00:00",
          "1993-08-01T00:00:00",
          "1993-07-01T00:00:00",
          "1993-06-01T00:00:00",
          "1993-05-01T00:00:00",
          "1993-04-01T00:00:00",
          "1993-03-01T00:00:00",
          "1993-02-01T00:00:00",
          "1993-01-01T00:00:00",
          "1992-12-01T00:00:00",
          "1992-11-01T00:00:00",
          "1992-10-01T00:00:00",
          "1992-09-01T00:00:00",
          "1992-08-01T00:00:00",
          "1992-07-01T00:00:00",
          "1992-06-01T00:00:00",
          "1992-05-01T00:00:00",
          "1992-04-01T00:00:00",
          "1992-03-01T00:00:00",
          "1992-02-01T00:00:00",
          "1992-01-01T00:00:00",
          "1991-12-01T00:00:00",
          "1991-11-01T00:00:00",
          "1991-10-01T00:00:00",
          "1991-09-01T00:00:00",
          "1991-08-01T00:00:00",
          "1991-07-01T00:00:00",
          "1991-06-01T00:00:00",
          "1991-05-01T00:00:00",
          "1991-04-01T00:00:00",
          "1991-03-01T00:00:00",
          "1991-02-01T00:00:00",
          "1991-01-01T00:00:00",
          "1990-12-01T00:00:00",
          "1990-11-01T00:00:00",
          "1990-10-01T00:00:00",
          "1990-09-01T00:00:00",
          "1990-08-01T00:00:00"
         ],
         "xaxis": "x",
         "y": [
          2.442,
          2.548,
          2.555,
          2.598,
          2.627,
          2.592,
          2.621,
          2.74,
          2.716,
          2.859,
          2.798,
          2.516,
          2.309,
          2.248,
          2.366,
          2.647,
          2.86,
          2.836,
          2.836,
          2.849,
          2.891,
          2.901,
          2.757,
          2.591,
          2.587,
          2.555,
          2.477,
          2.564,
          2.505,
          2.645,
          2.38,
          2.3,
          2.347,
          2.391,
          2.417,
          2.325,
          2.304,
          2.349,
          2.254,
          2.182,
          2.249,
          2.219,
          2.178,
          2.239,
          2.366,
          2.268,
          2.113,
          1.969,
          1.764,
          1.949,
          2.038,
          2.158,
          2.29,
          2.365,
          2.636,
          2.794,
          2.802,
          2.718,
          2.469,
          2.464,
          2.216,
          2.116,
          2.543,
          2.912,
          3.171,
          3.406,
          3.487,
          3.611,
          3.692,
          3.673,
          3.661,
          3.533,
          3.356,
          3.313,
          3.276,
          3.243,
          3.344,
          3.532,
          3.574,
          3.591,
          3.626,
          3.615,
          3.57,
          3.711,
          3.67,
          3.319,
          3.31,
          3.452,
          3.746,
          3.849,
          3.722,
          3.439,
          3.539,
          3.732,
          3.9,
          3.852,
          3.579,
          3.38,
          3.266,
          3.384,
          3.448,
          3.611,
          3.639,
          3.65,
          3.68,
          3.906,
          3.8,
          3.561,
          3.211,
          3.095,
          2.993,
          2.859,
          2.801,
          2.705,
          2.73,
          2.729,
          2.732,
          2.836,
          2.848,
          2.772,
          2.644,
          2.715,
          2.607,
          2.651,
          2.551,
          2.554,
          2.616,
          2.527,
          2.631,
          2.266,
          2.049,
          1.959,
          1.923,
          1.788,
          1.687,
          2.147,
          3.051,
          3.703,
          3.779,
          4.062,
          4.054,
          3.766,
          3.458,
          3.244,
          3.028,
          3.043,
          3.018,
          3.08,
          2.803,
          2.803,
          2.786,
          2.965,
          3.056,
          3.146,
          2.845,
          2.563,
          2.278,
          2.24,
          2.313,
          2.229,
          2.245,
          2.555,
          2.952,
          2.981,
          2.885,
          2.907,
          2.742,
          2.425,
          2.28,
          2.316,
          2.185,
          2.257,
          2.717,
          2.903,
          2.486,
          2.29,
          2.156,
          2.161,
          2.243,
          2.079,
          1.91,
          1.831,
          1.841,
          1.979,
          2,
          1.87,
          1.878,
          1.911,
          1.969,
          1.983,
          1.798,
          1.736,
          1.648,
          1.572,
          1.479,
          1.512,
          1.564,
          1.679,
          1.62,
          1.513,
          1.493,
          1.497,
          1.589,
          1.693,
          1.613,
          1.458,
          1.386,
          1.419,
          1.445,
          1.4,
          1.396,
          1.397,
          1.382,
          1.392,
          1.397,
          1.249,
          1.114,
          1.107,
          1.086,
          1.171,
          1.315,
          1.522,
          1.421,
          1.421,
          1.616,
          1.702,
          1.552,
          1.409,
          1.45,
          1.447,
          1.443,
          1.517,
          1.532,
          1.55,
          1.465,
          1.551,
          1.633,
          1.487,
          1.465,
          1.516,
          1.377,
          1.289,
          1.273,
          1.251,
          1.244,
          1.256,
          1.221,
          1.158,
          1.114,
          1.131,
          1.131,
          0.982,
          0.921,
          0.939,
          0.945,
          0.995,
          1.019,
          1.009,
          1.026,
          1.055,
          1.064,
          1.064,
          1.03,
          1.017,
          1.049,
          1.086,
          1.131,
          1.171,
          1.197,
          1.231,
          1.224,
          1.174,
          1.198,
          1.2,
          1.199,
          1.205,
          1.23,
          1.236,
          1.235,
          1.232,
          1.204,
          1.202,
          1.207,
          1.227,
          1.256,
          1.279,
          1.231,
          1.137,
          1.089,
          1.09,
          1.071,
          1.062,
          1.087,
          1.111,
          1.123,
          1.154,
          1.192,
          1.178,
          1.111,
          1.072,
          1.073,
          1.082,
          1.091,
          1.116,
          1.114,
          1.144,
          1.155,
          1.106,
          1.078,
          1.047,
          1.027,
          1.008,
          1.009,
          0.998,
          1.014,
          1.066,
          1.092,
          1.05,
          1.062,
          1.078,
          1.097,
          1.1,
          1.078,
          1.052,
          1.054,
          1.062,
          1.078,
          1.111,
          1.114,
          1.122,
          1.122,
          1.137,
          1.145,
          1.107,
          1.052,
          1.013,
          1.006,
          1.022,
          1.076,
          1.099,
          1.088,
          1.109,
          1.115,
          1.096,
          1.128,
          1.126,
          1.076,
          1.04,
          1.094,
          null,
          null,
          1.324,
          1.335,
          1.258,
          null
         ],
         "yaxis": "y"
        }
       ],
       "layout": {
        "legend": {
         "tracegroupgap": 0
        },
        "template": {
         "data": {
          "bar": [
           {
            "error_x": {
             "color": "#2a3f5f"
            },
            "error_y": {
             "color": "#2a3f5f"
            },
            "marker": {
             "line": {
              "color": "#E5ECF6",
              "width": 0.5
             }
            },
            "type": "bar"
           }
          ],
          "barpolar": [
           {
            "marker": {
             "line": {
              "color": "#E5ECF6",
              "width": 0.5
             }
            },
            "type": "barpolar"
           }
          ],
          "carpet": [
           {
            "aaxis": {
             "endlinecolor": "#2a3f5f",
             "gridcolor": "white",
             "linecolor": "white",
             "minorgridcolor": "white",
             "startlinecolor": "#2a3f5f"
            },
            "baxis": {
             "endlinecolor": "#2a3f5f",
             "gridcolor": "white",
             "linecolor": "white",
             "minorgridcolor": "white",
             "startlinecolor": "#2a3f5f"
            },
            "type": "carpet"
           }
          ],
          "choropleth": [
           {
            "colorbar": {
             "outlinewidth": 0,
             "ticks": ""
            },
            "type": "choropleth"
           }
          ],
          "contour": [
           {
            "colorbar": {
             "outlinewidth": 0,
             "ticks": ""
            },
            "colorscale": [
             [
              0,
              "#0d0887"
             ],
             [
              0.1111111111111111,
              "#46039f"
             ],
             [
              0.2222222222222222,
              "#7201a8"
             ],
             [
              0.3333333333333333,
              "#9c179e"
             ],
             [
              0.4444444444444444,
              "#bd3786"
             ],
             [
              0.5555555555555556,
              "#d8576b"
             ],
             [
              0.6666666666666666,
              "#ed7953"
             ],
             [
              0.7777777777777778,
              "#fb9f3a"
             ],
             [
              0.8888888888888888,
              "#fdca26"
             ],
             [
              1,
              "#f0f921"
             ]
            ],
            "type": "contour"
           }
          ],
          "contourcarpet": [
           {
            "colorbar": {
             "outlinewidth": 0,
             "ticks": ""
            },
            "type": "contourcarpet"
           }
          ],
          "heatmap": [
           {
            "colorbar": {
             "outlinewidth": 0,
             "ticks": ""
            },
            "colorscale": [
             [
              0,
              "#0d0887"
             ],
             [
              0.1111111111111111,
              "#46039f"
             ],
             [
              0.2222222222222222,
              "#7201a8"
             ],
             [
              0.3333333333333333,
              "#9c179e"
             ],
             [
              0.4444444444444444,
              "#bd3786"
             ],
             [
              0.5555555555555556,
              "#d8576b"
             ],
             [
              0.6666666666666666,
              "#ed7953"
             ],
             [
              0.7777777777777778,
              "#fb9f3a"
             ],
             [
              0.8888888888888888,
              "#fdca26"
             ],
             [
              1,
              "#f0f921"
             ]
            ],
            "type": "heatmap"
           }
          ],
          "heatmapgl": [
           {
            "colorbar": {
             "outlinewidth": 0,
             "ticks": ""
            },
            "colorscale": [
             [
              0,
              "#0d0887"
             ],
             [
              0.1111111111111111,
              "#46039f"
             ],
             [
              0.2222222222222222,
              "#7201a8"
             ],
             [
              0.3333333333333333,
              "#9c179e"
             ],
             [
              0.4444444444444444,
              "#bd3786"
             ],
             [
              0.5555555555555556,
              "#d8576b"
             ],
             [
              0.6666666666666666,
              "#ed7953"
             ],
             [
              0.7777777777777778,
              "#fb9f3a"
             ],
             [
              0.8888888888888888,
              "#fdca26"
             ],
             [
              1,
              "#f0f921"
             ]
            ],
            "type": "heatmapgl"
           }
          ],
          "histogram": [
           {
            "marker": {
             "colorbar": {
              "outlinewidth": 0,
              "ticks": ""
             }
            },
            "type": "histogram"
           }
          ],
          "histogram2d": [
           {
            "colorbar": {
             "outlinewidth": 0,
             "ticks": ""
            },
            "colorscale": [
             [
              0,
              "#0d0887"
             ],
             [
              0.1111111111111111,
              "#46039f"
             ],
             [
              0.2222222222222222,
              "#7201a8"
             ],
             [
              0.3333333333333333,
              "#9c179e"
             ],
             [
              0.4444444444444444,
              "#bd3786"
             ],
             [
              0.5555555555555556,
              "#d8576b"
             ],
             [
              0.6666666666666666,
              "#ed7953"
             ],
             [
              0.7777777777777778,
              "#fb9f3a"
             ],
             [
              0.8888888888888888,
              "#fdca26"
             ],
             [
              1,
              "#f0f921"
             ]
            ],
            "type": "histogram2d"
           }
          ],
          "histogram2dcontour": [
           {
            "colorbar": {
             "outlinewidth": 0,
             "ticks": ""
            },
            "colorscale": [
             [
              0,
              "#0d0887"
             ],
             [
              0.1111111111111111,
              "#46039f"
             ],
             [
              0.2222222222222222,
              "#7201a8"
             ],
             [
              0.3333333333333333,
              "#9c179e"
             ],
             [
              0.4444444444444444,
              "#bd3786"
             ],
             [
              0.5555555555555556,
              "#d8576b"
             ],
             [
              0.6666666666666666,
              "#ed7953"
             ],
             [
              0.7777777777777778,
              "#fb9f3a"
             ],
             [
              0.8888888888888888,
              "#fdca26"
             ],
             [
              1,
              "#f0f921"
             ]
            ],
            "type": "histogram2dcontour"
           }
          ],
          "mesh3d": [
           {
            "colorbar": {
             "outlinewidth": 0,
             "ticks": ""
            },
            "type": "mesh3d"
           }
          ],
          "parcoords": [
           {
            "line": {
             "colorbar": {
              "outlinewidth": 0,
              "ticks": ""
             }
            },
            "type": "parcoords"
           }
          ],
          "pie": [
           {
            "automargin": true,
            "type": "pie"
           }
          ],
          "scatter": [
           {
            "marker": {
             "colorbar": {
              "outlinewidth": 0,
              "ticks": ""
             }
            },
            "type": "scatter"
           }
          ],
          "scatter3d": [
           {
            "line": {
             "colorbar": {
              "outlinewidth": 0,
              "ticks": ""
             }
            },
            "marker": {
             "colorbar": {
              "outlinewidth": 0,
              "ticks": ""
             }
            },
            "type": "scatter3d"
           }
          ],
          "scattercarpet": [
           {
            "marker": {
             "colorbar": {
              "outlinewidth": 0,
              "ticks": ""
             }
            },
            "type": "scattercarpet"
           }
          ],
          "scattergeo": [
           {
            "marker": {
             "colorbar": {
              "outlinewidth": 0,
              "ticks": ""
             }
            },
            "type": "scattergeo"
           }
          ],
          "scattergl": [
           {
            "marker": {
             "colorbar": {
              "outlinewidth": 0,
              "ticks": ""
             }
            },
            "type": "scattergl"
           }
          ],
          "scattermapbox": [
           {
            "marker": {
             "colorbar": {
              "outlinewidth": 0,
              "ticks": ""
             }
            },
            "type": "scattermapbox"
           }
          ],
          "scatterpolar": [
           {
            "marker": {
             "colorbar": {
              "outlinewidth": 0,
              "ticks": ""
             }
            },
            "type": "scatterpolar"
           }
          ],
          "scatterpolargl": [
           {
            "marker": {
             "colorbar": {
              "outlinewidth": 0,
              "ticks": ""
             }
            },
            "type": "scatterpolargl"
           }
          ],
          "scatterternary": [
           {
            "marker": {
             "colorbar": {
              "outlinewidth": 0,
              "ticks": ""
             }
            },
            "type": "scatterternary"
           }
          ],
          "surface": [
           {
            "colorbar": {
             "outlinewidth": 0,
             "ticks": ""
            },
            "colorscale": [
             [
              0,
              "#0d0887"
             ],
             [
              0.1111111111111111,
              "#46039f"
             ],
             [
              0.2222222222222222,
              "#7201a8"
             ],
             [
              0.3333333333333333,
              "#9c179e"
             ],
             [
              0.4444444444444444,
              "#bd3786"
             ],
             [
              0.5555555555555556,
              "#d8576b"
             ],
             [
              0.6666666666666666,
              "#ed7953"
             ],
             [
              0.7777777777777778,
              "#fb9f3a"
             ],
             [
              0.8888888888888888,
              "#fdca26"
             ],
             [
              1,
              "#f0f921"
             ]
            ],
            "type": "surface"
           }
          ],
          "table": [
           {
            "cells": {
             "fill": {
              "color": "#EBF0F8"
             },
             "line": {
              "color": "white"
             }
            },
            "header": {
             "fill": {
              "color": "#C8D4E3"
             },
             "line": {
              "color": "white"
             }
            },
            "type": "table"
           }
          ]
         },
         "layout": {
          "annotationdefaults": {
           "arrowcolor": "#2a3f5f",
           "arrowhead": 0,
           "arrowwidth": 1
          },
          "coloraxis": {
           "colorbar": {
            "outlinewidth": 0,
            "ticks": ""
           }
          },
          "colorscale": {
           "diverging": [
            [
             0,
             "#8e0152"
            ],
            [
             0.1,
             "#c51b7d"
            ],
            [
             0.2,
             "#de77ae"
            ],
            [
             0.3,
             "#f1b6da"
            ],
            [
             0.4,
             "#fde0ef"
            ],
            [
             0.5,
             "#f7f7f7"
            ],
            [
             0.6,
             "#e6f5d0"
            ],
            [
             0.7,
             "#b8e186"
            ],
            [
             0.8,
             "#7fbc41"
            ],
            [
             0.9,
             "#4d9221"
            ],
            [
             1,
             "#276419"
            ]
           ],
           "sequential": [
            [
             0,
             "#0d0887"
            ],
            [
             0.1111111111111111,
             "#46039f"
            ],
            [
             0.2222222222222222,
             "#7201a8"
            ],
            [
             0.3333333333333333,
             "#9c179e"
            ],
            [
             0.4444444444444444,
             "#bd3786"
            ],
            [
             0.5555555555555556,
             "#d8576b"
            ],
            [
             0.6666666666666666,
             "#ed7953"
            ],
            [
             0.7777777777777778,
             "#fb9f3a"
            ],
            [
             0.8888888888888888,
             "#fdca26"
            ],
            [
             1,
             "#f0f921"
            ]
           ],
           "sequentialminus": [
            [
             0,
             "#0d0887"
            ],
            [
             0.1111111111111111,
             "#46039f"
            ],
            [
             0.2222222222222222,
             "#7201a8"
            ],
            [
             0.3333333333333333,
             "#9c179e"
            ],
            [
             0.4444444444444444,
             "#bd3786"
            ],
            [
             0.5555555555555556,
             "#d8576b"
            ],
            [
             0.6666666666666666,
             "#ed7953"
            ],
            [
             0.7777777777777778,
             "#fb9f3a"
            ],
            [
             0.8888888888888888,
             "#fdca26"
            ],
            [
             1,
             "#f0f921"
            ]
           ]
          },
          "colorway": [
           "#636efa",
           "#EF553B",
           "#00cc96",
           "#ab63fa",
           "#FFA15A",
           "#19d3f3",
           "#FF6692",
           "#B6E880",
           "#FF97FF",
           "#FECB52"
          ],
          "font": {
           "color": "#2a3f5f"
          },
          "geo": {
           "bgcolor": "white",
           "lakecolor": "white",
           "landcolor": "#E5ECF6",
           "showlakes": true,
           "showland": true,
           "subunitcolor": "white"
          },
          "hoverlabel": {
           "align": "left"
          },
          "hovermode": "closest",
          "mapbox": {
           "style": "light"
          },
          "paper_bgcolor": "white",
          "plot_bgcolor": "#E5ECF6",
          "polar": {
           "angularaxis": {
            "gridcolor": "white",
            "linecolor": "white",
            "ticks": ""
           },
           "bgcolor": "#E5ECF6",
           "radialaxis": {
            "gridcolor": "white",
            "linecolor": "white",
            "ticks": ""
           }
          },
          "scene": {
           "xaxis": {
            "backgroundcolor": "#E5ECF6",
            "gridcolor": "white",
            "gridwidth": 2,
            "linecolor": "white",
            "showbackground": true,
            "ticks": "",
            "zerolinecolor": "white"
           },
           "yaxis": {
            "backgroundcolor": "#E5ECF6",
            "gridcolor": "white",
            "gridwidth": 2,
            "linecolor": "white",
            "showbackground": true,
            "ticks": "",
            "zerolinecolor": "white"
           },
           "zaxis": {
            "backgroundcolor": "#E5ECF6",
            "gridcolor": "white",
            "gridwidth": 2,
            "linecolor": "white",
            "showbackground": true,
            "ticks": "",
            "zerolinecolor": "white"
           }
          },
          "shapedefaults": {
           "line": {
            "color": "#2a3f5f"
           }
          },
          "ternary": {
           "aaxis": {
            "gridcolor": "white",
            "linecolor": "white",
            "ticks": ""
           },
           "baxis": {
            "gridcolor": "white",
            "linecolor": "white",
            "ticks": ""
           },
           "bgcolor": "#E5ECF6",
           "caxis": {
            "gridcolor": "white",
            "linecolor": "white",
            "ticks": ""
           }
          },
          "title": {
           "x": 0.05
          },
          "xaxis": {
           "automargin": true,
           "gridcolor": "white",
           "linecolor": "white",
           "ticks": "",
           "title": {
            "standoff": 15
           },
           "zerolinecolor": "white",
           "zerolinewidth": 2
          },
          "yaxis": {
           "automargin": true,
           "gridcolor": "white",
           "linecolor": "white",
           "ticks": "",
           "title": {
            "standoff": 15
           },
           "zerolinecolor": "white",
           "zerolinewidth": 2
          }
         }
        },
        "title": {
         "text": "U.S. Regular All Formulations Retail Gasoline Prices, Monthly"
        },
        "xaxis": {
         "anchor": "y",
         "domain": [
          0,
          1
         ],
         "title": {
          "text": "Date"
         }
        },
        "yaxis": {
         "anchor": "x",
         "domain": [
          0,
          1
         ],
         "title": {
          "text": "price"
         }
        }
       }
      },
      "text/html": [
       "<div>\n",
       "        \n",
       "        \n",
       "            <div id=\"b7c6dd01-7420-4df3-81f3-dff2e91029f0\" class=\"plotly-graph-div\" style=\"height:525px; width:100%;\"></div>\n",
       "            <script type=\"text/javascript\">\n",
       "                require([\"plotly\"], function(Plotly) {\n",
       "                    window.PLOTLYENV=window.PLOTLYENV || {};\n",
       "                    \n",
       "                if (document.getElementById(\"b7c6dd01-7420-4df3-81f3-dff2e91029f0\")) {\n",
       "                    Plotly.newPlot(\n",
       "                        'b7c6dd01-7420-4df3-81f3-dff2e91029f0',\n",
       "                        [{\"hoverlabel\": {\"namelength\": 0}, \"hovertemplate\": \"Date=%{x}<br>price=%{y}\", \"legendgroup\": \"\", \"line\": {\"color\": \"#636efa\", \"dash\": \"solid\"}, \"mode\": \"lines\", \"name\": \"\", \"showlegend\": false, \"type\": \"scatter\", \"x\": [\"2020-02-01T00:00:00\", \"2020-01-01T00:00:00\", \"2019-12-01T00:00:00\", \"2019-11-01T00:00:00\", \"2019-10-01T00:00:00\", \"2019-09-01T00:00:00\", \"2019-08-01T00:00:00\", \"2019-07-01T00:00:00\", \"2019-06-01T00:00:00\", \"2019-05-01T00:00:00\", \"2019-04-01T00:00:00\", \"2019-03-01T00:00:00\", \"2019-02-01T00:00:00\", \"2019-01-01T00:00:00\", \"2018-12-01T00:00:00\", \"2018-11-01T00:00:00\", \"2018-10-01T00:00:00\", \"2018-09-01T00:00:00\", \"2018-08-01T00:00:00\", \"2018-07-01T00:00:00\", \"2018-06-01T00:00:00\", \"2018-05-01T00:00:00\", \"2018-04-01T00:00:00\", \"2018-03-01T00:00:00\", \"2018-02-01T00:00:00\", \"2018-01-01T00:00:00\", \"2017-12-01T00:00:00\", \"2017-11-01T00:00:00\", \"2017-10-01T00:00:00\", \"2017-09-01T00:00:00\", \"2017-08-01T00:00:00\", \"2017-07-01T00:00:00\", \"2017-06-01T00:00:00\", \"2017-05-01T00:00:00\", \"2017-04-01T00:00:00\", \"2017-03-01T00:00:00\", \"2017-02-01T00:00:00\", \"2017-01-01T00:00:00\", \"2016-12-01T00:00:00\", \"2016-11-01T00:00:00\", \"2016-10-01T00:00:00\", \"2016-09-01T00:00:00\", \"2016-08-01T00:00:00\", \"2016-07-01T00:00:00\", \"2016-06-01T00:00:00\", \"2016-05-01T00:00:00\", \"2016-04-01T00:00:00\", \"2016-03-01T00:00:00\", \"2016-02-01T00:00:00\", \"2016-01-01T00:00:00\", \"2015-12-01T00:00:00\", \"2015-11-01T00:00:00\", \"2015-10-01T00:00:00\", \"2015-09-01T00:00:00\", \"2015-08-01T00:00:00\", \"2015-07-01T00:00:00\", \"2015-06-01T00:00:00\", \"2015-05-01T00:00:00\", \"2015-04-01T00:00:00\", \"2015-03-01T00:00:00\", \"2015-02-01T00:00:00\", \"2015-01-01T00:00:00\", \"2014-12-01T00:00:00\", \"2014-11-01T00:00:00\", \"2014-10-01T00:00:00\", \"2014-09-01T00:00:00\", \"2014-08-01T00:00:00\", \"2014-07-01T00:00:00\", \"2014-06-01T00:00:00\", \"2014-05-01T00:00:00\", \"2014-04-01T00:00:00\", \"2014-03-01T00:00:00\", \"2014-02-01T00:00:00\", \"2014-01-01T00:00:00\", \"2013-12-01T00:00:00\", \"2013-11-01T00:00:00\", \"2013-10-01T00:00:00\", \"2013-09-01T00:00:00\", \"2013-08-01T00:00:00\", \"2013-07-01T00:00:00\", \"2013-06-01T00:00:00\", \"2013-05-01T00:00:00\", \"2013-04-01T00:00:00\", \"2013-03-01T00:00:00\", \"2013-02-01T00:00:00\", \"2013-01-01T00:00:00\", \"2012-12-01T00:00:00\", \"2012-11-01T00:00:00\", \"2012-10-01T00:00:00\", \"2012-09-01T00:00:00\", \"2012-08-01T00:00:00\", \"2012-07-01T00:00:00\", \"2012-06-01T00:00:00\", \"2012-05-01T00:00:00\", \"2012-04-01T00:00:00\", \"2012-03-01T00:00:00\", \"2012-02-01T00:00:00\", \"2012-01-01T00:00:00\", \"2011-12-01T00:00:00\", \"2011-11-01T00:00:00\", \"2011-10-01T00:00:00\", \"2011-09-01T00:00:00\", \"2011-08-01T00:00:00\", \"2011-07-01T00:00:00\", \"2011-06-01T00:00:00\", \"2011-05-01T00:00:00\", \"2011-04-01T00:00:00\", \"2011-03-01T00:00:00\", \"2011-02-01T00:00:00\", \"2011-01-01T00:00:00\", \"2010-12-01T00:00:00\", \"2010-11-01T00:00:00\", \"2010-10-01T00:00:00\", \"2010-09-01T00:00:00\", \"2010-08-01T00:00:00\", \"2010-07-01T00:00:00\", \"2010-06-01T00:00:00\", \"2010-05-01T00:00:00\", \"2010-04-01T00:00:00\", \"2010-03-01T00:00:00\", \"2010-02-01T00:00:00\", \"2010-01-01T00:00:00\", \"2009-12-01T00:00:00\", \"2009-11-01T00:00:00\", \"2009-10-01T00:00:00\", \"2009-09-01T00:00:00\", \"2009-08-01T00:00:00\", \"2009-07-01T00:00:00\", \"2009-06-01T00:00:00\", \"2009-05-01T00:00:00\", \"2009-04-01T00:00:00\", \"2009-03-01T00:00:00\", \"2009-02-01T00:00:00\", \"2009-01-01T00:00:00\", \"2008-12-01T00:00:00\", \"2008-11-01T00:00:00\", \"2008-10-01T00:00:00\", \"2008-09-01T00:00:00\", \"2008-08-01T00:00:00\", \"2008-07-01T00:00:00\", \"2008-06-01T00:00:00\", \"2008-05-01T00:00:00\", \"2008-04-01T00:00:00\", \"2008-03-01T00:00:00\", \"2008-02-01T00:00:00\", \"2008-01-01T00:00:00\", \"2007-12-01T00:00:00\", \"2007-11-01T00:00:00\", \"2007-10-01T00:00:00\", \"2007-09-01T00:00:00\", \"2007-08-01T00:00:00\", \"2007-07-01T00:00:00\", \"2007-06-01T00:00:00\", \"2007-05-01T00:00:00\", \"2007-04-01T00:00:00\", \"2007-03-01T00:00:00\", \"2007-02-01T00:00:00\", \"2007-01-01T00:00:00\", \"2006-12-01T00:00:00\", \"2006-11-01T00:00:00\", \"2006-10-01T00:00:00\", \"2006-09-01T00:00:00\", \"2006-08-01T00:00:00\", \"2006-07-01T00:00:00\", \"2006-06-01T00:00:00\", \"2006-05-01T00:00:00\", \"2006-04-01T00:00:00\", \"2006-03-01T00:00:00\", \"2006-02-01T00:00:00\", \"2006-01-01T00:00:00\", \"2005-12-01T00:00:00\", \"2005-11-01T00:00:00\", \"2005-10-01T00:00:00\", \"2005-09-01T00:00:00\", \"2005-08-01T00:00:00\", \"2005-07-01T00:00:00\", \"2005-06-01T00:00:00\", \"2005-05-01T00:00:00\", \"2005-04-01T00:00:00\", \"2005-03-01T00:00:00\", \"2005-02-01T00:00:00\", \"2005-01-01T00:00:00\", \"2004-12-01T00:00:00\", \"2004-11-01T00:00:00\", \"2004-10-01T00:00:00\", \"2004-09-01T00:00:00\", \"2004-08-01T00:00:00\", \"2004-07-01T00:00:00\", \"2004-06-01T00:00:00\", \"2004-05-01T00:00:00\", \"2004-04-01T00:00:00\", \"2004-03-01T00:00:00\", \"2004-02-01T00:00:00\", \"2004-01-01T00:00:00\", \"2003-12-01T00:00:00\", \"2003-11-01T00:00:00\", \"2003-10-01T00:00:00\", \"2003-09-01T00:00:00\", \"2003-08-01T00:00:00\", \"2003-07-01T00:00:00\", \"2003-06-01T00:00:00\", \"2003-05-01T00:00:00\", \"2003-04-01T00:00:00\", \"2003-03-01T00:00:00\", \"2003-02-01T00:00:00\", \"2003-01-01T00:00:00\", \"2002-12-01T00:00:00\", \"2002-11-01T00:00:00\", \"2002-10-01T00:00:00\", \"2002-09-01T00:00:00\", \"2002-08-01T00:00:00\", \"2002-07-01T00:00:00\", \"2002-06-01T00:00:00\", \"2002-05-01T00:00:00\", \"2002-04-01T00:00:00\", \"2002-03-01T00:00:00\", \"2002-02-01T00:00:00\", \"2002-01-01T00:00:00\", \"2001-12-01T00:00:00\", \"2001-11-01T00:00:00\", \"2001-10-01T00:00:00\", \"2001-09-01T00:00:00\", \"2001-08-01T00:00:00\", \"2001-07-01T00:00:00\", \"2001-06-01T00:00:00\", \"2001-05-01T00:00:00\", \"2001-04-01T00:00:00\", \"2001-03-01T00:00:00\", \"2001-02-01T00:00:00\", \"2001-01-01T00:00:00\", \"2000-12-01T00:00:00\", \"2000-11-01T00:00:00\", \"2000-10-01T00:00:00\", \"2000-09-01T00:00:00\", \"2000-08-01T00:00:00\", \"2000-07-01T00:00:00\", \"2000-06-01T00:00:00\", \"2000-05-01T00:00:00\", \"2000-04-01T00:00:00\", \"2000-03-01T00:00:00\", \"2000-02-01T00:00:00\", \"2000-01-01T00:00:00\", \"1999-12-01T00:00:00\", \"1999-11-01T00:00:00\", \"1999-10-01T00:00:00\", \"1999-09-01T00:00:00\", \"1999-08-01T00:00:00\", \"1999-07-01T00:00:00\", \"1999-06-01T00:00:00\", \"1999-05-01T00:00:00\", \"1999-04-01T00:00:00\", \"1999-03-01T00:00:00\", \"1999-02-01T00:00:00\", \"1999-01-01T00:00:00\", \"1998-12-01T00:00:00\", \"1998-11-01T00:00:00\", \"1998-10-01T00:00:00\", \"1998-09-01T00:00:00\", \"1998-08-01T00:00:00\", \"1998-07-01T00:00:00\", \"1998-06-01T00:00:00\", \"1998-05-01T00:00:00\", \"1998-04-01T00:00:00\", \"1998-03-01T00:00:00\", \"1998-02-01T00:00:00\", \"1998-01-01T00:00:00\", \"1997-12-01T00:00:00\", \"1997-11-01T00:00:00\", \"1997-10-01T00:00:00\", \"1997-09-01T00:00:00\", \"1997-08-01T00:00:00\", \"1997-07-01T00:00:00\", \"1997-06-01T00:00:00\", \"1997-05-01T00:00:00\", \"1997-04-01T00:00:00\", \"1997-03-01T00:00:00\", \"1997-02-01T00:00:00\", \"1997-01-01T00:00:00\", \"1996-12-01T00:00:00\", \"1996-11-01T00:00:00\", \"1996-10-01T00:00:00\", \"1996-09-01T00:00:00\", \"1996-08-01T00:00:00\", \"1996-07-01T00:00:00\", \"1996-06-01T00:00:00\", \"1996-05-01T00:00:00\", \"1996-04-01T00:00:00\", \"1996-03-01T00:00:00\", \"1996-02-01T00:00:00\", \"1996-01-01T00:00:00\", \"1995-12-01T00:00:00\", \"1995-11-01T00:00:00\", \"1995-10-01T00:00:00\", \"1995-09-01T00:00:00\", \"1995-08-01T00:00:00\", \"1995-07-01T00:00:00\", \"1995-06-01T00:00:00\", \"1995-05-01T00:00:00\", \"1995-04-01T00:00:00\", \"1995-03-01T00:00:00\", \"1995-02-01T00:00:00\", \"1995-01-01T00:00:00\", \"1994-12-01T00:00:00\", \"1994-11-01T00:00:00\", \"1994-10-01T00:00:00\", \"1994-09-01T00:00:00\", \"1994-08-01T00:00:00\", \"1994-07-01T00:00:00\", \"1994-06-01T00:00:00\", \"1994-05-01T00:00:00\", \"1994-04-01T00:00:00\", \"1994-03-01T00:00:00\", \"1994-02-01T00:00:00\", \"1994-01-01T00:00:00\", \"1993-12-01T00:00:00\", \"1993-11-01T00:00:00\", \"1993-10-01T00:00:00\", \"1993-09-01T00:00:00\", \"1993-08-01T00:00:00\", \"1993-07-01T00:00:00\", \"1993-06-01T00:00:00\", \"1993-05-01T00:00:00\", \"1993-04-01T00:00:00\", \"1993-03-01T00:00:00\", \"1993-02-01T00:00:00\", \"1993-01-01T00:00:00\", \"1992-12-01T00:00:00\", \"1992-11-01T00:00:00\", \"1992-10-01T00:00:00\", \"1992-09-01T00:00:00\", \"1992-08-01T00:00:00\", \"1992-07-01T00:00:00\", \"1992-06-01T00:00:00\", \"1992-05-01T00:00:00\", \"1992-04-01T00:00:00\", \"1992-03-01T00:00:00\", \"1992-02-01T00:00:00\", \"1992-01-01T00:00:00\", \"1991-12-01T00:00:00\", \"1991-11-01T00:00:00\", \"1991-10-01T00:00:00\", \"1991-09-01T00:00:00\", \"1991-08-01T00:00:00\", \"1991-07-01T00:00:00\", \"1991-06-01T00:00:00\", \"1991-05-01T00:00:00\", \"1991-04-01T00:00:00\", \"1991-03-01T00:00:00\", \"1991-02-01T00:00:00\", \"1991-01-01T00:00:00\", \"1990-12-01T00:00:00\", \"1990-11-01T00:00:00\", \"1990-10-01T00:00:00\", \"1990-09-01T00:00:00\", \"1990-08-01T00:00:00\"], \"xaxis\": \"x\", \"y\": [2.442, 2.548, 2.555, 2.598, 2.627, 2.592, 2.621, 2.74, 2.716, 2.859, 2.798, 2.516, 2.309, 2.248, 2.366, 2.647, 2.86, 2.836, 2.836, 2.849, 2.891, 2.901, 2.757, 2.591, 2.587, 2.555, 2.477, 2.564, 2.505, 2.645, 2.38, 2.3, 2.347, 2.391, 2.417, 2.325, 2.304, 2.349, 2.254, 2.182, 2.249, 2.219, 2.178, 2.239, 2.366, 2.268, 2.113, 1.969, 1.764, 1.949, 2.038, 2.158, 2.29, 2.365, 2.636, 2.794, 2.802, 2.718, 2.469, 2.464, 2.216, 2.116, 2.543, 2.912, 3.171, 3.406, 3.487, 3.611, 3.692, 3.673, 3.661, 3.533, 3.356, 3.313, 3.276, 3.243, 3.344, 3.532, 3.574, 3.591, 3.626, 3.615, 3.57, 3.711, 3.67, 3.319, 3.31, 3.452, 3.746, 3.849, 3.722, 3.439, 3.539, 3.732, 3.9, 3.852, 3.579, 3.38, 3.266, 3.384, 3.448, 3.611, 3.639, 3.65, 3.68, 3.906, 3.8, 3.561, 3.211, 3.095, 2.993, 2.859, 2.801, 2.705, 2.73, 2.729, 2.732, 2.836, 2.848, 2.772, 2.644, 2.715, 2.607, 2.651, 2.551, 2.554, 2.616, 2.527, 2.631, 2.266, 2.049, 1.959, 1.923, 1.788, 1.687, 2.147, 3.051, 3.703, 3.779, 4.062, 4.054, 3.766, 3.458, 3.244, 3.028, 3.043, 3.018, 3.08, 2.803, 2.803, 2.786, 2.965, 3.056, 3.146, 2.845, 2.563, 2.278, 2.24, 2.313, 2.229, 2.245, 2.555, 2.952, 2.981, 2.885, 2.907, 2.742, 2.425, 2.28, 2.316, 2.185, 2.257, 2.717, 2.903, 2.486, 2.29, 2.156, 2.161, 2.243, 2.079, 1.91, 1.831, 1.841, 1.979, 2.0, 1.87, 1.878, 1.911, 1.969, 1.983, 1.798, 1.736, 1.648, 1.572, 1.479, 1.512, 1.564, 1.679, 1.62, 1.513, 1.493, 1.497, 1.589, 1.693, 1.613, 1.458, 1.386, 1.419, 1.445, 1.4, 1.396, 1.397, 1.382, 1.392, 1.397, 1.249, 1.114, 1.107, 1.086, 1.171, 1.315, 1.522, 1.421, 1.421, 1.616, 1.702, 1.552, 1.409, 1.45, 1.447, 1.443, 1.517, 1.532, 1.55, 1.465, 1.551, 1.633, 1.487, 1.465, 1.516, 1.377, 1.289, 1.273, 1.251, 1.244, 1.256, 1.221, 1.158, 1.114, 1.131, 1.131, 0.982, 0.921, 0.939, 0.945, 0.995, 1.019, 1.009, 1.026, 1.055, 1.064, 1.064, 1.03, 1.017, 1.049, 1.086, 1.131, 1.171, 1.197, 1.231, 1.224, 1.174, 1.198, 1.2, 1.199, 1.205, 1.23, 1.236, 1.235, 1.232, 1.204, 1.202, 1.207, 1.227, 1.256, 1.279, 1.231, 1.137, 1.089, 1.09, 1.071, 1.062, 1.087, 1.111, 1.123, 1.154, 1.192, 1.178, 1.111, 1.072, 1.073, 1.082, 1.091, 1.116, 1.114, 1.144, 1.155, 1.106, 1.078, 1.047, 1.027, 1.008, 1.009, 0.998, 1.014, 1.066, 1.092, 1.05, 1.062, 1.078, 1.097, 1.1, 1.078, 1.052, 1.054, 1.062, 1.078, 1.111, 1.114, 1.122, 1.122, 1.137, 1.145, 1.107, 1.052, 1.013, 1.006, 1.022, 1.076, 1.099, 1.088, 1.109, 1.115, 1.096, 1.128, 1.126, 1.076, 1.04, 1.094, null, null, 1.324, 1.335, 1.258, null], \"yaxis\": \"y\"}],\n",
       "                        {\"legend\": {\"tracegroupgap\": 0}, \"template\": {\"data\": {\"bar\": [{\"error_x\": {\"color\": \"#2a3f5f\"}, \"error_y\": {\"color\": \"#2a3f5f\"}, \"marker\": {\"line\": {\"color\": \"#E5ECF6\", \"width\": 0.5}}, \"type\": \"bar\"}], \"barpolar\": [{\"marker\": {\"line\": {\"color\": \"#E5ECF6\", \"width\": 0.5}}, \"type\": \"barpolar\"}], \"carpet\": [{\"aaxis\": {\"endlinecolor\": \"#2a3f5f\", \"gridcolor\": \"white\", \"linecolor\": \"white\", \"minorgridcolor\": \"white\", \"startlinecolor\": \"#2a3f5f\"}, \"baxis\": {\"endlinecolor\": \"#2a3f5f\", \"gridcolor\": \"white\", \"linecolor\": \"white\", \"minorgridcolor\": \"white\", \"startlinecolor\": \"#2a3f5f\"}, \"type\": \"carpet\"}], \"choropleth\": [{\"colorbar\": {\"outlinewidth\": 0, \"ticks\": \"\"}, \"type\": \"choropleth\"}], \"contour\": [{\"colorbar\": {\"outlinewidth\": 0, \"ticks\": \"\"}, \"colorscale\": [[0.0, \"#0d0887\"], [0.1111111111111111, \"#46039f\"], [0.2222222222222222, \"#7201a8\"], [0.3333333333333333, \"#9c179e\"], [0.4444444444444444, \"#bd3786\"], [0.5555555555555556, \"#d8576b\"], [0.6666666666666666, \"#ed7953\"], [0.7777777777777778, \"#fb9f3a\"], [0.8888888888888888, \"#fdca26\"], [1.0, \"#f0f921\"]], \"type\": \"contour\"}], \"contourcarpet\": [{\"colorbar\": {\"outlinewidth\": 0, \"ticks\": \"\"}, \"type\": \"contourcarpet\"}], \"heatmap\": [{\"colorbar\": {\"outlinewidth\": 0, \"ticks\": \"\"}, \"colorscale\": [[0.0, \"#0d0887\"], [0.1111111111111111, \"#46039f\"], [0.2222222222222222, \"#7201a8\"], [0.3333333333333333, \"#9c179e\"], [0.4444444444444444, \"#bd3786\"], [0.5555555555555556, \"#d8576b\"], [0.6666666666666666, \"#ed7953\"], [0.7777777777777778, \"#fb9f3a\"], [0.8888888888888888, \"#fdca26\"], [1.0, \"#f0f921\"]], \"type\": \"heatmap\"}], \"heatmapgl\": [{\"colorbar\": {\"outlinewidth\": 0, \"ticks\": \"\"}, \"colorscale\": [[0.0, \"#0d0887\"], [0.1111111111111111, \"#46039f\"], [0.2222222222222222, \"#7201a8\"], [0.3333333333333333, \"#9c179e\"], [0.4444444444444444, \"#bd3786\"], [0.5555555555555556, \"#d8576b\"], [0.6666666666666666, \"#ed7953\"], [0.7777777777777778, \"#fb9f3a\"], [0.8888888888888888, \"#fdca26\"], [1.0, \"#f0f921\"]], \"type\": \"heatmapgl\"}], \"histogram\": [{\"marker\": {\"colorbar\": {\"outlinewidth\": 0, \"ticks\": \"\"}}, \"type\": \"histogram\"}], \"histogram2d\": [{\"colorbar\": {\"outlinewidth\": 0, \"ticks\": \"\"}, \"colorscale\": [[0.0, \"#0d0887\"], [0.1111111111111111, \"#46039f\"], [0.2222222222222222, \"#7201a8\"], [0.3333333333333333, \"#9c179e\"], [0.4444444444444444, \"#bd3786\"], [0.5555555555555556, \"#d8576b\"], [0.6666666666666666, \"#ed7953\"], [0.7777777777777778, \"#fb9f3a\"], [0.8888888888888888, \"#fdca26\"], [1.0, \"#f0f921\"]], \"type\": \"histogram2d\"}], \"histogram2dcontour\": [{\"colorbar\": {\"outlinewidth\": 0, \"ticks\": \"\"}, \"colorscale\": [[0.0, \"#0d0887\"], [0.1111111111111111, \"#46039f\"], [0.2222222222222222, \"#7201a8\"], [0.3333333333333333, \"#9c179e\"], [0.4444444444444444, \"#bd3786\"], [0.5555555555555556, \"#d8576b\"], [0.6666666666666666, \"#ed7953\"], [0.7777777777777778, \"#fb9f3a\"], [0.8888888888888888, \"#fdca26\"], [1.0, \"#f0f921\"]], \"type\": \"histogram2dcontour\"}], \"mesh3d\": [{\"colorbar\": {\"outlinewidth\": 0, \"ticks\": \"\"}, \"type\": \"mesh3d\"}], \"parcoords\": [{\"line\": {\"colorbar\": {\"outlinewidth\": 0, \"ticks\": \"\"}}, \"type\": \"parcoords\"}], \"pie\": [{\"automargin\": true, \"type\": \"pie\"}], \"scatter\": [{\"marker\": {\"colorbar\": {\"outlinewidth\": 0, \"ticks\": \"\"}}, \"type\": \"scatter\"}], \"scatter3d\": [{\"line\": {\"colorbar\": {\"outlinewidth\": 0, \"ticks\": \"\"}}, \"marker\": {\"colorbar\": {\"outlinewidth\": 0, \"ticks\": \"\"}}, \"type\": \"scatter3d\"}], \"scattercarpet\": [{\"marker\": {\"colorbar\": {\"outlinewidth\": 0, \"ticks\": \"\"}}, \"type\": \"scattercarpet\"}], \"scattergeo\": [{\"marker\": {\"colorbar\": {\"outlinewidth\": 0, \"ticks\": \"\"}}, \"type\": \"scattergeo\"}], \"scattergl\": [{\"marker\": {\"colorbar\": {\"outlinewidth\": 0, \"ticks\": \"\"}}, \"type\": \"scattergl\"}], \"scattermapbox\": [{\"marker\": {\"colorbar\": {\"outlinewidth\": 0, \"ticks\": \"\"}}, \"type\": \"scattermapbox\"}], \"scatterpolar\": [{\"marker\": {\"colorbar\": {\"outlinewidth\": 0, \"ticks\": \"\"}}, \"type\": \"scatterpolar\"}], \"scatterpolargl\": [{\"marker\": {\"colorbar\": {\"outlinewidth\": 0, \"ticks\": \"\"}}, \"type\": \"scatterpolargl\"}], \"scatterternary\": [{\"marker\": {\"colorbar\": {\"outlinewidth\": 0, \"ticks\": \"\"}}, \"type\": \"scatterternary\"}], \"surface\": [{\"colorbar\": {\"outlinewidth\": 0, \"ticks\": \"\"}, \"colorscale\": [[0.0, \"#0d0887\"], [0.1111111111111111, \"#46039f\"], [0.2222222222222222, \"#7201a8\"], [0.3333333333333333, \"#9c179e\"], [0.4444444444444444, \"#bd3786\"], [0.5555555555555556, \"#d8576b\"], [0.6666666666666666, \"#ed7953\"], [0.7777777777777778, \"#fb9f3a\"], [0.8888888888888888, \"#fdca26\"], [1.0, \"#f0f921\"]], \"type\": \"surface\"}], \"table\": [{\"cells\": {\"fill\": {\"color\": \"#EBF0F8\"}, \"line\": {\"color\": \"white\"}}, \"header\": {\"fill\": {\"color\": \"#C8D4E3\"}, \"line\": {\"color\": \"white\"}}, \"type\": \"table\"}]}, \"layout\": {\"annotationdefaults\": {\"arrowcolor\": \"#2a3f5f\", \"arrowhead\": 0, \"arrowwidth\": 1}, \"coloraxis\": {\"colorbar\": {\"outlinewidth\": 0, \"ticks\": \"\"}}, \"colorscale\": {\"diverging\": [[0, \"#8e0152\"], [0.1, \"#c51b7d\"], [0.2, \"#de77ae\"], [0.3, \"#f1b6da\"], [0.4, \"#fde0ef\"], [0.5, \"#f7f7f7\"], [0.6, \"#e6f5d0\"], [0.7, \"#b8e186\"], [0.8, \"#7fbc41\"], [0.9, \"#4d9221\"], [1, \"#276419\"]], \"sequential\": [[0.0, \"#0d0887\"], [0.1111111111111111, \"#46039f\"], [0.2222222222222222, \"#7201a8\"], [0.3333333333333333, \"#9c179e\"], [0.4444444444444444, \"#bd3786\"], [0.5555555555555556, \"#d8576b\"], [0.6666666666666666, \"#ed7953\"], [0.7777777777777778, \"#fb9f3a\"], [0.8888888888888888, \"#fdca26\"], [1.0, \"#f0f921\"]], \"sequentialminus\": [[0.0, \"#0d0887\"], [0.1111111111111111, \"#46039f\"], [0.2222222222222222, \"#7201a8\"], [0.3333333333333333, \"#9c179e\"], [0.4444444444444444, \"#bd3786\"], [0.5555555555555556, \"#d8576b\"], [0.6666666666666666, \"#ed7953\"], [0.7777777777777778, \"#fb9f3a\"], [0.8888888888888888, \"#fdca26\"], [1.0, \"#f0f921\"]]}, \"colorway\": [\"#636efa\", \"#EF553B\", \"#00cc96\", \"#ab63fa\", \"#FFA15A\", \"#19d3f3\", \"#FF6692\", \"#B6E880\", \"#FF97FF\", \"#FECB52\"], \"font\": {\"color\": \"#2a3f5f\"}, \"geo\": {\"bgcolor\": \"white\", \"lakecolor\": \"white\", \"landcolor\": \"#E5ECF6\", \"showlakes\": true, \"showland\": true, \"subunitcolor\": \"white\"}, \"hoverlabel\": {\"align\": \"left\"}, \"hovermode\": \"closest\", \"mapbox\": {\"style\": \"light\"}, \"paper_bgcolor\": \"white\", \"plot_bgcolor\": \"#E5ECF6\", \"polar\": {\"angularaxis\": {\"gridcolor\": \"white\", \"linecolor\": \"white\", \"ticks\": \"\"}, \"bgcolor\": \"#E5ECF6\", \"radialaxis\": {\"gridcolor\": \"white\", \"linecolor\": \"white\", \"ticks\": \"\"}}, \"scene\": {\"xaxis\": {\"backgroundcolor\": \"#E5ECF6\", \"gridcolor\": \"white\", \"gridwidth\": 2, \"linecolor\": \"white\", \"showbackground\": true, \"ticks\": \"\", \"zerolinecolor\": \"white\"}, \"yaxis\": {\"backgroundcolor\": \"#E5ECF6\", \"gridcolor\": \"white\", \"gridwidth\": 2, \"linecolor\": \"white\", \"showbackground\": true, \"ticks\": \"\", \"zerolinecolor\": \"white\"}, \"zaxis\": {\"backgroundcolor\": \"#E5ECF6\", \"gridcolor\": \"white\", \"gridwidth\": 2, \"linecolor\": \"white\", \"showbackground\": true, \"ticks\": \"\", \"zerolinecolor\": \"white\"}}, \"shapedefaults\": {\"line\": {\"color\": \"#2a3f5f\"}}, \"ternary\": {\"aaxis\": {\"gridcolor\": \"white\", \"linecolor\": \"white\", \"ticks\": \"\"}, \"baxis\": {\"gridcolor\": \"white\", \"linecolor\": \"white\", \"ticks\": \"\"}, \"bgcolor\": \"#E5ECF6\", \"caxis\": {\"gridcolor\": \"white\", \"linecolor\": \"white\", \"ticks\": \"\"}}, \"title\": {\"x\": 0.05}, \"xaxis\": {\"automargin\": true, \"gridcolor\": \"white\", \"linecolor\": \"white\", \"ticks\": \"\", \"title\": {\"standoff\": 15}, \"zerolinecolor\": \"white\", \"zerolinewidth\": 2}, \"yaxis\": {\"automargin\": true, \"gridcolor\": \"white\", \"linecolor\": \"white\", \"ticks\": \"\", \"title\": {\"standoff\": 15}, \"zerolinecolor\": \"white\", \"zerolinewidth\": 2}}}, \"title\": {\"text\": \"U.S. Regular All Formulations Retail Gasoline Prices, Monthly\"}, \"xaxis\": {\"anchor\": \"y\", \"domain\": [0.0, 1.0], \"title\": {\"text\": \"Date\"}}, \"yaxis\": {\"anchor\": \"x\", \"domain\": [0.0, 1.0], \"title\": {\"text\": \"price\"}}},\n",
       "                        {\"responsive\": true}\n",
       "                    ).then(function(){\n",
       "                            \n",
       "var gd = document.getElementById('b7c6dd01-7420-4df3-81f3-dff2e91029f0');\n",
       "var x = new MutationObserver(function (mutations, observer) {{\n",
       "        var display = window.getComputedStyle(gd).display;\n",
       "        if (!display || display === 'none') {{\n",
       "            console.log([gd, 'removed!']);\n",
       "            Plotly.purge(gd);\n",
       "            observer.disconnect();\n",
       "        }}\n",
       "}});\n",
       "\n",
       "// Listen for the removal of the full notebook cells\n",
       "var notebookContainer = gd.closest('#notebook-container');\n",
       "if (notebookContainer) {{\n",
       "    x.observe(notebookContainer, {childList: true});\n",
       "}}\n",
       "\n",
       "// Listen for the clearing of the current output cell\n",
       "var outputEl = gd.closest('.output');\n",
       "if (outputEl) {{\n",
       "    x.observe(outputEl, {childList: true});\n",
       "}}\n",
       "\n",
       "                        })\n",
       "                };\n",
       "                });\n",
       "            </script>\n",
       "        </div>"
      ]
     },
     "metadata": {},
     "output_type": "display_data"
    }
   ],
   "source": [
    "fig = px.line(prices_df, x=\"Date\", y=\"price\", title=chart_title)\n",
    "fig.show()"
   ]
  },
  {
   "cell_type": "code",
   "execution_count": 137,
   "metadata": {},
   "outputs": [],
   "source": [
    "# ax1 = prices_df.plot.line(x='date',\n",
    "#                           y='price',\n",
    "#                           c='DarkBlue')\n",
    "# label_plot(ax1, chart_title, \"Date\", \"price\", ts )\n",
    "# plt.savefig(f'../output_data/{chart_title}.png')\n",
    "# plt.show()\n"
   ]
  },
  {
   "cell_type": "markdown",
   "metadata": {},
   "source": [
    "### API Query Browser\n",
    "### EIA Data Sets > Petroleum > Prices > Weekly Retail Gasoline and Diesel Prices"
   ]
  },
  {
   "cell_type": "markdown",
   "metadata": {},
   "source": [
    "#### EIA Data Sets > Petroleum > Prices > Weekly Retail Gasoline and Diesel Prices > by Area > U.S.\n",
    "* http://api.eia.gov/series/?api_key=YOUR_API_KEY_HERE&series_id=PET.EMM_EPMR_PTE_NUS_DPG.M"
   ]
  },
  {
   "cell_type": "code",
   "execution_count": 144,
   "metadata": {},
   "outputs": [
    {
     "data": {
      "text/html": [
       "<div>\n",
       "<style scoped>\n",
       "    .dataframe tbody tr th:only-of-type {\n",
       "        vertical-align: middle;\n",
       "    }\n",
       "\n",
       "    .dataframe tbody tr th {\n",
       "        vertical-align: top;\n",
       "    }\n",
       "\n",
       "    .dataframe thead th {\n",
       "        text-align: right;\n",
       "    }\n",
       "</style>\n",
       "<table border=\"1\" class=\"dataframe\">\n",
       "  <thead>\n",
       "    <tr style=\"text-align: right;\">\n",
       "      <th></th>\n",
       "      <th>date</th>\n",
       "      <th>price</th>\n",
       "    </tr>\n",
       "  </thead>\n",
       "  <tbody>\n",
       "    <tr>\n",
       "      <th>0</th>\n",
       "      <td>2020-02-01</td>\n",
       "      <td>2.442</td>\n",
       "    </tr>\n",
       "    <tr>\n",
       "      <th>1</th>\n",
       "      <td>2020-01-01</td>\n",
       "      <td>2.548</td>\n",
       "    </tr>\n",
       "    <tr>\n",
       "      <th>2</th>\n",
       "      <td>2019-12-01</td>\n",
       "      <td>2.555</td>\n",
       "    </tr>\n",
       "    <tr>\n",
       "      <th>3</th>\n",
       "      <td>2019-11-01</td>\n",
       "      <td>2.598</td>\n",
       "    </tr>\n",
       "    <tr>\n",
       "      <th>4</th>\n",
       "      <td>2019-10-01</td>\n",
       "      <td>2.627</td>\n",
       "    </tr>\n",
       "    <tr>\n",
       "      <th>...</th>\n",
       "      <td>...</td>\n",
       "      <td>...</td>\n",
       "    </tr>\n",
       "    <tr>\n",
       "      <th>350</th>\n",
       "      <td>1990-12-01</td>\n",
       "      <td>NaN</td>\n",
       "    </tr>\n",
       "    <tr>\n",
       "      <th>351</th>\n",
       "      <td>1990-11-01</td>\n",
       "      <td>1.324</td>\n",
       "    </tr>\n",
       "    <tr>\n",
       "      <th>352</th>\n",
       "      <td>1990-10-01</td>\n",
       "      <td>1.335</td>\n",
       "    </tr>\n",
       "    <tr>\n",
       "      <th>353</th>\n",
       "      <td>1990-09-01</td>\n",
       "      <td>1.258</td>\n",
       "    </tr>\n",
       "    <tr>\n",
       "      <th>354</th>\n",
       "      <td>1990-08-01</td>\n",
       "      <td>NaN</td>\n",
       "    </tr>\n",
       "  </tbody>\n",
       "</table>\n",
       "<p>355 rows × 2 columns</p>\n",
       "</div>"
      ],
      "text/plain": [
       "          date  price\n",
       "0   2020-02-01  2.442\n",
       "1   2020-01-01  2.548\n",
       "2   2019-12-01  2.555\n",
       "3   2019-11-01  2.598\n",
       "4   2019-10-01  2.627\n",
       "..         ...    ...\n",
       "350 1990-12-01    NaN\n",
       "351 1990-11-01  1.324\n",
       "352 1990-10-01  1.335\n",
       "353 1990-09-01  1.258\n",
       "354 1990-08-01    NaN\n",
       "\n",
       "[355 rows x 2 columns]"
      ]
     },
     "execution_count": 144,
     "metadata": {},
     "output_type": "execute_result"
    }
   ],
   "source": [
    "series_id='PET.EMM_EPMR_PTE_NUS_DPG.M'  # ALL US \n",
    "\n",
    "series_id=\n",
    "\n",
    "\n",
    "url = f\"http://api.eia.gov/series/?api_key={eia_key}&series_id={seriesid}\"\n",
    "#print(url)\n",
    "response = requests.get(url).json()\n",
    "#print(response)\n",
    "#print(response.keys())   # response and series\n",
    "\n",
    "chart_title = response['series'][0]['name']\n",
    "chart_data  = response['series'][0]['data']\n",
    "\n",
    "#convert to dataframe\n",
    "prices_df = pd.DataFrame(chart_data, columns={'date', 'price'})\n",
    "# Convert to Date - overwriting date string\n",
    "prices_df['date'] = pd.to_datetime(pd.Series(prices_df['date']), format=\"%Y%m\")\n",
    "prices_df"
   ]
  },
  {
   "cell_type": "code",
   "execution_count": 142,
   "metadata": {},
   "outputs": [
    {
     "data": {
      "text/html": [
       "<div>\n",
       "<style scoped>\n",
       "    .dataframe tbody tr th:only-of-type {\n",
       "        vertical-align: middle;\n",
       "    }\n",
       "\n",
       "    .dataframe tbody tr th {\n",
       "        vertical-align: top;\n",
       "    }\n",
       "\n",
       "    .dataframe thead th {\n",
       "        text-align: right;\n",
       "    }\n",
       "</style>\n",
       "<table border=\"1\" class=\"dataframe\">\n",
       "  <thead>\n",
       "    <tr style=\"text-align: right;\">\n",
       "      <th></th>\n",
       "      <th>date</th>\n",
       "      <th>price</th>\n",
       "    </tr>\n",
       "  </thead>\n",
       "  <tbody>\n",
       "    <tr>\n",
       "      <th>0</th>\n",
       "      <td>202002</td>\n",
       "      <td>2.442</td>\n",
       "    </tr>\n",
       "    <tr>\n",
       "      <th>1</th>\n",
       "      <td>202001</td>\n",
       "      <td>2.548</td>\n",
       "    </tr>\n",
       "    <tr>\n",
       "      <th>2</th>\n",
       "      <td>201912</td>\n",
       "      <td>2.555</td>\n",
       "    </tr>\n",
       "    <tr>\n",
       "      <th>3</th>\n",
       "      <td>201911</td>\n",
       "      <td>2.598</td>\n",
       "    </tr>\n",
       "    <tr>\n",
       "      <th>4</th>\n",
       "      <td>201910</td>\n",
       "      <td>2.627</td>\n",
       "    </tr>\n",
       "    <tr>\n",
       "      <th>...</th>\n",
       "      <td>...</td>\n",
       "      <td>...</td>\n",
       "    </tr>\n",
       "    <tr>\n",
       "      <th>350</th>\n",
       "      <td>199012</td>\n",
       "      <td>NaN</td>\n",
       "    </tr>\n",
       "    <tr>\n",
       "      <th>351</th>\n",
       "      <td>199011</td>\n",
       "      <td>1.324</td>\n",
       "    </tr>\n",
       "    <tr>\n",
       "      <th>352</th>\n",
       "      <td>199010</td>\n",
       "      <td>1.335</td>\n",
       "    </tr>\n",
       "    <tr>\n",
       "      <th>353</th>\n",
       "      <td>199009</td>\n",
       "      <td>1.258</td>\n",
       "    </tr>\n",
       "    <tr>\n",
       "      <th>354</th>\n",
       "      <td>199008</td>\n",
       "      <td>NaN</td>\n",
       "    </tr>\n",
       "  </tbody>\n",
       "</table>\n",
       "<p>355 rows × 2 columns</p>\n",
       "</div>"
      ],
      "text/plain": [
       "       date  price\n",
       "0    202002  2.442\n",
       "1    202001  2.548\n",
       "2    201912  2.555\n",
       "3    201911  2.598\n",
       "4    201910  2.627\n",
       "..      ...    ...\n",
       "350  199012    NaN\n",
       "351  199011  1.324\n",
       "352  199010  1.335\n",
       "353  199009  1.258\n",
       "354  199008    NaN\n",
       "\n",
       "[355 rows x 2 columns]"
      ]
     },
     "execution_count": 142,
     "metadata": {},
     "output_type": "execute_result"
    }
   ],
   "source": [
    "prices_df"
   ]
  },
  {
   "cell_type": "code",
   "execution_count": null,
   "metadata": {},
   "outputs": [],
   "source": []
  }
 ],
 "metadata": {
  "kernelspec": {
   "display_name": "Python 3",
   "language": "python",
   "name": "python3"
  },
  "language_info": {
   "codemirror_mode": {
    "name": "ipython",
    "version": 3
   },
   "file_extension": ".py",
   "mimetype": "text/x-python",
   "name": "python",
   "nbconvert_exporter": "python",
   "pygments_lexer": "ipython3",
   "version": "3.7.6"
  }
 },
 "nbformat": 4,
 "nbformat_minor": 4
}
