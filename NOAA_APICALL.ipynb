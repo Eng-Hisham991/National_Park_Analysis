{
 "cells": [
  {
   "cell_type": "code",
   "execution_count": 53,
   "metadata": {},
   "outputs": [],
   "source": [
    "import matplotlib.pyplot as plt\n",
    "import pandas as pd\n",
    "import numpy as np\n",
    "import requests\n",
    "import json\n",
    "import os\n",
    "import random \n",
    "\n",
    "import gmaps \n",
    "import us\n",
    "from census import Census\n",
    "\n",
    "# Import API key\n",
    "from api_keys import g_key\n",
    "from api_keys import weather_api_key\n",
    "from api_keys import gas_api_key\n",
    "from api_keys import eia_key\n",
    "from api_keys import census_api_key\n",
    "from api_keys import nps_key\n",
    "from api_keys import noaa_token\n",
    "\n",
    "year='2019'"
   ]
  },
  {
   "cell_type": "code",
   "execution_count": 54,
   "metadata": {},
   "outputs": [],
   "source": [
    "#print(noaa_token)"
   ]
  },
  {
   "cell_type": "code",
   "execution_count": 57,
   "metadata": {},
   "outputs": [
    {
     "name": "stdout",
     "output_type": "stream",
     "text": [
      "On 2019-01-01T00:00:00 GHCND:USC00414327 is reporting PRCP\n",
      "On 2019-01-02T00:00:00 GHCND:USC00414327 is reporting PRCP\n",
      "On 2019-01-03T00:00:00 GHCND:USC00414327 is reporting PRCP\n",
      "On 2019-01-04T00:00:00 GHCND:USC00414327 is reporting PRCP\n",
      "On 2019-01-05T00:00:00 GHCND:USC00414327 is reporting PRCP\n",
      "On 2019-01-06T00:00:00 GHCND:USC00414327 is reporting PRCP\n",
      "On 2019-01-07T00:00:00 GHCND:USC00414327 is reporting PRCP\n",
      "On 2019-01-08T00:00:00 GHCND:USC00414327 is reporting PRCP\n",
      "On 2019-01-09T00:00:00 GHCND:USC00414327 is reporting PRCP\n",
      "On 2019-01-10T00:00:00 GHCND:USC00414327 is reporting PRCP\n",
      "On 2019-01-11T00:00:00 GHCND:USC00414327 is reporting PRCP\n",
      "On 2019-01-12T00:00:00 GHCND:USC00414327 is reporting PRCP\n",
      "On 2019-01-13T00:00:00 GHCND:USC00414327 is reporting PRCP\n",
      "On 2019-01-14T00:00:00 GHCND:USC00414327 is reporting PRCP\n",
      "On 2019-01-15T00:00:00 GHCND:USC00414327 is reporting PRCP\n",
      "On 2019-01-16T00:00:00 GHCND:USC00414327 is reporting PRCP\n",
      "On 2019-01-17T00:00:00 GHCND:USC00414327 is reporting PRCP\n",
      "On 2019-01-18T00:00:00 GHCND:USC00414327 is reporting PRCP\n",
      "On 2019-01-19T00:00:00 GHCND:USC00414327 is reporting PRCP\n",
      "On 2019-01-20T00:00:00 GHCND:USC00414327 is reporting PRCP\n",
      "On 2019-01-21T00:00:00 GHCND:USC00414327 is reporting PRCP\n",
      "On 2019-01-22T00:00:00 GHCND:USC00414327 is reporting PRCP\n",
      "On 2019-01-23T00:00:00 GHCND:USC00414327 is reporting PRCP\n",
      "On 2019-01-24T00:00:00 GHCND:USC00414327 is reporting PRCP\n",
      "On 2019-01-25T00:00:00 GHCND:USC00414327 is reporting PRCP\n"
     ]
    }
   ],
   "source": [
    "baseurl   = 'https://www.ncdc.noaa.gov/cdo-web/api/v2/'\n",
    "\n",
    "query = 'data?datasetid=GHCND&locationid=ZIP:77040&startdate=2019-01-01&enddate=2019-01-31'\n",
    "\n",
    "url = baseurl+query\n",
    "\n",
    "r = requests.get(url, headers={'token':noaa_token}).json()\n",
    "#load the api response as a json\n",
    "#print(r['results'])\n",
    "#print(url)\n",
    "\n",
    "length_r = len(r['results'])\n",
    "#print(length_r)\n",
    "\n",
    "for i in range(0,length_r):\n",
    "    print(f\"On {r['results'][i]['date']} {r['results'][i]['station']} is reporting {r['results'][i]['datatype']}\")"
   ]
  },
  {
   "cell_type": "code",
   "execution_count": null,
   "metadata": {},
   "outputs": [],
   "source": []
  },
  {
   "cell_type": "code",
   "execution_count": null,
   "metadata": {},
   "outputs": [],
   "source": []
  }
 ],
 "metadata": {
  "kernelspec": {
   "display_name": "Python 3",
   "language": "python",
   "name": "python3"
  },
  "language_info": {
   "codemirror_mode": {
    "name": "ipython",
    "version": 3
   },
   "file_extension": ".py",
   "mimetype": "text/x-python",
   "name": "python",
   "nbconvert_exporter": "python",
   "pygments_lexer": "ipython3",
   "version": "3.7.6"
  }
 },
 "nbformat": 4,
 "nbformat_minor": 4
}
