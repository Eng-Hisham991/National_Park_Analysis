{
 "cells": [
  {
   "cell_type": "markdown",
   "metadata": {},
   "source": [
    "### Gas Price Data\n",
    "This notebook uses the EIA (US Energy Informaton Association) data to populate a data frame containing monthly gas prices for a sample of states for the year 2019 (query_year is a variable and can easily be changed)"
   ]
  },
  {
   "cell_type": "code",
   "execution_count": null,
   "metadata": {},
   "outputs": [],
   "source": [
    "### Dependencies and Keys\n",
    "import requests\n",
    "import json\n",
    "import pandas as pd\n",
    "\n",
    "import cufflinks as cf\n",
    "import plotly.graph_objects as go\n",
    "import plotly.express as px \n",
    "\n",
    "from datetime import date\n",
    "import datetime\n",
    "\n",
    "# Import API key\n",
    "from api_keys import eia_key\n",
    "from api_keys import g_key\n"
   ]
  },
  {
   "cell_type": "markdown",
   "metadata": {},
   "source": [
    "# EIA API Query Browser\n",
    "EIA Data Sets > Petroleum > Prices > Weekly Retail Gasoline and Diesel Prices\n",
    "\n",
    "API CALL TO USE:http://api.eia.gov/category/?api_key=YOUR_API_KEY_HERE&category_id=240690\n",
    "\n",
    "Children Categories:\n",
    "by Area\n",
    "by Product"
   ]
  },
  {
   "cell_type": "markdown",
   "metadata": {},
   "source": [
    "##### https://www.eia.gov/developer/\n",
    "\n",
    "#### https://www.eia.gov/opendata/\n"
   ]
  },
  {
   "cell_type": "code",
   "execution_count": null,
   "metadata": {},
   "outputs": [],
   "source": [
    "url= f\"http://api.eia.gov/category/?api_key={eia_key}&category_id=711295\"\n",
    "print(url)"
   ]
  },
  {
   "cell_type": "markdown",
   "metadata": {},
   "source": [
    "##### U.S. Regular All Formulations Retail Gasoline Prices, Monthly"
   ]
  },
  {
   "cell_type": "code",
   "execution_count": null,
   "metadata": {},
   "outputs": [],
   "source": [
    "url = f\"http://api.eia.gov/series/?api_key={eia_key}&series_id=PET.EMM_EPMR_PTE_NUS_DPG.M\"\n",
    "#print(url)\n",
    "response = requests.get(url).json()\n",
    "#print(response)\n",
    "#print(response.keys())   # response and series\n",
    "\n",
    "chart_title = response['series'][0]['name']\n",
    "chart_data  = response['series'][0]['data']\n",
    "#print(chart_data)\n",
    "prices_df = pd.DataFrame(chart_data, columns=['Date', 'Average Price'])\n",
    "#prices_df"
   ]
  },
  {
   "cell_type": "markdown",
   "metadata": {},
   "source": [
    "### Date comes in as a 6 character string YYYYMM so we have to strip it out if we want to plot anything meaningful\n",
    "* We can use datetime library"
   ]
  },
  {
   "cell_type": "code",
   "execution_count": null,
   "metadata": {},
   "outputs": [],
   "source": [
    "# use pd.to_datetime to reformat the date\n",
    "prices_df['Date'] = pd.to_datetime(pd.Series(prices_df['Date']), format=\"%Y%m\")\n",
    "prices_df.head()"
   ]
  },
  {
   "cell_type": "code",
   "execution_count": null,
   "metadata": {},
   "outputs": [],
   "source": [
    "start_date = datetime.datetime(2019, 1, 1)\n",
    "end_date = datetime.datetime(2019, 12, 31)\n",
    "\n",
    "prices_df = prices_df[prices_df['Date'] > start_date]\n",
    "prices_df = prices_df[prices_df['Date'] < end_date]\n",
    "prices_df"
   ]
  },
  {
   "cell_type": "markdown",
   "metadata": {},
   "source": [
    "#### Creating Charts using PLOTLY"
   ]
  },
  {
   "cell_type": "code",
   "execution_count": null,
   "metadata": {},
   "outputs": [],
   "source": [
    "fig = px.line(prices_df, x=\"Date\", y=\"Average Price\", title=chart_title\n",
    "              +f' between {start_date.date()} and {end_date.date()}')\n",
    "fig.show()"
   ]
  },
  {
   "cell_type": "markdown",
   "metadata": {},
   "source": [
    "### EIA API Query Browser \n",
    "### EIA Data Sets > Petroleum > Prices > Weekly Retail Gasoline and Diesel Prices"
   ]
  },
  {
   "cell_type": "markdown",
   "metadata": {},
   "source": [
    "The EIA Tracks prices for the following Regions, States and Cities in the Unites states\n",
    "* U.S.\n",
    "* East Coast (PADD 1)\n",
    "* New England (PADD 1A)\n",
    "* Central Atlantic (PADD 1B)\n",
    "* Lower Atlantic (PADD 1C)\n",
    "* Midwest (PADD 2)\n",
    "* Gulf Coast (PADD 3)\n",
    "* Rocky Mountain (PADD 4)\n",
    "* West Coast (PADD 5)\n",
    "* West Coast less California\n",
    "* _California_\n",
    "* _Colorado_\n",
    "* _Florida_\n",
    "* _Massachusetts_\n",
    "* _Minnesota_\n",
    "* _New York_\n",
    "* _Ohio_\n",
    "* _Texas_\n",
    "* _Washington_\n",
    "* Boston\n",
    "* Chicago\n",
    "* Cleveland\n",
    "* Denver\n",
    "* Houston\n",
    "* Los Angeles\n",
    "* Miami\n",
    "* New York City\n",
    "* San Francisco\n",
    "* Seattle\n",
    "\n",
    "This Notebook applies queries by state so we will only use the state data for the 9 states in italic"
   ]
  },
  {
   "cell_type": "markdown",
   "metadata": {},
   "source": [
    "###### Set up the States to be Queried"
   ]
  },
  {
   "cell_type": "code",
   "execution_count": null,
   "metadata": {},
   "outputs": [],
   "source": [
    "eia_states = ['CA', 'CO', 'FL', 'MA', 'MN', 'NY', 'OH', 'TX', 'WA']"
   ]
  },
  {
   "cell_type": "markdown",
   "metadata": {},
   "source": [
    "#### Average gas prices over all of USA"
   ]
  },
  {
   "cell_type": "markdown",
   "metadata": {},
   "source": [
    "#### Loop through API Queries and chart by State"
   ]
  },
  {
   "cell_type": "code",
   "execution_count": null,
   "metadata": {},
   "outputs": [],
   "source": [
    "# # states\n",
    "by_city_df = pd.DataFrame(columns=['Date', 'Average Price'])\n",
    "\n",
    "for state in eia_states:\n",
    "    #print(state)\n",
    "    series_id = f'PET.EMM_EPM0_PTE_S{state}_DPG.M' \n",
    "#     print(series_id)\n",
    "\n",
    "    url = f\"http://api.eia.gov/series/?api_key={eia_key}&series_id={series_id}\"\n",
    "    #print(url)\n",
    "    response = requests.get(url).json()\n",
    "#     #print(response)\n",
    "#     #print(response.keys())   # response and series\n",
    "\n",
    "    chart_title = response['series'][0]['name']\n",
    "    chart_data  = response['series'][0]['data']\n",
    "    #convert to dataframe\n",
    "    prices_df = pd.DataFrame(chart_data, columns=['Date', 'Average Price'])\n",
    "#   Convert to Date - overwriting date string\n",
    "    prices_df['Date'] = pd.to_datetime(pd.Series(prices_df['Date']), format=\"%Y%m\")\n",
    "    prices_df = prices_df[prices_df['Date']>=start_date]\n",
    "    prices_df = prices_df[prices_df['Date']<end_date]\n",
    "\n",
    "# and PLOT \n",
    "\n",
    "    by_city_df  = by_city_df.merge(prices_df, on='Date',how='outer')\n",
    "    by_city_df  = by_city_df.rename(columns={\"Average Price_y\": state})\n",
    "    by_city_df  = by_city_df.rename(columns={\"Average Price_x\": state})\n",
    "    by_city_df  = by_city_df.rename(columns={\"Average Price\": state})\n",
    "\n",
    "by_city_df=by_city_df.dropna(how='all', axis=1)\n",
    "\n",
    "by_city_df"
   ]
  },
  {
   "cell_type": "code",
   "execution_count": null,
   "metadata": {},
   "outputs": [],
   "source": [
    "df = by_city_df\n",
    "labels = df.columns[1:,]\n",
    "fig = px.line(df, x=\"Date\", y=\"CA\", \n",
    "              title=f\"Average Montly Gas Price by State ({start_date.date()} to {end_date.date()}) \")\n",
    "for col in df.columns[1:,]:\n",
    "    #print(col)\n",
    "    fig.add_scatter(x=df['Date'],y=df[col], mode=\"lines\", name=col)\n",
    "fig"
   ]
  },
  {
   "cell_type": "markdown",
   "metadata": {},
   "source": [
    "#### END GAS Data Gathering"
   ]
  },
  {
   "cell_type": "markdown",
   "metadata": {},
   "source": [
    "## Do Monthly Gas Prices Influence The Number of National Park Visitor "
   ]
  },
  {
   "cell_type": "code",
   "execution_count": null,
   "metadata": {},
   "outputs": [],
   "source": [
    "# read in my file from previous notebook "
   ]
  },
  {
   "cell_type": "code",
   "execution_count": null,
   "metadata": {},
   "outputs": [],
   "source": [
    "# Pull the visitor data for the states of interest\n",
    "# Plot visitor data against gas see if correlation\n"
   ]
  },
  {
   "cell_type": "code",
   "execution_count": null,
   "metadata": {},
   "outputs": [],
   "source": [
    "# Read in the csv containing state centroid coordinates\n",
    "centroids = pd.read_csv(\"./Resources/state_centroids.csv\")\n",
    "centroids.head(3)"
   ]
  },
  {
   "cell_type": "code",
   "execution_count": null,
   "metadata": {},
   "outputs": [],
   "source": [
    "# Map State name to State Code\n",
    "# create a dictionary of states and abbreviations\n",
    "us_state_abbrev = {\n",
    "    'Alabama': 'AL',\n",
    "    'Alaska': 'AK',\n",
    "    'Arizona': 'AZ',\n",
    "    'Arkansas': 'AR',\n",
    "    'California': 'CA',\n",
    "    'Colorado': 'CO',\n",
    "    'Connecticut': 'CT',\n",
    "    'Delaware': 'DE',\n",
    "    'District of Columbia': 'DC',\n",
    "    'Florida': 'FL',\n",
    "    'Georgia': 'GA',\n",
    "    'Hawaii': 'HI',\n",
    "    'Idaho': 'ID',\n",
    "    'Illinois': 'IL',\n",
    "    'Indiana': 'IN',\n",
    "    'Iowa': 'IA',\n",
    "    'Kansas': 'KS',\n",
    "    'Kentucky': 'KY',\n",
    "    'Louisiana': 'LA',\n",
    "    'Maine': 'ME',\n",
    "    'Maryland': 'MD',\n",
    "    'Massachusetts': 'MA',\n",
    "    'Michigan': 'MI',\n",
    "    'Minnesota': 'MN',\n",
    "    'Mississippi': 'MS',\n",
    "    'Missouri': 'MO',\n",
    "    'Montana': 'MT',\n",
    "    'Nebraska': 'NE',\n",
    "    'Nevada': 'NV',\n",
    "    'New Hampshire': 'NH',\n",
    "    'New Jersey': 'NJ',\n",
    "    'New Mexico': 'NM',\n",
    "    'New York': 'NY',\n",
    "    'North Carolina': 'NC',\n",
    "    'North Dakota': 'ND',\n",
    "    'Northern Mariana Islands':'MP',\n",
    "    'Ohio': 'OH',\n",
    "    'Oklahoma': 'OK',\n",
    "    'Oregon': 'OR',\n",
    "    'Palau': 'PW',\n",
    "    'Pennsylvania': 'PA',\n",
    "    'Puerto Rico': 'PR',\n",
    "    'Rhode Island': 'RI',\n",
    "    'South Carolina': 'SC',\n",
    "    'South Dakota': 'SD',\n",
    "    'Tennessee': 'TN',\n",
    "    'Texas': 'TX',\n",
    "    'Utah': 'UT',\n",
    "    'Vermont': 'VT',\n",
    "    'Virgin Islands': 'VI',\n",
    "    'Virginia': 'VA',\n",
    "    'Washington': 'WA',\n",
    "    'West Virginia': 'WV',\n",
    "    'Wisconsin': 'WI',\n",
    "    'Wyoming': 'WY',\n",
    "}\n",
    "### Make a dict the other way around if needed\n",
    "# abbrev_us_state = dict(map(reversed, us_state_abbrev.items()))\n"
   ]
  },
  {
   "cell_type": "code",
   "execution_count": null,
   "metadata": {},
   "outputs": [],
   "source": [
    "# Replace centroids full State with its abbreviation \n",
    "centroids = centroids.replace({\"State\": us_state_abbrev})\n",
    "#centroids"
   ]
  },
  {
   "cell_type": "code",
   "execution_count": null,
   "metadata": {},
   "outputs": [],
   "source": [
    "gas_states_df = centroids[centroids['State'].isin(eia_states)].reset_index()\n",
    "gas_states_df = gas_states_df.drop('index', axis=1)\n",
    "gas_states_df"
   ]
  },
  {
   "cell_type": "code",
   "execution_count": null,
   "metadata": {},
   "outputs": [],
   "source": [
    "## Get the parks in the states of interest\n",
    "parks_data = pd.read_csv(\"./Resources/state_park_visitor_by_month_and_population.csv\")\n",
    "parks_data.head(2)"
   ]
  },
  {
   "cell_type": "code",
   "execution_count": null,
   "metadata": {},
   "outputs": [],
   "source": [
    "# Remove parks in states we are not using \n",
    "park_states_df = parks_data[parks_data['StateCode'].isin(eia_states)].reset_index()\n",
    "park_states_df = park_states_df.drop('index', axis=1)\n",
    "park_states_df"
   ]
  },
  {
   "cell_type": "markdown",
   "metadata": {},
   "source": [
    "### PLAYING WITH PLOTLY "
   ]
  },
  {
   "cell_type": "code",
   "execution_count": null,
   "metadata": {},
   "outputs": [],
   "source": [
    "df = park_states_df\n",
    "labels = df.columns[1:,]\n",
    "fig = px.line(df, x=\"Month\", y=\"Visitors\", \n",
    "              title=f\"Average Montly Visitors Price by State ({start_date.date()} to {end_date.date()}) \")\n",
    "for col in df.columns[1:,]:\n",
    "    #print(col)\n",
    "    fig.add_scatter(x=df['Date'],y=df[col], mode=\"lines\", name=col)\n"
   ]
  },
  {
   "cell_type": "code",
   "execution_count": null,
   "metadata": {},
   "outputs": [],
   "source": [
    "fig"
   ]
  },
  {
   "cell_type": "code",
   "execution_count": null,
   "metadata": {},
   "outputs": [],
   "source": [
    "romo = park_states_df[park_states_df[\"UnitCode\"]=='ROMO']['Visitors']\n",
    "romo\n",
    "fig = px.scatter(x=[0, 1, 2, 3, 4, 5, 6, 7, 8, 9, 10, 11], y=romo)\n",
    "\n",
    "for unitcode in park_states_df[\"UnitCode\"]:\n",
    "    #print(col)\n",
    "    y_values =  park_states_df[park_states_df[\"UnitCode\"]==unitcode]['Visitors']\n",
    "    fig.add_scatter(x=[0, 1, 2, 3, 4, 5, 6, 7, 8, 9, 10, 11],y=y_values, mode=\"lines\", name=col)\n",
    "fig\n",
    "\n",
    "fig.show()"
   ]
  },
  {
   "cell_type": "code",
   "execution_count": null,
   "metadata": {},
   "outputs": [],
   "source": []
  }
 ],
 "metadata": {
  "kernelspec": {
   "display_name": "Python 3",
   "language": "python",
   "name": "python3"
  },
  "language_info": {
   "codemirror_mode": {
    "name": "ipython",
    "version": 3
   },
   "file_extension": ".py",
   "mimetype": "text/x-python",
   "name": "python",
   "nbconvert_exporter": "python",
   "pygments_lexer": "ipython3",
   "version": "3.7.6"
  }
 },
 "nbformat": 4,
 "nbformat_minor": 4
}
