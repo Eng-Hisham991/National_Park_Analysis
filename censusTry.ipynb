{
 "cells": [
  {
   "cell_type": "markdown",
   "metadata": {},
   "source": [
    "#### Set up Dependencies and import any keys needed"
   ]
  },
  {
   "cell_type": "code",
   "execution_count": 1,
   "metadata": {},
   "outputs": [
    {
     "name": "stdout",
     "output_type": "stream",
     "text": [
      "95abebd4884337a93dda412e59cda738\n"
     ]
    }
   ],
   "source": [
    "\n",
    "# Dependencies and Setup\n",
    "import matplotlib.pyplot as plt\n",
    "import pandas as pd\n",
    "import numpy as np\n",
    "import requests\n",
    "import json\n",
    "import os\n",
    "import gmaps \n",
    "import us\n",
    "\n",
    "from census import Census\n",
    "# Import API key\n",
    "from api_keys import g_key\n",
    "from api_keys import weather_api_key\n",
    "from api_keys import gas_api_key\n",
    "from api_keys import eia_key\n",
    "from api_keys import census_api_key\n",
    "from api_keys import nps_key\n",
    "\n",
    "#from config import census_api\n",
    "#c = Census(census_api)\n",
    "c = Census(census_api_key)\n",
    "print (eia_key)"
   ]
  },
  {
   "cell_type": "markdown",
   "metadata": {},
   "source": [
    "##### set up West States "
   ]
  },
  {
   "cell_type": "code",
   "execution_count": 2,
   "metadata": {},
   "outputs": [
    {
     "name": "stdout",
     "output_type": "stream",
     "text": [
      "https://developer.nps.gov/api/v1/parks?parkCode=acad&api_key=parks_key\n"
     ]
    }
   ],
   "source": [
    "park = 'acad'\n",
    "url = f'https://developer.nps.gov/api/v1/parks?parkCode={park}&api_key=parks_key'\n",
    "print(url)"
   ]
  },
  {
   "cell_type": "code",
   "execution_count": 3,
   "metadata": {},
   "outputs": [],
   "source": [
    "\n",
    "West = ['Colorado', 'Wyoming', 'Montana', 'Idaho', 'Washington', 'Oregon', 'Utah', 'Nevada', 'California', 'Alaska', 'Hawaii']\n",
    "\n"
   ]
  },
  {
   "cell_type": "markdown",
   "metadata": {},
   "source": [
    "##### Make a call to census data to pull info for all states, put into df, rename columns\n",
    "##### May not need but put it in a csv just in case"
   ]
  },
  {
   "cell_type": "code",
   "execution_count": 4,
   "metadata": {},
   "outputs": [
    {
     "data": {
      "text/html": [
       "<div>\n",
       "<style scoped>\n",
       "    .dataframe tbody tr th:only-of-type {\n",
       "        vertical-align: middle;\n",
       "    }\n",
       "\n",
       "    .dataframe tbody tr th {\n",
       "        vertical-align: top;\n",
       "    }\n",
       "\n",
       "    .dataframe thead th {\n",
       "        text-align: right;\n",
       "    }\n",
       "</style>\n",
       "<table border=\"1\" class=\"dataframe\">\n",
       "  <thead>\n",
       "    <tr style=\"text-align: right;\">\n",
       "      <th></th>\n",
       "      <th>Name</th>\n",
       "      <th>Household Income</th>\n",
       "      <th>Population</th>\n",
       "      <th>Median Age</th>\n",
       "      <th>Per Capita Income</th>\n",
       "      <th>Poverty Count</th>\n",
       "      <th>Unemployment Count</th>\n",
       "      <th>State</th>\n",
       "    </tr>\n",
       "  </thead>\n",
       "  <tbody>\n",
       "    <tr>\n",
       "      <th>0</th>\n",
       "      <td>Puerto Rico</td>\n",
       "      <td>19775.0</td>\n",
       "      <td>3468963.0</td>\n",
       "      <td>40.1</td>\n",
       "      <td>12081.0</td>\n",
       "      <td>1543220.0</td>\n",
       "      <td>220597.0</td>\n",
       "      <td>72</td>\n",
       "    </tr>\n",
       "    <tr>\n",
       "      <th>1</th>\n",
       "      <td>Alabama</td>\n",
       "      <td>46472.0</td>\n",
       "      <td>4850771.0</td>\n",
       "      <td>38.7</td>\n",
       "      <td>25746.0</td>\n",
       "      <td>849699.0</td>\n",
       "      <td>165391.0</td>\n",
       "      <td>01</td>\n",
       "    </tr>\n",
       "    <tr>\n",
       "      <th>2</th>\n",
       "      <td>Alaska</td>\n",
       "      <td>76114.0</td>\n",
       "      <td>738565.0</td>\n",
       "      <td>33.9</td>\n",
       "      <td>35065.0</td>\n",
       "      <td>73380.0</td>\n",
       "      <td>29548.0</td>\n",
       "      <td>02</td>\n",
       "    </tr>\n",
       "    <tr>\n",
       "      <th>3</th>\n",
       "      <td>Arizona</td>\n",
       "      <td>53510.0</td>\n",
       "      <td>6809946.0</td>\n",
       "      <td>37.2</td>\n",
       "      <td>27964.0</td>\n",
       "      <td>1128046.0</td>\n",
       "      <td>225911.0</td>\n",
       "      <td>04</td>\n",
       "    </tr>\n",
       "    <tr>\n",
       "      <th>4</th>\n",
       "      <td>Arkansas</td>\n",
       "      <td>43813.0</td>\n",
       "      <td>2977944.0</td>\n",
       "      <td>37.9</td>\n",
       "      <td>24426.0</td>\n",
       "      <td>524211.0</td>\n",
       "      <td>85128.0</td>\n",
       "      <td>05</td>\n",
       "    </tr>\n",
       "  </tbody>\n",
       "</table>\n",
       "</div>"
      ],
      "text/plain": [
       "          Name  Household Income  Population  Median Age  Per Capita Income  \\\n",
       "0  Puerto Rico           19775.0   3468963.0        40.1            12081.0   \n",
       "1      Alabama           46472.0   4850771.0        38.7            25746.0   \n",
       "2       Alaska           76114.0    738565.0        33.9            35065.0   \n",
       "3      Arizona           53510.0   6809946.0        37.2            27964.0   \n",
       "4     Arkansas           43813.0   2977944.0        37.9            24426.0   \n",
       "\n",
       "   Poverty Count  Unemployment Count State  \n",
       "0      1543220.0            220597.0    72  \n",
       "1       849699.0            165391.0    01  \n",
       "2        73380.0             29548.0    02  \n",
       "3      1128046.0            225911.0    04  \n",
       "4       524211.0             85128.0    05  "
      ]
     },
     "execution_count": 4,
     "metadata": {},
     "output_type": "execute_result"
    }
   ],
   "source": [
    "\n",
    "census_data = c.acs5.get((\"NAME\", \"B19013_001E\", \"B01003_001E\", \"B01002_001E\",\n",
    "                          \"B19301_001E\",\n",
    "                          \"B17001_002E\",\n",
    "                          \"B23025_005E\"), {'for': 'state:*'})\n",
    "\n",
    "\n",
    "\n",
    "#Convert to DataFrame\n",
    "census_pd = pd.DataFrame(census_data)\n",
    "\n",
    "# Column Reordering\n",
    "census_pd = census_pd.rename(columns={\"B01003_001E\": \"Population\",\n",
    "                                      \"B01002_001E\": \"Median Age\",\n",
    "                                      \"B19013_001E\": \"Household Income\",\n",
    "                                      \"B19301_001E\": \"Per Capita Income\",\n",
    "                                      \"B17001_002E\": \"Poverty Count\",\n",
    "                                      \"B23025_005E\": \"Unemployment Count\",\n",
    "                                      \"NAME\": \"Name\", \"state\": \"State\"})\n",
    "\n",
    "\n",
    "#census_pd.head()\n",
    "census_pd.to_csv(\"./output_data/census_data_allstates.csv\", encoding=\"utf-8\", index=False)\n",
    "census_pd.head()"
   ]
  },
  {
   "cell_type": "markdown",
   "metadata": {},
   "source": [
    "##### This file was provided to us in a separate activity\n",
    "##### Gives centroids of each state"
   ]
  },
  {
   "cell_type": "code",
   "execution_count": 5,
   "metadata": {},
   "outputs": [
    {
     "data": {
      "text/html": [
       "<div>\n",
       "<style scoped>\n",
       "    .dataframe tbody tr th:only-of-type {\n",
       "        vertical-align: middle;\n",
       "    }\n",
       "\n",
       "    .dataframe tbody tr th {\n",
       "        vertical-align: top;\n",
       "    }\n",
       "\n",
       "    .dataframe thead th {\n",
       "        text-align: right;\n",
       "    }\n",
       "</style>\n",
       "<table border=\"1\" class=\"dataframe\">\n",
       "  <thead>\n",
       "    <tr style=\"text-align: right;\">\n",
       "      <th></th>\n",
       "      <th>State</th>\n",
       "      <th>Latitude</th>\n",
       "      <th>Longitude</th>\n",
       "    </tr>\n",
       "  </thead>\n",
       "  <tbody>\n",
       "    <tr>\n",
       "      <th>0</th>\n",
       "      <td>Alabama</td>\n",
       "      <td>32.7794</td>\n",
       "      <td>-86.8287</td>\n",
       "    </tr>\n",
       "    <tr>\n",
       "      <th>1</th>\n",
       "      <td>Alaska</td>\n",
       "      <td>64.0685</td>\n",
       "      <td>-152.2782</td>\n",
       "    </tr>\n",
       "    <tr>\n",
       "      <th>2</th>\n",
       "      <td>Arizona</td>\n",
       "      <td>34.2744</td>\n",
       "      <td>-111.6602</td>\n",
       "    </tr>\n",
       "    <tr>\n",
       "      <th>3</th>\n",
       "      <td>Arkansas</td>\n",
       "      <td>34.8938</td>\n",
       "      <td>-92.4426</td>\n",
       "    </tr>\n",
       "    <tr>\n",
       "      <th>4</th>\n",
       "      <td>California</td>\n",
       "      <td>37.1841</td>\n",
       "      <td>-119.4696</td>\n",
       "    </tr>\n",
       "  </tbody>\n",
       "</table>\n",
       "</div>"
      ],
      "text/plain": [
       "        State  Latitude  Longitude\n",
       "0     Alabama   32.7794   -86.8287\n",
       "1      Alaska   64.0685  -152.2782\n",
       "2     Arizona   34.2744  -111.6602\n",
       "3    Arkansas   34.8938   -92.4426\n",
       "4  California   37.1841  -119.4696"
      ]
     },
     "execution_count": 5,
     "metadata": {},
     "output_type": "execute_result"
    }
   ],
   "source": [
    "# Read in the csv containing state centroid coordinates\n",
    "centroids = pd.read_csv(\"./Resources/state_centroids.csv\")\n",
    "centroids.head()"
   ]
  },
  {
   "cell_type": "code",
   "execution_count": 6,
   "metadata": {},
   "outputs": [],
   "source": [
    "# create a dictionary of states and abbreviations\n",
    "us_state_abbrev = {\n",
    "'Alabama': 'AL', 'Alaska': 'AK', 'Arizona': 'AZ', 'Arkansas': 'AR', 'California': 'CA', 'Colorado': 'CO',\n",
    "'Connecticut': 'CT', 'Delaware': 'DE', 'Florida': 'FL', 'Georgia': 'GA', 'Hawaii': 'HI', 'Idaho': 'ID',\n",
    "'Illinois': 'IL', 'Indiana': 'IN', 'Iowa': 'IA', 'Kansas': 'KS', 'Kentucky': 'KY', 'Louisiana': 'LA',\n",
    "'Maine': 'ME', 'Maryland': 'MD', 'Massachusetts': 'MA', 'Michigan': 'MI', 'Minnesota': 'MN', 'Mississippi': 'MS',\n",
    "'Missouri': 'MO', 'Montana': 'MT', 'Nebraska': 'NE', 'Nevada': 'NV', 'New Hampshire': 'NH', 'New Jersey': 'NJ',\n",
    "'New Mexico': 'NM', 'New York': 'NY', 'North Carolina': 'NC', 'North Dakota': 'ND', 'Ohio': 'OH', 'Oklahoma': 'OK',\n",
    "'Oregon': 'OR', 'Pennsylvania': 'PA', 'Rhode Island': 'RI', 'South Carolina': 'SC', 'South Dakota': 'SD',\n",
    "'Tennessee': 'TN', 'Texas': 'TX', 'Utah': 'UT', 'Vermont': 'VT', 'Virginia': 'VA', 'Washington': 'WA',\n",
    "'West Virginia': 'WV', 'Wisconsin': 'WI', 'Wyoming': 'WY'}\n",
    "\n"
   ]
  },
  {
   "cell_type": "markdown",
   "metadata": {},
   "source": [
    "##### Merge the centroids and census data to get a lat/lon for each state"
   ]
  },
  {
   "cell_type": "code",
   "execution_count": 7,
   "metadata": {},
   "outputs": [
    {
     "data": {
      "text/html": [
       "<div>\n",
       "<style scoped>\n",
       "    .dataframe tbody tr th:only-of-type {\n",
       "        vertical-align: middle;\n",
       "    }\n",
       "\n",
       "    .dataframe tbody tr th {\n",
       "        vertical-align: top;\n",
       "    }\n",
       "\n",
       "    .dataframe thead th {\n",
       "        text-align: right;\n",
       "    }\n",
       "</style>\n",
       "<table border=\"1\" class=\"dataframe\">\n",
       "  <thead>\n",
       "    <tr style=\"text-align: right;\">\n",
       "      <th></th>\n",
       "      <th>Name</th>\n",
       "      <th>Household Income</th>\n",
       "      <th>Population</th>\n",
       "      <th>Median Age</th>\n",
       "      <th>Per Capita Income</th>\n",
       "      <th>Poverty Count</th>\n",
       "      <th>Unemployment Count</th>\n",
       "      <th>State_x</th>\n",
       "      <th>State_y</th>\n",
       "      <th>Latitude</th>\n",
       "      <th>Longitude</th>\n",
       "    </tr>\n",
       "  </thead>\n",
       "  <tbody>\n",
       "    <tr>\n",
       "      <th>0</th>\n",
       "      <td>Puerto Rico</td>\n",
       "      <td>19775.0</td>\n",
       "      <td>3468963.0</td>\n",
       "      <td>40.1</td>\n",
       "      <td>12081.0</td>\n",
       "      <td>1543220.0</td>\n",
       "      <td>220597.0</td>\n",
       "      <td>72</td>\n",
       "      <td>Puerto Rico</td>\n",
       "      <td>18.2001</td>\n",
       "      <td>-66.6645</td>\n",
       "    </tr>\n",
       "    <tr>\n",
       "      <th>1</th>\n",
       "      <td>Alabama</td>\n",
       "      <td>46472.0</td>\n",
       "      <td>4850771.0</td>\n",
       "      <td>38.7</td>\n",
       "      <td>25746.0</td>\n",
       "      <td>849699.0</td>\n",
       "      <td>165391.0</td>\n",
       "      <td>01</td>\n",
       "      <td>AL</td>\n",
       "      <td>32.7794</td>\n",
       "      <td>-86.8287</td>\n",
       "    </tr>\n",
       "    <tr>\n",
       "      <th>2</th>\n",
       "      <td>Alaska</td>\n",
       "      <td>76114.0</td>\n",
       "      <td>738565.0</td>\n",
       "      <td>33.9</td>\n",
       "      <td>35065.0</td>\n",
       "      <td>73380.0</td>\n",
       "      <td>29548.0</td>\n",
       "      <td>02</td>\n",
       "      <td>AK</td>\n",
       "      <td>64.0685</td>\n",
       "      <td>-152.2782</td>\n",
       "    </tr>\n",
       "    <tr>\n",
       "      <th>3</th>\n",
       "      <td>Arizona</td>\n",
       "      <td>53510.0</td>\n",
       "      <td>6809946.0</td>\n",
       "      <td>37.2</td>\n",
       "      <td>27964.0</td>\n",
       "      <td>1128046.0</td>\n",
       "      <td>225911.0</td>\n",
       "      <td>04</td>\n",
       "      <td>AZ</td>\n",
       "      <td>34.2744</td>\n",
       "      <td>-111.6602</td>\n",
       "    </tr>\n",
       "    <tr>\n",
       "      <th>4</th>\n",
       "      <td>Arkansas</td>\n",
       "      <td>43813.0</td>\n",
       "      <td>2977944.0</td>\n",
       "      <td>37.9</td>\n",
       "      <td>24426.0</td>\n",
       "      <td>524211.0</td>\n",
       "      <td>85128.0</td>\n",
       "      <td>05</td>\n",
       "      <td>AR</td>\n",
       "      <td>34.8938</td>\n",
       "      <td>-92.4426</td>\n",
       "    </tr>\n",
       "  </tbody>\n",
       "</table>\n",
       "</div>"
      ],
      "text/plain": [
       "          Name  Household Income  Population  Median Age  Per Capita Income  \\\n",
       "0  Puerto Rico           19775.0   3468963.0        40.1            12081.0   \n",
       "1      Alabama           46472.0   4850771.0        38.7            25746.0   \n",
       "2       Alaska           76114.0    738565.0        33.9            35065.0   \n",
       "3      Arizona           53510.0   6809946.0        37.2            27964.0   \n",
       "4     Arkansas           43813.0   2977944.0        37.9            24426.0   \n",
       "\n",
       "   Poverty Count  Unemployment Count State_x      State_y  Latitude  Longitude  \n",
       "0      1543220.0            220597.0      72  Puerto Rico   18.2001   -66.6645  \n",
       "1       849699.0            165391.0      01           AL   32.7794   -86.8287  \n",
       "2        73380.0             29548.0      02           AK   64.0685  -152.2782  \n",
       "3      1128046.0            225911.0      04           AZ   34.2744  -111.6602  \n",
       "4       524211.0             85128.0      05           AR   34.8938   -92.4426  "
      ]
     },
     "execution_count": 7,
     "metadata": {},
     "output_type": "execute_result"
    }
   ],
   "source": [
    "# Merge the datasets using the sate columns\n",
    "census_data = pd.merge(census_pd, centroids, how=\"left\", left_on=\"Name\", right_on=\"State\")\n",
    "\n",
    "# Save the updated dataframe as a csv\n",
    "census_data.to_csv(\"./Resources/state_census_data.csv\", encoding=\"utf-8\", index=False)\n",
    "\n",
    "#df['State'] = df['State'].map(us_state_abbrev).fillna(df['State'])\n",
    "\n",
    "census_data['State_y'] = census_data['State_y'].map(us_state_abbrev).fillna(census_data['State_y'])\n",
    "census_data.rename(columns={'State_y':'State Code'})\n",
    "census_data.head()"
   ]
  },
  {
   "cell_type": "markdown",
   "metadata": {},
   "source": [
    "##### Grab population data and map it"
   ]
  },
  {
   "cell_type": "code",
   "execution_count": 8,
   "metadata": {},
   "outputs": [],
   "source": [
    "# Convert pop to a list\n",
    "population = census_data[\"Population\"].tolist()"
   ]
  },
  {
   "cell_type": "code",
   "execution_count": 9,
   "metadata": {},
   "outputs": [
    {
     "data": {
      "application/vnd.jupyter.widget-view+json": {
       "model_id": "a7ceba81dc1841df8fb2f626dc2ffcf6",
       "version_major": 2,
       "version_minor": 0
      },
      "text/plain": [
       "Figure(layout=FigureLayout(height='420px'))"
      ]
     },
     "metadata": {},
     "output_type": "display_data"
    }
   ],
   "source": [
    "# Create a map using state centroid coordinates to set markers\n",
    "marker_locations = census_data[['Latitude', 'Longitude']]\n",
    "\n",
    "# Create a marker_layer using the poverty list to fill the info box\n",
    "fig = gmaps.figure()\n",
    "markers = gmaps.marker_layer(marker_locations,\n",
    "    info_box_content=[f\"Population: {pop}\" for pop in population])\n",
    "fig.add_layer(markers)\n",
    "fig"
   ]
  },
  {
   "cell_type": "markdown",
   "metadata": {},
   "source": [
    "##### Pull out State Population Lat Lon"
   ]
  },
  {
   "cell_type": "code",
   "execution_count": 10,
   "metadata": {},
   "outputs": [
    {
     "data": {
      "text/html": [
       "<div>\n",
       "<style scoped>\n",
       "    .dataframe tbody tr th:only-of-type {\n",
       "        vertical-align: middle;\n",
       "    }\n",
       "\n",
       "    .dataframe tbody tr th {\n",
       "        vertical-align: top;\n",
       "    }\n",
       "\n",
       "    .dataframe thead th {\n",
       "        text-align: right;\n",
       "    }\n",
       "</style>\n",
       "<table border=\"1\" class=\"dataframe\">\n",
       "  <thead>\n",
       "    <tr style=\"text-align: right;\">\n",
       "      <th></th>\n",
       "      <th>Name</th>\n",
       "      <th>Population</th>\n",
       "      <th>Latitude</th>\n",
       "      <th>Longitude</th>\n",
       "      <th>StateCode</th>\n",
       "    </tr>\n",
       "  </thead>\n",
       "  <tbody>\n",
       "    <tr>\n",
       "      <th>0</th>\n",
       "      <td>Puerto Rico</td>\n",
       "      <td>3468963.0</td>\n",
       "      <td>18.2001</td>\n",
       "      <td>-66.6645</td>\n",
       "      <td>Puerto Rico</td>\n",
       "    </tr>\n",
       "    <tr>\n",
       "      <th>1</th>\n",
       "      <td>Alabama</td>\n",
       "      <td>4850771.0</td>\n",
       "      <td>32.7794</td>\n",
       "      <td>-86.8287</td>\n",
       "      <td>AL</td>\n",
       "    </tr>\n",
       "    <tr>\n",
       "      <th>2</th>\n",
       "      <td>Alaska</td>\n",
       "      <td>738565.0</td>\n",
       "      <td>64.0685</td>\n",
       "      <td>-152.2782</td>\n",
       "      <td>AK</td>\n",
       "    </tr>\n",
       "    <tr>\n",
       "      <th>3</th>\n",
       "      <td>Arizona</td>\n",
       "      <td>6809946.0</td>\n",
       "      <td>34.2744</td>\n",
       "      <td>-111.6602</td>\n",
       "      <td>AZ</td>\n",
       "    </tr>\n",
       "    <tr>\n",
       "      <th>4</th>\n",
       "      <td>Arkansas</td>\n",
       "      <td>2977944.0</td>\n",
       "      <td>34.8938</td>\n",
       "      <td>-92.4426</td>\n",
       "      <td>AR</td>\n",
       "    </tr>\n",
       "    <tr>\n",
       "      <th>5</th>\n",
       "      <td>California</td>\n",
       "      <td>38982847.0</td>\n",
       "      <td>37.1841</td>\n",
       "      <td>-119.4696</td>\n",
       "      <td>CA</td>\n",
       "    </tr>\n",
       "    <tr>\n",
       "      <th>6</th>\n",
       "      <td>Colorado</td>\n",
       "      <td>5436519.0</td>\n",
       "      <td>38.9972</td>\n",
       "      <td>-105.5478</td>\n",
       "      <td>CO</td>\n",
       "    </tr>\n",
       "    <tr>\n",
       "      <th>7</th>\n",
       "      <td>Connecticut</td>\n",
       "      <td>3594478.0</td>\n",
       "      <td>41.6219</td>\n",
       "      <td>-72.7273</td>\n",
       "      <td>CT</td>\n",
       "    </tr>\n",
       "    <tr>\n",
       "      <th>8</th>\n",
       "      <td>District of Columbia</td>\n",
       "      <td>672391.0</td>\n",
       "      <td>38.9101</td>\n",
       "      <td>-77.0147</td>\n",
       "      <td>District of Columbia</td>\n",
       "    </tr>\n",
       "    <tr>\n",
       "      <th>9</th>\n",
       "      <td>Delaware</td>\n",
       "      <td>943732.0</td>\n",
       "      <td>38.9896</td>\n",
       "      <td>-75.5050</td>\n",
       "      <td>DE</td>\n",
       "    </tr>\n",
       "    <tr>\n",
       "      <th>10</th>\n",
       "      <td>Florida</td>\n",
       "      <td>20278447.0</td>\n",
       "      <td>28.6305</td>\n",
       "      <td>-82.4497</td>\n",
       "      <td>FL</td>\n",
       "    </tr>\n",
       "    <tr>\n",
       "      <th>11</th>\n",
       "      <td>Georgia</td>\n",
       "      <td>10201635.0</td>\n",
       "      <td>32.6415</td>\n",
       "      <td>-83.4426</td>\n",
       "      <td>GA</td>\n",
       "    </tr>\n",
       "    <tr>\n",
       "      <th>12</th>\n",
       "      <td>Hawaii</td>\n",
       "      <td>1421658.0</td>\n",
       "      <td>20.2927</td>\n",
       "      <td>-156.3737</td>\n",
       "      <td>HI</td>\n",
       "    </tr>\n",
       "    <tr>\n",
       "      <th>13</th>\n",
       "      <td>Idaho</td>\n",
       "      <td>1657375.0</td>\n",
       "      <td>44.3509</td>\n",
       "      <td>-114.6130</td>\n",
       "      <td>ID</td>\n",
       "    </tr>\n",
       "    <tr>\n",
       "      <th>14</th>\n",
       "      <td>Illinois</td>\n",
       "      <td>12854526.0</td>\n",
       "      <td>40.0417</td>\n",
       "      <td>-89.1965</td>\n",
       "      <td>IL</td>\n",
       "    </tr>\n",
       "    <tr>\n",
       "      <th>15</th>\n",
       "      <td>Indiana</td>\n",
       "      <td>6614418.0</td>\n",
       "      <td>39.8942</td>\n",
       "      <td>-86.2816</td>\n",
       "      <td>IN</td>\n",
       "    </tr>\n",
       "    <tr>\n",
       "      <th>16</th>\n",
       "      <td>Iowa</td>\n",
       "      <td>3118102.0</td>\n",
       "      <td>42.0751</td>\n",
       "      <td>-93.4960</td>\n",
       "      <td>IA</td>\n",
       "    </tr>\n",
       "    <tr>\n",
       "      <th>17</th>\n",
       "      <td>Kansas</td>\n",
       "      <td>2903820.0</td>\n",
       "      <td>38.4937</td>\n",
       "      <td>-98.3804</td>\n",
       "      <td>KS</td>\n",
       "    </tr>\n",
       "    <tr>\n",
       "      <th>18</th>\n",
       "      <td>Kentucky</td>\n",
       "      <td>4424376.0</td>\n",
       "      <td>37.5347</td>\n",
       "      <td>-85.3021</td>\n",
       "      <td>KY</td>\n",
       "    </tr>\n",
       "    <tr>\n",
       "      <th>19</th>\n",
       "      <td>Maine</td>\n",
       "      <td>1330158.0</td>\n",
       "      <td>45.3695</td>\n",
       "      <td>-69.2428</td>\n",
       "      <td>ME</td>\n",
       "    </tr>\n",
       "    <tr>\n",
       "      <th>20</th>\n",
       "      <td>Louisiana</td>\n",
       "      <td>4663461.0</td>\n",
       "      <td>31.0689</td>\n",
       "      <td>-91.9968</td>\n",
       "      <td>LA</td>\n",
       "    </tr>\n",
       "    <tr>\n",
       "      <th>21</th>\n",
       "      <td>Massachusetts</td>\n",
       "      <td>6789319.0</td>\n",
       "      <td>42.2596</td>\n",
       "      <td>-71.8083</td>\n",
       "      <td>MA</td>\n",
       "    </tr>\n",
       "    <tr>\n",
       "      <th>22</th>\n",
       "      <td>Maryland</td>\n",
       "      <td>5996079.0</td>\n",
       "      <td>39.0550</td>\n",
       "      <td>-76.7909</td>\n",
       "      <td>MD</td>\n",
       "    </tr>\n",
       "    <tr>\n",
       "      <th>23</th>\n",
       "      <td>Michigan</td>\n",
       "      <td>9925568.0</td>\n",
       "      <td>44.3467</td>\n",
       "      <td>-85.4102</td>\n",
       "      <td>MI</td>\n",
       "    </tr>\n",
       "    <tr>\n",
       "      <th>24</th>\n",
       "      <td>Minnesota</td>\n",
       "      <td>5490726.0</td>\n",
       "      <td>46.2807</td>\n",
       "      <td>-94.3053</td>\n",
       "      <td>MN</td>\n",
       "    </tr>\n",
       "    <tr>\n",
       "      <th>25</th>\n",
       "      <td>Mississippi</td>\n",
       "      <td>2986220.0</td>\n",
       "      <td>32.7364</td>\n",
       "      <td>-89.6678</td>\n",
       "      <td>MS</td>\n",
       "    </tr>\n",
       "    <tr>\n",
       "      <th>26</th>\n",
       "      <td>Missouri</td>\n",
       "      <td>6075300.0</td>\n",
       "      <td>38.3566</td>\n",
       "      <td>-92.4580</td>\n",
       "      <td>MO</td>\n",
       "    </tr>\n",
       "    <tr>\n",
       "      <th>27</th>\n",
       "      <td>Montana</td>\n",
       "      <td>1029862.0</td>\n",
       "      <td>47.0527</td>\n",
       "      <td>-109.6333</td>\n",
       "      <td>MT</td>\n",
       "    </tr>\n",
       "    <tr>\n",
       "      <th>28</th>\n",
       "      <td>Nebraska</td>\n",
       "      <td>1893921.0</td>\n",
       "      <td>41.5378</td>\n",
       "      <td>-99.7951</td>\n",
       "      <td>NE</td>\n",
       "    </tr>\n",
       "    <tr>\n",
       "      <th>29</th>\n",
       "      <td>New Hampshire</td>\n",
       "      <td>1331848.0</td>\n",
       "      <td>43.6805</td>\n",
       "      <td>-71.5811</td>\n",
       "      <td>NH</td>\n",
       "    </tr>\n",
       "    <tr>\n",
       "      <th>30</th>\n",
       "      <td>Nevada</td>\n",
       "      <td>2887725.0</td>\n",
       "      <td>39.3289</td>\n",
       "      <td>-116.6312</td>\n",
       "      <td>NV</td>\n",
       "    </tr>\n",
       "    <tr>\n",
       "      <th>31</th>\n",
       "      <td>New Jersey</td>\n",
       "      <td>8960161.0</td>\n",
       "      <td>40.1907</td>\n",
       "      <td>-74.6728</td>\n",
       "      <td>NJ</td>\n",
       "    </tr>\n",
       "    <tr>\n",
       "      <th>32</th>\n",
       "      <td>New Mexico</td>\n",
       "      <td>2084828.0</td>\n",
       "      <td>34.4071</td>\n",
       "      <td>-106.1126</td>\n",
       "      <td>NM</td>\n",
       "    </tr>\n",
       "    <tr>\n",
       "      <th>33</th>\n",
       "      <td>New York</td>\n",
       "      <td>19798228.0</td>\n",
       "      <td>42.9538</td>\n",
       "      <td>-75.5268</td>\n",
       "      <td>NY</td>\n",
       "    </tr>\n",
       "    <tr>\n",
       "      <th>34</th>\n",
       "      <td>North Carolina</td>\n",
       "      <td>10052564.0</td>\n",
       "      <td>35.5557</td>\n",
       "      <td>-79.3877</td>\n",
       "      <td>NC</td>\n",
       "    </tr>\n",
       "    <tr>\n",
       "      <th>35</th>\n",
       "      <td>North Dakota</td>\n",
       "      <td>745475.0</td>\n",
       "      <td>47.4501</td>\n",
       "      <td>-100.4659</td>\n",
       "      <td>ND</td>\n",
       "    </tr>\n",
       "    <tr>\n",
       "      <th>36</th>\n",
       "      <td>Ohio</td>\n",
       "      <td>11609756.0</td>\n",
       "      <td>40.2862</td>\n",
       "      <td>-82.7937</td>\n",
       "      <td>OH</td>\n",
       "    </tr>\n",
       "    <tr>\n",
       "      <th>37</th>\n",
       "      <td>Oklahoma</td>\n",
       "      <td>3896251.0</td>\n",
       "      <td>35.5889</td>\n",
       "      <td>-97.4943</td>\n",
       "      <td>OK</td>\n",
       "    </tr>\n",
       "    <tr>\n",
       "      <th>38</th>\n",
       "      <td>Oregon</td>\n",
       "      <td>4025127.0</td>\n",
       "      <td>43.9336</td>\n",
       "      <td>-120.5583</td>\n",
       "      <td>OR</td>\n",
       "    </tr>\n",
       "    <tr>\n",
       "      <th>39</th>\n",
       "      <td>Pennsylvania</td>\n",
       "      <td>12790505.0</td>\n",
       "      <td>40.8781</td>\n",
       "      <td>-77.7996</td>\n",
       "      <td>PA</td>\n",
       "    </tr>\n",
       "    <tr>\n",
       "      <th>40</th>\n",
       "      <td>Rhode Island</td>\n",
       "      <td>1056138.0</td>\n",
       "      <td>41.6762</td>\n",
       "      <td>-71.5562</td>\n",
       "      <td>RI</td>\n",
       "    </tr>\n",
       "    <tr>\n",
       "      <th>41</th>\n",
       "      <td>South Carolina</td>\n",
       "      <td>4893444.0</td>\n",
       "      <td>33.9169</td>\n",
       "      <td>-80.8964</td>\n",
       "      <td>SC</td>\n",
       "    </tr>\n",
       "    <tr>\n",
       "      <th>42</th>\n",
       "      <td>South Dakota</td>\n",
       "      <td>855444.0</td>\n",
       "      <td>44.4443</td>\n",
       "      <td>-100.2263</td>\n",
       "      <td>SD</td>\n",
       "    </tr>\n",
       "    <tr>\n",
       "      <th>43</th>\n",
       "      <td>Tennessee</td>\n",
       "      <td>6597381.0</td>\n",
       "      <td>35.8580</td>\n",
       "      <td>-86.3505</td>\n",
       "      <td>TN</td>\n",
       "    </tr>\n",
       "    <tr>\n",
       "      <th>44</th>\n",
       "      <td>Texas</td>\n",
       "      <td>27419612.0</td>\n",
       "      <td>31.4757</td>\n",
       "      <td>-99.3312</td>\n",
       "      <td>TX</td>\n",
       "    </tr>\n",
       "    <tr>\n",
       "      <th>45</th>\n",
       "      <td>Utah</td>\n",
       "      <td>2993941.0</td>\n",
       "      <td>39.3055</td>\n",
       "      <td>-111.6703</td>\n",
       "      <td>UT</td>\n",
       "    </tr>\n",
       "    <tr>\n",
       "      <th>46</th>\n",
       "      <td>Vermont</td>\n",
       "      <td>624636.0</td>\n",
       "      <td>44.0687</td>\n",
       "      <td>-72.6658</td>\n",
       "      <td>VT</td>\n",
       "    </tr>\n",
       "    <tr>\n",
       "      <th>47</th>\n",
       "      <td>Virginia</td>\n",
       "      <td>8365952.0</td>\n",
       "      <td>37.5215</td>\n",
       "      <td>-78.8537</td>\n",
       "      <td>VA</td>\n",
       "    </tr>\n",
       "    <tr>\n",
       "      <th>48</th>\n",
       "      <td>West Virginia</td>\n",
       "      <td>1836843.0</td>\n",
       "      <td>38.6409</td>\n",
       "      <td>-80.6227</td>\n",
       "      <td>WV</td>\n",
       "    </tr>\n",
       "    <tr>\n",
       "      <th>49</th>\n",
       "      <td>Washington</td>\n",
       "      <td>7169967.0</td>\n",
       "      <td>47.3826</td>\n",
       "      <td>-120.4472</td>\n",
       "      <td>WA</td>\n",
       "    </tr>\n",
       "    <tr>\n",
       "      <th>50</th>\n",
       "      <td>Wyoming</td>\n",
       "      <td>583200.0</td>\n",
       "      <td>42.9957</td>\n",
       "      <td>-107.5512</td>\n",
       "      <td>WY</td>\n",
       "    </tr>\n",
       "    <tr>\n",
       "      <th>51</th>\n",
       "      <td>Wisconsin</td>\n",
       "      <td>5763217.0</td>\n",
       "      <td>44.6243</td>\n",
       "      <td>-89.9941</td>\n",
       "      <td>WI</td>\n",
       "    </tr>\n",
       "  </tbody>\n",
       "</table>\n",
       "</div>"
      ],
      "text/plain": [
       "                    Name  Population  Latitude  Longitude  \\\n",
       "0            Puerto Rico   3468963.0   18.2001   -66.6645   \n",
       "1                Alabama   4850771.0   32.7794   -86.8287   \n",
       "2                 Alaska    738565.0   64.0685  -152.2782   \n",
       "3                Arizona   6809946.0   34.2744  -111.6602   \n",
       "4               Arkansas   2977944.0   34.8938   -92.4426   \n",
       "5             California  38982847.0   37.1841  -119.4696   \n",
       "6               Colorado   5436519.0   38.9972  -105.5478   \n",
       "7            Connecticut   3594478.0   41.6219   -72.7273   \n",
       "8   District of Columbia    672391.0   38.9101   -77.0147   \n",
       "9               Delaware    943732.0   38.9896   -75.5050   \n",
       "10               Florida  20278447.0   28.6305   -82.4497   \n",
       "11               Georgia  10201635.0   32.6415   -83.4426   \n",
       "12                Hawaii   1421658.0   20.2927  -156.3737   \n",
       "13                 Idaho   1657375.0   44.3509  -114.6130   \n",
       "14              Illinois  12854526.0   40.0417   -89.1965   \n",
       "15               Indiana   6614418.0   39.8942   -86.2816   \n",
       "16                  Iowa   3118102.0   42.0751   -93.4960   \n",
       "17                Kansas   2903820.0   38.4937   -98.3804   \n",
       "18              Kentucky   4424376.0   37.5347   -85.3021   \n",
       "19                 Maine   1330158.0   45.3695   -69.2428   \n",
       "20             Louisiana   4663461.0   31.0689   -91.9968   \n",
       "21         Massachusetts   6789319.0   42.2596   -71.8083   \n",
       "22              Maryland   5996079.0   39.0550   -76.7909   \n",
       "23              Michigan   9925568.0   44.3467   -85.4102   \n",
       "24             Minnesota   5490726.0   46.2807   -94.3053   \n",
       "25           Mississippi   2986220.0   32.7364   -89.6678   \n",
       "26              Missouri   6075300.0   38.3566   -92.4580   \n",
       "27               Montana   1029862.0   47.0527  -109.6333   \n",
       "28              Nebraska   1893921.0   41.5378   -99.7951   \n",
       "29         New Hampshire   1331848.0   43.6805   -71.5811   \n",
       "30                Nevada   2887725.0   39.3289  -116.6312   \n",
       "31            New Jersey   8960161.0   40.1907   -74.6728   \n",
       "32            New Mexico   2084828.0   34.4071  -106.1126   \n",
       "33              New York  19798228.0   42.9538   -75.5268   \n",
       "34        North Carolina  10052564.0   35.5557   -79.3877   \n",
       "35          North Dakota    745475.0   47.4501  -100.4659   \n",
       "36                  Ohio  11609756.0   40.2862   -82.7937   \n",
       "37              Oklahoma   3896251.0   35.5889   -97.4943   \n",
       "38                Oregon   4025127.0   43.9336  -120.5583   \n",
       "39          Pennsylvania  12790505.0   40.8781   -77.7996   \n",
       "40          Rhode Island   1056138.0   41.6762   -71.5562   \n",
       "41        South Carolina   4893444.0   33.9169   -80.8964   \n",
       "42          South Dakota    855444.0   44.4443  -100.2263   \n",
       "43             Tennessee   6597381.0   35.8580   -86.3505   \n",
       "44                 Texas  27419612.0   31.4757   -99.3312   \n",
       "45                  Utah   2993941.0   39.3055  -111.6703   \n",
       "46               Vermont    624636.0   44.0687   -72.6658   \n",
       "47              Virginia   8365952.0   37.5215   -78.8537   \n",
       "48         West Virginia   1836843.0   38.6409   -80.6227   \n",
       "49            Washington   7169967.0   47.3826  -120.4472   \n",
       "50               Wyoming    583200.0   42.9957  -107.5512   \n",
       "51             Wisconsin   5763217.0   44.6243   -89.9941   \n",
       "\n",
       "               StateCode  \n",
       "0            Puerto Rico  \n",
       "1                     AL  \n",
       "2                     AK  \n",
       "3                     AZ  \n",
       "4                     AR  \n",
       "5                     CA  \n",
       "6                     CO  \n",
       "7                     CT  \n",
       "8   District of Columbia  \n",
       "9                     DE  \n",
       "10                    FL  \n",
       "11                    GA  \n",
       "12                    HI  \n",
       "13                    ID  \n",
       "14                    IL  \n",
       "15                    IN  \n",
       "16                    IA  \n",
       "17                    KS  \n",
       "18                    KY  \n",
       "19                    ME  \n",
       "20                    LA  \n",
       "21                    MA  \n",
       "22                    MD  \n",
       "23                    MI  \n",
       "24                    MN  \n",
       "25                    MS  \n",
       "26                    MO  \n",
       "27                    MT  \n",
       "28                    NE  \n",
       "29                    NH  \n",
       "30                    NV  \n",
       "31                    NJ  \n",
       "32                    NM  \n",
       "33                    NY  \n",
       "34                    NC  \n",
       "35                    ND  \n",
       "36                    OH  \n",
       "37                    OK  \n",
       "38                    OR  \n",
       "39                    PA  \n",
       "40                    RI  \n",
       "41                    SC  \n",
       "42                    SD  \n",
       "43                    TN  \n",
       "44                    TX  \n",
       "45                    UT  \n",
       "46                    VT  \n",
       "47                    VA  \n",
       "48                    WV  \n",
       "49                    WA  \n",
       "50                    WY  \n",
       "51                    WI  "
      ]
     },
     "execution_count": 10,
     "metadata": {},
     "output_type": "execute_result"
    }
   ],
   "source": [
    "# Create a datframe with just the data we  want for the population quesion\n",
    "pop_df = census_data[['Name', 'Population', 'Latitude', 'Longitude']].copy()\n",
    "\n",
    "pop_df['StateCode'] = pop_df['Name'].map(us_state_abbrev).fillna(pop_df['Name'])\n",
    "pop_df"
   ]
  },
  {
   "cell_type": "markdown",
   "metadata": {},
   "source": [
    "### Parks Data"
   ]
  },
  {
   "cell_type": "markdown",
   "metadata": {},
   "source": [
    "##### Example request for one park"
   ]
  },
  {
   "cell_type": "code",
   "execution_count": 11,
   "metadata": {},
   "outputs": [],
   "source": [
    "# # Find the parks in each state\n",
    "# park = \"DENA\"\n",
    "# parks_key =\"\"  #NOTE NEED A KEY\n",
    "# url = f\"https://developer.nps.gov/api/v1/parks?parkCode={park}&api_key=parks_key\"\n",
    "\n",
    "# #https://irmaservices.nps.gov/v2/rest/unit/\n",
    "\n",
    "# data = requests.get(url).json()\n",
    "\n",
    "# # Prepare and execute output\n",
    "# print(data[\"data\"][0][\"fullName\"] + \" can be found at \" + data[\"data\"][0][\"latLong\"] + \".\")\n"
   ]
  },
  {
   "cell_type": "code",
   "execution_count": 12,
   "metadata": {},
   "outputs": [
    {
     "data": {
      "text/html": [
       "<div>\n",
       "<style scoped>\n",
       "    .dataframe tbody tr th:only-of-type {\n",
       "        vertical-align: middle;\n",
       "    }\n",
       "\n",
       "    .dataframe tbody tr th {\n",
       "        vertical-align: top;\n",
       "    }\n",
       "\n",
       "    .dataframe thead th {\n",
       "        text-align: right;\n",
       "    }\n",
       "</style>\n",
       "<table border=\"1\" class=\"dataframe\">\n",
       "  <thead>\n",
       "    <tr style=\"text-align: right;\">\n",
       "      <th></th>\n",
       "      <th>FullName</th>\n",
       "      <th>UnitCode</th>\n",
       "      <th>UnitName</th>\n",
       "      <th>StateCode</th>\n",
       "    </tr>\n",
       "  </thead>\n",
       "  <tbody>\n",
       "    <tr>\n",
       "      <th>0</th>\n",
       "      <td>Acadia National Park</td>\n",
       "      <td>ACAD</td>\n",
       "      <td>Acadia</td>\n",
       "      <td>[ME]</td>\n",
       "    </tr>\n",
       "    <tr>\n",
       "      <th>1</th>\n",
       "      <td>Arches National Park</td>\n",
       "      <td>ARCH</td>\n",
       "      <td>Arches</td>\n",
       "      <td>[UT]</td>\n",
       "    </tr>\n",
       "    <tr>\n",
       "      <th>2</th>\n",
       "      <td>Badlands National Park</td>\n",
       "      <td>BADL</td>\n",
       "      <td>Badlands</td>\n",
       "      <td>[SD]</td>\n",
       "    </tr>\n",
       "    <tr>\n",
       "      <th>3</th>\n",
       "      <td>Big Bend National Park</td>\n",
       "      <td>BIBE</td>\n",
       "      <td>Big Bend</td>\n",
       "      <td>[TX]</td>\n",
       "    </tr>\n",
       "    <tr>\n",
       "      <th>4</th>\n",
       "      <td>Biscayne National Park</td>\n",
       "      <td>BISC</td>\n",
       "      <td>Biscayne</td>\n",
       "      <td>[FL]</td>\n",
       "    </tr>\n",
       "    <tr>\n",
       "      <th>...</th>\n",
       "      <td>...</td>\n",
       "      <td>...</td>\n",
       "      <td>...</td>\n",
       "      <td>...</td>\n",
       "    </tr>\n",
       "    <tr>\n",
       "      <th>58</th>\n",
       "      <td>Wind Cave National Park</td>\n",
       "      <td>WICA</td>\n",
       "      <td>Wind Cave</td>\n",
       "      <td>[SD]</td>\n",
       "    </tr>\n",
       "    <tr>\n",
       "      <th>59</th>\n",
       "      <td>Wrangell-St. Elias National Park</td>\n",
       "      <td>WRSG</td>\n",
       "      <td>Wrangell-St. Elias</td>\n",
       "      <td>[AK]</td>\n",
       "    </tr>\n",
       "    <tr>\n",
       "      <th>60</th>\n",
       "      <td>Yellowstone National Park</td>\n",
       "      <td>YELL</td>\n",
       "      <td>Yellowstone</td>\n",
       "      <td>[ID, MT, WY]</td>\n",
       "    </tr>\n",
       "    <tr>\n",
       "      <th>61</th>\n",
       "      <td>Yosemite National Park</td>\n",
       "      <td>YOSE</td>\n",
       "      <td>Yosemite</td>\n",
       "      <td>[CA]</td>\n",
       "    </tr>\n",
       "    <tr>\n",
       "      <th>62</th>\n",
       "      <td>Zion National Park</td>\n",
       "      <td>ZION</td>\n",
       "      <td>Zion</td>\n",
       "      <td>[UT]</td>\n",
       "    </tr>\n",
       "  </tbody>\n",
       "</table>\n",
       "<p>63 rows × 4 columns</p>\n",
       "</div>"
      ],
      "text/plain": [
       "                            FullName UnitCode            UnitName  \\\n",
       "0               Acadia National Park     ACAD              Acadia   \n",
       "1               Arches National Park     ARCH              Arches   \n",
       "2             Badlands National Park     BADL            Badlands   \n",
       "3             Big Bend National Park     BIBE            Big Bend   \n",
       "4             Biscayne National Park     BISC            Biscayne   \n",
       "..                               ...      ...                 ...   \n",
       "58           Wind Cave National Park     WICA           Wind Cave   \n",
       "59  Wrangell-St. Elias National Park     WRSG  Wrangell-St. Elias   \n",
       "60         Yellowstone National Park     YELL         Yellowstone   \n",
       "61            Yosemite National Park     YOSE            Yosemite   \n",
       "62                Zion National Park     ZION                Zion   \n",
       "\n",
       "       StateCode  \n",
       "0           [ME]  \n",
       "1           [UT]  \n",
       "2           [SD]  \n",
       "3           [TX]  \n",
       "4           [FL]  \n",
       "..           ...  \n",
       "58          [SD]  \n",
       "59          [AK]  \n",
       "60  [ID, MT, WY]  \n",
       "61          [CA]  \n",
       "62          [UT]  \n",
       "\n",
       "[63 rows x 4 columns]"
      ]
     },
     "execution_count": 12,
     "metadata": {},
     "output_type": "execute_result"
    }
   ],
   "source": [
    "URL = 'https://irmaservices.nps.gov/v2/rest/unit/?unitCodes={*}&format=json'\n",
    "response = requests.get(URL).json()\n",
    "\n",
    "#print(response)\n",
    "\n",
    "len(response)\n",
    "# months = ['January', 'February', 'March', 'April', 'May', 'June', 'July' 'August', 'September', 'October', 'November', 'December'] \n",
    "# for month in range(0,len(response)-1):\n",
    "#     print(f\"{unitcode} National Park had {response[month]['RecreationVisitors']} visitors\" +\n",
    "#           f\" in the month of {months[month]} in 2019\")\n",
    "\n",
    "\n",
    "# set up dataframe column names\n",
    "column_names = ['FullName',\n",
    "                'UnitCode',\n",
    "                'UnitName',\n",
    "                'StateCode']\n",
    "    \n",
    "#print(response)\n",
    "national_parks = []\n",
    "for park in response:\n",
    "    if(park['UnitDesignationName'] == 'National Park'):\n",
    "#         print(f\" {park['UnitDesignationName']}:{park['UnitCode']}: {park['FullName']} -\" +\n",
    "#               f\" region {park['Region']},{park['StateCodes']} \")\n",
    "        national_parks.append([park['FullName'], \n",
    "                          park['UnitCode'], \n",
    "                          park['UnitName'],\n",
    "                          park['StateCodes']])\n",
    "#park.keys()\n",
    "#dict_keys(['UnitCode', 'UnitName', 'FullName', \n",
    "# 'UnitDesignationCode', 'UnitDesignationName', 'UnitSubTypeCode', \n",
    "#'UnitSubTypeName', 'UnitLifecycle', 'Network', 'NetworkName', 'Region', 'RegionName', 'StateCodes'])\n",
    "national_parks\n",
    "np_df = pd.DataFrame(national_parks, columns=column_names)\n",
    "np_df"
   ]
  },
  {
   "cell_type": "markdown",
   "metadata": {},
   "source": [
    "### Make a row for eash state in the list \n",
    "* census_data = pd.merge(census_pd, centroids, how=\"left\", left_on=\"Name\", right_on=\"State\")\n"
   ]
  },
  {
   "cell_type": "code",
   "execution_count": 13,
   "metadata": {},
   "outputs": [
    {
     "data": {
      "text/html": [
       "<div>\n",
       "<style scoped>\n",
       "    .dataframe tbody tr th:only-of-type {\n",
       "        vertical-align: middle;\n",
       "    }\n",
       "\n",
       "    .dataframe tbody tr th {\n",
       "        vertical-align: top;\n",
       "    }\n",
       "\n",
       "    .dataframe thead th {\n",
       "        text-align: right;\n",
       "    }\n",
       "</style>\n",
       "<table border=\"1\" class=\"dataframe\">\n",
       "  <thead>\n",
       "    <tr style=\"text-align: right;\">\n",
       "      <th></th>\n",
       "      <th>FullName</th>\n",
       "      <th>UnitCode</th>\n",
       "      <th>UnitName</th>\n",
       "      <th>StateCode</th>\n",
       "    </tr>\n",
       "  </thead>\n",
       "  <tbody>\n",
       "    <tr>\n",
       "      <th>0</th>\n",
       "      <td>Acadia National Park</td>\n",
       "      <td>ACAD</td>\n",
       "      <td>Acadia</td>\n",
       "      <td>ME</td>\n",
       "    </tr>\n",
       "    <tr>\n",
       "      <th>1</th>\n",
       "      <td>Arches National Park</td>\n",
       "      <td>ARCH</td>\n",
       "      <td>Arches</td>\n",
       "      <td>UT</td>\n",
       "    </tr>\n",
       "    <tr>\n",
       "      <th>2</th>\n",
       "      <td>Badlands National Park</td>\n",
       "      <td>BADL</td>\n",
       "      <td>Badlands</td>\n",
       "      <td>SD</td>\n",
       "    </tr>\n",
       "    <tr>\n",
       "      <th>3</th>\n",
       "      <td>Big Bend National Park</td>\n",
       "      <td>BIBE</td>\n",
       "      <td>Big Bend</td>\n",
       "      <td>TX</td>\n",
       "    </tr>\n",
       "    <tr>\n",
       "      <th>4</th>\n",
       "      <td>Biscayne National Park</td>\n",
       "      <td>BISC</td>\n",
       "      <td>Biscayne</td>\n",
       "      <td>FL</td>\n",
       "    </tr>\n",
       "    <tr>\n",
       "      <th>...</th>\n",
       "      <td>...</td>\n",
       "      <td>...</td>\n",
       "      <td>...</td>\n",
       "      <td>...</td>\n",
       "    </tr>\n",
       "    <tr>\n",
       "      <th>63</th>\n",
       "      <td>Yellowstone National Park</td>\n",
       "      <td>YELL</td>\n",
       "      <td>Yellowstone</td>\n",
       "      <td>ID</td>\n",
       "    </tr>\n",
       "    <tr>\n",
       "      <th>64</th>\n",
       "      <td>Yellowstone National Park</td>\n",
       "      <td>YELL</td>\n",
       "      <td>Yellowstone</td>\n",
       "      <td>MT</td>\n",
       "    </tr>\n",
       "    <tr>\n",
       "      <th>65</th>\n",
       "      <td>Yellowstone National Park</td>\n",
       "      <td>YELL</td>\n",
       "      <td>Yellowstone</td>\n",
       "      <td>WY</td>\n",
       "    </tr>\n",
       "    <tr>\n",
       "      <th>66</th>\n",
       "      <td>Yosemite National Park</td>\n",
       "      <td>YOSE</td>\n",
       "      <td>Yosemite</td>\n",
       "      <td>CA</td>\n",
       "    </tr>\n",
       "    <tr>\n",
       "      <th>67</th>\n",
       "      <td>Zion National Park</td>\n",
       "      <td>ZION</td>\n",
       "      <td>Zion</td>\n",
       "      <td>UT</td>\n",
       "    </tr>\n",
       "  </tbody>\n",
       "</table>\n",
       "<p>68 rows × 4 columns</p>\n",
       "</div>"
      ],
      "text/plain": [
       "                     FullName UnitCode     UnitName StateCode\n",
       "0        Acadia National Park     ACAD       Acadia        ME\n",
       "1        Arches National Park     ARCH       Arches        UT\n",
       "2      Badlands National Park     BADL     Badlands        SD\n",
       "3      Big Bend National Park     BIBE     Big Bend        TX\n",
       "4      Biscayne National Park     BISC     Biscayne        FL\n",
       "..                        ...      ...          ...       ...\n",
       "63  Yellowstone National Park     YELL  Yellowstone        ID\n",
       "64  Yellowstone National Park     YELL  Yellowstone        MT\n",
       "65  Yellowstone National Park     YELL  Yellowstone        WY\n",
       "66     Yosemite National Park     YOSE     Yosemite        CA\n",
       "67         Zion National Park     ZION         Zion        UT\n",
       "\n",
       "[68 rows x 4 columns]"
      ]
     },
     "execution_count": 13,
     "metadata": {},
     "output_type": "execute_result"
    }
   ],
   "source": [
    "# Make a ROW for each state that a park straddles \n",
    "\n",
    "lst_col = 'StateCode'\n",
    "\n",
    "r = pd.DataFrame({\n",
    "      col:np.repeat(np_df[col].values, np_df[lst_col].str.len())\n",
    "      for col in np_df.columns.drop(lst_col)}\n",
    "    ).assign(**{lst_col:np.concatenate(np_df[lst_col].values)})[np_df.columns]\n",
    "r"
   ]
  },
  {
   "cell_type": "markdown",
   "metadata": {},
   "source": [
    "##### Map state abbreviation state name and merge - still figuring this one out"
   ]
  },
  {
   "cell_type": "code",
   "execution_count": 14,
   "metadata": {},
   "outputs": [
    {
     "data": {
      "text/html": [
       "<div>\n",
       "<style scoped>\n",
       "    .dataframe tbody tr th:only-of-type {\n",
       "        vertical-align: middle;\n",
       "    }\n",
       "\n",
       "    .dataframe tbody tr th {\n",
       "        vertical-align: top;\n",
       "    }\n",
       "\n",
       "    .dataframe thead th {\n",
       "        text-align: right;\n",
       "    }\n",
       "</style>\n",
       "<table border=\"1\" class=\"dataframe\">\n",
       "  <thead>\n",
       "    <tr style=\"text-align: right;\">\n",
       "      <th></th>\n",
       "      <th>FullName</th>\n",
       "      <th>UnitCode</th>\n",
       "      <th>UnitName</th>\n",
       "      <th>StateCode</th>\n",
       "    </tr>\n",
       "  </thead>\n",
       "  <tbody>\n",
       "    <tr>\n",
       "      <th>0</th>\n",
       "      <td>Acadia National Park</td>\n",
       "      <td>ACAD</td>\n",
       "      <td>Acadia</td>\n",
       "      <td>ME</td>\n",
       "    </tr>\n",
       "    <tr>\n",
       "      <th>1</th>\n",
       "      <td>Arches National Park</td>\n",
       "      <td>ARCH</td>\n",
       "      <td>Arches</td>\n",
       "      <td>UT</td>\n",
       "    </tr>\n",
       "    <tr>\n",
       "      <th>2</th>\n",
       "      <td>Badlands National Park</td>\n",
       "      <td>BADL</td>\n",
       "      <td>Badlands</td>\n",
       "      <td>SD</td>\n",
       "    </tr>\n",
       "  </tbody>\n",
       "</table>\n",
       "</div>"
      ],
      "text/plain": [
       "                 FullName UnitCode  UnitName StateCode\n",
       "0    Acadia National Park     ACAD    Acadia        ME\n",
       "1    Arches National Park     ARCH    Arches        UT\n",
       "2  Badlands National Park     BADL  Badlands        SD"
      ]
     },
     "execution_count": 14,
     "metadata": {},
     "output_type": "execute_result"
    }
   ],
   "source": [
    "r.head(3)"
   ]
  },
  {
   "cell_type": "code",
   "execution_count": 15,
   "metadata": {},
   "outputs": [
    {
     "data": {
      "text/html": [
       "<div>\n",
       "<style scoped>\n",
       "    .dataframe tbody tr th:only-of-type {\n",
       "        vertical-align: middle;\n",
       "    }\n",
       "\n",
       "    .dataframe tbody tr th {\n",
       "        vertical-align: top;\n",
       "    }\n",
       "\n",
       "    .dataframe thead th {\n",
       "        text-align: right;\n",
       "    }\n",
       "</style>\n",
       "<table border=\"1\" class=\"dataframe\">\n",
       "  <thead>\n",
       "    <tr style=\"text-align: right;\">\n",
       "      <th></th>\n",
       "      <th>Name</th>\n",
       "      <th>Population</th>\n",
       "      <th>Latitude</th>\n",
       "      <th>Longitude</th>\n",
       "      <th>StateCode</th>\n",
       "    </tr>\n",
       "  </thead>\n",
       "  <tbody>\n",
       "    <tr>\n",
       "      <th>0</th>\n",
       "      <td>Puerto Rico</td>\n",
       "      <td>3468963.0</td>\n",
       "      <td>18.2001</td>\n",
       "      <td>-66.6645</td>\n",
       "      <td>Puerto Rico</td>\n",
       "    </tr>\n",
       "    <tr>\n",
       "      <th>1</th>\n",
       "      <td>Alabama</td>\n",
       "      <td>4850771.0</td>\n",
       "      <td>32.7794</td>\n",
       "      <td>-86.8287</td>\n",
       "      <td>AL</td>\n",
       "    </tr>\n",
       "    <tr>\n",
       "      <th>2</th>\n",
       "      <td>Alaska</td>\n",
       "      <td>738565.0</td>\n",
       "      <td>64.0685</td>\n",
       "      <td>-152.2782</td>\n",
       "      <td>AK</td>\n",
       "    </tr>\n",
       "  </tbody>\n",
       "</table>\n",
       "</div>"
      ],
      "text/plain": [
       "          Name  Population  Latitude  Longitude    StateCode\n",
       "0  Puerto Rico   3468963.0   18.2001   -66.6645  Puerto Rico\n",
       "1      Alabama   4850771.0   32.7794   -86.8287           AL\n",
       "2       Alaska    738565.0   64.0685  -152.2782           AK"
      ]
     },
     "execution_count": 15,
     "metadata": {},
     "output_type": "execute_result"
    }
   ],
   "source": [
    "pop_df.head(3)"
   ]
  },
  {
   "cell_type": "markdown",
   "metadata": {},
   "source": []
  },
  {
   "cell_type": "raw",
   "metadata": {},
   "source": [
    "pop_by_park = pd.merge(pop_df,r, how=\"outer\", on=\"StateCode\")\n",
    "pop_by_park\n",
    "#NOTE THERE IS MISSING DATA _ not every STATE has a PARK in my subset...."
   ]
  },
  {
   "cell_type": "code",
   "execution_count": 17,
   "metadata": {},
   "outputs": [],
   "source": [
    "# Save the updated dataframe as a csv\n",
    "np_df.to_csv(\"./Resources/state_park_data.csv\", encoding=\"utf-8\", index=False)\n",
    "#np_df.head()"
   ]
  },
  {
   "cell_type": "code",
   "execution_count": 18,
   "metadata": {},
   "outputs": [
    {
     "name": "stdout",
     "output_type": "stream",
     "text": [
      "https://irmaservices.nps.gov/v3/rest/stats/visitation?unitCodes=COSW&startMonth=01&startYear=2019&endMonth=12&endYear=2019&format=json\n"
     ]
    }
   ],
   "source": [
    "#notes some are empty\n",
    "unitcode = \"COSW\" #Rocky Mountain National Park (unitcode)\n",
    "URL = f'https://irmaservices.nps.gov/v3/rest/stats/visitation?unitCodes={unitcode}&startMonth=01&startYear=2019&endMonth=12&endYear=2019&format=json'\n",
    "print(URL)"
   ]
  },
  {
   "cell_type": "markdown",
   "metadata": {},
   "source": [
    "#### PRINT the LAT/LON of each park"
   ]
  },
  {
   "cell_type": "code",
   "execution_count": 19,
   "metadata": {},
   "outputs": [],
   "source": [
    "def convert_lat_lon(latlon):\n",
    "    latlon = (data[\"data\"][0][\"latLong\"])\n",
    "\n",
    "    lat,lon = latlon.split(\", \")\n",
    "\n",
    "    l, lat=lat.split(':')\n",
    "    l, lon=lon.split(':')\n",
    "\n",
    "    lat = float(lat)\n",
    "    lon = float(lon)\n",
    "    return([lat, lon])\n",
    " "
   ]
  },
  {
   "cell_type": "code",
   "execution_count": 20,
   "metadata": {},
   "outputs": [],
   "source": [
    "### Testing convert_lat_lon function\n",
    "# ll = convert_lat_lon('lat:37.29839254, long:-113.0265138')\n",
    "# print(ll[0])\n",
    "# print(ll[1])"
   ]
  },
  {
   "cell_type": "code",
   "execution_count": 22,
   "metadata": {},
   "outputs": [
    {
     "name": "stdout",
     "output_type": "stream",
     "text": [
      "ME\n"
     ]
    }
   ],
   "source": [
    "from api_keys import nps_key\n",
    "parks_key = nps_key #NOTE NEED A KEY\n",
    "park = 'ACAD'\n",
    "url = f\"https://developer.nps.gov/api/v1/parks?parkCode={park}&api_key={nps_key}\"\n",
    "data = requests.get(url).json()\n",
    "print(data[\"data\"][0]['states'])"
   ]
  },
  {
   "cell_type": "code",
   "execution_count": 23,
   "metadata": {},
   "outputs": [
    {
     "name": "stdout",
     "output_type": "stream",
     "text": [
      "ME\n",
      "UT\n",
      "SD\n",
      "TX\n",
      "FL\n",
      "CO\n",
      "UT\n",
      "UT\n",
      "UT\n",
      "NM\n",
      "CA\n",
      "SC\n",
      "Empty Cell...Skipping COSW\n",
      "OR\n",
      "OH\n",
      "Empty Cell...Skipping DENG\n",
      "CA,NV\n",
      "FL\n",
      "FL\n",
      "Empty Cell...Skipping GAAG\n",
      "MT\n",
      "Empty Cell...Skipping GLBG\n",
      "NV\n",
      "AZ\n",
      "Empty Cell...Skipping GRDG\n",
      "NC,TN\n",
      "WY\n",
      "TX\n",
      "HI\n",
      "HI\n",
      "AR\n",
      "IN\n",
      "MI\n",
      "MO\n",
      "CA\n",
      "Empty Cell...Skipping KATG\n",
      "AK\n",
      "Empty Cell...Skipping KICA\n",
      "AK\n",
      "Empty Cell...Skipping LACG\n",
      "CA\n",
      "KY\n",
      "CO\n",
      "WA\n",
      "WA\n",
      "AS\n",
      "WA\n",
      "AZ\n",
      "CA\n",
      "CA\n",
      "CO\n",
      "AZ\n",
      "Empty Cell...Skipping SEQU\n",
      "VA\n",
      "ND\n",
      "VI\n",
      "MN\n",
      "NM\n",
      "SD\n",
      "Empty Cell...Skipping WRSG\n",
      "ID,MT,WY\n",
      "CA\n",
      "UT\n"
     ]
    },
    {
     "data": {
      "text/html": [
       "<div>\n",
       "<style scoped>\n",
       "    .dataframe tbody tr th:only-of-type {\n",
       "        vertical-align: middle;\n",
       "    }\n",
       "\n",
       "    .dataframe tbody tr th {\n",
       "        vertical-align: top;\n",
       "    }\n",
       "\n",
       "    .dataframe thead th {\n",
       "        text-align: right;\n",
       "    }\n",
       "</style>\n",
       "<table border=\"1\" class=\"dataframe\">\n",
       "  <thead>\n",
       "    <tr style=\"text-align: right;\">\n",
       "      <th></th>\n",
       "      <th>State</th>\n",
       "      <th>ParkCode</th>\n",
       "      <th>Park</th>\n",
       "      <th>Lat</th>\n",
       "      <th>Lon</th>\n",
       "    </tr>\n",
       "  </thead>\n",
       "  <tbody>\n",
       "    <tr>\n",
       "      <th>0</th>\n",
       "      <td>ME</td>\n",
       "      <td>ACAD</td>\n",
       "      <td>Acadia National Park</td>\n",
       "      <td>44.307775</td>\n",
       "      <td>-68.300633</td>\n",
       "    </tr>\n",
       "    <tr>\n",
       "      <th>1</th>\n",
       "      <td>UT</td>\n",
       "      <td>ARCH</td>\n",
       "      <td>Arches National Park</td>\n",
       "      <td>38.722618</td>\n",
       "      <td>-109.586367</td>\n",
       "    </tr>\n",
       "    <tr>\n",
       "      <th>2</th>\n",
       "      <td>SD</td>\n",
       "      <td>BADL</td>\n",
       "      <td>Badlands National Park</td>\n",
       "      <td>43.685848</td>\n",
       "      <td>-102.482942</td>\n",
       "    </tr>\n",
       "    <tr>\n",
       "      <th>3</th>\n",
       "      <td>TX</td>\n",
       "      <td>BIBE</td>\n",
       "      <td>Big Bend National Park</td>\n",
       "      <td>29.298178</td>\n",
       "      <td>-103.229790</td>\n",
       "    </tr>\n",
       "    <tr>\n",
       "      <th>4</th>\n",
       "      <td>FL</td>\n",
       "      <td>BISC</td>\n",
       "      <td>Biscayne National Park</td>\n",
       "      <td>25.490587</td>\n",
       "      <td>-80.210239</td>\n",
       "    </tr>\n",
       "    <tr>\n",
       "      <th>5</th>\n",
       "      <td>CO</td>\n",
       "      <td>BLCA</td>\n",
       "      <td>Black Canyon Of The Gunnison National Park</td>\n",
       "      <td>38.577799</td>\n",
       "      <td>-107.724276</td>\n",
       "    </tr>\n",
       "    <tr>\n",
       "      <th>6</th>\n",
       "      <td>UT</td>\n",
       "      <td>BRCA</td>\n",
       "      <td>Bryce Canyon National Park</td>\n",
       "      <td>37.583991</td>\n",
       "      <td>-112.182669</td>\n",
       "    </tr>\n",
       "    <tr>\n",
       "      <th>7</th>\n",
       "      <td>UT</td>\n",
       "      <td>CANY</td>\n",
       "      <td>Canyonlands National Park</td>\n",
       "      <td>38.245558</td>\n",
       "      <td>-109.880162</td>\n",
       "    </tr>\n",
       "    <tr>\n",
       "      <th>8</th>\n",
       "      <td>UT</td>\n",
       "      <td>CARE</td>\n",
       "      <td>Capitol Reef National Park</td>\n",
       "      <td>38.282165</td>\n",
       "      <td>-111.247048</td>\n",
       "    </tr>\n",
       "    <tr>\n",
       "      <th>9</th>\n",
       "      <td>NM</td>\n",
       "      <td>CAVE</td>\n",
       "      <td>Carlsbad Caverns National Park</td>\n",
       "      <td>32.140895</td>\n",
       "      <td>-104.552969</td>\n",
       "    </tr>\n",
       "    <tr>\n",
       "      <th>10</th>\n",
       "      <td>CA</td>\n",
       "      <td>CHIS</td>\n",
       "      <td>Channel Islands National Park</td>\n",
       "      <td>33.986801</td>\n",
       "      <td>-119.911273</td>\n",
       "    </tr>\n",
       "    <tr>\n",
       "      <th>11</th>\n",
       "      <td>SC</td>\n",
       "      <td>CONG</td>\n",
       "      <td>Congaree National Park</td>\n",
       "      <td>33.791875</td>\n",
       "      <td>-80.748678</td>\n",
       "    </tr>\n",
       "    <tr>\n",
       "      <th>12</th>\n",
       "      <td>OR</td>\n",
       "      <td>CRLA</td>\n",
       "      <td>Crater Lake National Park</td>\n",
       "      <td>42.940659</td>\n",
       "      <td>-122.133841</td>\n",
       "    </tr>\n",
       "    <tr>\n",
       "      <th>13</th>\n",
       "      <td>OH</td>\n",
       "      <td>CUVA</td>\n",
       "      <td>Cuyahoga Valley National Park</td>\n",
       "      <td>41.260939</td>\n",
       "      <td>-81.571167</td>\n",
       "    </tr>\n",
       "    <tr>\n",
       "      <th>14</th>\n",
       "      <td>CA,NV</td>\n",
       "      <td>DEVA</td>\n",
       "      <td>Death Valley National Park</td>\n",
       "      <td>36.487537</td>\n",
       "      <td>-117.134395</td>\n",
       "    </tr>\n",
       "    <tr>\n",
       "      <th>15</th>\n",
       "      <td>FL</td>\n",
       "      <td>DRTO</td>\n",
       "      <td>Dry Tortugas National Park</td>\n",
       "      <td>24.628741</td>\n",
       "      <td>-82.873190</td>\n",
       "    </tr>\n",
       "    <tr>\n",
       "      <th>16</th>\n",
       "      <td>FL</td>\n",
       "      <td>EVER</td>\n",
       "      <td>Everglades National Park</td>\n",
       "      <td>25.372942</td>\n",
       "      <td>-80.882003</td>\n",
       "    </tr>\n",
       "    <tr>\n",
       "      <th>17</th>\n",
       "      <td>MT</td>\n",
       "      <td>GLAC</td>\n",
       "      <td>Glacier National Park</td>\n",
       "      <td>48.684147</td>\n",
       "      <td>-113.800931</td>\n",
       "    </tr>\n",
       "    <tr>\n",
       "      <th>18</th>\n",
       "      <td>NV</td>\n",
       "      <td>GRBA</td>\n",
       "      <td>Great Basin National Park</td>\n",
       "      <td>38.946174</td>\n",
       "      <td>-114.257978</td>\n",
       "    </tr>\n",
       "    <tr>\n",
       "      <th>19</th>\n",
       "      <td>AZ</td>\n",
       "      <td>GRCA</td>\n",
       "      <td>Grand Canyon National Park</td>\n",
       "      <td>36.172802</td>\n",
       "      <td>-112.683602</td>\n",
       "    </tr>\n",
       "    <tr>\n",
       "      <th>20</th>\n",
       "      <td>NC,TN</td>\n",
       "      <td>GRSM</td>\n",
       "      <td>Great Smoky Mountains National Park</td>\n",
       "      <td>35.601164</td>\n",
       "      <td>-83.508183</td>\n",
       "    </tr>\n",
       "    <tr>\n",
       "      <th>21</th>\n",
       "      <td>WY</td>\n",
       "      <td>GRTE</td>\n",
       "      <td>Grand Teton National Park</td>\n",
       "      <td>43.818536</td>\n",
       "      <td>-110.705467</td>\n",
       "    </tr>\n",
       "    <tr>\n",
       "      <th>22</th>\n",
       "      <td>TX</td>\n",
       "      <td>GUMO</td>\n",
       "      <td>Guadalupe Mountains National Park</td>\n",
       "      <td>31.923045</td>\n",
       "      <td>-104.885527</td>\n",
       "    </tr>\n",
       "    <tr>\n",
       "      <th>23</th>\n",
       "      <td>HI</td>\n",
       "      <td>HALE</td>\n",
       "      <td>Haleakal&amp;#257; National Park</td>\n",
       "      <td>20.706930</td>\n",
       "      <td>-156.159177</td>\n",
       "    </tr>\n",
       "    <tr>\n",
       "      <th>24</th>\n",
       "      <td>HI</td>\n",
       "      <td>HAVO</td>\n",
       "      <td>Hawai'i Volcanoes National Park</td>\n",
       "      <td>19.335504</td>\n",
       "      <td>-155.470026</td>\n",
       "    </tr>\n",
       "    <tr>\n",
       "      <th>25</th>\n",
       "      <td>AR</td>\n",
       "      <td>HOSP</td>\n",
       "      <td>Hot Springs National Park</td>\n",
       "      <td>34.524144</td>\n",
       "      <td>-93.063329</td>\n",
       "    </tr>\n",
       "    <tr>\n",
       "      <th>26</th>\n",
       "      <td>IN</td>\n",
       "      <td>INDU</td>\n",
       "      <td>Indiana Dunes National Park</td>\n",
       "      <td>41.637655</td>\n",
       "      <td>-87.096474</td>\n",
       "    </tr>\n",
       "    <tr>\n",
       "      <th>27</th>\n",
       "      <td>MI</td>\n",
       "      <td>ISRO</td>\n",
       "      <td>Isle Royale National Park</td>\n",
       "      <td>48.011458</td>\n",
       "      <td>-88.827807</td>\n",
       "    </tr>\n",
       "    <tr>\n",
       "      <th>28</th>\n",
       "      <td>MO</td>\n",
       "      <td>JEFF</td>\n",
       "      <td>Gateway Arch National Park</td>\n",
       "      <td>38.625807</td>\n",
       "      <td>-90.189251</td>\n",
       "    </tr>\n",
       "    <tr>\n",
       "      <th>29</th>\n",
       "      <td>CA</td>\n",
       "      <td>JOTR</td>\n",
       "      <td>Joshua Tree National Park</td>\n",
       "      <td>33.914185</td>\n",
       "      <td>-115.839812</td>\n",
       "    </tr>\n",
       "    <tr>\n",
       "      <th>30</th>\n",
       "      <td>AK</td>\n",
       "      <td>KEFJ</td>\n",
       "      <td>Kenai Fjords National Park</td>\n",
       "      <td>59.818044</td>\n",
       "      <td>-150.106502</td>\n",
       "    </tr>\n",
       "    <tr>\n",
       "      <th>31</th>\n",
       "      <td>AK</td>\n",
       "      <td>KOVA</td>\n",
       "      <td>Kobuk Valley National Park</td>\n",
       "      <td>67.356313</td>\n",
       "      <td>-159.200229</td>\n",
       "    </tr>\n",
       "    <tr>\n",
       "      <th>32</th>\n",
       "      <td>CA</td>\n",
       "      <td>LAVO</td>\n",
       "      <td>Lassen Volcanic National Park</td>\n",
       "      <td>40.493546</td>\n",
       "      <td>-121.407599</td>\n",
       "    </tr>\n",
       "    <tr>\n",
       "      <th>33</th>\n",
       "      <td>KY</td>\n",
       "      <td>MACA</td>\n",
       "      <td>Mammoth Cave National Park</td>\n",
       "      <td>37.197605</td>\n",
       "      <td>-86.130902</td>\n",
       "    </tr>\n",
       "    <tr>\n",
       "      <th>34</th>\n",
       "      <td>CO</td>\n",
       "      <td>MEVE</td>\n",
       "      <td>Mesa Verde National Park</td>\n",
       "      <td>37.239083</td>\n",
       "      <td>-108.462403</td>\n",
       "    </tr>\n",
       "    <tr>\n",
       "      <th>35</th>\n",
       "      <td>WA</td>\n",
       "      <td>MORA</td>\n",
       "      <td>Mount Rainier National Park</td>\n",
       "      <td>46.860754</td>\n",
       "      <td>-121.704388</td>\n",
       "    </tr>\n",
       "    <tr>\n",
       "      <th>36</th>\n",
       "      <td>WA</td>\n",
       "      <td>NOCA</td>\n",
       "      <td>North Cascades National Park</td>\n",
       "      <td>48.711718</td>\n",
       "      <td>-121.206942</td>\n",
       "    </tr>\n",
       "    <tr>\n",
       "      <th>37</th>\n",
       "      <td>AS</td>\n",
       "      <td>NPSA</td>\n",
       "      <td>National Park of American Samoa</td>\n",
       "      <td>-14.228659</td>\n",
       "      <td>-169.850378</td>\n",
       "    </tr>\n",
       "    <tr>\n",
       "      <th>38</th>\n",
       "      <td>WA</td>\n",
       "      <td>OLYM</td>\n",
       "      <td>Olympic National Park</td>\n",
       "      <td>47.803928</td>\n",
       "      <td>-123.666385</td>\n",
       "    </tr>\n",
       "    <tr>\n",
       "      <th>39</th>\n",
       "      <td>AZ</td>\n",
       "      <td>PEFO</td>\n",
       "      <td>Petrified Forest National Park</td>\n",
       "      <td>34.983877</td>\n",
       "      <td>-109.787768</td>\n",
       "    </tr>\n",
       "    <tr>\n",
       "      <th>40</th>\n",
       "      <td>CA</td>\n",
       "      <td>PINN</td>\n",
       "      <td>Pinnacles National Park</td>\n",
       "      <td>36.490292</td>\n",
       "      <td>-121.181361</td>\n",
       "    </tr>\n",
       "    <tr>\n",
       "      <th>41</th>\n",
       "      <td>CA</td>\n",
       "      <td>REDW</td>\n",
       "      <td>Redwood National and State Parks</td>\n",
       "      <td>41.372373</td>\n",
       "      <td>-124.031813</td>\n",
       "    </tr>\n",
       "    <tr>\n",
       "      <th>42</th>\n",
       "      <td>CO</td>\n",
       "      <td>ROMO</td>\n",
       "      <td>Rocky Mountain National Park</td>\n",
       "      <td>40.355692</td>\n",
       "      <td>-105.697288</td>\n",
       "    </tr>\n",
       "    <tr>\n",
       "      <th>43</th>\n",
       "      <td>AZ</td>\n",
       "      <td>SAGU</td>\n",
       "      <td>Saguaro National Park</td>\n",
       "      <td>32.209096</td>\n",
       "      <td>-110.757497</td>\n",
       "    </tr>\n",
       "    <tr>\n",
       "      <th>44</th>\n",
       "      <td>VA</td>\n",
       "      <td>SHEN</td>\n",
       "      <td>Shenandoah National Park</td>\n",
       "      <td>38.492366</td>\n",
       "      <td>-78.469077</td>\n",
       "    </tr>\n",
       "    <tr>\n",
       "      <th>45</th>\n",
       "      <td>ND</td>\n",
       "      <td>THRO</td>\n",
       "      <td>Theodore Roosevelt National Park</td>\n",
       "      <td>47.177773</td>\n",
       "      <td>-103.430008</td>\n",
       "    </tr>\n",
       "    <tr>\n",
       "      <th>46</th>\n",
       "      <td>VI</td>\n",
       "      <td>VIIS</td>\n",
       "      <td>Virgin Islands National Park</td>\n",
       "      <td>18.342797</td>\n",
       "      <td>-64.741945</td>\n",
       "    </tr>\n",
       "    <tr>\n",
       "      <th>47</th>\n",
       "      <td>MN</td>\n",
       "      <td>VOYA</td>\n",
       "      <td>Voyageurs National Park</td>\n",
       "      <td>48.483706</td>\n",
       "      <td>-92.838291</td>\n",
       "    </tr>\n",
       "    <tr>\n",
       "      <th>48</th>\n",
       "      <td>NM</td>\n",
       "      <td>WHSA</td>\n",
       "      <td>White Sands National Park</td>\n",
       "      <td>32.779079</td>\n",
       "      <td>-106.333346</td>\n",
       "    </tr>\n",
       "    <tr>\n",
       "      <th>49</th>\n",
       "      <td>SD</td>\n",
       "      <td>WICA</td>\n",
       "      <td>Wind Cave National Park</td>\n",
       "      <td>43.580124</td>\n",
       "      <td>-103.439471</td>\n",
       "    </tr>\n",
       "    <tr>\n",
       "      <th>50</th>\n",
       "      <td>ID,MT,WY</td>\n",
       "      <td>YELL</td>\n",
       "      <td>Yellowstone National Park</td>\n",
       "      <td>44.598244</td>\n",
       "      <td>-110.547169</td>\n",
       "    </tr>\n",
       "    <tr>\n",
       "      <th>51</th>\n",
       "      <td>CA</td>\n",
       "      <td>YOSE</td>\n",
       "      <td>Yosemite National Park</td>\n",
       "      <td>37.848833</td>\n",
       "      <td>-119.557187</td>\n",
       "    </tr>\n",
       "    <tr>\n",
       "      <th>52</th>\n",
       "      <td>UT</td>\n",
       "      <td>ZION</td>\n",
       "      <td>Zion National Park</td>\n",
       "      <td>37.298393</td>\n",
       "      <td>-113.026514</td>\n",
       "    </tr>\n",
       "  </tbody>\n",
       "</table>\n",
       "</div>"
      ],
      "text/plain": [
       "       State ParkCode                                        Park        Lat  \\\n",
       "0         ME     ACAD                        Acadia National Park  44.307775   \n",
       "1         UT     ARCH                        Arches National Park  38.722618   \n",
       "2         SD     BADL                      Badlands National Park  43.685848   \n",
       "3         TX     BIBE                      Big Bend National Park  29.298178   \n",
       "4         FL     BISC                      Biscayne National Park  25.490587   \n",
       "5         CO     BLCA  Black Canyon Of The Gunnison National Park  38.577799   \n",
       "6         UT     BRCA                  Bryce Canyon National Park  37.583991   \n",
       "7         UT     CANY                   Canyonlands National Park  38.245558   \n",
       "8         UT     CARE                  Capitol Reef National Park  38.282165   \n",
       "9         NM     CAVE              Carlsbad Caverns National Park  32.140895   \n",
       "10        CA     CHIS               Channel Islands National Park  33.986801   \n",
       "11        SC     CONG                      Congaree National Park  33.791875   \n",
       "12        OR     CRLA                   Crater Lake National Park  42.940659   \n",
       "13        OH     CUVA               Cuyahoga Valley National Park  41.260939   \n",
       "14     CA,NV     DEVA                  Death Valley National Park  36.487537   \n",
       "15        FL     DRTO                  Dry Tortugas National Park  24.628741   \n",
       "16        FL     EVER                    Everglades National Park  25.372942   \n",
       "17        MT     GLAC                       Glacier National Park  48.684147   \n",
       "18        NV     GRBA                   Great Basin National Park  38.946174   \n",
       "19        AZ     GRCA                  Grand Canyon National Park  36.172802   \n",
       "20     NC,TN     GRSM         Great Smoky Mountains National Park  35.601164   \n",
       "21        WY     GRTE                   Grand Teton National Park  43.818536   \n",
       "22        TX     GUMO           Guadalupe Mountains National Park  31.923045   \n",
       "23        HI     HALE                Haleakal&#257; National Park  20.706930   \n",
       "24        HI     HAVO             Hawai'i Volcanoes National Park  19.335504   \n",
       "25        AR     HOSP                   Hot Springs National Park  34.524144   \n",
       "26        IN     INDU                 Indiana Dunes National Park  41.637655   \n",
       "27        MI     ISRO                   Isle Royale National Park  48.011458   \n",
       "28        MO     JEFF                  Gateway Arch National Park  38.625807   \n",
       "29        CA     JOTR                   Joshua Tree National Park  33.914185   \n",
       "30        AK     KEFJ                  Kenai Fjords National Park  59.818044   \n",
       "31        AK     KOVA                  Kobuk Valley National Park  67.356313   \n",
       "32        CA     LAVO               Lassen Volcanic National Park  40.493546   \n",
       "33        KY     MACA                  Mammoth Cave National Park  37.197605   \n",
       "34        CO     MEVE                    Mesa Verde National Park  37.239083   \n",
       "35        WA     MORA                 Mount Rainier National Park  46.860754   \n",
       "36        WA     NOCA                North Cascades National Park  48.711718   \n",
       "37        AS     NPSA             National Park of American Samoa -14.228659   \n",
       "38        WA     OLYM                       Olympic National Park  47.803928   \n",
       "39        AZ     PEFO              Petrified Forest National Park  34.983877   \n",
       "40        CA     PINN                     Pinnacles National Park  36.490292   \n",
       "41        CA     REDW            Redwood National and State Parks  41.372373   \n",
       "42        CO     ROMO                Rocky Mountain National Park  40.355692   \n",
       "43        AZ     SAGU                       Saguaro National Park  32.209096   \n",
       "44        VA     SHEN                    Shenandoah National Park  38.492366   \n",
       "45        ND     THRO            Theodore Roosevelt National Park  47.177773   \n",
       "46        VI     VIIS                Virgin Islands National Park  18.342797   \n",
       "47        MN     VOYA                     Voyageurs National Park  48.483706   \n",
       "48        NM     WHSA                   White Sands National Park  32.779079   \n",
       "49        SD     WICA                     Wind Cave National Park  43.580124   \n",
       "50  ID,MT,WY     YELL                   Yellowstone National Park  44.598244   \n",
       "51        CA     YOSE                      Yosemite National Park  37.848833   \n",
       "52        UT     ZION                          Zion National Park  37.298393   \n",
       "\n",
       "           Lon  \n",
       "0   -68.300633  \n",
       "1  -109.586367  \n",
       "2  -102.482942  \n",
       "3  -103.229790  \n",
       "4   -80.210239  \n",
       "5  -107.724276  \n",
       "6  -112.182669  \n",
       "7  -109.880162  \n",
       "8  -111.247048  \n",
       "9  -104.552969  \n",
       "10 -119.911273  \n",
       "11  -80.748678  \n",
       "12 -122.133841  \n",
       "13  -81.571167  \n",
       "14 -117.134395  \n",
       "15  -82.873190  \n",
       "16  -80.882003  \n",
       "17 -113.800931  \n",
       "18 -114.257978  \n",
       "19 -112.683602  \n",
       "20  -83.508183  \n",
       "21 -110.705467  \n",
       "22 -104.885527  \n",
       "23 -156.159177  \n",
       "24 -155.470026  \n",
       "25  -93.063329  \n",
       "26  -87.096474  \n",
       "27  -88.827807  \n",
       "28  -90.189251  \n",
       "29 -115.839812  \n",
       "30 -150.106502  \n",
       "31 -159.200229  \n",
       "32 -121.407599  \n",
       "33  -86.130902  \n",
       "34 -108.462403  \n",
       "35 -121.704388  \n",
       "36 -121.206942  \n",
       "37 -169.850378  \n",
       "38 -123.666385  \n",
       "39 -109.787768  \n",
       "40 -121.181361  \n",
       "41 -124.031813  \n",
       "42 -105.697288  \n",
       "43 -110.757497  \n",
       "44  -78.469077  \n",
       "45 -103.430008  \n",
       "46  -64.741945  \n",
       "47  -92.838291  \n",
       "48 -106.333346  \n",
       "49 -103.439471  \n",
       "50 -110.547169  \n",
       "51 -119.557187  \n",
       "52 -113.026514  "
      ]
     },
     "execution_count": 23,
     "metadata": {},
     "output_type": "execute_result"
    }
   ],
   "source": [
    "from api_keys import nps_key\n",
    "parks_key = nps_key #NOTE NEED A KEY\n",
    "latlon=[]\n",
    "for park in np_df['UnitCode']:\n",
    "    url = f\"https://developer.nps.gov/api/v1/parks?parkCode={park}&api_key={nps_key}\"\n",
    "    try:\n",
    "        data = requests.get(url).json()\n",
    "        # Prepare and execute output\n",
    "        # print(data[\"data\"][0][\"fullName\"] + \" can be found at \" + data[\"data\"][0][\"latLong\"] + \".\")\n",
    "        ll = convert_lat_lon(data[\"data\"][0][\"latLong\"])\n",
    "        state = data[\"data\"][0]['states']\n",
    "        print(state)\n",
    "        latlon.append([state, park, data[\"data\"][0][\"fullName\"], ll[0], ll[1]])\n",
    "    except:\n",
    "        print(f\"Empty Cell...Skipping {park}\")\n",
    "\n",
    "park_lat_lon_df = pd.DataFrame(latlon, columns = ['State','ParkCode','Park', 'Lat', 'Lon'])\n",
    "#park_lat_lon_df"
   ]
  },
  {
   "cell_type": "code",
   "execution_count": 24,
   "metadata": {},
   "outputs": [
    {
     "data": {
      "text/html": [
       "<div>\n",
       "<style scoped>\n",
       "    .dataframe tbody tr th:only-of-type {\n",
       "        vertical-align: middle;\n",
       "    }\n",
       "\n",
       "    .dataframe tbody tr th {\n",
       "        vertical-align: top;\n",
       "    }\n",
       "\n",
       "    .dataframe thead th {\n",
       "        text-align: right;\n",
       "    }\n",
       "</style>\n",
       "<table border=\"1\" class=\"dataframe\">\n",
       "  <thead>\n",
       "    <tr style=\"text-align: right;\">\n",
       "      <th></th>\n",
       "      <th>State</th>\n",
       "      <th>ParkCode</th>\n",
       "      <th>Park</th>\n",
       "      <th>Lat</th>\n",
       "      <th>Lon</th>\n",
       "    </tr>\n",
       "  </thead>\n",
       "  <tbody>\n",
       "    <tr>\n",
       "      <th>0</th>\n",
       "      <td>ME</td>\n",
       "      <td>ACAD</td>\n",
       "      <td>Acadia National Park</td>\n",
       "      <td>44.307775</td>\n",
       "      <td>-68.300633</td>\n",
       "    </tr>\n",
       "    <tr>\n",
       "      <th>1</th>\n",
       "      <td>UT</td>\n",
       "      <td>ARCH</td>\n",
       "      <td>Arches National Park</td>\n",
       "      <td>38.722618</td>\n",
       "      <td>-109.586367</td>\n",
       "    </tr>\n",
       "    <tr>\n",
       "      <th>2</th>\n",
       "      <td>SD</td>\n",
       "      <td>BADL</td>\n",
       "      <td>Badlands National Park</td>\n",
       "      <td>43.685848</td>\n",
       "      <td>-102.482942</td>\n",
       "    </tr>\n",
       "  </tbody>\n",
       "</table>\n",
       "</div>"
      ],
      "text/plain": [
       "  State ParkCode                    Park        Lat         Lon\n",
       "0    ME     ACAD    Acadia National Park  44.307775  -68.300633\n",
       "1    UT     ARCH    Arches National Park  38.722618 -109.586367\n",
       "2    SD     BADL  Badlands National Park  43.685848 -102.482942"
      ]
     },
     "execution_count": 24,
     "metadata": {},
     "output_type": "execute_result"
    }
   ],
   "source": [
    "park_lat_lon_df.head(3)"
   ]
  },
  {
   "cell_type": "markdown",
   "metadata": {},
   "source": [
    "### MAP the PARKs"
   ]
  },
  {
   "cell_type": "code",
   "execution_count": null,
   "metadata": {},
   "outputs": [],
   "source": [
    "# Create a map using state centroid coordinates to set markers\n",
    "marker_locations = park_lat_lon_df[['Lat', 'Lon']]\n",
    "# Create a marker_layer using the park list to fill the info box\n",
    "fig = gmaps.figure()\n",
    "markers = gmaps.marker_layer(marker_locations,\n",
    "    info_box_content=[f\"Park: {park}\" for park in park_lat_lon_df['Park']])\n",
    "fig.add_layer(markers)\n",
    "fig"
   ]
  },
  {
   "cell_type": "markdown",
   "metadata": {},
   "source": [
    "##### print a list of unit codes - for debugging"
   ]
  },
  {
   "cell_type": "code",
   "execution_count": null,
   "metadata": {},
   "outputs": [],
   "source": [
    "for unitcode in np_df['UnitCode']:\n",
    "    print(f\"Unit Code = {unitcode}\")"
   ]
  },
  {
   "cell_type": "markdown",
   "metadata": {},
   "source": [
    "### VISITOR DATA "
   ]
  },
  {
   "cell_type": "code",
   "execution_count": null,
   "metadata": {},
   "outputs": [],
   "source": []
  },
  {
   "cell_type": "code",
   "execution_count": 30,
   "metadata": {},
   "outputs": [
    {
     "data": {
      "text/html": [
       "<div>\n",
       "<style scoped>\n",
       "    .dataframe tbody tr th:only-of-type {\n",
       "        vertical-align: middle;\n",
       "    }\n",
       "\n",
       "    .dataframe tbody tr th {\n",
       "        vertical-align: top;\n",
       "    }\n",
       "\n",
       "    .dataframe thead th {\n",
       "        text-align: right;\n",
       "    }\n",
       "</style>\n",
       "<table border=\"1\" class=\"dataframe\">\n",
       "  <thead>\n",
       "    <tr style=\"text-align: right;\">\n",
       "      <th></th>\n",
       "      <th>UnitCode</th>\n",
       "      <th>Month</th>\n",
       "      <th>Visitors</th>\n",
       "    </tr>\n",
       "  </thead>\n",
       "  <tbody>\n",
       "    <tr>\n",
       "      <th>0</th>\n",
       "      <td>ACAD</td>\n",
       "      <td>0</td>\n",
       "      <td>8532</td>\n",
       "    </tr>\n",
       "    <tr>\n",
       "      <th>1</th>\n",
       "      <td>ACAD</td>\n",
       "      <td>1</td>\n",
       "      <td>9154</td>\n",
       "    </tr>\n",
       "    <tr>\n",
       "      <th>2</th>\n",
       "      <td>ACAD</td>\n",
       "      <td>2</td>\n",
       "      <td>20161</td>\n",
       "    </tr>\n",
       "  </tbody>\n",
       "</table>\n",
       "</div>"
      ],
      "text/plain": [
       "  UnitCode  Month  Visitors\n",
       "0     ACAD      0      8532\n",
       "1     ACAD      1      9154\n",
       "2     ACAD      2     20161"
      ]
     },
     "execution_count": 30,
     "metadata": {},
     "output_type": "execute_result"
    }
   ],
   "source": [
    "column_names = ['UnitCode','Month', 'Visitors']\n",
    "query_year = \"2019\"\n",
    "park_visitor_data = []\n",
    "\n",
    "months = ['January', 'February', 'March', 'April', 'May', 'June', 'July', 'August', 'September', 'October', 'November', 'December'] \n",
    "# for month in range(0, 12):\n",
    "#         print(f\"{months[month]}\")\n",
    "len(months)\n",
    "for unitcode in np_df['UnitCode']:\n",
    "    #print(f\"Processing Unit Code = {unitcode} for {query_year}...\")   \n",
    "    # construct the query\n",
    "    URL = f'https://irmaservices.nps.gov/v3/rest/stats/visitation?unitCodes={unitcode}&startMonth=01&startYear={query_year}&endMonth=12&endYear={query_year}&format=json'\n",
    "\n",
    "    response = requests.get(URL).json()\n",
    "\n",
    "    for month in range(0,len(response)):\n",
    "     #     print(f\"{month}\")\n",
    "    #     print(f\"{unitcode} National Park had {response[month]['RecreationVisitors']} visitors\" +\n",
    "    #           f\" in the month of {months[month]} in 2019\")\n",
    "          park_visitor_data.append([unitcode, \n",
    "                          month,\n",
    "                          response[month]['RecreationVisitors']])\n",
    "          \n",
    "# # print(\"Processing complete\")    \n",
    "visitor_df = pd.DataFrame(park_visitor_data, columns=column_names)\n"
   ]
  },
  {
   "cell_type": "code",
   "execution_count": 33,
   "metadata": {},
   "outputs": [
    {
     "data": {
      "text/html": [
       "<div>\n",
       "<style scoped>\n",
       "    .dataframe tbody tr th:only-of-type {\n",
       "        vertical-align: middle;\n",
       "    }\n",
       "\n",
       "    .dataframe tbody tr th {\n",
       "        vertical-align: top;\n",
       "    }\n",
       "\n",
       "    .dataframe thead th {\n",
       "        text-align: right;\n",
       "    }\n",
       "</style>\n",
       "<table border=\"1\" class=\"dataframe\">\n",
       "  <thead>\n",
       "    <tr style=\"text-align: right;\">\n",
       "      <th></th>\n",
       "      <th>UnitCode</th>\n",
       "      <th>Month</th>\n",
       "      <th>Visitors</th>\n",
       "    </tr>\n",
       "  </thead>\n",
       "  <tbody>\n",
       "    <tr>\n",
       "      <th>0</th>\n",
       "      <td>ACAD</td>\n",
       "      <td>0</td>\n",
       "      <td>8532</td>\n",
       "    </tr>\n",
       "    <tr>\n",
       "      <th>1</th>\n",
       "      <td>ACAD</td>\n",
       "      <td>1</td>\n",
       "      <td>9154</td>\n",
       "    </tr>\n",
       "    <tr>\n",
       "      <th>2</th>\n",
       "      <td>ACAD</td>\n",
       "      <td>2</td>\n",
       "      <td>20161</td>\n",
       "    </tr>\n",
       "  </tbody>\n",
       "</table>\n",
       "</div>"
      ],
      "text/plain": [
       "  UnitCode  Month  Visitors\n",
       "0     ACAD      0      8532\n",
       "1     ACAD      1      9154\n",
       "2     ACAD      2     20161"
      ]
     },
     "execution_count": 33,
     "metadata": {},
     "output_type": "execute_result"
    }
   ],
   "source": [
    "visitor_df.head(3)"
   ]
  },
  {
   "cell_type": "code",
   "execution_count": 36,
   "metadata": {},
   "outputs": [
    {
     "data": {
      "text/html": [
       "<div>\n",
       "<style scoped>\n",
       "    .dataframe tbody tr th:only-of-type {\n",
       "        vertical-align: middle;\n",
       "    }\n",
       "\n",
       "    .dataframe tbody tr th {\n",
       "        vertical-align: top;\n",
       "    }\n",
       "\n",
       "    .dataframe thead th {\n",
       "        text-align: right;\n",
       "    }\n",
       "</style>\n",
       "<table border=\"1\" class=\"dataframe\">\n",
       "  <thead>\n",
       "    <tr style=\"text-align: right;\">\n",
       "      <th></th>\n",
       "      <th>State</th>\n",
       "      <th>UnitCode</th>\n",
       "      <th>Park</th>\n",
       "      <th>Lat</th>\n",
       "      <th>Lon</th>\n",
       "    </tr>\n",
       "  </thead>\n",
       "  <tbody>\n",
       "    <tr>\n",
       "      <th>0</th>\n",
       "      <td>ME</td>\n",
       "      <td>ACAD</td>\n",
       "      <td>Acadia National Park</td>\n",
       "      <td>44.307775</td>\n",
       "      <td>-68.300633</td>\n",
       "    </tr>\n",
       "    <tr>\n",
       "      <th>1</th>\n",
       "      <td>UT</td>\n",
       "      <td>ARCH</td>\n",
       "      <td>Arches National Park</td>\n",
       "      <td>38.722618</td>\n",
       "      <td>-109.586367</td>\n",
       "    </tr>\n",
       "    <tr>\n",
       "      <th>2</th>\n",
       "      <td>SD</td>\n",
       "      <td>BADL</td>\n",
       "      <td>Badlands National Park</td>\n",
       "      <td>43.685848</td>\n",
       "      <td>-102.482942</td>\n",
       "    </tr>\n",
       "  </tbody>\n",
       "</table>\n",
       "</div>"
      ],
      "text/plain": [
       "  State UnitCode                    Park        Lat         Lon\n",
       "0    ME     ACAD    Acadia National Park  44.307775  -68.300633\n",
       "1    UT     ARCH    Arches National Park  38.722618 -109.586367\n",
       "2    SD     BADL  Badlands National Park  43.685848 -102.482942"
      ]
     },
     "execution_count": 36,
     "metadata": {},
     "output_type": "execute_result"
    }
   ],
   "source": [
    "#park_lat_lon_df = pd.DataFrame(latlon, columns = ['State','ParkCode','Park', 'Lat', 'Lon'])\n",
    "park_lat_lon_df = park_lat_lon_df.rename(columns={'ParkCode':'UnitCode'})\n",
    "park_lat_lon_df.head(3)\n"
   ]
  },
  {
   "cell_type": "code",
   "execution_count": 49,
   "metadata": {},
   "outputs": [
    {
     "data": {
      "text/html": [
       "<div>\n",
       "<style scoped>\n",
       "    .dataframe tbody tr th:only-of-type {\n",
       "        vertical-align: middle;\n",
       "    }\n",
       "\n",
       "    .dataframe tbody tr th {\n",
       "        vertical-align: top;\n",
       "    }\n",
       "\n",
       "    .dataframe thead th {\n",
       "        text-align: right;\n",
       "    }\n",
       "</style>\n",
       "<table border=\"1\" class=\"dataframe\">\n",
       "  <thead>\n",
       "    <tr style=\"text-align: right;\">\n",
       "      <th></th>\n",
       "      <th>UnitCode</th>\n",
       "      <th>Month</th>\n",
       "      <th>Visitors</th>\n",
       "      <th>StateCode</th>\n",
       "      <th>Park</th>\n",
       "      <th>Lat</th>\n",
       "      <th>Lon</th>\n",
       "    </tr>\n",
       "  </thead>\n",
       "  <tbody>\n",
       "    <tr>\n",
       "      <th>0</th>\n",
       "      <td>ACAD</td>\n",
       "      <td>0</td>\n",
       "      <td>8532</td>\n",
       "      <td>ME</td>\n",
       "      <td>Acadia National Park</td>\n",
       "      <td>44.307775</td>\n",
       "      <td>-68.300633</td>\n",
       "    </tr>\n",
       "    <tr>\n",
       "      <th>1</th>\n",
       "      <td>ACAD</td>\n",
       "      <td>1</td>\n",
       "      <td>9154</td>\n",
       "      <td>ME</td>\n",
       "      <td>Acadia National Park</td>\n",
       "      <td>44.307775</td>\n",
       "      <td>-68.300633</td>\n",
       "    </tr>\n",
       "  </tbody>\n",
       "</table>\n",
       "</div>"
      ],
      "text/plain": [
       "  UnitCode  Month  Visitors StateCode                  Park        Lat  \\\n",
       "0     ACAD      0      8532        ME  Acadia National Park  44.307775   \n",
       "1     ACAD      1      9154        ME  Acadia National Park  44.307775   \n",
       "\n",
       "         Lon  \n",
       "0 -68.300633  \n",
       "1 -68.300633  "
      ]
     },
     "execution_count": 49,
     "metadata": {},
     "output_type": "execute_result"
    }
   ],
   "source": [
    "# MERGE ATTEMPT \n",
    "\n",
    "visitor_by_month_df = visitor_df.merge(park_lat_lon_df, on='UnitCode', how='left')\n",
    "#df1.merge(df2,how='left', left_on='Column1', right_on='ColumnA')\n",
    "visitor_by_month_df = visitor_by_month_df.rename(columns={'State':'StateCode'})\n",
    "visitor_by_month_df.head(2)"
   ]
  },
  {
   "cell_type": "code",
   "execution_count": 45,
   "metadata": {},
   "outputs": [
    {
     "data": {
      "text/html": [
       "<div>\n",
       "<style scoped>\n",
       "    .dataframe tbody tr th:only-of-type {\n",
       "        vertical-align: middle;\n",
       "    }\n",
       "\n",
       "    .dataframe tbody tr th {\n",
       "        vertical-align: top;\n",
       "    }\n",
       "\n",
       "    .dataframe thead th {\n",
       "        text-align: right;\n",
       "    }\n",
       "</style>\n",
       "<table border=\"1\" class=\"dataframe\">\n",
       "  <thead>\n",
       "    <tr style=\"text-align: right;\">\n",
       "      <th></th>\n",
       "      <th>Name</th>\n",
       "      <th>Population</th>\n",
       "      <th>Latitude</th>\n",
       "      <th>Longitude</th>\n",
       "      <th>StateCode</th>\n",
       "    </tr>\n",
       "  </thead>\n",
       "  <tbody>\n",
       "    <tr>\n",
       "      <th>0</th>\n",
       "      <td>Puerto Rico</td>\n",
       "      <td>3468963.0</td>\n",
       "      <td>18.2001</td>\n",
       "      <td>-66.6645</td>\n",
       "      <td>Puerto Rico</td>\n",
       "    </tr>\n",
       "    <tr>\n",
       "      <th>1</th>\n",
       "      <td>Alabama</td>\n",
       "      <td>4850771.0</td>\n",
       "      <td>32.7794</td>\n",
       "      <td>-86.8287</td>\n",
       "      <td>AL</td>\n",
       "    </tr>\n",
       "    <tr>\n",
       "      <th>2</th>\n",
       "      <td>Alaska</td>\n",
       "      <td>738565.0</td>\n",
       "      <td>64.0685</td>\n",
       "      <td>-152.2782</td>\n",
       "      <td>AK</td>\n",
       "    </tr>\n",
       "  </tbody>\n",
       "</table>\n",
       "</div>"
      ],
      "text/plain": [
       "          Name  Population  Latitude  Longitude    StateCode\n",
       "0  Puerto Rico   3468963.0   18.2001   -66.6645  Puerto Rico\n",
       "1      Alabama   4850771.0   32.7794   -86.8287           AL\n",
       "2       Alaska    738565.0   64.0685  -152.2782           AK"
      ]
     },
     "execution_count": 45,
     "metadata": {},
     "output_type": "execute_result"
    }
   ],
   "source": [
    "pop_df.head(3)"
   ]
  },
  {
   "cell_type": "code",
   "execution_count": 50,
   "metadata": {},
   "outputs": [
    {
     "data": {
      "text/html": [
       "<div>\n",
       "<style scoped>\n",
       "    .dataframe tbody tr th:only-of-type {\n",
       "        vertical-align: middle;\n",
       "    }\n",
       "\n",
       "    .dataframe tbody tr th {\n",
       "        vertical-align: top;\n",
       "    }\n",
       "\n",
       "    .dataframe thead th {\n",
       "        text-align: right;\n",
       "    }\n",
       "</style>\n",
       "<table border=\"1\" class=\"dataframe\">\n",
       "  <thead>\n",
       "    <tr style=\"text-align: right;\">\n",
       "      <th></th>\n",
       "      <th>UnitCode</th>\n",
       "      <th>Month</th>\n",
       "      <th>Visitors</th>\n",
       "      <th>StateCode</th>\n",
       "      <th>Park</th>\n",
       "      <th>Lat</th>\n",
       "      <th>Lon</th>\n",
       "      <th>Name</th>\n",
       "      <th>Population</th>\n",
       "      <th>Latitude</th>\n",
       "      <th>Longitude</th>\n",
       "    </tr>\n",
       "  </thead>\n",
       "  <tbody>\n",
       "    <tr>\n",
       "      <th>0</th>\n",
       "      <td>ACAD</td>\n",
       "      <td>0</td>\n",
       "      <td>8532</td>\n",
       "      <td>ME</td>\n",
       "      <td>Acadia National Park</td>\n",
       "      <td>44.307775</td>\n",
       "      <td>-68.300633</td>\n",
       "      <td>Maine</td>\n",
       "      <td>1330158.0</td>\n",
       "      <td>45.3695</td>\n",
       "      <td>-69.2428</td>\n",
       "    </tr>\n",
       "    <tr>\n",
       "      <th>1</th>\n",
       "      <td>ACAD</td>\n",
       "      <td>1</td>\n",
       "      <td>9154</td>\n",
       "      <td>ME</td>\n",
       "      <td>Acadia National Park</td>\n",
       "      <td>44.307775</td>\n",
       "      <td>-68.300633</td>\n",
       "      <td>Maine</td>\n",
       "      <td>1330158.0</td>\n",
       "      <td>45.3695</td>\n",
       "      <td>-69.2428</td>\n",
       "    </tr>\n",
       "    <tr>\n",
       "      <th>2</th>\n",
       "      <td>ACAD</td>\n",
       "      <td>2</td>\n",
       "      <td>20161</td>\n",
       "      <td>ME</td>\n",
       "      <td>Acadia National Park</td>\n",
       "      <td>44.307775</td>\n",
       "      <td>-68.300633</td>\n",
       "      <td>Maine</td>\n",
       "      <td>1330158.0</td>\n",
       "      <td>45.3695</td>\n",
       "      <td>-69.2428</td>\n",
       "    </tr>\n",
       "    <tr>\n",
       "      <th>3</th>\n",
       "      <td>ACAD</td>\n",
       "      <td>3</td>\n",
       "      <td>68046</td>\n",
       "      <td>ME</td>\n",
       "      <td>Acadia National Park</td>\n",
       "      <td>44.307775</td>\n",
       "      <td>-68.300633</td>\n",
       "      <td>Maine</td>\n",
       "      <td>1330158.0</td>\n",
       "      <td>45.3695</td>\n",
       "      <td>-69.2428</td>\n",
       "    </tr>\n",
       "    <tr>\n",
       "      <th>4</th>\n",
       "      <td>ACAD</td>\n",
       "      <td>4</td>\n",
       "      <td>226156</td>\n",
       "      <td>ME</td>\n",
       "      <td>Acadia National Park</td>\n",
       "      <td>44.307775</td>\n",
       "      <td>-68.300633</td>\n",
       "      <td>Maine</td>\n",
       "      <td>1330158.0</td>\n",
       "      <td>45.3695</td>\n",
       "      <td>-69.2428</td>\n",
       "    </tr>\n",
       "  </tbody>\n",
       "</table>\n",
       "</div>"
      ],
      "text/plain": [
       "  UnitCode  Month  Visitors StateCode                  Park        Lat  \\\n",
       "0     ACAD      0      8532        ME  Acadia National Park  44.307775   \n",
       "1     ACAD      1      9154        ME  Acadia National Park  44.307775   \n",
       "2     ACAD      2     20161        ME  Acadia National Park  44.307775   \n",
       "3     ACAD      3     68046        ME  Acadia National Park  44.307775   \n",
       "4     ACAD      4    226156        ME  Acadia National Park  44.307775   \n",
       "\n",
       "         Lon   Name  Population  Latitude  Longitude  \n",
       "0 -68.300633  Maine   1330158.0   45.3695   -69.2428  \n",
       "1 -68.300633  Maine   1330158.0   45.3695   -69.2428  \n",
       "2 -68.300633  Maine   1330158.0   45.3695   -69.2428  \n",
       "3 -68.300633  Maine   1330158.0   45.3695   -69.2428  \n",
       "4 -68.300633  Maine   1330158.0   45.3695   -69.2428  "
      ]
     },
     "execution_count": 50,
     "metadata": {},
     "output_type": "execute_result"
    }
   ],
   "source": [
    "#### ANOTHER MERGE ATTEMPT\n",
    "visitor_pop_df = visitor_by_month_df.merge(pop_df, on='StateCode', how='left')\n",
    "visitor_pop_df.head(5)"
   ]
  },
  {
   "cell_type": "code",
   "execution_count": null,
   "metadata": {},
   "outputs": [],
   "source": [
    "by_year = visitor_df.groupby('UnitCode').sum()\n",
    "by_year"
   ]
  },
  {
   "cell_type": "code",
   "execution_count": null,
   "metadata": {},
   "outputs": [],
   "source": [
    "# Save the updated dataframe as a csv\n",
    "visitor_df.to_csv(\"./Resources/state_park_visitor_data.csv\", encoding=\"utf-8\", index=False)\n",
    "visitor_df.head()  #VALIDATED AGAINST PARK WEBSITE DATA"
   ]
  },
  {
   "cell_type": "code",
   "execution_count": 44,
   "metadata": {},
   "outputs": [
    {
     "data": {
      "text/html": [
       "<div>\n",
       "<style scoped>\n",
       "    .dataframe tbody tr th:only-of-type {\n",
       "        vertical-align: middle;\n",
       "    }\n",
       "\n",
       "    .dataframe tbody tr th {\n",
       "        vertical-align: top;\n",
       "    }\n",
       "\n",
       "    .dataframe thead th {\n",
       "        text-align: right;\n",
       "    }\n",
       "</style>\n",
       "<table border=\"1\" class=\"dataframe\">\n",
       "  <thead>\n",
       "    <tr style=\"text-align: right;\">\n",
       "      <th></th>\n",
       "      <th>Name</th>\n",
       "      <th>Population</th>\n",
       "      <th>Latitude</th>\n",
       "      <th>Longitude</th>\n",
       "      <th>StateCode</th>\n",
       "    </tr>\n",
       "  </thead>\n",
       "  <tbody>\n",
       "    <tr>\n",
       "      <th>0</th>\n",
       "      <td>Puerto Rico</td>\n",
       "      <td>3468963.0</td>\n",
       "      <td>18.2001</td>\n",
       "      <td>-66.6645</td>\n",
       "      <td>Puerto Rico</td>\n",
       "    </tr>\n",
       "    <tr>\n",
       "      <th>1</th>\n",
       "      <td>Alabama</td>\n",
       "      <td>4850771.0</td>\n",
       "      <td>32.7794</td>\n",
       "      <td>-86.8287</td>\n",
       "      <td>AL</td>\n",
       "    </tr>\n",
       "    <tr>\n",
       "      <th>2</th>\n",
       "      <td>Alaska</td>\n",
       "      <td>738565.0</td>\n",
       "      <td>64.0685</td>\n",
       "      <td>-152.2782</td>\n",
       "      <td>AK</td>\n",
       "    </tr>\n",
       "  </tbody>\n",
       "</table>\n",
       "</div>"
      ],
      "text/plain": [
       "          Name  Population  Latitude  Longitude    StateCode\n",
       "0  Puerto Rico   3468963.0   18.2001   -66.6645  Puerto Rico\n",
       "1      Alabama   4850771.0   32.7794   -86.8287           AL\n",
       "2       Alaska    738565.0   64.0685  -152.2782           AK"
      ]
     },
     "execution_count": 44,
     "metadata": {},
     "output_type": "execute_result"
    }
   ],
   "source": []
  },
  {
   "cell_type": "code",
   "execution_count": null,
   "metadata": {},
   "outputs": [],
   "source": [
    "gas_url = \"http://devapi.mygasfeed.com/\"\n",
    "apikey = \"rfej9napna\"  #Waiting for own API KEY THIS IS GENERIC\n",
    "\n",
    "#houston 29.7604° N, 95.3698° W\n",
    "Latitude   = \"29.7604\"\n",
    "Longitude  = \"-95.3698\"\n",
    "distance   = 30          # Valid values must be less than 50\n",
    "fuel_type  =  \"reg\"  # Valid values  reg,mid,pre,diesel\n",
    "\n",
    "query = f\"stations/radius/{Latitude}/{Longitude}/{distance}/{fuel_type}/price/{apikey}.json?\"\n",
    "\n",
    "url = gas_url+query\n",
    "print(url)   #uncomment to test url by clicking on it \n",
    "\n",
    "response = requests.get(url).json()\n",
    "\n",
    "print(response)\n",
    "response"
   ]
  },
  {
   "cell_type": "code",
   "execution_count": null,
   "metadata": {},
   "outputs": [],
   "source": [
    "print(f\"{eia_key}\")"
   ]
  },
  {
   "cell_type": "code",
   "execution_count": null,
   "metadata": {},
   "outputs": [],
   "source": [
    "#http://api.eia.gov/series/?api_key=YOUR_API_KEY_HERE&series_id=TOTAL.MGUCUUS.M\n",
    " # WAITING ON A KEY\n",
    "url= f\"http://api.eia.gov/category/?api_key={eia_key}&category_id=711295\"\n",
    "url = f\"http://api.eia.gov/series/?api_key={eihttp://api.eia.gov/series/?api_key=95abebd4884337a93dda412e59cda738&series_id=TOTAL.MGUCUUS.Ma_key}&series_id=TOTAL.MGUCUUS.M\"\n",
    "print(url)\n"
   ]
  },
  {
   "cell_type": "markdown",
   "metadata": {},
   "source": [
    "### PLOTLY\n"
   ]
  },
  {
   "cell_type": "code",
   "execution_count": null,
   "metadata": {},
   "outputs": [],
   "source": [
    "census_pd.head()"
   ]
  },
  {
   "cell_type": "code",
   "execution_count": null,
   "metadata": {},
   "outputs": [],
   "source": [
    "by_year.head()"
   ]
  },
  {
   "cell_type": "code",
   "execution_count": 51,
   "metadata": {},
   "outputs": [
    {
     "data": {
      "text/html": [
       "<div>\n",
       "<style scoped>\n",
       "    .dataframe tbody tr th:only-of-type {\n",
       "        vertical-align: middle;\n",
       "    }\n",
       "\n",
       "    .dataframe tbody tr th {\n",
       "        vertical-align: top;\n",
       "    }\n",
       "\n",
       "    .dataframe thead th {\n",
       "        text-align: right;\n",
       "    }\n",
       "</style>\n",
       "<table border=\"1\" class=\"dataframe\">\n",
       "  <thead>\n",
       "    <tr style=\"text-align: right;\">\n",
       "      <th></th>\n",
       "      <th>UnitCode</th>\n",
       "      <th>Month</th>\n",
       "      <th>Visitors</th>\n",
       "      <th>StateCode</th>\n",
       "      <th>Park</th>\n",
       "      <th>Lat</th>\n",
       "      <th>Lon</th>\n",
       "      <th>Name</th>\n",
       "      <th>Population</th>\n",
       "      <th>Latitude</th>\n",
       "      <th>Longitude</th>\n",
       "    </tr>\n",
       "  </thead>\n",
       "  <tbody>\n",
       "    <tr>\n",
       "      <th>0</th>\n",
       "      <td>ACAD</td>\n",
       "      <td>0</td>\n",
       "      <td>8532</td>\n",
       "      <td>ME</td>\n",
       "      <td>Acadia National Park</td>\n",
       "      <td>44.307775</td>\n",
       "      <td>-68.300633</td>\n",
       "      <td>Maine</td>\n",
       "      <td>1330158.0</td>\n",
       "      <td>45.3695</td>\n",
       "      <td>-69.2428</td>\n",
       "    </tr>\n",
       "    <tr>\n",
       "      <th>1</th>\n",
       "      <td>ACAD</td>\n",
       "      <td>1</td>\n",
       "      <td>9154</td>\n",
       "      <td>ME</td>\n",
       "      <td>Acadia National Park</td>\n",
       "      <td>44.307775</td>\n",
       "      <td>-68.300633</td>\n",
       "      <td>Maine</td>\n",
       "      <td>1330158.0</td>\n",
       "      <td>45.3695</td>\n",
       "      <td>-69.2428</td>\n",
       "    </tr>\n",
       "    <tr>\n",
       "      <th>2</th>\n",
       "      <td>ACAD</td>\n",
       "      <td>2</td>\n",
       "      <td>20161</td>\n",
       "      <td>ME</td>\n",
       "      <td>Acadia National Park</td>\n",
       "      <td>44.307775</td>\n",
       "      <td>-68.300633</td>\n",
       "      <td>Maine</td>\n",
       "      <td>1330158.0</td>\n",
       "      <td>45.3695</td>\n",
       "      <td>-69.2428</td>\n",
       "    </tr>\n",
       "    <tr>\n",
       "      <th>3</th>\n",
       "      <td>ACAD</td>\n",
       "      <td>3</td>\n",
       "      <td>68046</td>\n",
       "      <td>ME</td>\n",
       "      <td>Acadia National Park</td>\n",
       "      <td>44.307775</td>\n",
       "      <td>-68.300633</td>\n",
       "      <td>Maine</td>\n",
       "      <td>1330158.0</td>\n",
       "      <td>45.3695</td>\n",
       "      <td>-69.2428</td>\n",
       "    </tr>\n",
       "    <tr>\n",
       "      <th>4</th>\n",
       "      <td>ACAD</td>\n",
       "      <td>4</td>\n",
       "      <td>226156</td>\n",
       "      <td>ME</td>\n",
       "      <td>Acadia National Park</td>\n",
       "      <td>44.307775</td>\n",
       "      <td>-68.300633</td>\n",
       "      <td>Maine</td>\n",
       "      <td>1330158.0</td>\n",
       "      <td>45.3695</td>\n",
       "      <td>-69.2428</td>\n",
       "    </tr>\n",
       "  </tbody>\n",
       "</table>\n",
       "</div>"
      ],
      "text/plain": [
       "  UnitCode  Month  Visitors StateCode                  Park        Lat  \\\n",
       "0     ACAD      0      8532        ME  Acadia National Park  44.307775   \n",
       "1     ACAD      1      9154        ME  Acadia National Park  44.307775   \n",
       "2     ACAD      2     20161        ME  Acadia National Park  44.307775   \n",
       "3     ACAD      3     68046        ME  Acadia National Park  44.307775   \n",
       "4     ACAD      4    226156        ME  Acadia National Park  44.307775   \n",
       "\n",
       "         Lon   Name  Population  Latitude  Longitude  \n",
       "0 -68.300633  Maine   1330158.0   45.3695   -69.2428  \n",
       "1 -68.300633  Maine   1330158.0   45.3695   -69.2428  \n",
       "2 -68.300633  Maine   1330158.0   45.3695   -69.2428  \n",
       "3 -68.300633  Maine   1330158.0   45.3695   -69.2428  \n",
       "4 -68.300633  Maine   1330158.0   45.3695   -69.2428  "
      ]
     },
     "execution_count": 51,
     "metadata": {},
     "output_type": "execute_result"
    }
   ],
   "source": [
    "visitor_pop_df.head()"
   ]
  },
  {
   "cell_type": "code",
   "execution_count": 63,
   "metadata": {},
   "outputs": [
    {
     "data": {
      "application/vnd.plotly.v1+json": {
       "config": {
        "plotlyServerURL": "https://plot.ly"
       },
       "data": [
        {
         "hoverlabel": {
          "namelength": 0
         },
         "hovertemplate": "<b>%{hovertext}</b><br><br>UnitCode=ACAD<br>Month=%{x}<br>Visitors=%{marker.size}",
         "hovertext": [
          "Acadia National Park",
          "Acadia National Park",
          "Acadia National Park",
          "Acadia National Park",
          "Acadia National Park",
          "Acadia National Park",
          "Acadia National Park",
          "Acadia National Park",
          "Acadia National Park",
          "Acadia National Park",
          "Acadia National Park",
          "Acadia National Park"
         ],
         "legendgroup": "ACAD",
         "marker": {
          "color": "#636efa",
          "size": [
           8532,
           9154,
           20161,
           68046,
           226156,
           490720,
           756439,
           759735,
           603273,
           436194,
           46011,
           12865
          ],
          "sizemode": "area",
          "sizeref": 4032.8325,
          "symbol": "circle"
         },
         "mode": "markers",
         "name": "ACAD",
         "showlegend": true,
         "type": "scatter",
         "x": [
          0,
          1,
          2,
          3,
          4,
          5,
          6,
          7,
          8,
          9,
          10,
          11
         ],
         "xaxis": "x",
         "y": [
          8532,
          9154,
          20161,
          68046,
          226156,
          490720,
          756439,
          759735,
          603273,
          436194,
          46011,
          12865
         ],
         "yaxis": "y"
        },
        {
         "hoverlabel": {
          "namelength": 0
         },
         "hovertemplate": "<b>%{hovertext}</b><br><br>UnitCode=ARCH<br>Month=%{x}<br>Visitors=%{marker.size}",
         "hovertext": [
          "Arches National Park",
          "Arches National Park",
          "Arches National Park",
          "Arches National Park",
          "Arches National Park",
          "Arches National Park",
          "Arches National Park",
          "Arches National Park",
          "Arches National Park",
          "Arches National Park",
          "Arches National Park",
          "Arches National Park"
         ],
         "legendgroup": "ARCH",
         "marker": {
          "color": "#EF553B",
          "size": [
           21499,
           30239,
           132191,
           168788,
           217474,
           225206,
           208993,
           184890,
           207857,
           149764,
           73420,
           39381
          ],
          "sizemode": "area",
          "sizeref": 4032.8325,
          "symbol": "circle"
         },
         "mode": "markers",
         "name": "ARCH",
         "showlegend": true,
         "type": "scatter",
         "x": [
          0,
          1,
          2,
          3,
          4,
          5,
          6,
          7,
          8,
          9,
          10,
          11
         ],
         "xaxis": "x",
         "y": [
          21499,
          30239,
          132191,
          168788,
          217474,
          225206,
          208993,
          184890,
          207857,
          149764,
          73420,
          39381
         ],
         "yaxis": "y"
        },
        {
         "hoverlabel": {
          "namelength": 0
         },
         "hovertemplate": "<b>%{hovertext}</b><br><br>UnitCode=BADL<br>Month=%{x}<br>Visitors=%{marker.size}",
         "hovertext": [
          "Badlands National Park",
          "Badlands National Park",
          "Badlands National Park",
          "Badlands National Park",
          "Badlands National Park",
          "Badlands National Park",
          "Badlands National Park",
          "Badlands National Park",
          "Badlands National Park",
          "Badlands National Park",
          "Badlands National Park",
          "Badlands National Park"
         ],
         "legendgroup": "BADL",
         "marker": {
          "color": "#00cc96",
          "size": [
           8981,
           8059,
           16517,
           25083,
           71885,
           201516,
           250898,
           207743,
           118262,
           37727,
           15450,
           8877
          ],
          "sizemode": "area",
          "sizeref": 4032.8325,
          "symbol": "circle"
         },
         "mode": "markers",
         "name": "BADL",
         "showlegend": true,
         "type": "scatter",
         "x": [
          0,
          1,
          2,
          3,
          4,
          5,
          6,
          7,
          8,
          9,
          10,
          11
         ],
         "xaxis": "x",
         "y": [
          8981,
          8059,
          16517,
          25083,
          71885,
          201516,
          250898,
          207743,
          118262,
          37727,
          15450,
          8877
         ],
         "yaxis": "y"
        },
        {
         "hoverlabel": {
          "namelength": 0
         },
         "hovertemplate": "<b>%{hovertext}</b><br><br>UnitCode=BIBE<br>Month=%{x}<br>Visitors=%{marker.size}",
         "hovertext": [
          "Big Bend National Park",
          "Big Bend National Park",
          "Big Bend National Park",
          "Big Bend National Park",
          "Big Bend National Park",
          "Big Bend National Park",
          "Big Bend National Park",
          "Big Bend National Park",
          "Big Bend National Park",
          "Big Bend National Park",
          "Big Bend National Park",
          "Big Bend National Park"
         ],
         "legendgroup": "BIBE",
         "marker": {
          "color": "#ab63fa",
          "size": [
           29318,
           43129,
           83826,
           49312,
           37411,
           21228,
           21747,
           17238,
           21246,
           42724,
           50688,
           45965
          ],
          "sizemode": "area",
          "sizeref": 4032.8325,
          "symbol": "circle"
         },
         "mode": "markers",
         "name": "BIBE",
         "showlegend": true,
         "type": "scatter",
         "x": [
          0,
          1,
          2,
          3,
          4,
          5,
          6,
          7,
          8,
          9,
          10,
          11
         ],
         "xaxis": "x",
         "y": [
          29318,
          43129,
          83826,
          49312,
          37411,
          21228,
          21747,
          17238,
          21246,
          42724,
          50688,
          45965
         ],
         "yaxis": "y"
        },
        {
         "hoverlabel": {
          "namelength": 0
         },
         "hovertemplate": "<b>%{hovertext}</b><br><br>UnitCode=BISC<br>Month=%{x}<br>Visitors=%{marker.size}",
         "hovertext": [
          "Biscayne National Park",
          "Biscayne National Park",
          "Biscayne National Park",
          "Biscayne National Park",
          "Biscayne National Park",
          "Biscayne National Park",
          "Biscayne National Park",
          "Biscayne National Park",
          "Biscayne National Park",
          "Biscayne National Park",
          "Biscayne National Park",
          "Biscayne National Park"
         ],
         "legendgroup": "BISC",
         "marker": {
          "color": "#FFA15A",
          "size": [
           50873,
           59754,
           76685,
           64172,
           79779,
           65173,
           60239,
           46191,
           46723,
           38582,
           59948,
           60403
          ],
          "sizemode": "area",
          "sizeref": 4032.8325,
          "symbol": "circle"
         },
         "mode": "markers",
         "name": "BISC",
         "showlegend": true,
         "type": "scatter",
         "x": [
          0,
          1,
          2,
          3,
          4,
          5,
          6,
          7,
          8,
          9,
          10,
          11
         ],
         "xaxis": "x",
         "y": [
          50873,
          59754,
          76685,
          64172,
          79779,
          65173,
          60239,
          46191,
          46723,
          38582,
          59948,
          60403
         ],
         "yaxis": "y"
        },
        {
         "hoverlabel": {
          "namelength": 0
         },
         "hovertemplate": "<b>%{hovertext}</b><br><br>UnitCode=BLCA<br>Month=%{x}<br>Visitors=%{marker.size}",
         "hovertext": [
          "Black Canyon Of The Gunnison National Park",
          "Black Canyon Of The Gunnison National Park",
          "Black Canyon Of The Gunnison National Park",
          "Black Canyon Of The Gunnison National Park",
          "Black Canyon Of The Gunnison National Park",
          "Black Canyon Of The Gunnison National Park",
          "Black Canyon Of The Gunnison National Park",
          "Black Canyon Of The Gunnison National Park",
          "Black Canyon Of The Gunnison National Park",
          "Black Canyon Of The Gunnison National Park",
          "Black Canyon Of The Gunnison National Park",
          "Black Canyon Of The Gunnison National Park"
         ],
         "legendgroup": "BLCA",
         "marker": {
          "color": "#19d3f3",
          "size": [
           4921,
           6369,
           12180,
           25077,
           75198,
           75289,
           51368,
           80046,
           48420,
           25828,
           22684,
           5438
          ],
          "sizemode": "area",
          "sizeref": 4032.8325,
          "symbol": "circle"
         },
         "mode": "markers",
         "name": "BLCA",
         "showlegend": true,
         "type": "scatter",
         "x": [
          0,
          1,
          2,
          3,
          4,
          5,
          6,
          7,
          8,
          9,
          10,
          11
         ],
         "xaxis": "x",
         "y": [
          4921,
          6369,
          12180,
          25077,
          75198,
          75289,
          51368,
          80046,
          48420,
          25828,
          22684,
          5438
         ],
         "yaxis": "y"
        },
        {
         "hoverlabel": {
          "namelength": 0
         },
         "hovertemplate": "<b>%{hovertext}</b><br><br>UnitCode=BRCA<br>Month=%{x}<br>Visitors=%{marker.size}",
         "hovertext": [
          "Bryce Canyon National Park",
          "Bryce Canyon National Park",
          "Bryce Canyon National Park",
          "Bryce Canyon National Park",
          "Bryce Canyon National Park",
          "Bryce Canyon National Park",
          "Bryce Canyon National Park",
          "Bryce Canyon National Park",
          "Bryce Canyon National Park",
          "Bryce Canyon National Park",
          "Bryce Canyon National Park",
          "Bryce Canyon National Park"
         ],
         "legendgroup": "BRCA",
         "marker": {
          "color": "#FF6692",
          "size": [
           36860,
           29813,
           75853,
           207061,
           327975,
           398290,
           401970,
           383458,
           392428,
           232094,
           65748,
           43354
          ],
          "sizemode": "area",
          "sizeref": 4032.8325,
          "symbol": "circle"
         },
         "mode": "markers",
         "name": "BRCA",
         "showlegend": true,
         "type": "scatter",
         "x": [
          0,
          1,
          2,
          3,
          4,
          5,
          6,
          7,
          8,
          9,
          10,
          11
         ],
         "xaxis": "x",
         "y": [
          36860,
          29813,
          75853,
          207061,
          327975,
          398290,
          401970,
          383458,
          392428,
          232094,
          65748,
          43354
         ],
         "yaxis": "y"
        },
        {
         "hoverlabel": {
          "namelength": 0
         },
         "hovertemplate": "<b>%{hovertext}</b><br><br>UnitCode=CANY<br>Month=%{x}<br>Visitors=%{marker.size}",
         "hovertext": [
          "Canyonlands National Park",
          "Canyonlands National Park",
          "Canyonlands National Park",
          "Canyonlands National Park",
          "Canyonlands National Park",
          "Canyonlands National Park",
          "Canyonlands National Park",
          "Canyonlands National Park",
          "Canyonlands National Park",
          "Canyonlands National Park",
          "Canyonlands National Park",
          "Canyonlands National Park"
         ],
         "legendgroup": "CANY",
         "marker": {
          "color": "#B6E880",
          "size": [
           7146,
           9705,
           60792,
           89861,
           114464,
           92295,
           64672,
           69297,
           97817,
           82642,
           31582,
           13723
          ],
          "sizemode": "area",
          "sizeref": 4032.8325,
          "symbol": "circle"
         },
         "mode": "markers",
         "name": "CANY",
         "showlegend": true,
         "type": "scatter",
         "x": [
          0,
          1,
          2,
          3,
          4,
          5,
          6,
          7,
          8,
          9,
          10,
          11
         ],
         "xaxis": "x",
         "y": [
          7146,
          9705,
          60792,
          89861,
          114464,
          92295,
          64672,
          69297,
          97817,
          82642,
          31582,
          13723
         ],
         "yaxis": "y"
        },
        {
         "hoverlabel": {
          "namelength": 0
         },
         "hovertemplate": "<b>%{hovertext}</b><br><br>UnitCode=CARE<br>Month=%{x}<br>Visitors=%{marker.size}",
         "hovertext": [
          "Capitol Reef National Park",
          "Capitol Reef National Park",
          "Capitol Reef National Park",
          "Capitol Reef National Park",
          "Capitol Reef National Park",
          "Capitol Reef National Park",
          "Capitol Reef National Park",
          "Capitol Reef National Park",
          "Capitol Reef National Park",
          "Capitol Reef National Park",
          "Capitol Reef National Park",
          "Capitol Reef National Park"
         ],
         "legendgroup": "CARE",
         "marker": {
          "color": "#FF97FF",
          "size": [
           11893,
           12368,
           73416,
           147156,
           196840,
           151410,
           129372,
           127341,
           170057,
           146664,
           42859,
           17143
          ],
          "sizemode": "area",
          "sizeref": 4032.8325,
          "symbol": "circle"
         },
         "mode": "markers",
         "name": "CARE",
         "showlegend": true,
         "type": "scatter",
         "x": [
          0,
          1,
          2,
          3,
          4,
          5,
          6,
          7,
          8,
          9,
          10,
          11
         ],
         "xaxis": "x",
         "y": [
          11893,
          12368,
          73416,
          147156,
          196840,
          151410,
          129372,
          127341,
          170057,
          146664,
          42859,
          17143
         ],
         "yaxis": "y"
        },
        {
         "hoverlabel": {
          "namelength": 0
         },
         "hovertemplate": "<b>%{hovertext}</b><br><br>UnitCode=CAVE<br>Month=%{x}<br>Visitors=%{marker.size}",
         "hovertext": [
          "Carlsbad Caverns National Park",
          "Carlsbad Caverns National Park",
          "Carlsbad Caverns National Park",
          "Carlsbad Caverns National Park",
          "Carlsbad Caverns National Park",
          "Carlsbad Caverns National Park",
          "Carlsbad Caverns National Park",
          "Carlsbad Caverns National Park",
          "Carlsbad Caverns National Park",
          "Carlsbad Caverns National Park",
          "Carlsbad Caverns National Park",
          "Carlsbad Caverns National Park"
         ],
         "legendgroup": "CAVE",
         "marker": {
          "color": "#FECB52",
          "size": [
           3093,
           19470,
           56581,
           37543,
           41516,
           57111,
           69444,
           36354,
           28455,
           33014,
           27519,
           30591
          ],
          "sizemode": "area",
          "sizeref": 4032.8325,
          "symbol": "circle"
         },
         "mode": "markers",
         "name": "CAVE",
         "showlegend": true,
         "type": "scatter",
         "x": [
          0,
          1,
          2,
          3,
          4,
          5,
          6,
          7,
          8,
          9,
          10,
          11
         ],
         "xaxis": "x",
         "y": [
          3093,
          19470,
          56581,
          37543,
          41516,
          57111,
          69444,
          36354,
          28455,
          33014,
          27519,
          30591
         ],
         "yaxis": "y"
        },
        {
         "hoverlabel": {
          "namelength": 0
         },
         "hovertemplate": "<b>%{hovertext}</b><br><br>UnitCode=CHIS<br>Month=%{x}<br>Visitors=%{marker.size}",
         "hovertext": [
          "Channel Islands National Park",
          "Channel Islands National Park",
          "Channel Islands National Park",
          "Channel Islands National Park",
          "Channel Islands National Park",
          "Channel Islands National Park",
          "Channel Islands National Park",
          "Channel Islands National Park",
          "Channel Islands National Park",
          "Channel Islands National Park",
          "Channel Islands National Park",
          "Channel Islands National Park"
         ],
         "legendgroup": "CHIS",
         "marker": {
          "color": "#636efa",
          "size": [
           9193,
           22263,
           34951,
           39218,
           39070,
           44915,
           47581,
           49793,
           38681,
           36691,
           25212,
           22062
          ],
          "sizemode": "area",
          "sizeref": 4032.8325,
          "symbol": "circle"
         },
         "mode": "markers",
         "name": "CHIS",
         "showlegend": true,
         "type": "scatter",
         "x": [
          0,
          1,
          2,
          3,
          4,
          5,
          6,
          7,
          8,
          9,
          10,
          11
         ],
         "xaxis": "x",
         "y": [
          9193,
          22263,
          34951,
          39218,
          39070,
          44915,
          47581,
          49793,
          38681,
          36691,
          25212,
          22062
         ],
         "yaxis": "y"
        },
        {
         "hoverlabel": {
          "namelength": 0
         },
         "hovertemplate": "<b>%{hovertext}</b><br><br>UnitCode=CONG<br>Month=%{x}<br>Visitors=%{marker.size}",
         "hovertext": [
          "Congaree National Park",
          "Congaree National Park",
          "Congaree National Park",
          "Congaree National Park",
          "Congaree National Park",
          "Congaree National Park",
          "Congaree National Park",
          "Congaree National Park",
          "Congaree National Park",
          "Congaree National Park",
          "Congaree National Park",
          "Congaree National Park"
         ],
         "legendgroup": "CONG",
         "marker": {
          "color": "#EF553B",
          "size": [
           7000,
           10910,
           17121,
           15408,
           28786,
           13282,
           10936,
           11028,
           8312,
           13902,
           11765,
           10995
          ],
          "sizemode": "area",
          "sizeref": 4032.8325,
          "symbol": "circle"
         },
         "mode": "markers",
         "name": "CONG",
         "showlegend": true,
         "type": "scatter",
         "x": [
          0,
          1,
          2,
          3,
          4,
          5,
          6,
          7,
          8,
          9,
          10,
          11
         ],
         "xaxis": "x",
         "y": [
          7000,
          10910,
          17121,
          15408,
          28786,
          13282,
          10936,
          11028,
          8312,
          13902,
          11765,
          10995
         ],
         "yaxis": "y"
        },
        {
         "hoverlabel": {
          "namelength": 0
         },
         "hovertemplate": "<b>%{hovertext}</b><br><br>UnitCode=CRLA<br>Month=%{x}<br>Visitors=%{marker.size}",
         "hovertext": [
          "Crater Lake National Park",
          "Crater Lake National Park",
          "Crater Lake National Park",
          "Crater Lake National Park",
          "Crater Lake National Park",
          "Crater Lake National Park",
          "Crater Lake National Park",
          "Crater Lake National Park",
          "Crater Lake National Park",
          "Crater Lake National Park",
          "Crater Lake National Park",
          "Crater Lake National Park"
         ],
         "legendgroup": "CRLA",
         "marker": {
          "color": "#00cc96",
          "size": [
           3120,
           2436,
           4800,
           15898,
           44808,
           103442,
           201191,
           163472,
           98266,
           41635,
           16843,
           8601
          ],
          "sizemode": "area",
          "sizeref": 4032.8325,
          "symbol": "circle"
         },
         "mode": "markers",
         "name": "CRLA",
         "showlegend": true,
         "type": "scatter",
         "x": [
          0,
          1,
          2,
          3,
          4,
          5,
          6,
          7,
          8,
          9,
          10,
          11
         ],
         "xaxis": "x",
         "y": [
          3120,
          2436,
          4800,
          15898,
          44808,
          103442,
          201191,
          163472,
          98266,
          41635,
          16843,
          8601
         ],
         "yaxis": "y"
        },
        {
         "hoverlabel": {
          "namelength": 0
         },
         "hovertemplate": "<b>%{hovertext}</b><br><br>UnitCode=CUVA<br>Month=%{x}<br>Visitors=%{marker.size}",
         "hovertext": [
          "Cuyahoga Valley National Park",
          "Cuyahoga Valley National Park",
          "Cuyahoga Valley National Park",
          "Cuyahoga Valley National Park",
          "Cuyahoga Valley National Park",
          "Cuyahoga Valley National Park",
          "Cuyahoga Valley National Park",
          "Cuyahoga Valley National Park",
          "Cuyahoga Valley National Park",
          "Cuyahoga Valley National Park",
          "Cuyahoga Valley National Park",
          "Cuyahoga Valley National Park"
         ],
         "legendgroup": "CUVA",
         "marker": {
          "color": "#ab63fa",
          "size": [
           88020,
           82061,
           126521,
           177318,
           225949,
           284079,
           284928,
           285616,
           226681,
           203708,
           142329,
           110787
          ],
          "sizemode": "area",
          "sizeref": 4032.8325,
          "symbol": "circle"
         },
         "mode": "markers",
         "name": "CUVA",
         "showlegend": true,
         "type": "scatter",
         "x": [
          0,
          1,
          2,
          3,
          4,
          5,
          6,
          7,
          8,
          9,
          10,
          11
         ],
         "xaxis": "x",
         "y": [
          88020,
          82061,
          126521,
          177318,
          225949,
          284079,
          284928,
          285616,
          226681,
          203708,
          142329,
          110787
         ],
         "yaxis": "y"
        },
        {
         "hoverlabel": {
          "namelength": 0
         },
         "hovertemplate": "<b>%{hovertext}</b><br><br>UnitCode=DEVA<br>Month=%{x}<br>Visitors=%{marker.size}",
         "hovertext": [
          "Death Valley National Park",
          "Death Valley National Park",
          "Death Valley National Park",
          "Death Valley National Park",
          "Death Valley National Park",
          "Death Valley National Park",
          "Death Valley National Park",
          "Death Valley National Park",
          "Death Valley National Park",
          "Death Valley National Park",
          "Death Valley National Park",
          "Death Valley National Park"
         ],
         "legendgroup": "DEVA",
         "marker": {
          "color": "#FFA15A",
          "size": [
           111954,
           112925,
           178553,
           177696,
           155378,
           122013,
           142487,
           165632,
           168894,
           138152,
           132013,
           135248
          ],
          "sizemode": "area",
          "sizeref": 4032.8325,
          "symbol": "circle"
         },
         "mode": "markers",
         "name": "DEVA",
         "showlegend": true,
         "type": "scatter",
         "x": [
          0,
          1,
          2,
          3,
          4,
          5,
          6,
          7,
          8,
          9,
          10,
          11
         ],
         "xaxis": "x",
         "y": [
          111954,
          112925,
          178553,
          177696,
          155378,
          122013,
          142487,
          165632,
          168894,
          138152,
          132013,
          135248
         ],
         "yaxis": "y"
        },
        {
         "hoverlabel": {
          "namelength": 0
         },
         "hovertemplate": "<b>%{hovertext}</b><br><br>UnitCode=DRTO<br>Month=%{x}<br>Visitors=%{marker.size}",
         "hovertext": [
          "Dry Tortugas National Park",
          "Dry Tortugas National Park",
          "Dry Tortugas National Park",
          "Dry Tortugas National Park",
          "Dry Tortugas National Park",
          "Dry Tortugas National Park",
          "Dry Tortugas National Park",
          "Dry Tortugas National Park",
          "Dry Tortugas National Park",
          "Dry Tortugas National Park",
          "Dry Tortugas National Park",
          "Dry Tortugas National Park"
         ],
         "legendgroup": "DRTO",
         "marker": {
          "color": "#19d3f3",
          "size": [
           6179,
           6937,
           7417,
           7720,
           8124,
           8041,
           7692,
           6658,
           4694,
           4432,
           5336,
           5970
          ],
          "sizemode": "area",
          "sizeref": 4032.8325,
          "symbol": "circle"
         },
         "mode": "markers",
         "name": "DRTO",
         "showlegend": true,
         "type": "scatter",
         "x": [
          0,
          1,
          2,
          3,
          4,
          5,
          6,
          7,
          8,
          9,
          10,
          11
         ],
         "xaxis": "x",
         "y": [
          6179,
          6937,
          7417,
          7720,
          8124,
          8041,
          7692,
          6658,
          4694,
          4432,
          5336,
          5970
         ],
         "yaxis": "y"
        },
        {
         "hoverlabel": {
          "namelength": 0
         },
         "hovertemplate": "<b>%{hovertext}</b><br><br>UnitCode=EVER<br>Month=%{x}<br>Visitors=%{marker.size}",
         "hovertext": [
          "Everglades National Park",
          "Everglades National Park",
          "Everglades National Park",
          "Everglades National Park",
          "Everglades National Park",
          "Everglades National Park",
          "Everglades National Park",
          "Everglades National Park",
          "Everglades National Park",
          "Everglades National Park",
          "Everglades National Park",
          "Everglades National Park"
         ],
         "legendgroup": "EVER",
         "marker": {
          "color": "#FF6692",
          "size": [
           85838,
           96953,
           146859,
           131278,
           77435,
           68267,
           63394,
           80177,
           60469,
           70222,
           103643,
           133765
          ],
          "sizemode": "area",
          "sizeref": 4032.8325,
          "symbol": "circle"
         },
         "mode": "markers",
         "name": "EVER",
         "showlegend": true,
         "type": "scatter",
         "x": [
          0,
          1,
          2,
          3,
          4,
          5,
          6,
          7,
          8,
          9,
          10,
          11
         ],
         "xaxis": "x",
         "y": [
          85838,
          96953,
          146859,
          131278,
          77435,
          68267,
          63394,
          80177,
          60469,
          70222,
          103643,
          133765
         ],
         "yaxis": "y"
        },
        {
         "hoverlabel": {
          "namelength": 0
         },
         "hovertemplate": "<b>%{hovertext}</b><br><br>UnitCode=GLAC<br>Month=%{x}<br>Visitors=%{marker.size}",
         "hovertext": [
          "Glacier National Park",
          "Glacier National Park",
          "Glacier National Park",
          "Glacier National Park",
          "Glacier National Park",
          "Glacier National Park",
          "Glacier National Park",
          "Glacier National Park",
          "Glacier National Park",
          "Glacier National Park",
          "Glacier National Park",
          "Glacier National Park"
         ],
         "legendgroup": "GLAC",
         "marker": {
          "color": "#B6E880",
          "size": [
           13581,
           11240,
           23989,
           35491,
           167403,
           544088,
           879711,
           771874,
           488909,
           78408,
           20008,
           15137
          ],
          "sizemode": "area",
          "sizeref": 4032.8325,
          "symbol": "circle"
         },
         "mode": "markers",
         "name": "GLAC",
         "showlegend": true,
         "type": "scatter",
         "x": [
          0,
          1,
          2,
          3,
          4,
          5,
          6,
          7,
          8,
          9,
          10,
          11
         ],
         "xaxis": "x",
         "y": [
          13581,
          11240,
          23989,
          35491,
          167403,
          544088,
          879711,
          771874,
          488909,
          78408,
          20008,
          15137
         ],
         "yaxis": "y"
        },
        {
         "hoverlabel": {
          "namelength": 0
         },
         "hovertemplate": "<b>%{hovertext}</b><br><br>UnitCode=GRBA<br>Month=%{x}<br>Visitors=%{marker.size}",
         "hovertext": [
          "Great Basin National Park",
          "Great Basin National Park",
          "Great Basin National Park",
          "Great Basin National Park",
          "Great Basin National Park",
          "Great Basin National Park",
          "Great Basin National Park",
          "Great Basin National Park",
          "Great Basin National Park",
          "Great Basin National Park",
          "Great Basin National Park",
          "Great Basin National Park"
         ],
         "legendgroup": "GRBA",
         "marker": {
          "color": "#FF97FF",
          "size": [
           689,
           1060,
           2391,
           6100,
           11516,
           23246,
           23290,
           24674,
           22735,
           11772,
           3330,
           999
          ],
          "sizemode": "area",
          "sizeref": 4032.8325,
          "symbol": "circle"
         },
         "mode": "markers",
         "name": "GRBA",
         "showlegend": true,
         "type": "scatter",
         "x": [
          0,
          1,
          2,
          3,
          4,
          5,
          6,
          7,
          8,
          9,
          10,
          11
         ],
         "xaxis": "x",
         "y": [
          689,
          1060,
          2391,
          6100,
          11516,
          23246,
          23290,
          24674,
          22735,
          11772,
          3330,
          999
         ],
         "yaxis": "y"
        },
        {
         "hoverlabel": {
          "namelength": 0
         },
         "hovertemplate": "<b>%{hovertext}</b><br><br>UnitCode=GRCA<br>Month=%{x}<br>Visitors=%{marker.size}",
         "hovertext": [
          "Grand Canyon National Park",
          "Grand Canyon National Park",
          "Grand Canyon National Park",
          "Grand Canyon National Park",
          "Grand Canyon National Park",
          "Grand Canyon National Park",
          "Grand Canyon National Park",
          "Grand Canyon National Park",
          "Grand Canyon National Park",
          "Grand Canyon National Park",
          "Grand Canyon National Park",
          "Grand Canyon National Park"
         ],
         "legendgroup": "GRCA",
         "marker": {
          "color": "#FECB52",
          "size": [
           225056,
           213050,
           451228,
           562265,
           618598,
           643821,
           756860,
           700896,
           578852,
           551558,
           347847,
           324380
          ],
          "sizemode": "area",
          "sizeref": 4032.8325,
          "symbol": "circle"
         },
         "mode": "markers",
         "name": "GRCA",
         "showlegend": true,
         "type": "scatter",
         "x": [
          0,
          1,
          2,
          3,
          4,
          5,
          6,
          7,
          8,
          9,
          10,
          11
         ],
         "xaxis": "x",
         "y": [
          225056,
          213050,
          451228,
          562265,
          618598,
          643821,
          756860,
          700896,
          578852,
          551558,
          347847,
          324380
         ],
         "yaxis": "y"
        },
        {
         "hoverlabel": {
          "namelength": 0
         },
         "hovertemplate": "<b>%{hovertext}</b><br><br>UnitCode=GRSM<br>Month=%{x}<br>Visitors=%{marker.size}",
         "hovertext": [
          "Great Smoky Mountains National Park",
          "Great Smoky Mountains National Park",
          "Great Smoky Mountains National Park",
          "Great Smoky Mountains National Park",
          "Great Smoky Mountains National Park",
          "Great Smoky Mountains National Park",
          "Great Smoky Mountains National Park",
          "Great Smoky Mountains National Park",
          "Great Smoky Mountains National Park",
          "Great Smoky Mountains National Park",
          "Great Smoky Mountains National Park",
          "Great Smoky Mountains National Park"
         ],
         "legendgroup": "GRSM",
         "marker": {
          "color": "#636efa",
          "size": [
           496743,
           421770,
           786305,
           999259,
           1096056,
           1469857,
           1613133,
           1411231,
           1273326,
           1408013,
           851419,
           720631
          ],
          "sizemode": "area",
          "sizeref": 4032.8325,
          "symbol": "circle"
         },
         "mode": "markers",
         "name": "GRSM",
         "showlegend": true,
         "type": "scatter",
         "x": [
          0,
          1,
          2,
          3,
          4,
          5,
          6,
          7,
          8,
          9,
          10,
          11
         ],
         "xaxis": "x",
         "y": [
          496743,
          421770,
          786305,
          999259,
          1096056,
          1469857,
          1613133,
          1411231,
          1273326,
          1408013,
          851419,
          720631
         ],
         "yaxis": "y"
        },
        {
         "hoverlabel": {
          "namelength": 0
         },
         "hovertemplate": "<b>%{hovertext}</b><br><br>UnitCode=GRTE<br>Month=%{x}<br>Visitors=%{marker.size}",
         "hovertext": [
          "Grand Teton National Park",
          "Grand Teton National Park",
          "Grand Teton National Park",
          "Grand Teton National Park",
          "Grand Teton National Park",
          "Grand Teton National Park",
          "Grand Teton National Park",
          "Grand Teton National Park",
          "Grand Teton National Park",
          "Grand Teton National Park",
          "Grand Teton National Park",
          "Grand Teton National Park"
         ],
         "legendgroup": "GRTE",
         "marker": {
          "color": "#EF553B",
          "size": [
           56635,
           43913,
           65864,
           59105,
           278529,
           625441,
           775788,
           702022,
           517265,
           186487,
           48132,
           46433
          ],
          "sizemode": "area",
          "sizeref": 4032.8325,
          "symbol": "circle"
         },
         "mode": "markers",
         "name": "GRTE",
         "showlegend": true,
         "type": "scatter",
         "x": [
          0,
          1,
          2,
          3,
          4,
          5,
          6,
          7,
          8,
          9,
          10,
          11
         ],
         "xaxis": "x",
         "y": [
          56635,
          43913,
          65864,
          59105,
          278529,
          625441,
          775788,
          702022,
          517265,
          186487,
          48132,
          46433
         ],
         "yaxis": "y"
        },
        {
         "hoverlabel": {
          "namelength": 0
         },
         "hovertemplate": "<b>%{hovertext}</b><br><br>UnitCode=GUMO<br>Month=%{x}<br>Visitors=%{marker.size}",
         "hovertext": [
          "Guadalupe Mountains National Park",
          "Guadalupe Mountains National Park",
          "Guadalupe Mountains National Park",
          "Guadalupe Mountains National Park",
          "Guadalupe Mountains National Park",
          "Guadalupe Mountains National Park",
          "Guadalupe Mountains National Park",
          "Guadalupe Mountains National Park",
          "Guadalupe Mountains National Park",
          "Guadalupe Mountains National Park",
          "Guadalupe Mountains National Park",
          "Guadalupe Mountains National Park"
         ],
         "legendgroup": "GUMO",
         "marker": {
          "color": "#00cc96",
          "size": [
           1049,
           9462,
           27831,
           20970,
           25204,
           14376,
           13540,
           10532,
           12157,
           23513,
           15161,
           15038
          ],
          "sizemode": "area",
          "sizeref": 4032.8325,
          "symbol": "circle"
         },
         "mode": "markers",
         "name": "GUMO",
         "showlegend": true,
         "type": "scatter",
         "x": [
          0,
          1,
          2,
          3,
          4,
          5,
          6,
          7,
          8,
          9,
          10,
          11
         ],
         "xaxis": "x",
         "y": [
          1049,
          9462,
          27831,
          20970,
          25204,
          14376,
          13540,
          10532,
          12157,
          23513,
          15161,
          15038
         ],
         "yaxis": "y"
        },
        {
         "hoverlabel": {
          "namelength": 0
         },
         "hovertemplate": "<b>%{hovertext}</b><br><br>UnitCode=HALE<br>Month=%{x}<br>Visitors=%{marker.size}",
         "hovertext": [
          "Haleakal&#257; National Park",
          "Haleakal&#257; National Park",
          "Haleakal&#257; National Park",
          "Haleakal&#257; National Park",
          "Haleakal&#257; National Park",
          "Haleakal&#257; National Park",
          "Haleakal&#257; National Park",
          "Haleakal&#257; National Park",
          "Haleakal&#257; National Park",
          "Haleakal&#257; National Park",
          "Haleakal&#257; National Park",
          "Haleakal&#257; National Park"
         ],
         "legendgroup": "HALE",
         "marker": {
          "color": "#ab63fa",
          "size": [
           53523,
           83666,
           93074,
           87763,
           85159,
           85338,
           86267,
           84618,
           98856,
           73204,
           72075,
           90851
          ],
          "sizemode": "area",
          "sizeref": 4032.8325,
          "symbol": "circle"
         },
         "mode": "markers",
         "name": "HALE",
         "showlegend": true,
         "type": "scatter",
         "x": [
          0,
          1,
          2,
          3,
          4,
          5,
          6,
          7,
          8,
          9,
          10,
          11
         ],
         "xaxis": "x",
         "y": [
          53523,
          83666,
          93074,
          87763,
          85159,
          85338,
          86267,
          84618,
          98856,
          73204,
          72075,
          90851
         ],
         "yaxis": "y"
        },
        {
         "hoverlabel": {
          "namelength": 0
         },
         "hovertemplate": "<b>%{hovertext}</b><br><br>UnitCode=HAVO<br>Month=%{x}<br>Visitors=%{marker.size}",
         "hovertext": [
          "Hawai'i Volcanoes National Park",
          "Hawai'i Volcanoes National Park",
          "Hawai'i Volcanoes National Park",
          "Hawai'i Volcanoes National Park",
          "Hawai'i Volcanoes National Park",
          "Hawai'i Volcanoes National Park",
          "Hawai'i Volcanoes National Park",
          "Hawai'i Volcanoes National Park",
          "Hawai'i Volcanoes National Park",
          "Hawai'i Volcanoes National Park",
          "Hawai'i Volcanoes National Park",
          "Hawai'i Volcanoes National Park"
         ],
         "legendgroup": "HAVO",
         "marker": {
          "color": "#FFA15A",
          "size": [
           128836,
           120931,
           113452,
           103247,
           102792,
           113015,
           133249,
           125357,
           92720,
           96054,
           107457,
           131266
          ],
          "sizemode": "area",
          "sizeref": 4032.8325,
          "symbol": "circle"
         },
         "mode": "markers",
         "name": "HAVO",
         "showlegend": true,
         "type": "scatter",
         "x": [
          0,
          1,
          2,
          3,
          4,
          5,
          6,
          7,
          8,
          9,
          10,
          11
         ],
         "xaxis": "x",
         "y": [
          128836,
          120931,
          113452,
          103247,
          102792,
          113015,
          133249,
          125357,
          92720,
          96054,
          107457,
          131266
         ],
         "yaxis": "y"
        },
        {
         "hoverlabel": {
          "namelength": 0
         },
         "hovertemplate": "<b>%{hovertext}</b><br><br>UnitCode=HOSP<br>Month=%{x}<br>Visitors=%{marker.size}",
         "hovertext": [
          "Hot Springs National Park",
          "Hot Springs National Park",
          "Hot Springs National Park",
          "Hot Springs National Park",
          "Hot Springs National Park",
          "Hot Springs National Park",
          "Hot Springs National Park",
          "Hot Springs National Park",
          "Hot Springs National Park",
          "Hot Springs National Park",
          "Hot Springs National Park",
          "Hot Springs National Park"
         ],
         "legendgroup": "HOSP",
         "marker": {
          "color": "#19d3f3",
          "size": [
           73964,
           79322,
           125290,
           113397,
           136514,
           149049,
           139005,
           181982,
           143915,
           137861,
           108534,
           78320
          ],
          "sizemode": "area",
          "sizeref": 4032.8325,
          "symbol": "circle"
         },
         "mode": "markers",
         "name": "HOSP",
         "showlegend": true,
         "type": "scatter",
         "x": [
          0,
          1,
          2,
          3,
          4,
          5,
          6,
          7,
          8,
          9,
          10,
          11
         ],
         "xaxis": "x",
         "y": [
          73964,
          79322,
          125290,
          113397,
          136514,
          149049,
          139005,
          181982,
          143915,
          137861,
          108534,
          78320
         ],
         "yaxis": "y"
        },
        {
         "hoverlabel": {
          "namelength": 0
         },
         "hovertemplate": "<b>%{hovertext}</b><br><br>UnitCode=INDU<br>Month=%{x}<br>Visitors=%{marker.size}",
         "hovertext": [
          "Indiana Dunes National Park",
          "Indiana Dunes National Park",
          "Indiana Dunes National Park",
          "Indiana Dunes National Park",
          "Indiana Dunes National Park",
          "Indiana Dunes National Park",
          "Indiana Dunes National Park",
          "Indiana Dunes National Park",
          "Indiana Dunes National Park",
          "Indiana Dunes National Park",
          "Indiana Dunes National Park",
          "Indiana Dunes National Park"
         ],
         "legendgroup": "INDU",
         "marker": {
          "color": "#FF6692",
          "size": [
           69916,
           85702,
           219070,
           107862,
           142403,
           302203,
           449968,
           290469,
           206226,
           105984,
           79674,
           74808
          ],
          "sizemode": "area",
          "sizeref": 4032.8325,
          "symbol": "circle"
         },
         "mode": "markers",
         "name": "INDU",
         "showlegend": true,
         "type": "scatter",
         "x": [
          0,
          1,
          2,
          3,
          4,
          5,
          6,
          7,
          8,
          9,
          10,
          11
         ],
         "xaxis": "x",
         "y": [
          69916,
          85702,
          219070,
          107862,
          142403,
          302203,
          449968,
          290469,
          206226,
          105984,
          79674,
          74808
         ],
         "yaxis": "y"
        },
        {
         "hoverlabel": {
          "namelength": 0
         },
         "hovertemplate": "<b>%{hovertext}</b><br><br>UnitCode=ISRO<br>Month=%{x}<br>Visitors=%{marker.size}",
         "hovertext": [
          "Isle Royale National Park",
          "Isle Royale National Park",
          "Isle Royale National Park",
          "Isle Royale National Park",
          "Isle Royale National Park",
          "Isle Royale National Park",
          "Isle Royale National Park",
          "Isle Royale National Park",
          "Isle Royale National Park",
          "Isle Royale National Park",
          "Isle Royale National Park",
          "Isle Royale National Park"
         ],
         "legendgroup": "ISRO",
         "marker": {
          "color": "#B6E880",
          "size": [
           4,
           37,
           55,
           61,
           1055,
           4837,
           7714,
           8798,
           3342,
           402,
           47,
           58
          ],
          "sizemode": "area",
          "sizeref": 4032.8325,
          "symbol": "circle"
         },
         "mode": "markers",
         "name": "ISRO",
         "showlegend": true,
         "type": "scatter",
         "x": [
          0,
          1,
          2,
          3,
          4,
          5,
          6,
          7,
          8,
          9,
          10,
          11
         ],
         "xaxis": "x",
         "y": [
          4,
          37,
          55,
          61,
          1055,
          4837,
          7714,
          8798,
          3342,
          402,
          47,
          58
         ],
         "yaxis": "y"
        },
        {
         "hoverlabel": {
          "namelength": 0
         },
         "hovertemplate": "<b>%{hovertext}</b><br><br>UnitCode=JEFF<br>Month=%{x}<br>Visitors=%{marker.size}",
         "hovertext": [
          "Gateway Arch National Park",
          "Gateway Arch National Park",
          "Gateway Arch National Park",
          "Gateway Arch National Park",
          "Gateway Arch National Park",
          "Gateway Arch National Park",
          "Gateway Arch National Park",
          "Gateway Arch National Park",
          "Gateway Arch National Park",
          "Gateway Arch National Park",
          "Gateway Arch National Park",
          "Gateway Arch National Park"
         ],
         "legendgroup": "JEFF",
         "marker": {
          "color": "#FF97FF",
          "size": [
           18962,
           51416,
           164238,
           138309,
           165964,
           296149,
           583866,
           208999,
           127764,
           122770,
           91836,
           85036
          ],
          "sizemode": "area",
          "sizeref": 4032.8325,
          "symbol": "circle"
         },
         "mode": "markers",
         "name": "JEFF",
         "showlegend": true,
         "type": "scatter",
         "x": [
          0,
          1,
          2,
          3,
          4,
          5,
          6,
          7,
          8,
          9,
          10,
          11
         ],
         "xaxis": "x",
         "y": [
          18962,
          51416,
          164238,
          138309,
          165964,
          296149,
          583866,
          208999,
          127764,
          122770,
          91836,
          85036
         ],
         "yaxis": "y"
        },
        {
         "hoverlabel": {
          "namelength": 0
         },
         "hovertemplate": "<b>%{hovertext}</b><br><br>UnitCode=JOTR<br>Month=%{x}<br>Visitors=%{marker.size}",
         "hovertext": [
          "Joshua Tree National Park",
          "Joshua Tree National Park",
          "Joshua Tree National Park",
          "Joshua Tree National Park",
          "Joshua Tree National Park",
          "Joshua Tree National Park",
          "Joshua Tree National Park",
          "Joshua Tree National Park",
          "Joshua Tree National Park",
          "Joshua Tree National Park",
          "Joshua Tree National Park",
          "Joshua Tree National Park"
         ],
         "legendgroup": "JOTR",
         "marker": {
          "color": "#FECB52",
          "size": [
           195993,
           261230,
           469183,
           374789,
           250928,
           187551,
           138967,
           120911,
           160294,
           233995,
           291230,
           303476
          ],
          "sizemode": "area",
          "sizeref": 4032.8325,
          "symbol": "circle"
         },
         "mode": "markers",
         "name": "JOTR",
         "showlegend": true,
         "type": "scatter",
         "x": [
          0,
          1,
          2,
          3,
          4,
          5,
          6,
          7,
          8,
          9,
          10,
          11
         ],
         "xaxis": "x",
         "y": [
          195993,
          261230,
          469183,
          374789,
          250928,
          187551,
          138967,
          120911,
          160294,
          233995,
          291230,
          303476
         ],
         "yaxis": "y"
        },
        {
         "hoverlabel": {
          "namelength": 0
         },
         "hovertemplate": "<b>%{hovertext}</b><br><br>UnitCode=KEFJ<br>Month=%{x}<br>Visitors=%{marker.size}",
         "hovertext": [
          "Kenai Fjords National Park",
          "Kenai Fjords National Park",
          "Kenai Fjords National Park",
          "Kenai Fjords National Park",
          "Kenai Fjords National Park",
          "Kenai Fjords National Park",
          "Kenai Fjords National Park",
          "Kenai Fjords National Park",
          "Kenai Fjords National Park",
          "Kenai Fjords National Park",
          "Kenai Fjords National Park",
          "Kenai Fjords National Park"
         ],
         "legendgroup": "KEFJ",
         "marker": {
          "color": "#636efa",
          "size": [
           21,
           37,
           40,
           21,
           28944,
           91280,
           120632,
           78129,
           33346,
           4121,
           7,
           23
          ],
          "sizemode": "area",
          "sizeref": 4032.8325,
          "symbol": "circle"
         },
         "mode": "markers",
         "name": "KEFJ",
         "showlegend": true,
         "type": "scatter",
         "x": [
          0,
          1,
          2,
          3,
          4,
          5,
          6,
          7,
          8,
          9,
          10,
          11
         ],
         "xaxis": "x",
         "y": [
          21,
          37,
          40,
          21,
          28944,
          91280,
          120632,
          78129,
          33346,
          4121,
          7,
          23
         ],
         "yaxis": "y"
        },
        {
         "hoverlabel": {
          "namelength": 0
         },
         "hovertemplate": "<b>%{hovertext}</b><br><br>UnitCode=KICA<br>Month=%{x}<br>Visitors=%{marker.size}",
         "hovertext": [
          null,
          null,
          null,
          null,
          null,
          null,
          null,
          null,
          null,
          null,
          null,
          null
         ],
         "legendgroup": "KICA",
         "marker": {
          "color": "#EF553B",
          "size": [
           20295,
           9227,
           22067,
           41156,
           57345,
           90612,
           102440,
           113009,
           81206,
           55118,
           25439,
           14196
          ],
          "sizemode": "area",
          "sizeref": 4032.8325,
          "symbol": "circle"
         },
         "mode": "markers",
         "name": "KICA",
         "showlegend": true,
         "type": "scatter",
         "x": [
          0,
          1,
          2,
          3,
          4,
          5,
          6,
          7,
          8,
          9,
          10,
          11
         ],
         "xaxis": "x",
         "y": [
          20295,
          9227,
          22067,
          41156,
          57345,
          90612,
          102440,
          113009,
          81206,
          55118,
          25439,
          14196
         ],
         "yaxis": "y"
        },
        {
         "hoverlabel": {
          "namelength": 0
         },
         "hovertemplate": "<b>%{hovertext}</b><br><br>UnitCode=KOVA<br>Month=%{x}<br>Visitors=%{marker.size}",
         "hovertext": [
          "Kobuk Valley National Park",
          "Kobuk Valley National Park",
          "Kobuk Valley National Park",
          "Kobuk Valley National Park",
          "Kobuk Valley National Park",
          "Kobuk Valley National Park",
          "Kobuk Valley National Park",
          "Kobuk Valley National Park",
          "Kobuk Valley National Park",
          "Kobuk Valley National Park",
          "Kobuk Valley National Park",
          "Kobuk Valley National Park"
         ],
         "legendgroup": "KOVA",
         "marker": {
          "color": "#00cc96",
          "size": [
           1098,
           695,
           764,
           808,
           778,
           1398,
           1750,
           1770,
           1538,
           1987,
           1569,
           1611
          ],
          "sizemode": "area",
          "sizeref": 4032.8325,
          "symbol": "circle"
         },
         "mode": "markers",
         "name": "KOVA",
         "showlegend": true,
         "type": "scatter",
         "x": [
          0,
          1,
          2,
          3,
          4,
          5,
          6,
          7,
          8,
          9,
          10,
          11
         ],
         "xaxis": "x",
         "y": [
          1098,
          695,
          764,
          808,
          778,
          1398,
          1750,
          1770,
          1538,
          1987,
          1569,
          1611
         ],
         "yaxis": "y"
        },
        {
         "hoverlabel": {
          "namelength": 0
         },
         "hovertemplate": "<b>%{hovertext}</b><br><br>UnitCode=LAVO<br>Month=%{x}<br>Visitors=%{marker.size}",
         "hovertext": [
          "Lassen Volcanic National Park",
          "Lassen Volcanic National Park",
          "Lassen Volcanic National Park",
          "Lassen Volcanic National Park",
          "Lassen Volcanic National Park",
          "Lassen Volcanic National Park",
          "Lassen Volcanic National Park",
          "Lassen Volcanic National Park",
          "Lassen Volcanic National Park",
          "Lassen Volcanic National Park",
          "Lassen Volcanic National Park",
          "Lassen Volcanic National Park"
         ],
         "legendgroup": "LAVO",
         "marker": {
          "color": "#ab63fa",
          "size": [
           8646,
           6561,
           7944,
           12477,
           25170,
           63803,
           105535,
           98109,
           75502,
           88428,
           12879,
           11985
          ],
          "sizemode": "area",
          "sizeref": 4032.8325,
          "symbol": "circle"
         },
         "mode": "markers",
         "name": "LAVO",
         "showlegend": true,
         "type": "scatter",
         "x": [
          0,
          1,
          2,
          3,
          4,
          5,
          6,
          7,
          8,
          9,
          10,
          11
         ],
         "xaxis": "x",
         "y": [
          8646,
          6561,
          7944,
          12477,
          25170,
          63803,
          105535,
          98109,
          75502,
          88428,
          12879,
          11985
         ],
         "yaxis": "y"
        },
        {
         "hoverlabel": {
          "namelength": 0
         },
         "hovertemplate": "<b>%{hovertext}</b><br><br>UnitCode=MACA<br>Month=%{x}<br>Visitors=%{marker.size}",
         "hovertext": [
          "Mammoth Cave National Park",
          "Mammoth Cave National Park",
          "Mammoth Cave National Park",
          "Mammoth Cave National Park",
          "Mammoth Cave National Park",
          "Mammoth Cave National Park",
          "Mammoth Cave National Park",
          "Mammoth Cave National Park",
          "Mammoth Cave National Park",
          "Mammoth Cave National Park",
          "Mammoth Cave National Park",
          "Mammoth Cave National Park"
         ],
         "legendgroup": "MACA",
         "marker": {
          "color": "#FFA15A",
          "size": [
           3651,
           10346,
           45779,
           55210,
           53461,
           76995,
           102436,
           72400,
           43525,
           48713,
           22247,
           16827
          ],
          "sizemode": "area",
          "sizeref": 4032.8325,
          "symbol": "circle"
         },
         "mode": "markers",
         "name": "MACA",
         "showlegend": true,
         "type": "scatter",
         "x": [
          0,
          1,
          2,
          3,
          4,
          5,
          6,
          7,
          8,
          9,
          10,
          11
         ],
         "xaxis": "x",
         "y": [
          3651,
          10346,
          45779,
          55210,
          53461,
          76995,
          102436,
          72400,
          43525,
          48713,
          22247,
          16827
         ],
         "yaxis": "y"
        },
        {
         "hoverlabel": {
          "namelength": 0
         },
         "hovertemplate": "<b>%{hovertext}</b><br><br>UnitCode=MEVE<br>Month=%{x}<br>Visitors=%{marker.size}",
         "hovertext": [
          "Mesa Verde National Park",
          "Mesa Verde National Park",
          "Mesa Verde National Park",
          "Mesa Verde National Park",
          "Mesa Verde National Park",
          "Mesa Verde National Park",
          "Mesa Verde National Park",
          "Mesa Verde National Park",
          "Mesa Verde National Park",
          "Mesa Verde National Park",
          "Mesa Verde National Park",
          "Mesa Verde National Park"
         ],
         "legendgroup": "MEVE",
         "marker": {
          "color": "#19d3f3",
          "size": [
           95,
           3414,
           14992,
           32428,
           60665,
           108231,
           113166,
           87133,
           70865,
           47270,
           10201,
           7743
          ],
          "sizemode": "area",
          "sizeref": 4032.8325,
          "symbol": "circle"
         },
         "mode": "markers",
         "name": "MEVE",
         "showlegend": true,
         "type": "scatter",
         "x": [
          0,
          1,
          2,
          3,
          4,
          5,
          6,
          7,
          8,
          9,
          10,
          11
         ],
         "xaxis": "x",
         "y": [
          95,
          3414,
          14992,
          32428,
          60665,
          108231,
          113166,
          87133,
          70865,
          47270,
          10201,
          7743
         ],
         "yaxis": "y"
        },
        {
         "hoverlabel": {
          "namelength": 0
         },
         "hovertemplate": "<b>%{hovertext}</b><br><br>UnitCode=MORA<br>Month=%{x}<br>Visitors=%{marker.size}",
         "hovertext": [
          "Mount Rainier National Park",
          "Mount Rainier National Park",
          "Mount Rainier National Park",
          "Mount Rainier National Park",
          "Mount Rainier National Park",
          "Mount Rainier National Park",
          "Mount Rainier National Park",
          "Mount Rainier National Park",
          "Mount Rainier National Park",
          "Mount Rainier National Park",
          "Mount Rainier National Park",
          "Mount Rainier National Park"
         ],
         "legendgroup": "MORA",
         "marker": {
          "color": "#FF6692",
          "size": [
           12933,
           11743,
           32101,
           29632,
           106136,
           219641,
           365200,
           378305,
           184166,
           74355,
           48248,
           39161
          ],
          "sizemode": "area",
          "sizeref": 4032.8325,
          "symbol": "circle"
         },
         "mode": "markers",
         "name": "MORA",
         "showlegend": true,
         "type": "scatter",
         "x": [
          0,
          1,
          2,
          3,
          4,
          5,
          6,
          7,
          8,
          9,
          10,
          11
         ],
         "xaxis": "x",
         "y": [
          12933,
          11743,
          32101,
          29632,
          106136,
          219641,
          365200,
          378305,
          184166,
          74355,
          48248,
          39161
         ],
         "yaxis": "y"
        },
        {
         "hoverlabel": {
          "namelength": 0
         },
         "hovertemplate": "<b>%{hovertext}</b><br><br>UnitCode=NOCA<br>Month=%{x}<br>Visitors=%{marker.size}",
         "hovertext": [
          "North Cascades National Park",
          "North Cascades National Park",
          "North Cascades National Park",
          "North Cascades National Park",
          "North Cascades National Park",
          "North Cascades National Park",
          "North Cascades National Park",
          "North Cascades National Park",
          "North Cascades National Park",
          "North Cascades National Park",
          "North Cascades National Park",
          "North Cascades National Park"
         ],
         "legendgroup": "NOCA",
         "marker": {
          "color": "#B6E880",
          "size": [
           9,
           0,
           26,
           44,
           1241,
           4520,
           10656,
           12576,
           8581,
           373,
           101,
           81
          ],
          "sizemode": "area",
          "sizeref": 4032.8325,
          "symbol": "circle"
         },
         "mode": "markers",
         "name": "NOCA",
         "showlegend": true,
         "type": "scatter",
         "x": [
          0,
          1,
          2,
          3,
          4,
          5,
          6,
          7,
          8,
          9,
          10,
          11
         ],
         "xaxis": "x",
         "y": [
          9,
          0,
          26,
          44,
          1241,
          4520,
          10656,
          12576,
          8581,
          373,
          101,
          81
         ],
         "yaxis": "y"
        },
        {
         "hoverlabel": {
          "namelength": 0
         },
         "hovertemplate": "<b>%{hovertext}</b><br><br>UnitCode=NPSA<br>Month=%{x}<br>Visitors=%{marker.size}",
         "hovertext": [
          "National Park of American Samoa",
          "National Park of American Samoa",
          "National Park of American Samoa",
          "National Park of American Samoa",
          "National Park of American Samoa",
          "National Park of American Samoa",
          "National Park of American Samoa",
          "National Park of American Samoa",
          "National Park of American Samoa",
          "National Park of American Samoa",
          "National Park of American Samoa",
          "National Park of American Samoa"
         ],
         "legendgroup": "NPSA",
         "marker": {
          "color": "#FF97FF",
          "size": [
           792,
           3772,
           7152,
           7452,
           7772,
           3464,
           4059,
           4650,
           3933,
           6900,
           8456,
           1604
          ],
          "sizemode": "area",
          "sizeref": 4032.8325,
          "symbol": "circle"
         },
         "mode": "markers",
         "name": "NPSA",
         "showlegend": true,
         "type": "scatter",
         "x": [
          0,
          1,
          2,
          3,
          4,
          5,
          6,
          7,
          8,
          9,
          10,
          11
         ],
         "xaxis": "x",
         "y": [
          792,
          3772,
          7152,
          7452,
          7772,
          3464,
          4059,
          4650,
          3933,
          6900,
          8456,
          1604
         ],
         "yaxis": "y"
        },
        {
         "hoverlabel": {
          "namelength": 0
         },
         "hovertemplate": "<b>%{hovertext}</b><br><br>UnitCode=OLYM<br>Month=%{x}<br>Visitors=%{marker.size}",
         "hovertext": [
          "Olympic National Park",
          "Olympic National Park",
          "Olympic National Park",
          "Olympic National Park",
          "Olympic National Park",
          "Olympic National Park",
          "Olympic National Park",
          "Olympic National Park",
          "Olympic National Park",
          "Olympic National Park",
          "Olympic National Park",
          "Olympic National Park"
         ],
         "legendgroup": "OLYM",
         "marker": {
          "color": "#FECB52",
          "size": [
           72725,
           73756,
           113720,
           159983,
           307426,
           499728,
           517058,
           737996,
           399907,
           182944,
           108204,
           72359
          ],
          "sizemode": "area",
          "sizeref": 4032.8325,
          "symbol": "circle"
         },
         "mode": "markers",
         "name": "OLYM",
         "showlegend": true,
         "type": "scatter",
         "x": [
          0,
          1,
          2,
          3,
          4,
          5,
          6,
          7,
          8,
          9,
          10,
          11
         ],
         "xaxis": "x",
         "y": [
          72725,
          73756,
          113720,
          159983,
          307426,
          499728,
          517058,
          737996,
          399907,
          182944,
          108204,
          72359
         ],
         "yaxis": "y"
        },
        {
         "hoverlabel": {
          "namelength": 0
         },
         "hovertemplate": "<b>%{hovertext}</b><br><br>UnitCode=PEFO<br>Month=%{x}<br>Visitors=%{marker.size}",
         "hovertext": [
          "Petrified Forest National Park",
          "Petrified Forest National Park",
          "Petrified Forest National Park",
          "Petrified Forest National Park",
          "Petrified Forest National Park",
          "Petrified Forest National Park",
          "Petrified Forest National Park",
          "Petrified Forest National Park",
          "Petrified Forest National Park",
          "Petrified Forest National Park",
          "Petrified Forest National Park",
          "Petrified Forest National Park"
         ],
         "legendgroup": "PEFO",
         "marker": {
          "color": "#636efa",
          "size": [
           15341,
           21342,
           55187,
           56567,
           72802,
           95451,
           90546,
           62276,
           52525,
           57019,
           32092,
           32440
          ],
          "sizemode": "area",
          "sizeref": 4032.8325,
          "symbol": "circle"
         },
         "mode": "markers",
         "name": "PEFO",
         "showlegend": true,
         "type": "scatter",
         "x": [
          0,
          1,
          2,
          3,
          4,
          5,
          6,
          7,
          8,
          9,
          10,
          11
         ],
         "xaxis": "x",
         "y": [
          15341,
          21342,
          55187,
          56567,
          72802,
          95451,
          90546,
          62276,
          52525,
          57019,
          32092,
          32440
         ],
         "yaxis": "y"
        },
        {
         "hoverlabel": {
          "namelength": 0
         },
         "hovertemplate": "<b>%{hovertext}</b><br><br>UnitCode=PINN<br>Month=%{x}<br>Visitors=%{marker.size}",
         "hovertext": [
          "Pinnacles National Park",
          "Pinnacles National Park",
          "Pinnacles National Park",
          "Pinnacles National Park",
          "Pinnacles National Park",
          "Pinnacles National Park",
          "Pinnacles National Park",
          "Pinnacles National Park",
          "Pinnacles National Park",
          "Pinnacles National Park",
          "Pinnacles National Park",
          "Pinnacles National Park"
         ],
         "legendgroup": "PINN",
         "marker": {
          "color": "#EF553B",
          "size": [
           1154,
           11735,
           24681,
           16234,
           19398,
           19061,
           13016,
           16795,
           14165,
           14084,
           14786,
           12115
          ],
          "sizemode": "area",
          "sizeref": 4032.8325,
          "symbol": "circle"
         },
         "mode": "markers",
         "name": "PINN",
         "showlegend": true,
         "type": "scatter",
         "x": [
          0,
          1,
          2,
          3,
          4,
          5,
          6,
          7,
          8,
          9,
          10,
          11
         ],
         "xaxis": "x",
         "y": [
          1154,
          11735,
          24681,
          16234,
          19398,
          19061,
          13016,
          16795,
          14165,
          14084,
          14786,
          12115
         ],
         "yaxis": "y"
        },
        {
         "hoverlabel": {
          "namelength": 0
         },
         "hovertemplate": "<b>%{hovertext}</b><br><br>UnitCode=REDW<br>Month=%{x}<br>Visitors=%{marker.size}",
         "hovertext": [
          "Redwood National and State Parks",
          "Redwood National and State Parks",
          "Redwood National and State Parks",
          "Redwood National and State Parks",
          "Redwood National and State Parks",
          "Redwood National and State Parks",
          "Redwood National and State Parks",
          "Redwood National and State Parks",
          "Redwood National and State Parks",
          "Redwood National and State Parks",
          "Redwood National and State Parks",
          "Redwood National and State Parks"
         ],
         "legendgroup": "REDW",
         "marker": {
          "color": "#00cc96",
          "size": [
           17129,
           17768,
           30938,
           33179,
           62796,
           76137,
           69750,
           55227,
           55568,
           42048,
           24430,
           19752
          ],
          "sizemode": "area",
          "sizeref": 4032.8325,
          "symbol": "circle"
         },
         "mode": "markers",
         "name": "REDW",
         "showlegend": true,
         "type": "scatter",
         "x": [
          0,
          1,
          2,
          3,
          4,
          5,
          6,
          7,
          8,
          9,
          10,
          11
         ],
         "xaxis": "x",
         "y": [
          17129,
          17768,
          30938,
          33179,
          62796,
          76137,
          69750,
          55227,
          55568,
          42048,
          24430,
          19752
         ],
         "yaxis": "y"
        },
        {
         "hoverlabel": {
          "namelength": 0
         },
         "hovertemplate": "<b>%{hovertext}</b><br><br>UnitCode=ROMO<br>Month=%{x}<br>Visitors=%{marker.size}",
         "hovertext": [
          "Rocky Mountain National Park",
          "Rocky Mountain National Park",
          "Rocky Mountain National Park",
          "Rocky Mountain National Park",
          "Rocky Mountain National Park",
          "Rocky Mountain National Park",
          "Rocky Mountain National Park",
          "Rocky Mountain National Park",
          "Rocky Mountain National Park",
          "Rocky Mountain National Park",
          "Rocky Mountain National Park",
          "Rocky Mountain National Park"
         ],
         "legendgroup": "ROMO",
         "marker": {
          "color": "#ab63fa",
          "size": [
           118152,
           99873,
           146414,
           160259,
           280351,
           698224,
           973992,
           830039,
           752320,
           374003,
           123376,
           113050
          ],
          "sizemode": "area",
          "sizeref": 4032.8325,
          "symbol": "circle"
         },
         "mode": "markers",
         "name": "ROMO",
         "showlegend": true,
         "type": "scatter",
         "x": [
          0,
          1,
          2,
          3,
          4,
          5,
          6,
          7,
          8,
          9,
          10,
          11
         ],
         "xaxis": "x",
         "y": [
          118152,
          99873,
          146414,
          160259,
          280351,
          698224,
          973992,
          830039,
          752320,
          374003,
          123376,
          113050
         ],
         "yaxis": "y"
        },
        {
         "hoverlabel": {
          "namelength": 0
         },
         "hovertemplate": "<b>%{hovertext}</b><br><br>UnitCode=SAGU<br>Month=%{x}<br>Visitors=%{marker.size}",
         "hovertext": [
          "Saguaro National Park",
          "Saguaro National Park",
          "Saguaro National Park",
          "Saguaro National Park",
          "Saguaro National Park",
          "Saguaro National Park",
          "Saguaro National Park",
          "Saguaro National Park",
          "Saguaro National Park",
          "Saguaro National Park",
          "Saguaro National Park",
          "Saguaro National Park"
         ],
         "legendgroup": "SAGU",
         "marker": {
          "color": "#FFA15A",
          "size": [
           48968,
           149371,
           186275,
           117802,
           75838,
           49481,
           48553,
           51309,
           44812,
           64529,
           87053,
           96235
          ],
          "sizemode": "area",
          "sizeref": 4032.8325,
          "symbol": "circle"
         },
         "mode": "markers",
         "name": "SAGU",
         "showlegend": true,
         "type": "scatter",
         "x": [
          0,
          1,
          2,
          3,
          4,
          5,
          6,
          7,
          8,
          9,
          10,
          11
         ],
         "xaxis": "x",
         "y": [
          48968,
          149371,
          186275,
          117802,
          75838,
          49481,
          48553,
          51309,
          44812,
          64529,
          87053,
          96235
         ],
         "yaxis": "y"
        },
        {
         "hoverlabel": {
          "namelength": 0
         },
         "hovertemplate": "<b>%{hovertext}</b><br><br>UnitCode=SEQU<br>Month=%{x}<br>Visitors=%{marker.size}",
         "hovertext": [
          null,
          null,
          null,
          null,
          null,
          null,
          null,
          null,
          null,
          null,
          null,
          null
         ],
         "legendgroup": "SEQU",
         "marker": {
          "color": "#19d3f3",
          "size": [
           36024,
           28737,
           63343,
           93054,
           119816,
           153882,
           193633,
           190139,
           144639,
           118187,
           59502,
           45097
          ],
          "sizemode": "area",
          "sizeref": 4032.8325,
          "symbol": "circle"
         },
         "mode": "markers",
         "name": "SEQU",
         "showlegend": true,
         "type": "scatter",
         "x": [
          0,
          1,
          2,
          3,
          4,
          5,
          6,
          7,
          8,
          9,
          10,
          11
         ],
         "xaxis": "x",
         "y": [
          36024,
          28737,
          63343,
          93054,
          119816,
          153882,
          193633,
          190139,
          144639,
          118187,
          59502,
          45097
         ],
         "yaxis": "y"
        },
        {
         "hoverlabel": {
          "namelength": 0
         },
         "hovertemplate": "<b>%{hovertext}</b><br><br>UnitCode=SHEN<br>Month=%{x}<br>Visitors=%{marker.size}",
         "hovertext": [
          "Shenandoah National Park",
          "Shenandoah National Park",
          "Shenandoah National Park",
          "Shenandoah National Park",
          "Shenandoah National Park",
          "Shenandoah National Park",
          "Shenandoah National Park",
          "Shenandoah National Park",
          "Shenandoah National Park",
          "Shenandoah National Park",
          "Shenandoah National Park",
          "Shenandoah National Park"
         ],
         "legendgroup": "SHEN",
         "marker": {
          "color": "#FF6692",
          "size": [
           20245,
           10264,
           38601,
           102672,
           150297,
           170492,
           167335,
           195579,
           176271,
           236554,
           127014,
           30183
          ],
          "sizemode": "area",
          "sizeref": 4032.8325,
          "symbol": "circle"
         },
         "mode": "markers",
         "name": "SHEN",
         "showlegend": true,
         "type": "scatter",
         "x": [
          0,
          1,
          2,
          3,
          4,
          5,
          6,
          7,
          8,
          9,
          10,
          11
         ],
         "xaxis": "x",
         "y": [
          20245,
          10264,
          38601,
          102672,
          150297,
          170492,
          167335,
          195579,
          176271,
          236554,
          127014,
          30183
         ],
         "yaxis": "y"
        },
        {
         "hoverlabel": {
          "namelength": 0
         },
         "hovertemplate": "<b>%{hovertext}</b><br><br>UnitCode=THRO<br>Month=%{x}<br>Visitors=%{marker.size}",
         "hovertext": [
          "Theodore Roosevelt National Park",
          "Theodore Roosevelt National Park",
          "Theodore Roosevelt National Park",
          "Theodore Roosevelt National Park",
          "Theodore Roosevelt National Park",
          "Theodore Roosevelt National Park",
          "Theodore Roosevelt National Park",
          "Theodore Roosevelt National Park",
          "Theodore Roosevelt National Park",
          "Theodore Roosevelt National Park",
          "Theodore Roosevelt National Park",
          "Theodore Roosevelt National Park"
         ],
         "legendgroup": "THRO",
         "marker": {
          "color": "#B6E880",
          "size": [
           2515,
           1187,
           5935,
           10516,
           75682,
           134590,
           149425,
           135584,
           110576,
           46043,
           17086,
           2519
          ],
          "sizemode": "area",
          "sizeref": 4032.8325,
          "symbol": "circle"
         },
         "mode": "markers",
         "name": "THRO",
         "showlegend": true,
         "type": "scatter",
         "x": [
          0,
          1,
          2,
          3,
          4,
          5,
          6,
          7,
          8,
          9,
          10,
          11
         ],
         "xaxis": "x",
         "y": [
          2515,
          1187,
          5935,
          10516,
          75682,
          134590,
          149425,
          135584,
          110576,
          46043,
          17086,
          2519
         ],
         "yaxis": "y"
        },
        {
         "hoverlabel": {
          "namelength": 0
         },
         "hovertemplate": "<b>%{hovertext}</b><br><br>UnitCode=VIIS<br>Month=%{x}<br>Visitors=%{marker.size}",
         "hovertext": [
          "Virgin Islands National Park",
          "Virgin Islands National Park",
          "Virgin Islands National Park",
          "Virgin Islands National Park",
          "Virgin Islands National Park",
          "Virgin Islands National Park",
          "Virgin Islands National Park",
          "Virgin Islands National Park",
          "Virgin Islands National Park",
          "Virgin Islands National Park",
          "Virgin Islands National Park",
          "Virgin Islands National Park"
         ],
         "legendgroup": "VIIS",
         "marker": {
          "color": "#FF97FF",
          "size": [
           350,
           5753,
           5583,
           13680,
           10437,
           10047,
           8191,
           18599,
           7376,
           13496,
           16768,
           23118
          ],
          "sizemode": "area",
          "sizeref": 4032.8325,
          "symbol": "circle"
         },
         "mode": "markers",
         "name": "VIIS",
         "showlegend": true,
         "type": "scatter",
         "x": [
          0,
          1,
          2,
          3,
          4,
          5,
          6,
          7,
          8,
          9,
          10,
          11
         ],
         "xaxis": "x",
         "y": [
          350,
          5753,
          5583,
          13680,
          10437,
          10047,
          8191,
          18599,
          7376,
          13496,
          16768,
          23118
         ],
         "yaxis": "y"
        },
        {
         "hoverlabel": {
          "namelength": 0
         },
         "hovertemplate": "<b>%{hovertext}</b><br><br>UnitCode=VOYA<br>Month=%{x}<br>Visitors=%{marker.size}",
         "hovertext": [
          "Voyageurs National Park",
          "Voyageurs National Park",
          "Voyageurs National Park",
          "Voyageurs National Park",
          "Voyageurs National Park",
          "Voyageurs National Park",
          "Voyageurs National Park",
          "Voyageurs National Park",
          "Voyageurs National Park",
          "Voyageurs National Park",
          "Voyageurs National Park",
          "Voyageurs National Park"
         ],
         "legendgroup": "VOYA",
         "marker": {
          "color": "#FECB52",
          "size": [
           4458,
           7602,
           3214,
           213,
           28198,
           47387,
           52031,
           50586,
           25517,
           11047,
           2472,
           249
          ],
          "sizemode": "area",
          "sizeref": 4032.8325,
          "symbol": "circle"
         },
         "mode": "markers",
         "name": "VOYA",
         "showlegend": true,
         "type": "scatter",
         "x": [
          0,
          1,
          2,
          3,
          4,
          5,
          6,
          7,
          8,
          9,
          10,
          11
         ],
         "xaxis": "x",
         "y": [
          4458,
          7602,
          3214,
          213,
          28198,
          47387,
          52031,
          50586,
          25517,
          11047,
          2472,
          249
         ],
         "yaxis": "y"
        },
        {
         "hoverlabel": {
          "namelength": 0
         },
         "hovertemplate": "<b>%{hovertext}</b><br><br>UnitCode=WHSA<br>Month=%{x}<br>Visitors=%{marker.size}",
         "hovertext": [
          "White Sands National Park",
          "White Sands National Park",
          "White Sands National Park",
          "White Sands National Park",
          "White Sands National Park",
          "White Sands National Park",
          "White Sands National Park",
          "White Sands National Park",
          "White Sands National Park",
          "White Sands National Park",
          "White Sands National Park",
          "White Sands National Park"
         ],
         "legendgroup": "WHSA",
         "marker": {
          "color": "#636efa",
          "size": [
           4693,
           35531,
           83712,
           62811,
           64344,
           62127,
           66363,
           48510,
           43009,
           50053,
           38575,
           49057
          ],
          "sizemode": "area",
          "sizeref": 4032.8325,
          "symbol": "circle"
         },
         "mode": "markers",
         "name": "WHSA",
         "showlegend": true,
         "type": "scatter",
         "x": [
          0,
          1,
          2,
          3,
          4,
          5,
          6,
          7,
          8,
          9,
          10,
          11
         ],
         "xaxis": "x",
         "y": [
          4693,
          35531,
          83712,
          62811,
          64344,
          62127,
          66363,
          48510,
          43009,
          50053,
          38575,
          49057
         ],
         "yaxis": "y"
        },
        {
         "hoverlabel": {
          "namelength": 0
         },
         "hovertemplate": "<b>%{hovertext}</b><br><br>UnitCode=WICA<br>Month=%{x}<br>Visitors=%{marker.size}",
         "hovertext": [
          "Wind Cave National Park",
          "Wind Cave National Park",
          "Wind Cave National Park",
          "Wind Cave National Park",
          "Wind Cave National Park",
          "Wind Cave National Park",
          "Wind Cave National Park",
          "Wind Cave National Park",
          "Wind Cave National Park",
          "Wind Cave National Park",
          "Wind Cave National Park",
          "Wind Cave National Park"
         ],
         "legendgroup": "WICA",
         "marker": {
          "color": "#EF553B",
          "size": [
           11431,
           14127,
           21375,
           54922,
           48780,
           125106,
           146531,
           92237,
           55196,
           23537,
           10950,
           11158
          ],
          "sizemode": "area",
          "sizeref": 4032.8325,
          "symbol": "circle"
         },
         "mode": "markers",
         "name": "WICA",
         "showlegend": true,
         "type": "scatter",
         "x": [
          0,
          1,
          2,
          3,
          4,
          5,
          6,
          7,
          8,
          9,
          10,
          11
         ],
         "xaxis": "x",
         "y": [
          11431,
          14127,
          21375,
          54922,
          48780,
          125106,
          146531,
          92237,
          55196,
          23537,
          10950,
          11158
         ],
         "yaxis": "y"
        },
        {
         "hoverlabel": {
          "namelength": 0
         },
         "hovertemplate": "<b>%{hovertext}</b><br><br>UnitCode=YELL<br>Month=%{x}<br>Visitors=%{marker.size}",
         "hovertext": [
          "Yellowstone National Park",
          "Yellowstone National Park",
          "Yellowstone National Park",
          "Yellowstone National Park",
          "Yellowstone National Park",
          "Yellowstone National Park",
          "Yellowstone National Park",
          "Yellowstone National Park",
          "Yellowstone National Park",
          "Yellowstone National Park",
          "Yellowstone National Park",
          "Yellowstone National Park"
         ],
         "legendgroup": "YELL",
         "marker": {
          "color": "#00cc96",
          "size": [
           33896,
           31650,
           28695,
           48150,
           434385,
           781853,
           936062,
           820006,
           693118,
           171339,
           15628,
           25506
          ],
          "sizemode": "area",
          "sizeref": 4032.8325,
          "symbol": "circle"
         },
         "mode": "markers",
         "name": "YELL",
         "showlegend": true,
         "type": "scatter",
         "x": [
          0,
          1,
          2,
          3,
          4,
          5,
          6,
          7,
          8,
          9,
          10,
          11
         ],
         "xaxis": "x",
         "y": [
          33896,
          31650,
          28695,
          48150,
          434385,
          781853,
          936062,
          820006,
          693118,
          171339,
          15628,
          25506
         ],
         "yaxis": "y"
        },
        {
         "hoverlabel": {
          "namelength": 0
         },
         "hovertemplate": "<b>%{hovertext}</b><br><br>UnitCode=YOSE<br>Month=%{x}<br>Visitors=%{marker.size}",
         "hovertext": [
          "Yosemite National Park",
          "Yosemite National Park",
          "Yosemite National Park",
          "Yosemite National Park",
          "Yosemite National Park",
          "Yosemite National Park",
          "Yosemite National Park",
          "Yosemite National Park",
          "Yosemite National Park",
          "Yosemite National Park",
          "Yosemite National Park",
          "Yosemite National Park"
         ],
         "legendgroup": "YOSE",
         "marker": {
          "color": "#ab63fa",
          "size": [
           116746,
           111665,
           173610,
           297207,
           393004,
           496625,
           717462,
           703153,
           584664,
           448939,
           230598,
           149188
          ],
          "sizemode": "area",
          "sizeref": 4032.8325,
          "symbol": "circle"
         },
         "mode": "markers",
         "name": "YOSE",
         "showlegend": true,
         "type": "scatter",
         "x": [
          0,
          1,
          2,
          3,
          4,
          5,
          6,
          7,
          8,
          9,
          10,
          11
         ],
         "xaxis": "x",
         "y": [
          116746,
          111665,
          173610,
          297207,
          393004,
          496625,
          717462,
          703153,
          584664,
          448939,
          230598,
          149188
         ],
         "yaxis": "y"
        },
        {
         "hoverlabel": {
          "namelength": 0
         },
         "hovertemplate": "<b>%{hovertext}</b><br><br>UnitCode=ZION<br>Month=%{x}<br>Visitors=%{marker.size}",
         "hovertext": [
          "Zion National Park",
          "Zion National Park",
          "Zion National Park",
          "Zion National Park",
          "Zion National Park",
          "Zion National Park",
          "Zion National Park",
          "Zion National Park",
          "Zion National Park",
          "Zion National Park",
          "Zion National Park",
          "Zion National Park"
         ],
         "legendgroup": "ZION",
         "marker": {
          "color": "#FFA15A",
          "size": [
           98828,
           102269,
           296316,
           372349,
           529553,
           594896,
           629802,
           535322,
           497443,
           429604,
           230180,
           171706
          ],
          "sizemode": "area",
          "sizeref": 4032.8325,
          "symbol": "circle"
         },
         "mode": "markers",
         "name": "ZION",
         "showlegend": true,
         "type": "scatter",
         "x": [
          0,
          1,
          2,
          3,
          4,
          5,
          6,
          7,
          8,
          9,
          10,
          11
         ],
         "xaxis": "x",
         "y": [
          98828,
          102269,
          296316,
          372349,
          529553,
          594896,
          629802,
          535322,
          497443,
          429604,
          230180,
          171706
         ],
         "yaxis": "y"
        }
       ],
       "layout": {
        "legend": {
         "itemsizing": "constant",
         "title": {
          "text": "UnitCode"
         },
         "tracegroupgap": 0
        },
        "margin": {
         "t": 60
        },
        "template": {
         "data": {
          "bar": [
           {
            "error_x": {
             "color": "#2a3f5f"
            },
            "error_y": {
             "color": "#2a3f5f"
            },
            "marker": {
             "line": {
              "color": "#E5ECF6",
              "width": 0.5
             }
            },
            "type": "bar"
           }
          ],
          "barpolar": [
           {
            "marker": {
             "line": {
              "color": "#E5ECF6",
              "width": 0.5
             }
            },
            "type": "barpolar"
           }
          ],
          "carpet": [
           {
            "aaxis": {
             "endlinecolor": "#2a3f5f",
             "gridcolor": "white",
             "linecolor": "white",
             "minorgridcolor": "white",
             "startlinecolor": "#2a3f5f"
            },
            "baxis": {
             "endlinecolor": "#2a3f5f",
             "gridcolor": "white",
             "linecolor": "white",
             "minorgridcolor": "white",
             "startlinecolor": "#2a3f5f"
            },
            "type": "carpet"
           }
          ],
          "choropleth": [
           {
            "colorbar": {
             "outlinewidth": 0,
             "ticks": ""
            },
            "type": "choropleth"
           }
          ],
          "contour": [
           {
            "colorbar": {
             "outlinewidth": 0,
             "ticks": ""
            },
            "colorscale": [
             [
              0,
              "#0d0887"
             ],
             [
              0.1111111111111111,
              "#46039f"
             ],
             [
              0.2222222222222222,
              "#7201a8"
             ],
             [
              0.3333333333333333,
              "#9c179e"
             ],
             [
              0.4444444444444444,
              "#bd3786"
             ],
             [
              0.5555555555555556,
              "#d8576b"
             ],
             [
              0.6666666666666666,
              "#ed7953"
             ],
             [
              0.7777777777777778,
              "#fb9f3a"
             ],
             [
              0.8888888888888888,
              "#fdca26"
             ],
             [
              1,
              "#f0f921"
             ]
            ],
            "type": "contour"
           }
          ],
          "contourcarpet": [
           {
            "colorbar": {
             "outlinewidth": 0,
             "ticks": ""
            },
            "type": "contourcarpet"
           }
          ],
          "heatmap": [
           {
            "colorbar": {
             "outlinewidth": 0,
             "ticks": ""
            },
            "colorscale": [
             [
              0,
              "#0d0887"
             ],
             [
              0.1111111111111111,
              "#46039f"
             ],
             [
              0.2222222222222222,
              "#7201a8"
             ],
             [
              0.3333333333333333,
              "#9c179e"
             ],
             [
              0.4444444444444444,
              "#bd3786"
             ],
             [
              0.5555555555555556,
              "#d8576b"
             ],
             [
              0.6666666666666666,
              "#ed7953"
             ],
             [
              0.7777777777777778,
              "#fb9f3a"
             ],
             [
              0.8888888888888888,
              "#fdca26"
             ],
             [
              1,
              "#f0f921"
             ]
            ],
            "type": "heatmap"
           }
          ],
          "heatmapgl": [
           {
            "colorbar": {
             "outlinewidth": 0,
             "ticks": ""
            },
            "colorscale": [
             [
              0,
              "#0d0887"
             ],
             [
              0.1111111111111111,
              "#46039f"
             ],
             [
              0.2222222222222222,
              "#7201a8"
             ],
             [
              0.3333333333333333,
              "#9c179e"
             ],
             [
              0.4444444444444444,
              "#bd3786"
             ],
             [
              0.5555555555555556,
              "#d8576b"
             ],
             [
              0.6666666666666666,
              "#ed7953"
             ],
             [
              0.7777777777777778,
              "#fb9f3a"
             ],
             [
              0.8888888888888888,
              "#fdca26"
             ],
             [
              1,
              "#f0f921"
             ]
            ],
            "type": "heatmapgl"
           }
          ],
          "histogram": [
           {
            "marker": {
             "colorbar": {
              "outlinewidth": 0,
              "ticks": ""
             }
            },
            "type": "histogram"
           }
          ],
          "histogram2d": [
           {
            "colorbar": {
             "outlinewidth": 0,
             "ticks": ""
            },
            "colorscale": [
             [
              0,
              "#0d0887"
             ],
             [
              0.1111111111111111,
              "#46039f"
             ],
             [
              0.2222222222222222,
              "#7201a8"
             ],
             [
              0.3333333333333333,
              "#9c179e"
             ],
             [
              0.4444444444444444,
              "#bd3786"
             ],
             [
              0.5555555555555556,
              "#d8576b"
             ],
             [
              0.6666666666666666,
              "#ed7953"
             ],
             [
              0.7777777777777778,
              "#fb9f3a"
             ],
             [
              0.8888888888888888,
              "#fdca26"
             ],
             [
              1,
              "#f0f921"
             ]
            ],
            "type": "histogram2d"
           }
          ],
          "histogram2dcontour": [
           {
            "colorbar": {
             "outlinewidth": 0,
             "ticks": ""
            },
            "colorscale": [
             [
              0,
              "#0d0887"
             ],
             [
              0.1111111111111111,
              "#46039f"
             ],
             [
              0.2222222222222222,
              "#7201a8"
             ],
             [
              0.3333333333333333,
              "#9c179e"
             ],
             [
              0.4444444444444444,
              "#bd3786"
             ],
             [
              0.5555555555555556,
              "#d8576b"
             ],
             [
              0.6666666666666666,
              "#ed7953"
             ],
             [
              0.7777777777777778,
              "#fb9f3a"
             ],
             [
              0.8888888888888888,
              "#fdca26"
             ],
             [
              1,
              "#f0f921"
             ]
            ],
            "type": "histogram2dcontour"
           }
          ],
          "mesh3d": [
           {
            "colorbar": {
             "outlinewidth": 0,
             "ticks": ""
            },
            "type": "mesh3d"
           }
          ],
          "parcoords": [
           {
            "line": {
             "colorbar": {
              "outlinewidth": 0,
              "ticks": ""
             }
            },
            "type": "parcoords"
           }
          ],
          "pie": [
           {
            "automargin": true,
            "type": "pie"
           }
          ],
          "scatter": [
           {
            "marker": {
             "colorbar": {
              "outlinewidth": 0,
              "ticks": ""
             }
            },
            "type": "scatter"
           }
          ],
          "scatter3d": [
           {
            "line": {
             "colorbar": {
              "outlinewidth": 0,
              "ticks": ""
             }
            },
            "marker": {
             "colorbar": {
              "outlinewidth": 0,
              "ticks": ""
             }
            },
            "type": "scatter3d"
           }
          ],
          "scattercarpet": [
           {
            "marker": {
             "colorbar": {
              "outlinewidth": 0,
              "ticks": ""
             }
            },
            "type": "scattercarpet"
           }
          ],
          "scattergeo": [
           {
            "marker": {
             "colorbar": {
              "outlinewidth": 0,
              "ticks": ""
             }
            },
            "type": "scattergeo"
           }
          ],
          "scattergl": [
           {
            "marker": {
             "colorbar": {
              "outlinewidth": 0,
              "ticks": ""
             }
            },
            "type": "scattergl"
           }
          ],
          "scattermapbox": [
           {
            "marker": {
             "colorbar": {
              "outlinewidth": 0,
              "ticks": ""
             }
            },
            "type": "scattermapbox"
           }
          ],
          "scatterpolar": [
           {
            "marker": {
             "colorbar": {
              "outlinewidth": 0,
              "ticks": ""
             }
            },
            "type": "scatterpolar"
           }
          ],
          "scatterpolargl": [
           {
            "marker": {
             "colorbar": {
              "outlinewidth": 0,
              "ticks": ""
             }
            },
            "type": "scatterpolargl"
           }
          ],
          "scatterternary": [
           {
            "marker": {
             "colorbar": {
              "outlinewidth": 0,
              "ticks": ""
             }
            },
            "type": "scatterternary"
           }
          ],
          "surface": [
           {
            "colorbar": {
             "outlinewidth": 0,
             "ticks": ""
            },
            "colorscale": [
             [
              0,
              "#0d0887"
             ],
             [
              0.1111111111111111,
              "#46039f"
             ],
             [
              0.2222222222222222,
              "#7201a8"
             ],
             [
              0.3333333333333333,
              "#9c179e"
             ],
             [
              0.4444444444444444,
              "#bd3786"
             ],
             [
              0.5555555555555556,
              "#d8576b"
             ],
             [
              0.6666666666666666,
              "#ed7953"
             ],
             [
              0.7777777777777778,
              "#fb9f3a"
             ],
             [
              0.8888888888888888,
              "#fdca26"
             ],
             [
              1,
              "#f0f921"
             ]
            ],
            "type": "surface"
           }
          ],
          "table": [
           {
            "cells": {
             "fill": {
              "color": "#EBF0F8"
             },
             "line": {
              "color": "white"
             }
            },
            "header": {
             "fill": {
              "color": "#C8D4E3"
             },
             "line": {
              "color": "white"
             }
            },
            "type": "table"
           }
          ]
         },
         "layout": {
          "annotationdefaults": {
           "arrowcolor": "#2a3f5f",
           "arrowhead": 0,
           "arrowwidth": 1
          },
          "coloraxis": {
           "colorbar": {
            "outlinewidth": 0,
            "ticks": ""
           }
          },
          "colorscale": {
           "diverging": [
            [
             0,
             "#8e0152"
            ],
            [
             0.1,
             "#c51b7d"
            ],
            [
             0.2,
             "#de77ae"
            ],
            [
             0.3,
             "#f1b6da"
            ],
            [
             0.4,
             "#fde0ef"
            ],
            [
             0.5,
             "#f7f7f7"
            ],
            [
             0.6,
             "#e6f5d0"
            ],
            [
             0.7,
             "#b8e186"
            ],
            [
             0.8,
             "#7fbc41"
            ],
            [
             0.9,
             "#4d9221"
            ],
            [
             1,
             "#276419"
            ]
           ],
           "sequential": [
            [
             0,
             "#0d0887"
            ],
            [
             0.1111111111111111,
             "#46039f"
            ],
            [
             0.2222222222222222,
             "#7201a8"
            ],
            [
             0.3333333333333333,
             "#9c179e"
            ],
            [
             0.4444444444444444,
             "#bd3786"
            ],
            [
             0.5555555555555556,
             "#d8576b"
            ],
            [
             0.6666666666666666,
             "#ed7953"
            ],
            [
             0.7777777777777778,
             "#fb9f3a"
            ],
            [
             0.8888888888888888,
             "#fdca26"
            ],
            [
             1,
             "#f0f921"
            ]
           ],
           "sequentialminus": [
            [
             0,
             "#0d0887"
            ],
            [
             0.1111111111111111,
             "#46039f"
            ],
            [
             0.2222222222222222,
             "#7201a8"
            ],
            [
             0.3333333333333333,
             "#9c179e"
            ],
            [
             0.4444444444444444,
             "#bd3786"
            ],
            [
             0.5555555555555556,
             "#d8576b"
            ],
            [
             0.6666666666666666,
             "#ed7953"
            ],
            [
             0.7777777777777778,
             "#fb9f3a"
            ],
            [
             0.8888888888888888,
             "#fdca26"
            ],
            [
             1,
             "#f0f921"
            ]
           ]
          },
          "colorway": [
           "#636efa",
           "#EF553B",
           "#00cc96",
           "#ab63fa",
           "#FFA15A",
           "#19d3f3",
           "#FF6692",
           "#B6E880",
           "#FF97FF",
           "#FECB52"
          ],
          "font": {
           "color": "#2a3f5f"
          },
          "geo": {
           "bgcolor": "white",
           "lakecolor": "white",
           "landcolor": "#E5ECF6",
           "showlakes": true,
           "showland": true,
           "subunitcolor": "white"
          },
          "hoverlabel": {
           "align": "left"
          },
          "hovermode": "closest",
          "mapbox": {
           "style": "light"
          },
          "paper_bgcolor": "white",
          "plot_bgcolor": "#E5ECF6",
          "polar": {
           "angularaxis": {
            "gridcolor": "white",
            "linecolor": "white",
            "ticks": ""
           },
           "bgcolor": "#E5ECF6",
           "radialaxis": {
            "gridcolor": "white",
            "linecolor": "white",
            "ticks": ""
           }
          },
          "scene": {
           "xaxis": {
            "backgroundcolor": "#E5ECF6",
            "gridcolor": "white",
            "gridwidth": 2,
            "linecolor": "white",
            "showbackground": true,
            "ticks": "",
            "zerolinecolor": "white"
           },
           "yaxis": {
            "backgroundcolor": "#E5ECF6",
            "gridcolor": "white",
            "gridwidth": 2,
            "linecolor": "white",
            "showbackground": true,
            "ticks": "",
            "zerolinecolor": "white"
           },
           "zaxis": {
            "backgroundcolor": "#E5ECF6",
            "gridcolor": "white",
            "gridwidth": 2,
            "linecolor": "white",
            "showbackground": true,
            "ticks": "",
            "zerolinecolor": "white"
           }
          },
          "shapedefaults": {
           "line": {
            "color": "#2a3f5f"
           }
          },
          "ternary": {
           "aaxis": {
            "gridcolor": "white",
            "linecolor": "white",
            "ticks": ""
           },
           "baxis": {
            "gridcolor": "white",
            "linecolor": "white",
            "ticks": ""
           },
           "bgcolor": "#E5ECF6",
           "caxis": {
            "gridcolor": "white",
            "linecolor": "white",
            "ticks": ""
           }
          },
          "title": {
           "x": 0.05
          },
          "xaxis": {
           "automargin": true,
           "gridcolor": "white",
           "linecolor": "white",
           "ticks": "",
           "title": {
            "standoff": 15
           },
           "zerolinecolor": "white",
           "zerolinewidth": 2
          },
          "yaxis": {
           "automargin": true,
           "gridcolor": "white",
           "linecolor": "white",
           "ticks": "",
           "title": {
            "standoff": 15
           },
           "zerolinecolor": "white",
           "zerolinewidth": 2
          }
         }
        },
        "xaxis": {
         "anchor": "y",
         "domain": [
          0,
          1
         ],
         "title": {
          "text": "Month"
         }
        },
        "yaxis": {
         "anchor": "x",
         "domain": [
          0,
          1
         ],
         "title": {
          "text": "Visitors"
         }
        }
       }
      },
      "text/html": [
       "<div>\n",
       "        \n",
       "        \n",
       "            <div id=\"a004465a-40fd-4cce-8fac-6cb5e8c95295\" class=\"plotly-graph-div\" style=\"height:525px; width:100%;\"></div>\n",
       "            <script type=\"text/javascript\">\n",
       "                require([\"plotly\"], function(Plotly) {\n",
       "                    window.PLOTLYENV=window.PLOTLYENV || {};\n",
       "                    \n",
       "                if (document.getElementById(\"a004465a-40fd-4cce-8fac-6cb5e8c95295\")) {\n",
       "                    Plotly.newPlot(\n",
       "                        'a004465a-40fd-4cce-8fac-6cb5e8c95295',\n",
       "                        [{\"hoverlabel\": {\"namelength\": 0}, \"hovertemplate\": \"<b>%{hovertext}</b><br><br>UnitCode=ACAD<br>Month=%{x}<br>Visitors=%{marker.size}\", \"hovertext\": [\"Acadia National Park\", \"Acadia National Park\", \"Acadia National Park\", \"Acadia National Park\", \"Acadia National Park\", \"Acadia National Park\", \"Acadia National Park\", \"Acadia National Park\", \"Acadia National Park\", \"Acadia National Park\", \"Acadia National Park\", \"Acadia National Park\"], \"legendgroup\": \"ACAD\", \"marker\": {\"color\": \"#636efa\", \"size\": [8532, 9154, 20161, 68046, 226156, 490720, 756439, 759735, 603273, 436194, 46011, 12865], \"sizemode\": \"area\", \"sizeref\": 4032.8325, \"symbol\": \"circle\"}, \"mode\": \"markers\", \"name\": \"ACAD\", \"showlegend\": true, \"type\": \"scatter\", \"x\": [0, 1, 2, 3, 4, 5, 6, 7, 8, 9, 10, 11], \"xaxis\": \"x\", \"y\": [8532, 9154, 20161, 68046, 226156, 490720, 756439, 759735, 603273, 436194, 46011, 12865], \"yaxis\": \"y\"}, {\"hoverlabel\": {\"namelength\": 0}, \"hovertemplate\": \"<b>%{hovertext}</b><br><br>UnitCode=ARCH<br>Month=%{x}<br>Visitors=%{marker.size}\", \"hovertext\": [\"Arches National Park\", \"Arches National Park\", \"Arches National Park\", \"Arches National Park\", \"Arches National Park\", \"Arches National Park\", \"Arches National Park\", \"Arches National Park\", \"Arches National Park\", \"Arches National Park\", \"Arches National Park\", \"Arches National Park\"], \"legendgroup\": \"ARCH\", \"marker\": {\"color\": \"#EF553B\", \"size\": [21499, 30239, 132191, 168788, 217474, 225206, 208993, 184890, 207857, 149764, 73420, 39381], \"sizemode\": \"area\", \"sizeref\": 4032.8325, \"symbol\": \"circle\"}, \"mode\": \"markers\", \"name\": \"ARCH\", \"showlegend\": true, \"type\": \"scatter\", \"x\": [0, 1, 2, 3, 4, 5, 6, 7, 8, 9, 10, 11], \"xaxis\": \"x\", \"y\": [21499, 30239, 132191, 168788, 217474, 225206, 208993, 184890, 207857, 149764, 73420, 39381], \"yaxis\": \"y\"}, {\"hoverlabel\": {\"namelength\": 0}, \"hovertemplate\": \"<b>%{hovertext}</b><br><br>UnitCode=BADL<br>Month=%{x}<br>Visitors=%{marker.size}\", \"hovertext\": [\"Badlands National Park\", \"Badlands National Park\", \"Badlands National Park\", \"Badlands National Park\", \"Badlands National Park\", \"Badlands National Park\", \"Badlands National Park\", \"Badlands National Park\", \"Badlands National Park\", \"Badlands National Park\", \"Badlands National Park\", \"Badlands National Park\"], \"legendgroup\": \"BADL\", \"marker\": {\"color\": \"#00cc96\", \"size\": [8981, 8059, 16517, 25083, 71885, 201516, 250898, 207743, 118262, 37727, 15450, 8877], \"sizemode\": \"area\", \"sizeref\": 4032.8325, \"symbol\": \"circle\"}, \"mode\": \"markers\", \"name\": \"BADL\", \"showlegend\": true, \"type\": \"scatter\", \"x\": [0, 1, 2, 3, 4, 5, 6, 7, 8, 9, 10, 11], \"xaxis\": \"x\", \"y\": [8981, 8059, 16517, 25083, 71885, 201516, 250898, 207743, 118262, 37727, 15450, 8877], \"yaxis\": \"y\"}, {\"hoverlabel\": {\"namelength\": 0}, \"hovertemplate\": \"<b>%{hovertext}</b><br><br>UnitCode=BIBE<br>Month=%{x}<br>Visitors=%{marker.size}\", \"hovertext\": [\"Big Bend National Park\", \"Big Bend National Park\", \"Big Bend National Park\", \"Big Bend National Park\", \"Big Bend National Park\", \"Big Bend National Park\", \"Big Bend National Park\", \"Big Bend National Park\", \"Big Bend National Park\", \"Big Bend National Park\", \"Big Bend National Park\", \"Big Bend National Park\"], \"legendgroup\": \"BIBE\", \"marker\": {\"color\": \"#ab63fa\", \"size\": [29318, 43129, 83826, 49312, 37411, 21228, 21747, 17238, 21246, 42724, 50688, 45965], \"sizemode\": \"area\", \"sizeref\": 4032.8325, \"symbol\": \"circle\"}, \"mode\": \"markers\", \"name\": \"BIBE\", \"showlegend\": true, \"type\": \"scatter\", \"x\": [0, 1, 2, 3, 4, 5, 6, 7, 8, 9, 10, 11], \"xaxis\": \"x\", \"y\": [29318, 43129, 83826, 49312, 37411, 21228, 21747, 17238, 21246, 42724, 50688, 45965], \"yaxis\": \"y\"}, {\"hoverlabel\": {\"namelength\": 0}, \"hovertemplate\": \"<b>%{hovertext}</b><br><br>UnitCode=BISC<br>Month=%{x}<br>Visitors=%{marker.size}\", \"hovertext\": [\"Biscayne National Park\", \"Biscayne National Park\", \"Biscayne National Park\", \"Biscayne National Park\", \"Biscayne National Park\", \"Biscayne National Park\", \"Biscayne National Park\", \"Biscayne National Park\", \"Biscayne National Park\", \"Biscayne National Park\", \"Biscayne National Park\", \"Biscayne National Park\"], \"legendgroup\": \"BISC\", \"marker\": {\"color\": \"#FFA15A\", \"size\": [50873, 59754, 76685, 64172, 79779, 65173, 60239, 46191, 46723, 38582, 59948, 60403], \"sizemode\": \"area\", \"sizeref\": 4032.8325, \"symbol\": \"circle\"}, \"mode\": \"markers\", \"name\": \"BISC\", \"showlegend\": true, \"type\": \"scatter\", \"x\": [0, 1, 2, 3, 4, 5, 6, 7, 8, 9, 10, 11], \"xaxis\": \"x\", \"y\": [50873, 59754, 76685, 64172, 79779, 65173, 60239, 46191, 46723, 38582, 59948, 60403], \"yaxis\": \"y\"}, {\"hoverlabel\": {\"namelength\": 0}, \"hovertemplate\": \"<b>%{hovertext}</b><br><br>UnitCode=BLCA<br>Month=%{x}<br>Visitors=%{marker.size}\", \"hovertext\": [\"Black Canyon Of The Gunnison National Park\", \"Black Canyon Of The Gunnison National Park\", \"Black Canyon Of The Gunnison National Park\", \"Black Canyon Of The Gunnison National Park\", \"Black Canyon Of The Gunnison National Park\", \"Black Canyon Of The Gunnison National Park\", \"Black Canyon Of The Gunnison National Park\", \"Black Canyon Of The Gunnison National Park\", \"Black Canyon Of The Gunnison National Park\", \"Black Canyon Of The Gunnison National Park\", \"Black Canyon Of The Gunnison National Park\", \"Black Canyon Of The Gunnison National Park\"], \"legendgroup\": \"BLCA\", \"marker\": {\"color\": \"#19d3f3\", \"size\": [4921, 6369, 12180, 25077, 75198, 75289, 51368, 80046, 48420, 25828, 22684, 5438], \"sizemode\": \"area\", \"sizeref\": 4032.8325, \"symbol\": \"circle\"}, \"mode\": \"markers\", \"name\": \"BLCA\", \"showlegend\": true, \"type\": \"scatter\", \"x\": [0, 1, 2, 3, 4, 5, 6, 7, 8, 9, 10, 11], \"xaxis\": \"x\", \"y\": [4921, 6369, 12180, 25077, 75198, 75289, 51368, 80046, 48420, 25828, 22684, 5438], \"yaxis\": \"y\"}, {\"hoverlabel\": {\"namelength\": 0}, \"hovertemplate\": \"<b>%{hovertext}</b><br><br>UnitCode=BRCA<br>Month=%{x}<br>Visitors=%{marker.size}\", \"hovertext\": [\"Bryce Canyon National Park\", \"Bryce Canyon National Park\", \"Bryce Canyon National Park\", \"Bryce Canyon National Park\", \"Bryce Canyon National Park\", \"Bryce Canyon National Park\", \"Bryce Canyon National Park\", \"Bryce Canyon National Park\", \"Bryce Canyon National Park\", \"Bryce Canyon National Park\", \"Bryce Canyon National Park\", \"Bryce Canyon National Park\"], \"legendgroup\": \"BRCA\", \"marker\": {\"color\": \"#FF6692\", \"size\": [36860, 29813, 75853, 207061, 327975, 398290, 401970, 383458, 392428, 232094, 65748, 43354], \"sizemode\": \"area\", \"sizeref\": 4032.8325, \"symbol\": \"circle\"}, \"mode\": \"markers\", \"name\": \"BRCA\", \"showlegend\": true, \"type\": \"scatter\", \"x\": [0, 1, 2, 3, 4, 5, 6, 7, 8, 9, 10, 11], \"xaxis\": \"x\", \"y\": [36860, 29813, 75853, 207061, 327975, 398290, 401970, 383458, 392428, 232094, 65748, 43354], \"yaxis\": \"y\"}, {\"hoverlabel\": {\"namelength\": 0}, \"hovertemplate\": \"<b>%{hovertext}</b><br><br>UnitCode=CANY<br>Month=%{x}<br>Visitors=%{marker.size}\", \"hovertext\": [\"Canyonlands National Park\", \"Canyonlands National Park\", \"Canyonlands National Park\", \"Canyonlands National Park\", \"Canyonlands National Park\", \"Canyonlands National Park\", \"Canyonlands National Park\", \"Canyonlands National Park\", \"Canyonlands National Park\", \"Canyonlands National Park\", \"Canyonlands National Park\", \"Canyonlands National Park\"], \"legendgroup\": \"CANY\", \"marker\": {\"color\": \"#B6E880\", \"size\": [7146, 9705, 60792, 89861, 114464, 92295, 64672, 69297, 97817, 82642, 31582, 13723], \"sizemode\": \"area\", \"sizeref\": 4032.8325, \"symbol\": \"circle\"}, \"mode\": \"markers\", \"name\": \"CANY\", \"showlegend\": true, \"type\": \"scatter\", \"x\": [0, 1, 2, 3, 4, 5, 6, 7, 8, 9, 10, 11], \"xaxis\": \"x\", \"y\": [7146, 9705, 60792, 89861, 114464, 92295, 64672, 69297, 97817, 82642, 31582, 13723], \"yaxis\": \"y\"}, {\"hoverlabel\": {\"namelength\": 0}, \"hovertemplate\": \"<b>%{hovertext}</b><br><br>UnitCode=CARE<br>Month=%{x}<br>Visitors=%{marker.size}\", \"hovertext\": [\"Capitol Reef National Park\", \"Capitol Reef National Park\", \"Capitol Reef National Park\", \"Capitol Reef National Park\", \"Capitol Reef National Park\", \"Capitol Reef National Park\", \"Capitol Reef National Park\", \"Capitol Reef National Park\", \"Capitol Reef National Park\", \"Capitol Reef National Park\", \"Capitol Reef National Park\", \"Capitol Reef National Park\"], \"legendgroup\": \"CARE\", \"marker\": {\"color\": \"#FF97FF\", \"size\": [11893, 12368, 73416, 147156, 196840, 151410, 129372, 127341, 170057, 146664, 42859, 17143], \"sizemode\": \"area\", \"sizeref\": 4032.8325, \"symbol\": \"circle\"}, \"mode\": \"markers\", \"name\": \"CARE\", \"showlegend\": true, \"type\": \"scatter\", \"x\": [0, 1, 2, 3, 4, 5, 6, 7, 8, 9, 10, 11], \"xaxis\": \"x\", \"y\": [11893, 12368, 73416, 147156, 196840, 151410, 129372, 127341, 170057, 146664, 42859, 17143], \"yaxis\": \"y\"}, {\"hoverlabel\": {\"namelength\": 0}, \"hovertemplate\": \"<b>%{hovertext}</b><br><br>UnitCode=CAVE<br>Month=%{x}<br>Visitors=%{marker.size}\", \"hovertext\": [\"Carlsbad Caverns National Park\", \"Carlsbad Caverns National Park\", \"Carlsbad Caverns National Park\", \"Carlsbad Caverns National Park\", \"Carlsbad Caverns National Park\", \"Carlsbad Caverns National Park\", \"Carlsbad Caverns National Park\", \"Carlsbad Caverns National Park\", \"Carlsbad Caverns National Park\", \"Carlsbad Caverns National Park\", \"Carlsbad Caverns National Park\", \"Carlsbad Caverns National Park\"], \"legendgroup\": \"CAVE\", \"marker\": {\"color\": \"#FECB52\", \"size\": [3093, 19470, 56581, 37543, 41516, 57111, 69444, 36354, 28455, 33014, 27519, 30591], \"sizemode\": \"area\", \"sizeref\": 4032.8325, \"symbol\": \"circle\"}, \"mode\": \"markers\", \"name\": \"CAVE\", \"showlegend\": true, \"type\": \"scatter\", \"x\": [0, 1, 2, 3, 4, 5, 6, 7, 8, 9, 10, 11], \"xaxis\": \"x\", \"y\": [3093, 19470, 56581, 37543, 41516, 57111, 69444, 36354, 28455, 33014, 27519, 30591], \"yaxis\": \"y\"}, {\"hoverlabel\": {\"namelength\": 0}, \"hovertemplate\": \"<b>%{hovertext}</b><br><br>UnitCode=CHIS<br>Month=%{x}<br>Visitors=%{marker.size}\", \"hovertext\": [\"Channel Islands National Park\", \"Channel Islands National Park\", \"Channel Islands National Park\", \"Channel Islands National Park\", \"Channel Islands National Park\", \"Channel Islands National Park\", \"Channel Islands National Park\", \"Channel Islands National Park\", \"Channel Islands National Park\", \"Channel Islands National Park\", \"Channel Islands National Park\", \"Channel Islands National Park\"], \"legendgroup\": \"CHIS\", \"marker\": {\"color\": \"#636efa\", \"size\": [9193, 22263, 34951, 39218, 39070, 44915, 47581, 49793, 38681, 36691, 25212, 22062], \"sizemode\": \"area\", \"sizeref\": 4032.8325, \"symbol\": \"circle\"}, \"mode\": \"markers\", \"name\": \"CHIS\", \"showlegend\": true, \"type\": \"scatter\", \"x\": [0, 1, 2, 3, 4, 5, 6, 7, 8, 9, 10, 11], \"xaxis\": \"x\", \"y\": [9193, 22263, 34951, 39218, 39070, 44915, 47581, 49793, 38681, 36691, 25212, 22062], \"yaxis\": \"y\"}, {\"hoverlabel\": {\"namelength\": 0}, \"hovertemplate\": \"<b>%{hovertext}</b><br><br>UnitCode=CONG<br>Month=%{x}<br>Visitors=%{marker.size}\", \"hovertext\": [\"Congaree National Park\", \"Congaree National Park\", \"Congaree National Park\", \"Congaree National Park\", \"Congaree National Park\", \"Congaree National Park\", \"Congaree National Park\", \"Congaree National Park\", \"Congaree National Park\", \"Congaree National Park\", \"Congaree National Park\", \"Congaree National Park\"], \"legendgroup\": \"CONG\", \"marker\": {\"color\": \"#EF553B\", \"size\": [7000, 10910, 17121, 15408, 28786, 13282, 10936, 11028, 8312, 13902, 11765, 10995], \"sizemode\": \"area\", \"sizeref\": 4032.8325, \"symbol\": \"circle\"}, \"mode\": \"markers\", \"name\": \"CONG\", \"showlegend\": true, \"type\": \"scatter\", \"x\": [0, 1, 2, 3, 4, 5, 6, 7, 8, 9, 10, 11], \"xaxis\": \"x\", \"y\": [7000, 10910, 17121, 15408, 28786, 13282, 10936, 11028, 8312, 13902, 11765, 10995], \"yaxis\": \"y\"}, {\"hoverlabel\": {\"namelength\": 0}, \"hovertemplate\": \"<b>%{hovertext}</b><br><br>UnitCode=CRLA<br>Month=%{x}<br>Visitors=%{marker.size}\", \"hovertext\": [\"Crater Lake National Park\", \"Crater Lake National Park\", \"Crater Lake National Park\", \"Crater Lake National Park\", \"Crater Lake National Park\", \"Crater Lake National Park\", \"Crater Lake National Park\", \"Crater Lake National Park\", \"Crater Lake National Park\", \"Crater Lake National Park\", \"Crater Lake National Park\", \"Crater Lake National Park\"], \"legendgroup\": \"CRLA\", \"marker\": {\"color\": \"#00cc96\", \"size\": [3120, 2436, 4800, 15898, 44808, 103442, 201191, 163472, 98266, 41635, 16843, 8601], \"sizemode\": \"area\", \"sizeref\": 4032.8325, \"symbol\": \"circle\"}, \"mode\": \"markers\", \"name\": \"CRLA\", \"showlegend\": true, \"type\": \"scatter\", \"x\": [0, 1, 2, 3, 4, 5, 6, 7, 8, 9, 10, 11], \"xaxis\": \"x\", \"y\": [3120, 2436, 4800, 15898, 44808, 103442, 201191, 163472, 98266, 41635, 16843, 8601], \"yaxis\": \"y\"}, {\"hoverlabel\": {\"namelength\": 0}, \"hovertemplate\": \"<b>%{hovertext}</b><br><br>UnitCode=CUVA<br>Month=%{x}<br>Visitors=%{marker.size}\", \"hovertext\": [\"Cuyahoga Valley National Park\", \"Cuyahoga Valley National Park\", \"Cuyahoga Valley National Park\", \"Cuyahoga Valley National Park\", \"Cuyahoga Valley National Park\", \"Cuyahoga Valley National Park\", \"Cuyahoga Valley National Park\", \"Cuyahoga Valley National Park\", \"Cuyahoga Valley National Park\", \"Cuyahoga Valley National Park\", \"Cuyahoga Valley National Park\", \"Cuyahoga Valley National Park\"], \"legendgroup\": \"CUVA\", \"marker\": {\"color\": \"#ab63fa\", \"size\": [88020, 82061, 126521, 177318, 225949, 284079, 284928, 285616, 226681, 203708, 142329, 110787], \"sizemode\": \"area\", \"sizeref\": 4032.8325, \"symbol\": \"circle\"}, \"mode\": \"markers\", \"name\": \"CUVA\", \"showlegend\": true, \"type\": \"scatter\", \"x\": [0, 1, 2, 3, 4, 5, 6, 7, 8, 9, 10, 11], \"xaxis\": \"x\", \"y\": [88020, 82061, 126521, 177318, 225949, 284079, 284928, 285616, 226681, 203708, 142329, 110787], \"yaxis\": \"y\"}, {\"hoverlabel\": {\"namelength\": 0}, \"hovertemplate\": \"<b>%{hovertext}</b><br><br>UnitCode=DEVA<br>Month=%{x}<br>Visitors=%{marker.size}\", \"hovertext\": [\"Death Valley National Park\", \"Death Valley National Park\", \"Death Valley National Park\", \"Death Valley National Park\", \"Death Valley National Park\", \"Death Valley National Park\", \"Death Valley National Park\", \"Death Valley National Park\", \"Death Valley National Park\", \"Death Valley National Park\", \"Death Valley National Park\", \"Death Valley National Park\"], \"legendgroup\": \"DEVA\", \"marker\": {\"color\": \"#FFA15A\", \"size\": [111954, 112925, 178553, 177696, 155378, 122013, 142487, 165632, 168894, 138152, 132013, 135248], \"sizemode\": \"area\", \"sizeref\": 4032.8325, \"symbol\": \"circle\"}, \"mode\": \"markers\", \"name\": \"DEVA\", \"showlegend\": true, \"type\": \"scatter\", \"x\": [0, 1, 2, 3, 4, 5, 6, 7, 8, 9, 10, 11], \"xaxis\": \"x\", \"y\": [111954, 112925, 178553, 177696, 155378, 122013, 142487, 165632, 168894, 138152, 132013, 135248], \"yaxis\": \"y\"}, {\"hoverlabel\": {\"namelength\": 0}, \"hovertemplate\": \"<b>%{hovertext}</b><br><br>UnitCode=DRTO<br>Month=%{x}<br>Visitors=%{marker.size}\", \"hovertext\": [\"Dry Tortugas National Park\", \"Dry Tortugas National Park\", \"Dry Tortugas National Park\", \"Dry Tortugas National Park\", \"Dry Tortugas National Park\", \"Dry Tortugas National Park\", \"Dry Tortugas National Park\", \"Dry Tortugas National Park\", \"Dry Tortugas National Park\", \"Dry Tortugas National Park\", \"Dry Tortugas National Park\", \"Dry Tortugas National Park\"], \"legendgroup\": \"DRTO\", \"marker\": {\"color\": \"#19d3f3\", \"size\": [6179, 6937, 7417, 7720, 8124, 8041, 7692, 6658, 4694, 4432, 5336, 5970], \"sizemode\": \"area\", \"sizeref\": 4032.8325, \"symbol\": \"circle\"}, \"mode\": \"markers\", \"name\": \"DRTO\", \"showlegend\": true, \"type\": \"scatter\", \"x\": [0, 1, 2, 3, 4, 5, 6, 7, 8, 9, 10, 11], \"xaxis\": \"x\", \"y\": [6179, 6937, 7417, 7720, 8124, 8041, 7692, 6658, 4694, 4432, 5336, 5970], \"yaxis\": \"y\"}, {\"hoverlabel\": {\"namelength\": 0}, \"hovertemplate\": \"<b>%{hovertext}</b><br><br>UnitCode=EVER<br>Month=%{x}<br>Visitors=%{marker.size}\", \"hovertext\": [\"Everglades National Park\", \"Everglades National Park\", \"Everglades National Park\", \"Everglades National Park\", \"Everglades National Park\", \"Everglades National Park\", \"Everglades National Park\", \"Everglades National Park\", \"Everglades National Park\", \"Everglades National Park\", \"Everglades National Park\", \"Everglades National Park\"], \"legendgroup\": \"EVER\", \"marker\": {\"color\": \"#FF6692\", \"size\": [85838, 96953, 146859, 131278, 77435, 68267, 63394, 80177, 60469, 70222, 103643, 133765], \"sizemode\": \"area\", \"sizeref\": 4032.8325, \"symbol\": \"circle\"}, \"mode\": \"markers\", \"name\": \"EVER\", \"showlegend\": true, \"type\": \"scatter\", \"x\": [0, 1, 2, 3, 4, 5, 6, 7, 8, 9, 10, 11], \"xaxis\": \"x\", \"y\": [85838, 96953, 146859, 131278, 77435, 68267, 63394, 80177, 60469, 70222, 103643, 133765], \"yaxis\": \"y\"}, {\"hoverlabel\": {\"namelength\": 0}, \"hovertemplate\": \"<b>%{hovertext}</b><br><br>UnitCode=GLAC<br>Month=%{x}<br>Visitors=%{marker.size}\", \"hovertext\": [\"Glacier National Park\", \"Glacier National Park\", \"Glacier National Park\", \"Glacier National Park\", \"Glacier National Park\", \"Glacier National Park\", \"Glacier National Park\", \"Glacier National Park\", \"Glacier National Park\", \"Glacier National Park\", \"Glacier National Park\", \"Glacier National Park\"], \"legendgroup\": \"GLAC\", \"marker\": {\"color\": \"#B6E880\", \"size\": [13581, 11240, 23989, 35491, 167403, 544088, 879711, 771874, 488909, 78408, 20008, 15137], \"sizemode\": \"area\", \"sizeref\": 4032.8325, \"symbol\": \"circle\"}, \"mode\": \"markers\", \"name\": \"GLAC\", \"showlegend\": true, \"type\": \"scatter\", \"x\": [0, 1, 2, 3, 4, 5, 6, 7, 8, 9, 10, 11], \"xaxis\": \"x\", \"y\": [13581, 11240, 23989, 35491, 167403, 544088, 879711, 771874, 488909, 78408, 20008, 15137], \"yaxis\": \"y\"}, {\"hoverlabel\": {\"namelength\": 0}, \"hovertemplate\": \"<b>%{hovertext}</b><br><br>UnitCode=GRBA<br>Month=%{x}<br>Visitors=%{marker.size}\", \"hovertext\": [\"Great Basin National Park\", \"Great Basin National Park\", \"Great Basin National Park\", \"Great Basin National Park\", \"Great Basin National Park\", \"Great Basin National Park\", \"Great Basin National Park\", \"Great Basin National Park\", \"Great Basin National Park\", \"Great Basin National Park\", \"Great Basin National Park\", \"Great Basin National Park\"], \"legendgroup\": \"GRBA\", \"marker\": {\"color\": \"#FF97FF\", \"size\": [689, 1060, 2391, 6100, 11516, 23246, 23290, 24674, 22735, 11772, 3330, 999], \"sizemode\": \"area\", \"sizeref\": 4032.8325, \"symbol\": \"circle\"}, \"mode\": \"markers\", \"name\": \"GRBA\", \"showlegend\": true, \"type\": \"scatter\", \"x\": [0, 1, 2, 3, 4, 5, 6, 7, 8, 9, 10, 11], \"xaxis\": \"x\", \"y\": [689, 1060, 2391, 6100, 11516, 23246, 23290, 24674, 22735, 11772, 3330, 999], \"yaxis\": \"y\"}, {\"hoverlabel\": {\"namelength\": 0}, \"hovertemplate\": \"<b>%{hovertext}</b><br><br>UnitCode=GRCA<br>Month=%{x}<br>Visitors=%{marker.size}\", \"hovertext\": [\"Grand Canyon National Park\", \"Grand Canyon National Park\", \"Grand Canyon National Park\", \"Grand Canyon National Park\", \"Grand Canyon National Park\", \"Grand Canyon National Park\", \"Grand Canyon National Park\", \"Grand Canyon National Park\", \"Grand Canyon National Park\", \"Grand Canyon National Park\", \"Grand Canyon National Park\", \"Grand Canyon National Park\"], \"legendgroup\": \"GRCA\", \"marker\": {\"color\": \"#FECB52\", \"size\": [225056, 213050, 451228, 562265, 618598, 643821, 756860, 700896, 578852, 551558, 347847, 324380], \"sizemode\": \"area\", \"sizeref\": 4032.8325, \"symbol\": \"circle\"}, \"mode\": \"markers\", \"name\": \"GRCA\", \"showlegend\": true, \"type\": \"scatter\", \"x\": [0, 1, 2, 3, 4, 5, 6, 7, 8, 9, 10, 11], \"xaxis\": \"x\", \"y\": [225056, 213050, 451228, 562265, 618598, 643821, 756860, 700896, 578852, 551558, 347847, 324380], \"yaxis\": \"y\"}, {\"hoverlabel\": {\"namelength\": 0}, \"hovertemplate\": \"<b>%{hovertext}</b><br><br>UnitCode=GRSM<br>Month=%{x}<br>Visitors=%{marker.size}\", \"hovertext\": [\"Great Smoky Mountains National Park\", \"Great Smoky Mountains National Park\", \"Great Smoky Mountains National Park\", \"Great Smoky Mountains National Park\", \"Great Smoky Mountains National Park\", \"Great Smoky Mountains National Park\", \"Great Smoky Mountains National Park\", \"Great Smoky Mountains National Park\", \"Great Smoky Mountains National Park\", \"Great Smoky Mountains National Park\", \"Great Smoky Mountains National Park\", \"Great Smoky Mountains National Park\"], \"legendgroup\": \"GRSM\", \"marker\": {\"color\": \"#636efa\", \"size\": [496743, 421770, 786305, 999259, 1096056, 1469857, 1613133, 1411231, 1273326, 1408013, 851419, 720631], \"sizemode\": \"area\", \"sizeref\": 4032.8325, \"symbol\": \"circle\"}, \"mode\": \"markers\", \"name\": \"GRSM\", \"showlegend\": true, \"type\": \"scatter\", \"x\": [0, 1, 2, 3, 4, 5, 6, 7, 8, 9, 10, 11], \"xaxis\": \"x\", \"y\": [496743, 421770, 786305, 999259, 1096056, 1469857, 1613133, 1411231, 1273326, 1408013, 851419, 720631], \"yaxis\": \"y\"}, {\"hoverlabel\": {\"namelength\": 0}, \"hovertemplate\": \"<b>%{hovertext}</b><br><br>UnitCode=GRTE<br>Month=%{x}<br>Visitors=%{marker.size}\", \"hovertext\": [\"Grand Teton National Park\", \"Grand Teton National Park\", \"Grand Teton National Park\", \"Grand Teton National Park\", \"Grand Teton National Park\", \"Grand Teton National Park\", \"Grand Teton National Park\", \"Grand Teton National Park\", \"Grand Teton National Park\", \"Grand Teton National Park\", \"Grand Teton National Park\", \"Grand Teton National Park\"], \"legendgroup\": \"GRTE\", \"marker\": {\"color\": \"#EF553B\", \"size\": [56635, 43913, 65864, 59105, 278529, 625441, 775788, 702022, 517265, 186487, 48132, 46433], \"sizemode\": \"area\", \"sizeref\": 4032.8325, \"symbol\": \"circle\"}, \"mode\": \"markers\", \"name\": \"GRTE\", \"showlegend\": true, \"type\": \"scatter\", \"x\": [0, 1, 2, 3, 4, 5, 6, 7, 8, 9, 10, 11], \"xaxis\": \"x\", \"y\": [56635, 43913, 65864, 59105, 278529, 625441, 775788, 702022, 517265, 186487, 48132, 46433], \"yaxis\": \"y\"}, {\"hoverlabel\": {\"namelength\": 0}, \"hovertemplate\": \"<b>%{hovertext}</b><br><br>UnitCode=GUMO<br>Month=%{x}<br>Visitors=%{marker.size}\", \"hovertext\": [\"Guadalupe Mountains National Park\", \"Guadalupe Mountains National Park\", \"Guadalupe Mountains National Park\", \"Guadalupe Mountains National Park\", \"Guadalupe Mountains National Park\", \"Guadalupe Mountains National Park\", \"Guadalupe Mountains National Park\", \"Guadalupe Mountains National Park\", \"Guadalupe Mountains National Park\", \"Guadalupe Mountains National Park\", \"Guadalupe Mountains National Park\", \"Guadalupe Mountains National Park\"], \"legendgroup\": \"GUMO\", \"marker\": {\"color\": \"#00cc96\", \"size\": [1049, 9462, 27831, 20970, 25204, 14376, 13540, 10532, 12157, 23513, 15161, 15038], \"sizemode\": \"area\", \"sizeref\": 4032.8325, \"symbol\": \"circle\"}, \"mode\": \"markers\", \"name\": \"GUMO\", \"showlegend\": true, \"type\": \"scatter\", \"x\": [0, 1, 2, 3, 4, 5, 6, 7, 8, 9, 10, 11], \"xaxis\": \"x\", \"y\": [1049, 9462, 27831, 20970, 25204, 14376, 13540, 10532, 12157, 23513, 15161, 15038], \"yaxis\": \"y\"}, {\"hoverlabel\": {\"namelength\": 0}, \"hovertemplate\": \"<b>%{hovertext}</b><br><br>UnitCode=HALE<br>Month=%{x}<br>Visitors=%{marker.size}\", \"hovertext\": [\"Haleakal&#257; National Park\", \"Haleakal&#257; National Park\", \"Haleakal&#257; National Park\", \"Haleakal&#257; National Park\", \"Haleakal&#257; National Park\", \"Haleakal&#257; National Park\", \"Haleakal&#257; National Park\", \"Haleakal&#257; National Park\", \"Haleakal&#257; National Park\", \"Haleakal&#257; National Park\", \"Haleakal&#257; National Park\", \"Haleakal&#257; National Park\"], \"legendgroup\": \"HALE\", \"marker\": {\"color\": \"#ab63fa\", \"size\": [53523, 83666, 93074, 87763, 85159, 85338, 86267, 84618, 98856, 73204, 72075, 90851], \"sizemode\": \"area\", \"sizeref\": 4032.8325, \"symbol\": \"circle\"}, \"mode\": \"markers\", \"name\": \"HALE\", \"showlegend\": true, \"type\": \"scatter\", \"x\": [0, 1, 2, 3, 4, 5, 6, 7, 8, 9, 10, 11], \"xaxis\": \"x\", \"y\": [53523, 83666, 93074, 87763, 85159, 85338, 86267, 84618, 98856, 73204, 72075, 90851], \"yaxis\": \"y\"}, {\"hoverlabel\": {\"namelength\": 0}, \"hovertemplate\": \"<b>%{hovertext}</b><br><br>UnitCode=HAVO<br>Month=%{x}<br>Visitors=%{marker.size}\", \"hovertext\": [\"Hawai'i Volcanoes National Park\", \"Hawai'i Volcanoes National Park\", \"Hawai'i Volcanoes National Park\", \"Hawai'i Volcanoes National Park\", \"Hawai'i Volcanoes National Park\", \"Hawai'i Volcanoes National Park\", \"Hawai'i Volcanoes National Park\", \"Hawai'i Volcanoes National Park\", \"Hawai'i Volcanoes National Park\", \"Hawai'i Volcanoes National Park\", \"Hawai'i Volcanoes National Park\", \"Hawai'i Volcanoes National Park\"], \"legendgroup\": \"HAVO\", \"marker\": {\"color\": \"#FFA15A\", \"size\": [128836, 120931, 113452, 103247, 102792, 113015, 133249, 125357, 92720, 96054, 107457, 131266], \"sizemode\": \"area\", \"sizeref\": 4032.8325, \"symbol\": \"circle\"}, \"mode\": \"markers\", \"name\": \"HAVO\", \"showlegend\": true, \"type\": \"scatter\", \"x\": [0, 1, 2, 3, 4, 5, 6, 7, 8, 9, 10, 11], \"xaxis\": \"x\", \"y\": [128836, 120931, 113452, 103247, 102792, 113015, 133249, 125357, 92720, 96054, 107457, 131266], \"yaxis\": \"y\"}, {\"hoverlabel\": {\"namelength\": 0}, \"hovertemplate\": \"<b>%{hovertext}</b><br><br>UnitCode=HOSP<br>Month=%{x}<br>Visitors=%{marker.size}\", \"hovertext\": [\"Hot Springs National Park\", \"Hot Springs National Park\", \"Hot Springs National Park\", \"Hot Springs National Park\", \"Hot Springs National Park\", \"Hot Springs National Park\", \"Hot Springs National Park\", \"Hot Springs National Park\", \"Hot Springs National Park\", \"Hot Springs National Park\", \"Hot Springs National Park\", \"Hot Springs National Park\"], \"legendgroup\": \"HOSP\", \"marker\": {\"color\": \"#19d3f3\", \"size\": [73964, 79322, 125290, 113397, 136514, 149049, 139005, 181982, 143915, 137861, 108534, 78320], \"sizemode\": \"area\", \"sizeref\": 4032.8325, \"symbol\": \"circle\"}, \"mode\": \"markers\", \"name\": \"HOSP\", \"showlegend\": true, \"type\": \"scatter\", \"x\": [0, 1, 2, 3, 4, 5, 6, 7, 8, 9, 10, 11], \"xaxis\": \"x\", \"y\": [73964, 79322, 125290, 113397, 136514, 149049, 139005, 181982, 143915, 137861, 108534, 78320], \"yaxis\": \"y\"}, {\"hoverlabel\": {\"namelength\": 0}, \"hovertemplate\": \"<b>%{hovertext}</b><br><br>UnitCode=INDU<br>Month=%{x}<br>Visitors=%{marker.size}\", \"hovertext\": [\"Indiana Dunes National Park\", \"Indiana Dunes National Park\", \"Indiana Dunes National Park\", \"Indiana Dunes National Park\", \"Indiana Dunes National Park\", \"Indiana Dunes National Park\", \"Indiana Dunes National Park\", \"Indiana Dunes National Park\", \"Indiana Dunes National Park\", \"Indiana Dunes National Park\", \"Indiana Dunes National Park\", \"Indiana Dunes National Park\"], \"legendgroup\": \"INDU\", \"marker\": {\"color\": \"#FF6692\", \"size\": [69916, 85702, 219070, 107862, 142403, 302203, 449968, 290469, 206226, 105984, 79674, 74808], \"sizemode\": \"area\", \"sizeref\": 4032.8325, \"symbol\": \"circle\"}, \"mode\": \"markers\", \"name\": \"INDU\", \"showlegend\": true, \"type\": \"scatter\", \"x\": [0, 1, 2, 3, 4, 5, 6, 7, 8, 9, 10, 11], \"xaxis\": \"x\", \"y\": [69916, 85702, 219070, 107862, 142403, 302203, 449968, 290469, 206226, 105984, 79674, 74808], \"yaxis\": \"y\"}, {\"hoverlabel\": {\"namelength\": 0}, \"hovertemplate\": \"<b>%{hovertext}</b><br><br>UnitCode=ISRO<br>Month=%{x}<br>Visitors=%{marker.size}\", \"hovertext\": [\"Isle Royale National Park\", \"Isle Royale National Park\", \"Isle Royale National Park\", \"Isle Royale National Park\", \"Isle Royale National Park\", \"Isle Royale National Park\", \"Isle Royale National Park\", \"Isle Royale National Park\", \"Isle Royale National Park\", \"Isle Royale National Park\", \"Isle Royale National Park\", \"Isle Royale National Park\"], \"legendgroup\": \"ISRO\", \"marker\": {\"color\": \"#B6E880\", \"size\": [4, 37, 55, 61, 1055, 4837, 7714, 8798, 3342, 402, 47, 58], \"sizemode\": \"area\", \"sizeref\": 4032.8325, \"symbol\": \"circle\"}, \"mode\": \"markers\", \"name\": \"ISRO\", \"showlegend\": true, \"type\": \"scatter\", \"x\": [0, 1, 2, 3, 4, 5, 6, 7, 8, 9, 10, 11], \"xaxis\": \"x\", \"y\": [4, 37, 55, 61, 1055, 4837, 7714, 8798, 3342, 402, 47, 58], \"yaxis\": \"y\"}, {\"hoverlabel\": {\"namelength\": 0}, \"hovertemplate\": \"<b>%{hovertext}</b><br><br>UnitCode=JEFF<br>Month=%{x}<br>Visitors=%{marker.size}\", \"hovertext\": [\"Gateway Arch National Park\", \"Gateway Arch National Park\", \"Gateway Arch National Park\", \"Gateway Arch National Park\", \"Gateway Arch National Park\", \"Gateway Arch National Park\", \"Gateway Arch National Park\", \"Gateway Arch National Park\", \"Gateway Arch National Park\", \"Gateway Arch National Park\", \"Gateway Arch National Park\", \"Gateway Arch National Park\"], \"legendgroup\": \"JEFF\", \"marker\": {\"color\": \"#FF97FF\", \"size\": [18962, 51416, 164238, 138309, 165964, 296149, 583866, 208999, 127764, 122770, 91836, 85036], \"sizemode\": \"area\", \"sizeref\": 4032.8325, \"symbol\": \"circle\"}, \"mode\": \"markers\", \"name\": \"JEFF\", \"showlegend\": true, \"type\": \"scatter\", \"x\": [0, 1, 2, 3, 4, 5, 6, 7, 8, 9, 10, 11], \"xaxis\": \"x\", \"y\": [18962, 51416, 164238, 138309, 165964, 296149, 583866, 208999, 127764, 122770, 91836, 85036], \"yaxis\": \"y\"}, {\"hoverlabel\": {\"namelength\": 0}, \"hovertemplate\": \"<b>%{hovertext}</b><br><br>UnitCode=JOTR<br>Month=%{x}<br>Visitors=%{marker.size}\", \"hovertext\": [\"Joshua Tree National Park\", \"Joshua Tree National Park\", \"Joshua Tree National Park\", \"Joshua Tree National Park\", \"Joshua Tree National Park\", \"Joshua Tree National Park\", \"Joshua Tree National Park\", \"Joshua Tree National Park\", \"Joshua Tree National Park\", \"Joshua Tree National Park\", \"Joshua Tree National Park\", \"Joshua Tree National Park\"], \"legendgroup\": \"JOTR\", \"marker\": {\"color\": \"#FECB52\", \"size\": [195993, 261230, 469183, 374789, 250928, 187551, 138967, 120911, 160294, 233995, 291230, 303476], \"sizemode\": \"area\", \"sizeref\": 4032.8325, \"symbol\": \"circle\"}, \"mode\": \"markers\", \"name\": \"JOTR\", \"showlegend\": true, \"type\": \"scatter\", \"x\": [0, 1, 2, 3, 4, 5, 6, 7, 8, 9, 10, 11], \"xaxis\": \"x\", \"y\": [195993, 261230, 469183, 374789, 250928, 187551, 138967, 120911, 160294, 233995, 291230, 303476], \"yaxis\": \"y\"}, {\"hoverlabel\": {\"namelength\": 0}, \"hovertemplate\": \"<b>%{hovertext}</b><br><br>UnitCode=KEFJ<br>Month=%{x}<br>Visitors=%{marker.size}\", \"hovertext\": [\"Kenai Fjords National Park\", \"Kenai Fjords National Park\", \"Kenai Fjords National Park\", \"Kenai Fjords National Park\", \"Kenai Fjords National Park\", \"Kenai Fjords National Park\", \"Kenai Fjords National Park\", \"Kenai Fjords National Park\", \"Kenai Fjords National Park\", \"Kenai Fjords National Park\", \"Kenai Fjords National Park\", \"Kenai Fjords National Park\"], \"legendgroup\": \"KEFJ\", \"marker\": {\"color\": \"#636efa\", \"size\": [21, 37, 40, 21, 28944, 91280, 120632, 78129, 33346, 4121, 7, 23], \"sizemode\": \"area\", \"sizeref\": 4032.8325, \"symbol\": \"circle\"}, \"mode\": \"markers\", \"name\": \"KEFJ\", \"showlegend\": true, \"type\": \"scatter\", \"x\": [0, 1, 2, 3, 4, 5, 6, 7, 8, 9, 10, 11], \"xaxis\": \"x\", \"y\": [21, 37, 40, 21, 28944, 91280, 120632, 78129, 33346, 4121, 7, 23], \"yaxis\": \"y\"}, {\"hoverlabel\": {\"namelength\": 0}, \"hovertemplate\": \"<b>%{hovertext}</b><br><br>UnitCode=KICA<br>Month=%{x}<br>Visitors=%{marker.size}\", \"hovertext\": [null, null, null, null, null, null, null, null, null, null, null, null], \"legendgroup\": \"KICA\", \"marker\": {\"color\": \"#EF553B\", \"size\": [20295, 9227, 22067, 41156, 57345, 90612, 102440, 113009, 81206, 55118, 25439, 14196], \"sizemode\": \"area\", \"sizeref\": 4032.8325, \"symbol\": \"circle\"}, \"mode\": \"markers\", \"name\": \"KICA\", \"showlegend\": true, \"type\": \"scatter\", \"x\": [0, 1, 2, 3, 4, 5, 6, 7, 8, 9, 10, 11], \"xaxis\": \"x\", \"y\": [20295, 9227, 22067, 41156, 57345, 90612, 102440, 113009, 81206, 55118, 25439, 14196], \"yaxis\": \"y\"}, {\"hoverlabel\": {\"namelength\": 0}, \"hovertemplate\": \"<b>%{hovertext}</b><br><br>UnitCode=KOVA<br>Month=%{x}<br>Visitors=%{marker.size}\", \"hovertext\": [\"Kobuk Valley National Park\", \"Kobuk Valley National Park\", \"Kobuk Valley National Park\", \"Kobuk Valley National Park\", \"Kobuk Valley National Park\", \"Kobuk Valley National Park\", \"Kobuk Valley National Park\", \"Kobuk Valley National Park\", \"Kobuk Valley National Park\", \"Kobuk Valley National Park\", \"Kobuk Valley National Park\", \"Kobuk Valley National Park\"], \"legendgroup\": \"KOVA\", \"marker\": {\"color\": \"#00cc96\", \"size\": [1098, 695, 764, 808, 778, 1398, 1750, 1770, 1538, 1987, 1569, 1611], \"sizemode\": \"area\", \"sizeref\": 4032.8325, \"symbol\": \"circle\"}, \"mode\": \"markers\", \"name\": \"KOVA\", \"showlegend\": true, \"type\": \"scatter\", \"x\": [0, 1, 2, 3, 4, 5, 6, 7, 8, 9, 10, 11], \"xaxis\": \"x\", \"y\": [1098, 695, 764, 808, 778, 1398, 1750, 1770, 1538, 1987, 1569, 1611], \"yaxis\": \"y\"}, {\"hoverlabel\": {\"namelength\": 0}, \"hovertemplate\": \"<b>%{hovertext}</b><br><br>UnitCode=LAVO<br>Month=%{x}<br>Visitors=%{marker.size}\", \"hovertext\": [\"Lassen Volcanic National Park\", \"Lassen Volcanic National Park\", \"Lassen Volcanic National Park\", \"Lassen Volcanic National Park\", \"Lassen Volcanic National Park\", \"Lassen Volcanic National Park\", \"Lassen Volcanic National Park\", \"Lassen Volcanic National Park\", \"Lassen Volcanic National Park\", \"Lassen Volcanic National Park\", \"Lassen Volcanic National Park\", \"Lassen Volcanic National Park\"], \"legendgroup\": \"LAVO\", \"marker\": {\"color\": \"#ab63fa\", \"size\": [8646, 6561, 7944, 12477, 25170, 63803, 105535, 98109, 75502, 88428, 12879, 11985], \"sizemode\": \"area\", \"sizeref\": 4032.8325, \"symbol\": \"circle\"}, \"mode\": \"markers\", \"name\": \"LAVO\", \"showlegend\": true, \"type\": \"scatter\", \"x\": [0, 1, 2, 3, 4, 5, 6, 7, 8, 9, 10, 11], \"xaxis\": \"x\", \"y\": [8646, 6561, 7944, 12477, 25170, 63803, 105535, 98109, 75502, 88428, 12879, 11985], \"yaxis\": \"y\"}, {\"hoverlabel\": {\"namelength\": 0}, \"hovertemplate\": \"<b>%{hovertext}</b><br><br>UnitCode=MACA<br>Month=%{x}<br>Visitors=%{marker.size}\", \"hovertext\": [\"Mammoth Cave National Park\", \"Mammoth Cave National Park\", \"Mammoth Cave National Park\", \"Mammoth Cave National Park\", \"Mammoth Cave National Park\", \"Mammoth Cave National Park\", \"Mammoth Cave National Park\", \"Mammoth Cave National Park\", \"Mammoth Cave National Park\", \"Mammoth Cave National Park\", \"Mammoth Cave National Park\", \"Mammoth Cave National Park\"], \"legendgroup\": \"MACA\", \"marker\": {\"color\": \"#FFA15A\", \"size\": [3651, 10346, 45779, 55210, 53461, 76995, 102436, 72400, 43525, 48713, 22247, 16827], \"sizemode\": \"area\", \"sizeref\": 4032.8325, \"symbol\": \"circle\"}, \"mode\": \"markers\", \"name\": \"MACA\", \"showlegend\": true, \"type\": \"scatter\", \"x\": [0, 1, 2, 3, 4, 5, 6, 7, 8, 9, 10, 11], \"xaxis\": \"x\", \"y\": [3651, 10346, 45779, 55210, 53461, 76995, 102436, 72400, 43525, 48713, 22247, 16827], \"yaxis\": \"y\"}, {\"hoverlabel\": {\"namelength\": 0}, \"hovertemplate\": \"<b>%{hovertext}</b><br><br>UnitCode=MEVE<br>Month=%{x}<br>Visitors=%{marker.size}\", \"hovertext\": [\"Mesa Verde National Park\", \"Mesa Verde National Park\", \"Mesa Verde National Park\", \"Mesa Verde National Park\", \"Mesa Verde National Park\", \"Mesa Verde National Park\", \"Mesa Verde National Park\", \"Mesa Verde National Park\", \"Mesa Verde National Park\", \"Mesa Verde National Park\", \"Mesa Verde National Park\", \"Mesa Verde National Park\"], \"legendgroup\": \"MEVE\", \"marker\": {\"color\": \"#19d3f3\", \"size\": [95, 3414, 14992, 32428, 60665, 108231, 113166, 87133, 70865, 47270, 10201, 7743], \"sizemode\": \"area\", \"sizeref\": 4032.8325, \"symbol\": \"circle\"}, \"mode\": \"markers\", \"name\": \"MEVE\", \"showlegend\": true, \"type\": \"scatter\", \"x\": [0, 1, 2, 3, 4, 5, 6, 7, 8, 9, 10, 11], \"xaxis\": \"x\", \"y\": [95, 3414, 14992, 32428, 60665, 108231, 113166, 87133, 70865, 47270, 10201, 7743], \"yaxis\": \"y\"}, {\"hoverlabel\": {\"namelength\": 0}, \"hovertemplate\": \"<b>%{hovertext}</b><br><br>UnitCode=MORA<br>Month=%{x}<br>Visitors=%{marker.size}\", \"hovertext\": [\"Mount Rainier National Park\", \"Mount Rainier National Park\", \"Mount Rainier National Park\", \"Mount Rainier National Park\", \"Mount Rainier National Park\", \"Mount Rainier National Park\", \"Mount Rainier National Park\", \"Mount Rainier National Park\", \"Mount Rainier National Park\", \"Mount Rainier National Park\", \"Mount Rainier National Park\", \"Mount Rainier National Park\"], \"legendgroup\": \"MORA\", \"marker\": {\"color\": \"#FF6692\", \"size\": [12933, 11743, 32101, 29632, 106136, 219641, 365200, 378305, 184166, 74355, 48248, 39161], \"sizemode\": \"area\", \"sizeref\": 4032.8325, \"symbol\": \"circle\"}, \"mode\": \"markers\", \"name\": \"MORA\", \"showlegend\": true, \"type\": \"scatter\", \"x\": [0, 1, 2, 3, 4, 5, 6, 7, 8, 9, 10, 11], \"xaxis\": \"x\", \"y\": [12933, 11743, 32101, 29632, 106136, 219641, 365200, 378305, 184166, 74355, 48248, 39161], \"yaxis\": \"y\"}, {\"hoverlabel\": {\"namelength\": 0}, \"hovertemplate\": \"<b>%{hovertext}</b><br><br>UnitCode=NOCA<br>Month=%{x}<br>Visitors=%{marker.size}\", \"hovertext\": [\"North Cascades National Park\", \"North Cascades National Park\", \"North Cascades National Park\", \"North Cascades National Park\", \"North Cascades National Park\", \"North Cascades National Park\", \"North Cascades National Park\", \"North Cascades National Park\", \"North Cascades National Park\", \"North Cascades National Park\", \"North Cascades National Park\", \"North Cascades National Park\"], \"legendgroup\": \"NOCA\", \"marker\": {\"color\": \"#B6E880\", \"size\": [9, 0, 26, 44, 1241, 4520, 10656, 12576, 8581, 373, 101, 81], \"sizemode\": \"area\", \"sizeref\": 4032.8325, \"symbol\": \"circle\"}, \"mode\": \"markers\", \"name\": \"NOCA\", \"showlegend\": true, \"type\": \"scatter\", \"x\": [0, 1, 2, 3, 4, 5, 6, 7, 8, 9, 10, 11], \"xaxis\": \"x\", \"y\": [9, 0, 26, 44, 1241, 4520, 10656, 12576, 8581, 373, 101, 81], \"yaxis\": \"y\"}, {\"hoverlabel\": {\"namelength\": 0}, \"hovertemplate\": \"<b>%{hovertext}</b><br><br>UnitCode=NPSA<br>Month=%{x}<br>Visitors=%{marker.size}\", \"hovertext\": [\"National Park of American Samoa\", \"National Park of American Samoa\", \"National Park of American Samoa\", \"National Park of American Samoa\", \"National Park of American Samoa\", \"National Park of American Samoa\", \"National Park of American Samoa\", \"National Park of American Samoa\", \"National Park of American Samoa\", \"National Park of American Samoa\", \"National Park of American Samoa\", \"National Park of American Samoa\"], \"legendgroup\": \"NPSA\", \"marker\": {\"color\": \"#FF97FF\", \"size\": [792, 3772, 7152, 7452, 7772, 3464, 4059, 4650, 3933, 6900, 8456, 1604], \"sizemode\": \"area\", \"sizeref\": 4032.8325, \"symbol\": \"circle\"}, \"mode\": \"markers\", \"name\": \"NPSA\", \"showlegend\": true, \"type\": \"scatter\", \"x\": [0, 1, 2, 3, 4, 5, 6, 7, 8, 9, 10, 11], \"xaxis\": \"x\", \"y\": [792, 3772, 7152, 7452, 7772, 3464, 4059, 4650, 3933, 6900, 8456, 1604], \"yaxis\": \"y\"}, {\"hoverlabel\": {\"namelength\": 0}, \"hovertemplate\": \"<b>%{hovertext}</b><br><br>UnitCode=OLYM<br>Month=%{x}<br>Visitors=%{marker.size}\", \"hovertext\": [\"Olympic National Park\", \"Olympic National Park\", \"Olympic National Park\", \"Olympic National Park\", \"Olympic National Park\", \"Olympic National Park\", \"Olympic National Park\", \"Olympic National Park\", \"Olympic National Park\", \"Olympic National Park\", \"Olympic National Park\", \"Olympic National Park\"], \"legendgroup\": \"OLYM\", \"marker\": {\"color\": \"#FECB52\", \"size\": [72725, 73756, 113720, 159983, 307426, 499728, 517058, 737996, 399907, 182944, 108204, 72359], \"sizemode\": \"area\", \"sizeref\": 4032.8325, \"symbol\": \"circle\"}, \"mode\": \"markers\", \"name\": \"OLYM\", \"showlegend\": true, \"type\": \"scatter\", \"x\": [0, 1, 2, 3, 4, 5, 6, 7, 8, 9, 10, 11], \"xaxis\": \"x\", \"y\": [72725, 73756, 113720, 159983, 307426, 499728, 517058, 737996, 399907, 182944, 108204, 72359], \"yaxis\": \"y\"}, {\"hoverlabel\": {\"namelength\": 0}, \"hovertemplate\": \"<b>%{hovertext}</b><br><br>UnitCode=PEFO<br>Month=%{x}<br>Visitors=%{marker.size}\", \"hovertext\": [\"Petrified Forest National Park\", \"Petrified Forest National Park\", \"Petrified Forest National Park\", \"Petrified Forest National Park\", \"Petrified Forest National Park\", \"Petrified Forest National Park\", \"Petrified Forest National Park\", \"Petrified Forest National Park\", \"Petrified Forest National Park\", \"Petrified Forest National Park\", \"Petrified Forest National Park\", \"Petrified Forest National Park\"], \"legendgroup\": \"PEFO\", \"marker\": {\"color\": \"#636efa\", \"size\": [15341, 21342, 55187, 56567, 72802, 95451, 90546, 62276, 52525, 57019, 32092, 32440], \"sizemode\": \"area\", \"sizeref\": 4032.8325, \"symbol\": \"circle\"}, \"mode\": \"markers\", \"name\": \"PEFO\", \"showlegend\": true, \"type\": \"scatter\", \"x\": [0, 1, 2, 3, 4, 5, 6, 7, 8, 9, 10, 11], \"xaxis\": \"x\", \"y\": [15341, 21342, 55187, 56567, 72802, 95451, 90546, 62276, 52525, 57019, 32092, 32440], \"yaxis\": \"y\"}, {\"hoverlabel\": {\"namelength\": 0}, \"hovertemplate\": \"<b>%{hovertext}</b><br><br>UnitCode=PINN<br>Month=%{x}<br>Visitors=%{marker.size}\", \"hovertext\": [\"Pinnacles National Park\", \"Pinnacles National Park\", \"Pinnacles National Park\", \"Pinnacles National Park\", \"Pinnacles National Park\", \"Pinnacles National Park\", \"Pinnacles National Park\", \"Pinnacles National Park\", \"Pinnacles National Park\", \"Pinnacles National Park\", \"Pinnacles National Park\", \"Pinnacles National Park\"], \"legendgroup\": \"PINN\", \"marker\": {\"color\": \"#EF553B\", \"size\": [1154, 11735, 24681, 16234, 19398, 19061, 13016, 16795, 14165, 14084, 14786, 12115], \"sizemode\": \"area\", \"sizeref\": 4032.8325, \"symbol\": \"circle\"}, \"mode\": \"markers\", \"name\": \"PINN\", \"showlegend\": true, \"type\": \"scatter\", \"x\": [0, 1, 2, 3, 4, 5, 6, 7, 8, 9, 10, 11], \"xaxis\": \"x\", \"y\": [1154, 11735, 24681, 16234, 19398, 19061, 13016, 16795, 14165, 14084, 14786, 12115], \"yaxis\": \"y\"}, {\"hoverlabel\": {\"namelength\": 0}, \"hovertemplate\": \"<b>%{hovertext}</b><br><br>UnitCode=REDW<br>Month=%{x}<br>Visitors=%{marker.size}\", \"hovertext\": [\"Redwood National and State Parks\", \"Redwood National and State Parks\", \"Redwood National and State Parks\", \"Redwood National and State Parks\", \"Redwood National and State Parks\", \"Redwood National and State Parks\", \"Redwood National and State Parks\", \"Redwood National and State Parks\", \"Redwood National and State Parks\", \"Redwood National and State Parks\", \"Redwood National and State Parks\", \"Redwood National and State Parks\"], \"legendgroup\": \"REDW\", \"marker\": {\"color\": \"#00cc96\", \"size\": [17129, 17768, 30938, 33179, 62796, 76137, 69750, 55227, 55568, 42048, 24430, 19752], \"sizemode\": \"area\", \"sizeref\": 4032.8325, \"symbol\": \"circle\"}, \"mode\": \"markers\", \"name\": \"REDW\", \"showlegend\": true, \"type\": \"scatter\", \"x\": [0, 1, 2, 3, 4, 5, 6, 7, 8, 9, 10, 11], \"xaxis\": \"x\", \"y\": [17129, 17768, 30938, 33179, 62796, 76137, 69750, 55227, 55568, 42048, 24430, 19752], \"yaxis\": \"y\"}, {\"hoverlabel\": {\"namelength\": 0}, \"hovertemplate\": \"<b>%{hovertext}</b><br><br>UnitCode=ROMO<br>Month=%{x}<br>Visitors=%{marker.size}\", \"hovertext\": [\"Rocky Mountain National Park\", \"Rocky Mountain National Park\", \"Rocky Mountain National Park\", \"Rocky Mountain National Park\", \"Rocky Mountain National Park\", \"Rocky Mountain National Park\", \"Rocky Mountain National Park\", \"Rocky Mountain National Park\", \"Rocky Mountain National Park\", \"Rocky Mountain National Park\", \"Rocky Mountain National Park\", \"Rocky Mountain National Park\"], \"legendgroup\": \"ROMO\", \"marker\": {\"color\": \"#ab63fa\", \"size\": [118152, 99873, 146414, 160259, 280351, 698224, 973992, 830039, 752320, 374003, 123376, 113050], \"sizemode\": \"area\", \"sizeref\": 4032.8325, \"symbol\": \"circle\"}, \"mode\": \"markers\", \"name\": \"ROMO\", \"showlegend\": true, \"type\": \"scatter\", \"x\": [0, 1, 2, 3, 4, 5, 6, 7, 8, 9, 10, 11], \"xaxis\": \"x\", \"y\": [118152, 99873, 146414, 160259, 280351, 698224, 973992, 830039, 752320, 374003, 123376, 113050], \"yaxis\": \"y\"}, {\"hoverlabel\": {\"namelength\": 0}, \"hovertemplate\": \"<b>%{hovertext}</b><br><br>UnitCode=SAGU<br>Month=%{x}<br>Visitors=%{marker.size}\", \"hovertext\": [\"Saguaro National Park\", \"Saguaro National Park\", \"Saguaro National Park\", \"Saguaro National Park\", \"Saguaro National Park\", \"Saguaro National Park\", \"Saguaro National Park\", \"Saguaro National Park\", \"Saguaro National Park\", \"Saguaro National Park\", \"Saguaro National Park\", \"Saguaro National Park\"], \"legendgroup\": \"SAGU\", \"marker\": {\"color\": \"#FFA15A\", \"size\": [48968, 149371, 186275, 117802, 75838, 49481, 48553, 51309, 44812, 64529, 87053, 96235], \"sizemode\": \"area\", \"sizeref\": 4032.8325, \"symbol\": \"circle\"}, \"mode\": \"markers\", \"name\": \"SAGU\", \"showlegend\": true, \"type\": \"scatter\", \"x\": [0, 1, 2, 3, 4, 5, 6, 7, 8, 9, 10, 11], \"xaxis\": \"x\", \"y\": [48968, 149371, 186275, 117802, 75838, 49481, 48553, 51309, 44812, 64529, 87053, 96235], \"yaxis\": \"y\"}, {\"hoverlabel\": {\"namelength\": 0}, \"hovertemplate\": \"<b>%{hovertext}</b><br><br>UnitCode=SEQU<br>Month=%{x}<br>Visitors=%{marker.size}\", \"hovertext\": [null, null, null, null, null, null, null, null, null, null, null, null], \"legendgroup\": \"SEQU\", \"marker\": {\"color\": \"#19d3f3\", \"size\": [36024, 28737, 63343, 93054, 119816, 153882, 193633, 190139, 144639, 118187, 59502, 45097], \"sizemode\": \"area\", \"sizeref\": 4032.8325, \"symbol\": \"circle\"}, \"mode\": \"markers\", \"name\": \"SEQU\", \"showlegend\": true, \"type\": \"scatter\", \"x\": [0, 1, 2, 3, 4, 5, 6, 7, 8, 9, 10, 11], \"xaxis\": \"x\", \"y\": [36024, 28737, 63343, 93054, 119816, 153882, 193633, 190139, 144639, 118187, 59502, 45097], \"yaxis\": \"y\"}, {\"hoverlabel\": {\"namelength\": 0}, \"hovertemplate\": \"<b>%{hovertext}</b><br><br>UnitCode=SHEN<br>Month=%{x}<br>Visitors=%{marker.size}\", \"hovertext\": [\"Shenandoah National Park\", \"Shenandoah National Park\", \"Shenandoah National Park\", \"Shenandoah National Park\", \"Shenandoah National Park\", \"Shenandoah National Park\", \"Shenandoah National Park\", \"Shenandoah National Park\", \"Shenandoah National Park\", \"Shenandoah National Park\", \"Shenandoah National Park\", \"Shenandoah National Park\"], \"legendgroup\": \"SHEN\", \"marker\": {\"color\": \"#FF6692\", \"size\": [20245, 10264, 38601, 102672, 150297, 170492, 167335, 195579, 176271, 236554, 127014, 30183], \"sizemode\": \"area\", \"sizeref\": 4032.8325, \"symbol\": \"circle\"}, \"mode\": \"markers\", \"name\": \"SHEN\", \"showlegend\": true, \"type\": \"scatter\", \"x\": [0, 1, 2, 3, 4, 5, 6, 7, 8, 9, 10, 11], \"xaxis\": \"x\", \"y\": [20245, 10264, 38601, 102672, 150297, 170492, 167335, 195579, 176271, 236554, 127014, 30183], \"yaxis\": \"y\"}, {\"hoverlabel\": {\"namelength\": 0}, \"hovertemplate\": \"<b>%{hovertext}</b><br><br>UnitCode=THRO<br>Month=%{x}<br>Visitors=%{marker.size}\", \"hovertext\": [\"Theodore Roosevelt National Park\", \"Theodore Roosevelt National Park\", \"Theodore Roosevelt National Park\", \"Theodore Roosevelt National Park\", \"Theodore Roosevelt National Park\", \"Theodore Roosevelt National Park\", \"Theodore Roosevelt National Park\", \"Theodore Roosevelt National Park\", \"Theodore Roosevelt National Park\", \"Theodore Roosevelt National Park\", \"Theodore Roosevelt National Park\", \"Theodore Roosevelt National Park\"], \"legendgroup\": \"THRO\", \"marker\": {\"color\": \"#B6E880\", \"size\": [2515, 1187, 5935, 10516, 75682, 134590, 149425, 135584, 110576, 46043, 17086, 2519], \"sizemode\": \"area\", \"sizeref\": 4032.8325, \"symbol\": \"circle\"}, \"mode\": \"markers\", \"name\": \"THRO\", \"showlegend\": true, \"type\": \"scatter\", \"x\": [0, 1, 2, 3, 4, 5, 6, 7, 8, 9, 10, 11], \"xaxis\": \"x\", \"y\": [2515, 1187, 5935, 10516, 75682, 134590, 149425, 135584, 110576, 46043, 17086, 2519], \"yaxis\": \"y\"}, {\"hoverlabel\": {\"namelength\": 0}, \"hovertemplate\": \"<b>%{hovertext}</b><br><br>UnitCode=VIIS<br>Month=%{x}<br>Visitors=%{marker.size}\", \"hovertext\": [\"Virgin Islands National Park\", \"Virgin Islands National Park\", \"Virgin Islands National Park\", \"Virgin Islands National Park\", \"Virgin Islands National Park\", \"Virgin Islands National Park\", \"Virgin Islands National Park\", \"Virgin Islands National Park\", \"Virgin Islands National Park\", \"Virgin Islands National Park\", \"Virgin Islands National Park\", \"Virgin Islands National Park\"], \"legendgroup\": \"VIIS\", \"marker\": {\"color\": \"#FF97FF\", \"size\": [350, 5753, 5583, 13680, 10437, 10047, 8191, 18599, 7376, 13496, 16768, 23118], \"sizemode\": \"area\", \"sizeref\": 4032.8325, \"symbol\": \"circle\"}, \"mode\": \"markers\", \"name\": \"VIIS\", \"showlegend\": true, \"type\": \"scatter\", \"x\": [0, 1, 2, 3, 4, 5, 6, 7, 8, 9, 10, 11], \"xaxis\": \"x\", \"y\": [350, 5753, 5583, 13680, 10437, 10047, 8191, 18599, 7376, 13496, 16768, 23118], \"yaxis\": \"y\"}, {\"hoverlabel\": {\"namelength\": 0}, \"hovertemplate\": \"<b>%{hovertext}</b><br><br>UnitCode=VOYA<br>Month=%{x}<br>Visitors=%{marker.size}\", \"hovertext\": [\"Voyageurs National Park\", \"Voyageurs National Park\", \"Voyageurs National Park\", \"Voyageurs National Park\", \"Voyageurs National Park\", \"Voyageurs National Park\", \"Voyageurs National Park\", \"Voyageurs National Park\", \"Voyageurs National Park\", \"Voyageurs National Park\", \"Voyageurs National Park\", \"Voyageurs National Park\"], \"legendgroup\": \"VOYA\", \"marker\": {\"color\": \"#FECB52\", \"size\": [4458, 7602, 3214, 213, 28198, 47387, 52031, 50586, 25517, 11047, 2472, 249], \"sizemode\": \"area\", \"sizeref\": 4032.8325, \"symbol\": \"circle\"}, \"mode\": \"markers\", \"name\": \"VOYA\", \"showlegend\": true, \"type\": \"scatter\", \"x\": [0, 1, 2, 3, 4, 5, 6, 7, 8, 9, 10, 11], \"xaxis\": \"x\", \"y\": [4458, 7602, 3214, 213, 28198, 47387, 52031, 50586, 25517, 11047, 2472, 249], \"yaxis\": \"y\"}, {\"hoverlabel\": {\"namelength\": 0}, \"hovertemplate\": \"<b>%{hovertext}</b><br><br>UnitCode=WHSA<br>Month=%{x}<br>Visitors=%{marker.size}\", \"hovertext\": [\"White Sands National Park\", \"White Sands National Park\", \"White Sands National Park\", \"White Sands National Park\", \"White Sands National Park\", \"White Sands National Park\", \"White Sands National Park\", \"White Sands National Park\", \"White Sands National Park\", \"White Sands National Park\", \"White Sands National Park\", \"White Sands National Park\"], \"legendgroup\": \"WHSA\", \"marker\": {\"color\": \"#636efa\", \"size\": [4693, 35531, 83712, 62811, 64344, 62127, 66363, 48510, 43009, 50053, 38575, 49057], \"sizemode\": \"area\", \"sizeref\": 4032.8325, \"symbol\": \"circle\"}, \"mode\": \"markers\", \"name\": \"WHSA\", \"showlegend\": true, \"type\": \"scatter\", \"x\": [0, 1, 2, 3, 4, 5, 6, 7, 8, 9, 10, 11], \"xaxis\": \"x\", \"y\": [4693, 35531, 83712, 62811, 64344, 62127, 66363, 48510, 43009, 50053, 38575, 49057], \"yaxis\": \"y\"}, {\"hoverlabel\": {\"namelength\": 0}, \"hovertemplate\": \"<b>%{hovertext}</b><br><br>UnitCode=WICA<br>Month=%{x}<br>Visitors=%{marker.size}\", \"hovertext\": [\"Wind Cave National Park\", \"Wind Cave National Park\", \"Wind Cave National Park\", \"Wind Cave National Park\", \"Wind Cave National Park\", \"Wind Cave National Park\", \"Wind Cave National Park\", \"Wind Cave National Park\", \"Wind Cave National Park\", \"Wind Cave National Park\", \"Wind Cave National Park\", \"Wind Cave National Park\"], \"legendgroup\": \"WICA\", \"marker\": {\"color\": \"#EF553B\", \"size\": [11431, 14127, 21375, 54922, 48780, 125106, 146531, 92237, 55196, 23537, 10950, 11158], \"sizemode\": \"area\", \"sizeref\": 4032.8325, \"symbol\": \"circle\"}, \"mode\": \"markers\", \"name\": \"WICA\", \"showlegend\": true, \"type\": \"scatter\", \"x\": [0, 1, 2, 3, 4, 5, 6, 7, 8, 9, 10, 11], \"xaxis\": \"x\", \"y\": [11431, 14127, 21375, 54922, 48780, 125106, 146531, 92237, 55196, 23537, 10950, 11158], \"yaxis\": \"y\"}, {\"hoverlabel\": {\"namelength\": 0}, \"hovertemplate\": \"<b>%{hovertext}</b><br><br>UnitCode=YELL<br>Month=%{x}<br>Visitors=%{marker.size}\", \"hovertext\": [\"Yellowstone National Park\", \"Yellowstone National Park\", \"Yellowstone National Park\", \"Yellowstone National Park\", \"Yellowstone National Park\", \"Yellowstone National Park\", \"Yellowstone National Park\", \"Yellowstone National Park\", \"Yellowstone National Park\", \"Yellowstone National Park\", \"Yellowstone National Park\", \"Yellowstone National Park\"], \"legendgroup\": \"YELL\", \"marker\": {\"color\": \"#00cc96\", \"size\": [33896, 31650, 28695, 48150, 434385, 781853, 936062, 820006, 693118, 171339, 15628, 25506], \"sizemode\": \"area\", \"sizeref\": 4032.8325, \"symbol\": \"circle\"}, \"mode\": \"markers\", \"name\": \"YELL\", \"showlegend\": true, \"type\": \"scatter\", \"x\": [0, 1, 2, 3, 4, 5, 6, 7, 8, 9, 10, 11], \"xaxis\": \"x\", \"y\": [33896, 31650, 28695, 48150, 434385, 781853, 936062, 820006, 693118, 171339, 15628, 25506], \"yaxis\": \"y\"}, {\"hoverlabel\": {\"namelength\": 0}, \"hovertemplate\": \"<b>%{hovertext}</b><br><br>UnitCode=YOSE<br>Month=%{x}<br>Visitors=%{marker.size}\", \"hovertext\": [\"Yosemite National Park\", \"Yosemite National Park\", \"Yosemite National Park\", \"Yosemite National Park\", \"Yosemite National Park\", \"Yosemite National Park\", \"Yosemite National Park\", \"Yosemite National Park\", \"Yosemite National Park\", \"Yosemite National Park\", \"Yosemite National Park\", \"Yosemite National Park\"], \"legendgroup\": \"YOSE\", \"marker\": {\"color\": \"#ab63fa\", \"size\": [116746, 111665, 173610, 297207, 393004, 496625, 717462, 703153, 584664, 448939, 230598, 149188], \"sizemode\": \"area\", \"sizeref\": 4032.8325, \"symbol\": \"circle\"}, \"mode\": \"markers\", \"name\": \"YOSE\", \"showlegend\": true, \"type\": \"scatter\", \"x\": [0, 1, 2, 3, 4, 5, 6, 7, 8, 9, 10, 11], \"xaxis\": \"x\", \"y\": [116746, 111665, 173610, 297207, 393004, 496625, 717462, 703153, 584664, 448939, 230598, 149188], \"yaxis\": \"y\"}, {\"hoverlabel\": {\"namelength\": 0}, \"hovertemplate\": \"<b>%{hovertext}</b><br><br>UnitCode=ZION<br>Month=%{x}<br>Visitors=%{marker.size}\", \"hovertext\": [\"Zion National Park\", \"Zion National Park\", \"Zion National Park\", \"Zion National Park\", \"Zion National Park\", \"Zion National Park\", \"Zion National Park\", \"Zion National Park\", \"Zion National Park\", \"Zion National Park\", \"Zion National Park\", \"Zion National Park\"], \"legendgroup\": \"ZION\", \"marker\": {\"color\": \"#FFA15A\", \"size\": [98828, 102269, 296316, 372349, 529553, 594896, 629802, 535322, 497443, 429604, 230180, 171706], \"sizemode\": \"area\", \"sizeref\": 4032.8325, \"symbol\": \"circle\"}, \"mode\": \"markers\", \"name\": \"ZION\", \"showlegend\": true, \"type\": \"scatter\", \"x\": [0, 1, 2, 3, 4, 5, 6, 7, 8, 9, 10, 11], \"xaxis\": \"x\", \"y\": [98828, 102269, 296316, 372349, 529553, 594896, 629802, 535322, 497443, 429604, 230180, 171706], \"yaxis\": \"y\"}],\n",
       "                        {\"legend\": {\"itemsizing\": \"constant\", \"title\": {\"text\": \"UnitCode\"}, \"tracegroupgap\": 0}, \"margin\": {\"t\": 60}, \"template\": {\"data\": {\"bar\": [{\"error_x\": {\"color\": \"#2a3f5f\"}, \"error_y\": {\"color\": \"#2a3f5f\"}, \"marker\": {\"line\": {\"color\": \"#E5ECF6\", \"width\": 0.5}}, \"type\": \"bar\"}], \"barpolar\": [{\"marker\": {\"line\": {\"color\": \"#E5ECF6\", \"width\": 0.5}}, \"type\": \"barpolar\"}], \"carpet\": [{\"aaxis\": {\"endlinecolor\": \"#2a3f5f\", \"gridcolor\": \"white\", \"linecolor\": \"white\", \"minorgridcolor\": \"white\", \"startlinecolor\": \"#2a3f5f\"}, \"baxis\": {\"endlinecolor\": \"#2a3f5f\", \"gridcolor\": \"white\", \"linecolor\": \"white\", \"minorgridcolor\": \"white\", \"startlinecolor\": \"#2a3f5f\"}, \"type\": \"carpet\"}], \"choropleth\": [{\"colorbar\": {\"outlinewidth\": 0, \"ticks\": \"\"}, \"type\": \"choropleth\"}], \"contour\": [{\"colorbar\": {\"outlinewidth\": 0, \"ticks\": \"\"}, \"colorscale\": [[0.0, \"#0d0887\"], [0.1111111111111111, \"#46039f\"], [0.2222222222222222, \"#7201a8\"], [0.3333333333333333, \"#9c179e\"], [0.4444444444444444, \"#bd3786\"], [0.5555555555555556, \"#d8576b\"], [0.6666666666666666, \"#ed7953\"], [0.7777777777777778, \"#fb9f3a\"], [0.8888888888888888, \"#fdca26\"], [1.0, \"#f0f921\"]], \"type\": \"contour\"}], \"contourcarpet\": [{\"colorbar\": {\"outlinewidth\": 0, \"ticks\": \"\"}, \"type\": \"contourcarpet\"}], \"heatmap\": [{\"colorbar\": {\"outlinewidth\": 0, \"ticks\": \"\"}, \"colorscale\": [[0.0, \"#0d0887\"], [0.1111111111111111, \"#46039f\"], [0.2222222222222222, \"#7201a8\"], [0.3333333333333333, \"#9c179e\"], [0.4444444444444444, \"#bd3786\"], [0.5555555555555556, \"#d8576b\"], [0.6666666666666666, \"#ed7953\"], [0.7777777777777778, \"#fb9f3a\"], [0.8888888888888888, \"#fdca26\"], [1.0, \"#f0f921\"]], \"type\": \"heatmap\"}], \"heatmapgl\": [{\"colorbar\": {\"outlinewidth\": 0, \"ticks\": \"\"}, \"colorscale\": [[0.0, \"#0d0887\"], [0.1111111111111111, \"#46039f\"], [0.2222222222222222, \"#7201a8\"], [0.3333333333333333, \"#9c179e\"], [0.4444444444444444, \"#bd3786\"], [0.5555555555555556, \"#d8576b\"], [0.6666666666666666, \"#ed7953\"], [0.7777777777777778, \"#fb9f3a\"], [0.8888888888888888, \"#fdca26\"], [1.0, \"#f0f921\"]], \"type\": \"heatmapgl\"}], \"histogram\": [{\"marker\": {\"colorbar\": {\"outlinewidth\": 0, \"ticks\": \"\"}}, \"type\": \"histogram\"}], \"histogram2d\": [{\"colorbar\": {\"outlinewidth\": 0, \"ticks\": \"\"}, \"colorscale\": [[0.0, \"#0d0887\"], [0.1111111111111111, \"#46039f\"], [0.2222222222222222, \"#7201a8\"], [0.3333333333333333, \"#9c179e\"], [0.4444444444444444, \"#bd3786\"], [0.5555555555555556, \"#d8576b\"], [0.6666666666666666, \"#ed7953\"], [0.7777777777777778, \"#fb9f3a\"], [0.8888888888888888, \"#fdca26\"], [1.0, \"#f0f921\"]], \"type\": \"histogram2d\"}], \"histogram2dcontour\": [{\"colorbar\": {\"outlinewidth\": 0, \"ticks\": \"\"}, \"colorscale\": [[0.0, \"#0d0887\"], [0.1111111111111111, \"#46039f\"], [0.2222222222222222, \"#7201a8\"], [0.3333333333333333, \"#9c179e\"], [0.4444444444444444, \"#bd3786\"], [0.5555555555555556, \"#d8576b\"], [0.6666666666666666, \"#ed7953\"], [0.7777777777777778, \"#fb9f3a\"], [0.8888888888888888, \"#fdca26\"], [1.0, \"#f0f921\"]], \"type\": \"histogram2dcontour\"}], \"mesh3d\": [{\"colorbar\": {\"outlinewidth\": 0, \"ticks\": \"\"}, \"type\": \"mesh3d\"}], \"parcoords\": [{\"line\": {\"colorbar\": {\"outlinewidth\": 0, \"ticks\": \"\"}}, \"type\": \"parcoords\"}], \"pie\": [{\"automargin\": true, \"type\": \"pie\"}], \"scatter\": [{\"marker\": {\"colorbar\": {\"outlinewidth\": 0, \"ticks\": \"\"}}, \"type\": \"scatter\"}], \"scatter3d\": [{\"line\": {\"colorbar\": {\"outlinewidth\": 0, \"ticks\": \"\"}}, \"marker\": {\"colorbar\": {\"outlinewidth\": 0, \"ticks\": \"\"}}, \"type\": \"scatter3d\"}], \"scattercarpet\": [{\"marker\": {\"colorbar\": {\"outlinewidth\": 0, \"ticks\": \"\"}}, \"type\": \"scattercarpet\"}], \"scattergeo\": [{\"marker\": {\"colorbar\": {\"outlinewidth\": 0, \"ticks\": \"\"}}, \"type\": \"scattergeo\"}], \"scattergl\": [{\"marker\": {\"colorbar\": {\"outlinewidth\": 0, \"ticks\": \"\"}}, \"type\": \"scattergl\"}], \"scattermapbox\": [{\"marker\": {\"colorbar\": {\"outlinewidth\": 0, \"ticks\": \"\"}}, \"type\": \"scattermapbox\"}], \"scatterpolar\": [{\"marker\": {\"colorbar\": {\"outlinewidth\": 0, \"ticks\": \"\"}}, \"type\": \"scatterpolar\"}], \"scatterpolargl\": [{\"marker\": {\"colorbar\": {\"outlinewidth\": 0, \"ticks\": \"\"}}, \"type\": \"scatterpolargl\"}], \"scatterternary\": [{\"marker\": {\"colorbar\": {\"outlinewidth\": 0, \"ticks\": \"\"}}, \"type\": \"scatterternary\"}], \"surface\": [{\"colorbar\": {\"outlinewidth\": 0, \"ticks\": \"\"}, \"colorscale\": [[0.0, \"#0d0887\"], [0.1111111111111111, \"#46039f\"], [0.2222222222222222, \"#7201a8\"], [0.3333333333333333, \"#9c179e\"], [0.4444444444444444, \"#bd3786\"], [0.5555555555555556, \"#d8576b\"], [0.6666666666666666, \"#ed7953\"], [0.7777777777777778, \"#fb9f3a\"], [0.8888888888888888, \"#fdca26\"], [1.0, \"#f0f921\"]], \"type\": \"surface\"}], \"table\": [{\"cells\": {\"fill\": {\"color\": \"#EBF0F8\"}, \"line\": {\"color\": \"white\"}}, \"header\": {\"fill\": {\"color\": \"#C8D4E3\"}, \"line\": {\"color\": \"white\"}}, \"type\": \"table\"}]}, \"layout\": {\"annotationdefaults\": {\"arrowcolor\": \"#2a3f5f\", \"arrowhead\": 0, \"arrowwidth\": 1}, \"coloraxis\": {\"colorbar\": {\"outlinewidth\": 0, \"ticks\": \"\"}}, \"colorscale\": {\"diverging\": [[0, \"#8e0152\"], [0.1, \"#c51b7d\"], [0.2, \"#de77ae\"], [0.3, \"#f1b6da\"], [0.4, \"#fde0ef\"], [0.5, \"#f7f7f7\"], [0.6, \"#e6f5d0\"], [0.7, \"#b8e186\"], [0.8, \"#7fbc41\"], [0.9, \"#4d9221\"], [1, \"#276419\"]], \"sequential\": [[0.0, \"#0d0887\"], [0.1111111111111111, \"#46039f\"], [0.2222222222222222, \"#7201a8\"], [0.3333333333333333, \"#9c179e\"], [0.4444444444444444, \"#bd3786\"], [0.5555555555555556, \"#d8576b\"], [0.6666666666666666, \"#ed7953\"], [0.7777777777777778, \"#fb9f3a\"], [0.8888888888888888, \"#fdca26\"], [1.0, \"#f0f921\"]], \"sequentialminus\": [[0.0, \"#0d0887\"], [0.1111111111111111, \"#46039f\"], [0.2222222222222222, \"#7201a8\"], [0.3333333333333333, \"#9c179e\"], [0.4444444444444444, \"#bd3786\"], [0.5555555555555556, \"#d8576b\"], [0.6666666666666666, \"#ed7953\"], [0.7777777777777778, \"#fb9f3a\"], [0.8888888888888888, \"#fdca26\"], [1.0, \"#f0f921\"]]}, \"colorway\": [\"#636efa\", \"#EF553B\", \"#00cc96\", \"#ab63fa\", \"#FFA15A\", \"#19d3f3\", \"#FF6692\", \"#B6E880\", \"#FF97FF\", \"#FECB52\"], \"font\": {\"color\": \"#2a3f5f\"}, \"geo\": {\"bgcolor\": \"white\", \"lakecolor\": \"white\", \"landcolor\": \"#E5ECF6\", \"showlakes\": true, \"showland\": true, \"subunitcolor\": \"white\"}, \"hoverlabel\": {\"align\": \"left\"}, \"hovermode\": \"closest\", \"mapbox\": {\"style\": \"light\"}, \"paper_bgcolor\": \"white\", \"plot_bgcolor\": \"#E5ECF6\", \"polar\": {\"angularaxis\": {\"gridcolor\": \"white\", \"linecolor\": \"white\", \"ticks\": \"\"}, \"bgcolor\": \"#E5ECF6\", \"radialaxis\": {\"gridcolor\": \"white\", \"linecolor\": \"white\", \"ticks\": \"\"}}, \"scene\": {\"xaxis\": {\"backgroundcolor\": \"#E5ECF6\", \"gridcolor\": \"white\", \"gridwidth\": 2, \"linecolor\": \"white\", \"showbackground\": true, \"ticks\": \"\", \"zerolinecolor\": \"white\"}, \"yaxis\": {\"backgroundcolor\": \"#E5ECF6\", \"gridcolor\": \"white\", \"gridwidth\": 2, \"linecolor\": \"white\", \"showbackground\": true, \"ticks\": \"\", \"zerolinecolor\": \"white\"}, \"zaxis\": {\"backgroundcolor\": \"#E5ECF6\", \"gridcolor\": \"white\", \"gridwidth\": 2, \"linecolor\": \"white\", \"showbackground\": true, \"ticks\": \"\", \"zerolinecolor\": \"white\"}}, \"shapedefaults\": {\"line\": {\"color\": \"#2a3f5f\"}}, \"ternary\": {\"aaxis\": {\"gridcolor\": \"white\", \"linecolor\": \"white\", \"ticks\": \"\"}, \"baxis\": {\"gridcolor\": \"white\", \"linecolor\": \"white\", \"ticks\": \"\"}, \"bgcolor\": \"#E5ECF6\", \"caxis\": {\"gridcolor\": \"white\", \"linecolor\": \"white\", \"ticks\": \"\"}}, \"title\": {\"x\": 0.05}, \"xaxis\": {\"automargin\": true, \"gridcolor\": \"white\", \"linecolor\": \"white\", \"ticks\": \"\", \"title\": {\"standoff\": 15}, \"zerolinecolor\": \"white\", \"zerolinewidth\": 2}, \"yaxis\": {\"automargin\": true, \"gridcolor\": \"white\", \"linecolor\": \"white\", \"ticks\": \"\", \"title\": {\"standoff\": 15}, \"zerolinecolor\": \"white\", \"zerolinewidth\": 2}}}, \"xaxis\": {\"anchor\": \"y\", \"domain\": [0.0, 1.0], \"title\": {\"text\": \"Month\"}}, \"yaxis\": {\"anchor\": \"x\", \"domain\": [0.0, 1.0], \"title\": {\"text\": \"Visitors\"}}},\n",
       "                        {\"responsive\": true}\n",
       "                    ).then(function(){\n",
       "                            \n",
       "var gd = document.getElementById('a004465a-40fd-4cce-8fac-6cb5e8c95295');\n",
       "var x = new MutationObserver(function (mutations, observer) {{\n",
       "        var display = window.getComputedStyle(gd).display;\n",
       "        if (!display || display === 'none') {{\n",
       "            console.log([gd, 'removed!']);\n",
       "            Plotly.purge(gd);\n",
       "            observer.disconnect();\n",
       "        }}\n",
       "}});\n",
       "\n",
       "// Listen for the removal of the full notebook cells\n",
       "var notebookContainer = gd.closest('#notebook-container');\n",
       "if (notebookContainer) {{\n",
       "    x.observe(notebookContainer, {childList: true});\n",
       "}}\n",
       "\n",
       "// Listen for the clearing of the current output cell\n",
       "var outputEl = gd.closest('.output');\n",
       "if (outputEl) {{\n",
       "    x.observe(outputEl, {childList: true});\n",
       "}}\n",
       "\n",
       "                        })\n",
       "                };\n",
       "                });\n",
       "            </script>\n",
       "        </div>"
      ]
     },
     "metadata": {},
     "output_type": "display_data"
    }
   ],
   "source": [
    "import plotly.express as px\n",
    "\n",
    "df = visitor_pop_df\n",
    "fig = px.scatter(df, x=\"Month\", y=\"Visitors\",color=\"UnitCode\", hover_name=\"Park\", size=\"Visitors\")\n",
    "fig.show()"
   ]
  },
  {
   "cell_type": "code",
   "execution_count": null,
   "metadata": {},
   "outputs": [],
   "source": []
  }
 ],
 "metadata": {
  "kernelspec": {
   "display_name": "Python 3",
   "language": "python",
   "name": "python3"
  },
  "language_info": {
   "codemirror_mode": {
    "name": "ipython",
    "version": 3
   },
   "file_extension": ".py",
   "mimetype": "text/x-python",
   "name": "python",
   "nbconvert_exporter": "python",
   "pygments_lexer": "ipython3",
   "version": "3.7.6"
  }
 },
 "nbformat": 4,
 "nbformat_minor": 4
}
