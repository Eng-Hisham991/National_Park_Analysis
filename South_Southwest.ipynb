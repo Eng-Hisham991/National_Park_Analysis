{
 "cells": [
  {
   "cell_type": "code",
   "execution_count": 1,
   "metadata": {},
   "outputs": [],
   "source": [
    "import matplotlib as plt \n",
    "import numpy as np \n",
    "import os \n",
    "import pandas as pd\n",
    "import requests \n",
    "import json\n",
    "import time \n",
    "\n",
    "#National Park Service API \n",
    "\n",
    "API_Key_Park = 'x4r30IhC7l6xEe3DCmQmuiefih8dcjFcPutVzRhh'\n",
    "base_url = \"https://api.nps.gov/api/v1/parks?stateCode=\""
   ]
  },
  {
   "cell_type": "code",
   "execution_count": 2,
   "metadata": {},
   "outputs": [],
   "source": [
    "states1 = ['TX']\n",
    "urls = []\n",
    "\n",
    "for state in states1: \n",
    "    query_url = base_url + state + '&api_key=' + API_Key_Park\n",
    "    urls.append(query_url)\n"
   ]
  },
  {
   "cell_type": "code",
   "execution_count": 3,
   "metadata": {},
   "outputs": [],
   "source": [
    "for url in urls:\n",
    "    response = requests.get(url)\n",
    "    response_json = response.json()"
   ]
  },
  {
   "cell_type": "code",
   "execution_count": 4,
   "metadata": {},
   "outputs": [],
   "source": [
    "Park_Codes = []\n",
    "state_list = []\n",
    "for i in range(len(response_json[\"data\"])):\n",
    "    Park_Codes.append(response_json[\"data\"][i]['parkCode'])\n",
    "    state_list.append(response_json[\"data\"][i]['addresses'][0]['stateCode'])\n",
    "    "
   ]
  },
  {
   "cell_type": "code",
   "execution_count": null,
   "metadata": {},
   "outputs": [],
   "source": []
  },
  {
   "cell_type": "code",
   "execution_count": 8,
   "metadata": {},
   "outputs": [],
   "source": [
    "import json\n",
    "\n",
    "startmonth = '01'\n",
    "startyear = '2019'\n",
    "endmonth = '12'\n",
    "endyear = '2019'\n",
    "visitors_1 = []\n",
    "total1 = []\n",
    "\n",
    "for unitcode in range(len(Park_Codes)):\n",
    "    URL = f'https://irmaservices.nps.gov/v3/rest/stats/visitation?unitCodes={Park_Codes[unitcode]}&startMonth={startmonth}&startYear={startyear}&endMonth={endmonth}&endYear={endyear}&format=json'\n",
    "    response1 = requests.get(URL)\n",
    "    response_json1 = response1.json()\n",
    "    total1.append(response_json1)"
   ]
  },
  {
   "cell_type": "code",
   "execution_count": null,
   "metadata": {
    "scrolled": true
   },
   "outputs": [],
   "source": [
    "xxx = []\n",
    "\n",
    "total2 = total1\n",
    "\n",
    "length = len(total2)\n",
    "\n",
    "# Park_Codes2 = Park_Codes \n",
    "\n",
    "# for x in range(len(Park_Codes)): \n",
    "#     if total2[x] == []: \n",
    "#         Park_Codes2.remove(Park_Codes[x]) \n",
    "#     else: \n",
    "#         Park_Codes2.append(Park_Codes[x])\n",
    "\n",
    "for j in range(length-1):\n",
    "        if total2[j] != []:\n",
    "            for k in range(12):\n",
    "                visitors = total2[j][k]['NonRecreationVisitors'] + total2[j][k]['RecreationVisitors']\n",
    "                xxx.append(visitors)\n",
    "        else: \n",
    "            total2.remove(total2[j])"
   ]
  },
  {
   "cell_type": "code",
   "execution_count": null,
   "metadata": {},
   "outputs": [],
   "source": [
    "def chunkIt(seq, num):\n",
    "    avg = len(seq) / float(num)\n",
    "    out = []\n",
    "    last = 0.0\n",
    "\n",
    "    while last < len(seq):\n",
    "        out.append(seq[int(last):int(last + avg)])\n",
    "        last += avg\n",
    "\n",
    "    return out"
   ]
  },
  {
   "cell_type": "code",
   "execution_count": null,
   "metadata": {},
   "outputs": [],
   "source": [
    "sum123 = []\n",
    "for t in range(len(total2)): \n",
    "    sum123.append(np.sum(chunkIt(xxx,len(total2))[t]))"
   ]
  },
  {
   "cell_type": "code",
   "execution_count": null,
   "metadata": {},
   "outputs": [],
   "source": [
    "Data_pd= pd.DataFrame({'Park Code' : Park_Codes2, 'Total Visitor Count' : sum123})\n",
    "Data_pd.head()"
   ]
  },
  {
   "cell_type": "code",
   "execution_count": null,
   "metadata": {},
   "outputs": [],
   "source": []
  },
  {
   "cell_type": "code",
   "execution_count": null,
   "metadata": {},
   "outputs": [],
   "source": []
  },
  {
   "cell_type": "code",
   "execution_count": null,
   "metadata": {},
   "outputs": [],
   "source": []
  },
  {
   "cell_type": "code",
   "execution_count": null,
   "metadata": {},
   "outputs": [],
   "source": []
  },
  {
   "cell_type": "code",
   "execution_count": null,
   "metadata": {},
   "outputs": [],
   "source": []
  },
  {
   "cell_type": "code",
   "execution_count": null,
   "metadata": {},
   "outputs": [],
   "source": []
  }
 ],
 "metadata": {
  "kernelspec": {
   "display_name": "Python 3.7 (tensorflow)",
   "language": "python",
   "name": "tensorflow"
  },
  "language_info": {
   "codemirror_mode": {
    "name": "ipython",
    "version": 3
   },
   "file_extension": ".py",
   "mimetype": "text/x-python",
   "name": "python",
   "nbconvert_exporter": "python",
   "pygments_lexer": "ipython3",
   "version": "3.7.6"
  }
 },
 "nbformat": 4,
 "nbformat_minor": 2
}
