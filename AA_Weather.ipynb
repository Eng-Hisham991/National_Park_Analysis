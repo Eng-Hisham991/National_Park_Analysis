{
 "cells": [
  {
   "cell_type": "markdown",
   "metadata": {},
   "source": [
    "# Temperature vs. National Park Visitors in the USA\n",
    "\n",
    "#### This notebook consists of data gathering from the Dark Sky API, data exploration, data cleanup to compare the temperature of various national parks. "
   ]
  },
  {
   "cell_type": "markdown",
   "metadata": {},
   "source": [
    "### Prework: Gathering the visitor data for each Park. "
   ]
  },
  {
   "cell_type": "code",
   "execution_count": 89,
   "metadata": {},
   "outputs": [],
   "source": [
    "import matplotlib.pyplot as plt\n",
    "import numpy as np \n",
    "import os \n",
    "import pandas as pd\n",
    "import requests \n",
    "import json\n",
    "import time \n",
    "import scipy.stats as st\n",
    "from citipy import citipy\n",
    "import datetime\n",
    "\n",
    "output_data_file1 = \"Output_Images/TemperaturevsVisitorCount.png\"\n",
    "output_data_file2 = \"Output_Images/TerrainMapWeather.png\"\n",
    "\n",
    "#National Park Service API \n",
    "\n",
    "API_Key_Park = 'x4r30IhC7l6xEe3DCmQmuiefih8dcjFcPutVzRhh'\n",
    "base_url = \"https://api.nps.gov/api/v1/parks?stateCode=\""
   ]
  },
  {
   "cell_type": "code",
   "execution_count": 4,
   "metadata": {},
   "outputs": [],
   "source": [
    "URL = 'https://irmaservices.nps.gov/v2/rest/unit/?unitCodes={unitcode}&format=json'\n",
    "response = requests.get(URL).json()\n",
    "\n",
    "column_names = ['FullName','UnitCode','UnitName',\n",
    "                'StateCode']\n",
    "\n",
    "state_Codes = []\n",
    "\n",
    "national_parks = []\n",
    "for park in response:\n",
    "    if(park['UnitDesignationName'] == 'National Park'):\n",
    "        national_parks.append([park['FullName'], \n",
    "                          park['UnitCode'], \n",
    "                          park['UnitName'],\n",
    "                          park['StateCodes']])\n",
    "        state_Codes.append(park['StateCodes'])\n",
    "    \n",
    "national_parks\n",
    "np_df = pd.DataFrame(national_parks, columns=column_names)"
   ]
  },
  {
   "cell_type": "code",
   "execution_count": 14,
   "metadata": {},
   "outputs": [
    {
     "data": {
      "text/html": [
       "<div>\n",
       "<style scoped>\n",
       "    .dataframe tbody tr th:only-of-type {\n",
       "        vertical-align: middle;\n",
       "    }\n",
       "\n",
       "    .dataframe tbody tr th {\n",
       "        vertical-align: top;\n",
       "    }\n",
       "\n",
       "    .dataframe thead th {\n",
       "        text-align: right;\n",
       "    }\n",
       "</style>\n",
       "<table border=\"1\" class=\"dataframe\">\n",
       "  <thead>\n",
       "    <tr style=\"text-align: right;\">\n",
       "      <th></th>\n",
       "      <th>Park Code</th>\n",
       "      <th>Visitors</th>\n",
       "    </tr>\n",
       "  </thead>\n",
       "  <tbody>\n",
       "    <tr>\n",
       "      <td>0</td>\n",
       "      <td>ACAD</td>\n",
       "      <td>3437286</td>\n",
       "    </tr>\n",
       "    <tr>\n",
       "      <td>1</td>\n",
       "      <td>ARCH</td>\n",
       "      <td>1659702</td>\n",
       "    </tr>\n",
       "    <tr>\n",
       "      <td>2</td>\n",
       "      <td>BADL</td>\n",
       "      <td>970998</td>\n",
       "    </tr>\n",
       "    <tr>\n",
       "      <td>3</td>\n",
       "      <td>BIBE</td>\n",
       "      <td>463832</td>\n",
       "    </tr>\n",
       "    <tr>\n",
       "      <td>4</td>\n",
       "      <td>BISC</td>\n",
       "      <td>708522</td>\n",
       "    </tr>\n",
       "  </tbody>\n",
       "</table>\n",
       "</div>"
      ],
      "text/plain": [
       "  Park Code  Visitors\n",
       "0      ACAD   3437286\n",
       "1      ARCH   1659702\n",
       "2      BADL    970998\n",
       "3      BIBE    463832\n",
       "4      BISC    708522"
      ]
     },
     "execution_count": 14,
     "metadata": {},
     "output_type": "execute_result"
    }
   ],
   "source": [
    "column_names = ['Park Code','Visitors','Park Name']\n",
    "query_year = \"2019\"\n",
    "park_visitor_data = []\n",
    "\n",
    "for unitcode in np_df['UnitCode']:\n",
    "    URL = f'https://irmaservices.nps.gov/v3/rest/stats/visitation?unitCodes={unitcode}&startMonth=01&startYear={query_year}&endMonth=12&endYear={query_year}&format=json'\n",
    "    response = requests.get(URL).json()\n",
    "    \n",
    "    for month in range(0,len(response)):\n",
    "        park_visitor_data.append([unitcode, \n",
    "                          response[month]['RecreationVisitors'],\n",
    "                          response[month]['UnitName']])\n",
    "                   \n",
    "visitor_df = pd.DataFrame(park_visitor_data, columns=column_names)\n",
    "visitor_df1 = visitor_df.groupby('Park Code')\n",
    "visitor_df_group = visitor_df1.sum()\n",
    "visitor_df_group1 = visitor_df_group.reset_index()"
   ]
  },
  {
   "cell_type": "code",
   "execution_count": 52,
   "metadata": {},
   "outputs": [
    {
     "data": {
      "text/html": [
       "<div>\n",
       "<style scoped>\n",
       "    .dataframe tbody tr th:only-of-type {\n",
       "        vertical-align: middle;\n",
       "    }\n",
       "\n",
       "    .dataframe tbody tr th {\n",
       "        vertical-align: top;\n",
       "    }\n",
       "\n",
       "    .dataframe thead th {\n",
       "        text-align: right;\n",
       "    }\n",
       "</style>\n",
       "<table border=\"1\" class=\"dataframe\">\n",
       "  <thead>\n",
       "    <tr style=\"text-align: right;\">\n",
       "      <th></th>\n",
       "      <th>Park Code</th>\n",
       "      <th>Visitors</th>\n",
       "      <th>Park Name</th>\n",
       "    </tr>\n",
       "  </thead>\n",
       "  <tbody>\n",
       "    <tr>\n",
       "      <td>50</td>\n",
       "      <td>WHSA</td>\n",
       "      <td>608785</td>\n",
       "      <td>White Sands NP</td>\n",
       "    </tr>\n",
       "    <tr>\n",
       "      <td>51</td>\n",
       "      <td>WICA</td>\n",
       "      <td>615350</td>\n",
       "      <td>Wind Cave NP</td>\n",
       "    </tr>\n",
       "    <tr>\n",
       "      <td>52</td>\n",
       "      <td>YELL</td>\n",
       "      <td>4020288</td>\n",
       "      <td>Yellowstone NP</td>\n",
       "    </tr>\n",
       "    <tr>\n",
       "      <td>53</td>\n",
       "      <td>YOSE</td>\n",
       "      <td>4422861</td>\n",
       "      <td>Yosemite NP</td>\n",
       "    </tr>\n",
       "    <tr>\n",
       "      <td>54</td>\n",
       "      <td>ZION</td>\n",
       "      <td>4488268</td>\n",
       "      <td>Zion NP</td>\n",
       "    </tr>\n",
       "  </tbody>\n",
       "</table>\n",
       "</div>"
      ],
      "text/plain": [
       "   Park Code  Visitors       Park Name\n",
       "50      WHSA    608785  White Sands NP\n",
       "51      WICA    615350    Wind Cave NP\n",
       "52      YELL   4020288  Yellowstone NP\n",
       "53      YOSE   4422861     Yosemite NP\n",
       "54      ZION   4488268         Zion NP"
      ]
     },
     "execution_count": 52,
     "metadata": {},
     "output_type": "execute_result"
    }
   ],
   "source": [
    "visitor_df_group1['Park Name'] = visitor_df['Park Name'].unique()\n",
    "visitor_df_group1.tail()"
   ]
  },
  {
   "cell_type": "markdown",
   "metadata": {},
   "source": [
    "### Prework: Gather the latitude and longitude data"
   ]
  },
  {
   "cell_type": "code",
   "execution_count": 18,
   "metadata": {},
   "outputs": [
    {
     "name": "stdout",
     "output_type": "stream",
     "text": [
      "\n",
      "\n",
      "\n",
      "\n",
      "\n",
      "\n",
      "\n",
      "\n",
      "\n",
      "\n"
     ]
    }
   ],
   "source": [
    "key = 'x4r30IhC7l6xEe3DCmQmuiefih8dcjFcPutVzRhh'\n",
    "code = []\n",
    "for x in range(len(np_df['UnitCode'])):\n",
    "    try: \n",
    "        url = f\"https://developer.nps.gov/api/v1/parks?parkCode={np_df['UnitCode'][x]}&api_key={key}\"\n",
    "        data = requests.get(url).json()\n",
    "        latlon = (data['data'][0]['latLong'])\n",
    "        lat,lon = latlon.split(\",\")\n",
    "        l, lat=lat.split(':')\n",
    "        l, lon=lon.split(':')\n",
    "        lat=float(lat)\n",
    "        lon=float(lon)\n",
    "        code.append([np_df['UnitCode'][x],\n",
    "                      lat, \n",
    "                      lon])\n",
    "    except: \n",
    "        print('')\n"
   ]
  },
  {
   "cell_type": "code",
   "execution_count": 40,
   "metadata": {},
   "outputs": [
    {
     "data": {
      "text/html": [
       "<div>\n",
       "<style scoped>\n",
       "    .dataframe tbody tr th:only-of-type {\n",
       "        vertical-align: middle;\n",
       "    }\n",
       "\n",
       "    .dataframe tbody tr th {\n",
       "        vertical-align: top;\n",
       "    }\n",
       "\n",
       "    .dataframe thead th {\n",
       "        text-align: right;\n",
       "    }\n",
       "</style>\n",
       "<table border=\"1\" class=\"dataframe\">\n",
       "  <thead>\n",
       "    <tr style=\"text-align: right;\">\n",
       "      <th></th>\n",
       "      <th>Park Code</th>\n",
       "      <th>Latitude</th>\n",
       "      <th>Longitude</th>\n",
       "    </tr>\n",
       "  </thead>\n",
       "  <tbody>\n",
       "    <tr>\n",
       "      <td>0</td>\n",
       "      <td>ACAD</td>\n",
       "      <td>44.307775</td>\n",
       "      <td>-68.300633</td>\n",
       "    </tr>\n",
       "    <tr>\n",
       "      <td>1</td>\n",
       "      <td>ARCH</td>\n",
       "      <td>38.722618</td>\n",
       "      <td>-109.586367</td>\n",
       "    </tr>\n",
       "    <tr>\n",
       "      <td>2</td>\n",
       "      <td>BADL</td>\n",
       "      <td>43.685848</td>\n",
       "      <td>-102.482942</td>\n",
       "    </tr>\n",
       "    <tr>\n",
       "      <td>3</td>\n",
       "      <td>BIBE</td>\n",
       "      <td>29.298178</td>\n",
       "      <td>-103.229790</td>\n",
       "    </tr>\n",
       "    <tr>\n",
       "      <td>4</td>\n",
       "      <td>BISC</td>\n",
       "      <td>25.490587</td>\n",
       "      <td>-80.210239</td>\n",
       "    </tr>\n",
       "  </tbody>\n",
       "</table>\n",
       "</div>"
      ],
      "text/plain": [
       "  Park Code   Latitude   Longitude\n",
       "0      ACAD  44.307775  -68.300633\n",
       "1      ARCH  38.722618 -109.586367\n",
       "2      BADL  43.685848 -102.482942\n",
       "3      BIBE  29.298178 -103.229790\n",
       "4      BISC  25.490587  -80.210239"
      ]
     },
     "execution_count": 40,
     "metadata": {},
     "output_type": "execute_result"
    }
   ],
   "source": [
    "newcolumns = ['Park Code','Latitude','Longitude']\n",
    "latlong_df = pd.DataFrame(code,columns = newcolumns)\n",
    "latlong_df.head()"
   ]
  },
  {
   "cell_type": "markdown",
   "metadata": {},
   "source": [
    "## Dark Sky API \n",
    "\n",
    "### Gathering the Data \n",
    "\n",
    "Dark Sky is a source of data similar to open weather map that allows the extraction of historical weather data. However, they only allow 1000 calls per day for one account. For this reason, please signup for an account and insert your key in the variable below. The link to sign up is below. \n",
    "\n",
    "https://darksky.net/dev\n",
    "\n",
    "Insert the start date and the end date of interest into the variables in the %M/%D/%Y format. The default start date is 01/01/2019 and the default end date is 12/31/2019. "
   ]
  },
  {
   "cell_type": "code",
   "execution_count": 84,
   "metadata": {},
   "outputs": [],
   "source": [
    "lats = latlong_df['Latitude']\n",
    "lngs = latlong_df['Longitude']\n",
    "try: \n",
    "    KEY = '074beff881b5dd000396a924c1e98612'\n",
    "except: \n",
    "    print('Make sure you entered a correct Key from Dark Sky')"
   ]
  },
  {
   "cell_type": "code",
   "execution_count": 33,
   "metadata": {},
   "outputs": [],
   "source": [
    "Start_Date = '01/01/2019'\n",
    "End_Date = '12/31/2019'\n",
    "\n",
    "Start_Date_Stamp = round(time.mktime(datetime.datetime.strptime(Start_Date, \"%m/%d/%Y\").timetuple()))\n",
    "End_Date_Stamp = round(time.mktime(datetime.datetime.strptime(End_Date, \"%m/%d/%Y\").timetuple()))\n",
    "\n",
    "time = np.arange(Start_Date_Stamp, End_Date_Stamp, 2670000).tolist()"
   ]
  },
  {
   "cell_type": "code",
   "execution_count": 34,
   "metadata": {},
   "outputs": [],
   "source": [
    "temp = []\n",
    "for i in range(len(lats)): \n",
    "        for t in time:\n",
    "            url = f'https://api.darksky.net/forecast/{KEY}/{lats[i]},{lngs[i]},{t}'\n",
    "            RESPONSE = requests.get(url).json()\n",
    "            temp.append([RESPONSE['currently']['time'],latlong_df['State'][i],RESPONSE['currently']['temperature']])"
   ]
  },
  {
   "cell_type": "markdown",
   "metadata": {},
   "source": [
    "#### Converting the UNIX timestamp to regular date "
   ]
  },
  {
   "cell_type": "code",
   "execution_count": 36,
   "metadata": {},
   "outputs": [
    {
     "name": "stderr",
     "output_type": "stream",
     "text": [
      "/Applications/anaconda3/lib/python3.7/site-packages/ipykernel_launcher.py:6: SettingWithCopyWarning: \n",
      "A value is trying to be set on a copy of a slice from a DataFrame\n",
      "\n",
      "See the caveats in the documentation: http://pandas.pydata.org/pandas-docs/stable/user_guide/indexing.html#returning-a-view-versus-a-copy\n",
      "  \n",
      "/Applications/anaconda3/lib/python3.7/site-packages/pandas/core/indexing.py:205: SettingWithCopyWarning: \n",
      "A value is trying to be set on a copy of a slice from a DataFrame\n",
      "\n",
      "See the caveats in the documentation: http://pandas.pydata.org/pandas-docs/stable/user_guide/indexing.html#returning-a-view-versus-a-copy\n",
      "  self._setitem_with_indexer(indexer, value)\n"
     ]
    }
   ],
   "source": [
    "from datetime import datetime\n",
    "temp_df = pd.DataFrame(temp, columns = ['Unit Time','Park Code','Temperature'])\n",
    "temp_df\n",
    "\n",
    "for time in range(len(temp_df['Unit Time'])):\n",
    "    temp_df['Unit Time'][time] = datetime.fromtimestamp(temp_df['Unit Time'][time]).strftime('%m-%Y')"
   ]
  },
  {
   "cell_type": "markdown",
   "metadata": {},
   "source": [
    "#### Finding the visitor number for each of the parks found in the DataSky dataset"
   ]
  },
  {
   "cell_type": "code",
   "execution_count": 53,
   "metadata": {},
   "outputs": [],
   "source": [
    "Visitor=[]\n",
    "ParkNames = []\n",
    "for i in range(len(visitor_df)):\n",
    "    for j in range(len(latlong_df)):\n",
    "        if visitor_df['Park Code'][i] == latlong_df['Park Code'][j]: \n",
    "            Visitor.append(visitor_df['Visitors'][i])   \n",
    "            ParkNames.append(visitor_df['Park Name'][i])"
   ]
  },
  {
   "cell_type": "code",
   "execution_count": 59,
   "metadata": {},
   "outputs": [
    {
     "name": "stderr",
     "output_type": "stream",
     "text": [
      "/Applications/anaconda3/lib/python3.7/site-packages/ipykernel_launcher.py:12: SettingWithCopyWarning:\n",
      "\n",
      "\n",
      "A value is trying to be set on a copy of a slice from a DataFrame\n",
      "\n",
      "See the caveats in the documentation: http://pandas.pydata.org/pandas-docs/stable/user_guide/indexing.html#returning-a-view-versus-a-copy\n",
      "\n",
      "/Applications/anaconda3/lib/python3.7/site-packages/ipykernel_launcher.py:10: SettingWithCopyWarning:\n",
      "\n",
      "\n",
      "A value is trying to be set on a copy of a slice from a DataFrame\n",
      "\n",
      "See the caveats in the documentation: http://pandas.pydata.org/pandas-docs/stable/user_guide/indexing.html#returning-a-view-versus-a-copy\n",
      "\n"
     ]
    }
   ],
   "source": [
    "ParkNames = pd.DataFrame(ParkNames,columns = ['Park Name'])\n",
    "\n",
    "temp_df['Visitor Count'] = Visitor\n",
    "temp_df.head()\n",
    "\n",
    "temp_df['Size_Temp'] = \"\"\n",
    "\n",
    "for i in range(len(temp_df['Temperature'])): \n",
    "    if temp_df['Temperature'][i] <= 0: \n",
    "        temp_df['Size_Temp'][i] = .01 \n",
    "    else: \n",
    "        temp_df['Size_Temp'][i] = temp_df['Temperature'][i]\n",
    "        \n",
    "temp_df['Size_Temp'] = temp_df['Size_Temp'].astype(float)"
   ]
  },
  {
   "cell_type": "markdown",
   "metadata": {},
   "source": [
    "#### Averaging the temperature through the specified dates to find the average temperature for each park"
   ]
  },
  {
   "cell_type": "code",
   "execution_count": 60,
   "metadata": {},
   "outputs": [
    {
     "data": {
      "text/html": [
       "<div>\n",
       "<style scoped>\n",
       "    .dataframe tbody tr th:only-of-type {\n",
       "        vertical-align: middle;\n",
       "    }\n",
       "\n",
       "    .dataframe tbody tr th {\n",
       "        vertical-align: top;\n",
       "    }\n",
       "\n",
       "    .dataframe thead th {\n",
       "        text-align: right;\n",
       "    }\n",
       "</style>\n",
       "<table border=\"1\" class=\"dataframe\">\n",
       "  <thead>\n",
       "    <tr style=\"text-align: right;\">\n",
       "      <th></th>\n",
       "      <th>Park Code</th>\n",
       "      <th>Temperature</th>\n",
       "      <th>Visitor Count</th>\n",
       "      <th>Size_Temp</th>\n",
       "      <th>Lat</th>\n",
       "      <th>Lng</th>\n",
       "      <th>Park Name</th>\n",
       "    </tr>\n",
       "  </thead>\n",
       "  <tbody>\n",
       "    <tr>\n",
       "      <td>48</td>\n",
       "      <td>WHSA</td>\n",
       "      <td>65.762500</td>\n",
       "      <td>50732.083333</td>\n",
       "      <td>65.762500</td>\n",
       "      <td>32.779079</td>\n",
       "      <td>-106.333346</td>\n",
       "      <td>White Sands NP</td>\n",
       "    </tr>\n",
       "    <tr>\n",
       "      <td>49</td>\n",
       "      <td>WICA</td>\n",
       "      <td>45.161667</td>\n",
       "      <td>51279.166667</td>\n",
       "      <td>45.161667</td>\n",
       "      <td>43.580124</td>\n",
       "      <td>-103.439471</td>\n",
       "      <td>Wind Cave NP</td>\n",
       "    </tr>\n",
       "    <tr>\n",
       "      <td>50</td>\n",
       "      <td>YELL</td>\n",
       "      <td>32.131667</td>\n",
       "      <td>335024.000000</td>\n",
       "      <td>33.260000</td>\n",
       "      <td>44.598244</td>\n",
       "      <td>-110.547169</td>\n",
       "      <td>Yellowstone NP</td>\n",
       "    </tr>\n",
       "    <tr>\n",
       "      <td>51</td>\n",
       "      <td>YOSE</td>\n",
       "      <td>41.290000</td>\n",
       "      <td>368571.750000</td>\n",
       "      <td>41.290000</td>\n",
       "      <td>37.848833</td>\n",
       "      <td>-119.557187</td>\n",
       "      <td>Yosemite NP</td>\n",
       "    </tr>\n",
       "    <tr>\n",
       "      <td>52</td>\n",
       "      <td>ZION</td>\n",
       "      <td>51.092500</td>\n",
       "      <td>374022.333333</td>\n",
       "      <td>51.092500</td>\n",
       "      <td>37.298393</td>\n",
       "      <td>-113.026514</td>\n",
       "      <td>Zion NP</td>\n",
       "    </tr>\n",
       "  </tbody>\n",
       "</table>\n",
       "</div>"
      ],
      "text/plain": [
       "   Park Code  Temperature  Visitor Count  Size_Temp        Lat         Lng  \\\n",
       "48      WHSA    65.762500   50732.083333  65.762500  32.779079 -106.333346   \n",
       "49      WICA    45.161667   51279.166667  45.161667  43.580124 -103.439471   \n",
       "50      YELL    32.131667  335024.000000  33.260000  44.598244 -110.547169   \n",
       "51      YOSE    41.290000  368571.750000  41.290000  37.848833 -119.557187   \n",
       "52      ZION    51.092500  374022.333333  51.092500  37.298393 -113.026514   \n",
       "\n",
       "         Park Name  \n",
       "48  White Sands NP  \n",
       "49    Wind Cave NP  \n",
       "50  Yellowstone NP  \n",
       "51     Yosemite NP  \n",
       "52         Zion NP  "
      ]
     },
     "execution_count": 60,
     "metadata": {},
     "output_type": "execute_result"
    }
   ],
   "source": [
    "avg_temp = temp_df.groupby('Park Code')\n",
    "avg_temp_group = avg_temp.mean()\n",
    "avg_temp_group = avg_temp_group.reset_index()\n",
    "avg_temp_group['Lat'] =latlong_df['Latitude']\n",
    "avg_temp_group['Lng'] =latlong_df['Longitude']\n",
    "avg_temp_group['Park Name'] = ParkNames['Park Name'].unique()\n",
    "avg_temp_group.tail()"
   ]
  },
  {
   "cell_type": "markdown",
   "metadata": {},
   "source": [
    "#### Plot 1: Temperature vs. Visitor Count for each national park throughout the month. "
   ]
  },
  {
   "cell_type": "code",
   "execution_count": 90,
   "metadata": {},
   "outputs": [
    {
     "data": {
      "application/vnd.plotly.v1+json": {
       "config": {
        "plotlyServerURL": "https://plot.ly"
       },
       "data": [
        {
         "customdata": [
          [
           "01-2019",
           "ACAD"
          ],
          [
           "01-2019",
           "ACAD"
          ],
          [
           "03-2019",
           "ACAD"
          ],
          [
           "04-2019",
           "ACAD"
          ],
          [
           "05-2019",
           "ACAD"
          ],
          [
           "06-2019",
           "ACAD"
          ],
          [
           "07-2019",
           "ACAD"
          ],
          [
           "08-2019",
           "ACAD"
          ],
          [
           "09-2019",
           "ACAD"
          ],
          [
           "10-2019",
           "ACAD"
          ],
          [
           "11-2019",
           "ACAD"
          ],
          [
           "12-2019",
           "ACAD"
          ]
         ],
         "hoverlabel": {
          "namelength": 0
         },
         "hovertemplate": "Park Code=%{customdata[1]}<br>Temperature=%{x}<br>Visitor Count=%{marker.size}<br>Unit Time=%{customdata[0]}",
         "legendgroup": "ACAD",
         "marker": {
          "color": "#636efa",
          "size": [
           8532,
           9154,
           20161,
           68046,
           226156,
           490720,
           756439,
           759735,
           603273,
           436194,
           46011,
           12865
          ],
          "sizemode": "area",
          "sizeref": 4032.8325,
          "symbol": "circle"
         },
         "mode": "markers",
         "name": "ACAD",
         "showlegend": true,
         "type": "scatter",
         "x": [
          36.12,
          15.64,
          32.94,
          41.46,
          49.43,
          56.86,
          69.7,
          63.17,
          54.04,
          45.08,
          48.58,
          28.36
         ],
         "xaxis": "x",
         "y": [
          8532,
          9154,
          20161,
          68046,
          226156,
          490720,
          756439,
          759735,
          603273,
          436194,
          46011,
          12865
         ],
         "yaxis": "y"
        },
        {
         "customdata": [
          [
           "01-2019",
           "ARCH"
          ],
          [
           "01-2019",
           "ARCH"
          ],
          [
           "03-2019",
           "ARCH"
          ],
          [
           "04-2019",
           "ARCH"
          ],
          [
           "05-2019",
           "ARCH"
          ],
          [
           "06-2019",
           "ARCH"
          ],
          [
           "07-2019",
           "ARCH"
          ],
          [
           "08-2019",
           "ARCH"
          ],
          [
           "09-2019",
           "ARCH"
          ],
          [
           "10-2019",
           "ARCH"
          ],
          [
           "11-2019",
           "ARCH"
          ],
          [
           "12-2019",
           "ARCH"
          ]
         ],
         "hoverlabel": {
          "namelength": 0
         },
         "hovertemplate": "Park Code=%{customdata[1]}<br>Temperature=%{x}<br>Visitor Count=%{marker.size}<br>Unit Time=%{customdata[0]}",
         "legendgroup": "ARCH",
         "marker": {
          "color": "#EF553B",
          "size": [
           21499,
           30239,
           132191,
           168788,
           217474,
           225206,
           208993,
           184890,
           207857,
           149764,
           73420,
           39381
          ],
          "sizemode": "area",
          "sizeref": 4032.8325,
          "symbol": "circle"
         },
         "mode": "markers",
         "name": "ARCH",
         "showlegend": true,
         "type": "scatter",
         "x": [
          16.41,
          28.32,
          46.63,
          63.44,
          73.25,
          79.25,
          78.84,
          68.63,
          68.4,
          43.93,
          37.28,
          35.17
         ],
         "xaxis": "x",
         "y": [
          21499,
          30239,
          132191,
          168788,
          217474,
          225206,
          208993,
          184890,
          207857,
          149764,
          73420,
          39381
         ],
         "yaxis": "y"
        },
        {
         "customdata": [
          [
           "01-2019",
           "BADL"
          ],
          [
           "01-2019",
           "BADL"
          ],
          [
           "03-2019",
           "BADL"
          ],
          [
           "04-2019",
           "BADL"
          ],
          [
           "05-2019",
           "BADL"
          ],
          [
           "06-2019",
           "BADL"
          ],
          [
           "07-2019",
           "BADL"
          ],
          [
           "08-2019",
           "BADL"
          ],
          [
           "09-2019",
           "BADL"
          ],
          [
           "10-2019",
           "BADL"
          ],
          [
           "11-2019",
           "BADL"
          ],
          [
           "12-2019",
           "BADL"
          ]
         ],
         "hoverlabel": {
          "namelength": 0
         },
         "hovertemplate": "Park Code=%{customdata[1]}<br>Temperature=%{x}<br>Visitor Count=%{marker.size}<br>Unit Time=%{customdata[0]}",
         "legendgroup": "BADL",
         "marker": {
          "color": "#00cc96",
          "size": [
           8981,
           8059,
           16517,
           25083,
           71885,
           201516,
           250898,
           207743,
           118262,
           37727,
           15450,
           8877
          ],
          "sizemode": "area",
          "sizeref": 4032.8325,
          "symbol": "circle"
         },
         "mode": "markers",
         "name": "BADL",
         "showlegend": true,
         "type": "scatter",
         "x": [
          4.04,
          29.54,
          -1.66,
          44.06,
          71.76,
          78.97,
          69.31,
          71.64,
          64.7,
          44.81,
          32.15,
          30.36
         ],
         "xaxis": "x",
         "y": [
          8981,
          8059,
          16517,
          25083,
          71885,
          201516,
          250898,
          207743,
          118262,
          37727,
          15450,
          8877
         ],
         "yaxis": "y"
        },
        {
         "customdata": [
          [
           "01-2019",
           "BIBE"
          ],
          [
           "01-2019",
           "BIBE"
          ],
          [
           "03-2019",
           "BIBE"
          ],
          [
           "04-2019",
           "BIBE"
          ],
          [
           "05-2019",
           "BIBE"
          ],
          [
           "06-2019",
           "BIBE"
          ],
          [
           "07-2019",
           "BIBE"
          ],
          [
           "08-2019",
           "BIBE"
          ],
          [
           "09-2019",
           "BIBE"
          ],
          [
           "10-2019",
           "BIBE"
          ],
          [
           "11-2019",
           "BIBE"
          ],
          [
           "12-2019",
           "BIBE"
          ]
         ],
         "hoverlabel": {
          "namelength": 0
         },
         "hovertemplate": "Park Code=%{customdata[1]}<br>Temperature=%{x}<br>Visitor Count=%{marker.size}<br>Unit Time=%{customdata[0]}",
         "legendgroup": "BIBE",
         "marker": {
          "color": "#ab63fa",
          "size": [
           29318,
           43129,
           83826,
           49312,
           37411,
           21228,
           21747,
           17238,
           21246,
           42724,
           50688,
           45965
          ],
          "sizemode": "area",
          "sizeref": 4032.8325,
          "symbol": "circle"
         },
         "mode": "markers",
         "name": "BIBE",
         "showlegend": true,
         "type": "scatter",
         "x": [
          38.65,
          50.91,
          53.51,
          81.49,
          81.08,
          75.48,
          77.75,
          73.43,
          65.78,
          68.24,
          59.52,
          51.29
         ],
         "xaxis": "x",
         "y": [
          29318,
          43129,
          83826,
          49312,
          37411,
          21228,
          21747,
          17238,
          21246,
          42724,
          50688,
          45965
         ],
         "yaxis": "y"
        },
        {
         "customdata": [
          [
           "01-2019",
           "BISC"
          ],
          [
           "01-2019",
           "BISC"
          ],
          [
           "03-2019",
           "BISC"
          ],
          [
           "04-2019",
           "BISC"
          ],
          [
           "05-2019",
           "BISC"
          ],
          [
           "06-2019",
           "BISC"
          ],
          [
           "07-2019",
           "BISC"
          ],
          [
           "08-2019",
           "BISC"
          ],
          [
           "09-2019",
           "BISC"
          ],
          [
           "10-2019",
           "BISC"
          ],
          [
           "11-2019",
           "BISC"
          ],
          [
           "12-2019",
           "BISC"
          ]
         ],
         "hoverlabel": {
          "namelength": 0
         },
         "hovertemplate": "Park Code=%{customdata[1]}<br>Temperature=%{x}<br>Visitor Count=%{marker.size}<br>Unit Time=%{customdata[0]}",
         "legendgroup": "BISC",
         "marker": {
          "color": "#FFA15A",
          "size": [
           50873,
           59754,
           76685,
           64172,
           79779,
           65173,
           60239,
           46191,
           46723,
           38582,
           59948,
           60403
          ],
          "sizemode": "area",
          "sizeref": 4032.8325,
          "symbol": "circle"
         },
         "mode": "markers",
         "name": "BISC",
         "showlegend": true,
         "type": "scatter",
         "x": [
          75.37,
          71.29,
          77.27,
          76.35,
          83.44,
          85.64,
          88.16,
          85.08,
          82.65,
          79.42,
          78.94,
          69.6
         ],
         "xaxis": "x",
         "y": [
          50873,
          59754,
          76685,
          64172,
          79779,
          65173,
          60239,
          46191,
          46723,
          38582,
          59948,
          60403
         ],
         "yaxis": "y"
        },
        {
         "customdata": [
          [
           "01-2019",
           "BLCA"
          ],
          [
           "01-2019",
           "BLCA"
          ],
          [
           "03-2019",
           "BLCA"
          ],
          [
           "04-2019",
           "BLCA"
          ],
          [
           "05-2019",
           "BLCA"
          ],
          [
           "06-2019",
           "BLCA"
          ],
          [
           "07-2019",
           "BLCA"
          ],
          [
           "08-2019",
           "BLCA"
          ],
          [
           "09-2019",
           "BLCA"
          ],
          [
           "10-2019",
           "BLCA"
          ],
          [
           "11-2019",
           "BLCA"
          ],
          [
           "12-2019",
           "BLCA"
          ]
         ],
         "hoverlabel": {
          "namelength": 0
         },
         "hovertemplate": "Park Code=%{customdata[1]}<br>Temperature=%{x}<br>Visitor Count=%{marker.size}<br>Unit Time=%{customdata[0]}",
         "legendgroup": "BLCA",
         "marker": {
          "color": "#19d3f3",
          "size": [
           4921,
           6369,
           12180,
           25077,
           75198,
           75289,
           51368,
           80046,
           48420,
           25828,
           22684,
           5438
          ],
          "sizemode": "area",
          "sizeref": 4032.8325,
          "symbol": "circle"
         },
         "mode": "markers",
         "name": "BLCA",
         "showlegend": true,
         "type": "scatter",
         "x": [
          13.05,
          24.55,
          35.99,
          46.82,
          62.72,
          72.81,
          73.75,
          61.06,
          58.78,
          38.97,
          34.73,
          29.9
         ],
         "xaxis": "x",
         "y": [
          4921,
          6369,
          12180,
          25077,
          75198,
          75289,
          51368,
          80046,
          48420,
          25828,
          22684,
          5438
         ],
         "yaxis": "y"
        },
        {
         "customdata": [
          [
           "01-2019",
           "BRCA"
          ],
          [
           "01-2019",
           "BRCA"
          ],
          [
           "03-2019",
           "BRCA"
          ],
          [
           "04-2019",
           "BRCA"
          ],
          [
           "05-2019",
           "BRCA"
          ],
          [
           "06-2019",
           "BRCA"
          ],
          [
           "07-2019",
           "BRCA"
          ],
          [
           "08-2019",
           "BRCA"
          ],
          [
           "09-2019",
           "BRCA"
          ],
          [
           "10-2019",
           "BRCA"
          ],
          [
           "11-2019",
           "BRCA"
          ],
          [
           "12-2019",
           "BRCA"
          ]
         ],
         "hoverlabel": {
          "namelength": 0
         },
         "hovertemplate": "Park Code=%{customdata[1]}<br>Temperature=%{x}<br>Visitor Count=%{marker.size}<br>Unit Time=%{customdata[0]}",
         "legendgroup": "BRCA",
         "marker": {
          "color": "#FF6692",
          "size": [
           36860,
           29813,
           75853,
           207061,
           327975,
           398290,
           401970,
           383458,
           392428,
           232094,
           65748,
           43354
          ],
          "sizemode": "area",
          "sizeref": 4032.8325,
          "symbol": "circle"
         },
         "mode": "markers",
         "name": "BRCA",
         "showlegend": true,
         "type": "scatter",
         "x": [
          5.42,
          24.73,
          35.06,
          48.53,
          60.05,
          66.23,
          66.79,
          62.57,
          58.17,
          40.43,
          35.41,
          30.8
         ],
         "xaxis": "x",
         "y": [
          36860,
          29813,
          75853,
          207061,
          327975,
          398290,
          401970,
          383458,
          392428,
          232094,
          65748,
          43354
         ],
         "yaxis": "y"
        },
        {
         "customdata": [
          [
           "01-2019",
           "CANY"
          ],
          [
           "01-2019",
           "CANY"
          ],
          [
           "03-2019",
           "CANY"
          ],
          [
           "04-2019",
           "CANY"
          ],
          [
           "05-2019",
           "CANY"
          ],
          [
           "06-2019",
           "CANY"
          ],
          [
           "07-2019",
           "CANY"
          ],
          [
           "08-2019",
           "CANY"
          ],
          [
           "09-2019",
           "CANY"
          ],
          [
           "10-2019",
           "CANY"
          ],
          [
           "11-2019",
           "CANY"
          ],
          [
           "12-2019",
           "CANY"
          ]
         ],
         "hoverlabel": {
          "namelength": 0
         },
         "hovertemplate": "Park Code=%{customdata[1]}<br>Temperature=%{x}<br>Visitor Count=%{marker.size}<br>Unit Time=%{customdata[0]}",
         "legendgroup": "CANY",
         "marker": {
          "color": "#B6E880",
          "size": [
           7146,
           9705,
           60792,
           89861,
           114464,
           92295,
           64672,
           69297,
           97817,
           82642,
           31582,
           13723
          ],
          "sizemode": "area",
          "sizeref": 4032.8325,
          "symbol": "circle"
         },
         "mode": "markers",
         "name": "CANY",
         "showlegend": true,
         "type": "scatter",
         "x": [
          16.9,
          30.67,
          50.61,
          65.94,
          75.1,
          80.74,
          81.07,
          68.08,
          69.72,
          44.24,
          37.48,
          35.88
         ],
         "xaxis": "x",
         "y": [
          7146,
          9705,
          60792,
          89861,
          114464,
          92295,
          64672,
          69297,
          97817,
          82642,
          31582,
          13723
         ],
         "yaxis": "y"
        },
        {
         "customdata": [
          [
           "01-2019",
           "CARE"
          ],
          [
           "01-2019",
           "CARE"
          ],
          [
           "03-2019",
           "CARE"
          ],
          [
           "04-2019",
           "CARE"
          ],
          [
           "05-2019",
           "CARE"
          ],
          [
           "06-2019",
           "CARE"
          ],
          [
           "07-2019",
           "CARE"
          ],
          [
           "08-2019",
           "CARE"
          ],
          [
           "09-2019",
           "CARE"
          ],
          [
           "10-2019",
           "CARE"
          ],
          [
           "11-2019",
           "CARE"
          ],
          [
           "12-2019",
           "CARE"
          ]
         ],
         "hoverlabel": {
          "namelength": 0
         },
         "hovertemplate": "Park Code=%{customdata[1]}<br>Temperature=%{x}<br>Visitor Count=%{marker.size}<br>Unit Time=%{customdata[0]}",
         "legendgroup": "CARE",
         "marker": {
          "color": "#FF97FF",
          "size": [
           11893,
           12368,
           73416,
           147156,
           196840,
           151410,
           129372,
           127341,
           170057,
           146664,
           42859,
           17143
          ],
          "sizemode": "area",
          "sizeref": 4032.8325,
          "symbol": "circle"
         },
         "mode": "markers",
         "name": "CARE",
         "showlegend": true,
         "type": "scatter",
         "x": [
          18.32,
          29.39,
          46.87,
          61.94,
          69.43,
          77.75,
          79.51,
          64.77,
          70,
          51.15,
          45.04,
          37.94
         ],
         "xaxis": "x",
         "y": [
          11893,
          12368,
          73416,
          147156,
          196840,
          151410,
          129372,
          127341,
          170057,
          146664,
          42859,
          17143
         ],
         "yaxis": "y"
        },
        {
         "customdata": [
          [
           "01-2019",
           "CAVE"
          ],
          [
           "01-2019",
           "CAVE"
          ],
          [
           "03-2019",
           "CAVE"
          ],
          [
           "04-2019",
           "CAVE"
          ],
          [
           "05-2019",
           "CAVE"
          ],
          [
           "06-2019",
           "CAVE"
          ],
          [
           "07-2019",
           "CAVE"
          ],
          [
           "08-2019",
           "CAVE"
          ],
          [
           "09-2019",
           "CAVE"
          ],
          [
           "10-2019",
           "CAVE"
          ],
          [
           "11-2019",
           "CAVE"
          ],
          [
           "12-2019",
           "CAVE"
          ]
         ],
         "hoverlabel": {
          "namelength": 0
         },
         "hovertemplate": "Park Code=%{customdata[1]}<br>Temperature=%{x}<br>Visitor Count=%{marker.size}<br>Unit Time=%{customdata[0]}",
         "legendgroup": "CAVE",
         "marker": {
          "color": "#FECB52",
          "size": [
           3093,
           19470,
           56581,
           37543,
           41516,
           57111,
           69444,
           36354,
           28455,
           33014,
           27519,
           30591
          ],
          "sizemode": "area",
          "sizeref": 4032.8325,
          "symbol": "circle"
         },
         "mode": "markers",
         "name": "CAVE",
         "showlegend": true,
         "type": "scatter",
         "x": [
          35.31,
          49.82,
          36.51,
          74.87,
          77.29,
          77.49,
          85.21,
          73.57,
          65.39,
          63.91,
          54.81,
          44.09
         ],
         "xaxis": "x",
         "y": [
          3093,
          19470,
          56581,
          37543,
          41516,
          57111,
          69444,
          36354,
          28455,
          33014,
          27519,
          30591
         ],
         "yaxis": "y"
        },
        {
         "customdata": [
          [
           "01-2019",
           "CHIS"
          ],
          [
           "01-2019",
           "CHIS"
          ],
          [
           "03-2019",
           "CHIS"
          ],
          [
           "04-2019",
           "CHIS"
          ],
          [
           "05-2019",
           "CHIS"
          ],
          [
           "06-2019",
           "CHIS"
          ],
          [
           "07-2019",
           "CHIS"
          ],
          [
           "08-2019",
           "CHIS"
          ],
          [
           "09-2019",
           "CHIS"
          ],
          [
           "10-2019",
           "CHIS"
          ],
          [
           "11-2019",
           "CHIS"
          ],
          [
           "12-2019",
           "CHIS"
          ]
         ],
         "hoverlabel": {
          "namelength": 0
         },
         "hovertemplate": "Park Code=%{customdata[1]}<br>Temperature=%{x}<br>Visitor Count=%{marker.size}<br>Unit Time=%{customdata[0]}",
         "legendgroup": "CHIS",
         "marker": {
          "color": "#636efa",
          "size": [
           9193,
           22263,
           34951,
           39218,
           39070,
           44915,
           47581,
           49793,
           38681,
           36691,
           25212,
           22062
          ],
          "sizemode": "area",
          "sizeref": 4032.8325,
          "symbol": "circle"
         },
         "mode": "markers",
         "name": "CHIS",
         "showlegend": true,
         "type": "scatter",
         "x": [
          56.64,
          57.44,
          57.46,
          60.63,
          60.68,
          59.35,
          59.24,
          60.33,
          65.38,
          61.08,
          59.48,
          59.09
         ],
         "xaxis": "x",
         "y": [
          9193,
          22263,
          34951,
          39218,
          39070,
          44915,
          47581,
          49793,
          38681,
          36691,
          25212,
          22062
         ],
         "yaxis": "y"
        },
        {
         "customdata": [
          [
           "01-2019",
           "CONG"
          ],
          [
           "01-2019",
           "CONG"
          ],
          [
           "03-2019",
           "CONG"
          ],
          [
           "04-2019",
           "CONG"
          ],
          [
           "05-2019",
           "CONG"
          ],
          [
           "06-2019",
           "CONG"
          ],
          [
           "07-2019",
           "CONG"
          ],
          [
           "08-2019",
           "CONG"
          ],
          [
           "09-2019",
           "CONG"
          ],
          [
           "10-2019",
           "CONG"
          ],
          [
           "11-2019",
           "CONG"
          ],
          [
           "12-2019",
           "CONG"
          ]
         ],
         "hoverlabel": {
          "namelength": 0
         },
         "hovertemplate": "Park Code=%{customdata[1]}<br>Temperature=%{x}<br>Visitor Count=%{marker.size}<br>Unit Time=%{customdata[0]}",
         "legendgroup": "CONG",
         "marker": {
          "color": "#EF553B",
          "size": [
           7000,
           10910,
           17121,
           15408,
           28786,
           13282,
           10936,
           11028,
           8312,
           13902,
           11765,
           10995
          ],
          "sizemode": "area",
          "sizeref": 4032.8325,
          "symbol": "circle"
         },
         "mode": "markers",
         "name": "CONG",
         "showlegend": true,
         "type": "scatter",
         "x": [
          65.25,
          33.7,
          65.78,
          66.57,
          82.16,
          87.26,
          83.78,
          76.92,
          74.72,
          63.76,
          59.76,
          49.8
         ],
         "xaxis": "x",
         "y": [
          7000,
          10910,
          17121,
          15408,
          28786,
          13282,
          10936,
          11028,
          8312,
          13902,
          11765,
          10995
         ],
         "yaxis": "y"
        },
        {
         "customdata": [
          [
           "01-2019",
           "CRLA"
          ],
          [
           "01-2019",
           "CRLA"
          ],
          [
           "03-2019",
           "CRLA"
          ],
          [
           "04-2019",
           "CRLA"
          ],
          [
           "05-2019",
           "CRLA"
          ],
          [
           "06-2019",
           "CRLA"
          ],
          [
           "07-2019",
           "CRLA"
          ],
          [
           "08-2019",
           "CRLA"
          ],
          [
           "09-2019",
           "CRLA"
          ],
          [
           "10-2019",
           "CRLA"
          ],
          [
           "11-2019",
           "CRLA"
          ],
          [
           "12-2019",
           "CRLA"
          ]
         ],
         "hoverlabel": {
          "namelength": 0
         },
         "hovertemplate": "Park Code=%{customdata[1]}<br>Temperature=%{x}<br>Visitor Count=%{marker.size}<br>Unit Time=%{customdata[0]}",
         "legendgroup": "CRLA",
         "marker": {
          "color": "#00cc96",
          "size": [
           3120,
           2436,
           4800,
           15898,
           44808,
           103442,
           201191,
           163472,
           98266,
           41635,
           16843,
           8601
          ],
          "sizemode": "area",
          "sizeref": 4032.8325,
          "symbol": "circle"
         },
         "mode": "markers",
         "name": "CRLA",
         "showlegend": true,
         "type": "scatter",
         "x": [
          16.14,
          36.19,
          32.68,
          42.06,
          59.35,
          59.58,
          57.58,
          57.2,
          58.3,
          36.1,
          45.76,
          32.56
         ],
         "xaxis": "x",
         "y": [
          3120,
          2436,
          4800,
          15898,
          44808,
          103442,
          201191,
          163472,
          98266,
          41635,
          16843,
          8601
         ],
         "yaxis": "y"
        },
        {
         "customdata": [
          [
           "01-2019",
           "CUVA"
          ],
          [
           "01-2019",
           "CUVA"
          ],
          [
           "03-2019",
           "CUVA"
          ],
          [
           "04-2019",
           "CUVA"
          ],
          [
           "05-2019",
           "CUVA"
          ],
          [
           "06-2019",
           "CUVA"
          ],
          [
           "07-2019",
           "CUVA"
          ],
          [
           "08-2019",
           "CUVA"
          ],
          [
           "09-2019",
           "CUVA"
          ],
          [
           "10-2019",
           "CUVA"
          ],
          [
           "11-2019",
           "CUVA"
          ],
          [
           "12-2019",
           "CUVA"
          ]
         ],
         "hoverlabel": {
          "namelength": 0
         },
         "hovertemplate": "Park Code=%{customdata[1]}<br>Temperature=%{x}<br>Visitor Count=%{marker.size}<br>Unit Time=%{customdata[0]}",
         "legendgroup": "CUVA",
         "marker": {
          "color": "#ab63fa",
          "size": [
           88020,
           82061,
           126521,
           177318,
           225949,
           284079,
           284928,
           285616,
           226681,
           203708,
           142329,
           110787
          ],
          "sizemode": "area",
          "sizeref": 4032.8325,
          "symbol": "circle"
         },
         "mode": "markers",
         "name": "CUVA",
         "showlegend": true,
         "type": "scatter",
         "x": [
          54.35,
          4.37,
          25.6,
          51.87,
          53.14,
          75.46,
          87.3,
          75.71,
          51.2,
          58.52,
          34.97,
          32.09
         ],
         "xaxis": "x",
         "y": [
          88020,
          82061,
          126521,
          177318,
          225949,
          284079,
          284928,
          285616,
          226681,
          203708,
          142329,
          110787
         ],
         "yaxis": "y"
        },
        {
         "customdata": [
          [
           "01-2019",
           "DEVA"
          ],
          [
           "01-2019",
           "DEVA"
          ],
          [
           "03-2019",
           "DEVA"
          ],
          [
           "04-2019",
           "DEVA"
          ],
          [
           "05-2019",
           "DEVA"
          ],
          [
           "06-2019",
           "DEVA"
          ],
          [
           "07-2019",
           "DEVA"
          ],
          [
           "08-2019",
           "DEVA"
          ],
          [
           "09-2019",
           "DEVA"
          ],
          [
           "10-2019",
           "DEVA"
          ],
          [
           "11-2019",
           "DEVA"
          ],
          [
           "12-2019",
           "DEVA"
          ]
         ],
         "hoverlabel": {
          "namelength": 0
         },
         "hovertemplate": "Park Code=%{customdata[1]}<br>Temperature=%{x}<br>Visitor Count=%{marker.size}<br>Unit Time=%{customdata[0]}",
         "legendgroup": "DEVA",
         "marker": {
          "color": "#FFA15A",
          "size": [
           111954,
           112925,
           178553,
           177696,
           155378,
           122013,
           142487,
           165632,
           168894,
           138152,
           132013,
           135248
          ],
          "sizemode": "area",
          "sizeref": 4032.8325,
          "symbol": "circle"
         },
         "mode": "markers",
         "name": "DEVA",
         "showlegend": true,
         "type": "scatter",
         "x": [
          30.67,
          48.03,
          56.12,
          69.53,
          80.37,
          83.22,
          78.29,
          77.38,
          76.59,
          56.06,
          53.31,
          43.77
         ],
         "xaxis": "x",
         "y": [
          111954,
          112925,
          178553,
          177696,
          155378,
          122013,
          142487,
          165632,
          168894,
          138152,
          132013,
          135248
         ],
         "yaxis": "y"
        },
        {
         "customdata": [
          [
           "01-2019",
           "DRTO"
          ],
          [
           "01-2019",
           "DRTO"
          ],
          [
           "03-2019",
           "DRTO"
          ],
          [
           "04-2019",
           "DRTO"
          ],
          [
           "05-2019",
           "DRTO"
          ],
          [
           "06-2019",
           "DRTO"
          ],
          [
           "07-2019",
           "DRTO"
          ],
          [
           "08-2019",
           "DRTO"
          ],
          [
           "09-2019",
           "DRTO"
          ],
          [
           "10-2019",
           "DRTO"
          ],
          [
           "11-2019",
           "DRTO"
          ],
          [
           "12-2019",
           "DRTO"
          ]
         ],
         "hoverlabel": {
          "namelength": 0
         },
         "hovertemplate": "Park Code=%{customdata[1]}<br>Temperature=%{x}<br>Visitor Count=%{marker.size}<br>Unit Time=%{customdata[0]}",
         "legendgroup": "DRTO",
         "marker": {
          "color": "#19d3f3",
          "size": [
           6179,
           6937,
           7417,
           7720,
           8124,
           8041,
           7692,
           6658,
           4694,
           4432,
           5336,
           5970
          ],
          "sizemode": "area",
          "sizeref": 4032.8325,
          "symbol": "circle"
         },
         "mode": "markers",
         "name": "DRTO",
         "showlegend": true,
         "type": "scatter",
         "x": [
          73.57,
          70.32,
          76.79,
          77,
          81.51,
          85.22,
          87.21,
          83.52,
          83.18,
          80.21,
          79.44,
          70.97
         ],
         "xaxis": "x",
         "y": [
          6179,
          6937,
          7417,
          7720,
          8124,
          8041,
          7692,
          6658,
          4694,
          4432,
          5336,
          5970
         ],
         "yaxis": "y"
        },
        {
         "customdata": [
          [
           "01-2019",
           "EVER"
          ],
          [
           "01-2019",
           "EVER"
          ],
          [
           "03-2019",
           "EVER"
          ],
          [
           "04-2019",
           "EVER"
          ],
          [
           "05-2019",
           "EVER"
          ],
          [
           "06-2019",
           "EVER"
          ],
          [
           "07-2019",
           "EVER"
          ],
          [
           "08-2019",
           "EVER"
          ],
          [
           "09-2019",
           "EVER"
          ],
          [
           "10-2019",
           "EVER"
          ],
          [
           "11-2019",
           "EVER"
          ],
          [
           "12-2019",
           "EVER"
          ]
         ],
         "hoverlabel": {
          "namelength": 0
         },
         "hovertemplate": "Park Code=%{customdata[1]}<br>Temperature=%{x}<br>Visitor Count=%{marker.size}<br>Unit Time=%{customdata[0]}",
         "legendgroup": "EVER",
         "marker": {
          "color": "#FF6692",
          "size": [
           85838,
           96953,
           146859,
           131278,
           77435,
           68267,
           63394,
           80177,
           60469,
           70222,
           103643,
           133765
          ],
          "sizemode": "area",
          "sizeref": 4032.8325,
          "symbol": "circle"
         },
         "mode": "markers",
         "name": "EVER",
         "showlegend": true,
         "type": "scatter",
         "x": [
          67.61,
          65.18,
          74.59,
          78.31,
          88.23,
          88.86,
          89.83,
          83.5,
          81.66,
          76.43,
          73.68,
          63.63
         ],
         "xaxis": "x",
         "y": [
          85838,
          96953,
          146859,
          131278,
          77435,
          68267,
          63394,
          80177,
          60469,
          70222,
          103643,
          133765
         ],
         "yaxis": "y"
        },
        {
         "customdata": [
          [
           "01-2019",
           "GLAC"
          ],
          [
           "01-2019",
           "GLAC"
          ],
          [
           "03-2019",
           "GLAC"
          ],
          [
           "04-2019",
           "GLAC"
          ],
          [
           "05-2019",
           "GLAC"
          ],
          [
           "06-2019",
           "GLAC"
          ],
          [
           "07-2019",
           "GLAC"
          ],
          [
           "08-2019",
           "GLAC"
          ],
          [
           "09-2019",
           "GLAC"
          ],
          [
           "10-2019",
           "GLAC"
          ],
          [
           "11-2019",
           "GLAC"
          ],
          [
           "12-2019",
           "GLAC"
          ]
         ],
         "hoverlabel": {
          "namelength": 0
         },
         "hovertemplate": "Park Code=%{customdata[1]}<br>Temperature=%{x}<br>Visitor Count=%{marker.size}<br>Unit Time=%{customdata[0]}",
         "legendgroup": "GLAC",
         "marker": {
          "color": "#B6E880",
          "size": [
           13581,
           11240,
           23989,
           35491,
           167403,
           544088,
           879711,
           771874,
           488909,
           78408,
           20008,
           15137
          ],
          "sizemode": "area",
          "sizeref": 4032.8325,
          "symbol": "circle"
         },
         "mode": "markers",
         "name": "GLAC",
         "showlegend": true,
         "type": "scatter",
         "x": [
          4.85,
          28.3,
          1.95,
          37.82,
          50.1,
          61.1,
          51.07,
          55.22,
          48.5,
          34.74,
          16.63,
          32.03
         ],
         "xaxis": "x",
         "y": [
          13581,
          11240,
          23989,
          35491,
          167403,
          544088,
          879711,
          771874,
          488909,
          78408,
          20008,
          15137
         ],
         "yaxis": "y"
        },
        {
         "customdata": [
          [
           "01-2019",
           "GRBA"
          ],
          [
           "01-2019",
           "GRBA"
          ],
          [
           "03-2019",
           "GRBA"
          ],
          [
           "04-2019",
           "GRBA"
          ],
          [
           "05-2019",
           "GRBA"
          ],
          [
           "06-2019",
           "GRBA"
          ],
          [
           "07-2019",
           "GRBA"
          ],
          [
           "08-2019",
           "GRBA"
          ],
          [
           "09-2019",
           "GRBA"
          ],
          [
           "10-2019",
           "GRBA"
          ],
          [
           "11-2019",
           "GRBA"
          ],
          [
           "12-2019",
           "GRBA"
          ]
         ],
         "hoverlabel": {
          "namelength": 0
         },
         "hovertemplate": "Park Code=%{customdata[1]}<br>Temperature=%{x}<br>Visitor Count=%{marker.size}<br>Unit Time=%{customdata[0]}",
         "legendgroup": "GRBA",
         "marker": {
          "color": "#FF97FF",
          "size": [
           689,
           1060,
           2391,
           6100,
           11516,
           23246,
           23290,
           24674,
           22735,
           11772,
           3330,
           999
          ],
          "sizemode": "area",
          "sizeref": 4032.8325,
          "symbol": "circle"
         },
         "mode": "markers",
         "name": "GRBA",
         "showlegend": true,
         "type": "scatter",
         "x": [
          0.7,
          25.15,
          24.59,
          40.44,
          48.43,
          55.79,
          53.55,
          61.29,
          58.72,
          32.45,
          33.02,
          29.84
         ],
         "xaxis": "x",
         "y": [
          689,
          1060,
          2391,
          6100,
          11516,
          23246,
          23290,
          24674,
          22735,
          11772,
          3330,
          999
         ],
         "yaxis": "y"
        },
        {
         "customdata": [
          [
           "01-2019",
           "GRCA"
          ],
          [
           "01-2019",
           "GRCA"
          ],
          [
           "03-2019",
           "GRCA"
          ],
          [
           "04-2019",
           "GRCA"
          ],
          [
           "05-2019",
           "GRCA"
          ],
          [
           "06-2019",
           "GRCA"
          ],
          [
           "07-2019",
           "GRCA"
          ],
          [
           "08-2019",
           "GRCA"
          ],
          [
           "09-2019",
           "GRCA"
          ],
          [
           "10-2019",
           "GRCA"
          ],
          [
           "11-2019",
           "GRCA"
          ],
          [
           "12-2019",
           "GRCA"
          ]
         ],
         "hoverlabel": {
          "namelength": 0
         },
         "hovertemplate": "Park Code=%{customdata[1]}<br>Temperature=%{x}<br>Visitor Count=%{marker.size}<br>Unit Time=%{customdata[0]}",
         "legendgroup": "GRCA",
         "marker": {
          "color": "#FECB52",
          "size": [
           225056,
           213050,
           451228,
           562265,
           618598,
           643821,
           756860,
           700896,
           578852,
           551558,
           347847,
           324380
          ],
          "sizemode": "area",
          "sizeref": 4032.8325,
          "symbol": "circle"
         },
         "mode": "markers",
         "name": "GRCA",
         "showlegend": true,
         "type": "scatter",
         "x": [
          22.9,
          45.1,
          52.14,
          65.43,
          77.17,
          77.99,
          77.55,
          72.32,
          66.5,
          47.95,
          44.1,
          38.33
         ],
         "xaxis": "x",
         "y": [
          225056,
          213050,
          451228,
          562265,
          618598,
          643821,
          756860,
          700896,
          578852,
          551558,
          347847,
          324380
         ],
         "yaxis": "y"
        },
        {
         "customdata": [
          [
           "01-2019",
           "GRSM"
          ],
          [
           "01-2019",
           "GRSM"
          ],
          [
           "03-2019",
           "GRSM"
          ],
          [
           "04-2019",
           "GRSM"
          ],
          [
           "05-2019",
           "GRSM"
          ],
          [
           "06-2019",
           "GRSM"
          ],
          [
           "07-2019",
           "GRSM"
          ],
          [
           "08-2019",
           "GRSM"
          ],
          [
           "09-2019",
           "GRSM"
          ],
          [
           "10-2019",
           "GRSM"
          ],
          [
           "11-2019",
           "GRSM"
          ],
          [
           "12-2019",
           "GRSM"
          ]
         ],
         "hoverlabel": {
          "namelength": 0
         },
         "hovertemplate": "Park Code=%{customdata[1]}<br>Temperature=%{x}<br>Visitor Count=%{marker.size}<br>Unit Time=%{customdata[0]}",
         "legendgroup": "GRSM",
         "marker": {
          "color": "#636efa",
          "size": [
           496743,
           421770,
           786305,
           999259,
           1096056,
           1469857,
           1613133,
           1411231,
           1273326,
           1408013,
           851419,
           720631
          ],
          "sizemode": "area",
          "sizeref": 4032.8325,
          "symbol": "circle"
         },
         "mode": "markers",
         "name": "GRSM",
         "showlegend": true,
         "type": "scatter",
         "x": [
          52.76,
          27.16,
          36.17,
          53.07,
          60.24,
          76.4,
          75.7,
          65.21,
          61.45,
          56.5,
          39.74,
          38.35
         ],
         "xaxis": "x",
         "y": [
          496743,
          421770,
          786305,
          999259,
          1096056,
          1469857,
          1613133,
          1411231,
          1273326,
          1408013,
          851419,
          720631
         ],
         "yaxis": "y"
        },
        {
         "customdata": [
          [
           "01-2019",
           "GRTE"
          ],
          [
           "01-2019",
           "GRTE"
          ],
          [
           "03-2019",
           "GRTE"
          ],
          [
           "04-2019",
           "GRTE"
          ],
          [
           "05-2019",
           "GRTE"
          ],
          [
           "06-2019",
           "GRTE"
          ],
          [
           "07-2019",
           "GRTE"
          ],
          [
           "08-2019",
           "GRTE"
          ],
          [
           "09-2019",
           "GRTE"
          ],
          [
           "10-2019",
           "GRTE"
          ],
          [
           "11-2019",
           "GRTE"
          ],
          [
           "12-2019",
           "GRTE"
          ]
         ],
         "hoverlabel": {
          "namelength": 0
         },
         "hovertemplate": "Park Code=%{customdata[1]}<br>Temperature=%{x}<br>Visitor Count=%{marker.size}<br>Unit Time=%{customdata[0]}",
         "legendgroup": "GRTE",
         "marker": {
          "color": "#EF553B",
          "size": [
           56635,
           43913,
           65864,
           59105,
           278529,
           625441,
           775788,
           702022,
           517265,
           186487,
           48132,
           46433
          ],
          "sizemode": "area",
          "sizeref": 4032.8325,
          "symbol": "circle"
         },
         "mode": "markers",
         "name": "GRTE",
         "showlegend": true,
         "type": "scatter",
         "x": [
          -5.8,
          18.98,
          17.07,
          42.92,
          54.09,
          63.4,
          57.04,
          54.79,
          52.87,
          28.97,
          32.58,
          20.65
         ],
         "xaxis": "x",
         "y": [
          56635,
          43913,
          65864,
          59105,
          278529,
          625441,
          775788,
          702022,
          517265,
          186487,
          48132,
          46433
         ],
         "yaxis": "y"
        },
        {
         "customdata": [
          [
           "01-2019",
           "GUMO"
          ],
          [
           "01-2019",
           "GUMO"
          ],
          [
           "03-2019",
           "GUMO"
          ],
          [
           "04-2019",
           "GUMO"
          ],
          [
           "05-2019",
           "GUMO"
          ],
          [
           "06-2019",
           "GUMO"
          ],
          [
           "07-2019",
           "GUMO"
          ],
          [
           "08-2019",
           "GUMO"
          ],
          [
           "09-2019",
           "GUMO"
          ],
          [
           "10-2019",
           "GUMO"
          ],
          [
           "11-2019",
           "GUMO"
          ],
          [
           "12-2019",
           "GUMO"
          ]
         ],
         "hoverlabel": {
          "namelength": 0
         },
         "hovertemplate": "Park Code=%{customdata[1]}<br>Temperature=%{x}<br>Visitor Count=%{marker.size}<br>Unit Time=%{customdata[0]}",
         "legendgroup": "GUMO",
         "marker": {
          "color": "#00cc96",
          "size": [
           1049,
           9462,
           27831,
           20970,
           25204,
           14376,
           13540,
           10532,
           12157,
           23513,
           15161,
           15038
          ],
          "sizemode": "area",
          "sizeref": 4032.8325,
          "symbol": "circle"
         },
         "mode": "markers",
         "name": "GUMO",
         "showlegend": true,
         "type": "scatter",
         "x": [
          33.34,
          43.6,
          39.16,
          67.16,
          75.06,
          73.05,
          77.63,
          69.32,
          60.3,
          57.85,
          51.99,
          41.2
         ],
         "xaxis": "x",
         "y": [
          1049,
          9462,
          27831,
          20970,
          25204,
          14376,
          13540,
          10532,
          12157,
          23513,
          15161,
          15038
         ],
         "yaxis": "y"
        },
        {
         "customdata": [
          [
           "01-2019",
           "HALE"
          ],
          [
           "01-2019",
           "HALE"
          ],
          [
           "03-2019",
           "HALE"
          ],
          [
           "04-2019",
           "HALE"
          ],
          [
           "05-2019",
           "HALE"
          ],
          [
           "06-2019",
           "HALE"
          ],
          [
           "07-2019",
           "HALE"
          ],
          [
           "08-2019",
           "HALE"
          ],
          [
           "09-2019",
           "HALE"
          ],
          [
           "10-2019",
           "HALE"
          ],
          [
           "11-2019",
           "HALE"
          ],
          [
           "12-2019",
           "HALE"
          ]
         ],
         "hoverlabel": {
          "namelength": 0
         },
         "hovertemplate": "Park Code=%{customdata[1]}<br>Temperature=%{x}<br>Visitor Count=%{marker.size}<br>Unit Time=%{customdata[0]}",
         "legendgroup": "HALE",
         "marker": {
          "color": "#ab63fa",
          "size": [
           53523,
           83666,
           93074,
           87763,
           85159,
           85338,
           86267,
           84618,
           98856,
           73204,
           72075,
           90851
          ],
          "sizemode": "area",
          "sizeref": 4032.8325,
          "symbol": "circle"
         },
         "mode": "markers",
         "name": "HALE",
         "showlegend": true,
         "type": "scatter",
         "x": [
          61.55,
          57.49,
          59.18,
          65.91,
          65.43,
          61.99,
          62.4,
          65.58,
          65.92,
          63.81,
          64.84,
          59.94
         ],
         "xaxis": "x",
         "y": [
          53523,
          83666,
          93074,
          87763,
          85159,
          85338,
          86267,
          84618,
          98856,
          73204,
          72075,
          90851
         ],
         "yaxis": "y"
        },
        {
         "customdata": [
          [
           "01-2019",
           "HAVO"
          ],
          [
           "01-2019",
           "HAVO"
          ],
          [
           "03-2019",
           "HAVO"
          ],
          [
           "04-2019",
           "HAVO"
          ],
          [
           "05-2019",
           "HAVO"
          ],
          [
           "06-2019",
           "HAVO"
          ],
          [
           "07-2019",
           "HAVO"
          ],
          [
           "08-2019",
           "HAVO"
          ],
          [
           "09-2019",
           "HAVO"
          ],
          [
           "10-2019",
           "HAVO"
          ],
          [
           "11-2019",
           "HAVO"
          ],
          [
           "12-2019",
           "HAVO"
          ]
         ],
         "hoverlabel": {
          "namelength": 0
         },
         "hovertemplate": "Park Code=%{customdata[1]}<br>Temperature=%{x}<br>Visitor Count=%{marker.size}<br>Unit Time=%{customdata[0]}",
         "legendgroup": "HAVO",
         "marker": {
          "color": "#FFA15A",
          "size": [
           128836,
           120931,
           113452,
           103247,
           102792,
           113015,
           133249,
           125357,
           92720,
           96054,
           107457,
           131266
          ],
          "sizemode": "area",
          "sizeref": 4032.8325,
          "symbol": "circle"
         },
         "mode": "markers",
         "name": "HAVO",
         "showlegend": true,
         "type": "scatter",
         "x": [
          63.25,
          61.05,
          64.58,
          72.87,
          71.04,
          64.22,
          61.12,
          64.56,
          65.09,
          62.58,
          64.75,
          59.81
         ],
         "xaxis": "x",
         "y": [
          128836,
          120931,
          113452,
          103247,
          102792,
          113015,
          133249,
          125357,
          92720,
          96054,
          107457,
          131266
         ],
         "yaxis": "y"
        },
        {
         "customdata": [
          [
           "01-2019",
           "HOSP"
          ],
          [
           "01-2019",
           "HOSP"
          ],
          [
           "03-2019",
           "HOSP"
          ],
          [
           "04-2019",
           "HOSP"
          ],
          [
           "05-2019",
           "HOSP"
          ],
          [
           "06-2019",
           "HOSP"
          ],
          [
           "07-2019",
           "HOSP"
          ],
          [
           "08-2019",
           "HOSP"
          ],
          [
           "09-2019",
           "HOSP"
          ],
          [
           "10-2019",
           "HOSP"
          ],
          [
           "11-2019",
           "HOSP"
          ],
          [
           "12-2019",
           "HOSP"
          ]
         ],
         "hoverlabel": {
          "namelength": 0
         },
         "hovertemplate": "Park Code=%{customdata[1]}<br>Temperature=%{x}<br>Visitor Count=%{marker.size}<br>Unit Time=%{customdata[0]}",
         "legendgroup": "HOSP",
         "marker": {
          "color": "#19d3f3",
          "size": [
           73964,
           79322,
           125290,
           113397,
           136514,
           149049,
           139005,
           181982,
           143915,
           137861,
           108534,
           78320
          ],
          "sizemode": "area",
          "sizeref": 4032.8325,
          "symbol": "circle"
         },
         "mode": "markers",
         "name": "HOSP",
         "showlegend": true,
         "type": "scatter",
         "x": [
          39.34,
          43.81,
          33.51,
          69.29,
          71.13,
          87.24,
          85.15,
          76.39,
          70.68,
          67.28,
          52.9,
          49.58
         ],
         "xaxis": "x",
         "y": [
          73964,
          79322,
          125290,
          113397,
          136514,
          149049,
          139005,
          181982,
          143915,
          137861,
          108534,
          78320
         ],
         "yaxis": "y"
        },
        {
         "customdata": [
          [
           "01-2019",
           "INDU"
          ],
          [
           "01-2019",
           "INDU"
          ],
          [
           "03-2019",
           "INDU"
          ],
          [
           "04-2019",
           "INDU"
          ],
          [
           "05-2019",
           "INDU"
          ],
          [
           "06-2019",
           "INDU"
          ],
          [
           "07-2019",
           "INDU"
          ],
          [
           "08-2019",
           "INDU"
          ],
          [
           "09-2019",
           "INDU"
          ],
          [
           "10-2019",
           "INDU"
          ],
          [
           "11-2019",
           "INDU"
          ],
          [
           "12-2019",
           "INDU"
          ]
         ],
         "hoverlabel": {
          "namelength": 0
         },
         "hovertemplate": "Park Code=%{customdata[1]}<br>Temperature=%{x}<br>Visitor Count=%{marker.size}<br>Unit Time=%{customdata[0]}",
         "legendgroup": "INDU",
         "marker": {
          "color": "#FF6692",
          "size": [
           69916,
           85702,
           219070,
           107862,
           142403,
           302203,
           449968,
           290469,
           206226,
           105984,
           79674,
           74808
          ],
          "sizemode": "area",
          "sizeref": 4032.8325,
          "symbol": "circle"
         },
         "mode": "markers",
         "name": "INDU",
         "showlegend": true,
         "type": "scatter",
         "x": [
          37.02,
          -1.02,
          16.94,
          56.97,
          52.62,
          65.43,
          84.42,
          72.73,
          59.38,
          60.32,
          32.55,
          26.72
         ],
         "xaxis": "x",
         "y": [
          69916,
          85702,
          219070,
          107862,
          142403,
          302203,
          449968,
          290469,
          206226,
          105984,
          79674,
          74808
         ],
         "yaxis": "y"
        },
        {
         "customdata": [
          [
           "01-2019",
           "ISRO"
          ],
          [
           "01-2019",
           "ISRO"
          ],
          [
           "03-2019",
           "ISRO"
          ],
          [
           "04-2019",
           "ISRO"
          ],
          [
           "05-2019",
           "ISRO"
          ],
          [
           "06-2019",
           "ISRO"
          ],
          [
           "07-2019",
           "ISRO"
          ],
          [
           "08-2019",
           "ISRO"
          ],
          [
           "09-2019",
           "ISRO"
          ],
          [
           "10-2019",
           "ISRO"
          ],
          [
           "11-2019",
           "ISRO"
          ],
          [
           "12-2019",
           "ISRO"
          ]
         ],
         "hoverlabel": {
          "namelength": 0
         },
         "hovertemplate": "Park Code=%{customdata[1]}<br>Temperature=%{x}<br>Visitor Count=%{marker.size}<br>Unit Time=%{customdata[0]}",
         "legendgroup": "ISRO",
         "marker": {
          "color": "#B6E880",
          "size": [
           4,
           37,
           55,
           61,
           1055,
           4837,
           7714,
           8798,
           3342,
           402,
           47,
           58
          ],
          "sizemode": "area",
          "sizeref": 4032.8325,
          "symbol": "circle"
         },
         "mode": "markers",
         "name": "ISRO",
         "showlegend": true,
         "type": "scatter",
         "x": [
          9.23,
          -9.63,
          -0.47,
          32.73,
          45.94,
          42.36,
          56.71,
          63.45,
          52.16,
          46.89,
          23.61,
          25.64
         ],
         "xaxis": "x",
         "y": [
          4,
          37,
          55,
          61,
          1055,
          4837,
          7714,
          8798,
          3342,
          402,
          47,
          58
         ],
         "yaxis": "y"
        },
        {
         "customdata": [
          [
           "01-2019",
           "JEFF"
          ],
          [
           "01-2019",
           "JEFF"
          ],
          [
           "03-2019",
           "JEFF"
          ],
          [
           "04-2019",
           "JEFF"
          ],
          [
           "05-2019",
           "JEFF"
          ],
          [
           "06-2019",
           "JEFF"
          ],
          [
           "07-2019",
           "JEFF"
          ],
          [
           "08-2019",
           "JEFF"
          ],
          [
           "09-2019",
           "JEFF"
          ],
          [
           "10-2019",
           "JEFF"
          ],
          [
           "11-2019",
           "JEFF"
          ],
          [
           "12-2019",
           "JEFF"
          ]
         ],
         "hoverlabel": {
          "namelength": 0
         },
         "hovertemplate": "Park Code=%{customdata[1]}<br>Temperature=%{x}<br>Visitor Count=%{marker.size}<br>Unit Time=%{customdata[0]}",
         "legendgroup": "JEFF",
         "marker": {
          "color": "#FF97FF",
          "size": [
           18962,
           51416,
           164238,
           138309,
           165964,
           296149,
           583866,
           208999,
           127764,
           122770,
           91836,
           85036
          ],
          "sizemode": "area",
          "sizeref": 4032.8325,
          "symbol": "circle"
         },
         "mode": "markers",
         "name": "JEFF",
         "showlegend": true,
         "type": "scatter",
         "x": [
          42.47,
          25.69,
          17.53,
          65.48,
          65.98,
          82.57,
          89.04,
          79.16,
          64.46,
          65.96,
          40.74,
          32.18
         ],
         "xaxis": "x",
         "y": [
          18962,
          51416,
          164238,
          138309,
          165964,
          296149,
          583866,
          208999,
          127764,
          122770,
          91836,
          85036
         ],
         "yaxis": "y"
        },
        {
         "customdata": [
          [
           "01-2019",
           "JOTR"
          ],
          [
           "01-2019",
           "JOTR"
          ],
          [
           "03-2019",
           "JOTR"
          ],
          [
           "04-2019",
           "JOTR"
          ],
          [
           "05-2019",
           "JOTR"
          ],
          [
           "06-2019",
           "JOTR"
          ],
          [
           "07-2019",
           "JOTR"
          ],
          [
           "08-2019",
           "JOTR"
          ],
          [
           "09-2019",
           "JOTR"
          ],
          [
           "10-2019",
           "JOTR"
          ],
          [
           "11-2019",
           "JOTR"
          ],
          [
           "12-2019",
           "JOTR"
          ]
         ],
         "hoverlabel": {
          "namelength": 0
         },
         "hovertemplate": "Park Code=%{customdata[1]}<br>Temperature=%{x}<br>Visitor Count=%{marker.size}<br>Unit Time=%{customdata[0]}",
         "legendgroup": "JOTR",
         "marker": {
          "color": "#FECB52",
          "size": [
           195993,
           261230,
           469183,
           374789,
           250928,
           187551,
           138967,
           120911,
           160294,
           233995,
           291230,
           303476
          ],
          "sizemode": "area",
          "sizeref": 4032.8325,
          "symbol": "circle"
         },
         "mode": "markers",
         "name": "JOTR",
         "showlegend": true,
         "type": "scatter",
         "x": [
          38.05,
          56.26,
          66.71,
          76.9,
          89.28,
          88.88,
          85.14,
          85.78,
          80.65,
          63.54,
          61.94,
          54.15
         ],
         "xaxis": "x",
         "y": [
          195993,
          261230,
          469183,
          374789,
          250928,
          187551,
          138967,
          120911,
          160294,
          233995,
          291230,
          303476
         ],
         "yaxis": "y"
        },
        {
         "customdata": [
          [
           "01-2019",
           "KEFJ"
          ],
          [
           "01-2019",
           "KEFJ"
          ],
          [
           "03-2019",
           "KEFJ"
          ],
          [
           "04-2019",
           "KEFJ"
          ],
          [
           "05-2019",
           "KEFJ"
          ],
          [
           "06-2019",
           "KEFJ"
          ],
          [
           "07-2019",
           "KEFJ"
          ],
          [
           "08-2019",
           "KEFJ"
          ],
          [
           "09-2019",
           "KEFJ"
          ],
          [
           "10-2019",
           "KEFJ"
          ],
          [
           "11-2019",
           "KEFJ"
          ],
          [
           "12-2019",
           "KEFJ"
          ]
         ],
         "hoverlabel": {
          "namelength": 0
         },
         "hovertemplate": "Park Code=%{customdata[1]}<br>Temperature=%{x}<br>Visitor Count=%{marker.size}<br>Unit Time=%{customdata[0]}",
         "legendgroup": "KEFJ",
         "marker": {
          "color": "#636efa",
          "size": [
           21,
           37,
           40,
           21,
           28944,
           91280,
           120632,
           78129,
           33346,
           4121,
           7,
           23
          ],
          "sizemode": "area",
          "sizeref": 4032.8325,
          "symbol": "circle"
         },
         "mode": "markers",
         "name": "KEFJ",
         "showlegend": true,
         "type": "scatter",
         "x": [
          27.45,
          19.18,
          24.28,
          35.75,
          34.1,
          39.73,
          53.49,
          50.07,
          37.46,
          25.49,
          35.76,
          27.07
         ],
         "xaxis": "x",
         "y": [
          21,
          37,
          40,
          21,
          28944,
          91280,
          120632,
          78129,
          33346,
          4121,
          7,
          23
         ],
         "yaxis": "y"
        },
        {
         "customdata": [
          [
           "01-2019",
           "KOVA"
          ],
          [
           "01-2019",
           "KOVA"
          ],
          [
           "03-2019",
           "KOVA"
          ],
          [
           "04-2019",
           "KOVA"
          ],
          [
           "05-2019",
           "KOVA"
          ],
          [
           "06-2019",
           "KOVA"
          ],
          [
           "07-2019",
           "KOVA"
          ],
          [
           "08-2019",
           "KOVA"
          ],
          [
           "09-2019",
           "KOVA"
          ],
          [
           "10-2019",
           "KOVA"
          ],
          [
           "11-2019",
           "KOVA"
          ],
          [
           "12-2019",
           "KOVA"
          ]
         ],
         "hoverlabel": {
          "namelength": 0
         },
         "hovertemplate": "Park Code=%{customdata[1]}<br>Temperature=%{x}<br>Visitor Count=%{marker.size}<br>Unit Time=%{customdata[0]}",
         "legendgroup": "KOVA",
         "marker": {
          "color": "#EF553B",
          "size": [
           1098,
           695,
           764,
           808,
           778,
           1398,
           1750,
           1770,
           1538,
           1987,
           1569,
           1611
          ],
          "sizemode": "area",
          "sizeref": 4032.8325,
          "symbol": "circle"
         },
         "mode": "markers",
         "name": "KOVA",
         "showlegend": true,
         "type": "scatter",
         "x": [
          25.69,
          -6.02,
          19.04,
          24.4,
          31.17,
          58.06,
          56.54,
          42.9,
          48.33,
          25.78,
          16.41,
          -11.8
         ],
         "xaxis": "x",
         "y": [
          1098,
          695,
          764,
          808,
          778,
          1398,
          1750,
          1770,
          1538,
          1987,
          1569,
          1611
         ],
         "yaxis": "y"
        },
        {
         "customdata": [
          [
           "01-2019",
           "LAVO"
          ],
          [
           "01-2019",
           "LAVO"
          ],
          [
           "03-2019",
           "LAVO"
          ],
          [
           "04-2019",
           "LAVO"
          ],
          [
           "05-2019",
           "LAVO"
          ],
          [
           "06-2019",
           "LAVO"
          ],
          [
           "07-2019",
           "LAVO"
          ],
          [
           "08-2019",
           "LAVO"
          ],
          [
           "09-2019",
           "LAVO"
          ],
          [
           "10-2019",
           "LAVO"
          ],
          [
           "11-2019",
           "LAVO"
          ],
          [
           "12-2019",
           "LAVO"
          ]
         ],
         "hoverlabel": {
          "namelength": 0
         },
         "hovertemplate": "Park Code=%{customdata[1]}<br>Temperature=%{x}<br>Visitor Count=%{marker.size}<br>Unit Time=%{customdata[0]}",
         "legendgroup": "LAVO",
         "marker": {
          "color": "#00cc96",
          "size": [
           8646,
           6561,
           7944,
           12477,
           25170,
           63803,
           105535,
           98109,
           75502,
           88428,
           12879,
           11985
          ],
          "sizemode": "area",
          "sizeref": 4032.8325,
          "symbol": "circle"
         },
         "mode": "markers",
         "name": "LAVO",
         "showlegend": true,
         "type": "scatter",
         "x": [
          14.17,
          32.66,
          29.8,
          39.07,
          55.65,
          65.37,
          58.23,
          53.09,
          56.44,
          41.63,
          45.19,
          30.85
         ],
         "xaxis": "x",
         "y": [
          8646,
          6561,
          7944,
          12477,
          25170,
          63803,
          105535,
          98109,
          75502,
          88428,
          12879,
          11985
         ],
         "yaxis": "y"
        },
        {
         "customdata": [
          [
           "01-2019",
           "MACA"
          ],
          [
           "01-2019",
           "MACA"
          ],
          [
           "03-2019",
           "MACA"
          ],
          [
           "04-2019",
           "MACA"
          ],
          [
           "05-2019",
           "MACA"
          ],
          [
           "06-2019",
           "MACA"
          ],
          [
           "07-2019",
           "MACA"
          ],
          [
           "08-2019",
           "MACA"
          ],
          [
           "09-2019",
           "MACA"
          ],
          [
           "10-2019",
           "MACA"
          ],
          [
           "11-2019",
           "MACA"
          ],
          [
           "12-2019",
           "MACA"
          ]
         ],
         "hoverlabel": {
          "namelength": 0
         },
         "hovertemplate": "Park Code=%{customdata[1]}<br>Temperature=%{x}<br>Visitor Count=%{marker.size}<br>Unit Time=%{customdata[0]}",
         "legendgroup": "MACA",
         "marker": {
          "color": "#ab63fa",
          "size": [
           3651,
           10346,
           45779,
           55210,
           53461,
           76995,
           102436,
           72400,
           43525,
           48713,
           22247,
           16827
          ],
          "sizemode": "area",
          "sizeref": 4032.8325,
          "symbol": "circle"
         },
         "mode": "markers",
         "name": "MACA",
         "showlegend": true,
         "type": "scatter",
         "x": [
          51.18,
          25.01,
          32.68,
          66.5,
          69.76,
          82.67,
          84.91,
          71.94,
          60.63,
          69.56,
          36.4,
          44.18
         ],
         "xaxis": "x",
         "y": [
          3651,
          10346,
          45779,
          55210,
          53461,
          76995,
          102436,
          72400,
          43525,
          48713,
          22247,
          16827
         ],
         "yaxis": "y"
        },
        {
         "customdata": [
          [
           "01-2019",
           "MEVE"
          ],
          [
           "01-2019",
           "MEVE"
          ],
          [
           "03-2019",
           "MEVE"
          ],
          [
           "04-2019",
           "MEVE"
          ],
          [
           "05-2019",
           "MEVE"
          ],
          [
           "06-2019",
           "MEVE"
          ],
          [
           "07-2019",
           "MEVE"
          ],
          [
           "08-2019",
           "MEVE"
          ],
          [
           "09-2019",
           "MEVE"
          ],
          [
           "10-2019",
           "MEVE"
          ],
          [
           "11-2019",
           "MEVE"
          ],
          [
           "12-2019",
           "MEVE"
          ]
         ],
         "hoverlabel": {
          "namelength": 0
         },
         "hovertemplate": "Park Code=%{customdata[1]}<br>Temperature=%{x}<br>Visitor Count=%{marker.size}<br>Unit Time=%{customdata[0]}",
         "legendgroup": "MEVE",
         "marker": {
          "color": "#FFA15A",
          "size": [
           95,
           3414,
           14992,
           32428,
           60665,
           108231,
           113166,
           87133,
           70865,
           47270,
           10201,
           7743
          ],
          "sizemode": "area",
          "sizeref": 4032.8325,
          "symbol": "circle"
         },
         "mode": "markers",
         "name": "MEVE",
         "showlegend": true,
         "type": "scatter",
         "x": [
          20.73,
          26.46,
          37.07,
          49.07,
          63.53,
          71.87,
          71,
          61.84,
          60.56,
          43.18,
          36.77,
          29.85
         ],
         "xaxis": "x",
         "y": [
          95,
          3414,
          14992,
          32428,
          60665,
          108231,
          113166,
          87133,
          70865,
          47270,
          10201,
          7743
         ],
         "yaxis": "y"
        },
        {
         "customdata": [
          [
           "01-2019",
           "MORA"
          ],
          [
           "01-2019",
           "MORA"
          ],
          [
           "03-2019",
           "MORA"
          ],
          [
           "04-2019",
           "MORA"
          ],
          [
           "05-2019",
           "MORA"
          ],
          [
           "06-2019",
           "MORA"
          ],
          [
           "07-2019",
           "MORA"
          ],
          [
           "08-2019",
           "MORA"
          ],
          [
           "09-2019",
           "MORA"
          ],
          [
           "10-2019",
           "MORA"
          ],
          [
           "11-2019",
           "MORA"
          ],
          [
           "12-2019",
           "MORA"
          ]
         ],
         "hoverlabel": {
          "namelength": 0
         },
         "hovertemplate": "Park Code=%{customdata[1]}<br>Temperature=%{x}<br>Visitor Count=%{marker.size}<br>Unit Time=%{customdata[0]}",
         "legendgroup": "MORA",
         "marker": {
          "color": "#19d3f3",
          "size": [
           12933,
           11743,
           32101,
           29632,
           106136,
           219641,
           365200,
           378305,
           184166,
           74355,
           48248,
           39161
          ],
          "sizemode": "area",
          "sizeref": 4032.8325,
          "symbol": "circle"
         },
         "mode": "markers",
         "name": "MORA",
         "showlegend": true,
         "type": "scatter",
         "x": [
          16.28,
          32.31,
          11.48,
          28.07,
          47.14,
          41.61,
          44.62,
          51.56,
          51.92,
          29.3,
          36.16,
          28.92
         ],
         "xaxis": "x",
         "y": [
          12933,
          11743,
          32101,
          29632,
          106136,
          219641,
          365200,
          378305,
          184166,
          74355,
          48248,
          39161
         ],
         "yaxis": "y"
        },
        {
         "customdata": [
          [
           "01-2019",
           "NOCA"
          ],
          [
           "01-2019",
           "NOCA"
          ],
          [
           "03-2019",
           "NOCA"
          ],
          [
           "04-2019",
           "NOCA"
          ],
          [
           "05-2019",
           "NOCA"
          ],
          [
           "06-2019",
           "NOCA"
          ],
          [
           "07-2019",
           "NOCA"
          ],
          [
           "08-2019",
           "NOCA"
          ],
          [
           "09-2019",
           "NOCA"
          ],
          [
           "10-2019",
           "NOCA"
          ],
          [
           "11-2019",
           "NOCA"
          ],
          [
           "12-2019",
           "NOCA"
          ]
         ],
         "hoverlabel": {
          "namelength": 0
         },
         "hovertemplate": "Park Code=%{customdata[1]}<br>Temperature=%{x}<br>Visitor Count=%{marker.size}<br>Unit Time=%{customdata[0]}",
         "legendgroup": "NOCA",
         "marker": {
          "color": "#FF6692",
          "size": [
           9,
           0,
           26,
           44,
           1241,
           4520,
           10656,
           12576,
           8581,
           373,
           101,
           81
          ],
          "sizemode": "area",
          "sizeref": 4032.8325,
          "symbol": "circle"
         },
         "mode": "markers",
         "name": "NOCA",
         "showlegend": true,
         "type": "scatter",
         "x": [
          22.78,
          39.98,
          26.15,
          44.47,
          61.12,
          57.5,
          59.13,
          57.4,
          50.73,
          38.85,
          37.68,
          40.17
         ],
         "xaxis": "x",
         "y": [
          9,
          0,
          26,
          44,
          1241,
          4520,
          10656,
          12576,
          8581,
          373,
          101,
          81
         ],
         "yaxis": "y"
        },
        {
         "customdata": [
          [
           "01-2019",
           "NPSA"
          ],
          [
           "01-2019",
           "NPSA"
          ],
          [
           "03-2019",
           "NPSA"
          ],
          [
           "04-2019",
           "NPSA"
          ],
          [
           "05-2019",
           "NPSA"
          ],
          [
           "06-2019",
           "NPSA"
          ],
          [
           "07-2019",
           "NPSA"
          ],
          [
           "08-2019",
           "NPSA"
          ],
          [
           "09-2019",
           "NPSA"
          ],
          [
           "10-2019",
           "NPSA"
          ],
          [
           "11-2019",
           "NPSA"
          ],
          [
           "12-2019",
           "NPSA"
          ]
         ],
         "hoverlabel": {
          "namelength": 0
         },
         "hovertemplate": "Park Code=%{customdata[1]}<br>Temperature=%{x}<br>Visitor Count=%{marker.size}<br>Unit Time=%{customdata[0]}",
         "legendgroup": "NPSA",
         "marker": {
          "color": "#B6E880",
          "size": [
           792,
           3772,
           7152,
           7452,
           7772,
           3464,
           4059,
           4650,
           3933,
           6900,
           8456,
           1604
          ],
          "sizemode": "area",
          "sizeref": 4032.8325,
          "symbol": "circle"
         },
         "mode": "markers",
         "name": "NPSA",
         "showlegend": true,
         "type": "scatter",
         "x": [
          84.56,
          86.39,
          86.63,
          87.21,
          84.66,
          82.15,
          79.49,
          78.44,
          77.99,
          79.37,
          79.97,
          84.55
         ],
         "xaxis": "x",
         "y": [
          792,
          3772,
          7152,
          7452,
          7772,
          3464,
          4059,
          4650,
          3933,
          6900,
          8456,
          1604
         ],
         "yaxis": "y"
        },
        {
         "customdata": [
          [
           "01-2019",
           "OLYM"
          ],
          [
           "01-2019",
           "OLYM"
          ],
          [
           "03-2019",
           "OLYM"
          ],
          [
           "04-2019",
           "OLYM"
          ],
          [
           "05-2019",
           "OLYM"
          ],
          [
           "06-2019",
           "OLYM"
          ],
          [
           "07-2019",
           "OLYM"
          ],
          [
           "08-2019",
           "OLYM"
          ],
          [
           "09-2019",
           "OLYM"
          ],
          [
           "10-2019",
           "OLYM"
          ],
          [
           "11-2019",
           "OLYM"
          ],
          [
           "12-2019",
           "OLYM"
          ]
         ],
         "hoverlabel": {
          "namelength": 0
         },
         "hovertemplate": "Park Code=%{customdata[1]}<br>Temperature=%{x}<br>Visitor Count=%{marker.size}<br>Unit Time=%{customdata[0]}",
         "legendgroup": "OLYM",
         "marker": {
          "color": "#FF97FF",
          "size": [
           72725,
           73756,
           113720,
           159983,
           307426,
           499728,
           517058,
           737996,
           399907,
           182944,
           108204,
           72359
          ],
          "sizemode": "area",
          "sizeref": 4032.8325,
          "symbol": "circle"
         },
         "mode": "markers",
         "name": "OLYM",
         "showlegend": true,
         "type": "scatter",
         "x": [
          25.3,
          34.84,
          21.38,
          32.52,
          53.54,
          45.53,
          44.89,
          54.84,
          51.42,
          36.2,
          39.73,
          35.03
         ],
         "xaxis": "x",
         "y": [
          72725,
          73756,
          113720,
          159983,
          307426,
          499728,
          517058,
          737996,
          399907,
          182944,
          108204,
          72359
         ],
         "yaxis": "y"
        },
        {
         "customdata": [
          [
           "01-2019",
           "PEFO"
          ],
          [
           "01-2019",
           "PEFO"
          ],
          [
           "03-2019",
           "PEFO"
          ],
          [
           "04-2019",
           "PEFO"
          ],
          [
           "05-2019",
           "PEFO"
          ],
          [
           "06-2019",
           "PEFO"
          ],
          [
           "07-2019",
           "PEFO"
          ],
          [
           "08-2019",
           "PEFO"
          ],
          [
           "09-2019",
           "PEFO"
          ],
          [
           "10-2019",
           "PEFO"
          ],
          [
           "11-2019",
           "PEFO"
          ],
          [
           "12-2019",
           "PEFO"
          ]
         ],
         "hoverlabel": {
          "namelength": 0
         },
         "hovertemplate": "Park Code=%{customdata[1]}<br>Temperature=%{x}<br>Visitor Count=%{marker.size}<br>Unit Time=%{customdata[0]}",
         "legendgroup": "PEFO",
         "marker": {
          "color": "#FECB52",
          "size": [
           15341,
           21342,
           55187,
           56567,
           72802,
           95451,
           90546,
           62276,
           52525,
           57019,
           32092,
           32440
          ],
          "sizemode": "area",
          "sizeref": 4032.8325,
          "symbol": "circle"
         },
         "mode": "markers",
         "name": "PEFO",
         "showlegend": true,
         "type": "scatter",
         "x": [
          27.07,
          44.88,
          56.29,
          65.57,
          77.08,
          80.22,
          77.43,
          69.68,
          64.79,
          49.64,
          43.56,
          38.81
         ],
         "xaxis": "x",
         "y": [
          15341,
          21342,
          55187,
          56567,
          72802,
          95451,
          90546,
          62276,
          52525,
          57019,
          32092,
          32440
         ],
         "yaxis": "y"
        },
        {
         "customdata": [
          [
           "01-2019",
           "PINN"
          ],
          [
           "01-2019",
           "PINN"
          ],
          [
           "03-2019",
           "PINN"
          ],
          [
           "04-2019",
           "PINN"
          ],
          [
           "05-2019",
           "PINN"
          ],
          [
           "06-2019",
           "PINN"
          ],
          [
           "07-2019",
           "PINN"
          ],
          [
           "08-2019",
           "PINN"
          ],
          [
           "09-2019",
           "PINN"
          ],
          [
           "10-2019",
           "PINN"
          ],
          [
           "11-2019",
           "PINN"
          ],
          [
           "12-2019",
           "PINN"
          ]
         ],
         "hoverlabel": {
          "namelength": 0
         },
         "hovertemplate": "Park Code=%{customdata[1]}<br>Temperature=%{x}<br>Visitor Count=%{marker.size}<br>Unit Time=%{customdata[0]}",
         "legendgroup": "PINN",
         "marker": {
          "color": "#636efa",
          "size": [
           1154,
           11735,
           24681,
           16234,
           19398,
           19061,
           13016,
           16795,
           14165,
           14084,
           14786,
           12115
          ],
          "sizemode": "area",
          "sizeref": 4032.8325,
          "symbol": "circle"
         },
         "mode": "markers",
         "name": "PINN",
         "showlegend": true,
         "type": "scatter",
         "x": [
          38.43,
          48.93,
          58.24,
          64.2,
          76.79,
          83.67,
          63.81,
          59.26,
          59.32,
          57.17,
          55.02,
          53.97
         ],
         "xaxis": "x",
         "y": [
          1154,
          11735,
          24681,
          16234,
          19398,
          19061,
          13016,
          16795,
          14165,
          14084,
          14786,
          12115
         ],
         "yaxis": "y"
        },
        {
         "customdata": [
          [
           "01-2019",
           "REDW"
          ],
          [
           "01-2019",
           "REDW"
          ],
          [
           "03-2019",
           "REDW"
          ],
          [
           "04-2019",
           "REDW"
          ],
          [
           "05-2019",
           "REDW"
          ],
          [
           "06-2019",
           "REDW"
          ],
          [
           "07-2019",
           "REDW"
          ],
          [
           "08-2019",
           "REDW"
          ],
          [
           "09-2019",
           "REDW"
          ],
          [
           "10-2019",
           "REDW"
          ],
          [
           "11-2019",
           "REDW"
          ],
          [
           "12-2019",
           "REDW"
          ]
         ],
         "hoverlabel": {
          "namelength": 0
         },
         "hovertemplate": "Park Code=%{customdata[1]}<br>Temperature=%{x}<br>Visitor Count=%{marker.size}<br>Unit Time=%{customdata[0]}",
         "legendgroup": "REDW",
         "marker": {
          "color": "#EF553B",
          "size": [
           17129,
           17768,
           30938,
           33179,
           62796,
           76137,
           69750,
           55227,
           55568,
           42048,
           24430,
           19752
          ],
          "sizemode": "area",
          "sizeref": 4032.8325,
          "symbol": "circle"
         },
         "mode": "markers",
         "name": "REDW",
         "showlegend": true,
         "type": "scatter",
         "x": [
          39.22,
          50.82,
          52.14,
          57.27,
          64.1,
          64.24,
          58.97,
          58.29,
          58.63,
          52.45,
          51.2,
          53.5
         ],
         "xaxis": "x",
         "y": [
          17129,
          17768,
          30938,
          33179,
          62796,
          76137,
          69750,
          55227,
          55568,
          42048,
          24430,
          19752
         ],
         "yaxis": "y"
        },
        {
         "customdata": [
          [
           "01-2019",
           "ROMO"
          ],
          [
           "01-2019",
           "ROMO"
          ],
          [
           "03-2019",
           "ROMO"
          ],
          [
           "04-2019",
           "ROMO"
          ],
          [
           "05-2019",
           "ROMO"
          ],
          [
           "06-2019",
           "ROMO"
          ],
          [
           "07-2019",
           "ROMO"
          ],
          [
           "08-2019",
           "ROMO"
          ],
          [
           "09-2019",
           "ROMO"
          ],
          [
           "10-2019",
           "ROMO"
          ],
          [
           "11-2019",
           "ROMO"
          ],
          [
           "12-2019",
           "ROMO"
          ]
         ],
         "hoverlabel": {
          "namelength": 0
         },
         "hovertemplate": "Park Code=%{customdata[1]}<br>Temperature=%{x}<br>Visitor Count=%{marker.size}<br>Unit Time=%{customdata[0]}",
         "legendgroup": "ROMO",
         "marker": {
          "color": "#00cc96",
          "size": [
           118152,
           99873,
           146414,
           160259,
           280351,
           698224,
           973992,
           830039,
           752320,
           374003,
           123376,
           113050
          ],
          "sizemode": "area",
          "sizeref": 4032.8325,
          "symbol": "circle"
         },
         "mode": "markers",
         "name": "ROMO",
         "showlegend": true,
         "type": "scatter",
         "x": [
          -8.58,
          15.72,
          10.02,
          31.45,
          43.02,
          54.63,
          54.68,
          47.01,
          47.64,
          28.39,
          24.75,
          20.57
         ],
         "xaxis": "x",
         "y": [
          118152,
          99873,
          146414,
          160259,
          280351,
          698224,
          973992,
          830039,
          752320,
          374003,
          123376,
          113050
         ],
         "yaxis": "y"
        },
        {
         "customdata": [
          [
           "01-2019",
           "SAGU"
          ],
          [
           "01-2019",
           "SAGU"
          ],
          [
           "03-2019",
           "SAGU"
          ],
          [
           "04-2019",
           "SAGU"
          ],
          [
           "05-2019",
           "SAGU"
          ],
          [
           "06-2019",
           "SAGU"
          ],
          [
           "07-2019",
           "SAGU"
          ],
          [
           "08-2019",
           "SAGU"
          ],
          [
           "09-2019",
           "SAGU"
          ],
          [
           "10-2019",
           "SAGU"
          ],
          [
           "11-2019",
           "SAGU"
          ],
          [
           "12-2019",
           "SAGU"
          ]
         ],
         "hoverlabel": {
          "namelength": 0
         },
         "hovertemplate": "Park Code=%{customdata[1]}<br>Temperature=%{x}<br>Visitor Count=%{marker.size}<br>Unit Time=%{customdata[0]}",
         "legendgroup": "SAGU",
         "marker": {
          "color": "#ab63fa",
          "size": [
           48968,
           149371,
           186275,
           117802,
           75838,
           49481,
           48553,
           51309,
           44812,
           64529,
           87053,
           96235
          ],
          "sizemode": "area",
          "sizeref": 4032.8325,
          "symbol": "circle"
         },
         "mode": "markers",
         "name": "SAGU",
         "showlegend": true,
         "type": "scatter",
         "x": [
          41.81,
          57.84,
          68.68,
          77.85,
          89.05,
          86.89,
          88.67,
          82.91,
          73.65,
          65.2,
          65.33,
          55.76
         ],
         "xaxis": "x",
         "y": [
          48968,
          149371,
          186275,
          117802,
          75838,
          49481,
          48553,
          51309,
          44812,
          64529,
          87053,
          96235
         ],
         "yaxis": "y"
        },
        {
         "customdata": [
          [
           "01-2019",
           "SHEN"
          ],
          [
           "01-2019",
           "SHEN"
          ],
          [
           "03-2019",
           "SHEN"
          ],
          [
           "04-2019",
           "SHEN"
          ],
          [
           "05-2019",
           "SHEN"
          ],
          [
           "06-2019",
           "SHEN"
          ],
          [
           "07-2019",
           "SHEN"
          ],
          [
           "08-2019",
           "SHEN"
          ],
          [
           "09-2019",
           "SHEN"
          ],
          [
           "10-2019",
           "SHEN"
          ],
          [
           "11-2019",
           "SHEN"
          ],
          [
           "12-2019",
           "SHEN"
          ]
         ],
         "hoverlabel": {
          "namelength": 0
         },
         "hovertemplate": "Park Code=%{customdata[1]}<br>Temperature=%{x}<br>Visitor Count=%{marker.size}<br>Unit Time=%{customdata[0]}",
         "legendgroup": "SHEN",
         "marker": {
          "color": "#FFA15A",
          "size": [
           20245,
           10264,
           38601,
           102672,
           150297,
           170492,
           167335,
           195579,
           176271,
           236554,
           127014,
           30183
          ],
          "sizemode": "area",
          "sizeref": 4032.8325,
          "symbol": "circle"
         },
         "mode": "markers",
         "name": "SHEN",
         "showlegend": true,
         "type": "scatter",
         "x": [
          52.78,
          14.13,
          30.83,
          52.92,
          65.95,
          70.05,
          74.13,
          68.03,
          62.01,
          53.2,
          39.54,
          36.48
         ],
         "xaxis": "x",
         "y": [
          20245,
          10264,
          38601,
          102672,
          150297,
          170492,
          167335,
          195579,
          176271,
          236554,
          127014,
          30183
         ],
         "yaxis": "y"
        },
        {
         "customdata": [
          [
           "01-2019",
           "THRO"
          ],
          [
           "01-2019",
           "THRO"
          ],
          [
           "03-2019",
           "THRO"
          ],
          [
           "04-2019",
           "THRO"
          ],
          [
           "05-2019",
           "THRO"
          ],
          [
           "06-2019",
           "THRO"
          ],
          [
           "07-2019",
           "THRO"
          ],
          [
           "08-2019",
           "THRO"
          ],
          [
           "09-2019",
           "THRO"
          ],
          [
           "10-2019",
           "THRO"
          ],
          [
           "11-2019",
           "THRO"
          ],
          [
           "12-2019",
           "THRO"
          ]
         ],
         "hoverlabel": {
          "namelength": 0
         },
         "hovertemplate": "Park Code=%{customdata[1]}<br>Temperature=%{x}<br>Visitor Count=%{marker.size}<br>Unit Time=%{customdata[0]}",
         "legendgroup": "THRO",
         "marker": {
          "color": "#19d3f3",
          "size": [
           2515,
           1187,
           5935,
           10516,
           75682,
           134590,
           149425,
           135584,
           110576,
           46043,
           17086,
           2519
          ],
          "sizemode": "area",
          "sizeref": 4032.8325,
          "symbol": "circle"
         },
         "mode": "markers",
         "name": "THRO",
         "showlegend": true,
         "type": "scatter",
         "x": [
          -9.15,
          24.72,
          -3.95,
          51.63,
          49.9,
          75.32,
          68.67,
          63.28,
          55.74,
          42.8,
          25.52,
          30.43
         ],
         "xaxis": "x",
         "y": [
          2515,
          1187,
          5935,
          10516,
          75682,
          134590,
          149425,
          135584,
          110576,
          46043,
          17086,
          2519
         ],
         "yaxis": "y"
        },
        {
         "customdata": [
          [
           "01-2019",
           "VIIS"
          ],
          [
           "01-2019",
           "VIIS"
          ],
          [
           "03-2019",
           "VIIS"
          ],
          [
           "04-2019",
           "VIIS"
          ],
          [
           "05-2019",
           "VIIS"
          ],
          [
           "06-2019",
           "VIIS"
          ],
          [
           "07-2019",
           "VIIS"
          ],
          [
           "08-2019",
           "VIIS"
          ],
          [
           "09-2019",
           "VIIS"
          ],
          [
           "10-2019",
           "VIIS"
          ],
          [
           "11-2019",
           "VIIS"
          ],
          [
           "12-2019",
           "VIIS"
          ]
         ],
         "hoverlabel": {
          "namelength": 0
         },
         "hovertemplate": "Park Code=%{customdata[1]}<br>Temperature=%{x}<br>Visitor Count=%{marker.size}<br>Unit Time=%{customdata[0]}",
         "legendgroup": "VIIS",
         "marker": {
          "color": "#FF6692",
          "size": [
           350,
           5753,
           5583,
           13680,
           10437,
           10047,
           8191,
           18599,
           7376,
           13496,
           16768,
           23118
          ],
          "sizemode": "area",
          "sizeref": 4032.8325,
          "symbol": "circle"
         },
         "mode": "markers",
         "name": "VIIS",
         "showlegend": true,
         "type": "scatter",
         "x": [
          73.88,
          73.5,
          74.64,
          76.21,
          77.9,
          81.46,
          82.51,
          81.48,
          79.68,
          78.62,
          78.1,
          77.05
         ],
         "xaxis": "x",
         "y": [
          350,
          5753,
          5583,
          13680,
          10437,
          10047,
          8191,
          18599,
          7376,
          13496,
          16768,
          23118
         ],
         "yaxis": "y"
        },
        {
         "customdata": [
          [
           "01-2019",
           "VOYA"
          ],
          [
           "01-2019",
           "VOYA"
          ],
          [
           "03-2019",
           "VOYA"
          ],
          [
           "04-2019",
           "VOYA"
          ],
          [
           "05-2019",
           "VOYA"
          ],
          [
           "06-2019",
           "VOYA"
          ],
          [
           "07-2019",
           "VOYA"
          ],
          [
           "08-2019",
           "VOYA"
          ],
          [
           "09-2019",
           "VOYA"
          ],
          [
           "10-2019",
           "VOYA"
          ],
          [
           "11-2019",
           "VOYA"
          ],
          [
           "12-2019",
           "VOYA"
          ]
         ],
         "hoverlabel": {
          "namelength": 0
         },
         "hovertemplate": "Park Code=%{customdata[1]}<br>Temperature=%{x}<br>Visitor Count=%{marker.size}<br>Unit Time=%{customdata[0]}",
         "legendgroup": "VOYA",
         "marker": {
          "color": "#B6E880",
          "size": [
           4458,
           7602,
           3214,
           213,
           28198,
           47387,
           52031,
           50586,
           25517,
           11047,
           2472,
           249
          ],
          "sizemode": "area",
          "sizeref": 4032.8325,
          "symbol": "circle"
         },
         "mode": "markers",
         "name": "VOYA",
         "showlegend": true,
         "type": "scatter",
         "x": [
          -11.19,
          -15.93,
          -4.34,
          31.97,
          53.35,
          73.84,
          74.26,
          64.01,
          49.4,
          42.69,
          17.6,
          16.3
         ],
         "xaxis": "x",
         "y": [
          4458,
          7602,
          3214,
          213,
          28198,
          47387,
          52031,
          50586,
          25517,
          11047,
          2472,
          249
         ],
         "yaxis": "y"
        },
        {
         "customdata": [
          [
           "01-2019",
           "WHSA"
          ],
          [
           "01-2019",
           "WHSA"
          ],
          [
           "03-2019",
           "WHSA"
          ],
          [
           "04-2019",
           "WHSA"
          ],
          [
           "05-2019",
           "WHSA"
          ],
          [
           "06-2019",
           "WHSA"
          ],
          [
           "07-2019",
           "WHSA"
          ],
          [
           "08-2019",
           "WHSA"
          ],
          [
           "09-2019",
           "WHSA"
          ],
          [
           "10-2019",
           "WHSA"
          ],
          [
           "11-2019",
           "WHSA"
          ],
          [
           "12-2019",
           "WHSA"
          ]
         ],
         "hoverlabel": {
          "namelength": 0
         },
         "hovertemplate": "Park Code=%{customdata[1]}<br>Temperature=%{x}<br>Visitor Count=%{marker.size}<br>Unit Time=%{customdata[0]}",
         "legendgroup": "WHSA",
         "marker": {
          "color": "#FF97FF",
          "size": [
           4693,
           35531,
           83712,
           62811,
           64344,
           62127,
           66363,
           48510,
           43009,
           50053,
           38575,
           49057
          ],
          "sizemode": "area",
          "sizeref": 4032.8325,
          "symbol": "circle"
         },
         "mode": "markers",
         "name": "WHSA",
         "showlegend": true,
         "type": "scatter",
         "x": [
          33.8,
          46.86,
          69.17,
          77.06,
          86.27,
          84.5,
          87.97,
          76.62,
          66.67,
          59.64,
          56.22,
          44.37
         ],
         "xaxis": "x",
         "y": [
          4693,
          35531,
          83712,
          62811,
          64344,
          62127,
          66363,
          48510,
          43009,
          50053,
          38575,
          49057
         ],
         "yaxis": "y"
        },
        {
         "customdata": [
          [
           "01-2019",
           "WICA"
          ],
          [
           "01-2019",
           "WICA"
          ],
          [
           "03-2019",
           "WICA"
          ],
          [
           "04-2019",
           "WICA"
          ],
          [
           "05-2019",
           "WICA"
          ],
          [
           "06-2019",
           "WICA"
          ],
          [
           "07-2019",
           "WICA"
          ],
          [
           "08-2019",
           "WICA"
          ],
          [
           "09-2019",
           "WICA"
          ],
          [
           "10-2019",
           "WICA"
          ],
          [
           "11-2019",
           "WICA"
          ],
          [
           "12-2019",
           "WICA"
          ]
         ],
         "hoverlabel": {
          "namelength": 0
         },
         "hovertemplate": "Park Code=%{customdata[1]}<br>Temperature=%{x}<br>Visitor Count=%{marker.size}<br>Unit Time=%{customdata[0]}",
         "legendgroup": "WICA",
         "marker": {
          "color": "#FECB52",
          "size": [
           11431,
           14127,
           21375,
           54922,
           48780,
           125106,
           146531,
           92237,
           55196,
           23537,
           10950,
           11158
          ],
          "sizemode": "area",
          "sizeref": 4032.8325,
          "symbol": "circle"
         },
         "mode": "markers",
         "name": "WICA",
         "showlegend": true,
         "type": "scatter",
         "x": [
          6.19,
          34.55,
          0.13,
          40.32,
          67.43,
          75.37,
          66.57,
          73.46,
          67.9,
          40.54,
          32.88,
          36.6
         ],
         "xaxis": "x",
         "y": [
          11431,
          14127,
          21375,
          54922,
          48780,
          125106,
          146531,
          92237,
          55196,
          23537,
          10950,
          11158
         ],
         "yaxis": "y"
        },
        {
         "customdata": [
          [
           "01-2019",
           "YELL"
          ],
          [
           "01-2019",
           "YELL"
          ],
          [
           "03-2019",
           "YELL"
          ],
          [
           "04-2019",
           "YELL"
          ],
          [
           "05-2019",
           "YELL"
          ],
          [
           "06-2019",
           "YELL"
          ],
          [
           "07-2019",
           "YELL"
          ],
          [
           "08-2019",
           "YELL"
          ],
          [
           "09-2019",
           "YELL"
          ],
          [
           "10-2019",
           "YELL"
          ],
          [
           "11-2019",
           "YELL"
          ],
          [
           "12-2019",
           "YELL"
          ]
         ],
         "hoverlabel": {
          "namelength": 0
         },
         "hovertemplate": "Park Code=%{customdata[1]}<br>Temperature=%{x}<br>Visitor Count=%{marker.size}<br>Unit Time=%{customdata[0]}",
         "legendgroup": "YELL",
         "marker": {
          "color": "#636efa",
          "size": [
           33896,
           31650,
           28695,
           48150,
           434385,
           781853,
           936062,
           820006,
           693118,
           171339,
           15628,
           25506
          ],
          "sizemode": "area",
          "sizeref": 4032.8325,
          "symbol": "circle"
         },
         "mode": "markers",
         "name": "YELL",
         "showlegend": true,
         "type": "scatter",
         "x": [
          -13.53,
          19.76,
          7.4,
          37.61,
          47.92,
          61.74,
          52.7,
          53.35,
          47.52,
          22.08,
          26.61,
          22.42
         ],
         "xaxis": "x",
         "y": [
          33896,
          31650,
          28695,
          48150,
          434385,
          781853,
          936062,
          820006,
          693118,
          171339,
          15628,
          25506
         ],
         "yaxis": "y"
        },
        {
         "customdata": [
          [
           "01-2019",
           "YOSE"
          ],
          [
           "01-2019",
           "YOSE"
          ],
          [
           "03-2019",
           "YOSE"
          ],
          [
           "04-2019",
           "YOSE"
          ],
          [
           "05-2019",
           "YOSE"
          ],
          [
           "06-2019",
           "YOSE"
          ],
          [
           "07-2019",
           "YOSE"
          ],
          [
           "08-2019",
           "YOSE"
          ],
          [
           "09-2019",
           "YOSE"
          ],
          [
           "10-2019",
           "YOSE"
          ],
          [
           "11-2019",
           "YOSE"
          ],
          [
           "12-2019",
           "YOSE"
          ]
         ],
         "hoverlabel": {
          "namelength": 0
         },
         "hovertemplate": "Park Code=%{customdata[1]}<br>Temperature=%{x}<br>Visitor Count=%{marker.size}<br>Unit Time=%{customdata[0]}",
         "legendgroup": "YOSE",
         "marker": {
          "color": "#EF553B",
          "size": [
           116746,
           111665,
           173610,
           297207,
           393004,
           496625,
           717462,
           703153,
           584664,
           448939,
           230598,
           149188
          ],
          "sizemode": "area",
          "sizeref": 4032.8325,
          "symbol": "circle"
         },
         "mode": "markers",
         "name": "YOSE",
         "showlegend": true,
         "type": "scatter",
         "x": [
          11.69,
          30.27,
          27.38,
          39.63,
          49.81,
          62.1,
          56.03,
          54.13,
          53.47,
          43.04,
          40.05,
          27.88
         ],
         "xaxis": "x",
         "y": [
          116746,
          111665,
          173610,
          297207,
          393004,
          496625,
          717462,
          703153,
          584664,
          448939,
          230598,
          149188
         ],
         "yaxis": "y"
        },
        {
         "customdata": [
          [
           "01-2019",
           "ZION"
          ],
          [
           "01-2019",
           "ZION"
          ],
          [
           "03-2019",
           "ZION"
          ],
          [
           "04-2019",
           "ZION"
          ],
          [
           "05-2019",
           "ZION"
          ],
          [
           "06-2019",
           "ZION"
          ],
          [
           "07-2019",
           "ZION"
          ],
          [
           "08-2019",
           "ZION"
          ],
          [
           "09-2019",
           "ZION"
          ],
          [
           "10-2019",
           "ZION"
          ],
          [
           "11-2019",
           "ZION"
          ],
          [
           "12-2019",
           "ZION"
          ]
         ],
         "hoverlabel": {
          "namelength": 0
         },
         "hovertemplate": "Park Code=%{customdata[1]}<br>Temperature=%{x}<br>Visitor Count=%{marker.size}<br>Unit Time=%{customdata[0]}",
         "legendgroup": "ZION",
         "marker": {
          "color": "#00cc96",
          "size": [
           98828,
           102269,
           296316,
           372349,
           529553,
           594896,
           629802,
           535322,
           497443,
           429604,
           230180,
           171706
          ],
          "sizemode": "area",
          "sizeref": 4032.8325,
          "symbol": "circle"
         },
         "mode": "markers",
         "name": "ZION",
         "showlegend": true,
         "type": "scatter",
         "x": [
          14.88,
          34.57,
          39.89,
          54.48,
          68.08,
          71.28,
          70.95,
          69.45,
          64.77,
          45.97,
          42.49,
          36.3
         ],
         "xaxis": "x",
         "y": [
          98828,
          102269,
          296316,
          372349,
          529553,
          594896,
          629802,
          535322,
          497443,
          429604,
          230180,
          171706
         ],
         "yaxis": "y"
        }
       ],
       "layout": {
        "legend": {
         "itemsizing": "constant",
         "title": {
          "text": "Park Code"
         },
         "tracegroupgap": 0
        },
        "margin": {
         "t": 60
        },
        "template": {
         "data": {
          "bar": [
           {
            "error_x": {
             "color": "#2a3f5f"
            },
            "error_y": {
             "color": "#2a3f5f"
            },
            "marker": {
             "line": {
              "color": "#E5ECF6",
              "width": 0.5
             }
            },
            "type": "bar"
           }
          ],
          "barpolar": [
           {
            "marker": {
             "line": {
              "color": "#E5ECF6",
              "width": 0.5
             }
            },
            "type": "barpolar"
           }
          ],
          "carpet": [
           {
            "aaxis": {
             "endlinecolor": "#2a3f5f",
             "gridcolor": "white",
             "linecolor": "white",
             "minorgridcolor": "white",
             "startlinecolor": "#2a3f5f"
            },
            "baxis": {
             "endlinecolor": "#2a3f5f",
             "gridcolor": "white",
             "linecolor": "white",
             "minorgridcolor": "white",
             "startlinecolor": "#2a3f5f"
            },
            "type": "carpet"
           }
          ],
          "choropleth": [
           {
            "colorbar": {
             "outlinewidth": 0,
             "ticks": ""
            },
            "type": "choropleth"
           }
          ],
          "contour": [
           {
            "colorbar": {
             "outlinewidth": 0,
             "ticks": ""
            },
            "colorscale": [
             [
              0,
              "#0d0887"
             ],
             [
              0.1111111111111111,
              "#46039f"
             ],
             [
              0.2222222222222222,
              "#7201a8"
             ],
             [
              0.3333333333333333,
              "#9c179e"
             ],
             [
              0.4444444444444444,
              "#bd3786"
             ],
             [
              0.5555555555555556,
              "#d8576b"
             ],
             [
              0.6666666666666666,
              "#ed7953"
             ],
             [
              0.7777777777777778,
              "#fb9f3a"
             ],
             [
              0.8888888888888888,
              "#fdca26"
             ],
             [
              1,
              "#f0f921"
             ]
            ],
            "type": "contour"
           }
          ],
          "contourcarpet": [
           {
            "colorbar": {
             "outlinewidth": 0,
             "ticks": ""
            },
            "type": "contourcarpet"
           }
          ],
          "heatmap": [
           {
            "colorbar": {
             "outlinewidth": 0,
             "ticks": ""
            },
            "colorscale": [
             [
              0,
              "#0d0887"
             ],
             [
              0.1111111111111111,
              "#46039f"
             ],
             [
              0.2222222222222222,
              "#7201a8"
             ],
             [
              0.3333333333333333,
              "#9c179e"
             ],
             [
              0.4444444444444444,
              "#bd3786"
             ],
             [
              0.5555555555555556,
              "#d8576b"
             ],
             [
              0.6666666666666666,
              "#ed7953"
             ],
             [
              0.7777777777777778,
              "#fb9f3a"
             ],
             [
              0.8888888888888888,
              "#fdca26"
             ],
             [
              1,
              "#f0f921"
             ]
            ],
            "type": "heatmap"
           }
          ],
          "heatmapgl": [
           {
            "colorbar": {
             "outlinewidth": 0,
             "ticks": ""
            },
            "colorscale": [
             [
              0,
              "#0d0887"
             ],
             [
              0.1111111111111111,
              "#46039f"
             ],
             [
              0.2222222222222222,
              "#7201a8"
             ],
             [
              0.3333333333333333,
              "#9c179e"
             ],
             [
              0.4444444444444444,
              "#bd3786"
             ],
             [
              0.5555555555555556,
              "#d8576b"
             ],
             [
              0.6666666666666666,
              "#ed7953"
             ],
             [
              0.7777777777777778,
              "#fb9f3a"
             ],
             [
              0.8888888888888888,
              "#fdca26"
             ],
             [
              1,
              "#f0f921"
             ]
            ],
            "type": "heatmapgl"
           }
          ],
          "histogram": [
           {
            "marker": {
             "colorbar": {
              "outlinewidth": 0,
              "ticks": ""
             }
            },
            "type": "histogram"
           }
          ],
          "histogram2d": [
           {
            "colorbar": {
             "outlinewidth": 0,
             "ticks": ""
            },
            "colorscale": [
             [
              0,
              "#0d0887"
             ],
             [
              0.1111111111111111,
              "#46039f"
             ],
             [
              0.2222222222222222,
              "#7201a8"
             ],
             [
              0.3333333333333333,
              "#9c179e"
             ],
             [
              0.4444444444444444,
              "#bd3786"
             ],
             [
              0.5555555555555556,
              "#d8576b"
             ],
             [
              0.6666666666666666,
              "#ed7953"
             ],
             [
              0.7777777777777778,
              "#fb9f3a"
             ],
             [
              0.8888888888888888,
              "#fdca26"
             ],
             [
              1,
              "#f0f921"
             ]
            ],
            "type": "histogram2d"
           }
          ],
          "histogram2dcontour": [
           {
            "colorbar": {
             "outlinewidth": 0,
             "ticks": ""
            },
            "colorscale": [
             [
              0,
              "#0d0887"
             ],
             [
              0.1111111111111111,
              "#46039f"
             ],
             [
              0.2222222222222222,
              "#7201a8"
             ],
             [
              0.3333333333333333,
              "#9c179e"
             ],
             [
              0.4444444444444444,
              "#bd3786"
             ],
             [
              0.5555555555555556,
              "#d8576b"
             ],
             [
              0.6666666666666666,
              "#ed7953"
             ],
             [
              0.7777777777777778,
              "#fb9f3a"
             ],
             [
              0.8888888888888888,
              "#fdca26"
             ],
             [
              1,
              "#f0f921"
             ]
            ],
            "type": "histogram2dcontour"
           }
          ],
          "mesh3d": [
           {
            "colorbar": {
             "outlinewidth": 0,
             "ticks": ""
            },
            "type": "mesh3d"
           }
          ],
          "parcoords": [
           {
            "line": {
             "colorbar": {
              "outlinewidth": 0,
              "ticks": ""
             }
            },
            "type": "parcoords"
           }
          ],
          "pie": [
           {
            "automargin": true,
            "type": "pie"
           }
          ],
          "scatter": [
           {
            "marker": {
             "colorbar": {
              "outlinewidth": 0,
              "ticks": ""
             }
            },
            "type": "scatter"
           }
          ],
          "scatter3d": [
           {
            "line": {
             "colorbar": {
              "outlinewidth": 0,
              "ticks": ""
             }
            },
            "marker": {
             "colorbar": {
              "outlinewidth": 0,
              "ticks": ""
             }
            },
            "type": "scatter3d"
           }
          ],
          "scattercarpet": [
           {
            "marker": {
             "colorbar": {
              "outlinewidth": 0,
              "ticks": ""
             }
            },
            "type": "scattercarpet"
           }
          ],
          "scattergeo": [
           {
            "marker": {
             "colorbar": {
              "outlinewidth": 0,
              "ticks": ""
             }
            },
            "type": "scattergeo"
           }
          ],
          "scattergl": [
           {
            "marker": {
             "colorbar": {
              "outlinewidth": 0,
              "ticks": ""
             }
            },
            "type": "scattergl"
           }
          ],
          "scattermapbox": [
           {
            "marker": {
             "colorbar": {
              "outlinewidth": 0,
              "ticks": ""
             }
            },
            "type": "scattermapbox"
           }
          ],
          "scatterpolar": [
           {
            "marker": {
             "colorbar": {
              "outlinewidth": 0,
              "ticks": ""
             }
            },
            "type": "scatterpolar"
           }
          ],
          "scatterpolargl": [
           {
            "marker": {
             "colorbar": {
              "outlinewidth": 0,
              "ticks": ""
             }
            },
            "type": "scatterpolargl"
           }
          ],
          "scatterternary": [
           {
            "marker": {
             "colorbar": {
              "outlinewidth": 0,
              "ticks": ""
             }
            },
            "type": "scatterternary"
           }
          ],
          "surface": [
           {
            "colorbar": {
             "outlinewidth": 0,
             "ticks": ""
            },
            "colorscale": [
             [
              0,
              "#0d0887"
             ],
             [
              0.1111111111111111,
              "#46039f"
             ],
             [
              0.2222222222222222,
              "#7201a8"
             ],
             [
              0.3333333333333333,
              "#9c179e"
             ],
             [
              0.4444444444444444,
              "#bd3786"
             ],
             [
              0.5555555555555556,
              "#d8576b"
             ],
             [
              0.6666666666666666,
              "#ed7953"
             ],
             [
              0.7777777777777778,
              "#fb9f3a"
             ],
             [
              0.8888888888888888,
              "#fdca26"
             ],
             [
              1,
              "#f0f921"
             ]
            ],
            "type": "surface"
           }
          ],
          "table": [
           {
            "cells": {
             "fill": {
              "color": "#EBF0F8"
             },
             "line": {
              "color": "white"
             }
            },
            "header": {
             "fill": {
              "color": "#C8D4E3"
             },
             "line": {
              "color": "white"
             }
            },
            "type": "table"
           }
          ]
         },
         "layout": {
          "annotationdefaults": {
           "arrowcolor": "#2a3f5f",
           "arrowhead": 0,
           "arrowwidth": 1
          },
          "coloraxis": {
           "colorbar": {
            "outlinewidth": 0,
            "ticks": ""
           }
          },
          "colorscale": {
           "diverging": [
            [
             0,
             "#8e0152"
            ],
            [
             0.1,
             "#c51b7d"
            ],
            [
             0.2,
             "#de77ae"
            ],
            [
             0.3,
             "#f1b6da"
            ],
            [
             0.4,
             "#fde0ef"
            ],
            [
             0.5,
             "#f7f7f7"
            ],
            [
             0.6,
             "#e6f5d0"
            ],
            [
             0.7,
             "#b8e186"
            ],
            [
             0.8,
             "#7fbc41"
            ],
            [
             0.9,
             "#4d9221"
            ],
            [
             1,
             "#276419"
            ]
           ],
           "sequential": [
            [
             0,
             "#0d0887"
            ],
            [
             0.1111111111111111,
             "#46039f"
            ],
            [
             0.2222222222222222,
             "#7201a8"
            ],
            [
             0.3333333333333333,
             "#9c179e"
            ],
            [
             0.4444444444444444,
             "#bd3786"
            ],
            [
             0.5555555555555556,
             "#d8576b"
            ],
            [
             0.6666666666666666,
             "#ed7953"
            ],
            [
             0.7777777777777778,
             "#fb9f3a"
            ],
            [
             0.8888888888888888,
             "#fdca26"
            ],
            [
             1,
             "#f0f921"
            ]
           ],
           "sequentialminus": [
            [
             0,
             "#0d0887"
            ],
            [
             0.1111111111111111,
             "#46039f"
            ],
            [
             0.2222222222222222,
             "#7201a8"
            ],
            [
             0.3333333333333333,
             "#9c179e"
            ],
            [
             0.4444444444444444,
             "#bd3786"
            ],
            [
             0.5555555555555556,
             "#d8576b"
            ],
            [
             0.6666666666666666,
             "#ed7953"
            ],
            [
             0.7777777777777778,
             "#fb9f3a"
            ],
            [
             0.8888888888888888,
             "#fdca26"
            ],
            [
             1,
             "#f0f921"
            ]
           ]
          },
          "colorway": [
           "#636efa",
           "#EF553B",
           "#00cc96",
           "#ab63fa",
           "#FFA15A",
           "#19d3f3",
           "#FF6692",
           "#B6E880",
           "#FF97FF",
           "#FECB52"
          ],
          "font": {
           "color": "#2a3f5f"
          },
          "geo": {
           "bgcolor": "white",
           "lakecolor": "white",
           "landcolor": "#E5ECF6",
           "showlakes": true,
           "showland": true,
           "subunitcolor": "white"
          },
          "hoverlabel": {
           "align": "left"
          },
          "hovermode": "closest",
          "mapbox": {
           "style": "light"
          },
          "paper_bgcolor": "white",
          "plot_bgcolor": "#E5ECF6",
          "polar": {
           "angularaxis": {
            "gridcolor": "white",
            "linecolor": "white",
            "ticks": ""
           },
           "bgcolor": "#E5ECF6",
           "radialaxis": {
            "gridcolor": "white",
            "linecolor": "white",
            "ticks": ""
           }
          },
          "scene": {
           "xaxis": {
            "backgroundcolor": "#E5ECF6",
            "gridcolor": "white",
            "gridwidth": 2,
            "linecolor": "white",
            "showbackground": true,
            "ticks": "",
            "zerolinecolor": "white"
           },
           "yaxis": {
            "backgroundcolor": "#E5ECF6",
            "gridcolor": "white",
            "gridwidth": 2,
            "linecolor": "white",
            "showbackground": true,
            "ticks": "",
            "zerolinecolor": "white"
           },
           "zaxis": {
            "backgroundcolor": "#E5ECF6",
            "gridcolor": "white",
            "gridwidth": 2,
            "linecolor": "white",
            "showbackground": true,
            "ticks": "",
            "zerolinecolor": "white"
           }
          },
          "shapedefaults": {
           "line": {
            "color": "#2a3f5f"
           }
          },
          "ternary": {
           "aaxis": {
            "gridcolor": "white",
            "linecolor": "white",
            "ticks": ""
           },
           "baxis": {
            "gridcolor": "white",
            "linecolor": "white",
            "ticks": ""
           },
           "bgcolor": "#E5ECF6",
           "caxis": {
            "gridcolor": "white",
            "linecolor": "white",
            "ticks": ""
           }
          },
          "title": {
           "x": 0.05
          },
          "xaxis": {
           "automargin": true,
           "gridcolor": "white",
           "linecolor": "white",
           "ticks": "",
           "title": {
            "standoff": 15
           },
           "zerolinecolor": "white",
           "zerolinewidth": 2
          },
          "yaxis": {
           "automargin": true,
           "gridcolor": "white",
           "linecolor": "white",
           "ticks": "",
           "title": {
            "standoff": 15
           },
           "zerolinecolor": "white",
           "zerolinewidth": 2
          }
         }
        },
        "xaxis": {
         "anchor": "y",
         "domain": [
          0,
          1
         ],
         "title": {
          "text": "Temperature"
         }
        },
        "yaxis": {
         "anchor": "x",
         "domain": [
          0,
          1
         ],
         "title": {
          "text": "Visitor Count"
         }
        }
       }
      },
      "text/html": [
       "<div>\n",
       "        \n",
       "        \n",
       "            <div id=\"5ee8727b-6973-422b-97e2-f4acf5499afb\" class=\"plotly-graph-div\" style=\"height:525px; width:100%;\"></div>\n",
       "            <script type=\"text/javascript\">\n",
       "                require([\"plotly\"], function(Plotly) {\n",
       "                    window.PLOTLYENV=window.PLOTLYENV || {};\n",
       "                    \n",
       "                if (document.getElementById(\"5ee8727b-6973-422b-97e2-f4acf5499afb\")) {\n",
       "                    Plotly.newPlot(\n",
       "                        '5ee8727b-6973-422b-97e2-f4acf5499afb',\n",
       "                        [{\"customdata\": [[\"01-2019\", \"ACAD\"], [\"01-2019\", \"ACAD\"], [\"03-2019\", \"ACAD\"], [\"04-2019\", \"ACAD\"], [\"05-2019\", \"ACAD\"], [\"06-2019\", \"ACAD\"], [\"07-2019\", \"ACAD\"], [\"08-2019\", \"ACAD\"], [\"09-2019\", \"ACAD\"], [\"10-2019\", \"ACAD\"], [\"11-2019\", \"ACAD\"], [\"12-2019\", \"ACAD\"]], \"hoverlabel\": {\"namelength\": 0}, \"hovertemplate\": \"Park Code=%{customdata[1]}<br>Temperature=%{x}<br>Visitor Count=%{marker.size}<br>Unit Time=%{customdata[0]}\", \"legendgroup\": \"ACAD\", \"marker\": {\"color\": \"#636efa\", \"size\": [8532, 9154, 20161, 68046, 226156, 490720, 756439, 759735, 603273, 436194, 46011, 12865], \"sizemode\": \"area\", \"sizeref\": 4032.8325, \"symbol\": \"circle\"}, \"mode\": \"markers\", \"name\": \"ACAD\", \"showlegend\": true, \"type\": \"scatter\", \"x\": [36.12, 15.64, 32.94, 41.46, 49.43, 56.86, 69.7, 63.17, 54.04, 45.08, 48.58, 28.36], \"xaxis\": \"x\", \"y\": [8532, 9154, 20161, 68046, 226156, 490720, 756439, 759735, 603273, 436194, 46011, 12865], \"yaxis\": \"y\"}, {\"customdata\": [[\"01-2019\", \"ARCH\"], [\"01-2019\", \"ARCH\"], [\"03-2019\", \"ARCH\"], [\"04-2019\", \"ARCH\"], [\"05-2019\", \"ARCH\"], [\"06-2019\", \"ARCH\"], [\"07-2019\", \"ARCH\"], [\"08-2019\", \"ARCH\"], [\"09-2019\", \"ARCH\"], [\"10-2019\", \"ARCH\"], [\"11-2019\", \"ARCH\"], [\"12-2019\", \"ARCH\"]], \"hoverlabel\": {\"namelength\": 0}, \"hovertemplate\": \"Park Code=%{customdata[1]}<br>Temperature=%{x}<br>Visitor Count=%{marker.size}<br>Unit Time=%{customdata[0]}\", \"legendgroup\": \"ARCH\", \"marker\": {\"color\": \"#EF553B\", \"size\": [21499, 30239, 132191, 168788, 217474, 225206, 208993, 184890, 207857, 149764, 73420, 39381], \"sizemode\": \"area\", \"sizeref\": 4032.8325, \"symbol\": \"circle\"}, \"mode\": \"markers\", \"name\": \"ARCH\", \"showlegend\": true, \"type\": \"scatter\", \"x\": [16.41, 28.32, 46.63, 63.44, 73.25, 79.25, 78.84, 68.63, 68.4, 43.93, 37.28, 35.17], \"xaxis\": \"x\", \"y\": [21499, 30239, 132191, 168788, 217474, 225206, 208993, 184890, 207857, 149764, 73420, 39381], \"yaxis\": \"y\"}, {\"customdata\": [[\"01-2019\", \"BADL\"], [\"01-2019\", \"BADL\"], [\"03-2019\", \"BADL\"], [\"04-2019\", \"BADL\"], [\"05-2019\", \"BADL\"], [\"06-2019\", \"BADL\"], [\"07-2019\", \"BADL\"], [\"08-2019\", \"BADL\"], [\"09-2019\", \"BADL\"], [\"10-2019\", \"BADL\"], [\"11-2019\", \"BADL\"], [\"12-2019\", \"BADL\"]], \"hoverlabel\": {\"namelength\": 0}, \"hovertemplate\": \"Park Code=%{customdata[1]}<br>Temperature=%{x}<br>Visitor Count=%{marker.size}<br>Unit Time=%{customdata[0]}\", \"legendgroup\": \"BADL\", \"marker\": {\"color\": \"#00cc96\", \"size\": [8981, 8059, 16517, 25083, 71885, 201516, 250898, 207743, 118262, 37727, 15450, 8877], \"sizemode\": \"area\", \"sizeref\": 4032.8325, \"symbol\": \"circle\"}, \"mode\": \"markers\", \"name\": \"BADL\", \"showlegend\": true, \"type\": \"scatter\", \"x\": [4.04, 29.54, -1.66, 44.06, 71.76, 78.97, 69.31, 71.64, 64.7, 44.81, 32.15, 30.36], \"xaxis\": \"x\", \"y\": [8981, 8059, 16517, 25083, 71885, 201516, 250898, 207743, 118262, 37727, 15450, 8877], \"yaxis\": \"y\"}, {\"customdata\": [[\"01-2019\", \"BIBE\"], [\"01-2019\", \"BIBE\"], [\"03-2019\", \"BIBE\"], [\"04-2019\", \"BIBE\"], [\"05-2019\", \"BIBE\"], [\"06-2019\", \"BIBE\"], [\"07-2019\", \"BIBE\"], [\"08-2019\", \"BIBE\"], [\"09-2019\", \"BIBE\"], [\"10-2019\", \"BIBE\"], [\"11-2019\", \"BIBE\"], [\"12-2019\", \"BIBE\"]], \"hoverlabel\": {\"namelength\": 0}, \"hovertemplate\": \"Park Code=%{customdata[1]}<br>Temperature=%{x}<br>Visitor Count=%{marker.size}<br>Unit Time=%{customdata[0]}\", \"legendgroup\": \"BIBE\", \"marker\": {\"color\": \"#ab63fa\", \"size\": [29318, 43129, 83826, 49312, 37411, 21228, 21747, 17238, 21246, 42724, 50688, 45965], \"sizemode\": \"area\", \"sizeref\": 4032.8325, \"symbol\": \"circle\"}, \"mode\": \"markers\", \"name\": \"BIBE\", \"showlegend\": true, \"type\": \"scatter\", \"x\": [38.65, 50.91, 53.51, 81.49, 81.08, 75.48, 77.75, 73.43, 65.78, 68.24, 59.52, 51.29], \"xaxis\": \"x\", \"y\": [29318, 43129, 83826, 49312, 37411, 21228, 21747, 17238, 21246, 42724, 50688, 45965], \"yaxis\": \"y\"}, {\"customdata\": [[\"01-2019\", \"BISC\"], [\"01-2019\", \"BISC\"], [\"03-2019\", \"BISC\"], [\"04-2019\", \"BISC\"], [\"05-2019\", \"BISC\"], [\"06-2019\", \"BISC\"], [\"07-2019\", \"BISC\"], [\"08-2019\", \"BISC\"], [\"09-2019\", \"BISC\"], [\"10-2019\", \"BISC\"], [\"11-2019\", \"BISC\"], [\"12-2019\", \"BISC\"]], \"hoverlabel\": {\"namelength\": 0}, \"hovertemplate\": \"Park Code=%{customdata[1]}<br>Temperature=%{x}<br>Visitor Count=%{marker.size}<br>Unit Time=%{customdata[0]}\", \"legendgroup\": \"BISC\", \"marker\": {\"color\": \"#FFA15A\", \"size\": [50873, 59754, 76685, 64172, 79779, 65173, 60239, 46191, 46723, 38582, 59948, 60403], \"sizemode\": \"area\", \"sizeref\": 4032.8325, \"symbol\": \"circle\"}, \"mode\": \"markers\", \"name\": \"BISC\", \"showlegend\": true, \"type\": \"scatter\", \"x\": [75.37, 71.29, 77.27, 76.35, 83.44, 85.64, 88.16, 85.08, 82.65, 79.42, 78.94, 69.6], \"xaxis\": \"x\", \"y\": [50873, 59754, 76685, 64172, 79779, 65173, 60239, 46191, 46723, 38582, 59948, 60403], \"yaxis\": \"y\"}, {\"customdata\": [[\"01-2019\", \"BLCA\"], [\"01-2019\", \"BLCA\"], [\"03-2019\", \"BLCA\"], [\"04-2019\", \"BLCA\"], [\"05-2019\", \"BLCA\"], [\"06-2019\", \"BLCA\"], [\"07-2019\", \"BLCA\"], [\"08-2019\", \"BLCA\"], [\"09-2019\", \"BLCA\"], [\"10-2019\", \"BLCA\"], [\"11-2019\", \"BLCA\"], [\"12-2019\", \"BLCA\"]], \"hoverlabel\": {\"namelength\": 0}, \"hovertemplate\": \"Park Code=%{customdata[1]}<br>Temperature=%{x}<br>Visitor Count=%{marker.size}<br>Unit Time=%{customdata[0]}\", \"legendgroup\": \"BLCA\", \"marker\": {\"color\": \"#19d3f3\", \"size\": [4921, 6369, 12180, 25077, 75198, 75289, 51368, 80046, 48420, 25828, 22684, 5438], \"sizemode\": \"area\", \"sizeref\": 4032.8325, \"symbol\": \"circle\"}, \"mode\": \"markers\", \"name\": \"BLCA\", \"showlegend\": true, \"type\": \"scatter\", \"x\": [13.05, 24.55, 35.99, 46.82, 62.72, 72.81, 73.75, 61.06, 58.78, 38.97, 34.73, 29.9], \"xaxis\": \"x\", \"y\": [4921, 6369, 12180, 25077, 75198, 75289, 51368, 80046, 48420, 25828, 22684, 5438], \"yaxis\": \"y\"}, {\"customdata\": [[\"01-2019\", \"BRCA\"], [\"01-2019\", \"BRCA\"], [\"03-2019\", \"BRCA\"], [\"04-2019\", \"BRCA\"], [\"05-2019\", \"BRCA\"], [\"06-2019\", \"BRCA\"], [\"07-2019\", \"BRCA\"], [\"08-2019\", \"BRCA\"], [\"09-2019\", \"BRCA\"], [\"10-2019\", \"BRCA\"], [\"11-2019\", \"BRCA\"], [\"12-2019\", \"BRCA\"]], \"hoverlabel\": {\"namelength\": 0}, \"hovertemplate\": \"Park Code=%{customdata[1]}<br>Temperature=%{x}<br>Visitor Count=%{marker.size}<br>Unit Time=%{customdata[0]}\", \"legendgroup\": \"BRCA\", \"marker\": {\"color\": \"#FF6692\", \"size\": [36860, 29813, 75853, 207061, 327975, 398290, 401970, 383458, 392428, 232094, 65748, 43354], \"sizemode\": \"area\", \"sizeref\": 4032.8325, \"symbol\": \"circle\"}, \"mode\": \"markers\", \"name\": \"BRCA\", \"showlegend\": true, \"type\": \"scatter\", \"x\": [5.42, 24.73, 35.06, 48.53, 60.05, 66.23, 66.79, 62.57, 58.17, 40.43, 35.41, 30.8], \"xaxis\": \"x\", \"y\": [36860, 29813, 75853, 207061, 327975, 398290, 401970, 383458, 392428, 232094, 65748, 43354], \"yaxis\": \"y\"}, {\"customdata\": [[\"01-2019\", \"CANY\"], [\"01-2019\", \"CANY\"], [\"03-2019\", \"CANY\"], [\"04-2019\", \"CANY\"], [\"05-2019\", \"CANY\"], [\"06-2019\", \"CANY\"], [\"07-2019\", \"CANY\"], [\"08-2019\", \"CANY\"], [\"09-2019\", \"CANY\"], [\"10-2019\", \"CANY\"], [\"11-2019\", \"CANY\"], [\"12-2019\", \"CANY\"]], \"hoverlabel\": {\"namelength\": 0}, \"hovertemplate\": \"Park Code=%{customdata[1]}<br>Temperature=%{x}<br>Visitor Count=%{marker.size}<br>Unit Time=%{customdata[0]}\", \"legendgroup\": \"CANY\", \"marker\": {\"color\": \"#B6E880\", \"size\": [7146, 9705, 60792, 89861, 114464, 92295, 64672, 69297, 97817, 82642, 31582, 13723], \"sizemode\": \"area\", \"sizeref\": 4032.8325, \"symbol\": \"circle\"}, \"mode\": \"markers\", \"name\": \"CANY\", \"showlegend\": true, \"type\": \"scatter\", \"x\": [16.9, 30.67, 50.61, 65.94, 75.1, 80.74, 81.07, 68.08, 69.72, 44.24, 37.48, 35.88], \"xaxis\": \"x\", \"y\": [7146, 9705, 60792, 89861, 114464, 92295, 64672, 69297, 97817, 82642, 31582, 13723], \"yaxis\": \"y\"}, {\"customdata\": [[\"01-2019\", \"CARE\"], [\"01-2019\", \"CARE\"], [\"03-2019\", \"CARE\"], [\"04-2019\", \"CARE\"], [\"05-2019\", \"CARE\"], [\"06-2019\", \"CARE\"], [\"07-2019\", \"CARE\"], [\"08-2019\", \"CARE\"], [\"09-2019\", \"CARE\"], [\"10-2019\", \"CARE\"], [\"11-2019\", \"CARE\"], [\"12-2019\", \"CARE\"]], \"hoverlabel\": {\"namelength\": 0}, \"hovertemplate\": \"Park Code=%{customdata[1]}<br>Temperature=%{x}<br>Visitor Count=%{marker.size}<br>Unit Time=%{customdata[0]}\", \"legendgroup\": \"CARE\", \"marker\": {\"color\": \"#FF97FF\", \"size\": [11893, 12368, 73416, 147156, 196840, 151410, 129372, 127341, 170057, 146664, 42859, 17143], \"sizemode\": \"area\", \"sizeref\": 4032.8325, \"symbol\": \"circle\"}, \"mode\": \"markers\", \"name\": \"CARE\", \"showlegend\": true, \"type\": \"scatter\", \"x\": [18.32, 29.39, 46.87, 61.94, 69.43, 77.75, 79.51, 64.77, 70.0, 51.15, 45.04, 37.94], \"xaxis\": \"x\", \"y\": [11893, 12368, 73416, 147156, 196840, 151410, 129372, 127341, 170057, 146664, 42859, 17143], \"yaxis\": \"y\"}, {\"customdata\": [[\"01-2019\", \"CAVE\"], [\"01-2019\", \"CAVE\"], [\"03-2019\", \"CAVE\"], [\"04-2019\", \"CAVE\"], [\"05-2019\", \"CAVE\"], [\"06-2019\", \"CAVE\"], [\"07-2019\", \"CAVE\"], [\"08-2019\", \"CAVE\"], [\"09-2019\", \"CAVE\"], [\"10-2019\", \"CAVE\"], [\"11-2019\", \"CAVE\"], [\"12-2019\", \"CAVE\"]], \"hoverlabel\": {\"namelength\": 0}, \"hovertemplate\": \"Park Code=%{customdata[1]}<br>Temperature=%{x}<br>Visitor Count=%{marker.size}<br>Unit Time=%{customdata[0]}\", \"legendgroup\": \"CAVE\", \"marker\": {\"color\": \"#FECB52\", \"size\": [3093, 19470, 56581, 37543, 41516, 57111, 69444, 36354, 28455, 33014, 27519, 30591], \"sizemode\": \"area\", \"sizeref\": 4032.8325, \"symbol\": \"circle\"}, \"mode\": \"markers\", \"name\": \"CAVE\", \"showlegend\": true, \"type\": \"scatter\", \"x\": [35.31, 49.82, 36.51, 74.87, 77.29, 77.49, 85.21, 73.57, 65.39, 63.91, 54.81, 44.09], \"xaxis\": \"x\", \"y\": [3093, 19470, 56581, 37543, 41516, 57111, 69444, 36354, 28455, 33014, 27519, 30591], \"yaxis\": \"y\"}, {\"customdata\": [[\"01-2019\", \"CHIS\"], [\"01-2019\", \"CHIS\"], [\"03-2019\", \"CHIS\"], [\"04-2019\", \"CHIS\"], [\"05-2019\", \"CHIS\"], [\"06-2019\", \"CHIS\"], [\"07-2019\", \"CHIS\"], [\"08-2019\", \"CHIS\"], [\"09-2019\", \"CHIS\"], [\"10-2019\", \"CHIS\"], [\"11-2019\", \"CHIS\"], [\"12-2019\", \"CHIS\"]], \"hoverlabel\": {\"namelength\": 0}, \"hovertemplate\": \"Park Code=%{customdata[1]}<br>Temperature=%{x}<br>Visitor Count=%{marker.size}<br>Unit Time=%{customdata[0]}\", \"legendgroup\": \"CHIS\", \"marker\": {\"color\": \"#636efa\", \"size\": [9193, 22263, 34951, 39218, 39070, 44915, 47581, 49793, 38681, 36691, 25212, 22062], \"sizemode\": \"area\", \"sizeref\": 4032.8325, \"symbol\": \"circle\"}, \"mode\": \"markers\", \"name\": \"CHIS\", \"showlegend\": true, \"type\": \"scatter\", \"x\": [56.64, 57.44, 57.46, 60.63, 60.68, 59.35, 59.24, 60.33, 65.38, 61.08, 59.48, 59.09], \"xaxis\": \"x\", \"y\": [9193, 22263, 34951, 39218, 39070, 44915, 47581, 49793, 38681, 36691, 25212, 22062], \"yaxis\": \"y\"}, {\"customdata\": [[\"01-2019\", \"CONG\"], [\"01-2019\", \"CONG\"], [\"03-2019\", \"CONG\"], [\"04-2019\", \"CONG\"], [\"05-2019\", \"CONG\"], [\"06-2019\", \"CONG\"], [\"07-2019\", \"CONG\"], [\"08-2019\", \"CONG\"], [\"09-2019\", \"CONG\"], [\"10-2019\", \"CONG\"], [\"11-2019\", \"CONG\"], [\"12-2019\", \"CONG\"]], \"hoverlabel\": {\"namelength\": 0}, \"hovertemplate\": \"Park Code=%{customdata[1]}<br>Temperature=%{x}<br>Visitor Count=%{marker.size}<br>Unit Time=%{customdata[0]}\", \"legendgroup\": \"CONG\", \"marker\": {\"color\": \"#EF553B\", \"size\": [7000, 10910, 17121, 15408, 28786, 13282, 10936, 11028, 8312, 13902, 11765, 10995], \"sizemode\": \"area\", \"sizeref\": 4032.8325, \"symbol\": \"circle\"}, \"mode\": \"markers\", \"name\": \"CONG\", \"showlegend\": true, \"type\": \"scatter\", \"x\": [65.25, 33.7, 65.78, 66.57, 82.16, 87.26, 83.78, 76.92, 74.72, 63.76, 59.76, 49.8], \"xaxis\": \"x\", \"y\": [7000, 10910, 17121, 15408, 28786, 13282, 10936, 11028, 8312, 13902, 11765, 10995], \"yaxis\": \"y\"}, {\"customdata\": [[\"01-2019\", \"CRLA\"], [\"01-2019\", \"CRLA\"], [\"03-2019\", \"CRLA\"], [\"04-2019\", \"CRLA\"], [\"05-2019\", \"CRLA\"], [\"06-2019\", \"CRLA\"], [\"07-2019\", \"CRLA\"], [\"08-2019\", \"CRLA\"], [\"09-2019\", \"CRLA\"], [\"10-2019\", \"CRLA\"], [\"11-2019\", \"CRLA\"], [\"12-2019\", \"CRLA\"]], \"hoverlabel\": {\"namelength\": 0}, \"hovertemplate\": \"Park Code=%{customdata[1]}<br>Temperature=%{x}<br>Visitor Count=%{marker.size}<br>Unit Time=%{customdata[0]}\", \"legendgroup\": \"CRLA\", \"marker\": {\"color\": \"#00cc96\", \"size\": [3120, 2436, 4800, 15898, 44808, 103442, 201191, 163472, 98266, 41635, 16843, 8601], \"sizemode\": \"area\", \"sizeref\": 4032.8325, \"symbol\": \"circle\"}, \"mode\": \"markers\", \"name\": \"CRLA\", \"showlegend\": true, \"type\": \"scatter\", \"x\": [16.14, 36.19, 32.68, 42.06, 59.35, 59.58, 57.58, 57.2, 58.3, 36.1, 45.76, 32.56], \"xaxis\": \"x\", \"y\": [3120, 2436, 4800, 15898, 44808, 103442, 201191, 163472, 98266, 41635, 16843, 8601], \"yaxis\": \"y\"}, {\"customdata\": [[\"01-2019\", \"CUVA\"], [\"01-2019\", \"CUVA\"], [\"03-2019\", \"CUVA\"], [\"04-2019\", \"CUVA\"], [\"05-2019\", \"CUVA\"], [\"06-2019\", \"CUVA\"], [\"07-2019\", \"CUVA\"], [\"08-2019\", \"CUVA\"], [\"09-2019\", \"CUVA\"], [\"10-2019\", \"CUVA\"], [\"11-2019\", \"CUVA\"], [\"12-2019\", \"CUVA\"]], \"hoverlabel\": {\"namelength\": 0}, \"hovertemplate\": \"Park Code=%{customdata[1]}<br>Temperature=%{x}<br>Visitor Count=%{marker.size}<br>Unit Time=%{customdata[0]}\", \"legendgroup\": \"CUVA\", \"marker\": {\"color\": \"#ab63fa\", \"size\": [88020, 82061, 126521, 177318, 225949, 284079, 284928, 285616, 226681, 203708, 142329, 110787], \"sizemode\": \"area\", \"sizeref\": 4032.8325, \"symbol\": \"circle\"}, \"mode\": \"markers\", \"name\": \"CUVA\", \"showlegend\": true, \"type\": \"scatter\", \"x\": [54.35, 4.37, 25.6, 51.87, 53.14, 75.46, 87.3, 75.71, 51.2, 58.52, 34.97, 32.09], \"xaxis\": \"x\", \"y\": [88020, 82061, 126521, 177318, 225949, 284079, 284928, 285616, 226681, 203708, 142329, 110787], \"yaxis\": \"y\"}, {\"customdata\": [[\"01-2019\", \"DEVA\"], [\"01-2019\", \"DEVA\"], [\"03-2019\", \"DEVA\"], [\"04-2019\", \"DEVA\"], [\"05-2019\", \"DEVA\"], [\"06-2019\", \"DEVA\"], [\"07-2019\", \"DEVA\"], [\"08-2019\", \"DEVA\"], [\"09-2019\", \"DEVA\"], [\"10-2019\", \"DEVA\"], [\"11-2019\", \"DEVA\"], [\"12-2019\", \"DEVA\"]], \"hoverlabel\": {\"namelength\": 0}, \"hovertemplate\": \"Park Code=%{customdata[1]}<br>Temperature=%{x}<br>Visitor Count=%{marker.size}<br>Unit Time=%{customdata[0]}\", \"legendgroup\": \"DEVA\", \"marker\": {\"color\": \"#FFA15A\", \"size\": [111954, 112925, 178553, 177696, 155378, 122013, 142487, 165632, 168894, 138152, 132013, 135248], \"sizemode\": \"area\", \"sizeref\": 4032.8325, \"symbol\": \"circle\"}, \"mode\": \"markers\", \"name\": \"DEVA\", \"showlegend\": true, \"type\": \"scatter\", \"x\": [30.67, 48.03, 56.12, 69.53, 80.37, 83.22, 78.29, 77.38, 76.59, 56.06, 53.31, 43.77], \"xaxis\": \"x\", \"y\": [111954, 112925, 178553, 177696, 155378, 122013, 142487, 165632, 168894, 138152, 132013, 135248], \"yaxis\": \"y\"}, {\"customdata\": [[\"01-2019\", \"DRTO\"], [\"01-2019\", \"DRTO\"], [\"03-2019\", \"DRTO\"], [\"04-2019\", \"DRTO\"], [\"05-2019\", \"DRTO\"], [\"06-2019\", \"DRTO\"], [\"07-2019\", \"DRTO\"], [\"08-2019\", \"DRTO\"], [\"09-2019\", \"DRTO\"], [\"10-2019\", \"DRTO\"], [\"11-2019\", \"DRTO\"], [\"12-2019\", \"DRTO\"]], \"hoverlabel\": {\"namelength\": 0}, \"hovertemplate\": \"Park Code=%{customdata[1]}<br>Temperature=%{x}<br>Visitor Count=%{marker.size}<br>Unit Time=%{customdata[0]}\", \"legendgroup\": \"DRTO\", \"marker\": {\"color\": \"#19d3f3\", \"size\": [6179, 6937, 7417, 7720, 8124, 8041, 7692, 6658, 4694, 4432, 5336, 5970], \"sizemode\": \"area\", \"sizeref\": 4032.8325, \"symbol\": \"circle\"}, \"mode\": \"markers\", \"name\": \"DRTO\", \"showlegend\": true, \"type\": \"scatter\", \"x\": [73.57, 70.32, 76.79, 77.0, 81.51, 85.22, 87.21, 83.52, 83.18, 80.21, 79.44, 70.97], \"xaxis\": \"x\", \"y\": [6179, 6937, 7417, 7720, 8124, 8041, 7692, 6658, 4694, 4432, 5336, 5970], \"yaxis\": \"y\"}, {\"customdata\": [[\"01-2019\", \"EVER\"], [\"01-2019\", \"EVER\"], [\"03-2019\", \"EVER\"], [\"04-2019\", \"EVER\"], [\"05-2019\", \"EVER\"], [\"06-2019\", \"EVER\"], [\"07-2019\", \"EVER\"], [\"08-2019\", \"EVER\"], [\"09-2019\", \"EVER\"], [\"10-2019\", \"EVER\"], [\"11-2019\", \"EVER\"], [\"12-2019\", \"EVER\"]], \"hoverlabel\": {\"namelength\": 0}, \"hovertemplate\": \"Park Code=%{customdata[1]}<br>Temperature=%{x}<br>Visitor Count=%{marker.size}<br>Unit Time=%{customdata[0]}\", \"legendgroup\": \"EVER\", \"marker\": {\"color\": \"#FF6692\", \"size\": [85838, 96953, 146859, 131278, 77435, 68267, 63394, 80177, 60469, 70222, 103643, 133765], \"sizemode\": \"area\", \"sizeref\": 4032.8325, \"symbol\": \"circle\"}, \"mode\": \"markers\", \"name\": \"EVER\", \"showlegend\": true, \"type\": \"scatter\", \"x\": [67.61, 65.18, 74.59, 78.31, 88.23, 88.86, 89.83, 83.5, 81.66, 76.43, 73.68, 63.63], \"xaxis\": \"x\", \"y\": [85838, 96953, 146859, 131278, 77435, 68267, 63394, 80177, 60469, 70222, 103643, 133765], \"yaxis\": \"y\"}, {\"customdata\": [[\"01-2019\", \"GLAC\"], [\"01-2019\", \"GLAC\"], [\"03-2019\", \"GLAC\"], [\"04-2019\", \"GLAC\"], [\"05-2019\", \"GLAC\"], [\"06-2019\", \"GLAC\"], [\"07-2019\", \"GLAC\"], [\"08-2019\", \"GLAC\"], [\"09-2019\", \"GLAC\"], [\"10-2019\", \"GLAC\"], [\"11-2019\", \"GLAC\"], [\"12-2019\", \"GLAC\"]], \"hoverlabel\": {\"namelength\": 0}, \"hovertemplate\": \"Park Code=%{customdata[1]}<br>Temperature=%{x}<br>Visitor Count=%{marker.size}<br>Unit Time=%{customdata[0]}\", \"legendgroup\": \"GLAC\", \"marker\": {\"color\": \"#B6E880\", \"size\": [13581, 11240, 23989, 35491, 167403, 544088, 879711, 771874, 488909, 78408, 20008, 15137], \"sizemode\": \"area\", \"sizeref\": 4032.8325, \"symbol\": \"circle\"}, \"mode\": \"markers\", \"name\": \"GLAC\", \"showlegend\": true, \"type\": \"scatter\", \"x\": [4.85, 28.3, 1.95, 37.82, 50.1, 61.1, 51.07, 55.22, 48.5, 34.74, 16.63, 32.03], \"xaxis\": \"x\", \"y\": [13581, 11240, 23989, 35491, 167403, 544088, 879711, 771874, 488909, 78408, 20008, 15137], \"yaxis\": \"y\"}, {\"customdata\": [[\"01-2019\", \"GRBA\"], [\"01-2019\", \"GRBA\"], [\"03-2019\", \"GRBA\"], [\"04-2019\", \"GRBA\"], [\"05-2019\", \"GRBA\"], [\"06-2019\", \"GRBA\"], [\"07-2019\", \"GRBA\"], [\"08-2019\", \"GRBA\"], [\"09-2019\", \"GRBA\"], [\"10-2019\", \"GRBA\"], [\"11-2019\", \"GRBA\"], [\"12-2019\", \"GRBA\"]], \"hoverlabel\": {\"namelength\": 0}, \"hovertemplate\": \"Park Code=%{customdata[1]}<br>Temperature=%{x}<br>Visitor Count=%{marker.size}<br>Unit Time=%{customdata[0]}\", \"legendgroup\": \"GRBA\", \"marker\": {\"color\": \"#FF97FF\", \"size\": [689, 1060, 2391, 6100, 11516, 23246, 23290, 24674, 22735, 11772, 3330, 999], \"sizemode\": \"area\", \"sizeref\": 4032.8325, \"symbol\": \"circle\"}, \"mode\": \"markers\", \"name\": \"GRBA\", \"showlegend\": true, \"type\": \"scatter\", \"x\": [0.7, 25.15, 24.59, 40.44, 48.43, 55.79, 53.55, 61.29, 58.72, 32.45, 33.02, 29.84], \"xaxis\": \"x\", \"y\": [689, 1060, 2391, 6100, 11516, 23246, 23290, 24674, 22735, 11772, 3330, 999], \"yaxis\": \"y\"}, {\"customdata\": [[\"01-2019\", \"GRCA\"], [\"01-2019\", \"GRCA\"], [\"03-2019\", \"GRCA\"], [\"04-2019\", \"GRCA\"], [\"05-2019\", \"GRCA\"], [\"06-2019\", \"GRCA\"], [\"07-2019\", \"GRCA\"], [\"08-2019\", \"GRCA\"], [\"09-2019\", \"GRCA\"], [\"10-2019\", \"GRCA\"], [\"11-2019\", \"GRCA\"], [\"12-2019\", \"GRCA\"]], \"hoverlabel\": {\"namelength\": 0}, \"hovertemplate\": \"Park Code=%{customdata[1]}<br>Temperature=%{x}<br>Visitor Count=%{marker.size}<br>Unit Time=%{customdata[0]}\", \"legendgroup\": \"GRCA\", \"marker\": {\"color\": \"#FECB52\", \"size\": [225056, 213050, 451228, 562265, 618598, 643821, 756860, 700896, 578852, 551558, 347847, 324380], \"sizemode\": \"area\", \"sizeref\": 4032.8325, \"symbol\": \"circle\"}, \"mode\": \"markers\", \"name\": \"GRCA\", \"showlegend\": true, \"type\": \"scatter\", \"x\": [22.9, 45.1, 52.14, 65.43, 77.17, 77.99, 77.55, 72.32, 66.5, 47.95, 44.1, 38.33], \"xaxis\": \"x\", \"y\": [225056, 213050, 451228, 562265, 618598, 643821, 756860, 700896, 578852, 551558, 347847, 324380], \"yaxis\": \"y\"}, {\"customdata\": [[\"01-2019\", \"GRSM\"], [\"01-2019\", \"GRSM\"], [\"03-2019\", \"GRSM\"], [\"04-2019\", \"GRSM\"], [\"05-2019\", \"GRSM\"], [\"06-2019\", \"GRSM\"], [\"07-2019\", \"GRSM\"], [\"08-2019\", \"GRSM\"], [\"09-2019\", \"GRSM\"], [\"10-2019\", \"GRSM\"], [\"11-2019\", \"GRSM\"], [\"12-2019\", \"GRSM\"]], \"hoverlabel\": {\"namelength\": 0}, \"hovertemplate\": \"Park Code=%{customdata[1]}<br>Temperature=%{x}<br>Visitor Count=%{marker.size}<br>Unit Time=%{customdata[0]}\", \"legendgroup\": \"GRSM\", \"marker\": {\"color\": \"#636efa\", \"size\": [496743, 421770, 786305, 999259, 1096056, 1469857, 1613133, 1411231, 1273326, 1408013, 851419, 720631], \"sizemode\": \"area\", \"sizeref\": 4032.8325, \"symbol\": \"circle\"}, \"mode\": \"markers\", \"name\": \"GRSM\", \"showlegend\": true, \"type\": \"scatter\", \"x\": [52.76, 27.16, 36.17, 53.07, 60.24, 76.4, 75.7, 65.21, 61.45, 56.5, 39.74, 38.35], \"xaxis\": \"x\", \"y\": [496743, 421770, 786305, 999259, 1096056, 1469857, 1613133, 1411231, 1273326, 1408013, 851419, 720631], \"yaxis\": \"y\"}, {\"customdata\": [[\"01-2019\", \"GRTE\"], [\"01-2019\", \"GRTE\"], [\"03-2019\", \"GRTE\"], [\"04-2019\", \"GRTE\"], [\"05-2019\", \"GRTE\"], [\"06-2019\", \"GRTE\"], [\"07-2019\", \"GRTE\"], [\"08-2019\", \"GRTE\"], [\"09-2019\", \"GRTE\"], [\"10-2019\", \"GRTE\"], [\"11-2019\", \"GRTE\"], [\"12-2019\", \"GRTE\"]], \"hoverlabel\": {\"namelength\": 0}, \"hovertemplate\": \"Park Code=%{customdata[1]}<br>Temperature=%{x}<br>Visitor Count=%{marker.size}<br>Unit Time=%{customdata[0]}\", \"legendgroup\": \"GRTE\", \"marker\": {\"color\": \"#EF553B\", \"size\": [56635, 43913, 65864, 59105, 278529, 625441, 775788, 702022, 517265, 186487, 48132, 46433], \"sizemode\": \"area\", \"sizeref\": 4032.8325, \"symbol\": \"circle\"}, \"mode\": \"markers\", \"name\": \"GRTE\", \"showlegend\": true, \"type\": \"scatter\", \"x\": [-5.8, 18.98, 17.07, 42.92, 54.09, 63.4, 57.04, 54.79, 52.87, 28.97, 32.58, 20.65], \"xaxis\": \"x\", \"y\": [56635, 43913, 65864, 59105, 278529, 625441, 775788, 702022, 517265, 186487, 48132, 46433], \"yaxis\": \"y\"}, {\"customdata\": [[\"01-2019\", \"GUMO\"], [\"01-2019\", \"GUMO\"], [\"03-2019\", \"GUMO\"], [\"04-2019\", \"GUMO\"], [\"05-2019\", \"GUMO\"], [\"06-2019\", \"GUMO\"], [\"07-2019\", \"GUMO\"], [\"08-2019\", \"GUMO\"], [\"09-2019\", \"GUMO\"], [\"10-2019\", \"GUMO\"], [\"11-2019\", \"GUMO\"], [\"12-2019\", \"GUMO\"]], \"hoverlabel\": {\"namelength\": 0}, \"hovertemplate\": \"Park Code=%{customdata[1]}<br>Temperature=%{x}<br>Visitor Count=%{marker.size}<br>Unit Time=%{customdata[0]}\", \"legendgroup\": \"GUMO\", \"marker\": {\"color\": \"#00cc96\", \"size\": [1049, 9462, 27831, 20970, 25204, 14376, 13540, 10532, 12157, 23513, 15161, 15038], \"sizemode\": \"area\", \"sizeref\": 4032.8325, \"symbol\": \"circle\"}, \"mode\": \"markers\", \"name\": \"GUMO\", \"showlegend\": true, \"type\": \"scatter\", \"x\": [33.34, 43.6, 39.16, 67.16, 75.06, 73.05, 77.63, 69.32, 60.3, 57.85, 51.99, 41.2], \"xaxis\": \"x\", \"y\": [1049, 9462, 27831, 20970, 25204, 14376, 13540, 10532, 12157, 23513, 15161, 15038], \"yaxis\": \"y\"}, {\"customdata\": [[\"01-2019\", \"HALE\"], [\"01-2019\", \"HALE\"], [\"03-2019\", \"HALE\"], [\"04-2019\", \"HALE\"], [\"05-2019\", \"HALE\"], [\"06-2019\", \"HALE\"], [\"07-2019\", \"HALE\"], [\"08-2019\", \"HALE\"], [\"09-2019\", \"HALE\"], [\"10-2019\", \"HALE\"], [\"11-2019\", \"HALE\"], [\"12-2019\", \"HALE\"]], \"hoverlabel\": {\"namelength\": 0}, \"hovertemplate\": \"Park Code=%{customdata[1]}<br>Temperature=%{x}<br>Visitor Count=%{marker.size}<br>Unit Time=%{customdata[0]}\", \"legendgroup\": \"HALE\", \"marker\": {\"color\": \"#ab63fa\", \"size\": [53523, 83666, 93074, 87763, 85159, 85338, 86267, 84618, 98856, 73204, 72075, 90851], \"sizemode\": \"area\", \"sizeref\": 4032.8325, \"symbol\": \"circle\"}, \"mode\": \"markers\", \"name\": \"HALE\", \"showlegend\": true, \"type\": \"scatter\", \"x\": [61.55, 57.49, 59.18, 65.91, 65.43, 61.99, 62.4, 65.58, 65.92, 63.81, 64.84, 59.94], \"xaxis\": \"x\", \"y\": [53523, 83666, 93074, 87763, 85159, 85338, 86267, 84618, 98856, 73204, 72075, 90851], \"yaxis\": \"y\"}, {\"customdata\": [[\"01-2019\", \"HAVO\"], [\"01-2019\", \"HAVO\"], [\"03-2019\", \"HAVO\"], [\"04-2019\", \"HAVO\"], [\"05-2019\", \"HAVO\"], [\"06-2019\", \"HAVO\"], [\"07-2019\", \"HAVO\"], [\"08-2019\", \"HAVO\"], [\"09-2019\", \"HAVO\"], [\"10-2019\", \"HAVO\"], [\"11-2019\", \"HAVO\"], [\"12-2019\", \"HAVO\"]], \"hoverlabel\": {\"namelength\": 0}, \"hovertemplate\": \"Park Code=%{customdata[1]}<br>Temperature=%{x}<br>Visitor Count=%{marker.size}<br>Unit Time=%{customdata[0]}\", \"legendgroup\": \"HAVO\", \"marker\": {\"color\": \"#FFA15A\", \"size\": [128836, 120931, 113452, 103247, 102792, 113015, 133249, 125357, 92720, 96054, 107457, 131266], \"sizemode\": \"area\", \"sizeref\": 4032.8325, \"symbol\": \"circle\"}, \"mode\": \"markers\", \"name\": \"HAVO\", \"showlegend\": true, \"type\": \"scatter\", \"x\": [63.25, 61.05, 64.58, 72.87, 71.04, 64.22, 61.12, 64.56, 65.09, 62.58, 64.75, 59.81], \"xaxis\": \"x\", \"y\": [128836, 120931, 113452, 103247, 102792, 113015, 133249, 125357, 92720, 96054, 107457, 131266], \"yaxis\": \"y\"}, {\"customdata\": [[\"01-2019\", \"HOSP\"], [\"01-2019\", \"HOSP\"], [\"03-2019\", \"HOSP\"], [\"04-2019\", \"HOSP\"], [\"05-2019\", \"HOSP\"], [\"06-2019\", \"HOSP\"], [\"07-2019\", \"HOSP\"], [\"08-2019\", \"HOSP\"], [\"09-2019\", \"HOSP\"], [\"10-2019\", \"HOSP\"], [\"11-2019\", \"HOSP\"], [\"12-2019\", \"HOSP\"]], \"hoverlabel\": {\"namelength\": 0}, \"hovertemplate\": \"Park Code=%{customdata[1]}<br>Temperature=%{x}<br>Visitor Count=%{marker.size}<br>Unit Time=%{customdata[0]}\", \"legendgroup\": \"HOSP\", \"marker\": {\"color\": \"#19d3f3\", \"size\": [73964, 79322, 125290, 113397, 136514, 149049, 139005, 181982, 143915, 137861, 108534, 78320], \"sizemode\": \"area\", \"sizeref\": 4032.8325, \"symbol\": \"circle\"}, \"mode\": \"markers\", \"name\": \"HOSP\", \"showlegend\": true, \"type\": \"scatter\", \"x\": [39.34, 43.81, 33.51, 69.29, 71.13, 87.24, 85.15, 76.39, 70.68, 67.28, 52.9, 49.58], \"xaxis\": \"x\", \"y\": [73964, 79322, 125290, 113397, 136514, 149049, 139005, 181982, 143915, 137861, 108534, 78320], \"yaxis\": \"y\"}, {\"customdata\": [[\"01-2019\", \"INDU\"], [\"01-2019\", \"INDU\"], [\"03-2019\", \"INDU\"], [\"04-2019\", \"INDU\"], [\"05-2019\", \"INDU\"], [\"06-2019\", \"INDU\"], [\"07-2019\", \"INDU\"], [\"08-2019\", \"INDU\"], [\"09-2019\", \"INDU\"], [\"10-2019\", \"INDU\"], [\"11-2019\", \"INDU\"], [\"12-2019\", \"INDU\"]], \"hoverlabel\": {\"namelength\": 0}, \"hovertemplate\": \"Park Code=%{customdata[1]}<br>Temperature=%{x}<br>Visitor Count=%{marker.size}<br>Unit Time=%{customdata[0]}\", \"legendgroup\": \"INDU\", \"marker\": {\"color\": \"#FF6692\", \"size\": [69916, 85702, 219070, 107862, 142403, 302203, 449968, 290469, 206226, 105984, 79674, 74808], \"sizemode\": \"area\", \"sizeref\": 4032.8325, \"symbol\": \"circle\"}, \"mode\": \"markers\", \"name\": \"INDU\", \"showlegend\": true, \"type\": \"scatter\", \"x\": [37.02, -1.02, 16.94, 56.97, 52.62, 65.43, 84.42, 72.73, 59.38, 60.32, 32.55, 26.72], \"xaxis\": \"x\", \"y\": [69916, 85702, 219070, 107862, 142403, 302203, 449968, 290469, 206226, 105984, 79674, 74808], \"yaxis\": \"y\"}, {\"customdata\": [[\"01-2019\", \"ISRO\"], [\"01-2019\", \"ISRO\"], [\"03-2019\", \"ISRO\"], [\"04-2019\", \"ISRO\"], [\"05-2019\", \"ISRO\"], [\"06-2019\", \"ISRO\"], [\"07-2019\", \"ISRO\"], [\"08-2019\", \"ISRO\"], [\"09-2019\", \"ISRO\"], [\"10-2019\", \"ISRO\"], [\"11-2019\", \"ISRO\"], [\"12-2019\", \"ISRO\"]], \"hoverlabel\": {\"namelength\": 0}, \"hovertemplate\": \"Park Code=%{customdata[1]}<br>Temperature=%{x}<br>Visitor Count=%{marker.size}<br>Unit Time=%{customdata[0]}\", \"legendgroup\": \"ISRO\", \"marker\": {\"color\": \"#B6E880\", \"size\": [4, 37, 55, 61, 1055, 4837, 7714, 8798, 3342, 402, 47, 58], \"sizemode\": \"area\", \"sizeref\": 4032.8325, \"symbol\": \"circle\"}, \"mode\": \"markers\", \"name\": \"ISRO\", \"showlegend\": true, \"type\": \"scatter\", \"x\": [9.23, -9.63, -0.47, 32.73, 45.94, 42.36, 56.71, 63.45, 52.16, 46.89, 23.61, 25.64], \"xaxis\": \"x\", \"y\": [4, 37, 55, 61, 1055, 4837, 7714, 8798, 3342, 402, 47, 58], \"yaxis\": \"y\"}, {\"customdata\": [[\"01-2019\", \"JEFF\"], [\"01-2019\", \"JEFF\"], [\"03-2019\", \"JEFF\"], [\"04-2019\", \"JEFF\"], [\"05-2019\", \"JEFF\"], [\"06-2019\", \"JEFF\"], [\"07-2019\", \"JEFF\"], [\"08-2019\", \"JEFF\"], [\"09-2019\", \"JEFF\"], [\"10-2019\", \"JEFF\"], [\"11-2019\", \"JEFF\"], [\"12-2019\", \"JEFF\"]], \"hoverlabel\": {\"namelength\": 0}, \"hovertemplate\": \"Park Code=%{customdata[1]}<br>Temperature=%{x}<br>Visitor Count=%{marker.size}<br>Unit Time=%{customdata[0]}\", \"legendgroup\": \"JEFF\", \"marker\": {\"color\": \"#FF97FF\", \"size\": [18962, 51416, 164238, 138309, 165964, 296149, 583866, 208999, 127764, 122770, 91836, 85036], \"sizemode\": \"area\", \"sizeref\": 4032.8325, \"symbol\": \"circle\"}, \"mode\": \"markers\", \"name\": \"JEFF\", \"showlegend\": true, \"type\": \"scatter\", \"x\": [42.47, 25.69, 17.53, 65.48, 65.98, 82.57, 89.04, 79.16, 64.46, 65.96, 40.74, 32.18], \"xaxis\": \"x\", \"y\": [18962, 51416, 164238, 138309, 165964, 296149, 583866, 208999, 127764, 122770, 91836, 85036], \"yaxis\": \"y\"}, {\"customdata\": [[\"01-2019\", \"JOTR\"], [\"01-2019\", \"JOTR\"], [\"03-2019\", \"JOTR\"], [\"04-2019\", \"JOTR\"], [\"05-2019\", \"JOTR\"], [\"06-2019\", \"JOTR\"], [\"07-2019\", \"JOTR\"], [\"08-2019\", \"JOTR\"], [\"09-2019\", \"JOTR\"], [\"10-2019\", \"JOTR\"], [\"11-2019\", \"JOTR\"], [\"12-2019\", \"JOTR\"]], \"hoverlabel\": {\"namelength\": 0}, \"hovertemplate\": \"Park Code=%{customdata[1]}<br>Temperature=%{x}<br>Visitor Count=%{marker.size}<br>Unit Time=%{customdata[0]}\", \"legendgroup\": \"JOTR\", \"marker\": {\"color\": \"#FECB52\", \"size\": [195993, 261230, 469183, 374789, 250928, 187551, 138967, 120911, 160294, 233995, 291230, 303476], \"sizemode\": \"area\", \"sizeref\": 4032.8325, \"symbol\": \"circle\"}, \"mode\": \"markers\", \"name\": \"JOTR\", \"showlegend\": true, \"type\": \"scatter\", \"x\": [38.05, 56.26, 66.71, 76.9, 89.28, 88.88, 85.14, 85.78, 80.65, 63.54, 61.94, 54.15], \"xaxis\": \"x\", \"y\": [195993, 261230, 469183, 374789, 250928, 187551, 138967, 120911, 160294, 233995, 291230, 303476], \"yaxis\": \"y\"}, {\"customdata\": [[\"01-2019\", \"KEFJ\"], [\"01-2019\", \"KEFJ\"], [\"03-2019\", \"KEFJ\"], [\"04-2019\", \"KEFJ\"], [\"05-2019\", \"KEFJ\"], [\"06-2019\", \"KEFJ\"], [\"07-2019\", \"KEFJ\"], [\"08-2019\", \"KEFJ\"], [\"09-2019\", \"KEFJ\"], [\"10-2019\", \"KEFJ\"], [\"11-2019\", \"KEFJ\"], [\"12-2019\", \"KEFJ\"]], \"hoverlabel\": {\"namelength\": 0}, \"hovertemplate\": \"Park Code=%{customdata[1]}<br>Temperature=%{x}<br>Visitor Count=%{marker.size}<br>Unit Time=%{customdata[0]}\", \"legendgroup\": \"KEFJ\", \"marker\": {\"color\": \"#636efa\", \"size\": [21, 37, 40, 21, 28944, 91280, 120632, 78129, 33346, 4121, 7, 23], \"sizemode\": \"area\", \"sizeref\": 4032.8325, \"symbol\": \"circle\"}, \"mode\": \"markers\", \"name\": \"KEFJ\", \"showlegend\": true, \"type\": \"scatter\", \"x\": [27.45, 19.18, 24.28, 35.75, 34.1, 39.73, 53.49, 50.07, 37.46, 25.49, 35.76, 27.07], \"xaxis\": \"x\", \"y\": [21, 37, 40, 21, 28944, 91280, 120632, 78129, 33346, 4121, 7, 23], \"yaxis\": \"y\"}, {\"customdata\": [[\"01-2019\", \"KOVA\"], [\"01-2019\", \"KOVA\"], [\"03-2019\", \"KOVA\"], [\"04-2019\", \"KOVA\"], [\"05-2019\", \"KOVA\"], [\"06-2019\", \"KOVA\"], [\"07-2019\", \"KOVA\"], [\"08-2019\", \"KOVA\"], [\"09-2019\", \"KOVA\"], [\"10-2019\", \"KOVA\"], [\"11-2019\", \"KOVA\"], [\"12-2019\", \"KOVA\"]], \"hoverlabel\": {\"namelength\": 0}, \"hovertemplate\": \"Park Code=%{customdata[1]}<br>Temperature=%{x}<br>Visitor Count=%{marker.size}<br>Unit Time=%{customdata[0]}\", \"legendgroup\": \"KOVA\", \"marker\": {\"color\": \"#EF553B\", \"size\": [1098, 695, 764, 808, 778, 1398, 1750, 1770, 1538, 1987, 1569, 1611], \"sizemode\": \"area\", \"sizeref\": 4032.8325, \"symbol\": \"circle\"}, \"mode\": \"markers\", \"name\": \"KOVA\", \"showlegend\": true, \"type\": \"scatter\", \"x\": [25.69, -6.02, 19.04, 24.4, 31.17, 58.06, 56.54, 42.9, 48.33, 25.78, 16.41, -11.8], \"xaxis\": \"x\", \"y\": [1098, 695, 764, 808, 778, 1398, 1750, 1770, 1538, 1987, 1569, 1611], \"yaxis\": \"y\"}, {\"customdata\": [[\"01-2019\", \"LAVO\"], [\"01-2019\", \"LAVO\"], [\"03-2019\", \"LAVO\"], [\"04-2019\", \"LAVO\"], [\"05-2019\", \"LAVO\"], [\"06-2019\", \"LAVO\"], [\"07-2019\", \"LAVO\"], [\"08-2019\", \"LAVO\"], [\"09-2019\", \"LAVO\"], [\"10-2019\", \"LAVO\"], [\"11-2019\", \"LAVO\"], [\"12-2019\", \"LAVO\"]], \"hoverlabel\": {\"namelength\": 0}, \"hovertemplate\": \"Park Code=%{customdata[1]}<br>Temperature=%{x}<br>Visitor Count=%{marker.size}<br>Unit Time=%{customdata[0]}\", \"legendgroup\": \"LAVO\", \"marker\": {\"color\": \"#00cc96\", \"size\": [8646, 6561, 7944, 12477, 25170, 63803, 105535, 98109, 75502, 88428, 12879, 11985], \"sizemode\": \"area\", \"sizeref\": 4032.8325, \"symbol\": \"circle\"}, \"mode\": \"markers\", \"name\": \"LAVO\", \"showlegend\": true, \"type\": \"scatter\", \"x\": [14.17, 32.66, 29.8, 39.07, 55.65, 65.37, 58.23, 53.09, 56.44, 41.63, 45.19, 30.85], \"xaxis\": \"x\", \"y\": [8646, 6561, 7944, 12477, 25170, 63803, 105535, 98109, 75502, 88428, 12879, 11985], \"yaxis\": \"y\"}, {\"customdata\": [[\"01-2019\", \"MACA\"], [\"01-2019\", \"MACA\"], [\"03-2019\", \"MACA\"], [\"04-2019\", \"MACA\"], [\"05-2019\", \"MACA\"], [\"06-2019\", \"MACA\"], [\"07-2019\", \"MACA\"], [\"08-2019\", \"MACA\"], [\"09-2019\", \"MACA\"], [\"10-2019\", \"MACA\"], [\"11-2019\", \"MACA\"], [\"12-2019\", \"MACA\"]], \"hoverlabel\": {\"namelength\": 0}, \"hovertemplate\": \"Park Code=%{customdata[1]}<br>Temperature=%{x}<br>Visitor Count=%{marker.size}<br>Unit Time=%{customdata[0]}\", \"legendgroup\": \"MACA\", \"marker\": {\"color\": \"#ab63fa\", \"size\": [3651, 10346, 45779, 55210, 53461, 76995, 102436, 72400, 43525, 48713, 22247, 16827], \"sizemode\": \"area\", \"sizeref\": 4032.8325, \"symbol\": \"circle\"}, \"mode\": \"markers\", \"name\": \"MACA\", \"showlegend\": true, \"type\": \"scatter\", \"x\": [51.18, 25.01, 32.68, 66.5, 69.76, 82.67, 84.91, 71.94, 60.63, 69.56, 36.4, 44.18], \"xaxis\": \"x\", \"y\": [3651, 10346, 45779, 55210, 53461, 76995, 102436, 72400, 43525, 48713, 22247, 16827], \"yaxis\": \"y\"}, {\"customdata\": [[\"01-2019\", \"MEVE\"], [\"01-2019\", \"MEVE\"], [\"03-2019\", \"MEVE\"], [\"04-2019\", \"MEVE\"], [\"05-2019\", \"MEVE\"], [\"06-2019\", \"MEVE\"], [\"07-2019\", \"MEVE\"], [\"08-2019\", \"MEVE\"], [\"09-2019\", \"MEVE\"], [\"10-2019\", \"MEVE\"], [\"11-2019\", \"MEVE\"], [\"12-2019\", \"MEVE\"]], \"hoverlabel\": {\"namelength\": 0}, \"hovertemplate\": \"Park Code=%{customdata[1]}<br>Temperature=%{x}<br>Visitor Count=%{marker.size}<br>Unit Time=%{customdata[0]}\", \"legendgroup\": \"MEVE\", \"marker\": {\"color\": \"#FFA15A\", \"size\": [95, 3414, 14992, 32428, 60665, 108231, 113166, 87133, 70865, 47270, 10201, 7743], \"sizemode\": \"area\", \"sizeref\": 4032.8325, \"symbol\": \"circle\"}, \"mode\": \"markers\", \"name\": \"MEVE\", \"showlegend\": true, \"type\": \"scatter\", \"x\": [20.73, 26.46, 37.07, 49.07, 63.53, 71.87, 71.0, 61.84, 60.56, 43.18, 36.77, 29.85], \"xaxis\": \"x\", \"y\": [95, 3414, 14992, 32428, 60665, 108231, 113166, 87133, 70865, 47270, 10201, 7743], \"yaxis\": \"y\"}, {\"customdata\": [[\"01-2019\", \"MORA\"], [\"01-2019\", \"MORA\"], [\"03-2019\", \"MORA\"], [\"04-2019\", \"MORA\"], [\"05-2019\", \"MORA\"], [\"06-2019\", \"MORA\"], [\"07-2019\", \"MORA\"], [\"08-2019\", \"MORA\"], [\"09-2019\", \"MORA\"], [\"10-2019\", \"MORA\"], [\"11-2019\", \"MORA\"], [\"12-2019\", \"MORA\"]], \"hoverlabel\": {\"namelength\": 0}, \"hovertemplate\": \"Park Code=%{customdata[1]}<br>Temperature=%{x}<br>Visitor Count=%{marker.size}<br>Unit Time=%{customdata[0]}\", \"legendgroup\": \"MORA\", \"marker\": {\"color\": \"#19d3f3\", \"size\": [12933, 11743, 32101, 29632, 106136, 219641, 365200, 378305, 184166, 74355, 48248, 39161], \"sizemode\": \"area\", \"sizeref\": 4032.8325, \"symbol\": \"circle\"}, \"mode\": \"markers\", \"name\": \"MORA\", \"showlegend\": true, \"type\": \"scatter\", \"x\": [16.28, 32.31, 11.48, 28.07, 47.14, 41.61, 44.62, 51.56, 51.92, 29.3, 36.16, 28.92], \"xaxis\": \"x\", \"y\": [12933, 11743, 32101, 29632, 106136, 219641, 365200, 378305, 184166, 74355, 48248, 39161], \"yaxis\": \"y\"}, {\"customdata\": [[\"01-2019\", \"NOCA\"], [\"01-2019\", \"NOCA\"], [\"03-2019\", \"NOCA\"], [\"04-2019\", \"NOCA\"], [\"05-2019\", \"NOCA\"], [\"06-2019\", \"NOCA\"], [\"07-2019\", \"NOCA\"], [\"08-2019\", \"NOCA\"], [\"09-2019\", \"NOCA\"], [\"10-2019\", \"NOCA\"], [\"11-2019\", \"NOCA\"], [\"12-2019\", \"NOCA\"]], \"hoverlabel\": {\"namelength\": 0}, \"hovertemplate\": \"Park Code=%{customdata[1]}<br>Temperature=%{x}<br>Visitor Count=%{marker.size}<br>Unit Time=%{customdata[0]}\", \"legendgroup\": \"NOCA\", \"marker\": {\"color\": \"#FF6692\", \"size\": [9, 0, 26, 44, 1241, 4520, 10656, 12576, 8581, 373, 101, 81], \"sizemode\": \"area\", \"sizeref\": 4032.8325, \"symbol\": \"circle\"}, \"mode\": \"markers\", \"name\": \"NOCA\", \"showlegend\": true, \"type\": \"scatter\", \"x\": [22.78, 39.98, 26.15, 44.47, 61.12, 57.5, 59.13, 57.4, 50.73, 38.85, 37.68, 40.17], \"xaxis\": \"x\", \"y\": [9, 0, 26, 44, 1241, 4520, 10656, 12576, 8581, 373, 101, 81], \"yaxis\": \"y\"}, {\"customdata\": [[\"01-2019\", \"NPSA\"], [\"01-2019\", \"NPSA\"], [\"03-2019\", \"NPSA\"], [\"04-2019\", \"NPSA\"], [\"05-2019\", \"NPSA\"], [\"06-2019\", \"NPSA\"], [\"07-2019\", \"NPSA\"], [\"08-2019\", \"NPSA\"], [\"09-2019\", \"NPSA\"], [\"10-2019\", \"NPSA\"], [\"11-2019\", \"NPSA\"], [\"12-2019\", \"NPSA\"]], \"hoverlabel\": {\"namelength\": 0}, \"hovertemplate\": \"Park Code=%{customdata[1]}<br>Temperature=%{x}<br>Visitor Count=%{marker.size}<br>Unit Time=%{customdata[0]}\", \"legendgroup\": \"NPSA\", \"marker\": {\"color\": \"#B6E880\", \"size\": [792, 3772, 7152, 7452, 7772, 3464, 4059, 4650, 3933, 6900, 8456, 1604], \"sizemode\": \"area\", \"sizeref\": 4032.8325, \"symbol\": \"circle\"}, \"mode\": \"markers\", \"name\": \"NPSA\", \"showlegend\": true, \"type\": \"scatter\", \"x\": [84.56, 86.39, 86.63, 87.21, 84.66, 82.15, 79.49, 78.44, 77.99, 79.37, 79.97, 84.55], \"xaxis\": \"x\", \"y\": [792, 3772, 7152, 7452, 7772, 3464, 4059, 4650, 3933, 6900, 8456, 1604], \"yaxis\": \"y\"}, {\"customdata\": [[\"01-2019\", \"OLYM\"], [\"01-2019\", \"OLYM\"], [\"03-2019\", \"OLYM\"], [\"04-2019\", \"OLYM\"], [\"05-2019\", \"OLYM\"], [\"06-2019\", \"OLYM\"], [\"07-2019\", \"OLYM\"], [\"08-2019\", \"OLYM\"], [\"09-2019\", \"OLYM\"], [\"10-2019\", \"OLYM\"], [\"11-2019\", \"OLYM\"], [\"12-2019\", \"OLYM\"]], \"hoverlabel\": {\"namelength\": 0}, \"hovertemplate\": \"Park Code=%{customdata[1]}<br>Temperature=%{x}<br>Visitor Count=%{marker.size}<br>Unit Time=%{customdata[0]}\", \"legendgroup\": \"OLYM\", \"marker\": {\"color\": \"#FF97FF\", \"size\": [72725, 73756, 113720, 159983, 307426, 499728, 517058, 737996, 399907, 182944, 108204, 72359], \"sizemode\": \"area\", \"sizeref\": 4032.8325, \"symbol\": \"circle\"}, \"mode\": \"markers\", \"name\": \"OLYM\", \"showlegend\": true, \"type\": \"scatter\", \"x\": [25.3, 34.84, 21.38, 32.52, 53.54, 45.53, 44.89, 54.84, 51.42, 36.2, 39.73, 35.03], \"xaxis\": \"x\", \"y\": [72725, 73756, 113720, 159983, 307426, 499728, 517058, 737996, 399907, 182944, 108204, 72359], \"yaxis\": \"y\"}, {\"customdata\": [[\"01-2019\", \"PEFO\"], [\"01-2019\", \"PEFO\"], [\"03-2019\", \"PEFO\"], [\"04-2019\", \"PEFO\"], [\"05-2019\", \"PEFO\"], [\"06-2019\", \"PEFO\"], [\"07-2019\", \"PEFO\"], [\"08-2019\", \"PEFO\"], [\"09-2019\", \"PEFO\"], [\"10-2019\", \"PEFO\"], [\"11-2019\", \"PEFO\"], [\"12-2019\", \"PEFO\"]], \"hoverlabel\": {\"namelength\": 0}, \"hovertemplate\": \"Park Code=%{customdata[1]}<br>Temperature=%{x}<br>Visitor Count=%{marker.size}<br>Unit Time=%{customdata[0]}\", \"legendgroup\": \"PEFO\", \"marker\": {\"color\": \"#FECB52\", \"size\": [15341, 21342, 55187, 56567, 72802, 95451, 90546, 62276, 52525, 57019, 32092, 32440], \"sizemode\": \"area\", \"sizeref\": 4032.8325, \"symbol\": \"circle\"}, \"mode\": \"markers\", \"name\": \"PEFO\", \"showlegend\": true, \"type\": \"scatter\", \"x\": [27.07, 44.88, 56.29, 65.57, 77.08, 80.22, 77.43, 69.68, 64.79, 49.64, 43.56, 38.81], \"xaxis\": \"x\", \"y\": [15341, 21342, 55187, 56567, 72802, 95451, 90546, 62276, 52525, 57019, 32092, 32440], \"yaxis\": \"y\"}, {\"customdata\": [[\"01-2019\", \"PINN\"], [\"01-2019\", \"PINN\"], [\"03-2019\", \"PINN\"], [\"04-2019\", \"PINN\"], [\"05-2019\", \"PINN\"], [\"06-2019\", \"PINN\"], [\"07-2019\", \"PINN\"], [\"08-2019\", \"PINN\"], [\"09-2019\", \"PINN\"], [\"10-2019\", \"PINN\"], [\"11-2019\", \"PINN\"], [\"12-2019\", \"PINN\"]], \"hoverlabel\": {\"namelength\": 0}, \"hovertemplate\": \"Park Code=%{customdata[1]}<br>Temperature=%{x}<br>Visitor Count=%{marker.size}<br>Unit Time=%{customdata[0]}\", \"legendgroup\": \"PINN\", \"marker\": {\"color\": \"#636efa\", \"size\": [1154, 11735, 24681, 16234, 19398, 19061, 13016, 16795, 14165, 14084, 14786, 12115], \"sizemode\": \"area\", \"sizeref\": 4032.8325, \"symbol\": \"circle\"}, \"mode\": \"markers\", \"name\": \"PINN\", \"showlegend\": true, \"type\": \"scatter\", \"x\": [38.43, 48.93, 58.24, 64.2, 76.79, 83.67, 63.81, 59.26, 59.32, 57.17, 55.02, 53.97], \"xaxis\": \"x\", \"y\": [1154, 11735, 24681, 16234, 19398, 19061, 13016, 16795, 14165, 14084, 14786, 12115], \"yaxis\": \"y\"}, {\"customdata\": [[\"01-2019\", \"REDW\"], [\"01-2019\", \"REDW\"], [\"03-2019\", \"REDW\"], [\"04-2019\", \"REDW\"], [\"05-2019\", \"REDW\"], [\"06-2019\", \"REDW\"], [\"07-2019\", \"REDW\"], [\"08-2019\", \"REDW\"], [\"09-2019\", \"REDW\"], [\"10-2019\", \"REDW\"], [\"11-2019\", \"REDW\"], [\"12-2019\", \"REDW\"]], \"hoverlabel\": {\"namelength\": 0}, \"hovertemplate\": \"Park Code=%{customdata[1]}<br>Temperature=%{x}<br>Visitor Count=%{marker.size}<br>Unit Time=%{customdata[0]}\", \"legendgroup\": \"REDW\", \"marker\": {\"color\": \"#EF553B\", \"size\": [17129, 17768, 30938, 33179, 62796, 76137, 69750, 55227, 55568, 42048, 24430, 19752], \"sizemode\": \"area\", \"sizeref\": 4032.8325, \"symbol\": \"circle\"}, \"mode\": \"markers\", \"name\": \"REDW\", \"showlegend\": true, \"type\": \"scatter\", \"x\": [39.22, 50.82, 52.14, 57.27, 64.1, 64.24, 58.97, 58.29, 58.63, 52.45, 51.2, 53.5], \"xaxis\": \"x\", \"y\": [17129, 17768, 30938, 33179, 62796, 76137, 69750, 55227, 55568, 42048, 24430, 19752], \"yaxis\": \"y\"}, {\"customdata\": [[\"01-2019\", \"ROMO\"], [\"01-2019\", \"ROMO\"], [\"03-2019\", \"ROMO\"], [\"04-2019\", \"ROMO\"], [\"05-2019\", \"ROMO\"], [\"06-2019\", \"ROMO\"], [\"07-2019\", \"ROMO\"], [\"08-2019\", \"ROMO\"], [\"09-2019\", \"ROMO\"], [\"10-2019\", \"ROMO\"], [\"11-2019\", \"ROMO\"], [\"12-2019\", \"ROMO\"]], \"hoverlabel\": {\"namelength\": 0}, \"hovertemplate\": \"Park Code=%{customdata[1]}<br>Temperature=%{x}<br>Visitor Count=%{marker.size}<br>Unit Time=%{customdata[0]}\", \"legendgroup\": \"ROMO\", \"marker\": {\"color\": \"#00cc96\", \"size\": [118152, 99873, 146414, 160259, 280351, 698224, 973992, 830039, 752320, 374003, 123376, 113050], \"sizemode\": \"area\", \"sizeref\": 4032.8325, \"symbol\": \"circle\"}, \"mode\": \"markers\", \"name\": \"ROMO\", \"showlegend\": true, \"type\": \"scatter\", \"x\": [-8.58, 15.72, 10.02, 31.45, 43.02, 54.63, 54.68, 47.01, 47.64, 28.39, 24.75, 20.57], \"xaxis\": \"x\", \"y\": [118152, 99873, 146414, 160259, 280351, 698224, 973992, 830039, 752320, 374003, 123376, 113050], \"yaxis\": \"y\"}, {\"customdata\": [[\"01-2019\", \"SAGU\"], [\"01-2019\", \"SAGU\"], [\"03-2019\", \"SAGU\"], [\"04-2019\", \"SAGU\"], [\"05-2019\", \"SAGU\"], [\"06-2019\", \"SAGU\"], [\"07-2019\", \"SAGU\"], [\"08-2019\", \"SAGU\"], [\"09-2019\", \"SAGU\"], [\"10-2019\", \"SAGU\"], [\"11-2019\", \"SAGU\"], [\"12-2019\", \"SAGU\"]], \"hoverlabel\": {\"namelength\": 0}, \"hovertemplate\": \"Park Code=%{customdata[1]}<br>Temperature=%{x}<br>Visitor Count=%{marker.size}<br>Unit Time=%{customdata[0]}\", \"legendgroup\": \"SAGU\", \"marker\": {\"color\": \"#ab63fa\", \"size\": [48968, 149371, 186275, 117802, 75838, 49481, 48553, 51309, 44812, 64529, 87053, 96235], \"sizemode\": \"area\", \"sizeref\": 4032.8325, \"symbol\": \"circle\"}, \"mode\": \"markers\", \"name\": \"SAGU\", \"showlegend\": true, \"type\": \"scatter\", \"x\": [41.81, 57.84, 68.68, 77.85, 89.05, 86.89, 88.67, 82.91, 73.65, 65.2, 65.33, 55.76], \"xaxis\": \"x\", \"y\": [48968, 149371, 186275, 117802, 75838, 49481, 48553, 51309, 44812, 64529, 87053, 96235], \"yaxis\": \"y\"}, {\"customdata\": [[\"01-2019\", \"SHEN\"], [\"01-2019\", \"SHEN\"], [\"03-2019\", \"SHEN\"], [\"04-2019\", \"SHEN\"], [\"05-2019\", \"SHEN\"], [\"06-2019\", \"SHEN\"], [\"07-2019\", \"SHEN\"], [\"08-2019\", \"SHEN\"], [\"09-2019\", \"SHEN\"], [\"10-2019\", \"SHEN\"], [\"11-2019\", \"SHEN\"], [\"12-2019\", \"SHEN\"]], \"hoverlabel\": {\"namelength\": 0}, \"hovertemplate\": \"Park Code=%{customdata[1]}<br>Temperature=%{x}<br>Visitor Count=%{marker.size}<br>Unit Time=%{customdata[0]}\", \"legendgroup\": \"SHEN\", \"marker\": {\"color\": \"#FFA15A\", \"size\": [20245, 10264, 38601, 102672, 150297, 170492, 167335, 195579, 176271, 236554, 127014, 30183], \"sizemode\": \"area\", \"sizeref\": 4032.8325, \"symbol\": \"circle\"}, \"mode\": \"markers\", \"name\": \"SHEN\", \"showlegend\": true, \"type\": \"scatter\", \"x\": [52.78, 14.13, 30.83, 52.92, 65.95, 70.05, 74.13, 68.03, 62.01, 53.2, 39.54, 36.48], \"xaxis\": \"x\", \"y\": [20245, 10264, 38601, 102672, 150297, 170492, 167335, 195579, 176271, 236554, 127014, 30183], \"yaxis\": \"y\"}, {\"customdata\": [[\"01-2019\", \"THRO\"], [\"01-2019\", \"THRO\"], [\"03-2019\", \"THRO\"], [\"04-2019\", \"THRO\"], [\"05-2019\", \"THRO\"], [\"06-2019\", \"THRO\"], [\"07-2019\", \"THRO\"], [\"08-2019\", \"THRO\"], [\"09-2019\", \"THRO\"], [\"10-2019\", \"THRO\"], [\"11-2019\", \"THRO\"], [\"12-2019\", \"THRO\"]], \"hoverlabel\": {\"namelength\": 0}, \"hovertemplate\": \"Park Code=%{customdata[1]}<br>Temperature=%{x}<br>Visitor Count=%{marker.size}<br>Unit Time=%{customdata[0]}\", \"legendgroup\": \"THRO\", \"marker\": {\"color\": \"#19d3f3\", \"size\": [2515, 1187, 5935, 10516, 75682, 134590, 149425, 135584, 110576, 46043, 17086, 2519], \"sizemode\": \"area\", \"sizeref\": 4032.8325, \"symbol\": \"circle\"}, \"mode\": \"markers\", \"name\": \"THRO\", \"showlegend\": true, \"type\": \"scatter\", \"x\": [-9.15, 24.72, -3.95, 51.63, 49.9, 75.32, 68.67, 63.28, 55.74, 42.8, 25.52, 30.43], \"xaxis\": \"x\", \"y\": [2515, 1187, 5935, 10516, 75682, 134590, 149425, 135584, 110576, 46043, 17086, 2519], \"yaxis\": \"y\"}, {\"customdata\": [[\"01-2019\", \"VIIS\"], [\"01-2019\", \"VIIS\"], [\"03-2019\", \"VIIS\"], [\"04-2019\", \"VIIS\"], [\"05-2019\", \"VIIS\"], [\"06-2019\", \"VIIS\"], [\"07-2019\", \"VIIS\"], [\"08-2019\", \"VIIS\"], [\"09-2019\", \"VIIS\"], [\"10-2019\", \"VIIS\"], [\"11-2019\", \"VIIS\"], [\"12-2019\", \"VIIS\"]], \"hoverlabel\": {\"namelength\": 0}, \"hovertemplate\": \"Park Code=%{customdata[1]}<br>Temperature=%{x}<br>Visitor Count=%{marker.size}<br>Unit Time=%{customdata[0]}\", \"legendgroup\": \"VIIS\", \"marker\": {\"color\": \"#FF6692\", \"size\": [350, 5753, 5583, 13680, 10437, 10047, 8191, 18599, 7376, 13496, 16768, 23118], \"sizemode\": \"area\", \"sizeref\": 4032.8325, \"symbol\": \"circle\"}, \"mode\": \"markers\", \"name\": \"VIIS\", \"showlegend\": true, \"type\": \"scatter\", \"x\": [73.88, 73.5, 74.64, 76.21, 77.9, 81.46, 82.51, 81.48, 79.68, 78.62, 78.1, 77.05], \"xaxis\": \"x\", \"y\": [350, 5753, 5583, 13680, 10437, 10047, 8191, 18599, 7376, 13496, 16768, 23118], \"yaxis\": \"y\"}, {\"customdata\": [[\"01-2019\", \"VOYA\"], [\"01-2019\", \"VOYA\"], [\"03-2019\", \"VOYA\"], [\"04-2019\", \"VOYA\"], [\"05-2019\", \"VOYA\"], [\"06-2019\", \"VOYA\"], [\"07-2019\", \"VOYA\"], [\"08-2019\", \"VOYA\"], [\"09-2019\", \"VOYA\"], [\"10-2019\", \"VOYA\"], [\"11-2019\", \"VOYA\"], [\"12-2019\", \"VOYA\"]], \"hoverlabel\": {\"namelength\": 0}, \"hovertemplate\": \"Park Code=%{customdata[1]}<br>Temperature=%{x}<br>Visitor Count=%{marker.size}<br>Unit Time=%{customdata[0]}\", \"legendgroup\": \"VOYA\", \"marker\": {\"color\": \"#B6E880\", \"size\": [4458, 7602, 3214, 213, 28198, 47387, 52031, 50586, 25517, 11047, 2472, 249], \"sizemode\": \"area\", \"sizeref\": 4032.8325, \"symbol\": \"circle\"}, \"mode\": \"markers\", \"name\": \"VOYA\", \"showlegend\": true, \"type\": \"scatter\", \"x\": [-11.19, -15.93, -4.34, 31.97, 53.35, 73.84, 74.26, 64.01, 49.4, 42.69, 17.6, 16.3], \"xaxis\": \"x\", \"y\": [4458, 7602, 3214, 213, 28198, 47387, 52031, 50586, 25517, 11047, 2472, 249], \"yaxis\": \"y\"}, {\"customdata\": [[\"01-2019\", \"WHSA\"], [\"01-2019\", \"WHSA\"], [\"03-2019\", \"WHSA\"], [\"04-2019\", \"WHSA\"], [\"05-2019\", \"WHSA\"], [\"06-2019\", \"WHSA\"], [\"07-2019\", \"WHSA\"], [\"08-2019\", \"WHSA\"], [\"09-2019\", \"WHSA\"], [\"10-2019\", \"WHSA\"], [\"11-2019\", \"WHSA\"], [\"12-2019\", \"WHSA\"]], \"hoverlabel\": {\"namelength\": 0}, \"hovertemplate\": \"Park Code=%{customdata[1]}<br>Temperature=%{x}<br>Visitor Count=%{marker.size}<br>Unit Time=%{customdata[0]}\", \"legendgroup\": \"WHSA\", \"marker\": {\"color\": \"#FF97FF\", \"size\": [4693, 35531, 83712, 62811, 64344, 62127, 66363, 48510, 43009, 50053, 38575, 49057], \"sizemode\": \"area\", \"sizeref\": 4032.8325, \"symbol\": \"circle\"}, \"mode\": \"markers\", \"name\": \"WHSA\", \"showlegend\": true, \"type\": \"scatter\", \"x\": [33.8, 46.86, 69.17, 77.06, 86.27, 84.5, 87.97, 76.62, 66.67, 59.64, 56.22, 44.37], \"xaxis\": \"x\", \"y\": [4693, 35531, 83712, 62811, 64344, 62127, 66363, 48510, 43009, 50053, 38575, 49057], \"yaxis\": \"y\"}, {\"customdata\": [[\"01-2019\", \"WICA\"], [\"01-2019\", \"WICA\"], [\"03-2019\", \"WICA\"], [\"04-2019\", \"WICA\"], [\"05-2019\", \"WICA\"], [\"06-2019\", \"WICA\"], [\"07-2019\", \"WICA\"], [\"08-2019\", \"WICA\"], [\"09-2019\", \"WICA\"], [\"10-2019\", \"WICA\"], [\"11-2019\", \"WICA\"], [\"12-2019\", \"WICA\"]], \"hoverlabel\": {\"namelength\": 0}, \"hovertemplate\": \"Park Code=%{customdata[1]}<br>Temperature=%{x}<br>Visitor Count=%{marker.size}<br>Unit Time=%{customdata[0]}\", \"legendgroup\": \"WICA\", \"marker\": {\"color\": \"#FECB52\", \"size\": [11431, 14127, 21375, 54922, 48780, 125106, 146531, 92237, 55196, 23537, 10950, 11158], \"sizemode\": \"area\", \"sizeref\": 4032.8325, \"symbol\": \"circle\"}, \"mode\": \"markers\", \"name\": \"WICA\", \"showlegend\": true, \"type\": \"scatter\", \"x\": [6.19, 34.55, 0.13, 40.32, 67.43, 75.37, 66.57, 73.46, 67.9, 40.54, 32.88, 36.6], \"xaxis\": \"x\", \"y\": [11431, 14127, 21375, 54922, 48780, 125106, 146531, 92237, 55196, 23537, 10950, 11158], \"yaxis\": \"y\"}, {\"customdata\": [[\"01-2019\", \"YELL\"], [\"01-2019\", \"YELL\"], [\"03-2019\", \"YELL\"], [\"04-2019\", \"YELL\"], [\"05-2019\", \"YELL\"], [\"06-2019\", \"YELL\"], [\"07-2019\", \"YELL\"], [\"08-2019\", \"YELL\"], [\"09-2019\", \"YELL\"], [\"10-2019\", \"YELL\"], [\"11-2019\", \"YELL\"], [\"12-2019\", \"YELL\"]], \"hoverlabel\": {\"namelength\": 0}, \"hovertemplate\": \"Park Code=%{customdata[1]}<br>Temperature=%{x}<br>Visitor Count=%{marker.size}<br>Unit Time=%{customdata[0]}\", \"legendgroup\": \"YELL\", \"marker\": {\"color\": \"#636efa\", \"size\": [33896, 31650, 28695, 48150, 434385, 781853, 936062, 820006, 693118, 171339, 15628, 25506], \"sizemode\": \"area\", \"sizeref\": 4032.8325, \"symbol\": \"circle\"}, \"mode\": \"markers\", \"name\": \"YELL\", \"showlegend\": true, \"type\": \"scatter\", \"x\": [-13.53, 19.76, 7.4, 37.61, 47.92, 61.74, 52.7, 53.35, 47.52, 22.08, 26.61, 22.42], \"xaxis\": \"x\", \"y\": [33896, 31650, 28695, 48150, 434385, 781853, 936062, 820006, 693118, 171339, 15628, 25506], \"yaxis\": \"y\"}, {\"customdata\": [[\"01-2019\", \"YOSE\"], [\"01-2019\", \"YOSE\"], [\"03-2019\", \"YOSE\"], [\"04-2019\", \"YOSE\"], [\"05-2019\", \"YOSE\"], [\"06-2019\", \"YOSE\"], [\"07-2019\", \"YOSE\"], [\"08-2019\", \"YOSE\"], [\"09-2019\", \"YOSE\"], [\"10-2019\", \"YOSE\"], [\"11-2019\", \"YOSE\"], [\"12-2019\", \"YOSE\"]], \"hoverlabel\": {\"namelength\": 0}, \"hovertemplate\": \"Park Code=%{customdata[1]}<br>Temperature=%{x}<br>Visitor Count=%{marker.size}<br>Unit Time=%{customdata[0]}\", \"legendgroup\": \"YOSE\", \"marker\": {\"color\": \"#EF553B\", \"size\": [116746, 111665, 173610, 297207, 393004, 496625, 717462, 703153, 584664, 448939, 230598, 149188], \"sizemode\": \"area\", \"sizeref\": 4032.8325, \"symbol\": \"circle\"}, \"mode\": \"markers\", \"name\": \"YOSE\", \"showlegend\": true, \"type\": \"scatter\", \"x\": [11.69, 30.27, 27.38, 39.63, 49.81, 62.1, 56.03, 54.13, 53.47, 43.04, 40.05, 27.88], \"xaxis\": \"x\", \"y\": [116746, 111665, 173610, 297207, 393004, 496625, 717462, 703153, 584664, 448939, 230598, 149188], \"yaxis\": \"y\"}, {\"customdata\": [[\"01-2019\", \"ZION\"], [\"01-2019\", \"ZION\"], [\"03-2019\", \"ZION\"], [\"04-2019\", \"ZION\"], [\"05-2019\", \"ZION\"], [\"06-2019\", \"ZION\"], [\"07-2019\", \"ZION\"], [\"08-2019\", \"ZION\"], [\"09-2019\", \"ZION\"], [\"10-2019\", \"ZION\"], [\"11-2019\", \"ZION\"], [\"12-2019\", \"ZION\"]], \"hoverlabel\": {\"namelength\": 0}, \"hovertemplate\": \"Park Code=%{customdata[1]}<br>Temperature=%{x}<br>Visitor Count=%{marker.size}<br>Unit Time=%{customdata[0]}\", \"legendgroup\": \"ZION\", \"marker\": {\"color\": \"#00cc96\", \"size\": [98828, 102269, 296316, 372349, 529553, 594896, 629802, 535322, 497443, 429604, 230180, 171706], \"sizemode\": \"area\", \"sizeref\": 4032.8325, \"symbol\": \"circle\"}, \"mode\": \"markers\", \"name\": \"ZION\", \"showlegend\": true, \"type\": \"scatter\", \"x\": [14.88, 34.57, 39.89, 54.48, 68.08, 71.28, 70.95, 69.45, 64.77, 45.97, 42.49, 36.3], \"xaxis\": \"x\", \"y\": [98828, 102269, 296316, 372349, 529553, 594896, 629802, 535322, 497443, 429604, 230180, 171706], \"yaxis\": \"y\"}],\n",
       "                        {\"legend\": {\"itemsizing\": \"constant\", \"title\": {\"text\": \"Park Code\"}, \"tracegroupgap\": 0}, \"margin\": {\"t\": 60}, \"template\": {\"data\": {\"bar\": [{\"error_x\": {\"color\": \"#2a3f5f\"}, \"error_y\": {\"color\": \"#2a3f5f\"}, \"marker\": {\"line\": {\"color\": \"#E5ECF6\", \"width\": 0.5}}, \"type\": \"bar\"}], \"barpolar\": [{\"marker\": {\"line\": {\"color\": \"#E5ECF6\", \"width\": 0.5}}, \"type\": \"barpolar\"}], \"carpet\": [{\"aaxis\": {\"endlinecolor\": \"#2a3f5f\", \"gridcolor\": \"white\", \"linecolor\": \"white\", \"minorgridcolor\": \"white\", \"startlinecolor\": \"#2a3f5f\"}, \"baxis\": {\"endlinecolor\": \"#2a3f5f\", \"gridcolor\": \"white\", \"linecolor\": \"white\", \"minorgridcolor\": \"white\", \"startlinecolor\": \"#2a3f5f\"}, \"type\": \"carpet\"}], \"choropleth\": [{\"colorbar\": {\"outlinewidth\": 0, \"ticks\": \"\"}, \"type\": \"choropleth\"}], \"contour\": [{\"colorbar\": {\"outlinewidth\": 0, \"ticks\": \"\"}, \"colorscale\": [[0.0, \"#0d0887\"], [0.1111111111111111, \"#46039f\"], [0.2222222222222222, \"#7201a8\"], [0.3333333333333333, \"#9c179e\"], [0.4444444444444444, \"#bd3786\"], [0.5555555555555556, \"#d8576b\"], [0.6666666666666666, \"#ed7953\"], [0.7777777777777778, \"#fb9f3a\"], [0.8888888888888888, \"#fdca26\"], [1.0, \"#f0f921\"]], \"type\": \"contour\"}], \"contourcarpet\": [{\"colorbar\": {\"outlinewidth\": 0, \"ticks\": \"\"}, \"type\": \"contourcarpet\"}], \"heatmap\": [{\"colorbar\": {\"outlinewidth\": 0, \"ticks\": \"\"}, \"colorscale\": [[0.0, \"#0d0887\"], [0.1111111111111111, \"#46039f\"], [0.2222222222222222, \"#7201a8\"], [0.3333333333333333, \"#9c179e\"], [0.4444444444444444, \"#bd3786\"], [0.5555555555555556, \"#d8576b\"], [0.6666666666666666, \"#ed7953\"], [0.7777777777777778, \"#fb9f3a\"], [0.8888888888888888, \"#fdca26\"], [1.0, \"#f0f921\"]], \"type\": \"heatmap\"}], \"heatmapgl\": [{\"colorbar\": {\"outlinewidth\": 0, \"ticks\": \"\"}, \"colorscale\": [[0.0, \"#0d0887\"], [0.1111111111111111, \"#46039f\"], [0.2222222222222222, \"#7201a8\"], [0.3333333333333333, \"#9c179e\"], [0.4444444444444444, \"#bd3786\"], [0.5555555555555556, \"#d8576b\"], [0.6666666666666666, \"#ed7953\"], [0.7777777777777778, \"#fb9f3a\"], [0.8888888888888888, \"#fdca26\"], [1.0, \"#f0f921\"]], \"type\": \"heatmapgl\"}], \"histogram\": [{\"marker\": {\"colorbar\": {\"outlinewidth\": 0, \"ticks\": \"\"}}, \"type\": \"histogram\"}], \"histogram2d\": [{\"colorbar\": {\"outlinewidth\": 0, \"ticks\": \"\"}, \"colorscale\": [[0.0, \"#0d0887\"], [0.1111111111111111, \"#46039f\"], [0.2222222222222222, \"#7201a8\"], [0.3333333333333333, \"#9c179e\"], [0.4444444444444444, \"#bd3786\"], [0.5555555555555556, \"#d8576b\"], [0.6666666666666666, \"#ed7953\"], [0.7777777777777778, \"#fb9f3a\"], [0.8888888888888888, \"#fdca26\"], [1.0, \"#f0f921\"]], \"type\": \"histogram2d\"}], \"histogram2dcontour\": [{\"colorbar\": {\"outlinewidth\": 0, \"ticks\": \"\"}, \"colorscale\": [[0.0, \"#0d0887\"], [0.1111111111111111, \"#46039f\"], [0.2222222222222222, \"#7201a8\"], [0.3333333333333333, \"#9c179e\"], [0.4444444444444444, \"#bd3786\"], [0.5555555555555556, \"#d8576b\"], [0.6666666666666666, \"#ed7953\"], [0.7777777777777778, \"#fb9f3a\"], [0.8888888888888888, \"#fdca26\"], [1.0, \"#f0f921\"]], \"type\": \"histogram2dcontour\"}], \"mesh3d\": [{\"colorbar\": {\"outlinewidth\": 0, \"ticks\": \"\"}, \"type\": \"mesh3d\"}], \"parcoords\": [{\"line\": {\"colorbar\": {\"outlinewidth\": 0, \"ticks\": \"\"}}, \"type\": \"parcoords\"}], \"pie\": [{\"automargin\": true, \"type\": \"pie\"}], \"scatter\": [{\"marker\": {\"colorbar\": {\"outlinewidth\": 0, \"ticks\": \"\"}}, \"type\": \"scatter\"}], \"scatter3d\": [{\"line\": {\"colorbar\": {\"outlinewidth\": 0, \"ticks\": \"\"}}, \"marker\": {\"colorbar\": {\"outlinewidth\": 0, \"ticks\": \"\"}}, \"type\": \"scatter3d\"}], \"scattercarpet\": [{\"marker\": {\"colorbar\": {\"outlinewidth\": 0, \"ticks\": \"\"}}, \"type\": \"scattercarpet\"}], \"scattergeo\": [{\"marker\": {\"colorbar\": {\"outlinewidth\": 0, \"ticks\": \"\"}}, \"type\": \"scattergeo\"}], \"scattergl\": [{\"marker\": {\"colorbar\": {\"outlinewidth\": 0, \"ticks\": \"\"}}, \"type\": \"scattergl\"}], \"scattermapbox\": [{\"marker\": {\"colorbar\": {\"outlinewidth\": 0, \"ticks\": \"\"}}, \"type\": \"scattermapbox\"}], \"scatterpolar\": [{\"marker\": {\"colorbar\": {\"outlinewidth\": 0, \"ticks\": \"\"}}, \"type\": \"scatterpolar\"}], \"scatterpolargl\": [{\"marker\": {\"colorbar\": {\"outlinewidth\": 0, \"ticks\": \"\"}}, \"type\": \"scatterpolargl\"}], \"scatterternary\": [{\"marker\": {\"colorbar\": {\"outlinewidth\": 0, \"ticks\": \"\"}}, \"type\": \"scatterternary\"}], \"surface\": [{\"colorbar\": {\"outlinewidth\": 0, \"ticks\": \"\"}, \"colorscale\": [[0.0, \"#0d0887\"], [0.1111111111111111, \"#46039f\"], [0.2222222222222222, \"#7201a8\"], [0.3333333333333333, \"#9c179e\"], [0.4444444444444444, \"#bd3786\"], [0.5555555555555556, \"#d8576b\"], [0.6666666666666666, \"#ed7953\"], [0.7777777777777778, \"#fb9f3a\"], [0.8888888888888888, \"#fdca26\"], [1.0, \"#f0f921\"]], \"type\": \"surface\"}], \"table\": [{\"cells\": {\"fill\": {\"color\": \"#EBF0F8\"}, \"line\": {\"color\": \"white\"}}, \"header\": {\"fill\": {\"color\": \"#C8D4E3\"}, \"line\": {\"color\": \"white\"}}, \"type\": \"table\"}]}, \"layout\": {\"annotationdefaults\": {\"arrowcolor\": \"#2a3f5f\", \"arrowhead\": 0, \"arrowwidth\": 1}, \"coloraxis\": {\"colorbar\": {\"outlinewidth\": 0, \"ticks\": \"\"}}, \"colorscale\": {\"diverging\": [[0, \"#8e0152\"], [0.1, \"#c51b7d\"], [0.2, \"#de77ae\"], [0.3, \"#f1b6da\"], [0.4, \"#fde0ef\"], [0.5, \"#f7f7f7\"], [0.6, \"#e6f5d0\"], [0.7, \"#b8e186\"], [0.8, \"#7fbc41\"], [0.9, \"#4d9221\"], [1, \"#276419\"]], \"sequential\": [[0.0, \"#0d0887\"], [0.1111111111111111, \"#46039f\"], [0.2222222222222222, \"#7201a8\"], [0.3333333333333333, \"#9c179e\"], [0.4444444444444444, \"#bd3786\"], [0.5555555555555556, \"#d8576b\"], [0.6666666666666666, \"#ed7953\"], [0.7777777777777778, \"#fb9f3a\"], [0.8888888888888888, \"#fdca26\"], [1.0, \"#f0f921\"]], \"sequentialminus\": [[0.0, \"#0d0887\"], [0.1111111111111111, \"#46039f\"], [0.2222222222222222, \"#7201a8\"], [0.3333333333333333, \"#9c179e\"], [0.4444444444444444, \"#bd3786\"], [0.5555555555555556, \"#d8576b\"], [0.6666666666666666, \"#ed7953\"], [0.7777777777777778, \"#fb9f3a\"], [0.8888888888888888, \"#fdca26\"], [1.0, \"#f0f921\"]]}, \"colorway\": [\"#636efa\", \"#EF553B\", \"#00cc96\", \"#ab63fa\", \"#FFA15A\", \"#19d3f3\", \"#FF6692\", \"#B6E880\", \"#FF97FF\", \"#FECB52\"], \"font\": {\"color\": \"#2a3f5f\"}, \"geo\": {\"bgcolor\": \"white\", \"lakecolor\": \"white\", \"landcolor\": \"#E5ECF6\", \"showlakes\": true, \"showland\": true, \"subunitcolor\": \"white\"}, \"hoverlabel\": {\"align\": \"left\"}, \"hovermode\": \"closest\", \"mapbox\": {\"style\": \"light\"}, \"paper_bgcolor\": \"white\", \"plot_bgcolor\": \"#E5ECF6\", \"polar\": {\"angularaxis\": {\"gridcolor\": \"white\", \"linecolor\": \"white\", \"ticks\": \"\"}, \"bgcolor\": \"#E5ECF6\", \"radialaxis\": {\"gridcolor\": \"white\", \"linecolor\": \"white\", \"ticks\": \"\"}}, \"scene\": {\"xaxis\": {\"backgroundcolor\": \"#E5ECF6\", \"gridcolor\": \"white\", \"gridwidth\": 2, \"linecolor\": \"white\", \"showbackground\": true, \"ticks\": \"\", \"zerolinecolor\": \"white\"}, \"yaxis\": {\"backgroundcolor\": \"#E5ECF6\", \"gridcolor\": \"white\", \"gridwidth\": 2, \"linecolor\": \"white\", \"showbackground\": true, \"ticks\": \"\", \"zerolinecolor\": \"white\"}, \"zaxis\": {\"backgroundcolor\": \"#E5ECF6\", \"gridcolor\": \"white\", \"gridwidth\": 2, \"linecolor\": \"white\", \"showbackground\": true, \"ticks\": \"\", \"zerolinecolor\": \"white\"}}, \"shapedefaults\": {\"line\": {\"color\": \"#2a3f5f\"}}, \"ternary\": {\"aaxis\": {\"gridcolor\": \"white\", \"linecolor\": \"white\", \"ticks\": \"\"}, \"baxis\": {\"gridcolor\": \"white\", \"linecolor\": \"white\", \"ticks\": \"\"}, \"bgcolor\": \"#E5ECF6\", \"caxis\": {\"gridcolor\": \"white\", \"linecolor\": \"white\", \"ticks\": \"\"}}, \"title\": {\"x\": 0.05}, \"xaxis\": {\"automargin\": true, \"gridcolor\": \"white\", \"linecolor\": \"white\", \"ticks\": \"\", \"title\": {\"standoff\": 15}, \"zerolinecolor\": \"white\", \"zerolinewidth\": 2}, \"yaxis\": {\"automargin\": true, \"gridcolor\": \"white\", \"linecolor\": \"white\", \"ticks\": \"\", \"title\": {\"standoff\": 15}, \"zerolinecolor\": \"white\", \"zerolinewidth\": 2}}}, \"xaxis\": {\"anchor\": \"y\", \"domain\": [0.0, 1.0], \"title\": {\"text\": \"Temperature\"}}, \"yaxis\": {\"anchor\": \"x\", \"domain\": [0.0, 1.0], \"title\": {\"text\": \"Visitor Count\"}}},\n",
       "                        {\"responsive\": true}\n",
       "                    ).then(function(){\n",
       "                            \n",
       "var gd = document.getElementById('5ee8727b-6973-422b-97e2-f4acf5499afb');\n",
       "var x = new MutationObserver(function (mutations, observer) {{\n",
       "        var display = window.getComputedStyle(gd).display;\n",
       "        if (!display || display === 'none') {{\n",
       "            console.log([gd, 'removed!']);\n",
       "            Plotly.purge(gd);\n",
       "            observer.disconnect();\n",
       "        }}\n",
       "}});\n",
       "\n",
       "// Listen for the removal of the full notebook cells\n",
       "var notebookContainer = gd.closest('#notebook-container');\n",
       "if (notebookContainer) {{\n",
       "    x.observe(notebookContainer, {childList: true});\n",
       "}}\n",
       "\n",
       "// Listen for the clearing of the current output cell\n",
       "var outputEl = gd.closest('.output');\n",
       "if (outputEl) {{\n",
       "    x.observe(outputEl, {childList: true});\n",
       "}}\n",
       "\n",
       "                        })\n",
       "                };\n",
       "                });\n",
       "            </script>\n",
       "        </div>"
      ]
     },
     "metadata": {},
     "output_type": "display_data"
    }
   ],
   "source": [
    "import plotly.express as px\n",
    "fig = px.scatter(temp_df, x=\"Temperature\", y=\"Visitor Count\", color=\"Park Code\",size='Visitor Count', hover_data=[\"Unit Time\",\"Park Code\"] )\n",
    "#fig.update_layout(title='Vistor Count vs. Number of National Parks For Every National Park')\n",
    "fig.write_image(output_data_file1)\n",
    "fig.show()"
   ]
  },
  {
   "cell_type": "markdown",
   "metadata": {},
   "source": [
    "#### Plot 2: Terrain Map of the US outlining the location of the parks with a colorscale of a temperature and a size of a visitor count. "
   ]
  },
  {
   "cell_type": "code",
   "execution_count": 91,
   "metadata": {},
   "outputs": [
    {
     "data": {
      "application/vnd.plotly.v1+json": {
       "config": {
        "plotlyServerURL": "https://plot.ly"
       },
       "data": [
        {
         "customdata": [
          [
           45.115,
           286440.5
          ],
          [
           53.29583333333332,
           138308.5
          ],
          [
           44.97333333333333,
           80916.5
          ],
          [
           64.76083333333332,
           38652.666666666664
          ],
          [
           79.43416666666666,
           59043.5
          ],
          [
           46.094166666666666,
           36068.166666666664
          ],
          [
           44.51583333333334,
           216242
          ],
          [
           54.70249999999999,
           61166.333333333336
          ],
          [
           54.342499999999994,
           102209.91666666667
          ],
          [
           61.52250000000001,
           36724.25
          ],
          [
           59.73333333333334,
           34135.833333333336
          ],
          [
           67.455,
           13287.083333333334
          ],
          [
           44.458333333333336,
           58709.333333333336
          ],
          [
           50.38166666666667,
           186499.75
          ],
          [
           62.77833333333334,
           145078.75
          ],
          [
           79.07833333333333,
           6600
          ],
          [
           77.62583333333335,
           93191.66666666667
          ],
          [
           35.192499999999995,
           254153.25
          ],
          [
           38.66416666666666,
           10983.5
          ],
          [
           57.29000000000001,
           497867.5833333333
          ],
          [
           53.5625,
           1045645.25
          ],
          [
           36.46333333333333,
           283801.1666666667
          ],
          [
           57.47166666666667,
           15736.083333333334
          ],
          [
           62.836666666666666,
           82866.16666666667
          ],
          [
           64.57666666666667,
           114031.33333333333
          ],
          [
           62.19166666666666,
           122262.75
          ],
          [
           47.00666666666667,
           177857.08333333334
          ],
          [
           32.385,
           2200.8333333333335
          ],
          [
           55.93833333333334,
           171275.75
          ],
          [
           70.60666666666665,
           249045.58333333334
          ],
          [
           34.152499999999996,
           29716.75
          ],
          [
           27.541666666666668,
           1313.8333333333333
          ],
          [
           43.512499999999996,
           43086.583333333336
          ],
          [
           57.951666666666675,
           45965.833333333336
          ],
          [
           47.660833333333336,
           46350.25
          ],
          [
           34.947500000000005,
           125135.08333333333
          ],
          [
           44.663333333333334,
           3184
          ],
          [
           82.61749999999999,
           5000.5
          ],
          [
           39.60166666666667,
           270483.8333333333
          ],
          [
           57.91833333333333,
           53632.333333333336
          ],
          [
           59.90083333333334,
           14768.666666666666
          ],
          [
           55.06916666666667,
           42060.166666666664
          ],
          [
           30.774999999999995,
           389171.0833333333
          ],
          [
           71.13666666666667,
           85018.83333333333
          ],
          [
           51.67083333333334,
           118792.25
          ],
          [
           39.57583333333333,
           57638.166666666664
          ],
          [
           77.91916666666667,
           11116.5
          ],
          [
           32.663333333333334,
           19414.5
          ],
          [
           65.7625,
           50732.083333333336
          ],
          [
           45.16166666666666,
           51279.166666666664
          ],
          [
           32.13166666666667,
           335024
          ],
          [
           41.29,
           368571.75
          ],
          [
           51.092499999999994,
           374022.3333333333
          ]
         ],
         "hoverlabel": {
          "namelength": 0
         },
         "hovertemplate": "<b>%{hovertext}</b><br><br>size=%{marker.size}<br>Temperature=%{marker.color}<br>Visitor Count=%{customdata[1]}<br>Lat=%{lat}<br>Lng=%{lon}",
         "hovertext": [
          "Acadia NP",
          "Arches NP",
          "Badlands NP",
          "Big Bend NP",
          "Biscayne NP",
          "Black Canyon of the Gunnison NP",
          "Bryce Canyon NP",
          "Canyonlands NP",
          "Capitol Reef NP",
          "Carlsbad Caverns NP",
          "Channel Islands NP",
          "Congaree NP",
          "Crater Lake NP",
          "Cuyahoga Valley NP",
          "Death Valley NP",
          "Dry Tortugas NP",
          "Everglades NP",
          "Glacier NP",
          "Great Basin NP",
          "Grand Canyon NP",
          "Great Smoky Mountains NP",
          "Grand Teton NP",
          "Guadalupe Mountains NP",
          "Haleakala NP",
          "Hawaii Volcanoes NP",
          "Hot Springs NP",
          "Indiana Dunes NP",
          "Isle Royale NP",
          "Gateway Arch NP",
          "Joshua Tree NP",
          "Kenai Fjords NP",
          "Kobuk Valley NP",
          "Lassen Volcanic NP",
          "Mammoth Cave NP",
          "Mesa Verde NP",
          "Mount Rainier NP",
          "North Cascades NP",
          "National Park of American Samoa",
          "Olympic NP",
          "Petrified Forest NP",
          "Pinnacles NP",
          "Redwood NP",
          "Rocky Mountain NP",
          "Saguaro NP",
          "Shenandoah NP",
          "Theodore Roosevelt NP",
          "Virgin Islands NP",
          "Voyageurs NP",
          "White Sands NP",
          "Wind Cave NP",
          "Yellowstone NP",
          "Yosemite NP",
          "Zion NP"
         ],
         "lat": [
          44.30777545,
          38.72261844,
          43.68584846,
          29.29817767,
          25.490587,
          38.57779869,
          37.58399144,
          38.24555783,
          38.2821653130533,
          32.14089463,
          33.98680093,
          33.79187523,
          42.94065854,
          41.26093905,
          36.48753731,
          24.628741,
          25.37294225,
          48.68414678,
          38.94617378,
          36.17280161,
          35.60116374,
          43.81853565,
          31.92304462,
          20.70693015,
          19.3355036,
          34.52414366,
          41.63765525,
          48.01145819,
          38.6258069,
          33.91418525,
          59.81804414,
          67.35631336,
          40.49354575,
          37.19760458,
          37.23908345,
          46.86075416,
          48.71171756,
          -14.22865935,
          47.80392754,
          34.98387664,
          36.49029208,
          41.37237268,
          40.3556924,
          32.20909636,
          38.49236644,
          47.17777274,
          18.34279656,
          48.48370609,
          32.77907858,
          43.58012365,
          44.59824417,
          37.84883288,
          37.29839254
         ],
         "legendgroup": "",
         "lon": [
          -68.30063316,
          -109.5863666,
          -102.482942,
          -103.2297897,
          -80.21023851,
          -107.7242756,
          -112.1826689,
          -109.8801624,
          -111.247048377991,
          -104.5529688,
          -119.9112735,
          -80.74867805,
          -122.1338414,
          -81.57116722,
          -117.134395,
          -82.87319,
          -80.88200301,
          -113.8009306,
          -114.2579782,
          -112.6836024,
          -83.50818326,
          -110.7054666,
          -104.885527,
          -156.1591775,
          -155.4700257,
          -93.06332936,
          -87.09647445,
          -88.82780657,
          -90.1892508,
          -115.8398125,
          -150.106502,
          -159.2002293,
          -121.4075993,
          -86.13090198,
          -108.4624032,
          -121.7043885,
          -121.2069423,
          -169.8503777,
          -123.6663848,
          -109.7877678,
          -121.1813607,
          -124.0318129,
          -105.6972879,
          -110.7574974,
          -78.46907715,
          -103.4300083,
          -64.74194451,
          -92.8382913,
          -106.3333461,
          -103.4394709,
          -110.5471695,
          -119.5571873,
          -113.0265138
         ],
         "marker": {
          "color": [
           45.115,
           53.29583333333332,
           44.97333333333333,
           64.76083333333332,
           79.43416666666666,
           46.094166666666666,
           44.51583333333334,
           54.70249999999999,
           54.342499999999994,
           61.52250000000001,
           59.73333333333334,
           67.455,
           44.458333333333336,
           50.38166666666667,
           62.77833333333334,
           79.07833333333333,
           77.62583333333335,
           35.192499999999995,
           38.66416666666666,
           57.29000000000001,
           53.5625,
           36.46333333333333,
           57.47166666666667,
           62.836666666666666,
           64.57666666666667,
           62.19166666666666,
           47.00666666666667,
           32.385,
           55.93833333333334,
           70.60666666666665,
           34.152499999999996,
           27.541666666666668,
           43.512499999999996,
           57.951666666666675,
           47.660833333333336,
           34.947500000000005,
           44.663333333333334,
           82.61749999999999,
           39.60166666666667,
           57.91833333333333,
           59.90083333333334,
           55.06916666666667,
           30.774999999999995,
           71.13666666666667,
           51.67083333333334,
           39.57583333333333,
           77.91916666666667,
           32.663333333333334,
           65.7625,
           45.16166666666666,
           32.13166666666667,
           41.29,
           51.092499999999994
          ],
          "coloraxis": "coloraxis",
          "size": [
           286.4405,
           138.3085,
           80.9165,
           38.65266666666666,
           59.0435,
           36.06816666666666,
           216.242,
           61.166333333333334,
           102.20991666666667,
           36.72425,
           34.13583333333334,
           13.287083333333333,
           58.70933333333333,
           186.49975,
           145.07875,
           6.6,
           93.19166666666668,
           254.15325,
           10.9835,
           497.8675833333333,
           1045.64525,
           283.8011666666667,
           15.736083333333333,
           82.86616666666667,
           114.03133333333332,
           122.26275,
           177.85708333333335,
           2.2008333333333336,
           171.27575,
           249.04558333333335,
           29.71675,
           1.3138333333333332,
           43.08658333333334,
           45.965833333333336,
           46.35025,
           125.13508333333333,
           3.184,
           5.0005,
           270.48383333333334,
           53.632333333333335,
           14.768666666666666,
           42.06016666666667,
           389.1710833333333,
           85.01883333333333,
           118.79225,
           57.63816666666666,
           11.1165,
           19.4145,
           50.732083333333335,
           51.27916666666666,
           335.024,
           368.57175,
           374.02233333333334
          ],
          "sizemode": "area",
          "sizeref": 2.6141131250000003
         },
         "mode": "markers",
         "name": "",
         "showlegend": false,
         "subplot": "mapbox",
         "type": "scattermapbox"
        }
       ],
       "layout": {
        "coloraxis": {
         "colorbar": {
          "title": {
           "text": "Temperature"
          }
         },
         "colorscale": [
          [
           0,
           "rgb(0,0,255)"
          ],
          [
           1,
           "rgb(255,0,0)"
          ]
         ]
        },
        "geo": {
         "landcolor": "rgb(217, 217, 217)",
         "scope": "usa"
        },
        "height": 300,
        "legend": {
         "itemsizing": "constant",
         "tracegroupgap": 0
        },
        "mapbox": {
         "center": {
          "lat": 37.39568742288778,
          "lon": -108.42855984543381
         },
         "domain": {
          "x": [
           0,
           1
          ],
          "y": [
           0,
           1
          ]
         },
         "layers": [
          {
           "below": "traces",
           "source": [
            "https://basemap.nationalmap.gov/arcgis/rest/services/USGSImageryOnly/MapServer/tile/{z}/{y}/{x}"
           ],
           "sourcetype": "raster"
          }
         ],
         "style": "white-bg",
         "zoom": 3
        },
        "margin": {
         "b": 0,
         "l": 0,
         "r": 0,
         "t": 0
        },
        "template": {
         "data": {
          "bar": [
           {
            "error_x": {
             "color": "#2a3f5f"
            },
            "error_y": {
             "color": "#2a3f5f"
            },
            "marker": {
             "line": {
              "color": "#E5ECF6",
              "width": 0.5
             }
            },
            "type": "bar"
           }
          ],
          "barpolar": [
           {
            "marker": {
             "line": {
              "color": "#E5ECF6",
              "width": 0.5
             }
            },
            "type": "barpolar"
           }
          ],
          "carpet": [
           {
            "aaxis": {
             "endlinecolor": "#2a3f5f",
             "gridcolor": "white",
             "linecolor": "white",
             "minorgridcolor": "white",
             "startlinecolor": "#2a3f5f"
            },
            "baxis": {
             "endlinecolor": "#2a3f5f",
             "gridcolor": "white",
             "linecolor": "white",
             "minorgridcolor": "white",
             "startlinecolor": "#2a3f5f"
            },
            "type": "carpet"
           }
          ],
          "choropleth": [
           {
            "colorbar": {
             "outlinewidth": 0,
             "ticks": ""
            },
            "type": "choropleth"
           }
          ],
          "contour": [
           {
            "colorbar": {
             "outlinewidth": 0,
             "ticks": ""
            },
            "colorscale": [
             [
              0,
              "#0d0887"
             ],
             [
              0.1111111111111111,
              "#46039f"
             ],
             [
              0.2222222222222222,
              "#7201a8"
             ],
             [
              0.3333333333333333,
              "#9c179e"
             ],
             [
              0.4444444444444444,
              "#bd3786"
             ],
             [
              0.5555555555555556,
              "#d8576b"
             ],
             [
              0.6666666666666666,
              "#ed7953"
             ],
             [
              0.7777777777777778,
              "#fb9f3a"
             ],
             [
              0.8888888888888888,
              "#fdca26"
             ],
             [
              1,
              "#f0f921"
             ]
            ],
            "type": "contour"
           }
          ],
          "contourcarpet": [
           {
            "colorbar": {
             "outlinewidth": 0,
             "ticks": ""
            },
            "type": "contourcarpet"
           }
          ],
          "heatmap": [
           {
            "colorbar": {
             "outlinewidth": 0,
             "ticks": ""
            },
            "colorscale": [
             [
              0,
              "#0d0887"
             ],
             [
              0.1111111111111111,
              "#46039f"
             ],
             [
              0.2222222222222222,
              "#7201a8"
             ],
             [
              0.3333333333333333,
              "#9c179e"
             ],
             [
              0.4444444444444444,
              "#bd3786"
             ],
             [
              0.5555555555555556,
              "#d8576b"
             ],
             [
              0.6666666666666666,
              "#ed7953"
             ],
             [
              0.7777777777777778,
              "#fb9f3a"
             ],
             [
              0.8888888888888888,
              "#fdca26"
             ],
             [
              1,
              "#f0f921"
             ]
            ],
            "type": "heatmap"
           }
          ],
          "heatmapgl": [
           {
            "colorbar": {
             "outlinewidth": 0,
             "ticks": ""
            },
            "colorscale": [
             [
              0,
              "#0d0887"
             ],
             [
              0.1111111111111111,
              "#46039f"
             ],
             [
              0.2222222222222222,
              "#7201a8"
             ],
             [
              0.3333333333333333,
              "#9c179e"
             ],
             [
              0.4444444444444444,
              "#bd3786"
             ],
             [
              0.5555555555555556,
              "#d8576b"
             ],
             [
              0.6666666666666666,
              "#ed7953"
             ],
             [
              0.7777777777777778,
              "#fb9f3a"
             ],
             [
              0.8888888888888888,
              "#fdca26"
             ],
             [
              1,
              "#f0f921"
             ]
            ],
            "type": "heatmapgl"
           }
          ],
          "histogram": [
           {
            "marker": {
             "colorbar": {
              "outlinewidth": 0,
              "ticks": ""
             }
            },
            "type": "histogram"
           }
          ],
          "histogram2d": [
           {
            "colorbar": {
             "outlinewidth": 0,
             "ticks": ""
            },
            "colorscale": [
             [
              0,
              "#0d0887"
             ],
             [
              0.1111111111111111,
              "#46039f"
             ],
             [
              0.2222222222222222,
              "#7201a8"
             ],
             [
              0.3333333333333333,
              "#9c179e"
             ],
             [
              0.4444444444444444,
              "#bd3786"
             ],
             [
              0.5555555555555556,
              "#d8576b"
             ],
             [
              0.6666666666666666,
              "#ed7953"
             ],
             [
              0.7777777777777778,
              "#fb9f3a"
             ],
             [
              0.8888888888888888,
              "#fdca26"
             ],
             [
              1,
              "#f0f921"
             ]
            ],
            "type": "histogram2d"
           }
          ],
          "histogram2dcontour": [
           {
            "colorbar": {
             "outlinewidth": 0,
             "ticks": ""
            },
            "colorscale": [
             [
              0,
              "#0d0887"
             ],
             [
              0.1111111111111111,
              "#46039f"
             ],
             [
              0.2222222222222222,
              "#7201a8"
             ],
             [
              0.3333333333333333,
              "#9c179e"
             ],
             [
              0.4444444444444444,
              "#bd3786"
             ],
             [
              0.5555555555555556,
              "#d8576b"
             ],
             [
              0.6666666666666666,
              "#ed7953"
             ],
             [
              0.7777777777777778,
              "#fb9f3a"
             ],
             [
              0.8888888888888888,
              "#fdca26"
             ],
             [
              1,
              "#f0f921"
             ]
            ],
            "type": "histogram2dcontour"
           }
          ],
          "mesh3d": [
           {
            "colorbar": {
             "outlinewidth": 0,
             "ticks": ""
            },
            "type": "mesh3d"
           }
          ],
          "parcoords": [
           {
            "line": {
             "colorbar": {
              "outlinewidth": 0,
              "ticks": ""
             }
            },
            "type": "parcoords"
           }
          ],
          "pie": [
           {
            "automargin": true,
            "type": "pie"
           }
          ],
          "scatter": [
           {
            "marker": {
             "colorbar": {
              "outlinewidth": 0,
              "ticks": ""
             }
            },
            "type": "scatter"
           }
          ],
          "scatter3d": [
           {
            "line": {
             "colorbar": {
              "outlinewidth": 0,
              "ticks": ""
             }
            },
            "marker": {
             "colorbar": {
              "outlinewidth": 0,
              "ticks": ""
             }
            },
            "type": "scatter3d"
           }
          ],
          "scattercarpet": [
           {
            "marker": {
             "colorbar": {
              "outlinewidth": 0,
              "ticks": ""
             }
            },
            "type": "scattercarpet"
           }
          ],
          "scattergeo": [
           {
            "marker": {
             "colorbar": {
              "outlinewidth": 0,
              "ticks": ""
             }
            },
            "type": "scattergeo"
           }
          ],
          "scattergl": [
           {
            "marker": {
             "colorbar": {
              "outlinewidth": 0,
              "ticks": ""
             }
            },
            "type": "scattergl"
           }
          ],
          "scattermapbox": [
           {
            "marker": {
             "colorbar": {
              "outlinewidth": 0,
              "ticks": ""
             }
            },
            "type": "scattermapbox"
           }
          ],
          "scatterpolar": [
           {
            "marker": {
             "colorbar": {
              "outlinewidth": 0,
              "ticks": ""
             }
            },
            "type": "scatterpolar"
           }
          ],
          "scatterpolargl": [
           {
            "marker": {
             "colorbar": {
              "outlinewidth": 0,
              "ticks": ""
             }
            },
            "type": "scatterpolargl"
           }
          ],
          "scatterternary": [
           {
            "marker": {
             "colorbar": {
              "outlinewidth": 0,
              "ticks": ""
             }
            },
            "type": "scatterternary"
           }
          ],
          "surface": [
           {
            "colorbar": {
             "outlinewidth": 0,
             "ticks": ""
            },
            "colorscale": [
             [
              0,
              "#0d0887"
             ],
             [
              0.1111111111111111,
              "#46039f"
             ],
             [
              0.2222222222222222,
              "#7201a8"
             ],
             [
              0.3333333333333333,
              "#9c179e"
             ],
             [
              0.4444444444444444,
              "#bd3786"
             ],
             [
              0.5555555555555556,
              "#d8576b"
             ],
             [
              0.6666666666666666,
              "#ed7953"
             ],
             [
              0.7777777777777778,
              "#fb9f3a"
             ],
             [
              0.8888888888888888,
              "#fdca26"
             ],
             [
              1,
              "#f0f921"
             ]
            ],
            "type": "surface"
           }
          ],
          "table": [
           {
            "cells": {
             "fill": {
              "color": "#EBF0F8"
             },
             "line": {
              "color": "white"
             }
            },
            "header": {
             "fill": {
              "color": "#C8D4E3"
             },
             "line": {
              "color": "white"
             }
            },
            "type": "table"
           }
          ]
         },
         "layout": {
          "annotationdefaults": {
           "arrowcolor": "#2a3f5f",
           "arrowhead": 0,
           "arrowwidth": 1
          },
          "coloraxis": {
           "colorbar": {
            "outlinewidth": 0,
            "ticks": ""
           }
          },
          "colorscale": {
           "diverging": [
            [
             0,
             "#8e0152"
            ],
            [
             0.1,
             "#c51b7d"
            ],
            [
             0.2,
             "#de77ae"
            ],
            [
             0.3,
             "#f1b6da"
            ],
            [
             0.4,
             "#fde0ef"
            ],
            [
             0.5,
             "#f7f7f7"
            ],
            [
             0.6,
             "#e6f5d0"
            ],
            [
             0.7,
             "#b8e186"
            ],
            [
             0.8,
             "#7fbc41"
            ],
            [
             0.9,
             "#4d9221"
            ],
            [
             1,
             "#276419"
            ]
           ],
           "sequential": [
            [
             0,
             "#0d0887"
            ],
            [
             0.1111111111111111,
             "#46039f"
            ],
            [
             0.2222222222222222,
             "#7201a8"
            ],
            [
             0.3333333333333333,
             "#9c179e"
            ],
            [
             0.4444444444444444,
             "#bd3786"
            ],
            [
             0.5555555555555556,
             "#d8576b"
            ],
            [
             0.6666666666666666,
             "#ed7953"
            ],
            [
             0.7777777777777778,
             "#fb9f3a"
            ],
            [
             0.8888888888888888,
             "#fdca26"
            ],
            [
             1,
             "#f0f921"
            ]
           ],
           "sequentialminus": [
            [
             0,
             "#0d0887"
            ],
            [
             0.1111111111111111,
             "#46039f"
            ],
            [
             0.2222222222222222,
             "#7201a8"
            ],
            [
             0.3333333333333333,
             "#9c179e"
            ],
            [
             0.4444444444444444,
             "#bd3786"
            ],
            [
             0.5555555555555556,
             "#d8576b"
            ],
            [
             0.6666666666666666,
             "#ed7953"
            ],
            [
             0.7777777777777778,
             "#fb9f3a"
            ],
            [
             0.8888888888888888,
             "#fdca26"
            ],
            [
             1,
             "#f0f921"
            ]
           ]
          },
          "colorway": [
           "#636efa",
           "#EF553B",
           "#00cc96",
           "#ab63fa",
           "#FFA15A",
           "#19d3f3",
           "#FF6692",
           "#B6E880",
           "#FF97FF",
           "#FECB52"
          ],
          "font": {
           "color": "#2a3f5f"
          },
          "geo": {
           "bgcolor": "white",
           "lakecolor": "white",
           "landcolor": "#E5ECF6",
           "showlakes": true,
           "showland": true,
           "subunitcolor": "white"
          },
          "hoverlabel": {
           "align": "left"
          },
          "hovermode": "closest",
          "mapbox": {
           "style": "light"
          },
          "paper_bgcolor": "white",
          "plot_bgcolor": "#E5ECF6",
          "polar": {
           "angularaxis": {
            "gridcolor": "white",
            "linecolor": "white",
            "ticks": ""
           },
           "bgcolor": "#E5ECF6",
           "radialaxis": {
            "gridcolor": "white",
            "linecolor": "white",
            "ticks": ""
           }
          },
          "scene": {
           "xaxis": {
            "backgroundcolor": "#E5ECF6",
            "gridcolor": "white",
            "gridwidth": 2,
            "linecolor": "white",
            "showbackground": true,
            "ticks": "",
            "zerolinecolor": "white"
           },
           "yaxis": {
            "backgroundcolor": "#E5ECF6",
            "gridcolor": "white",
            "gridwidth": 2,
            "linecolor": "white",
            "showbackground": true,
            "ticks": "",
            "zerolinecolor": "white"
           },
           "zaxis": {
            "backgroundcolor": "#E5ECF6",
            "gridcolor": "white",
            "gridwidth": 2,
            "linecolor": "white",
            "showbackground": true,
            "ticks": "",
            "zerolinecolor": "white"
           }
          },
          "shapedefaults": {
           "line": {
            "color": "#2a3f5f"
           }
          },
          "ternary": {
           "aaxis": {
            "gridcolor": "white",
            "linecolor": "white",
            "ticks": ""
           },
           "baxis": {
            "gridcolor": "white",
            "linecolor": "white",
            "ticks": ""
           },
           "bgcolor": "#E5ECF6",
           "caxis": {
            "gridcolor": "white",
            "linecolor": "white",
            "ticks": ""
           }
          },
          "title": {
           "x": 0.05
          },
          "xaxis": {
           "automargin": true,
           "gridcolor": "white",
           "linecolor": "white",
           "ticks": "",
           "title": {
            "standoff": 15
           },
           "zerolinecolor": "white",
           "zerolinewidth": 2
          },
          "yaxis": {
           "automargin": true,
           "gridcolor": "white",
           "linecolor": "white",
           "ticks": "",
           "title": {
            "standoff": 15
           },
           "zerolinecolor": "white",
           "zerolinewidth": 2
          }
         }
        },
        "title": {
         "text": "Terrain Map showing each National Park"
        }
       }
      },
      "text/html": [
       "<div>\n",
       "        \n",
       "        \n",
       "            <div id=\"f3b90a47-e03f-4c0b-b2ae-cf34dfdbf07e\" class=\"plotly-graph-div\" style=\"height:300px; width:100%;\"></div>\n",
       "            <script type=\"text/javascript\">\n",
       "                require([\"plotly\"], function(Plotly) {\n",
       "                    window.PLOTLYENV=window.PLOTLYENV || {};\n",
       "                    \n",
       "                if (document.getElementById(\"f3b90a47-e03f-4c0b-b2ae-cf34dfdbf07e\")) {\n",
       "                    Plotly.newPlot(\n",
       "                        'f3b90a47-e03f-4c0b-b2ae-cf34dfdbf07e',\n",
       "                        [{\"customdata\": [[45.115, 286440.5], [53.29583333333332, 138308.5], [44.97333333333333, 80916.5], [64.76083333333332, 38652.666666666664], [79.43416666666666, 59043.5], [46.094166666666666, 36068.166666666664], [44.51583333333334, 216242.0], [54.70249999999999, 61166.333333333336], [54.342499999999994, 102209.91666666667], [61.52250000000001, 36724.25], [59.73333333333334, 34135.833333333336], [67.455, 13287.083333333334], [44.458333333333336, 58709.333333333336], [50.38166666666667, 186499.75], [62.77833333333334, 145078.75], [79.07833333333333, 6600.0], [77.62583333333335, 93191.66666666667], [35.192499999999995, 254153.25], [38.66416666666666, 10983.5], [57.29000000000001, 497867.5833333333], [53.5625, 1045645.25], [36.46333333333333, 283801.1666666667], [57.47166666666667, 15736.083333333334], [62.836666666666666, 82866.16666666667], [64.57666666666667, 114031.33333333333], [62.19166666666666, 122262.75], [47.00666666666667, 177857.08333333334], [32.385, 2200.8333333333335], [55.93833333333334, 171275.75], [70.60666666666665, 249045.58333333334], [34.152499999999996, 29716.75], [27.541666666666668, 1313.8333333333333], [43.512499999999996, 43086.583333333336], [57.951666666666675, 45965.833333333336], [47.660833333333336, 46350.25], [34.947500000000005, 125135.08333333333], [44.663333333333334, 3184.0], [82.61749999999999, 5000.5], [39.60166666666667, 270483.8333333333], [57.91833333333333, 53632.333333333336], [59.90083333333334, 14768.666666666666], [55.06916666666667, 42060.166666666664], [30.774999999999995, 389171.0833333333], [71.13666666666667, 85018.83333333333], [51.67083333333334, 118792.25], [39.57583333333333, 57638.166666666664], [77.91916666666667, 11116.5], [32.663333333333334, 19414.5], [65.7625, 50732.083333333336], [45.16166666666666, 51279.166666666664], [32.13166666666667, 335024.0], [41.29, 368571.75], [51.092499999999994, 374022.3333333333]], \"hoverlabel\": {\"namelength\": 0}, \"hovertemplate\": \"<b>%{hovertext}</b><br><br>size=%{marker.size}<br>Temperature=%{marker.color}<br>Visitor Count=%{customdata[1]}<br>Lat=%{lat}<br>Lng=%{lon}\", \"hovertext\": [\"Acadia NP\", \"Arches NP\", \"Badlands NP\", \"Big Bend NP\", \"Biscayne NP\", \"Black Canyon of the Gunnison NP\", \"Bryce Canyon NP\", \"Canyonlands NP\", \"Capitol Reef NP\", \"Carlsbad Caverns NP\", \"Channel Islands NP\", \"Congaree NP\", \"Crater Lake NP\", \"Cuyahoga Valley NP\", \"Death Valley NP\", \"Dry Tortugas NP\", \"Everglades NP\", \"Glacier NP\", \"Great Basin NP\", \"Grand Canyon NP\", \"Great Smoky Mountains NP\", \"Grand Teton NP\", \"Guadalupe Mountains NP\", \"Haleakala NP\", \"Hawaii Volcanoes NP\", \"Hot Springs NP\", \"Indiana Dunes NP\", \"Isle Royale NP\", \"Gateway Arch NP\", \"Joshua Tree NP\", \"Kenai Fjords NP\", \"Kobuk Valley NP\", \"Lassen Volcanic NP\", \"Mammoth Cave NP\", \"Mesa Verde NP\", \"Mount Rainier NP\", \"North Cascades NP\", \"National Park of American Samoa\", \"Olympic NP\", \"Petrified Forest NP\", \"Pinnacles NP\", \"Redwood NP\", \"Rocky Mountain NP\", \"Saguaro NP\", \"Shenandoah NP\", \"Theodore Roosevelt NP\", \"Virgin Islands NP\", \"Voyageurs NP\", \"White Sands NP\", \"Wind Cave NP\", \"Yellowstone NP\", \"Yosemite NP\", \"Zion NP\"], \"lat\": [44.30777545, 38.72261844, 43.68584846, 29.29817767, 25.490587, 38.57779869, 37.58399144, 38.24555783, 38.2821653130533, 32.14089463, 33.98680093, 33.79187523, 42.94065854, 41.26093905, 36.48753731, 24.628741, 25.37294225, 48.68414678, 38.94617378, 36.17280161, 35.60116374, 43.81853565, 31.92304462, 20.70693015, 19.3355036, 34.52414366, 41.63765525, 48.01145819, 38.6258069, 33.91418525, 59.81804414, 67.35631336, 40.49354575, 37.19760458, 37.23908345, 46.86075416, 48.71171756, -14.22865935, 47.80392754, 34.98387664, 36.49029208, 41.37237268, 40.3556924, 32.20909636, 38.49236644, 47.17777274, 18.34279656, 48.48370609, 32.77907858, 43.58012365, 44.59824417, 37.84883288, 37.29839254], \"legendgroup\": \"\", \"lon\": [-68.30063316, -109.5863666, -102.482942, -103.2297897, -80.21023851, -107.7242756, -112.1826689, -109.8801624, -111.247048377991, -104.5529688, -119.9112735, -80.74867805, -122.1338414, -81.57116722, -117.134395, -82.87319, -80.88200301, -113.8009306, -114.2579782, -112.6836024, -83.50818326, -110.7054666, -104.885527, -156.1591775, -155.4700257, -93.06332936, -87.09647445, -88.82780657, -90.1892508, -115.8398125, -150.106502, -159.2002293, -121.4075993, -86.13090198, -108.4624032, -121.7043885, -121.2069423, -169.8503777, -123.6663848, -109.7877678, -121.1813607, -124.0318129, -105.6972879, -110.7574974, -78.46907715, -103.4300083, -64.74194451, -92.8382913, -106.3333461, -103.4394709, -110.5471695, -119.5571873, -113.0265138], \"marker\": {\"color\": [45.115, 53.29583333333332, 44.97333333333333, 64.76083333333332, 79.43416666666666, 46.094166666666666, 44.51583333333334, 54.70249999999999, 54.342499999999994, 61.52250000000001, 59.73333333333334, 67.455, 44.458333333333336, 50.38166666666667, 62.77833333333334, 79.07833333333333, 77.62583333333335, 35.192499999999995, 38.66416666666666, 57.29000000000001, 53.5625, 36.46333333333333, 57.47166666666667, 62.836666666666666, 64.57666666666667, 62.19166666666666, 47.00666666666667, 32.385, 55.93833333333334, 70.60666666666665, 34.152499999999996, 27.541666666666668, 43.512499999999996, 57.951666666666675, 47.660833333333336, 34.947500000000005, 44.663333333333334, 82.61749999999999, 39.60166666666667, 57.91833333333333, 59.90083333333334, 55.06916666666667, 30.774999999999995, 71.13666666666667, 51.67083333333334, 39.57583333333333, 77.91916666666667, 32.663333333333334, 65.7625, 45.16166666666666, 32.13166666666667, 41.29, 51.092499999999994], \"coloraxis\": \"coloraxis\", \"size\": [286.4405, 138.3085, 80.9165, 38.65266666666666, 59.0435, 36.06816666666666, 216.242, 61.166333333333334, 102.20991666666667, 36.72425, 34.13583333333334, 13.287083333333333, 58.70933333333333, 186.49975, 145.07875, 6.6, 93.19166666666668, 254.15325, 10.9835, 497.8675833333333, 1045.64525, 283.8011666666667, 15.736083333333333, 82.86616666666667, 114.03133333333332, 122.26275, 177.85708333333335, 2.2008333333333336, 171.27575, 249.04558333333335, 29.71675, 1.3138333333333332, 43.08658333333334, 45.965833333333336, 46.35025, 125.13508333333333, 3.184, 5.0005, 270.48383333333334, 53.632333333333335, 14.768666666666666, 42.06016666666667, 389.1710833333333, 85.01883333333333, 118.79225, 57.63816666666666, 11.1165, 19.4145, 50.732083333333335, 51.27916666666666, 335.024, 368.57175, 374.02233333333334], \"sizemode\": \"area\", \"sizeref\": 2.6141131250000003}, \"mode\": \"markers\", \"name\": \"\", \"showlegend\": false, \"subplot\": \"mapbox\", \"type\": \"scattermapbox\"}],\n",
       "                        {\"coloraxis\": {\"colorbar\": {\"title\": {\"text\": \"Temperature\"}}, \"colorscale\": [[0.0, \"rgb(0,0,255)\"], [1.0, \"rgb(255,0,0)\"]]}, \"geo\": {\"landcolor\": \"rgb(217, 217, 217)\", \"scope\": \"usa\"}, \"height\": 300, \"legend\": {\"itemsizing\": \"constant\", \"tracegroupgap\": 0}, \"mapbox\": {\"center\": {\"lat\": 37.39568742288778, \"lon\": -108.42855984543381}, \"domain\": {\"x\": [0.0, 1.0], \"y\": [0.0, 1.0]}, \"layers\": [{\"below\": \"traces\", \"source\": [\"https://basemap.nationalmap.gov/arcgis/rest/services/USGSImageryOnly/MapServer/tile/{z}/{y}/{x}\"], \"sourcetype\": \"raster\"}], \"style\": \"white-bg\", \"zoom\": 3}, \"margin\": {\"b\": 0, \"l\": 0, \"r\": 0, \"t\": 0}, \"template\": {\"data\": {\"bar\": [{\"error_x\": {\"color\": \"#2a3f5f\"}, \"error_y\": {\"color\": \"#2a3f5f\"}, \"marker\": {\"line\": {\"color\": \"#E5ECF6\", \"width\": 0.5}}, \"type\": \"bar\"}], \"barpolar\": [{\"marker\": {\"line\": {\"color\": \"#E5ECF6\", \"width\": 0.5}}, \"type\": \"barpolar\"}], \"carpet\": [{\"aaxis\": {\"endlinecolor\": \"#2a3f5f\", \"gridcolor\": \"white\", \"linecolor\": \"white\", \"minorgridcolor\": \"white\", \"startlinecolor\": \"#2a3f5f\"}, \"baxis\": {\"endlinecolor\": \"#2a3f5f\", \"gridcolor\": \"white\", \"linecolor\": \"white\", \"minorgridcolor\": \"white\", \"startlinecolor\": \"#2a3f5f\"}, \"type\": \"carpet\"}], \"choropleth\": [{\"colorbar\": {\"outlinewidth\": 0, \"ticks\": \"\"}, \"type\": \"choropleth\"}], \"contour\": [{\"colorbar\": {\"outlinewidth\": 0, \"ticks\": \"\"}, \"colorscale\": [[0.0, \"#0d0887\"], [0.1111111111111111, \"#46039f\"], [0.2222222222222222, \"#7201a8\"], [0.3333333333333333, \"#9c179e\"], [0.4444444444444444, \"#bd3786\"], [0.5555555555555556, \"#d8576b\"], [0.6666666666666666, \"#ed7953\"], [0.7777777777777778, \"#fb9f3a\"], [0.8888888888888888, \"#fdca26\"], [1.0, \"#f0f921\"]], \"type\": \"contour\"}], \"contourcarpet\": [{\"colorbar\": {\"outlinewidth\": 0, \"ticks\": \"\"}, \"type\": \"contourcarpet\"}], \"heatmap\": [{\"colorbar\": {\"outlinewidth\": 0, \"ticks\": \"\"}, \"colorscale\": [[0.0, \"#0d0887\"], [0.1111111111111111, \"#46039f\"], [0.2222222222222222, \"#7201a8\"], [0.3333333333333333, \"#9c179e\"], [0.4444444444444444, \"#bd3786\"], [0.5555555555555556, \"#d8576b\"], [0.6666666666666666, \"#ed7953\"], [0.7777777777777778, \"#fb9f3a\"], [0.8888888888888888, \"#fdca26\"], [1.0, \"#f0f921\"]], \"type\": \"heatmap\"}], \"heatmapgl\": [{\"colorbar\": {\"outlinewidth\": 0, \"ticks\": \"\"}, \"colorscale\": [[0.0, \"#0d0887\"], [0.1111111111111111, \"#46039f\"], [0.2222222222222222, \"#7201a8\"], [0.3333333333333333, \"#9c179e\"], [0.4444444444444444, \"#bd3786\"], [0.5555555555555556, \"#d8576b\"], [0.6666666666666666, \"#ed7953\"], [0.7777777777777778, \"#fb9f3a\"], [0.8888888888888888, \"#fdca26\"], [1.0, \"#f0f921\"]], \"type\": \"heatmapgl\"}], \"histogram\": [{\"marker\": {\"colorbar\": {\"outlinewidth\": 0, \"ticks\": \"\"}}, \"type\": \"histogram\"}], \"histogram2d\": [{\"colorbar\": {\"outlinewidth\": 0, \"ticks\": \"\"}, \"colorscale\": [[0.0, \"#0d0887\"], [0.1111111111111111, \"#46039f\"], [0.2222222222222222, \"#7201a8\"], [0.3333333333333333, \"#9c179e\"], [0.4444444444444444, \"#bd3786\"], [0.5555555555555556, \"#d8576b\"], [0.6666666666666666, \"#ed7953\"], [0.7777777777777778, \"#fb9f3a\"], [0.8888888888888888, \"#fdca26\"], [1.0, \"#f0f921\"]], \"type\": \"histogram2d\"}], \"histogram2dcontour\": [{\"colorbar\": {\"outlinewidth\": 0, \"ticks\": \"\"}, \"colorscale\": [[0.0, \"#0d0887\"], [0.1111111111111111, \"#46039f\"], [0.2222222222222222, \"#7201a8\"], [0.3333333333333333, \"#9c179e\"], [0.4444444444444444, \"#bd3786\"], [0.5555555555555556, \"#d8576b\"], [0.6666666666666666, \"#ed7953\"], [0.7777777777777778, \"#fb9f3a\"], [0.8888888888888888, \"#fdca26\"], [1.0, \"#f0f921\"]], \"type\": \"histogram2dcontour\"}], \"mesh3d\": [{\"colorbar\": {\"outlinewidth\": 0, \"ticks\": \"\"}, \"type\": \"mesh3d\"}], \"parcoords\": [{\"line\": {\"colorbar\": {\"outlinewidth\": 0, \"ticks\": \"\"}}, \"type\": \"parcoords\"}], \"pie\": [{\"automargin\": true, \"type\": \"pie\"}], \"scatter\": [{\"marker\": {\"colorbar\": {\"outlinewidth\": 0, \"ticks\": \"\"}}, \"type\": \"scatter\"}], \"scatter3d\": [{\"line\": {\"colorbar\": {\"outlinewidth\": 0, \"ticks\": \"\"}}, \"marker\": {\"colorbar\": {\"outlinewidth\": 0, \"ticks\": \"\"}}, \"type\": \"scatter3d\"}], \"scattercarpet\": [{\"marker\": {\"colorbar\": {\"outlinewidth\": 0, \"ticks\": \"\"}}, \"type\": \"scattercarpet\"}], \"scattergeo\": [{\"marker\": {\"colorbar\": {\"outlinewidth\": 0, \"ticks\": \"\"}}, \"type\": \"scattergeo\"}], \"scattergl\": [{\"marker\": {\"colorbar\": {\"outlinewidth\": 0, \"ticks\": \"\"}}, \"type\": \"scattergl\"}], \"scattermapbox\": [{\"marker\": {\"colorbar\": {\"outlinewidth\": 0, \"ticks\": \"\"}}, \"type\": \"scattermapbox\"}], \"scatterpolar\": [{\"marker\": {\"colorbar\": {\"outlinewidth\": 0, \"ticks\": \"\"}}, \"type\": \"scatterpolar\"}], \"scatterpolargl\": [{\"marker\": {\"colorbar\": {\"outlinewidth\": 0, \"ticks\": \"\"}}, \"type\": \"scatterpolargl\"}], \"scatterternary\": [{\"marker\": {\"colorbar\": {\"outlinewidth\": 0, \"ticks\": \"\"}}, \"type\": \"scatterternary\"}], \"surface\": [{\"colorbar\": {\"outlinewidth\": 0, \"ticks\": \"\"}, \"colorscale\": [[0.0, \"#0d0887\"], [0.1111111111111111, \"#46039f\"], [0.2222222222222222, \"#7201a8\"], [0.3333333333333333, \"#9c179e\"], [0.4444444444444444, \"#bd3786\"], [0.5555555555555556, \"#d8576b\"], [0.6666666666666666, \"#ed7953\"], [0.7777777777777778, \"#fb9f3a\"], [0.8888888888888888, \"#fdca26\"], [1.0, \"#f0f921\"]], \"type\": \"surface\"}], \"table\": [{\"cells\": {\"fill\": {\"color\": \"#EBF0F8\"}, \"line\": {\"color\": \"white\"}}, \"header\": {\"fill\": {\"color\": \"#C8D4E3\"}, \"line\": {\"color\": \"white\"}}, \"type\": \"table\"}]}, \"layout\": {\"annotationdefaults\": {\"arrowcolor\": \"#2a3f5f\", \"arrowhead\": 0, \"arrowwidth\": 1}, \"coloraxis\": {\"colorbar\": {\"outlinewidth\": 0, \"ticks\": \"\"}}, \"colorscale\": {\"diverging\": [[0, \"#8e0152\"], [0.1, \"#c51b7d\"], [0.2, \"#de77ae\"], [0.3, \"#f1b6da\"], [0.4, \"#fde0ef\"], [0.5, \"#f7f7f7\"], [0.6, \"#e6f5d0\"], [0.7, \"#b8e186\"], [0.8, \"#7fbc41\"], [0.9, \"#4d9221\"], [1, \"#276419\"]], \"sequential\": [[0.0, \"#0d0887\"], [0.1111111111111111, \"#46039f\"], [0.2222222222222222, \"#7201a8\"], [0.3333333333333333, \"#9c179e\"], [0.4444444444444444, \"#bd3786\"], [0.5555555555555556, \"#d8576b\"], [0.6666666666666666, \"#ed7953\"], [0.7777777777777778, \"#fb9f3a\"], [0.8888888888888888, \"#fdca26\"], [1.0, \"#f0f921\"]], \"sequentialminus\": [[0.0, \"#0d0887\"], [0.1111111111111111, \"#46039f\"], [0.2222222222222222, \"#7201a8\"], [0.3333333333333333, \"#9c179e\"], [0.4444444444444444, \"#bd3786\"], [0.5555555555555556, \"#d8576b\"], [0.6666666666666666, \"#ed7953\"], [0.7777777777777778, \"#fb9f3a\"], [0.8888888888888888, \"#fdca26\"], [1.0, \"#f0f921\"]]}, \"colorway\": [\"#636efa\", \"#EF553B\", \"#00cc96\", \"#ab63fa\", \"#FFA15A\", \"#19d3f3\", \"#FF6692\", \"#B6E880\", \"#FF97FF\", \"#FECB52\"], \"font\": {\"color\": \"#2a3f5f\"}, \"geo\": {\"bgcolor\": \"white\", \"lakecolor\": \"white\", \"landcolor\": \"#E5ECF6\", \"showlakes\": true, \"showland\": true, \"subunitcolor\": \"white\"}, \"hoverlabel\": {\"align\": \"left\"}, \"hovermode\": \"closest\", \"mapbox\": {\"style\": \"light\"}, \"paper_bgcolor\": \"white\", \"plot_bgcolor\": \"#E5ECF6\", \"polar\": {\"angularaxis\": {\"gridcolor\": \"white\", \"linecolor\": \"white\", \"ticks\": \"\"}, \"bgcolor\": \"#E5ECF6\", \"radialaxis\": {\"gridcolor\": \"white\", \"linecolor\": \"white\", \"ticks\": \"\"}}, \"scene\": {\"xaxis\": {\"backgroundcolor\": \"#E5ECF6\", \"gridcolor\": \"white\", \"gridwidth\": 2, \"linecolor\": \"white\", \"showbackground\": true, \"ticks\": \"\", \"zerolinecolor\": \"white\"}, \"yaxis\": {\"backgroundcolor\": \"#E5ECF6\", \"gridcolor\": \"white\", \"gridwidth\": 2, \"linecolor\": \"white\", \"showbackground\": true, \"ticks\": \"\", \"zerolinecolor\": \"white\"}, \"zaxis\": {\"backgroundcolor\": \"#E5ECF6\", \"gridcolor\": \"white\", \"gridwidth\": 2, \"linecolor\": \"white\", \"showbackground\": true, \"ticks\": \"\", \"zerolinecolor\": \"white\"}}, \"shapedefaults\": {\"line\": {\"color\": \"#2a3f5f\"}}, \"ternary\": {\"aaxis\": {\"gridcolor\": \"white\", \"linecolor\": \"white\", \"ticks\": \"\"}, \"baxis\": {\"gridcolor\": \"white\", \"linecolor\": \"white\", \"ticks\": \"\"}, \"bgcolor\": \"#E5ECF6\", \"caxis\": {\"gridcolor\": \"white\", \"linecolor\": \"white\", \"ticks\": \"\"}}, \"title\": {\"x\": 0.05}, \"xaxis\": {\"automargin\": true, \"gridcolor\": \"white\", \"linecolor\": \"white\", \"ticks\": \"\", \"title\": {\"standoff\": 15}, \"zerolinecolor\": \"white\", \"zerolinewidth\": 2}, \"yaxis\": {\"automargin\": true, \"gridcolor\": \"white\", \"linecolor\": \"white\", \"ticks\": \"\", \"title\": {\"standoff\": 15}, \"zerolinecolor\": \"white\", \"zerolinewidth\": 2}}}, \"title\": {\"text\": \"Terrain Map showing each National Park\"}},\n",
       "                        {\"responsive\": true}\n",
       "                    ).then(function(){\n",
       "                            \n",
       "var gd = document.getElementById('f3b90a47-e03f-4c0b-b2ae-cf34dfdbf07e');\n",
       "var x = new MutationObserver(function (mutations, observer) {{\n",
       "        var display = window.getComputedStyle(gd).display;\n",
       "        if (!display || display === 'none') {{\n",
       "            console.log([gd, 'removed!']);\n",
       "            Plotly.purge(gd);\n",
       "            observer.disconnect();\n",
       "        }}\n",
       "}});\n",
       "\n",
       "// Listen for the removal of the full notebook cells\n",
       "var notebookContainer = gd.closest('#notebook-container');\n",
       "if (notebookContainer) {{\n",
       "    x.observe(notebookContainer, {childList: true});\n",
       "}}\n",
       "\n",
       "// Listen for the clearing of the current output cell\n",
       "var outputEl = gd.closest('.output');\n",
       "if (outputEl) {{\n",
       "    x.observe(outputEl, {childList: true});\n",
       "}}\n",
       "\n",
       "                        })\n",
       "                };\n",
       "                });\n",
       "            </script>\n",
       "        </div>"
      ]
     },
     "metadata": {},
     "output_type": "display_data"
    }
   ],
   "source": [
    "import plotly.graph_objects as go\n",
    "import plotly.express as px\n",
    "\n",
    "# df['text'] = df['name'] + '<br>National Park visitors ' + (df['Percentage Visitors'].astype(str))+' %'\n",
    "# df.head()\n",
    "\n",
    "\n",
    "scale = 1000\n",
    "\n",
    "fig = go.Figure()\n",
    "   \n",
    "fig = px.scatter_mapbox(avg_temp_group, lat=\"Lat\", lon=\"Lng\", hover_name=\"Park Name\", \n",
    "                        hover_data=[\"Temperature\", \"Visitor Count\"],\n",
    "                        zoom=3, height=300, \n",
    "                        size = avg_temp_group['Visitor Count']/scale,            \n",
    "                        color = 'Temperature', \n",
    "                        color_continuous_scale='bluered')\n",
    "fig.update_layout(\n",
    "    mapbox_style=\"white-bg\",\n",
    "    mapbox_layers=[\n",
    "        {\n",
    "            \"below\": 'traces',\n",
    "            \"sourcetype\": \"raster\",\n",
    "            \"source\": [\n",
    "                \"https://basemap.nationalmap.gov/arcgis/rest/services/USGSImageryOnly/MapServer/tile/{z}/{y}/{x}\"\n",
    "            ]\n",
    "        }])\n",
    "\n",
    "fig.update_layout(margin={\"r\":0,\"t\":0,\"l\":0,\"b\":0})\n",
    "\n",
    "fig.update_layout(\n",
    "        title_text = 'Terrain Map showing each National Park',\n",
    "        geo = dict(\n",
    "            scope = 'usa',\n",
    "            landcolor = 'rgb(217, 217, 217)',\n",
    "        ))\n",
    "\n",
    "fig.write_image(output_data_file2)\n",
    "fig.show()"
   ]
  },
  {
   "cell_type": "code",
   "execution_count": null,
   "metadata": {},
   "outputs": [],
   "source": []
  },
  {
   "cell_type": "code",
   "execution_count": null,
   "metadata": {},
   "outputs": [],
   "source": []
  }
 ],
 "metadata": {
  "kernelspec": {
   "display_name": "Python 3",
   "language": "python",
   "name": "python3"
  },
  "language_info": {
   "codemirror_mode": {
    "name": "ipython",
    "version": 3
   },
   "file_extension": ".py",
   "mimetype": "text/x-python",
   "name": "python",
   "nbconvert_exporter": "python",
   "pygments_lexer": "ipython3",
   "version": "3.7.4"
  }
 },
 "nbformat": 4,
 "nbformat_minor": 2
}
