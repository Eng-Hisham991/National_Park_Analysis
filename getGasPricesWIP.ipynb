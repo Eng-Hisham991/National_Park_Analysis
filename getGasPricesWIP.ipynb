{
 "cells": [
  {
   "cell_type": "markdown",
   "metadata": {},
   "source": [
    "### Geo Location Nearby Gas Stations \n",
    "Retrieves distance in miles radius of near by gas stations according to a user's geo location. You will need to provide the latitude and longitude from the mobile device or browser. You can plot these stations on a map or a list.\n",
    "\n",
    "Request Url example: /stations/radius/(Latitude)/(Longitude)/(distance)/(fuel type)/(sort by)/apikey.json?\n",
    "\n",
    "Arguments:\n",
    "Latitude\n",
    "Longitude\n",
    "Distance - A number (miles) of the radius distance of stations according to the user's geo location\n",
    "Fuel Type - Argument types: reg,mid,pre or diesel. Which type of gas prices that will be returned.\n",
    "Sort By (Distance or Price) - Type arguments: price or distance. Gas stations will be sorted according to the argument.\n",
    "apikey - An Api key"
   ]
  },
  {
   "cell_type": "code",
   "execution_count": 122,
   "metadata": {},
   "outputs": [
    {
     "ename": "JSONDecodeError",
     "evalue": "Expecting value: line 1 column 1 (char 0)",
     "output_type": "error",
     "traceback": [
      "\u001b[0;31m---------------------------------------------------------------------------\u001b[0m",
      "\u001b[0;31mJSONDecodeError\u001b[0m                           Traceback (most recent call last)",
      "\u001b[0;32m<ipython-input-122-c93d150fb096>\u001b[0m in \u001b[0;36m<module>\u001b[0;34m\u001b[0m\n\u001b[1;32m     22\u001b[0m \u001b[0;31m#print(url)   #uncomment to test url by clicking on it\u001b[0m\u001b[0;34m\u001b[0m\u001b[0;34m\u001b[0m\u001b[0;34m\u001b[0m\u001b[0m\n\u001b[1;32m     23\u001b[0m \u001b[0;34m\u001b[0m\u001b[0m\n\u001b[0;32m---> 24\u001b[0;31m \u001b[0mresponse\u001b[0m \u001b[0;34m=\u001b[0m \u001b[0mrequests\u001b[0m\u001b[0;34m.\u001b[0m\u001b[0mget\u001b[0m\u001b[0;34m(\u001b[0m\u001b[0murl\u001b[0m\u001b[0;34m)\u001b[0m\u001b[0;34m.\u001b[0m\u001b[0mjson\u001b[0m\u001b[0;34m(\u001b[0m\u001b[0;34m)\u001b[0m\u001b[0;34m\u001b[0m\u001b[0;34m\u001b[0m\u001b[0m\n\u001b[0m\u001b[1;32m     25\u001b[0m \u001b[0;34m\u001b[0m\u001b[0m\n\u001b[1;32m     26\u001b[0m \u001b[0mprint\u001b[0m\u001b[0;34m(\u001b[0m\u001b[0mresponse\u001b[0m\u001b[0;34m)\u001b[0m\u001b[0;34m\u001b[0m\u001b[0;34m\u001b[0m\u001b[0m\n",
      "\u001b[0;32m~/opt/anaconda3/envs/pydata/lib/python3.7/site-packages/requests/models.py\u001b[0m in \u001b[0;36mjson\u001b[0;34m(self, **kwargs)\u001b[0m\n\u001b[1;32m    895\u001b[0m                     \u001b[0;31m# used.\u001b[0m\u001b[0;34m\u001b[0m\u001b[0;34m\u001b[0m\u001b[0;34m\u001b[0m\u001b[0m\n\u001b[1;32m    896\u001b[0m                     \u001b[0;32mpass\u001b[0m\u001b[0;34m\u001b[0m\u001b[0;34m\u001b[0m\u001b[0m\n\u001b[0;32m--> 897\u001b[0;31m         \u001b[0;32mreturn\u001b[0m \u001b[0mcomplexjson\u001b[0m\u001b[0;34m.\u001b[0m\u001b[0mloads\u001b[0m\u001b[0;34m(\u001b[0m\u001b[0mself\u001b[0m\u001b[0;34m.\u001b[0m\u001b[0mtext\u001b[0m\u001b[0;34m,\u001b[0m \u001b[0;34m**\u001b[0m\u001b[0mkwargs\u001b[0m\u001b[0;34m)\u001b[0m\u001b[0;34m\u001b[0m\u001b[0;34m\u001b[0m\u001b[0m\n\u001b[0m\u001b[1;32m    898\u001b[0m \u001b[0;34m\u001b[0m\u001b[0m\n\u001b[1;32m    899\u001b[0m     \u001b[0;34m@\u001b[0m\u001b[0mproperty\u001b[0m\u001b[0;34m\u001b[0m\u001b[0;34m\u001b[0m\u001b[0m\n",
      "\u001b[0;32m~/opt/anaconda3/envs/pydata/lib/python3.7/json/__init__.py\u001b[0m in \u001b[0;36mloads\u001b[0;34m(s, encoding, cls, object_hook, parse_float, parse_int, parse_constant, object_pairs_hook, **kw)\u001b[0m\n\u001b[1;32m    346\u001b[0m             \u001b[0mparse_int\u001b[0m \u001b[0;32mis\u001b[0m \u001b[0;32mNone\u001b[0m \u001b[0;32mand\u001b[0m \u001b[0mparse_float\u001b[0m \u001b[0;32mis\u001b[0m \u001b[0;32mNone\u001b[0m \u001b[0;32mand\u001b[0m\u001b[0;34m\u001b[0m\u001b[0;34m\u001b[0m\u001b[0m\n\u001b[1;32m    347\u001b[0m             parse_constant is None and object_pairs_hook is None and not kw):\n\u001b[0;32m--> 348\u001b[0;31m         \u001b[0;32mreturn\u001b[0m \u001b[0m_default_decoder\u001b[0m\u001b[0;34m.\u001b[0m\u001b[0mdecode\u001b[0m\u001b[0;34m(\u001b[0m\u001b[0ms\u001b[0m\u001b[0;34m)\u001b[0m\u001b[0;34m\u001b[0m\u001b[0;34m\u001b[0m\u001b[0m\n\u001b[0m\u001b[1;32m    349\u001b[0m     \u001b[0;32mif\u001b[0m \u001b[0mcls\u001b[0m \u001b[0;32mis\u001b[0m \u001b[0;32mNone\u001b[0m\u001b[0;34m:\u001b[0m\u001b[0;34m\u001b[0m\u001b[0;34m\u001b[0m\u001b[0m\n\u001b[1;32m    350\u001b[0m         \u001b[0mcls\u001b[0m \u001b[0;34m=\u001b[0m \u001b[0mJSONDecoder\u001b[0m\u001b[0;34m\u001b[0m\u001b[0;34m\u001b[0m\u001b[0m\n",
      "\u001b[0;32m~/opt/anaconda3/envs/pydata/lib/python3.7/json/decoder.py\u001b[0m in \u001b[0;36mdecode\u001b[0;34m(self, s, _w)\u001b[0m\n\u001b[1;32m    335\u001b[0m \u001b[0;34m\u001b[0m\u001b[0m\n\u001b[1;32m    336\u001b[0m         \"\"\"\n\u001b[0;32m--> 337\u001b[0;31m         \u001b[0mobj\u001b[0m\u001b[0;34m,\u001b[0m \u001b[0mend\u001b[0m \u001b[0;34m=\u001b[0m \u001b[0mself\u001b[0m\u001b[0;34m.\u001b[0m\u001b[0mraw_decode\u001b[0m\u001b[0;34m(\u001b[0m\u001b[0ms\u001b[0m\u001b[0;34m,\u001b[0m \u001b[0midx\u001b[0m\u001b[0;34m=\u001b[0m\u001b[0m_w\u001b[0m\u001b[0;34m(\u001b[0m\u001b[0ms\u001b[0m\u001b[0;34m,\u001b[0m \u001b[0;36m0\u001b[0m\u001b[0;34m)\u001b[0m\u001b[0;34m.\u001b[0m\u001b[0mend\u001b[0m\u001b[0;34m(\u001b[0m\u001b[0;34m)\u001b[0m\u001b[0;34m)\u001b[0m\u001b[0;34m\u001b[0m\u001b[0;34m\u001b[0m\u001b[0m\n\u001b[0m\u001b[1;32m    338\u001b[0m         \u001b[0mend\u001b[0m \u001b[0;34m=\u001b[0m \u001b[0m_w\u001b[0m\u001b[0;34m(\u001b[0m\u001b[0ms\u001b[0m\u001b[0;34m,\u001b[0m \u001b[0mend\u001b[0m\u001b[0;34m)\u001b[0m\u001b[0;34m.\u001b[0m\u001b[0mend\u001b[0m\u001b[0;34m(\u001b[0m\u001b[0;34m)\u001b[0m\u001b[0;34m\u001b[0m\u001b[0;34m\u001b[0m\u001b[0m\n\u001b[1;32m    339\u001b[0m         \u001b[0;32mif\u001b[0m \u001b[0mend\u001b[0m \u001b[0;34m!=\u001b[0m \u001b[0mlen\u001b[0m\u001b[0;34m(\u001b[0m\u001b[0ms\u001b[0m\u001b[0;34m)\u001b[0m\u001b[0;34m:\u001b[0m\u001b[0;34m\u001b[0m\u001b[0;34m\u001b[0m\u001b[0m\n",
      "\u001b[0;32m~/opt/anaconda3/envs/pydata/lib/python3.7/json/decoder.py\u001b[0m in \u001b[0;36mraw_decode\u001b[0;34m(self, s, idx)\u001b[0m\n\u001b[1;32m    353\u001b[0m             \u001b[0mobj\u001b[0m\u001b[0;34m,\u001b[0m \u001b[0mend\u001b[0m \u001b[0;34m=\u001b[0m \u001b[0mself\u001b[0m\u001b[0;34m.\u001b[0m\u001b[0mscan_once\u001b[0m\u001b[0;34m(\u001b[0m\u001b[0ms\u001b[0m\u001b[0;34m,\u001b[0m \u001b[0midx\u001b[0m\u001b[0;34m)\u001b[0m\u001b[0;34m\u001b[0m\u001b[0;34m\u001b[0m\u001b[0m\n\u001b[1;32m    354\u001b[0m         \u001b[0;32mexcept\u001b[0m \u001b[0mStopIteration\u001b[0m \u001b[0;32mas\u001b[0m \u001b[0merr\u001b[0m\u001b[0;34m:\u001b[0m\u001b[0;34m\u001b[0m\u001b[0;34m\u001b[0m\u001b[0m\n\u001b[0;32m--> 355\u001b[0;31m             \u001b[0;32mraise\u001b[0m \u001b[0mJSONDecodeError\u001b[0m\u001b[0;34m(\u001b[0m\u001b[0;34m\"Expecting value\"\u001b[0m\u001b[0;34m,\u001b[0m \u001b[0ms\u001b[0m\u001b[0;34m,\u001b[0m \u001b[0merr\u001b[0m\u001b[0;34m.\u001b[0m\u001b[0mvalue\u001b[0m\u001b[0;34m)\u001b[0m \u001b[0;32mfrom\u001b[0m \u001b[0;32mNone\u001b[0m\u001b[0;34m\u001b[0m\u001b[0;34m\u001b[0m\u001b[0m\n\u001b[0m\u001b[1;32m    356\u001b[0m         \u001b[0;32mreturn\u001b[0m \u001b[0mobj\u001b[0m\u001b[0;34m,\u001b[0m \u001b[0mend\u001b[0m\u001b[0;34m\u001b[0m\u001b[0;34m\u001b[0m\u001b[0m\n",
      "\u001b[0;31mJSONDecodeError\u001b[0m: Expecting value: line 1 column 1 (char 0)"
     ]
    }
   ],
   "source": [
    "import requests\n",
    "import json\n",
    "import pandas as pd\n",
    "\n",
    "import plotly.express as px \n",
    "\n",
    "from datetime import date\n",
    "import datetime\n",
    "\n",
    "gas_url = \"http://devapi.mygasfeed.com/\"\n",
    "apikey = \"rfej9napna\"  #Waiting for own API KEY THIS IS GENERIC\n",
    "\n",
    "#houston 29.7604° N, 95.3698° W\n",
    "Latitude   = \"29.7604\"\n",
    "Longitude  = \"-95.3698\"\n",
    "distance   = 30          # Valid values must be less than 50\n",
    "fuel_type  =  \"reg\"  # Valid values  reg,mid,pre,diesel\n",
    "\n",
    "query = f\"stations/radius/{Latitude}/{Longitude}/{distance}/{fuel_type}/price/{apikey}.json?\"\n",
    "\n",
    "url = gas_url+query\n",
    "#print(url)   #uncomment to test url by clicking on it \n",
    "\n",
    "response = requests.get(url).json()\n",
    "\n",
    "print(response)\n"
   ]
  },
  {
   "cell_type": "markdown",
   "metadata": {},
   "source": [
    "### Gas Station Brands\n",
    "\n",
    "Retrieves a list of all gas station brands.\n",
    "\n",
    "Request Url example: /stations/brands/apikey.json?callback=?\n",
    "\n",
    "Arguments: Api key"
   ]
  },
  {
   "cell_type": "code",
   "execution_count": 117,
   "metadata": {},
   "outputs": [
    {
     "name": "stdout",
     "output_type": "stream",
     "text": [
      "{'status': {'error': 'NO', 'code': 200, 'description': 'none', 'message': 'Request ok'}, 'stations': [{'name': '', 'id': '80'}, {'name': '', 'id': '72'}, {'name': '', 'id': '79'}, {'name': '', 'id': '78'}, {'name': '', 'id': '73'}, {'name': '', 'id': '77'}, {'name': '', 'id': '76'}, {'name': '', 'id': '75'}, {'name': '', 'id': '74'}, {'name': '1', 'id': '16'}, {'name': '2', 'id': '19'}, {'name': '3', 'id': '23'}, {'name': '4', 'id': '24'}, {'name': '5', 'id': '28'}, {'name': '6', 'id': '25'}, {'name': '7', 'id': '27'}, {'name': '7-Eleven', 'id': '2'}, {'name': '76', 'id': '31'}, {'name': '8', 'id': '29'}, {'name': 'B', 'id': '22'}, {'name': 'BP', 'id': '4'}, {'name': 'C', 'id': '17'}, {'name': 'Chevron', 'id': '6'}, {'name': 'Circle K', 'id': '34'}, {'name': 'Citgo', 'id': '8'}, {'name': 'Clark', 'id': '40'}, {'name': 'Conoco', 'id': '38'}, {'name': 'Convenience Plus', 'id': '57'}, {'name': 'Crown', 'id': '51'}, {'name': 'Cumberland', 'id': '56'}, {'name': 'Dandy Mini Marts', 'id': '67'}, {'name': 'Discount Food Mart', 'id': '42'}, {'name': 'Express Mart', 'id': '63'}, {'name': 'Exxon', 'id': '13'}, {'name': 'F', 'id': '26'}, {'name': 'Fasmart', 'id': '71'}, {'name': 'Fastrac', 'id': '68'}, {'name': 'Favorite Markets', 'id': '53'}, {'name': 'Flying J', 'id': '46'}, {'name': 'Food Bag', 'id': '55'}, {'name': 'Gulf', 'id': '59'}, {'name': 'H', 'id': '20'}, {'name': 'Hess', 'id': '7'}, {'name': 'Irving', 'id': '61'}, {'name': 'Jet-Pep', 'id': '44'}, {'name': 'Kangaroo', 'id': '41'}, {'name': 'Kwik Fill', 'id': '62'}, {'name': 'Loves', 'id': '48'}, {'name': 'M', 'id': '15'}, {'name': 'Manleys Mighty Mart', 'id': '64'}, {'name': 'Mapco', 'id': '49'}, {'name': 'Marathon', 'id': '12'}, {'name': 'Maverik', 'id': '35'}, {'name': 'Minit Man Food Store', 'id': '43'}, {'name': 'Mirabito', 'id': '69'}, {'name': 'Mobil', 'id': '10'}, {'name': 'Murphy Express', 'id': '45'}, {'name': 'Murphy Usa', 'id': '30'}, {'name': 'Patco Handy Stop', 'id': '83'}, {'name': 'Petro South', 'id': '39'}, {'name': 'Petro Stop', 'id': '47'}, {'name': 'Phillips 66', 'id': '54'}, {'name': 'Pride', 'id': '58'}, {'name': 'Pure', 'id': '52'}, {'name': 'Quickway', 'id': '65'}, {'name': 'Racetrac', 'id': '14'}, {'name': 'Raceway', 'id': '37'}, {'name': 'S', 'id': '18'}, {'name': 'Sams Food Store', 'id': '70'}, {'name': 'Sheetz', 'id': '81'}, {'name': 'Shell', 'id': '3'}, {'name': 'Shop N Fill', 'id': '50'}, {'name': 'Sinclair', 'id': '36'}, {'name': 'Stop & Shop', 'id': '60'}, {'name': 'Stop & Shop (ahold)', 'id': '82'}, {'name': 'Sunoco', 'id': '5'}, {'name': 'Texaco', 'id': '1'}, {'name': 'U', 'id': '21'}, {'name': 'Unbranded', 'id': '11'}, {'name': 'United', 'id': '33'}, {'name': 'Usa Petroleum', 'id': '32'}, {'name': 'Valero', 'id': '9'}, {'name': 'Xtramart', 'id': '66'}]}\n"
     ]
    }
   ],
   "source": [
    "query = f\"stations/brands/{apikey}.json?\"\n",
    "url = gas_url+query\n",
    "#print(url)\n",
    "\n",
    "response = requests.get(url).json()\n",
    "\n",
    "print(response)"
   ]
  },
  {
   "cell_type": "markdown",
   "metadata": {},
   "source": [
    "### Gas Prices History \n",
    "Retrieves a list of gas price histroy for a particular gas station.\n",
    "\n",
    "Request Url example: /locations/pricehistory/(station id)/apikey.json?\n",
    "\n",
    "Arguments:\n",
    "station id - The id of the gas station.\n",
    "Api Key\n",
    "\n",
    "\n",
    "NOTE histroy is misspelled on their end so we need to use it like that"
   ]
  },
  {
   "cell_type": "code",
   "execution_count": 118,
   "metadata": {},
   "outputs": [
    {
     "name": "stdout",
     "output_type": "stream",
     "text": [
      "http://devapi.mygasfeed.com/locations/pricehistory/23/rfej9napna.json?\n",
      "{'status': {'error': 'NO', 'code': 200, 'description': 'none', 'message': 'Request ok'}, 'histroy': []}\n"
     ]
    },
    {
     "data": {
      "text/plain": [
       "[]"
      ]
     },
     "execution_count": 118,
     "metadata": {},
     "output_type": "execute_result"
    }
   ],
   "source": [
    "query = f\"locations/pricehistory/23/{apikey}.json?\"\n",
    "url = gas_url+query\n",
    "print(url)   #uncomment to test url by clicking on it \n",
    "\n",
    "response = requests.get(url).json()\n",
    "print(response)\n",
    "#note I cant find any with history\n",
    "\n",
    "response['histroy']"
   ]
  },
  {
   "cell_type": "markdown",
   "metadata": {},
   "source": [
    "### Gas Station Details\n",
    "Retrieves gas station details by providing the station id. The station id can be retrieved when making a request for a list of stations.\n",
    "\n",
    "Request Url example: /stations/details/(Stattion Id)/apikey.json?\n",
    "\n",
    "Arguments:\n",
    "Station id - The number id of station\n",
    "Api Key\n",
    "\n"
   ]
  },
  {
   "cell_type": "code",
   "execution_count": 119,
   "metadata": {},
   "outputs": [
    {
     "name": "stdout",
     "output_type": "stream",
     "text": [
      "http://devapi.mygasfeed.com//stations/details/2/rfej9napna.json?\n",
      "{'status': {'error': 'NO', 'code': 200, 'description': 'none', 'message': 'Request ok'}, 'details': {'address': '837 Suffield St', 'diesel': '1', 'id': '2', 'city': None, 'region': 'Massachusetts', 'country': 'United States', 'lat': '42.060825', 'lng': '-72.632240', 'station_name': '7-Eleven', 'zip': '01001', 'reg_price': '3.59', 'reg_date': '6 years ago', 'mid_price': '3.59', 'mid_date': '6 years ago', 'pre_price': '3.88', 'pre_date': '6 years ago', 'diesel_price': '3.93', 'diesel_date': '6 years ago'}, 'previousPrices': [{'type': 'Regular', 'price': '120.00', 'date': '9 years ago', 'via': 'myGasFeed'}, {'type': 'Regular', 'price': '132.10', 'date': '9 years ago', 'via': 'myGasFeed'}, {'type': 'Regular', 'price': '122.60', 'date': '9 years ago', 'via': 'myGasFeed Dev'}, {'type': 'Regular', 'price': '132.40', 'date': '9 years ago', 'via': 'myGasFeed Dev'}, {'type': 'Regular', 'price': '133.40', 'date': '9 years ago', 'via': 'myGasFeed Dev'}, {'type': 'Regular', 'price': '133.40', 'date': '9 years ago', 'via': 'myGasFeed Dev'}, {'type': 'Regular', 'price': '133.40', 'date': '9 years ago', 'via': 'myGasFeed Dev'}, {'type': 'Diesel', 'price': '125.90', 'date': '9 years ago', 'via': 'myGasFeed Dev'}]}\n"
     ]
    },
    {
     "data": {
      "text/plain": [
       "[{'type': 'Regular',\n",
       "  'price': '120.00',\n",
       "  'date': '9 years ago',\n",
       "  'via': 'myGasFeed'},\n",
       " {'type': 'Regular',\n",
       "  'price': '132.10',\n",
       "  'date': '9 years ago',\n",
       "  'via': 'myGasFeed'},\n",
       " {'type': 'Regular',\n",
       "  'price': '122.60',\n",
       "  'date': '9 years ago',\n",
       "  'via': 'myGasFeed Dev'},\n",
       " {'type': 'Regular',\n",
       "  'price': '132.40',\n",
       "  'date': '9 years ago',\n",
       "  'via': 'myGasFeed Dev'},\n",
       " {'type': 'Regular',\n",
       "  'price': '133.40',\n",
       "  'date': '9 years ago',\n",
       "  'via': 'myGasFeed Dev'},\n",
       " {'type': 'Regular',\n",
       "  'price': '133.40',\n",
       "  'date': '9 years ago',\n",
       "  'via': 'myGasFeed Dev'},\n",
       " {'type': 'Regular',\n",
       "  'price': '133.40',\n",
       "  'date': '9 years ago',\n",
       "  'via': 'myGasFeed Dev'},\n",
       " {'type': 'Diesel',\n",
       "  'price': '125.90',\n",
       "  'date': '9 years ago',\n",
       "  'via': 'myGasFeed Dev'}]"
      ]
     },
     "execution_count": 119,
     "metadata": {},
     "output_type": "execute_result"
    }
   ],
   "source": [
    "query = f\"/stations/details/2/{apikey}.json?\"\n",
    "url = gas_url+query\n",
    "print(url)   #uncomment to test url by clicking on it \n",
    "\n",
    "response = requests.get(url).json()\n",
    "print(response)\n",
    "#note we might want to check we can get the data we want\n",
    "\n",
    "response['previousPrices']"
   ]
  },
  {
   "cell_type": "markdown",
   "metadata": {},
   "source": [
    "# EIA API Query Browser\n",
    "EIA Data Sets > Petroleum > Prices > Weekly Retail Gasoline and Diesel Prices\n",
    "\n",
    "API CALL TO USE:http://api.eia.gov/category/?api_key=YOUR_API_KEY_HERE&category_id=240690\n",
    "\n",
    "Children Categories:\n",
    "by Area\n",
    "by Product"
   ]
  },
  {
   "cell_type": "markdown",
   "metadata": {},
   "source": [
    "##### https://www.eia.gov/developer/\n",
    "\n",
    "#### https://www.eia.gov/opendata/\n"
   ]
  },
  {
   "cell_type": "code",
   "execution_count": 5,
   "metadata": {},
   "outputs": [
    {
     "name": "stdout",
     "output_type": "stream",
     "text": [
      "http://api.eia.gov/category/?api_key=95abebd4884337a93dda412e59cda738&category_id=711295\n"
     ]
    }
   ],
   "source": [
    "from api_keys import eia_key\n",
    "\n",
    "url= f\"http://api.eia.gov/category/?api_key={eia_key}&category_id=711295\"\n",
    "print(url)"
   ]
  },
  {
   "cell_type": "code",
   "execution_count": 8,
   "metadata": {},
   "outputs": [
    {
     "name": "stdout",
     "output_type": "stream",
     "text": [
      "http://api.eia.gov/series/?series_id=query_series_id&api_key=95abebd4884337a93dda412e59cda738&out=json\n"
     ]
    }
   ],
   "source": [
    "query_series_id = \"ELEC.GEN.ALL-AK-99.A\"\n",
    "url = f\"http://api.eia.gov/series/?series_id=query_series_id&api_key={eia_key}&out=json\"\n",
    "print(url)\n"
   ]
  },
  {
   "cell_type": "code",
   "execution_count": 39,
   "metadata": {},
   "outputs": [],
   "source": [
    "# A function to correctly label plots\n",
    "def label_plot(plt,plot_title, x_axis, y_axis, ts):\n",
    "    # plot the title and axes labels\n",
    "    plt.set_title(plot_title + ' (' + ts + ')')\n",
    "    plt.set_xlabel(x_axis)\n",
    "    plt.set_ylabel(y_axis)"
   ]
  },
  {
   "cell_type": "markdown",
   "metadata": {},
   "source": [
    "##### U.S. Regular All Formulations Retail Gasoline Prices, Monthly"
   ]
  },
  {
   "cell_type": "code",
   "execution_count": 140,
   "metadata": {},
   "outputs": [],
   "source": [
    "url = f\"http://api.eia.gov/series/?api_key={eia_key}&series_id=PET.EMM_EPMR_PTE_NUS_DPG.M\"\n",
    "#print(url)\n",
    "response = requests.get(url).json()\n",
    "#print(response)\n",
    "#print(response.keys())   # response and series\n",
    "\n",
    "chart_title = response['series'][0]['name']\n",
    "chart_data  = response['series'][0]['data']\n",
    "\n",
    "prices_df = pd.DataFrame(chart_data, columns={'date', 'price'})\n",
    "#prices_df"
   ]
  },
  {
   "cell_type": "markdown",
   "metadata": {},
   "source": [
    "### Date comes in as a 6 character string YYYYMM so we have to strip it out if we want to plot anything meaningful\n",
    "* We can use datetime library"
   ]
  },
  {
   "cell_type": "code",
   "execution_count": 124,
   "metadata": {},
   "outputs": [
    {
     "name": "stdout",
     "output_type": "stream",
     "text": [
      "2018-09-15 00:00:00\n"
     ]
    }
   ],
   "source": [
    "### EXAMPLES to illustrate use of datetime\n",
    "\n",
    "# today = date.today()\n",
    "# # dd/mm/YY\n",
    "# ts = today.strftime(\"%d/%m/%Y\")\n",
    "# date_object = datetime.strptime(str, '%m-%d-%y')\n",
    "# print(date_object)"
   ]
  },
  {
   "cell_type": "code",
   "execution_count": 138,
   "metadata": {},
   "outputs": [
    {
     "data": {
      "text/html": [
       "<div>\n",
       "<style scoped>\n",
       "    .dataframe tbody tr th:only-of-type {\n",
       "        vertical-align: middle;\n",
       "    }\n",
       "\n",
       "    .dataframe tbody tr th {\n",
       "        vertical-align: top;\n",
       "    }\n",
       "\n",
       "    .dataframe thead th {\n",
       "        text-align: right;\n",
       "    }\n",
       "</style>\n",
       "<table border=\"1\" class=\"dataframe\">\n",
       "  <thead>\n",
       "    <tr style=\"text-align: right;\">\n",
       "      <th></th>\n",
       "      <th>date</th>\n",
       "      <th>price</th>\n",
       "      <th>formatted_date</th>\n",
       "      <th>Date</th>\n",
       "    </tr>\n",
       "  </thead>\n",
       "  <tbody>\n",
       "    <tr>\n",
       "      <th>0</th>\n",
       "      <td>202002</td>\n",
       "      <td>2.442</td>\n",
       "      <td>2020-02-01</td>\n",
       "      <td>2020-02-01</td>\n",
       "    </tr>\n",
       "    <tr>\n",
       "      <th>1</th>\n",
       "      <td>202001</td>\n",
       "      <td>2.548</td>\n",
       "      <td>2020-01-01</td>\n",
       "      <td>2020-01-01</td>\n",
       "    </tr>\n",
       "    <tr>\n",
       "      <th>2</th>\n",
       "      <td>201912</td>\n",
       "      <td>2.555</td>\n",
       "      <td>2019-12-01</td>\n",
       "      <td>2019-12-01</td>\n",
       "    </tr>\n",
       "    <tr>\n",
       "      <th>3</th>\n",
       "      <td>201911</td>\n",
       "      <td>2.598</td>\n",
       "      <td>2019-11-01</td>\n",
       "      <td>2019-11-01</td>\n",
       "    </tr>\n",
       "    <tr>\n",
       "      <th>4</th>\n",
       "      <td>201910</td>\n",
       "      <td>2.627</td>\n",
       "      <td>2019-10-01</td>\n",
       "      <td>2019-10-01</td>\n",
       "    </tr>\n",
       "    <tr>\n",
       "      <th>...</th>\n",
       "      <td>...</td>\n",
       "      <td>...</td>\n",
       "      <td>...</td>\n",
       "      <td>...</td>\n",
       "    </tr>\n",
       "    <tr>\n",
       "      <th>350</th>\n",
       "      <td>199012</td>\n",
       "      <td>NaN</td>\n",
       "      <td>1990-12-01</td>\n",
       "      <td>1990-12-01</td>\n",
       "    </tr>\n",
       "    <tr>\n",
       "      <th>351</th>\n",
       "      <td>199011</td>\n",
       "      <td>1.324</td>\n",
       "      <td>1990-11-01</td>\n",
       "      <td>1990-11-01</td>\n",
       "    </tr>\n",
       "    <tr>\n",
       "      <th>352</th>\n",
       "      <td>199010</td>\n",
       "      <td>1.335</td>\n",
       "      <td>1990-10-01</td>\n",
       "      <td>1990-10-01</td>\n",
       "    </tr>\n",
       "    <tr>\n",
       "      <th>353</th>\n",
       "      <td>199009</td>\n",
       "      <td>1.258</td>\n",
       "      <td>1990-09-01</td>\n",
       "      <td>1990-09-01</td>\n",
       "    </tr>\n",
       "    <tr>\n",
       "      <th>354</th>\n",
       "      <td>199008</td>\n",
       "      <td>NaN</td>\n",
       "      <td>1990-08-01</td>\n",
       "      <td>1990-08-01</td>\n",
       "    </tr>\n",
       "  </tbody>\n",
       "</table>\n",
       "<p>355 rows × 4 columns</p>\n",
       "</div>"
      ],
      "text/plain": [
       "       date  price formatted_date       Date\n",
       "0    202002  2.442     2020-02-01 2020-02-01\n",
       "1    202001  2.548     2020-01-01 2020-01-01\n",
       "2    201912  2.555     2019-12-01 2019-12-01\n",
       "3    201911  2.598     2019-11-01 2019-11-01\n",
       "4    201910  2.627     2019-10-01 2019-10-01\n",
       "..      ...    ...            ...        ...\n",
       "350  199012    NaN     1990-12-01 1990-12-01\n",
       "351  199011  1.324     1990-11-01 1990-11-01\n",
       "352  199010  1.335     1990-10-01 1990-10-01\n",
       "353  199009  1.258     1990-09-01 1990-09-01\n",
       "354  199008    NaN     1990-08-01 1990-08-01\n",
       "\n",
       "[355 rows x 4 columns]"
      ]
     },
     "execution_count": 138,
     "metadata": {},
     "output_type": "execute_result"
    }
   ],
   "source": [
    "# use pd.to_datetime to reformat the date\n",
    "prices_df['Date'] = pd.to_datetime(pd.Series(prices_df['date']), format=\"%Y%m\")\n",
    "prices_df"
   ]
  },
  {
   "cell_type": "markdown",
   "metadata": {},
   "source": [
    "#### using PLOTLY"
   ]
  },
  {
   "cell_type": "code",
   "execution_count": 139,
   "metadata": {},
   "outputs": [
    {
     "data": {
      "application/vnd.plotly.v1+json": {
       "config": {
        "plotlyServerURL": "https://plot.ly"
       },
       "data": [
        {
         "hoverlabel": {
          "namelength": 0
         },
         "hovertemplate": "Date=%{x}<br>price=%{y}",
         "legendgroup": "",
         "line": {
          "color": "#636efa",
          "dash": "solid"
         },
         "mode": "lines",
         "name": "",
         "showlegend": false,
         "type": "scatter",
         "x": [
          "2020-02-01T00:00:00",
          "2020-01-01T00:00:00",
          "2019-12-01T00:00:00",
          "2019-11-01T00:00:00",
          "2019-10-01T00:00:00",
          "2019-09-01T00:00:00",
          "2019-08-01T00:00:00",
          "2019-07-01T00:00:00",
          "2019-06-01T00:00:00",
          "2019-05-01T00:00:00",
          "2019-04-01T00:00:00",
          "2019-03-01T00:00:00",
          "2019-02-01T00:00:00",
          "2019-01-01T00:00:00",
          "2018-12-01T00:00:00",
          "2018-11-01T00:00:00",
          "2018-10-01T00:00:00",
          "2018-09-01T00:00:00",
          "2018-08-01T00:00:00",
          "2018-07-01T00:00:00",
          "2018-06-01T00:00:00",
          "2018-05-01T00:00:00",
          "2018-04-01T00:00:00",
          "2018-03-01T00:00:00",
          "2018-02-01T00:00:00",
          "2018-01-01T00:00:00",
          "2017-12-01T00:00:00",
          "2017-11-01T00:00:00",
          "2017-10-01T00:00:00",
          "2017-09-01T00:00:00",
          "2017-08-01T00:00:00",
          "2017-07-01T00:00:00",
          "2017-06-01T00:00:00",
          "2017-05-01T00:00:00",
          "2017-04-01T00:00:00",
          "2017-03-01T00:00:00",
          "2017-02-01T00:00:00",
          "2017-01-01T00:00:00",
          "2016-12-01T00:00:00",
          "2016-11-01T00:00:00",
          "2016-10-01T00:00:00",
          "2016-09-01T00:00:00",
          "2016-08-01T00:00:00",
          "2016-07-01T00:00:00",
          "2016-06-01T00:00:00",
          "2016-05-01T00:00:00",
          "2016-04-01T00:00:00",
          "2016-03-01T00:00:00",
          "2016-02-01T00:00:00",
          "2016-01-01T00:00:00",
          "2015-12-01T00:00:00",
          "2015-11-01T00:00:00",
          "2015-10-01T00:00:00",
          "2015-09-01T00:00:00",
          "2015-08-01T00:00:00",
          "2015-07-01T00:00:00",
          "2015-06-01T00:00:00",
          "2015-05-01T00:00:00",
          "2015-04-01T00:00:00",
          "2015-03-01T00:00:00",
          "2015-02-01T00:00:00",
          "2015-01-01T00:00:00",
          "2014-12-01T00:00:00",
          "2014-11-01T00:00:00",
          "2014-10-01T00:00:00",
          "2014-09-01T00:00:00",
          "2014-08-01T00:00:00",
          "2014-07-01T00:00:00",
          "2014-06-01T00:00:00",
          "2014-05-01T00:00:00",
          "2014-04-01T00:00:00",
          "2014-03-01T00:00:00",
          "2014-02-01T00:00:00",
          "2014-01-01T00:00:00",
          "2013-12-01T00:00:00",
          "2013-11-01T00:00:00",
          "2013-10-01T00:00:00",
          "2013-09-01T00:00:00",
          "2013-08-01T00:00:00",
          "2013-07-01T00:00:00",
          "2013-06-01T00:00:00",
          "2013-05-01T00:00:00",
          "2013-04-01T00:00:00",
          "2013-03-01T00:00:00",
          "2013-02-01T00:00:00",
          "2013-01-01T00:00:00",
          "2012-12-01T00:00:00",
          "2012-11-01T00:00:00",
          "2012-10-01T00:00:00",
          "2012-09-01T00:00:00",
          "2012-08-01T00:00:00",
          "2012-07-01T00:00:00",
          "2012-06-01T00:00:00",
          "2012-05-01T00:00:00",
          "2012-04-01T00:00:00",
          "2012-03-01T00:00:00",
          "2012-02-01T00:00:00",
          "2012-01-01T00:00:00",
          "2011-12-01T00:00:00",
          "2011-11-01T00:00:00",
          "2011-10-01T00:00:00",
          "2011-09-01T00:00:00",
          "2011-08-01T00:00:00",
          "2011-07-01T00:00:00",
          "2011-06-01T00:00:00",
          "2011-05-01T00:00:00",
          "2011-04-01T00:00:00",
          "2011-03-01T00:00:00",
          "2011-02-01T00:00:00",
          "2011-01-01T00:00:00",
          "2010-12-01T00:00:00",
          "2010-11-01T00:00:00",
          "2010-10-01T00:00:00",
          "2010-09-01T00:00:00",
          "2010-08-01T00:00:00",
          "2010-07-01T00:00:00",
          "2010-06-01T00:00:00",
          "2010-05-01T00:00:00",
          "2010-04-01T00:00:00",
          "2010-03-01T00:00:00",
          "2010-02-01T00:00:00",
          "2010-01-01T00:00:00",
          "2009-12-01T00:00:00",
          "2009-11-01T00:00:00",
          "2009-10-01T00:00:00",
          "2009-09-01T00:00:00",
          "2009-08-01T00:00:00",
          "2009-07-01T00:00:00",
          "2009-06-01T00:00:00",
          "2009-05-01T00:00:00",
          "2009-04-01T00:00:00",
          "2009-03-01T00:00:00",
          "2009-02-01T00:00:00",
          "2009-01-01T00:00:00",
          "2008-12-01T00:00:00",
          "2008-11-01T00:00:00",
          "2008-10-01T00:00:00",
          "2008-09-01T00:00:00",
          "2008-08-01T00:00:00",
          "2008-07-01T00:00:00",
          "2008-06-01T00:00:00",
          "2008-05-01T00:00:00",
          "2008-04-01T00:00:00",
          "2008-03-01T00:00:00",
          "2008-02-01T00:00:00",
          "2008-01-01T00:00:00",
          "2007-12-01T00:00:00",
          "2007-11-01T00:00:00",
          "2007-10-01T00:00:00",
          "2007-09-01T00:00:00",
          "2007-08-01T00:00:00",
          "2007-07-01T00:00:00",
          "2007-06-01T00:00:00",
          "2007-05-01T00:00:00",
          "2007-04-01T00:00:00",
          "2007-03-01T00:00:00",
          "2007-02-01T00:00:00",
          "2007-01-01T00:00:00",
          "2006-12-01T00:00:00",
          "2006-11-01T00:00:00",
          "2006-10-01T00:00:00",
          "2006-09-01T00:00:00",
          "2006-08-01T00:00:00",
          "2006-07-01T00:00:00",
          "2006-06-01T00:00:00",
          "2006-05-01T00:00:00",
          "2006-04-01T00:00:00",
          "2006-03-01T00:00:00",
          "2006-02-01T00:00:00",
          "2006-01-01T00:00:00",
          "2005-12-01T00:00:00",
          "2005-11-01T00:00:00",
          "2005-10-01T00:00:00",
          "2005-09-01T00:00:00",
          "2005-08-01T00:00:00",
          "2005-07-01T00:00:00",
          "2005-06-01T00:00:00",
          "2005-05-01T00:00:00",
          "2005-04-01T00:00:00",
          "2005-03-01T00:00:00",
          "2005-02-01T00:00:00",
          "2005-01-01T00:00:00",
          "2004-12-01T00:00:00",
          "2004-11-01T00:00:00",
          "2004-10-01T00:00:00",
          "2004-09-01T00:00:00",
          "2004-08-01T00:00:00",
          "2004-07-01T00:00:00",
          "2004-06-01T00:00:00",
          "2004-05-01T00:00:00",
          "2004-04-01T00:00:00",
          "2004-03-01T00:00:00",
          "2004-02-01T00:00:00",
          "2004-01-01T00:00:00",
          "2003-12-01T00:00:00",
          "2003-11-01T00:00:00",
          "2003-10-01T00:00:00",
          "2003-09-01T00:00:00",
          "2003-08-01T00:00:00",
          "2003-07-01T00:00:00",
          "2003-06-01T00:00:00",
          "2003-05-01T00:00:00",
          "2003-04-01T00:00:00",
          "2003-03-01T00:00:00",
          "2003-02-01T00:00:00",
          "2003-01-01T00:00:00",
          "2002-12-01T00:00:00",
          "2002-11-01T00:00:00",
          "2002-10-01T00:00:00",
          "2002-09-01T00:00:00",
          "2002-08-01T00:00:00",
          "2002-07-01T00:00:00",
          "2002-06-01T00:00:00",
          "2002-05-01T00:00:00",
          "2002-04-01T00:00:00",
          "2002-03-01T00:00:00",
          "2002-02-01T00:00:00",
          "2002-01-01T00:00:00",
          "2001-12-01T00:00:00",
          "2001-11-01T00:00:00",
          "2001-10-01T00:00:00",
          "2001-09-01T00:00:00",
          "2001-08-01T00:00:00",
          "2001-07-01T00:00:00",
          "2001-06-01T00:00:00",
          "2001-05-01T00:00:00",
          "2001-04-01T00:00:00",
          "2001-03-01T00:00:00",
          "2001-02-01T00:00:00",
          "2001-01-01T00:00:00",
          "2000-12-01T00:00:00",
          "2000-11-01T00:00:00",
          "2000-10-01T00:00:00",
          "2000-09-01T00:00:00",
          "2000-08-01T00:00:00",
          "2000-07-01T00:00:00",
          "2000-06-01T00:00:00",
          "2000-05-01T00:00:00",
          "2000-04-01T00:00:00",
          "2000-03-01T00:00:00",
          "2000-02-01T00:00:00",
          "2000-01-01T00:00:00",
          "1999-12-01T00:00:00",
          "1999-11-01T00:00:00",
          "1999-10-01T00:00:00",
          "1999-09-01T00:00:00",
          "1999-08-01T00:00:00",
          "1999-07-01T00:00:00",
          "1999-06-01T00:00:00",
          "1999-05-01T00:00:00",
          "1999-04-01T00:00:00",
          "1999-03-01T00:00:00",
          "1999-02-01T00:00:00",
          "1999-01-01T00:00:00",
          "1998-12-01T00:00:00",
          "1998-11-01T00:00:00",
          "1998-10-01T00:00:00",
          "1998-09-01T00:00:00",
          "1998-08-01T00:00:00",
          "1998-07-01T00:00:00",
          "1998-06-01T00:00:00",
          "1998-05-01T00:00:00",
          "1998-04-01T00:00:00",
          "1998-03-01T00:00:00",
          "1998-02-01T00:00:00",
          "1998-01-01T00:00:00",
          "1997-12-01T00:00:00",
          "1997-11-01T00:00:00",
          "1997-10-01T00:00:00",
          "1997-09-01T00:00:00",
          "1997-08-01T00:00:00",
          "1997-07-01T00:00:00",
          "1997-06-01T00:00:00",
          "1997-05-01T00:00:00",
          "1997-04-01T00:00:00",
          "1997-03-01T00:00:00",
          "1997-02-01T00:00:00",
          "1997-01-01T00:00:00",
          "1996-12-01T00:00:00",
          "1996-11-01T00:00:00",
          "1996-10-01T00:00:00",
          "1996-09-01T00:00:00",
          "1996-08-01T00:00:00",
          "1996-07-01T00:00:00",
          "1996-06-01T00:00:00",
          "1996-05-01T00:00:00",
          "1996-04-01T00:00:00",
          "1996-03-01T00:00:00",
          "1996-02-01T00:00:00",
          "1996-01-01T00:00:00",
          "1995-12-01T00:00:00",
          "1995-11-01T00:00:00",
          "1995-10-01T00:00:00",
          "1995-09-01T00:00:00",
          "1995-08-01T00:00:00",
          "1995-07-01T00:00:00",
          "1995-06-01T00:00:00",
          "1995-05-01T00:00:00",
          "1995-04-01T00:00:00",
          "1995-03-01T00:00:00",
          "1995-02-01T00:00:00",
          "1995-01-01T00:00:00",
          "1994-12-01T00:00:00",
          "1994-11-01T00:00:00",
          "1994-10-01T00:00:00",
          "1994-09-01T00:00:00",
          "1994-08-01T00:00:00",
          "1994-07-01T00:00:00",
          "1994-06-01T00:00:00",
          "1994-05-01T00:00:00",
          "1994-04-01T00:00:00",
          "1994-03-01T00:00:00",
          "1994-02-01T00:00:00",
          "1994-01-01T00:00:00",
          "1993-12-01T00:00:00",
          "1993-11-01T00:00:00",
          "1993-10-01T00:00:00",
          "1993-09-01T00:00:00",
          "1993-08-01T00:00:00",
          "1993-07-01T00:00:00",
          "1993-06-01T00:00:00",
          "1993-05-01T00:00:00",
          "1993-04-01T00:00:00",
          "1993-03-01T00:00:00",
          "1993-02-01T00:00:00",
          "1993-01-01T00:00:00",
          "1992-12-01T00:00:00",
          "1992-11-01T00:00:00",
          "1992-10-01T00:00:00",
          "1992-09-01T00:00:00",
          "1992-08-01T00:00:00",
          "1992-07-01T00:00:00",
          "1992-06-01T00:00:00",
          "1992-05-01T00:00:00",
          "1992-04-01T00:00:00",
          "1992-03-01T00:00:00",
          "1992-02-01T00:00:00",
          "1992-01-01T00:00:00",
          "1991-12-01T00:00:00",
          "1991-11-01T00:00:00",
          "1991-10-01T00:00:00",
          "1991-09-01T00:00:00",
          "1991-08-01T00:00:00",
          "1991-07-01T00:00:00",
          "1991-06-01T00:00:00",
          "1991-05-01T00:00:00",
          "1991-04-01T00:00:00",
          "1991-03-01T00:00:00",
          "1991-02-01T00:00:00",
          "1991-01-01T00:00:00",
          "1990-12-01T00:00:00",
          "1990-11-01T00:00:00",
          "1990-10-01T00:00:00",
          "1990-09-01T00:00:00",
          "1990-08-01T00:00:00"
         ],
         "xaxis": "x",
         "y": [
          2.442,
          2.548,
          2.555,
          2.598,
          2.627,
          2.592,
          2.621,
          2.74,
          2.716,
          2.859,
          2.798,
          2.516,
          2.309,
          2.248,
          2.366,
          2.647,
          2.86,
          2.836,
          2.836,
          2.849,
          2.891,
          2.901,
          2.757,
          2.591,
          2.587,
          2.555,
          2.477,
          2.564,
          2.505,
          2.645,
          2.38,
          2.3,
          2.347,
          2.391,
          2.417,
          2.325,
          2.304,
          2.349,
          2.254,
          2.182,
          2.249,
          2.219,
          2.178,
          2.239,
          2.366,
          2.268,
          2.113,
          1.969,
          1.764,
          1.949,
          2.038,
          2.158,
          2.29,
          2.365,
          2.636,
          2.794,
          2.802,
          2.718,
          2.469,
          2.464,
          2.216,
          2.116,
          2.543,
          2.912,
          3.171,
          3.406,
          3.487,
          3.611,
          3.692,
          3.673,
          3.661,
          3.533,
          3.356,
          3.313,
          3.276,
          3.243,
          3.344,
          3.532,
          3.574,
          3.591,
          3.626,
          3.615,
          3.57,
          3.711,
          3.67,
          3.319,
          3.31,
          3.452,
          3.746,
          3.849,
          3.722,
          3.439,
          3.539,
          3.732,
          3.9,
          3.852,
          3.579,
          3.38,
          3.266,
          3.384,
          3.448,
          3.611,
          3.639,
          3.65,
          3.68,
          3.906,
          3.8,
          3.561,
          3.211,
          3.095,
          2.993,
          2.859,
          2.801,
          2.705,
          2.73,
          2.729,
          2.732,
          2.836,
          2.848,
          2.772,
          2.644,
          2.715,
          2.607,
          2.651,
          2.551,
          2.554,
          2.616,
          2.527,
          2.631,
          2.266,
          2.049,
          1.959,
          1.923,
          1.788,
          1.687,
          2.147,
          3.051,
          3.703,
          3.779,
          4.062,
          4.054,
          3.766,
          3.458,
          3.244,
          3.028,
          3.043,
          3.018,
          3.08,
          2.803,
          2.803,
          2.786,
          2.965,
          3.056,
          3.146,
          2.845,
          2.563,
          2.278,
          2.24,
          2.313,
          2.229,
          2.245,
          2.555,
          2.952,
          2.981,
          2.885,
          2.907,
          2.742,
          2.425,
          2.28,
          2.316,
          2.185,
          2.257,
          2.717,
          2.903,
          2.486,
          2.29,
          2.156,
          2.161,
          2.243,
          2.079,
          1.91,
          1.831,
          1.841,
          1.979,
          2,
          1.87,
          1.878,
          1.911,
          1.969,
          1.983,
          1.798,
          1.736,
          1.648,
          1.572,
          1.479,
          1.512,
          1.564,
          1.679,
          1.62,
          1.513,
          1.493,
          1.497,
          1.589,
          1.693,
          1.613,
          1.458,
          1.386,
          1.419,
          1.445,
          1.4,
          1.396,
          1.397,
          1.382,
          1.392,
          1.397,
          1.249,
          1.114,
          1.107,
          1.086,
          1.171,
          1.315,
          1.522,
          1.421,
          1.421,
          1.616,
          1.702,
          1.552,
          1.409,
          1.45,
          1.447,
          1.443,
          1.517,
          1.532,
          1.55,
          1.465,
          1.551,
          1.633,
          1.487,
          1.465,
          1.516,
          1.377,
          1.289,
          1.273,
          1.251,
          1.244,
          1.256,
          1.221,
          1.158,
          1.114,
          1.131,
          1.131,
          0.982,
          0.921,
          0.939,
          0.945,
          0.995,
          1.019,
          1.009,
          1.026,
          1.055,
          1.064,
          1.064,
          1.03,
          1.017,
          1.049,
          1.086,
          1.131,
          1.171,
          1.197,
          1.231,
          1.224,
          1.174,
          1.198,
          1.2,
          1.199,
          1.205,
          1.23,
          1.236,
          1.235,
          1.232,
          1.204,
          1.202,
          1.207,
          1.227,
          1.256,
          1.279,
          1.231,
          1.137,
          1.089,
          1.09,
          1.071,
          1.062,
          1.087,
          1.111,
          1.123,
          1.154,
          1.192,
          1.178,
          1.111,
          1.072,
          1.073,
          1.082,
          1.091,
          1.116,
          1.114,
          1.144,
          1.155,
          1.106,
          1.078,
          1.047,
          1.027,
          1.008,
          1.009,
          0.998,
          1.014,
          1.066,
          1.092,
          1.05,
          1.062,
          1.078,
          1.097,
          1.1,
          1.078,
          1.052,
          1.054,
          1.062,
          1.078,
          1.111,
          1.114,
          1.122,
          1.122,
          1.137,
          1.145,
          1.107,
          1.052,
          1.013,
          1.006,
          1.022,
          1.076,
          1.099,
          1.088,
          1.109,
          1.115,
          1.096,
          1.128,
          1.126,
          1.076,
          1.04,
          1.094,
          null,
          null,
          1.324,
          1.335,
          1.258,
          null
         ],
         "yaxis": "y"
        }
       ],
       "layout": {
        "legend": {
         "tracegroupgap": 0
        },
        "template": {
         "data": {
          "bar": [
           {
            "error_x": {
             "color": "#2a3f5f"
            },
            "error_y": {
             "color": "#2a3f5f"
            },
            "marker": {
             "line": {
              "color": "#E5ECF6",
              "width": 0.5
             }
            },
            "type": "bar"
           }
          ],
          "barpolar": [
           {
            "marker": {
             "line": {
              "color": "#E5ECF6",
              "width": 0.5
             }
            },
            "type": "barpolar"
           }
          ],
          "carpet": [
           {
            "aaxis": {
             "endlinecolor": "#2a3f5f",
             "gridcolor": "white",
             "linecolor": "white",
             "minorgridcolor": "white",
             "startlinecolor": "#2a3f5f"
            },
            "baxis": {
             "endlinecolor": "#2a3f5f",
             "gridcolor": "white",
             "linecolor": "white",
             "minorgridcolor": "white",
             "startlinecolor": "#2a3f5f"
            },
            "type": "carpet"
           }
          ],
          "choropleth": [
           {
            "colorbar": {
             "outlinewidth": 0,
             "ticks": ""
            },
            "type": "choropleth"
           }
          ],
          "contour": [
           {
            "colorbar": {
             "outlinewidth": 0,
             "ticks": ""
            },
            "colorscale": [
             [
              0,
              "#0d0887"
             ],
             [
              0.1111111111111111,
              "#46039f"
             ],
             [
              0.2222222222222222,
              "#7201a8"
             ],
             [
              0.3333333333333333,
              "#9c179e"
             ],
             [
              0.4444444444444444,
              "#bd3786"
             ],
             [
              0.5555555555555556,
              "#d8576b"
             ],
             [
              0.6666666666666666,
              "#ed7953"
             ],
             [
              0.7777777777777778,
              "#fb9f3a"
             ],
             [
              0.8888888888888888,
              "#fdca26"
             ],
             [
              1,
              "#f0f921"
             ]
            ],
            "type": "contour"
           }
          ],
          "contourcarpet": [
           {
            "colorbar": {
             "outlinewidth": 0,
             "ticks": ""
            },
            "type": "contourcarpet"
           }
          ],
          "heatmap": [
           {
            "colorbar": {
             "outlinewidth": 0,
             "ticks": ""
            },
            "colorscale": [
             [
              0,
              "#0d0887"
             ],
             [
              0.1111111111111111,
              "#46039f"
             ],
             [
              0.2222222222222222,
              "#7201a8"
             ],
             [
              0.3333333333333333,
              "#9c179e"
             ],
             [
              0.4444444444444444,
              "#bd3786"
             ],
             [
              0.5555555555555556,
              "#d8576b"
             ],
             [
              0.6666666666666666,
              "#ed7953"
             ],
             [
              0.7777777777777778,
              "#fb9f3a"
             ],
             [
              0.8888888888888888,
              "#fdca26"
             ],
             [
              1,
              "#f0f921"
             ]
            ],
            "type": "heatmap"
           }
          ],
          "heatmapgl": [
           {
            "colorbar": {
             "outlinewidth": 0,
             "ticks": ""
            },
            "colorscale": [
             [
              0,
              "#0d0887"
             ],
             [
              0.1111111111111111,
              "#46039f"
             ],
             [
              0.2222222222222222,
              "#7201a8"
             ],
             [
              0.3333333333333333,
              "#9c179e"
             ],
             [
              0.4444444444444444,
              "#bd3786"
             ],
             [
              0.5555555555555556,
              "#d8576b"
             ],
             [
              0.6666666666666666,
              "#ed7953"
             ],
             [
              0.7777777777777778,
              "#fb9f3a"
             ],
             [
              0.8888888888888888,
              "#fdca26"
             ],
             [
              1,
              "#f0f921"
             ]
            ],
            "type": "heatmapgl"
           }
          ],
          "histogram": [
           {
            "marker": {
             "colorbar": {
              "outlinewidth": 0,
              "ticks": ""
             }
            },
            "type": "histogram"
           }
          ],
          "histogram2d": [
           {
            "colorbar": {
             "outlinewidth": 0,
             "ticks": ""
            },
            "colorscale": [
             [
              0,
              "#0d0887"
             ],
             [
              0.1111111111111111,
              "#46039f"
             ],
             [
              0.2222222222222222,
              "#7201a8"
             ],
             [
              0.3333333333333333,
              "#9c179e"
             ],
             [
              0.4444444444444444,
              "#bd3786"
             ],
             [
              0.5555555555555556,
              "#d8576b"
             ],
             [
              0.6666666666666666,
              "#ed7953"
             ],
             [
              0.7777777777777778,
              "#fb9f3a"
             ],
             [
              0.8888888888888888,
              "#fdca26"
             ],
             [
              1,
              "#f0f921"
             ]
            ],
            "type": "histogram2d"
           }
          ],
          "histogram2dcontour": [
           {
            "colorbar": {
             "outlinewidth": 0,
             "ticks": ""
            },
            "colorscale": [
             [
              0,
              "#0d0887"
             ],
             [
              0.1111111111111111,
              "#46039f"
             ],
             [
              0.2222222222222222,
              "#7201a8"
             ],
             [
              0.3333333333333333,
              "#9c179e"
             ],
             [
              0.4444444444444444,
              "#bd3786"
             ],
             [
              0.5555555555555556,
              "#d8576b"
             ],
             [
              0.6666666666666666,
              "#ed7953"
             ],
             [
              0.7777777777777778,
              "#fb9f3a"
             ],
             [
              0.8888888888888888,
              "#fdca26"
             ],
             [
              1,
              "#f0f921"
             ]
            ],
            "type": "histogram2dcontour"
           }
          ],
          "mesh3d": [
           {
            "colorbar": {
             "outlinewidth": 0,
             "ticks": ""
            },
            "type": "mesh3d"
           }
          ],
          "parcoords": [
           {
            "line": {
             "colorbar": {
              "outlinewidth": 0,
              "ticks": ""
             }
            },
            "type": "parcoords"
           }
          ],
          "pie": [
           {
            "automargin": true,
            "type": "pie"
           }
          ],
          "scatter": [
           {
            "marker": {
             "colorbar": {
              "outlinewidth": 0,
              "ticks": ""
             }
            },
            "type": "scatter"
           }
          ],
          "scatter3d": [
           {
            "line": {
             "colorbar": {
              "outlinewidth": 0,
              "ticks": ""
             }
            },
            "marker": {
             "colorbar": {
              "outlinewidth": 0,
              "ticks": ""
             }
            },
            "type": "scatter3d"
           }
          ],
          "scattercarpet": [
           {
            "marker": {
             "colorbar": {
              "outlinewidth": 0,
              "ticks": ""
             }
            },
            "type": "scattercarpet"
           }
          ],
          "scattergeo": [
           {
            "marker": {
             "colorbar": {
              "outlinewidth": 0,
              "ticks": ""
             }
            },
            "type": "scattergeo"
           }
          ],
          "scattergl": [
           {
            "marker": {
             "colorbar": {
              "outlinewidth": 0,
              "ticks": ""
             }
            },
            "type": "scattergl"
           }
          ],
          "scattermapbox": [
           {
            "marker": {
             "colorbar": {
              "outlinewidth": 0,
              "ticks": ""
             }
            },
            "type": "scattermapbox"
           }
          ],
          "scatterpolar": [
           {
            "marker": {
             "colorbar": {
              "outlinewidth": 0,
              "ticks": ""
             }
            },
            "type": "scatterpolar"
           }
          ],
          "scatterpolargl": [
           {
            "marker": {
             "colorbar": {
              "outlinewidth": 0,
              "ticks": ""
             }
            },
            "type": "scatterpolargl"
           }
          ],
          "scatterternary": [
           {
            "marker": {
             "colorbar": {
              "outlinewidth": 0,
              "ticks": ""
             }
            },
            "type": "scatterternary"
           }
          ],
          "surface": [
           {
            "colorbar": {
             "outlinewidth": 0,
             "ticks": ""
            },
            "colorscale": [
             [
              0,
              "#0d0887"
             ],
             [
              0.1111111111111111,
              "#46039f"
             ],
             [
              0.2222222222222222,
              "#7201a8"
             ],
             [
              0.3333333333333333,
              "#9c179e"
             ],
             [
              0.4444444444444444,
              "#bd3786"
             ],
             [
              0.5555555555555556,
              "#d8576b"
             ],
             [
              0.6666666666666666,
              "#ed7953"
             ],
             [
              0.7777777777777778,
              "#fb9f3a"
             ],
             [
              0.8888888888888888,
              "#fdca26"
             ],
             [
              1,
              "#f0f921"
             ]
            ],
            "type": "surface"
           }
          ],
          "table": [
           {
            "cells": {
             "fill": {
              "color": "#EBF0F8"
             },
             "line": {
              "color": "white"
             }
            },
            "header": {
             "fill": {
              "color": "#C8D4E3"
             },
             "line": {
              "color": "white"
             }
            },
            "type": "table"
           }
          ]
         },
         "layout": {
          "annotationdefaults": {
           "arrowcolor": "#2a3f5f",
           "arrowhead": 0,
           "arrowwidth": 1
          },
          "coloraxis": {
           "colorbar": {
            "outlinewidth": 0,
            "ticks": ""
           }
          },
          "colorscale": {
           "diverging": [
            [
             0,
             "#8e0152"
            ],
            [
             0.1,
             "#c51b7d"
            ],
            [
             0.2,
             "#de77ae"
            ],
            [
             0.3,
             "#f1b6da"
            ],
            [
             0.4,
             "#fde0ef"
            ],
            [
             0.5,
             "#f7f7f7"
            ],
            [
             0.6,
             "#e6f5d0"
            ],
            [
             0.7,
             "#b8e186"
            ],
            [
             0.8,
             "#7fbc41"
            ],
            [
             0.9,
             "#4d9221"
            ],
            [
             1,
             "#276419"
            ]
           ],
           "sequential": [
            [
             0,
             "#0d0887"
            ],
            [
             0.1111111111111111,
             "#46039f"
            ],
            [
             0.2222222222222222,
             "#7201a8"
            ],
            [
             0.3333333333333333,
             "#9c179e"
            ],
            [
             0.4444444444444444,
             "#bd3786"
            ],
            [
             0.5555555555555556,
             "#d8576b"
            ],
            [
             0.6666666666666666,
             "#ed7953"
            ],
            [
             0.7777777777777778,
             "#fb9f3a"
            ],
            [
             0.8888888888888888,
             "#fdca26"
            ],
            [
             1,
             "#f0f921"
            ]
           ],
           "sequentialminus": [
            [
             0,
             "#0d0887"
            ],
            [
             0.1111111111111111,
             "#46039f"
            ],
            [
             0.2222222222222222,
             "#7201a8"
            ],
            [
             0.3333333333333333,
             "#9c179e"
            ],
            [
             0.4444444444444444,
             "#bd3786"
            ],
            [
             0.5555555555555556,
             "#d8576b"
            ],
            [
             0.6666666666666666,
             "#ed7953"
            ],
            [
             0.7777777777777778,
             "#fb9f3a"
            ],
            [
             0.8888888888888888,
             "#fdca26"
            ],
            [
             1,
             "#f0f921"
            ]
           ]
          },
          "colorway": [
           "#636efa",
           "#EF553B",
           "#00cc96",
           "#ab63fa",
           "#FFA15A",
           "#19d3f3",
           "#FF6692",
           "#B6E880",
           "#FF97FF",
           "#FECB52"
          ],
          "font": {
           "color": "#2a3f5f"
          },
          "geo": {
           "bgcolor": "white",
           "lakecolor": "white",
           "landcolor": "#E5ECF6",
           "showlakes": true,
           "showland": true,
           "subunitcolor": "white"
          },
          "hoverlabel": {
           "align": "left"
          },
          "hovermode": "closest",
          "mapbox": {
           "style": "light"
          },
          "paper_bgcolor": "white",
          "plot_bgcolor": "#E5ECF6",
          "polar": {
           "angularaxis": {
            "gridcolor": "white",
            "linecolor": "white",
            "ticks": ""
           },
           "bgcolor": "#E5ECF6",
           "radialaxis": {
            "gridcolor": "white",
            "linecolor": "white",
            "ticks": ""
           }
          },
          "scene": {
           "xaxis": {
            "backgroundcolor": "#E5ECF6",
            "gridcolor": "white",
            "gridwidth": 2,
            "linecolor": "white",
            "showbackground": true,
            "ticks": "",
            "zerolinecolor": "white"
           },
           "yaxis": {
            "backgroundcolor": "#E5ECF6",
            "gridcolor": "white",
            "gridwidth": 2,
            "linecolor": "white",
            "showbackground": true,
            "ticks": "",
            "zerolinecolor": "white"
           },
           "zaxis": {
            "backgroundcolor": "#E5ECF6",
            "gridcolor": "white",
            "gridwidth": 2,
            "linecolor": "white",
            "showbackground": true,
            "ticks": "",
            "zerolinecolor": "white"
           }
          },
          "shapedefaults": {
           "line": {
            "color": "#2a3f5f"
           }
          },
          "ternary": {
           "aaxis": {
            "gridcolor": "white",
            "linecolor": "white",
            "ticks": ""
           },
           "baxis": {
            "gridcolor": "white",
            "linecolor": "white",
            "ticks": ""
           },
           "bgcolor": "#E5ECF6",
           "caxis": {
            "gridcolor": "white",
            "linecolor": "white",
            "ticks": ""
           }
          },
          "title": {
           "x": 0.05
          },
          "xaxis": {
           "automargin": true,
           "gridcolor": "white",
           "linecolor": "white",
           "ticks": "",
           "title": {
            "standoff": 15
           },
           "zerolinecolor": "white",
           "zerolinewidth": 2
          },
          "yaxis": {
           "automargin": true,
           "gridcolor": "white",
           "linecolor": "white",
           "ticks": "",
           "title": {
            "standoff": 15
           },
           "zerolinecolor": "white",
           "zerolinewidth": 2
          }
         }
        },
        "title": {
         "text": "U.S. Regular All Formulations Retail Gasoline Prices, Monthly"
        },
        "xaxis": {
         "anchor": "y",
         "domain": [
          0,
          1
         ],
         "title": {
          "text": "Date"
         }
        },
        "yaxis": {
         "anchor": "x",
         "domain": [
          0,
          1
         ],
         "title": {
          "text": "price"
         }
        }
       }
      },
      "text/html": [
       "<div>\n",
       "        \n",
       "        \n",
       "            <div id=\"b7c6dd01-7420-4df3-81f3-dff2e91029f0\" class=\"plotly-graph-div\" style=\"height:525px; width:100%;\"></div>\n",
       "            <script type=\"text/javascript\">\n",
       "                require([\"plotly\"], function(Plotly) {\n",
       "                    window.PLOTLYENV=window.PLOTLYENV || {};\n",
       "                    \n",
       "                if (document.getElementById(\"b7c6dd01-7420-4df3-81f3-dff2e91029f0\")) {\n",
       "                    Plotly.newPlot(\n",
       "                        'b7c6dd01-7420-4df3-81f3-dff2e91029f0',\n",
       "                        [{\"hoverlabel\": {\"namelength\": 0}, \"hovertemplate\": \"Date=%{x}<br>price=%{y}\", \"legendgroup\": \"\", \"line\": {\"color\": \"#636efa\", \"dash\": \"solid\"}, \"mode\": \"lines\", \"name\": \"\", \"showlegend\": false, \"type\": \"scatter\", \"x\": [\"2020-02-01T00:00:00\", \"2020-01-01T00:00:00\", \"2019-12-01T00:00:00\", \"2019-11-01T00:00:00\", \"2019-10-01T00:00:00\", \"2019-09-01T00:00:00\", \"2019-08-01T00:00:00\", \"2019-07-01T00:00:00\", \"2019-06-01T00:00:00\", \"2019-05-01T00:00:00\", \"2019-04-01T00:00:00\", \"2019-03-01T00:00:00\", \"2019-02-01T00:00:00\", \"2019-01-01T00:00:00\", \"2018-12-01T00:00:00\", \"2018-11-01T00:00:00\", \"2018-10-01T00:00:00\", \"2018-09-01T00:00:00\", \"2018-08-01T00:00:00\", \"2018-07-01T00:00:00\", \"2018-06-01T00:00:00\", \"2018-05-01T00:00:00\", \"2018-04-01T00:00:00\", \"2018-03-01T00:00:00\", \"2018-02-01T00:00:00\", \"2018-01-01T00:00:00\", \"2017-12-01T00:00:00\", \"2017-11-01T00:00:00\", \"2017-10-01T00:00:00\", \"2017-09-01T00:00:00\", \"2017-08-01T00:00:00\", \"2017-07-01T00:00:00\", \"2017-06-01T00:00:00\", \"2017-05-01T00:00:00\", \"2017-04-01T00:00:00\", \"2017-03-01T00:00:00\", \"2017-02-01T00:00:00\", \"2017-01-01T00:00:00\", \"2016-12-01T00:00:00\", \"2016-11-01T00:00:00\", \"2016-10-01T00:00:00\", \"2016-09-01T00:00:00\", \"2016-08-01T00:00:00\", \"2016-07-01T00:00:00\", \"2016-06-01T00:00:00\", \"2016-05-01T00:00:00\", \"2016-04-01T00:00:00\", \"2016-03-01T00:00:00\", \"2016-02-01T00:00:00\", \"2016-01-01T00:00:00\", \"2015-12-01T00:00:00\", \"2015-11-01T00:00:00\", \"2015-10-01T00:00:00\", \"2015-09-01T00:00:00\", \"2015-08-01T00:00:00\", \"2015-07-01T00:00:00\", \"2015-06-01T00:00:00\", \"2015-05-01T00:00:00\", \"2015-04-01T00:00:00\", \"2015-03-01T00:00:00\", \"2015-02-01T00:00:00\", \"2015-01-01T00:00:00\", \"2014-12-01T00:00:00\", \"2014-11-01T00:00:00\", \"2014-10-01T00:00:00\", \"2014-09-01T00:00:00\", \"2014-08-01T00:00:00\", \"2014-07-01T00:00:00\", \"2014-06-01T00:00:00\", \"2014-05-01T00:00:00\", \"2014-04-01T00:00:00\", \"2014-03-01T00:00:00\", \"2014-02-01T00:00:00\", \"2014-01-01T00:00:00\", \"2013-12-01T00:00:00\", \"2013-11-01T00:00:00\", \"2013-10-01T00:00:00\", \"2013-09-01T00:00:00\", \"2013-08-01T00:00:00\", \"2013-07-01T00:00:00\", \"2013-06-01T00:00:00\", \"2013-05-01T00:00:00\", \"2013-04-01T00:00:00\", \"2013-03-01T00:00:00\", \"2013-02-01T00:00:00\", \"2013-01-01T00:00:00\", \"2012-12-01T00:00:00\", \"2012-11-01T00:00:00\", \"2012-10-01T00:00:00\", \"2012-09-01T00:00:00\", \"2012-08-01T00:00:00\", \"2012-07-01T00:00:00\", \"2012-06-01T00:00:00\", \"2012-05-01T00:00:00\", \"2012-04-01T00:00:00\", \"2012-03-01T00:00:00\", \"2012-02-01T00:00:00\", \"2012-01-01T00:00:00\", \"2011-12-01T00:00:00\", \"2011-11-01T00:00:00\", \"2011-10-01T00:00:00\", \"2011-09-01T00:00:00\", \"2011-08-01T00:00:00\", \"2011-07-01T00:00:00\", \"2011-06-01T00:00:00\", \"2011-05-01T00:00:00\", \"2011-04-01T00:00:00\", \"2011-03-01T00:00:00\", \"2011-02-01T00:00:00\", \"2011-01-01T00:00:00\", \"2010-12-01T00:00:00\", \"2010-11-01T00:00:00\", \"2010-10-01T00:00:00\", \"2010-09-01T00:00:00\", \"2010-08-01T00:00:00\", \"2010-07-01T00:00:00\", \"2010-06-01T00:00:00\", \"2010-05-01T00:00:00\", \"2010-04-01T00:00:00\", \"2010-03-01T00:00:00\", \"2010-02-01T00:00:00\", \"2010-01-01T00:00:00\", \"2009-12-01T00:00:00\", \"2009-11-01T00:00:00\", \"2009-10-01T00:00:00\", \"2009-09-01T00:00:00\", \"2009-08-01T00:00:00\", \"2009-07-01T00:00:00\", \"2009-06-01T00:00:00\", \"2009-05-01T00:00:00\", \"2009-04-01T00:00:00\", \"2009-03-01T00:00:00\", \"2009-02-01T00:00:00\", \"2009-01-01T00:00:00\", \"2008-12-01T00:00:00\", \"2008-11-01T00:00:00\", \"2008-10-01T00:00:00\", \"2008-09-01T00:00:00\", \"2008-08-01T00:00:00\", \"2008-07-01T00:00:00\", \"2008-06-01T00:00:00\", \"2008-05-01T00:00:00\", \"2008-04-01T00:00:00\", \"2008-03-01T00:00:00\", \"2008-02-01T00:00:00\", \"2008-01-01T00:00:00\", \"2007-12-01T00:00:00\", \"2007-11-01T00:00:00\", \"2007-10-01T00:00:00\", \"2007-09-01T00:00:00\", \"2007-08-01T00:00:00\", \"2007-07-01T00:00:00\", \"2007-06-01T00:00:00\", \"2007-05-01T00:00:00\", \"2007-04-01T00:00:00\", \"2007-03-01T00:00:00\", \"2007-02-01T00:00:00\", \"2007-01-01T00:00:00\", \"2006-12-01T00:00:00\", \"2006-11-01T00:00:00\", \"2006-10-01T00:00:00\", \"2006-09-01T00:00:00\", \"2006-08-01T00:00:00\", \"2006-07-01T00:00:00\", \"2006-06-01T00:00:00\", \"2006-05-01T00:00:00\", \"2006-04-01T00:00:00\", \"2006-03-01T00:00:00\", \"2006-02-01T00:00:00\", \"2006-01-01T00:00:00\", \"2005-12-01T00:00:00\", \"2005-11-01T00:00:00\", \"2005-10-01T00:00:00\", \"2005-09-01T00:00:00\", \"2005-08-01T00:00:00\", \"2005-07-01T00:00:00\", \"2005-06-01T00:00:00\", \"2005-05-01T00:00:00\", \"2005-04-01T00:00:00\", \"2005-03-01T00:00:00\", \"2005-02-01T00:00:00\", \"2005-01-01T00:00:00\", \"2004-12-01T00:00:00\", \"2004-11-01T00:00:00\", \"2004-10-01T00:00:00\", \"2004-09-01T00:00:00\", \"2004-08-01T00:00:00\", \"2004-07-01T00:00:00\", \"2004-06-01T00:00:00\", \"2004-05-01T00:00:00\", \"2004-04-01T00:00:00\", \"2004-03-01T00:00:00\", \"2004-02-01T00:00:00\", \"2004-01-01T00:00:00\", \"2003-12-01T00:00:00\", \"2003-11-01T00:00:00\", \"2003-10-01T00:00:00\", \"2003-09-01T00:00:00\", \"2003-08-01T00:00:00\", \"2003-07-01T00:00:00\", \"2003-06-01T00:00:00\", \"2003-05-01T00:00:00\", \"2003-04-01T00:00:00\", \"2003-03-01T00:00:00\", \"2003-02-01T00:00:00\", \"2003-01-01T00:00:00\", \"2002-12-01T00:00:00\", \"2002-11-01T00:00:00\", \"2002-10-01T00:00:00\", \"2002-09-01T00:00:00\", \"2002-08-01T00:00:00\", \"2002-07-01T00:00:00\", \"2002-06-01T00:00:00\", \"2002-05-01T00:00:00\", \"2002-04-01T00:00:00\", \"2002-03-01T00:00:00\", \"2002-02-01T00:00:00\", \"2002-01-01T00:00:00\", \"2001-12-01T00:00:00\", \"2001-11-01T00:00:00\", \"2001-10-01T00:00:00\", \"2001-09-01T00:00:00\", \"2001-08-01T00:00:00\", \"2001-07-01T00:00:00\", \"2001-06-01T00:00:00\", \"2001-05-01T00:00:00\", \"2001-04-01T00:00:00\", \"2001-03-01T00:00:00\", \"2001-02-01T00:00:00\", \"2001-01-01T00:00:00\", \"2000-12-01T00:00:00\", \"2000-11-01T00:00:00\", \"2000-10-01T00:00:00\", \"2000-09-01T00:00:00\", \"2000-08-01T00:00:00\", \"2000-07-01T00:00:00\", \"2000-06-01T00:00:00\", \"2000-05-01T00:00:00\", \"2000-04-01T00:00:00\", \"2000-03-01T00:00:00\", \"2000-02-01T00:00:00\", \"2000-01-01T00:00:00\", \"1999-12-01T00:00:00\", \"1999-11-01T00:00:00\", \"1999-10-01T00:00:00\", \"1999-09-01T00:00:00\", \"1999-08-01T00:00:00\", \"1999-07-01T00:00:00\", \"1999-06-01T00:00:00\", \"1999-05-01T00:00:00\", \"1999-04-01T00:00:00\", \"1999-03-01T00:00:00\", \"1999-02-01T00:00:00\", \"1999-01-01T00:00:00\", \"1998-12-01T00:00:00\", \"1998-11-01T00:00:00\", \"1998-10-01T00:00:00\", \"1998-09-01T00:00:00\", \"1998-08-01T00:00:00\", \"1998-07-01T00:00:00\", \"1998-06-01T00:00:00\", \"1998-05-01T00:00:00\", \"1998-04-01T00:00:00\", \"1998-03-01T00:00:00\", \"1998-02-01T00:00:00\", \"1998-01-01T00:00:00\", \"1997-12-01T00:00:00\", \"1997-11-01T00:00:00\", \"1997-10-01T00:00:00\", \"1997-09-01T00:00:00\", \"1997-08-01T00:00:00\", \"1997-07-01T00:00:00\", \"1997-06-01T00:00:00\", \"1997-05-01T00:00:00\", \"1997-04-01T00:00:00\", \"1997-03-01T00:00:00\", \"1997-02-01T00:00:00\", \"1997-01-01T00:00:00\", \"1996-12-01T00:00:00\", \"1996-11-01T00:00:00\", \"1996-10-01T00:00:00\", \"1996-09-01T00:00:00\", \"1996-08-01T00:00:00\", \"1996-07-01T00:00:00\", \"1996-06-01T00:00:00\", \"1996-05-01T00:00:00\", \"1996-04-01T00:00:00\", \"1996-03-01T00:00:00\", \"1996-02-01T00:00:00\", \"1996-01-01T00:00:00\", \"1995-12-01T00:00:00\", \"1995-11-01T00:00:00\", \"1995-10-01T00:00:00\", \"1995-09-01T00:00:00\", \"1995-08-01T00:00:00\", \"1995-07-01T00:00:00\", \"1995-06-01T00:00:00\", \"1995-05-01T00:00:00\", \"1995-04-01T00:00:00\", \"1995-03-01T00:00:00\", \"1995-02-01T00:00:00\", \"1995-01-01T00:00:00\", \"1994-12-01T00:00:00\", \"1994-11-01T00:00:00\", \"1994-10-01T00:00:00\", \"1994-09-01T00:00:00\", \"1994-08-01T00:00:00\", \"1994-07-01T00:00:00\", \"1994-06-01T00:00:00\", \"1994-05-01T00:00:00\", \"1994-04-01T00:00:00\", \"1994-03-01T00:00:00\", \"1994-02-01T00:00:00\", \"1994-01-01T00:00:00\", \"1993-12-01T00:00:00\", \"1993-11-01T00:00:00\", \"1993-10-01T00:00:00\", \"1993-09-01T00:00:00\", \"1993-08-01T00:00:00\", \"1993-07-01T00:00:00\", \"1993-06-01T00:00:00\", \"1993-05-01T00:00:00\", \"1993-04-01T00:00:00\", \"1993-03-01T00:00:00\", \"1993-02-01T00:00:00\", \"1993-01-01T00:00:00\", \"1992-12-01T00:00:00\", \"1992-11-01T00:00:00\", \"1992-10-01T00:00:00\", \"1992-09-01T00:00:00\", \"1992-08-01T00:00:00\", \"1992-07-01T00:00:00\", \"1992-06-01T00:00:00\", \"1992-05-01T00:00:00\", \"1992-04-01T00:00:00\", \"1992-03-01T00:00:00\", \"1992-02-01T00:00:00\", \"1992-01-01T00:00:00\", \"1991-12-01T00:00:00\", \"1991-11-01T00:00:00\", \"1991-10-01T00:00:00\", \"1991-09-01T00:00:00\", \"1991-08-01T00:00:00\", \"1991-07-01T00:00:00\", \"1991-06-01T00:00:00\", \"1991-05-01T00:00:00\", \"1991-04-01T00:00:00\", \"1991-03-01T00:00:00\", \"1991-02-01T00:00:00\", \"1991-01-01T00:00:00\", \"1990-12-01T00:00:00\", \"1990-11-01T00:00:00\", \"1990-10-01T00:00:00\", \"1990-09-01T00:00:00\", \"1990-08-01T00:00:00\"], \"xaxis\": \"x\", \"y\": [2.442, 2.548, 2.555, 2.598, 2.627, 2.592, 2.621, 2.74, 2.716, 2.859, 2.798, 2.516, 2.309, 2.248, 2.366, 2.647, 2.86, 2.836, 2.836, 2.849, 2.891, 2.901, 2.757, 2.591, 2.587, 2.555, 2.477, 2.564, 2.505, 2.645, 2.38, 2.3, 2.347, 2.391, 2.417, 2.325, 2.304, 2.349, 2.254, 2.182, 2.249, 2.219, 2.178, 2.239, 2.366, 2.268, 2.113, 1.969, 1.764, 1.949, 2.038, 2.158, 2.29, 2.365, 2.636, 2.794, 2.802, 2.718, 2.469, 2.464, 2.216, 2.116, 2.543, 2.912, 3.171, 3.406, 3.487, 3.611, 3.692, 3.673, 3.661, 3.533, 3.356, 3.313, 3.276, 3.243, 3.344, 3.532, 3.574, 3.591, 3.626, 3.615, 3.57, 3.711, 3.67, 3.319, 3.31, 3.452, 3.746, 3.849, 3.722, 3.439, 3.539, 3.732, 3.9, 3.852, 3.579, 3.38, 3.266, 3.384, 3.448, 3.611, 3.639, 3.65, 3.68, 3.906, 3.8, 3.561, 3.211, 3.095, 2.993, 2.859, 2.801, 2.705, 2.73, 2.729, 2.732, 2.836, 2.848, 2.772, 2.644, 2.715, 2.607, 2.651, 2.551, 2.554, 2.616, 2.527, 2.631, 2.266, 2.049, 1.959, 1.923, 1.788, 1.687, 2.147, 3.051, 3.703, 3.779, 4.062, 4.054, 3.766, 3.458, 3.244, 3.028, 3.043, 3.018, 3.08, 2.803, 2.803, 2.786, 2.965, 3.056, 3.146, 2.845, 2.563, 2.278, 2.24, 2.313, 2.229, 2.245, 2.555, 2.952, 2.981, 2.885, 2.907, 2.742, 2.425, 2.28, 2.316, 2.185, 2.257, 2.717, 2.903, 2.486, 2.29, 2.156, 2.161, 2.243, 2.079, 1.91, 1.831, 1.841, 1.979, 2.0, 1.87, 1.878, 1.911, 1.969, 1.983, 1.798, 1.736, 1.648, 1.572, 1.479, 1.512, 1.564, 1.679, 1.62, 1.513, 1.493, 1.497, 1.589, 1.693, 1.613, 1.458, 1.386, 1.419, 1.445, 1.4, 1.396, 1.397, 1.382, 1.392, 1.397, 1.249, 1.114, 1.107, 1.086, 1.171, 1.315, 1.522, 1.421, 1.421, 1.616, 1.702, 1.552, 1.409, 1.45, 1.447, 1.443, 1.517, 1.532, 1.55, 1.465, 1.551, 1.633, 1.487, 1.465, 1.516, 1.377, 1.289, 1.273, 1.251, 1.244, 1.256, 1.221, 1.158, 1.114, 1.131, 1.131, 0.982, 0.921, 0.939, 0.945, 0.995, 1.019, 1.009, 1.026, 1.055, 1.064, 1.064, 1.03, 1.017, 1.049, 1.086, 1.131, 1.171, 1.197, 1.231, 1.224, 1.174, 1.198, 1.2, 1.199, 1.205, 1.23, 1.236, 1.235, 1.232, 1.204, 1.202, 1.207, 1.227, 1.256, 1.279, 1.231, 1.137, 1.089, 1.09, 1.071, 1.062, 1.087, 1.111, 1.123, 1.154, 1.192, 1.178, 1.111, 1.072, 1.073, 1.082, 1.091, 1.116, 1.114, 1.144, 1.155, 1.106, 1.078, 1.047, 1.027, 1.008, 1.009, 0.998, 1.014, 1.066, 1.092, 1.05, 1.062, 1.078, 1.097, 1.1, 1.078, 1.052, 1.054, 1.062, 1.078, 1.111, 1.114, 1.122, 1.122, 1.137, 1.145, 1.107, 1.052, 1.013, 1.006, 1.022, 1.076, 1.099, 1.088, 1.109, 1.115, 1.096, 1.128, 1.126, 1.076, 1.04, 1.094, null, null, 1.324, 1.335, 1.258, null], \"yaxis\": \"y\"}],\n",
       "                        {\"legend\": {\"tracegroupgap\": 0}, \"template\": {\"data\": {\"bar\": [{\"error_x\": {\"color\": \"#2a3f5f\"}, \"error_y\": {\"color\": \"#2a3f5f\"}, \"marker\": {\"line\": {\"color\": \"#E5ECF6\", \"width\": 0.5}}, \"type\": \"bar\"}], \"barpolar\": [{\"marker\": {\"line\": {\"color\": \"#E5ECF6\", \"width\": 0.5}}, \"type\": \"barpolar\"}], \"carpet\": [{\"aaxis\": {\"endlinecolor\": \"#2a3f5f\", \"gridcolor\": \"white\", \"linecolor\": \"white\", \"minorgridcolor\": \"white\", \"startlinecolor\": \"#2a3f5f\"}, \"baxis\": {\"endlinecolor\": \"#2a3f5f\", \"gridcolor\": \"white\", \"linecolor\": \"white\", \"minorgridcolor\": \"white\", \"startlinecolor\": \"#2a3f5f\"}, \"type\": \"carpet\"}], \"choropleth\": [{\"colorbar\": {\"outlinewidth\": 0, \"ticks\": \"\"}, \"type\": \"choropleth\"}], \"contour\": [{\"colorbar\": {\"outlinewidth\": 0, \"ticks\": \"\"}, \"colorscale\": [[0.0, \"#0d0887\"], [0.1111111111111111, \"#46039f\"], [0.2222222222222222, \"#7201a8\"], [0.3333333333333333, \"#9c179e\"], [0.4444444444444444, \"#bd3786\"], [0.5555555555555556, \"#d8576b\"], [0.6666666666666666, \"#ed7953\"], [0.7777777777777778, \"#fb9f3a\"], [0.8888888888888888, \"#fdca26\"], [1.0, \"#f0f921\"]], \"type\": \"contour\"}], \"contourcarpet\": [{\"colorbar\": {\"outlinewidth\": 0, \"ticks\": \"\"}, \"type\": \"contourcarpet\"}], \"heatmap\": [{\"colorbar\": {\"outlinewidth\": 0, \"ticks\": \"\"}, \"colorscale\": [[0.0, \"#0d0887\"], [0.1111111111111111, \"#46039f\"], [0.2222222222222222, \"#7201a8\"], [0.3333333333333333, \"#9c179e\"], [0.4444444444444444, \"#bd3786\"], [0.5555555555555556, \"#d8576b\"], [0.6666666666666666, \"#ed7953\"], [0.7777777777777778, \"#fb9f3a\"], [0.8888888888888888, \"#fdca26\"], [1.0, \"#f0f921\"]], \"type\": \"heatmap\"}], \"heatmapgl\": [{\"colorbar\": {\"outlinewidth\": 0, \"ticks\": \"\"}, \"colorscale\": [[0.0, \"#0d0887\"], [0.1111111111111111, \"#46039f\"], [0.2222222222222222, \"#7201a8\"], [0.3333333333333333, \"#9c179e\"], [0.4444444444444444, \"#bd3786\"], [0.5555555555555556, \"#d8576b\"], [0.6666666666666666, \"#ed7953\"], [0.7777777777777778, \"#fb9f3a\"], [0.8888888888888888, \"#fdca26\"], [1.0, \"#f0f921\"]], \"type\": \"heatmapgl\"}], \"histogram\": [{\"marker\": {\"colorbar\": {\"outlinewidth\": 0, \"ticks\": \"\"}}, \"type\": \"histogram\"}], \"histogram2d\": [{\"colorbar\": {\"outlinewidth\": 0, \"ticks\": \"\"}, \"colorscale\": [[0.0, \"#0d0887\"], [0.1111111111111111, \"#46039f\"], [0.2222222222222222, \"#7201a8\"], [0.3333333333333333, \"#9c179e\"], [0.4444444444444444, \"#bd3786\"], [0.5555555555555556, \"#d8576b\"], [0.6666666666666666, \"#ed7953\"], [0.7777777777777778, \"#fb9f3a\"], [0.8888888888888888, \"#fdca26\"], [1.0, \"#f0f921\"]], \"type\": \"histogram2d\"}], \"histogram2dcontour\": [{\"colorbar\": {\"outlinewidth\": 0, \"ticks\": \"\"}, \"colorscale\": [[0.0, \"#0d0887\"], [0.1111111111111111, \"#46039f\"], [0.2222222222222222, \"#7201a8\"], [0.3333333333333333, \"#9c179e\"], [0.4444444444444444, \"#bd3786\"], [0.5555555555555556, \"#d8576b\"], [0.6666666666666666, \"#ed7953\"], [0.7777777777777778, \"#fb9f3a\"], [0.8888888888888888, \"#fdca26\"], [1.0, \"#f0f921\"]], \"type\": \"histogram2dcontour\"}], \"mesh3d\": [{\"colorbar\": {\"outlinewidth\": 0, \"ticks\": \"\"}, \"type\": \"mesh3d\"}], \"parcoords\": [{\"line\": {\"colorbar\": {\"outlinewidth\": 0, \"ticks\": \"\"}}, \"type\": \"parcoords\"}], \"pie\": [{\"automargin\": true, \"type\": \"pie\"}], \"scatter\": [{\"marker\": {\"colorbar\": {\"outlinewidth\": 0, \"ticks\": \"\"}}, \"type\": \"scatter\"}], \"scatter3d\": [{\"line\": {\"colorbar\": {\"outlinewidth\": 0, \"ticks\": \"\"}}, \"marker\": {\"colorbar\": {\"outlinewidth\": 0, \"ticks\": \"\"}}, \"type\": \"scatter3d\"}], \"scattercarpet\": [{\"marker\": {\"colorbar\": {\"outlinewidth\": 0, \"ticks\": \"\"}}, \"type\": \"scattercarpet\"}], \"scattergeo\": [{\"marker\": {\"colorbar\": {\"outlinewidth\": 0, \"ticks\": \"\"}}, \"type\": \"scattergeo\"}], \"scattergl\": [{\"marker\": {\"colorbar\": {\"outlinewidth\": 0, \"ticks\": \"\"}}, \"type\": \"scattergl\"}], \"scattermapbox\": [{\"marker\": {\"colorbar\": {\"outlinewidth\": 0, \"ticks\": \"\"}}, \"type\": \"scattermapbox\"}], \"scatterpolar\": [{\"marker\": {\"colorbar\": {\"outlinewidth\": 0, \"ticks\": \"\"}}, \"type\": \"scatterpolar\"}], \"scatterpolargl\": [{\"marker\": {\"colorbar\": {\"outlinewidth\": 0, \"ticks\": \"\"}}, \"type\": \"scatterpolargl\"}], \"scatterternary\": [{\"marker\": {\"colorbar\": {\"outlinewidth\": 0, \"ticks\": \"\"}}, \"type\": \"scatterternary\"}], \"surface\": [{\"colorbar\": {\"outlinewidth\": 0, \"ticks\": \"\"}, \"colorscale\": [[0.0, \"#0d0887\"], [0.1111111111111111, \"#46039f\"], [0.2222222222222222, \"#7201a8\"], [0.3333333333333333, \"#9c179e\"], [0.4444444444444444, \"#bd3786\"], [0.5555555555555556, \"#d8576b\"], [0.6666666666666666, \"#ed7953\"], [0.7777777777777778, \"#fb9f3a\"], [0.8888888888888888, \"#fdca26\"], [1.0, \"#f0f921\"]], \"type\": \"surface\"}], \"table\": [{\"cells\": {\"fill\": {\"color\": \"#EBF0F8\"}, \"line\": {\"color\": \"white\"}}, \"header\": {\"fill\": {\"color\": \"#C8D4E3\"}, \"line\": {\"color\": \"white\"}}, \"type\": \"table\"}]}, \"layout\": {\"annotationdefaults\": {\"arrowcolor\": \"#2a3f5f\", \"arrowhead\": 0, \"arrowwidth\": 1}, \"coloraxis\": {\"colorbar\": {\"outlinewidth\": 0, \"ticks\": \"\"}}, \"colorscale\": {\"diverging\": [[0, \"#8e0152\"], [0.1, \"#c51b7d\"], [0.2, \"#de77ae\"], [0.3, \"#f1b6da\"], [0.4, \"#fde0ef\"], [0.5, \"#f7f7f7\"], [0.6, \"#e6f5d0\"], [0.7, \"#b8e186\"], [0.8, \"#7fbc41\"], [0.9, \"#4d9221\"], [1, \"#276419\"]], \"sequential\": [[0.0, \"#0d0887\"], [0.1111111111111111, \"#46039f\"], [0.2222222222222222, \"#7201a8\"], [0.3333333333333333, \"#9c179e\"], [0.4444444444444444, \"#bd3786\"], [0.5555555555555556, \"#d8576b\"], [0.6666666666666666, \"#ed7953\"], [0.7777777777777778, \"#fb9f3a\"], [0.8888888888888888, \"#fdca26\"], [1.0, \"#f0f921\"]], \"sequentialminus\": [[0.0, \"#0d0887\"], [0.1111111111111111, \"#46039f\"], [0.2222222222222222, \"#7201a8\"], [0.3333333333333333, \"#9c179e\"], [0.4444444444444444, \"#bd3786\"], [0.5555555555555556, \"#d8576b\"], [0.6666666666666666, \"#ed7953\"], [0.7777777777777778, \"#fb9f3a\"], [0.8888888888888888, \"#fdca26\"], [1.0, \"#f0f921\"]]}, \"colorway\": [\"#636efa\", \"#EF553B\", \"#00cc96\", \"#ab63fa\", \"#FFA15A\", \"#19d3f3\", \"#FF6692\", \"#B6E880\", \"#FF97FF\", \"#FECB52\"], \"font\": {\"color\": \"#2a3f5f\"}, \"geo\": {\"bgcolor\": \"white\", \"lakecolor\": \"white\", \"landcolor\": \"#E5ECF6\", \"showlakes\": true, \"showland\": true, \"subunitcolor\": \"white\"}, \"hoverlabel\": {\"align\": \"left\"}, \"hovermode\": \"closest\", \"mapbox\": {\"style\": \"light\"}, \"paper_bgcolor\": \"white\", \"plot_bgcolor\": \"#E5ECF6\", \"polar\": {\"angularaxis\": {\"gridcolor\": \"white\", \"linecolor\": \"white\", \"ticks\": \"\"}, \"bgcolor\": \"#E5ECF6\", \"radialaxis\": {\"gridcolor\": \"white\", \"linecolor\": \"white\", \"ticks\": \"\"}}, \"scene\": {\"xaxis\": {\"backgroundcolor\": \"#E5ECF6\", \"gridcolor\": \"white\", \"gridwidth\": 2, \"linecolor\": \"white\", \"showbackground\": true, \"ticks\": \"\", \"zerolinecolor\": \"white\"}, \"yaxis\": {\"backgroundcolor\": \"#E5ECF6\", \"gridcolor\": \"white\", \"gridwidth\": 2, \"linecolor\": \"white\", \"showbackground\": true, \"ticks\": \"\", \"zerolinecolor\": \"white\"}, \"zaxis\": {\"backgroundcolor\": \"#E5ECF6\", \"gridcolor\": \"white\", \"gridwidth\": 2, \"linecolor\": \"white\", \"showbackground\": true, \"ticks\": \"\", \"zerolinecolor\": \"white\"}}, \"shapedefaults\": {\"line\": {\"color\": \"#2a3f5f\"}}, \"ternary\": {\"aaxis\": {\"gridcolor\": \"white\", \"linecolor\": \"white\", \"ticks\": \"\"}, \"baxis\": {\"gridcolor\": \"white\", \"linecolor\": \"white\", \"ticks\": \"\"}, \"bgcolor\": \"#E5ECF6\", \"caxis\": {\"gridcolor\": \"white\", \"linecolor\": \"white\", \"ticks\": \"\"}}, \"title\": {\"x\": 0.05}, \"xaxis\": {\"automargin\": true, \"gridcolor\": \"white\", \"linecolor\": \"white\", \"ticks\": \"\", \"title\": {\"standoff\": 15}, \"zerolinecolor\": \"white\", \"zerolinewidth\": 2}, \"yaxis\": {\"automargin\": true, \"gridcolor\": \"white\", \"linecolor\": \"white\", \"ticks\": \"\", \"title\": {\"standoff\": 15}, \"zerolinecolor\": \"white\", \"zerolinewidth\": 2}}}, \"title\": {\"text\": \"U.S. Regular All Formulations Retail Gasoline Prices, Monthly\"}, \"xaxis\": {\"anchor\": \"y\", \"domain\": [0.0, 1.0], \"title\": {\"text\": \"Date\"}}, \"yaxis\": {\"anchor\": \"x\", \"domain\": [0.0, 1.0], \"title\": {\"text\": \"price\"}}},\n",
       "                        {\"responsive\": true}\n",
       "                    ).then(function(){\n",
       "                            \n",
       "var gd = document.getElementById('b7c6dd01-7420-4df3-81f3-dff2e91029f0');\n",
       "var x = new MutationObserver(function (mutations, observer) {{\n",
       "        var display = window.getComputedStyle(gd).display;\n",
       "        if (!display || display === 'none') {{\n",
       "            console.log([gd, 'removed!']);\n",
       "            Plotly.purge(gd);\n",
       "            observer.disconnect();\n",
       "        }}\n",
       "}});\n",
       "\n",
       "// Listen for the removal of the full notebook cells\n",
       "var notebookContainer = gd.closest('#notebook-container');\n",
       "if (notebookContainer) {{\n",
       "    x.observe(notebookContainer, {childList: true});\n",
       "}}\n",
       "\n",
       "// Listen for the clearing of the current output cell\n",
       "var outputEl = gd.closest('.output');\n",
       "if (outputEl) {{\n",
       "    x.observe(outputEl, {childList: true});\n",
       "}}\n",
       "\n",
       "                        })\n",
       "                };\n",
       "                });\n",
       "            </script>\n",
       "        </div>"
      ]
     },
     "metadata": {},
     "output_type": "display_data"
    }
   ],
   "source": [
    "fig = px.line(prices_df, x=\"Date\", y=\"price\", title=chart_title)\n",
    "fig.show()"
   ]
  },
  {
   "cell_type": "code",
   "execution_count": 137,
   "metadata": {},
   "outputs": [],
   "source": [
    "# ax1 = prices_df.plot.line(x='date',\n",
    "#                           y='price',\n",
    "#                           c='DarkBlue')\n",
    "# label_plot(ax1, chart_title, \"Date\", \"price\", ts )\n",
    "# plt.savefig(f'../output_data/{chart_title}.png')\n",
    "# plt.show()\n"
   ]
  },
  {
   "cell_type": "markdown",
   "metadata": {},
   "source": [
    "### EIA API Query Browser EXAMPLES...WIP\n",
    "### EIA Data Sets > Petroleum > Prices > Weekly Retail Gasoline and Diesel Prices"
   ]
  },
  {
   "cell_type": "markdown",
   "metadata": {},
   "source": [
    "(note these are the regions we can query from EIA)\n",
    "* U.S.\n",
    "* East Coast (PADD 1)\n",
    "* New England (PADD 1A)\n",
    "* Central Atlantic (PADD 1B)\n",
    "* Lower Atlantic (PADD 1C)\n",
    "* Midwest (PADD 2)\n",
    "* Gulf Coast (PADD 3)\n",
    "* Rocky Mountain (PADD 4)\n",
    "* West Coast (PADD 5)\n",
    "* West Coast less California\n",
    "* California\n",
    "* Colorado\n",
    "* Florida\n",
    "* Massachusetts\n",
    "* Minnesota\n",
    "* New York\n",
    "* Ohio\n",
    "* Texas\n",
    "* Washington\n",
    "* Boston\n",
    "* Chicago\n",
    "* Cleveland\n",
    "* Denver\n",
    "* Houston\n",
    "* Los Angeles\n",
    "* Miami\n",
    "* New York City\n",
    "* San Francisco\n",
    "* Seattle"
   ]
  },
  {
   "cell_type": "markdown",
   "metadata": {},
   "source": [
    "#### EIA Data Sets > Petroleum > Prices > Weekly Retail Gasoline and Diesel Prices > by Area > U.S.\n",
    "* http://api.eia.gov/series/?api_key=YOUR_API_KEY_HERE&series_id=PET.EMM_EPMR_PTE_NUS_DPG.M"
   ]
  },
  {
   "cell_type": "markdown",
   "metadata": {},
   "source": [
    "#### Setting up series ID (query) \n",
    "###### NOTE THIS IS WASTEFUL _ I will make a dictionary so we can build queries easier but it works :-)"
   ]
  },
  {
   "cell_type": "code",
   "execution_count": 162,
   "metadata": {},
   "outputs": [],
   "source": [
    "### Originally I was thinking we could just comment out the ones we dont want but I will make it better...\n",
    "\n",
    "series_id='PET.EMM_EPMR_PTE_NUS_DPG.M'  ## U.S. All Grades All Formulations Retail Gasoline Prices, Monthly \n",
    "\n",
    "# UNCOMMENT THE AREA YOU WANT \n",
    "## NOTE CHANGE THE LAST .M to a .A for ANNUAL AVERAGE PRICES and to a .W for WEEKLY AVERAGE PRICES\n",
    "### BY REGION\n",
    "series_id='PET.EMM_EPM0_PTE_R10_DPG.M'   ## East Coast All Grades All Formulations Retail Gasoline Prices, Monthly\n",
    "series_id='PET.EMM_EPM0_PTE_R1X_DPG.M'   ## New England (PADD 1A) All Grades All Formulations Retail Gasoline Prices, Monthly\n",
    "series_id='PET.EMM_EPM0_PTE_R1Y_DPG.M'   ## Central Atlantic (PADD 1B) All Grades All Formulations Retail Gasoline Prices, Monthly\n",
    "series_id='PET.EMM_EPM0_PTE_R1Z_DPG.M'   ## Lower Atlantic (PADD 1C) All Grades All Formulations Retail Gasoline Prices, Monthly\n",
    "series_id='PET.EMM_EPM0_PTE_R20_DPG.M'   ## Midwest All Grades All Formulations Retail Gasoline Prices, Monthly\n",
    "series_id='PET.EMM_EPM0_PTE_R30_DPG.M'   ## Gulf Coast All Grades All Formulations Retail Gasoline Prices, Monthly\n",
    "series_id='PET.EMM_EPM0_PTE_R40_DPG.M'   ## Rocky Mountain All Grades All Formulations Retail Gasoline Prices, Monthly\n",
    "series_id='PET.EMM_EPM0_PTE_R50_DPG.M'   ## West Coast All Grades All Formulations Retail Gasoline Prices, Monthly\n",
    "\n",
    "eia_regions = ['10', '1X', '1Y', '1Z', '20', '30', '40', '50']\n",
    "\n",
    "### BY STATE - data only available for the following states\n",
    "series_id='PET.EMM_EPM0_PTE_SCA_DPG.M'  ## California All Grades All Formulations Retail Gasoline Prices, Monthly\n",
    "series_id='PET.EMM_EPM0_PTE_SCO_DPG.M'  ## Colorado All Grades All Formulations Retail Gasoline Prices, Monthly \n",
    "series_id='PET.EMM_EPM0_PTE_SFL_DPG.M'  ## Florida All Grades All Formulations Retail Gasoline Prices, Monthly\n",
    "series_id='PET.EMM_EPM0_PTE_SMA_DPG.M'  ## Massachusetts All Grades All Formulations Retail Gasoline Prices, Monthly\n",
    "series_id='PET.EMM_EPM0_PTE_SMN_DPG.M'  ## Minnesota All Grades All Formulations Retail Gasoline Prices, Monthly\n",
    "series_id='PET.EMM_EPM0_PTE_SNY_DPG.M'  ## New York All Grades All Formulations Retail Gasoline Prices, Monthly\n",
    "series_id='PET.EMM_EPM0_PTE_SOH_DPG.M'  ## Ohio All Grades All Formulations Retail Gasoline Prices, Monthly\n",
    "series_id='PET.EMM_EPM0_PTE_STX_DPG.M'  ## Texas All Grades All Formulations Retail Gasoline Prices, Monthly\n",
    "series_id='PET.EMM_EPM0_PTE_SWA_DPG.M'  ## Washington All Grades All Formulations Retail Gasoline Prices, Monthly\n",
    "\n",
    "eia_states = ['CA', 'CO', 'FL', 'MA', 'MN', 'NY', 'OH', 'TX', 'WA']\n",
    "\n",
    "\n",
    "#### BY CITY\n",
    "series_id='PET.EMM_EPM0_PTE_YBOS_DPG.M'  ## Boston, MA All Grades All Formulations Retail Gasoline Prices, Monthly\n",
    "series_id='PET.EMM_EPM0_PTE_YORD_DPG.M'  ## Chicago All Grades All Formulations Retail Gasoline Prices, Monthly\n",
    "series_id='PET.EMM_EPM0_PTE_YCLE_DPG.M'  ## Cleveland, OH All Grades All Formulations Retail Gasoline Prices, Monthly\n",
    "series_id='PET.EMM_EPM0_PTE_YDEN_DPG.M'  ## Denver All Grades All Formulations Retail Gasoline Prices, Monthly\n",
    "series_id='PET.EMM_EPM0_PTE_Y44HO_DPG.M' ## Houston All Grades All Formulations Retail Gasoline Prices, Monthly\n",
    "series_id='PET.EMM_EPM0_PTE_Y05LA_DPG.M' ## Los Angeles All Grades All Formulations Retail Gasoline Prices, Monthly\n",
    "series_id='PET.EMM_EPM0_PTE_YMIA_DPG.M'  ## Miami, FL All Grades All Formulations Retail Gasoline Prices, Monthly\n",
    "series_id='PET.EMM_EPM0_PTE_Y35NY_DPG.M' ## New York City All Grades All Formulations Retail Gasoline Prices, Monthly\n",
    "series_id='PET.EMM_EPM0_PTE_Y05SF_DPG.M' ## San Francisco All Grades All Formulations Retail Gasoline Prices, Monthly\n",
    "series_id='PET.EMM_EPM0_PTE_Y48SE_DPG.M' ## Seattle, WA All Grades All Formulations Retail Gasoline Prices, Monthly\n",
    "\n",
    "eia_cities = ['BOS', 'ORD', 'CLE', 'DEN', '44HO', '05LA', 'MIA', '35NY', '05SF', '48SE']\n",
    "\n"
   ]
  },
  {
   "cell_type": "markdown",
   "metadata": {},
   "source": [
    "### JUST DO ONE\n",
    "* Average gas prices over all of USA"
   ]
  },
  {
   "cell_type": "code",
   "execution_count": 163,
   "metadata": {},
   "outputs": [],
   "source": [
    "series_id='PET.EMM_EPMR_PTE_NUS_DPG.M'  ## U.S. All Grades All Formulations Retail Gasoline Prices, Monthly \n",
    "\n",
    "\n",
    "url = f\"http://api.eia.gov/series/?api_key={eia_key}&series_id={series_id}\"\n",
    "#print(url)\n",
    "response = requests.get(url).json()\n",
    "#print(response)\n",
    "#print(response.keys())   # response and series\n",
    "\n",
    "chart_title = response['series'][0]['name']\n",
    "chart_data  = response['series'][0]['data']\n",
    "\n",
    "#convert to dataframe\n",
    "prices_df = pd.DataFrame(chart_data, columns={'date', 'price'})\n",
    "# Convert to Date - overwriting date string\n",
    "prices_df['date'] = pd.to_datetime(pd.Series(prices_df['date']), format=\"%Y%m\")\n",
    "#prices_df"
   ]
  },
  {
   "cell_type": "markdown",
   "metadata": {},
   "source": [
    "#### LOOPING THROEIA API Query BrowserUGH STATE/CITIES/REGIONS"
   ]
  },
  {
   "cell_type": "code",
   "execution_count": 164,
   "metadata": {},
   "outputs": [
    {
     "data": {
      "application/vnd.plotly.v1+json": {
       "config": {
        "plotlyServerURL": "https://plot.ly"
       },
       "data": [
        {
         "hoverlabel": {
          "namelength": 0
         },
         "hovertemplate": "date=%{x}<br>price=%{y}",
         "legendgroup": "",
         "line": {
          "color": "#636efa",
          "dash": "solid"
         },
         "mode": "lines",
         "name": "",
         "showlegend": false,
         "type": "scatter",
         "x": [
          "2020-02-01T00:00:00",
          "2020-01-01T00:00:00",
          "2019-12-01T00:00:00",
          "2019-11-01T00:00:00",
          "2019-10-01T00:00:00",
          "2019-09-01T00:00:00",
          "2019-08-01T00:00:00",
          "2019-07-01T00:00:00",
          "2019-06-01T00:00:00",
          "2019-05-01T00:00:00",
          "2019-04-01T00:00:00",
          "2019-03-01T00:00:00",
          "2019-02-01T00:00:00",
          "2019-01-01T00:00:00",
          "2018-12-01T00:00:00",
          "2018-11-01T00:00:00",
          "2018-10-01T00:00:00",
          "2018-09-01T00:00:00",
          "2018-08-01T00:00:00",
          "2018-07-01T00:00:00",
          "2018-06-01T00:00:00",
          "2018-05-01T00:00:00",
          "2018-04-01T00:00:00",
          "2018-03-01T00:00:00",
          "2018-02-01T00:00:00",
          "2018-01-01T00:00:00",
          "2017-12-01T00:00:00",
          "2017-11-01T00:00:00",
          "2017-10-01T00:00:00",
          "2017-09-01T00:00:00",
          "2017-08-01T00:00:00",
          "2017-07-01T00:00:00",
          "2017-06-01T00:00:00",
          "2017-05-01T00:00:00",
          "2017-04-01T00:00:00",
          "2017-03-01T00:00:00",
          "2017-02-01T00:00:00",
          "2017-01-01T00:00:00",
          "2016-12-01T00:00:00",
          "2016-11-01T00:00:00",
          "2016-10-01T00:00:00",
          "2016-09-01T00:00:00",
          "2016-08-01T00:00:00",
          "2016-07-01T00:00:00",
          "2016-06-01T00:00:00",
          "2016-05-01T00:00:00",
          "2016-04-01T00:00:00",
          "2016-03-01T00:00:00",
          "2016-02-01T00:00:00",
          "2016-01-01T00:00:00",
          "2015-12-01T00:00:00",
          "2015-11-01T00:00:00",
          "2015-10-01T00:00:00",
          "2015-09-01T00:00:00",
          "2015-08-01T00:00:00",
          "2015-07-01T00:00:00",
          "2015-06-01T00:00:00",
          "2015-05-01T00:00:00",
          "2015-04-01T00:00:00",
          "2015-03-01T00:00:00",
          "2015-02-01T00:00:00",
          "2015-01-01T00:00:00",
          "2014-12-01T00:00:00",
          "2014-11-01T00:00:00",
          "2014-10-01T00:00:00",
          "2014-09-01T00:00:00",
          "2014-08-01T00:00:00",
          "2014-07-01T00:00:00",
          "2014-06-01T00:00:00",
          "2014-05-01T00:00:00",
          "2014-04-01T00:00:00",
          "2014-03-01T00:00:00",
          "2014-02-01T00:00:00",
          "2014-01-01T00:00:00",
          "2013-12-01T00:00:00",
          "2013-11-01T00:00:00",
          "2013-10-01T00:00:00",
          "2013-09-01T00:00:00",
          "2013-08-01T00:00:00",
          "2013-07-01T00:00:00",
          "2013-06-01T00:00:00",
          "2013-05-01T00:00:00",
          "2013-04-01T00:00:00",
          "2013-03-01T00:00:00",
          "2013-02-01T00:00:00",
          "2013-01-01T00:00:00",
          "2012-12-01T00:00:00",
          "2012-11-01T00:00:00",
          "2012-10-01T00:00:00",
          "2012-09-01T00:00:00",
          "2012-08-01T00:00:00",
          "2012-07-01T00:00:00",
          "2012-06-01T00:00:00",
          "2012-05-01T00:00:00",
          "2012-04-01T00:00:00",
          "2012-03-01T00:00:00",
          "2012-02-01T00:00:00",
          "2012-01-01T00:00:00",
          "2011-12-01T00:00:00",
          "2011-11-01T00:00:00",
          "2011-10-01T00:00:00",
          "2011-09-01T00:00:00",
          "2011-08-01T00:00:00",
          "2011-07-01T00:00:00",
          "2011-06-01T00:00:00",
          "2011-05-01T00:00:00",
          "2011-04-01T00:00:00",
          "2011-03-01T00:00:00",
          "2011-02-01T00:00:00",
          "2011-01-01T00:00:00",
          "2010-12-01T00:00:00",
          "2010-11-01T00:00:00",
          "2010-10-01T00:00:00",
          "2010-09-01T00:00:00",
          "2010-08-01T00:00:00",
          "2010-07-01T00:00:00",
          "2010-06-01T00:00:00",
          "2010-05-01T00:00:00",
          "2010-04-01T00:00:00",
          "2010-03-01T00:00:00",
          "2010-02-01T00:00:00",
          "2010-01-01T00:00:00",
          "2009-12-01T00:00:00",
          "2009-11-01T00:00:00",
          "2009-10-01T00:00:00",
          "2009-09-01T00:00:00",
          "2009-08-01T00:00:00",
          "2009-07-01T00:00:00",
          "2009-06-01T00:00:00",
          "2009-05-01T00:00:00",
          "2009-04-01T00:00:00",
          "2009-03-01T00:00:00",
          "2009-02-01T00:00:00",
          "2009-01-01T00:00:00",
          "2008-12-01T00:00:00",
          "2008-11-01T00:00:00",
          "2008-10-01T00:00:00",
          "2008-09-01T00:00:00",
          "2008-08-01T00:00:00",
          "2008-07-01T00:00:00",
          "2008-06-01T00:00:00",
          "2008-05-01T00:00:00",
          "2008-04-01T00:00:00",
          "2008-03-01T00:00:00",
          "2008-02-01T00:00:00",
          "2008-01-01T00:00:00",
          "2007-12-01T00:00:00",
          "2007-11-01T00:00:00",
          "2007-10-01T00:00:00",
          "2007-09-01T00:00:00",
          "2007-08-01T00:00:00",
          "2007-07-01T00:00:00",
          "2007-06-01T00:00:00",
          "2007-05-01T00:00:00",
          "2007-04-01T00:00:00",
          "2007-03-01T00:00:00",
          "2007-02-01T00:00:00",
          "2007-01-01T00:00:00",
          "2006-12-01T00:00:00",
          "2006-11-01T00:00:00",
          "2006-10-01T00:00:00",
          "2006-09-01T00:00:00",
          "2006-08-01T00:00:00",
          "2006-07-01T00:00:00",
          "2006-06-01T00:00:00",
          "2006-05-01T00:00:00",
          "2006-04-01T00:00:00",
          "2006-03-01T00:00:00",
          "2006-02-01T00:00:00",
          "2006-01-01T00:00:00",
          "2005-12-01T00:00:00",
          "2005-11-01T00:00:00",
          "2005-10-01T00:00:00",
          "2005-09-01T00:00:00",
          "2005-08-01T00:00:00",
          "2005-07-01T00:00:00",
          "2005-06-01T00:00:00",
          "2005-05-01T00:00:00",
          "2005-04-01T00:00:00",
          "2005-03-01T00:00:00",
          "2005-02-01T00:00:00",
          "2005-01-01T00:00:00",
          "2004-12-01T00:00:00",
          "2004-11-01T00:00:00",
          "2004-10-01T00:00:00",
          "2004-09-01T00:00:00",
          "2004-08-01T00:00:00",
          "2004-07-01T00:00:00",
          "2004-06-01T00:00:00",
          "2004-05-01T00:00:00",
          "2004-04-01T00:00:00",
          "2004-03-01T00:00:00",
          "2004-02-01T00:00:00",
          "2004-01-01T00:00:00",
          "2003-12-01T00:00:00",
          "2003-11-01T00:00:00",
          "2003-10-01T00:00:00",
          "2003-09-01T00:00:00",
          "2003-08-01T00:00:00",
          "2003-07-01T00:00:00",
          "2003-06-01T00:00:00",
          "2003-05-01T00:00:00",
          "2003-04-01T00:00:00",
          "2003-03-01T00:00:00",
          "2003-02-01T00:00:00",
          "2003-01-01T00:00:00",
          "2002-12-01T00:00:00",
          "2002-11-01T00:00:00",
          "2002-10-01T00:00:00",
          "2002-09-01T00:00:00",
          "2002-08-01T00:00:00",
          "2002-07-01T00:00:00",
          "2002-06-01T00:00:00",
          "2002-05-01T00:00:00",
          "2002-04-01T00:00:00",
          "2002-03-01T00:00:00",
          "2002-02-01T00:00:00",
          "2002-01-01T00:00:00",
          "2001-12-01T00:00:00",
          "2001-11-01T00:00:00",
          "2001-10-01T00:00:00",
          "2001-09-01T00:00:00",
          "2001-08-01T00:00:00",
          "2001-07-01T00:00:00",
          "2001-06-01T00:00:00",
          "2001-05-01T00:00:00",
          "2001-04-01T00:00:00",
          "2001-03-01T00:00:00",
          "2001-02-01T00:00:00",
          "2001-01-01T00:00:00",
          "2000-12-01T00:00:00",
          "2000-11-01T00:00:00",
          "2000-10-01T00:00:00",
          "2000-09-01T00:00:00",
          "2000-08-01T00:00:00",
          "2000-07-01T00:00:00",
          "2000-06-01T00:00:00",
          "2000-05-01T00:00:00"
         ],
         "xaxis": "x",
         "y": [
          3.447,
          3.489,
          3.61,
          3.944,
          4.116,
          3.687,
          3.555,
          3.668,
          3.787,
          4.019,
          3.894,
          3.342,
          3.236,
          3.232,
          3.368,
          3.632,
          3.76,
          3.588,
          3.556,
          3.605,
          3.673,
          3.69,
          3.617,
          3.476,
          3.418,
          3.269,
          3.187,
          3.294,
          3.137,
          3.22,
          3.073,
          3.005,
          3.08,
          3.101,
          3.067,
          3.059,
          2.946,
          2.848,
          2.738,
          2.788,
          2.862,
          2.803,
          2.745,
          2.911,
          2.93,
          2.855,
          2.822,
          2.679,
          2.477,
          2.823,
          2.776,
          2.819,
          2.945,
          3.175,
          3.594,
          3.812,
          3.596,
          3.804,
          3.261,
          3.388,
          2.756,
          2.596,
          2.916,
          3.234,
          3.585,
          3.821,
          3.961,
          4.11,
          4.163,
          4.22,
          4.21,
          3.984,
          3.726,
          3.666,
          3.642,
          3.641,
          3.829,
          3.989,
          3.919,
          4.056,
          4.05,
          4.051,
          4.031,
          4.192,
          4.127,
          3.678,
          3.628,
          3.893,
          4.458,
          4.211,
          4.109,
          3.821,
          4.133,
          4.353,
          4.292,
          4.414,
          4.027,
          3.747,
          3.648,
          3.848,
          3.89,
          3.971,
          3.823,
          3.844,
          3.965,
          4.229,
          4.206,
          4.002,
          3.576,
          3.389,
          3.297,
          3.205,
          3.146,
          3.064,
          3.186,
          3.171,
          3.134,
          3.136,
          3.138,
          3.104,
          2.993,
          3.065,
          2.964,
          3.006,
          3.062,
          3.169,
          3.057,
          2.92,
          2.969,
          2.531,
          2.377,
          2.239,
          2.265,
          2.051,
          1.871,
          2.507,
          3.44,
          3.842,
          4.128,
          4.511,
          4.531,
          4.015,
          3.846,
          3.609,
          3.231,
          3.296,
          3.353,
          3.394,
          3.112,
          2.922,
          2.948,
          3.174,
          3.329,
          3.485,
          3.339,
          3.105,
          2.713,
          2.616,
          2.587,
          2.508,
          2.593,
          2.937,
          3.212,
          3.26,
          3.26,
          3.337,
          2.925,
          2.624,
          2.54,
          2.424,
          2.319,
          2.57,
          2.926,
          3.032,
          2.721,
          2.559,
          2.41,
          2.52,
          2.596,
          2.346,
          2.163,
          2.016,
          2.143,
          2.35,
          2.376,
          2.115,
          2.131,
          2.233,
          2.322,
          2.298,
          2.185,
          2.143,
          1.914,
          1.722,
          1.681,
          1.74,
          1.839,
          2.068,
          1.913,
          1.789,
          1.809,
          1.89,
          2.092,
          2.15,
          1.853,
          1.662,
          1.585,
          1.624,
          1.579,
          1.627,
          1.637,
          1.648,
          1.633,
          1.617,
          1.657,
          1.507,
          1.319,
          1.231,
          1.204,
          1.403,
          1.592,
          1.708,
          1.608,
          1.817,
          1.975,
          1.993,
          1.837,
          1.738,
          1.682,
          1.646,
          1.726,
          1.811,
          1.856,
          1.869,
          1.72,
          1.754,
          1.669,
          null
         ],
         "yaxis": "y"
        }
       ],
       "layout": {
        "legend": {
         "tracegroupgap": 0
        },
        "template": {
         "data": {
          "bar": [
           {
            "error_x": {
             "color": "#2a3f5f"
            },
            "error_y": {
             "color": "#2a3f5f"
            },
            "marker": {
             "line": {
              "color": "#E5ECF6",
              "width": 0.5
             }
            },
            "type": "bar"
           }
          ],
          "barpolar": [
           {
            "marker": {
             "line": {
              "color": "#E5ECF6",
              "width": 0.5
             }
            },
            "type": "barpolar"
           }
          ],
          "carpet": [
           {
            "aaxis": {
             "endlinecolor": "#2a3f5f",
             "gridcolor": "white",
             "linecolor": "white",
             "minorgridcolor": "white",
             "startlinecolor": "#2a3f5f"
            },
            "baxis": {
             "endlinecolor": "#2a3f5f",
             "gridcolor": "white",
             "linecolor": "white",
             "minorgridcolor": "white",
             "startlinecolor": "#2a3f5f"
            },
            "type": "carpet"
           }
          ],
          "choropleth": [
           {
            "colorbar": {
             "outlinewidth": 0,
             "ticks": ""
            },
            "type": "choropleth"
           }
          ],
          "contour": [
           {
            "colorbar": {
             "outlinewidth": 0,
             "ticks": ""
            },
            "colorscale": [
             [
              0,
              "#0d0887"
             ],
             [
              0.1111111111111111,
              "#46039f"
             ],
             [
              0.2222222222222222,
              "#7201a8"
             ],
             [
              0.3333333333333333,
              "#9c179e"
             ],
             [
              0.4444444444444444,
              "#bd3786"
             ],
             [
              0.5555555555555556,
              "#d8576b"
             ],
             [
              0.6666666666666666,
              "#ed7953"
             ],
             [
              0.7777777777777778,
              "#fb9f3a"
             ],
             [
              0.8888888888888888,
              "#fdca26"
             ],
             [
              1,
              "#f0f921"
             ]
            ],
            "type": "contour"
           }
          ],
          "contourcarpet": [
           {
            "colorbar": {
             "outlinewidth": 0,
             "ticks": ""
            },
            "type": "contourcarpet"
           }
          ],
          "heatmap": [
           {
            "colorbar": {
             "outlinewidth": 0,
             "ticks": ""
            },
            "colorscale": [
             [
              0,
              "#0d0887"
             ],
             [
              0.1111111111111111,
              "#46039f"
             ],
             [
              0.2222222222222222,
              "#7201a8"
             ],
             [
              0.3333333333333333,
              "#9c179e"
             ],
             [
              0.4444444444444444,
              "#bd3786"
             ],
             [
              0.5555555555555556,
              "#d8576b"
             ],
             [
              0.6666666666666666,
              "#ed7953"
             ],
             [
              0.7777777777777778,
              "#fb9f3a"
             ],
             [
              0.8888888888888888,
              "#fdca26"
             ],
             [
              1,
              "#f0f921"
             ]
            ],
            "type": "heatmap"
           }
          ],
          "heatmapgl": [
           {
            "colorbar": {
             "outlinewidth": 0,
             "ticks": ""
            },
            "colorscale": [
             [
              0,
              "#0d0887"
             ],
             [
              0.1111111111111111,
              "#46039f"
             ],
             [
              0.2222222222222222,
              "#7201a8"
             ],
             [
              0.3333333333333333,
              "#9c179e"
             ],
             [
              0.4444444444444444,
              "#bd3786"
             ],
             [
              0.5555555555555556,
              "#d8576b"
             ],
             [
              0.6666666666666666,
              "#ed7953"
             ],
             [
              0.7777777777777778,
              "#fb9f3a"
             ],
             [
              0.8888888888888888,
              "#fdca26"
             ],
             [
              1,
              "#f0f921"
             ]
            ],
            "type": "heatmapgl"
           }
          ],
          "histogram": [
           {
            "marker": {
             "colorbar": {
              "outlinewidth": 0,
              "ticks": ""
             }
            },
            "type": "histogram"
           }
          ],
          "histogram2d": [
           {
            "colorbar": {
             "outlinewidth": 0,
             "ticks": ""
            },
            "colorscale": [
             [
              0,
              "#0d0887"
             ],
             [
              0.1111111111111111,
              "#46039f"
             ],
             [
              0.2222222222222222,
              "#7201a8"
             ],
             [
              0.3333333333333333,
              "#9c179e"
             ],
             [
              0.4444444444444444,
              "#bd3786"
             ],
             [
              0.5555555555555556,
              "#d8576b"
             ],
             [
              0.6666666666666666,
              "#ed7953"
             ],
             [
              0.7777777777777778,
              "#fb9f3a"
             ],
             [
              0.8888888888888888,
              "#fdca26"
             ],
             [
              1,
              "#f0f921"
             ]
            ],
            "type": "histogram2d"
           }
          ],
          "histogram2dcontour": [
           {
            "colorbar": {
             "outlinewidth": 0,
             "ticks": ""
            },
            "colorscale": [
             [
              0,
              "#0d0887"
             ],
             [
              0.1111111111111111,
              "#46039f"
             ],
             [
              0.2222222222222222,
              "#7201a8"
             ],
             [
              0.3333333333333333,
              "#9c179e"
             ],
             [
              0.4444444444444444,
              "#bd3786"
             ],
             [
              0.5555555555555556,
              "#d8576b"
             ],
             [
              0.6666666666666666,
              "#ed7953"
             ],
             [
              0.7777777777777778,
              "#fb9f3a"
             ],
             [
              0.8888888888888888,
              "#fdca26"
             ],
             [
              1,
              "#f0f921"
             ]
            ],
            "type": "histogram2dcontour"
           }
          ],
          "mesh3d": [
           {
            "colorbar": {
             "outlinewidth": 0,
             "ticks": ""
            },
            "type": "mesh3d"
           }
          ],
          "parcoords": [
           {
            "line": {
             "colorbar": {
              "outlinewidth": 0,
              "ticks": ""
             }
            },
            "type": "parcoords"
           }
          ],
          "pie": [
           {
            "automargin": true,
            "type": "pie"
           }
          ],
          "scatter": [
           {
            "marker": {
             "colorbar": {
              "outlinewidth": 0,
              "ticks": ""
             }
            },
            "type": "scatter"
           }
          ],
          "scatter3d": [
           {
            "line": {
             "colorbar": {
              "outlinewidth": 0,
              "ticks": ""
             }
            },
            "marker": {
             "colorbar": {
              "outlinewidth": 0,
              "ticks": ""
             }
            },
            "type": "scatter3d"
           }
          ],
          "scattercarpet": [
           {
            "marker": {
             "colorbar": {
              "outlinewidth": 0,
              "ticks": ""
             }
            },
            "type": "scattercarpet"
           }
          ],
          "scattergeo": [
           {
            "marker": {
             "colorbar": {
              "outlinewidth": 0,
              "ticks": ""
             }
            },
            "type": "scattergeo"
           }
          ],
          "scattergl": [
           {
            "marker": {
             "colorbar": {
              "outlinewidth": 0,
              "ticks": ""
             }
            },
            "type": "scattergl"
           }
          ],
          "scattermapbox": [
           {
            "marker": {
             "colorbar": {
              "outlinewidth": 0,
              "ticks": ""
             }
            },
            "type": "scattermapbox"
           }
          ],
          "scatterpolar": [
           {
            "marker": {
             "colorbar": {
              "outlinewidth": 0,
              "ticks": ""
             }
            },
            "type": "scatterpolar"
           }
          ],
          "scatterpolargl": [
           {
            "marker": {
             "colorbar": {
              "outlinewidth": 0,
              "ticks": ""
             }
            },
            "type": "scatterpolargl"
           }
          ],
          "scatterternary": [
           {
            "marker": {
             "colorbar": {
              "outlinewidth": 0,
              "ticks": ""
             }
            },
            "type": "scatterternary"
           }
          ],
          "surface": [
           {
            "colorbar": {
             "outlinewidth": 0,
             "ticks": ""
            },
            "colorscale": [
             [
              0,
              "#0d0887"
             ],
             [
              0.1111111111111111,
              "#46039f"
             ],
             [
              0.2222222222222222,
              "#7201a8"
             ],
             [
              0.3333333333333333,
              "#9c179e"
             ],
             [
              0.4444444444444444,
              "#bd3786"
             ],
             [
              0.5555555555555556,
              "#d8576b"
             ],
             [
              0.6666666666666666,
              "#ed7953"
             ],
             [
              0.7777777777777778,
              "#fb9f3a"
             ],
             [
              0.8888888888888888,
              "#fdca26"
             ],
             [
              1,
              "#f0f921"
             ]
            ],
            "type": "surface"
           }
          ],
          "table": [
           {
            "cells": {
             "fill": {
              "color": "#EBF0F8"
             },
             "line": {
              "color": "white"
             }
            },
            "header": {
             "fill": {
              "color": "#C8D4E3"
             },
             "line": {
              "color": "white"
             }
            },
            "type": "table"
           }
          ]
         },
         "layout": {
          "annotationdefaults": {
           "arrowcolor": "#2a3f5f",
           "arrowhead": 0,
           "arrowwidth": 1
          },
          "coloraxis": {
           "colorbar": {
            "outlinewidth": 0,
            "ticks": ""
           }
          },
          "colorscale": {
           "diverging": [
            [
             0,
             "#8e0152"
            ],
            [
             0.1,
             "#c51b7d"
            ],
            [
             0.2,
             "#de77ae"
            ],
            [
             0.3,
             "#f1b6da"
            ],
            [
             0.4,
             "#fde0ef"
            ],
            [
             0.5,
             "#f7f7f7"
            ],
            [
             0.6,
             "#e6f5d0"
            ],
            [
             0.7,
             "#b8e186"
            ],
            [
             0.8,
             "#7fbc41"
            ],
            [
             0.9,
             "#4d9221"
            ],
            [
             1,
             "#276419"
            ]
           ],
           "sequential": [
            [
             0,
             "#0d0887"
            ],
            [
             0.1111111111111111,
             "#46039f"
            ],
            [
             0.2222222222222222,
             "#7201a8"
            ],
            [
             0.3333333333333333,
             "#9c179e"
            ],
            [
             0.4444444444444444,
             "#bd3786"
            ],
            [
             0.5555555555555556,
             "#d8576b"
            ],
            [
             0.6666666666666666,
             "#ed7953"
            ],
            [
             0.7777777777777778,
             "#fb9f3a"
            ],
            [
             0.8888888888888888,
             "#fdca26"
            ],
            [
             1,
             "#f0f921"
            ]
           ],
           "sequentialminus": [
            [
             0,
             "#0d0887"
            ],
            [
             0.1111111111111111,
             "#46039f"
            ],
            [
             0.2222222222222222,
             "#7201a8"
            ],
            [
             0.3333333333333333,
             "#9c179e"
            ],
            [
             0.4444444444444444,
             "#bd3786"
            ],
            [
             0.5555555555555556,
             "#d8576b"
            ],
            [
             0.6666666666666666,
             "#ed7953"
            ],
            [
             0.7777777777777778,
             "#fb9f3a"
            ],
            [
             0.8888888888888888,
             "#fdca26"
            ],
            [
             1,
             "#f0f921"
            ]
           ]
          },
          "colorway": [
           "#636efa",
           "#EF553B",
           "#00cc96",
           "#ab63fa",
           "#FFA15A",
           "#19d3f3",
           "#FF6692",
           "#B6E880",
           "#FF97FF",
           "#FECB52"
          ],
          "font": {
           "color": "#2a3f5f"
          },
          "geo": {
           "bgcolor": "white",
           "lakecolor": "white",
           "landcolor": "#E5ECF6",
           "showlakes": true,
           "showland": true,
           "subunitcolor": "white"
          },
          "hoverlabel": {
           "align": "left"
          },
          "hovermode": "closest",
          "mapbox": {
           "style": "light"
          },
          "paper_bgcolor": "white",
          "plot_bgcolor": "#E5ECF6",
          "polar": {
           "angularaxis": {
            "gridcolor": "white",
            "linecolor": "white",
            "ticks": ""
           },
           "bgcolor": "#E5ECF6",
           "radialaxis": {
            "gridcolor": "white",
            "linecolor": "white",
            "ticks": ""
           }
          },
          "scene": {
           "xaxis": {
            "backgroundcolor": "#E5ECF6",
            "gridcolor": "white",
            "gridwidth": 2,
            "linecolor": "white",
            "showbackground": true,
            "ticks": "",
            "zerolinecolor": "white"
           },
           "yaxis": {
            "backgroundcolor": "#E5ECF6",
            "gridcolor": "white",
            "gridwidth": 2,
            "linecolor": "white",
            "showbackground": true,
            "ticks": "",
            "zerolinecolor": "white"
           },
           "zaxis": {
            "backgroundcolor": "#E5ECF6",
            "gridcolor": "white",
            "gridwidth": 2,
            "linecolor": "white",
            "showbackground": true,
            "ticks": "",
            "zerolinecolor": "white"
           }
          },
          "shapedefaults": {
           "line": {
            "color": "#2a3f5f"
           }
          },
          "ternary": {
           "aaxis": {
            "gridcolor": "white",
            "linecolor": "white",
            "ticks": ""
           },
           "baxis": {
            "gridcolor": "white",
            "linecolor": "white",
            "ticks": ""
           },
           "bgcolor": "#E5ECF6",
           "caxis": {
            "gridcolor": "white",
            "linecolor": "white",
            "ticks": ""
           }
          },
          "title": {
           "x": 0.05
          },
          "xaxis": {
           "automargin": true,
           "gridcolor": "white",
           "linecolor": "white",
           "ticks": "",
           "title": {
            "standoff": 15
           },
           "zerolinecolor": "white",
           "zerolinewidth": 2
          },
          "yaxis": {
           "automargin": true,
           "gridcolor": "white",
           "linecolor": "white",
           "ticks": "",
           "title": {
            "standoff": 15
           },
           "zerolinecolor": "white",
           "zerolinewidth": 2
          }
         }
        },
        "title": {
         "text": "California All Grades All Formulations Retail Gasoline Prices, Monthly"
        },
        "xaxis": {
         "anchor": "y",
         "domain": [
          0,
          1
         ],
         "title": {
          "text": "Date"
         }
        },
        "yaxis": {
         "anchor": "x",
         "domain": [
          0,
          1
         ],
         "title": {
          "text": "Average Monthly Price ($)"
         }
        }
       }
      },
      "text/html": [
       "<div>\n",
       "        \n",
       "        \n",
       "            <div id=\"b538c22b-c6d5-4bdd-b610-accd6f152902\" class=\"plotly-graph-div\" style=\"height:525px; width:100%;\"></div>\n",
       "            <script type=\"text/javascript\">\n",
       "                require([\"plotly\"], function(Plotly) {\n",
       "                    window.PLOTLYENV=window.PLOTLYENV || {};\n",
       "                    \n",
       "                if (document.getElementById(\"b538c22b-c6d5-4bdd-b610-accd6f152902\")) {\n",
       "                    Plotly.newPlot(\n",
       "                        'b538c22b-c6d5-4bdd-b610-accd6f152902',\n",
       "                        [{\"hoverlabel\": {\"namelength\": 0}, \"hovertemplate\": \"date=%{x}<br>price=%{y}\", \"legendgroup\": \"\", \"line\": {\"color\": \"#636efa\", \"dash\": \"solid\"}, \"mode\": \"lines\", \"name\": \"\", \"showlegend\": false, \"type\": \"scatter\", \"x\": [\"2020-02-01T00:00:00\", \"2020-01-01T00:00:00\", \"2019-12-01T00:00:00\", \"2019-11-01T00:00:00\", \"2019-10-01T00:00:00\", \"2019-09-01T00:00:00\", \"2019-08-01T00:00:00\", \"2019-07-01T00:00:00\", \"2019-06-01T00:00:00\", \"2019-05-01T00:00:00\", \"2019-04-01T00:00:00\", \"2019-03-01T00:00:00\", \"2019-02-01T00:00:00\", \"2019-01-01T00:00:00\", \"2018-12-01T00:00:00\", \"2018-11-01T00:00:00\", \"2018-10-01T00:00:00\", \"2018-09-01T00:00:00\", \"2018-08-01T00:00:00\", \"2018-07-01T00:00:00\", \"2018-06-01T00:00:00\", \"2018-05-01T00:00:00\", \"2018-04-01T00:00:00\", \"2018-03-01T00:00:00\", \"2018-02-01T00:00:00\", \"2018-01-01T00:00:00\", \"2017-12-01T00:00:00\", \"2017-11-01T00:00:00\", \"2017-10-01T00:00:00\", \"2017-09-01T00:00:00\", \"2017-08-01T00:00:00\", \"2017-07-01T00:00:00\", \"2017-06-01T00:00:00\", \"2017-05-01T00:00:00\", \"2017-04-01T00:00:00\", \"2017-03-01T00:00:00\", \"2017-02-01T00:00:00\", \"2017-01-01T00:00:00\", \"2016-12-01T00:00:00\", \"2016-11-01T00:00:00\", \"2016-10-01T00:00:00\", \"2016-09-01T00:00:00\", \"2016-08-01T00:00:00\", \"2016-07-01T00:00:00\", \"2016-06-01T00:00:00\", \"2016-05-01T00:00:00\", \"2016-04-01T00:00:00\", \"2016-03-01T00:00:00\", \"2016-02-01T00:00:00\", \"2016-01-01T00:00:00\", \"2015-12-01T00:00:00\", \"2015-11-01T00:00:00\", \"2015-10-01T00:00:00\", \"2015-09-01T00:00:00\", \"2015-08-01T00:00:00\", \"2015-07-01T00:00:00\", \"2015-06-01T00:00:00\", \"2015-05-01T00:00:00\", \"2015-04-01T00:00:00\", \"2015-03-01T00:00:00\", \"2015-02-01T00:00:00\", \"2015-01-01T00:00:00\", \"2014-12-01T00:00:00\", \"2014-11-01T00:00:00\", \"2014-10-01T00:00:00\", \"2014-09-01T00:00:00\", \"2014-08-01T00:00:00\", \"2014-07-01T00:00:00\", \"2014-06-01T00:00:00\", \"2014-05-01T00:00:00\", \"2014-04-01T00:00:00\", \"2014-03-01T00:00:00\", \"2014-02-01T00:00:00\", \"2014-01-01T00:00:00\", \"2013-12-01T00:00:00\", \"2013-11-01T00:00:00\", \"2013-10-01T00:00:00\", \"2013-09-01T00:00:00\", \"2013-08-01T00:00:00\", \"2013-07-01T00:00:00\", \"2013-06-01T00:00:00\", \"2013-05-01T00:00:00\", \"2013-04-01T00:00:00\", \"2013-03-01T00:00:00\", \"2013-02-01T00:00:00\", \"2013-01-01T00:00:00\", \"2012-12-01T00:00:00\", \"2012-11-01T00:00:00\", \"2012-10-01T00:00:00\", \"2012-09-01T00:00:00\", \"2012-08-01T00:00:00\", \"2012-07-01T00:00:00\", \"2012-06-01T00:00:00\", \"2012-05-01T00:00:00\", \"2012-04-01T00:00:00\", \"2012-03-01T00:00:00\", \"2012-02-01T00:00:00\", \"2012-01-01T00:00:00\", \"2011-12-01T00:00:00\", \"2011-11-01T00:00:00\", \"2011-10-01T00:00:00\", \"2011-09-01T00:00:00\", \"2011-08-01T00:00:00\", \"2011-07-01T00:00:00\", \"2011-06-01T00:00:00\", \"2011-05-01T00:00:00\", \"2011-04-01T00:00:00\", \"2011-03-01T00:00:00\", \"2011-02-01T00:00:00\", \"2011-01-01T00:00:00\", \"2010-12-01T00:00:00\", \"2010-11-01T00:00:00\", \"2010-10-01T00:00:00\", \"2010-09-01T00:00:00\", \"2010-08-01T00:00:00\", \"2010-07-01T00:00:00\", \"2010-06-01T00:00:00\", \"2010-05-01T00:00:00\", \"2010-04-01T00:00:00\", \"2010-03-01T00:00:00\", \"2010-02-01T00:00:00\", \"2010-01-01T00:00:00\", \"2009-12-01T00:00:00\", \"2009-11-01T00:00:00\", \"2009-10-01T00:00:00\", \"2009-09-01T00:00:00\", \"2009-08-01T00:00:00\", \"2009-07-01T00:00:00\", \"2009-06-01T00:00:00\", \"2009-05-01T00:00:00\", \"2009-04-01T00:00:00\", \"2009-03-01T00:00:00\", \"2009-02-01T00:00:00\", \"2009-01-01T00:00:00\", \"2008-12-01T00:00:00\", \"2008-11-01T00:00:00\", \"2008-10-01T00:00:00\", \"2008-09-01T00:00:00\", \"2008-08-01T00:00:00\", \"2008-07-01T00:00:00\", \"2008-06-01T00:00:00\", \"2008-05-01T00:00:00\", \"2008-04-01T00:00:00\", \"2008-03-01T00:00:00\", \"2008-02-01T00:00:00\", \"2008-01-01T00:00:00\", \"2007-12-01T00:00:00\", \"2007-11-01T00:00:00\", \"2007-10-01T00:00:00\", \"2007-09-01T00:00:00\", \"2007-08-01T00:00:00\", \"2007-07-01T00:00:00\", \"2007-06-01T00:00:00\", \"2007-05-01T00:00:00\", \"2007-04-01T00:00:00\", \"2007-03-01T00:00:00\", \"2007-02-01T00:00:00\", \"2007-01-01T00:00:00\", \"2006-12-01T00:00:00\", \"2006-11-01T00:00:00\", \"2006-10-01T00:00:00\", \"2006-09-01T00:00:00\", \"2006-08-01T00:00:00\", \"2006-07-01T00:00:00\", \"2006-06-01T00:00:00\", \"2006-05-01T00:00:00\", \"2006-04-01T00:00:00\", \"2006-03-01T00:00:00\", \"2006-02-01T00:00:00\", \"2006-01-01T00:00:00\", \"2005-12-01T00:00:00\", \"2005-11-01T00:00:00\", \"2005-10-01T00:00:00\", \"2005-09-01T00:00:00\", \"2005-08-01T00:00:00\", \"2005-07-01T00:00:00\", \"2005-06-01T00:00:00\", \"2005-05-01T00:00:00\", \"2005-04-01T00:00:00\", \"2005-03-01T00:00:00\", \"2005-02-01T00:00:00\", \"2005-01-01T00:00:00\", \"2004-12-01T00:00:00\", \"2004-11-01T00:00:00\", \"2004-10-01T00:00:00\", \"2004-09-01T00:00:00\", \"2004-08-01T00:00:00\", \"2004-07-01T00:00:00\", \"2004-06-01T00:00:00\", \"2004-05-01T00:00:00\", \"2004-04-01T00:00:00\", \"2004-03-01T00:00:00\", \"2004-02-01T00:00:00\", \"2004-01-01T00:00:00\", \"2003-12-01T00:00:00\", \"2003-11-01T00:00:00\", \"2003-10-01T00:00:00\", \"2003-09-01T00:00:00\", \"2003-08-01T00:00:00\", \"2003-07-01T00:00:00\", \"2003-06-01T00:00:00\", \"2003-05-01T00:00:00\", \"2003-04-01T00:00:00\", \"2003-03-01T00:00:00\", \"2003-02-01T00:00:00\", \"2003-01-01T00:00:00\", \"2002-12-01T00:00:00\", \"2002-11-01T00:00:00\", \"2002-10-01T00:00:00\", \"2002-09-01T00:00:00\", \"2002-08-01T00:00:00\", \"2002-07-01T00:00:00\", \"2002-06-01T00:00:00\", \"2002-05-01T00:00:00\", \"2002-04-01T00:00:00\", \"2002-03-01T00:00:00\", \"2002-02-01T00:00:00\", \"2002-01-01T00:00:00\", \"2001-12-01T00:00:00\", \"2001-11-01T00:00:00\", \"2001-10-01T00:00:00\", \"2001-09-01T00:00:00\", \"2001-08-01T00:00:00\", \"2001-07-01T00:00:00\", \"2001-06-01T00:00:00\", \"2001-05-01T00:00:00\", \"2001-04-01T00:00:00\", \"2001-03-01T00:00:00\", \"2001-02-01T00:00:00\", \"2001-01-01T00:00:00\", \"2000-12-01T00:00:00\", \"2000-11-01T00:00:00\", \"2000-10-01T00:00:00\", \"2000-09-01T00:00:00\", \"2000-08-01T00:00:00\", \"2000-07-01T00:00:00\", \"2000-06-01T00:00:00\", \"2000-05-01T00:00:00\"], \"xaxis\": \"x\", \"y\": [3.447, 3.489, 3.61, 3.944, 4.116, 3.687, 3.555, 3.668, 3.787, 4.019, 3.894, 3.342, 3.236, 3.232, 3.368, 3.632, 3.76, 3.588, 3.556, 3.605, 3.673, 3.69, 3.617, 3.476, 3.418, 3.269, 3.187, 3.294, 3.137, 3.22, 3.073, 3.005, 3.08, 3.101, 3.067, 3.059, 2.946, 2.848, 2.738, 2.788, 2.862, 2.803, 2.745, 2.911, 2.93, 2.855, 2.822, 2.679, 2.477, 2.823, 2.776, 2.819, 2.945, 3.175, 3.594, 3.812, 3.596, 3.804, 3.261, 3.388, 2.756, 2.596, 2.916, 3.234, 3.585, 3.821, 3.961, 4.11, 4.163, 4.22, 4.21, 3.984, 3.726, 3.666, 3.642, 3.641, 3.829, 3.989, 3.919, 4.056, 4.05, 4.051, 4.031, 4.192, 4.127, 3.678, 3.628, 3.893, 4.458, 4.211, 4.109, 3.821, 4.133, 4.353, 4.292, 4.414, 4.027, 3.747, 3.648, 3.848, 3.89, 3.971, 3.823, 3.844, 3.965, 4.229, 4.206, 4.002, 3.576, 3.389, 3.297, 3.205, 3.146, 3.064, 3.186, 3.171, 3.134, 3.136, 3.138, 3.104, 2.993, 3.065, 2.964, 3.006, 3.062, 3.169, 3.057, 2.92, 2.969, 2.531, 2.377, 2.239, 2.265, 2.051, 1.871, 2.507, 3.44, 3.842, 4.128, 4.511, 4.531, 4.015, 3.846, 3.609, 3.231, 3.296, 3.353, 3.394, 3.112, 2.922, 2.948, 3.174, 3.329, 3.485, 3.339, 3.105, 2.713, 2.616, 2.587, 2.508, 2.593, 2.937, 3.212, 3.26, 3.26, 3.337, 2.925, 2.624, 2.54, 2.424, 2.319, 2.57, 2.926, 3.032, 2.721, 2.559, 2.41, 2.52, 2.596, 2.346, 2.163, 2.016, 2.143, 2.35, 2.376, 2.115, 2.131, 2.233, 2.322, 2.298, 2.185, 2.143, 1.914, 1.722, 1.681, 1.74, 1.839, 2.068, 1.913, 1.789, 1.809, 1.89, 2.092, 2.15, 1.853, 1.662, 1.585, 1.624, 1.579, 1.627, 1.637, 1.648, 1.633, 1.617, 1.657, 1.507, 1.319, 1.231, 1.204, 1.403, 1.592, 1.708, 1.608, 1.817, 1.975, 1.993, 1.837, 1.738, 1.682, 1.646, 1.726, 1.811, 1.856, 1.869, 1.72, 1.754, 1.669, null], \"yaxis\": \"y\"}],\n",
       "                        {\"legend\": {\"tracegroupgap\": 0}, \"template\": {\"data\": {\"bar\": [{\"error_x\": {\"color\": \"#2a3f5f\"}, \"error_y\": {\"color\": \"#2a3f5f\"}, \"marker\": {\"line\": {\"color\": \"#E5ECF6\", \"width\": 0.5}}, \"type\": \"bar\"}], \"barpolar\": [{\"marker\": {\"line\": {\"color\": \"#E5ECF6\", \"width\": 0.5}}, \"type\": \"barpolar\"}], \"carpet\": [{\"aaxis\": {\"endlinecolor\": \"#2a3f5f\", \"gridcolor\": \"white\", \"linecolor\": \"white\", \"minorgridcolor\": \"white\", \"startlinecolor\": \"#2a3f5f\"}, \"baxis\": {\"endlinecolor\": \"#2a3f5f\", \"gridcolor\": \"white\", \"linecolor\": \"white\", \"minorgridcolor\": \"white\", \"startlinecolor\": \"#2a3f5f\"}, \"type\": \"carpet\"}], \"choropleth\": [{\"colorbar\": {\"outlinewidth\": 0, \"ticks\": \"\"}, \"type\": \"choropleth\"}], \"contour\": [{\"colorbar\": {\"outlinewidth\": 0, \"ticks\": \"\"}, \"colorscale\": [[0.0, \"#0d0887\"], [0.1111111111111111, \"#46039f\"], [0.2222222222222222, \"#7201a8\"], [0.3333333333333333, \"#9c179e\"], [0.4444444444444444, \"#bd3786\"], [0.5555555555555556, \"#d8576b\"], [0.6666666666666666, \"#ed7953\"], [0.7777777777777778, \"#fb9f3a\"], [0.8888888888888888, \"#fdca26\"], [1.0, \"#f0f921\"]], \"type\": \"contour\"}], \"contourcarpet\": [{\"colorbar\": {\"outlinewidth\": 0, \"ticks\": \"\"}, \"type\": \"contourcarpet\"}], \"heatmap\": [{\"colorbar\": {\"outlinewidth\": 0, \"ticks\": \"\"}, \"colorscale\": [[0.0, \"#0d0887\"], [0.1111111111111111, \"#46039f\"], [0.2222222222222222, \"#7201a8\"], [0.3333333333333333, \"#9c179e\"], [0.4444444444444444, \"#bd3786\"], [0.5555555555555556, \"#d8576b\"], [0.6666666666666666, \"#ed7953\"], [0.7777777777777778, \"#fb9f3a\"], [0.8888888888888888, \"#fdca26\"], [1.0, \"#f0f921\"]], \"type\": \"heatmap\"}], \"heatmapgl\": [{\"colorbar\": {\"outlinewidth\": 0, \"ticks\": \"\"}, \"colorscale\": [[0.0, \"#0d0887\"], [0.1111111111111111, \"#46039f\"], [0.2222222222222222, \"#7201a8\"], [0.3333333333333333, \"#9c179e\"], [0.4444444444444444, \"#bd3786\"], [0.5555555555555556, \"#d8576b\"], [0.6666666666666666, \"#ed7953\"], [0.7777777777777778, \"#fb9f3a\"], [0.8888888888888888, \"#fdca26\"], [1.0, \"#f0f921\"]], \"type\": \"heatmapgl\"}], \"histogram\": [{\"marker\": {\"colorbar\": {\"outlinewidth\": 0, \"ticks\": \"\"}}, \"type\": \"histogram\"}], \"histogram2d\": [{\"colorbar\": {\"outlinewidth\": 0, \"ticks\": \"\"}, \"colorscale\": [[0.0, \"#0d0887\"], [0.1111111111111111, \"#46039f\"], [0.2222222222222222, \"#7201a8\"], [0.3333333333333333, \"#9c179e\"], [0.4444444444444444, \"#bd3786\"], [0.5555555555555556, \"#d8576b\"], [0.6666666666666666, \"#ed7953\"], [0.7777777777777778, \"#fb9f3a\"], [0.8888888888888888, \"#fdca26\"], [1.0, \"#f0f921\"]], \"type\": \"histogram2d\"}], \"histogram2dcontour\": [{\"colorbar\": {\"outlinewidth\": 0, \"ticks\": \"\"}, \"colorscale\": [[0.0, \"#0d0887\"], [0.1111111111111111, \"#46039f\"], [0.2222222222222222, \"#7201a8\"], [0.3333333333333333, \"#9c179e\"], [0.4444444444444444, \"#bd3786\"], [0.5555555555555556, \"#d8576b\"], [0.6666666666666666, \"#ed7953\"], [0.7777777777777778, \"#fb9f3a\"], [0.8888888888888888, \"#fdca26\"], [1.0, \"#f0f921\"]], \"type\": \"histogram2dcontour\"}], \"mesh3d\": [{\"colorbar\": {\"outlinewidth\": 0, \"ticks\": \"\"}, \"type\": \"mesh3d\"}], \"parcoords\": [{\"line\": {\"colorbar\": {\"outlinewidth\": 0, \"ticks\": \"\"}}, \"type\": \"parcoords\"}], \"pie\": [{\"automargin\": true, \"type\": \"pie\"}], \"scatter\": [{\"marker\": {\"colorbar\": {\"outlinewidth\": 0, \"ticks\": \"\"}}, \"type\": \"scatter\"}], \"scatter3d\": [{\"line\": {\"colorbar\": {\"outlinewidth\": 0, \"ticks\": \"\"}}, \"marker\": {\"colorbar\": {\"outlinewidth\": 0, \"ticks\": \"\"}}, \"type\": \"scatter3d\"}], \"scattercarpet\": [{\"marker\": {\"colorbar\": {\"outlinewidth\": 0, \"ticks\": \"\"}}, \"type\": \"scattercarpet\"}], \"scattergeo\": [{\"marker\": {\"colorbar\": {\"outlinewidth\": 0, \"ticks\": \"\"}}, \"type\": \"scattergeo\"}], \"scattergl\": [{\"marker\": {\"colorbar\": {\"outlinewidth\": 0, \"ticks\": \"\"}}, \"type\": \"scattergl\"}], \"scattermapbox\": [{\"marker\": {\"colorbar\": {\"outlinewidth\": 0, \"ticks\": \"\"}}, \"type\": \"scattermapbox\"}], \"scatterpolar\": [{\"marker\": {\"colorbar\": {\"outlinewidth\": 0, \"ticks\": \"\"}}, \"type\": \"scatterpolar\"}], \"scatterpolargl\": [{\"marker\": {\"colorbar\": {\"outlinewidth\": 0, \"ticks\": \"\"}}, \"type\": \"scatterpolargl\"}], \"scatterternary\": [{\"marker\": {\"colorbar\": {\"outlinewidth\": 0, \"ticks\": \"\"}}, \"type\": \"scatterternary\"}], \"surface\": [{\"colorbar\": {\"outlinewidth\": 0, \"ticks\": \"\"}, \"colorscale\": [[0.0, \"#0d0887\"], [0.1111111111111111, \"#46039f\"], [0.2222222222222222, \"#7201a8\"], [0.3333333333333333, \"#9c179e\"], [0.4444444444444444, \"#bd3786\"], [0.5555555555555556, \"#d8576b\"], [0.6666666666666666, \"#ed7953\"], [0.7777777777777778, \"#fb9f3a\"], [0.8888888888888888, \"#fdca26\"], [1.0, \"#f0f921\"]], \"type\": \"surface\"}], \"table\": [{\"cells\": {\"fill\": {\"color\": \"#EBF0F8\"}, \"line\": {\"color\": \"white\"}}, \"header\": {\"fill\": {\"color\": \"#C8D4E3\"}, \"line\": {\"color\": \"white\"}}, \"type\": \"table\"}]}, \"layout\": {\"annotationdefaults\": {\"arrowcolor\": \"#2a3f5f\", \"arrowhead\": 0, \"arrowwidth\": 1}, \"coloraxis\": {\"colorbar\": {\"outlinewidth\": 0, \"ticks\": \"\"}}, \"colorscale\": {\"diverging\": [[0, \"#8e0152\"], [0.1, \"#c51b7d\"], [0.2, \"#de77ae\"], [0.3, \"#f1b6da\"], [0.4, \"#fde0ef\"], [0.5, \"#f7f7f7\"], [0.6, \"#e6f5d0\"], [0.7, \"#b8e186\"], [0.8, \"#7fbc41\"], [0.9, \"#4d9221\"], [1, \"#276419\"]], \"sequential\": [[0.0, \"#0d0887\"], [0.1111111111111111, \"#46039f\"], [0.2222222222222222, \"#7201a8\"], [0.3333333333333333, \"#9c179e\"], [0.4444444444444444, \"#bd3786\"], [0.5555555555555556, \"#d8576b\"], [0.6666666666666666, \"#ed7953\"], [0.7777777777777778, \"#fb9f3a\"], [0.8888888888888888, \"#fdca26\"], [1.0, \"#f0f921\"]], \"sequentialminus\": [[0.0, \"#0d0887\"], [0.1111111111111111, \"#46039f\"], [0.2222222222222222, \"#7201a8\"], [0.3333333333333333, \"#9c179e\"], [0.4444444444444444, \"#bd3786\"], [0.5555555555555556, \"#d8576b\"], [0.6666666666666666, \"#ed7953\"], [0.7777777777777778, \"#fb9f3a\"], [0.8888888888888888, \"#fdca26\"], [1.0, \"#f0f921\"]]}, \"colorway\": [\"#636efa\", \"#EF553B\", \"#00cc96\", \"#ab63fa\", \"#FFA15A\", \"#19d3f3\", \"#FF6692\", \"#B6E880\", \"#FF97FF\", \"#FECB52\"], \"font\": {\"color\": \"#2a3f5f\"}, \"geo\": {\"bgcolor\": \"white\", \"lakecolor\": \"white\", \"landcolor\": \"#E5ECF6\", \"showlakes\": true, \"showland\": true, \"subunitcolor\": \"white\"}, \"hoverlabel\": {\"align\": \"left\"}, \"hovermode\": \"closest\", \"mapbox\": {\"style\": \"light\"}, \"paper_bgcolor\": \"white\", \"plot_bgcolor\": \"#E5ECF6\", \"polar\": {\"angularaxis\": {\"gridcolor\": \"white\", \"linecolor\": \"white\", \"ticks\": \"\"}, \"bgcolor\": \"#E5ECF6\", \"radialaxis\": {\"gridcolor\": \"white\", \"linecolor\": \"white\", \"ticks\": \"\"}}, \"scene\": {\"xaxis\": {\"backgroundcolor\": \"#E5ECF6\", \"gridcolor\": \"white\", \"gridwidth\": 2, \"linecolor\": \"white\", \"showbackground\": true, \"ticks\": \"\", \"zerolinecolor\": \"white\"}, \"yaxis\": {\"backgroundcolor\": \"#E5ECF6\", \"gridcolor\": \"white\", \"gridwidth\": 2, \"linecolor\": \"white\", \"showbackground\": true, \"ticks\": \"\", \"zerolinecolor\": \"white\"}, \"zaxis\": {\"backgroundcolor\": \"#E5ECF6\", \"gridcolor\": \"white\", \"gridwidth\": 2, \"linecolor\": \"white\", \"showbackground\": true, \"ticks\": \"\", \"zerolinecolor\": \"white\"}}, \"shapedefaults\": {\"line\": {\"color\": \"#2a3f5f\"}}, \"ternary\": {\"aaxis\": {\"gridcolor\": \"white\", \"linecolor\": \"white\", \"ticks\": \"\"}, \"baxis\": {\"gridcolor\": \"white\", \"linecolor\": \"white\", \"ticks\": \"\"}, \"bgcolor\": \"#E5ECF6\", \"caxis\": {\"gridcolor\": \"white\", \"linecolor\": \"white\", \"ticks\": \"\"}}, \"title\": {\"x\": 0.05}, \"xaxis\": {\"automargin\": true, \"gridcolor\": \"white\", \"linecolor\": \"white\", \"ticks\": \"\", \"title\": {\"standoff\": 15}, \"zerolinecolor\": \"white\", \"zerolinewidth\": 2}, \"yaxis\": {\"automargin\": true, \"gridcolor\": \"white\", \"linecolor\": \"white\", \"ticks\": \"\", \"title\": {\"standoff\": 15}, \"zerolinecolor\": \"white\", \"zerolinewidth\": 2}}}, \"title\": {\"text\": \"California All Grades All Formulations Retail Gasoline Prices, Monthly\"}, \"xaxis\": {\"anchor\": \"y\", \"domain\": [0.0, 1.0], \"title\": {\"text\": \"Date\"}}, \"yaxis\": {\"anchor\": \"x\", \"domain\": [0.0, 1.0], \"title\": {\"text\": \"Average Monthly Price ($)\"}}},\n",
       "                        {\"responsive\": true}\n",
       "                    ).then(function(){\n",
       "                            \n",
       "var gd = document.getElementById('b538c22b-c6d5-4bdd-b610-accd6f152902');\n",
       "var x = new MutationObserver(function (mutations, observer) {{\n",
       "        var display = window.getComputedStyle(gd).display;\n",
       "        if (!display || display === 'none') {{\n",
       "            console.log([gd, 'removed!']);\n",
       "            Plotly.purge(gd);\n",
       "            observer.disconnect();\n",
       "        }}\n",
       "}});\n",
       "\n",
       "// Listen for the removal of the full notebook cells\n",
       "var notebookContainer = gd.closest('#notebook-container');\n",
       "if (notebookContainer) {{\n",
       "    x.observe(notebookContainer, {childList: true});\n",
       "}}\n",
       "\n",
       "// Listen for the clearing of the current output cell\n",
       "var outputEl = gd.closest('.output');\n",
       "if (outputEl) {{\n",
       "    x.observe(outputEl, {childList: true});\n",
       "}}\n",
       "\n",
       "                        })\n",
       "                };\n",
       "                });\n",
       "            </script>\n",
       "        </div>"
      ]
     },
     "metadata": {},
     "output_type": "display_data"
    },
    {
     "data": {
      "application/vnd.plotly.v1+json": {
       "config": {
        "plotlyServerURL": "https://plot.ly"
       },
       "data": [
        {
         "hoverlabel": {
          "namelength": 0
         },
         "hovertemplate": "date=%{x}<br>price=%{y}",
         "legendgroup": "",
         "line": {
          "color": "#636efa",
          "dash": "solid"
         },
         "mode": "lines",
         "name": "",
         "showlegend": false,
         "type": "scatter",
         "x": [
          "2020-02-01T00:00:00",
          "2020-01-01T00:00:00",
          "2019-12-01T00:00:00",
          "2019-11-01T00:00:00",
          "2019-10-01T00:00:00",
          "2019-09-01T00:00:00",
          "2019-08-01T00:00:00",
          "2019-07-01T00:00:00",
          "2019-06-01T00:00:00",
          "2019-05-01T00:00:00",
          "2019-04-01T00:00:00",
          "2019-03-01T00:00:00",
          "2019-02-01T00:00:00",
          "2019-01-01T00:00:00",
          "2018-12-01T00:00:00",
          "2018-11-01T00:00:00",
          "2018-10-01T00:00:00",
          "2018-09-01T00:00:00",
          "2018-08-01T00:00:00",
          "2018-07-01T00:00:00",
          "2018-06-01T00:00:00",
          "2018-05-01T00:00:00",
          "2018-04-01T00:00:00",
          "2018-03-01T00:00:00",
          "2018-02-01T00:00:00",
          "2018-01-01T00:00:00",
          "2017-12-01T00:00:00",
          "2017-11-01T00:00:00",
          "2017-10-01T00:00:00",
          "2017-09-01T00:00:00",
          "2017-08-01T00:00:00",
          "2017-07-01T00:00:00",
          "2017-06-01T00:00:00",
          "2017-05-01T00:00:00",
          "2017-04-01T00:00:00",
          "2017-03-01T00:00:00",
          "2017-02-01T00:00:00",
          "2017-01-01T00:00:00",
          "2016-12-01T00:00:00",
          "2016-11-01T00:00:00",
          "2016-10-01T00:00:00",
          "2016-09-01T00:00:00",
          "2016-08-01T00:00:00",
          "2016-07-01T00:00:00",
          "2016-06-01T00:00:00",
          "2016-05-01T00:00:00",
          "2016-04-01T00:00:00",
          "2016-03-01T00:00:00",
          "2016-02-01T00:00:00",
          "2016-01-01T00:00:00",
          "2015-12-01T00:00:00",
          "2015-11-01T00:00:00",
          "2015-10-01T00:00:00",
          "2015-09-01T00:00:00",
          "2015-08-01T00:00:00",
          "2015-07-01T00:00:00",
          "2015-06-01T00:00:00",
          "2015-05-01T00:00:00",
          "2015-04-01T00:00:00",
          "2015-03-01T00:00:00",
          "2015-02-01T00:00:00",
          "2015-01-01T00:00:00",
          "2014-12-01T00:00:00",
          "2014-11-01T00:00:00",
          "2014-10-01T00:00:00",
          "2014-09-01T00:00:00",
          "2014-08-01T00:00:00",
          "2014-07-01T00:00:00",
          "2014-06-01T00:00:00",
          "2014-05-01T00:00:00",
          "2014-04-01T00:00:00",
          "2014-03-01T00:00:00",
          "2014-02-01T00:00:00",
          "2014-01-01T00:00:00",
          "2013-12-01T00:00:00",
          "2013-11-01T00:00:00",
          "2013-10-01T00:00:00",
          "2013-09-01T00:00:00",
          "2013-08-01T00:00:00",
          "2013-07-01T00:00:00",
          "2013-06-01T00:00:00",
          "2013-05-01T00:00:00",
          "2013-04-01T00:00:00",
          "2013-03-01T00:00:00",
          "2013-02-01T00:00:00",
          "2013-01-01T00:00:00",
          "2012-12-01T00:00:00",
          "2012-11-01T00:00:00",
          "2012-10-01T00:00:00",
          "2012-09-01T00:00:00",
          "2012-08-01T00:00:00",
          "2012-07-01T00:00:00",
          "2012-06-01T00:00:00",
          "2012-05-01T00:00:00",
          "2012-04-01T00:00:00",
          "2012-03-01T00:00:00",
          "2012-02-01T00:00:00",
          "2012-01-01T00:00:00",
          "2011-12-01T00:00:00",
          "2011-11-01T00:00:00",
          "2011-10-01T00:00:00",
          "2011-09-01T00:00:00",
          "2011-08-01T00:00:00",
          "2011-07-01T00:00:00",
          "2011-06-01T00:00:00",
          "2011-05-01T00:00:00",
          "2011-04-01T00:00:00",
          "2011-03-01T00:00:00",
          "2011-02-01T00:00:00",
          "2011-01-01T00:00:00",
          "2010-12-01T00:00:00",
          "2010-11-01T00:00:00",
          "2010-10-01T00:00:00",
          "2010-09-01T00:00:00",
          "2010-08-01T00:00:00",
          "2010-07-01T00:00:00",
          "2010-06-01T00:00:00",
          "2010-05-01T00:00:00",
          "2010-04-01T00:00:00",
          "2010-03-01T00:00:00",
          "2010-02-01T00:00:00",
          "2010-01-01T00:00:00",
          "2009-12-01T00:00:00",
          "2009-11-01T00:00:00",
          "2009-10-01T00:00:00",
          "2009-09-01T00:00:00",
          "2009-08-01T00:00:00",
          "2009-07-01T00:00:00",
          "2009-06-01T00:00:00",
          "2009-05-01T00:00:00",
          "2009-04-01T00:00:00",
          "2009-03-01T00:00:00",
          "2009-02-01T00:00:00",
          "2009-01-01T00:00:00",
          "2008-12-01T00:00:00",
          "2008-11-01T00:00:00",
          "2008-10-01T00:00:00",
          "2008-09-01T00:00:00",
          "2008-08-01T00:00:00",
          "2008-07-01T00:00:00",
          "2008-06-01T00:00:00",
          "2008-05-01T00:00:00",
          "2008-04-01T00:00:00",
          "2008-03-01T00:00:00",
          "2008-02-01T00:00:00",
          "2008-01-01T00:00:00",
          "2007-12-01T00:00:00",
          "2007-11-01T00:00:00",
          "2007-10-01T00:00:00",
          "2007-09-01T00:00:00",
          "2007-08-01T00:00:00",
          "2007-07-01T00:00:00",
          "2007-06-01T00:00:00",
          "2007-05-01T00:00:00",
          "2007-04-01T00:00:00",
          "2007-03-01T00:00:00",
          "2007-02-01T00:00:00",
          "2007-01-01T00:00:00",
          "2006-12-01T00:00:00",
          "2006-11-01T00:00:00",
          "2006-10-01T00:00:00",
          "2006-09-01T00:00:00",
          "2006-08-01T00:00:00",
          "2006-07-01T00:00:00",
          "2006-06-01T00:00:00",
          "2006-05-01T00:00:00",
          "2006-04-01T00:00:00",
          "2006-03-01T00:00:00",
          "2006-02-01T00:00:00",
          "2006-01-01T00:00:00",
          "2005-12-01T00:00:00",
          "2005-11-01T00:00:00",
          "2005-10-01T00:00:00",
          "2005-09-01T00:00:00",
          "2005-08-01T00:00:00",
          "2005-07-01T00:00:00",
          "2005-06-01T00:00:00",
          "2005-05-01T00:00:00",
          "2005-04-01T00:00:00",
          "2005-03-01T00:00:00",
          "2005-02-01T00:00:00",
          "2005-01-01T00:00:00",
          "2004-12-01T00:00:00",
          "2004-11-01T00:00:00",
          "2004-10-01T00:00:00",
          "2004-09-01T00:00:00",
          "2004-08-01T00:00:00",
          "2004-07-01T00:00:00",
          "2004-06-01T00:00:00",
          "2004-05-01T00:00:00",
          "2004-04-01T00:00:00",
          "2004-03-01T00:00:00",
          "2004-02-01T00:00:00",
          "2004-01-01T00:00:00",
          "2003-12-01T00:00:00",
          "2003-11-01T00:00:00",
          "2003-10-01T00:00:00",
          "2003-09-01T00:00:00",
          "2003-08-01T00:00:00",
          "2003-07-01T00:00:00",
          "2003-06-01T00:00:00",
          "2003-05-01T00:00:00",
          "2003-04-01T00:00:00",
          "2003-03-01T00:00:00",
          "2003-02-01T00:00:00",
          "2003-01-01T00:00:00",
          "2002-12-01T00:00:00",
          "2002-11-01T00:00:00",
          "2002-10-01T00:00:00",
          "2002-09-01T00:00:00",
          "2002-08-01T00:00:00",
          "2002-07-01T00:00:00",
          "2002-06-01T00:00:00",
          "2002-05-01T00:00:00",
          "2002-04-01T00:00:00",
          "2002-03-01T00:00:00",
          "2002-02-01T00:00:00",
          "2002-01-01T00:00:00",
          "2001-12-01T00:00:00",
          "2001-11-01T00:00:00",
          "2001-10-01T00:00:00",
          "2001-09-01T00:00:00",
          "2001-08-01T00:00:00",
          "2001-07-01T00:00:00",
          "2001-06-01T00:00:00",
          "2001-05-01T00:00:00",
          "2001-04-01T00:00:00",
          "2001-03-01T00:00:00",
          "2001-02-01T00:00:00",
          "2001-01-01T00:00:00",
          "2000-12-01T00:00:00",
          "2000-11-01T00:00:00",
          "2000-10-01T00:00:00",
          "2000-09-01T00:00:00",
          "2000-08-01T00:00:00",
          "2000-07-01T00:00:00",
          "2000-06-01T00:00:00"
         ],
         "xaxis": "x",
         "y": [
          2.574,
          2.708,
          2.843,
          2.89,
          2.822,
          2.692,
          2.608,
          2.733,
          2.876,
          2.92,
          2.729,
          2.398,
          2.131,
          2.19,
          2.477,
          2.816,
          3.007,
          2.957,
          2.856,
          2.872,
          2.931,
          2.866,
          2.674,
          2.501,
          2.547,
          2.52,
          2.561,
          2.635,
          2.551,
          2.624,
          2.41,
          2.321,
          2.394,
          2.419,
          2.381,
          2.276,
          2.269,
          2.334,
          2.178,
          2.163,
          2.264,
          2.272,
          2.213,
          2.297,
          2.353,
          2.264,
          2.098,
          1.993,
          1.71,
          1.898,
          1.963,
          2.103,
          2.38,
          2.658,
          2.883,
          2.799,
          2.7,
          2.608,
          2.366,
          2.277,
          2.092,
          1.994,
          2.548,
          3.021,
          3.29,
          3.625,
          3.691,
          3.658,
          3.571,
          3.522,
          3.587,
          3.635,
          3.346,
          3.238,
          3.122,
          3.231,
          3.41,
          3.582,
          3.569,
          3.595,
          3.762,
          3.767,
          3.604,
          3.611,
          3.452,
          2.929,
          3.207,
          3.478,
          3.716,
          3.702,
          3.542,
          3.588,
          3.723,
          3.819,
          3.904,
          3.547,
          3.134,
          3.059,
          3.222,
          3.447,
          3.523,
          3.57,
          3.518,
          3.541,
          3.673,
          3.778,
          3.611,
          3.413,
          3.105,
          2.957,
          2.779,
          2.736,
          2.754,
          2.783,
          2.73,
          2.698,
          2.7,
          2.754,
          2.764,
          2.688,
          2.572,
          2.586,
          2.518,
          2.595,
          2.473,
          2.487,
          2.56,
          2.508,
          2.557,
          2.268,
          2.061,
          1.906,
          1.867,
          1.634,
          1.657,
          2.143,
          3.092,
          3.695,
          3.858,
          4.042,
          3.981,
          3.709,
          3.402,
          3.16,
          2.979,
          2.899,
          2.925,
          3.069,
          2.836,
          2.912,
          2.905,
          3.117,
          3.238,
          3.284,
          2.821,
          2.528,
          2.226,
          2.17,
          2.215,
          2.198,
          2.396,
          2.823,
          3.044,
          2.977,
          2.843,
          2.851,
          2.709,
          2.433,
          2.259,
          2.279,
          2.195,
          2.374,
          2.806,
          2.988,
          2.482,
          2.289,
          2.144,
          2.196,
          2.273,
          2.124,
          1.899,
          1.809,
          1.863,
          1.97,
          1.992,
          1.893,
          1.911,
          1.937,
          1.98,
          1.988,
          1.845,
          1.725,
          1.589,
          1.538,
          1.469,
          1.527,
          1.56,
          1.696,
          1.636,
          1.522,
          1.513,
          1.514,
          1.587,
          1.679,
          1.613,
          1.495,
          1.426,
          1.497,
          1.52,
          1.461,
          1.49,
          1.464,
          1.397,
          1.425,
          1.42,
          1.274,
          1.154,
          1.149,
          1.102,
          1.215,
          1.466,
          1.669,
          1.472,
          1.54,
          1.766,
          1.789,
          1.601,
          1.472,
          1.512,
          1.478,
          1.527,
          1.598,
          1.609,
          1.61,
          1.572,
          1.665,
          1.636
         ],
         "yaxis": "y"
        }
       ],
       "layout": {
        "legend": {
         "tracegroupgap": 0
        },
        "template": {
         "data": {
          "bar": [
           {
            "error_x": {
             "color": "#2a3f5f"
            },
            "error_y": {
             "color": "#2a3f5f"
            },
            "marker": {
             "line": {
              "color": "#E5ECF6",
              "width": 0.5
             }
            },
            "type": "bar"
           }
          ],
          "barpolar": [
           {
            "marker": {
             "line": {
              "color": "#E5ECF6",
              "width": 0.5
             }
            },
            "type": "barpolar"
           }
          ],
          "carpet": [
           {
            "aaxis": {
             "endlinecolor": "#2a3f5f",
             "gridcolor": "white",
             "linecolor": "white",
             "minorgridcolor": "white",
             "startlinecolor": "#2a3f5f"
            },
            "baxis": {
             "endlinecolor": "#2a3f5f",
             "gridcolor": "white",
             "linecolor": "white",
             "minorgridcolor": "white",
             "startlinecolor": "#2a3f5f"
            },
            "type": "carpet"
           }
          ],
          "choropleth": [
           {
            "colorbar": {
             "outlinewidth": 0,
             "ticks": ""
            },
            "type": "choropleth"
           }
          ],
          "contour": [
           {
            "colorbar": {
             "outlinewidth": 0,
             "ticks": ""
            },
            "colorscale": [
             [
              0,
              "#0d0887"
             ],
             [
              0.1111111111111111,
              "#46039f"
             ],
             [
              0.2222222222222222,
              "#7201a8"
             ],
             [
              0.3333333333333333,
              "#9c179e"
             ],
             [
              0.4444444444444444,
              "#bd3786"
             ],
             [
              0.5555555555555556,
              "#d8576b"
             ],
             [
              0.6666666666666666,
              "#ed7953"
             ],
             [
              0.7777777777777778,
              "#fb9f3a"
             ],
             [
              0.8888888888888888,
              "#fdca26"
             ],
             [
              1,
              "#f0f921"
             ]
            ],
            "type": "contour"
           }
          ],
          "contourcarpet": [
           {
            "colorbar": {
             "outlinewidth": 0,
             "ticks": ""
            },
            "type": "contourcarpet"
           }
          ],
          "heatmap": [
           {
            "colorbar": {
             "outlinewidth": 0,
             "ticks": ""
            },
            "colorscale": [
             [
              0,
              "#0d0887"
             ],
             [
              0.1111111111111111,
              "#46039f"
             ],
             [
              0.2222222222222222,
              "#7201a8"
             ],
             [
              0.3333333333333333,
              "#9c179e"
             ],
             [
              0.4444444444444444,
              "#bd3786"
             ],
             [
              0.5555555555555556,
              "#d8576b"
             ],
             [
              0.6666666666666666,
              "#ed7953"
             ],
             [
              0.7777777777777778,
              "#fb9f3a"
             ],
             [
              0.8888888888888888,
              "#fdca26"
             ],
             [
              1,
              "#f0f921"
             ]
            ],
            "type": "heatmap"
           }
          ],
          "heatmapgl": [
           {
            "colorbar": {
             "outlinewidth": 0,
             "ticks": ""
            },
            "colorscale": [
             [
              0,
              "#0d0887"
             ],
             [
              0.1111111111111111,
              "#46039f"
             ],
             [
              0.2222222222222222,
              "#7201a8"
             ],
             [
              0.3333333333333333,
              "#9c179e"
             ],
             [
              0.4444444444444444,
              "#bd3786"
             ],
             [
              0.5555555555555556,
              "#d8576b"
             ],
             [
              0.6666666666666666,
              "#ed7953"
             ],
             [
              0.7777777777777778,
              "#fb9f3a"
             ],
             [
              0.8888888888888888,
              "#fdca26"
             ],
             [
              1,
              "#f0f921"
             ]
            ],
            "type": "heatmapgl"
           }
          ],
          "histogram": [
           {
            "marker": {
             "colorbar": {
              "outlinewidth": 0,
              "ticks": ""
             }
            },
            "type": "histogram"
           }
          ],
          "histogram2d": [
           {
            "colorbar": {
             "outlinewidth": 0,
             "ticks": ""
            },
            "colorscale": [
             [
              0,
              "#0d0887"
             ],
             [
              0.1111111111111111,
              "#46039f"
             ],
             [
              0.2222222222222222,
              "#7201a8"
             ],
             [
              0.3333333333333333,
              "#9c179e"
             ],
             [
              0.4444444444444444,
              "#bd3786"
             ],
             [
              0.5555555555555556,
              "#d8576b"
             ],
             [
              0.6666666666666666,
              "#ed7953"
             ],
             [
              0.7777777777777778,
              "#fb9f3a"
             ],
             [
              0.8888888888888888,
              "#fdca26"
             ],
             [
              1,
              "#f0f921"
             ]
            ],
            "type": "histogram2d"
           }
          ],
          "histogram2dcontour": [
           {
            "colorbar": {
             "outlinewidth": 0,
             "ticks": ""
            },
            "colorscale": [
             [
              0,
              "#0d0887"
             ],
             [
              0.1111111111111111,
              "#46039f"
             ],
             [
              0.2222222222222222,
              "#7201a8"
             ],
             [
              0.3333333333333333,
              "#9c179e"
             ],
             [
              0.4444444444444444,
              "#bd3786"
             ],
             [
              0.5555555555555556,
              "#d8576b"
             ],
             [
              0.6666666666666666,
              "#ed7953"
             ],
             [
              0.7777777777777778,
              "#fb9f3a"
             ],
             [
              0.8888888888888888,
              "#fdca26"
             ],
             [
              1,
              "#f0f921"
             ]
            ],
            "type": "histogram2dcontour"
           }
          ],
          "mesh3d": [
           {
            "colorbar": {
             "outlinewidth": 0,
             "ticks": ""
            },
            "type": "mesh3d"
           }
          ],
          "parcoords": [
           {
            "line": {
             "colorbar": {
              "outlinewidth": 0,
              "ticks": ""
             }
            },
            "type": "parcoords"
           }
          ],
          "pie": [
           {
            "automargin": true,
            "type": "pie"
           }
          ],
          "scatter": [
           {
            "marker": {
             "colorbar": {
              "outlinewidth": 0,
              "ticks": ""
             }
            },
            "type": "scatter"
           }
          ],
          "scatter3d": [
           {
            "line": {
             "colorbar": {
              "outlinewidth": 0,
              "ticks": ""
             }
            },
            "marker": {
             "colorbar": {
              "outlinewidth": 0,
              "ticks": ""
             }
            },
            "type": "scatter3d"
           }
          ],
          "scattercarpet": [
           {
            "marker": {
             "colorbar": {
              "outlinewidth": 0,
              "ticks": ""
             }
            },
            "type": "scattercarpet"
           }
          ],
          "scattergeo": [
           {
            "marker": {
             "colorbar": {
              "outlinewidth": 0,
              "ticks": ""
             }
            },
            "type": "scattergeo"
           }
          ],
          "scattergl": [
           {
            "marker": {
             "colorbar": {
              "outlinewidth": 0,
              "ticks": ""
             }
            },
            "type": "scattergl"
           }
          ],
          "scattermapbox": [
           {
            "marker": {
             "colorbar": {
              "outlinewidth": 0,
              "ticks": ""
             }
            },
            "type": "scattermapbox"
           }
          ],
          "scatterpolar": [
           {
            "marker": {
             "colorbar": {
              "outlinewidth": 0,
              "ticks": ""
             }
            },
            "type": "scatterpolar"
           }
          ],
          "scatterpolargl": [
           {
            "marker": {
             "colorbar": {
              "outlinewidth": 0,
              "ticks": ""
             }
            },
            "type": "scatterpolargl"
           }
          ],
          "scatterternary": [
           {
            "marker": {
             "colorbar": {
              "outlinewidth": 0,
              "ticks": ""
             }
            },
            "type": "scatterternary"
           }
          ],
          "surface": [
           {
            "colorbar": {
             "outlinewidth": 0,
             "ticks": ""
            },
            "colorscale": [
             [
              0,
              "#0d0887"
             ],
             [
              0.1111111111111111,
              "#46039f"
             ],
             [
              0.2222222222222222,
              "#7201a8"
             ],
             [
              0.3333333333333333,
              "#9c179e"
             ],
             [
              0.4444444444444444,
              "#bd3786"
             ],
             [
              0.5555555555555556,
              "#d8576b"
             ],
             [
              0.6666666666666666,
              "#ed7953"
             ],
             [
              0.7777777777777778,
              "#fb9f3a"
             ],
             [
              0.8888888888888888,
              "#fdca26"
             ],
             [
              1,
              "#f0f921"
             ]
            ],
            "type": "surface"
           }
          ],
          "table": [
           {
            "cells": {
             "fill": {
              "color": "#EBF0F8"
             },
             "line": {
              "color": "white"
             }
            },
            "header": {
             "fill": {
              "color": "#C8D4E3"
             },
             "line": {
              "color": "white"
             }
            },
            "type": "table"
           }
          ]
         },
         "layout": {
          "annotationdefaults": {
           "arrowcolor": "#2a3f5f",
           "arrowhead": 0,
           "arrowwidth": 1
          },
          "coloraxis": {
           "colorbar": {
            "outlinewidth": 0,
            "ticks": ""
           }
          },
          "colorscale": {
           "diverging": [
            [
             0,
             "#8e0152"
            ],
            [
             0.1,
             "#c51b7d"
            ],
            [
             0.2,
             "#de77ae"
            ],
            [
             0.3,
             "#f1b6da"
            ],
            [
             0.4,
             "#fde0ef"
            ],
            [
             0.5,
             "#f7f7f7"
            ],
            [
             0.6,
             "#e6f5d0"
            ],
            [
             0.7,
             "#b8e186"
            ],
            [
             0.8,
             "#7fbc41"
            ],
            [
             0.9,
             "#4d9221"
            ],
            [
             1,
             "#276419"
            ]
           ],
           "sequential": [
            [
             0,
             "#0d0887"
            ],
            [
             0.1111111111111111,
             "#46039f"
            ],
            [
             0.2222222222222222,
             "#7201a8"
            ],
            [
             0.3333333333333333,
             "#9c179e"
            ],
            [
             0.4444444444444444,
             "#bd3786"
            ],
            [
             0.5555555555555556,
             "#d8576b"
            ],
            [
             0.6666666666666666,
             "#ed7953"
            ],
            [
             0.7777777777777778,
             "#fb9f3a"
            ],
            [
             0.8888888888888888,
             "#fdca26"
            ],
            [
             1,
             "#f0f921"
            ]
           ],
           "sequentialminus": [
            [
             0,
             "#0d0887"
            ],
            [
             0.1111111111111111,
             "#46039f"
            ],
            [
             0.2222222222222222,
             "#7201a8"
            ],
            [
             0.3333333333333333,
             "#9c179e"
            ],
            [
             0.4444444444444444,
             "#bd3786"
            ],
            [
             0.5555555555555556,
             "#d8576b"
            ],
            [
             0.6666666666666666,
             "#ed7953"
            ],
            [
             0.7777777777777778,
             "#fb9f3a"
            ],
            [
             0.8888888888888888,
             "#fdca26"
            ],
            [
             1,
             "#f0f921"
            ]
           ]
          },
          "colorway": [
           "#636efa",
           "#EF553B",
           "#00cc96",
           "#ab63fa",
           "#FFA15A",
           "#19d3f3",
           "#FF6692",
           "#B6E880",
           "#FF97FF",
           "#FECB52"
          ],
          "font": {
           "color": "#2a3f5f"
          },
          "geo": {
           "bgcolor": "white",
           "lakecolor": "white",
           "landcolor": "#E5ECF6",
           "showlakes": true,
           "showland": true,
           "subunitcolor": "white"
          },
          "hoverlabel": {
           "align": "left"
          },
          "hovermode": "closest",
          "mapbox": {
           "style": "light"
          },
          "paper_bgcolor": "white",
          "plot_bgcolor": "#E5ECF6",
          "polar": {
           "angularaxis": {
            "gridcolor": "white",
            "linecolor": "white",
            "ticks": ""
           },
           "bgcolor": "#E5ECF6",
           "radialaxis": {
            "gridcolor": "white",
            "linecolor": "white",
            "ticks": ""
           }
          },
          "scene": {
           "xaxis": {
            "backgroundcolor": "#E5ECF6",
            "gridcolor": "white",
            "gridwidth": 2,
            "linecolor": "white",
            "showbackground": true,
            "ticks": "",
            "zerolinecolor": "white"
           },
           "yaxis": {
            "backgroundcolor": "#E5ECF6",
            "gridcolor": "white",
            "gridwidth": 2,
            "linecolor": "white",
            "showbackground": true,
            "ticks": "",
            "zerolinecolor": "white"
           },
           "zaxis": {
            "backgroundcolor": "#E5ECF6",
            "gridcolor": "white",
            "gridwidth": 2,
            "linecolor": "white",
            "showbackground": true,
            "ticks": "",
            "zerolinecolor": "white"
           }
          },
          "shapedefaults": {
           "line": {
            "color": "#2a3f5f"
           }
          },
          "ternary": {
           "aaxis": {
            "gridcolor": "white",
            "linecolor": "white",
            "ticks": ""
           },
           "baxis": {
            "gridcolor": "white",
            "linecolor": "white",
            "ticks": ""
           },
           "bgcolor": "#E5ECF6",
           "caxis": {
            "gridcolor": "white",
            "linecolor": "white",
            "ticks": ""
           }
          },
          "title": {
           "x": 0.05
          },
          "xaxis": {
           "automargin": true,
           "gridcolor": "white",
           "linecolor": "white",
           "ticks": "",
           "title": {
            "standoff": 15
           },
           "zerolinecolor": "white",
           "zerolinewidth": 2
          },
          "yaxis": {
           "automargin": true,
           "gridcolor": "white",
           "linecolor": "white",
           "ticks": "",
           "title": {
            "standoff": 15
           },
           "zerolinecolor": "white",
           "zerolinewidth": 2
          }
         }
        },
        "title": {
         "text": "Colorado All Grades All Formulations Retail Gasoline Prices, Monthly"
        },
        "xaxis": {
         "anchor": "y",
         "domain": [
          0,
          1
         ],
         "title": {
          "text": "Date"
         }
        },
        "yaxis": {
         "anchor": "x",
         "domain": [
          0,
          1
         ],
         "title": {
          "text": "Average Monthly Price ($)"
         }
        }
       }
      },
      "text/html": [
       "<div>\n",
       "        \n",
       "        \n",
       "            <div id=\"970b3f08-baf0-49ce-a61c-4bee8b83219d\" class=\"plotly-graph-div\" style=\"height:525px; width:100%;\"></div>\n",
       "            <script type=\"text/javascript\">\n",
       "                require([\"plotly\"], function(Plotly) {\n",
       "                    window.PLOTLYENV=window.PLOTLYENV || {};\n",
       "                    \n",
       "                if (document.getElementById(\"970b3f08-baf0-49ce-a61c-4bee8b83219d\")) {\n",
       "                    Plotly.newPlot(\n",
       "                        '970b3f08-baf0-49ce-a61c-4bee8b83219d',\n",
       "                        [{\"hoverlabel\": {\"namelength\": 0}, \"hovertemplate\": \"date=%{x}<br>price=%{y}\", \"legendgroup\": \"\", \"line\": {\"color\": \"#636efa\", \"dash\": \"solid\"}, \"mode\": \"lines\", \"name\": \"\", \"showlegend\": false, \"type\": \"scatter\", \"x\": [\"2020-02-01T00:00:00\", \"2020-01-01T00:00:00\", \"2019-12-01T00:00:00\", \"2019-11-01T00:00:00\", \"2019-10-01T00:00:00\", \"2019-09-01T00:00:00\", \"2019-08-01T00:00:00\", \"2019-07-01T00:00:00\", \"2019-06-01T00:00:00\", \"2019-05-01T00:00:00\", \"2019-04-01T00:00:00\", \"2019-03-01T00:00:00\", \"2019-02-01T00:00:00\", \"2019-01-01T00:00:00\", \"2018-12-01T00:00:00\", \"2018-11-01T00:00:00\", \"2018-10-01T00:00:00\", \"2018-09-01T00:00:00\", \"2018-08-01T00:00:00\", \"2018-07-01T00:00:00\", \"2018-06-01T00:00:00\", \"2018-05-01T00:00:00\", \"2018-04-01T00:00:00\", \"2018-03-01T00:00:00\", \"2018-02-01T00:00:00\", \"2018-01-01T00:00:00\", \"2017-12-01T00:00:00\", \"2017-11-01T00:00:00\", \"2017-10-01T00:00:00\", \"2017-09-01T00:00:00\", \"2017-08-01T00:00:00\", \"2017-07-01T00:00:00\", \"2017-06-01T00:00:00\", \"2017-05-01T00:00:00\", \"2017-04-01T00:00:00\", \"2017-03-01T00:00:00\", \"2017-02-01T00:00:00\", \"2017-01-01T00:00:00\", \"2016-12-01T00:00:00\", \"2016-11-01T00:00:00\", \"2016-10-01T00:00:00\", \"2016-09-01T00:00:00\", \"2016-08-01T00:00:00\", \"2016-07-01T00:00:00\", \"2016-06-01T00:00:00\", \"2016-05-01T00:00:00\", \"2016-04-01T00:00:00\", \"2016-03-01T00:00:00\", \"2016-02-01T00:00:00\", \"2016-01-01T00:00:00\", \"2015-12-01T00:00:00\", \"2015-11-01T00:00:00\", \"2015-10-01T00:00:00\", \"2015-09-01T00:00:00\", \"2015-08-01T00:00:00\", \"2015-07-01T00:00:00\", \"2015-06-01T00:00:00\", \"2015-05-01T00:00:00\", \"2015-04-01T00:00:00\", \"2015-03-01T00:00:00\", \"2015-02-01T00:00:00\", \"2015-01-01T00:00:00\", \"2014-12-01T00:00:00\", \"2014-11-01T00:00:00\", \"2014-10-01T00:00:00\", \"2014-09-01T00:00:00\", \"2014-08-01T00:00:00\", \"2014-07-01T00:00:00\", \"2014-06-01T00:00:00\", \"2014-05-01T00:00:00\", \"2014-04-01T00:00:00\", \"2014-03-01T00:00:00\", \"2014-02-01T00:00:00\", \"2014-01-01T00:00:00\", \"2013-12-01T00:00:00\", \"2013-11-01T00:00:00\", \"2013-10-01T00:00:00\", \"2013-09-01T00:00:00\", \"2013-08-01T00:00:00\", \"2013-07-01T00:00:00\", \"2013-06-01T00:00:00\", \"2013-05-01T00:00:00\", \"2013-04-01T00:00:00\", \"2013-03-01T00:00:00\", \"2013-02-01T00:00:00\", \"2013-01-01T00:00:00\", \"2012-12-01T00:00:00\", \"2012-11-01T00:00:00\", \"2012-10-01T00:00:00\", \"2012-09-01T00:00:00\", \"2012-08-01T00:00:00\", \"2012-07-01T00:00:00\", \"2012-06-01T00:00:00\", \"2012-05-01T00:00:00\", \"2012-04-01T00:00:00\", \"2012-03-01T00:00:00\", \"2012-02-01T00:00:00\", \"2012-01-01T00:00:00\", \"2011-12-01T00:00:00\", \"2011-11-01T00:00:00\", \"2011-10-01T00:00:00\", \"2011-09-01T00:00:00\", \"2011-08-01T00:00:00\", \"2011-07-01T00:00:00\", \"2011-06-01T00:00:00\", \"2011-05-01T00:00:00\", \"2011-04-01T00:00:00\", \"2011-03-01T00:00:00\", \"2011-02-01T00:00:00\", \"2011-01-01T00:00:00\", \"2010-12-01T00:00:00\", \"2010-11-01T00:00:00\", \"2010-10-01T00:00:00\", \"2010-09-01T00:00:00\", \"2010-08-01T00:00:00\", \"2010-07-01T00:00:00\", \"2010-06-01T00:00:00\", \"2010-05-01T00:00:00\", \"2010-04-01T00:00:00\", \"2010-03-01T00:00:00\", \"2010-02-01T00:00:00\", \"2010-01-01T00:00:00\", \"2009-12-01T00:00:00\", \"2009-11-01T00:00:00\", \"2009-10-01T00:00:00\", \"2009-09-01T00:00:00\", \"2009-08-01T00:00:00\", \"2009-07-01T00:00:00\", \"2009-06-01T00:00:00\", \"2009-05-01T00:00:00\", \"2009-04-01T00:00:00\", \"2009-03-01T00:00:00\", \"2009-02-01T00:00:00\", \"2009-01-01T00:00:00\", \"2008-12-01T00:00:00\", \"2008-11-01T00:00:00\", \"2008-10-01T00:00:00\", \"2008-09-01T00:00:00\", \"2008-08-01T00:00:00\", \"2008-07-01T00:00:00\", \"2008-06-01T00:00:00\", \"2008-05-01T00:00:00\", \"2008-04-01T00:00:00\", \"2008-03-01T00:00:00\", \"2008-02-01T00:00:00\", \"2008-01-01T00:00:00\", \"2007-12-01T00:00:00\", \"2007-11-01T00:00:00\", \"2007-10-01T00:00:00\", \"2007-09-01T00:00:00\", \"2007-08-01T00:00:00\", \"2007-07-01T00:00:00\", \"2007-06-01T00:00:00\", \"2007-05-01T00:00:00\", \"2007-04-01T00:00:00\", \"2007-03-01T00:00:00\", \"2007-02-01T00:00:00\", \"2007-01-01T00:00:00\", \"2006-12-01T00:00:00\", \"2006-11-01T00:00:00\", \"2006-10-01T00:00:00\", \"2006-09-01T00:00:00\", \"2006-08-01T00:00:00\", \"2006-07-01T00:00:00\", \"2006-06-01T00:00:00\", \"2006-05-01T00:00:00\", \"2006-04-01T00:00:00\", \"2006-03-01T00:00:00\", \"2006-02-01T00:00:00\", \"2006-01-01T00:00:00\", \"2005-12-01T00:00:00\", \"2005-11-01T00:00:00\", \"2005-10-01T00:00:00\", \"2005-09-01T00:00:00\", \"2005-08-01T00:00:00\", \"2005-07-01T00:00:00\", \"2005-06-01T00:00:00\", \"2005-05-01T00:00:00\", \"2005-04-01T00:00:00\", \"2005-03-01T00:00:00\", \"2005-02-01T00:00:00\", \"2005-01-01T00:00:00\", \"2004-12-01T00:00:00\", \"2004-11-01T00:00:00\", \"2004-10-01T00:00:00\", \"2004-09-01T00:00:00\", \"2004-08-01T00:00:00\", \"2004-07-01T00:00:00\", \"2004-06-01T00:00:00\", \"2004-05-01T00:00:00\", \"2004-04-01T00:00:00\", \"2004-03-01T00:00:00\", \"2004-02-01T00:00:00\", \"2004-01-01T00:00:00\", \"2003-12-01T00:00:00\", \"2003-11-01T00:00:00\", \"2003-10-01T00:00:00\", \"2003-09-01T00:00:00\", \"2003-08-01T00:00:00\", \"2003-07-01T00:00:00\", \"2003-06-01T00:00:00\", \"2003-05-01T00:00:00\", \"2003-04-01T00:00:00\", \"2003-03-01T00:00:00\", \"2003-02-01T00:00:00\", \"2003-01-01T00:00:00\", \"2002-12-01T00:00:00\", \"2002-11-01T00:00:00\", \"2002-10-01T00:00:00\", \"2002-09-01T00:00:00\", \"2002-08-01T00:00:00\", \"2002-07-01T00:00:00\", \"2002-06-01T00:00:00\", \"2002-05-01T00:00:00\", \"2002-04-01T00:00:00\", \"2002-03-01T00:00:00\", \"2002-02-01T00:00:00\", \"2002-01-01T00:00:00\", \"2001-12-01T00:00:00\", \"2001-11-01T00:00:00\", \"2001-10-01T00:00:00\", \"2001-09-01T00:00:00\", \"2001-08-01T00:00:00\", \"2001-07-01T00:00:00\", \"2001-06-01T00:00:00\", \"2001-05-01T00:00:00\", \"2001-04-01T00:00:00\", \"2001-03-01T00:00:00\", \"2001-02-01T00:00:00\", \"2001-01-01T00:00:00\", \"2000-12-01T00:00:00\", \"2000-11-01T00:00:00\", \"2000-10-01T00:00:00\", \"2000-09-01T00:00:00\", \"2000-08-01T00:00:00\", \"2000-07-01T00:00:00\", \"2000-06-01T00:00:00\"], \"xaxis\": \"x\", \"y\": [2.574, 2.708, 2.843, 2.89, 2.822, 2.692, 2.608, 2.733, 2.876, 2.92, 2.729, 2.398, 2.131, 2.19, 2.477, 2.816, 3.007, 2.957, 2.856, 2.872, 2.931, 2.866, 2.674, 2.501, 2.547, 2.52, 2.561, 2.635, 2.551, 2.624, 2.41, 2.321, 2.394, 2.419, 2.381, 2.276, 2.269, 2.334, 2.178, 2.163, 2.264, 2.272, 2.213, 2.297, 2.353, 2.264, 2.098, 1.993, 1.71, 1.898, 1.963, 2.103, 2.38, 2.658, 2.883, 2.799, 2.7, 2.608, 2.366, 2.277, 2.092, 1.994, 2.548, 3.021, 3.29, 3.625, 3.691, 3.658, 3.571, 3.522, 3.587, 3.635, 3.346, 3.238, 3.122, 3.231, 3.41, 3.582, 3.569, 3.595, 3.762, 3.767, 3.604, 3.611, 3.452, 2.929, 3.207, 3.478, 3.716, 3.702, 3.542, 3.588, 3.723, 3.819, 3.904, 3.547, 3.134, 3.059, 3.222, 3.447, 3.523, 3.57, 3.518, 3.541, 3.673, 3.778, 3.611, 3.413, 3.105, 2.957, 2.779, 2.736, 2.754, 2.783, 2.73, 2.698, 2.7, 2.754, 2.764, 2.688, 2.572, 2.586, 2.518, 2.595, 2.473, 2.487, 2.56, 2.508, 2.557, 2.268, 2.061, 1.906, 1.867, 1.634, 1.657, 2.143, 3.092, 3.695, 3.858, 4.042, 3.981, 3.709, 3.402, 3.16, 2.979, 2.899, 2.925, 3.069, 2.836, 2.912, 2.905, 3.117, 3.238, 3.284, 2.821, 2.528, 2.226, 2.17, 2.215, 2.198, 2.396, 2.823, 3.044, 2.977, 2.843, 2.851, 2.709, 2.433, 2.259, 2.279, 2.195, 2.374, 2.806, 2.988, 2.482, 2.289, 2.144, 2.196, 2.273, 2.124, 1.899, 1.809, 1.863, 1.97, 1.992, 1.893, 1.911, 1.937, 1.98, 1.988, 1.845, 1.725, 1.589, 1.538, 1.469, 1.527, 1.56, 1.696, 1.636, 1.522, 1.513, 1.514, 1.587, 1.679, 1.613, 1.495, 1.426, 1.497, 1.52, 1.461, 1.49, 1.464, 1.397, 1.425, 1.42, 1.274, 1.154, 1.149, 1.102, 1.215, 1.466, 1.669, 1.472, 1.54, 1.766, 1.789, 1.601, 1.472, 1.512, 1.478, 1.527, 1.598, 1.609, 1.61, 1.572, 1.665, 1.636], \"yaxis\": \"y\"}],\n",
       "                        {\"legend\": {\"tracegroupgap\": 0}, \"template\": {\"data\": {\"bar\": [{\"error_x\": {\"color\": \"#2a3f5f\"}, \"error_y\": {\"color\": \"#2a3f5f\"}, \"marker\": {\"line\": {\"color\": \"#E5ECF6\", \"width\": 0.5}}, \"type\": \"bar\"}], \"barpolar\": [{\"marker\": {\"line\": {\"color\": \"#E5ECF6\", \"width\": 0.5}}, \"type\": \"barpolar\"}], \"carpet\": [{\"aaxis\": {\"endlinecolor\": \"#2a3f5f\", \"gridcolor\": \"white\", \"linecolor\": \"white\", \"minorgridcolor\": \"white\", \"startlinecolor\": \"#2a3f5f\"}, \"baxis\": {\"endlinecolor\": \"#2a3f5f\", \"gridcolor\": \"white\", \"linecolor\": \"white\", \"minorgridcolor\": \"white\", \"startlinecolor\": \"#2a3f5f\"}, \"type\": \"carpet\"}], \"choropleth\": [{\"colorbar\": {\"outlinewidth\": 0, \"ticks\": \"\"}, \"type\": \"choropleth\"}], \"contour\": [{\"colorbar\": {\"outlinewidth\": 0, \"ticks\": \"\"}, \"colorscale\": [[0.0, \"#0d0887\"], [0.1111111111111111, \"#46039f\"], [0.2222222222222222, \"#7201a8\"], [0.3333333333333333, \"#9c179e\"], [0.4444444444444444, \"#bd3786\"], [0.5555555555555556, \"#d8576b\"], [0.6666666666666666, \"#ed7953\"], [0.7777777777777778, \"#fb9f3a\"], [0.8888888888888888, \"#fdca26\"], [1.0, \"#f0f921\"]], \"type\": \"contour\"}], \"contourcarpet\": [{\"colorbar\": {\"outlinewidth\": 0, \"ticks\": \"\"}, \"type\": \"contourcarpet\"}], \"heatmap\": [{\"colorbar\": {\"outlinewidth\": 0, \"ticks\": \"\"}, \"colorscale\": [[0.0, \"#0d0887\"], [0.1111111111111111, \"#46039f\"], [0.2222222222222222, \"#7201a8\"], [0.3333333333333333, \"#9c179e\"], [0.4444444444444444, \"#bd3786\"], [0.5555555555555556, \"#d8576b\"], [0.6666666666666666, \"#ed7953\"], [0.7777777777777778, \"#fb9f3a\"], [0.8888888888888888, \"#fdca26\"], [1.0, \"#f0f921\"]], \"type\": \"heatmap\"}], \"heatmapgl\": [{\"colorbar\": {\"outlinewidth\": 0, \"ticks\": \"\"}, \"colorscale\": [[0.0, \"#0d0887\"], [0.1111111111111111, \"#46039f\"], [0.2222222222222222, \"#7201a8\"], [0.3333333333333333, \"#9c179e\"], [0.4444444444444444, \"#bd3786\"], [0.5555555555555556, \"#d8576b\"], [0.6666666666666666, \"#ed7953\"], [0.7777777777777778, \"#fb9f3a\"], [0.8888888888888888, \"#fdca26\"], [1.0, \"#f0f921\"]], \"type\": \"heatmapgl\"}], \"histogram\": [{\"marker\": {\"colorbar\": {\"outlinewidth\": 0, \"ticks\": \"\"}}, \"type\": \"histogram\"}], \"histogram2d\": [{\"colorbar\": {\"outlinewidth\": 0, \"ticks\": \"\"}, \"colorscale\": [[0.0, \"#0d0887\"], [0.1111111111111111, \"#46039f\"], [0.2222222222222222, \"#7201a8\"], [0.3333333333333333, \"#9c179e\"], [0.4444444444444444, \"#bd3786\"], [0.5555555555555556, \"#d8576b\"], [0.6666666666666666, \"#ed7953\"], [0.7777777777777778, \"#fb9f3a\"], [0.8888888888888888, \"#fdca26\"], [1.0, \"#f0f921\"]], \"type\": \"histogram2d\"}], \"histogram2dcontour\": [{\"colorbar\": {\"outlinewidth\": 0, \"ticks\": \"\"}, \"colorscale\": [[0.0, \"#0d0887\"], [0.1111111111111111, \"#46039f\"], [0.2222222222222222, \"#7201a8\"], [0.3333333333333333, \"#9c179e\"], [0.4444444444444444, \"#bd3786\"], [0.5555555555555556, \"#d8576b\"], [0.6666666666666666, \"#ed7953\"], [0.7777777777777778, \"#fb9f3a\"], [0.8888888888888888, \"#fdca26\"], [1.0, \"#f0f921\"]], \"type\": \"histogram2dcontour\"}], \"mesh3d\": [{\"colorbar\": {\"outlinewidth\": 0, \"ticks\": \"\"}, \"type\": \"mesh3d\"}], \"parcoords\": [{\"line\": {\"colorbar\": {\"outlinewidth\": 0, \"ticks\": \"\"}}, \"type\": \"parcoords\"}], \"pie\": [{\"automargin\": true, \"type\": \"pie\"}], \"scatter\": [{\"marker\": {\"colorbar\": {\"outlinewidth\": 0, \"ticks\": \"\"}}, \"type\": \"scatter\"}], \"scatter3d\": [{\"line\": {\"colorbar\": {\"outlinewidth\": 0, \"ticks\": \"\"}}, \"marker\": {\"colorbar\": {\"outlinewidth\": 0, \"ticks\": \"\"}}, \"type\": \"scatter3d\"}], \"scattercarpet\": [{\"marker\": {\"colorbar\": {\"outlinewidth\": 0, \"ticks\": \"\"}}, \"type\": \"scattercarpet\"}], \"scattergeo\": [{\"marker\": {\"colorbar\": {\"outlinewidth\": 0, \"ticks\": \"\"}}, \"type\": \"scattergeo\"}], \"scattergl\": [{\"marker\": {\"colorbar\": {\"outlinewidth\": 0, \"ticks\": \"\"}}, \"type\": \"scattergl\"}], \"scattermapbox\": [{\"marker\": {\"colorbar\": {\"outlinewidth\": 0, \"ticks\": \"\"}}, \"type\": \"scattermapbox\"}], \"scatterpolar\": [{\"marker\": {\"colorbar\": {\"outlinewidth\": 0, \"ticks\": \"\"}}, \"type\": \"scatterpolar\"}], \"scatterpolargl\": [{\"marker\": {\"colorbar\": {\"outlinewidth\": 0, \"ticks\": \"\"}}, \"type\": \"scatterpolargl\"}], \"scatterternary\": [{\"marker\": {\"colorbar\": {\"outlinewidth\": 0, \"ticks\": \"\"}}, \"type\": \"scatterternary\"}], \"surface\": [{\"colorbar\": {\"outlinewidth\": 0, \"ticks\": \"\"}, \"colorscale\": [[0.0, \"#0d0887\"], [0.1111111111111111, \"#46039f\"], [0.2222222222222222, \"#7201a8\"], [0.3333333333333333, \"#9c179e\"], [0.4444444444444444, \"#bd3786\"], [0.5555555555555556, \"#d8576b\"], [0.6666666666666666, \"#ed7953\"], [0.7777777777777778, \"#fb9f3a\"], [0.8888888888888888, \"#fdca26\"], [1.0, \"#f0f921\"]], \"type\": \"surface\"}], \"table\": [{\"cells\": {\"fill\": {\"color\": \"#EBF0F8\"}, \"line\": {\"color\": \"white\"}}, \"header\": {\"fill\": {\"color\": \"#C8D4E3\"}, \"line\": {\"color\": \"white\"}}, \"type\": \"table\"}]}, \"layout\": {\"annotationdefaults\": {\"arrowcolor\": \"#2a3f5f\", \"arrowhead\": 0, \"arrowwidth\": 1}, \"coloraxis\": {\"colorbar\": {\"outlinewidth\": 0, \"ticks\": \"\"}}, \"colorscale\": {\"diverging\": [[0, \"#8e0152\"], [0.1, \"#c51b7d\"], [0.2, \"#de77ae\"], [0.3, \"#f1b6da\"], [0.4, \"#fde0ef\"], [0.5, \"#f7f7f7\"], [0.6, \"#e6f5d0\"], [0.7, \"#b8e186\"], [0.8, \"#7fbc41\"], [0.9, \"#4d9221\"], [1, \"#276419\"]], \"sequential\": [[0.0, \"#0d0887\"], [0.1111111111111111, \"#46039f\"], [0.2222222222222222, \"#7201a8\"], [0.3333333333333333, \"#9c179e\"], [0.4444444444444444, \"#bd3786\"], [0.5555555555555556, \"#d8576b\"], [0.6666666666666666, \"#ed7953\"], [0.7777777777777778, \"#fb9f3a\"], [0.8888888888888888, \"#fdca26\"], [1.0, \"#f0f921\"]], \"sequentialminus\": [[0.0, \"#0d0887\"], [0.1111111111111111, \"#46039f\"], [0.2222222222222222, \"#7201a8\"], [0.3333333333333333, \"#9c179e\"], [0.4444444444444444, \"#bd3786\"], [0.5555555555555556, \"#d8576b\"], [0.6666666666666666, \"#ed7953\"], [0.7777777777777778, \"#fb9f3a\"], [0.8888888888888888, \"#fdca26\"], [1.0, \"#f0f921\"]]}, \"colorway\": [\"#636efa\", \"#EF553B\", \"#00cc96\", \"#ab63fa\", \"#FFA15A\", \"#19d3f3\", \"#FF6692\", \"#B6E880\", \"#FF97FF\", \"#FECB52\"], \"font\": {\"color\": \"#2a3f5f\"}, \"geo\": {\"bgcolor\": \"white\", \"lakecolor\": \"white\", \"landcolor\": \"#E5ECF6\", \"showlakes\": true, \"showland\": true, \"subunitcolor\": \"white\"}, \"hoverlabel\": {\"align\": \"left\"}, \"hovermode\": \"closest\", \"mapbox\": {\"style\": \"light\"}, \"paper_bgcolor\": \"white\", \"plot_bgcolor\": \"#E5ECF6\", \"polar\": {\"angularaxis\": {\"gridcolor\": \"white\", \"linecolor\": \"white\", \"ticks\": \"\"}, \"bgcolor\": \"#E5ECF6\", \"radialaxis\": {\"gridcolor\": \"white\", \"linecolor\": \"white\", \"ticks\": \"\"}}, \"scene\": {\"xaxis\": {\"backgroundcolor\": \"#E5ECF6\", \"gridcolor\": \"white\", \"gridwidth\": 2, \"linecolor\": \"white\", \"showbackground\": true, \"ticks\": \"\", \"zerolinecolor\": \"white\"}, \"yaxis\": {\"backgroundcolor\": \"#E5ECF6\", \"gridcolor\": \"white\", \"gridwidth\": 2, \"linecolor\": \"white\", \"showbackground\": true, \"ticks\": \"\", \"zerolinecolor\": \"white\"}, \"zaxis\": {\"backgroundcolor\": \"#E5ECF6\", \"gridcolor\": \"white\", \"gridwidth\": 2, \"linecolor\": \"white\", \"showbackground\": true, \"ticks\": \"\", \"zerolinecolor\": \"white\"}}, \"shapedefaults\": {\"line\": {\"color\": \"#2a3f5f\"}}, \"ternary\": {\"aaxis\": {\"gridcolor\": \"white\", \"linecolor\": \"white\", \"ticks\": \"\"}, \"baxis\": {\"gridcolor\": \"white\", \"linecolor\": \"white\", \"ticks\": \"\"}, \"bgcolor\": \"#E5ECF6\", \"caxis\": {\"gridcolor\": \"white\", \"linecolor\": \"white\", \"ticks\": \"\"}}, \"title\": {\"x\": 0.05}, \"xaxis\": {\"automargin\": true, \"gridcolor\": \"white\", \"linecolor\": \"white\", \"ticks\": \"\", \"title\": {\"standoff\": 15}, \"zerolinecolor\": \"white\", \"zerolinewidth\": 2}, \"yaxis\": {\"automargin\": true, \"gridcolor\": \"white\", \"linecolor\": \"white\", \"ticks\": \"\", \"title\": {\"standoff\": 15}, \"zerolinecolor\": \"white\", \"zerolinewidth\": 2}}}, \"title\": {\"text\": \"Colorado All Grades All Formulations Retail Gasoline Prices, Monthly\"}, \"xaxis\": {\"anchor\": \"y\", \"domain\": [0.0, 1.0], \"title\": {\"text\": \"Date\"}}, \"yaxis\": {\"anchor\": \"x\", \"domain\": [0.0, 1.0], \"title\": {\"text\": \"Average Monthly Price ($)\"}}},\n",
       "                        {\"responsive\": true}\n",
       "                    ).then(function(){\n",
       "                            \n",
       "var gd = document.getElementById('970b3f08-baf0-49ce-a61c-4bee8b83219d');\n",
       "var x = new MutationObserver(function (mutations, observer) {{\n",
       "        var display = window.getComputedStyle(gd).display;\n",
       "        if (!display || display === 'none') {{\n",
       "            console.log([gd, 'removed!']);\n",
       "            Plotly.purge(gd);\n",
       "            observer.disconnect();\n",
       "        }}\n",
       "}});\n",
       "\n",
       "// Listen for the removal of the full notebook cells\n",
       "var notebookContainer = gd.closest('#notebook-container');\n",
       "if (notebookContainer) {{\n",
       "    x.observe(notebookContainer, {childList: true});\n",
       "}}\n",
       "\n",
       "// Listen for the clearing of the current output cell\n",
       "var outputEl = gd.closest('.output');\n",
       "if (outputEl) {{\n",
       "    x.observe(outputEl, {childList: true});\n",
       "}}\n",
       "\n",
       "                        })\n",
       "                };\n",
       "                });\n",
       "            </script>\n",
       "        </div>"
      ]
     },
     "metadata": {},
     "output_type": "display_data"
    },
    {
     "data": {
      "application/vnd.plotly.v1+json": {
       "config": {
        "plotlyServerURL": "https://plot.ly"
       },
       "data": [
        {
         "hoverlabel": {
          "namelength": 0
         },
         "hovertemplate": "date=%{x}<br>price=%{y}",
         "legendgroup": "",
         "line": {
          "color": "#636efa",
          "dash": "solid"
         },
         "mode": "lines",
         "name": "",
         "showlegend": false,
         "type": "scatter",
         "x": [
          "2020-02-01T00:00:00",
          "2020-01-01T00:00:00",
          "2019-12-01T00:00:00",
          "2019-11-01T00:00:00",
          "2019-10-01T00:00:00",
          "2019-09-01T00:00:00",
          "2019-08-01T00:00:00",
          "2019-07-01T00:00:00",
          "2019-06-01T00:00:00",
          "2019-05-01T00:00:00",
          "2019-04-01T00:00:00",
          "2019-03-01T00:00:00",
          "2019-02-01T00:00:00",
          "2019-01-01T00:00:00",
          "2018-12-01T00:00:00",
          "2018-11-01T00:00:00",
          "2018-10-01T00:00:00",
          "2018-09-01T00:00:00",
          "2018-08-01T00:00:00",
          "2018-07-01T00:00:00",
          "2018-06-01T00:00:00",
          "2018-05-01T00:00:00",
          "2018-04-01T00:00:00",
          "2018-03-01T00:00:00",
          "2018-02-01T00:00:00",
          "2018-01-01T00:00:00",
          "2017-12-01T00:00:00",
          "2017-11-01T00:00:00",
          "2017-10-01T00:00:00",
          "2017-09-01T00:00:00",
          "2017-08-01T00:00:00",
          "2017-07-01T00:00:00",
          "2017-06-01T00:00:00",
          "2017-05-01T00:00:00",
          "2017-04-01T00:00:00",
          "2017-03-01T00:00:00",
          "2017-02-01T00:00:00",
          "2017-01-01T00:00:00",
          "2016-12-01T00:00:00",
          "2016-11-01T00:00:00",
          "2016-10-01T00:00:00",
          "2016-09-01T00:00:00",
          "2016-08-01T00:00:00",
          "2016-07-01T00:00:00",
          "2016-06-01T00:00:00",
          "2016-05-01T00:00:00",
          "2016-04-01T00:00:00",
          "2016-03-01T00:00:00",
          "2016-02-01T00:00:00",
          "2016-01-01T00:00:00",
          "2015-12-01T00:00:00",
          "2015-11-01T00:00:00",
          "2015-10-01T00:00:00",
          "2015-09-01T00:00:00",
          "2015-08-01T00:00:00",
          "2015-07-01T00:00:00",
          "2015-06-01T00:00:00",
          "2015-05-01T00:00:00",
          "2015-04-01T00:00:00",
          "2015-03-01T00:00:00",
          "2015-02-01T00:00:00",
          "2015-01-01T00:00:00",
          "2014-12-01T00:00:00",
          "2014-11-01T00:00:00",
          "2014-10-01T00:00:00",
          "2014-09-01T00:00:00",
          "2014-08-01T00:00:00",
          "2014-07-01T00:00:00",
          "2014-06-01T00:00:00",
          "2014-05-01T00:00:00",
          "2014-04-01T00:00:00",
          "2014-03-01T00:00:00",
          "2014-02-01T00:00:00",
          "2014-01-01T00:00:00",
          "2013-12-01T00:00:00",
          "2013-11-01T00:00:00",
          "2013-10-01T00:00:00",
          "2013-09-01T00:00:00",
          "2013-08-01T00:00:00",
          "2013-07-01T00:00:00",
          "2013-06-01T00:00:00",
          "2013-05-01T00:00:00",
          "2013-04-01T00:00:00",
          "2013-03-01T00:00:00",
          "2013-02-01T00:00:00",
          "2013-01-01T00:00:00",
          "2012-12-01T00:00:00",
          "2012-11-01T00:00:00",
          "2012-10-01T00:00:00",
          "2012-09-01T00:00:00",
          "2012-08-01T00:00:00",
          "2012-07-01T00:00:00",
          "2012-06-01T00:00:00",
          "2012-05-01T00:00:00",
          "2012-04-01T00:00:00",
          "2012-03-01T00:00:00",
          "2012-02-01T00:00:00",
          "2012-01-01T00:00:00",
          "2011-12-01T00:00:00",
          "2011-11-01T00:00:00",
          "2011-10-01T00:00:00",
          "2011-09-01T00:00:00",
          "2011-08-01T00:00:00",
          "2011-07-01T00:00:00",
          "2011-06-01T00:00:00",
          "2011-05-01T00:00:00",
          "2011-04-01T00:00:00",
          "2011-03-01T00:00:00",
          "2011-02-01T00:00:00",
          "2011-01-01T00:00:00",
          "2010-12-01T00:00:00",
          "2010-11-01T00:00:00",
          "2010-10-01T00:00:00",
          "2010-09-01T00:00:00",
          "2010-08-01T00:00:00",
          "2010-07-01T00:00:00",
          "2010-06-01T00:00:00",
          "2010-05-01T00:00:00",
          "2010-04-01T00:00:00",
          "2010-03-01T00:00:00",
          "2010-02-01T00:00:00",
          "2010-01-01T00:00:00",
          "2009-12-01T00:00:00",
          "2009-11-01T00:00:00",
          "2009-10-01T00:00:00",
          "2009-09-01T00:00:00",
          "2009-08-01T00:00:00",
          "2009-07-01T00:00:00",
          "2009-06-01T00:00:00",
          "2009-05-01T00:00:00",
          "2009-04-01T00:00:00",
          "2009-03-01T00:00:00",
          "2009-02-01T00:00:00",
          "2009-01-01T00:00:00",
          "2008-12-01T00:00:00",
          "2008-11-01T00:00:00",
          "2008-10-01T00:00:00",
          "2008-09-01T00:00:00",
          "2008-08-01T00:00:00",
          "2008-07-01T00:00:00",
          "2008-06-01T00:00:00",
          "2008-05-01T00:00:00",
          "2008-04-01T00:00:00",
          "2008-03-01T00:00:00",
          "2008-02-01T00:00:00",
          "2008-01-01T00:00:00",
          "2007-12-01T00:00:00",
          "2007-11-01T00:00:00",
          "2007-10-01T00:00:00",
          "2007-09-01T00:00:00",
          "2007-08-01T00:00:00",
          "2007-07-01T00:00:00",
          "2007-06-01T00:00:00",
          "2007-05-01T00:00:00",
          "2007-04-01T00:00:00",
          "2007-03-01T00:00:00",
          "2007-02-01T00:00:00",
          "2007-01-01T00:00:00",
          "2006-12-01T00:00:00",
          "2006-11-01T00:00:00",
          "2006-10-01T00:00:00",
          "2006-09-01T00:00:00",
          "2006-08-01T00:00:00",
          "2006-07-01T00:00:00",
          "2006-06-01T00:00:00",
          "2006-05-01T00:00:00",
          "2006-04-01T00:00:00",
          "2006-03-01T00:00:00",
          "2006-02-01T00:00:00",
          "2006-01-01T00:00:00",
          "2005-12-01T00:00:00",
          "2005-11-01T00:00:00",
          "2005-10-01T00:00:00",
          "2005-09-01T00:00:00",
          "2005-08-01T00:00:00",
          "2005-07-01T00:00:00",
          "2005-06-01T00:00:00",
          "2005-05-01T00:00:00",
          "2005-04-01T00:00:00",
          "2005-03-01T00:00:00",
          "2005-02-01T00:00:00",
          "2005-01-01T00:00:00",
          "2004-12-01T00:00:00",
          "2004-11-01T00:00:00",
          "2004-10-01T00:00:00",
          "2004-09-01T00:00:00",
          "2004-08-01T00:00:00",
          "2004-07-01T00:00:00",
          "2004-06-01T00:00:00",
          "2004-05-01T00:00:00",
          "2004-04-01T00:00:00",
          "2004-03-01T00:00:00",
          "2004-02-01T00:00:00",
          "2004-01-01T00:00:00",
          "2003-12-01T00:00:00",
          "2003-11-01T00:00:00",
          "2003-10-01T00:00:00",
          "2003-09-01T00:00:00",
          "2003-08-01T00:00:00",
          "2003-07-01T00:00:00",
          "2003-06-01T00:00:00",
          "2003-05-01T00:00:00"
         ],
         "xaxis": "x",
         "y": [
          2.403,
          2.529,
          2.496,
          2.426,
          2.46,
          2.472,
          2.451,
          2.641,
          2.542,
          2.709,
          2.769,
          2.577,
          2.316,
          2.223,
          2.306,
          2.569,
          2.819,
          2.791,
          2.79,
          2.783,
          2.8,
          2.871,
          2.793,
          2.649,
          2.704,
          2.62,
          2.5,
          2.587,
          2.571,
          2.821,
          2.402,
          2.303,
          2.413,
          2.458,
          2.539,
          2.386,
          2.379,
          2.487,
          2.388,
          2.244,
          2.335,
          2.299,
          2.215,
          2.275,
          2.418,
          2.314,
          2.16,
          2.08,
          1.874,
          2.028,
          2.131,
          2.215,
          2.255,
          2.259,
          2.473,
          2.697,
          2.768,
          2.693,
          2.582,
          2.544,
          2.307,
          2.269,
          2.681,
          2.974,
          3.261,
          3.396,
          3.435,
          3.603,
          3.67,
          3.74,
          3.795,
          3.621,
          3.467,
          3.486,
          3.516,
          3.377,
          3.388,
          3.558,
          3.614,
          3.615,
          3.565,
          3.541,
          3.599,
          3.811,
          3.789,
          3.493,
          3.385,
          3.441,
          3.712,
          3.842,
          3.705,
          3.388,
          3.409,
          3.651,
          3.963,
          3.895,
          3.723,
          3.492,
          3.338,
          3.43,
          3.46,
          3.601,
          3.675,
          3.664,
          3.658,
          3.908,
          3.827,
          3.617,
          3.257,
          3.166,
          3.058,
          2.891,
          2.831,
          2.715,
          2.733,
          2.707,
          2.721,
          2.888,
          2.91,
          2.868,
          2.748,
          2.812,
          2.704,
          2.747,
          2.578,
          2.537,
          2.638,
          2.603,
          2.671,
          2.316,
          2.151,
          2.049,
          2.024,
          1.878,
          1.792,
          2.237,
          3.193,
          3.798,
          3.837,
          4.095,
          4.061,
          3.828,
          3.534,
          3.348,
          3.135,
          3.157,
          3.127,
          3.167,
          2.889,
          2.839,
          2.804,
          2.972,
          3.053,
          3.094,
          2.895,
          2.614,
          2.307,
          2.328,
          2.373,
          2.289,
          2.306,
          2.694,
          3.002,
          2.986,
          2.877,
          2.925,
          2.851,
          2.512,
          2.371,
          2.417,
          2.273,
          2.427,
          2.88,
          2.936,
          2.536,
          2.329,
          2.218,
          2.244,
          2.323,
          2.154,
          1.987,
          1.939,
          1.979,
          2.068,
          2.047,
          1.929,
          1.87,
          1.976,
          2.036,
          2.005,
          1.856,
          1.797,
          1.712,
          1.66,
          1.535,
          1.536,
          1.575,
          1.679,
          1.654,
          1.561,
          1.512,
          null
         ],
         "yaxis": "y"
        }
       ],
       "layout": {
        "legend": {
         "tracegroupgap": 0
        },
        "template": {
         "data": {
          "bar": [
           {
            "error_x": {
             "color": "#2a3f5f"
            },
            "error_y": {
             "color": "#2a3f5f"
            },
            "marker": {
             "line": {
              "color": "#E5ECF6",
              "width": 0.5
             }
            },
            "type": "bar"
           }
          ],
          "barpolar": [
           {
            "marker": {
             "line": {
              "color": "#E5ECF6",
              "width": 0.5
             }
            },
            "type": "barpolar"
           }
          ],
          "carpet": [
           {
            "aaxis": {
             "endlinecolor": "#2a3f5f",
             "gridcolor": "white",
             "linecolor": "white",
             "minorgridcolor": "white",
             "startlinecolor": "#2a3f5f"
            },
            "baxis": {
             "endlinecolor": "#2a3f5f",
             "gridcolor": "white",
             "linecolor": "white",
             "minorgridcolor": "white",
             "startlinecolor": "#2a3f5f"
            },
            "type": "carpet"
           }
          ],
          "choropleth": [
           {
            "colorbar": {
             "outlinewidth": 0,
             "ticks": ""
            },
            "type": "choropleth"
           }
          ],
          "contour": [
           {
            "colorbar": {
             "outlinewidth": 0,
             "ticks": ""
            },
            "colorscale": [
             [
              0,
              "#0d0887"
             ],
             [
              0.1111111111111111,
              "#46039f"
             ],
             [
              0.2222222222222222,
              "#7201a8"
             ],
             [
              0.3333333333333333,
              "#9c179e"
             ],
             [
              0.4444444444444444,
              "#bd3786"
             ],
             [
              0.5555555555555556,
              "#d8576b"
             ],
             [
              0.6666666666666666,
              "#ed7953"
             ],
             [
              0.7777777777777778,
              "#fb9f3a"
             ],
             [
              0.8888888888888888,
              "#fdca26"
             ],
             [
              1,
              "#f0f921"
             ]
            ],
            "type": "contour"
           }
          ],
          "contourcarpet": [
           {
            "colorbar": {
             "outlinewidth": 0,
             "ticks": ""
            },
            "type": "contourcarpet"
           }
          ],
          "heatmap": [
           {
            "colorbar": {
             "outlinewidth": 0,
             "ticks": ""
            },
            "colorscale": [
             [
              0,
              "#0d0887"
             ],
             [
              0.1111111111111111,
              "#46039f"
             ],
             [
              0.2222222222222222,
              "#7201a8"
             ],
             [
              0.3333333333333333,
              "#9c179e"
             ],
             [
              0.4444444444444444,
              "#bd3786"
             ],
             [
              0.5555555555555556,
              "#d8576b"
             ],
             [
              0.6666666666666666,
              "#ed7953"
             ],
             [
              0.7777777777777778,
              "#fb9f3a"
             ],
             [
              0.8888888888888888,
              "#fdca26"
             ],
             [
              1,
              "#f0f921"
             ]
            ],
            "type": "heatmap"
           }
          ],
          "heatmapgl": [
           {
            "colorbar": {
             "outlinewidth": 0,
             "ticks": ""
            },
            "colorscale": [
             [
              0,
              "#0d0887"
             ],
             [
              0.1111111111111111,
              "#46039f"
             ],
             [
              0.2222222222222222,
              "#7201a8"
             ],
             [
              0.3333333333333333,
              "#9c179e"
             ],
             [
              0.4444444444444444,
              "#bd3786"
             ],
             [
              0.5555555555555556,
              "#d8576b"
             ],
             [
              0.6666666666666666,
              "#ed7953"
             ],
             [
              0.7777777777777778,
              "#fb9f3a"
             ],
             [
              0.8888888888888888,
              "#fdca26"
             ],
             [
              1,
              "#f0f921"
             ]
            ],
            "type": "heatmapgl"
           }
          ],
          "histogram": [
           {
            "marker": {
             "colorbar": {
              "outlinewidth": 0,
              "ticks": ""
             }
            },
            "type": "histogram"
           }
          ],
          "histogram2d": [
           {
            "colorbar": {
             "outlinewidth": 0,
             "ticks": ""
            },
            "colorscale": [
             [
              0,
              "#0d0887"
             ],
             [
              0.1111111111111111,
              "#46039f"
             ],
             [
              0.2222222222222222,
              "#7201a8"
             ],
             [
              0.3333333333333333,
              "#9c179e"
             ],
             [
              0.4444444444444444,
              "#bd3786"
             ],
             [
              0.5555555555555556,
              "#d8576b"
             ],
             [
              0.6666666666666666,
              "#ed7953"
             ],
             [
              0.7777777777777778,
              "#fb9f3a"
             ],
             [
              0.8888888888888888,
              "#fdca26"
             ],
             [
              1,
              "#f0f921"
             ]
            ],
            "type": "histogram2d"
           }
          ],
          "histogram2dcontour": [
           {
            "colorbar": {
             "outlinewidth": 0,
             "ticks": ""
            },
            "colorscale": [
             [
              0,
              "#0d0887"
             ],
             [
              0.1111111111111111,
              "#46039f"
             ],
             [
              0.2222222222222222,
              "#7201a8"
             ],
             [
              0.3333333333333333,
              "#9c179e"
             ],
             [
              0.4444444444444444,
              "#bd3786"
             ],
             [
              0.5555555555555556,
              "#d8576b"
             ],
             [
              0.6666666666666666,
              "#ed7953"
             ],
             [
              0.7777777777777778,
              "#fb9f3a"
             ],
             [
              0.8888888888888888,
              "#fdca26"
             ],
             [
              1,
              "#f0f921"
             ]
            ],
            "type": "histogram2dcontour"
           }
          ],
          "mesh3d": [
           {
            "colorbar": {
             "outlinewidth": 0,
             "ticks": ""
            },
            "type": "mesh3d"
           }
          ],
          "parcoords": [
           {
            "line": {
             "colorbar": {
              "outlinewidth": 0,
              "ticks": ""
             }
            },
            "type": "parcoords"
           }
          ],
          "pie": [
           {
            "automargin": true,
            "type": "pie"
           }
          ],
          "scatter": [
           {
            "marker": {
             "colorbar": {
              "outlinewidth": 0,
              "ticks": ""
             }
            },
            "type": "scatter"
           }
          ],
          "scatter3d": [
           {
            "line": {
             "colorbar": {
              "outlinewidth": 0,
              "ticks": ""
             }
            },
            "marker": {
             "colorbar": {
              "outlinewidth": 0,
              "ticks": ""
             }
            },
            "type": "scatter3d"
           }
          ],
          "scattercarpet": [
           {
            "marker": {
             "colorbar": {
              "outlinewidth": 0,
              "ticks": ""
             }
            },
            "type": "scattercarpet"
           }
          ],
          "scattergeo": [
           {
            "marker": {
             "colorbar": {
              "outlinewidth": 0,
              "ticks": ""
             }
            },
            "type": "scattergeo"
           }
          ],
          "scattergl": [
           {
            "marker": {
             "colorbar": {
              "outlinewidth": 0,
              "ticks": ""
             }
            },
            "type": "scattergl"
           }
          ],
          "scattermapbox": [
           {
            "marker": {
             "colorbar": {
              "outlinewidth": 0,
              "ticks": ""
             }
            },
            "type": "scattermapbox"
           }
          ],
          "scatterpolar": [
           {
            "marker": {
             "colorbar": {
              "outlinewidth": 0,
              "ticks": ""
             }
            },
            "type": "scatterpolar"
           }
          ],
          "scatterpolargl": [
           {
            "marker": {
             "colorbar": {
              "outlinewidth": 0,
              "ticks": ""
             }
            },
            "type": "scatterpolargl"
           }
          ],
          "scatterternary": [
           {
            "marker": {
             "colorbar": {
              "outlinewidth": 0,
              "ticks": ""
             }
            },
            "type": "scatterternary"
           }
          ],
          "surface": [
           {
            "colorbar": {
             "outlinewidth": 0,
             "ticks": ""
            },
            "colorscale": [
             [
              0,
              "#0d0887"
             ],
             [
              0.1111111111111111,
              "#46039f"
             ],
             [
              0.2222222222222222,
              "#7201a8"
             ],
             [
              0.3333333333333333,
              "#9c179e"
             ],
             [
              0.4444444444444444,
              "#bd3786"
             ],
             [
              0.5555555555555556,
              "#d8576b"
             ],
             [
              0.6666666666666666,
              "#ed7953"
             ],
             [
              0.7777777777777778,
              "#fb9f3a"
             ],
             [
              0.8888888888888888,
              "#fdca26"
             ],
             [
              1,
              "#f0f921"
             ]
            ],
            "type": "surface"
           }
          ],
          "table": [
           {
            "cells": {
             "fill": {
              "color": "#EBF0F8"
             },
             "line": {
              "color": "white"
             }
            },
            "header": {
             "fill": {
              "color": "#C8D4E3"
             },
             "line": {
              "color": "white"
             }
            },
            "type": "table"
           }
          ]
         },
         "layout": {
          "annotationdefaults": {
           "arrowcolor": "#2a3f5f",
           "arrowhead": 0,
           "arrowwidth": 1
          },
          "coloraxis": {
           "colorbar": {
            "outlinewidth": 0,
            "ticks": ""
           }
          },
          "colorscale": {
           "diverging": [
            [
             0,
             "#8e0152"
            ],
            [
             0.1,
             "#c51b7d"
            ],
            [
             0.2,
             "#de77ae"
            ],
            [
             0.3,
             "#f1b6da"
            ],
            [
             0.4,
             "#fde0ef"
            ],
            [
             0.5,
             "#f7f7f7"
            ],
            [
             0.6,
             "#e6f5d0"
            ],
            [
             0.7,
             "#b8e186"
            ],
            [
             0.8,
             "#7fbc41"
            ],
            [
             0.9,
             "#4d9221"
            ],
            [
             1,
             "#276419"
            ]
           ],
           "sequential": [
            [
             0,
             "#0d0887"
            ],
            [
             0.1111111111111111,
             "#46039f"
            ],
            [
             0.2222222222222222,
             "#7201a8"
            ],
            [
             0.3333333333333333,
             "#9c179e"
            ],
            [
             0.4444444444444444,
             "#bd3786"
            ],
            [
             0.5555555555555556,
             "#d8576b"
            ],
            [
             0.6666666666666666,
             "#ed7953"
            ],
            [
             0.7777777777777778,
             "#fb9f3a"
            ],
            [
             0.8888888888888888,
             "#fdca26"
            ],
            [
             1,
             "#f0f921"
            ]
           ],
           "sequentialminus": [
            [
             0,
             "#0d0887"
            ],
            [
             0.1111111111111111,
             "#46039f"
            ],
            [
             0.2222222222222222,
             "#7201a8"
            ],
            [
             0.3333333333333333,
             "#9c179e"
            ],
            [
             0.4444444444444444,
             "#bd3786"
            ],
            [
             0.5555555555555556,
             "#d8576b"
            ],
            [
             0.6666666666666666,
             "#ed7953"
            ],
            [
             0.7777777777777778,
             "#fb9f3a"
            ],
            [
             0.8888888888888888,
             "#fdca26"
            ],
            [
             1,
             "#f0f921"
            ]
           ]
          },
          "colorway": [
           "#636efa",
           "#EF553B",
           "#00cc96",
           "#ab63fa",
           "#FFA15A",
           "#19d3f3",
           "#FF6692",
           "#B6E880",
           "#FF97FF",
           "#FECB52"
          ],
          "font": {
           "color": "#2a3f5f"
          },
          "geo": {
           "bgcolor": "white",
           "lakecolor": "white",
           "landcolor": "#E5ECF6",
           "showlakes": true,
           "showland": true,
           "subunitcolor": "white"
          },
          "hoverlabel": {
           "align": "left"
          },
          "hovermode": "closest",
          "mapbox": {
           "style": "light"
          },
          "paper_bgcolor": "white",
          "plot_bgcolor": "#E5ECF6",
          "polar": {
           "angularaxis": {
            "gridcolor": "white",
            "linecolor": "white",
            "ticks": ""
           },
           "bgcolor": "#E5ECF6",
           "radialaxis": {
            "gridcolor": "white",
            "linecolor": "white",
            "ticks": ""
           }
          },
          "scene": {
           "xaxis": {
            "backgroundcolor": "#E5ECF6",
            "gridcolor": "white",
            "gridwidth": 2,
            "linecolor": "white",
            "showbackground": true,
            "ticks": "",
            "zerolinecolor": "white"
           },
           "yaxis": {
            "backgroundcolor": "#E5ECF6",
            "gridcolor": "white",
            "gridwidth": 2,
            "linecolor": "white",
            "showbackground": true,
            "ticks": "",
            "zerolinecolor": "white"
           },
           "zaxis": {
            "backgroundcolor": "#E5ECF6",
            "gridcolor": "white",
            "gridwidth": 2,
            "linecolor": "white",
            "showbackground": true,
            "ticks": "",
            "zerolinecolor": "white"
           }
          },
          "shapedefaults": {
           "line": {
            "color": "#2a3f5f"
           }
          },
          "ternary": {
           "aaxis": {
            "gridcolor": "white",
            "linecolor": "white",
            "ticks": ""
           },
           "baxis": {
            "gridcolor": "white",
            "linecolor": "white",
            "ticks": ""
           },
           "bgcolor": "#E5ECF6",
           "caxis": {
            "gridcolor": "white",
            "linecolor": "white",
            "ticks": ""
           }
          },
          "title": {
           "x": 0.05
          },
          "xaxis": {
           "automargin": true,
           "gridcolor": "white",
           "linecolor": "white",
           "ticks": "",
           "title": {
            "standoff": 15
           },
           "zerolinecolor": "white",
           "zerolinewidth": 2
          },
          "yaxis": {
           "automargin": true,
           "gridcolor": "white",
           "linecolor": "white",
           "ticks": "",
           "title": {
            "standoff": 15
           },
           "zerolinecolor": "white",
           "zerolinewidth": 2
          }
         }
        },
        "title": {
         "text": "Florida All Grades All Formulations Retail Gasoline Prices, Monthly"
        },
        "xaxis": {
         "anchor": "y",
         "domain": [
          0,
          1
         ],
         "title": {
          "text": "Date"
         }
        },
        "yaxis": {
         "anchor": "x",
         "domain": [
          0,
          1
         ],
         "title": {
          "text": "Average Monthly Price ($)"
         }
        }
       }
      },
      "text/html": [
       "<div>\n",
       "        \n",
       "        \n",
       "            <div id=\"d314abe9-4374-488f-966b-198003a41022\" class=\"plotly-graph-div\" style=\"height:525px; width:100%;\"></div>\n",
       "            <script type=\"text/javascript\">\n",
       "                require([\"plotly\"], function(Plotly) {\n",
       "                    window.PLOTLYENV=window.PLOTLYENV || {};\n",
       "                    \n",
       "                if (document.getElementById(\"d314abe9-4374-488f-966b-198003a41022\")) {\n",
       "                    Plotly.newPlot(\n",
       "                        'd314abe9-4374-488f-966b-198003a41022',\n",
       "                        [{\"hoverlabel\": {\"namelength\": 0}, \"hovertemplate\": \"date=%{x}<br>price=%{y}\", \"legendgroup\": \"\", \"line\": {\"color\": \"#636efa\", \"dash\": \"solid\"}, \"mode\": \"lines\", \"name\": \"\", \"showlegend\": false, \"type\": \"scatter\", \"x\": [\"2020-02-01T00:00:00\", \"2020-01-01T00:00:00\", \"2019-12-01T00:00:00\", \"2019-11-01T00:00:00\", \"2019-10-01T00:00:00\", \"2019-09-01T00:00:00\", \"2019-08-01T00:00:00\", \"2019-07-01T00:00:00\", \"2019-06-01T00:00:00\", \"2019-05-01T00:00:00\", \"2019-04-01T00:00:00\", \"2019-03-01T00:00:00\", \"2019-02-01T00:00:00\", \"2019-01-01T00:00:00\", \"2018-12-01T00:00:00\", \"2018-11-01T00:00:00\", \"2018-10-01T00:00:00\", \"2018-09-01T00:00:00\", \"2018-08-01T00:00:00\", \"2018-07-01T00:00:00\", \"2018-06-01T00:00:00\", \"2018-05-01T00:00:00\", \"2018-04-01T00:00:00\", \"2018-03-01T00:00:00\", \"2018-02-01T00:00:00\", \"2018-01-01T00:00:00\", \"2017-12-01T00:00:00\", \"2017-11-01T00:00:00\", \"2017-10-01T00:00:00\", \"2017-09-01T00:00:00\", \"2017-08-01T00:00:00\", \"2017-07-01T00:00:00\", \"2017-06-01T00:00:00\", \"2017-05-01T00:00:00\", \"2017-04-01T00:00:00\", \"2017-03-01T00:00:00\", \"2017-02-01T00:00:00\", \"2017-01-01T00:00:00\", \"2016-12-01T00:00:00\", \"2016-11-01T00:00:00\", \"2016-10-01T00:00:00\", \"2016-09-01T00:00:00\", \"2016-08-01T00:00:00\", \"2016-07-01T00:00:00\", \"2016-06-01T00:00:00\", \"2016-05-01T00:00:00\", \"2016-04-01T00:00:00\", \"2016-03-01T00:00:00\", \"2016-02-01T00:00:00\", \"2016-01-01T00:00:00\", \"2015-12-01T00:00:00\", \"2015-11-01T00:00:00\", \"2015-10-01T00:00:00\", \"2015-09-01T00:00:00\", \"2015-08-01T00:00:00\", \"2015-07-01T00:00:00\", \"2015-06-01T00:00:00\", \"2015-05-01T00:00:00\", \"2015-04-01T00:00:00\", \"2015-03-01T00:00:00\", \"2015-02-01T00:00:00\", \"2015-01-01T00:00:00\", \"2014-12-01T00:00:00\", \"2014-11-01T00:00:00\", \"2014-10-01T00:00:00\", \"2014-09-01T00:00:00\", \"2014-08-01T00:00:00\", \"2014-07-01T00:00:00\", \"2014-06-01T00:00:00\", \"2014-05-01T00:00:00\", \"2014-04-01T00:00:00\", \"2014-03-01T00:00:00\", \"2014-02-01T00:00:00\", \"2014-01-01T00:00:00\", \"2013-12-01T00:00:00\", \"2013-11-01T00:00:00\", \"2013-10-01T00:00:00\", \"2013-09-01T00:00:00\", \"2013-08-01T00:00:00\", \"2013-07-01T00:00:00\", \"2013-06-01T00:00:00\", \"2013-05-01T00:00:00\", \"2013-04-01T00:00:00\", \"2013-03-01T00:00:00\", \"2013-02-01T00:00:00\", \"2013-01-01T00:00:00\", \"2012-12-01T00:00:00\", \"2012-11-01T00:00:00\", \"2012-10-01T00:00:00\", \"2012-09-01T00:00:00\", \"2012-08-01T00:00:00\", \"2012-07-01T00:00:00\", \"2012-06-01T00:00:00\", \"2012-05-01T00:00:00\", \"2012-04-01T00:00:00\", \"2012-03-01T00:00:00\", \"2012-02-01T00:00:00\", \"2012-01-01T00:00:00\", \"2011-12-01T00:00:00\", \"2011-11-01T00:00:00\", \"2011-10-01T00:00:00\", \"2011-09-01T00:00:00\", \"2011-08-01T00:00:00\", \"2011-07-01T00:00:00\", \"2011-06-01T00:00:00\", \"2011-05-01T00:00:00\", \"2011-04-01T00:00:00\", \"2011-03-01T00:00:00\", \"2011-02-01T00:00:00\", \"2011-01-01T00:00:00\", \"2010-12-01T00:00:00\", \"2010-11-01T00:00:00\", \"2010-10-01T00:00:00\", \"2010-09-01T00:00:00\", \"2010-08-01T00:00:00\", \"2010-07-01T00:00:00\", \"2010-06-01T00:00:00\", \"2010-05-01T00:00:00\", \"2010-04-01T00:00:00\", \"2010-03-01T00:00:00\", \"2010-02-01T00:00:00\", \"2010-01-01T00:00:00\", \"2009-12-01T00:00:00\", \"2009-11-01T00:00:00\", \"2009-10-01T00:00:00\", \"2009-09-01T00:00:00\", \"2009-08-01T00:00:00\", \"2009-07-01T00:00:00\", \"2009-06-01T00:00:00\", \"2009-05-01T00:00:00\", \"2009-04-01T00:00:00\", \"2009-03-01T00:00:00\", \"2009-02-01T00:00:00\", \"2009-01-01T00:00:00\", \"2008-12-01T00:00:00\", \"2008-11-01T00:00:00\", \"2008-10-01T00:00:00\", \"2008-09-01T00:00:00\", \"2008-08-01T00:00:00\", \"2008-07-01T00:00:00\", \"2008-06-01T00:00:00\", \"2008-05-01T00:00:00\", \"2008-04-01T00:00:00\", \"2008-03-01T00:00:00\", \"2008-02-01T00:00:00\", \"2008-01-01T00:00:00\", \"2007-12-01T00:00:00\", \"2007-11-01T00:00:00\", \"2007-10-01T00:00:00\", \"2007-09-01T00:00:00\", \"2007-08-01T00:00:00\", \"2007-07-01T00:00:00\", \"2007-06-01T00:00:00\", \"2007-05-01T00:00:00\", \"2007-04-01T00:00:00\", \"2007-03-01T00:00:00\", \"2007-02-01T00:00:00\", \"2007-01-01T00:00:00\", \"2006-12-01T00:00:00\", \"2006-11-01T00:00:00\", \"2006-10-01T00:00:00\", \"2006-09-01T00:00:00\", \"2006-08-01T00:00:00\", \"2006-07-01T00:00:00\", \"2006-06-01T00:00:00\", \"2006-05-01T00:00:00\", \"2006-04-01T00:00:00\", \"2006-03-01T00:00:00\", \"2006-02-01T00:00:00\", \"2006-01-01T00:00:00\", \"2005-12-01T00:00:00\", \"2005-11-01T00:00:00\", \"2005-10-01T00:00:00\", \"2005-09-01T00:00:00\", \"2005-08-01T00:00:00\", \"2005-07-01T00:00:00\", \"2005-06-01T00:00:00\", \"2005-05-01T00:00:00\", \"2005-04-01T00:00:00\", \"2005-03-01T00:00:00\", \"2005-02-01T00:00:00\", \"2005-01-01T00:00:00\", \"2004-12-01T00:00:00\", \"2004-11-01T00:00:00\", \"2004-10-01T00:00:00\", \"2004-09-01T00:00:00\", \"2004-08-01T00:00:00\", \"2004-07-01T00:00:00\", \"2004-06-01T00:00:00\", \"2004-05-01T00:00:00\", \"2004-04-01T00:00:00\", \"2004-03-01T00:00:00\", \"2004-02-01T00:00:00\", \"2004-01-01T00:00:00\", \"2003-12-01T00:00:00\", \"2003-11-01T00:00:00\", \"2003-10-01T00:00:00\", \"2003-09-01T00:00:00\", \"2003-08-01T00:00:00\", \"2003-07-01T00:00:00\", \"2003-06-01T00:00:00\", \"2003-05-01T00:00:00\"], \"xaxis\": \"x\", \"y\": [2.403, 2.529, 2.496, 2.426, 2.46, 2.472, 2.451, 2.641, 2.542, 2.709, 2.769, 2.577, 2.316, 2.223, 2.306, 2.569, 2.819, 2.791, 2.79, 2.783, 2.8, 2.871, 2.793, 2.649, 2.704, 2.62, 2.5, 2.587, 2.571, 2.821, 2.402, 2.303, 2.413, 2.458, 2.539, 2.386, 2.379, 2.487, 2.388, 2.244, 2.335, 2.299, 2.215, 2.275, 2.418, 2.314, 2.16, 2.08, 1.874, 2.028, 2.131, 2.215, 2.255, 2.259, 2.473, 2.697, 2.768, 2.693, 2.582, 2.544, 2.307, 2.269, 2.681, 2.974, 3.261, 3.396, 3.435, 3.603, 3.67, 3.74, 3.795, 3.621, 3.467, 3.486, 3.516, 3.377, 3.388, 3.558, 3.614, 3.615, 3.565, 3.541, 3.599, 3.811, 3.789, 3.493, 3.385, 3.441, 3.712, 3.842, 3.705, 3.388, 3.409, 3.651, 3.963, 3.895, 3.723, 3.492, 3.338, 3.43, 3.46, 3.601, 3.675, 3.664, 3.658, 3.908, 3.827, 3.617, 3.257, 3.166, 3.058, 2.891, 2.831, 2.715, 2.733, 2.707, 2.721, 2.888, 2.91, 2.868, 2.748, 2.812, 2.704, 2.747, 2.578, 2.537, 2.638, 2.603, 2.671, 2.316, 2.151, 2.049, 2.024, 1.878, 1.792, 2.237, 3.193, 3.798, 3.837, 4.095, 4.061, 3.828, 3.534, 3.348, 3.135, 3.157, 3.127, 3.167, 2.889, 2.839, 2.804, 2.972, 3.053, 3.094, 2.895, 2.614, 2.307, 2.328, 2.373, 2.289, 2.306, 2.694, 3.002, 2.986, 2.877, 2.925, 2.851, 2.512, 2.371, 2.417, 2.273, 2.427, 2.88, 2.936, 2.536, 2.329, 2.218, 2.244, 2.323, 2.154, 1.987, 1.939, 1.979, 2.068, 2.047, 1.929, 1.87, 1.976, 2.036, 2.005, 1.856, 1.797, 1.712, 1.66, 1.535, 1.536, 1.575, 1.679, 1.654, 1.561, 1.512, null], \"yaxis\": \"y\"}],\n",
       "                        {\"legend\": {\"tracegroupgap\": 0}, \"template\": {\"data\": {\"bar\": [{\"error_x\": {\"color\": \"#2a3f5f\"}, \"error_y\": {\"color\": \"#2a3f5f\"}, \"marker\": {\"line\": {\"color\": \"#E5ECF6\", \"width\": 0.5}}, \"type\": \"bar\"}], \"barpolar\": [{\"marker\": {\"line\": {\"color\": \"#E5ECF6\", \"width\": 0.5}}, \"type\": \"barpolar\"}], \"carpet\": [{\"aaxis\": {\"endlinecolor\": \"#2a3f5f\", \"gridcolor\": \"white\", \"linecolor\": \"white\", \"minorgridcolor\": \"white\", \"startlinecolor\": \"#2a3f5f\"}, \"baxis\": {\"endlinecolor\": \"#2a3f5f\", \"gridcolor\": \"white\", \"linecolor\": \"white\", \"minorgridcolor\": \"white\", \"startlinecolor\": \"#2a3f5f\"}, \"type\": \"carpet\"}], \"choropleth\": [{\"colorbar\": {\"outlinewidth\": 0, \"ticks\": \"\"}, \"type\": \"choropleth\"}], \"contour\": [{\"colorbar\": {\"outlinewidth\": 0, \"ticks\": \"\"}, \"colorscale\": [[0.0, \"#0d0887\"], [0.1111111111111111, \"#46039f\"], [0.2222222222222222, \"#7201a8\"], [0.3333333333333333, \"#9c179e\"], [0.4444444444444444, \"#bd3786\"], [0.5555555555555556, \"#d8576b\"], [0.6666666666666666, \"#ed7953\"], [0.7777777777777778, \"#fb9f3a\"], [0.8888888888888888, \"#fdca26\"], [1.0, \"#f0f921\"]], \"type\": \"contour\"}], \"contourcarpet\": [{\"colorbar\": {\"outlinewidth\": 0, \"ticks\": \"\"}, \"type\": \"contourcarpet\"}], \"heatmap\": [{\"colorbar\": {\"outlinewidth\": 0, \"ticks\": \"\"}, \"colorscale\": [[0.0, \"#0d0887\"], [0.1111111111111111, \"#46039f\"], [0.2222222222222222, \"#7201a8\"], [0.3333333333333333, \"#9c179e\"], [0.4444444444444444, \"#bd3786\"], [0.5555555555555556, \"#d8576b\"], [0.6666666666666666, \"#ed7953\"], [0.7777777777777778, \"#fb9f3a\"], [0.8888888888888888, \"#fdca26\"], [1.0, \"#f0f921\"]], \"type\": \"heatmap\"}], \"heatmapgl\": [{\"colorbar\": {\"outlinewidth\": 0, \"ticks\": \"\"}, \"colorscale\": [[0.0, \"#0d0887\"], [0.1111111111111111, \"#46039f\"], [0.2222222222222222, \"#7201a8\"], [0.3333333333333333, \"#9c179e\"], [0.4444444444444444, \"#bd3786\"], [0.5555555555555556, \"#d8576b\"], [0.6666666666666666, \"#ed7953\"], [0.7777777777777778, \"#fb9f3a\"], [0.8888888888888888, \"#fdca26\"], [1.0, \"#f0f921\"]], \"type\": \"heatmapgl\"}], \"histogram\": [{\"marker\": {\"colorbar\": {\"outlinewidth\": 0, \"ticks\": \"\"}}, \"type\": \"histogram\"}], \"histogram2d\": [{\"colorbar\": {\"outlinewidth\": 0, \"ticks\": \"\"}, \"colorscale\": [[0.0, \"#0d0887\"], [0.1111111111111111, \"#46039f\"], [0.2222222222222222, \"#7201a8\"], [0.3333333333333333, \"#9c179e\"], [0.4444444444444444, \"#bd3786\"], [0.5555555555555556, \"#d8576b\"], [0.6666666666666666, \"#ed7953\"], [0.7777777777777778, \"#fb9f3a\"], [0.8888888888888888, \"#fdca26\"], [1.0, \"#f0f921\"]], \"type\": \"histogram2d\"}], \"histogram2dcontour\": [{\"colorbar\": {\"outlinewidth\": 0, \"ticks\": \"\"}, \"colorscale\": [[0.0, \"#0d0887\"], [0.1111111111111111, \"#46039f\"], [0.2222222222222222, \"#7201a8\"], [0.3333333333333333, \"#9c179e\"], [0.4444444444444444, \"#bd3786\"], [0.5555555555555556, \"#d8576b\"], [0.6666666666666666, \"#ed7953\"], [0.7777777777777778, \"#fb9f3a\"], [0.8888888888888888, \"#fdca26\"], [1.0, \"#f0f921\"]], \"type\": \"histogram2dcontour\"}], \"mesh3d\": [{\"colorbar\": {\"outlinewidth\": 0, \"ticks\": \"\"}, \"type\": \"mesh3d\"}], \"parcoords\": [{\"line\": {\"colorbar\": {\"outlinewidth\": 0, \"ticks\": \"\"}}, \"type\": \"parcoords\"}], \"pie\": [{\"automargin\": true, \"type\": \"pie\"}], \"scatter\": [{\"marker\": {\"colorbar\": {\"outlinewidth\": 0, \"ticks\": \"\"}}, \"type\": \"scatter\"}], \"scatter3d\": [{\"line\": {\"colorbar\": {\"outlinewidth\": 0, \"ticks\": \"\"}}, \"marker\": {\"colorbar\": {\"outlinewidth\": 0, \"ticks\": \"\"}}, \"type\": \"scatter3d\"}], \"scattercarpet\": [{\"marker\": {\"colorbar\": {\"outlinewidth\": 0, \"ticks\": \"\"}}, \"type\": \"scattercarpet\"}], \"scattergeo\": [{\"marker\": {\"colorbar\": {\"outlinewidth\": 0, \"ticks\": \"\"}}, \"type\": \"scattergeo\"}], \"scattergl\": [{\"marker\": {\"colorbar\": {\"outlinewidth\": 0, \"ticks\": \"\"}}, \"type\": \"scattergl\"}], \"scattermapbox\": [{\"marker\": {\"colorbar\": {\"outlinewidth\": 0, \"ticks\": \"\"}}, \"type\": \"scattermapbox\"}], \"scatterpolar\": [{\"marker\": {\"colorbar\": {\"outlinewidth\": 0, \"ticks\": \"\"}}, \"type\": \"scatterpolar\"}], \"scatterpolargl\": [{\"marker\": {\"colorbar\": {\"outlinewidth\": 0, \"ticks\": \"\"}}, \"type\": \"scatterpolargl\"}], \"scatterternary\": [{\"marker\": {\"colorbar\": {\"outlinewidth\": 0, \"ticks\": \"\"}}, \"type\": \"scatterternary\"}], \"surface\": [{\"colorbar\": {\"outlinewidth\": 0, \"ticks\": \"\"}, \"colorscale\": [[0.0, \"#0d0887\"], [0.1111111111111111, \"#46039f\"], [0.2222222222222222, \"#7201a8\"], [0.3333333333333333, \"#9c179e\"], [0.4444444444444444, \"#bd3786\"], [0.5555555555555556, \"#d8576b\"], [0.6666666666666666, \"#ed7953\"], [0.7777777777777778, \"#fb9f3a\"], [0.8888888888888888, \"#fdca26\"], [1.0, \"#f0f921\"]], \"type\": \"surface\"}], \"table\": [{\"cells\": {\"fill\": {\"color\": \"#EBF0F8\"}, \"line\": {\"color\": \"white\"}}, \"header\": {\"fill\": {\"color\": \"#C8D4E3\"}, \"line\": {\"color\": \"white\"}}, \"type\": \"table\"}]}, \"layout\": {\"annotationdefaults\": {\"arrowcolor\": \"#2a3f5f\", \"arrowhead\": 0, \"arrowwidth\": 1}, \"coloraxis\": {\"colorbar\": {\"outlinewidth\": 0, \"ticks\": \"\"}}, \"colorscale\": {\"diverging\": [[0, \"#8e0152\"], [0.1, \"#c51b7d\"], [0.2, \"#de77ae\"], [0.3, \"#f1b6da\"], [0.4, \"#fde0ef\"], [0.5, \"#f7f7f7\"], [0.6, \"#e6f5d0\"], [0.7, \"#b8e186\"], [0.8, \"#7fbc41\"], [0.9, \"#4d9221\"], [1, \"#276419\"]], \"sequential\": [[0.0, \"#0d0887\"], [0.1111111111111111, \"#46039f\"], [0.2222222222222222, \"#7201a8\"], [0.3333333333333333, \"#9c179e\"], [0.4444444444444444, \"#bd3786\"], [0.5555555555555556, \"#d8576b\"], [0.6666666666666666, \"#ed7953\"], [0.7777777777777778, \"#fb9f3a\"], [0.8888888888888888, \"#fdca26\"], [1.0, \"#f0f921\"]], \"sequentialminus\": [[0.0, \"#0d0887\"], [0.1111111111111111, \"#46039f\"], [0.2222222222222222, \"#7201a8\"], [0.3333333333333333, \"#9c179e\"], [0.4444444444444444, \"#bd3786\"], [0.5555555555555556, \"#d8576b\"], [0.6666666666666666, \"#ed7953\"], [0.7777777777777778, \"#fb9f3a\"], [0.8888888888888888, \"#fdca26\"], [1.0, \"#f0f921\"]]}, \"colorway\": [\"#636efa\", \"#EF553B\", \"#00cc96\", \"#ab63fa\", \"#FFA15A\", \"#19d3f3\", \"#FF6692\", \"#B6E880\", \"#FF97FF\", \"#FECB52\"], \"font\": {\"color\": \"#2a3f5f\"}, \"geo\": {\"bgcolor\": \"white\", \"lakecolor\": \"white\", \"landcolor\": \"#E5ECF6\", \"showlakes\": true, \"showland\": true, \"subunitcolor\": \"white\"}, \"hoverlabel\": {\"align\": \"left\"}, \"hovermode\": \"closest\", \"mapbox\": {\"style\": \"light\"}, \"paper_bgcolor\": \"white\", \"plot_bgcolor\": \"#E5ECF6\", \"polar\": {\"angularaxis\": {\"gridcolor\": \"white\", \"linecolor\": \"white\", \"ticks\": \"\"}, \"bgcolor\": \"#E5ECF6\", \"radialaxis\": {\"gridcolor\": \"white\", \"linecolor\": \"white\", \"ticks\": \"\"}}, \"scene\": {\"xaxis\": {\"backgroundcolor\": \"#E5ECF6\", \"gridcolor\": \"white\", \"gridwidth\": 2, \"linecolor\": \"white\", \"showbackground\": true, \"ticks\": \"\", \"zerolinecolor\": \"white\"}, \"yaxis\": {\"backgroundcolor\": \"#E5ECF6\", \"gridcolor\": \"white\", \"gridwidth\": 2, \"linecolor\": \"white\", \"showbackground\": true, \"ticks\": \"\", \"zerolinecolor\": \"white\"}, \"zaxis\": {\"backgroundcolor\": \"#E5ECF6\", \"gridcolor\": \"white\", \"gridwidth\": 2, \"linecolor\": \"white\", \"showbackground\": true, \"ticks\": \"\", \"zerolinecolor\": \"white\"}}, \"shapedefaults\": {\"line\": {\"color\": \"#2a3f5f\"}}, \"ternary\": {\"aaxis\": {\"gridcolor\": \"white\", \"linecolor\": \"white\", \"ticks\": \"\"}, \"baxis\": {\"gridcolor\": \"white\", \"linecolor\": \"white\", \"ticks\": \"\"}, \"bgcolor\": \"#E5ECF6\", \"caxis\": {\"gridcolor\": \"white\", \"linecolor\": \"white\", \"ticks\": \"\"}}, \"title\": {\"x\": 0.05}, \"xaxis\": {\"automargin\": true, \"gridcolor\": \"white\", \"linecolor\": \"white\", \"ticks\": \"\", \"title\": {\"standoff\": 15}, \"zerolinecolor\": \"white\", \"zerolinewidth\": 2}, \"yaxis\": {\"automargin\": true, \"gridcolor\": \"white\", \"linecolor\": \"white\", \"ticks\": \"\", \"title\": {\"standoff\": 15}, \"zerolinecolor\": \"white\", \"zerolinewidth\": 2}}}, \"title\": {\"text\": \"Florida All Grades All Formulations Retail Gasoline Prices, Monthly\"}, \"xaxis\": {\"anchor\": \"y\", \"domain\": [0.0, 1.0], \"title\": {\"text\": \"Date\"}}, \"yaxis\": {\"anchor\": \"x\", \"domain\": [0.0, 1.0], \"title\": {\"text\": \"Average Monthly Price ($)\"}}},\n",
       "                        {\"responsive\": true}\n",
       "                    ).then(function(){\n",
       "                            \n",
       "var gd = document.getElementById('d314abe9-4374-488f-966b-198003a41022');\n",
       "var x = new MutationObserver(function (mutations, observer) {{\n",
       "        var display = window.getComputedStyle(gd).display;\n",
       "        if (!display || display === 'none') {{\n",
       "            console.log([gd, 'removed!']);\n",
       "            Plotly.purge(gd);\n",
       "            observer.disconnect();\n",
       "        }}\n",
       "}});\n",
       "\n",
       "// Listen for the removal of the full notebook cells\n",
       "var notebookContainer = gd.closest('#notebook-container');\n",
       "if (notebookContainer) {{\n",
       "    x.observe(notebookContainer, {childList: true});\n",
       "}}\n",
       "\n",
       "// Listen for the clearing of the current output cell\n",
       "var outputEl = gd.closest('.output');\n",
       "if (outputEl) {{\n",
       "    x.observe(outputEl, {childList: true});\n",
       "}}\n",
       "\n",
       "                        })\n",
       "                };\n",
       "                });\n",
       "            </script>\n",
       "        </div>"
      ]
     },
     "metadata": {},
     "output_type": "display_data"
    },
    {
     "data": {
      "application/vnd.plotly.v1+json": {
       "config": {
        "plotlyServerURL": "https://plot.ly"
       },
       "data": [
        {
         "hoverlabel": {
          "namelength": 0
         },
         "hovertemplate": "date=%{x}<br>price=%{y}",
         "legendgroup": "",
         "line": {
          "color": "#636efa",
          "dash": "solid"
         },
         "mode": "lines",
         "name": "",
         "showlegend": false,
         "type": "scatter",
         "x": [
          "2020-02-01T00:00:00",
          "2020-01-01T00:00:00",
          "2019-12-01T00:00:00",
          "2019-11-01T00:00:00",
          "2019-10-01T00:00:00",
          "2019-09-01T00:00:00",
          "2019-08-01T00:00:00",
          "2019-07-01T00:00:00",
          "2019-06-01T00:00:00",
          "2019-05-01T00:00:00",
          "2019-04-01T00:00:00",
          "2019-03-01T00:00:00",
          "2019-02-01T00:00:00",
          "2019-01-01T00:00:00",
          "2018-12-01T00:00:00",
          "2018-11-01T00:00:00",
          "2018-10-01T00:00:00",
          "2018-09-01T00:00:00",
          "2018-08-01T00:00:00",
          "2018-07-01T00:00:00",
          "2018-06-01T00:00:00",
          "2018-05-01T00:00:00",
          "2018-04-01T00:00:00",
          "2018-03-01T00:00:00",
          "2018-02-01T00:00:00",
          "2018-01-01T00:00:00",
          "2017-12-01T00:00:00",
          "2017-11-01T00:00:00",
          "2017-10-01T00:00:00",
          "2017-09-01T00:00:00",
          "2017-08-01T00:00:00",
          "2017-07-01T00:00:00",
          "2017-06-01T00:00:00",
          "2017-05-01T00:00:00",
          "2017-04-01T00:00:00",
          "2017-03-01T00:00:00",
          "2017-02-01T00:00:00",
          "2017-01-01T00:00:00",
          "2016-12-01T00:00:00",
          "2016-11-01T00:00:00",
          "2016-10-01T00:00:00",
          "2016-09-01T00:00:00",
          "2016-08-01T00:00:00",
          "2016-07-01T00:00:00",
          "2016-06-01T00:00:00",
          "2016-05-01T00:00:00",
          "2016-04-01T00:00:00",
          "2016-03-01T00:00:00",
          "2016-02-01T00:00:00",
          "2016-01-01T00:00:00",
          "2015-12-01T00:00:00",
          "2015-11-01T00:00:00",
          "2015-10-01T00:00:00",
          "2015-09-01T00:00:00",
          "2015-08-01T00:00:00",
          "2015-07-01T00:00:00",
          "2015-06-01T00:00:00",
          "2015-05-01T00:00:00",
          "2015-04-01T00:00:00",
          "2015-03-01T00:00:00",
          "2015-02-01T00:00:00",
          "2015-01-01T00:00:00",
          "2014-12-01T00:00:00",
          "2014-11-01T00:00:00",
          "2014-10-01T00:00:00",
          "2014-09-01T00:00:00",
          "2014-08-01T00:00:00",
          "2014-07-01T00:00:00",
          "2014-06-01T00:00:00",
          "2014-05-01T00:00:00",
          "2014-04-01T00:00:00",
          "2014-03-01T00:00:00",
          "2014-02-01T00:00:00",
          "2014-01-01T00:00:00",
          "2013-12-01T00:00:00",
          "2013-11-01T00:00:00",
          "2013-10-01T00:00:00",
          "2013-09-01T00:00:00",
          "2013-08-01T00:00:00",
          "2013-07-01T00:00:00",
          "2013-06-01T00:00:00",
          "2013-05-01T00:00:00",
          "2013-04-01T00:00:00",
          "2013-03-01T00:00:00",
          "2013-02-01T00:00:00",
          "2013-01-01T00:00:00",
          "2012-12-01T00:00:00",
          "2012-11-01T00:00:00",
          "2012-10-01T00:00:00",
          "2012-09-01T00:00:00",
          "2012-08-01T00:00:00",
          "2012-07-01T00:00:00",
          "2012-06-01T00:00:00",
          "2012-05-01T00:00:00",
          "2012-04-01T00:00:00",
          "2012-03-01T00:00:00",
          "2012-02-01T00:00:00",
          "2012-01-01T00:00:00",
          "2011-12-01T00:00:00",
          "2011-11-01T00:00:00",
          "2011-10-01T00:00:00",
          "2011-09-01T00:00:00",
          "2011-08-01T00:00:00",
          "2011-07-01T00:00:00",
          "2011-06-01T00:00:00",
          "2011-05-01T00:00:00",
          "2011-04-01T00:00:00",
          "2011-03-01T00:00:00",
          "2011-02-01T00:00:00",
          "2011-01-01T00:00:00",
          "2010-12-01T00:00:00",
          "2010-11-01T00:00:00",
          "2010-10-01T00:00:00",
          "2010-09-01T00:00:00",
          "2010-08-01T00:00:00",
          "2010-07-01T00:00:00",
          "2010-06-01T00:00:00",
          "2010-05-01T00:00:00",
          "2010-04-01T00:00:00",
          "2010-03-01T00:00:00",
          "2010-02-01T00:00:00",
          "2010-01-01T00:00:00",
          "2009-12-01T00:00:00",
          "2009-11-01T00:00:00",
          "2009-10-01T00:00:00",
          "2009-09-01T00:00:00",
          "2009-08-01T00:00:00",
          "2009-07-01T00:00:00",
          "2009-06-01T00:00:00",
          "2009-05-01T00:00:00",
          "2009-04-01T00:00:00",
          "2009-03-01T00:00:00",
          "2009-02-01T00:00:00",
          "2009-01-01T00:00:00",
          "2008-12-01T00:00:00",
          "2008-11-01T00:00:00",
          "2008-10-01T00:00:00",
          "2008-09-01T00:00:00",
          "2008-08-01T00:00:00",
          "2008-07-01T00:00:00",
          "2008-06-01T00:00:00",
          "2008-05-01T00:00:00",
          "2008-04-01T00:00:00",
          "2008-03-01T00:00:00",
          "2008-02-01T00:00:00",
          "2008-01-01T00:00:00",
          "2007-12-01T00:00:00",
          "2007-11-01T00:00:00",
          "2007-10-01T00:00:00",
          "2007-09-01T00:00:00",
          "2007-08-01T00:00:00",
          "2007-07-01T00:00:00",
          "2007-06-01T00:00:00",
          "2007-05-01T00:00:00",
          "2007-04-01T00:00:00",
          "2007-03-01T00:00:00",
          "2007-02-01T00:00:00",
          "2007-01-01T00:00:00",
          "2006-12-01T00:00:00",
          "2006-11-01T00:00:00",
          "2006-10-01T00:00:00",
          "2006-09-01T00:00:00",
          "2006-08-01T00:00:00",
          "2006-07-01T00:00:00",
          "2006-06-01T00:00:00",
          "2006-05-01T00:00:00",
          "2006-04-01T00:00:00",
          "2006-03-01T00:00:00",
          "2006-02-01T00:00:00",
          "2006-01-01T00:00:00",
          "2005-12-01T00:00:00",
          "2005-11-01T00:00:00",
          "2005-10-01T00:00:00",
          "2005-09-01T00:00:00",
          "2005-08-01T00:00:00",
          "2005-07-01T00:00:00",
          "2005-06-01T00:00:00",
          "2005-05-01T00:00:00",
          "2005-04-01T00:00:00",
          "2005-03-01T00:00:00",
          "2005-02-01T00:00:00",
          "2005-01-01T00:00:00",
          "2004-12-01T00:00:00",
          "2004-11-01T00:00:00",
          "2004-10-01T00:00:00",
          "2004-09-01T00:00:00",
          "2004-08-01T00:00:00",
          "2004-07-01T00:00:00",
          "2004-06-01T00:00:00",
          "2004-05-01T00:00:00",
          "2004-04-01T00:00:00",
          "2004-03-01T00:00:00",
          "2004-02-01T00:00:00",
          "2004-01-01T00:00:00",
          "2003-12-01T00:00:00",
          "2003-11-01T00:00:00",
          "2003-10-01T00:00:00",
          "2003-09-01T00:00:00",
          "2003-08-01T00:00:00",
          "2003-07-01T00:00:00",
          "2003-06-01T00:00:00",
          "2003-05-01T00:00:00"
         ],
         "xaxis": "x",
         "y": [
          2.584,
          2.648,
          2.627,
          2.631,
          2.638,
          2.661,
          2.746,
          2.779,
          2.791,
          2.894,
          2.725,
          2.516,
          2.433,
          2.499,
          2.649,
          2.8,
          2.907,
          2.923,
          2.941,
          2.952,
          2.976,
          2.954,
          2.786,
          2.664,
          2.707,
          2.662,
          2.651,
          2.696,
          2.722,
          2.833,
          2.454,
          2.388,
          2.433,
          2.477,
          2.414,
          2.334,
          2.35,
          2.401,
          2.33,
          2.284,
          2.309,
          2.256,
          2.228,
          2.342,
          2.415,
          2.35,
          2.175,
          1.994,
          1.925,
          2.063,
          2.168,
          2.224,
          2.262,
          2.388,
          2.614,
          2.805,
          2.804,
          2.704,
          2.468,
          2.44,
          2.255,
          2.347,
          2.787,
          3.062,
          3.345,
          3.534,
          3.606,
          3.746,
          3.745,
          3.737,
          3.662,
          3.586,
          3.488,
          3.527,
          3.52,
          3.419,
          3.518,
          3.703,
          3.761,
          3.692,
          3.598,
          3.56,
          3.603,
          3.755,
          3.755,
          3.512,
          3.533,
          3.703,
          3.911,
          3.929,
          3.783,
          3.564,
          3.59,
          3.8,
          3.925,
          3.802,
          3.651,
          3.462,
          3.352,
          3.465,
          3.525,
          3.687,
          3.771,
          3.788,
          3.804,
          3.982,
          3.768,
          3.537,
          3.237,
          3.166,
          3.081,
          2.956,
          2.812,
          2.649,
          2.721,
          2.738,
          2.758,
          2.882,
          2.821,
          2.739,
          2.705,
          2.74,
          2.645,
          2.672,
          2.549,
          2.613,
          2.642,
          2.566,
          2.618,
          2.267,
          2.036,
          1.944,
          1.915,
          1.765,
          1.742,
          2.196,
          3.004,
          3.584,
          3.768,
          4.083,
          4.07,
          3.778,
          3.371,
          3.15,
          3.032,
          3.083,
          3.069,
          3.031,
          2.733,
          2.701,
          2.792,
          2.952,
          3.036,
          3.046,
          2.791,
          2.554,
          2.261,
          2.316,
          2.35,
          2.224,
          2.26,
          2.663,
          3.041,
          3.068,
          3.029,
          2.993,
          2.728,
          2.366,
          2.305,
          2.382,
          2.189,
          2.231,
          2.726,
          3.093,
          2.559,
          2.399,
          2.211,
          2.207,
          2.203,
          2.038,
          1.935,
          1.875,
          1.928,
          2.037,
          2.028,
          1.923,
          1.95,
          1.991,
          2.112,
          2.02,
          1.78,
          1.753,
          1.697,
          1.624,
          1.554,
          1.606,
          1.724,
          1.821,
          1.656,
          1.553,
          1.534,
          null
         ],
         "yaxis": "y"
        }
       ],
       "layout": {
        "legend": {
         "tracegroupgap": 0
        },
        "template": {
         "data": {
          "bar": [
           {
            "error_x": {
             "color": "#2a3f5f"
            },
            "error_y": {
             "color": "#2a3f5f"
            },
            "marker": {
             "line": {
              "color": "#E5ECF6",
              "width": 0.5
             }
            },
            "type": "bar"
           }
          ],
          "barpolar": [
           {
            "marker": {
             "line": {
              "color": "#E5ECF6",
              "width": 0.5
             }
            },
            "type": "barpolar"
           }
          ],
          "carpet": [
           {
            "aaxis": {
             "endlinecolor": "#2a3f5f",
             "gridcolor": "white",
             "linecolor": "white",
             "minorgridcolor": "white",
             "startlinecolor": "#2a3f5f"
            },
            "baxis": {
             "endlinecolor": "#2a3f5f",
             "gridcolor": "white",
             "linecolor": "white",
             "minorgridcolor": "white",
             "startlinecolor": "#2a3f5f"
            },
            "type": "carpet"
           }
          ],
          "choropleth": [
           {
            "colorbar": {
             "outlinewidth": 0,
             "ticks": ""
            },
            "type": "choropleth"
           }
          ],
          "contour": [
           {
            "colorbar": {
             "outlinewidth": 0,
             "ticks": ""
            },
            "colorscale": [
             [
              0,
              "#0d0887"
             ],
             [
              0.1111111111111111,
              "#46039f"
             ],
             [
              0.2222222222222222,
              "#7201a8"
             ],
             [
              0.3333333333333333,
              "#9c179e"
             ],
             [
              0.4444444444444444,
              "#bd3786"
             ],
             [
              0.5555555555555556,
              "#d8576b"
             ],
             [
              0.6666666666666666,
              "#ed7953"
             ],
             [
              0.7777777777777778,
              "#fb9f3a"
             ],
             [
              0.8888888888888888,
              "#fdca26"
             ],
             [
              1,
              "#f0f921"
             ]
            ],
            "type": "contour"
           }
          ],
          "contourcarpet": [
           {
            "colorbar": {
             "outlinewidth": 0,
             "ticks": ""
            },
            "type": "contourcarpet"
           }
          ],
          "heatmap": [
           {
            "colorbar": {
             "outlinewidth": 0,
             "ticks": ""
            },
            "colorscale": [
             [
              0,
              "#0d0887"
             ],
             [
              0.1111111111111111,
              "#46039f"
             ],
             [
              0.2222222222222222,
              "#7201a8"
             ],
             [
              0.3333333333333333,
              "#9c179e"
             ],
             [
              0.4444444444444444,
              "#bd3786"
             ],
             [
              0.5555555555555556,
              "#d8576b"
             ],
             [
              0.6666666666666666,
              "#ed7953"
             ],
             [
              0.7777777777777778,
              "#fb9f3a"
             ],
             [
              0.8888888888888888,
              "#fdca26"
             ],
             [
              1,
              "#f0f921"
             ]
            ],
            "type": "heatmap"
           }
          ],
          "heatmapgl": [
           {
            "colorbar": {
             "outlinewidth": 0,
             "ticks": ""
            },
            "colorscale": [
             [
              0,
              "#0d0887"
             ],
             [
              0.1111111111111111,
              "#46039f"
             ],
             [
              0.2222222222222222,
              "#7201a8"
             ],
             [
              0.3333333333333333,
              "#9c179e"
             ],
             [
              0.4444444444444444,
              "#bd3786"
             ],
             [
              0.5555555555555556,
              "#d8576b"
             ],
             [
              0.6666666666666666,
              "#ed7953"
             ],
             [
              0.7777777777777778,
              "#fb9f3a"
             ],
             [
              0.8888888888888888,
              "#fdca26"
             ],
             [
              1,
              "#f0f921"
             ]
            ],
            "type": "heatmapgl"
           }
          ],
          "histogram": [
           {
            "marker": {
             "colorbar": {
              "outlinewidth": 0,
              "ticks": ""
             }
            },
            "type": "histogram"
           }
          ],
          "histogram2d": [
           {
            "colorbar": {
             "outlinewidth": 0,
             "ticks": ""
            },
            "colorscale": [
             [
              0,
              "#0d0887"
             ],
             [
              0.1111111111111111,
              "#46039f"
             ],
             [
              0.2222222222222222,
              "#7201a8"
             ],
             [
              0.3333333333333333,
              "#9c179e"
             ],
             [
              0.4444444444444444,
              "#bd3786"
             ],
             [
              0.5555555555555556,
              "#d8576b"
             ],
             [
              0.6666666666666666,
              "#ed7953"
             ],
             [
              0.7777777777777778,
              "#fb9f3a"
             ],
             [
              0.8888888888888888,
              "#fdca26"
             ],
             [
              1,
              "#f0f921"
             ]
            ],
            "type": "histogram2d"
           }
          ],
          "histogram2dcontour": [
           {
            "colorbar": {
             "outlinewidth": 0,
             "ticks": ""
            },
            "colorscale": [
             [
              0,
              "#0d0887"
             ],
             [
              0.1111111111111111,
              "#46039f"
             ],
             [
              0.2222222222222222,
              "#7201a8"
             ],
             [
              0.3333333333333333,
              "#9c179e"
             ],
             [
              0.4444444444444444,
              "#bd3786"
             ],
             [
              0.5555555555555556,
              "#d8576b"
             ],
             [
              0.6666666666666666,
              "#ed7953"
             ],
             [
              0.7777777777777778,
              "#fb9f3a"
             ],
             [
              0.8888888888888888,
              "#fdca26"
             ],
             [
              1,
              "#f0f921"
             ]
            ],
            "type": "histogram2dcontour"
           }
          ],
          "mesh3d": [
           {
            "colorbar": {
             "outlinewidth": 0,
             "ticks": ""
            },
            "type": "mesh3d"
           }
          ],
          "parcoords": [
           {
            "line": {
             "colorbar": {
              "outlinewidth": 0,
              "ticks": ""
             }
            },
            "type": "parcoords"
           }
          ],
          "pie": [
           {
            "automargin": true,
            "type": "pie"
           }
          ],
          "scatter": [
           {
            "marker": {
             "colorbar": {
              "outlinewidth": 0,
              "ticks": ""
             }
            },
            "type": "scatter"
           }
          ],
          "scatter3d": [
           {
            "line": {
             "colorbar": {
              "outlinewidth": 0,
              "ticks": ""
             }
            },
            "marker": {
             "colorbar": {
              "outlinewidth": 0,
              "ticks": ""
             }
            },
            "type": "scatter3d"
           }
          ],
          "scattercarpet": [
           {
            "marker": {
             "colorbar": {
              "outlinewidth": 0,
              "ticks": ""
             }
            },
            "type": "scattercarpet"
           }
          ],
          "scattergeo": [
           {
            "marker": {
             "colorbar": {
              "outlinewidth": 0,
              "ticks": ""
             }
            },
            "type": "scattergeo"
           }
          ],
          "scattergl": [
           {
            "marker": {
             "colorbar": {
              "outlinewidth": 0,
              "ticks": ""
             }
            },
            "type": "scattergl"
           }
          ],
          "scattermapbox": [
           {
            "marker": {
             "colorbar": {
              "outlinewidth": 0,
              "ticks": ""
             }
            },
            "type": "scattermapbox"
           }
          ],
          "scatterpolar": [
           {
            "marker": {
             "colorbar": {
              "outlinewidth": 0,
              "ticks": ""
             }
            },
            "type": "scatterpolar"
           }
          ],
          "scatterpolargl": [
           {
            "marker": {
             "colorbar": {
              "outlinewidth": 0,
              "ticks": ""
             }
            },
            "type": "scatterpolargl"
           }
          ],
          "scatterternary": [
           {
            "marker": {
             "colorbar": {
              "outlinewidth": 0,
              "ticks": ""
             }
            },
            "type": "scatterternary"
           }
          ],
          "surface": [
           {
            "colorbar": {
             "outlinewidth": 0,
             "ticks": ""
            },
            "colorscale": [
             [
              0,
              "#0d0887"
             ],
             [
              0.1111111111111111,
              "#46039f"
             ],
             [
              0.2222222222222222,
              "#7201a8"
             ],
             [
              0.3333333333333333,
              "#9c179e"
             ],
             [
              0.4444444444444444,
              "#bd3786"
             ],
             [
              0.5555555555555556,
              "#d8576b"
             ],
             [
              0.6666666666666666,
              "#ed7953"
             ],
             [
              0.7777777777777778,
              "#fb9f3a"
             ],
             [
              0.8888888888888888,
              "#fdca26"
             ],
             [
              1,
              "#f0f921"
             ]
            ],
            "type": "surface"
           }
          ],
          "table": [
           {
            "cells": {
             "fill": {
              "color": "#EBF0F8"
             },
             "line": {
              "color": "white"
             }
            },
            "header": {
             "fill": {
              "color": "#C8D4E3"
             },
             "line": {
              "color": "white"
             }
            },
            "type": "table"
           }
          ]
         },
         "layout": {
          "annotationdefaults": {
           "arrowcolor": "#2a3f5f",
           "arrowhead": 0,
           "arrowwidth": 1
          },
          "coloraxis": {
           "colorbar": {
            "outlinewidth": 0,
            "ticks": ""
           }
          },
          "colorscale": {
           "diverging": [
            [
             0,
             "#8e0152"
            ],
            [
             0.1,
             "#c51b7d"
            ],
            [
             0.2,
             "#de77ae"
            ],
            [
             0.3,
             "#f1b6da"
            ],
            [
             0.4,
             "#fde0ef"
            ],
            [
             0.5,
             "#f7f7f7"
            ],
            [
             0.6,
             "#e6f5d0"
            ],
            [
             0.7,
             "#b8e186"
            ],
            [
             0.8,
             "#7fbc41"
            ],
            [
             0.9,
             "#4d9221"
            ],
            [
             1,
             "#276419"
            ]
           ],
           "sequential": [
            [
             0,
             "#0d0887"
            ],
            [
             0.1111111111111111,
             "#46039f"
            ],
            [
             0.2222222222222222,
             "#7201a8"
            ],
            [
             0.3333333333333333,
             "#9c179e"
            ],
            [
             0.4444444444444444,
             "#bd3786"
            ],
            [
             0.5555555555555556,
             "#d8576b"
            ],
            [
             0.6666666666666666,
             "#ed7953"
            ],
            [
             0.7777777777777778,
             "#fb9f3a"
            ],
            [
             0.8888888888888888,
             "#fdca26"
            ],
            [
             1,
             "#f0f921"
            ]
           ],
           "sequentialminus": [
            [
             0,
             "#0d0887"
            ],
            [
             0.1111111111111111,
             "#46039f"
            ],
            [
             0.2222222222222222,
             "#7201a8"
            ],
            [
             0.3333333333333333,
             "#9c179e"
            ],
            [
             0.4444444444444444,
             "#bd3786"
            ],
            [
             0.5555555555555556,
             "#d8576b"
            ],
            [
             0.6666666666666666,
             "#ed7953"
            ],
            [
             0.7777777777777778,
             "#fb9f3a"
            ],
            [
             0.8888888888888888,
             "#fdca26"
            ],
            [
             1,
             "#f0f921"
            ]
           ]
          },
          "colorway": [
           "#636efa",
           "#EF553B",
           "#00cc96",
           "#ab63fa",
           "#FFA15A",
           "#19d3f3",
           "#FF6692",
           "#B6E880",
           "#FF97FF",
           "#FECB52"
          ],
          "font": {
           "color": "#2a3f5f"
          },
          "geo": {
           "bgcolor": "white",
           "lakecolor": "white",
           "landcolor": "#E5ECF6",
           "showlakes": true,
           "showland": true,
           "subunitcolor": "white"
          },
          "hoverlabel": {
           "align": "left"
          },
          "hovermode": "closest",
          "mapbox": {
           "style": "light"
          },
          "paper_bgcolor": "white",
          "plot_bgcolor": "#E5ECF6",
          "polar": {
           "angularaxis": {
            "gridcolor": "white",
            "linecolor": "white",
            "ticks": ""
           },
           "bgcolor": "#E5ECF6",
           "radialaxis": {
            "gridcolor": "white",
            "linecolor": "white",
            "ticks": ""
           }
          },
          "scene": {
           "xaxis": {
            "backgroundcolor": "#E5ECF6",
            "gridcolor": "white",
            "gridwidth": 2,
            "linecolor": "white",
            "showbackground": true,
            "ticks": "",
            "zerolinecolor": "white"
           },
           "yaxis": {
            "backgroundcolor": "#E5ECF6",
            "gridcolor": "white",
            "gridwidth": 2,
            "linecolor": "white",
            "showbackground": true,
            "ticks": "",
            "zerolinecolor": "white"
           },
           "zaxis": {
            "backgroundcolor": "#E5ECF6",
            "gridcolor": "white",
            "gridwidth": 2,
            "linecolor": "white",
            "showbackground": true,
            "ticks": "",
            "zerolinecolor": "white"
           }
          },
          "shapedefaults": {
           "line": {
            "color": "#2a3f5f"
           }
          },
          "ternary": {
           "aaxis": {
            "gridcolor": "white",
            "linecolor": "white",
            "ticks": ""
           },
           "baxis": {
            "gridcolor": "white",
            "linecolor": "white",
            "ticks": ""
           },
           "bgcolor": "#E5ECF6",
           "caxis": {
            "gridcolor": "white",
            "linecolor": "white",
            "ticks": ""
           }
          },
          "title": {
           "x": 0.05
          },
          "xaxis": {
           "automargin": true,
           "gridcolor": "white",
           "linecolor": "white",
           "ticks": "",
           "title": {
            "standoff": 15
           },
           "zerolinecolor": "white",
           "zerolinewidth": 2
          },
          "yaxis": {
           "automargin": true,
           "gridcolor": "white",
           "linecolor": "white",
           "ticks": "",
           "title": {
            "standoff": 15
           },
           "zerolinecolor": "white",
           "zerolinewidth": 2
          }
         }
        },
        "title": {
         "text": "Massachusetts All Grades All Formulations Retail Gasoline Prices, Monthly"
        },
        "xaxis": {
         "anchor": "y",
         "domain": [
          0,
          1
         ],
         "title": {
          "text": "Date"
         }
        },
        "yaxis": {
         "anchor": "x",
         "domain": [
          0,
          1
         ],
         "title": {
          "text": "Average Monthly Price ($)"
         }
        }
       }
      },
      "text/html": [
       "<div>\n",
       "        \n",
       "        \n",
       "            <div id=\"f6206444-f98e-4700-a01f-05dc5b5d9b8e\" class=\"plotly-graph-div\" style=\"height:525px; width:100%;\"></div>\n",
       "            <script type=\"text/javascript\">\n",
       "                require([\"plotly\"], function(Plotly) {\n",
       "                    window.PLOTLYENV=window.PLOTLYENV || {};\n",
       "                    \n",
       "                if (document.getElementById(\"f6206444-f98e-4700-a01f-05dc5b5d9b8e\")) {\n",
       "                    Plotly.newPlot(\n",
       "                        'f6206444-f98e-4700-a01f-05dc5b5d9b8e',\n",
       "                        [{\"hoverlabel\": {\"namelength\": 0}, \"hovertemplate\": \"date=%{x}<br>price=%{y}\", \"legendgroup\": \"\", \"line\": {\"color\": \"#636efa\", \"dash\": \"solid\"}, \"mode\": \"lines\", \"name\": \"\", \"showlegend\": false, \"type\": \"scatter\", \"x\": [\"2020-02-01T00:00:00\", \"2020-01-01T00:00:00\", \"2019-12-01T00:00:00\", \"2019-11-01T00:00:00\", \"2019-10-01T00:00:00\", \"2019-09-01T00:00:00\", \"2019-08-01T00:00:00\", \"2019-07-01T00:00:00\", \"2019-06-01T00:00:00\", \"2019-05-01T00:00:00\", \"2019-04-01T00:00:00\", \"2019-03-01T00:00:00\", \"2019-02-01T00:00:00\", \"2019-01-01T00:00:00\", \"2018-12-01T00:00:00\", \"2018-11-01T00:00:00\", \"2018-10-01T00:00:00\", \"2018-09-01T00:00:00\", \"2018-08-01T00:00:00\", \"2018-07-01T00:00:00\", \"2018-06-01T00:00:00\", \"2018-05-01T00:00:00\", \"2018-04-01T00:00:00\", \"2018-03-01T00:00:00\", \"2018-02-01T00:00:00\", \"2018-01-01T00:00:00\", \"2017-12-01T00:00:00\", \"2017-11-01T00:00:00\", \"2017-10-01T00:00:00\", \"2017-09-01T00:00:00\", \"2017-08-01T00:00:00\", \"2017-07-01T00:00:00\", \"2017-06-01T00:00:00\", \"2017-05-01T00:00:00\", \"2017-04-01T00:00:00\", \"2017-03-01T00:00:00\", \"2017-02-01T00:00:00\", \"2017-01-01T00:00:00\", \"2016-12-01T00:00:00\", \"2016-11-01T00:00:00\", \"2016-10-01T00:00:00\", \"2016-09-01T00:00:00\", \"2016-08-01T00:00:00\", \"2016-07-01T00:00:00\", \"2016-06-01T00:00:00\", \"2016-05-01T00:00:00\", \"2016-04-01T00:00:00\", \"2016-03-01T00:00:00\", \"2016-02-01T00:00:00\", \"2016-01-01T00:00:00\", \"2015-12-01T00:00:00\", \"2015-11-01T00:00:00\", \"2015-10-01T00:00:00\", \"2015-09-01T00:00:00\", \"2015-08-01T00:00:00\", \"2015-07-01T00:00:00\", \"2015-06-01T00:00:00\", \"2015-05-01T00:00:00\", \"2015-04-01T00:00:00\", \"2015-03-01T00:00:00\", \"2015-02-01T00:00:00\", \"2015-01-01T00:00:00\", \"2014-12-01T00:00:00\", \"2014-11-01T00:00:00\", \"2014-10-01T00:00:00\", \"2014-09-01T00:00:00\", \"2014-08-01T00:00:00\", \"2014-07-01T00:00:00\", \"2014-06-01T00:00:00\", \"2014-05-01T00:00:00\", \"2014-04-01T00:00:00\", \"2014-03-01T00:00:00\", \"2014-02-01T00:00:00\", \"2014-01-01T00:00:00\", \"2013-12-01T00:00:00\", \"2013-11-01T00:00:00\", \"2013-10-01T00:00:00\", \"2013-09-01T00:00:00\", \"2013-08-01T00:00:00\", \"2013-07-01T00:00:00\", \"2013-06-01T00:00:00\", \"2013-05-01T00:00:00\", \"2013-04-01T00:00:00\", \"2013-03-01T00:00:00\", \"2013-02-01T00:00:00\", \"2013-01-01T00:00:00\", \"2012-12-01T00:00:00\", \"2012-11-01T00:00:00\", \"2012-10-01T00:00:00\", \"2012-09-01T00:00:00\", \"2012-08-01T00:00:00\", \"2012-07-01T00:00:00\", \"2012-06-01T00:00:00\", \"2012-05-01T00:00:00\", \"2012-04-01T00:00:00\", \"2012-03-01T00:00:00\", \"2012-02-01T00:00:00\", \"2012-01-01T00:00:00\", \"2011-12-01T00:00:00\", \"2011-11-01T00:00:00\", \"2011-10-01T00:00:00\", \"2011-09-01T00:00:00\", \"2011-08-01T00:00:00\", \"2011-07-01T00:00:00\", \"2011-06-01T00:00:00\", \"2011-05-01T00:00:00\", \"2011-04-01T00:00:00\", \"2011-03-01T00:00:00\", \"2011-02-01T00:00:00\", \"2011-01-01T00:00:00\", \"2010-12-01T00:00:00\", \"2010-11-01T00:00:00\", \"2010-10-01T00:00:00\", \"2010-09-01T00:00:00\", \"2010-08-01T00:00:00\", \"2010-07-01T00:00:00\", \"2010-06-01T00:00:00\", \"2010-05-01T00:00:00\", \"2010-04-01T00:00:00\", \"2010-03-01T00:00:00\", \"2010-02-01T00:00:00\", \"2010-01-01T00:00:00\", \"2009-12-01T00:00:00\", \"2009-11-01T00:00:00\", \"2009-10-01T00:00:00\", \"2009-09-01T00:00:00\", \"2009-08-01T00:00:00\", \"2009-07-01T00:00:00\", \"2009-06-01T00:00:00\", \"2009-05-01T00:00:00\", \"2009-04-01T00:00:00\", \"2009-03-01T00:00:00\", \"2009-02-01T00:00:00\", \"2009-01-01T00:00:00\", \"2008-12-01T00:00:00\", \"2008-11-01T00:00:00\", \"2008-10-01T00:00:00\", \"2008-09-01T00:00:00\", \"2008-08-01T00:00:00\", \"2008-07-01T00:00:00\", \"2008-06-01T00:00:00\", \"2008-05-01T00:00:00\", \"2008-04-01T00:00:00\", \"2008-03-01T00:00:00\", \"2008-02-01T00:00:00\", \"2008-01-01T00:00:00\", \"2007-12-01T00:00:00\", \"2007-11-01T00:00:00\", \"2007-10-01T00:00:00\", \"2007-09-01T00:00:00\", \"2007-08-01T00:00:00\", \"2007-07-01T00:00:00\", \"2007-06-01T00:00:00\", \"2007-05-01T00:00:00\", \"2007-04-01T00:00:00\", \"2007-03-01T00:00:00\", \"2007-02-01T00:00:00\", \"2007-01-01T00:00:00\", \"2006-12-01T00:00:00\", \"2006-11-01T00:00:00\", \"2006-10-01T00:00:00\", \"2006-09-01T00:00:00\", \"2006-08-01T00:00:00\", \"2006-07-01T00:00:00\", \"2006-06-01T00:00:00\", \"2006-05-01T00:00:00\", \"2006-04-01T00:00:00\", \"2006-03-01T00:00:00\", \"2006-02-01T00:00:00\", \"2006-01-01T00:00:00\", \"2005-12-01T00:00:00\", \"2005-11-01T00:00:00\", \"2005-10-01T00:00:00\", \"2005-09-01T00:00:00\", \"2005-08-01T00:00:00\", \"2005-07-01T00:00:00\", \"2005-06-01T00:00:00\", \"2005-05-01T00:00:00\", \"2005-04-01T00:00:00\", \"2005-03-01T00:00:00\", \"2005-02-01T00:00:00\", \"2005-01-01T00:00:00\", \"2004-12-01T00:00:00\", \"2004-11-01T00:00:00\", \"2004-10-01T00:00:00\", \"2004-09-01T00:00:00\", \"2004-08-01T00:00:00\", \"2004-07-01T00:00:00\", \"2004-06-01T00:00:00\", \"2004-05-01T00:00:00\", \"2004-04-01T00:00:00\", \"2004-03-01T00:00:00\", \"2004-02-01T00:00:00\", \"2004-01-01T00:00:00\", \"2003-12-01T00:00:00\", \"2003-11-01T00:00:00\", \"2003-10-01T00:00:00\", \"2003-09-01T00:00:00\", \"2003-08-01T00:00:00\", \"2003-07-01T00:00:00\", \"2003-06-01T00:00:00\", \"2003-05-01T00:00:00\"], \"xaxis\": \"x\", \"y\": [2.584, 2.648, 2.627, 2.631, 2.638, 2.661, 2.746, 2.779, 2.791, 2.894, 2.725, 2.516, 2.433, 2.499, 2.649, 2.8, 2.907, 2.923, 2.941, 2.952, 2.976, 2.954, 2.786, 2.664, 2.707, 2.662, 2.651, 2.696, 2.722, 2.833, 2.454, 2.388, 2.433, 2.477, 2.414, 2.334, 2.35, 2.401, 2.33, 2.284, 2.309, 2.256, 2.228, 2.342, 2.415, 2.35, 2.175, 1.994, 1.925, 2.063, 2.168, 2.224, 2.262, 2.388, 2.614, 2.805, 2.804, 2.704, 2.468, 2.44, 2.255, 2.347, 2.787, 3.062, 3.345, 3.534, 3.606, 3.746, 3.745, 3.737, 3.662, 3.586, 3.488, 3.527, 3.52, 3.419, 3.518, 3.703, 3.761, 3.692, 3.598, 3.56, 3.603, 3.755, 3.755, 3.512, 3.533, 3.703, 3.911, 3.929, 3.783, 3.564, 3.59, 3.8, 3.925, 3.802, 3.651, 3.462, 3.352, 3.465, 3.525, 3.687, 3.771, 3.788, 3.804, 3.982, 3.768, 3.537, 3.237, 3.166, 3.081, 2.956, 2.812, 2.649, 2.721, 2.738, 2.758, 2.882, 2.821, 2.739, 2.705, 2.74, 2.645, 2.672, 2.549, 2.613, 2.642, 2.566, 2.618, 2.267, 2.036, 1.944, 1.915, 1.765, 1.742, 2.196, 3.004, 3.584, 3.768, 4.083, 4.07, 3.778, 3.371, 3.15, 3.032, 3.083, 3.069, 3.031, 2.733, 2.701, 2.792, 2.952, 3.036, 3.046, 2.791, 2.554, 2.261, 2.316, 2.35, 2.224, 2.26, 2.663, 3.041, 3.068, 3.029, 2.993, 2.728, 2.366, 2.305, 2.382, 2.189, 2.231, 2.726, 3.093, 2.559, 2.399, 2.211, 2.207, 2.203, 2.038, 1.935, 1.875, 1.928, 2.037, 2.028, 1.923, 1.95, 1.991, 2.112, 2.02, 1.78, 1.753, 1.697, 1.624, 1.554, 1.606, 1.724, 1.821, 1.656, 1.553, 1.534, null], \"yaxis\": \"y\"}],\n",
       "                        {\"legend\": {\"tracegroupgap\": 0}, \"template\": {\"data\": {\"bar\": [{\"error_x\": {\"color\": \"#2a3f5f\"}, \"error_y\": {\"color\": \"#2a3f5f\"}, \"marker\": {\"line\": {\"color\": \"#E5ECF6\", \"width\": 0.5}}, \"type\": \"bar\"}], \"barpolar\": [{\"marker\": {\"line\": {\"color\": \"#E5ECF6\", \"width\": 0.5}}, \"type\": \"barpolar\"}], \"carpet\": [{\"aaxis\": {\"endlinecolor\": \"#2a3f5f\", \"gridcolor\": \"white\", \"linecolor\": \"white\", \"minorgridcolor\": \"white\", \"startlinecolor\": \"#2a3f5f\"}, \"baxis\": {\"endlinecolor\": \"#2a3f5f\", \"gridcolor\": \"white\", \"linecolor\": \"white\", \"minorgridcolor\": \"white\", \"startlinecolor\": \"#2a3f5f\"}, \"type\": \"carpet\"}], \"choropleth\": [{\"colorbar\": {\"outlinewidth\": 0, \"ticks\": \"\"}, \"type\": \"choropleth\"}], \"contour\": [{\"colorbar\": {\"outlinewidth\": 0, \"ticks\": \"\"}, \"colorscale\": [[0.0, \"#0d0887\"], [0.1111111111111111, \"#46039f\"], [0.2222222222222222, \"#7201a8\"], [0.3333333333333333, \"#9c179e\"], [0.4444444444444444, \"#bd3786\"], [0.5555555555555556, \"#d8576b\"], [0.6666666666666666, \"#ed7953\"], [0.7777777777777778, \"#fb9f3a\"], [0.8888888888888888, \"#fdca26\"], [1.0, \"#f0f921\"]], \"type\": \"contour\"}], \"contourcarpet\": [{\"colorbar\": {\"outlinewidth\": 0, \"ticks\": \"\"}, \"type\": \"contourcarpet\"}], \"heatmap\": [{\"colorbar\": {\"outlinewidth\": 0, \"ticks\": \"\"}, \"colorscale\": [[0.0, \"#0d0887\"], [0.1111111111111111, \"#46039f\"], [0.2222222222222222, \"#7201a8\"], [0.3333333333333333, \"#9c179e\"], [0.4444444444444444, \"#bd3786\"], [0.5555555555555556, \"#d8576b\"], [0.6666666666666666, \"#ed7953\"], [0.7777777777777778, \"#fb9f3a\"], [0.8888888888888888, \"#fdca26\"], [1.0, \"#f0f921\"]], \"type\": \"heatmap\"}], \"heatmapgl\": [{\"colorbar\": {\"outlinewidth\": 0, \"ticks\": \"\"}, \"colorscale\": [[0.0, \"#0d0887\"], [0.1111111111111111, \"#46039f\"], [0.2222222222222222, \"#7201a8\"], [0.3333333333333333, \"#9c179e\"], [0.4444444444444444, \"#bd3786\"], [0.5555555555555556, \"#d8576b\"], [0.6666666666666666, \"#ed7953\"], [0.7777777777777778, \"#fb9f3a\"], [0.8888888888888888, \"#fdca26\"], [1.0, \"#f0f921\"]], \"type\": \"heatmapgl\"}], \"histogram\": [{\"marker\": {\"colorbar\": {\"outlinewidth\": 0, \"ticks\": \"\"}}, \"type\": \"histogram\"}], \"histogram2d\": [{\"colorbar\": {\"outlinewidth\": 0, \"ticks\": \"\"}, \"colorscale\": [[0.0, \"#0d0887\"], [0.1111111111111111, \"#46039f\"], [0.2222222222222222, \"#7201a8\"], [0.3333333333333333, \"#9c179e\"], [0.4444444444444444, \"#bd3786\"], [0.5555555555555556, \"#d8576b\"], [0.6666666666666666, \"#ed7953\"], [0.7777777777777778, \"#fb9f3a\"], [0.8888888888888888, \"#fdca26\"], [1.0, \"#f0f921\"]], \"type\": \"histogram2d\"}], \"histogram2dcontour\": [{\"colorbar\": {\"outlinewidth\": 0, \"ticks\": \"\"}, \"colorscale\": [[0.0, \"#0d0887\"], [0.1111111111111111, \"#46039f\"], [0.2222222222222222, \"#7201a8\"], [0.3333333333333333, \"#9c179e\"], [0.4444444444444444, \"#bd3786\"], [0.5555555555555556, \"#d8576b\"], [0.6666666666666666, \"#ed7953\"], [0.7777777777777778, \"#fb9f3a\"], [0.8888888888888888, \"#fdca26\"], [1.0, \"#f0f921\"]], \"type\": \"histogram2dcontour\"}], \"mesh3d\": [{\"colorbar\": {\"outlinewidth\": 0, \"ticks\": \"\"}, \"type\": \"mesh3d\"}], \"parcoords\": [{\"line\": {\"colorbar\": {\"outlinewidth\": 0, \"ticks\": \"\"}}, \"type\": \"parcoords\"}], \"pie\": [{\"automargin\": true, \"type\": \"pie\"}], \"scatter\": [{\"marker\": {\"colorbar\": {\"outlinewidth\": 0, \"ticks\": \"\"}}, \"type\": \"scatter\"}], \"scatter3d\": [{\"line\": {\"colorbar\": {\"outlinewidth\": 0, \"ticks\": \"\"}}, \"marker\": {\"colorbar\": {\"outlinewidth\": 0, \"ticks\": \"\"}}, \"type\": \"scatter3d\"}], \"scattercarpet\": [{\"marker\": {\"colorbar\": {\"outlinewidth\": 0, \"ticks\": \"\"}}, \"type\": \"scattercarpet\"}], \"scattergeo\": [{\"marker\": {\"colorbar\": {\"outlinewidth\": 0, \"ticks\": \"\"}}, \"type\": \"scattergeo\"}], \"scattergl\": [{\"marker\": {\"colorbar\": {\"outlinewidth\": 0, \"ticks\": \"\"}}, \"type\": \"scattergl\"}], \"scattermapbox\": [{\"marker\": {\"colorbar\": {\"outlinewidth\": 0, \"ticks\": \"\"}}, \"type\": \"scattermapbox\"}], \"scatterpolar\": [{\"marker\": {\"colorbar\": {\"outlinewidth\": 0, \"ticks\": \"\"}}, \"type\": \"scatterpolar\"}], \"scatterpolargl\": [{\"marker\": {\"colorbar\": {\"outlinewidth\": 0, \"ticks\": \"\"}}, \"type\": \"scatterpolargl\"}], \"scatterternary\": [{\"marker\": {\"colorbar\": {\"outlinewidth\": 0, \"ticks\": \"\"}}, \"type\": \"scatterternary\"}], \"surface\": [{\"colorbar\": {\"outlinewidth\": 0, \"ticks\": \"\"}, \"colorscale\": [[0.0, \"#0d0887\"], [0.1111111111111111, \"#46039f\"], [0.2222222222222222, \"#7201a8\"], [0.3333333333333333, \"#9c179e\"], [0.4444444444444444, \"#bd3786\"], [0.5555555555555556, \"#d8576b\"], [0.6666666666666666, \"#ed7953\"], [0.7777777777777778, \"#fb9f3a\"], [0.8888888888888888, \"#fdca26\"], [1.0, \"#f0f921\"]], \"type\": \"surface\"}], \"table\": [{\"cells\": {\"fill\": {\"color\": \"#EBF0F8\"}, \"line\": {\"color\": \"white\"}}, \"header\": {\"fill\": {\"color\": \"#C8D4E3\"}, \"line\": {\"color\": \"white\"}}, \"type\": \"table\"}]}, \"layout\": {\"annotationdefaults\": {\"arrowcolor\": \"#2a3f5f\", \"arrowhead\": 0, \"arrowwidth\": 1}, \"coloraxis\": {\"colorbar\": {\"outlinewidth\": 0, \"ticks\": \"\"}}, \"colorscale\": {\"diverging\": [[0, \"#8e0152\"], [0.1, \"#c51b7d\"], [0.2, \"#de77ae\"], [0.3, \"#f1b6da\"], [0.4, \"#fde0ef\"], [0.5, \"#f7f7f7\"], [0.6, \"#e6f5d0\"], [0.7, \"#b8e186\"], [0.8, \"#7fbc41\"], [0.9, \"#4d9221\"], [1, \"#276419\"]], \"sequential\": [[0.0, \"#0d0887\"], [0.1111111111111111, \"#46039f\"], [0.2222222222222222, \"#7201a8\"], [0.3333333333333333, \"#9c179e\"], [0.4444444444444444, \"#bd3786\"], [0.5555555555555556, \"#d8576b\"], [0.6666666666666666, \"#ed7953\"], [0.7777777777777778, \"#fb9f3a\"], [0.8888888888888888, \"#fdca26\"], [1.0, \"#f0f921\"]], \"sequentialminus\": [[0.0, \"#0d0887\"], [0.1111111111111111, \"#46039f\"], [0.2222222222222222, \"#7201a8\"], [0.3333333333333333, \"#9c179e\"], [0.4444444444444444, \"#bd3786\"], [0.5555555555555556, \"#d8576b\"], [0.6666666666666666, \"#ed7953\"], [0.7777777777777778, \"#fb9f3a\"], [0.8888888888888888, \"#fdca26\"], [1.0, \"#f0f921\"]]}, \"colorway\": [\"#636efa\", \"#EF553B\", \"#00cc96\", \"#ab63fa\", \"#FFA15A\", \"#19d3f3\", \"#FF6692\", \"#B6E880\", \"#FF97FF\", \"#FECB52\"], \"font\": {\"color\": \"#2a3f5f\"}, \"geo\": {\"bgcolor\": \"white\", \"lakecolor\": \"white\", \"landcolor\": \"#E5ECF6\", \"showlakes\": true, \"showland\": true, \"subunitcolor\": \"white\"}, \"hoverlabel\": {\"align\": \"left\"}, \"hovermode\": \"closest\", \"mapbox\": {\"style\": \"light\"}, \"paper_bgcolor\": \"white\", \"plot_bgcolor\": \"#E5ECF6\", \"polar\": {\"angularaxis\": {\"gridcolor\": \"white\", \"linecolor\": \"white\", \"ticks\": \"\"}, \"bgcolor\": \"#E5ECF6\", \"radialaxis\": {\"gridcolor\": \"white\", \"linecolor\": \"white\", \"ticks\": \"\"}}, \"scene\": {\"xaxis\": {\"backgroundcolor\": \"#E5ECF6\", \"gridcolor\": \"white\", \"gridwidth\": 2, \"linecolor\": \"white\", \"showbackground\": true, \"ticks\": \"\", \"zerolinecolor\": \"white\"}, \"yaxis\": {\"backgroundcolor\": \"#E5ECF6\", \"gridcolor\": \"white\", \"gridwidth\": 2, \"linecolor\": \"white\", \"showbackground\": true, \"ticks\": \"\", \"zerolinecolor\": \"white\"}, \"zaxis\": {\"backgroundcolor\": \"#E5ECF6\", \"gridcolor\": \"white\", \"gridwidth\": 2, \"linecolor\": \"white\", \"showbackground\": true, \"ticks\": \"\", \"zerolinecolor\": \"white\"}}, \"shapedefaults\": {\"line\": {\"color\": \"#2a3f5f\"}}, \"ternary\": {\"aaxis\": {\"gridcolor\": \"white\", \"linecolor\": \"white\", \"ticks\": \"\"}, \"baxis\": {\"gridcolor\": \"white\", \"linecolor\": \"white\", \"ticks\": \"\"}, \"bgcolor\": \"#E5ECF6\", \"caxis\": {\"gridcolor\": \"white\", \"linecolor\": \"white\", \"ticks\": \"\"}}, \"title\": {\"x\": 0.05}, \"xaxis\": {\"automargin\": true, \"gridcolor\": \"white\", \"linecolor\": \"white\", \"ticks\": \"\", \"title\": {\"standoff\": 15}, \"zerolinecolor\": \"white\", \"zerolinewidth\": 2}, \"yaxis\": {\"automargin\": true, \"gridcolor\": \"white\", \"linecolor\": \"white\", \"ticks\": \"\", \"title\": {\"standoff\": 15}, \"zerolinecolor\": \"white\", \"zerolinewidth\": 2}}}, \"title\": {\"text\": \"Massachusetts All Grades All Formulations Retail Gasoline Prices, Monthly\"}, \"xaxis\": {\"anchor\": \"y\", \"domain\": [0.0, 1.0], \"title\": {\"text\": \"Date\"}}, \"yaxis\": {\"anchor\": \"x\", \"domain\": [0.0, 1.0], \"title\": {\"text\": \"Average Monthly Price ($)\"}}},\n",
       "                        {\"responsive\": true}\n",
       "                    ).then(function(){\n",
       "                            \n",
       "var gd = document.getElementById('f6206444-f98e-4700-a01f-05dc5b5d9b8e');\n",
       "var x = new MutationObserver(function (mutations, observer) {{\n",
       "        var display = window.getComputedStyle(gd).display;\n",
       "        if (!display || display === 'none') {{\n",
       "            console.log([gd, 'removed!']);\n",
       "            Plotly.purge(gd);\n",
       "            observer.disconnect();\n",
       "        }}\n",
       "}});\n",
       "\n",
       "// Listen for the removal of the full notebook cells\n",
       "var notebookContainer = gd.closest('#notebook-container');\n",
       "if (notebookContainer) {{\n",
       "    x.observe(notebookContainer, {childList: true});\n",
       "}}\n",
       "\n",
       "// Listen for the clearing of the current output cell\n",
       "var outputEl = gd.closest('.output');\n",
       "if (outputEl) {{\n",
       "    x.observe(outputEl, {childList: true});\n",
       "}}\n",
       "\n",
       "                        })\n",
       "                };\n",
       "                });\n",
       "            </script>\n",
       "        </div>"
      ]
     },
     "metadata": {},
     "output_type": "display_data"
    },
    {
     "data": {
      "application/vnd.plotly.v1+json": {
       "config": {
        "plotlyServerURL": "https://plot.ly"
       },
       "data": [
        {
         "hoverlabel": {
          "namelength": 0
         },
         "hovertemplate": "date=%{x}<br>price=%{y}",
         "legendgroup": "",
         "line": {
          "color": "#636efa",
          "dash": "solid"
         },
         "mode": "lines",
         "name": "",
         "showlegend": false,
         "type": "scatter",
         "x": [
          "2020-02-01T00:00:00",
          "2020-01-01T00:00:00",
          "2019-12-01T00:00:00",
          "2019-11-01T00:00:00",
          "2019-10-01T00:00:00",
          "2019-09-01T00:00:00",
          "2019-08-01T00:00:00",
          "2019-07-01T00:00:00",
          "2019-06-01T00:00:00",
          "2019-05-01T00:00:00",
          "2019-04-01T00:00:00",
          "2019-03-01T00:00:00",
          "2019-02-01T00:00:00",
          "2019-01-01T00:00:00",
          "2018-12-01T00:00:00",
          "2018-11-01T00:00:00",
          "2018-10-01T00:00:00",
          "2018-09-01T00:00:00",
          "2018-08-01T00:00:00",
          "2018-07-01T00:00:00",
          "2018-06-01T00:00:00",
          "2018-05-01T00:00:00",
          "2018-04-01T00:00:00",
          "2018-03-01T00:00:00",
          "2018-02-01T00:00:00",
          "2018-01-01T00:00:00",
          "2017-12-01T00:00:00",
          "2017-11-01T00:00:00",
          "2017-10-01T00:00:00",
          "2017-09-01T00:00:00",
          "2017-08-01T00:00:00",
          "2017-07-01T00:00:00",
          "2017-06-01T00:00:00",
          "2017-05-01T00:00:00",
          "2017-04-01T00:00:00",
          "2017-03-01T00:00:00",
          "2017-02-01T00:00:00",
          "2017-01-01T00:00:00",
          "2016-12-01T00:00:00",
          "2016-11-01T00:00:00",
          "2016-10-01T00:00:00",
          "2016-09-01T00:00:00",
          "2016-08-01T00:00:00",
          "2016-07-01T00:00:00",
          "2016-06-01T00:00:00",
          "2016-05-01T00:00:00",
          "2016-04-01T00:00:00",
          "2016-03-01T00:00:00",
          "2016-02-01T00:00:00",
          "2016-01-01T00:00:00",
          "2015-12-01T00:00:00",
          "2015-11-01T00:00:00",
          "2015-10-01T00:00:00",
          "2015-09-01T00:00:00",
          "2015-08-01T00:00:00",
          "2015-07-01T00:00:00",
          "2015-06-01T00:00:00",
          "2015-05-01T00:00:00",
          "2015-04-01T00:00:00",
          "2015-03-01T00:00:00",
          "2015-02-01T00:00:00",
          "2015-01-01T00:00:00",
          "2014-12-01T00:00:00",
          "2014-11-01T00:00:00",
          "2014-10-01T00:00:00",
          "2014-09-01T00:00:00",
          "2014-08-01T00:00:00",
          "2014-07-01T00:00:00",
          "2014-06-01T00:00:00",
          "2014-05-01T00:00:00",
          "2014-04-01T00:00:00",
          "2014-03-01T00:00:00",
          "2014-02-01T00:00:00",
          "2014-01-01T00:00:00",
          "2013-12-01T00:00:00",
          "2013-11-01T00:00:00",
          "2013-10-01T00:00:00",
          "2013-09-01T00:00:00",
          "2013-08-01T00:00:00",
          "2013-07-01T00:00:00",
          "2013-06-01T00:00:00",
          "2013-05-01T00:00:00",
          "2013-04-01T00:00:00",
          "2013-03-01T00:00:00",
          "2013-02-01T00:00:00",
          "2013-01-01T00:00:00",
          "2012-12-01T00:00:00",
          "2012-11-01T00:00:00",
          "2012-10-01T00:00:00",
          "2012-09-01T00:00:00",
          "2012-08-01T00:00:00",
          "2012-07-01T00:00:00",
          "2012-06-01T00:00:00",
          "2012-05-01T00:00:00",
          "2012-04-01T00:00:00",
          "2012-03-01T00:00:00",
          "2012-02-01T00:00:00",
          "2012-01-01T00:00:00",
          "2011-12-01T00:00:00",
          "2011-11-01T00:00:00",
          "2011-10-01T00:00:00",
          "2011-09-01T00:00:00",
          "2011-08-01T00:00:00",
          "2011-07-01T00:00:00",
          "2011-06-01T00:00:00",
          "2011-05-01T00:00:00",
          "2011-04-01T00:00:00",
          "2011-03-01T00:00:00",
          "2011-02-01T00:00:00",
          "2011-01-01T00:00:00",
          "2010-12-01T00:00:00",
          "2010-11-01T00:00:00",
          "2010-10-01T00:00:00",
          "2010-09-01T00:00:00",
          "2010-08-01T00:00:00",
          "2010-07-01T00:00:00",
          "2010-06-01T00:00:00",
          "2010-05-01T00:00:00",
          "2010-04-01T00:00:00",
          "2010-03-01T00:00:00",
          "2010-02-01T00:00:00",
          "2010-01-01T00:00:00",
          "2009-12-01T00:00:00",
          "2009-11-01T00:00:00",
          "2009-10-01T00:00:00",
          "2009-09-01T00:00:00",
          "2009-08-01T00:00:00",
          "2009-07-01T00:00:00",
          "2009-06-01T00:00:00",
          "2009-05-01T00:00:00",
          "2009-04-01T00:00:00",
          "2009-03-01T00:00:00",
          "2009-02-01T00:00:00",
          "2009-01-01T00:00:00",
          "2008-12-01T00:00:00",
          "2008-11-01T00:00:00",
          "2008-10-01T00:00:00",
          "2008-09-01T00:00:00",
          "2008-08-01T00:00:00",
          "2008-07-01T00:00:00",
          "2008-06-01T00:00:00",
          "2008-05-01T00:00:00",
          "2008-04-01T00:00:00",
          "2008-03-01T00:00:00",
          "2008-02-01T00:00:00",
          "2008-01-01T00:00:00",
          "2007-12-01T00:00:00",
          "2007-11-01T00:00:00",
          "2007-10-01T00:00:00",
          "2007-09-01T00:00:00",
          "2007-08-01T00:00:00",
          "2007-07-01T00:00:00",
          "2007-06-01T00:00:00",
          "2007-05-01T00:00:00",
          "2007-04-01T00:00:00",
          "2007-03-01T00:00:00",
          "2007-02-01T00:00:00",
          "2007-01-01T00:00:00",
          "2006-12-01T00:00:00",
          "2006-11-01T00:00:00",
          "2006-10-01T00:00:00",
          "2006-09-01T00:00:00",
          "2006-08-01T00:00:00",
          "2006-07-01T00:00:00",
          "2006-06-01T00:00:00",
          "2006-05-01T00:00:00",
          "2006-04-01T00:00:00",
          "2006-03-01T00:00:00",
          "2006-02-01T00:00:00",
          "2006-01-01T00:00:00",
          "2005-12-01T00:00:00",
          "2005-11-01T00:00:00",
          "2005-10-01T00:00:00",
          "2005-09-01T00:00:00",
          "2005-08-01T00:00:00",
          "2005-07-01T00:00:00",
          "2005-06-01T00:00:00",
          "2005-05-01T00:00:00",
          "2005-04-01T00:00:00",
          "2005-03-01T00:00:00",
          "2005-02-01T00:00:00",
          "2005-01-01T00:00:00",
          "2004-12-01T00:00:00",
          "2004-11-01T00:00:00",
          "2004-10-01T00:00:00",
          "2004-09-01T00:00:00",
          "2004-08-01T00:00:00",
          "2004-07-01T00:00:00",
          "2004-06-01T00:00:00",
          "2004-05-01T00:00:00",
          "2004-04-01T00:00:00",
          "2004-03-01T00:00:00",
          "2004-02-01T00:00:00",
          "2004-01-01T00:00:00",
          "2003-12-01T00:00:00",
          "2003-11-01T00:00:00",
          "2003-10-01T00:00:00",
          "2003-09-01T00:00:00",
          "2003-08-01T00:00:00",
          "2003-07-01T00:00:00",
          "2003-06-01T00:00:00",
          "2003-05-01T00:00:00",
          "2003-04-01T00:00:00",
          "2003-03-01T00:00:00",
          "2003-02-01T00:00:00",
          "2003-01-01T00:00:00",
          "2002-12-01T00:00:00",
          "2002-11-01T00:00:00",
          "2002-10-01T00:00:00",
          "2002-09-01T00:00:00",
          "2002-08-01T00:00:00",
          "2002-07-01T00:00:00",
          "2002-06-01T00:00:00",
          "2002-05-01T00:00:00",
          "2002-04-01T00:00:00",
          "2002-03-01T00:00:00",
          "2002-02-01T00:00:00",
          "2002-01-01T00:00:00",
          "2001-12-01T00:00:00",
          "2001-11-01T00:00:00",
          "2001-10-01T00:00:00",
          "2001-09-01T00:00:00",
          "2001-08-01T00:00:00",
          "2001-07-01T00:00:00",
          "2001-06-01T00:00:00",
          "2001-05-01T00:00:00",
          "2001-04-01T00:00:00",
          "2001-03-01T00:00:00",
          "2001-02-01T00:00:00",
          "2001-01-01T00:00:00",
          "2000-12-01T00:00:00",
          "2000-11-01T00:00:00",
          "2000-10-01T00:00:00",
          "2000-09-01T00:00:00",
          "2000-08-01T00:00:00",
          "2000-07-01T00:00:00",
          "2000-06-01T00:00:00"
         ],
         "xaxis": "x",
         "y": [
          2.325,
          2.435,
          2.418,
          2.486,
          2.52,
          2.533,
          2.572,
          2.622,
          2.64,
          2.745,
          2.714,
          2.478,
          2.178,
          2.071,
          2.25,
          2.581,
          2.818,
          2.772,
          2.785,
          2.786,
          2.815,
          2.785,
          2.587,
          2.549,
          2.603,
          2.533,
          2.46,
          2.555,
          2.449,
          2.521,
          2.359,
          2.29,
          2.321,
          2.354,
          2.361,
          2.313,
          2.319,
          2.363,
          2.168,
          2.055,
          2.203,
          2.232,
          2.205,
          2.18,
          2.315,
          2.23,
          2.02,
          2.007,
          1.666,
          1.818,
          1.95,
          2.197,
          2.456,
          2.359,
          2.632,
          2.749,
          2.709,
          2.594,
          2.364,
          2.438,
          2.216,
          2.02,
          2.468,
          2.922,
          3.111,
          3.325,
          3.397,
          3.506,
          3.599,
          3.548,
          3.569,
          3.558,
          3.343,
          3.272,
          3.113,
          3.143,
          3.318,
          3.54,
          3.577,
          3.562,
          3.726,
          3.986,
          3.544,
          3.665,
          3.697,
          3.137,
          3.183,
          3.299,
          3.678,
          3.891,
          3.756,
          3.561,
          3.593,
          3.639,
          3.756,
          3.703,
          3.474,
          3.296,
          3.229,
          3.34,
          3.508,
          3.725,
          3.722,
          3.726,
          3.669,
          3.895,
          3.813,
          3.557,
          3.258,
          3.141,
          2.998,
          2.842,
          2.88,
          2.786,
          2.717,
          2.721,
          2.709,
          2.787,
          2.832,
          2.795,
          2.637,
          2.722,
          2.547,
          2.636,
          2.523,
          2.461,
          2.553,
          2.428,
          2.605,
          2.284,
          2.029,
          1.955,
          1.929,
          1.828,
          1.687,
          1.967,
          2.749,
          3.612,
          3.651,
          3.897,
          3.938,
          3.68,
          3.363,
          3.102,
          2.983,
          2.951,
          2.907,
          3.042,
          2.8,
          2.962,
          2.883,
          3.036,
          2.968,
          3.186,
          2.728,
          2.503,
          2.255,
          2.088,
          2.254,
          2.213,
          2.194,
          2.372,
          2.971,
          2.985,
          2.846,
          2.775,
          2.698,
          2.443,
          2.2,
          2.252,
          2.165,
          2.119,
          2.486,
          2.725,
          2.431,
          2.184,
          2.082,
          1.985,
          2.091,
          2.068,
          1.896,
          1.822,
          1.741,
          1.913,
          1.935,
          1.824,
          1.816,
          1.836,
          1.834,
          1.973,
          1.767,
          1.7,
          1.639,
          1.587,
          1.479,
          1.498,
          1.562,
          1.604,
          1.666,
          1.533,
          1.484,
          1.457,
          1.477,
          1.623,
          1.624,
          1.445,
          1.383,
          1.433,
          1.548,
          1.442,
          1.444,
          1.443,
          1.345,
          1.364,
          1.434,
          1.324,
          1.12,
          1.149,
          1.102,
          1.176,
          1.29,
          1.739,
          1.601,
          1.384,
          1.622,
          1.821,
          1.624,
          1.426,
          1.569,
          1.561,
          1.456,
          1.511,
          1.544,
          1.614,
          1.489,
          1.478,
          1.757
         ],
         "yaxis": "y"
        }
       ],
       "layout": {
        "legend": {
         "tracegroupgap": 0
        },
        "template": {
         "data": {
          "bar": [
           {
            "error_x": {
             "color": "#2a3f5f"
            },
            "error_y": {
             "color": "#2a3f5f"
            },
            "marker": {
             "line": {
              "color": "#E5ECF6",
              "width": 0.5
             }
            },
            "type": "bar"
           }
          ],
          "barpolar": [
           {
            "marker": {
             "line": {
              "color": "#E5ECF6",
              "width": 0.5
             }
            },
            "type": "barpolar"
           }
          ],
          "carpet": [
           {
            "aaxis": {
             "endlinecolor": "#2a3f5f",
             "gridcolor": "white",
             "linecolor": "white",
             "minorgridcolor": "white",
             "startlinecolor": "#2a3f5f"
            },
            "baxis": {
             "endlinecolor": "#2a3f5f",
             "gridcolor": "white",
             "linecolor": "white",
             "minorgridcolor": "white",
             "startlinecolor": "#2a3f5f"
            },
            "type": "carpet"
           }
          ],
          "choropleth": [
           {
            "colorbar": {
             "outlinewidth": 0,
             "ticks": ""
            },
            "type": "choropleth"
           }
          ],
          "contour": [
           {
            "colorbar": {
             "outlinewidth": 0,
             "ticks": ""
            },
            "colorscale": [
             [
              0,
              "#0d0887"
             ],
             [
              0.1111111111111111,
              "#46039f"
             ],
             [
              0.2222222222222222,
              "#7201a8"
             ],
             [
              0.3333333333333333,
              "#9c179e"
             ],
             [
              0.4444444444444444,
              "#bd3786"
             ],
             [
              0.5555555555555556,
              "#d8576b"
             ],
             [
              0.6666666666666666,
              "#ed7953"
             ],
             [
              0.7777777777777778,
              "#fb9f3a"
             ],
             [
              0.8888888888888888,
              "#fdca26"
             ],
             [
              1,
              "#f0f921"
             ]
            ],
            "type": "contour"
           }
          ],
          "contourcarpet": [
           {
            "colorbar": {
             "outlinewidth": 0,
             "ticks": ""
            },
            "type": "contourcarpet"
           }
          ],
          "heatmap": [
           {
            "colorbar": {
             "outlinewidth": 0,
             "ticks": ""
            },
            "colorscale": [
             [
              0,
              "#0d0887"
             ],
             [
              0.1111111111111111,
              "#46039f"
             ],
             [
              0.2222222222222222,
              "#7201a8"
             ],
             [
              0.3333333333333333,
              "#9c179e"
             ],
             [
              0.4444444444444444,
              "#bd3786"
             ],
             [
              0.5555555555555556,
              "#d8576b"
             ],
             [
              0.6666666666666666,
              "#ed7953"
             ],
             [
              0.7777777777777778,
              "#fb9f3a"
             ],
             [
              0.8888888888888888,
              "#fdca26"
             ],
             [
              1,
              "#f0f921"
             ]
            ],
            "type": "heatmap"
           }
          ],
          "heatmapgl": [
           {
            "colorbar": {
             "outlinewidth": 0,
             "ticks": ""
            },
            "colorscale": [
             [
              0,
              "#0d0887"
             ],
             [
              0.1111111111111111,
              "#46039f"
             ],
             [
              0.2222222222222222,
              "#7201a8"
             ],
             [
              0.3333333333333333,
              "#9c179e"
             ],
             [
              0.4444444444444444,
              "#bd3786"
             ],
             [
              0.5555555555555556,
              "#d8576b"
             ],
             [
              0.6666666666666666,
              "#ed7953"
             ],
             [
              0.7777777777777778,
              "#fb9f3a"
             ],
             [
              0.8888888888888888,
              "#fdca26"
             ],
             [
              1,
              "#f0f921"
             ]
            ],
            "type": "heatmapgl"
           }
          ],
          "histogram": [
           {
            "marker": {
             "colorbar": {
              "outlinewidth": 0,
              "ticks": ""
             }
            },
            "type": "histogram"
           }
          ],
          "histogram2d": [
           {
            "colorbar": {
             "outlinewidth": 0,
             "ticks": ""
            },
            "colorscale": [
             [
              0,
              "#0d0887"
             ],
             [
              0.1111111111111111,
              "#46039f"
             ],
             [
              0.2222222222222222,
              "#7201a8"
             ],
             [
              0.3333333333333333,
              "#9c179e"
             ],
             [
              0.4444444444444444,
              "#bd3786"
             ],
             [
              0.5555555555555556,
              "#d8576b"
             ],
             [
              0.6666666666666666,
              "#ed7953"
             ],
             [
              0.7777777777777778,
              "#fb9f3a"
             ],
             [
              0.8888888888888888,
              "#fdca26"
             ],
             [
              1,
              "#f0f921"
             ]
            ],
            "type": "histogram2d"
           }
          ],
          "histogram2dcontour": [
           {
            "colorbar": {
             "outlinewidth": 0,
             "ticks": ""
            },
            "colorscale": [
             [
              0,
              "#0d0887"
             ],
             [
              0.1111111111111111,
              "#46039f"
             ],
             [
              0.2222222222222222,
              "#7201a8"
             ],
             [
              0.3333333333333333,
              "#9c179e"
             ],
             [
              0.4444444444444444,
              "#bd3786"
             ],
             [
              0.5555555555555556,
              "#d8576b"
             ],
             [
              0.6666666666666666,
              "#ed7953"
             ],
             [
              0.7777777777777778,
              "#fb9f3a"
             ],
             [
              0.8888888888888888,
              "#fdca26"
             ],
             [
              1,
              "#f0f921"
             ]
            ],
            "type": "histogram2dcontour"
           }
          ],
          "mesh3d": [
           {
            "colorbar": {
             "outlinewidth": 0,
             "ticks": ""
            },
            "type": "mesh3d"
           }
          ],
          "parcoords": [
           {
            "line": {
             "colorbar": {
              "outlinewidth": 0,
              "ticks": ""
             }
            },
            "type": "parcoords"
           }
          ],
          "pie": [
           {
            "automargin": true,
            "type": "pie"
           }
          ],
          "scatter": [
           {
            "marker": {
             "colorbar": {
              "outlinewidth": 0,
              "ticks": ""
             }
            },
            "type": "scatter"
           }
          ],
          "scatter3d": [
           {
            "line": {
             "colorbar": {
              "outlinewidth": 0,
              "ticks": ""
             }
            },
            "marker": {
             "colorbar": {
              "outlinewidth": 0,
              "ticks": ""
             }
            },
            "type": "scatter3d"
           }
          ],
          "scattercarpet": [
           {
            "marker": {
             "colorbar": {
              "outlinewidth": 0,
              "ticks": ""
             }
            },
            "type": "scattercarpet"
           }
          ],
          "scattergeo": [
           {
            "marker": {
             "colorbar": {
              "outlinewidth": 0,
              "ticks": ""
             }
            },
            "type": "scattergeo"
           }
          ],
          "scattergl": [
           {
            "marker": {
             "colorbar": {
              "outlinewidth": 0,
              "ticks": ""
             }
            },
            "type": "scattergl"
           }
          ],
          "scattermapbox": [
           {
            "marker": {
             "colorbar": {
              "outlinewidth": 0,
              "ticks": ""
             }
            },
            "type": "scattermapbox"
           }
          ],
          "scatterpolar": [
           {
            "marker": {
             "colorbar": {
              "outlinewidth": 0,
              "ticks": ""
             }
            },
            "type": "scatterpolar"
           }
          ],
          "scatterpolargl": [
           {
            "marker": {
             "colorbar": {
              "outlinewidth": 0,
              "ticks": ""
             }
            },
            "type": "scatterpolargl"
           }
          ],
          "scatterternary": [
           {
            "marker": {
             "colorbar": {
              "outlinewidth": 0,
              "ticks": ""
             }
            },
            "type": "scatterternary"
           }
          ],
          "surface": [
           {
            "colorbar": {
             "outlinewidth": 0,
             "ticks": ""
            },
            "colorscale": [
             [
              0,
              "#0d0887"
             ],
             [
              0.1111111111111111,
              "#46039f"
             ],
             [
              0.2222222222222222,
              "#7201a8"
             ],
             [
              0.3333333333333333,
              "#9c179e"
             ],
             [
              0.4444444444444444,
              "#bd3786"
             ],
             [
              0.5555555555555556,
              "#d8576b"
             ],
             [
              0.6666666666666666,
              "#ed7953"
             ],
             [
              0.7777777777777778,
              "#fb9f3a"
             ],
             [
              0.8888888888888888,
              "#fdca26"
             ],
             [
              1,
              "#f0f921"
             ]
            ],
            "type": "surface"
           }
          ],
          "table": [
           {
            "cells": {
             "fill": {
              "color": "#EBF0F8"
             },
             "line": {
              "color": "white"
             }
            },
            "header": {
             "fill": {
              "color": "#C8D4E3"
             },
             "line": {
              "color": "white"
             }
            },
            "type": "table"
           }
          ]
         },
         "layout": {
          "annotationdefaults": {
           "arrowcolor": "#2a3f5f",
           "arrowhead": 0,
           "arrowwidth": 1
          },
          "coloraxis": {
           "colorbar": {
            "outlinewidth": 0,
            "ticks": ""
           }
          },
          "colorscale": {
           "diverging": [
            [
             0,
             "#8e0152"
            ],
            [
             0.1,
             "#c51b7d"
            ],
            [
             0.2,
             "#de77ae"
            ],
            [
             0.3,
             "#f1b6da"
            ],
            [
             0.4,
             "#fde0ef"
            ],
            [
             0.5,
             "#f7f7f7"
            ],
            [
             0.6,
             "#e6f5d0"
            ],
            [
             0.7,
             "#b8e186"
            ],
            [
             0.8,
             "#7fbc41"
            ],
            [
             0.9,
             "#4d9221"
            ],
            [
             1,
             "#276419"
            ]
           ],
           "sequential": [
            [
             0,
             "#0d0887"
            ],
            [
             0.1111111111111111,
             "#46039f"
            ],
            [
             0.2222222222222222,
             "#7201a8"
            ],
            [
             0.3333333333333333,
             "#9c179e"
            ],
            [
             0.4444444444444444,
             "#bd3786"
            ],
            [
             0.5555555555555556,
             "#d8576b"
            ],
            [
             0.6666666666666666,
             "#ed7953"
            ],
            [
             0.7777777777777778,
             "#fb9f3a"
            ],
            [
             0.8888888888888888,
             "#fdca26"
            ],
            [
             1,
             "#f0f921"
            ]
           ],
           "sequentialminus": [
            [
             0,
             "#0d0887"
            ],
            [
             0.1111111111111111,
             "#46039f"
            ],
            [
             0.2222222222222222,
             "#7201a8"
            ],
            [
             0.3333333333333333,
             "#9c179e"
            ],
            [
             0.4444444444444444,
             "#bd3786"
            ],
            [
             0.5555555555555556,
             "#d8576b"
            ],
            [
             0.6666666666666666,
             "#ed7953"
            ],
            [
             0.7777777777777778,
             "#fb9f3a"
            ],
            [
             0.8888888888888888,
             "#fdca26"
            ],
            [
             1,
             "#f0f921"
            ]
           ]
          },
          "colorway": [
           "#636efa",
           "#EF553B",
           "#00cc96",
           "#ab63fa",
           "#FFA15A",
           "#19d3f3",
           "#FF6692",
           "#B6E880",
           "#FF97FF",
           "#FECB52"
          ],
          "font": {
           "color": "#2a3f5f"
          },
          "geo": {
           "bgcolor": "white",
           "lakecolor": "white",
           "landcolor": "#E5ECF6",
           "showlakes": true,
           "showland": true,
           "subunitcolor": "white"
          },
          "hoverlabel": {
           "align": "left"
          },
          "hovermode": "closest",
          "mapbox": {
           "style": "light"
          },
          "paper_bgcolor": "white",
          "plot_bgcolor": "#E5ECF6",
          "polar": {
           "angularaxis": {
            "gridcolor": "white",
            "linecolor": "white",
            "ticks": ""
           },
           "bgcolor": "#E5ECF6",
           "radialaxis": {
            "gridcolor": "white",
            "linecolor": "white",
            "ticks": ""
           }
          },
          "scene": {
           "xaxis": {
            "backgroundcolor": "#E5ECF6",
            "gridcolor": "white",
            "gridwidth": 2,
            "linecolor": "white",
            "showbackground": true,
            "ticks": "",
            "zerolinecolor": "white"
           },
           "yaxis": {
            "backgroundcolor": "#E5ECF6",
            "gridcolor": "white",
            "gridwidth": 2,
            "linecolor": "white",
            "showbackground": true,
            "ticks": "",
            "zerolinecolor": "white"
           },
           "zaxis": {
            "backgroundcolor": "#E5ECF6",
            "gridcolor": "white",
            "gridwidth": 2,
            "linecolor": "white",
            "showbackground": true,
            "ticks": "",
            "zerolinecolor": "white"
           }
          },
          "shapedefaults": {
           "line": {
            "color": "#2a3f5f"
           }
          },
          "ternary": {
           "aaxis": {
            "gridcolor": "white",
            "linecolor": "white",
            "ticks": ""
           },
           "baxis": {
            "gridcolor": "white",
            "linecolor": "white",
            "ticks": ""
           },
           "bgcolor": "#E5ECF6",
           "caxis": {
            "gridcolor": "white",
            "linecolor": "white",
            "ticks": ""
           }
          },
          "title": {
           "x": 0.05
          },
          "xaxis": {
           "automargin": true,
           "gridcolor": "white",
           "linecolor": "white",
           "ticks": "",
           "title": {
            "standoff": 15
           },
           "zerolinecolor": "white",
           "zerolinewidth": 2
          },
          "yaxis": {
           "automargin": true,
           "gridcolor": "white",
           "linecolor": "white",
           "ticks": "",
           "title": {
            "standoff": 15
           },
           "zerolinecolor": "white",
           "zerolinewidth": 2
          }
         }
        },
        "title": {
         "text": "Minnesota All Grades All Formulations Retail Gasoline Prices, Monthly"
        },
        "xaxis": {
         "anchor": "y",
         "domain": [
          0,
          1
         ],
         "title": {
          "text": "Date"
         }
        },
        "yaxis": {
         "anchor": "x",
         "domain": [
          0,
          1
         ],
         "title": {
          "text": "Average Monthly Price ($)"
         }
        }
       }
      },
      "text/html": [
       "<div>\n",
       "        \n",
       "        \n",
       "            <div id=\"7b5831ca-985d-45f5-b163-ef8934b518ec\" class=\"plotly-graph-div\" style=\"height:525px; width:100%;\"></div>\n",
       "            <script type=\"text/javascript\">\n",
       "                require([\"plotly\"], function(Plotly) {\n",
       "                    window.PLOTLYENV=window.PLOTLYENV || {};\n",
       "                    \n",
       "                if (document.getElementById(\"7b5831ca-985d-45f5-b163-ef8934b518ec\")) {\n",
       "                    Plotly.newPlot(\n",
       "                        '7b5831ca-985d-45f5-b163-ef8934b518ec',\n",
       "                        [{\"hoverlabel\": {\"namelength\": 0}, \"hovertemplate\": \"date=%{x}<br>price=%{y}\", \"legendgroup\": \"\", \"line\": {\"color\": \"#636efa\", \"dash\": \"solid\"}, \"mode\": \"lines\", \"name\": \"\", \"showlegend\": false, \"type\": \"scatter\", \"x\": [\"2020-02-01T00:00:00\", \"2020-01-01T00:00:00\", \"2019-12-01T00:00:00\", \"2019-11-01T00:00:00\", \"2019-10-01T00:00:00\", \"2019-09-01T00:00:00\", \"2019-08-01T00:00:00\", \"2019-07-01T00:00:00\", \"2019-06-01T00:00:00\", \"2019-05-01T00:00:00\", \"2019-04-01T00:00:00\", \"2019-03-01T00:00:00\", \"2019-02-01T00:00:00\", \"2019-01-01T00:00:00\", \"2018-12-01T00:00:00\", \"2018-11-01T00:00:00\", \"2018-10-01T00:00:00\", \"2018-09-01T00:00:00\", \"2018-08-01T00:00:00\", \"2018-07-01T00:00:00\", \"2018-06-01T00:00:00\", \"2018-05-01T00:00:00\", \"2018-04-01T00:00:00\", \"2018-03-01T00:00:00\", \"2018-02-01T00:00:00\", \"2018-01-01T00:00:00\", \"2017-12-01T00:00:00\", \"2017-11-01T00:00:00\", \"2017-10-01T00:00:00\", \"2017-09-01T00:00:00\", \"2017-08-01T00:00:00\", \"2017-07-01T00:00:00\", \"2017-06-01T00:00:00\", \"2017-05-01T00:00:00\", \"2017-04-01T00:00:00\", \"2017-03-01T00:00:00\", \"2017-02-01T00:00:00\", \"2017-01-01T00:00:00\", \"2016-12-01T00:00:00\", \"2016-11-01T00:00:00\", \"2016-10-01T00:00:00\", \"2016-09-01T00:00:00\", \"2016-08-01T00:00:00\", \"2016-07-01T00:00:00\", \"2016-06-01T00:00:00\", \"2016-05-01T00:00:00\", \"2016-04-01T00:00:00\", \"2016-03-01T00:00:00\", \"2016-02-01T00:00:00\", \"2016-01-01T00:00:00\", \"2015-12-01T00:00:00\", \"2015-11-01T00:00:00\", \"2015-10-01T00:00:00\", \"2015-09-01T00:00:00\", \"2015-08-01T00:00:00\", \"2015-07-01T00:00:00\", \"2015-06-01T00:00:00\", \"2015-05-01T00:00:00\", \"2015-04-01T00:00:00\", \"2015-03-01T00:00:00\", \"2015-02-01T00:00:00\", \"2015-01-01T00:00:00\", \"2014-12-01T00:00:00\", \"2014-11-01T00:00:00\", \"2014-10-01T00:00:00\", \"2014-09-01T00:00:00\", \"2014-08-01T00:00:00\", \"2014-07-01T00:00:00\", \"2014-06-01T00:00:00\", \"2014-05-01T00:00:00\", \"2014-04-01T00:00:00\", \"2014-03-01T00:00:00\", \"2014-02-01T00:00:00\", \"2014-01-01T00:00:00\", \"2013-12-01T00:00:00\", \"2013-11-01T00:00:00\", \"2013-10-01T00:00:00\", \"2013-09-01T00:00:00\", \"2013-08-01T00:00:00\", \"2013-07-01T00:00:00\", \"2013-06-01T00:00:00\", \"2013-05-01T00:00:00\", \"2013-04-01T00:00:00\", \"2013-03-01T00:00:00\", \"2013-02-01T00:00:00\", \"2013-01-01T00:00:00\", \"2012-12-01T00:00:00\", \"2012-11-01T00:00:00\", \"2012-10-01T00:00:00\", \"2012-09-01T00:00:00\", \"2012-08-01T00:00:00\", \"2012-07-01T00:00:00\", \"2012-06-01T00:00:00\", \"2012-05-01T00:00:00\", \"2012-04-01T00:00:00\", \"2012-03-01T00:00:00\", \"2012-02-01T00:00:00\", \"2012-01-01T00:00:00\", \"2011-12-01T00:00:00\", \"2011-11-01T00:00:00\", \"2011-10-01T00:00:00\", \"2011-09-01T00:00:00\", \"2011-08-01T00:00:00\", \"2011-07-01T00:00:00\", \"2011-06-01T00:00:00\", \"2011-05-01T00:00:00\", \"2011-04-01T00:00:00\", \"2011-03-01T00:00:00\", \"2011-02-01T00:00:00\", \"2011-01-01T00:00:00\", \"2010-12-01T00:00:00\", \"2010-11-01T00:00:00\", \"2010-10-01T00:00:00\", \"2010-09-01T00:00:00\", \"2010-08-01T00:00:00\", \"2010-07-01T00:00:00\", \"2010-06-01T00:00:00\", \"2010-05-01T00:00:00\", \"2010-04-01T00:00:00\", \"2010-03-01T00:00:00\", \"2010-02-01T00:00:00\", \"2010-01-01T00:00:00\", \"2009-12-01T00:00:00\", \"2009-11-01T00:00:00\", \"2009-10-01T00:00:00\", \"2009-09-01T00:00:00\", \"2009-08-01T00:00:00\", \"2009-07-01T00:00:00\", \"2009-06-01T00:00:00\", \"2009-05-01T00:00:00\", \"2009-04-01T00:00:00\", \"2009-03-01T00:00:00\", \"2009-02-01T00:00:00\", \"2009-01-01T00:00:00\", \"2008-12-01T00:00:00\", \"2008-11-01T00:00:00\", \"2008-10-01T00:00:00\", \"2008-09-01T00:00:00\", \"2008-08-01T00:00:00\", \"2008-07-01T00:00:00\", \"2008-06-01T00:00:00\", \"2008-05-01T00:00:00\", \"2008-04-01T00:00:00\", \"2008-03-01T00:00:00\", \"2008-02-01T00:00:00\", \"2008-01-01T00:00:00\", \"2007-12-01T00:00:00\", \"2007-11-01T00:00:00\", \"2007-10-01T00:00:00\", \"2007-09-01T00:00:00\", \"2007-08-01T00:00:00\", \"2007-07-01T00:00:00\", \"2007-06-01T00:00:00\", \"2007-05-01T00:00:00\", \"2007-04-01T00:00:00\", \"2007-03-01T00:00:00\", \"2007-02-01T00:00:00\", \"2007-01-01T00:00:00\", \"2006-12-01T00:00:00\", \"2006-11-01T00:00:00\", \"2006-10-01T00:00:00\", \"2006-09-01T00:00:00\", \"2006-08-01T00:00:00\", \"2006-07-01T00:00:00\", \"2006-06-01T00:00:00\", \"2006-05-01T00:00:00\", \"2006-04-01T00:00:00\", \"2006-03-01T00:00:00\", \"2006-02-01T00:00:00\", \"2006-01-01T00:00:00\", \"2005-12-01T00:00:00\", \"2005-11-01T00:00:00\", \"2005-10-01T00:00:00\", \"2005-09-01T00:00:00\", \"2005-08-01T00:00:00\", \"2005-07-01T00:00:00\", \"2005-06-01T00:00:00\", \"2005-05-01T00:00:00\", \"2005-04-01T00:00:00\", \"2005-03-01T00:00:00\", \"2005-02-01T00:00:00\", \"2005-01-01T00:00:00\", \"2004-12-01T00:00:00\", \"2004-11-01T00:00:00\", \"2004-10-01T00:00:00\", \"2004-09-01T00:00:00\", \"2004-08-01T00:00:00\", \"2004-07-01T00:00:00\", \"2004-06-01T00:00:00\", \"2004-05-01T00:00:00\", \"2004-04-01T00:00:00\", \"2004-03-01T00:00:00\", \"2004-02-01T00:00:00\", \"2004-01-01T00:00:00\", \"2003-12-01T00:00:00\", \"2003-11-01T00:00:00\", \"2003-10-01T00:00:00\", \"2003-09-01T00:00:00\", \"2003-08-01T00:00:00\", \"2003-07-01T00:00:00\", \"2003-06-01T00:00:00\", \"2003-05-01T00:00:00\", \"2003-04-01T00:00:00\", \"2003-03-01T00:00:00\", \"2003-02-01T00:00:00\", \"2003-01-01T00:00:00\", \"2002-12-01T00:00:00\", \"2002-11-01T00:00:00\", \"2002-10-01T00:00:00\", \"2002-09-01T00:00:00\", \"2002-08-01T00:00:00\", \"2002-07-01T00:00:00\", \"2002-06-01T00:00:00\", \"2002-05-01T00:00:00\", \"2002-04-01T00:00:00\", \"2002-03-01T00:00:00\", \"2002-02-01T00:00:00\", \"2002-01-01T00:00:00\", \"2001-12-01T00:00:00\", \"2001-11-01T00:00:00\", \"2001-10-01T00:00:00\", \"2001-09-01T00:00:00\", \"2001-08-01T00:00:00\", \"2001-07-01T00:00:00\", \"2001-06-01T00:00:00\", \"2001-05-01T00:00:00\", \"2001-04-01T00:00:00\", \"2001-03-01T00:00:00\", \"2001-02-01T00:00:00\", \"2001-01-01T00:00:00\", \"2000-12-01T00:00:00\", \"2000-11-01T00:00:00\", \"2000-10-01T00:00:00\", \"2000-09-01T00:00:00\", \"2000-08-01T00:00:00\", \"2000-07-01T00:00:00\", \"2000-06-01T00:00:00\"], \"xaxis\": \"x\", \"y\": [2.325, 2.435, 2.418, 2.486, 2.52, 2.533, 2.572, 2.622, 2.64, 2.745, 2.714, 2.478, 2.178, 2.071, 2.25, 2.581, 2.818, 2.772, 2.785, 2.786, 2.815, 2.785, 2.587, 2.549, 2.603, 2.533, 2.46, 2.555, 2.449, 2.521, 2.359, 2.29, 2.321, 2.354, 2.361, 2.313, 2.319, 2.363, 2.168, 2.055, 2.203, 2.232, 2.205, 2.18, 2.315, 2.23, 2.02, 2.007, 1.666, 1.818, 1.95, 2.197, 2.456, 2.359, 2.632, 2.749, 2.709, 2.594, 2.364, 2.438, 2.216, 2.02, 2.468, 2.922, 3.111, 3.325, 3.397, 3.506, 3.599, 3.548, 3.569, 3.558, 3.343, 3.272, 3.113, 3.143, 3.318, 3.54, 3.577, 3.562, 3.726, 3.986, 3.544, 3.665, 3.697, 3.137, 3.183, 3.299, 3.678, 3.891, 3.756, 3.561, 3.593, 3.639, 3.756, 3.703, 3.474, 3.296, 3.229, 3.34, 3.508, 3.725, 3.722, 3.726, 3.669, 3.895, 3.813, 3.557, 3.258, 3.141, 2.998, 2.842, 2.88, 2.786, 2.717, 2.721, 2.709, 2.787, 2.832, 2.795, 2.637, 2.722, 2.547, 2.636, 2.523, 2.461, 2.553, 2.428, 2.605, 2.284, 2.029, 1.955, 1.929, 1.828, 1.687, 1.967, 2.749, 3.612, 3.651, 3.897, 3.938, 3.68, 3.363, 3.102, 2.983, 2.951, 2.907, 3.042, 2.8, 2.962, 2.883, 3.036, 2.968, 3.186, 2.728, 2.503, 2.255, 2.088, 2.254, 2.213, 2.194, 2.372, 2.971, 2.985, 2.846, 2.775, 2.698, 2.443, 2.2, 2.252, 2.165, 2.119, 2.486, 2.725, 2.431, 2.184, 2.082, 1.985, 2.091, 2.068, 1.896, 1.822, 1.741, 1.913, 1.935, 1.824, 1.816, 1.836, 1.834, 1.973, 1.767, 1.7, 1.639, 1.587, 1.479, 1.498, 1.562, 1.604, 1.666, 1.533, 1.484, 1.457, 1.477, 1.623, 1.624, 1.445, 1.383, 1.433, 1.548, 1.442, 1.444, 1.443, 1.345, 1.364, 1.434, 1.324, 1.12, 1.149, 1.102, 1.176, 1.29, 1.739, 1.601, 1.384, 1.622, 1.821, 1.624, 1.426, 1.569, 1.561, 1.456, 1.511, 1.544, 1.614, 1.489, 1.478, 1.757], \"yaxis\": \"y\"}],\n",
       "                        {\"legend\": {\"tracegroupgap\": 0}, \"template\": {\"data\": {\"bar\": [{\"error_x\": {\"color\": \"#2a3f5f\"}, \"error_y\": {\"color\": \"#2a3f5f\"}, \"marker\": {\"line\": {\"color\": \"#E5ECF6\", \"width\": 0.5}}, \"type\": \"bar\"}], \"barpolar\": [{\"marker\": {\"line\": {\"color\": \"#E5ECF6\", \"width\": 0.5}}, \"type\": \"barpolar\"}], \"carpet\": [{\"aaxis\": {\"endlinecolor\": \"#2a3f5f\", \"gridcolor\": \"white\", \"linecolor\": \"white\", \"minorgridcolor\": \"white\", \"startlinecolor\": \"#2a3f5f\"}, \"baxis\": {\"endlinecolor\": \"#2a3f5f\", \"gridcolor\": \"white\", \"linecolor\": \"white\", \"minorgridcolor\": \"white\", \"startlinecolor\": \"#2a3f5f\"}, \"type\": \"carpet\"}], \"choropleth\": [{\"colorbar\": {\"outlinewidth\": 0, \"ticks\": \"\"}, \"type\": \"choropleth\"}], \"contour\": [{\"colorbar\": {\"outlinewidth\": 0, \"ticks\": \"\"}, \"colorscale\": [[0.0, \"#0d0887\"], [0.1111111111111111, \"#46039f\"], [0.2222222222222222, \"#7201a8\"], [0.3333333333333333, \"#9c179e\"], [0.4444444444444444, \"#bd3786\"], [0.5555555555555556, \"#d8576b\"], [0.6666666666666666, \"#ed7953\"], [0.7777777777777778, \"#fb9f3a\"], [0.8888888888888888, \"#fdca26\"], [1.0, \"#f0f921\"]], \"type\": \"contour\"}], \"contourcarpet\": [{\"colorbar\": {\"outlinewidth\": 0, \"ticks\": \"\"}, \"type\": \"contourcarpet\"}], \"heatmap\": [{\"colorbar\": {\"outlinewidth\": 0, \"ticks\": \"\"}, \"colorscale\": [[0.0, \"#0d0887\"], [0.1111111111111111, \"#46039f\"], [0.2222222222222222, \"#7201a8\"], [0.3333333333333333, \"#9c179e\"], [0.4444444444444444, \"#bd3786\"], [0.5555555555555556, \"#d8576b\"], [0.6666666666666666, \"#ed7953\"], [0.7777777777777778, \"#fb9f3a\"], [0.8888888888888888, \"#fdca26\"], [1.0, \"#f0f921\"]], \"type\": \"heatmap\"}], \"heatmapgl\": [{\"colorbar\": {\"outlinewidth\": 0, \"ticks\": \"\"}, \"colorscale\": [[0.0, \"#0d0887\"], [0.1111111111111111, \"#46039f\"], [0.2222222222222222, \"#7201a8\"], [0.3333333333333333, \"#9c179e\"], [0.4444444444444444, \"#bd3786\"], [0.5555555555555556, \"#d8576b\"], [0.6666666666666666, \"#ed7953\"], [0.7777777777777778, \"#fb9f3a\"], [0.8888888888888888, \"#fdca26\"], [1.0, \"#f0f921\"]], \"type\": \"heatmapgl\"}], \"histogram\": [{\"marker\": {\"colorbar\": {\"outlinewidth\": 0, \"ticks\": \"\"}}, \"type\": \"histogram\"}], \"histogram2d\": [{\"colorbar\": {\"outlinewidth\": 0, \"ticks\": \"\"}, \"colorscale\": [[0.0, \"#0d0887\"], [0.1111111111111111, \"#46039f\"], [0.2222222222222222, \"#7201a8\"], [0.3333333333333333, \"#9c179e\"], [0.4444444444444444, \"#bd3786\"], [0.5555555555555556, \"#d8576b\"], [0.6666666666666666, \"#ed7953\"], [0.7777777777777778, \"#fb9f3a\"], [0.8888888888888888, \"#fdca26\"], [1.0, \"#f0f921\"]], \"type\": \"histogram2d\"}], \"histogram2dcontour\": [{\"colorbar\": {\"outlinewidth\": 0, \"ticks\": \"\"}, \"colorscale\": [[0.0, \"#0d0887\"], [0.1111111111111111, \"#46039f\"], [0.2222222222222222, \"#7201a8\"], [0.3333333333333333, \"#9c179e\"], [0.4444444444444444, \"#bd3786\"], [0.5555555555555556, \"#d8576b\"], [0.6666666666666666, \"#ed7953\"], [0.7777777777777778, \"#fb9f3a\"], [0.8888888888888888, \"#fdca26\"], [1.0, \"#f0f921\"]], \"type\": \"histogram2dcontour\"}], \"mesh3d\": [{\"colorbar\": {\"outlinewidth\": 0, \"ticks\": \"\"}, \"type\": \"mesh3d\"}], \"parcoords\": [{\"line\": {\"colorbar\": {\"outlinewidth\": 0, \"ticks\": \"\"}}, \"type\": \"parcoords\"}], \"pie\": [{\"automargin\": true, \"type\": \"pie\"}], \"scatter\": [{\"marker\": {\"colorbar\": {\"outlinewidth\": 0, \"ticks\": \"\"}}, \"type\": \"scatter\"}], \"scatter3d\": [{\"line\": {\"colorbar\": {\"outlinewidth\": 0, \"ticks\": \"\"}}, \"marker\": {\"colorbar\": {\"outlinewidth\": 0, \"ticks\": \"\"}}, \"type\": \"scatter3d\"}], \"scattercarpet\": [{\"marker\": {\"colorbar\": {\"outlinewidth\": 0, \"ticks\": \"\"}}, \"type\": \"scattercarpet\"}], \"scattergeo\": [{\"marker\": {\"colorbar\": {\"outlinewidth\": 0, \"ticks\": \"\"}}, \"type\": \"scattergeo\"}], \"scattergl\": [{\"marker\": {\"colorbar\": {\"outlinewidth\": 0, \"ticks\": \"\"}}, \"type\": \"scattergl\"}], \"scattermapbox\": [{\"marker\": {\"colorbar\": {\"outlinewidth\": 0, \"ticks\": \"\"}}, \"type\": \"scattermapbox\"}], \"scatterpolar\": [{\"marker\": {\"colorbar\": {\"outlinewidth\": 0, \"ticks\": \"\"}}, \"type\": \"scatterpolar\"}], \"scatterpolargl\": [{\"marker\": {\"colorbar\": {\"outlinewidth\": 0, \"ticks\": \"\"}}, \"type\": \"scatterpolargl\"}], \"scatterternary\": [{\"marker\": {\"colorbar\": {\"outlinewidth\": 0, \"ticks\": \"\"}}, \"type\": \"scatterternary\"}], \"surface\": [{\"colorbar\": {\"outlinewidth\": 0, \"ticks\": \"\"}, \"colorscale\": [[0.0, \"#0d0887\"], [0.1111111111111111, \"#46039f\"], [0.2222222222222222, \"#7201a8\"], [0.3333333333333333, \"#9c179e\"], [0.4444444444444444, \"#bd3786\"], [0.5555555555555556, \"#d8576b\"], [0.6666666666666666, \"#ed7953\"], [0.7777777777777778, \"#fb9f3a\"], [0.8888888888888888, \"#fdca26\"], [1.0, \"#f0f921\"]], \"type\": \"surface\"}], \"table\": [{\"cells\": {\"fill\": {\"color\": \"#EBF0F8\"}, \"line\": {\"color\": \"white\"}}, \"header\": {\"fill\": {\"color\": \"#C8D4E3\"}, \"line\": {\"color\": \"white\"}}, \"type\": \"table\"}]}, \"layout\": {\"annotationdefaults\": {\"arrowcolor\": \"#2a3f5f\", \"arrowhead\": 0, \"arrowwidth\": 1}, \"coloraxis\": {\"colorbar\": {\"outlinewidth\": 0, \"ticks\": \"\"}}, \"colorscale\": {\"diverging\": [[0, \"#8e0152\"], [0.1, \"#c51b7d\"], [0.2, \"#de77ae\"], [0.3, \"#f1b6da\"], [0.4, \"#fde0ef\"], [0.5, \"#f7f7f7\"], [0.6, \"#e6f5d0\"], [0.7, \"#b8e186\"], [0.8, \"#7fbc41\"], [0.9, \"#4d9221\"], [1, \"#276419\"]], \"sequential\": [[0.0, \"#0d0887\"], [0.1111111111111111, \"#46039f\"], [0.2222222222222222, \"#7201a8\"], [0.3333333333333333, \"#9c179e\"], [0.4444444444444444, \"#bd3786\"], [0.5555555555555556, \"#d8576b\"], [0.6666666666666666, \"#ed7953\"], [0.7777777777777778, \"#fb9f3a\"], [0.8888888888888888, \"#fdca26\"], [1.0, \"#f0f921\"]], \"sequentialminus\": [[0.0, \"#0d0887\"], [0.1111111111111111, \"#46039f\"], [0.2222222222222222, \"#7201a8\"], [0.3333333333333333, \"#9c179e\"], [0.4444444444444444, \"#bd3786\"], [0.5555555555555556, \"#d8576b\"], [0.6666666666666666, \"#ed7953\"], [0.7777777777777778, \"#fb9f3a\"], [0.8888888888888888, \"#fdca26\"], [1.0, \"#f0f921\"]]}, \"colorway\": [\"#636efa\", \"#EF553B\", \"#00cc96\", \"#ab63fa\", \"#FFA15A\", \"#19d3f3\", \"#FF6692\", \"#B6E880\", \"#FF97FF\", \"#FECB52\"], \"font\": {\"color\": \"#2a3f5f\"}, \"geo\": {\"bgcolor\": \"white\", \"lakecolor\": \"white\", \"landcolor\": \"#E5ECF6\", \"showlakes\": true, \"showland\": true, \"subunitcolor\": \"white\"}, \"hoverlabel\": {\"align\": \"left\"}, \"hovermode\": \"closest\", \"mapbox\": {\"style\": \"light\"}, \"paper_bgcolor\": \"white\", \"plot_bgcolor\": \"#E5ECF6\", \"polar\": {\"angularaxis\": {\"gridcolor\": \"white\", \"linecolor\": \"white\", \"ticks\": \"\"}, \"bgcolor\": \"#E5ECF6\", \"radialaxis\": {\"gridcolor\": \"white\", \"linecolor\": \"white\", \"ticks\": \"\"}}, \"scene\": {\"xaxis\": {\"backgroundcolor\": \"#E5ECF6\", \"gridcolor\": \"white\", \"gridwidth\": 2, \"linecolor\": \"white\", \"showbackground\": true, \"ticks\": \"\", \"zerolinecolor\": \"white\"}, \"yaxis\": {\"backgroundcolor\": \"#E5ECF6\", \"gridcolor\": \"white\", \"gridwidth\": 2, \"linecolor\": \"white\", \"showbackground\": true, \"ticks\": \"\", \"zerolinecolor\": \"white\"}, \"zaxis\": {\"backgroundcolor\": \"#E5ECF6\", \"gridcolor\": \"white\", \"gridwidth\": 2, \"linecolor\": \"white\", \"showbackground\": true, \"ticks\": \"\", \"zerolinecolor\": \"white\"}}, \"shapedefaults\": {\"line\": {\"color\": \"#2a3f5f\"}}, \"ternary\": {\"aaxis\": {\"gridcolor\": \"white\", \"linecolor\": \"white\", \"ticks\": \"\"}, \"baxis\": {\"gridcolor\": \"white\", \"linecolor\": \"white\", \"ticks\": \"\"}, \"bgcolor\": \"#E5ECF6\", \"caxis\": {\"gridcolor\": \"white\", \"linecolor\": \"white\", \"ticks\": \"\"}}, \"title\": {\"x\": 0.05}, \"xaxis\": {\"automargin\": true, \"gridcolor\": \"white\", \"linecolor\": \"white\", \"ticks\": \"\", \"title\": {\"standoff\": 15}, \"zerolinecolor\": \"white\", \"zerolinewidth\": 2}, \"yaxis\": {\"automargin\": true, \"gridcolor\": \"white\", \"linecolor\": \"white\", \"ticks\": \"\", \"title\": {\"standoff\": 15}, \"zerolinecolor\": \"white\", \"zerolinewidth\": 2}}}, \"title\": {\"text\": \"Minnesota All Grades All Formulations Retail Gasoline Prices, Monthly\"}, \"xaxis\": {\"anchor\": \"y\", \"domain\": [0.0, 1.0], \"title\": {\"text\": \"Date\"}}, \"yaxis\": {\"anchor\": \"x\", \"domain\": [0.0, 1.0], \"title\": {\"text\": \"Average Monthly Price ($)\"}}},\n",
       "                        {\"responsive\": true}\n",
       "                    ).then(function(){\n",
       "                            \n",
       "var gd = document.getElementById('7b5831ca-985d-45f5-b163-ef8934b518ec');\n",
       "var x = new MutationObserver(function (mutations, observer) {{\n",
       "        var display = window.getComputedStyle(gd).display;\n",
       "        if (!display || display === 'none') {{\n",
       "            console.log([gd, 'removed!']);\n",
       "            Plotly.purge(gd);\n",
       "            observer.disconnect();\n",
       "        }}\n",
       "}});\n",
       "\n",
       "// Listen for the removal of the full notebook cells\n",
       "var notebookContainer = gd.closest('#notebook-container');\n",
       "if (notebookContainer) {{\n",
       "    x.observe(notebookContainer, {childList: true});\n",
       "}}\n",
       "\n",
       "// Listen for the clearing of the current output cell\n",
       "var outputEl = gd.closest('.output');\n",
       "if (outputEl) {{\n",
       "    x.observe(outputEl, {childList: true});\n",
       "}}\n",
       "\n",
       "                        })\n",
       "                };\n",
       "                });\n",
       "            </script>\n",
       "        </div>"
      ]
     },
     "metadata": {},
     "output_type": "display_data"
    },
    {
     "data": {
      "application/vnd.plotly.v1+json": {
       "config": {
        "plotlyServerURL": "https://plot.ly"
       },
       "data": [
        {
         "hoverlabel": {
          "namelength": 0
         },
         "hovertemplate": "date=%{x}<br>price=%{y}",
         "legendgroup": "",
         "line": {
          "color": "#636efa",
          "dash": "solid"
         },
         "mode": "lines",
         "name": "",
         "showlegend": false,
         "type": "scatter",
         "x": [
          "2020-02-01T00:00:00",
          "2020-01-01T00:00:00",
          "2019-12-01T00:00:00",
          "2019-11-01T00:00:00",
          "2019-10-01T00:00:00",
          "2019-09-01T00:00:00",
          "2019-08-01T00:00:00",
          "2019-07-01T00:00:00",
          "2019-06-01T00:00:00",
          "2019-05-01T00:00:00",
          "2019-04-01T00:00:00",
          "2019-03-01T00:00:00",
          "2019-02-01T00:00:00",
          "2019-01-01T00:00:00",
          "2018-12-01T00:00:00",
          "2018-11-01T00:00:00",
          "2018-10-01T00:00:00",
          "2018-09-01T00:00:00",
          "2018-08-01T00:00:00",
          "2018-07-01T00:00:00",
          "2018-06-01T00:00:00",
          "2018-05-01T00:00:00",
          "2018-04-01T00:00:00",
          "2018-03-01T00:00:00",
          "2018-02-01T00:00:00",
          "2018-01-01T00:00:00",
          "2017-12-01T00:00:00",
          "2017-11-01T00:00:00",
          "2017-10-01T00:00:00",
          "2017-09-01T00:00:00",
          "2017-08-01T00:00:00",
          "2017-07-01T00:00:00",
          "2017-06-01T00:00:00",
          "2017-05-01T00:00:00",
          "2017-04-01T00:00:00",
          "2017-03-01T00:00:00",
          "2017-02-01T00:00:00",
          "2017-01-01T00:00:00",
          "2016-12-01T00:00:00",
          "2016-11-01T00:00:00",
          "2016-10-01T00:00:00",
          "2016-09-01T00:00:00",
          "2016-08-01T00:00:00",
          "2016-07-01T00:00:00",
          "2016-06-01T00:00:00",
          "2016-05-01T00:00:00",
          "2016-04-01T00:00:00",
          "2016-03-01T00:00:00",
          "2016-02-01T00:00:00",
          "2016-01-01T00:00:00",
          "2015-12-01T00:00:00",
          "2015-11-01T00:00:00",
          "2015-10-01T00:00:00",
          "2015-09-01T00:00:00",
          "2015-08-01T00:00:00",
          "2015-07-01T00:00:00",
          "2015-06-01T00:00:00",
          "2015-05-01T00:00:00",
          "2015-04-01T00:00:00",
          "2015-03-01T00:00:00",
          "2015-02-01T00:00:00",
          "2015-01-01T00:00:00",
          "2014-12-01T00:00:00",
          "2014-11-01T00:00:00",
          "2014-10-01T00:00:00",
          "2014-09-01T00:00:00",
          "2014-08-01T00:00:00",
          "2014-07-01T00:00:00",
          "2014-06-01T00:00:00",
          "2014-05-01T00:00:00",
          "2014-04-01T00:00:00",
          "2014-03-01T00:00:00",
          "2014-02-01T00:00:00",
          "2014-01-01T00:00:00",
          "2013-12-01T00:00:00",
          "2013-11-01T00:00:00",
          "2013-10-01T00:00:00",
          "2013-09-01T00:00:00",
          "2013-08-01T00:00:00",
          "2013-07-01T00:00:00",
          "2013-06-01T00:00:00",
          "2013-05-01T00:00:00",
          "2013-04-01T00:00:00",
          "2013-03-01T00:00:00",
          "2013-02-01T00:00:00",
          "2013-01-01T00:00:00",
          "2012-12-01T00:00:00",
          "2012-11-01T00:00:00",
          "2012-10-01T00:00:00",
          "2012-09-01T00:00:00",
          "2012-08-01T00:00:00",
          "2012-07-01T00:00:00",
          "2012-06-01T00:00:00",
          "2012-05-01T00:00:00",
          "2012-04-01T00:00:00",
          "2012-03-01T00:00:00",
          "2012-02-01T00:00:00",
          "2012-01-01T00:00:00",
          "2011-12-01T00:00:00",
          "2011-11-01T00:00:00",
          "2011-10-01T00:00:00",
          "2011-09-01T00:00:00",
          "2011-08-01T00:00:00",
          "2011-07-01T00:00:00",
          "2011-06-01T00:00:00",
          "2011-05-01T00:00:00",
          "2011-04-01T00:00:00",
          "2011-03-01T00:00:00",
          "2011-02-01T00:00:00",
          "2011-01-01T00:00:00",
          "2010-12-01T00:00:00",
          "2010-11-01T00:00:00",
          "2010-10-01T00:00:00",
          "2010-09-01T00:00:00",
          "2010-08-01T00:00:00",
          "2010-07-01T00:00:00",
          "2010-06-01T00:00:00",
          "2010-05-01T00:00:00",
          "2010-04-01T00:00:00",
          "2010-03-01T00:00:00",
          "2010-02-01T00:00:00",
          "2010-01-01T00:00:00",
          "2009-12-01T00:00:00",
          "2009-11-01T00:00:00",
          "2009-10-01T00:00:00",
          "2009-09-01T00:00:00",
          "2009-08-01T00:00:00",
          "2009-07-01T00:00:00",
          "2009-06-01T00:00:00",
          "2009-05-01T00:00:00",
          "2009-04-01T00:00:00",
          "2009-03-01T00:00:00",
          "2009-02-01T00:00:00",
          "2009-01-01T00:00:00",
          "2008-12-01T00:00:00",
          "2008-11-01T00:00:00",
          "2008-10-01T00:00:00",
          "2008-09-01T00:00:00",
          "2008-08-01T00:00:00",
          "2008-07-01T00:00:00",
          "2008-06-01T00:00:00",
          "2008-05-01T00:00:00",
          "2008-04-01T00:00:00",
          "2008-03-01T00:00:00",
          "2008-02-01T00:00:00",
          "2008-01-01T00:00:00",
          "2007-12-01T00:00:00",
          "2007-11-01T00:00:00",
          "2007-10-01T00:00:00",
          "2007-09-01T00:00:00",
          "2007-08-01T00:00:00",
          "2007-07-01T00:00:00",
          "2007-06-01T00:00:00",
          "2007-05-01T00:00:00",
          "2007-04-01T00:00:00",
          "2007-03-01T00:00:00",
          "2007-02-01T00:00:00",
          "2007-01-01T00:00:00",
          "2006-12-01T00:00:00",
          "2006-11-01T00:00:00",
          "2006-10-01T00:00:00",
          "2006-09-01T00:00:00",
          "2006-08-01T00:00:00",
          "2006-07-01T00:00:00",
          "2006-06-01T00:00:00",
          "2006-05-01T00:00:00",
          "2006-04-01T00:00:00",
          "2006-03-01T00:00:00",
          "2006-02-01T00:00:00",
          "2006-01-01T00:00:00",
          "2005-12-01T00:00:00",
          "2005-11-01T00:00:00",
          "2005-10-01T00:00:00",
          "2005-09-01T00:00:00",
          "2005-08-01T00:00:00",
          "2005-07-01T00:00:00",
          "2005-06-01T00:00:00",
          "2005-05-01T00:00:00",
          "2005-04-01T00:00:00",
          "2005-03-01T00:00:00",
          "2005-02-01T00:00:00",
          "2005-01-01T00:00:00",
          "2004-12-01T00:00:00",
          "2004-11-01T00:00:00",
          "2004-10-01T00:00:00",
          "2004-09-01T00:00:00",
          "2004-08-01T00:00:00",
          "2004-07-01T00:00:00",
          "2004-06-01T00:00:00",
          "2004-05-01T00:00:00",
          "2004-04-01T00:00:00",
          "2004-03-01T00:00:00",
          "2004-02-01T00:00:00",
          "2004-01-01T00:00:00",
          "2003-12-01T00:00:00",
          "2003-11-01T00:00:00",
          "2003-10-01T00:00:00",
          "2003-09-01T00:00:00",
          "2003-08-01T00:00:00",
          "2003-07-01T00:00:00",
          "2003-06-01T00:00:00",
          "2003-05-01T00:00:00",
          "2003-04-01T00:00:00",
          "2003-03-01T00:00:00",
          "2003-02-01T00:00:00",
          "2003-01-01T00:00:00",
          "2002-12-01T00:00:00",
          "2002-11-01T00:00:00",
          "2002-10-01T00:00:00",
          "2002-09-01T00:00:00",
          "2002-08-01T00:00:00",
          "2002-07-01T00:00:00",
          "2002-06-01T00:00:00",
          "2002-05-01T00:00:00",
          "2002-04-01T00:00:00",
          "2002-03-01T00:00:00",
          "2002-02-01T00:00:00",
          "2002-01-01T00:00:00",
          "2001-12-01T00:00:00",
          "2001-11-01T00:00:00",
          "2001-10-01T00:00:00",
          "2001-09-01T00:00:00",
          "2001-08-01T00:00:00",
          "2001-07-01T00:00:00",
          "2001-06-01T00:00:00",
          "2001-05-01T00:00:00",
          "2001-04-01T00:00:00",
          "2001-03-01T00:00:00",
          "2001-02-01T00:00:00",
          "2001-01-01T00:00:00",
          "2000-12-01T00:00:00",
          "2000-11-01T00:00:00",
          "2000-10-01T00:00:00",
          "2000-09-01T00:00:00",
          "2000-08-01T00:00:00",
          "2000-07-01T00:00:00",
          "2000-06-01T00:00:00"
         ],
         "xaxis": "x",
         "y": [
          2.604,
          2.706,
          2.67,
          2.675,
          2.676,
          2.728,
          2.822,
          2.868,
          2.86,
          2.967,
          2.84,
          2.622,
          2.47,
          2.517,
          2.673,
          2.864,
          2.977,
          2.976,
          2.978,
          2.993,
          3.054,
          3.05,
          2.918,
          2.753,
          2.797,
          2.745,
          2.68,
          2.729,
          2.717,
          2.875,
          2.561,
          2.502,
          2.554,
          2.589,
          2.583,
          2.503,
          2.544,
          2.609,
          2.511,
          2.467,
          2.438,
          2.387,
          2.391,
          2.462,
          2.504,
          2.461,
          2.307,
          2.121,
          2.07,
          2.233,
          2.348,
          2.409,
          2.442,
          2.567,
          2.806,
          2.991,
          2.984,
          2.897,
          2.701,
          2.666,
          2.519,
          2.629,
          3.065,
          3.342,
          3.547,
          3.685,
          3.799,
          3.936,
          3.949,
          3.952,
          3.882,
          3.822,
          3.722,
          3.734,
          3.736,
          3.633,
          3.7,
          3.879,
          3.933,
          3.886,
          3.795,
          3.788,
          3.865,
          4.014,
          4.019,
          3.797,
          3.837,
          3.958,
          4.106,
          4.131,
          3.962,
          3.741,
          3.762,
          3.995,
          4.157,
          4.049,
          3.9,
          3.698,
          3.598,
          3.698,
          3.754,
          3.906,
          3.948,
          3.944,
          3.974,
          4.162,
          4.014,
          3.787,
          3.473,
          3.382,
          3.3,
          3.128,
          3.002,
          2.84,
          2.905,
          2.932,
          2.958,
          3.071,
          3.016,
          2.947,
          2.928,
          2.954,
          2.889,
          2.907,
          2.794,
          2.843,
          2.852,
          2.806,
          2.807,
          2.446,
          2.223,
          2.136,
          2.115,
          1.946,
          2.031,
          2.583,
          3.363,
          3.841,
          4.041,
          4.312,
          4.292,
          3.991,
          3.609,
          3.409,
          3.295,
          3.336,
          3.321,
          3.275,
          2.984,
          2.949,
          3.02,
          3.165,
          3.232,
          3.223,
          3.029,
          2.788,
          2.466,
          2.523,
          2.544,
          2.422,
          2.49,
          2.857,
          3.181,
          3.173,
          3.086,
          3.143,
          2.933,
          2.579,
          2.539,
          2.602,
          2.413,
          2.515,
          2.898,
          3.225,
          2.633,
          2.471,
          2.326,
          2.352,
          2.343,
          2.172,
          2.06,
          2.028,
          2.098,
          2.175,
          2.165,
          2.044,
          2.076,
          2.132,
          2.208,
          2.13,
          1.926,
          1.903,
          1.83,
          1.754,
          1.698,
          1.737,
          1.806,
          1.894,
          1.729,
          1.633,
          1.61,
          1.679,
          1.764,
          1.812,
          1.757,
          1.647,
          1.606,
          1.601,
          1.585,
          1.567,
          1.562,
          1.524,
          1.526,
          1.541,
          1.516,
          1.332,
          1.252,
          1.253,
          1.236,
          1.339,
          1.469,
          1.561,
          1.574,
          1.671,
          1.804,
          1.818,
          1.633,
          1.546,
          1.577,
          1.591,
          1.632,
          1.663,
          1.664,
          1.668,
          1.678,
          1.75,
          1.702
         ],
         "yaxis": "y"
        }
       ],
       "layout": {
        "legend": {
         "tracegroupgap": 0
        },
        "template": {
         "data": {
          "bar": [
           {
            "error_x": {
             "color": "#2a3f5f"
            },
            "error_y": {
             "color": "#2a3f5f"
            },
            "marker": {
             "line": {
              "color": "#E5ECF6",
              "width": 0.5
             }
            },
            "type": "bar"
           }
          ],
          "barpolar": [
           {
            "marker": {
             "line": {
              "color": "#E5ECF6",
              "width": 0.5
             }
            },
            "type": "barpolar"
           }
          ],
          "carpet": [
           {
            "aaxis": {
             "endlinecolor": "#2a3f5f",
             "gridcolor": "white",
             "linecolor": "white",
             "minorgridcolor": "white",
             "startlinecolor": "#2a3f5f"
            },
            "baxis": {
             "endlinecolor": "#2a3f5f",
             "gridcolor": "white",
             "linecolor": "white",
             "minorgridcolor": "white",
             "startlinecolor": "#2a3f5f"
            },
            "type": "carpet"
           }
          ],
          "choropleth": [
           {
            "colorbar": {
             "outlinewidth": 0,
             "ticks": ""
            },
            "type": "choropleth"
           }
          ],
          "contour": [
           {
            "colorbar": {
             "outlinewidth": 0,
             "ticks": ""
            },
            "colorscale": [
             [
              0,
              "#0d0887"
             ],
             [
              0.1111111111111111,
              "#46039f"
             ],
             [
              0.2222222222222222,
              "#7201a8"
             ],
             [
              0.3333333333333333,
              "#9c179e"
             ],
             [
              0.4444444444444444,
              "#bd3786"
             ],
             [
              0.5555555555555556,
              "#d8576b"
             ],
             [
              0.6666666666666666,
              "#ed7953"
             ],
             [
              0.7777777777777778,
              "#fb9f3a"
             ],
             [
              0.8888888888888888,
              "#fdca26"
             ],
             [
              1,
              "#f0f921"
             ]
            ],
            "type": "contour"
           }
          ],
          "contourcarpet": [
           {
            "colorbar": {
             "outlinewidth": 0,
             "ticks": ""
            },
            "type": "contourcarpet"
           }
          ],
          "heatmap": [
           {
            "colorbar": {
             "outlinewidth": 0,
             "ticks": ""
            },
            "colorscale": [
             [
              0,
              "#0d0887"
             ],
             [
              0.1111111111111111,
              "#46039f"
             ],
             [
              0.2222222222222222,
              "#7201a8"
             ],
             [
              0.3333333333333333,
              "#9c179e"
             ],
             [
              0.4444444444444444,
              "#bd3786"
             ],
             [
              0.5555555555555556,
              "#d8576b"
             ],
             [
              0.6666666666666666,
              "#ed7953"
             ],
             [
              0.7777777777777778,
              "#fb9f3a"
             ],
             [
              0.8888888888888888,
              "#fdca26"
             ],
             [
              1,
              "#f0f921"
             ]
            ],
            "type": "heatmap"
           }
          ],
          "heatmapgl": [
           {
            "colorbar": {
             "outlinewidth": 0,
             "ticks": ""
            },
            "colorscale": [
             [
              0,
              "#0d0887"
             ],
             [
              0.1111111111111111,
              "#46039f"
             ],
             [
              0.2222222222222222,
              "#7201a8"
             ],
             [
              0.3333333333333333,
              "#9c179e"
             ],
             [
              0.4444444444444444,
              "#bd3786"
             ],
             [
              0.5555555555555556,
              "#d8576b"
             ],
             [
              0.6666666666666666,
              "#ed7953"
             ],
             [
              0.7777777777777778,
              "#fb9f3a"
             ],
             [
              0.8888888888888888,
              "#fdca26"
             ],
             [
              1,
              "#f0f921"
             ]
            ],
            "type": "heatmapgl"
           }
          ],
          "histogram": [
           {
            "marker": {
             "colorbar": {
              "outlinewidth": 0,
              "ticks": ""
             }
            },
            "type": "histogram"
           }
          ],
          "histogram2d": [
           {
            "colorbar": {
             "outlinewidth": 0,
             "ticks": ""
            },
            "colorscale": [
             [
              0,
              "#0d0887"
             ],
             [
              0.1111111111111111,
              "#46039f"
             ],
             [
              0.2222222222222222,
              "#7201a8"
             ],
             [
              0.3333333333333333,
              "#9c179e"
             ],
             [
              0.4444444444444444,
              "#bd3786"
             ],
             [
              0.5555555555555556,
              "#d8576b"
             ],
             [
              0.6666666666666666,
              "#ed7953"
             ],
             [
              0.7777777777777778,
              "#fb9f3a"
             ],
             [
              0.8888888888888888,
              "#fdca26"
             ],
             [
              1,
              "#f0f921"
             ]
            ],
            "type": "histogram2d"
           }
          ],
          "histogram2dcontour": [
           {
            "colorbar": {
             "outlinewidth": 0,
             "ticks": ""
            },
            "colorscale": [
             [
              0,
              "#0d0887"
             ],
             [
              0.1111111111111111,
              "#46039f"
             ],
             [
              0.2222222222222222,
              "#7201a8"
             ],
             [
              0.3333333333333333,
              "#9c179e"
             ],
             [
              0.4444444444444444,
              "#bd3786"
             ],
             [
              0.5555555555555556,
              "#d8576b"
             ],
             [
              0.6666666666666666,
              "#ed7953"
             ],
             [
              0.7777777777777778,
              "#fb9f3a"
             ],
             [
              0.8888888888888888,
              "#fdca26"
             ],
             [
              1,
              "#f0f921"
             ]
            ],
            "type": "histogram2dcontour"
           }
          ],
          "mesh3d": [
           {
            "colorbar": {
             "outlinewidth": 0,
             "ticks": ""
            },
            "type": "mesh3d"
           }
          ],
          "parcoords": [
           {
            "line": {
             "colorbar": {
              "outlinewidth": 0,
              "ticks": ""
             }
            },
            "type": "parcoords"
           }
          ],
          "pie": [
           {
            "automargin": true,
            "type": "pie"
           }
          ],
          "scatter": [
           {
            "marker": {
             "colorbar": {
              "outlinewidth": 0,
              "ticks": ""
             }
            },
            "type": "scatter"
           }
          ],
          "scatter3d": [
           {
            "line": {
             "colorbar": {
              "outlinewidth": 0,
              "ticks": ""
             }
            },
            "marker": {
             "colorbar": {
              "outlinewidth": 0,
              "ticks": ""
             }
            },
            "type": "scatter3d"
           }
          ],
          "scattercarpet": [
           {
            "marker": {
             "colorbar": {
              "outlinewidth": 0,
              "ticks": ""
             }
            },
            "type": "scattercarpet"
           }
          ],
          "scattergeo": [
           {
            "marker": {
             "colorbar": {
              "outlinewidth": 0,
              "ticks": ""
             }
            },
            "type": "scattergeo"
           }
          ],
          "scattergl": [
           {
            "marker": {
             "colorbar": {
              "outlinewidth": 0,
              "ticks": ""
             }
            },
            "type": "scattergl"
           }
          ],
          "scattermapbox": [
           {
            "marker": {
             "colorbar": {
              "outlinewidth": 0,
              "ticks": ""
             }
            },
            "type": "scattermapbox"
           }
          ],
          "scatterpolar": [
           {
            "marker": {
             "colorbar": {
              "outlinewidth": 0,
              "ticks": ""
             }
            },
            "type": "scatterpolar"
           }
          ],
          "scatterpolargl": [
           {
            "marker": {
             "colorbar": {
              "outlinewidth": 0,
              "ticks": ""
             }
            },
            "type": "scatterpolargl"
           }
          ],
          "scatterternary": [
           {
            "marker": {
             "colorbar": {
              "outlinewidth": 0,
              "ticks": ""
             }
            },
            "type": "scatterternary"
           }
          ],
          "surface": [
           {
            "colorbar": {
             "outlinewidth": 0,
             "ticks": ""
            },
            "colorscale": [
             [
              0,
              "#0d0887"
             ],
             [
              0.1111111111111111,
              "#46039f"
             ],
             [
              0.2222222222222222,
              "#7201a8"
             ],
             [
              0.3333333333333333,
              "#9c179e"
             ],
             [
              0.4444444444444444,
              "#bd3786"
             ],
             [
              0.5555555555555556,
              "#d8576b"
             ],
             [
              0.6666666666666666,
              "#ed7953"
             ],
             [
              0.7777777777777778,
              "#fb9f3a"
             ],
             [
              0.8888888888888888,
              "#fdca26"
             ],
             [
              1,
              "#f0f921"
             ]
            ],
            "type": "surface"
           }
          ],
          "table": [
           {
            "cells": {
             "fill": {
              "color": "#EBF0F8"
             },
             "line": {
              "color": "white"
             }
            },
            "header": {
             "fill": {
              "color": "#C8D4E3"
             },
             "line": {
              "color": "white"
             }
            },
            "type": "table"
           }
          ]
         },
         "layout": {
          "annotationdefaults": {
           "arrowcolor": "#2a3f5f",
           "arrowhead": 0,
           "arrowwidth": 1
          },
          "coloraxis": {
           "colorbar": {
            "outlinewidth": 0,
            "ticks": ""
           }
          },
          "colorscale": {
           "diverging": [
            [
             0,
             "#8e0152"
            ],
            [
             0.1,
             "#c51b7d"
            ],
            [
             0.2,
             "#de77ae"
            ],
            [
             0.3,
             "#f1b6da"
            ],
            [
             0.4,
             "#fde0ef"
            ],
            [
             0.5,
             "#f7f7f7"
            ],
            [
             0.6,
             "#e6f5d0"
            ],
            [
             0.7,
             "#b8e186"
            ],
            [
             0.8,
             "#7fbc41"
            ],
            [
             0.9,
             "#4d9221"
            ],
            [
             1,
             "#276419"
            ]
           ],
           "sequential": [
            [
             0,
             "#0d0887"
            ],
            [
             0.1111111111111111,
             "#46039f"
            ],
            [
             0.2222222222222222,
             "#7201a8"
            ],
            [
             0.3333333333333333,
             "#9c179e"
            ],
            [
             0.4444444444444444,
             "#bd3786"
            ],
            [
             0.5555555555555556,
             "#d8576b"
            ],
            [
             0.6666666666666666,
             "#ed7953"
            ],
            [
             0.7777777777777778,
             "#fb9f3a"
            ],
            [
             0.8888888888888888,
             "#fdca26"
            ],
            [
             1,
             "#f0f921"
            ]
           ],
           "sequentialminus": [
            [
             0,
             "#0d0887"
            ],
            [
             0.1111111111111111,
             "#46039f"
            ],
            [
             0.2222222222222222,
             "#7201a8"
            ],
            [
             0.3333333333333333,
             "#9c179e"
            ],
            [
             0.4444444444444444,
             "#bd3786"
            ],
            [
             0.5555555555555556,
             "#d8576b"
            ],
            [
             0.6666666666666666,
             "#ed7953"
            ],
            [
             0.7777777777777778,
             "#fb9f3a"
            ],
            [
             0.8888888888888888,
             "#fdca26"
            ],
            [
             1,
             "#f0f921"
            ]
           ]
          },
          "colorway": [
           "#636efa",
           "#EF553B",
           "#00cc96",
           "#ab63fa",
           "#FFA15A",
           "#19d3f3",
           "#FF6692",
           "#B6E880",
           "#FF97FF",
           "#FECB52"
          ],
          "font": {
           "color": "#2a3f5f"
          },
          "geo": {
           "bgcolor": "white",
           "lakecolor": "white",
           "landcolor": "#E5ECF6",
           "showlakes": true,
           "showland": true,
           "subunitcolor": "white"
          },
          "hoverlabel": {
           "align": "left"
          },
          "hovermode": "closest",
          "mapbox": {
           "style": "light"
          },
          "paper_bgcolor": "white",
          "plot_bgcolor": "#E5ECF6",
          "polar": {
           "angularaxis": {
            "gridcolor": "white",
            "linecolor": "white",
            "ticks": ""
           },
           "bgcolor": "#E5ECF6",
           "radialaxis": {
            "gridcolor": "white",
            "linecolor": "white",
            "ticks": ""
           }
          },
          "scene": {
           "xaxis": {
            "backgroundcolor": "#E5ECF6",
            "gridcolor": "white",
            "gridwidth": 2,
            "linecolor": "white",
            "showbackground": true,
            "ticks": "",
            "zerolinecolor": "white"
           },
           "yaxis": {
            "backgroundcolor": "#E5ECF6",
            "gridcolor": "white",
            "gridwidth": 2,
            "linecolor": "white",
            "showbackground": true,
            "ticks": "",
            "zerolinecolor": "white"
           },
           "zaxis": {
            "backgroundcolor": "#E5ECF6",
            "gridcolor": "white",
            "gridwidth": 2,
            "linecolor": "white",
            "showbackground": true,
            "ticks": "",
            "zerolinecolor": "white"
           }
          },
          "shapedefaults": {
           "line": {
            "color": "#2a3f5f"
           }
          },
          "ternary": {
           "aaxis": {
            "gridcolor": "white",
            "linecolor": "white",
            "ticks": ""
           },
           "baxis": {
            "gridcolor": "white",
            "linecolor": "white",
            "ticks": ""
           },
           "bgcolor": "#E5ECF6",
           "caxis": {
            "gridcolor": "white",
            "linecolor": "white",
            "ticks": ""
           }
          },
          "title": {
           "x": 0.05
          },
          "xaxis": {
           "automargin": true,
           "gridcolor": "white",
           "linecolor": "white",
           "ticks": "",
           "title": {
            "standoff": 15
           },
           "zerolinecolor": "white",
           "zerolinewidth": 2
          },
          "yaxis": {
           "automargin": true,
           "gridcolor": "white",
           "linecolor": "white",
           "ticks": "",
           "title": {
            "standoff": 15
           },
           "zerolinecolor": "white",
           "zerolinewidth": 2
          }
         }
        },
        "title": {
         "text": "New York All Grades All Formulations Retail Gasoline Prices, Monthly"
        },
        "xaxis": {
         "anchor": "y",
         "domain": [
          0,
          1
         ],
         "title": {
          "text": "Date"
         }
        },
        "yaxis": {
         "anchor": "x",
         "domain": [
          0,
          1
         ],
         "title": {
          "text": "Average Monthly Price ($)"
         }
        }
       }
      },
      "text/html": [
       "<div>\n",
       "        \n",
       "        \n",
       "            <div id=\"2535c11b-aaff-46fb-bb55-fdc07233c1b9\" class=\"plotly-graph-div\" style=\"height:525px; width:100%;\"></div>\n",
       "            <script type=\"text/javascript\">\n",
       "                require([\"plotly\"], function(Plotly) {\n",
       "                    window.PLOTLYENV=window.PLOTLYENV || {};\n",
       "                    \n",
       "                if (document.getElementById(\"2535c11b-aaff-46fb-bb55-fdc07233c1b9\")) {\n",
       "                    Plotly.newPlot(\n",
       "                        '2535c11b-aaff-46fb-bb55-fdc07233c1b9',\n",
       "                        [{\"hoverlabel\": {\"namelength\": 0}, \"hovertemplate\": \"date=%{x}<br>price=%{y}\", \"legendgroup\": \"\", \"line\": {\"color\": \"#636efa\", \"dash\": \"solid\"}, \"mode\": \"lines\", \"name\": \"\", \"showlegend\": false, \"type\": \"scatter\", \"x\": [\"2020-02-01T00:00:00\", \"2020-01-01T00:00:00\", \"2019-12-01T00:00:00\", \"2019-11-01T00:00:00\", \"2019-10-01T00:00:00\", \"2019-09-01T00:00:00\", \"2019-08-01T00:00:00\", \"2019-07-01T00:00:00\", \"2019-06-01T00:00:00\", \"2019-05-01T00:00:00\", \"2019-04-01T00:00:00\", \"2019-03-01T00:00:00\", \"2019-02-01T00:00:00\", \"2019-01-01T00:00:00\", \"2018-12-01T00:00:00\", \"2018-11-01T00:00:00\", \"2018-10-01T00:00:00\", \"2018-09-01T00:00:00\", \"2018-08-01T00:00:00\", \"2018-07-01T00:00:00\", \"2018-06-01T00:00:00\", \"2018-05-01T00:00:00\", \"2018-04-01T00:00:00\", \"2018-03-01T00:00:00\", \"2018-02-01T00:00:00\", \"2018-01-01T00:00:00\", \"2017-12-01T00:00:00\", \"2017-11-01T00:00:00\", \"2017-10-01T00:00:00\", \"2017-09-01T00:00:00\", \"2017-08-01T00:00:00\", \"2017-07-01T00:00:00\", \"2017-06-01T00:00:00\", \"2017-05-01T00:00:00\", \"2017-04-01T00:00:00\", \"2017-03-01T00:00:00\", \"2017-02-01T00:00:00\", \"2017-01-01T00:00:00\", \"2016-12-01T00:00:00\", \"2016-11-01T00:00:00\", \"2016-10-01T00:00:00\", \"2016-09-01T00:00:00\", \"2016-08-01T00:00:00\", \"2016-07-01T00:00:00\", \"2016-06-01T00:00:00\", \"2016-05-01T00:00:00\", \"2016-04-01T00:00:00\", \"2016-03-01T00:00:00\", \"2016-02-01T00:00:00\", \"2016-01-01T00:00:00\", \"2015-12-01T00:00:00\", \"2015-11-01T00:00:00\", \"2015-10-01T00:00:00\", \"2015-09-01T00:00:00\", \"2015-08-01T00:00:00\", \"2015-07-01T00:00:00\", \"2015-06-01T00:00:00\", \"2015-05-01T00:00:00\", \"2015-04-01T00:00:00\", \"2015-03-01T00:00:00\", \"2015-02-01T00:00:00\", \"2015-01-01T00:00:00\", \"2014-12-01T00:00:00\", \"2014-11-01T00:00:00\", \"2014-10-01T00:00:00\", \"2014-09-01T00:00:00\", \"2014-08-01T00:00:00\", \"2014-07-01T00:00:00\", \"2014-06-01T00:00:00\", \"2014-05-01T00:00:00\", \"2014-04-01T00:00:00\", \"2014-03-01T00:00:00\", \"2014-02-01T00:00:00\", \"2014-01-01T00:00:00\", \"2013-12-01T00:00:00\", \"2013-11-01T00:00:00\", \"2013-10-01T00:00:00\", \"2013-09-01T00:00:00\", \"2013-08-01T00:00:00\", \"2013-07-01T00:00:00\", \"2013-06-01T00:00:00\", \"2013-05-01T00:00:00\", \"2013-04-01T00:00:00\", \"2013-03-01T00:00:00\", \"2013-02-01T00:00:00\", \"2013-01-01T00:00:00\", \"2012-12-01T00:00:00\", \"2012-11-01T00:00:00\", \"2012-10-01T00:00:00\", \"2012-09-01T00:00:00\", \"2012-08-01T00:00:00\", \"2012-07-01T00:00:00\", \"2012-06-01T00:00:00\", \"2012-05-01T00:00:00\", \"2012-04-01T00:00:00\", \"2012-03-01T00:00:00\", \"2012-02-01T00:00:00\", \"2012-01-01T00:00:00\", \"2011-12-01T00:00:00\", \"2011-11-01T00:00:00\", \"2011-10-01T00:00:00\", \"2011-09-01T00:00:00\", \"2011-08-01T00:00:00\", \"2011-07-01T00:00:00\", \"2011-06-01T00:00:00\", \"2011-05-01T00:00:00\", \"2011-04-01T00:00:00\", \"2011-03-01T00:00:00\", \"2011-02-01T00:00:00\", \"2011-01-01T00:00:00\", \"2010-12-01T00:00:00\", \"2010-11-01T00:00:00\", \"2010-10-01T00:00:00\", \"2010-09-01T00:00:00\", \"2010-08-01T00:00:00\", \"2010-07-01T00:00:00\", \"2010-06-01T00:00:00\", \"2010-05-01T00:00:00\", \"2010-04-01T00:00:00\", \"2010-03-01T00:00:00\", \"2010-02-01T00:00:00\", \"2010-01-01T00:00:00\", \"2009-12-01T00:00:00\", \"2009-11-01T00:00:00\", \"2009-10-01T00:00:00\", \"2009-09-01T00:00:00\", \"2009-08-01T00:00:00\", \"2009-07-01T00:00:00\", \"2009-06-01T00:00:00\", \"2009-05-01T00:00:00\", \"2009-04-01T00:00:00\", \"2009-03-01T00:00:00\", \"2009-02-01T00:00:00\", \"2009-01-01T00:00:00\", \"2008-12-01T00:00:00\", \"2008-11-01T00:00:00\", \"2008-10-01T00:00:00\", \"2008-09-01T00:00:00\", \"2008-08-01T00:00:00\", \"2008-07-01T00:00:00\", \"2008-06-01T00:00:00\", \"2008-05-01T00:00:00\", \"2008-04-01T00:00:00\", \"2008-03-01T00:00:00\", \"2008-02-01T00:00:00\", \"2008-01-01T00:00:00\", \"2007-12-01T00:00:00\", \"2007-11-01T00:00:00\", \"2007-10-01T00:00:00\", \"2007-09-01T00:00:00\", \"2007-08-01T00:00:00\", \"2007-07-01T00:00:00\", \"2007-06-01T00:00:00\", \"2007-05-01T00:00:00\", \"2007-04-01T00:00:00\", \"2007-03-01T00:00:00\", \"2007-02-01T00:00:00\", \"2007-01-01T00:00:00\", \"2006-12-01T00:00:00\", \"2006-11-01T00:00:00\", \"2006-10-01T00:00:00\", \"2006-09-01T00:00:00\", \"2006-08-01T00:00:00\", \"2006-07-01T00:00:00\", \"2006-06-01T00:00:00\", \"2006-05-01T00:00:00\", \"2006-04-01T00:00:00\", \"2006-03-01T00:00:00\", \"2006-02-01T00:00:00\", \"2006-01-01T00:00:00\", \"2005-12-01T00:00:00\", \"2005-11-01T00:00:00\", \"2005-10-01T00:00:00\", \"2005-09-01T00:00:00\", \"2005-08-01T00:00:00\", \"2005-07-01T00:00:00\", \"2005-06-01T00:00:00\", \"2005-05-01T00:00:00\", \"2005-04-01T00:00:00\", \"2005-03-01T00:00:00\", \"2005-02-01T00:00:00\", \"2005-01-01T00:00:00\", \"2004-12-01T00:00:00\", \"2004-11-01T00:00:00\", \"2004-10-01T00:00:00\", \"2004-09-01T00:00:00\", \"2004-08-01T00:00:00\", \"2004-07-01T00:00:00\", \"2004-06-01T00:00:00\", \"2004-05-01T00:00:00\", \"2004-04-01T00:00:00\", \"2004-03-01T00:00:00\", \"2004-02-01T00:00:00\", \"2004-01-01T00:00:00\", \"2003-12-01T00:00:00\", \"2003-11-01T00:00:00\", \"2003-10-01T00:00:00\", \"2003-09-01T00:00:00\", \"2003-08-01T00:00:00\", \"2003-07-01T00:00:00\", \"2003-06-01T00:00:00\", \"2003-05-01T00:00:00\", \"2003-04-01T00:00:00\", \"2003-03-01T00:00:00\", \"2003-02-01T00:00:00\", \"2003-01-01T00:00:00\", \"2002-12-01T00:00:00\", \"2002-11-01T00:00:00\", \"2002-10-01T00:00:00\", \"2002-09-01T00:00:00\", \"2002-08-01T00:00:00\", \"2002-07-01T00:00:00\", \"2002-06-01T00:00:00\", \"2002-05-01T00:00:00\", \"2002-04-01T00:00:00\", \"2002-03-01T00:00:00\", \"2002-02-01T00:00:00\", \"2002-01-01T00:00:00\", \"2001-12-01T00:00:00\", \"2001-11-01T00:00:00\", \"2001-10-01T00:00:00\", \"2001-09-01T00:00:00\", \"2001-08-01T00:00:00\", \"2001-07-01T00:00:00\", \"2001-06-01T00:00:00\", \"2001-05-01T00:00:00\", \"2001-04-01T00:00:00\", \"2001-03-01T00:00:00\", \"2001-02-01T00:00:00\", \"2001-01-01T00:00:00\", \"2000-12-01T00:00:00\", \"2000-11-01T00:00:00\", \"2000-10-01T00:00:00\", \"2000-09-01T00:00:00\", \"2000-08-01T00:00:00\", \"2000-07-01T00:00:00\", \"2000-06-01T00:00:00\"], \"xaxis\": \"x\", \"y\": [2.604, 2.706, 2.67, 2.675, 2.676, 2.728, 2.822, 2.868, 2.86, 2.967, 2.84, 2.622, 2.47, 2.517, 2.673, 2.864, 2.977, 2.976, 2.978, 2.993, 3.054, 3.05, 2.918, 2.753, 2.797, 2.745, 2.68, 2.729, 2.717, 2.875, 2.561, 2.502, 2.554, 2.589, 2.583, 2.503, 2.544, 2.609, 2.511, 2.467, 2.438, 2.387, 2.391, 2.462, 2.504, 2.461, 2.307, 2.121, 2.07, 2.233, 2.348, 2.409, 2.442, 2.567, 2.806, 2.991, 2.984, 2.897, 2.701, 2.666, 2.519, 2.629, 3.065, 3.342, 3.547, 3.685, 3.799, 3.936, 3.949, 3.952, 3.882, 3.822, 3.722, 3.734, 3.736, 3.633, 3.7, 3.879, 3.933, 3.886, 3.795, 3.788, 3.865, 4.014, 4.019, 3.797, 3.837, 3.958, 4.106, 4.131, 3.962, 3.741, 3.762, 3.995, 4.157, 4.049, 3.9, 3.698, 3.598, 3.698, 3.754, 3.906, 3.948, 3.944, 3.974, 4.162, 4.014, 3.787, 3.473, 3.382, 3.3, 3.128, 3.002, 2.84, 2.905, 2.932, 2.958, 3.071, 3.016, 2.947, 2.928, 2.954, 2.889, 2.907, 2.794, 2.843, 2.852, 2.806, 2.807, 2.446, 2.223, 2.136, 2.115, 1.946, 2.031, 2.583, 3.363, 3.841, 4.041, 4.312, 4.292, 3.991, 3.609, 3.409, 3.295, 3.336, 3.321, 3.275, 2.984, 2.949, 3.02, 3.165, 3.232, 3.223, 3.029, 2.788, 2.466, 2.523, 2.544, 2.422, 2.49, 2.857, 3.181, 3.173, 3.086, 3.143, 2.933, 2.579, 2.539, 2.602, 2.413, 2.515, 2.898, 3.225, 2.633, 2.471, 2.326, 2.352, 2.343, 2.172, 2.06, 2.028, 2.098, 2.175, 2.165, 2.044, 2.076, 2.132, 2.208, 2.13, 1.926, 1.903, 1.83, 1.754, 1.698, 1.737, 1.806, 1.894, 1.729, 1.633, 1.61, 1.679, 1.764, 1.812, 1.757, 1.647, 1.606, 1.601, 1.585, 1.567, 1.562, 1.524, 1.526, 1.541, 1.516, 1.332, 1.252, 1.253, 1.236, 1.339, 1.469, 1.561, 1.574, 1.671, 1.804, 1.818, 1.633, 1.546, 1.577, 1.591, 1.632, 1.663, 1.664, 1.668, 1.678, 1.75, 1.702], \"yaxis\": \"y\"}],\n",
       "                        {\"legend\": {\"tracegroupgap\": 0}, \"template\": {\"data\": {\"bar\": [{\"error_x\": {\"color\": \"#2a3f5f\"}, \"error_y\": {\"color\": \"#2a3f5f\"}, \"marker\": {\"line\": {\"color\": \"#E5ECF6\", \"width\": 0.5}}, \"type\": \"bar\"}], \"barpolar\": [{\"marker\": {\"line\": {\"color\": \"#E5ECF6\", \"width\": 0.5}}, \"type\": \"barpolar\"}], \"carpet\": [{\"aaxis\": {\"endlinecolor\": \"#2a3f5f\", \"gridcolor\": \"white\", \"linecolor\": \"white\", \"minorgridcolor\": \"white\", \"startlinecolor\": \"#2a3f5f\"}, \"baxis\": {\"endlinecolor\": \"#2a3f5f\", \"gridcolor\": \"white\", \"linecolor\": \"white\", \"minorgridcolor\": \"white\", \"startlinecolor\": \"#2a3f5f\"}, \"type\": \"carpet\"}], \"choropleth\": [{\"colorbar\": {\"outlinewidth\": 0, \"ticks\": \"\"}, \"type\": \"choropleth\"}], \"contour\": [{\"colorbar\": {\"outlinewidth\": 0, \"ticks\": \"\"}, \"colorscale\": [[0.0, \"#0d0887\"], [0.1111111111111111, \"#46039f\"], [0.2222222222222222, \"#7201a8\"], [0.3333333333333333, \"#9c179e\"], [0.4444444444444444, \"#bd3786\"], [0.5555555555555556, \"#d8576b\"], [0.6666666666666666, \"#ed7953\"], [0.7777777777777778, \"#fb9f3a\"], [0.8888888888888888, \"#fdca26\"], [1.0, \"#f0f921\"]], \"type\": \"contour\"}], \"contourcarpet\": [{\"colorbar\": {\"outlinewidth\": 0, \"ticks\": \"\"}, \"type\": \"contourcarpet\"}], \"heatmap\": [{\"colorbar\": {\"outlinewidth\": 0, \"ticks\": \"\"}, \"colorscale\": [[0.0, \"#0d0887\"], [0.1111111111111111, \"#46039f\"], [0.2222222222222222, \"#7201a8\"], [0.3333333333333333, \"#9c179e\"], [0.4444444444444444, \"#bd3786\"], [0.5555555555555556, \"#d8576b\"], [0.6666666666666666, \"#ed7953\"], [0.7777777777777778, \"#fb9f3a\"], [0.8888888888888888, \"#fdca26\"], [1.0, \"#f0f921\"]], \"type\": \"heatmap\"}], \"heatmapgl\": [{\"colorbar\": {\"outlinewidth\": 0, \"ticks\": \"\"}, \"colorscale\": [[0.0, \"#0d0887\"], [0.1111111111111111, \"#46039f\"], [0.2222222222222222, \"#7201a8\"], [0.3333333333333333, \"#9c179e\"], [0.4444444444444444, \"#bd3786\"], [0.5555555555555556, \"#d8576b\"], [0.6666666666666666, \"#ed7953\"], [0.7777777777777778, \"#fb9f3a\"], [0.8888888888888888, \"#fdca26\"], [1.0, \"#f0f921\"]], \"type\": \"heatmapgl\"}], \"histogram\": [{\"marker\": {\"colorbar\": {\"outlinewidth\": 0, \"ticks\": \"\"}}, \"type\": \"histogram\"}], \"histogram2d\": [{\"colorbar\": {\"outlinewidth\": 0, \"ticks\": \"\"}, \"colorscale\": [[0.0, \"#0d0887\"], [0.1111111111111111, \"#46039f\"], [0.2222222222222222, \"#7201a8\"], [0.3333333333333333, \"#9c179e\"], [0.4444444444444444, \"#bd3786\"], [0.5555555555555556, \"#d8576b\"], [0.6666666666666666, \"#ed7953\"], [0.7777777777777778, \"#fb9f3a\"], [0.8888888888888888, \"#fdca26\"], [1.0, \"#f0f921\"]], \"type\": \"histogram2d\"}], \"histogram2dcontour\": [{\"colorbar\": {\"outlinewidth\": 0, \"ticks\": \"\"}, \"colorscale\": [[0.0, \"#0d0887\"], [0.1111111111111111, \"#46039f\"], [0.2222222222222222, \"#7201a8\"], [0.3333333333333333, \"#9c179e\"], [0.4444444444444444, \"#bd3786\"], [0.5555555555555556, \"#d8576b\"], [0.6666666666666666, \"#ed7953\"], [0.7777777777777778, \"#fb9f3a\"], [0.8888888888888888, \"#fdca26\"], [1.0, \"#f0f921\"]], \"type\": \"histogram2dcontour\"}], \"mesh3d\": [{\"colorbar\": {\"outlinewidth\": 0, \"ticks\": \"\"}, \"type\": \"mesh3d\"}], \"parcoords\": [{\"line\": {\"colorbar\": {\"outlinewidth\": 0, \"ticks\": \"\"}}, \"type\": \"parcoords\"}], \"pie\": [{\"automargin\": true, \"type\": \"pie\"}], \"scatter\": [{\"marker\": {\"colorbar\": {\"outlinewidth\": 0, \"ticks\": \"\"}}, \"type\": \"scatter\"}], \"scatter3d\": [{\"line\": {\"colorbar\": {\"outlinewidth\": 0, \"ticks\": \"\"}}, \"marker\": {\"colorbar\": {\"outlinewidth\": 0, \"ticks\": \"\"}}, \"type\": \"scatter3d\"}], \"scattercarpet\": [{\"marker\": {\"colorbar\": {\"outlinewidth\": 0, \"ticks\": \"\"}}, \"type\": \"scattercarpet\"}], \"scattergeo\": [{\"marker\": {\"colorbar\": {\"outlinewidth\": 0, \"ticks\": \"\"}}, \"type\": \"scattergeo\"}], \"scattergl\": [{\"marker\": {\"colorbar\": {\"outlinewidth\": 0, \"ticks\": \"\"}}, \"type\": \"scattergl\"}], \"scattermapbox\": [{\"marker\": {\"colorbar\": {\"outlinewidth\": 0, \"ticks\": \"\"}}, \"type\": \"scattermapbox\"}], \"scatterpolar\": [{\"marker\": {\"colorbar\": {\"outlinewidth\": 0, \"ticks\": \"\"}}, \"type\": \"scatterpolar\"}], \"scatterpolargl\": [{\"marker\": {\"colorbar\": {\"outlinewidth\": 0, \"ticks\": \"\"}}, \"type\": \"scatterpolargl\"}], \"scatterternary\": [{\"marker\": {\"colorbar\": {\"outlinewidth\": 0, \"ticks\": \"\"}}, \"type\": \"scatterternary\"}], \"surface\": [{\"colorbar\": {\"outlinewidth\": 0, \"ticks\": \"\"}, \"colorscale\": [[0.0, \"#0d0887\"], [0.1111111111111111, \"#46039f\"], [0.2222222222222222, \"#7201a8\"], [0.3333333333333333, \"#9c179e\"], [0.4444444444444444, \"#bd3786\"], [0.5555555555555556, \"#d8576b\"], [0.6666666666666666, \"#ed7953\"], [0.7777777777777778, \"#fb9f3a\"], [0.8888888888888888, \"#fdca26\"], [1.0, \"#f0f921\"]], \"type\": \"surface\"}], \"table\": [{\"cells\": {\"fill\": {\"color\": \"#EBF0F8\"}, \"line\": {\"color\": \"white\"}}, \"header\": {\"fill\": {\"color\": \"#C8D4E3\"}, \"line\": {\"color\": \"white\"}}, \"type\": \"table\"}]}, \"layout\": {\"annotationdefaults\": {\"arrowcolor\": \"#2a3f5f\", \"arrowhead\": 0, \"arrowwidth\": 1}, \"coloraxis\": {\"colorbar\": {\"outlinewidth\": 0, \"ticks\": \"\"}}, \"colorscale\": {\"diverging\": [[0, \"#8e0152\"], [0.1, \"#c51b7d\"], [0.2, \"#de77ae\"], [0.3, \"#f1b6da\"], [0.4, \"#fde0ef\"], [0.5, \"#f7f7f7\"], [0.6, \"#e6f5d0\"], [0.7, \"#b8e186\"], [0.8, \"#7fbc41\"], [0.9, \"#4d9221\"], [1, \"#276419\"]], \"sequential\": [[0.0, \"#0d0887\"], [0.1111111111111111, \"#46039f\"], [0.2222222222222222, \"#7201a8\"], [0.3333333333333333, \"#9c179e\"], [0.4444444444444444, \"#bd3786\"], [0.5555555555555556, \"#d8576b\"], [0.6666666666666666, \"#ed7953\"], [0.7777777777777778, \"#fb9f3a\"], [0.8888888888888888, \"#fdca26\"], [1.0, \"#f0f921\"]], \"sequentialminus\": [[0.0, \"#0d0887\"], [0.1111111111111111, \"#46039f\"], [0.2222222222222222, \"#7201a8\"], [0.3333333333333333, \"#9c179e\"], [0.4444444444444444, \"#bd3786\"], [0.5555555555555556, \"#d8576b\"], [0.6666666666666666, \"#ed7953\"], [0.7777777777777778, \"#fb9f3a\"], [0.8888888888888888, \"#fdca26\"], [1.0, \"#f0f921\"]]}, \"colorway\": [\"#636efa\", \"#EF553B\", \"#00cc96\", \"#ab63fa\", \"#FFA15A\", \"#19d3f3\", \"#FF6692\", \"#B6E880\", \"#FF97FF\", \"#FECB52\"], \"font\": {\"color\": \"#2a3f5f\"}, \"geo\": {\"bgcolor\": \"white\", \"lakecolor\": \"white\", \"landcolor\": \"#E5ECF6\", \"showlakes\": true, \"showland\": true, \"subunitcolor\": \"white\"}, \"hoverlabel\": {\"align\": \"left\"}, \"hovermode\": \"closest\", \"mapbox\": {\"style\": \"light\"}, \"paper_bgcolor\": \"white\", \"plot_bgcolor\": \"#E5ECF6\", \"polar\": {\"angularaxis\": {\"gridcolor\": \"white\", \"linecolor\": \"white\", \"ticks\": \"\"}, \"bgcolor\": \"#E5ECF6\", \"radialaxis\": {\"gridcolor\": \"white\", \"linecolor\": \"white\", \"ticks\": \"\"}}, \"scene\": {\"xaxis\": {\"backgroundcolor\": \"#E5ECF6\", \"gridcolor\": \"white\", \"gridwidth\": 2, \"linecolor\": \"white\", \"showbackground\": true, \"ticks\": \"\", \"zerolinecolor\": \"white\"}, \"yaxis\": {\"backgroundcolor\": \"#E5ECF6\", \"gridcolor\": \"white\", \"gridwidth\": 2, \"linecolor\": \"white\", \"showbackground\": true, \"ticks\": \"\", \"zerolinecolor\": \"white\"}, \"zaxis\": {\"backgroundcolor\": \"#E5ECF6\", \"gridcolor\": \"white\", \"gridwidth\": 2, \"linecolor\": \"white\", \"showbackground\": true, \"ticks\": \"\", \"zerolinecolor\": \"white\"}}, \"shapedefaults\": {\"line\": {\"color\": \"#2a3f5f\"}}, \"ternary\": {\"aaxis\": {\"gridcolor\": \"white\", \"linecolor\": \"white\", \"ticks\": \"\"}, \"baxis\": {\"gridcolor\": \"white\", \"linecolor\": \"white\", \"ticks\": \"\"}, \"bgcolor\": \"#E5ECF6\", \"caxis\": {\"gridcolor\": \"white\", \"linecolor\": \"white\", \"ticks\": \"\"}}, \"title\": {\"x\": 0.05}, \"xaxis\": {\"automargin\": true, \"gridcolor\": \"white\", \"linecolor\": \"white\", \"ticks\": \"\", \"title\": {\"standoff\": 15}, \"zerolinecolor\": \"white\", \"zerolinewidth\": 2}, \"yaxis\": {\"automargin\": true, \"gridcolor\": \"white\", \"linecolor\": \"white\", \"ticks\": \"\", \"title\": {\"standoff\": 15}, \"zerolinecolor\": \"white\", \"zerolinewidth\": 2}}}, \"title\": {\"text\": \"New York All Grades All Formulations Retail Gasoline Prices, Monthly\"}, \"xaxis\": {\"anchor\": \"y\", \"domain\": [0.0, 1.0], \"title\": {\"text\": \"Date\"}}, \"yaxis\": {\"anchor\": \"x\", \"domain\": [0.0, 1.0], \"title\": {\"text\": \"Average Monthly Price ($)\"}}},\n",
       "                        {\"responsive\": true}\n",
       "                    ).then(function(){\n",
       "                            \n",
       "var gd = document.getElementById('2535c11b-aaff-46fb-bb55-fdc07233c1b9');\n",
       "var x = new MutationObserver(function (mutations, observer) {{\n",
       "        var display = window.getComputedStyle(gd).display;\n",
       "        if (!display || display === 'none') {{\n",
       "            console.log([gd, 'removed!']);\n",
       "            Plotly.purge(gd);\n",
       "            observer.disconnect();\n",
       "        }}\n",
       "}});\n",
       "\n",
       "// Listen for the removal of the full notebook cells\n",
       "var notebookContainer = gd.closest('#notebook-container');\n",
       "if (notebookContainer) {{\n",
       "    x.observe(notebookContainer, {childList: true});\n",
       "}}\n",
       "\n",
       "// Listen for the clearing of the current output cell\n",
       "var outputEl = gd.closest('.output');\n",
       "if (outputEl) {{\n",
       "    x.observe(outputEl, {childList: true});\n",
       "}}\n",
       "\n",
       "                        })\n",
       "                };\n",
       "                });\n",
       "            </script>\n",
       "        </div>"
      ]
     },
     "metadata": {},
     "output_type": "display_data"
    },
    {
     "data": {
      "application/vnd.plotly.v1+json": {
       "config": {
        "plotlyServerURL": "https://plot.ly"
       },
       "data": [
        {
         "hoverlabel": {
          "namelength": 0
         },
         "hovertemplate": "date=%{x}<br>price=%{y}",
         "legendgroup": "",
         "line": {
          "color": "#636efa",
          "dash": "solid"
         },
         "mode": "lines",
         "name": "",
         "showlegend": false,
         "type": "scatter",
         "x": [
          "2020-02-01T00:00:00",
          "2020-01-01T00:00:00",
          "2019-12-01T00:00:00",
          "2019-11-01T00:00:00",
          "2019-10-01T00:00:00",
          "2019-09-01T00:00:00",
          "2019-08-01T00:00:00",
          "2019-07-01T00:00:00",
          "2019-06-01T00:00:00",
          "2019-05-01T00:00:00",
          "2019-04-01T00:00:00",
          "2019-03-01T00:00:00",
          "2019-02-01T00:00:00",
          "2019-01-01T00:00:00",
          "2018-12-01T00:00:00",
          "2018-11-01T00:00:00",
          "2018-10-01T00:00:00",
          "2018-09-01T00:00:00",
          "2018-08-01T00:00:00",
          "2018-07-01T00:00:00",
          "2018-06-01T00:00:00",
          "2018-05-01T00:00:00",
          "2018-04-01T00:00:00",
          "2018-03-01T00:00:00",
          "2018-02-01T00:00:00",
          "2018-01-01T00:00:00",
          "2017-12-01T00:00:00",
          "2017-11-01T00:00:00",
          "2017-10-01T00:00:00",
          "2017-09-01T00:00:00",
          "2017-08-01T00:00:00",
          "2017-07-01T00:00:00",
          "2017-06-01T00:00:00",
          "2017-05-01T00:00:00",
          "2017-04-01T00:00:00",
          "2017-03-01T00:00:00",
          "2017-02-01T00:00:00",
          "2017-01-01T00:00:00",
          "2016-12-01T00:00:00",
          "2016-11-01T00:00:00",
          "2016-10-01T00:00:00",
          "2016-09-01T00:00:00",
          "2016-08-01T00:00:00",
          "2016-07-01T00:00:00",
          "2016-06-01T00:00:00",
          "2016-05-01T00:00:00",
          "2016-04-01T00:00:00",
          "2016-03-01T00:00:00",
          "2016-02-01T00:00:00",
          "2016-01-01T00:00:00",
          "2015-12-01T00:00:00",
          "2015-11-01T00:00:00",
          "2015-10-01T00:00:00",
          "2015-09-01T00:00:00",
          "2015-08-01T00:00:00",
          "2015-07-01T00:00:00",
          "2015-06-01T00:00:00",
          "2015-05-01T00:00:00",
          "2015-04-01T00:00:00",
          "2015-03-01T00:00:00",
          "2015-02-01T00:00:00",
          "2015-01-01T00:00:00",
          "2014-12-01T00:00:00",
          "2014-11-01T00:00:00",
          "2014-10-01T00:00:00",
          "2014-09-01T00:00:00",
          "2014-08-01T00:00:00",
          "2014-07-01T00:00:00",
          "2014-06-01T00:00:00",
          "2014-05-01T00:00:00",
          "2014-04-01T00:00:00",
          "2014-03-01T00:00:00",
          "2014-02-01T00:00:00",
          "2014-01-01T00:00:00",
          "2013-12-01T00:00:00",
          "2013-11-01T00:00:00",
          "2013-10-01T00:00:00",
          "2013-09-01T00:00:00",
          "2013-08-01T00:00:00",
          "2013-07-01T00:00:00",
          "2013-06-01T00:00:00",
          "2013-05-01T00:00:00",
          "2013-04-01T00:00:00",
          "2013-03-01T00:00:00",
          "2013-02-01T00:00:00",
          "2013-01-01T00:00:00",
          "2012-12-01T00:00:00",
          "2012-11-01T00:00:00",
          "2012-10-01T00:00:00",
          "2012-09-01T00:00:00",
          "2012-08-01T00:00:00",
          "2012-07-01T00:00:00",
          "2012-06-01T00:00:00",
          "2012-05-01T00:00:00",
          "2012-04-01T00:00:00",
          "2012-03-01T00:00:00",
          "2012-02-01T00:00:00",
          "2012-01-01T00:00:00",
          "2011-12-01T00:00:00",
          "2011-11-01T00:00:00",
          "2011-10-01T00:00:00",
          "2011-09-01T00:00:00",
          "2011-08-01T00:00:00",
          "2011-07-01T00:00:00",
          "2011-06-01T00:00:00",
          "2011-05-01T00:00:00",
          "2011-04-01T00:00:00",
          "2011-03-01T00:00:00",
          "2011-02-01T00:00:00",
          "2011-01-01T00:00:00",
          "2010-12-01T00:00:00",
          "2010-11-01T00:00:00",
          "2010-10-01T00:00:00",
          "2010-09-01T00:00:00",
          "2010-08-01T00:00:00",
          "2010-07-01T00:00:00",
          "2010-06-01T00:00:00",
          "2010-05-01T00:00:00",
          "2010-04-01T00:00:00",
          "2010-03-01T00:00:00",
          "2010-02-01T00:00:00",
          "2010-01-01T00:00:00",
          "2009-12-01T00:00:00",
          "2009-11-01T00:00:00",
          "2009-10-01T00:00:00",
          "2009-09-01T00:00:00",
          "2009-08-01T00:00:00",
          "2009-07-01T00:00:00",
          "2009-06-01T00:00:00",
          "2009-05-01T00:00:00",
          "2009-04-01T00:00:00",
          "2009-03-01T00:00:00",
          "2009-02-01T00:00:00",
          "2009-01-01T00:00:00",
          "2008-12-01T00:00:00",
          "2008-11-01T00:00:00",
          "2008-10-01T00:00:00",
          "2008-09-01T00:00:00",
          "2008-08-01T00:00:00",
          "2008-07-01T00:00:00",
          "2008-06-01T00:00:00",
          "2008-05-01T00:00:00",
          "2008-04-01T00:00:00",
          "2008-03-01T00:00:00",
          "2008-02-01T00:00:00",
          "2008-01-01T00:00:00",
          "2007-12-01T00:00:00",
          "2007-11-01T00:00:00",
          "2007-10-01T00:00:00",
          "2007-09-01T00:00:00",
          "2007-08-01T00:00:00",
          "2007-07-01T00:00:00",
          "2007-06-01T00:00:00",
          "2007-05-01T00:00:00",
          "2007-04-01T00:00:00",
          "2007-03-01T00:00:00",
          "2007-02-01T00:00:00",
          "2007-01-01T00:00:00",
          "2006-12-01T00:00:00",
          "2006-11-01T00:00:00",
          "2006-10-01T00:00:00",
          "2006-09-01T00:00:00",
          "2006-08-01T00:00:00",
          "2006-07-01T00:00:00",
          "2006-06-01T00:00:00",
          "2006-05-01T00:00:00",
          "2006-04-01T00:00:00",
          "2006-03-01T00:00:00",
          "2006-02-01T00:00:00",
          "2006-01-01T00:00:00",
          "2005-12-01T00:00:00",
          "2005-11-01T00:00:00",
          "2005-10-01T00:00:00",
          "2005-09-01T00:00:00",
          "2005-08-01T00:00:00",
          "2005-07-01T00:00:00",
          "2005-06-01T00:00:00",
          "2005-05-01T00:00:00",
          "2005-04-01T00:00:00",
          "2005-03-01T00:00:00",
          "2005-02-01T00:00:00",
          "2005-01-01T00:00:00",
          "2004-12-01T00:00:00",
          "2004-11-01T00:00:00",
          "2004-10-01T00:00:00",
          "2004-09-01T00:00:00",
          "2004-08-01T00:00:00",
          "2004-07-01T00:00:00",
          "2004-06-01T00:00:00",
          "2004-05-01T00:00:00",
          "2004-04-01T00:00:00",
          "2004-03-01T00:00:00",
          "2004-02-01T00:00:00",
          "2004-01-01T00:00:00",
          "2003-12-01T00:00:00",
          "2003-11-01T00:00:00",
          "2003-10-01T00:00:00",
          "2003-09-01T00:00:00",
          "2003-08-01T00:00:00",
          "2003-07-01T00:00:00",
          "2003-06-01T00:00:00",
          "2003-05-01T00:00:00"
         ],
         "xaxis": "x",
         "y": [
          2.374,
          2.52,
          2.61,
          2.529,
          2.563,
          2.595,
          2.631,
          2.754,
          2.61,
          2.715,
          2.675,
          2.461,
          2.256,
          2.018,
          2.09,
          2.434,
          2.716,
          2.79,
          2.788,
          2.795,
          2.727,
          2.848,
          2.731,
          2.531,
          2.447,
          2.538,
          2.413,
          2.628,
          2.459,
          2.496,
          2.36,
          2.313,
          2.33,
          2.382,
          2.456,
          2.277,
          2.201,
          2.314,
          2.392,
          2.183,
          2.256,
          2.221,
          2.236,
          2.219,
          2.633,
          2.404,
          2.163,
          1.998,
          1.719,
          1.826,
          1.984,
          2.123,
          2.421,
          2.348,
          2.592,
          2.703,
          2.85,
          2.636,
          2.448,
          2.409,
          2.302,
          1.998,
          2.425,
          2.888,
          3.085,
          3.396,
          3.499,
          3.512,
          3.843,
          3.763,
          3.737,
          3.629,
          3.493,
          3.336,
          3.281,
          3.231,
          3.317,
          3.512,
          3.542,
          3.485,
          3.787,
          3.733,
          3.557,
          3.691,
          3.67,
          3.319,
          3.314,
          3.464,
          3.617,
          3.84,
          3.824,
          3.456,
          3.591,
          3.716,
          3.808,
          3.868,
          3.521,
          3.428,
          3.276,
          3.276,
          3.327,
          3.561,
          3.633,
          3.645,
          3.618,
          3.956,
          3.868,
          3.559,
          3.189,
          3.141,
          3.02,
          2.902,
          2.828,
          2.753,
          2.684,
          2.748,
          2.719,
          2.731,
          2.819,
          2.726,
          2.564,
          2.694,
          2.606,
          2.609,
          2.541,
          2.473,
          2.571,
          2.492,
          2.713,
          2.361,
          2.021,
          1.972,
          1.882,
          1.912,
          1.677,
          1.935,
          2.865,
          3.763,
          3.716,
          3.967,
          4.03,
          3.829,
          3.417,
          3.245,
          3.068,
          3.076,
          3.025,
          3.135,
          2.829,
          2.933,
          2.787,
          2.897,
          3.049,
          3.26,
          2.819,
          2.54,
          2.37,
          2.186,
          2.298,
          2.271,
          2.172,
          2.307,
          2.83,
          2.991,
          2.845,
          2.828,
          2.757,
          2.497,
          2.234,
          2.348,
          2.249,
          2.124,
          2.63,
          2.872,
          2.482,
          2.266,
          2.137,
          2.075,
          2.203,
          2.154,
          1.945,
          1.871,
          1.776,
          1.932,
          1.991,
          1.895,
          1.876,
          1.875,
          1.855,
          1.974,
          1.798,
          1.73,
          1.687,
          1.615,
          1.446,
          1.517,
          1.572,
          1.658,
          1.639,
          1.509,
          1.481,
          null
         ],
         "yaxis": "y"
        }
       ],
       "layout": {
        "legend": {
         "tracegroupgap": 0
        },
        "template": {
         "data": {
          "bar": [
           {
            "error_x": {
             "color": "#2a3f5f"
            },
            "error_y": {
             "color": "#2a3f5f"
            },
            "marker": {
             "line": {
              "color": "#E5ECF6",
              "width": 0.5
             }
            },
            "type": "bar"
           }
          ],
          "barpolar": [
           {
            "marker": {
             "line": {
              "color": "#E5ECF6",
              "width": 0.5
             }
            },
            "type": "barpolar"
           }
          ],
          "carpet": [
           {
            "aaxis": {
             "endlinecolor": "#2a3f5f",
             "gridcolor": "white",
             "linecolor": "white",
             "minorgridcolor": "white",
             "startlinecolor": "#2a3f5f"
            },
            "baxis": {
             "endlinecolor": "#2a3f5f",
             "gridcolor": "white",
             "linecolor": "white",
             "minorgridcolor": "white",
             "startlinecolor": "#2a3f5f"
            },
            "type": "carpet"
           }
          ],
          "choropleth": [
           {
            "colorbar": {
             "outlinewidth": 0,
             "ticks": ""
            },
            "type": "choropleth"
           }
          ],
          "contour": [
           {
            "colorbar": {
             "outlinewidth": 0,
             "ticks": ""
            },
            "colorscale": [
             [
              0,
              "#0d0887"
             ],
             [
              0.1111111111111111,
              "#46039f"
             ],
             [
              0.2222222222222222,
              "#7201a8"
             ],
             [
              0.3333333333333333,
              "#9c179e"
             ],
             [
              0.4444444444444444,
              "#bd3786"
             ],
             [
              0.5555555555555556,
              "#d8576b"
             ],
             [
              0.6666666666666666,
              "#ed7953"
             ],
             [
              0.7777777777777778,
              "#fb9f3a"
             ],
             [
              0.8888888888888888,
              "#fdca26"
             ],
             [
              1,
              "#f0f921"
             ]
            ],
            "type": "contour"
           }
          ],
          "contourcarpet": [
           {
            "colorbar": {
             "outlinewidth": 0,
             "ticks": ""
            },
            "type": "contourcarpet"
           }
          ],
          "heatmap": [
           {
            "colorbar": {
             "outlinewidth": 0,
             "ticks": ""
            },
            "colorscale": [
             [
              0,
              "#0d0887"
             ],
             [
              0.1111111111111111,
              "#46039f"
             ],
             [
              0.2222222222222222,
              "#7201a8"
             ],
             [
              0.3333333333333333,
              "#9c179e"
             ],
             [
              0.4444444444444444,
              "#bd3786"
             ],
             [
              0.5555555555555556,
              "#d8576b"
             ],
             [
              0.6666666666666666,
              "#ed7953"
             ],
             [
              0.7777777777777778,
              "#fb9f3a"
             ],
             [
              0.8888888888888888,
              "#fdca26"
             ],
             [
              1,
              "#f0f921"
             ]
            ],
            "type": "heatmap"
           }
          ],
          "heatmapgl": [
           {
            "colorbar": {
             "outlinewidth": 0,
             "ticks": ""
            },
            "colorscale": [
             [
              0,
              "#0d0887"
             ],
             [
              0.1111111111111111,
              "#46039f"
             ],
             [
              0.2222222222222222,
              "#7201a8"
             ],
             [
              0.3333333333333333,
              "#9c179e"
             ],
             [
              0.4444444444444444,
              "#bd3786"
             ],
             [
              0.5555555555555556,
              "#d8576b"
             ],
             [
              0.6666666666666666,
              "#ed7953"
             ],
             [
              0.7777777777777778,
              "#fb9f3a"
             ],
             [
              0.8888888888888888,
              "#fdca26"
             ],
             [
              1,
              "#f0f921"
             ]
            ],
            "type": "heatmapgl"
           }
          ],
          "histogram": [
           {
            "marker": {
             "colorbar": {
              "outlinewidth": 0,
              "ticks": ""
             }
            },
            "type": "histogram"
           }
          ],
          "histogram2d": [
           {
            "colorbar": {
             "outlinewidth": 0,
             "ticks": ""
            },
            "colorscale": [
             [
              0,
              "#0d0887"
             ],
             [
              0.1111111111111111,
              "#46039f"
             ],
             [
              0.2222222222222222,
              "#7201a8"
             ],
             [
              0.3333333333333333,
              "#9c179e"
             ],
             [
              0.4444444444444444,
              "#bd3786"
             ],
             [
              0.5555555555555556,
              "#d8576b"
             ],
             [
              0.6666666666666666,
              "#ed7953"
             ],
             [
              0.7777777777777778,
              "#fb9f3a"
             ],
             [
              0.8888888888888888,
              "#fdca26"
             ],
             [
              1,
              "#f0f921"
             ]
            ],
            "type": "histogram2d"
           }
          ],
          "histogram2dcontour": [
           {
            "colorbar": {
             "outlinewidth": 0,
             "ticks": ""
            },
            "colorscale": [
             [
              0,
              "#0d0887"
             ],
             [
              0.1111111111111111,
              "#46039f"
             ],
             [
              0.2222222222222222,
              "#7201a8"
             ],
             [
              0.3333333333333333,
              "#9c179e"
             ],
             [
              0.4444444444444444,
              "#bd3786"
             ],
             [
              0.5555555555555556,
              "#d8576b"
             ],
             [
              0.6666666666666666,
              "#ed7953"
             ],
             [
              0.7777777777777778,
              "#fb9f3a"
             ],
             [
              0.8888888888888888,
              "#fdca26"
             ],
             [
              1,
              "#f0f921"
             ]
            ],
            "type": "histogram2dcontour"
           }
          ],
          "mesh3d": [
           {
            "colorbar": {
             "outlinewidth": 0,
             "ticks": ""
            },
            "type": "mesh3d"
           }
          ],
          "parcoords": [
           {
            "line": {
             "colorbar": {
              "outlinewidth": 0,
              "ticks": ""
             }
            },
            "type": "parcoords"
           }
          ],
          "pie": [
           {
            "automargin": true,
            "type": "pie"
           }
          ],
          "scatter": [
           {
            "marker": {
             "colorbar": {
              "outlinewidth": 0,
              "ticks": ""
             }
            },
            "type": "scatter"
           }
          ],
          "scatter3d": [
           {
            "line": {
             "colorbar": {
              "outlinewidth": 0,
              "ticks": ""
             }
            },
            "marker": {
             "colorbar": {
              "outlinewidth": 0,
              "ticks": ""
             }
            },
            "type": "scatter3d"
           }
          ],
          "scattercarpet": [
           {
            "marker": {
             "colorbar": {
              "outlinewidth": 0,
              "ticks": ""
             }
            },
            "type": "scattercarpet"
           }
          ],
          "scattergeo": [
           {
            "marker": {
             "colorbar": {
              "outlinewidth": 0,
              "ticks": ""
             }
            },
            "type": "scattergeo"
           }
          ],
          "scattergl": [
           {
            "marker": {
             "colorbar": {
              "outlinewidth": 0,
              "ticks": ""
             }
            },
            "type": "scattergl"
           }
          ],
          "scattermapbox": [
           {
            "marker": {
             "colorbar": {
              "outlinewidth": 0,
              "ticks": ""
             }
            },
            "type": "scattermapbox"
           }
          ],
          "scatterpolar": [
           {
            "marker": {
             "colorbar": {
              "outlinewidth": 0,
              "ticks": ""
             }
            },
            "type": "scatterpolar"
           }
          ],
          "scatterpolargl": [
           {
            "marker": {
             "colorbar": {
              "outlinewidth": 0,
              "ticks": ""
             }
            },
            "type": "scatterpolargl"
           }
          ],
          "scatterternary": [
           {
            "marker": {
             "colorbar": {
              "outlinewidth": 0,
              "ticks": ""
             }
            },
            "type": "scatterternary"
           }
          ],
          "surface": [
           {
            "colorbar": {
             "outlinewidth": 0,
             "ticks": ""
            },
            "colorscale": [
             [
              0,
              "#0d0887"
             ],
             [
              0.1111111111111111,
              "#46039f"
             ],
             [
              0.2222222222222222,
              "#7201a8"
             ],
             [
              0.3333333333333333,
              "#9c179e"
             ],
             [
              0.4444444444444444,
              "#bd3786"
             ],
             [
              0.5555555555555556,
              "#d8576b"
             ],
             [
              0.6666666666666666,
              "#ed7953"
             ],
             [
              0.7777777777777778,
              "#fb9f3a"
             ],
             [
              0.8888888888888888,
              "#fdca26"
             ],
             [
              1,
              "#f0f921"
             ]
            ],
            "type": "surface"
           }
          ],
          "table": [
           {
            "cells": {
             "fill": {
              "color": "#EBF0F8"
             },
             "line": {
              "color": "white"
             }
            },
            "header": {
             "fill": {
              "color": "#C8D4E3"
             },
             "line": {
              "color": "white"
             }
            },
            "type": "table"
           }
          ]
         },
         "layout": {
          "annotationdefaults": {
           "arrowcolor": "#2a3f5f",
           "arrowhead": 0,
           "arrowwidth": 1
          },
          "coloraxis": {
           "colorbar": {
            "outlinewidth": 0,
            "ticks": ""
           }
          },
          "colorscale": {
           "diverging": [
            [
             0,
             "#8e0152"
            ],
            [
             0.1,
             "#c51b7d"
            ],
            [
             0.2,
             "#de77ae"
            ],
            [
             0.3,
             "#f1b6da"
            ],
            [
             0.4,
             "#fde0ef"
            ],
            [
             0.5,
             "#f7f7f7"
            ],
            [
             0.6,
             "#e6f5d0"
            ],
            [
             0.7,
             "#b8e186"
            ],
            [
             0.8,
             "#7fbc41"
            ],
            [
             0.9,
             "#4d9221"
            ],
            [
             1,
             "#276419"
            ]
           ],
           "sequential": [
            [
             0,
             "#0d0887"
            ],
            [
             0.1111111111111111,
             "#46039f"
            ],
            [
             0.2222222222222222,
             "#7201a8"
            ],
            [
             0.3333333333333333,
             "#9c179e"
            ],
            [
             0.4444444444444444,
             "#bd3786"
            ],
            [
             0.5555555555555556,
             "#d8576b"
            ],
            [
             0.6666666666666666,
             "#ed7953"
            ],
            [
             0.7777777777777778,
             "#fb9f3a"
            ],
            [
             0.8888888888888888,
             "#fdca26"
            ],
            [
             1,
             "#f0f921"
            ]
           ],
           "sequentialminus": [
            [
             0,
             "#0d0887"
            ],
            [
             0.1111111111111111,
             "#46039f"
            ],
            [
             0.2222222222222222,
             "#7201a8"
            ],
            [
             0.3333333333333333,
             "#9c179e"
            ],
            [
             0.4444444444444444,
             "#bd3786"
            ],
            [
             0.5555555555555556,
             "#d8576b"
            ],
            [
             0.6666666666666666,
             "#ed7953"
            ],
            [
             0.7777777777777778,
             "#fb9f3a"
            ],
            [
             0.8888888888888888,
             "#fdca26"
            ],
            [
             1,
             "#f0f921"
            ]
           ]
          },
          "colorway": [
           "#636efa",
           "#EF553B",
           "#00cc96",
           "#ab63fa",
           "#FFA15A",
           "#19d3f3",
           "#FF6692",
           "#B6E880",
           "#FF97FF",
           "#FECB52"
          ],
          "font": {
           "color": "#2a3f5f"
          },
          "geo": {
           "bgcolor": "white",
           "lakecolor": "white",
           "landcolor": "#E5ECF6",
           "showlakes": true,
           "showland": true,
           "subunitcolor": "white"
          },
          "hoverlabel": {
           "align": "left"
          },
          "hovermode": "closest",
          "mapbox": {
           "style": "light"
          },
          "paper_bgcolor": "white",
          "plot_bgcolor": "#E5ECF6",
          "polar": {
           "angularaxis": {
            "gridcolor": "white",
            "linecolor": "white",
            "ticks": ""
           },
           "bgcolor": "#E5ECF6",
           "radialaxis": {
            "gridcolor": "white",
            "linecolor": "white",
            "ticks": ""
           }
          },
          "scene": {
           "xaxis": {
            "backgroundcolor": "#E5ECF6",
            "gridcolor": "white",
            "gridwidth": 2,
            "linecolor": "white",
            "showbackground": true,
            "ticks": "",
            "zerolinecolor": "white"
           },
           "yaxis": {
            "backgroundcolor": "#E5ECF6",
            "gridcolor": "white",
            "gridwidth": 2,
            "linecolor": "white",
            "showbackground": true,
            "ticks": "",
            "zerolinecolor": "white"
           },
           "zaxis": {
            "backgroundcolor": "#E5ECF6",
            "gridcolor": "white",
            "gridwidth": 2,
            "linecolor": "white",
            "showbackground": true,
            "ticks": "",
            "zerolinecolor": "white"
           }
          },
          "shapedefaults": {
           "line": {
            "color": "#2a3f5f"
           }
          },
          "ternary": {
           "aaxis": {
            "gridcolor": "white",
            "linecolor": "white",
            "ticks": ""
           },
           "baxis": {
            "gridcolor": "white",
            "linecolor": "white",
            "ticks": ""
           },
           "bgcolor": "#E5ECF6",
           "caxis": {
            "gridcolor": "white",
            "linecolor": "white",
            "ticks": ""
           }
          },
          "title": {
           "x": 0.05
          },
          "xaxis": {
           "automargin": true,
           "gridcolor": "white",
           "linecolor": "white",
           "ticks": "",
           "title": {
            "standoff": 15
           },
           "zerolinecolor": "white",
           "zerolinewidth": 2
          },
          "yaxis": {
           "automargin": true,
           "gridcolor": "white",
           "linecolor": "white",
           "ticks": "",
           "title": {
            "standoff": 15
           },
           "zerolinecolor": "white",
           "zerolinewidth": 2
          }
         }
        },
        "title": {
         "text": "Ohio All Grades All Formulations Retail Gasoline Prices, Monthly"
        },
        "xaxis": {
         "anchor": "y",
         "domain": [
          0,
          1
         ],
         "title": {
          "text": "Date"
         }
        },
        "yaxis": {
         "anchor": "x",
         "domain": [
          0,
          1
         ],
         "title": {
          "text": "Average Monthly Price ($)"
         }
        }
       }
      },
      "text/html": [
       "<div>\n",
       "        \n",
       "        \n",
       "            <div id=\"94593c9c-60fe-417b-b2d6-31491f300938\" class=\"plotly-graph-div\" style=\"height:525px; width:100%;\"></div>\n",
       "            <script type=\"text/javascript\">\n",
       "                require([\"plotly\"], function(Plotly) {\n",
       "                    window.PLOTLYENV=window.PLOTLYENV || {};\n",
       "                    \n",
       "                if (document.getElementById(\"94593c9c-60fe-417b-b2d6-31491f300938\")) {\n",
       "                    Plotly.newPlot(\n",
       "                        '94593c9c-60fe-417b-b2d6-31491f300938',\n",
       "                        [{\"hoverlabel\": {\"namelength\": 0}, \"hovertemplate\": \"date=%{x}<br>price=%{y}\", \"legendgroup\": \"\", \"line\": {\"color\": \"#636efa\", \"dash\": \"solid\"}, \"mode\": \"lines\", \"name\": \"\", \"showlegend\": false, \"type\": \"scatter\", \"x\": [\"2020-02-01T00:00:00\", \"2020-01-01T00:00:00\", \"2019-12-01T00:00:00\", \"2019-11-01T00:00:00\", \"2019-10-01T00:00:00\", \"2019-09-01T00:00:00\", \"2019-08-01T00:00:00\", \"2019-07-01T00:00:00\", \"2019-06-01T00:00:00\", \"2019-05-01T00:00:00\", \"2019-04-01T00:00:00\", \"2019-03-01T00:00:00\", \"2019-02-01T00:00:00\", \"2019-01-01T00:00:00\", \"2018-12-01T00:00:00\", \"2018-11-01T00:00:00\", \"2018-10-01T00:00:00\", \"2018-09-01T00:00:00\", \"2018-08-01T00:00:00\", \"2018-07-01T00:00:00\", \"2018-06-01T00:00:00\", \"2018-05-01T00:00:00\", \"2018-04-01T00:00:00\", \"2018-03-01T00:00:00\", \"2018-02-01T00:00:00\", \"2018-01-01T00:00:00\", \"2017-12-01T00:00:00\", \"2017-11-01T00:00:00\", \"2017-10-01T00:00:00\", \"2017-09-01T00:00:00\", \"2017-08-01T00:00:00\", \"2017-07-01T00:00:00\", \"2017-06-01T00:00:00\", \"2017-05-01T00:00:00\", \"2017-04-01T00:00:00\", \"2017-03-01T00:00:00\", \"2017-02-01T00:00:00\", \"2017-01-01T00:00:00\", \"2016-12-01T00:00:00\", \"2016-11-01T00:00:00\", \"2016-10-01T00:00:00\", \"2016-09-01T00:00:00\", \"2016-08-01T00:00:00\", \"2016-07-01T00:00:00\", \"2016-06-01T00:00:00\", \"2016-05-01T00:00:00\", \"2016-04-01T00:00:00\", \"2016-03-01T00:00:00\", \"2016-02-01T00:00:00\", \"2016-01-01T00:00:00\", \"2015-12-01T00:00:00\", \"2015-11-01T00:00:00\", \"2015-10-01T00:00:00\", \"2015-09-01T00:00:00\", \"2015-08-01T00:00:00\", \"2015-07-01T00:00:00\", \"2015-06-01T00:00:00\", \"2015-05-01T00:00:00\", \"2015-04-01T00:00:00\", \"2015-03-01T00:00:00\", \"2015-02-01T00:00:00\", \"2015-01-01T00:00:00\", \"2014-12-01T00:00:00\", \"2014-11-01T00:00:00\", \"2014-10-01T00:00:00\", \"2014-09-01T00:00:00\", \"2014-08-01T00:00:00\", \"2014-07-01T00:00:00\", \"2014-06-01T00:00:00\", \"2014-05-01T00:00:00\", \"2014-04-01T00:00:00\", \"2014-03-01T00:00:00\", \"2014-02-01T00:00:00\", \"2014-01-01T00:00:00\", \"2013-12-01T00:00:00\", \"2013-11-01T00:00:00\", \"2013-10-01T00:00:00\", \"2013-09-01T00:00:00\", \"2013-08-01T00:00:00\", \"2013-07-01T00:00:00\", \"2013-06-01T00:00:00\", \"2013-05-01T00:00:00\", \"2013-04-01T00:00:00\", \"2013-03-01T00:00:00\", \"2013-02-01T00:00:00\", \"2013-01-01T00:00:00\", \"2012-12-01T00:00:00\", \"2012-11-01T00:00:00\", \"2012-10-01T00:00:00\", \"2012-09-01T00:00:00\", \"2012-08-01T00:00:00\", \"2012-07-01T00:00:00\", \"2012-06-01T00:00:00\", \"2012-05-01T00:00:00\", \"2012-04-01T00:00:00\", \"2012-03-01T00:00:00\", \"2012-02-01T00:00:00\", \"2012-01-01T00:00:00\", \"2011-12-01T00:00:00\", \"2011-11-01T00:00:00\", \"2011-10-01T00:00:00\", \"2011-09-01T00:00:00\", \"2011-08-01T00:00:00\", \"2011-07-01T00:00:00\", \"2011-06-01T00:00:00\", \"2011-05-01T00:00:00\", \"2011-04-01T00:00:00\", \"2011-03-01T00:00:00\", \"2011-02-01T00:00:00\", \"2011-01-01T00:00:00\", \"2010-12-01T00:00:00\", \"2010-11-01T00:00:00\", \"2010-10-01T00:00:00\", \"2010-09-01T00:00:00\", \"2010-08-01T00:00:00\", \"2010-07-01T00:00:00\", \"2010-06-01T00:00:00\", \"2010-05-01T00:00:00\", \"2010-04-01T00:00:00\", \"2010-03-01T00:00:00\", \"2010-02-01T00:00:00\", \"2010-01-01T00:00:00\", \"2009-12-01T00:00:00\", \"2009-11-01T00:00:00\", \"2009-10-01T00:00:00\", \"2009-09-01T00:00:00\", \"2009-08-01T00:00:00\", \"2009-07-01T00:00:00\", \"2009-06-01T00:00:00\", \"2009-05-01T00:00:00\", \"2009-04-01T00:00:00\", \"2009-03-01T00:00:00\", \"2009-02-01T00:00:00\", \"2009-01-01T00:00:00\", \"2008-12-01T00:00:00\", \"2008-11-01T00:00:00\", \"2008-10-01T00:00:00\", \"2008-09-01T00:00:00\", \"2008-08-01T00:00:00\", \"2008-07-01T00:00:00\", \"2008-06-01T00:00:00\", \"2008-05-01T00:00:00\", \"2008-04-01T00:00:00\", \"2008-03-01T00:00:00\", \"2008-02-01T00:00:00\", \"2008-01-01T00:00:00\", \"2007-12-01T00:00:00\", \"2007-11-01T00:00:00\", \"2007-10-01T00:00:00\", \"2007-09-01T00:00:00\", \"2007-08-01T00:00:00\", \"2007-07-01T00:00:00\", \"2007-06-01T00:00:00\", \"2007-05-01T00:00:00\", \"2007-04-01T00:00:00\", \"2007-03-01T00:00:00\", \"2007-02-01T00:00:00\", \"2007-01-01T00:00:00\", \"2006-12-01T00:00:00\", \"2006-11-01T00:00:00\", \"2006-10-01T00:00:00\", \"2006-09-01T00:00:00\", \"2006-08-01T00:00:00\", \"2006-07-01T00:00:00\", \"2006-06-01T00:00:00\", \"2006-05-01T00:00:00\", \"2006-04-01T00:00:00\", \"2006-03-01T00:00:00\", \"2006-02-01T00:00:00\", \"2006-01-01T00:00:00\", \"2005-12-01T00:00:00\", \"2005-11-01T00:00:00\", \"2005-10-01T00:00:00\", \"2005-09-01T00:00:00\", \"2005-08-01T00:00:00\", \"2005-07-01T00:00:00\", \"2005-06-01T00:00:00\", \"2005-05-01T00:00:00\", \"2005-04-01T00:00:00\", \"2005-03-01T00:00:00\", \"2005-02-01T00:00:00\", \"2005-01-01T00:00:00\", \"2004-12-01T00:00:00\", \"2004-11-01T00:00:00\", \"2004-10-01T00:00:00\", \"2004-09-01T00:00:00\", \"2004-08-01T00:00:00\", \"2004-07-01T00:00:00\", \"2004-06-01T00:00:00\", \"2004-05-01T00:00:00\", \"2004-04-01T00:00:00\", \"2004-03-01T00:00:00\", \"2004-02-01T00:00:00\", \"2004-01-01T00:00:00\", \"2003-12-01T00:00:00\", \"2003-11-01T00:00:00\", \"2003-10-01T00:00:00\", \"2003-09-01T00:00:00\", \"2003-08-01T00:00:00\", \"2003-07-01T00:00:00\", \"2003-06-01T00:00:00\", \"2003-05-01T00:00:00\"], \"xaxis\": \"x\", \"y\": [2.374, 2.52, 2.61, 2.529, 2.563, 2.595, 2.631, 2.754, 2.61, 2.715, 2.675, 2.461, 2.256, 2.018, 2.09, 2.434, 2.716, 2.79, 2.788, 2.795, 2.727, 2.848, 2.731, 2.531, 2.447, 2.538, 2.413, 2.628, 2.459, 2.496, 2.36, 2.313, 2.33, 2.382, 2.456, 2.277, 2.201, 2.314, 2.392, 2.183, 2.256, 2.221, 2.236, 2.219, 2.633, 2.404, 2.163, 1.998, 1.719, 1.826, 1.984, 2.123, 2.421, 2.348, 2.592, 2.703, 2.85, 2.636, 2.448, 2.409, 2.302, 1.998, 2.425, 2.888, 3.085, 3.396, 3.499, 3.512, 3.843, 3.763, 3.737, 3.629, 3.493, 3.336, 3.281, 3.231, 3.317, 3.512, 3.542, 3.485, 3.787, 3.733, 3.557, 3.691, 3.67, 3.319, 3.314, 3.464, 3.617, 3.84, 3.824, 3.456, 3.591, 3.716, 3.808, 3.868, 3.521, 3.428, 3.276, 3.276, 3.327, 3.561, 3.633, 3.645, 3.618, 3.956, 3.868, 3.559, 3.189, 3.141, 3.02, 2.902, 2.828, 2.753, 2.684, 2.748, 2.719, 2.731, 2.819, 2.726, 2.564, 2.694, 2.606, 2.609, 2.541, 2.473, 2.571, 2.492, 2.713, 2.361, 2.021, 1.972, 1.882, 1.912, 1.677, 1.935, 2.865, 3.763, 3.716, 3.967, 4.03, 3.829, 3.417, 3.245, 3.068, 3.076, 3.025, 3.135, 2.829, 2.933, 2.787, 2.897, 3.049, 3.26, 2.819, 2.54, 2.37, 2.186, 2.298, 2.271, 2.172, 2.307, 2.83, 2.991, 2.845, 2.828, 2.757, 2.497, 2.234, 2.348, 2.249, 2.124, 2.63, 2.872, 2.482, 2.266, 2.137, 2.075, 2.203, 2.154, 1.945, 1.871, 1.776, 1.932, 1.991, 1.895, 1.876, 1.875, 1.855, 1.974, 1.798, 1.73, 1.687, 1.615, 1.446, 1.517, 1.572, 1.658, 1.639, 1.509, 1.481, null], \"yaxis\": \"y\"}],\n",
       "                        {\"legend\": {\"tracegroupgap\": 0}, \"template\": {\"data\": {\"bar\": [{\"error_x\": {\"color\": \"#2a3f5f\"}, \"error_y\": {\"color\": \"#2a3f5f\"}, \"marker\": {\"line\": {\"color\": \"#E5ECF6\", \"width\": 0.5}}, \"type\": \"bar\"}], \"barpolar\": [{\"marker\": {\"line\": {\"color\": \"#E5ECF6\", \"width\": 0.5}}, \"type\": \"barpolar\"}], \"carpet\": [{\"aaxis\": {\"endlinecolor\": \"#2a3f5f\", \"gridcolor\": \"white\", \"linecolor\": \"white\", \"minorgridcolor\": \"white\", \"startlinecolor\": \"#2a3f5f\"}, \"baxis\": {\"endlinecolor\": \"#2a3f5f\", \"gridcolor\": \"white\", \"linecolor\": \"white\", \"minorgridcolor\": \"white\", \"startlinecolor\": \"#2a3f5f\"}, \"type\": \"carpet\"}], \"choropleth\": [{\"colorbar\": {\"outlinewidth\": 0, \"ticks\": \"\"}, \"type\": \"choropleth\"}], \"contour\": [{\"colorbar\": {\"outlinewidth\": 0, \"ticks\": \"\"}, \"colorscale\": [[0.0, \"#0d0887\"], [0.1111111111111111, \"#46039f\"], [0.2222222222222222, \"#7201a8\"], [0.3333333333333333, \"#9c179e\"], [0.4444444444444444, \"#bd3786\"], [0.5555555555555556, \"#d8576b\"], [0.6666666666666666, \"#ed7953\"], [0.7777777777777778, \"#fb9f3a\"], [0.8888888888888888, \"#fdca26\"], [1.0, \"#f0f921\"]], \"type\": \"contour\"}], \"contourcarpet\": [{\"colorbar\": {\"outlinewidth\": 0, \"ticks\": \"\"}, \"type\": \"contourcarpet\"}], \"heatmap\": [{\"colorbar\": {\"outlinewidth\": 0, \"ticks\": \"\"}, \"colorscale\": [[0.0, \"#0d0887\"], [0.1111111111111111, \"#46039f\"], [0.2222222222222222, \"#7201a8\"], [0.3333333333333333, \"#9c179e\"], [0.4444444444444444, \"#bd3786\"], [0.5555555555555556, \"#d8576b\"], [0.6666666666666666, \"#ed7953\"], [0.7777777777777778, \"#fb9f3a\"], [0.8888888888888888, \"#fdca26\"], [1.0, \"#f0f921\"]], \"type\": \"heatmap\"}], \"heatmapgl\": [{\"colorbar\": {\"outlinewidth\": 0, \"ticks\": \"\"}, \"colorscale\": [[0.0, \"#0d0887\"], [0.1111111111111111, \"#46039f\"], [0.2222222222222222, \"#7201a8\"], [0.3333333333333333, \"#9c179e\"], [0.4444444444444444, \"#bd3786\"], [0.5555555555555556, \"#d8576b\"], [0.6666666666666666, \"#ed7953\"], [0.7777777777777778, \"#fb9f3a\"], [0.8888888888888888, \"#fdca26\"], [1.0, \"#f0f921\"]], \"type\": \"heatmapgl\"}], \"histogram\": [{\"marker\": {\"colorbar\": {\"outlinewidth\": 0, \"ticks\": \"\"}}, \"type\": \"histogram\"}], \"histogram2d\": [{\"colorbar\": {\"outlinewidth\": 0, \"ticks\": \"\"}, \"colorscale\": [[0.0, \"#0d0887\"], [0.1111111111111111, \"#46039f\"], [0.2222222222222222, \"#7201a8\"], [0.3333333333333333, \"#9c179e\"], [0.4444444444444444, \"#bd3786\"], [0.5555555555555556, \"#d8576b\"], [0.6666666666666666, \"#ed7953\"], [0.7777777777777778, \"#fb9f3a\"], [0.8888888888888888, \"#fdca26\"], [1.0, \"#f0f921\"]], \"type\": \"histogram2d\"}], \"histogram2dcontour\": [{\"colorbar\": {\"outlinewidth\": 0, \"ticks\": \"\"}, \"colorscale\": [[0.0, \"#0d0887\"], [0.1111111111111111, \"#46039f\"], [0.2222222222222222, \"#7201a8\"], [0.3333333333333333, \"#9c179e\"], [0.4444444444444444, \"#bd3786\"], [0.5555555555555556, \"#d8576b\"], [0.6666666666666666, \"#ed7953\"], [0.7777777777777778, \"#fb9f3a\"], [0.8888888888888888, \"#fdca26\"], [1.0, \"#f0f921\"]], \"type\": \"histogram2dcontour\"}], \"mesh3d\": [{\"colorbar\": {\"outlinewidth\": 0, \"ticks\": \"\"}, \"type\": \"mesh3d\"}], \"parcoords\": [{\"line\": {\"colorbar\": {\"outlinewidth\": 0, \"ticks\": \"\"}}, \"type\": \"parcoords\"}], \"pie\": [{\"automargin\": true, \"type\": \"pie\"}], \"scatter\": [{\"marker\": {\"colorbar\": {\"outlinewidth\": 0, \"ticks\": \"\"}}, \"type\": \"scatter\"}], \"scatter3d\": [{\"line\": {\"colorbar\": {\"outlinewidth\": 0, \"ticks\": \"\"}}, \"marker\": {\"colorbar\": {\"outlinewidth\": 0, \"ticks\": \"\"}}, \"type\": \"scatter3d\"}], \"scattercarpet\": [{\"marker\": {\"colorbar\": {\"outlinewidth\": 0, \"ticks\": \"\"}}, \"type\": \"scattercarpet\"}], \"scattergeo\": [{\"marker\": {\"colorbar\": {\"outlinewidth\": 0, \"ticks\": \"\"}}, \"type\": \"scattergeo\"}], \"scattergl\": [{\"marker\": {\"colorbar\": {\"outlinewidth\": 0, \"ticks\": \"\"}}, \"type\": \"scattergl\"}], \"scattermapbox\": [{\"marker\": {\"colorbar\": {\"outlinewidth\": 0, \"ticks\": \"\"}}, \"type\": \"scattermapbox\"}], \"scatterpolar\": [{\"marker\": {\"colorbar\": {\"outlinewidth\": 0, \"ticks\": \"\"}}, \"type\": \"scatterpolar\"}], \"scatterpolargl\": [{\"marker\": {\"colorbar\": {\"outlinewidth\": 0, \"ticks\": \"\"}}, \"type\": \"scatterpolargl\"}], \"scatterternary\": [{\"marker\": {\"colorbar\": {\"outlinewidth\": 0, \"ticks\": \"\"}}, \"type\": \"scatterternary\"}], \"surface\": [{\"colorbar\": {\"outlinewidth\": 0, \"ticks\": \"\"}, \"colorscale\": [[0.0, \"#0d0887\"], [0.1111111111111111, \"#46039f\"], [0.2222222222222222, \"#7201a8\"], [0.3333333333333333, \"#9c179e\"], [0.4444444444444444, \"#bd3786\"], [0.5555555555555556, \"#d8576b\"], [0.6666666666666666, \"#ed7953\"], [0.7777777777777778, \"#fb9f3a\"], [0.8888888888888888, \"#fdca26\"], [1.0, \"#f0f921\"]], \"type\": \"surface\"}], \"table\": [{\"cells\": {\"fill\": {\"color\": \"#EBF0F8\"}, \"line\": {\"color\": \"white\"}}, \"header\": {\"fill\": {\"color\": \"#C8D4E3\"}, \"line\": {\"color\": \"white\"}}, \"type\": \"table\"}]}, \"layout\": {\"annotationdefaults\": {\"arrowcolor\": \"#2a3f5f\", \"arrowhead\": 0, \"arrowwidth\": 1}, \"coloraxis\": {\"colorbar\": {\"outlinewidth\": 0, \"ticks\": \"\"}}, \"colorscale\": {\"diverging\": [[0, \"#8e0152\"], [0.1, \"#c51b7d\"], [0.2, \"#de77ae\"], [0.3, \"#f1b6da\"], [0.4, \"#fde0ef\"], [0.5, \"#f7f7f7\"], [0.6, \"#e6f5d0\"], [0.7, \"#b8e186\"], [0.8, \"#7fbc41\"], [0.9, \"#4d9221\"], [1, \"#276419\"]], \"sequential\": [[0.0, \"#0d0887\"], [0.1111111111111111, \"#46039f\"], [0.2222222222222222, \"#7201a8\"], [0.3333333333333333, \"#9c179e\"], [0.4444444444444444, \"#bd3786\"], [0.5555555555555556, \"#d8576b\"], [0.6666666666666666, \"#ed7953\"], [0.7777777777777778, \"#fb9f3a\"], [0.8888888888888888, \"#fdca26\"], [1.0, \"#f0f921\"]], \"sequentialminus\": [[0.0, \"#0d0887\"], [0.1111111111111111, \"#46039f\"], [0.2222222222222222, \"#7201a8\"], [0.3333333333333333, \"#9c179e\"], [0.4444444444444444, \"#bd3786\"], [0.5555555555555556, \"#d8576b\"], [0.6666666666666666, \"#ed7953\"], [0.7777777777777778, \"#fb9f3a\"], [0.8888888888888888, \"#fdca26\"], [1.0, \"#f0f921\"]]}, \"colorway\": [\"#636efa\", \"#EF553B\", \"#00cc96\", \"#ab63fa\", \"#FFA15A\", \"#19d3f3\", \"#FF6692\", \"#B6E880\", \"#FF97FF\", \"#FECB52\"], \"font\": {\"color\": \"#2a3f5f\"}, \"geo\": {\"bgcolor\": \"white\", \"lakecolor\": \"white\", \"landcolor\": \"#E5ECF6\", \"showlakes\": true, \"showland\": true, \"subunitcolor\": \"white\"}, \"hoverlabel\": {\"align\": \"left\"}, \"hovermode\": \"closest\", \"mapbox\": {\"style\": \"light\"}, \"paper_bgcolor\": \"white\", \"plot_bgcolor\": \"#E5ECF6\", \"polar\": {\"angularaxis\": {\"gridcolor\": \"white\", \"linecolor\": \"white\", \"ticks\": \"\"}, \"bgcolor\": \"#E5ECF6\", \"radialaxis\": {\"gridcolor\": \"white\", \"linecolor\": \"white\", \"ticks\": \"\"}}, \"scene\": {\"xaxis\": {\"backgroundcolor\": \"#E5ECF6\", \"gridcolor\": \"white\", \"gridwidth\": 2, \"linecolor\": \"white\", \"showbackground\": true, \"ticks\": \"\", \"zerolinecolor\": \"white\"}, \"yaxis\": {\"backgroundcolor\": \"#E5ECF6\", \"gridcolor\": \"white\", \"gridwidth\": 2, \"linecolor\": \"white\", \"showbackground\": true, \"ticks\": \"\", \"zerolinecolor\": \"white\"}, \"zaxis\": {\"backgroundcolor\": \"#E5ECF6\", \"gridcolor\": \"white\", \"gridwidth\": 2, \"linecolor\": \"white\", \"showbackground\": true, \"ticks\": \"\", \"zerolinecolor\": \"white\"}}, \"shapedefaults\": {\"line\": {\"color\": \"#2a3f5f\"}}, \"ternary\": {\"aaxis\": {\"gridcolor\": \"white\", \"linecolor\": \"white\", \"ticks\": \"\"}, \"baxis\": {\"gridcolor\": \"white\", \"linecolor\": \"white\", \"ticks\": \"\"}, \"bgcolor\": \"#E5ECF6\", \"caxis\": {\"gridcolor\": \"white\", \"linecolor\": \"white\", \"ticks\": \"\"}}, \"title\": {\"x\": 0.05}, \"xaxis\": {\"automargin\": true, \"gridcolor\": \"white\", \"linecolor\": \"white\", \"ticks\": \"\", \"title\": {\"standoff\": 15}, \"zerolinecolor\": \"white\", \"zerolinewidth\": 2}, \"yaxis\": {\"automargin\": true, \"gridcolor\": \"white\", \"linecolor\": \"white\", \"ticks\": \"\", \"title\": {\"standoff\": 15}, \"zerolinecolor\": \"white\", \"zerolinewidth\": 2}}}, \"title\": {\"text\": \"Ohio All Grades All Formulations Retail Gasoline Prices, Monthly\"}, \"xaxis\": {\"anchor\": \"y\", \"domain\": [0.0, 1.0], \"title\": {\"text\": \"Date\"}}, \"yaxis\": {\"anchor\": \"x\", \"domain\": [0.0, 1.0], \"title\": {\"text\": \"Average Monthly Price ($)\"}}},\n",
       "                        {\"responsive\": true}\n",
       "                    ).then(function(){\n",
       "                            \n",
       "var gd = document.getElementById('94593c9c-60fe-417b-b2d6-31491f300938');\n",
       "var x = new MutationObserver(function (mutations, observer) {{\n",
       "        var display = window.getComputedStyle(gd).display;\n",
       "        if (!display || display === 'none') {{\n",
       "            console.log([gd, 'removed!']);\n",
       "            Plotly.purge(gd);\n",
       "            observer.disconnect();\n",
       "        }}\n",
       "}});\n",
       "\n",
       "// Listen for the removal of the full notebook cells\n",
       "var notebookContainer = gd.closest('#notebook-container');\n",
       "if (notebookContainer) {{\n",
       "    x.observe(notebookContainer, {childList: true});\n",
       "}}\n",
       "\n",
       "// Listen for the clearing of the current output cell\n",
       "var outputEl = gd.closest('.output');\n",
       "if (outputEl) {{\n",
       "    x.observe(outputEl, {childList: true});\n",
       "}}\n",
       "\n",
       "                        })\n",
       "                };\n",
       "                });\n",
       "            </script>\n",
       "        </div>"
      ]
     },
     "metadata": {},
     "output_type": "display_data"
    },
    {
     "data": {
      "application/vnd.plotly.v1+json": {
       "config": {
        "plotlyServerURL": "https://plot.ly"
       },
       "data": [
        {
         "hoverlabel": {
          "namelength": 0
         },
         "hovertemplate": "date=%{x}<br>price=%{y}",
         "legendgroup": "",
         "line": {
          "color": "#636efa",
          "dash": "solid"
         },
         "mode": "lines",
         "name": "",
         "showlegend": false,
         "type": "scatter",
         "x": [
          "2020-02-01T00:00:00",
          "2020-01-01T00:00:00",
          "2019-12-01T00:00:00",
          "2019-11-01T00:00:00",
          "2019-10-01T00:00:00",
          "2019-09-01T00:00:00",
          "2019-08-01T00:00:00",
          "2019-07-01T00:00:00",
          "2019-06-01T00:00:00",
          "2019-05-01T00:00:00",
          "2019-04-01T00:00:00",
          "2019-03-01T00:00:00",
          "2019-02-01T00:00:00",
          "2019-01-01T00:00:00",
          "2018-12-01T00:00:00",
          "2018-11-01T00:00:00",
          "2018-10-01T00:00:00",
          "2018-09-01T00:00:00",
          "2018-08-01T00:00:00",
          "2018-07-01T00:00:00",
          "2018-06-01T00:00:00",
          "2018-05-01T00:00:00",
          "2018-04-01T00:00:00",
          "2018-03-01T00:00:00",
          "2018-02-01T00:00:00",
          "2018-01-01T00:00:00",
          "2017-12-01T00:00:00",
          "2017-11-01T00:00:00",
          "2017-10-01T00:00:00",
          "2017-09-01T00:00:00",
          "2017-08-01T00:00:00",
          "2017-07-01T00:00:00",
          "2017-06-01T00:00:00",
          "2017-05-01T00:00:00",
          "2017-04-01T00:00:00",
          "2017-03-01T00:00:00",
          "2017-02-01T00:00:00",
          "2017-01-01T00:00:00",
          "2016-12-01T00:00:00",
          "2016-11-01T00:00:00",
          "2016-10-01T00:00:00",
          "2016-09-01T00:00:00",
          "2016-08-01T00:00:00",
          "2016-07-01T00:00:00",
          "2016-06-01T00:00:00",
          "2016-05-01T00:00:00",
          "2016-04-01T00:00:00",
          "2016-03-01T00:00:00",
          "2016-02-01T00:00:00",
          "2016-01-01T00:00:00",
          "2015-12-01T00:00:00",
          "2015-11-01T00:00:00",
          "2015-10-01T00:00:00",
          "2015-09-01T00:00:00",
          "2015-08-01T00:00:00",
          "2015-07-01T00:00:00",
          "2015-06-01T00:00:00",
          "2015-05-01T00:00:00",
          "2015-04-01T00:00:00",
          "2015-03-01T00:00:00",
          "2015-02-01T00:00:00",
          "2015-01-01T00:00:00",
          "2014-12-01T00:00:00",
          "2014-11-01T00:00:00",
          "2014-10-01T00:00:00",
          "2014-09-01T00:00:00",
          "2014-08-01T00:00:00",
          "2014-07-01T00:00:00",
          "2014-06-01T00:00:00",
          "2014-05-01T00:00:00",
          "2014-04-01T00:00:00",
          "2014-03-01T00:00:00",
          "2014-02-01T00:00:00",
          "2014-01-01T00:00:00",
          "2013-12-01T00:00:00",
          "2013-11-01T00:00:00",
          "2013-10-01T00:00:00",
          "2013-09-01T00:00:00",
          "2013-08-01T00:00:00",
          "2013-07-01T00:00:00",
          "2013-06-01T00:00:00",
          "2013-05-01T00:00:00",
          "2013-04-01T00:00:00",
          "2013-03-01T00:00:00",
          "2013-02-01T00:00:00",
          "2013-01-01T00:00:00",
          "2012-12-01T00:00:00",
          "2012-11-01T00:00:00",
          "2012-10-01T00:00:00",
          "2012-09-01T00:00:00",
          "2012-08-01T00:00:00",
          "2012-07-01T00:00:00",
          "2012-06-01T00:00:00",
          "2012-05-01T00:00:00",
          "2012-04-01T00:00:00",
          "2012-03-01T00:00:00",
          "2012-02-01T00:00:00",
          "2012-01-01T00:00:00",
          "2011-12-01T00:00:00",
          "2011-11-01T00:00:00",
          "2011-10-01T00:00:00",
          "2011-09-01T00:00:00",
          "2011-08-01T00:00:00",
          "2011-07-01T00:00:00",
          "2011-06-01T00:00:00",
          "2011-05-01T00:00:00",
          "2011-04-01T00:00:00",
          "2011-03-01T00:00:00",
          "2011-02-01T00:00:00",
          "2011-01-01T00:00:00",
          "2010-12-01T00:00:00",
          "2010-11-01T00:00:00",
          "2010-10-01T00:00:00",
          "2010-09-01T00:00:00",
          "2010-08-01T00:00:00",
          "2010-07-01T00:00:00",
          "2010-06-01T00:00:00",
          "2010-05-01T00:00:00",
          "2010-04-01T00:00:00",
          "2010-03-01T00:00:00",
          "2010-02-01T00:00:00",
          "2010-01-01T00:00:00",
          "2009-12-01T00:00:00",
          "2009-11-01T00:00:00",
          "2009-10-01T00:00:00",
          "2009-09-01T00:00:00",
          "2009-08-01T00:00:00",
          "2009-07-01T00:00:00",
          "2009-06-01T00:00:00",
          "2009-05-01T00:00:00",
          "2009-04-01T00:00:00",
          "2009-03-01T00:00:00",
          "2009-02-01T00:00:00",
          "2009-01-01T00:00:00",
          "2008-12-01T00:00:00",
          "2008-11-01T00:00:00",
          "2008-10-01T00:00:00",
          "2008-09-01T00:00:00",
          "2008-08-01T00:00:00",
          "2008-07-01T00:00:00",
          "2008-06-01T00:00:00",
          "2008-05-01T00:00:00",
          "2008-04-01T00:00:00",
          "2008-03-01T00:00:00",
          "2008-02-01T00:00:00",
          "2008-01-01T00:00:00",
          "2007-12-01T00:00:00",
          "2007-11-01T00:00:00",
          "2007-10-01T00:00:00",
          "2007-09-01T00:00:00",
          "2007-08-01T00:00:00",
          "2007-07-01T00:00:00",
          "2007-06-01T00:00:00",
          "2007-05-01T00:00:00",
          "2007-04-01T00:00:00",
          "2007-03-01T00:00:00",
          "2007-02-01T00:00:00",
          "2007-01-01T00:00:00",
          "2006-12-01T00:00:00",
          "2006-11-01T00:00:00",
          "2006-10-01T00:00:00",
          "2006-09-01T00:00:00",
          "2006-08-01T00:00:00",
          "2006-07-01T00:00:00",
          "2006-06-01T00:00:00",
          "2006-05-01T00:00:00",
          "2006-04-01T00:00:00",
          "2006-03-01T00:00:00",
          "2006-02-01T00:00:00",
          "2006-01-01T00:00:00",
          "2005-12-01T00:00:00",
          "2005-11-01T00:00:00",
          "2005-10-01T00:00:00",
          "2005-09-01T00:00:00",
          "2005-08-01T00:00:00",
          "2005-07-01T00:00:00",
          "2005-06-01T00:00:00",
          "2005-05-01T00:00:00",
          "2005-04-01T00:00:00",
          "2005-03-01T00:00:00",
          "2005-02-01T00:00:00",
          "2005-01-01T00:00:00",
          "2004-12-01T00:00:00",
          "2004-11-01T00:00:00",
          "2004-10-01T00:00:00",
          "2004-09-01T00:00:00",
          "2004-08-01T00:00:00",
          "2004-07-01T00:00:00",
          "2004-06-01T00:00:00",
          "2004-05-01T00:00:00",
          "2004-04-01T00:00:00",
          "2004-03-01T00:00:00",
          "2004-02-01T00:00:00",
          "2004-01-01T00:00:00",
          "2003-12-01T00:00:00",
          "2003-11-01T00:00:00",
          "2003-10-01T00:00:00",
          "2003-09-01T00:00:00",
          "2003-08-01T00:00:00",
          "2003-07-01T00:00:00",
          "2003-06-01T00:00:00",
          "2003-05-01T00:00:00",
          "2003-04-01T00:00:00",
          "2003-03-01T00:00:00",
          "2003-02-01T00:00:00",
          "2003-01-01T00:00:00",
          "2002-12-01T00:00:00",
          "2002-11-01T00:00:00",
          "2002-10-01T00:00:00",
          "2002-09-01T00:00:00",
          "2002-08-01T00:00:00",
          "2002-07-01T00:00:00",
          "2002-06-01T00:00:00",
          "2002-05-01T00:00:00",
          "2002-04-01T00:00:00",
          "2002-03-01T00:00:00",
          "2002-02-01T00:00:00",
          "2002-01-01T00:00:00",
          "2001-12-01T00:00:00",
          "2001-11-01T00:00:00",
          "2001-10-01T00:00:00",
          "2001-09-01T00:00:00",
          "2001-08-01T00:00:00",
          "2001-07-01T00:00:00",
          "2001-06-01T00:00:00",
          "2001-05-01T00:00:00",
          "2001-04-01T00:00:00",
          "2001-03-01T00:00:00",
          "2001-02-01T00:00:00",
          "2001-01-01T00:00:00",
          "2000-12-01T00:00:00",
          "2000-11-01T00:00:00",
          "2000-10-01T00:00:00",
          "2000-09-01T00:00:00",
          "2000-08-01T00:00:00",
          "2000-07-01T00:00:00",
          "2000-06-01T00:00:00"
         ],
         "xaxis": "x",
         "y": [
          2.161,
          2.292,
          2.285,
          2.299,
          2.324,
          2.358,
          2.405,
          2.52,
          2.437,
          2.602,
          2.589,
          2.33,
          2.08,
          1.977,
          2.074,
          2.384,
          2.643,
          2.628,
          2.643,
          2.682,
          2.77,
          2.742,
          2.598,
          2.43,
          2.402,
          2.391,
          2.302,
          2.375,
          2.399,
          2.609,
          2.263,
          2.168,
          2.244,
          2.281,
          2.313,
          2.187,
          2.171,
          2.234,
          2.122,
          2.051,
          2.125,
          2.07,
          2.073,
          2.144,
          2.229,
          2.122,
          1.986,
          1.855,
          1.648,
          1.793,
          1.89,
          1.993,
          2.101,
          2.158,
          2.424,
          2.604,
          2.641,
          2.529,
          2.326,
          2.303,
          2.089,
          1.976,
          2.392,
          2.781,
          3.056,
          3.281,
          3.366,
          3.513,
          3.55,
          3.522,
          3.541,
          3.373,
          3.213,
          3.187,
          3.171,
          3.104,
          3.18,
          3.383,
          3.509,
          3.518,
          3.461,
          3.452,
          3.473,
          3.624,
          3.55,
          3.238,
          3.147,
          3.246,
          3.541,
          3.709,
          3.581,
          3.324,
          3.369,
          3.595,
          3.844,
          3.759,
          3.526,
          3.267,
          3.14,
          3.253,
          3.323,
          3.474,
          3.586,
          3.597,
          3.601,
          3.839,
          3.746,
          3.486,
          3.105,
          2.995,
          2.885,
          2.726,
          2.699,
          2.594,
          2.636,
          2.628,
          2.657,
          2.796,
          2.788,
          2.693,
          2.549,
          2.622,
          2.517,
          2.561,
          2.446,
          2.416,
          2.545,
          2.422,
          2.535,
          2.205,
          2.011,
          1.894,
          1.845,
          1.697,
          1.637,
          2.023,
          2.905,
          3.647,
          3.681,
          3.978,
          3.961,
          3.712,
          3.415,
          3.195,
          2.967,
          2.969,
          2.925,
          2.986,
          2.726,
          2.72,
          2.739,
          2.897,
          2.973,
          3.016,
          2.761,
          2.434,
          2.16,
          2.143,
          2.231,
          2.137,
          2.149,
          2.443,
          2.868,
          2.906,
          2.825,
          2.86,
          2.774,
          2.393,
          2.215,
          2.289,
          2.161,
          2.205,
          2.72,
          2.843,
          2.446,
          2.227,
          2.101,
          2.088,
          2.169,
          2.008,
          1.841,
          1.773,
          1.762,
          1.892,
          1.91,
          1.797,
          1.812,
          1.829,
          1.889,
          1.879,
          1.702,
          1.635,
          1.579,
          1.524,
          1.422,
          1.424,
          1.447,
          1.549,
          1.54,
          1.458,
          1.416,
          1.414,
          1.517,
          1.625,
          1.589,
          1.45,
          1.365,
          1.395,
          1.433,
          1.367,
          1.354,
          1.343,
          1.35,
          1.372,
          1.375,
          1.224,
          1.086,
          1.082,
          1.052,
          1.116,
          1.269,
          1.422,
          1.336,
          1.357,
          1.566,
          1.633,
          1.522,
          1.361,
          1.422,
          1.405,
          1.391,
          1.455,
          1.468,
          1.491,
          1.46,
          1.549,
          1.54
         ],
         "yaxis": "y"
        }
       ],
       "layout": {
        "legend": {
         "tracegroupgap": 0
        },
        "template": {
         "data": {
          "bar": [
           {
            "error_x": {
             "color": "#2a3f5f"
            },
            "error_y": {
             "color": "#2a3f5f"
            },
            "marker": {
             "line": {
              "color": "#E5ECF6",
              "width": 0.5
             }
            },
            "type": "bar"
           }
          ],
          "barpolar": [
           {
            "marker": {
             "line": {
              "color": "#E5ECF6",
              "width": 0.5
             }
            },
            "type": "barpolar"
           }
          ],
          "carpet": [
           {
            "aaxis": {
             "endlinecolor": "#2a3f5f",
             "gridcolor": "white",
             "linecolor": "white",
             "minorgridcolor": "white",
             "startlinecolor": "#2a3f5f"
            },
            "baxis": {
             "endlinecolor": "#2a3f5f",
             "gridcolor": "white",
             "linecolor": "white",
             "minorgridcolor": "white",
             "startlinecolor": "#2a3f5f"
            },
            "type": "carpet"
           }
          ],
          "choropleth": [
           {
            "colorbar": {
             "outlinewidth": 0,
             "ticks": ""
            },
            "type": "choropleth"
           }
          ],
          "contour": [
           {
            "colorbar": {
             "outlinewidth": 0,
             "ticks": ""
            },
            "colorscale": [
             [
              0,
              "#0d0887"
             ],
             [
              0.1111111111111111,
              "#46039f"
             ],
             [
              0.2222222222222222,
              "#7201a8"
             ],
             [
              0.3333333333333333,
              "#9c179e"
             ],
             [
              0.4444444444444444,
              "#bd3786"
             ],
             [
              0.5555555555555556,
              "#d8576b"
             ],
             [
              0.6666666666666666,
              "#ed7953"
             ],
             [
              0.7777777777777778,
              "#fb9f3a"
             ],
             [
              0.8888888888888888,
              "#fdca26"
             ],
             [
              1,
              "#f0f921"
             ]
            ],
            "type": "contour"
           }
          ],
          "contourcarpet": [
           {
            "colorbar": {
             "outlinewidth": 0,
             "ticks": ""
            },
            "type": "contourcarpet"
           }
          ],
          "heatmap": [
           {
            "colorbar": {
             "outlinewidth": 0,
             "ticks": ""
            },
            "colorscale": [
             [
              0,
              "#0d0887"
             ],
             [
              0.1111111111111111,
              "#46039f"
             ],
             [
              0.2222222222222222,
              "#7201a8"
             ],
             [
              0.3333333333333333,
              "#9c179e"
             ],
             [
              0.4444444444444444,
              "#bd3786"
             ],
             [
              0.5555555555555556,
              "#d8576b"
             ],
             [
              0.6666666666666666,
              "#ed7953"
             ],
             [
              0.7777777777777778,
              "#fb9f3a"
             ],
             [
              0.8888888888888888,
              "#fdca26"
             ],
             [
              1,
              "#f0f921"
             ]
            ],
            "type": "heatmap"
           }
          ],
          "heatmapgl": [
           {
            "colorbar": {
             "outlinewidth": 0,
             "ticks": ""
            },
            "colorscale": [
             [
              0,
              "#0d0887"
             ],
             [
              0.1111111111111111,
              "#46039f"
             ],
             [
              0.2222222222222222,
              "#7201a8"
             ],
             [
              0.3333333333333333,
              "#9c179e"
             ],
             [
              0.4444444444444444,
              "#bd3786"
             ],
             [
              0.5555555555555556,
              "#d8576b"
             ],
             [
              0.6666666666666666,
              "#ed7953"
             ],
             [
              0.7777777777777778,
              "#fb9f3a"
             ],
             [
              0.8888888888888888,
              "#fdca26"
             ],
             [
              1,
              "#f0f921"
             ]
            ],
            "type": "heatmapgl"
           }
          ],
          "histogram": [
           {
            "marker": {
             "colorbar": {
              "outlinewidth": 0,
              "ticks": ""
             }
            },
            "type": "histogram"
           }
          ],
          "histogram2d": [
           {
            "colorbar": {
             "outlinewidth": 0,
             "ticks": ""
            },
            "colorscale": [
             [
              0,
              "#0d0887"
             ],
             [
              0.1111111111111111,
              "#46039f"
             ],
             [
              0.2222222222222222,
              "#7201a8"
             ],
             [
              0.3333333333333333,
              "#9c179e"
             ],
             [
              0.4444444444444444,
              "#bd3786"
             ],
             [
              0.5555555555555556,
              "#d8576b"
             ],
             [
              0.6666666666666666,
              "#ed7953"
             ],
             [
              0.7777777777777778,
              "#fb9f3a"
             ],
             [
              0.8888888888888888,
              "#fdca26"
             ],
             [
              1,
              "#f0f921"
             ]
            ],
            "type": "histogram2d"
           }
          ],
          "histogram2dcontour": [
           {
            "colorbar": {
             "outlinewidth": 0,
             "ticks": ""
            },
            "colorscale": [
             [
              0,
              "#0d0887"
             ],
             [
              0.1111111111111111,
              "#46039f"
             ],
             [
              0.2222222222222222,
              "#7201a8"
             ],
             [
              0.3333333333333333,
              "#9c179e"
             ],
             [
              0.4444444444444444,
              "#bd3786"
             ],
             [
              0.5555555555555556,
              "#d8576b"
             ],
             [
              0.6666666666666666,
              "#ed7953"
             ],
             [
              0.7777777777777778,
              "#fb9f3a"
             ],
             [
              0.8888888888888888,
              "#fdca26"
             ],
             [
              1,
              "#f0f921"
             ]
            ],
            "type": "histogram2dcontour"
           }
          ],
          "mesh3d": [
           {
            "colorbar": {
             "outlinewidth": 0,
             "ticks": ""
            },
            "type": "mesh3d"
           }
          ],
          "parcoords": [
           {
            "line": {
             "colorbar": {
              "outlinewidth": 0,
              "ticks": ""
             }
            },
            "type": "parcoords"
           }
          ],
          "pie": [
           {
            "automargin": true,
            "type": "pie"
           }
          ],
          "scatter": [
           {
            "marker": {
             "colorbar": {
              "outlinewidth": 0,
              "ticks": ""
             }
            },
            "type": "scatter"
           }
          ],
          "scatter3d": [
           {
            "line": {
             "colorbar": {
              "outlinewidth": 0,
              "ticks": ""
             }
            },
            "marker": {
             "colorbar": {
              "outlinewidth": 0,
              "ticks": ""
             }
            },
            "type": "scatter3d"
           }
          ],
          "scattercarpet": [
           {
            "marker": {
             "colorbar": {
              "outlinewidth": 0,
              "ticks": ""
             }
            },
            "type": "scattercarpet"
           }
          ],
          "scattergeo": [
           {
            "marker": {
             "colorbar": {
              "outlinewidth": 0,
              "ticks": ""
             }
            },
            "type": "scattergeo"
           }
          ],
          "scattergl": [
           {
            "marker": {
             "colorbar": {
              "outlinewidth": 0,
              "ticks": ""
             }
            },
            "type": "scattergl"
           }
          ],
          "scattermapbox": [
           {
            "marker": {
             "colorbar": {
              "outlinewidth": 0,
              "ticks": ""
             }
            },
            "type": "scattermapbox"
           }
          ],
          "scatterpolar": [
           {
            "marker": {
             "colorbar": {
              "outlinewidth": 0,
              "ticks": ""
             }
            },
            "type": "scatterpolar"
           }
          ],
          "scatterpolargl": [
           {
            "marker": {
             "colorbar": {
              "outlinewidth": 0,
              "ticks": ""
             }
            },
            "type": "scatterpolargl"
           }
          ],
          "scatterternary": [
           {
            "marker": {
             "colorbar": {
              "outlinewidth": 0,
              "ticks": ""
             }
            },
            "type": "scatterternary"
           }
          ],
          "surface": [
           {
            "colorbar": {
             "outlinewidth": 0,
             "ticks": ""
            },
            "colorscale": [
             [
              0,
              "#0d0887"
             ],
             [
              0.1111111111111111,
              "#46039f"
             ],
             [
              0.2222222222222222,
              "#7201a8"
             ],
             [
              0.3333333333333333,
              "#9c179e"
             ],
             [
              0.4444444444444444,
              "#bd3786"
             ],
             [
              0.5555555555555556,
              "#d8576b"
             ],
             [
              0.6666666666666666,
              "#ed7953"
             ],
             [
              0.7777777777777778,
              "#fb9f3a"
             ],
             [
              0.8888888888888888,
              "#fdca26"
             ],
             [
              1,
              "#f0f921"
             ]
            ],
            "type": "surface"
           }
          ],
          "table": [
           {
            "cells": {
             "fill": {
              "color": "#EBF0F8"
             },
             "line": {
              "color": "white"
             }
            },
            "header": {
             "fill": {
              "color": "#C8D4E3"
             },
             "line": {
              "color": "white"
             }
            },
            "type": "table"
           }
          ]
         },
         "layout": {
          "annotationdefaults": {
           "arrowcolor": "#2a3f5f",
           "arrowhead": 0,
           "arrowwidth": 1
          },
          "coloraxis": {
           "colorbar": {
            "outlinewidth": 0,
            "ticks": ""
           }
          },
          "colorscale": {
           "diverging": [
            [
             0,
             "#8e0152"
            ],
            [
             0.1,
             "#c51b7d"
            ],
            [
             0.2,
             "#de77ae"
            ],
            [
             0.3,
             "#f1b6da"
            ],
            [
             0.4,
             "#fde0ef"
            ],
            [
             0.5,
             "#f7f7f7"
            ],
            [
             0.6,
             "#e6f5d0"
            ],
            [
             0.7,
             "#b8e186"
            ],
            [
             0.8,
             "#7fbc41"
            ],
            [
             0.9,
             "#4d9221"
            ],
            [
             1,
             "#276419"
            ]
           ],
           "sequential": [
            [
             0,
             "#0d0887"
            ],
            [
             0.1111111111111111,
             "#46039f"
            ],
            [
             0.2222222222222222,
             "#7201a8"
            ],
            [
             0.3333333333333333,
             "#9c179e"
            ],
            [
             0.4444444444444444,
             "#bd3786"
            ],
            [
             0.5555555555555556,
             "#d8576b"
            ],
            [
             0.6666666666666666,
             "#ed7953"
            ],
            [
             0.7777777777777778,
             "#fb9f3a"
            ],
            [
             0.8888888888888888,
             "#fdca26"
            ],
            [
             1,
             "#f0f921"
            ]
           ],
           "sequentialminus": [
            [
             0,
             "#0d0887"
            ],
            [
             0.1111111111111111,
             "#46039f"
            ],
            [
             0.2222222222222222,
             "#7201a8"
            ],
            [
             0.3333333333333333,
             "#9c179e"
            ],
            [
             0.4444444444444444,
             "#bd3786"
            ],
            [
             0.5555555555555556,
             "#d8576b"
            ],
            [
             0.6666666666666666,
             "#ed7953"
            ],
            [
             0.7777777777777778,
             "#fb9f3a"
            ],
            [
             0.8888888888888888,
             "#fdca26"
            ],
            [
             1,
             "#f0f921"
            ]
           ]
          },
          "colorway": [
           "#636efa",
           "#EF553B",
           "#00cc96",
           "#ab63fa",
           "#FFA15A",
           "#19d3f3",
           "#FF6692",
           "#B6E880",
           "#FF97FF",
           "#FECB52"
          ],
          "font": {
           "color": "#2a3f5f"
          },
          "geo": {
           "bgcolor": "white",
           "lakecolor": "white",
           "landcolor": "#E5ECF6",
           "showlakes": true,
           "showland": true,
           "subunitcolor": "white"
          },
          "hoverlabel": {
           "align": "left"
          },
          "hovermode": "closest",
          "mapbox": {
           "style": "light"
          },
          "paper_bgcolor": "white",
          "plot_bgcolor": "#E5ECF6",
          "polar": {
           "angularaxis": {
            "gridcolor": "white",
            "linecolor": "white",
            "ticks": ""
           },
           "bgcolor": "#E5ECF6",
           "radialaxis": {
            "gridcolor": "white",
            "linecolor": "white",
            "ticks": ""
           }
          },
          "scene": {
           "xaxis": {
            "backgroundcolor": "#E5ECF6",
            "gridcolor": "white",
            "gridwidth": 2,
            "linecolor": "white",
            "showbackground": true,
            "ticks": "",
            "zerolinecolor": "white"
           },
           "yaxis": {
            "backgroundcolor": "#E5ECF6",
            "gridcolor": "white",
            "gridwidth": 2,
            "linecolor": "white",
            "showbackground": true,
            "ticks": "",
            "zerolinecolor": "white"
           },
           "zaxis": {
            "backgroundcolor": "#E5ECF6",
            "gridcolor": "white",
            "gridwidth": 2,
            "linecolor": "white",
            "showbackground": true,
            "ticks": "",
            "zerolinecolor": "white"
           }
          },
          "shapedefaults": {
           "line": {
            "color": "#2a3f5f"
           }
          },
          "ternary": {
           "aaxis": {
            "gridcolor": "white",
            "linecolor": "white",
            "ticks": ""
           },
           "baxis": {
            "gridcolor": "white",
            "linecolor": "white",
            "ticks": ""
           },
           "bgcolor": "#E5ECF6",
           "caxis": {
            "gridcolor": "white",
            "linecolor": "white",
            "ticks": ""
           }
          },
          "title": {
           "x": 0.05
          },
          "xaxis": {
           "automargin": true,
           "gridcolor": "white",
           "linecolor": "white",
           "ticks": "",
           "title": {
            "standoff": 15
           },
           "zerolinecolor": "white",
           "zerolinewidth": 2
          },
          "yaxis": {
           "automargin": true,
           "gridcolor": "white",
           "linecolor": "white",
           "ticks": "",
           "title": {
            "standoff": 15
           },
           "zerolinecolor": "white",
           "zerolinewidth": 2
          }
         }
        },
        "title": {
         "text": "Texas All Grades All Formulations Retail Gasoline Prices, Monthly"
        },
        "xaxis": {
         "anchor": "y",
         "domain": [
          0,
          1
         ],
         "title": {
          "text": "Date"
         }
        },
        "yaxis": {
         "anchor": "x",
         "domain": [
          0,
          1
         ],
         "title": {
          "text": "Average Monthly Price ($)"
         }
        }
       }
      },
      "text/html": [
       "<div>\n",
       "        \n",
       "        \n",
       "            <div id=\"a15412fc-47f5-4b50-848d-ddb050d65077\" class=\"plotly-graph-div\" style=\"height:525px; width:100%;\"></div>\n",
       "            <script type=\"text/javascript\">\n",
       "                require([\"plotly\"], function(Plotly) {\n",
       "                    window.PLOTLYENV=window.PLOTLYENV || {};\n",
       "                    \n",
       "                if (document.getElementById(\"a15412fc-47f5-4b50-848d-ddb050d65077\")) {\n",
       "                    Plotly.newPlot(\n",
       "                        'a15412fc-47f5-4b50-848d-ddb050d65077',\n",
       "                        [{\"hoverlabel\": {\"namelength\": 0}, \"hovertemplate\": \"date=%{x}<br>price=%{y}\", \"legendgroup\": \"\", \"line\": {\"color\": \"#636efa\", \"dash\": \"solid\"}, \"mode\": \"lines\", \"name\": \"\", \"showlegend\": false, \"type\": \"scatter\", \"x\": [\"2020-02-01T00:00:00\", \"2020-01-01T00:00:00\", \"2019-12-01T00:00:00\", \"2019-11-01T00:00:00\", \"2019-10-01T00:00:00\", \"2019-09-01T00:00:00\", \"2019-08-01T00:00:00\", \"2019-07-01T00:00:00\", \"2019-06-01T00:00:00\", \"2019-05-01T00:00:00\", \"2019-04-01T00:00:00\", \"2019-03-01T00:00:00\", \"2019-02-01T00:00:00\", \"2019-01-01T00:00:00\", \"2018-12-01T00:00:00\", \"2018-11-01T00:00:00\", \"2018-10-01T00:00:00\", \"2018-09-01T00:00:00\", \"2018-08-01T00:00:00\", \"2018-07-01T00:00:00\", \"2018-06-01T00:00:00\", \"2018-05-01T00:00:00\", \"2018-04-01T00:00:00\", \"2018-03-01T00:00:00\", \"2018-02-01T00:00:00\", \"2018-01-01T00:00:00\", \"2017-12-01T00:00:00\", \"2017-11-01T00:00:00\", \"2017-10-01T00:00:00\", \"2017-09-01T00:00:00\", \"2017-08-01T00:00:00\", \"2017-07-01T00:00:00\", \"2017-06-01T00:00:00\", \"2017-05-01T00:00:00\", \"2017-04-01T00:00:00\", \"2017-03-01T00:00:00\", \"2017-02-01T00:00:00\", \"2017-01-01T00:00:00\", \"2016-12-01T00:00:00\", \"2016-11-01T00:00:00\", \"2016-10-01T00:00:00\", \"2016-09-01T00:00:00\", \"2016-08-01T00:00:00\", \"2016-07-01T00:00:00\", \"2016-06-01T00:00:00\", \"2016-05-01T00:00:00\", \"2016-04-01T00:00:00\", \"2016-03-01T00:00:00\", \"2016-02-01T00:00:00\", \"2016-01-01T00:00:00\", \"2015-12-01T00:00:00\", \"2015-11-01T00:00:00\", \"2015-10-01T00:00:00\", \"2015-09-01T00:00:00\", \"2015-08-01T00:00:00\", \"2015-07-01T00:00:00\", \"2015-06-01T00:00:00\", \"2015-05-01T00:00:00\", \"2015-04-01T00:00:00\", \"2015-03-01T00:00:00\", \"2015-02-01T00:00:00\", \"2015-01-01T00:00:00\", \"2014-12-01T00:00:00\", \"2014-11-01T00:00:00\", \"2014-10-01T00:00:00\", \"2014-09-01T00:00:00\", \"2014-08-01T00:00:00\", \"2014-07-01T00:00:00\", \"2014-06-01T00:00:00\", \"2014-05-01T00:00:00\", \"2014-04-01T00:00:00\", \"2014-03-01T00:00:00\", \"2014-02-01T00:00:00\", \"2014-01-01T00:00:00\", \"2013-12-01T00:00:00\", \"2013-11-01T00:00:00\", \"2013-10-01T00:00:00\", \"2013-09-01T00:00:00\", \"2013-08-01T00:00:00\", \"2013-07-01T00:00:00\", \"2013-06-01T00:00:00\", \"2013-05-01T00:00:00\", \"2013-04-01T00:00:00\", \"2013-03-01T00:00:00\", \"2013-02-01T00:00:00\", \"2013-01-01T00:00:00\", \"2012-12-01T00:00:00\", \"2012-11-01T00:00:00\", \"2012-10-01T00:00:00\", \"2012-09-01T00:00:00\", \"2012-08-01T00:00:00\", \"2012-07-01T00:00:00\", \"2012-06-01T00:00:00\", \"2012-05-01T00:00:00\", \"2012-04-01T00:00:00\", \"2012-03-01T00:00:00\", \"2012-02-01T00:00:00\", \"2012-01-01T00:00:00\", \"2011-12-01T00:00:00\", \"2011-11-01T00:00:00\", \"2011-10-01T00:00:00\", \"2011-09-01T00:00:00\", \"2011-08-01T00:00:00\", \"2011-07-01T00:00:00\", \"2011-06-01T00:00:00\", \"2011-05-01T00:00:00\", \"2011-04-01T00:00:00\", \"2011-03-01T00:00:00\", \"2011-02-01T00:00:00\", \"2011-01-01T00:00:00\", \"2010-12-01T00:00:00\", \"2010-11-01T00:00:00\", \"2010-10-01T00:00:00\", \"2010-09-01T00:00:00\", \"2010-08-01T00:00:00\", \"2010-07-01T00:00:00\", \"2010-06-01T00:00:00\", \"2010-05-01T00:00:00\", \"2010-04-01T00:00:00\", \"2010-03-01T00:00:00\", \"2010-02-01T00:00:00\", \"2010-01-01T00:00:00\", \"2009-12-01T00:00:00\", \"2009-11-01T00:00:00\", \"2009-10-01T00:00:00\", \"2009-09-01T00:00:00\", \"2009-08-01T00:00:00\", \"2009-07-01T00:00:00\", \"2009-06-01T00:00:00\", \"2009-05-01T00:00:00\", \"2009-04-01T00:00:00\", \"2009-03-01T00:00:00\", \"2009-02-01T00:00:00\", \"2009-01-01T00:00:00\", \"2008-12-01T00:00:00\", \"2008-11-01T00:00:00\", \"2008-10-01T00:00:00\", \"2008-09-01T00:00:00\", \"2008-08-01T00:00:00\", \"2008-07-01T00:00:00\", \"2008-06-01T00:00:00\", \"2008-05-01T00:00:00\", \"2008-04-01T00:00:00\", \"2008-03-01T00:00:00\", \"2008-02-01T00:00:00\", \"2008-01-01T00:00:00\", \"2007-12-01T00:00:00\", \"2007-11-01T00:00:00\", \"2007-10-01T00:00:00\", \"2007-09-01T00:00:00\", \"2007-08-01T00:00:00\", \"2007-07-01T00:00:00\", \"2007-06-01T00:00:00\", \"2007-05-01T00:00:00\", \"2007-04-01T00:00:00\", \"2007-03-01T00:00:00\", \"2007-02-01T00:00:00\", \"2007-01-01T00:00:00\", \"2006-12-01T00:00:00\", \"2006-11-01T00:00:00\", \"2006-10-01T00:00:00\", \"2006-09-01T00:00:00\", \"2006-08-01T00:00:00\", \"2006-07-01T00:00:00\", \"2006-06-01T00:00:00\", \"2006-05-01T00:00:00\", \"2006-04-01T00:00:00\", \"2006-03-01T00:00:00\", \"2006-02-01T00:00:00\", \"2006-01-01T00:00:00\", \"2005-12-01T00:00:00\", \"2005-11-01T00:00:00\", \"2005-10-01T00:00:00\", \"2005-09-01T00:00:00\", \"2005-08-01T00:00:00\", \"2005-07-01T00:00:00\", \"2005-06-01T00:00:00\", \"2005-05-01T00:00:00\", \"2005-04-01T00:00:00\", \"2005-03-01T00:00:00\", \"2005-02-01T00:00:00\", \"2005-01-01T00:00:00\", \"2004-12-01T00:00:00\", \"2004-11-01T00:00:00\", \"2004-10-01T00:00:00\", \"2004-09-01T00:00:00\", \"2004-08-01T00:00:00\", \"2004-07-01T00:00:00\", \"2004-06-01T00:00:00\", \"2004-05-01T00:00:00\", \"2004-04-01T00:00:00\", \"2004-03-01T00:00:00\", \"2004-02-01T00:00:00\", \"2004-01-01T00:00:00\", \"2003-12-01T00:00:00\", \"2003-11-01T00:00:00\", \"2003-10-01T00:00:00\", \"2003-09-01T00:00:00\", \"2003-08-01T00:00:00\", \"2003-07-01T00:00:00\", \"2003-06-01T00:00:00\", \"2003-05-01T00:00:00\", \"2003-04-01T00:00:00\", \"2003-03-01T00:00:00\", \"2003-02-01T00:00:00\", \"2003-01-01T00:00:00\", \"2002-12-01T00:00:00\", \"2002-11-01T00:00:00\", \"2002-10-01T00:00:00\", \"2002-09-01T00:00:00\", \"2002-08-01T00:00:00\", \"2002-07-01T00:00:00\", \"2002-06-01T00:00:00\", \"2002-05-01T00:00:00\", \"2002-04-01T00:00:00\", \"2002-03-01T00:00:00\", \"2002-02-01T00:00:00\", \"2002-01-01T00:00:00\", \"2001-12-01T00:00:00\", \"2001-11-01T00:00:00\", \"2001-10-01T00:00:00\", \"2001-09-01T00:00:00\", \"2001-08-01T00:00:00\", \"2001-07-01T00:00:00\", \"2001-06-01T00:00:00\", \"2001-05-01T00:00:00\", \"2001-04-01T00:00:00\", \"2001-03-01T00:00:00\", \"2001-02-01T00:00:00\", \"2001-01-01T00:00:00\", \"2000-12-01T00:00:00\", \"2000-11-01T00:00:00\", \"2000-10-01T00:00:00\", \"2000-09-01T00:00:00\", \"2000-08-01T00:00:00\", \"2000-07-01T00:00:00\", \"2000-06-01T00:00:00\"], \"xaxis\": \"x\", \"y\": [2.161, 2.292, 2.285, 2.299, 2.324, 2.358, 2.405, 2.52, 2.437, 2.602, 2.589, 2.33, 2.08, 1.977, 2.074, 2.384, 2.643, 2.628, 2.643, 2.682, 2.77, 2.742, 2.598, 2.43, 2.402, 2.391, 2.302, 2.375, 2.399, 2.609, 2.263, 2.168, 2.244, 2.281, 2.313, 2.187, 2.171, 2.234, 2.122, 2.051, 2.125, 2.07, 2.073, 2.144, 2.229, 2.122, 1.986, 1.855, 1.648, 1.793, 1.89, 1.993, 2.101, 2.158, 2.424, 2.604, 2.641, 2.529, 2.326, 2.303, 2.089, 1.976, 2.392, 2.781, 3.056, 3.281, 3.366, 3.513, 3.55, 3.522, 3.541, 3.373, 3.213, 3.187, 3.171, 3.104, 3.18, 3.383, 3.509, 3.518, 3.461, 3.452, 3.473, 3.624, 3.55, 3.238, 3.147, 3.246, 3.541, 3.709, 3.581, 3.324, 3.369, 3.595, 3.844, 3.759, 3.526, 3.267, 3.14, 3.253, 3.323, 3.474, 3.586, 3.597, 3.601, 3.839, 3.746, 3.486, 3.105, 2.995, 2.885, 2.726, 2.699, 2.594, 2.636, 2.628, 2.657, 2.796, 2.788, 2.693, 2.549, 2.622, 2.517, 2.561, 2.446, 2.416, 2.545, 2.422, 2.535, 2.205, 2.011, 1.894, 1.845, 1.697, 1.637, 2.023, 2.905, 3.647, 3.681, 3.978, 3.961, 3.712, 3.415, 3.195, 2.967, 2.969, 2.925, 2.986, 2.726, 2.72, 2.739, 2.897, 2.973, 3.016, 2.761, 2.434, 2.16, 2.143, 2.231, 2.137, 2.149, 2.443, 2.868, 2.906, 2.825, 2.86, 2.774, 2.393, 2.215, 2.289, 2.161, 2.205, 2.72, 2.843, 2.446, 2.227, 2.101, 2.088, 2.169, 2.008, 1.841, 1.773, 1.762, 1.892, 1.91, 1.797, 1.812, 1.829, 1.889, 1.879, 1.702, 1.635, 1.579, 1.524, 1.422, 1.424, 1.447, 1.549, 1.54, 1.458, 1.416, 1.414, 1.517, 1.625, 1.589, 1.45, 1.365, 1.395, 1.433, 1.367, 1.354, 1.343, 1.35, 1.372, 1.375, 1.224, 1.086, 1.082, 1.052, 1.116, 1.269, 1.422, 1.336, 1.357, 1.566, 1.633, 1.522, 1.361, 1.422, 1.405, 1.391, 1.455, 1.468, 1.491, 1.46, 1.549, 1.54], \"yaxis\": \"y\"}],\n",
       "                        {\"legend\": {\"tracegroupgap\": 0}, \"template\": {\"data\": {\"bar\": [{\"error_x\": {\"color\": \"#2a3f5f\"}, \"error_y\": {\"color\": \"#2a3f5f\"}, \"marker\": {\"line\": {\"color\": \"#E5ECF6\", \"width\": 0.5}}, \"type\": \"bar\"}], \"barpolar\": [{\"marker\": {\"line\": {\"color\": \"#E5ECF6\", \"width\": 0.5}}, \"type\": \"barpolar\"}], \"carpet\": [{\"aaxis\": {\"endlinecolor\": \"#2a3f5f\", \"gridcolor\": \"white\", \"linecolor\": \"white\", \"minorgridcolor\": \"white\", \"startlinecolor\": \"#2a3f5f\"}, \"baxis\": {\"endlinecolor\": \"#2a3f5f\", \"gridcolor\": \"white\", \"linecolor\": \"white\", \"minorgridcolor\": \"white\", \"startlinecolor\": \"#2a3f5f\"}, \"type\": \"carpet\"}], \"choropleth\": [{\"colorbar\": {\"outlinewidth\": 0, \"ticks\": \"\"}, \"type\": \"choropleth\"}], \"contour\": [{\"colorbar\": {\"outlinewidth\": 0, \"ticks\": \"\"}, \"colorscale\": [[0.0, \"#0d0887\"], [0.1111111111111111, \"#46039f\"], [0.2222222222222222, \"#7201a8\"], [0.3333333333333333, \"#9c179e\"], [0.4444444444444444, \"#bd3786\"], [0.5555555555555556, \"#d8576b\"], [0.6666666666666666, \"#ed7953\"], [0.7777777777777778, \"#fb9f3a\"], [0.8888888888888888, \"#fdca26\"], [1.0, \"#f0f921\"]], \"type\": \"contour\"}], \"contourcarpet\": [{\"colorbar\": {\"outlinewidth\": 0, \"ticks\": \"\"}, \"type\": \"contourcarpet\"}], \"heatmap\": [{\"colorbar\": {\"outlinewidth\": 0, \"ticks\": \"\"}, \"colorscale\": [[0.0, \"#0d0887\"], [0.1111111111111111, \"#46039f\"], [0.2222222222222222, \"#7201a8\"], [0.3333333333333333, \"#9c179e\"], [0.4444444444444444, \"#bd3786\"], [0.5555555555555556, \"#d8576b\"], [0.6666666666666666, \"#ed7953\"], [0.7777777777777778, \"#fb9f3a\"], [0.8888888888888888, \"#fdca26\"], [1.0, \"#f0f921\"]], \"type\": \"heatmap\"}], \"heatmapgl\": [{\"colorbar\": {\"outlinewidth\": 0, \"ticks\": \"\"}, \"colorscale\": [[0.0, \"#0d0887\"], [0.1111111111111111, \"#46039f\"], [0.2222222222222222, \"#7201a8\"], [0.3333333333333333, \"#9c179e\"], [0.4444444444444444, \"#bd3786\"], [0.5555555555555556, \"#d8576b\"], [0.6666666666666666, \"#ed7953\"], [0.7777777777777778, \"#fb9f3a\"], [0.8888888888888888, \"#fdca26\"], [1.0, \"#f0f921\"]], \"type\": \"heatmapgl\"}], \"histogram\": [{\"marker\": {\"colorbar\": {\"outlinewidth\": 0, \"ticks\": \"\"}}, \"type\": \"histogram\"}], \"histogram2d\": [{\"colorbar\": {\"outlinewidth\": 0, \"ticks\": \"\"}, \"colorscale\": [[0.0, \"#0d0887\"], [0.1111111111111111, \"#46039f\"], [0.2222222222222222, \"#7201a8\"], [0.3333333333333333, \"#9c179e\"], [0.4444444444444444, \"#bd3786\"], [0.5555555555555556, \"#d8576b\"], [0.6666666666666666, \"#ed7953\"], [0.7777777777777778, \"#fb9f3a\"], [0.8888888888888888, \"#fdca26\"], [1.0, \"#f0f921\"]], \"type\": \"histogram2d\"}], \"histogram2dcontour\": [{\"colorbar\": {\"outlinewidth\": 0, \"ticks\": \"\"}, \"colorscale\": [[0.0, \"#0d0887\"], [0.1111111111111111, \"#46039f\"], [0.2222222222222222, \"#7201a8\"], [0.3333333333333333, \"#9c179e\"], [0.4444444444444444, \"#bd3786\"], [0.5555555555555556, \"#d8576b\"], [0.6666666666666666, \"#ed7953\"], [0.7777777777777778, \"#fb9f3a\"], [0.8888888888888888, \"#fdca26\"], [1.0, \"#f0f921\"]], \"type\": \"histogram2dcontour\"}], \"mesh3d\": [{\"colorbar\": {\"outlinewidth\": 0, \"ticks\": \"\"}, \"type\": \"mesh3d\"}], \"parcoords\": [{\"line\": {\"colorbar\": {\"outlinewidth\": 0, \"ticks\": \"\"}}, \"type\": \"parcoords\"}], \"pie\": [{\"automargin\": true, \"type\": \"pie\"}], \"scatter\": [{\"marker\": {\"colorbar\": {\"outlinewidth\": 0, \"ticks\": \"\"}}, \"type\": \"scatter\"}], \"scatter3d\": [{\"line\": {\"colorbar\": {\"outlinewidth\": 0, \"ticks\": \"\"}}, \"marker\": {\"colorbar\": {\"outlinewidth\": 0, \"ticks\": \"\"}}, \"type\": \"scatter3d\"}], \"scattercarpet\": [{\"marker\": {\"colorbar\": {\"outlinewidth\": 0, \"ticks\": \"\"}}, \"type\": \"scattercarpet\"}], \"scattergeo\": [{\"marker\": {\"colorbar\": {\"outlinewidth\": 0, \"ticks\": \"\"}}, \"type\": \"scattergeo\"}], \"scattergl\": [{\"marker\": {\"colorbar\": {\"outlinewidth\": 0, \"ticks\": \"\"}}, \"type\": \"scattergl\"}], \"scattermapbox\": [{\"marker\": {\"colorbar\": {\"outlinewidth\": 0, \"ticks\": \"\"}}, \"type\": \"scattermapbox\"}], \"scatterpolar\": [{\"marker\": {\"colorbar\": {\"outlinewidth\": 0, \"ticks\": \"\"}}, \"type\": \"scatterpolar\"}], \"scatterpolargl\": [{\"marker\": {\"colorbar\": {\"outlinewidth\": 0, \"ticks\": \"\"}}, \"type\": \"scatterpolargl\"}], \"scatterternary\": [{\"marker\": {\"colorbar\": {\"outlinewidth\": 0, \"ticks\": \"\"}}, \"type\": \"scatterternary\"}], \"surface\": [{\"colorbar\": {\"outlinewidth\": 0, \"ticks\": \"\"}, \"colorscale\": [[0.0, \"#0d0887\"], [0.1111111111111111, \"#46039f\"], [0.2222222222222222, \"#7201a8\"], [0.3333333333333333, \"#9c179e\"], [0.4444444444444444, \"#bd3786\"], [0.5555555555555556, \"#d8576b\"], [0.6666666666666666, \"#ed7953\"], [0.7777777777777778, \"#fb9f3a\"], [0.8888888888888888, \"#fdca26\"], [1.0, \"#f0f921\"]], \"type\": \"surface\"}], \"table\": [{\"cells\": {\"fill\": {\"color\": \"#EBF0F8\"}, \"line\": {\"color\": \"white\"}}, \"header\": {\"fill\": {\"color\": \"#C8D4E3\"}, \"line\": {\"color\": \"white\"}}, \"type\": \"table\"}]}, \"layout\": {\"annotationdefaults\": {\"arrowcolor\": \"#2a3f5f\", \"arrowhead\": 0, \"arrowwidth\": 1}, \"coloraxis\": {\"colorbar\": {\"outlinewidth\": 0, \"ticks\": \"\"}}, \"colorscale\": {\"diverging\": [[0, \"#8e0152\"], [0.1, \"#c51b7d\"], [0.2, \"#de77ae\"], [0.3, \"#f1b6da\"], [0.4, \"#fde0ef\"], [0.5, \"#f7f7f7\"], [0.6, \"#e6f5d0\"], [0.7, \"#b8e186\"], [0.8, \"#7fbc41\"], [0.9, \"#4d9221\"], [1, \"#276419\"]], \"sequential\": [[0.0, \"#0d0887\"], [0.1111111111111111, \"#46039f\"], [0.2222222222222222, \"#7201a8\"], [0.3333333333333333, \"#9c179e\"], [0.4444444444444444, \"#bd3786\"], [0.5555555555555556, \"#d8576b\"], [0.6666666666666666, \"#ed7953\"], [0.7777777777777778, \"#fb9f3a\"], [0.8888888888888888, \"#fdca26\"], [1.0, \"#f0f921\"]], \"sequentialminus\": [[0.0, \"#0d0887\"], [0.1111111111111111, \"#46039f\"], [0.2222222222222222, \"#7201a8\"], [0.3333333333333333, \"#9c179e\"], [0.4444444444444444, \"#bd3786\"], [0.5555555555555556, \"#d8576b\"], [0.6666666666666666, \"#ed7953\"], [0.7777777777777778, \"#fb9f3a\"], [0.8888888888888888, \"#fdca26\"], [1.0, \"#f0f921\"]]}, \"colorway\": [\"#636efa\", \"#EF553B\", \"#00cc96\", \"#ab63fa\", \"#FFA15A\", \"#19d3f3\", \"#FF6692\", \"#B6E880\", \"#FF97FF\", \"#FECB52\"], \"font\": {\"color\": \"#2a3f5f\"}, \"geo\": {\"bgcolor\": \"white\", \"lakecolor\": \"white\", \"landcolor\": \"#E5ECF6\", \"showlakes\": true, \"showland\": true, \"subunitcolor\": \"white\"}, \"hoverlabel\": {\"align\": \"left\"}, \"hovermode\": \"closest\", \"mapbox\": {\"style\": \"light\"}, \"paper_bgcolor\": \"white\", \"plot_bgcolor\": \"#E5ECF6\", \"polar\": {\"angularaxis\": {\"gridcolor\": \"white\", \"linecolor\": \"white\", \"ticks\": \"\"}, \"bgcolor\": \"#E5ECF6\", \"radialaxis\": {\"gridcolor\": \"white\", \"linecolor\": \"white\", \"ticks\": \"\"}}, \"scene\": {\"xaxis\": {\"backgroundcolor\": \"#E5ECF6\", \"gridcolor\": \"white\", \"gridwidth\": 2, \"linecolor\": \"white\", \"showbackground\": true, \"ticks\": \"\", \"zerolinecolor\": \"white\"}, \"yaxis\": {\"backgroundcolor\": \"#E5ECF6\", \"gridcolor\": \"white\", \"gridwidth\": 2, \"linecolor\": \"white\", \"showbackground\": true, \"ticks\": \"\", \"zerolinecolor\": \"white\"}, \"zaxis\": {\"backgroundcolor\": \"#E5ECF6\", \"gridcolor\": \"white\", \"gridwidth\": 2, \"linecolor\": \"white\", \"showbackground\": true, \"ticks\": \"\", \"zerolinecolor\": \"white\"}}, \"shapedefaults\": {\"line\": {\"color\": \"#2a3f5f\"}}, \"ternary\": {\"aaxis\": {\"gridcolor\": \"white\", \"linecolor\": \"white\", \"ticks\": \"\"}, \"baxis\": {\"gridcolor\": \"white\", \"linecolor\": \"white\", \"ticks\": \"\"}, \"bgcolor\": \"#E5ECF6\", \"caxis\": {\"gridcolor\": \"white\", \"linecolor\": \"white\", \"ticks\": \"\"}}, \"title\": {\"x\": 0.05}, \"xaxis\": {\"automargin\": true, \"gridcolor\": \"white\", \"linecolor\": \"white\", \"ticks\": \"\", \"title\": {\"standoff\": 15}, \"zerolinecolor\": \"white\", \"zerolinewidth\": 2}, \"yaxis\": {\"automargin\": true, \"gridcolor\": \"white\", \"linecolor\": \"white\", \"ticks\": \"\", \"title\": {\"standoff\": 15}, \"zerolinecolor\": \"white\", \"zerolinewidth\": 2}}}, \"title\": {\"text\": \"Texas All Grades All Formulations Retail Gasoline Prices, Monthly\"}, \"xaxis\": {\"anchor\": \"y\", \"domain\": [0.0, 1.0], \"title\": {\"text\": \"Date\"}}, \"yaxis\": {\"anchor\": \"x\", \"domain\": [0.0, 1.0], \"title\": {\"text\": \"Average Monthly Price ($)\"}}},\n",
       "                        {\"responsive\": true}\n",
       "                    ).then(function(){\n",
       "                            \n",
       "var gd = document.getElementById('a15412fc-47f5-4b50-848d-ddb050d65077');\n",
       "var x = new MutationObserver(function (mutations, observer) {{\n",
       "        var display = window.getComputedStyle(gd).display;\n",
       "        if (!display || display === 'none') {{\n",
       "            console.log([gd, 'removed!']);\n",
       "            Plotly.purge(gd);\n",
       "            observer.disconnect();\n",
       "        }}\n",
       "}});\n",
       "\n",
       "// Listen for the removal of the full notebook cells\n",
       "var notebookContainer = gd.closest('#notebook-container');\n",
       "if (notebookContainer) {{\n",
       "    x.observe(notebookContainer, {childList: true});\n",
       "}}\n",
       "\n",
       "// Listen for the clearing of the current output cell\n",
       "var outputEl = gd.closest('.output');\n",
       "if (outputEl) {{\n",
       "    x.observe(outputEl, {childList: true});\n",
       "}}\n",
       "\n",
       "                        })\n",
       "                };\n",
       "                });\n",
       "            </script>\n",
       "        </div>"
      ]
     },
     "metadata": {},
     "output_type": "display_data"
    },
    {
     "data": {
      "application/vnd.plotly.v1+json": {
       "config": {
        "plotlyServerURL": "https://plot.ly"
       },
       "data": [
        {
         "hoverlabel": {
          "namelength": 0
         },
         "hovertemplate": "date=%{x}<br>price=%{y}",
         "legendgroup": "",
         "line": {
          "color": "#636efa",
          "dash": "solid"
         },
         "mode": "lines",
         "name": "",
         "showlegend": false,
         "type": "scatter",
         "x": [
          "2020-02-01T00:00:00",
          "2020-01-01T00:00:00",
          "2019-12-01T00:00:00",
          "2019-11-01T00:00:00",
          "2019-10-01T00:00:00",
          "2019-09-01T00:00:00",
          "2019-08-01T00:00:00",
          "2019-07-01T00:00:00",
          "2019-06-01T00:00:00",
          "2019-05-01T00:00:00",
          "2019-04-01T00:00:00",
          "2019-03-01T00:00:00",
          "2019-02-01T00:00:00",
          "2019-01-01T00:00:00",
          "2018-12-01T00:00:00",
          "2018-11-01T00:00:00",
          "2018-10-01T00:00:00",
          "2018-09-01T00:00:00",
          "2018-08-01T00:00:00",
          "2018-07-01T00:00:00",
          "2018-06-01T00:00:00",
          "2018-05-01T00:00:00",
          "2018-04-01T00:00:00",
          "2018-03-01T00:00:00",
          "2018-02-01T00:00:00",
          "2018-01-01T00:00:00",
          "2017-12-01T00:00:00",
          "2017-11-01T00:00:00",
          "2017-10-01T00:00:00",
          "2017-09-01T00:00:00",
          "2017-08-01T00:00:00",
          "2017-07-01T00:00:00",
          "2017-06-01T00:00:00",
          "2017-05-01T00:00:00",
          "2017-04-01T00:00:00",
          "2017-03-01T00:00:00",
          "2017-02-01T00:00:00",
          "2017-01-01T00:00:00",
          "2016-12-01T00:00:00",
          "2016-11-01T00:00:00",
          "2016-10-01T00:00:00",
          "2016-09-01T00:00:00",
          "2016-08-01T00:00:00",
          "2016-07-01T00:00:00",
          "2016-06-01T00:00:00",
          "2016-05-01T00:00:00",
          "2016-04-01T00:00:00",
          "2016-03-01T00:00:00",
          "2016-02-01T00:00:00",
          "2016-01-01T00:00:00",
          "2015-12-01T00:00:00",
          "2015-11-01T00:00:00",
          "2015-10-01T00:00:00",
          "2015-09-01T00:00:00",
          "2015-08-01T00:00:00",
          "2015-07-01T00:00:00",
          "2015-06-01T00:00:00",
          "2015-05-01T00:00:00",
          "2015-04-01T00:00:00",
          "2015-03-01T00:00:00",
          "2015-02-01T00:00:00",
          "2015-01-01T00:00:00",
          "2014-12-01T00:00:00",
          "2014-11-01T00:00:00",
          "2014-10-01T00:00:00",
          "2014-09-01T00:00:00",
          "2014-08-01T00:00:00",
          "2014-07-01T00:00:00",
          "2014-06-01T00:00:00",
          "2014-05-01T00:00:00",
          "2014-04-01T00:00:00",
          "2014-03-01T00:00:00",
          "2014-02-01T00:00:00",
          "2014-01-01T00:00:00",
          "2013-12-01T00:00:00",
          "2013-11-01T00:00:00",
          "2013-10-01T00:00:00",
          "2013-09-01T00:00:00",
          "2013-08-01T00:00:00",
          "2013-07-01T00:00:00",
          "2013-06-01T00:00:00",
          "2013-05-01T00:00:00",
          "2013-04-01T00:00:00",
          "2013-03-01T00:00:00",
          "2013-02-01T00:00:00",
          "2013-01-01T00:00:00",
          "2012-12-01T00:00:00",
          "2012-11-01T00:00:00",
          "2012-10-01T00:00:00",
          "2012-09-01T00:00:00",
          "2012-08-01T00:00:00",
          "2012-07-01T00:00:00",
          "2012-06-01T00:00:00",
          "2012-05-01T00:00:00",
          "2012-04-01T00:00:00",
          "2012-03-01T00:00:00",
          "2012-02-01T00:00:00",
          "2012-01-01T00:00:00",
          "2011-12-01T00:00:00",
          "2011-11-01T00:00:00",
          "2011-10-01T00:00:00",
          "2011-09-01T00:00:00",
          "2011-08-01T00:00:00",
          "2011-07-01T00:00:00",
          "2011-06-01T00:00:00",
          "2011-05-01T00:00:00",
          "2011-04-01T00:00:00",
          "2011-03-01T00:00:00",
          "2011-02-01T00:00:00",
          "2011-01-01T00:00:00",
          "2010-12-01T00:00:00",
          "2010-11-01T00:00:00",
          "2010-10-01T00:00:00",
          "2010-09-01T00:00:00",
          "2010-08-01T00:00:00",
          "2010-07-01T00:00:00",
          "2010-06-01T00:00:00",
          "2010-05-01T00:00:00",
          "2010-04-01T00:00:00",
          "2010-03-01T00:00:00",
          "2010-02-01T00:00:00",
          "2010-01-01T00:00:00",
          "2009-12-01T00:00:00",
          "2009-11-01T00:00:00",
          "2009-10-01T00:00:00",
          "2009-09-01T00:00:00",
          "2009-08-01T00:00:00",
          "2009-07-01T00:00:00",
          "2009-06-01T00:00:00",
          "2009-05-01T00:00:00",
          "2009-04-01T00:00:00",
          "2009-03-01T00:00:00",
          "2009-02-01T00:00:00",
          "2009-01-01T00:00:00",
          "2008-12-01T00:00:00",
          "2008-11-01T00:00:00",
          "2008-10-01T00:00:00",
          "2008-09-01T00:00:00",
          "2008-08-01T00:00:00",
          "2008-07-01T00:00:00",
          "2008-06-01T00:00:00",
          "2008-05-01T00:00:00",
          "2008-04-01T00:00:00",
          "2008-03-01T00:00:00",
          "2008-02-01T00:00:00",
          "2008-01-01T00:00:00",
          "2007-12-01T00:00:00",
          "2007-11-01T00:00:00",
          "2007-10-01T00:00:00",
          "2007-09-01T00:00:00",
          "2007-08-01T00:00:00",
          "2007-07-01T00:00:00",
          "2007-06-01T00:00:00",
          "2007-05-01T00:00:00",
          "2007-04-01T00:00:00",
          "2007-03-01T00:00:00",
          "2007-02-01T00:00:00",
          "2007-01-01T00:00:00",
          "2006-12-01T00:00:00",
          "2006-11-01T00:00:00",
          "2006-10-01T00:00:00",
          "2006-09-01T00:00:00",
          "2006-08-01T00:00:00",
          "2006-07-01T00:00:00",
          "2006-06-01T00:00:00",
          "2006-05-01T00:00:00",
          "2006-04-01T00:00:00",
          "2006-03-01T00:00:00",
          "2006-02-01T00:00:00",
          "2006-01-01T00:00:00",
          "2005-12-01T00:00:00",
          "2005-11-01T00:00:00",
          "2005-10-01T00:00:00",
          "2005-09-01T00:00:00",
          "2005-08-01T00:00:00",
          "2005-07-01T00:00:00",
          "2005-06-01T00:00:00",
          "2005-05-01T00:00:00",
          "2005-04-01T00:00:00",
          "2005-03-01T00:00:00",
          "2005-02-01T00:00:00",
          "2005-01-01T00:00:00",
          "2004-12-01T00:00:00",
          "2004-11-01T00:00:00",
          "2004-10-01T00:00:00",
          "2004-09-01T00:00:00",
          "2004-08-01T00:00:00",
          "2004-07-01T00:00:00",
          "2004-06-01T00:00:00",
          "2004-05-01T00:00:00",
          "2004-04-01T00:00:00",
          "2004-03-01T00:00:00",
          "2004-02-01T00:00:00",
          "2004-01-01T00:00:00",
          "2003-12-01T00:00:00",
          "2003-11-01T00:00:00",
          "2003-10-01T00:00:00",
          "2003-09-01T00:00:00",
          "2003-08-01T00:00:00",
          "2003-07-01T00:00:00",
          "2003-06-01T00:00:00",
          "2003-05-01T00:00:00"
         ],
         "xaxis": "x",
         "y": [
          2.994,
          3.029,
          3.163,
          3.348,
          3.294,
          3.134,
          3.17,
          3.242,
          3.392,
          3.513,
          3.313,
          2.905,
          2.818,
          2.916,
          3.146,
          3.42,
          3.453,
          3.353,
          3.343,
          3.381,
          3.42,
          3.389,
          3.261,
          3.101,
          3.027,
          2.966,
          2.986,
          3.028,
          2.981,
          3.095,
          2.922,
          2.841,
          2.878,
          2.934,
          2.938,
          2.86,
          2.761,
          2.743,
          2.601,
          2.689,
          2.747,
          2.707,
          2.615,
          2.7,
          2.68,
          2.567,
          2.349,
          2.235,
          2.111,
          2.39,
          2.451,
          2.494,
          2.504,
          2.764,
          3.102,
          3.221,
          3.152,
          3.028,
          2.784,
          2.786,
          2.287,
          2.351,
          2.859,
          3.149,
          3.466,
          3.82,
          3.91,
          3.99,
          3.994,
          3.911,
          3.829,
          3.619,
          3.379,
          3.366,
          3.348,
          3.373,
          3.567,
          3.767,
          3.855,
          3.901,
          3.875,
          3.953,
          3.746,
          3.835,
          3.656,
          3.422,
          3.454,
          3.623,
          4.053,
          4.094,
          3.946,
          3.691,
          4.115,
          4.261,
          4.187,
          4.055,
          3.709,
          3.534,
          3.562,
          3.775,
          3.866,
          3.937,
          3.849,
          3.848,
          3.933,
          4.062,
          3.951,
          3.733,
          3.407,
          3.293,
          3.223,
          3.147,
          3.095,
          3.047,
          3.149,
          3.061,
          3.012,
          3.077,
          3.085,
          2.993,
          2.867,
          2.908,
          2.839,
          2.885,
          2.841,
          2.989,
          2.908,
          2.808,
          2.858,
          2.539,
          2.364,
          2.213,
          2.178,
          1.996,
          1.883,
          2.384,
          3.251,
          3.827,
          4.066,
          4.358,
          4.327,
          3.908,
          3.64,
          3.509,
          3.178,
          3.171,
          3.205,
          3.271,
          3.05,
          2.921,
          2.879,
          3.052,
          3.255,
          3.441,
          3.124,
          2.77,
          2.5,
          2.64,
          2.649,
          2.544,
          2.599,
          2.905,
          3.094,
          3.077,
          3.124,
          3.147,
          2.76,
          2.473,
          2.322,
          2.294,
          2.232,
          2.478,
          2.827,
          2.959,
          2.651,
          2.458,
          2.319,
          2.447,
          2.462,
          2.186,
          1.995,
          1.87,
          1.956,
          2.084,
          2.101,
          2.038,
          1.993,
          2.037,
          2.207,
          2.246,
          1.961,
          1.851,
          1.729,
          1.64,
          1.572,
          1.625,
          1.677,
          1.894,
          1.798,
          1.639,
          1.607,
          null
         ],
         "yaxis": "y"
        }
       ],
       "layout": {
        "legend": {
         "tracegroupgap": 0
        },
        "template": {
         "data": {
          "bar": [
           {
            "error_x": {
             "color": "#2a3f5f"
            },
            "error_y": {
             "color": "#2a3f5f"
            },
            "marker": {
             "line": {
              "color": "#E5ECF6",
              "width": 0.5
             }
            },
            "type": "bar"
           }
          ],
          "barpolar": [
           {
            "marker": {
             "line": {
              "color": "#E5ECF6",
              "width": 0.5
             }
            },
            "type": "barpolar"
           }
          ],
          "carpet": [
           {
            "aaxis": {
             "endlinecolor": "#2a3f5f",
             "gridcolor": "white",
             "linecolor": "white",
             "minorgridcolor": "white",
             "startlinecolor": "#2a3f5f"
            },
            "baxis": {
             "endlinecolor": "#2a3f5f",
             "gridcolor": "white",
             "linecolor": "white",
             "minorgridcolor": "white",
             "startlinecolor": "#2a3f5f"
            },
            "type": "carpet"
           }
          ],
          "choropleth": [
           {
            "colorbar": {
             "outlinewidth": 0,
             "ticks": ""
            },
            "type": "choropleth"
           }
          ],
          "contour": [
           {
            "colorbar": {
             "outlinewidth": 0,
             "ticks": ""
            },
            "colorscale": [
             [
              0,
              "#0d0887"
             ],
             [
              0.1111111111111111,
              "#46039f"
             ],
             [
              0.2222222222222222,
              "#7201a8"
             ],
             [
              0.3333333333333333,
              "#9c179e"
             ],
             [
              0.4444444444444444,
              "#bd3786"
             ],
             [
              0.5555555555555556,
              "#d8576b"
             ],
             [
              0.6666666666666666,
              "#ed7953"
             ],
             [
              0.7777777777777778,
              "#fb9f3a"
             ],
             [
              0.8888888888888888,
              "#fdca26"
             ],
             [
              1,
              "#f0f921"
             ]
            ],
            "type": "contour"
           }
          ],
          "contourcarpet": [
           {
            "colorbar": {
             "outlinewidth": 0,
             "ticks": ""
            },
            "type": "contourcarpet"
           }
          ],
          "heatmap": [
           {
            "colorbar": {
             "outlinewidth": 0,
             "ticks": ""
            },
            "colorscale": [
             [
              0,
              "#0d0887"
             ],
             [
              0.1111111111111111,
              "#46039f"
             ],
             [
              0.2222222222222222,
              "#7201a8"
             ],
             [
              0.3333333333333333,
              "#9c179e"
             ],
             [
              0.4444444444444444,
              "#bd3786"
             ],
             [
              0.5555555555555556,
              "#d8576b"
             ],
             [
              0.6666666666666666,
              "#ed7953"
             ],
             [
              0.7777777777777778,
              "#fb9f3a"
             ],
             [
              0.8888888888888888,
              "#fdca26"
             ],
             [
              1,
              "#f0f921"
             ]
            ],
            "type": "heatmap"
           }
          ],
          "heatmapgl": [
           {
            "colorbar": {
             "outlinewidth": 0,
             "ticks": ""
            },
            "colorscale": [
             [
              0,
              "#0d0887"
             ],
             [
              0.1111111111111111,
              "#46039f"
             ],
             [
              0.2222222222222222,
              "#7201a8"
             ],
             [
              0.3333333333333333,
              "#9c179e"
             ],
             [
              0.4444444444444444,
              "#bd3786"
             ],
             [
              0.5555555555555556,
              "#d8576b"
             ],
             [
              0.6666666666666666,
              "#ed7953"
             ],
             [
              0.7777777777777778,
              "#fb9f3a"
             ],
             [
              0.8888888888888888,
              "#fdca26"
             ],
             [
              1,
              "#f0f921"
             ]
            ],
            "type": "heatmapgl"
           }
          ],
          "histogram": [
           {
            "marker": {
             "colorbar": {
              "outlinewidth": 0,
              "ticks": ""
             }
            },
            "type": "histogram"
           }
          ],
          "histogram2d": [
           {
            "colorbar": {
             "outlinewidth": 0,
             "ticks": ""
            },
            "colorscale": [
             [
              0,
              "#0d0887"
             ],
             [
              0.1111111111111111,
              "#46039f"
             ],
             [
              0.2222222222222222,
              "#7201a8"
             ],
             [
              0.3333333333333333,
              "#9c179e"
             ],
             [
              0.4444444444444444,
              "#bd3786"
             ],
             [
              0.5555555555555556,
              "#d8576b"
             ],
             [
              0.6666666666666666,
              "#ed7953"
             ],
             [
              0.7777777777777778,
              "#fb9f3a"
             ],
             [
              0.8888888888888888,
              "#fdca26"
             ],
             [
              1,
              "#f0f921"
             ]
            ],
            "type": "histogram2d"
           }
          ],
          "histogram2dcontour": [
           {
            "colorbar": {
             "outlinewidth": 0,
             "ticks": ""
            },
            "colorscale": [
             [
              0,
              "#0d0887"
             ],
             [
              0.1111111111111111,
              "#46039f"
             ],
             [
              0.2222222222222222,
              "#7201a8"
             ],
             [
              0.3333333333333333,
              "#9c179e"
             ],
             [
              0.4444444444444444,
              "#bd3786"
             ],
             [
              0.5555555555555556,
              "#d8576b"
             ],
             [
              0.6666666666666666,
              "#ed7953"
             ],
             [
              0.7777777777777778,
              "#fb9f3a"
             ],
             [
              0.8888888888888888,
              "#fdca26"
             ],
             [
              1,
              "#f0f921"
             ]
            ],
            "type": "histogram2dcontour"
           }
          ],
          "mesh3d": [
           {
            "colorbar": {
             "outlinewidth": 0,
             "ticks": ""
            },
            "type": "mesh3d"
           }
          ],
          "parcoords": [
           {
            "line": {
             "colorbar": {
              "outlinewidth": 0,
              "ticks": ""
             }
            },
            "type": "parcoords"
           }
          ],
          "pie": [
           {
            "automargin": true,
            "type": "pie"
           }
          ],
          "scatter": [
           {
            "marker": {
             "colorbar": {
              "outlinewidth": 0,
              "ticks": ""
             }
            },
            "type": "scatter"
           }
          ],
          "scatter3d": [
           {
            "line": {
             "colorbar": {
              "outlinewidth": 0,
              "ticks": ""
             }
            },
            "marker": {
             "colorbar": {
              "outlinewidth": 0,
              "ticks": ""
             }
            },
            "type": "scatter3d"
           }
          ],
          "scattercarpet": [
           {
            "marker": {
             "colorbar": {
              "outlinewidth": 0,
              "ticks": ""
             }
            },
            "type": "scattercarpet"
           }
          ],
          "scattergeo": [
           {
            "marker": {
             "colorbar": {
              "outlinewidth": 0,
              "ticks": ""
             }
            },
            "type": "scattergeo"
           }
          ],
          "scattergl": [
           {
            "marker": {
             "colorbar": {
              "outlinewidth": 0,
              "ticks": ""
             }
            },
            "type": "scattergl"
           }
          ],
          "scattermapbox": [
           {
            "marker": {
             "colorbar": {
              "outlinewidth": 0,
              "ticks": ""
             }
            },
            "type": "scattermapbox"
           }
          ],
          "scatterpolar": [
           {
            "marker": {
             "colorbar": {
              "outlinewidth": 0,
              "ticks": ""
             }
            },
            "type": "scatterpolar"
           }
          ],
          "scatterpolargl": [
           {
            "marker": {
             "colorbar": {
              "outlinewidth": 0,
              "ticks": ""
             }
            },
            "type": "scatterpolargl"
           }
          ],
          "scatterternary": [
           {
            "marker": {
             "colorbar": {
              "outlinewidth": 0,
              "ticks": ""
             }
            },
            "type": "scatterternary"
           }
          ],
          "surface": [
           {
            "colorbar": {
             "outlinewidth": 0,
             "ticks": ""
            },
            "colorscale": [
             [
              0,
              "#0d0887"
             ],
             [
              0.1111111111111111,
              "#46039f"
             ],
             [
              0.2222222222222222,
              "#7201a8"
             ],
             [
              0.3333333333333333,
              "#9c179e"
             ],
             [
              0.4444444444444444,
              "#bd3786"
             ],
             [
              0.5555555555555556,
              "#d8576b"
             ],
             [
              0.6666666666666666,
              "#ed7953"
             ],
             [
              0.7777777777777778,
              "#fb9f3a"
             ],
             [
              0.8888888888888888,
              "#fdca26"
             ],
             [
              1,
              "#f0f921"
             ]
            ],
            "type": "surface"
           }
          ],
          "table": [
           {
            "cells": {
             "fill": {
              "color": "#EBF0F8"
             },
             "line": {
              "color": "white"
             }
            },
            "header": {
             "fill": {
              "color": "#C8D4E3"
             },
             "line": {
              "color": "white"
             }
            },
            "type": "table"
           }
          ]
         },
         "layout": {
          "annotationdefaults": {
           "arrowcolor": "#2a3f5f",
           "arrowhead": 0,
           "arrowwidth": 1
          },
          "coloraxis": {
           "colorbar": {
            "outlinewidth": 0,
            "ticks": ""
           }
          },
          "colorscale": {
           "diverging": [
            [
             0,
             "#8e0152"
            ],
            [
             0.1,
             "#c51b7d"
            ],
            [
             0.2,
             "#de77ae"
            ],
            [
             0.3,
             "#f1b6da"
            ],
            [
             0.4,
             "#fde0ef"
            ],
            [
             0.5,
             "#f7f7f7"
            ],
            [
             0.6,
             "#e6f5d0"
            ],
            [
             0.7,
             "#b8e186"
            ],
            [
             0.8,
             "#7fbc41"
            ],
            [
             0.9,
             "#4d9221"
            ],
            [
             1,
             "#276419"
            ]
           ],
           "sequential": [
            [
             0,
             "#0d0887"
            ],
            [
             0.1111111111111111,
             "#46039f"
            ],
            [
             0.2222222222222222,
             "#7201a8"
            ],
            [
             0.3333333333333333,
             "#9c179e"
            ],
            [
             0.4444444444444444,
             "#bd3786"
            ],
            [
             0.5555555555555556,
             "#d8576b"
            ],
            [
             0.6666666666666666,
             "#ed7953"
            ],
            [
             0.7777777777777778,
             "#fb9f3a"
            ],
            [
             0.8888888888888888,
             "#fdca26"
            ],
            [
             1,
             "#f0f921"
            ]
           ],
           "sequentialminus": [
            [
             0,
             "#0d0887"
            ],
            [
             0.1111111111111111,
             "#46039f"
            ],
            [
             0.2222222222222222,
             "#7201a8"
            ],
            [
             0.3333333333333333,
             "#9c179e"
            ],
            [
             0.4444444444444444,
             "#bd3786"
            ],
            [
             0.5555555555555556,
             "#d8576b"
            ],
            [
             0.6666666666666666,
             "#ed7953"
            ],
            [
             0.7777777777777778,
             "#fb9f3a"
            ],
            [
             0.8888888888888888,
             "#fdca26"
            ],
            [
             1,
             "#f0f921"
            ]
           ]
          },
          "colorway": [
           "#636efa",
           "#EF553B",
           "#00cc96",
           "#ab63fa",
           "#FFA15A",
           "#19d3f3",
           "#FF6692",
           "#B6E880",
           "#FF97FF",
           "#FECB52"
          ],
          "font": {
           "color": "#2a3f5f"
          },
          "geo": {
           "bgcolor": "white",
           "lakecolor": "white",
           "landcolor": "#E5ECF6",
           "showlakes": true,
           "showland": true,
           "subunitcolor": "white"
          },
          "hoverlabel": {
           "align": "left"
          },
          "hovermode": "closest",
          "mapbox": {
           "style": "light"
          },
          "paper_bgcolor": "white",
          "plot_bgcolor": "#E5ECF6",
          "polar": {
           "angularaxis": {
            "gridcolor": "white",
            "linecolor": "white",
            "ticks": ""
           },
           "bgcolor": "#E5ECF6",
           "radialaxis": {
            "gridcolor": "white",
            "linecolor": "white",
            "ticks": ""
           }
          },
          "scene": {
           "xaxis": {
            "backgroundcolor": "#E5ECF6",
            "gridcolor": "white",
            "gridwidth": 2,
            "linecolor": "white",
            "showbackground": true,
            "ticks": "",
            "zerolinecolor": "white"
           },
           "yaxis": {
            "backgroundcolor": "#E5ECF6",
            "gridcolor": "white",
            "gridwidth": 2,
            "linecolor": "white",
            "showbackground": true,
            "ticks": "",
            "zerolinecolor": "white"
           },
           "zaxis": {
            "backgroundcolor": "#E5ECF6",
            "gridcolor": "white",
            "gridwidth": 2,
            "linecolor": "white",
            "showbackground": true,
            "ticks": "",
            "zerolinecolor": "white"
           }
          },
          "shapedefaults": {
           "line": {
            "color": "#2a3f5f"
           }
          },
          "ternary": {
           "aaxis": {
            "gridcolor": "white",
            "linecolor": "white",
            "ticks": ""
           },
           "baxis": {
            "gridcolor": "white",
            "linecolor": "white",
            "ticks": ""
           },
           "bgcolor": "#E5ECF6",
           "caxis": {
            "gridcolor": "white",
            "linecolor": "white",
            "ticks": ""
           }
          },
          "title": {
           "x": 0.05
          },
          "xaxis": {
           "automargin": true,
           "gridcolor": "white",
           "linecolor": "white",
           "ticks": "",
           "title": {
            "standoff": 15
           },
           "zerolinecolor": "white",
           "zerolinewidth": 2
          },
          "yaxis": {
           "automargin": true,
           "gridcolor": "white",
           "linecolor": "white",
           "ticks": "",
           "title": {
            "standoff": 15
           },
           "zerolinecolor": "white",
           "zerolinewidth": 2
          }
         }
        },
        "title": {
         "text": "Washington All Grades All Formulations Retail Gasoline Prices, Monthly"
        },
        "xaxis": {
         "anchor": "y",
         "domain": [
          0,
          1
         ],
         "title": {
          "text": "Date"
         }
        },
        "yaxis": {
         "anchor": "x",
         "domain": [
          0,
          1
         ],
         "title": {
          "text": "Average Monthly Price ($)"
         }
        }
       }
      },
      "text/html": [
       "<div>\n",
       "        \n",
       "        \n",
       "            <div id=\"00e9ad98-49f1-47e2-9f45-7a4c0b938360\" class=\"plotly-graph-div\" style=\"height:525px; width:100%;\"></div>\n",
       "            <script type=\"text/javascript\">\n",
       "                require([\"plotly\"], function(Plotly) {\n",
       "                    window.PLOTLYENV=window.PLOTLYENV || {};\n",
       "                    \n",
       "                if (document.getElementById(\"00e9ad98-49f1-47e2-9f45-7a4c0b938360\")) {\n",
       "                    Plotly.newPlot(\n",
       "                        '00e9ad98-49f1-47e2-9f45-7a4c0b938360',\n",
       "                        [{\"hoverlabel\": {\"namelength\": 0}, \"hovertemplate\": \"date=%{x}<br>price=%{y}\", \"legendgroup\": \"\", \"line\": {\"color\": \"#636efa\", \"dash\": \"solid\"}, \"mode\": \"lines\", \"name\": \"\", \"showlegend\": false, \"type\": \"scatter\", \"x\": [\"2020-02-01T00:00:00\", \"2020-01-01T00:00:00\", \"2019-12-01T00:00:00\", \"2019-11-01T00:00:00\", \"2019-10-01T00:00:00\", \"2019-09-01T00:00:00\", \"2019-08-01T00:00:00\", \"2019-07-01T00:00:00\", \"2019-06-01T00:00:00\", \"2019-05-01T00:00:00\", \"2019-04-01T00:00:00\", \"2019-03-01T00:00:00\", \"2019-02-01T00:00:00\", \"2019-01-01T00:00:00\", \"2018-12-01T00:00:00\", \"2018-11-01T00:00:00\", \"2018-10-01T00:00:00\", \"2018-09-01T00:00:00\", \"2018-08-01T00:00:00\", \"2018-07-01T00:00:00\", \"2018-06-01T00:00:00\", \"2018-05-01T00:00:00\", \"2018-04-01T00:00:00\", \"2018-03-01T00:00:00\", \"2018-02-01T00:00:00\", \"2018-01-01T00:00:00\", \"2017-12-01T00:00:00\", \"2017-11-01T00:00:00\", \"2017-10-01T00:00:00\", \"2017-09-01T00:00:00\", \"2017-08-01T00:00:00\", \"2017-07-01T00:00:00\", \"2017-06-01T00:00:00\", \"2017-05-01T00:00:00\", \"2017-04-01T00:00:00\", \"2017-03-01T00:00:00\", \"2017-02-01T00:00:00\", \"2017-01-01T00:00:00\", \"2016-12-01T00:00:00\", \"2016-11-01T00:00:00\", \"2016-10-01T00:00:00\", \"2016-09-01T00:00:00\", \"2016-08-01T00:00:00\", \"2016-07-01T00:00:00\", \"2016-06-01T00:00:00\", \"2016-05-01T00:00:00\", \"2016-04-01T00:00:00\", \"2016-03-01T00:00:00\", \"2016-02-01T00:00:00\", \"2016-01-01T00:00:00\", \"2015-12-01T00:00:00\", \"2015-11-01T00:00:00\", \"2015-10-01T00:00:00\", \"2015-09-01T00:00:00\", \"2015-08-01T00:00:00\", \"2015-07-01T00:00:00\", \"2015-06-01T00:00:00\", \"2015-05-01T00:00:00\", \"2015-04-01T00:00:00\", \"2015-03-01T00:00:00\", \"2015-02-01T00:00:00\", \"2015-01-01T00:00:00\", \"2014-12-01T00:00:00\", \"2014-11-01T00:00:00\", \"2014-10-01T00:00:00\", \"2014-09-01T00:00:00\", \"2014-08-01T00:00:00\", \"2014-07-01T00:00:00\", \"2014-06-01T00:00:00\", \"2014-05-01T00:00:00\", \"2014-04-01T00:00:00\", \"2014-03-01T00:00:00\", \"2014-02-01T00:00:00\", \"2014-01-01T00:00:00\", \"2013-12-01T00:00:00\", \"2013-11-01T00:00:00\", \"2013-10-01T00:00:00\", \"2013-09-01T00:00:00\", \"2013-08-01T00:00:00\", \"2013-07-01T00:00:00\", \"2013-06-01T00:00:00\", \"2013-05-01T00:00:00\", \"2013-04-01T00:00:00\", \"2013-03-01T00:00:00\", \"2013-02-01T00:00:00\", \"2013-01-01T00:00:00\", \"2012-12-01T00:00:00\", \"2012-11-01T00:00:00\", \"2012-10-01T00:00:00\", \"2012-09-01T00:00:00\", \"2012-08-01T00:00:00\", \"2012-07-01T00:00:00\", \"2012-06-01T00:00:00\", \"2012-05-01T00:00:00\", \"2012-04-01T00:00:00\", \"2012-03-01T00:00:00\", \"2012-02-01T00:00:00\", \"2012-01-01T00:00:00\", \"2011-12-01T00:00:00\", \"2011-11-01T00:00:00\", \"2011-10-01T00:00:00\", \"2011-09-01T00:00:00\", \"2011-08-01T00:00:00\", \"2011-07-01T00:00:00\", \"2011-06-01T00:00:00\", \"2011-05-01T00:00:00\", \"2011-04-01T00:00:00\", \"2011-03-01T00:00:00\", \"2011-02-01T00:00:00\", \"2011-01-01T00:00:00\", \"2010-12-01T00:00:00\", \"2010-11-01T00:00:00\", \"2010-10-01T00:00:00\", \"2010-09-01T00:00:00\", \"2010-08-01T00:00:00\", \"2010-07-01T00:00:00\", \"2010-06-01T00:00:00\", \"2010-05-01T00:00:00\", \"2010-04-01T00:00:00\", \"2010-03-01T00:00:00\", \"2010-02-01T00:00:00\", \"2010-01-01T00:00:00\", \"2009-12-01T00:00:00\", \"2009-11-01T00:00:00\", \"2009-10-01T00:00:00\", \"2009-09-01T00:00:00\", \"2009-08-01T00:00:00\", \"2009-07-01T00:00:00\", \"2009-06-01T00:00:00\", \"2009-05-01T00:00:00\", \"2009-04-01T00:00:00\", \"2009-03-01T00:00:00\", \"2009-02-01T00:00:00\", \"2009-01-01T00:00:00\", \"2008-12-01T00:00:00\", \"2008-11-01T00:00:00\", \"2008-10-01T00:00:00\", \"2008-09-01T00:00:00\", \"2008-08-01T00:00:00\", \"2008-07-01T00:00:00\", \"2008-06-01T00:00:00\", \"2008-05-01T00:00:00\", \"2008-04-01T00:00:00\", \"2008-03-01T00:00:00\", \"2008-02-01T00:00:00\", \"2008-01-01T00:00:00\", \"2007-12-01T00:00:00\", \"2007-11-01T00:00:00\", \"2007-10-01T00:00:00\", \"2007-09-01T00:00:00\", \"2007-08-01T00:00:00\", \"2007-07-01T00:00:00\", \"2007-06-01T00:00:00\", \"2007-05-01T00:00:00\", \"2007-04-01T00:00:00\", \"2007-03-01T00:00:00\", \"2007-02-01T00:00:00\", \"2007-01-01T00:00:00\", \"2006-12-01T00:00:00\", \"2006-11-01T00:00:00\", \"2006-10-01T00:00:00\", \"2006-09-01T00:00:00\", \"2006-08-01T00:00:00\", \"2006-07-01T00:00:00\", \"2006-06-01T00:00:00\", \"2006-05-01T00:00:00\", \"2006-04-01T00:00:00\", \"2006-03-01T00:00:00\", \"2006-02-01T00:00:00\", \"2006-01-01T00:00:00\", \"2005-12-01T00:00:00\", \"2005-11-01T00:00:00\", \"2005-10-01T00:00:00\", \"2005-09-01T00:00:00\", \"2005-08-01T00:00:00\", \"2005-07-01T00:00:00\", \"2005-06-01T00:00:00\", \"2005-05-01T00:00:00\", \"2005-04-01T00:00:00\", \"2005-03-01T00:00:00\", \"2005-02-01T00:00:00\", \"2005-01-01T00:00:00\", \"2004-12-01T00:00:00\", \"2004-11-01T00:00:00\", \"2004-10-01T00:00:00\", \"2004-09-01T00:00:00\", \"2004-08-01T00:00:00\", \"2004-07-01T00:00:00\", \"2004-06-01T00:00:00\", \"2004-05-01T00:00:00\", \"2004-04-01T00:00:00\", \"2004-03-01T00:00:00\", \"2004-02-01T00:00:00\", \"2004-01-01T00:00:00\", \"2003-12-01T00:00:00\", \"2003-11-01T00:00:00\", \"2003-10-01T00:00:00\", \"2003-09-01T00:00:00\", \"2003-08-01T00:00:00\", \"2003-07-01T00:00:00\", \"2003-06-01T00:00:00\", \"2003-05-01T00:00:00\"], \"xaxis\": \"x\", \"y\": [2.994, 3.029, 3.163, 3.348, 3.294, 3.134, 3.17, 3.242, 3.392, 3.513, 3.313, 2.905, 2.818, 2.916, 3.146, 3.42, 3.453, 3.353, 3.343, 3.381, 3.42, 3.389, 3.261, 3.101, 3.027, 2.966, 2.986, 3.028, 2.981, 3.095, 2.922, 2.841, 2.878, 2.934, 2.938, 2.86, 2.761, 2.743, 2.601, 2.689, 2.747, 2.707, 2.615, 2.7, 2.68, 2.567, 2.349, 2.235, 2.111, 2.39, 2.451, 2.494, 2.504, 2.764, 3.102, 3.221, 3.152, 3.028, 2.784, 2.786, 2.287, 2.351, 2.859, 3.149, 3.466, 3.82, 3.91, 3.99, 3.994, 3.911, 3.829, 3.619, 3.379, 3.366, 3.348, 3.373, 3.567, 3.767, 3.855, 3.901, 3.875, 3.953, 3.746, 3.835, 3.656, 3.422, 3.454, 3.623, 4.053, 4.094, 3.946, 3.691, 4.115, 4.261, 4.187, 4.055, 3.709, 3.534, 3.562, 3.775, 3.866, 3.937, 3.849, 3.848, 3.933, 4.062, 3.951, 3.733, 3.407, 3.293, 3.223, 3.147, 3.095, 3.047, 3.149, 3.061, 3.012, 3.077, 3.085, 2.993, 2.867, 2.908, 2.839, 2.885, 2.841, 2.989, 2.908, 2.808, 2.858, 2.539, 2.364, 2.213, 2.178, 1.996, 1.883, 2.384, 3.251, 3.827, 4.066, 4.358, 4.327, 3.908, 3.64, 3.509, 3.178, 3.171, 3.205, 3.271, 3.05, 2.921, 2.879, 3.052, 3.255, 3.441, 3.124, 2.77, 2.5, 2.64, 2.649, 2.544, 2.599, 2.905, 3.094, 3.077, 3.124, 3.147, 2.76, 2.473, 2.322, 2.294, 2.232, 2.478, 2.827, 2.959, 2.651, 2.458, 2.319, 2.447, 2.462, 2.186, 1.995, 1.87, 1.956, 2.084, 2.101, 2.038, 1.993, 2.037, 2.207, 2.246, 1.961, 1.851, 1.729, 1.64, 1.572, 1.625, 1.677, 1.894, 1.798, 1.639, 1.607, null], \"yaxis\": \"y\"}],\n",
       "                        {\"legend\": {\"tracegroupgap\": 0}, \"template\": {\"data\": {\"bar\": [{\"error_x\": {\"color\": \"#2a3f5f\"}, \"error_y\": {\"color\": \"#2a3f5f\"}, \"marker\": {\"line\": {\"color\": \"#E5ECF6\", \"width\": 0.5}}, \"type\": \"bar\"}], \"barpolar\": [{\"marker\": {\"line\": {\"color\": \"#E5ECF6\", \"width\": 0.5}}, \"type\": \"barpolar\"}], \"carpet\": [{\"aaxis\": {\"endlinecolor\": \"#2a3f5f\", \"gridcolor\": \"white\", \"linecolor\": \"white\", \"minorgridcolor\": \"white\", \"startlinecolor\": \"#2a3f5f\"}, \"baxis\": {\"endlinecolor\": \"#2a3f5f\", \"gridcolor\": \"white\", \"linecolor\": \"white\", \"minorgridcolor\": \"white\", \"startlinecolor\": \"#2a3f5f\"}, \"type\": \"carpet\"}], \"choropleth\": [{\"colorbar\": {\"outlinewidth\": 0, \"ticks\": \"\"}, \"type\": \"choropleth\"}], \"contour\": [{\"colorbar\": {\"outlinewidth\": 0, \"ticks\": \"\"}, \"colorscale\": [[0.0, \"#0d0887\"], [0.1111111111111111, \"#46039f\"], [0.2222222222222222, \"#7201a8\"], [0.3333333333333333, \"#9c179e\"], [0.4444444444444444, \"#bd3786\"], [0.5555555555555556, \"#d8576b\"], [0.6666666666666666, \"#ed7953\"], [0.7777777777777778, \"#fb9f3a\"], [0.8888888888888888, \"#fdca26\"], [1.0, \"#f0f921\"]], \"type\": \"contour\"}], \"contourcarpet\": [{\"colorbar\": {\"outlinewidth\": 0, \"ticks\": \"\"}, \"type\": \"contourcarpet\"}], \"heatmap\": [{\"colorbar\": {\"outlinewidth\": 0, \"ticks\": \"\"}, \"colorscale\": [[0.0, \"#0d0887\"], [0.1111111111111111, \"#46039f\"], [0.2222222222222222, \"#7201a8\"], [0.3333333333333333, \"#9c179e\"], [0.4444444444444444, \"#bd3786\"], [0.5555555555555556, \"#d8576b\"], [0.6666666666666666, \"#ed7953\"], [0.7777777777777778, \"#fb9f3a\"], [0.8888888888888888, \"#fdca26\"], [1.0, \"#f0f921\"]], \"type\": \"heatmap\"}], \"heatmapgl\": [{\"colorbar\": {\"outlinewidth\": 0, \"ticks\": \"\"}, \"colorscale\": [[0.0, \"#0d0887\"], [0.1111111111111111, \"#46039f\"], [0.2222222222222222, \"#7201a8\"], [0.3333333333333333, \"#9c179e\"], [0.4444444444444444, \"#bd3786\"], [0.5555555555555556, \"#d8576b\"], [0.6666666666666666, \"#ed7953\"], [0.7777777777777778, \"#fb9f3a\"], [0.8888888888888888, \"#fdca26\"], [1.0, \"#f0f921\"]], \"type\": \"heatmapgl\"}], \"histogram\": [{\"marker\": {\"colorbar\": {\"outlinewidth\": 0, \"ticks\": \"\"}}, \"type\": \"histogram\"}], \"histogram2d\": [{\"colorbar\": {\"outlinewidth\": 0, \"ticks\": \"\"}, \"colorscale\": [[0.0, \"#0d0887\"], [0.1111111111111111, \"#46039f\"], [0.2222222222222222, \"#7201a8\"], [0.3333333333333333, \"#9c179e\"], [0.4444444444444444, \"#bd3786\"], [0.5555555555555556, \"#d8576b\"], [0.6666666666666666, \"#ed7953\"], [0.7777777777777778, \"#fb9f3a\"], [0.8888888888888888, \"#fdca26\"], [1.0, \"#f0f921\"]], \"type\": \"histogram2d\"}], \"histogram2dcontour\": [{\"colorbar\": {\"outlinewidth\": 0, \"ticks\": \"\"}, \"colorscale\": [[0.0, \"#0d0887\"], [0.1111111111111111, \"#46039f\"], [0.2222222222222222, \"#7201a8\"], [0.3333333333333333, \"#9c179e\"], [0.4444444444444444, \"#bd3786\"], [0.5555555555555556, \"#d8576b\"], [0.6666666666666666, \"#ed7953\"], [0.7777777777777778, \"#fb9f3a\"], [0.8888888888888888, \"#fdca26\"], [1.0, \"#f0f921\"]], \"type\": \"histogram2dcontour\"}], \"mesh3d\": [{\"colorbar\": {\"outlinewidth\": 0, \"ticks\": \"\"}, \"type\": \"mesh3d\"}], \"parcoords\": [{\"line\": {\"colorbar\": {\"outlinewidth\": 0, \"ticks\": \"\"}}, \"type\": \"parcoords\"}], \"pie\": [{\"automargin\": true, \"type\": \"pie\"}], \"scatter\": [{\"marker\": {\"colorbar\": {\"outlinewidth\": 0, \"ticks\": \"\"}}, \"type\": \"scatter\"}], \"scatter3d\": [{\"line\": {\"colorbar\": {\"outlinewidth\": 0, \"ticks\": \"\"}}, \"marker\": {\"colorbar\": {\"outlinewidth\": 0, \"ticks\": \"\"}}, \"type\": \"scatter3d\"}], \"scattercarpet\": [{\"marker\": {\"colorbar\": {\"outlinewidth\": 0, \"ticks\": \"\"}}, \"type\": \"scattercarpet\"}], \"scattergeo\": [{\"marker\": {\"colorbar\": {\"outlinewidth\": 0, \"ticks\": \"\"}}, \"type\": \"scattergeo\"}], \"scattergl\": [{\"marker\": {\"colorbar\": {\"outlinewidth\": 0, \"ticks\": \"\"}}, \"type\": \"scattergl\"}], \"scattermapbox\": [{\"marker\": {\"colorbar\": {\"outlinewidth\": 0, \"ticks\": \"\"}}, \"type\": \"scattermapbox\"}], \"scatterpolar\": [{\"marker\": {\"colorbar\": {\"outlinewidth\": 0, \"ticks\": \"\"}}, \"type\": \"scatterpolar\"}], \"scatterpolargl\": [{\"marker\": {\"colorbar\": {\"outlinewidth\": 0, \"ticks\": \"\"}}, \"type\": \"scatterpolargl\"}], \"scatterternary\": [{\"marker\": {\"colorbar\": {\"outlinewidth\": 0, \"ticks\": \"\"}}, \"type\": \"scatterternary\"}], \"surface\": [{\"colorbar\": {\"outlinewidth\": 0, \"ticks\": \"\"}, \"colorscale\": [[0.0, \"#0d0887\"], [0.1111111111111111, \"#46039f\"], [0.2222222222222222, \"#7201a8\"], [0.3333333333333333, \"#9c179e\"], [0.4444444444444444, \"#bd3786\"], [0.5555555555555556, \"#d8576b\"], [0.6666666666666666, \"#ed7953\"], [0.7777777777777778, \"#fb9f3a\"], [0.8888888888888888, \"#fdca26\"], [1.0, \"#f0f921\"]], \"type\": \"surface\"}], \"table\": [{\"cells\": {\"fill\": {\"color\": \"#EBF0F8\"}, \"line\": {\"color\": \"white\"}}, \"header\": {\"fill\": {\"color\": \"#C8D4E3\"}, \"line\": {\"color\": \"white\"}}, \"type\": \"table\"}]}, \"layout\": {\"annotationdefaults\": {\"arrowcolor\": \"#2a3f5f\", \"arrowhead\": 0, \"arrowwidth\": 1}, \"coloraxis\": {\"colorbar\": {\"outlinewidth\": 0, \"ticks\": \"\"}}, \"colorscale\": {\"diverging\": [[0, \"#8e0152\"], [0.1, \"#c51b7d\"], [0.2, \"#de77ae\"], [0.3, \"#f1b6da\"], [0.4, \"#fde0ef\"], [0.5, \"#f7f7f7\"], [0.6, \"#e6f5d0\"], [0.7, \"#b8e186\"], [0.8, \"#7fbc41\"], [0.9, \"#4d9221\"], [1, \"#276419\"]], \"sequential\": [[0.0, \"#0d0887\"], [0.1111111111111111, \"#46039f\"], [0.2222222222222222, \"#7201a8\"], [0.3333333333333333, \"#9c179e\"], [0.4444444444444444, \"#bd3786\"], [0.5555555555555556, \"#d8576b\"], [0.6666666666666666, \"#ed7953\"], [0.7777777777777778, \"#fb9f3a\"], [0.8888888888888888, \"#fdca26\"], [1.0, \"#f0f921\"]], \"sequentialminus\": [[0.0, \"#0d0887\"], [0.1111111111111111, \"#46039f\"], [0.2222222222222222, \"#7201a8\"], [0.3333333333333333, \"#9c179e\"], [0.4444444444444444, \"#bd3786\"], [0.5555555555555556, \"#d8576b\"], [0.6666666666666666, \"#ed7953\"], [0.7777777777777778, \"#fb9f3a\"], [0.8888888888888888, \"#fdca26\"], [1.0, \"#f0f921\"]]}, \"colorway\": [\"#636efa\", \"#EF553B\", \"#00cc96\", \"#ab63fa\", \"#FFA15A\", \"#19d3f3\", \"#FF6692\", \"#B6E880\", \"#FF97FF\", \"#FECB52\"], \"font\": {\"color\": \"#2a3f5f\"}, \"geo\": {\"bgcolor\": \"white\", \"lakecolor\": \"white\", \"landcolor\": \"#E5ECF6\", \"showlakes\": true, \"showland\": true, \"subunitcolor\": \"white\"}, \"hoverlabel\": {\"align\": \"left\"}, \"hovermode\": \"closest\", \"mapbox\": {\"style\": \"light\"}, \"paper_bgcolor\": \"white\", \"plot_bgcolor\": \"#E5ECF6\", \"polar\": {\"angularaxis\": {\"gridcolor\": \"white\", \"linecolor\": \"white\", \"ticks\": \"\"}, \"bgcolor\": \"#E5ECF6\", \"radialaxis\": {\"gridcolor\": \"white\", \"linecolor\": \"white\", \"ticks\": \"\"}}, \"scene\": {\"xaxis\": {\"backgroundcolor\": \"#E5ECF6\", \"gridcolor\": \"white\", \"gridwidth\": 2, \"linecolor\": \"white\", \"showbackground\": true, \"ticks\": \"\", \"zerolinecolor\": \"white\"}, \"yaxis\": {\"backgroundcolor\": \"#E5ECF6\", \"gridcolor\": \"white\", \"gridwidth\": 2, \"linecolor\": \"white\", \"showbackground\": true, \"ticks\": \"\", \"zerolinecolor\": \"white\"}, \"zaxis\": {\"backgroundcolor\": \"#E5ECF6\", \"gridcolor\": \"white\", \"gridwidth\": 2, \"linecolor\": \"white\", \"showbackground\": true, \"ticks\": \"\", \"zerolinecolor\": \"white\"}}, \"shapedefaults\": {\"line\": {\"color\": \"#2a3f5f\"}}, \"ternary\": {\"aaxis\": {\"gridcolor\": \"white\", \"linecolor\": \"white\", \"ticks\": \"\"}, \"baxis\": {\"gridcolor\": \"white\", \"linecolor\": \"white\", \"ticks\": \"\"}, \"bgcolor\": \"#E5ECF6\", \"caxis\": {\"gridcolor\": \"white\", \"linecolor\": \"white\", \"ticks\": \"\"}}, \"title\": {\"x\": 0.05}, \"xaxis\": {\"automargin\": true, \"gridcolor\": \"white\", \"linecolor\": \"white\", \"ticks\": \"\", \"title\": {\"standoff\": 15}, \"zerolinecolor\": \"white\", \"zerolinewidth\": 2}, \"yaxis\": {\"automargin\": true, \"gridcolor\": \"white\", \"linecolor\": \"white\", \"ticks\": \"\", \"title\": {\"standoff\": 15}, \"zerolinecolor\": \"white\", \"zerolinewidth\": 2}}}, \"title\": {\"text\": \"Washington All Grades All Formulations Retail Gasoline Prices, Monthly\"}, \"xaxis\": {\"anchor\": \"y\", \"domain\": [0.0, 1.0], \"title\": {\"text\": \"Date\"}}, \"yaxis\": {\"anchor\": \"x\", \"domain\": [0.0, 1.0], \"title\": {\"text\": \"Average Monthly Price ($)\"}}},\n",
       "                        {\"responsive\": true}\n",
       "                    ).then(function(){\n",
       "                            \n",
       "var gd = document.getElementById('00e9ad98-49f1-47e2-9f45-7a4c0b938360');\n",
       "var x = new MutationObserver(function (mutations, observer) {{\n",
       "        var display = window.getComputedStyle(gd).display;\n",
       "        if (!display || display === 'none') {{\n",
       "            console.log([gd, 'removed!']);\n",
       "            Plotly.purge(gd);\n",
       "            observer.disconnect();\n",
       "        }}\n",
       "}});\n",
       "\n",
       "// Listen for the removal of the full notebook cells\n",
       "var notebookContainer = gd.closest('#notebook-container');\n",
       "if (notebookContainer) {{\n",
       "    x.observe(notebookContainer, {childList: true});\n",
       "}}\n",
       "\n",
       "// Listen for the clearing of the current output cell\n",
       "var outputEl = gd.closest('.output');\n",
       "if (outputEl) {{\n",
       "    x.observe(outputEl, {childList: true});\n",
       "}}\n",
       "\n",
       "                        })\n",
       "                };\n",
       "                });\n",
       "            </script>\n",
       "        </div>"
      ]
     },
     "metadata": {},
     "output_type": "display_data"
    }
   ],
   "source": [
    "# STATES\n",
    "for state in eia_states:\n",
    "    series_id = f'PET.EMM_EPM0_PTE_S{state}_DPG.M'\n",
    "\n",
    "# # CITIES \n",
    "# for city in eia_cities:\n",
    "#     series_id=f'PET.EMM_EPM0_PTE_Y{city}_DPG.M'\n",
    "    \n",
    "# # REGIONS\n",
    "# for region in eia_regions:\n",
    "#     series_id = f'PET.EMM_EPM0_PTE_R{region}_DPG.M'  \n",
    "#     print(series_id)\n",
    "    url = f\"http://api.eia.gov/series/?api_key={eia_key}&series_id={series_id}\"\n",
    "#     #print(url)\n",
    "    response = requests.get(url).json()\n",
    "#     #print(response)\n",
    "#     #print(response.keys())   # response and series\n",
    "\n",
    "    chart_title = response['series'][0]['name']\n",
    "    chart_data  = response['series'][0]['data']\n",
    "    #convert to dataframe\n",
    "    prices_df = pd.DataFrame(chart_data, columns={'date', 'price'})\n",
    "#   Convert to Date - overwriting date string\n",
    "    prices_df['date'] = pd.to_datetime(pd.Series(prices_df['date']), format=\"%Y%m\")\n",
    "    # and PLOT \n",
    "    fig = px.line(prices_df, x=\"date\", y=\"price\",  title=chart_title)\n",
    "    fig.update_xaxes(title_text='Date')\n",
    "    fig.update_yaxes(title_text='Average Monthly Price ($)')\n",
    "    fig.show()"
   ]
  },
  {
   "cell_type": "code",
   "execution_count": 157,
   "metadata": {},
   "outputs": [
    {
     "data": {
      "text/plain": [
       "{'request': {'command': 'series',\n",
       "  'series_id': 'pet.emm_epm0_pte_y{city}_dpg.m'},\n",
       " 'data': {'error': 'invalid series_id. For key registration, documentation, and examples see https://www.eia.gov/developer/'}}"
      ]
     },
     "execution_count": 157,
     "metadata": {},
     "output_type": "execute_result"
    }
   ],
   "source": [
    "response"
   ]
  },
  {
   "cell_type": "markdown",
   "metadata": {},
   "source": [
    "##### Check the dataframe"
   ]
  },
  {
   "cell_type": "code",
   "execution_count": 151,
   "metadata": {
    "scrolled": true
   },
   "outputs": [
    {
     "data": {
      "text/html": [
       "<div>\n",
       "<style scoped>\n",
       "    .dataframe tbody tr th:only-of-type {\n",
       "        vertical-align: middle;\n",
       "    }\n",
       "\n",
       "    .dataframe tbody tr th {\n",
       "        vertical-align: top;\n",
       "    }\n",
       "\n",
       "    .dataframe thead th {\n",
       "        text-align: right;\n",
       "    }\n",
       "</style>\n",
       "<table border=\"1\" class=\"dataframe\">\n",
       "  <thead>\n",
       "    <tr style=\"text-align: right;\">\n",
       "      <th></th>\n",
       "      <th>date</th>\n",
       "      <th>price</th>\n",
       "    </tr>\n",
       "  </thead>\n",
       "  <tbody>\n",
       "    <tr>\n",
       "      <th>0</th>\n",
       "      <td>2020-02-01</td>\n",
       "      <td>2.540</td>\n",
       "    </tr>\n",
       "    <tr>\n",
       "      <th>1</th>\n",
       "      <td>2020-01-01</td>\n",
       "      <td>2.625</td>\n",
       "    </tr>\n",
       "    <tr>\n",
       "      <th>2</th>\n",
       "      <td>2019-12-01</td>\n",
       "      <td>2.608</td>\n",
       "    </tr>\n",
       "    <tr>\n",
       "      <th>3</th>\n",
       "      <td>2019-11-01</td>\n",
       "      <td>2.608</td>\n",
       "    </tr>\n",
       "    <tr>\n",
       "      <th>4</th>\n",
       "      <td>2019-10-01</td>\n",
       "      <td>2.599</td>\n",
       "    </tr>\n",
       "    <tr>\n",
       "      <th>...</th>\n",
       "      <td>...</td>\n",
       "      <td>...</td>\n",
       "    </tr>\n",
       "    <tr>\n",
       "      <th>318</th>\n",
       "      <td>1993-08-01</td>\n",
       "      <td>1.077</td>\n",
       "    </tr>\n",
       "    <tr>\n",
       "      <th>319</th>\n",
       "      <td>1993-07-01</td>\n",
       "      <td>1.093</td>\n",
       "    </tr>\n",
       "    <tr>\n",
       "      <th>320</th>\n",
       "      <td>1993-06-01</td>\n",
       "      <td>1.102</td>\n",
       "    </tr>\n",
       "    <tr>\n",
       "      <th>321</th>\n",
       "      <td>1993-05-01</td>\n",
       "      <td>1.092</td>\n",
       "    </tr>\n",
       "    <tr>\n",
       "      <th>322</th>\n",
       "      <td>1993-04-01</td>\n",
       "      <td>1.073</td>\n",
       "    </tr>\n",
       "  </tbody>\n",
       "</table>\n",
       "<p>323 rows × 2 columns</p>\n",
       "</div>"
      ],
      "text/plain": [
       "          date  price\n",
       "0   2020-02-01  2.540\n",
       "1   2020-01-01  2.625\n",
       "2   2019-12-01  2.608\n",
       "3   2019-11-01  2.608\n",
       "4   2019-10-01  2.599\n",
       "..         ...    ...\n",
       "318 1993-08-01  1.077\n",
       "319 1993-07-01  1.093\n",
       "320 1993-06-01  1.102\n",
       "321 1993-05-01  1.092\n",
       "322 1993-04-01  1.073\n",
       "\n",
       "[323 rows x 2 columns]"
      ]
     },
     "execution_count": 151,
     "metadata": {},
     "output_type": "execute_result"
    }
   ],
   "source": [
    "prices_df"
   ]
  },
  {
   "cell_type": "markdown",
   "metadata": {},
   "source": [
    "### PLOT THE DATA (just an example...) "
   ]
  },
  {
   "cell_type": "code",
   "execution_count": 149,
   "metadata": {},
   "outputs": [
    {
     "data": {
      "application/vnd.plotly.v1+json": {
       "config": {
        "plotlyServerURL": "https://plot.ly"
       },
       "data": [
        {
         "hoverlabel": {
          "namelength": 0
         },
         "hovertemplate": "date=%{x}<br>price=%{y}",
         "legendgroup": "",
         "line": {
          "color": "#636efa",
          "dash": "solid"
         },
         "mode": "lines",
         "name": "",
         "showlegend": false,
         "type": "scatter",
         "x": [
          "2020-02-01T00:00:00",
          "2020-01-01T00:00:00",
          "2019-12-01T00:00:00",
          "2019-11-01T00:00:00",
          "2019-10-01T00:00:00",
          "2019-09-01T00:00:00",
          "2019-08-01T00:00:00",
          "2019-07-01T00:00:00",
          "2019-06-01T00:00:00",
          "2019-05-01T00:00:00",
          "2019-04-01T00:00:00",
          "2019-03-01T00:00:00",
          "2019-02-01T00:00:00",
          "2019-01-01T00:00:00",
          "2018-12-01T00:00:00",
          "2018-11-01T00:00:00",
          "2018-10-01T00:00:00",
          "2018-09-01T00:00:00",
          "2018-08-01T00:00:00",
          "2018-07-01T00:00:00",
          "2018-06-01T00:00:00",
          "2018-05-01T00:00:00",
          "2018-04-01T00:00:00",
          "2018-03-01T00:00:00",
          "2018-02-01T00:00:00",
          "2018-01-01T00:00:00",
          "2017-12-01T00:00:00",
          "2017-11-01T00:00:00",
          "2017-10-01T00:00:00",
          "2017-09-01T00:00:00",
          "2017-08-01T00:00:00",
          "2017-07-01T00:00:00",
          "2017-06-01T00:00:00",
          "2017-05-01T00:00:00",
          "2017-04-01T00:00:00",
          "2017-03-01T00:00:00",
          "2017-02-01T00:00:00",
          "2017-01-01T00:00:00",
          "2016-12-01T00:00:00",
          "2016-11-01T00:00:00",
          "2016-10-01T00:00:00",
          "2016-09-01T00:00:00",
          "2016-08-01T00:00:00",
          "2016-07-01T00:00:00",
          "2016-06-01T00:00:00",
          "2016-05-01T00:00:00",
          "2016-04-01T00:00:00",
          "2016-03-01T00:00:00",
          "2016-02-01T00:00:00",
          "2016-01-01T00:00:00",
          "2015-12-01T00:00:00",
          "2015-11-01T00:00:00",
          "2015-10-01T00:00:00",
          "2015-09-01T00:00:00",
          "2015-08-01T00:00:00",
          "2015-07-01T00:00:00",
          "2015-06-01T00:00:00",
          "2015-05-01T00:00:00",
          "2015-04-01T00:00:00",
          "2015-03-01T00:00:00",
          "2015-02-01T00:00:00",
          "2015-01-01T00:00:00",
          "2014-12-01T00:00:00",
          "2014-11-01T00:00:00",
          "2014-10-01T00:00:00",
          "2014-09-01T00:00:00",
          "2014-08-01T00:00:00",
          "2014-07-01T00:00:00",
          "2014-06-01T00:00:00",
          "2014-05-01T00:00:00",
          "2014-04-01T00:00:00",
          "2014-03-01T00:00:00",
          "2014-02-01T00:00:00",
          "2014-01-01T00:00:00",
          "2013-12-01T00:00:00",
          "2013-11-01T00:00:00",
          "2013-10-01T00:00:00",
          "2013-09-01T00:00:00",
          "2013-08-01T00:00:00",
          "2013-07-01T00:00:00",
          "2013-06-01T00:00:00",
          "2013-05-01T00:00:00",
          "2013-04-01T00:00:00",
          "2013-03-01T00:00:00",
          "2013-02-01T00:00:00",
          "2013-01-01T00:00:00",
          "2012-12-01T00:00:00",
          "2012-11-01T00:00:00",
          "2012-10-01T00:00:00",
          "2012-09-01T00:00:00",
          "2012-08-01T00:00:00",
          "2012-07-01T00:00:00",
          "2012-06-01T00:00:00",
          "2012-05-01T00:00:00",
          "2012-04-01T00:00:00",
          "2012-03-01T00:00:00",
          "2012-02-01T00:00:00",
          "2012-01-01T00:00:00",
          "2011-12-01T00:00:00",
          "2011-11-01T00:00:00",
          "2011-10-01T00:00:00",
          "2011-09-01T00:00:00",
          "2011-08-01T00:00:00",
          "2011-07-01T00:00:00",
          "2011-06-01T00:00:00",
          "2011-05-01T00:00:00",
          "2011-04-01T00:00:00",
          "2011-03-01T00:00:00",
          "2011-02-01T00:00:00",
          "2011-01-01T00:00:00",
          "2010-12-01T00:00:00",
          "2010-11-01T00:00:00",
          "2010-10-01T00:00:00",
          "2010-09-01T00:00:00",
          "2010-08-01T00:00:00",
          "2010-07-01T00:00:00",
          "2010-06-01T00:00:00",
          "2010-05-01T00:00:00",
          "2010-04-01T00:00:00",
          "2010-03-01T00:00:00",
          "2010-02-01T00:00:00",
          "2010-01-01T00:00:00",
          "2009-12-01T00:00:00",
          "2009-11-01T00:00:00",
          "2009-10-01T00:00:00",
          "2009-09-01T00:00:00",
          "2009-08-01T00:00:00",
          "2009-07-01T00:00:00",
          "2009-06-01T00:00:00",
          "2009-05-01T00:00:00",
          "2009-04-01T00:00:00",
          "2009-03-01T00:00:00",
          "2009-02-01T00:00:00",
          "2009-01-01T00:00:00",
          "2008-12-01T00:00:00",
          "2008-11-01T00:00:00",
          "2008-10-01T00:00:00",
          "2008-09-01T00:00:00",
          "2008-08-01T00:00:00",
          "2008-07-01T00:00:00",
          "2008-06-01T00:00:00",
          "2008-05-01T00:00:00",
          "2008-04-01T00:00:00",
          "2008-03-01T00:00:00",
          "2008-02-01T00:00:00",
          "2008-01-01T00:00:00",
          "2007-12-01T00:00:00",
          "2007-11-01T00:00:00",
          "2007-10-01T00:00:00",
          "2007-09-01T00:00:00",
          "2007-08-01T00:00:00",
          "2007-07-01T00:00:00",
          "2007-06-01T00:00:00",
          "2007-05-01T00:00:00",
          "2007-04-01T00:00:00",
          "2007-03-01T00:00:00",
          "2007-02-01T00:00:00",
          "2007-01-01T00:00:00",
          "2006-12-01T00:00:00",
          "2006-11-01T00:00:00",
          "2006-10-01T00:00:00",
          "2006-09-01T00:00:00",
          "2006-08-01T00:00:00",
          "2006-07-01T00:00:00",
          "2006-06-01T00:00:00",
          "2006-05-01T00:00:00",
          "2006-04-01T00:00:00",
          "2006-03-01T00:00:00",
          "2006-02-01T00:00:00",
          "2006-01-01T00:00:00",
          "2005-12-01T00:00:00",
          "2005-11-01T00:00:00",
          "2005-10-01T00:00:00",
          "2005-09-01T00:00:00",
          "2005-08-01T00:00:00",
          "2005-07-01T00:00:00",
          "2005-06-01T00:00:00",
          "2005-05-01T00:00:00",
          "2005-04-01T00:00:00",
          "2005-03-01T00:00:00",
          "2005-02-01T00:00:00",
          "2005-01-01T00:00:00",
          "2004-12-01T00:00:00",
          "2004-11-01T00:00:00",
          "2004-10-01T00:00:00",
          "2004-09-01T00:00:00",
          "2004-08-01T00:00:00",
          "2004-07-01T00:00:00",
          "2004-06-01T00:00:00",
          "2004-05-01T00:00:00",
          "2004-04-01T00:00:00",
          "2004-03-01T00:00:00",
          "2004-02-01T00:00:00",
          "2004-01-01T00:00:00",
          "2003-12-01T00:00:00",
          "2003-11-01T00:00:00",
          "2003-10-01T00:00:00",
          "2003-09-01T00:00:00",
          "2003-08-01T00:00:00",
          "2003-07-01T00:00:00",
          "2003-06-01T00:00:00",
          "2003-05-01T00:00:00",
          "2003-04-01T00:00:00",
          "2003-03-01T00:00:00",
          "2003-02-01T00:00:00",
          "2003-01-01T00:00:00",
          "2002-12-01T00:00:00",
          "2002-11-01T00:00:00",
          "2002-10-01T00:00:00",
          "2002-09-01T00:00:00",
          "2002-08-01T00:00:00",
          "2002-07-01T00:00:00",
          "2002-06-01T00:00:00",
          "2002-05-01T00:00:00",
          "2002-04-01T00:00:00",
          "2002-03-01T00:00:00",
          "2002-02-01T00:00:00",
          "2002-01-01T00:00:00",
          "2001-12-01T00:00:00",
          "2001-11-01T00:00:00",
          "2001-10-01T00:00:00",
          "2001-09-01T00:00:00",
          "2001-08-01T00:00:00",
          "2001-07-01T00:00:00",
          "2001-06-01T00:00:00",
          "2001-05-01T00:00:00",
          "2001-04-01T00:00:00",
          "2001-03-01T00:00:00",
          "2001-02-01T00:00:00",
          "2001-01-01T00:00:00",
          "2000-12-01T00:00:00",
          "2000-11-01T00:00:00",
          "2000-10-01T00:00:00",
          "2000-09-01T00:00:00",
          "2000-08-01T00:00:00",
          "2000-07-01T00:00:00",
          "2000-06-01T00:00:00",
          "2000-05-01T00:00:00",
          "2000-04-01T00:00:00",
          "2000-03-01T00:00:00",
          "2000-02-01T00:00:00",
          "2000-01-01T00:00:00",
          "1999-12-01T00:00:00",
          "1999-11-01T00:00:00",
          "1999-10-01T00:00:00",
          "1999-09-01T00:00:00",
          "1999-08-01T00:00:00",
          "1999-07-01T00:00:00",
          "1999-06-01T00:00:00",
          "1999-05-01T00:00:00",
          "1999-04-01T00:00:00",
          "1999-03-01T00:00:00",
          "1999-02-01T00:00:00",
          "1999-01-01T00:00:00",
          "1998-12-01T00:00:00",
          "1998-11-01T00:00:00",
          "1998-10-01T00:00:00",
          "1998-09-01T00:00:00",
          "1998-08-01T00:00:00",
          "1998-07-01T00:00:00",
          "1998-06-01T00:00:00",
          "1998-05-01T00:00:00",
          "1998-04-01T00:00:00",
          "1998-03-01T00:00:00",
          "1998-02-01T00:00:00",
          "1998-01-01T00:00:00",
          "1997-12-01T00:00:00",
          "1997-11-01T00:00:00",
          "1997-10-01T00:00:00",
          "1997-09-01T00:00:00",
          "1997-08-01T00:00:00",
          "1997-07-01T00:00:00",
          "1997-06-01T00:00:00",
          "1997-05-01T00:00:00",
          "1997-04-01T00:00:00",
          "1997-03-01T00:00:00",
          "1997-02-01T00:00:00",
          "1997-01-01T00:00:00",
          "1996-12-01T00:00:00",
          "1996-11-01T00:00:00",
          "1996-10-01T00:00:00",
          "1996-09-01T00:00:00",
          "1996-08-01T00:00:00",
          "1996-07-01T00:00:00",
          "1996-06-01T00:00:00",
          "1996-05-01T00:00:00",
          "1996-04-01T00:00:00",
          "1996-03-01T00:00:00",
          "1996-02-01T00:00:00",
          "1996-01-01T00:00:00",
          "1995-12-01T00:00:00",
          "1995-11-01T00:00:00",
          "1995-10-01T00:00:00",
          "1995-09-01T00:00:00",
          "1995-08-01T00:00:00",
          "1995-07-01T00:00:00",
          "1995-06-01T00:00:00",
          "1995-05-01T00:00:00",
          "1995-04-01T00:00:00",
          "1995-03-01T00:00:00",
          "1995-02-01T00:00:00",
          "1995-01-01T00:00:00",
          "1994-12-01T00:00:00",
          "1994-11-01T00:00:00",
          "1994-10-01T00:00:00",
          "1994-09-01T00:00:00",
          "1994-08-01T00:00:00",
          "1994-07-01T00:00:00",
          "1994-06-01T00:00:00",
          "1994-05-01T00:00:00",
          "1994-04-01T00:00:00",
          "1994-03-01T00:00:00",
          "1994-02-01T00:00:00",
          "1994-01-01T00:00:00",
          "1993-12-01T00:00:00",
          "1993-11-01T00:00:00",
          "1993-10-01T00:00:00",
          "1993-09-01T00:00:00",
          "1993-08-01T00:00:00",
          "1993-07-01T00:00:00",
          "1993-06-01T00:00:00",
          "1993-05-01T00:00:00",
          "1993-04-01T00:00:00"
         ],
         "xaxis": "x",
         "y": [
          2.46,
          2.577,
          2.552,
          2.543,
          2.549,
          2.565,
          2.614,
          2.726,
          2.671,
          2.814,
          2.77,
          2.546,
          2.348,
          2.308,
          2.417,
          2.663,
          2.86,
          2.85,
          2.856,
          2.852,
          2.888,
          2.932,
          2.849,
          2.693,
          2.726,
          2.679,
          2.604,
          2.661,
          2.643,
          2.838,
          2.473,
          2.391,
          2.437,
          2.49,
          2.517,
          2.423,
          2.44,
          2.508,
          2.417,
          2.344,
          2.367,
          2.321,
          2.252,
          2.316,
          2.423,
          2.37,
          2.205,
          2.042,
          1.913,
          2.075,
          2.18,
          2.261,
          2.301,
          2.371,
          2.599,
          2.791,
          2.82,
          2.728,
          2.529,
          2.498,
          2.322,
          2.334,
          2.748,
          3.039,
          3.294,
          3.48,
          3.557,
          3.707,
          3.754,
          3.775,
          3.737,
          3.612,
          3.498,
          3.505,
          3.487,
          3.4,
          3.446,
          3.615,
          3.671,
          3.656,
          3.591,
          3.576,
          3.632,
          3.8,
          3.783,
          3.528,
          3.486,
          3.587,
          3.824,
          3.92,
          3.765,
          3.488,
          3.51,
          3.745,
          3.973,
          3.877,
          3.709,
          3.501,
          3.362,
          3.462,
          3.513,
          3.665,
          3.732,
          3.735,
          3.743,
          3.963,
          3.822,
          3.604,
          3.267,
          3.173,
          3.084,
          2.926,
          2.834,
          2.694,
          2.734,
          2.732,
          2.754,
          2.897,
          2.883,
          2.821,
          2.728,
          2.785,
          2.683,
          2.717,
          2.57,
          2.586,
          2.658,
          2.589,
          2.651,
          2.304,
          2.099,
          2.011,
          1.981,
          1.824,
          1.796,
          2.274,
          3.172,
          3.759,
          3.828,
          4.105,
          4.092,
          3.826,
          3.489,
          3.285,
          3.108,
          3.143,
          3.102,
          3.119,
          2.839,
          2.802,
          2.817,
          2.986,
          3.063,
          3.092,
          2.86,
          2.592,
          2.292,
          2.317,
          2.374,
          2.261,
          2.284,
          2.642,
          3.018,
          3.032,
          2.93,
          2.961,
          2.807,
          2.457,
          2.351,
          2.414,
          2.242,
          2.318,
          2.807,
          3.046,
          2.531,
          2.339,
          2.199,
          2.203,
          2.258,
          2.09,
          1.948,
          1.896,
          1.922,
          2.027,
          2.028,
          1.91,
          1.92,
          1.963,
          2.031,
          1.996,
          1.8,
          1.756,
          1.69,
          1.629,
          1.54,
          1.562,
          1.616,
          1.711,
          1.626,
          1.535,
          1.499,
          1.51,
          1.599,
          1.684,
          1.641,
          1.511,
          1.449,
          1.465,
          1.472,
          1.426,
          1.421,
          1.403,
          1.399,
          1.421,
          1.42,
          1.25,
          1.143,
          1.146,
          1.112,
          1.185,
          1.327,
          1.457,
          1.423,
          1.481,
          1.635,
          1.666,
          1.547,
          1.435,
          1.482,
          1.471,
          1.479,
          1.531,
          1.543,
          1.557,
          1.526,
          1.604,
          1.595,
          1.502,
          1.499,
          1.543,
          1.398,
          1.327,
          1.316,
          1.288,
          1.285,
          1.265,
          1.219,
          1.157,
          1.116,
          1.123,
          1.098,
          0.983,
          0.952,
          0.971,
          0.986,
          1.029,
          1.041,
          1.026,
          1.043,
          1.063,
          1.072,
          1.078,
          1.074,
          1.069,
          1.106,
          1.147,
          1.185,
          1.221,
          1.25,
          1.282,
          1.261,
          1.215,
          1.233,
          1.237,
          1.249,
          1.27,
          1.297,
          1.305,
          1.303,
          1.281,
          1.247,
          1.24,
          1.248,
          1.268,
          1.296,
          1.315,
          1.263,
          1.171,
          1.138,
          1.14,
          1.121,
          1.123,
          1.157,
          1.183,
          1.204,
          1.236,
          1.261,
          1.234,
          1.156,
          1.132,
          1.14,
          1.152,
          1.159,
          1.122,
          1.103,
          1.118,
          1.116,
          1.073,
          1.048,
          1.021,
          1.005,
          0.994,
          0.995,
          0.987,
          1.011,
          1.048,
          1.064,
          1.031,
          1.048,
          1.064,
          1.075,
          1.071,
          1.05
         ],
         "yaxis": "y"
        }
       ],
       "layout": {
        "legend": {
         "tracegroupgap": 0
        },
        "template": {
         "data": {
          "bar": [
           {
            "error_x": {
             "color": "#2a3f5f"
            },
            "error_y": {
             "color": "#2a3f5f"
            },
            "marker": {
             "line": {
              "color": "#E5ECF6",
              "width": 0.5
             }
            },
            "type": "bar"
           }
          ],
          "barpolar": [
           {
            "marker": {
             "line": {
              "color": "#E5ECF6",
              "width": 0.5
             }
            },
            "type": "barpolar"
           }
          ],
          "carpet": [
           {
            "aaxis": {
             "endlinecolor": "#2a3f5f",
             "gridcolor": "white",
             "linecolor": "white",
             "minorgridcolor": "white",
             "startlinecolor": "#2a3f5f"
            },
            "baxis": {
             "endlinecolor": "#2a3f5f",
             "gridcolor": "white",
             "linecolor": "white",
             "minorgridcolor": "white",
             "startlinecolor": "#2a3f5f"
            },
            "type": "carpet"
           }
          ],
          "choropleth": [
           {
            "colorbar": {
             "outlinewidth": 0,
             "ticks": ""
            },
            "type": "choropleth"
           }
          ],
          "contour": [
           {
            "colorbar": {
             "outlinewidth": 0,
             "ticks": ""
            },
            "colorscale": [
             [
              0,
              "#0d0887"
             ],
             [
              0.1111111111111111,
              "#46039f"
             ],
             [
              0.2222222222222222,
              "#7201a8"
             ],
             [
              0.3333333333333333,
              "#9c179e"
             ],
             [
              0.4444444444444444,
              "#bd3786"
             ],
             [
              0.5555555555555556,
              "#d8576b"
             ],
             [
              0.6666666666666666,
              "#ed7953"
             ],
             [
              0.7777777777777778,
              "#fb9f3a"
             ],
             [
              0.8888888888888888,
              "#fdca26"
             ],
             [
              1,
              "#f0f921"
             ]
            ],
            "type": "contour"
           }
          ],
          "contourcarpet": [
           {
            "colorbar": {
             "outlinewidth": 0,
             "ticks": ""
            },
            "type": "contourcarpet"
           }
          ],
          "heatmap": [
           {
            "colorbar": {
             "outlinewidth": 0,
             "ticks": ""
            },
            "colorscale": [
             [
              0,
              "#0d0887"
             ],
             [
              0.1111111111111111,
              "#46039f"
             ],
             [
              0.2222222222222222,
              "#7201a8"
             ],
             [
              0.3333333333333333,
              "#9c179e"
             ],
             [
              0.4444444444444444,
              "#bd3786"
             ],
             [
              0.5555555555555556,
              "#d8576b"
             ],
             [
              0.6666666666666666,
              "#ed7953"
             ],
             [
              0.7777777777777778,
              "#fb9f3a"
             ],
             [
              0.8888888888888888,
              "#fdca26"
             ],
             [
              1,
              "#f0f921"
             ]
            ],
            "type": "heatmap"
           }
          ],
          "heatmapgl": [
           {
            "colorbar": {
             "outlinewidth": 0,
             "ticks": ""
            },
            "colorscale": [
             [
              0,
              "#0d0887"
             ],
             [
              0.1111111111111111,
              "#46039f"
             ],
             [
              0.2222222222222222,
              "#7201a8"
             ],
             [
              0.3333333333333333,
              "#9c179e"
             ],
             [
              0.4444444444444444,
              "#bd3786"
             ],
             [
              0.5555555555555556,
              "#d8576b"
             ],
             [
              0.6666666666666666,
              "#ed7953"
             ],
             [
              0.7777777777777778,
              "#fb9f3a"
             ],
             [
              0.8888888888888888,
              "#fdca26"
             ],
             [
              1,
              "#f0f921"
             ]
            ],
            "type": "heatmapgl"
           }
          ],
          "histogram": [
           {
            "marker": {
             "colorbar": {
              "outlinewidth": 0,
              "ticks": ""
             }
            },
            "type": "histogram"
           }
          ],
          "histogram2d": [
           {
            "colorbar": {
             "outlinewidth": 0,
             "ticks": ""
            },
            "colorscale": [
             [
              0,
              "#0d0887"
             ],
             [
              0.1111111111111111,
              "#46039f"
             ],
             [
              0.2222222222222222,
              "#7201a8"
             ],
             [
              0.3333333333333333,
              "#9c179e"
             ],
             [
              0.4444444444444444,
              "#bd3786"
             ],
             [
              0.5555555555555556,
              "#d8576b"
             ],
             [
              0.6666666666666666,
              "#ed7953"
             ],
             [
              0.7777777777777778,
              "#fb9f3a"
             ],
             [
              0.8888888888888888,
              "#fdca26"
             ],
             [
              1,
              "#f0f921"
             ]
            ],
            "type": "histogram2d"
           }
          ],
          "histogram2dcontour": [
           {
            "colorbar": {
             "outlinewidth": 0,
             "ticks": ""
            },
            "colorscale": [
             [
              0,
              "#0d0887"
             ],
             [
              0.1111111111111111,
              "#46039f"
             ],
             [
              0.2222222222222222,
              "#7201a8"
             ],
             [
              0.3333333333333333,
              "#9c179e"
             ],
             [
              0.4444444444444444,
              "#bd3786"
             ],
             [
              0.5555555555555556,
              "#d8576b"
             ],
             [
              0.6666666666666666,
              "#ed7953"
             ],
             [
              0.7777777777777778,
              "#fb9f3a"
             ],
             [
              0.8888888888888888,
              "#fdca26"
             ],
             [
              1,
              "#f0f921"
             ]
            ],
            "type": "histogram2dcontour"
           }
          ],
          "mesh3d": [
           {
            "colorbar": {
             "outlinewidth": 0,
             "ticks": ""
            },
            "type": "mesh3d"
           }
          ],
          "parcoords": [
           {
            "line": {
             "colorbar": {
              "outlinewidth": 0,
              "ticks": ""
             }
            },
            "type": "parcoords"
           }
          ],
          "pie": [
           {
            "automargin": true,
            "type": "pie"
           }
          ],
          "scatter": [
           {
            "marker": {
             "colorbar": {
              "outlinewidth": 0,
              "ticks": ""
             }
            },
            "type": "scatter"
           }
          ],
          "scatter3d": [
           {
            "line": {
             "colorbar": {
              "outlinewidth": 0,
              "ticks": ""
             }
            },
            "marker": {
             "colorbar": {
              "outlinewidth": 0,
              "ticks": ""
             }
            },
            "type": "scatter3d"
           }
          ],
          "scattercarpet": [
           {
            "marker": {
             "colorbar": {
              "outlinewidth": 0,
              "ticks": ""
             }
            },
            "type": "scattercarpet"
           }
          ],
          "scattergeo": [
           {
            "marker": {
             "colorbar": {
              "outlinewidth": 0,
              "ticks": ""
             }
            },
            "type": "scattergeo"
           }
          ],
          "scattergl": [
           {
            "marker": {
             "colorbar": {
              "outlinewidth": 0,
              "ticks": ""
             }
            },
            "type": "scattergl"
           }
          ],
          "scattermapbox": [
           {
            "marker": {
             "colorbar": {
              "outlinewidth": 0,
              "ticks": ""
             }
            },
            "type": "scattermapbox"
           }
          ],
          "scatterpolar": [
           {
            "marker": {
             "colorbar": {
              "outlinewidth": 0,
              "ticks": ""
             }
            },
            "type": "scatterpolar"
           }
          ],
          "scatterpolargl": [
           {
            "marker": {
             "colorbar": {
              "outlinewidth": 0,
              "ticks": ""
             }
            },
            "type": "scatterpolargl"
           }
          ],
          "scatterternary": [
           {
            "marker": {
             "colorbar": {
              "outlinewidth": 0,
              "ticks": ""
             }
            },
            "type": "scatterternary"
           }
          ],
          "surface": [
           {
            "colorbar": {
             "outlinewidth": 0,
             "ticks": ""
            },
            "colorscale": [
             [
              0,
              "#0d0887"
             ],
             [
              0.1111111111111111,
              "#46039f"
             ],
             [
              0.2222222222222222,
              "#7201a8"
             ],
             [
              0.3333333333333333,
              "#9c179e"
             ],
             [
              0.4444444444444444,
              "#bd3786"
             ],
             [
              0.5555555555555556,
              "#d8576b"
             ],
             [
              0.6666666666666666,
              "#ed7953"
             ],
             [
              0.7777777777777778,
              "#fb9f3a"
             ],
             [
              0.8888888888888888,
              "#fdca26"
             ],
             [
              1,
              "#f0f921"
             ]
            ],
            "type": "surface"
           }
          ],
          "table": [
           {
            "cells": {
             "fill": {
              "color": "#EBF0F8"
             },
             "line": {
              "color": "white"
             }
            },
            "header": {
             "fill": {
              "color": "#C8D4E3"
             },
             "line": {
              "color": "white"
             }
            },
            "type": "table"
           }
          ]
         },
         "layout": {
          "annotationdefaults": {
           "arrowcolor": "#2a3f5f",
           "arrowhead": 0,
           "arrowwidth": 1
          },
          "coloraxis": {
           "colorbar": {
            "outlinewidth": 0,
            "ticks": ""
           }
          },
          "colorscale": {
           "diverging": [
            [
             0,
             "#8e0152"
            ],
            [
             0.1,
             "#c51b7d"
            ],
            [
             0.2,
             "#de77ae"
            ],
            [
             0.3,
             "#f1b6da"
            ],
            [
             0.4,
             "#fde0ef"
            ],
            [
             0.5,
             "#f7f7f7"
            ],
            [
             0.6,
             "#e6f5d0"
            ],
            [
             0.7,
             "#b8e186"
            ],
            [
             0.8,
             "#7fbc41"
            ],
            [
             0.9,
             "#4d9221"
            ],
            [
             1,
             "#276419"
            ]
           ],
           "sequential": [
            [
             0,
             "#0d0887"
            ],
            [
             0.1111111111111111,
             "#46039f"
            ],
            [
             0.2222222222222222,
             "#7201a8"
            ],
            [
             0.3333333333333333,
             "#9c179e"
            ],
            [
             0.4444444444444444,
             "#bd3786"
            ],
            [
             0.5555555555555556,
             "#d8576b"
            ],
            [
             0.6666666666666666,
             "#ed7953"
            ],
            [
             0.7777777777777778,
             "#fb9f3a"
            ],
            [
             0.8888888888888888,
             "#fdca26"
            ],
            [
             1,
             "#f0f921"
            ]
           ],
           "sequentialminus": [
            [
             0,
             "#0d0887"
            ],
            [
             0.1111111111111111,
             "#46039f"
            ],
            [
             0.2222222222222222,
             "#7201a8"
            ],
            [
             0.3333333333333333,
             "#9c179e"
            ],
            [
             0.4444444444444444,
             "#bd3786"
            ],
            [
             0.5555555555555556,
             "#d8576b"
            ],
            [
             0.6666666666666666,
             "#ed7953"
            ],
            [
             0.7777777777777778,
             "#fb9f3a"
            ],
            [
             0.8888888888888888,
             "#fdca26"
            ],
            [
             1,
             "#f0f921"
            ]
           ]
          },
          "colorway": [
           "#636efa",
           "#EF553B",
           "#00cc96",
           "#ab63fa",
           "#FFA15A",
           "#19d3f3",
           "#FF6692",
           "#B6E880",
           "#FF97FF",
           "#FECB52"
          ],
          "font": {
           "color": "#2a3f5f"
          },
          "geo": {
           "bgcolor": "white",
           "lakecolor": "white",
           "landcolor": "#E5ECF6",
           "showlakes": true,
           "showland": true,
           "subunitcolor": "white"
          },
          "hoverlabel": {
           "align": "left"
          },
          "hovermode": "closest",
          "mapbox": {
           "style": "light"
          },
          "paper_bgcolor": "white",
          "plot_bgcolor": "#E5ECF6",
          "polar": {
           "angularaxis": {
            "gridcolor": "white",
            "linecolor": "white",
            "ticks": ""
           },
           "bgcolor": "#E5ECF6",
           "radialaxis": {
            "gridcolor": "white",
            "linecolor": "white",
            "ticks": ""
           }
          },
          "scene": {
           "xaxis": {
            "backgroundcolor": "#E5ECF6",
            "gridcolor": "white",
            "gridwidth": 2,
            "linecolor": "white",
            "showbackground": true,
            "ticks": "",
            "zerolinecolor": "white"
           },
           "yaxis": {
            "backgroundcolor": "#E5ECF6",
            "gridcolor": "white",
            "gridwidth": 2,
            "linecolor": "white",
            "showbackground": true,
            "ticks": "",
            "zerolinecolor": "white"
           },
           "zaxis": {
            "backgroundcolor": "#E5ECF6",
            "gridcolor": "white",
            "gridwidth": 2,
            "linecolor": "white",
            "showbackground": true,
            "ticks": "",
            "zerolinecolor": "white"
           }
          },
          "shapedefaults": {
           "line": {
            "color": "#2a3f5f"
           }
          },
          "ternary": {
           "aaxis": {
            "gridcolor": "white",
            "linecolor": "white",
            "ticks": ""
           },
           "baxis": {
            "gridcolor": "white",
            "linecolor": "white",
            "ticks": ""
           },
           "bgcolor": "#E5ECF6",
           "caxis": {
            "gridcolor": "white",
            "linecolor": "white",
            "ticks": ""
           }
          },
          "title": {
           "x": 0.05
          },
          "xaxis": {
           "automargin": true,
           "gridcolor": "white",
           "linecolor": "white",
           "ticks": "",
           "title": {
            "standoff": 15
           },
           "zerolinecolor": "white",
           "zerolinewidth": 2
          },
          "yaxis": {
           "automargin": true,
           "gridcolor": "white",
           "linecolor": "white",
           "ticks": "",
           "title": {
            "standoff": 15
           },
           "zerolinecolor": "white",
           "zerolinewidth": 2
          }
         }
        },
        "title": {
         "text": "East Coast All Grades All Formulations Retail Gasoline Prices, Monthly"
        },
        "xaxis": {
         "anchor": "y",
         "domain": [
          0,
          1
         ],
         "title": {
          "text": "date"
         }
        },
        "yaxis": {
         "anchor": "x",
         "domain": [
          0,
          1
         ],
         "title": {
          "text": "price"
         }
        }
       }
      },
      "text/html": [
       "<div>\n",
       "        \n",
       "        \n",
       "            <div id=\"1d96996f-38ca-404b-a81c-a7abbbffab60\" class=\"plotly-graph-div\" style=\"height:525px; width:100%;\"></div>\n",
       "            <script type=\"text/javascript\">\n",
       "                require([\"plotly\"], function(Plotly) {\n",
       "                    window.PLOTLYENV=window.PLOTLYENV || {};\n",
       "                    \n",
       "                if (document.getElementById(\"1d96996f-38ca-404b-a81c-a7abbbffab60\")) {\n",
       "                    Plotly.newPlot(\n",
       "                        '1d96996f-38ca-404b-a81c-a7abbbffab60',\n",
       "                        [{\"hoverlabel\": {\"namelength\": 0}, \"hovertemplate\": \"date=%{x}<br>price=%{y}\", \"legendgroup\": \"\", \"line\": {\"color\": \"#636efa\", \"dash\": \"solid\"}, \"mode\": \"lines\", \"name\": \"\", \"showlegend\": false, \"type\": \"scatter\", \"x\": [\"2020-02-01T00:00:00\", \"2020-01-01T00:00:00\", \"2019-12-01T00:00:00\", \"2019-11-01T00:00:00\", \"2019-10-01T00:00:00\", \"2019-09-01T00:00:00\", \"2019-08-01T00:00:00\", \"2019-07-01T00:00:00\", \"2019-06-01T00:00:00\", \"2019-05-01T00:00:00\", \"2019-04-01T00:00:00\", \"2019-03-01T00:00:00\", \"2019-02-01T00:00:00\", \"2019-01-01T00:00:00\", \"2018-12-01T00:00:00\", \"2018-11-01T00:00:00\", \"2018-10-01T00:00:00\", \"2018-09-01T00:00:00\", \"2018-08-01T00:00:00\", \"2018-07-01T00:00:00\", \"2018-06-01T00:00:00\", \"2018-05-01T00:00:00\", \"2018-04-01T00:00:00\", \"2018-03-01T00:00:00\", \"2018-02-01T00:00:00\", \"2018-01-01T00:00:00\", \"2017-12-01T00:00:00\", \"2017-11-01T00:00:00\", \"2017-10-01T00:00:00\", \"2017-09-01T00:00:00\", \"2017-08-01T00:00:00\", \"2017-07-01T00:00:00\", \"2017-06-01T00:00:00\", \"2017-05-01T00:00:00\", \"2017-04-01T00:00:00\", \"2017-03-01T00:00:00\", \"2017-02-01T00:00:00\", \"2017-01-01T00:00:00\", \"2016-12-01T00:00:00\", \"2016-11-01T00:00:00\", \"2016-10-01T00:00:00\", \"2016-09-01T00:00:00\", \"2016-08-01T00:00:00\", \"2016-07-01T00:00:00\", \"2016-06-01T00:00:00\", \"2016-05-01T00:00:00\", \"2016-04-01T00:00:00\", \"2016-03-01T00:00:00\", \"2016-02-01T00:00:00\", \"2016-01-01T00:00:00\", \"2015-12-01T00:00:00\", \"2015-11-01T00:00:00\", \"2015-10-01T00:00:00\", \"2015-09-01T00:00:00\", \"2015-08-01T00:00:00\", \"2015-07-01T00:00:00\", \"2015-06-01T00:00:00\", \"2015-05-01T00:00:00\", \"2015-04-01T00:00:00\", \"2015-03-01T00:00:00\", \"2015-02-01T00:00:00\", \"2015-01-01T00:00:00\", \"2014-12-01T00:00:00\", \"2014-11-01T00:00:00\", \"2014-10-01T00:00:00\", \"2014-09-01T00:00:00\", \"2014-08-01T00:00:00\", \"2014-07-01T00:00:00\", \"2014-06-01T00:00:00\", \"2014-05-01T00:00:00\", \"2014-04-01T00:00:00\", \"2014-03-01T00:00:00\", \"2014-02-01T00:00:00\", \"2014-01-01T00:00:00\", \"2013-12-01T00:00:00\", \"2013-11-01T00:00:00\", \"2013-10-01T00:00:00\", \"2013-09-01T00:00:00\", \"2013-08-01T00:00:00\", \"2013-07-01T00:00:00\", \"2013-06-01T00:00:00\", \"2013-05-01T00:00:00\", \"2013-04-01T00:00:00\", \"2013-03-01T00:00:00\", \"2013-02-01T00:00:00\", \"2013-01-01T00:00:00\", \"2012-12-01T00:00:00\", \"2012-11-01T00:00:00\", \"2012-10-01T00:00:00\", \"2012-09-01T00:00:00\", \"2012-08-01T00:00:00\", \"2012-07-01T00:00:00\", \"2012-06-01T00:00:00\", \"2012-05-01T00:00:00\", \"2012-04-01T00:00:00\", \"2012-03-01T00:00:00\", \"2012-02-01T00:00:00\", \"2012-01-01T00:00:00\", \"2011-12-01T00:00:00\", \"2011-11-01T00:00:00\", \"2011-10-01T00:00:00\", \"2011-09-01T00:00:00\", \"2011-08-01T00:00:00\", \"2011-07-01T00:00:00\", \"2011-06-01T00:00:00\", \"2011-05-01T00:00:00\", \"2011-04-01T00:00:00\", \"2011-03-01T00:00:00\", \"2011-02-01T00:00:00\", \"2011-01-01T00:00:00\", \"2010-12-01T00:00:00\", \"2010-11-01T00:00:00\", \"2010-10-01T00:00:00\", \"2010-09-01T00:00:00\", \"2010-08-01T00:00:00\", \"2010-07-01T00:00:00\", \"2010-06-01T00:00:00\", \"2010-05-01T00:00:00\", \"2010-04-01T00:00:00\", \"2010-03-01T00:00:00\", \"2010-02-01T00:00:00\", \"2010-01-01T00:00:00\", \"2009-12-01T00:00:00\", \"2009-11-01T00:00:00\", \"2009-10-01T00:00:00\", \"2009-09-01T00:00:00\", \"2009-08-01T00:00:00\", \"2009-07-01T00:00:00\", \"2009-06-01T00:00:00\", \"2009-05-01T00:00:00\", \"2009-04-01T00:00:00\", \"2009-03-01T00:00:00\", \"2009-02-01T00:00:00\", \"2009-01-01T00:00:00\", \"2008-12-01T00:00:00\", \"2008-11-01T00:00:00\", \"2008-10-01T00:00:00\", \"2008-09-01T00:00:00\", \"2008-08-01T00:00:00\", \"2008-07-01T00:00:00\", \"2008-06-01T00:00:00\", \"2008-05-01T00:00:00\", \"2008-04-01T00:00:00\", \"2008-03-01T00:00:00\", \"2008-02-01T00:00:00\", \"2008-01-01T00:00:00\", \"2007-12-01T00:00:00\", \"2007-11-01T00:00:00\", \"2007-10-01T00:00:00\", \"2007-09-01T00:00:00\", \"2007-08-01T00:00:00\", \"2007-07-01T00:00:00\", \"2007-06-01T00:00:00\", \"2007-05-01T00:00:00\", \"2007-04-01T00:00:00\", \"2007-03-01T00:00:00\", \"2007-02-01T00:00:00\", \"2007-01-01T00:00:00\", \"2006-12-01T00:00:00\", \"2006-11-01T00:00:00\", \"2006-10-01T00:00:00\", \"2006-09-01T00:00:00\", \"2006-08-01T00:00:00\", \"2006-07-01T00:00:00\", \"2006-06-01T00:00:00\", \"2006-05-01T00:00:00\", \"2006-04-01T00:00:00\", \"2006-03-01T00:00:00\", \"2006-02-01T00:00:00\", \"2006-01-01T00:00:00\", \"2005-12-01T00:00:00\", \"2005-11-01T00:00:00\", \"2005-10-01T00:00:00\", \"2005-09-01T00:00:00\", \"2005-08-01T00:00:00\", \"2005-07-01T00:00:00\", \"2005-06-01T00:00:00\", \"2005-05-01T00:00:00\", \"2005-04-01T00:00:00\", \"2005-03-01T00:00:00\", \"2005-02-01T00:00:00\", \"2005-01-01T00:00:00\", \"2004-12-01T00:00:00\", \"2004-11-01T00:00:00\", \"2004-10-01T00:00:00\", \"2004-09-01T00:00:00\", \"2004-08-01T00:00:00\", \"2004-07-01T00:00:00\", \"2004-06-01T00:00:00\", \"2004-05-01T00:00:00\", \"2004-04-01T00:00:00\", \"2004-03-01T00:00:00\", \"2004-02-01T00:00:00\", \"2004-01-01T00:00:00\", \"2003-12-01T00:00:00\", \"2003-11-01T00:00:00\", \"2003-10-01T00:00:00\", \"2003-09-01T00:00:00\", \"2003-08-01T00:00:00\", \"2003-07-01T00:00:00\", \"2003-06-01T00:00:00\", \"2003-05-01T00:00:00\", \"2003-04-01T00:00:00\", \"2003-03-01T00:00:00\", \"2003-02-01T00:00:00\", \"2003-01-01T00:00:00\", \"2002-12-01T00:00:00\", \"2002-11-01T00:00:00\", \"2002-10-01T00:00:00\", \"2002-09-01T00:00:00\", \"2002-08-01T00:00:00\", \"2002-07-01T00:00:00\", \"2002-06-01T00:00:00\", \"2002-05-01T00:00:00\", \"2002-04-01T00:00:00\", \"2002-03-01T00:00:00\", \"2002-02-01T00:00:00\", \"2002-01-01T00:00:00\", \"2001-12-01T00:00:00\", \"2001-11-01T00:00:00\", \"2001-10-01T00:00:00\", \"2001-09-01T00:00:00\", \"2001-08-01T00:00:00\", \"2001-07-01T00:00:00\", \"2001-06-01T00:00:00\", \"2001-05-01T00:00:00\", \"2001-04-01T00:00:00\", \"2001-03-01T00:00:00\", \"2001-02-01T00:00:00\", \"2001-01-01T00:00:00\", \"2000-12-01T00:00:00\", \"2000-11-01T00:00:00\", \"2000-10-01T00:00:00\", \"2000-09-01T00:00:00\", \"2000-08-01T00:00:00\", \"2000-07-01T00:00:00\", \"2000-06-01T00:00:00\", \"2000-05-01T00:00:00\", \"2000-04-01T00:00:00\", \"2000-03-01T00:00:00\", \"2000-02-01T00:00:00\", \"2000-01-01T00:00:00\", \"1999-12-01T00:00:00\", \"1999-11-01T00:00:00\", \"1999-10-01T00:00:00\", \"1999-09-01T00:00:00\", \"1999-08-01T00:00:00\", \"1999-07-01T00:00:00\", \"1999-06-01T00:00:00\", \"1999-05-01T00:00:00\", \"1999-04-01T00:00:00\", \"1999-03-01T00:00:00\", \"1999-02-01T00:00:00\", \"1999-01-01T00:00:00\", \"1998-12-01T00:00:00\", \"1998-11-01T00:00:00\", \"1998-10-01T00:00:00\", \"1998-09-01T00:00:00\", \"1998-08-01T00:00:00\", \"1998-07-01T00:00:00\", \"1998-06-01T00:00:00\", \"1998-05-01T00:00:00\", \"1998-04-01T00:00:00\", \"1998-03-01T00:00:00\", \"1998-02-01T00:00:00\", \"1998-01-01T00:00:00\", \"1997-12-01T00:00:00\", \"1997-11-01T00:00:00\", \"1997-10-01T00:00:00\", \"1997-09-01T00:00:00\", \"1997-08-01T00:00:00\", \"1997-07-01T00:00:00\", \"1997-06-01T00:00:00\", \"1997-05-01T00:00:00\", \"1997-04-01T00:00:00\", \"1997-03-01T00:00:00\", \"1997-02-01T00:00:00\", \"1997-01-01T00:00:00\", \"1996-12-01T00:00:00\", \"1996-11-01T00:00:00\", \"1996-10-01T00:00:00\", \"1996-09-01T00:00:00\", \"1996-08-01T00:00:00\", \"1996-07-01T00:00:00\", \"1996-06-01T00:00:00\", \"1996-05-01T00:00:00\", \"1996-04-01T00:00:00\", \"1996-03-01T00:00:00\", \"1996-02-01T00:00:00\", \"1996-01-01T00:00:00\", \"1995-12-01T00:00:00\", \"1995-11-01T00:00:00\", \"1995-10-01T00:00:00\", \"1995-09-01T00:00:00\", \"1995-08-01T00:00:00\", \"1995-07-01T00:00:00\", \"1995-06-01T00:00:00\", \"1995-05-01T00:00:00\", \"1995-04-01T00:00:00\", \"1995-03-01T00:00:00\", \"1995-02-01T00:00:00\", \"1995-01-01T00:00:00\", \"1994-12-01T00:00:00\", \"1994-11-01T00:00:00\", \"1994-10-01T00:00:00\", \"1994-09-01T00:00:00\", \"1994-08-01T00:00:00\", \"1994-07-01T00:00:00\", \"1994-06-01T00:00:00\", \"1994-05-01T00:00:00\", \"1994-04-01T00:00:00\", \"1994-03-01T00:00:00\", \"1994-02-01T00:00:00\", \"1994-01-01T00:00:00\", \"1993-12-01T00:00:00\", \"1993-11-01T00:00:00\", \"1993-10-01T00:00:00\", \"1993-09-01T00:00:00\", \"1993-08-01T00:00:00\", \"1993-07-01T00:00:00\", \"1993-06-01T00:00:00\", \"1993-05-01T00:00:00\", \"1993-04-01T00:00:00\"], \"xaxis\": \"x\", \"y\": [2.46, 2.577, 2.552, 2.543, 2.549, 2.565, 2.614, 2.726, 2.671, 2.814, 2.77, 2.546, 2.348, 2.308, 2.417, 2.663, 2.86, 2.85, 2.856, 2.852, 2.888, 2.932, 2.849, 2.693, 2.726, 2.679, 2.604, 2.661, 2.643, 2.838, 2.473, 2.391, 2.437, 2.49, 2.517, 2.423, 2.44, 2.508, 2.417, 2.344, 2.367, 2.321, 2.252, 2.316, 2.423, 2.37, 2.205, 2.042, 1.913, 2.075, 2.18, 2.261, 2.301, 2.371, 2.599, 2.791, 2.82, 2.728, 2.529, 2.498, 2.322, 2.334, 2.748, 3.039, 3.294, 3.48, 3.557, 3.707, 3.754, 3.775, 3.737, 3.612, 3.498, 3.505, 3.487, 3.4, 3.446, 3.615, 3.671, 3.656, 3.591, 3.576, 3.632, 3.8, 3.783, 3.528, 3.486, 3.587, 3.824, 3.92, 3.765, 3.488, 3.51, 3.745, 3.973, 3.877, 3.709, 3.501, 3.362, 3.462, 3.513, 3.665, 3.732, 3.735, 3.743, 3.963, 3.822, 3.604, 3.267, 3.173, 3.084, 2.926, 2.834, 2.694, 2.734, 2.732, 2.754, 2.897, 2.883, 2.821, 2.728, 2.785, 2.683, 2.717, 2.57, 2.586, 2.658, 2.589, 2.651, 2.304, 2.099, 2.011, 1.981, 1.824, 1.796, 2.274, 3.172, 3.759, 3.828, 4.105, 4.092, 3.826, 3.489, 3.285, 3.108, 3.143, 3.102, 3.119, 2.839, 2.802, 2.817, 2.986, 3.063, 3.092, 2.86, 2.592, 2.292, 2.317, 2.374, 2.261, 2.284, 2.642, 3.018, 3.032, 2.93, 2.961, 2.807, 2.457, 2.351, 2.414, 2.242, 2.318, 2.807, 3.046, 2.531, 2.339, 2.199, 2.203, 2.258, 2.09, 1.948, 1.896, 1.922, 2.027, 2.028, 1.91, 1.92, 1.963, 2.031, 1.996, 1.8, 1.756, 1.69, 1.629, 1.54, 1.562, 1.616, 1.711, 1.626, 1.535, 1.499, 1.51, 1.599, 1.684, 1.641, 1.511, 1.449, 1.465, 1.472, 1.426, 1.421, 1.403, 1.399, 1.421, 1.42, 1.25, 1.143, 1.146, 1.112, 1.185, 1.327, 1.457, 1.423, 1.481, 1.635, 1.666, 1.547, 1.435, 1.482, 1.471, 1.479, 1.531, 1.543, 1.557, 1.526, 1.604, 1.595, 1.502, 1.499, 1.543, 1.398, 1.327, 1.316, 1.288, 1.285, 1.265, 1.219, 1.157, 1.116, 1.123, 1.098, 0.983, 0.952, 0.971, 0.986, 1.029, 1.041, 1.026, 1.043, 1.063, 1.072, 1.078, 1.074, 1.069, 1.106, 1.147, 1.185, 1.221, 1.25, 1.282, 1.261, 1.215, 1.233, 1.237, 1.249, 1.27, 1.297, 1.305, 1.303, 1.281, 1.247, 1.24, 1.248, 1.268, 1.296, 1.315, 1.263, 1.171, 1.138, 1.14, 1.121, 1.123, 1.157, 1.183, 1.204, 1.236, 1.261, 1.234, 1.156, 1.132, 1.14, 1.152, 1.159, 1.122, 1.103, 1.118, 1.116, 1.073, 1.048, 1.021, 1.005, 0.994, 0.995, 0.987, 1.011, 1.048, 1.064, 1.031, 1.048, 1.064, 1.075, 1.071, 1.05], \"yaxis\": \"y\"}],\n",
       "                        {\"legend\": {\"tracegroupgap\": 0}, \"template\": {\"data\": {\"bar\": [{\"error_x\": {\"color\": \"#2a3f5f\"}, \"error_y\": {\"color\": \"#2a3f5f\"}, \"marker\": {\"line\": {\"color\": \"#E5ECF6\", \"width\": 0.5}}, \"type\": \"bar\"}], \"barpolar\": [{\"marker\": {\"line\": {\"color\": \"#E5ECF6\", \"width\": 0.5}}, \"type\": \"barpolar\"}], \"carpet\": [{\"aaxis\": {\"endlinecolor\": \"#2a3f5f\", \"gridcolor\": \"white\", \"linecolor\": \"white\", \"minorgridcolor\": \"white\", \"startlinecolor\": \"#2a3f5f\"}, \"baxis\": {\"endlinecolor\": \"#2a3f5f\", \"gridcolor\": \"white\", \"linecolor\": \"white\", \"minorgridcolor\": \"white\", \"startlinecolor\": \"#2a3f5f\"}, \"type\": \"carpet\"}], \"choropleth\": [{\"colorbar\": {\"outlinewidth\": 0, \"ticks\": \"\"}, \"type\": \"choropleth\"}], \"contour\": [{\"colorbar\": {\"outlinewidth\": 0, \"ticks\": \"\"}, \"colorscale\": [[0.0, \"#0d0887\"], [0.1111111111111111, \"#46039f\"], [0.2222222222222222, \"#7201a8\"], [0.3333333333333333, \"#9c179e\"], [0.4444444444444444, \"#bd3786\"], [0.5555555555555556, \"#d8576b\"], [0.6666666666666666, \"#ed7953\"], [0.7777777777777778, \"#fb9f3a\"], [0.8888888888888888, \"#fdca26\"], [1.0, \"#f0f921\"]], \"type\": \"contour\"}], \"contourcarpet\": [{\"colorbar\": {\"outlinewidth\": 0, \"ticks\": \"\"}, \"type\": \"contourcarpet\"}], \"heatmap\": [{\"colorbar\": {\"outlinewidth\": 0, \"ticks\": \"\"}, \"colorscale\": [[0.0, \"#0d0887\"], [0.1111111111111111, \"#46039f\"], [0.2222222222222222, \"#7201a8\"], [0.3333333333333333, \"#9c179e\"], [0.4444444444444444, \"#bd3786\"], [0.5555555555555556, \"#d8576b\"], [0.6666666666666666, \"#ed7953\"], [0.7777777777777778, \"#fb9f3a\"], [0.8888888888888888, \"#fdca26\"], [1.0, \"#f0f921\"]], \"type\": \"heatmap\"}], \"heatmapgl\": [{\"colorbar\": {\"outlinewidth\": 0, \"ticks\": \"\"}, \"colorscale\": [[0.0, \"#0d0887\"], [0.1111111111111111, \"#46039f\"], [0.2222222222222222, \"#7201a8\"], [0.3333333333333333, \"#9c179e\"], [0.4444444444444444, \"#bd3786\"], [0.5555555555555556, \"#d8576b\"], [0.6666666666666666, \"#ed7953\"], [0.7777777777777778, \"#fb9f3a\"], [0.8888888888888888, \"#fdca26\"], [1.0, \"#f0f921\"]], \"type\": \"heatmapgl\"}], \"histogram\": [{\"marker\": {\"colorbar\": {\"outlinewidth\": 0, \"ticks\": \"\"}}, \"type\": \"histogram\"}], \"histogram2d\": [{\"colorbar\": {\"outlinewidth\": 0, \"ticks\": \"\"}, \"colorscale\": [[0.0, \"#0d0887\"], [0.1111111111111111, \"#46039f\"], [0.2222222222222222, \"#7201a8\"], [0.3333333333333333, \"#9c179e\"], [0.4444444444444444, \"#bd3786\"], [0.5555555555555556, \"#d8576b\"], [0.6666666666666666, \"#ed7953\"], [0.7777777777777778, \"#fb9f3a\"], [0.8888888888888888, \"#fdca26\"], [1.0, \"#f0f921\"]], \"type\": \"histogram2d\"}], \"histogram2dcontour\": [{\"colorbar\": {\"outlinewidth\": 0, \"ticks\": \"\"}, \"colorscale\": [[0.0, \"#0d0887\"], [0.1111111111111111, \"#46039f\"], [0.2222222222222222, \"#7201a8\"], [0.3333333333333333, \"#9c179e\"], [0.4444444444444444, \"#bd3786\"], [0.5555555555555556, \"#d8576b\"], [0.6666666666666666, \"#ed7953\"], [0.7777777777777778, \"#fb9f3a\"], [0.8888888888888888, \"#fdca26\"], [1.0, \"#f0f921\"]], \"type\": \"histogram2dcontour\"}], \"mesh3d\": [{\"colorbar\": {\"outlinewidth\": 0, \"ticks\": \"\"}, \"type\": \"mesh3d\"}], \"parcoords\": [{\"line\": {\"colorbar\": {\"outlinewidth\": 0, \"ticks\": \"\"}}, \"type\": \"parcoords\"}], \"pie\": [{\"automargin\": true, \"type\": \"pie\"}], \"scatter\": [{\"marker\": {\"colorbar\": {\"outlinewidth\": 0, \"ticks\": \"\"}}, \"type\": \"scatter\"}], \"scatter3d\": [{\"line\": {\"colorbar\": {\"outlinewidth\": 0, \"ticks\": \"\"}}, \"marker\": {\"colorbar\": {\"outlinewidth\": 0, \"ticks\": \"\"}}, \"type\": \"scatter3d\"}], \"scattercarpet\": [{\"marker\": {\"colorbar\": {\"outlinewidth\": 0, \"ticks\": \"\"}}, \"type\": \"scattercarpet\"}], \"scattergeo\": [{\"marker\": {\"colorbar\": {\"outlinewidth\": 0, \"ticks\": \"\"}}, \"type\": \"scattergeo\"}], \"scattergl\": [{\"marker\": {\"colorbar\": {\"outlinewidth\": 0, \"ticks\": \"\"}}, \"type\": \"scattergl\"}], \"scattermapbox\": [{\"marker\": {\"colorbar\": {\"outlinewidth\": 0, \"ticks\": \"\"}}, \"type\": \"scattermapbox\"}], \"scatterpolar\": [{\"marker\": {\"colorbar\": {\"outlinewidth\": 0, \"ticks\": \"\"}}, \"type\": \"scatterpolar\"}], \"scatterpolargl\": [{\"marker\": {\"colorbar\": {\"outlinewidth\": 0, \"ticks\": \"\"}}, \"type\": \"scatterpolargl\"}], \"scatterternary\": [{\"marker\": {\"colorbar\": {\"outlinewidth\": 0, \"ticks\": \"\"}}, \"type\": \"scatterternary\"}], \"surface\": [{\"colorbar\": {\"outlinewidth\": 0, \"ticks\": \"\"}, \"colorscale\": [[0.0, \"#0d0887\"], [0.1111111111111111, \"#46039f\"], [0.2222222222222222, \"#7201a8\"], [0.3333333333333333, \"#9c179e\"], [0.4444444444444444, \"#bd3786\"], [0.5555555555555556, \"#d8576b\"], [0.6666666666666666, \"#ed7953\"], [0.7777777777777778, \"#fb9f3a\"], [0.8888888888888888, \"#fdca26\"], [1.0, \"#f0f921\"]], \"type\": \"surface\"}], \"table\": [{\"cells\": {\"fill\": {\"color\": \"#EBF0F8\"}, \"line\": {\"color\": \"white\"}}, \"header\": {\"fill\": {\"color\": \"#C8D4E3\"}, \"line\": {\"color\": \"white\"}}, \"type\": \"table\"}]}, \"layout\": {\"annotationdefaults\": {\"arrowcolor\": \"#2a3f5f\", \"arrowhead\": 0, \"arrowwidth\": 1}, \"coloraxis\": {\"colorbar\": {\"outlinewidth\": 0, \"ticks\": \"\"}}, \"colorscale\": {\"diverging\": [[0, \"#8e0152\"], [0.1, \"#c51b7d\"], [0.2, \"#de77ae\"], [0.3, \"#f1b6da\"], [0.4, \"#fde0ef\"], [0.5, \"#f7f7f7\"], [0.6, \"#e6f5d0\"], [0.7, \"#b8e186\"], [0.8, \"#7fbc41\"], [0.9, \"#4d9221\"], [1, \"#276419\"]], \"sequential\": [[0.0, \"#0d0887\"], [0.1111111111111111, \"#46039f\"], [0.2222222222222222, \"#7201a8\"], [0.3333333333333333, \"#9c179e\"], [0.4444444444444444, \"#bd3786\"], [0.5555555555555556, \"#d8576b\"], [0.6666666666666666, \"#ed7953\"], [0.7777777777777778, \"#fb9f3a\"], [0.8888888888888888, \"#fdca26\"], [1.0, \"#f0f921\"]], \"sequentialminus\": [[0.0, \"#0d0887\"], [0.1111111111111111, \"#46039f\"], [0.2222222222222222, \"#7201a8\"], [0.3333333333333333, \"#9c179e\"], [0.4444444444444444, \"#bd3786\"], [0.5555555555555556, \"#d8576b\"], [0.6666666666666666, \"#ed7953\"], [0.7777777777777778, \"#fb9f3a\"], [0.8888888888888888, \"#fdca26\"], [1.0, \"#f0f921\"]]}, \"colorway\": [\"#636efa\", \"#EF553B\", \"#00cc96\", \"#ab63fa\", \"#FFA15A\", \"#19d3f3\", \"#FF6692\", \"#B6E880\", \"#FF97FF\", \"#FECB52\"], \"font\": {\"color\": \"#2a3f5f\"}, \"geo\": {\"bgcolor\": \"white\", \"lakecolor\": \"white\", \"landcolor\": \"#E5ECF6\", \"showlakes\": true, \"showland\": true, \"subunitcolor\": \"white\"}, \"hoverlabel\": {\"align\": \"left\"}, \"hovermode\": \"closest\", \"mapbox\": {\"style\": \"light\"}, \"paper_bgcolor\": \"white\", \"plot_bgcolor\": \"#E5ECF6\", \"polar\": {\"angularaxis\": {\"gridcolor\": \"white\", \"linecolor\": \"white\", \"ticks\": \"\"}, \"bgcolor\": \"#E5ECF6\", \"radialaxis\": {\"gridcolor\": \"white\", \"linecolor\": \"white\", \"ticks\": \"\"}}, \"scene\": {\"xaxis\": {\"backgroundcolor\": \"#E5ECF6\", \"gridcolor\": \"white\", \"gridwidth\": 2, \"linecolor\": \"white\", \"showbackground\": true, \"ticks\": \"\", \"zerolinecolor\": \"white\"}, \"yaxis\": {\"backgroundcolor\": \"#E5ECF6\", \"gridcolor\": \"white\", \"gridwidth\": 2, \"linecolor\": \"white\", \"showbackground\": true, \"ticks\": \"\", \"zerolinecolor\": \"white\"}, \"zaxis\": {\"backgroundcolor\": \"#E5ECF6\", \"gridcolor\": \"white\", \"gridwidth\": 2, \"linecolor\": \"white\", \"showbackground\": true, \"ticks\": \"\", \"zerolinecolor\": \"white\"}}, \"shapedefaults\": {\"line\": {\"color\": \"#2a3f5f\"}}, \"ternary\": {\"aaxis\": {\"gridcolor\": \"white\", \"linecolor\": \"white\", \"ticks\": \"\"}, \"baxis\": {\"gridcolor\": \"white\", \"linecolor\": \"white\", \"ticks\": \"\"}, \"bgcolor\": \"#E5ECF6\", \"caxis\": {\"gridcolor\": \"white\", \"linecolor\": \"white\", \"ticks\": \"\"}}, \"title\": {\"x\": 0.05}, \"xaxis\": {\"automargin\": true, \"gridcolor\": \"white\", \"linecolor\": \"white\", \"ticks\": \"\", \"title\": {\"standoff\": 15}, \"zerolinecolor\": \"white\", \"zerolinewidth\": 2}, \"yaxis\": {\"automargin\": true, \"gridcolor\": \"white\", \"linecolor\": \"white\", \"ticks\": \"\", \"title\": {\"standoff\": 15}, \"zerolinecolor\": \"white\", \"zerolinewidth\": 2}}}, \"title\": {\"text\": \"East Coast All Grades All Formulations Retail Gasoline Prices, Monthly\"}, \"xaxis\": {\"anchor\": \"y\", \"domain\": [0.0, 1.0], \"title\": {\"text\": \"date\"}}, \"yaxis\": {\"anchor\": \"x\", \"domain\": [0.0, 1.0], \"title\": {\"text\": \"price\"}}},\n",
       "                        {\"responsive\": true}\n",
       "                    ).then(function(){\n",
       "                            \n",
       "var gd = document.getElementById('1d96996f-38ca-404b-a81c-a7abbbffab60');\n",
       "var x = new MutationObserver(function (mutations, observer) {{\n",
       "        var display = window.getComputedStyle(gd).display;\n",
       "        if (!display || display === 'none') {{\n",
       "            console.log([gd, 'removed!']);\n",
       "            Plotly.purge(gd);\n",
       "            observer.disconnect();\n",
       "        }}\n",
       "}});\n",
       "\n",
       "// Listen for the removal of the full notebook cells\n",
       "var notebookContainer = gd.closest('#notebook-container');\n",
       "if (notebookContainer) {{\n",
       "    x.observe(notebookContainer, {childList: true});\n",
       "}}\n",
       "\n",
       "// Listen for the clearing of the current output cell\n",
       "var outputEl = gd.closest('.output');\n",
       "if (outputEl) {{\n",
       "    x.observe(outputEl, {childList: true});\n",
       "}}\n",
       "\n",
       "                        })\n",
       "                };\n",
       "                });\n",
       "            </script>\n",
       "        </div>"
      ]
     },
     "metadata": {},
     "output_type": "display_data"
    }
   ],
   "source": [
    "# note chart title was grabbed from the JSON CALL :-) \n",
    "fig = px.line(prices_df, x=\"date\", y=\"price\", title=chart_title)\n",
    "fig.show()"
   ]
  },
  {
   "cell_type": "code",
   "execution_count": null,
   "metadata": {},
   "outputs": [],
   "source": []
  }
 ],
 "metadata": {
  "kernelspec": {
   "display_name": "Python 3",
   "language": "python",
   "name": "python3"
  },
  "language_info": {
   "codemirror_mode": {
    "name": "ipython",
    "version": 3
   },
   "file_extension": ".py",
   "mimetype": "text/x-python",
   "name": "python",
   "nbconvert_exporter": "python",
   "pygments_lexer": "ipython3",
   "version": "3.7.6"
  }
 },
 "nbformat": 4,
 "nbformat_minor": 4
}
