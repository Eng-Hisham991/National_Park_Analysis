{
 "cells": [
  {
   "cell_type": "code",
   "execution_count": 83,
   "metadata": {},
   "outputs": [],
   "source": [
    "import requests, json \n",
    "import matplotlib as plt \n",
    "import numpy as np, pandas as pd \n",
    "import os, time \n",
    "from census import Census\n",
    "import us\n",
    "from NPS_key import Api_key\n",
    "from Censuskey import census_api_key\n",
    "import plotly.express as px\n",
    "# from eia_api_keys import eia_Api_key\n",
    "\n",
    "from IPython.core.interactiveshell import InteractiveShell\n",
    "InteractiveShell.ast_node_interactivity = \"all\""
   ]
  },
  {
   "cell_type": "code",
   "execution_count": 14,
   "metadata": {},
   "outputs": [],
   "source": [
    "def convert(latlon):\n",
    "    latlon = (data[\"data\"][0][\"latLong\"])\n",
    "\n",
    "    lat,lon = latlon.split(\", \")\n",
    "\n",
    "    l, lat=lat.split(':')\n",
    "    l, lon=lon.split(':')\n",
    "\n",
    "    lat = float(lat)\n",
    "    lon = float(lon)\n",
    "    return([lat, lon])"
   ]
  },
  {
   "cell_type": "code",
   "execution_count": 28,
   "metadata": {},
   "outputs": [],
   "source": [
    "URL = 'https://irmaservices.nps.gov/v2/rest/unit/?states={*}&format=json'\n",
    "response = requests.get(URL).json()"
   ]
  },
  {
   "cell_type": "code",
   "execution_count": 22,
   "metadata": {},
   "outputs": [],
   "source": [
    "Parks=[]\n",
    "for i in range(len(response)):\n",
    "    park= response[i]['UnitCode']\n",
    "    Parks.append(park)"
   ]
  },
  {
   "cell_type": "code",
   "execution_count": 24,
   "metadata": {},
   "outputs": [
    {
     "name": "stdout",
     "output_type": "stream",
     "text": [
      "Chech the code...Skipping ADADMIN\n",
      "Chech the code...Skipping ADCR\n",
      "Chech the code...Skipping ADNM\n",
      "Chech the code...Skipping ADNRSS\n",
      "Chech the code...Skipping ADPIEVOR\n",
      "Chech the code...Skipping ADPPFL\n",
      "Chech the code...Skipping ADPSWD\n",
      "Chech the code...Skipping ADVRP\n",
      "Chech the code...Skipping AIVC\n",
      "Chech the code...Skipping AKEPMT\n",
      "Chech the code...Skipping AKLO\n",
      "Chech the code...Skipping AKR\n",
      "Chech the code...Skipping AKRO\n",
      "Chech the code...Skipping AKSO\n",
      "Chech the code...Skipping ALKA\n",
      "Chech the code...Skipping ANCH\n",
      "Chech the code...Skipping ANCM\n",
      "Chech the code...Skipping ANIG\n",
      "Chech the code...Skipping ANIP\n",
      "Chech the code...Skipping ANTC\n",
      "Chech the code...Skipping AOC\n",
      "Chech the code...Skipping APC-DEN\n",
      "Chech the code...Skipping APC-WASO\n",
      "Chech the code...Skipping APHN\n",
      "Chech the code...Skipping APLO\n",
      "Chech the code...Skipping AQI\n",
      "Chech the code...Skipping AQSY\n",
      "Chech the code...Skipping AQVI\n",
      "Chech the code...Skipping ARCN\n",
      "Chech the code...Skipping ARD\n",
      "Chech the code...Skipping ARRM\n",
      "Chech the code...Skipping BATT\n",
      "Chech the code...Skipping BCI\n",
      "Chech the code...Skipping BEAR\n",
      "Chech the code...Skipping BEFR\n",
      "Chech the code...Skipping BERI\n",
      "Chech the code...Skipping BIB\n",
      "Chech the code...Skipping BIHOEPMT\n",
      "Chech the code...Skipping BOSO\n",
      "Chech the code...Skipping BRD\n",
      "Chech the code...Skipping BRMD\n",
      "Chech the code...Skipping BWMP\n",
      "Chech the code...Skipping CAEPMT\n",
      "Chech the code...Skipping CAHE\n",
      "Chech the code...Skipping CAKN\n",
      "Chech the code...Skipping CALA\n",
      "Chech the code...Skipping CALI\n",
      "Chech the code...Skipping CATC\n",
      "Chech the code...Skipping CCRP\n",
      "Chech the code...Skipping CCSO\n",
      "Chech the code...Skipping CDSPEPMT\n",
      "Chech the code...Skipping CEHI\n",
      "Chech the code...Skipping CHDN\n",
      "Chech the code...Skipping CHPO\n",
      "Chech the code...Skipping CHRO\n",
      "Chech the code...Skipping CLI\n",
      "Chech the code...Skipping CLMO\n",
      "Chech the code...Skipping CMCO\n",
      "Chech the code...Skipping COAG\n",
      "Chech the code...Skipping CODA\n",
      "Chech the code...Skipping COLP\n",
      "Chech the code...Skipping COSW\n",
      "Chech the code...Skipping CPC\n",
      "Chech the code...Skipping CPEPMT\n",
      "Chech the code...Skipping CRCO\n",
      "Chech the code...Skipping CRGIS\n",
      "Chech the code...Skipping CRMG\n",
      "Chech the code...Skipping CRMP\n",
      "Chech the code...Skipping CRSS\n",
      "Chech the code...Skipping CUEC\n",
      "Chech the code...Skipping CUPN\n",
      "Chech the code...Skipping DELA\n",
      "Chech the code...Skipping DENG\n",
      "Chech the code...Skipping DENP\n",
      "Chech the code...Skipping DNIB\n",
      "Chech the code...Skipping DSC\n",
      "Chech the code...Skipping DWEI\n",
      "Chech the code...Skipping EAPO\n",
      "Chech the code...Skipping ELCA\n",
      "Chech the code...Skipping ELTE\n",
      "Chech the code...Skipping EMB\n",
      "Chech the code...Skipping EPCB\n",
      "Chech the code...Skipping EQD\n",
      "Chech the code...Skipping ERMN\n",
      "Chech the code...Skipping ERPB\n",
      "Chech the code...Skipping FABS\n",
      "Chech the code...Skipping FAMA\n",
      "Chech the code...Skipping FAPP\n",
      "Chech the code...Skipping FARC\n",
      "Chech the code...Skipping FARM\n",
      "Chech the code...Skipping FCAL\n",
      "Chech the code...Skipping FCAR\n",
      "Chech the code...Skipping FDES\n",
      "Chech the code...Skipping FDNC\n",
      "Chech the code...Skipping FDRM\n",
      "Chech the code...Skipping FETP\n",
      "Chech the code...Skipping FGBA\n",
      "Chech the code...Skipping FGCP\n",
      "Chech the code...Skipping FGNO\n",
      "Chech the code...Skipping FGPL\n",
      "Chech the code...Skipping FGUP\n",
      "Chech the code...Skipping FIEC\n",
      "Chech the code...Skipping FIRE\n",
      "Chech the code...Skipping FIVC\n",
      "Chech the code...Skipping FLCEPMT\n",
      "Chech the code...Skipping FMPL\n",
      "Chech the code...Skipping FNAT\n",
      "Chech the code...Skipping FNIF\n",
      "Chech the code...Skipping FNPA\n",
      "Chech the code...Skipping FOCA\n",
      "Chech the code...Skipping FOCI\n",
      "Chech the code...Skipping FOCL\n",
      "Chech the code...Skipping FODC\n",
      "Chech the code...Skipping FOMO\n",
      "Chech the code...Skipping FPFL\n",
      "Chech the code...Skipping FPIS\n",
      "Chech the code...Skipping FPPP\n",
      "Chech the code...Skipping FRED\n",
      "Chech the code...Skipping FRSC\n",
      "Chech the code...Skipping FSAT\n",
      "Chech the code...Skipping FSRO\n",
      "Chech the code...Skipping FUMW\n",
      "Chech the code...Skipping FWAK\n",
      "Chech the code...Skipping GAAG\n",
      "Chech the code...Skipping GAAP\n",
      "Chech the code...Skipping GCEPMT\n",
      "Chech the code...Skipping GEMM\n",
      "Chech the code...Skipping GETC\n",
      "Chech the code...Skipping GISD\n",
      "Chech the code...Skipping GLBG\n",
      "Chech the code...Skipping GLBP\n",
      "Chech the code...Skipping GLEPMT\n",
      "Chech the code...Skipping GLKN\n",
      "Chech the code...Skipping GLOR\n",
      "Chech the code...Skipping GRD\n",
      "Chech the code...Skipping GRDG\n",
      "Chech the code...Skipping GRDP\n",
      "Chech the code...Skipping GRI\n",
      "Chech the code...Skipping GRON\n",
      "Chech the code...Skipping GRYN\n",
      "Chech the code...Skipping GSRB\n",
      "Chech the code...Skipping GULN\n",
      "Chech the code...Skipping HDB\n",
      "Chech the code...Skipping HFC\n",
      "Chech the code...Skipping HFJC\n",
      "Chech the code...Skipping HICA\n",
      "Chech the code...Skipping HIST\n",
      "Chech the code...Skipping HOAL\n",
      "Chech the code...Skipping HPF\n",
      "Chech the code...Skipping HPTC\n",
      "Chech the code...Skipping HTLN\n",
      "Chech the code...Skipping HTLNEPMT\n",
      "Chech the code...Skipping IATR\n",
      "Chech the code...Skipping ICAG\n",
      "Chech the code...Skipping ILMI\n",
      "Chech the code...Skipping IMCRC\n",
      "Chech the code...Skipping IMD\n",
      "Chech the code...Skipping IMDE\n",
      "Chech the code...Skipping IMDP\n",
      "Chech the code...Skipping IMR\n",
      "Chech the code...Skipping IMRO\n",
      "Chech the code...Skipping IMSF\n",
      "Chech the code...Skipping INPE\n",
      "Chech the code...Skipping ITC\n",
      "Chech the code...Skipping JEFM\n",
      "Chech the code...Skipping JEME\n",
      "Chech the code...Skipping JODR\n",
      "Chech the code...Skipping JOER\n",
      "Chech the code...Skipping JOFK\n",
      "Chech the code...Skipping JUBA\n",
      "Chech the code...Skipping KATG\n",
      "Chech the code...Skipping KATP\n",
      "Chech the code...Skipping KENI\n",
      "Chech the code...Skipping KEPA\n",
      "Chech the code...Skipping KICA\n",
      "Chech the code...Skipping KLMN\n",
      "Chech the code...Skipping KWVM\n",
      "Chech the code...Skipping LACG\n",
      "Chech the code...Skipping LACH\n",
      "Chech the code...Skipping LACP\n",
      "Chech the code...Skipping LAFO\n",
      "Chech the code...Skipping LAKA\n",
      "Chech the code...Skipping LAKEEPMT\n",
      "Chech the code...Skipping LAME\n",
      "Chech the code...Skipping LAMEEPMT\n",
      "Chech the code...Skipping LAMP\n",
      "Chech the code...Skipping LANDS\n",
      "Chech the code...Skipping LBME\n",
      "Chech the code...Skipping LIME\n",
      "Chech the code...Skipping LODI\n",
      "Chech the code...Skipping LODT\n",
      "Chech the code...Skipping LOSA\n",
      "Chech the code...Skipping LRAB\n",
      "Chech the code...Skipping MAAL\n",
      "Chech the code...Skipping MABE\n",
      "Chech the code...Skipping MAEPMT\n",
      "Chech the code...Skipping MAHE\n",
      "Chech the code...Skipping MALL\n",
      "Chech the code...Skipping MALW\n",
      "Chech the code...Skipping MASI\n",
      "Chech the code...Skipping MAUR\n",
      "Chech the code...Skipping MCHO\n",
      "Chech the code...Skipping MCR\n",
      "Chech the code...Skipping MEAF\n",
      "Chech the code...Skipping MEDN\n",
      "Chech the code...Skipping MEHI\n",
      "Chech the code...Skipping MICU\n",
      "Chech the code...Skipping MIDN\n",
      "Chech the code...Skipping MOJN\n",
      "Chech the code...Skipping MOPI\n",
      "Chech the code...Skipping MRCC\n",
      "Chech the code...Skipping MTSO\n",
      "Chech the code...Skipping MWAC\n",
      "Chech the code...Skipping MWR\n",
      "Chech the code...Skipping MWRO\n",
      "Chech the code...Skipping MWSO\n",
      "Chech the code...Skipping NACA\n",
      "Chech the code...Skipping NACC\n",
      "Chech the code...Skipping NACP\n",
      "Chech the code...Skipping NACRC\n",
      "Chech the code...Skipping NAGPRA\n",
      "Chech the code...Skipping NAVY\n",
      "Chech the code...Skipping NCBN\n",
      "Chech the code...Skipping NCCN\n",
      "Chech the code...Skipping NCCNEPMT\n",
      "Chech the code...Skipping NCCO\n",
      "Chech the code...Skipping NCCRSPP\n",
      "Chech the code...Skipping NCPN\n",
      "Chech the code...Skipping NCPT\n",
      "Chech the code...Skipping NCR\n",
      "Chech the code...Skipping NCREPMT\n",
      "Chech the code...Skipping NCRN\n",
      "Chech the code...Skipping NCRO\n",
      "Chech the code...Skipping NCSO\n",
      "Chech the code...Skipping NECRC\n",
      "Chech the code...Skipping NEEPMT\n",
      "Chech the code...Skipping NEJE\n",
      "Chech the code...Skipping NELO\n",
      "Chech the code...Skipping NEPEEPMT\n",
      "Chech the code...Skipping NER\n",
      "Chech the code...Skipping NERO\n",
      "Chech the code...Skipping NETN\n",
      "Chech the code...Skipping NGPEPMT\n",
      "Chech the code...Skipping NGPN\n",
      "Chech the code...Skipping NIFC\n",
      "Chech the code...Skipping NIMI\n",
      "Chech the code...Skipping NLEM\n",
      "Chech the code...Skipping NMSC\n",
      "Chech the code...Skipping NNL\n",
      "Chech the code...Skipping NOCO\n",
      "Chech the code...Skipping NPS\n",
      "Chech the code...Skipping NPS-DIR\n",
      "Chech the code...Skipping NPS-EEO\n",
      "Chech the code...Skipping NPS-EOP\n",
      "Chech the code...Skipping NPS-OAIL\n",
      "Chech the code...Skipping NPS-OEA\n",
      "Chech the code...Skipping NPS-OIA\n",
      "Chech the code...Skipping NPS-OLCA\n",
      "Chech the code...Skipping NPS-OPAT\n",
      "Chech the code...Skipping NPS-OSP\n",
      "Chech the code...Skipping NRID\n",
      "Chech the code...Skipping NRIM\n"
     ]
    },
    {
     "name": "stdout",
     "output_type": "stream",
     "text": [
      "Chech the code...Skipping NRLO\n",
      "Chech the code...Skipping NRMEPMT\n",
      "Chech the code...Skipping NRPC-DEN\n",
      "Chech the code...Skipping NRPC-FC\n",
      "Chech the code...Skipping NRSS\n",
      "Chech the code...Skipping NSNN\n",
      "Chech the code...Skipping NSNS\n",
      "Chech the code...Skipping NSNSD\n",
      "Chech the code...Skipping NTIR\n",
      "Chech the code...Skipping NTSF\n",
      "Chech the code...Skipping NTSL\n",
      "Chech the code...Skipping NWAK\n",
      "Chech the code...Skipping OBF\n",
      "Chech the code...Skipping OBRI\n",
      "Chech the code...Skipping OCJO\n",
      "Chech the code...Skipping OCRB\n",
      "Chech the code...Skipping OEO\n",
      "Chech the code...Skipping OFIE\n",
      "Chech the code...Skipping OIME\n",
      "Chech the code...Skipping OLSP\n",
      "Chech the code...Skipping OLST\n",
      "Chech the code...Skipping OMLA\n",
      "Chech the code...Skipping ONRIS\n",
      "Chech the code...Skipping OOPS\n",
      "Chech the code...Skipping OPOT\n",
      "Chech the code...Skipping ORCG\n",
      "Chech the code...Skipping ORCP\n",
      "Chech the code...Skipping OREG\n",
      "Chech the code...Skipping OXCO\n",
      "Chech the code...Skipping OXON\n",
      "Chech the code...Skipping OXRU\n",
      "Chech the code...Skipping PACN\n",
      "Chech the code...Skipping PERL\n",
      "Chech the code...Skipping PGSO\n",
      "Chech the code...Skipping PHSO\n",
      "Chech the code...Skipping PIEPMT\n",
      "Chech the code...Skipping PIHALAEPMT\n",
      "Chech the code...Skipping PIHAVOEPMT\n",
      "Chech the code...Skipping PIMI\n",
      "Chech the code...Skipping PISO\n",
      "Chech the code...Skipping PLIN\n",
      "Chech the code...Skipping POEX\n",
      "Chech the code...Skipping POGR\n",
      "Chech the code...Skipping PPPR\n",
      "Chech the code...Skipping PRES\n",
      "Chech the code...Skipping PRPA\n",
      "Chech the code...Skipping PWR\n",
      "Chech the code...Skipping PWRO\n",
      "Chech the code...Skipping QUSH\n",
      "Chech the code...Skipping RAB\n",
      "Chech the code...Skipping ROLA\n",
      "Chech the code...Skipping ROMN\n",
      "Chech the code...Skipping ROSI\n",
      "Chech the code...Skipping ROVA\n",
      "Chech the code...Skipping RRBH\n",
      "Chech the code...Skipping RTCA\n",
      "Chech the code...Skipping SAFE\n",
      "Chech the code...Skipping SCPN\n",
      "Chech the code...Skipping SCRC\n",
      "Chech the code...Skipping SEAC\n",
      "Chech the code...Skipping SEAN\n",
      "Chech the code...Skipping SEBE\n",
      "Chech the code...Skipping SECEPMT\n",
      "Chech the code...Skipping SECN\n",
      "Chech the code...Skipping SEEPMT\n",
      "Chech the code...Skipping SELO\n",
      "Chech the code...Skipping SEQU\n",
      "Chech the code...Skipping SER\n",
      "Chech the code...Skipping SERO\n",
      "Chech the code...Skipping SESO\n",
      "Chech the code...Skipping SFAN\n",
      "Chech the code...Skipping SFCN\n",
      "Chech the code...Skipping SHIC\n",
      "Chech the code...Skipping SHNC\n",
      "Chech the code...Skipping SIEN\n",
      "Chech the code...Skipping SLI\n",
      "Chech the code...Skipping SOAR\n",
      "Chech the code...Skipping SOD\n",
      "Chech the code...Skipping SODN\n",
      "Chech the code...Skipping SOPN\n",
      "Chech the code...Skipping SPCO\n",
      "Chech the code...Skipping SRI\n",
      "Chech the code...Skipping SRNC\n",
      "Chech the code...Skipping SSB\n",
      "Chech the code...Skipping STMA\n",
      "Chech the code...Skipping STRC\n",
      "Chech the code...Skipping SUAS\n",
      "Chech the code...Skipping SUIT\n",
      "Chech the code...Skipping SUPA\n",
      "Chech the code...Skipping SWAN\n",
      "Chech the code...Skipping SWEPMT\n",
      "Chech the code...Skipping TRTE\n",
      "Chech the code...Skipping UCBN\n",
      "Chech the code...Skipping UNST\n",
      "Chech the code...Skipping USAR\n",
      "Chech the code...Skipping USNM\n",
      "Chech the code...Skipping USPP\n",
      "Chech the code...Skipping VICC\n",
      "Chech the code...Skipping VINC\n",
      "Chech the code...Skipping VIWO\n",
      "Chech the code...Skipping VMI\n",
      "Chech the code...Skipping VVME\n",
      "Chech the code...Skipping WACC\n",
      "Chech the code...Skipping WAHA\n",
      "Chech the code...Skipping WALA\n",
      "Chech the code...Skipping WARI\n",
      "Chech the code...Skipping WARO\n",
      "Chech the code...Skipping WASH\n",
      "Chech the code...Skipping WASP\n",
      "Chech the code...Skipping WATC\n",
      "Chech the code...Skipping WBI\n",
      "Chech the code...Skipping WCB\n",
      "Chech the code...Skipping WEAR\n",
      "Chech the code...Skipping WEPO\n",
      "Chech the code...Skipping WHB\n",
      "Chech the code...Skipping WHVC\n",
      "Chech the code...Skipping WIBR\n",
      "Chech the code...Skipping WQI\n",
      "Chech the code...Skipping WRD\n",
      "Chech the code...Skipping WRSG\n",
      "Chech the code...Skipping WRSP\n",
      "Chech the code...Skipping WSD\n",
      "Chech the code...Skipping YONB\n",
      "Chech the code...Skipping ZUCI\n"
     ]
    }
   ],
   "source": [
    "fd=[]\n",
    "for park in Parks:\n",
    "    url = f\"https://developer.nps.gov/api/v1/parks?parkCode={park}&api_key={Api_key}\"\n",
    "    try:\n",
    "        data = requests.get(url).json()\n",
    "        l_l = convert(data[\"data\"][0][\"latLong\"])\n",
    "        state = data[\"data\"][0]['states']\n",
    "        fd.append([park, data[\"data\"][0][\"fullName\"], l_l[0], l_l[1], state])\n",
    "    except:\n",
    "        print(f\"Chech the code...Skipping {park}\")"
   ]
  },
  {
   "cell_type": "code",
   "execution_count": 26,
   "metadata": {},
   "outputs": [
    {
     "data": {
      "text/html": [
       "<div>\n",
       "<style scoped>\n",
       "    .dataframe tbody tr th:only-of-type {\n",
       "        vertical-align: middle;\n",
       "    }\n",
       "\n",
       "    .dataframe tbody tr th {\n",
       "        vertical-align: top;\n",
       "    }\n",
       "\n",
       "    .dataframe thead th {\n",
       "        text-align: right;\n",
       "    }\n",
       "</style>\n",
       "<table border=\"1\" class=\"dataframe\">\n",
       "  <thead>\n",
       "    <tr style=\"text-align: right;\">\n",
       "      <th></th>\n",
       "      <th>ParkCode</th>\n",
       "      <th>Full Name</th>\n",
       "      <th>Lat</th>\n",
       "      <th>Lon</th>\n",
       "      <th>State</th>\n",
       "    </tr>\n",
       "  </thead>\n",
       "  <tbody>\n",
       "    <tr>\n",
       "      <td>0</td>\n",
       "      <td>ABLI</td>\n",
       "      <td>Abraham Lincoln Birthplace National Historical...</td>\n",
       "      <td>37.585866</td>\n",
       "      <td>-85.673305</td>\n",
       "      <td>KY</td>\n",
       "    </tr>\n",
       "    <tr>\n",
       "      <td>1</td>\n",
       "      <td>ACAD</td>\n",
       "      <td>Acadia National Park</td>\n",
       "      <td>44.307775</td>\n",
       "      <td>-68.300633</td>\n",
       "      <td>ME</td>\n",
       "    </tr>\n",
       "    <tr>\n",
       "      <td>2</td>\n",
       "      <td>ADAM</td>\n",
       "      <td>Adams National Historical Park</td>\n",
       "      <td>42.255396</td>\n",
       "      <td>-71.011604</td>\n",
       "      <td>MA</td>\n",
       "    </tr>\n",
       "    <tr>\n",
       "      <td>3</td>\n",
       "      <td>AFAM</td>\n",
       "      <td>African American Civil War Memorial</td>\n",
       "      <td>38.916554</td>\n",
       "      <td>-77.025977</td>\n",
       "      <td>DC</td>\n",
       "    </tr>\n",
       "    <tr>\n",
       "      <td>4</td>\n",
       "      <td>AFBG</td>\n",
       "      <td>African Burial Ground National Monument</td>\n",
       "      <td>40.714527</td>\n",
       "      <td>-74.004474</td>\n",
       "      <td>NY</td>\n",
       "    </tr>\n",
       "    <tr>\n",
       "      <td>...</td>\n",
       "      <td>...</td>\n",
       "      <td>...</td>\n",
       "      <td>...</td>\n",
       "      <td>...</td>\n",
       "      <td>...</td>\n",
       "    </tr>\n",
       "    <tr>\n",
       "      <td>440</td>\n",
       "      <td>YORK</td>\n",
       "      <td>Yorktown Battlefield Part of Colonial National...</td>\n",
       "      <td>37.386232</td>\n",
       "      <td>-76.299007</td>\n",
       "      <td>VA</td>\n",
       "    </tr>\n",
       "    <tr>\n",
       "      <td>441</td>\n",
       "      <td>YOSE</td>\n",
       "      <td>Yosemite National Park</td>\n",
       "      <td>37.848833</td>\n",
       "      <td>-119.557187</td>\n",
       "      <td>CA</td>\n",
       "    </tr>\n",
       "    <tr>\n",
       "      <td>442</td>\n",
       "      <td>YUCH</td>\n",
       "      <td>Yukon - Charley Rivers National Preserve</td>\n",
       "      <td>65.093561</td>\n",
       "      <td>-142.796002</td>\n",
       "      <td>AK</td>\n",
       "    </tr>\n",
       "    <tr>\n",
       "      <td>443</td>\n",
       "      <td>YUHO</td>\n",
       "      <td>Yucca House National Monument</td>\n",
       "      <td>37.247789</td>\n",
       "      <td>-108.686127</td>\n",
       "      <td>CO</td>\n",
       "    </tr>\n",
       "    <tr>\n",
       "      <td>444</td>\n",
       "      <td>ZION</td>\n",
       "      <td>Zion National Park</td>\n",
       "      <td>37.298393</td>\n",
       "      <td>-113.026514</td>\n",
       "      <td>UT</td>\n",
       "    </tr>\n",
       "  </tbody>\n",
       "</table>\n",
       "<p>445 rows × 5 columns</p>\n",
       "</div>"
      ],
      "text/plain": [
       "    ParkCode                                          Full Name        Lat  \\\n",
       "0       ABLI  Abraham Lincoln Birthplace National Historical...  37.585866   \n",
       "1       ACAD                               Acadia National Park  44.307775   \n",
       "2       ADAM                     Adams National Historical Park  42.255396   \n",
       "3       AFAM                African American Civil War Memorial  38.916554   \n",
       "4       AFBG            African Burial Ground National Monument  40.714527   \n",
       "..       ...                                                ...        ...   \n",
       "440     YORK  Yorktown Battlefield Part of Colonial National...  37.386232   \n",
       "441     YOSE                             Yosemite National Park  37.848833   \n",
       "442     YUCH           Yukon - Charley Rivers National Preserve  65.093561   \n",
       "443     YUHO                      Yucca House National Monument  37.247789   \n",
       "444     ZION                                 Zion National Park  37.298393   \n",
       "\n",
       "            Lon State  \n",
       "0    -85.673305    KY  \n",
       "1    -68.300633    ME  \n",
       "2    -71.011604    MA  \n",
       "3    -77.025977    DC  \n",
       "4    -74.004474    NY  \n",
       "..          ...   ...  \n",
       "440  -76.299007    VA  \n",
       "441 -119.557187    CA  \n",
       "442 -142.796002    AK  \n",
       "443 -108.686127    CO  \n",
       "444 -113.026514    UT  \n",
       "\n",
       "[445 rows x 5 columns]"
      ]
     },
     "execution_count": 26,
     "metadata": {},
     "output_type": "execute_result"
    }
   ],
   "source": [
    "park_df= pd.DataFrame(fd, columns=['ParkCode', 'Full Name', 'Lat', 'Lon', 'State'])\n",
    "park_df"
   ]
  },
  {
   "cell_type": "code",
   "execution_count": 143,
   "metadata": {},
   "outputs": [
    {
     "data": {
      "text/html": [
       "<div>\n",
       "<style scoped>\n",
       "    .dataframe tbody tr th:only-of-type {\n",
       "        vertical-align: middle;\n",
       "    }\n",
       "\n",
       "    .dataframe tbody tr th {\n",
       "        vertical-align: top;\n",
       "    }\n",
       "\n",
       "    .dataframe thead th {\n",
       "        text-align: right;\n",
       "    }\n",
       "</style>\n",
       "<table border=\"1\" class=\"dataframe\">\n",
       "  <thead>\n",
       "    <tr style=\"text-align: right;\">\n",
       "      <th></th>\n",
       "      <th>ParkCode</th>\n",
       "      <th>Full Name</th>\n",
       "      <th>Lat</th>\n",
       "      <th>Lon</th>\n",
       "      <th>State</th>\n",
       "    </tr>\n",
       "  </thead>\n",
       "  <tbody>\n",
       "    <tr>\n",
       "      <td>0</td>\n",
       "      <td>ABLI</td>\n",
       "      <td>Abraham Lincoln Birthplace National Historical...</td>\n",
       "      <td>37.585866</td>\n",
       "      <td>-85.673305</td>\n",
       "      <td>KY</td>\n",
       "    </tr>\n",
       "    <tr>\n",
       "      <td>1</td>\n",
       "      <td>ACAD</td>\n",
       "      <td>Acadia National Park</td>\n",
       "      <td>44.307775</td>\n",
       "      <td>-68.300633</td>\n",
       "      <td>ME</td>\n",
       "    </tr>\n",
       "    <tr>\n",
       "      <td>2</td>\n",
       "      <td>ADAM</td>\n",
       "      <td>Adams National Historical Park</td>\n",
       "      <td>42.255396</td>\n",
       "      <td>-71.011604</td>\n",
       "      <td>MA</td>\n",
       "    </tr>\n",
       "    <tr>\n",
       "      <td>3</td>\n",
       "      <td>AFAM</td>\n",
       "      <td>African American Civil War Memorial</td>\n",
       "      <td>38.916554</td>\n",
       "      <td>-77.025977</td>\n",
       "      <td>DC</td>\n",
       "    </tr>\n",
       "    <tr>\n",
       "      <td>4</td>\n",
       "      <td>AFBG</td>\n",
       "      <td>African Burial Ground National Monument</td>\n",
       "      <td>40.714527</td>\n",
       "      <td>-74.004474</td>\n",
       "      <td>NY</td>\n",
       "    </tr>\n",
       "    <tr>\n",
       "      <td>...</td>\n",
       "      <td>...</td>\n",
       "      <td>...</td>\n",
       "      <td>...</td>\n",
       "      <td>...</td>\n",
       "      <td>...</td>\n",
       "    </tr>\n",
       "    <tr>\n",
       "      <td>441</td>\n",
       "      <td>YOSE</td>\n",
       "      <td>Yosemite National Park</td>\n",
       "      <td>37.848833</td>\n",
       "      <td>-119.557187</td>\n",
       "      <td>CA</td>\n",
       "    </tr>\n",
       "    <tr>\n",
       "      <td>442</td>\n",
       "      <td>YUCH</td>\n",
       "      <td>Yukon - Charley Rivers National Preserve</td>\n",
       "      <td>65.093561</td>\n",
       "      <td>-142.796002</td>\n",
       "      <td>AK</td>\n",
       "    </tr>\n",
       "    <tr>\n",
       "      <td>443</td>\n",
       "      <td>YUHO</td>\n",
       "      <td>Yucca House National Monument</td>\n",
       "      <td>37.247789</td>\n",
       "      <td>-108.686127</td>\n",
       "      <td>CO</td>\n",
       "    </tr>\n",
       "    <tr>\n",
       "      <td>444</td>\n",
       "      <td>ZION</td>\n",
       "      <td>Zion National Park</td>\n",
       "      <td>37.298393</td>\n",
       "      <td>-113.026514</td>\n",
       "      <td>UT</td>\n",
       "    </tr>\n",
       "    <tr>\n",
       "      <td>445</td>\n",
       "      <td>frst</td>\n",
       "      <td>First State National Historical Park</td>\n",
       "      <td>39.830769</td>\n",
       "      <td>-75.563539</td>\n",
       "      <td>DE</td>\n",
       "    </tr>\n",
       "  </tbody>\n",
       "</table>\n",
       "<p>446 rows × 5 columns</p>\n",
       "</div>"
      ],
      "text/plain": [
       "    ParkCode                                          Full Name        Lat  \\\n",
       "0       ABLI  Abraham Lincoln Birthplace National Historical...  37.585866   \n",
       "1       ACAD                               Acadia National Park  44.307775   \n",
       "2       ADAM                     Adams National Historical Park  42.255396   \n",
       "3       AFAM                African American Civil War Memorial  38.916554   \n",
       "4       AFBG            African Burial Ground National Monument  40.714527   \n",
       "..       ...                                                ...        ...   \n",
       "441     YOSE                             Yosemite National Park  37.848833   \n",
       "442     YUCH           Yukon - Charley Rivers National Preserve  65.093561   \n",
       "443     YUHO                      Yucca House National Monument  37.247789   \n",
       "444     ZION                                 Zion National Park  37.298393   \n",
       "445     frst               First State National Historical Park  39.830769   \n",
       "\n",
       "            Lon State  \n",
       "0    -85.673305    KY  \n",
       "1    -68.300633    ME  \n",
       "2    -71.011604    MA  \n",
       "3    -77.025977    DC  \n",
       "4    -74.004474    NY  \n",
       "..          ...   ...  \n",
       "441 -119.557187    CA  \n",
       "442 -142.796002    AK  \n",
       "443 -108.686127    CO  \n",
       "444 -113.026514    UT  \n",
       "445  -75.563539    DE  \n",
       "\n",
       "[446 rows x 5 columns]"
      ]
     },
     "execution_count": 143,
     "metadata": {},
     "output_type": "execute_result"
    }
   ],
   "source": [
    "#Data for DE state was missing. Added from CSV.\n",
    "# DE= pd.read_csv(\"DELWARE.csv\") \n",
    "# de= DE\n",
    "PF= park_df\n",
    "de1['Full Name']= 'First State National Historical Park'\n",
    "de1['Lat']= 39.830769\n",
    "de1['Lon']= -75.563539\n",
    "de1['State']= 'DE'\n",
    "de1= de1[['ParkCode', 'Full Name', 'Lat', 'Lon', 'State']]\n",
    "# Concatenate DElaware state info to park_df\n",
    "park_DF= park_df.append(de1, ignore_index=True)\n",
    "park_DF"
   ]
  },
  {
   "cell_type": "code",
   "execution_count": 149,
   "metadata": {},
   "outputs": [],
   "source": [
    "# Visitors Data\n",
    "vis_Data= []\n",
    "startmonth= 1\n",
    "startyear= 2019\n",
    "endmonth= 12\n",
    "endyear= 2019\n",
    "\n",
    "for code in park_DF['ParkCode']:\n",
    "    try:\n",
    "        URL = f'https://irmaservices.nps.gov/v3/rest/stats/visitation?unitCodes={code}&startMonth={startmonth}&startYear={startyear}&endMonth={endmonth}&endYear={endyear}&format=json'\n",
    "        res_visit = requests.get(URL).json()\n",
    "        for month in range(0,len(res_visit)):\n",
    "            vis_Data.append([code, month, res_visit[month]['RecreationVisitors']])\n",
    "    except:\n",
    "        print('Please check the codes above. Skipping....')\n",
    "    \n"
   ]
  },
  {
   "cell_type": "code",
   "execution_count": 151,
   "metadata": {},
   "outputs": [
    {
     "data": {
      "text/html": [
       "<div>\n",
       "<style scoped>\n",
       "    .dataframe tbody tr th:only-of-type {\n",
       "        vertical-align: middle;\n",
       "    }\n",
       "\n",
       "    .dataframe tbody tr th {\n",
       "        vertical-align: top;\n",
       "    }\n",
       "\n",
       "    .dataframe thead th {\n",
       "        text-align: right;\n",
       "    }\n",
       "</style>\n",
       "<table border=\"1\" class=\"dataframe\">\n",
       "  <thead>\n",
       "    <tr style=\"text-align: right;\">\n",
       "      <th></th>\n",
       "      <th>ParkCode</th>\n",
       "      <th>Month</th>\n",
       "      <th>Visitors</th>\n",
       "    </tr>\n",
       "  </thead>\n",
       "  <tbody>\n",
       "    <tr>\n",
       "      <td>0</td>\n",
       "      <td>ABLI</td>\n",
       "      <td>1</td>\n",
       "      <td>1939</td>\n",
       "    </tr>\n",
       "    <tr>\n",
       "      <td>1</td>\n",
       "      <td>ABLI</td>\n",
       "      <td>2</td>\n",
       "      <td>6534</td>\n",
       "    </tr>\n",
       "    <tr>\n",
       "      <td>2</td>\n",
       "      <td>ABLI</td>\n",
       "      <td>3</td>\n",
       "      <td>14566</td>\n",
       "    </tr>\n",
       "    <tr>\n",
       "      <td>3</td>\n",
       "      <td>ABLI</td>\n",
       "      <td>4</td>\n",
       "      <td>16496</td>\n",
       "    </tr>\n",
       "    <tr>\n",
       "      <td>4</td>\n",
       "      <td>ABLI</td>\n",
       "      <td>5</td>\n",
       "      <td>24646</td>\n",
       "    </tr>\n",
       "    <tr>\n",
       "      <td>...</td>\n",
       "      <td>...</td>\n",
       "      <td>...</td>\n",
       "      <td>...</td>\n",
       "    </tr>\n",
       "    <tr>\n",
       "      <td>4399</td>\n",
       "      <td>ZION</td>\n",
       "      <td>8</td>\n",
       "      <td>535322</td>\n",
       "    </tr>\n",
       "    <tr>\n",
       "      <td>4400</td>\n",
       "      <td>ZION</td>\n",
       "      <td>9</td>\n",
       "      <td>497443</td>\n",
       "    </tr>\n",
       "    <tr>\n",
       "      <td>4401</td>\n",
       "      <td>ZION</td>\n",
       "      <td>10</td>\n",
       "      <td>429604</td>\n",
       "    </tr>\n",
       "    <tr>\n",
       "      <td>4402</td>\n",
       "      <td>ZION</td>\n",
       "      <td>11</td>\n",
       "      <td>230180</td>\n",
       "    </tr>\n",
       "    <tr>\n",
       "      <td>4403</td>\n",
       "      <td>ZION</td>\n",
       "      <td>12</td>\n",
       "      <td>171706</td>\n",
       "    </tr>\n",
       "  </tbody>\n",
       "</table>\n",
       "<p>4404 rows × 3 columns</p>\n",
       "</div>"
      ],
      "text/plain": [
       "     ParkCode  Month  Visitors\n",
       "0        ABLI      1      1939\n",
       "1        ABLI      2      6534\n",
       "2        ABLI      3     14566\n",
       "3        ABLI      4     16496\n",
       "4        ABLI      5     24646\n",
       "...       ...    ...       ...\n",
       "4399     ZION      8    535322\n",
       "4400     ZION      9    497443\n",
       "4401     ZION     10    429604\n",
       "4402     ZION     11    230180\n",
       "4403     ZION     12    171706\n",
       "\n",
       "[4404 rows x 3 columns]"
      ]
     },
     "execution_count": 151,
     "metadata": {},
     "output_type": "execute_result"
    }
   ],
   "source": [
    "columns= ['ParkCode', 'Month', 'Visitors']\n",
    "Visitors_Data= pd.DataFrame(vis_Data, columns=columns)\n",
    "s= pd.DataFrame()\n",
    "mm= {0:1, 1:2, 2:3, 3:4, 4:5, 5:6, 6:7, 7:8, 8:9, 9:10, 10:11, 11:12}\n",
    "s['Hello'] = Visitors_Data['Month'].map(mm).fillna(Visitors_Data['Month'])\n",
    "Visitors_Data['Month']= s['Hello']\n",
    "Visitors_Data"
   ]
  },
  {
   "cell_type": "code",
   "execution_count": 154,
   "metadata": {},
   "outputs": [
    {
     "data": {
      "text/html": [
       "<div>\n",
       "<style scoped>\n",
       "    .dataframe tbody tr th:only-of-type {\n",
       "        vertical-align: middle;\n",
       "    }\n",
       "\n",
       "    .dataframe tbody tr th {\n",
       "        vertical-align: top;\n",
       "    }\n",
       "\n",
       "    .dataframe thead th {\n",
       "        text-align: right;\n",
       "    }\n",
       "</style>\n",
       "<table border=\"1\" class=\"dataframe\">\n",
       "  <thead>\n",
       "    <tr style=\"text-align: right;\">\n",
       "      <th></th>\n",
       "      <th>ParkCode</th>\n",
       "      <th>Month</th>\n",
       "      <th>Total Visitors</th>\n",
       "    </tr>\n",
       "  </thead>\n",
       "  <tbody>\n",
       "    <tr>\n",
       "      <td>0</td>\n",
       "      <td>ABLI</td>\n",
       "      <td>1</td>\n",
       "      <td>10212361</td>\n",
       "    </tr>\n",
       "    <tr>\n",
       "      <td>1</td>\n",
       "      <td>ABLI</td>\n",
       "      <td>2</td>\n",
       "      <td>12927163</td>\n",
       "    </tr>\n",
       "    <tr>\n",
       "      <td>2</td>\n",
       "      <td>ABLI</td>\n",
       "      <td>3</td>\n",
       "      <td>20698590</td>\n",
       "    </tr>\n",
       "    <tr>\n",
       "      <td>3</td>\n",
       "      <td>ABLI</td>\n",
       "      <td>4</td>\n",
       "      <td>26131016</td>\n",
       "    </tr>\n",
       "    <tr>\n",
       "      <td>4</td>\n",
       "      <td>ABLI</td>\n",
       "      <td>5</td>\n",
       "      <td>31066774</td>\n",
       "    </tr>\n",
       "    <tr>\n",
       "      <td>...</td>\n",
       "      <td>...</td>\n",
       "      <td>...</td>\n",
       "      <td>...</td>\n",
       "    </tr>\n",
       "    <tr>\n",
       "      <td>4399</td>\n",
       "      <td>ZION</td>\n",
       "      <td>8</td>\n",
       "      <td>39287542</td>\n",
       "    </tr>\n",
       "    <tr>\n",
       "      <td>4400</td>\n",
       "      <td>ZION</td>\n",
       "      <td>9</td>\n",
       "      <td>31349153</td>\n",
       "    </tr>\n",
       "    <tr>\n",
       "      <td>4401</td>\n",
       "      <td>ZION</td>\n",
       "      <td>10</td>\n",
       "      <td>26646960</td>\n",
       "    </tr>\n",
       "    <tr>\n",
       "      <td>4402</td>\n",
       "      <td>ZION</td>\n",
       "      <td>11</td>\n",
       "      <td>18794009</td>\n",
       "    </tr>\n",
       "    <tr>\n",
       "      <td>4403</td>\n",
       "      <td>ZION</td>\n",
       "      <td>12</td>\n",
       "      <td>15199421</td>\n",
       "    </tr>\n",
       "  </tbody>\n",
       "</table>\n",
       "<p>4404 rows × 3 columns</p>\n",
       "</div>"
      ],
      "text/plain": [
       "     ParkCode  Month  Total Visitors\n",
       "0        ABLI      1        10212361\n",
       "1        ABLI      2        12927163\n",
       "2        ABLI      3        20698590\n",
       "3        ABLI      4        26131016\n",
       "4        ABLI      5        31066774\n",
       "...       ...    ...             ...\n",
       "4399     ZION      8        39287542\n",
       "4400     ZION      9        31349153\n",
       "4401     ZION     10        26646960\n",
       "4402     ZION     11        18794009\n",
       "4403     ZION     12        15199421\n",
       "\n",
       "[4404 rows x 3 columns]"
      ]
     },
     "execution_count": 154,
     "metadata": {},
     "output_type": "execute_result"
    }
   ],
   "source": [
    "Total= []\n",
    "for i in Visitors_Data['Month']:\n",
    "    R= Visitors_Data.loc[(Visitors_Data['Month']== i) , 'Visitors'].sum(axis=0)\n",
    "    Total.append(R)\n",
    "Visitors_Data['Total Visitors']= Total\n",
    "# del Visitors_Data['Visitors']\n",
    "Visitors_Data"
   ]
  },
  {
   "cell_type": "markdown",
   "metadata": {},
   "source": [
    "# Merging the parks & visitors data."
   ]
  },
  {
   "cell_type": "code",
   "execution_count": 165,
   "metadata": {},
   "outputs": [
    {
     "data": {
      "text/html": [
       "<div>\n",
       "<style scoped>\n",
       "    .dataframe tbody tr th:only-of-type {\n",
       "        vertical-align: middle;\n",
       "    }\n",
       "\n",
       "    .dataframe tbody tr th {\n",
       "        vertical-align: top;\n",
       "    }\n",
       "\n",
       "    .dataframe thead th {\n",
       "        text-align: right;\n",
       "    }\n",
       "</style>\n",
       "<table border=\"1\" class=\"dataframe\">\n",
       "  <thead>\n",
       "    <tr style=\"text-align: right;\">\n",
       "      <th></th>\n",
       "      <th>ParkCode</th>\n",
       "      <th>Month</th>\n",
       "      <th>Total Visitors</th>\n",
       "      <th>Full Name</th>\n",
       "      <th>Lat</th>\n",
       "      <th>Lon</th>\n",
       "      <th>State</th>\n",
       "    </tr>\n",
       "  </thead>\n",
       "  <tbody>\n",
       "    <tr>\n",
       "      <td>0</td>\n",
       "      <td>ABLI</td>\n",
       "      <td>1</td>\n",
       "      <td>10212361</td>\n",
       "      <td>Abraham Lincoln Birthplace National Historical...</td>\n",
       "      <td>37.585866</td>\n",
       "      <td>-85.673305</td>\n",
       "      <td>KY</td>\n",
       "    </tr>\n",
       "    <tr>\n",
       "      <td>1</td>\n",
       "      <td>ABLI</td>\n",
       "      <td>2</td>\n",
       "      <td>12927163</td>\n",
       "      <td>Abraham Lincoln Birthplace National Historical...</td>\n",
       "      <td>37.585866</td>\n",
       "      <td>-85.673305</td>\n",
       "      <td>KY</td>\n",
       "    </tr>\n",
       "    <tr>\n",
       "      <td>2</td>\n",
       "      <td>ABLI</td>\n",
       "      <td>3</td>\n",
       "      <td>20698590</td>\n",
       "      <td>Abraham Lincoln Birthplace National Historical...</td>\n",
       "      <td>37.585866</td>\n",
       "      <td>-85.673305</td>\n",
       "      <td>KY</td>\n",
       "    </tr>\n",
       "    <tr>\n",
       "      <td>3</td>\n",
       "      <td>ABLI</td>\n",
       "      <td>4</td>\n",
       "      <td>26131016</td>\n",
       "      <td>Abraham Lincoln Birthplace National Historical...</td>\n",
       "      <td>37.585866</td>\n",
       "      <td>-85.673305</td>\n",
       "      <td>KY</td>\n",
       "    </tr>\n",
       "    <tr>\n",
       "      <td>4</td>\n",
       "      <td>ABLI</td>\n",
       "      <td>5</td>\n",
       "      <td>31066774</td>\n",
       "      <td>Abraham Lincoln Birthplace National Historical...</td>\n",
       "      <td>37.585866</td>\n",
       "      <td>-85.673305</td>\n",
       "      <td>KY</td>\n",
       "    </tr>\n",
       "    <tr>\n",
       "      <td>...</td>\n",
       "      <td>...</td>\n",
       "      <td>...</td>\n",
       "      <td>...</td>\n",
       "      <td>...</td>\n",
       "      <td>...</td>\n",
       "      <td>...</td>\n",
       "      <td>...</td>\n",
       "    </tr>\n",
       "    <tr>\n",
       "      <td>4399</td>\n",
       "      <td>ZION</td>\n",
       "      <td>8</td>\n",
       "      <td>39287542</td>\n",
       "      <td>Zion National Park</td>\n",
       "      <td>37.298393</td>\n",
       "      <td>-113.026514</td>\n",
       "      <td>UT</td>\n",
       "    </tr>\n",
       "    <tr>\n",
       "      <td>4400</td>\n",
       "      <td>ZION</td>\n",
       "      <td>9</td>\n",
       "      <td>31349153</td>\n",
       "      <td>Zion National Park</td>\n",
       "      <td>37.298393</td>\n",
       "      <td>-113.026514</td>\n",
       "      <td>UT</td>\n",
       "    </tr>\n",
       "    <tr>\n",
       "      <td>4401</td>\n",
       "      <td>ZION</td>\n",
       "      <td>10</td>\n",
       "      <td>26646960</td>\n",
       "      <td>Zion National Park</td>\n",
       "      <td>37.298393</td>\n",
       "      <td>-113.026514</td>\n",
       "      <td>UT</td>\n",
       "    </tr>\n",
       "    <tr>\n",
       "      <td>4402</td>\n",
       "      <td>ZION</td>\n",
       "      <td>11</td>\n",
       "      <td>18794009</td>\n",
       "      <td>Zion National Park</td>\n",
       "      <td>37.298393</td>\n",
       "      <td>-113.026514</td>\n",
       "      <td>UT</td>\n",
       "    </tr>\n",
       "    <tr>\n",
       "      <td>4403</td>\n",
       "      <td>ZION</td>\n",
       "      <td>12</td>\n",
       "      <td>15199421</td>\n",
       "      <td>Zion National Park</td>\n",
       "      <td>37.298393</td>\n",
       "      <td>-113.026514</td>\n",
       "      <td>UT</td>\n",
       "    </tr>\n",
       "  </tbody>\n",
       "</table>\n",
       "<p>4404 rows × 7 columns</p>\n",
       "</div>"
      ],
      "text/plain": [
       "     ParkCode  Month  Total Visitors  \\\n",
       "0        ABLI      1        10212361   \n",
       "1        ABLI      2        12927163   \n",
       "2        ABLI      3        20698590   \n",
       "3        ABLI      4        26131016   \n",
       "4        ABLI      5        31066774   \n",
       "...       ...    ...             ...   \n",
       "4399     ZION      8        39287542   \n",
       "4400     ZION      9        31349153   \n",
       "4401     ZION     10        26646960   \n",
       "4402     ZION     11        18794009   \n",
       "4403     ZION     12        15199421   \n",
       "\n",
       "                                              Full Name        Lat  \\\n",
       "0     Abraham Lincoln Birthplace National Historical...  37.585866   \n",
       "1     Abraham Lincoln Birthplace National Historical...  37.585866   \n",
       "2     Abraham Lincoln Birthplace National Historical...  37.585866   \n",
       "3     Abraham Lincoln Birthplace National Historical...  37.585866   \n",
       "4     Abraham Lincoln Birthplace National Historical...  37.585866   \n",
       "...                                                 ...        ...   \n",
       "4399                                 Zion National Park  37.298393   \n",
       "4400                                 Zion National Park  37.298393   \n",
       "4401                                 Zion National Park  37.298393   \n",
       "4402                                 Zion National Park  37.298393   \n",
       "4403                                 Zion National Park  37.298393   \n",
       "\n",
       "             Lon State  \n",
       "0     -85.673305    KY  \n",
       "1     -85.673305    KY  \n",
       "2     -85.673305    KY  \n",
       "3     -85.673305    KY  \n",
       "4     -85.673305    KY  \n",
       "...          ...   ...  \n",
       "4399 -113.026514    UT  \n",
       "4400 -113.026514    UT  \n",
       "4401 -113.026514    UT  \n",
       "4402 -113.026514    UT  \n",
       "4403 -113.026514    UT  \n",
       "\n",
       "[4404 rows x 7 columns]"
      ]
     },
     "execution_count": 165,
     "metadata": {},
     "output_type": "execute_result"
    }
   ],
   "source": [
    "# Parks data:\n",
    "# park_DF\n",
    "\n",
    "# Visitors data:\n",
    "# Visitors_Data\n",
    "\n",
    "# Merge the above together:\n",
    "US_VIS_PAR_Data= Visitors_Data.merge(park_DF, on='ParkCode', how='left')\n",
    "# Visitors_MW_Data_DF= Visitors_MW_Data_df.rename(columns={'State':'StateCode'})\n",
    "# Visitors_MW_Data_df.to_csv(\"./Parks_NW_full_data.csv\", encoding=\"utf-8\", index=True)\n",
    "US_VIS_PAR_Data.to_csv('./Final_US_VIS_PAR_Data', encoding='utf-8', index= True)\n",
    "US_VIS_PAR_Data"
   ]
  },
  {
   "cell_type": "markdown",
   "metadata": {},
   "source": [
    "# Census & centroids Data"
   ]
  },
  {
   "cell_type": "code",
   "execution_count": 171,
   "metadata": {},
   "outputs": [
    {
     "data": {
      "text/html": [
       "<div>\n",
       "<style scoped>\n",
       "    .dataframe tbody tr th:only-of-type {\n",
       "        vertical-align: middle;\n",
       "    }\n",
       "\n",
       "    .dataframe tbody tr th {\n",
       "        vertical-align: top;\n",
       "    }\n",
       "\n",
       "    .dataframe thead th {\n",
       "        text-align: right;\n",
       "    }\n",
       "</style>\n",
       "<table border=\"1\" class=\"dataframe\">\n",
       "  <thead>\n",
       "    <tr style=\"text-align: right;\">\n",
       "      <th></th>\n",
       "      <th>Name</th>\n",
       "      <th>Household Income</th>\n",
       "      <th>Population</th>\n",
       "      <th>Median Age</th>\n",
       "      <th>Per Capita Income</th>\n",
       "      <th>Poverty Count</th>\n",
       "      <th>Unemployment Count</th>\n",
       "      <th>State</th>\n",
       "    </tr>\n",
       "  </thead>\n",
       "  <tbody>\n",
       "    <tr>\n",
       "      <td>0</td>\n",
       "      <td>Puerto Rico</td>\n",
       "      <td>19775.0</td>\n",
       "      <td>3468963.0</td>\n",
       "      <td>40.1</td>\n",
       "      <td>12081.0</td>\n",
       "      <td>1543220.0</td>\n",
       "      <td>220597.0</td>\n",
       "      <td>72</td>\n",
       "    </tr>\n",
       "    <tr>\n",
       "      <td>1</td>\n",
       "      <td>Alabama</td>\n",
       "      <td>46472.0</td>\n",
       "      <td>4850771.0</td>\n",
       "      <td>38.7</td>\n",
       "      <td>25746.0</td>\n",
       "      <td>849699.0</td>\n",
       "      <td>165391.0</td>\n",
       "      <td>1</td>\n",
       "    </tr>\n",
       "    <tr>\n",
       "      <td>2</td>\n",
       "      <td>Alaska</td>\n",
       "      <td>76114.0</td>\n",
       "      <td>738565.0</td>\n",
       "      <td>33.9</td>\n",
       "      <td>35065.0</td>\n",
       "      <td>73380.0</td>\n",
       "      <td>29548.0</td>\n",
       "      <td>2</td>\n",
       "    </tr>\n",
       "    <tr>\n",
       "      <td>3</td>\n",
       "      <td>Arizona</td>\n",
       "      <td>53510.0</td>\n",
       "      <td>6809946.0</td>\n",
       "      <td>37.2</td>\n",
       "      <td>27964.0</td>\n",
       "      <td>1128046.0</td>\n",
       "      <td>225911.0</td>\n",
       "      <td>4</td>\n",
       "    </tr>\n",
       "    <tr>\n",
       "      <td>4</td>\n",
       "      <td>Arkansas</td>\n",
       "      <td>43813.0</td>\n",
       "      <td>2977944.0</td>\n",
       "      <td>37.9</td>\n",
       "      <td>24426.0</td>\n",
       "      <td>524211.0</td>\n",
       "      <td>85128.0</td>\n",
       "      <td>5</td>\n",
       "    </tr>\n",
       "  </tbody>\n",
       "</table>\n",
       "</div>"
      ],
      "text/plain": [
       "          Name  Household Income  Population  Median Age  Per Capita Income  \\\n",
       "0  Puerto Rico           19775.0   3468963.0        40.1            12081.0   \n",
       "1      Alabama           46472.0   4850771.0        38.7            25746.0   \n",
       "2       Alaska           76114.0    738565.0        33.9            35065.0   \n",
       "3      Arizona           53510.0   6809946.0        37.2            27964.0   \n",
       "4     Arkansas           43813.0   2977944.0        37.9            24426.0   \n",
       "\n",
       "   Poverty Count  Unemployment Count  State  \n",
       "0      1543220.0            220597.0     72  \n",
       "1       849699.0            165391.0      1  \n",
       "2        73380.0             29548.0      2  \n",
       "3      1128046.0            225911.0      4  \n",
       "4       524211.0             85128.0      5  "
      ]
     },
     "execution_count": 171,
     "metadata": {},
     "output_type": "execute_result"
    }
   ],
   "source": [
    "# Import the saved census data from a csv file.\n",
    "A= pd.read_csv('.Census_data_whole_US.csv') \n",
    "A.head()"
   ]
  },
  {
   "cell_type": "code",
   "execution_count": 174,
   "metadata": {},
   "outputs": [
    {
     "data": {
      "text/html": [
       "<div>\n",
       "<style scoped>\n",
       "    .dataframe tbody tr th:only-of-type {\n",
       "        vertical-align: middle;\n",
       "    }\n",
       "\n",
       "    .dataframe tbody tr th {\n",
       "        vertical-align: top;\n",
       "    }\n",
       "\n",
       "    .dataframe thead th {\n",
       "        text-align: right;\n",
       "    }\n",
       "</style>\n",
       "<table border=\"1\" class=\"dataframe\">\n",
       "  <thead>\n",
       "    <tr style=\"text-align: right;\">\n",
       "      <th></th>\n",
       "      <th>Name</th>\n",
       "      <th>Population</th>\n",
       "    </tr>\n",
       "  </thead>\n",
       "  <tbody>\n",
       "    <tr>\n",
       "      <td>0</td>\n",
       "      <td>Puerto Rico</td>\n",
       "      <td>3468963.0</td>\n",
       "    </tr>\n",
       "    <tr>\n",
       "      <td>1</td>\n",
       "      <td>Alabama</td>\n",
       "      <td>4850771.0</td>\n",
       "    </tr>\n",
       "    <tr>\n",
       "      <td>2</td>\n",
       "      <td>Alaska</td>\n",
       "      <td>738565.0</td>\n",
       "    </tr>\n",
       "    <tr>\n",
       "      <td>3</td>\n",
       "      <td>Arizona</td>\n",
       "      <td>6809946.0</td>\n",
       "    </tr>\n",
       "    <tr>\n",
       "      <td>4</td>\n",
       "      <td>Arkansas</td>\n",
       "      <td>2977944.0</td>\n",
       "    </tr>\n",
       "  </tbody>\n",
       "</table>\n",
       "</div>"
      ],
      "text/plain": [
       "          Name  Population\n",
       "0  Puerto Rico   3468963.0\n",
       "1      Alabama   4850771.0\n",
       "2       Alaska    738565.0\n",
       "3      Arizona   6809946.0\n",
       "4     Arkansas   2977944.0"
      ]
     },
     "execution_count": 174,
     "metadata": {},
     "output_type": "execute_result"
    }
   ],
   "source": [
    "# To get the needed data from census data, we need to create a new dataframe and copy the needed data from \n",
    "# the census data to it.\n",
    "cens_data_cus= pd.DataFrame()\n",
    "cens_data_cus= A[['Name', 'Population']].copy()\n",
    "cens_data_cus.head()"
   ]
  },
  {
   "cell_type": "code",
   "execution_count": 179,
   "metadata": {},
   "outputs": [
    {
     "data": {
      "text/html": [
       "<div>\n",
       "<style scoped>\n",
       "    .dataframe tbody tr th:only-of-type {\n",
       "        vertical-align: middle;\n",
       "    }\n",
       "\n",
       "    .dataframe tbody tr th {\n",
       "        vertical-align: top;\n",
       "    }\n",
       "\n",
       "    .dataframe thead th {\n",
       "        text-align: right;\n",
       "    }\n",
       "</style>\n",
       "<table border=\"1\" class=\"dataframe\">\n",
       "  <thead>\n",
       "    <tr style=\"text-align: right;\">\n",
       "      <th></th>\n",
       "      <th>Name</th>\n",
       "      <th>Latitude</th>\n",
       "      <th>Longitude</th>\n",
       "    </tr>\n",
       "  </thead>\n",
       "  <tbody>\n",
       "    <tr>\n",
       "      <td>0</td>\n",
       "      <td>Alabama</td>\n",
       "      <td>32.7794</td>\n",
       "      <td>-86.8287</td>\n",
       "    </tr>\n",
       "    <tr>\n",
       "      <td>1</td>\n",
       "      <td>Alaska</td>\n",
       "      <td>64.0685</td>\n",
       "      <td>-152.2782</td>\n",
       "    </tr>\n",
       "    <tr>\n",
       "      <td>2</td>\n",
       "      <td>Arizona</td>\n",
       "      <td>34.2744</td>\n",
       "      <td>-111.6602</td>\n",
       "    </tr>\n",
       "    <tr>\n",
       "      <td>3</td>\n",
       "      <td>Arkansas</td>\n",
       "      <td>34.8938</td>\n",
       "      <td>-92.4426</td>\n",
       "    </tr>\n",
       "    <tr>\n",
       "      <td>4</td>\n",
       "      <td>California</td>\n",
       "      <td>37.1841</td>\n",
       "      <td>-119.4696</td>\n",
       "    </tr>\n",
       "  </tbody>\n",
       "</table>\n",
       "</div>"
      ],
      "text/plain": [
       "         Name  Latitude  Longitude\n",
       "0     Alabama   32.7794   -86.8287\n",
       "1      Alaska   64.0685  -152.2782\n",
       "2     Arizona   34.2744  -111.6602\n",
       "3    Arkansas   34.8938   -92.4426\n",
       "4  California   37.1841  -119.4696"
      ]
     },
     "execution_count": 179,
     "metadata": {},
     "output_type": "execute_result"
    }
   ],
   "source": [
    "# Import the centroids data from saved csv file.\n",
    "B= pd.read_csv(\"./state_centroids.csv\")\n",
    "B= B.rename(columns={'State': 'Name'})\n",
    "B.head()"
   ]
  },
  {
   "cell_type": "code",
   "execution_count": 181,
   "metadata": {},
   "outputs": [
    {
     "data": {
      "text/html": [
       "<div>\n",
       "<style scoped>\n",
       "    .dataframe tbody tr th:only-of-type {\n",
       "        vertical-align: middle;\n",
       "    }\n",
       "\n",
       "    .dataframe tbody tr th {\n",
       "        vertical-align: top;\n",
       "    }\n",
       "\n",
       "    .dataframe thead th {\n",
       "        text-align: right;\n",
       "    }\n",
       "</style>\n",
       "<table border=\"1\" class=\"dataframe\">\n",
       "  <thead>\n",
       "    <tr style=\"text-align: right;\">\n",
       "      <th></th>\n",
       "      <th>Name</th>\n",
       "      <th>Latitude</th>\n",
       "      <th>Longitude</th>\n",
       "      <th>Population</th>\n",
       "    </tr>\n",
       "  </thead>\n",
       "  <tbody>\n",
       "    <tr>\n",
       "      <td>0</td>\n",
       "      <td>Alabama</td>\n",
       "      <td>32.7794</td>\n",
       "      <td>-86.8287</td>\n",
       "      <td>4850771.0</td>\n",
       "    </tr>\n",
       "    <tr>\n",
       "      <td>1</td>\n",
       "      <td>Alaska</td>\n",
       "      <td>64.0685</td>\n",
       "      <td>-152.2782</td>\n",
       "      <td>738565.0</td>\n",
       "    </tr>\n",
       "    <tr>\n",
       "      <td>2</td>\n",
       "      <td>Arizona</td>\n",
       "      <td>34.2744</td>\n",
       "      <td>-111.6602</td>\n",
       "      <td>6809946.0</td>\n",
       "    </tr>\n",
       "    <tr>\n",
       "      <td>3</td>\n",
       "      <td>Arkansas</td>\n",
       "      <td>34.8938</td>\n",
       "      <td>-92.4426</td>\n",
       "      <td>2977944.0</td>\n",
       "    </tr>\n",
       "    <tr>\n",
       "      <td>4</td>\n",
       "      <td>California</td>\n",
       "      <td>37.1841</td>\n",
       "      <td>-119.4696</td>\n",
       "      <td>38982847.0</td>\n",
       "    </tr>\n",
       "  </tbody>\n",
       "</table>\n",
       "</div>"
      ],
      "text/plain": [
       "         Name  Latitude  Longitude  Population\n",
       "0     Alabama   32.7794   -86.8287   4850771.0\n",
       "1      Alaska   64.0685  -152.2782    738565.0\n",
       "2     Arizona   34.2744  -111.6602   6809946.0\n",
       "3    Arkansas   34.8938   -92.4426   2977944.0\n",
       "4  California   37.1841  -119.4696  38982847.0"
      ]
     },
     "execution_count": 181,
     "metadata": {},
     "output_type": "execute_result"
    }
   ],
   "source": [
    "# Merge the customized census data with centroids data.\n",
    "cens_centr_data = pd.merge(B, cens_data_cus, how=\"left\", on=\"Name\")\n",
    "cens_centr_data.head()"
   ]
  },
  {
   "cell_type": "code",
   "execution_count": 182,
   "metadata": {},
   "outputs": [],
   "source": [
    "# State Abbrev.\n",
    "us_state_abbrev = {\n",
    "'Alabama': 'AL', 'Alaska': 'AK', 'Arizona': 'AZ', 'Arkansas': 'AR', 'California': 'CA', 'Colorado': 'CO',\n",
    "'Connecticut': 'CT', 'Delaware': 'DE', 'Florida': 'FL', 'Georgia': 'GA', 'Hawaii': 'HI', 'Idaho': 'ID',\n",
    "'Illinois': 'IL', 'Indiana': 'IN', 'Iowa': 'IA', 'Kansas': 'KS', 'Kentucky': 'KY', 'Louisiana': 'LA',\n",
    "'Maine': 'ME', 'Maryland': 'MD', 'Massachusetts': 'MA', 'Michigan': 'MI', 'Minnesota': 'MN', 'Mississippi': 'MS',\n",
    "'Missouri': 'MO', 'Montana': 'MT', 'Nebraska': 'NE', 'Nevada': 'NV', 'New Hampshire': 'NH', 'New Jersey': 'NJ',\n",
    "'New Mexico': 'NM', 'New York': 'NY', 'North Carolina': 'NC', 'North Dakota': 'ND', 'Ohio': 'OH', 'Oklahoma': 'OK',\n",
    "'Oregon': 'OR', 'Pennsylvania': 'PA', 'Rhode Island': 'RI', 'South Carolina': 'SC', 'South Dakota': 'SD',\n",
    "'Tennessee': 'TN', 'Texas': 'TX', 'Utah': 'UT', 'Vermont': 'VT', 'Virginia': 'VA', 'Washington': 'WA',\n",
    "'West Virginia': 'WV', 'Wisconsin': 'WI', 'Wyoming': 'WY'}"
   ]
  },
  {
   "cell_type": "code",
   "execution_count": 184,
   "metadata": {},
   "outputs": [
    {
     "data": {
      "text/html": [
       "<div>\n",
       "<style scoped>\n",
       "    .dataframe tbody tr th:only-of-type {\n",
       "        vertical-align: middle;\n",
       "    }\n",
       "\n",
       "    .dataframe tbody tr th {\n",
       "        vertical-align: top;\n",
       "    }\n",
       "\n",
       "    .dataframe thead th {\n",
       "        text-align: right;\n",
       "    }\n",
       "</style>\n",
       "<table border=\"1\" class=\"dataframe\">\n",
       "  <thead>\n",
       "    <tr style=\"text-align: right;\">\n",
       "      <th></th>\n",
       "      <th>Name</th>\n",
       "      <th>Latitude</th>\n",
       "      <th>Longitude</th>\n",
       "      <th>Population</th>\n",
       "      <th>State</th>\n",
       "    </tr>\n",
       "  </thead>\n",
       "  <tbody>\n",
       "    <tr>\n",
       "      <td>0</td>\n",
       "      <td>Alabama</td>\n",
       "      <td>32.7794</td>\n",
       "      <td>-86.8287</td>\n",
       "      <td>4850771.0</td>\n",
       "      <td>AL</td>\n",
       "    </tr>\n",
       "    <tr>\n",
       "      <td>1</td>\n",
       "      <td>Alaska</td>\n",
       "      <td>64.0685</td>\n",
       "      <td>-152.2782</td>\n",
       "      <td>738565.0</td>\n",
       "      <td>AK</td>\n",
       "    </tr>\n",
       "    <tr>\n",
       "      <td>2</td>\n",
       "      <td>Arizona</td>\n",
       "      <td>34.2744</td>\n",
       "      <td>-111.6602</td>\n",
       "      <td>6809946.0</td>\n",
       "      <td>AZ</td>\n",
       "    </tr>\n",
       "    <tr>\n",
       "      <td>3</td>\n",
       "      <td>Arkansas</td>\n",
       "      <td>34.8938</td>\n",
       "      <td>-92.4426</td>\n",
       "      <td>2977944.0</td>\n",
       "      <td>AR</td>\n",
       "    </tr>\n",
       "    <tr>\n",
       "      <td>4</td>\n",
       "      <td>California</td>\n",
       "      <td>37.1841</td>\n",
       "      <td>-119.4696</td>\n",
       "      <td>38982847.0</td>\n",
       "      <td>CA</td>\n",
       "    </tr>\n",
       "  </tbody>\n",
       "</table>\n",
       "</div>"
      ],
      "text/plain": [
       "         Name  Latitude  Longitude  Population State\n",
       "0     Alabama   32.7794   -86.8287   4850771.0    AL\n",
       "1      Alaska   64.0685  -152.2782    738565.0    AK\n",
       "2     Arizona   34.2744  -111.6602   6809946.0    AZ\n",
       "3    Arkansas   34.8938   -92.4426   2977944.0    AR\n",
       "4  California   37.1841  -119.4696  38982847.0    CA"
      ]
     },
     "execution_count": 184,
     "metadata": {},
     "output_type": "execute_result"
    }
   ],
   "source": [
    "# Create new column in cens_centr_data and map the state abbrev. to it.\n",
    "cens_centr_data['State'] = cens_centr_data['Name'].map(us_state_abbrev).fillna(cens_centr_data['Name'])\n",
    "\n",
    "#Save the edited dataframe to a csv file;\n",
    "cens_centr_data.to_csv('./Final_census_centroids_data', encoding='utf-8', index= True)\n",
    "cens_centr_data.head()"
   ]
  },
  {
   "cell_type": "markdown",
   "metadata": {},
   "source": [
    "##  Merge US_VIS_PAR_Data with cens_cent_data"
   ]
  },
  {
   "cell_type": "code",
   "execution_count": 210,
   "metadata": {},
   "outputs": [
    {
     "data": {
      "text/html": [
       "<div>\n",
       "<style scoped>\n",
       "    .dataframe tbody tr th:only-of-type {\n",
       "        vertical-align: middle;\n",
       "    }\n",
       "\n",
       "    .dataframe tbody tr th {\n",
       "        vertical-align: top;\n",
       "    }\n",
       "\n",
       "    .dataframe thead th {\n",
       "        text-align: right;\n",
       "    }\n",
       "</style>\n",
       "<table border=\"1\" class=\"dataframe\">\n",
       "  <thead>\n",
       "    <tr style=\"text-align: right;\">\n",
       "      <th></th>\n",
       "      <th>Month</th>\n",
       "      <th>ParkCode</th>\n",
       "      <th>Full Name</th>\n",
       "      <th>Lat</th>\n",
       "      <th>Lon</th>\n",
       "      <th>State Code</th>\n",
       "      <th>Name</th>\n",
       "      <th>Latitude</th>\n",
       "      <th>Longitude</th>\n",
       "      <th>Total Visitors</th>\n",
       "      <th>Population</th>\n",
       "    </tr>\n",
       "  </thead>\n",
       "  <tbody>\n",
       "    <tr>\n",
       "      <td>4399</td>\n",
       "      <td>8</td>\n",
       "      <td>ZION</td>\n",
       "      <td>Zion National Park</td>\n",
       "      <td>37.298393</td>\n",
       "      <td>-113.026514</td>\n",
       "      <td>UT</td>\n",
       "      <td>Utah</td>\n",
       "      <td>39.3055</td>\n",
       "      <td>-111.6703</td>\n",
       "      <td>39287542</td>\n",
       "      <td>2993941.0</td>\n",
       "    </tr>\n",
       "    <tr>\n",
       "      <td>4400</td>\n",
       "      <td>9</td>\n",
       "      <td>ZION</td>\n",
       "      <td>Zion National Park</td>\n",
       "      <td>37.298393</td>\n",
       "      <td>-113.026514</td>\n",
       "      <td>UT</td>\n",
       "      <td>Utah</td>\n",
       "      <td>39.3055</td>\n",
       "      <td>-111.6703</td>\n",
       "      <td>31349153</td>\n",
       "      <td>2993941.0</td>\n",
       "    </tr>\n",
       "    <tr>\n",
       "      <td>4401</td>\n",
       "      <td>10</td>\n",
       "      <td>ZION</td>\n",
       "      <td>Zion National Park</td>\n",
       "      <td>37.298393</td>\n",
       "      <td>-113.026514</td>\n",
       "      <td>UT</td>\n",
       "      <td>Utah</td>\n",
       "      <td>39.3055</td>\n",
       "      <td>-111.6703</td>\n",
       "      <td>26646960</td>\n",
       "      <td>2993941.0</td>\n",
       "    </tr>\n",
       "    <tr>\n",
       "      <td>4402</td>\n",
       "      <td>11</td>\n",
       "      <td>ZION</td>\n",
       "      <td>Zion National Park</td>\n",
       "      <td>37.298393</td>\n",
       "      <td>-113.026514</td>\n",
       "      <td>UT</td>\n",
       "      <td>Utah</td>\n",
       "      <td>39.3055</td>\n",
       "      <td>-111.6703</td>\n",
       "      <td>18794009</td>\n",
       "      <td>2993941.0</td>\n",
       "    </tr>\n",
       "    <tr>\n",
       "      <td>4403</td>\n",
       "      <td>12</td>\n",
       "      <td>ZION</td>\n",
       "      <td>Zion National Park</td>\n",
       "      <td>37.298393</td>\n",
       "      <td>-113.026514</td>\n",
       "      <td>UT</td>\n",
       "      <td>Utah</td>\n",
       "      <td>39.3055</td>\n",
       "      <td>-111.6703</td>\n",
       "      <td>15199421</td>\n",
       "      <td>2993941.0</td>\n",
       "    </tr>\n",
       "  </tbody>\n",
       "</table>\n",
       "</div>"
      ],
      "text/plain": [
       "      Month ParkCode           Full Name        Lat         Lon State Code  \\\n",
       "4399      8     ZION  Zion National Park  37.298393 -113.026514         UT   \n",
       "4400      9     ZION  Zion National Park  37.298393 -113.026514         UT   \n",
       "4401     10     ZION  Zion National Park  37.298393 -113.026514         UT   \n",
       "4402     11     ZION  Zion National Park  37.298393 -113.026514         UT   \n",
       "4403     12     ZION  Zion National Park  37.298393 -113.026514         UT   \n",
       "\n",
       "      Name  Latitude  Longitude  Total Visitors  Population  \n",
       "4399  Utah   39.3055  -111.6703        39287542   2993941.0  \n",
       "4400  Utah   39.3055  -111.6703        31349153   2993941.0  \n",
       "4401  Utah   39.3055  -111.6703        26646960   2993941.0  \n",
       "4402  Utah   39.3055  -111.6703        18794009   2993941.0  \n",
       "4403  Utah   39.3055  -111.6703        15199421   2993941.0  "
      ]
     },
     "execution_count": 210,
     "metadata": {},
     "output_type": "execute_result"
    }
   ],
   "source": [
    "Draft_Final_Data= US_VIS_PAR_Data.merge(cens_centr_data, on='State', how='left')\n",
    "Draft_Final_Data1= Draft_Final_Data[['Month', 'ParkCode', 'Full Name', 'Lat', 'Lon', \n",
    "                                                    'State', 'Name', 'Latitude', 'Longitude', 'Total Visitors',\n",
    "                                                    'Population']].copy()\n",
    "Final_Data= Draft_Final_Data1.rename(columns= {'State': 'State Code'})\n",
    "# Save the final data to a csv file.\n",
    "Final_Data= Final_Data.dropna(axis = 0, how ='any')\n",
    "Final_Data.to_csv(\".Final_data.csv\", encoding=\"utf-8\", index=False)\n",
    "Final_Data.tail()"
   ]
  },
  {
   "cell_type": "code",
   "execution_count": 213,
   "metadata": {},
   "outputs": [],
   "source": [
    "# s=Final_Data.groupby(['Total Visitors', 'Population'], as_index=False)\n",
    "# s.head()"
   ]
  },
  {
   "cell_type": "code",
   "execution_count": null,
   "metadata": {},
   "outputs": [],
   "source": [
    "# The seasons time in USA is as follow:\n",
    "# Winter: Dec - March\n",
    "# Spring: March - June\n",
    "# Summer: June - Sep\n",
    "# Fall: Sep - Dec"
   ]
  },
  {
   "cell_type": "code",
   "execution_count": 226,
   "metadata": {},
   "outputs": [
    {
     "data": {
      "text/html": [
       "<div>\n",
       "<style scoped>\n",
       "    .dataframe tbody tr th:only-of-type {\n",
       "        vertical-align: middle;\n",
       "    }\n",
       "\n",
       "    .dataframe tbody tr th {\n",
       "        vertical-align: top;\n",
       "    }\n",
       "\n",
       "    .dataframe thead th {\n",
       "        text-align: right;\n",
       "    }\n",
       "</style>\n",
       "<table border=\"1\" class=\"dataframe\">\n",
       "  <thead>\n",
       "    <tr style=\"text-align: right;\">\n",
       "      <th></th>\n",
       "      <th>Month</th>\n",
       "      <th>ParkCode</th>\n",
       "      <th>Full Name</th>\n",
       "      <th>Lat</th>\n",
       "      <th>Lon</th>\n",
       "      <th>State Code</th>\n",
       "      <th>Name</th>\n",
       "      <th>Latitude</th>\n",
       "      <th>Longitude</th>\n",
       "      <th>Total Visitors</th>\n",
       "      <th>Population</th>\n",
       "    </tr>\n",
       "  </thead>\n",
       "  <tbody>\n",
       "    <tr>\n",
       "      <td>0</td>\n",
       "      <td>1</td>\n",
       "      <td>ABLI</td>\n",
       "      <td>Abraham Lincoln Birthplace National Historical...</td>\n",
       "      <td>37.585866</td>\n",
       "      <td>-85.673305</td>\n",
       "      <td>KY</td>\n",
       "      <td>Kentucky</td>\n",
       "      <td>37.5347</td>\n",
       "      <td>-85.3021</td>\n",
       "      <td>10212361</td>\n",
       "      <td>4424376.0</td>\n",
       "    </tr>\n",
       "    <tr>\n",
       "      <td>1</td>\n",
       "      <td>2</td>\n",
       "      <td>ABLI</td>\n",
       "      <td>Abraham Lincoln Birthplace National Historical...</td>\n",
       "      <td>37.585866</td>\n",
       "      <td>-85.673305</td>\n",
       "      <td>KY</td>\n",
       "      <td>Kentucky</td>\n",
       "      <td>37.5347</td>\n",
       "      <td>-85.3021</td>\n",
       "      <td>12927163</td>\n",
       "      <td>4424376.0</td>\n",
       "    </tr>\n",
       "    <tr>\n",
       "      <td>11</td>\n",
       "      <td>12</td>\n",
       "      <td>ABLI</td>\n",
       "      <td>Abraham Lincoln Birthplace National Historical...</td>\n",
       "      <td>37.585866</td>\n",
       "      <td>-85.673305</td>\n",
       "      <td>KY</td>\n",
       "      <td>Kentucky</td>\n",
       "      <td>37.5347</td>\n",
       "      <td>-85.3021</td>\n",
       "      <td>15199421</td>\n",
       "      <td>4424376.0</td>\n",
       "    </tr>\n",
       "    <tr>\n",
       "      <td>12</td>\n",
       "      <td>1</td>\n",
       "      <td>ACAD</td>\n",
       "      <td>Acadia National Park</td>\n",
       "      <td>44.307775</td>\n",
       "      <td>-68.300633</td>\n",
       "      <td>ME</td>\n",
       "      <td>Maine</td>\n",
       "      <td>45.3695</td>\n",
       "      <td>-69.2428</td>\n",
       "      <td>10212361</td>\n",
       "      <td>1330158.0</td>\n",
       "    </tr>\n",
       "    <tr>\n",
       "      <td>13</td>\n",
       "      <td>2</td>\n",
       "      <td>ACAD</td>\n",
       "      <td>Acadia National Park</td>\n",
       "      <td>44.307775</td>\n",
       "      <td>-68.300633</td>\n",
       "      <td>ME</td>\n",
       "      <td>Maine</td>\n",
       "      <td>45.3695</td>\n",
       "      <td>-69.2428</td>\n",
       "      <td>12927163</td>\n",
       "      <td>1330158.0</td>\n",
       "    </tr>\n",
       "  </tbody>\n",
       "</table>\n",
       "</div>"
      ],
      "text/plain": [
       "    Month ParkCode                                          Full Name  \\\n",
       "0       1     ABLI  Abraham Lincoln Birthplace National Historical...   \n",
       "1       2     ABLI  Abraham Lincoln Birthplace National Historical...   \n",
       "11     12     ABLI  Abraham Lincoln Birthplace National Historical...   \n",
       "12      1     ACAD                               Acadia National Park   \n",
       "13      2     ACAD                               Acadia National Park   \n",
       "\n",
       "          Lat        Lon State Code      Name  Latitude  Longitude  \\\n",
       "0   37.585866 -85.673305         KY  Kentucky   37.5347   -85.3021   \n",
       "1   37.585866 -85.673305         KY  Kentucky   37.5347   -85.3021   \n",
       "11  37.585866 -85.673305         KY  Kentucky   37.5347   -85.3021   \n",
       "12  44.307775 -68.300633         ME     Maine   45.3695   -69.2428   \n",
       "13  44.307775 -68.300633         ME     Maine   45.3695   -69.2428   \n",
       "\n",
       "    Total Visitors  Population  \n",
       "0         10212361   4424376.0  \n",
       "1         12927163   4424376.0  \n",
       "11        15199421   4424376.0  \n",
       "12        10212361   1330158.0  \n",
       "13        12927163   1330158.0  "
      ]
     },
     "execution_count": 226,
     "metadata": {},
     "output_type": "execute_result"
    }
   ],
   "source": [
    "# Winter Season: Dec - March\n",
    "Winter= Final_Data[(Final_Data['Month']==12) | (Final_Data['Month']==1) | (Final_Data['Month']==2)]\n",
    "Winter.head()"
   ]
  },
  {
   "cell_type": "code",
   "execution_count": 236,
   "metadata": {},
   "outputs": [
    {
     "data": {
      "application/vnd.plotly.v1+json": {
       "config": {
        "plotlyServerURL": "https://plot.ly"
       },
       "data": [
        {
         "customdata": [
          [
           "KY",
           "ABLI",
           1
          ],
          [
           "KY",
           "ABLI",
           2
          ],
          [
           "KY",
           "ABLI",
           12
          ],
          [
           "ME",
           "ACAD",
           1
          ],
          [
           "ME",
           "ACAD",
           2
          ],
          [
           "ME",
           "ACAD",
           12
          ],
          [
           "MA",
           "ADAM",
           1
          ],
          [
           "MA",
           "ADAM",
           2
          ],
          [
           "MA",
           "ADAM",
           12
          ],
          [
           "NY",
           "AFBG",
           1
          ],
          [
           "NY",
           "AFBG",
           2
          ],
          [
           "NY",
           "AFBG",
           12
          ],
          [
           "NE",
           "AGFO",
           1
          ],
          [
           "NE",
           "AGFO",
           2
          ],
          [
           "NE",
           "AGFO",
           12
          ],
          [
           "TX",
           "ALFL",
           1
          ],
          [
           "TX",
           "ALFL",
           2
          ],
          [
           "TX",
           "ALFL",
           12
          ],
          [
           "PA",
           "ALPO",
           1
          ],
          [
           "PA",
           "ALPO",
           2
          ],
          [
           "PA",
           "ALPO",
           12
          ],
          [
           "TX",
           "AMIS",
           1
          ],
          [
           "TX",
           "AMIS",
           2
          ],
          [
           "TX",
           "AMIS",
           12
          ],
          [
           "GA",
           "ANDE",
           1
          ],
          [
           "GA",
           "ANDE",
           2
          ],
          [
           "GA",
           "ANDE",
           12
          ],
          [
           "AK",
           "ANIA",
           1
          ],
          [
           "AK",
           "ANIA",
           2
          ],
          [
           "AK",
           "ANIA",
           12
          ],
          [
           "TN",
           "ANJO",
           1
          ],
          [
           "TN",
           "ANJO",
           2
          ],
          [
           "TN",
           "ANJO",
           12
          ],
          [
           "MD",
           "ANTI",
           1
          ],
          [
           "MD",
           "ANTI",
           2
          ],
          [
           "MD",
           "ANTI",
           12
          ],
          [
           "VA",
           "APCO",
           1
          ],
          [
           "VA",
           "APCO",
           2
          ],
          [
           "VA",
           "APCO",
           12
          ],
          [
           "WI",
           "APIS",
           1
          ],
          [
           "WI",
           "APIS",
           2
          ],
          [
           "WI",
           "APIS",
           12
          ],
          [
           "UT",
           "ARCH",
           1
          ],
          [
           "UT",
           "ARCH",
           2
          ],
          [
           "UT",
           "ARCH",
           12
          ],
          [
           "VA",
           "ARHO",
           1
          ],
          [
           "VA",
           "ARHO",
           2
          ],
          [
           "VA",
           "ARHO",
           12
          ],
          [
           "AR",
           "ARPO",
           1
          ],
          [
           "AR",
           "ARPO",
           2
          ],
          [
           "AR",
           "ARPO",
           12
          ],
          [
           "NM",
           "AZRU",
           1
          ],
          [
           "NM",
           "AZRU",
           2
          ],
          [
           "NM",
           "AZRU",
           12
          ],
          [
           "SD",
           "BADL",
           1
          ],
          [
           "SD",
           "BADL",
           2
          ],
          [
           "SD",
           "BADL",
           12
          ],
          [
           "NM",
           "BAND",
           1
          ],
          [
           "NM",
           "BAND",
           2
          ],
          [
           "NM",
           "BAND",
           12
          ],
          [
           "AK",
           "BELA",
           1
          ],
          [
           "AK",
           "BELA",
           2
          ],
          [
           "AK",
           "BELA",
           12
          ],
          [
           "CO",
           "BEOL",
           1
          ],
          [
           "CO",
           "BEOL",
           2
          ],
          [
           "CO",
           "BEOL",
           12
          ],
          [
           "TX",
           "BIBE",
           1
          ],
          [
           "TX",
           "BIBE",
           2
          ],
          [
           "TX",
           "BIBE",
           12
          ],
          [
           "FL",
           "BICY",
           1
          ],
          [
           "FL",
           "BICY",
           2
          ],
          [
           "FL",
           "BICY",
           12
          ],
          [
           "MT",
           "BIHO",
           1
          ],
          [
           "MT",
           "BIHO",
           2
          ],
          [
           "MT",
           "BIHO",
           12
          ],
          [
           "FL",
           "BISC",
           1
          ],
          [
           "FL",
           "BISC",
           2
          ],
          [
           "FL",
           "BISC",
           12
          ],
          [
           "TX",
           "BITH",
           1
          ],
          [
           "TX",
           "BITH",
           2
          ],
          [
           "TX",
           "BITH",
           12
          ],
          [
           "CO",
           "BLCA",
           1
          ],
          [
           "CO",
           "BLCA",
           2
          ],
          [
           "CO",
           "BLCA",
           12
          ],
          [
           "WV",
           "BLUE",
           1
          ],
          [
           "WV",
           "BLUE",
           2
          ],
          [
           "WV",
           "BLUE",
           12
          ],
          [
           "MA",
           "BOAF",
           1
          ],
          [
           "MA",
           "BOAF",
           2
          ],
          [
           "MA",
           "BOAF",
           12
          ],
          [
           "MA",
           "BOST",
           1
          ],
          [
           "MA",
           "BOST",
           2
          ],
          [
           "MA",
           "BOST",
           12
          ],
          [
           "VA",
           "BOWA",
           1
          ],
          [
           "VA",
           "BOWA",
           2
          ],
          [
           "VA",
           "BOWA",
           12
          ],
          [
           "UT",
           "BRCA",
           1
          ],
          [
           "UT",
           "BRCA",
           2
          ],
          [
           "UT",
           "BRCA",
           12
          ],
          [
           "KS",
           "BRVB",
           1
          ],
          [
           "KS",
           "BRVB",
           2
          ],
          [
           "KS",
           "BRVB",
           12
          ],
          [
           "AR",
           "BUFF",
           1
          ],
          [
           "AR",
           "BUFF",
           2
          ],
          [
           "AR",
           "BUFF",
           12
          ],
          [
           "CA",
           "CABR",
           1
          ],
          [
           "CA",
           "CABR",
           2
          ],
          [
           "CA",
           "CABR",
           12
          ],
          [
           "AZ",
           "CACH",
           1
          ],
          [
           "AZ",
           "CACH",
           2
          ],
          [
           "AZ",
           "CACH",
           12
          ],
          [
           "NY",
           "CACL",
           1
          ],
          [
           "NY",
           "CACL",
           2
          ],
          [
           "NY",
           "CACL",
           12
          ],
          [
           "MA",
           "CACO",
           1
          ],
          [
           "MA",
           "CACO",
           2
          ],
          [
           "MA",
           "CACO",
           12
          ],
          [
           "AZ",
           "CAGR",
           1
          ],
          [
           "AZ",
           "CAGR",
           2
          ],
          [
           "AZ",
           "CAGR",
           12
          ],
          [
           "NC",
           "CAHA",
           1
          ],
          [
           "NC",
           "CAHA",
           2
          ],
          [
           "NC",
           "CAHA",
           12
          ],
          [
           "AK",
           "CAKR",
           1
          ],
          [
           "AK",
           "CAKR",
           2
          ],
          [
           "AK",
           "CAKR",
           12
          ],
          [
           "NC",
           "CALO",
           1
          ],
          [
           "NC",
           "CALO",
           2
          ],
          [
           "NC",
           "CALO",
           12
          ],
          [
           "FL",
           "CANA",
           1
          ],
          [
           "FL",
           "CANA",
           2
          ],
          [
           "FL",
           "CANA",
           12
          ],
          [
           "UT",
           "CANY",
           1
          ],
          [
           "UT",
           "CANY",
           2
          ],
          [
           "UT",
           "CANY",
           12
          ],
          [
           "UT",
           "CARE",
           1
          ],
          [
           "UT",
           "CARE",
           2
          ],
          [
           "UT",
           "CARE",
           12
          ],
          [
           "LA",
           "CARI",
           1
          ],
          [
           "LA",
           "CARI",
           2
          ],
          [
           "LA",
           "CARI",
           12
          ],
          [
           "NC",
           "CARL",
           1
          ],
          [
           "NC",
           "CARL",
           2
          ],
          [
           "NC",
           "CARL",
           12
          ],
          [
           "FL",
           "CASA",
           1
          ],
          [
           "FL",
           "CASA",
           2
          ],
          [
           "FL",
           "CASA",
           12
          ],
          [
           "MD",
           "CATO",
           1
          ],
          [
           "MD",
           "CATO",
           2
          ],
          [
           "MD",
           "CATO",
           12
          ],
          [
           "NM",
           "CAVE",
           1
          ],
          [
           "NM",
           "CAVE",
           2
          ],
          [
           "NM",
           "CAVE",
           12
          ],
          [
           "NM",
           "CAVO",
           1
          ],
          [
           "NM",
           "CAVO",
           2
          ],
          [
           "NM",
           "CAVO",
           12
          ],
          [
           "UT",
           "CEBR",
           1
          ],
          [
           "UT",
           "CEBR",
           2
          ],
          [
           "UT",
           "CEBR",
           12
          ],
          [
           "CA",
           "CECH",
           1
          ],
          [
           "CA",
           "CECH",
           2
          ],
          [
           "CA",
           "CECH",
           12
          ],
          [
           "TX",
           "CHAM",
           1
          ],
          [
           "TX",
           "CHAM",
           2
          ],
          [
           "TX",
           "CHAM",
           12
          ],
          [
           "GA",
           "CHAT",
           1
          ],
          [
           "GA",
           "CHAT",
           2
          ],
          [
           "GA",
           "CHAT",
           12
          ],
          [
           "NM",
           "CHCU",
           1
          ],
          [
           "NM",
           "CHCU",
           2
          ],
          [
           "NM",
           "CHCU",
           12
          ],
          [
           "OK",
           "CHIC",
           1
          ],
          [
           "OK",
           "CHIC",
           2
          ],
          [
           "OK",
           "CHIC",
           12
          ],
          [
           "AZ",
           "CHIR",
           1
          ],
          [
           "AZ",
           "CHIR",
           2
          ],
          [
           "AZ",
           "CHIR",
           12
          ],
          [
           "CA",
           "CHIS",
           1
          ],
          [
           "CA",
           "CHIS",
           2
          ],
          [
           "CA",
           "CHIS",
           12
          ],
          [
           "SC",
           "CHPI",
           1
          ],
          [
           "SC",
           "CHPI",
           2
          ],
          [
           "SC",
           "CHPI",
           12
          ],
          [
           "AR",
           "CHSC",
           1
          ],
          [
           "AR",
           "CHSC",
           2
          ],
          [
           "AR",
           "CHSC",
           12
          ],
          [
           "OH",
           "CHYO",
           1
          ],
          [
           "OH",
           "CHYO",
           2
          ],
          [
           "OH",
           "CHYO",
           12
          ],
          [
           "ID",
           "CIRO",
           1
          ],
          [
           "ID",
           "CIRO",
           2
          ],
          [
           "ID",
           "CIRO",
           12
          ],
          [
           "MD",
           "CLBA",
           1
          ],
          [
           "MD",
           "CLBA",
           2
          ],
          [
           "MD",
           "CLBA",
           12
          ],
          [
           "CO",
           "COLM",
           1
          ],
          [
           "CO",
           "COLM",
           2
          ],
          [
           "CO",
           "COLM",
           12
          ],
          [
           "VA",
           "COLO",
           1
          ],
          [
           "VA",
           "COLO",
           2
          ],
          [
           "VA",
           "COLO",
           12
          ],
          [
           "SC",
           "CONG",
           1
          ],
          [
           "SC",
           "CONG",
           2
          ],
          [
           "SC",
           "CONG",
           12
          ],
          [
           "AZ",
           "CORO",
           1
          ],
          [
           "AZ",
           "CORO",
           2
          ],
          [
           "AZ",
           "CORO",
           12
          ],
          [
           "SC",
           "COWP",
           1
          ],
          [
           "SC",
           "COWP",
           2
          ],
          [
           "SC",
           "COWP",
           12
          ],
          [
           "OR",
           "CRLA",
           1
          ],
          [
           "OR",
           "CRLA",
           2
          ],
          [
           "OR",
           "CRLA",
           12
          ],
          [
           "ID",
           "CRMO",
           1
          ],
          [
           "ID",
           "CRMO",
           2
          ],
          [
           "ID",
           "CRMO",
           12
          ],
          [
           "GA",
           "CUIS",
           1
          ],
          [
           "GA",
           "CUIS",
           2
          ],
          [
           "GA",
           "CUIS",
           12
          ],
          [
           "CO",
           "CURE",
           1
          ],
          [
           "CO",
           "CURE",
           2
          ],
          [
           "CO",
           "CURE",
           12
          ],
          [
           "OH",
           "CUVA",
           1
          ],
          [
           "OH",
           "CUVA",
           2
          ],
          [
           "OH",
           "CUVA",
           12
          ],
          [
           "OH",
           "DAAV",
           1
          ],
          [
           "OH",
           "DAAV",
           2
          ],
          [
           "OH",
           "DAAV",
           12
          ],
          [
           "AK",
           "DENA",
           1
          ],
          [
           "AK",
           "DENA",
           2
          ],
          [
           "AK",
           "DENA",
           12
          ],
          [
           "CA",
           "DEPO",
           1
          ],
          [
           "CA",
           "DEPO",
           2
          ],
          [
           "CA",
           "DEPO",
           12
          ],
          [
           "FL",
           "DESO",
           1
          ],
          [
           "FL",
           "DESO",
           2
          ],
          [
           "FL",
           "DESO",
           12
          ],
          [
           "WY",
           "DETO",
           1
          ],
          [
           "WY",
           "DETO",
           2
          ],
          [
           "WY",
           "DETO",
           12
          ],
          [
           "FL",
           "DRTO",
           1
          ],
          [
           "FL",
           "DRTO",
           2
          ],
          [
           "FL",
           "DRTO",
           12
          ],
          [
           "PA",
           "EDAL",
           1
          ],
          [
           "PA",
           "EDAL",
           2
          ],
          [
           "PA",
           "EDAL",
           12
          ],
          [
           "NJ",
           "EDIS",
           1
          ],
          [
           "NJ",
           "EDIS",
           2
          ],
          [
           "NJ",
           "EDIS",
           12
          ],
          [
           "IA",
           "EFMO",
           1
          ],
          [
           "IA",
           "EFMO",
           2
          ],
          [
           "IA",
           "EFMO",
           12
          ],
          [
           "PA",
           "EISE",
           1
          ],
          [
           "PA",
           "EISE",
           2
          ],
          [
           "PA",
           "EISE",
           12
          ],
          [
           "NM",
           "ELMA",
           1
          ],
          [
           "NM",
           "ELMA",
           2
          ],
          [
           "NM",
           "ELMA",
           12
          ],
          [
           "NM",
           "ELMO",
           1
          ],
          [
           "NM",
           "ELMO",
           2
          ],
          [
           "NM",
           "ELMO",
           12
          ],
          [
           "NY",
           "ELRO",
           1
          ],
          [
           "NY",
           "ELRO",
           2
          ],
          [
           "NY",
           "ELRO",
           12
          ],
          [
           "CA",
           "EUON",
           1
          ],
          [
           "CA",
           "EUON",
           2
          ],
          [
           "CA",
           "EUON",
           12
          ],
          [
           "FL",
           "EVER",
           1
          ],
          [
           "FL",
           "EVER",
           2
          ],
          [
           "FL",
           "EVER",
           12
          ],
          [
           "NY",
           "FEHA",
           1
          ],
          [
           "NY",
           "FEHA",
           2
          ],
          [
           "NY",
           "FEHA",
           12
          ],
          [
           "NY",
           "FIIS",
           1
          ],
          [
           "NY",
           "FIIS",
           2
          ],
          [
           "NY",
           "FIIS",
           12
          ],
          [
           "OH",
           "FILA",
           1
          ],
          [
           "OH",
           "FILA",
           2
          ],
          [
           "OH",
           "FILA",
           12
          ],
          [
           "CO",
           "FLFO",
           1
          ],
          [
           "CO",
           "FLFO",
           2
          ],
          [
           "CO",
           "FLFO",
           12
          ],
          [
           "PA",
           "FLNI",
           1
          ],
          [
           "PA",
           "FLNI",
           2
          ],
          [
           "PA",
           "FLNI",
           12
          ],
          [
           "AZ",
           "FOBO",
           1
          ],
          [
           "AZ",
           "FOBO",
           2
          ],
          [
           "AZ",
           "FOBO",
           12
          ],
          [
           "WY",
           "FOBU",
           1
          ],
          [
           "WY",
           "FOBU",
           2
          ],
          [
           "WY",
           "FOBU",
           12
          ],
          [
           "TX",
           "FODA",
           1
          ],
          [
           "TX",
           "FODA",
           2
          ],
          [
           "TX",
           "FODA",
           12
          ],
          [
           "GA",
           "FOFR",
           1
          ],
          [
           "GA",
           "FOFR",
           2
          ],
          [
           "GA",
           "FOFR",
           12
          ],
          [
           "WY",
           "FOLA",
           1
          ],
          [
           "WY",
           "FOLA",
           2
          ],
          [
           "WY",
           "FOLA",
           12
          ],
          [
           "KS",
           "FOLS",
           1
          ],
          [
           "KS",
           "FOLS",
           2
          ],
          [
           "KS",
           "FOLS",
           12
          ],
          [
           "FL",
           "FOMA",
           1
          ],
          [
           "FL",
           "FOMA",
           2
          ],
          [
           "FL",
           "FOMA",
           12
          ],
          [
           "MD",
           "FOMC",
           1
          ],
          [
           "MD",
           "FOMC",
           2
          ],
          [
           "MD",
           "FOMC",
           12
          ],
          [
           "PA",
           "FONE",
           1
          ],
          [
           "PA",
           "FONE",
           2
          ],
          [
           "PA",
           "FONE",
           12
          ],
          [
           "CA",
           "FOPO",
           1
          ],
          [
           "CA",
           "FOPO",
           2
          ],
          [
           "CA",
           "FOPO",
           12
          ],
          [
           "GA",
           "FOPU",
           1
          ],
          [
           "GA",
           "FOPU",
           2
          ],
          [
           "GA",
           "FOPU",
           12
          ],
          [
           "NC",
           "FORA",
           1
          ],
          [
           "NC",
           "FORA",
           2
          ],
          [
           "NC",
           "FORA",
           12
          ],
          [
           "KS",
           "FOSC",
           1
          ],
          [
           "KS",
           "FOSC",
           2
          ],
          [
           "KS",
           "FOSC",
           12
          ],
          [
           "NY",
           "FOST",
           1
          ],
          [
           "NY",
           "FOST",
           2
          ],
          [
           "NY",
           "FOST",
           12
          ],
          [
           "SC",
           "FOSU",
           1
          ],
          [
           "SC",
           "FOSU",
           2
          ],
          [
           "SC",
           "FOSU",
           12
          ],
          [
           "NM",
           "FOUN",
           1
          ],
          [
           "NM",
           "FOUN",
           2
          ],
          [
           "NM",
           "FOUN",
           12
          ],
          [
           "MD",
           "FOWA",
           1
          ],
          [
           "MD",
           "FOWA",
           2
          ],
          [
           "MD",
           "FOWA",
           12
          ],
          [
           "PA",
           "FRHI",
           1
          ],
          [
           "PA",
           "FRHI",
           2
          ],
          [
           "PA",
           "FRHI",
           12
          ],
          [
           "MA",
           "FRLA",
           1
          ],
          [
           "MA",
           "FRLA",
           2
          ],
          [
           "MA",
           "FRLA",
           12
          ],
          [
           "VA",
           "FRSP",
           1
          ],
          [
           "VA",
           "FRSP",
           2
          ],
          [
           "VA",
           "FRSP",
           12
          ],
          [
           "AK",
           "GAAR",
           1
          ],
          [
           "AK",
           "GAAR",
           2
          ],
          [
           "AK",
           "GAAR",
           12
          ],
          [
           "WV",
           "GARI",
           1
          ],
          [
           "WV",
           "GARI",
           2
          ],
          [
           "WV",
           "GARI",
           12
          ],
          [
           "NY",
           "GEGR",
           1
          ],
          [
           "NY",
           "GEGR",
           2
          ],
          [
           "NY",
           "GEGR",
           12
          ],
          [
           "IN",
           "GERO",
           1
          ],
          [
           "IN",
           "GERO",
           2
          ],
          [
           "IN",
           "GERO",
           12
          ],
          [
           "PA",
           "GETT",
           1
          ],
          [
           "PA",
           "GETT",
           2
          ],
          [
           "PA",
           "GETT",
           12
          ],
          [
           "VA",
           "GEWA",
           1
          ],
          [
           "VA",
           "GEWA",
           2
          ],
          [
           "VA",
           "GEWA",
           12
          ],
          [
           "NM",
           "GICL",
           1
          ],
          [
           "NM",
           "GICL",
           2
          ],
          [
           "NM",
           "GICL",
           12
          ],
          [
           "MT",
           "GLAC",
           1
          ],
          [
           "MT",
           "GLAC",
           2
          ],
          [
           "MT",
           "GLAC",
           12
          ],
          [
           "AK",
           "GLBA",
           1
          ],
          [
           "AK",
           "GLBA",
           2
          ],
          [
           "AK",
           "GLBA",
           12
          ],
          [
           "CA",
           "GOGA",
           1
          ],
          [
           "CA",
           "GOGA",
           2
          ],
          [
           "CA",
           "GOGA",
           12
          ],
          [
           "NY",
           "GOIS",
           1
          ],
          [
           "NY",
           "GOIS",
           2
          ],
          [
           "NY",
           "GOIS",
           12
          ],
          [
           "UT",
           "GOSP",
           1
          ],
          [
           "UT",
           "GOSP",
           2
          ],
          [
           "UT",
           "GOSP",
           12
          ],
          [
           "NV",
           "GRBA",
           1
          ],
          [
           "NV",
           "GRBA",
           2
          ],
          [
           "NV",
           "GRBA",
           12
          ],
          [
           "AZ",
           "GRCA",
           1
          ],
          [
           "AZ",
           "GRCA",
           2
          ],
          [
           "AZ",
           "GRCA",
           12
          ],
          [
           "MD",
           "GREE",
           1
          ],
          [
           "MD",
           "GREE",
           2
          ],
          [
           "MD",
           "GREE",
           12
          ],
          [
           "MT",
           "GRKO",
           1
          ],
          [
           "MT",
           "GRKO",
           2
          ],
          [
           "MT",
           "GRKO",
           12
          ],
          [
           "MN",
           "GRPO",
           1
          ],
          [
           "MN",
           "GRPO",
           2
          ],
          [
           "MN",
           "GRPO",
           12
          ],
          [
           "CO",
           "GRSA",
           1
          ],
          [
           "CO",
           "GRSA",
           2
          ],
          [
           "CO",
           "GRSA",
           12
          ],
          [
           "WY",
           "GRTE",
           1
          ],
          [
           "WY",
           "GRTE",
           2
          ],
          [
           "WY",
           "GRTE",
           12
          ],
          [
           "NC",
           "GUCO",
           1
          ],
          [
           "NC",
           "GUCO",
           2
          ],
          [
           "NC",
           "GUCO",
           12
          ],
          [
           "TX",
           "GUMO",
           1
          ],
          [
           "TX",
           "GUMO",
           2
          ],
          [
           "TX",
           "GUMO",
           12
          ],
          [
           "MO",
           "GWCA",
           1
          ],
          [
           "MO",
           "GWCA",
           2
          ],
          [
           "MO",
           "GWCA",
           12
          ],
          [
           "ID",
           "HAFO",
           1
          ],
          [
           "ID",
           "HAFO",
           2
          ],
          [
           "ID",
           "HAFO",
           12
          ],
          [
           "NY",
           "HAGR",
           1
          ],
          [
           "NY",
           "HAGR",
           2
          ],
          [
           "NY",
           "HAGR",
           12
          ],
          [
           "HI",
           "HALE",
           1
          ],
          [
           "HI",
           "HALE",
           2
          ],
          [
           "HI",
           "HALE",
           12
          ],
          [
           "MD",
           "HAMP",
           1
          ],
          [
           "MD",
           "HAMP",
           2
          ],
          [
           "MD",
           "HAMP",
           12
          ],
          [
           "HI",
           "HAVO",
           1
          ],
          [
           "HI",
           "HAVO",
           2
          ],
          [
           "HI",
           "HAVO",
           12
          ],
          [
           "IA",
           "HEHO",
           1
          ],
          [
           "IA",
           "HEHO",
           2
          ],
          [
           "IA",
           "HEHO",
           12
          ],
          [
           "AL",
           "HOBE",
           1
          ],
          [
           "AL",
           "HOBE",
           2
          ],
          [
           "AL",
           "HOBE",
           12
          ],
          [
           "OH",
           "HOCU",
           1
          ],
          [
           "OH",
           "HOCU",
           2
          ],
          [
           "OH",
           "HOCU",
           12
          ],
          [
           "NY",
           "HOFR",
           1
          ],
          [
           "NY",
           "HOFR",
           2
          ],
          [
           "NY",
           "HOFR",
           12
          ],
          [
           "PA",
           "HOFU",
           1
          ],
          [
           "PA",
           "HOFU",
           2
          ],
          [
           "PA",
           "HOFU",
           12
          ],
          [
           "NE",
           "HOME",
           1
          ],
          [
           "NE",
           "HOME",
           2
          ],
          [
           "NE",
           "HOME",
           12
          ],
          [
           "AR",
           "HOSP",
           1
          ],
          [
           "AR",
           "HOSP",
           2
          ],
          [
           "AR",
           "HOSP",
           12
          ],
          [
           "MO",
           "HSTR",
           1
          ],
          [
           "MO",
           "HSTR",
           2
          ],
          [
           "MO",
           "HSTR",
           12
          ],
          [
           "AZ",
           "HUTR",
           1
          ],
          [
           "AZ",
           "HUTR",
           2
          ],
          [
           "AZ",
           "HUTR",
           12
          ],
          [
           "PA",
           "INDE",
           1
          ],
          [
           "PA",
           "INDE",
           2
          ],
          [
           "PA",
           "INDE",
           12
          ],
          [
           "IN",
           "INDU",
           1
          ],
          [
           "IN",
           "INDU",
           2
          ],
          [
           "IN",
           "INDU",
           12
          ],
          [
           "MI",
           "ISRO",
           1
          ],
          [
           "MI",
           "ISRO",
           2
          ],
          [
           "MI",
           "ISRO",
           12
          ],
          [
           "OH",
           "JAGA",
           1
          ],
          [
           "OH",
           "JAGA",
           2
          ],
          [
           "OH",
           "JAGA",
           12
          ],
          [
           "LA",
           "JAZZ",
           1
          ],
          [
           "LA",
           "JAZZ",
           2
          ],
          [
           "LA",
           "JAZZ",
           12
          ],
          [
           "SD",
           "JECA",
           1
          ],
          [
           "SD",
           "JECA",
           2
          ],
          [
           "SD",
           "JECA",
           12
          ],
          [
           "MO",
           "JEFF",
           1
          ],
          [
           "MO",
           "JEFF",
           2
          ],
          [
           "MO",
           "JEFF",
           12
          ],
          [
           "LA",
           "JELA",
           1
          ],
          [
           "LA",
           "JELA",
           2
          ],
          [
           "LA",
           "JELA",
           12
          ],
          [
           "GA",
           "JICA",
           1
          ],
          [
           "GA",
           "JICA",
           2
          ],
          [
           "GA",
           "JICA",
           12
          ],
          [
           "OR",
           "JODA",
           1
          ],
          [
           "OR",
           "JODA",
           2
          ],
          [
           "OR",
           "JODA",
           12
          ],
          [
           "MA",
           "JOFI",
           1
          ],
          [
           "MA",
           "JOFI",
           2
          ],
          [
           "MA",
           "JOFI",
           12
          ],
          [
           "PA",
           "JOFL",
           1
          ],
          [
           "PA",
           "JOFL",
           2
          ],
          [
           "PA",
           "JOFL",
           12
          ],
          [
           "CA",
           "JOMU",
           1
          ],
          [
           "CA",
           "JOMU",
           2
          ],
          [
           "CA",
           "JOMU",
           12
          ],
          [
           "CA",
           "JOTR",
           1
          ],
          [
           "CA",
           "JOTR",
           2
          ],
          [
           "CA",
           "JOTR",
           12
          ],
          [
           "HI",
           "KAHO",
           1
          ],
          [
           "HI",
           "KAHO",
           2
          ],
          [
           "HI",
           "KAHO",
           12
          ],
          [
           "HI",
           "KALA",
           1
          ],
          [
           "HI",
           "KALA",
           2
          ],
          [
           "HI",
           "KALA",
           12
          ],
          [
           "AK",
           "KATM",
           1
          ],
          [
           "AK",
           "KATM",
           2
          ],
          [
           "AK",
           "KATM",
           12
          ],
          [
           "AK",
           "KEFJ",
           1
          ],
          [
           "AK",
           "KEFJ",
           2
          ],
          [
           "AK",
           "KEFJ",
           12
          ],
          [
           "GA",
           "KEMO",
           1
          ],
          [
           "GA",
           "KEMO",
           2
          ],
          [
           "GA",
           "KEMO",
           12
          ],
          [
           "MI",
           "KEWE",
           1
          ],
          [
           "MI",
           "KEWE",
           2
          ],
          [
           "MI",
           "KEWE",
           12
          ],
          [
           "SC",
           "KIMO",
           1
          ],
          [
           "SC",
           "KIMO",
           2
          ],
          [
           "SC",
           "KIMO",
           12
          ],
          [
           "AK",
           "KLGO",
           1
          ],
          [
           "AK",
           "KLGO",
           2
          ],
          [
           "AK",
           "KLGO",
           12
          ],
          [
           "WA",
           "KLSE",
           1
          ],
          [
           "WA",
           "KLSE",
           2
          ],
          [
           "WA",
           "KLSE",
           12
          ],
          [
           "ND",
           "KNRI",
           1
          ],
          [
           "ND",
           "KNRI",
           2
          ],
          [
           "ND",
           "KNRI",
           12
          ],
          [
           "AK",
           "KOVA",
           1
          ],
          [
           "AK",
           "KOVA",
           2
          ],
          [
           "AK",
           "KOVA",
           12
          ],
          [
           "CA",
           "LABE",
           1
          ],
          [
           "CA",
           "LABE",
           2
          ],
          [
           "CA",
           "LABE",
           12
          ],
          [
           "AK",
           "LACL",
           1
          ],
          [
           "AK",
           "LACL",
           2
          ],
          [
           "AK",
           "LACL",
           12
          ],
          [
           "TX",
           "LAMR",
           1
          ],
          [
           "TX",
           "LAMR",
           2
          ],
          [
           "TX",
           "LAMR",
           12
          ],
          [
           "WA",
           "LARO",
           1
          ],
          [
           "WA",
           "LARO",
           2
          ],
          [
           "WA",
           "LARO",
           12
          ],
          [
           "CA",
           "LAVO",
           1
          ],
          [
           "CA",
           "LAVO",
           2
          ],
          [
           "CA",
           "LAVO",
           12
          ],
          [
           "MT",
           "LIBI",
           1
          ],
          [
           "MT",
           "LIBI",
           2
          ],
          [
           "MT",
           "LIBI",
           12
          ],
          [
           "IN",
           "LIBO",
           1
          ],
          [
           "IN",
           "LIBO",
           2
          ],
          [
           "IN",
           "LIBO",
           12
          ],
          [
           "IL",
           "LIHO",
           1
          ],
          [
           "IL",
           "LIHO",
           2
          ],
          [
           "IL",
           "LIHO",
           12
          ],
          [
           "AL",
           "LIRI",
           1
          ],
          [
           "AL",
           "LIRI",
           2
          ],
          [
           "AL",
           "LIRI",
           12
          ],
          [
           "MA",
           "LONG",
           1
          ],
          [
           "MA",
           "LONG",
           2
          ],
          [
           "MA",
           "LONG",
           12
          ],
          [
           "MA",
           "LOWE",
           1
          ],
          [
           "MA",
           "LOWE",
           2
          ],
          [
           "MA",
           "LOWE",
           12
          ],
          [
           "TX",
           "LYJO",
           1
          ],
          [
           "TX",
           "LYJO",
           2
          ],
          [
           "TX",
           "LYJO",
           12
          ],
          [
           "VT",
           "MABI",
           1
          ],
          [
           "VT",
           "MABI",
           2
          ],
          [
           "VT",
           "MABI",
           12
          ],
          [
           "KY",
           "MACA",
           1
          ],
          [
           "KY",
           "MACA",
           2
          ],
          [
           "KY",
           "MACA",
           12
          ],
          [
           "GA",
           "MALU",
           1
          ],
          [
           "GA",
           "MALU",
           2
          ],
          [
           "GA",
           "MALU",
           12
          ],
          [
           "VA",
           "MANA",
           1
          ],
          [
           "VA",
           "MANA",
           2
          ],
          [
           "VA",
           "MANA",
           12
          ],
          [
           "CA",
           "MANZ",
           1
          ],
          [
           "CA",
           "MANZ",
           2
          ],
          [
           "CA",
           "MANZ",
           12
          ],
          [
           "NY",
           "MAVA",
           1
          ],
          [
           "NY",
           "MAVA",
           2
          ],
          [
           "NY",
           "MAVA",
           12
          ],
          [
           "VA",
           "MAWA",
           1
          ],
          [
           "VA",
           "MAWA",
           2
          ],
          [
           "VA",
           "MAWA",
           12
          ],
          [
           "CO",
           "MEVE",
           1
          ],
          [
           "CO",
           "MEVE",
           2
          ],
          [
           "CO",
           "MEVE",
           12
          ],
          [
           "MA",
           "MIMA",
           1
          ],
          [
           "MA",
           "MIMA",
           2
          ],
          [
           "MA",
           "MIMA",
           12
          ],
          [
           "SD",
           "MIMI",
           1
          ],
          [
           "SD",
           "MIMI",
           2
          ],
          [
           "SD",
           "MIMI",
           12
          ],
          [
           "MN",
           "MISS",
           1
          ],
          [
           "MN",
           "MISS",
           2
          ],
          [
           "MN",
           "MISS",
           12
          ],
          [
           "AZ",
           "MOCA",
           1
          ],
          [
           "AZ",
           "MOCA",
           2
          ],
          [
           "AZ",
           "MOCA",
           12
          ],
          [
           "NC",
           "MOCR",
           1
          ],
          [
           "NC",
           "MOCR",
           2
          ],
          [
           "NC",
           "MOCR",
           12
          ],
          [
           "CA",
           "MOJA",
           1
          ],
          [
           "CA",
           "MOJA",
           2
          ],
          [
           "CA",
           "MOJA",
           12
          ],
          [
           "MD",
           "MONO",
           1
          ],
          [
           "MD",
           "MONO",
           2
          ],
          [
           "MD",
           "MONO",
           12
          ],
          [
           "WA",
           "MORA",
           1
          ],
          [
           "WA",
           "MORA",
           2
          ],
          [
           "WA",
           "MORA",
           12
          ],
          [
           "NJ",
           "MORR",
           1
          ],
          [
           "NJ",
           "MORR",
           2
          ],
          [
           "NJ",
           "MORR",
           12
          ],
          [
           "SD",
           "MORU",
           1
          ],
          [
           "SD",
           "MORU",
           2
          ],
          [
           "SD",
           "MORU",
           12
          ],
          [
           "CA",
           "MUWO",
           1
          ],
          [
           "CA",
           "MUWO",
           2
          ],
          [
           "CA",
           "MUWO",
           12
          ],
          [
           "UT",
           "NABR",
           1
          ],
          [
           "UT",
           "NABR",
           2
          ],
          [
           "UT",
           "NABR",
           12
          ],
          [
           "MS",
           "NATC",
           1
          ],
          [
           "MS",
           "NATC",
           2
          ],
          [
           "MS",
           "NATC",
           12
          ],
          [
           "AZ",
           "NAVA",
           1
          ],
          [
           "AZ",
           "NAVA",
           2
          ],
          [
           "AZ",
           "NAVA",
           12
          ],
          [
           "MA",
           "NEBE",
           1
          ],
          [
           "MA",
           "NEBE",
           2
          ],
          [
           "MA",
           "NEBE",
           12
          ],
          [
           "WV",
           "NERI",
           1
          ],
          [
           "WV",
           "NERI",
           2
          ],
          [
           "WV",
           "NERI",
           12
          ],
          [
           "KS",
           "NICO",
           1
          ],
          [
           "KS",
           "NICO",
           2
          ],
          [
           "KS",
           "NICO",
           12
          ],
          [
           "NE",
           "NIOB",
           1
          ],
          [
           "NE",
           "NIOB",
           2
          ],
          [
           "NE",
           "NIOB",
           12
          ],
          [
           "SC",
           "NISI",
           1
          ],
          [
           "SC",
           "NISI",
           2
          ],
          [
           "SC",
           "NISI",
           12
          ],
          [
           "AK",
           "NOAT",
           1
          ],
          [
           "AK",
           "NOAT",
           2
          ],
          [
           "AK",
           "NOAT",
           12
          ],
          [
           "WA",
           "NOCA",
           1
          ],
          [
           "WA",
           "NOCA",
           2
          ],
          [
           "WA",
           "NOCA",
           12
          ],
          [
           "GA",
           "OCMU",
           1
          ],
          [
           "GA",
           "OCMU",
           2
          ],
          [
           "GA",
           "OCMU",
           12
          ],
          [
           "WA",
           "OLYM",
           1
          ],
          [
           "WA",
           "OLYM",
           2
          ],
          [
           "WA",
           "OLYM",
           12
          ],
          [
           "OR",
           "ORCA",
           1
          ],
          [
           "OR",
           "ORCA",
           2
          ],
          [
           "OR",
           "ORCA",
           12
          ],
          [
           "AZ",
           "ORPI",
           1
          ],
          [
           "AZ",
           "ORPI",
           2
          ],
          [
           "AZ",
           "ORPI",
           12
          ],
          [
           "MO",
           "OZAR",
           1
          ],
          [
           "MO",
           "OZAR",
           2
          ],
          [
           "MO",
           "OZAR",
           12
          ],
          [
           "TX",
           "PAAL",
           1
          ],
          [
           "TX",
           "PAAL",
           2
          ],
          [
           "TX",
           "PAAL",
           12
          ],
          [
           "NJ",
           "PAGR",
           1
          ],
          [
           "NJ",
           "PAGR",
           2
          ],
          [
           "NJ",
           "PAGR",
           12
          ],
          [
           "TX",
           "PAIS",
           1
          ],
          [
           "TX",
           "PAIS",
           2
          ],
          [
           "TX",
           "PAIS",
           12
          ],
          [
           "NM",
           "PECO",
           1
          ],
          [
           "NM",
           "PECO",
           2
          ],
          [
           "NM",
           "PECO",
           12
          ],
          [
           "AZ",
           "PEFO",
           1
          ],
          [
           "AZ",
           "PEFO",
           2
          ],
          [
           "AZ",
           "PEFO",
           12
          ],
          [
           "AR",
           "PERI",
           1
          ],
          [
           "AR",
           "PERI",
           2
          ],
          [
           "AR",
           "PERI",
           12
          ],
          [
           "VA",
           "PETE",
           1
          ],
          [
           "VA",
           "PETE",
           2
          ],
          [
           "VA",
           "PETE",
           12
          ],
          [
           "NM",
           "PETR",
           1
          ],
          [
           "NM",
           "PETR",
           2
          ],
          [
           "NM",
           "PETR",
           12
          ],
          [
           "OH",
           "PEVI",
           1
          ],
          [
           "OH",
           "PEVI",
           2
          ],
          [
           "OH",
           "PEVI",
           12
          ],
          [
           "CA",
           "PINN",
           1
          ],
          [
           "CA",
           "PINN",
           2
          ],
          [
           "CA",
           "PINN",
           12
          ],
          [
           "MN",
           "PIPE",
           1
          ],
          [
           "MN",
           "PIPE",
           2
          ],
          [
           "MN",
           "PIPE",
           12
          ],
          [
           "MI",
           "PIRO",
           1
          ],
          [
           "MI",
           "PIRO",
           2
          ],
          [
           "MI",
           "PIRO",
           12
          ],
          [
           "MD",
           "PISC",
           1
          ],
          [
           "MD",
           "PISC",
           2
          ],
          [
           "MD",
           "PISC",
           12
          ],
          [
           "AZ",
           "PISP",
           1
          ],
          [
           "AZ",
           "PISP",
           2
          ],
          [
           "AZ",
           "PISP",
           12
          ],
          [
           "CA",
           "POCH",
           1
          ],
          [
           "CA",
           "POCH",
           2
          ],
          [
           "CA",
           "POCH",
           12
          ],
          [
           "CA",
           "PORE",
           1
          ],
          [
           "CA",
           "PORE",
           2
          ],
          [
           "CA",
           "PORE",
           12
          ],
          [
           "VA",
           "PRWI",
           1
          ],
          [
           "VA",
           "PRWI",
           2
          ],
          [
           "VA",
           "PRWI",
           12
          ],
          [
           "HI",
           "PUHE",
           1
          ],
          [
           "HI",
           "PUHE",
           2
          ],
          [
           "HI",
           "PUHE",
           12
          ],
          [
           "HI",
           "PUHO",
           1
          ],
          [
           "HI",
           "PUHO",
           2
          ],
          [
           "HI",
           "PUHO",
           12
          ],
          [
           "UT",
           "RABR",
           1
          ],
          [
           "UT",
           "RABR",
           2
          ],
          [
           "UT",
           "RABR",
           12
          ],
          [
           "CA",
           "REDW",
           1
          ],
          [
           "CA",
           "REDW",
           2
          ],
          [
           "CA",
           "REDW",
           12
          ],
          [
           "VA",
           "RICH",
           1
          ],
          [
           "VA",
           "RICH",
           2
          ],
          [
           "VA",
           "RICH",
           12
          ],
          [
           "TX",
           "RIGR",
           1
          ],
          [
           "TX",
           "RIGR",
           2
          ],
          [
           "TX",
           "RIGR",
           12
          ],
          [
           "MI",
           "RIRA",
           1
          ],
          [
           "MI",
           "RIRA",
           2
          ],
          [
           "MI",
           "RIRA",
           12
          ],
          [
           "CO",
           "ROMO",
           1
          ],
          [
           "CO",
           "ROMO",
           2
          ],
          [
           "CO",
           "ROMO",
           12
          ],
          [
           "CA",
           "RORI",
           1
          ],
          [
           "CA",
           "RORI",
           2
          ],
          [
           "CA",
           "RORI",
           12
          ],
          [
           "RI",
           "ROWI",
           1
          ],
          [
           "RI",
           "ROWI",
           2
          ],
          [
           "RI",
           "ROWI",
           12
          ],
          [
           "AL",
           "RUCA",
           1
          ],
          [
           "AL",
           "RUCA",
           2
          ],
          [
           "AL",
           "RUCA",
           12
          ],
          [
           "TX",
           "SAAN",
           1
          ],
          [
           "TX",
           "SAAN",
           2
          ],
          [
           "TX",
           "SAAN",
           12
          ],
          [
           "ME",
           "SACR",
           1
          ],
          [
           "ME",
           "SACR",
           2
          ],
          [
           "ME",
           "SACR",
           12
          ],
          [
           "CA",
           "SAFR",
           1
          ],
          [
           "CA",
           "SAFR",
           2
          ],
          [
           "CA",
           "SAFR",
           12
          ],
          [
           "NH",
           "SAGA",
           1
          ],
          [
           "NH",
           "SAGA",
           2
          ],
          [
           "NH",
           "SAGA",
           12
          ],
          [
           "AZ",
           "SAGU",
           1
          ],
          [
           "AZ",
           "SAGU",
           2
          ],
          [
           "AZ",
           "SAGU",
           12
          ],
          [
           "NY",
           "SAHI",
           1
          ],
          [
           "NY",
           "SAHI",
           2
          ],
          [
           "NY",
           "SAHI",
           12
          ],
          [
           "MA",
           "SAIR",
           1
          ],
          [
           "MA",
           "SAIR",
           2
          ],
          [
           "MA",
           "SAIR",
           12
          ],
          [
           "WA",
           "SAJH",
           1
          ],
          [
           "WA",
           "SAJH",
           2
          ],
          [
           "WA",
           "SAJH",
           12
          ],
          [
           "MA",
           "SAMA",
           1
          ],
          [
           "MA",
           "SAMA",
           2
          ],
          [
           "MA",
           "SAMA",
           12
          ],
          [
           "CA",
           "SAMO",
           1
          ],
          [
           "CA",
           "SAMO",
           2
          ],
          [
           "CA",
           "SAMO",
           12
          ],
          [
           "CO",
           "SAND",
           1
          ],
          [
           "CO",
           "SAND",
           2
          ],
          [
           "CO",
           "SAND",
           12
          ],
          [
           "NY",
           "SAPA",
           1
          ],
          [
           "NY",
           "SAPA",
           2
          ],
          [
           "NY",
           "SAPA",
           12
          ],
          [
           "NM",
           "SAPU",
           1
          ],
          [
           "NM",
           "SAPU",
           2
          ],
          [
           "NM",
           "SAPU",
           12
          ],
          [
           "NY",
           "SARA",
           1
          ],
          [
           "NY",
           "SARA",
           2
          ],
          [
           "NY",
           "SARA",
           12
          ],
          [
           "NE",
           "SCBL",
           1
          ],
          [
           "NE",
           "SCBL",
           2
          ],
          [
           "NE",
           "SCBL",
           12
          ],
          [
           "VA",
           "SHEN",
           1
          ],
          [
           "VA",
           "SHEN",
           2
          ],
          [
           "VA",
           "SHEN",
           12
          ],
          [
           "AK",
           "SITK",
           1
          ],
          [
           "AK",
           "SITK",
           2
          ],
          [
           "AK",
           "SITK",
           12
          ],
          [
           "MI",
           "SLBE",
           1
          ],
          [
           "MI",
           "SLBE",
           2
          ],
          [
           "MI",
           "SLBE",
           12
          ],
          [
           "MA",
           "SPAR",
           1
          ],
          [
           "MA",
           "SPAR",
           2
          ],
          [
           "MA",
           "SPAR",
           12
          ],
          [
           "PA",
           "STEA",
           1
          ],
          [
           "PA",
           "STEA",
           2
          ],
          [
           "PA",
           "STEA",
           12
          ],
          [
           "NY",
           "STLI",
           1
          ],
          [
           "NY",
           "STLI",
           2
          ],
          [
           "NY",
           "STLI",
           12
          ],
          [
           "NY",
           "STON",
           1
          ],
          [
           "NY",
           "STON",
           2
          ],
          [
           "NY",
           "STON",
           12
          ],
          [
           "TN",
           "STRI",
           1
          ],
          [
           "TN",
           "STRI",
           2
          ],
          [
           "TN",
           "STRI",
           12
          ],
          [
           "AZ",
           "SUCR",
           1
          ],
          [
           "AZ",
           "SUCR",
           2
          ],
          [
           "AZ",
           "SUCR",
           12
          ],
          [
           "KS",
           "TAPR",
           1
          ],
          [
           "KS",
           "TAPR",
           2
          ],
          [
           "KS",
           "TAPR",
           12
          ],
          [
           "PA",
           "THKO",
           1
          ],
          [
           "PA",
           "THKO",
           2
          ],
          [
           "PA",
           "THKO",
           12
          ],
          [
           "NY",
           "THRB",
           1
          ],
          [
           "NY",
           "THRB",
           2
          ],
          [
           "NY",
           "THRB",
           12
          ],
          [
           "NY",
           "THRI",
           1
          ],
          [
           "NY",
           "THRI",
           2
          ],
          [
           "NY",
           "THRI",
           12
          ],
          [
           "ND",
           "THRO",
           1
          ],
          [
           "ND",
           "THRO",
           2
          ],
          [
           "ND",
           "THRO",
           12
          ],
          [
           "MD",
           "THST",
           1
          ],
          [
           "MD",
           "THST",
           2
          ],
          [
           "MD",
           "THST",
           12
          ],
          [
           "UT",
           "TICA",
           1
          ],
          [
           "UT",
           "TICA",
           2
          ],
          [
           "UT",
           "TICA",
           12
          ],
          [
           "FL",
           "TIMU",
           1
          ],
          [
           "FL",
           "TIMU",
           2
          ],
          [
           "FL",
           "TIMU",
           12
          ],
          [
           "AZ",
           "TONT",
           1
          ],
          [
           "AZ",
           "TONT",
           2
          ],
          [
           "AZ",
           "TONT",
           12
          ],
          [
           "AL",
           "TUAI",
           1
          ],
          [
           "AL",
           "TUAI",
           2
          ],
          [
           "AL",
           "TUAI",
           12
          ],
          [
           "AL",
           "TUIN",
           1
          ],
          [
           "AL",
           "TUIN",
           2
          ],
          [
           "AL",
           "TUIN",
           12
          ],
          [
           "AZ",
           "TUMA",
           1
          ],
          [
           "AZ",
           "TUMA",
           2
          ],
          [
           "AZ",
           "TUMA",
           12
          ],
          [
           "AZ",
           "TUZI",
           1
          ],
          [
           "AZ",
           "TUZI",
           2
          ],
          [
           "AZ",
           "TUZI",
           12
          ],
          [
           "MO",
           "ULSG",
           1
          ],
          [
           "MO",
           "ULSG",
           2
          ],
          [
           "MO",
           "ULSG",
           12
          ],
          [
           "PA",
           "VAFO",
           1
          ],
          [
           "PA",
           "VAFO",
           2
          ],
          [
           "PA",
           "VAFO",
           12
          ],
          [
           "HI",
           "VALR",
           1
          ],
          [
           "HI",
           "VALR",
           2
          ],
          [
           "HI",
           "VALR",
           12
          ],
          [
           "NY",
           "VAMA",
           1
          ],
          [
           "NY",
           "VAMA",
           2
          ],
          [
           "NY",
           "VAMA",
           12
          ],
          [
           "MN",
           "VOYA",
           1
          ],
          [
           "MN",
           "VOYA",
           2
          ],
          [
           "MN",
           "VOYA",
           12
          ],
          [
           "OK",
           "WABA",
           1
          ],
          [
           "OK",
           "WABA",
           2
          ],
          [
           "OK",
           "WABA",
           12
          ],
          [
           "AZ",
           "WACA",
           1
          ],
          [
           "AZ",
           "WACA",
           2
          ],
          [
           "AZ",
           "WACA",
           12
          ],
          [
           "TX",
           "WACO",
           1
          ],
          [
           "TX",
           "WACO",
           2
          ],
          [
           "TX",
           "WACO",
           12
          ],
          [
           "CT",
           "WEFA",
           1
          ],
          [
           "CT",
           "WEFA",
           2
          ],
          [
           "CT",
           "WEFA",
           12
          ],
          [
           "CA",
           "WHIS",
           1
          ],
          [
           "CA",
           "WHIS",
           2
          ],
          [
           "CA",
           "WHIS",
           12
          ],
          [
           "WA",
           "WHMI",
           1
          ],
          [
           "WA",
           "WHMI",
           2
          ],
          [
           "WA",
           "WHMI",
           12
          ],
          [
           "NM",
           "WHSA",
           1
          ],
          [
           "NM",
           "WHSA",
           2
          ],
          [
           "NM",
           "WHSA",
           12
          ],
          [
           "SD",
           "WICA",
           1
          ],
          [
           "SD",
           "WICA",
           2
          ],
          [
           "SD",
           "WICA",
           12
          ],
          [
           "AR",
           "WICL",
           1
          ],
          [
           "AR",
           "WICL",
           2
          ],
          [
           "AR",
           "WICL",
           12
          ],
          [
           "MO",
           "WICR",
           1
          ],
          [
           "MO",
           "WICR",
           2
          ],
          [
           "MO",
           "WICR",
           12
          ],
          [
           "OH",
           "WIHO",
           1
          ],
          [
           "OH",
           "WIHO",
           2
          ],
          [
           "OH",
           "WIHO",
           12
          ],
          [
           "NY",
           "WORI",
           1
          ],
          [
           "NY",
           "WORI",
           2
          ],
          [
           "NY",
           "WORI",
           12
          ],
          [
           "VA",
           "WOTR",
           1
          ],
          [
           "VA",
           "WOTR",
           2
          ],
          [
           "VA",
           "WOTR",
           12
          ],
          [
           "NC",
           "WRBR",
           1
          ],
          [
           "NC",
           "WRBR",
           2
          ],
          [
           "NC",
           "WRBR",
           12
          ],
          [
           "AK",
           "WRST",
           1
          ],
          [
           "AK",
           "WRST",
           2
          ],
          [
           "AK",
           "WRST",
           12
          ],
          [
           "AZ",
           "WUPA",
           1
          ],
          [
           "AZ",
           "WUPA",
           2
          ],
          [
           "AZ",
           "WUPA",
           12
          ],
          [
           "CA",
           "YOSE",
           1
          ],
          [
           "CA",
           "YOSE",
           2
          ],
          [
           "CA",
           "YOSE",
           12
          ],
          [
           "AK",
           "YUCH",
           1
          ],
          [
           "AK",
           "YUCH",
           2
          ],
          [
           "AK",
           "YUCH",
           12
          ],
          [
           "UT",
           "ZION",
           1
          ],
          [
           "UT",
           "ZION",
           2
          ],
          [
           "UT",
           "ZION",
           12
          ]
         ],
         "hoverlabel": {
          "namelength": 0
         },
         "hovertemplate": "Population=%{x}<br>Total Visitors=%{marker.size}<br>State Code=%{customdata[0]}<br>ParkCode=%{customdata[1]}<br>Month=%{customdata[2]}",
         "legendgroup": "",
         "marker": {
          "color": "#636efa",
          "size": [
           10212361,
           12927163,
           15199421,
           10212361,
           12927163,
           15199421,
           10212361,
           12927163,
           15199421,
           10212361,
           12927163,
           15199421,
           10212361,
           12927163,
           15199421,
           10212361,
           12927163,
           15199421,
           10212361,
           12927163,
           15199421,
           10212361,
           12927163,
           15199421,
           10212361,
           12927163,
           15199421,
           10212361,
           12927163,
           15199421,
           10212361,
           12927163,
           15199421,
           10212361,
           12927163,
           15199421,
           10212361,
           12927163,
           15199421,
           10212361,
           12927163,
           15199421,
           10212361,
           12927163,
           15199421,
           10212361,
           12927163,
           15199421,
           10212361,
           12927163,
           15199421,
           10212361,
           12927163,
           15199421,
           10212361,
           12927163,
           15199421,
           10212361,
           12927163,
           15199421,
           10212361,
           12927163,
           15199421,
           10212361,
           12927163,
           15199421,
           10212361,
           12927163,
           15199421,
           10212361,
           12927163,
           15199421,
           10212361,
           12927163,
           15199421,
           10212361,
           12927163,
           15199421,
           10212361,
           12927163,
           15199421,
           10212361,
           12927163,
           15199421,
           10212361,
           12927163,
           15199421,
           10212361,
           12927163,
           15199421,
           10212361,
           12927163,
           15199421,
           10212361,
           12927163,
           15199421,
           10212361,
           12927163,
           15199421,
           10212361,
           12927163,
           15199421,
           10212361,
           12927163,
           15199421,
           10212361,
           12927163,
           15199421,
           10212361,
           12927163,
           15199421,
           10212361,
           12927163,
           15199421,
           10212361,
           12927163,
           15199421,
           10212361,
           12927163,
           15199421,
           10212361,
           12927163,
           15199421,
           10212361,
           12927163,
           15199421,
           10212361,
           12927163,
           15199421,
           10212361,
           12927163,
           15199421,
           10212361,
           12927163,
           15199421,
           10212361,
           12927163,
           15199421,
           10212361,
           12927163,
           15199421,
           10212361,
           12927163,
           15199421,
           10212361,
           12927163,
           15199421,
           10212361,
           12927163,
           15199421,
           10212361,
           12927163,
           15199421,
           10212361,
           12927163,
           15199421,
           10212361,
           12927163,
           15199421,
           10212361,
           12927163,
           15199421,
           10212361,
           12927163,
           15199421,
           10212361,
           12927163,
           15199421,
           10212361,
           12927163,
           15199421,
           10212361,
           12927163,
           15199421,
           10212361,
           12927163,
           15199421,
           10212361,
           12927163,
           15199421,
           10212361,
           12927163,
           15199421,
           10212361,
           12927163,
           15199421,
           10212361,
           12927163,
           15199421,
           10212361,
           12927163,
           15199421,
           10212361,
           12927163,
           15199421,
           10212361,
           12927163,
           15199421,
           10212361,
           12927163,
           15199421,
           10212361,
           12927163,
           15199421,
           10212361,
           12927163,
           15199421,
           10212361,
           12927163,
           15199421,
           10212361,
           12927163,
           15199421,
           10212361,
           12927163,
           15199421,
           10212361,
           12927163,
           15199421,
           10212361,
           12927163,
           15199421,
           10212361,
           12927163,
           15199421,
           10212361,
           12927163,
           15199421,
           10212361,
           12927163,
           15199421,
           10212361,
           12927163,
           15199421,
           10212361,
           12927163,
           15199421,
           10212361,
           12927163,
           15199421,
           10212361,
           12927163,
           15199421,
           10212361,
           12927163,
           15199421,
           10212361,
           12927163,
           15199421,
           10212361,
           12927163,
           15199421,
           10212361,
           12927163,
           15199421,
           10212361,
           12927163,
           15199421,
           10212361,
           12927163,
           15199421,
           10212361,
           12927163,
           15199421,
           10212361,
           12927163,
           15199421,
           10212361,
           12927163,
           15199421,
           10212361,
           12927163,
           15199421,
           10212361,
           12927163,
           15199421,
           10212361,
           12927163,
           15199421,
           10212361,
           12927163,
           15199421,
           10212361,
           12927163,
           15199421,
           10212361,
           12927163,
           15199421,
           10212361,
           12927163,
           15199421,
           10212361,
           12927163,
           15199421,
           10212361,
           12927163,
           15199421,
           10212361,
           12927163,
           15199421,
           10212361,
           12927163,
           15199421,
           10212361,
           12927163,
           15199421,
           10212361,
           12927163,
           15199421,
           10212361,
           12927163,
           15199421,
           10212361,
           12927163,
           15199421,
           10212361,
           12927163,
           15199421,
           10212361,
           12927163,
           15199421,
           10212361,
           12927163,
           15199421,
           10212361,
           12927163,
           15199421,
           10212361,
           12927163,
           15199421,
           10212361,
           12927163,
           15199421,
           10212361,
           12927163,
           15199421,
           10212361,
           12927163,
           15199421,
           10212361,
           12927163,
           15199421,
           10212361,
           12927163,
           15199421,
           10212361,
           12927163,
           15199421,
           10212361,
           12927163,
           15199421,
           10212361,
           12927163,
           15199421,
           10212361,
           12927163,
           15199421,
           10212361,
           12927163,
           15199421,
           10212361,
           12927163,
           15199421,
           10212361,
           12927163,
           15199421,
           10212361,
           12927163,
           15199421,
           10212361,
           12927163,
           15199421,
           10212361,
           12927163,
           15199421,
           10212361,
           12927163,
           15199421,
           10212361,
           12927163,
           15199421,
           10212361,
           12927163,
           15199421,
           10212361,
           12927163,
           15199421,
           10212361,
           12927163,
           15199421,
           10212361,
           12927163,
           15199421,
           10212361,
           12927163,
           15199421,
           10212361,
           12927163,
           15199421,
           10212361,
           12927163,
           15199421,
           10212361,
           12927163,
           15199421,
           10212361,
           12927163,
           15199421,
           10212361,
           12927163,
           15199421,
           10212361,
           12927163,
           15199421,
           10212361,
           12927163,
           15199421,
           10212361,
           12927163,
           15199421,
           10212361,
           12927163,
           15199421,
           10212361,
           12927163,
           15199421,
           10212361,
           12927163,
           15199421,
           10212361,
           12927163,
           15199421,
           10212361,
           12927163,
           15199421,
           10212361,
           12927163,
           15199421,
           10212361,
           12927163,
           15199421,
           10212361,
           12927163,
           15199421,
           10212361,
           12927163,
           15199421,
           10212361,
           12927163,
           15199421,
           10212361,
           12927163,
           15199421,
           10212361,
           12927163,
           15199421,
           10212361,
           12927163,
           15199421,
           10212361,
           12927163,
           15199421,
           10212361,
           12927163,
           15199421,
           10212361,
           12927163,
           15199421,
           10212361,
           12927163,
           15199421,
           10212361,
           12927163,
           15199421,
           10212361,
           12927163,
           15199421,
           10212361,
           12927163,
           15199421,
           10212361,
           12927163,
           15199421,
           10212361,
           12927163,
           15199421,
           10212361,
           12927163,
           15199421,
           10212361,
           12927163,
           15199421,
           10212361,
           12927163,
           15199421,
           10212361,
           12927163,
           15199421,
           10212361,
           12927163,
           15199421,
           10212361,
           12927163,
           15199421,
           10212361,
           12927163,
           15199421,
           10212361,
           12927163,
           15199421,
           10212361,
           12927163,
           15199421,
           10212361,
           12927163,
           15199421,
           10212361,
           12927163,
           15199421,
           10212361,
           12927163,
           15199421,
           10212361,
           12927163,
           15199421,
           10212361,
           12927163,
           15199421,
           10212361,
           12927163,
           15199421,
           10212361,
           12927163,
           15199421,
           10212361,
           12927163,
           15199421,
           10212361,
           12927163,
           15199421,
           10212361,
           12927163,
           15199421,
           10212361,
           12927163,
           15199421,
           10212361,
           12927163,
           15199421,
           10212361,
           12927163,
           15199421,
           10212361,
           12927163,
           15199421,
           10212361,
           12927163,
           15199421,
           10212361,
           12927163,
           15199421,
           10212361,
           12927163,
           15199421,
           10212361,
           12927163,
           15199421,
           10212361,
           12927163,
           15199421,
           10212361,
           12927163,
           15199421,
           10212361,
           12927163,
           15199421,
           10212361,
           12927163,
           15199421,
           10212361,
           12927163,
           15199421,
           10212361,
           12927163,
           15199421,
           10212361,
           12927163,
           15199421,
           10212361,
           12927163,
           15199421,
           10212361,
           12927163,
           15199421,
           10212361,
           12927163,
           15199421,
           10212361,
           12927163,
           15199421,
           10212361,
           12927163,
           15199421,
           10212361,
           12927163,
           15199421,
           10212361,
           12927163,
           15199421,
           10212361,
           12927163,
           15199421,
           10212361,
           12927163,
           15199421,
           10212361,
           12927163,
           15199421,
           10212361,
           12927163,
           15199421,
           10212361,
           12927163,
           15199421,
           10212361,
           12927163,
           15199421,
           10212361,
           12927163,
           15199421,
           10212361,
           12927163,
           15199421,
           10212361,
           12927163,
           15199421,
           10212361,
           12927163,
           15199421,
           10212361,
           12927163,
           15199421,
           10212361,
           12927163,
           15199421,
           10212361,
           12927163,
           15199421,
           10212361,
           12927163,
           15199421,
           10212361,
           12927163,
           15199421,
           10212361,
           12927163,
           15199421,
           10212361,
           12927163,
           15199421,
           10212361,
           12927163,
           15199421,
           10212361,
           12927163,
           15199421,
           10212361,
           12927163,
           15199421,
           10212361,
           12927163,
           15199421,
           10212361,
           12927163,
           15199421,
           10212361,
           12927163,
           15199421,
           10212361,
           12927163,
           15199421,
           10212361,
           12927163,
           15199421,
           10212361,
           12927163,
           15199421,
           10212361,
           12927163,
           15199421,
           10212361,
           12927163,
           15199421,
           10212361,
           12927163,
           15199421,
           10212361,
           12927163,
           15199421,
           10212361,
           12927163,
           15199421,
           10212361,
           12927163,
           15199421,
           10212361,
           12927163,
           15199421,
           10212361,
           12927163,
           15199421,
           10212361,
           12927163,
           15199421,
           10212361,
           12927163,
           15199421,
           10212361,
           12927163,
           15199421,
           10212361,
           12927163,
           15199421,
           10212361,
           12927163,
           15199421,
           10212361,
           12927163,
           15199421,
           10212361,
           12927163,
           15199421,
           10212361,
           12927163,
           15199421,
           10212361,
           12927163,
           15199421,
           10212361,
           12927163,
           15199421,
           10212361,
           12927163,
           15199421,
           10212361,
           12927163,
           15199421,
           10212361,
           12927163,
           15199421,
           10212361,
           12927163,
           15199421,
           10212361,
           12927163,
           15199421,
           10212361,
           12927163,
           15199421,
           10212361,
           12927163,
           15199421,
           10212361,
           12927163,
           15199421,
           10212361,
           12927163,
           15199421,
           10212361,
           12927163,
           15199421,
           10212361,
           12927163,
           15199421,
           10212361,
           12927163,
           15199421,
           10212361,
           12927163,
           15199421,
           10212361,
           12927163,
           15199421,
           10212361,
           12927163,
           15199421,
           10212361,
           12927163,
           15199421,
           10212361,
           12927163,
           15199421,
           10212361,
           12927163,
           15199421,
           10212361,
           12927163,
           15199421,
           10212361,
           12927163,
           15199421,
           10212361,
           12927163,
           15199421,
           10212361,
           12927163,
           15199421,
           10212361,
           12927163,
           15199421,
           10212361,
           12927163,
           15199421,
           10212361,
           12927163,
           15199421,
           10212361,
           12927163,
           15199421,
           10212361,
           12927163,
           15199421,
           10212361,
           12927163,
           15199421,
           10212361,
           12927163,
           15199421,
           10212361,
           12927163,
           15199421,
           10212361,
           12927163,
           15199421,
           10212361,
           12927163,
           15199421,
           10212361,
           12927163,
           15199421,
           10212361,
           12927163,
           15199421,
           10212361,
           12927163,
           15199421,
           10212361,
           12927163,
           15199421,
           10212361,
           12927163,
           15199421,
           10212361,
           12927163,
           15199421,
           10212361,
           12927163,
           15199421,
           10212361,
           12927163,
           15199421,
           10212361,
           12927163,
           15199421,
           10212361,
           12927163,
           15199421,
           10212361,
           12927163,
           15199421,
           10212361,
           12927163,
           15199421,
           10212361,
           12927163,
           15199421,
           10212361,
           12927163,
           15199421,
           10212361,
           12927163,
           15199421,
           10212361,
           12927163,
           15199421,
           10212361,
           12927163,
           15199421,
           10212361,
           12927163,
           15199421,
           10212361,
           12927163,
           15199421,
           10212361,
           12927163,
           15199421,
           10212361,
           12927163,
           15199421,
           10212361,
           12927163,
           15199421,
           10212361,
           12927163,
           15199421,
           10212361,
           12927163,
           15199421,
           10212361,
           12927163,
           15199421,
           10212361,
           12927163,
           15199421,
           10212361,
           12927163,
           15199421,
           10212361,
           12927163,
           15199421,
           10212361,
           12927163,
           15199421,
           10212361,
           12927163,
           15199421,
           10212361,
           12927163,
           15199421,
           10212361,
           12927163,
           15199421
          ],
          "sizemode": "area",
          "sizeref": 37998.5525,
          "symbol": "circle"
         },
         "mode": "markers",
         "name": "",
         "showlegend": false,
         "type": "scatter",
         "x": [
          4424376,
          4424376,
          4424376,
          1330158,
          1330158,
          1330158,
          6789319,
          6789319,
          6789319,
          19798228,
          19798228,
          19798228,
          1893921,
          1893921,
          1893921,
          27419612,
          27419612,
          27419612,
          12790505,
          12790505,
          12790505,
          27419612,
          27419612,
          27419612,
          10201635,
          10201635,
          10201635,
          738565,
          738565,
          738565,
          6597381,
          6597381,
          6597381,
          5996079,
          5996079,
          5996079,
          8365952,
          8365952,
          8365952,
          5763217,
          5763217,
          5763217,
          2993941,
          2993941,
          2993941,
          8365952,
          8365952,
          8365952,
          2977944,
          2977944,
          2977944,
          2084828,
          2084828,
          2084828,
          855444,
          855444,
          855444,
          2084828,
          2084828,
          2084828,
          738565,
          738565,
          738565,
          5436519,
          5436519,
          5436519,
          27419612,
          27419612,
          27419612,
          20278447,
          20278447,
          20278447,
          1029862,
          1029862,
          1029862,
          20278447,
          20278447,
          20278447,
          27419612,
          27419612,
          27419612,
          5436519,
          5436519,
          5436519,
          1836843,
          1836843,
          1836843,
          6789319,
          6789319,
          6789319,
          6789319,
          6789319,
          6789319,
          8365952,
          8365952,
          8365952,
          2993941,
          2993941,
          2993941,
          2903820,
          2903820,
          2903820,
          2977944,
          2977944,
          2977944,
          38982847,
          38982847,
          38982847,
          6809946,
          6809946,
          6809946,
          19798228,
          19798228,
          19798228,
          6789319,
          6789319,
          6789319,
          6809946,
          6809946,
          6809946,
          10052564,
          10052564,
          10052564,
          738565,
          738565,
          738565,
          10052564,
          10052564,
          10052564,
          20278447,
          20278447,
          20278447,
          2993941,
          2993941,
          2993941,
          2993941,
          2993941,
          2993941,
          4663461,
          4663461,
          4663461,
          10052564,
          10052564,
          10052564,
          20278447,
          20278447,
          20278447,
          5996079,
          5996079,
          5996079,
          2084828,
          2084828,
          2084828,
          2084828,
          2084828,
          2084828,
          2993941,
          2993941,
          2993941,
          38982847,
          38982847,
          38982847,
          27419612,
          27419612,
          27419612,
          10201635,
          10201635,
          10201635,
          2084828,
          2084828,
          2084828,
          3896251,
          3896251,
          3896251,
          6809946,
          6809946,
          6809946,
          38982847,
          38982847,
          38982847,
          4893444,
          4893444,
          4893444,
          2977944,
          2977944,
          2977944,
          11609756,
          11609756,
          11609756,
          1657375,
          1657375,
          1657375,
          5996079,
          5996079,
          5996079,
          5436519,
          5436519,
          5436519,
          8365952,
          8365952,
          8365952,
          4893444,
          4893444,
          4893444,
          6809946,
          6809946,
          6809946,
          4893444,
          4893444,
          4893444,
          4025127,
          4025127,
          4025127,
          1657375,
          1657375,
          1657375,
          10201635,
          10201635,
          10201635,
          5436519,
          5436519,
          5436519,
          11609756,
          11609756,
          11609756,
          11609756,
          11609756,
          11609756,
          738565,
          738565,
          738565,
          38982847,
          38982847,
          38982847,
          20278447,
          20278447,
          20278447,
          583200,
          583200,
          583200,
          20278447,
          20278447,
          20278447,
          12790505,
          12790505,
          12790505,
          8960161,
          8960161,
          8960161,
          3118102,
          3118102,
          3118102,
          12790505,
          12790505,
          12790505,
          2084828,
          2084828,
          2084828,
          2084828,
          2084828,
          2084828,
          19798228,
          19798228,
          19798228,
          38982847,
          38982847,
          38982847,
          20278447,
          20278447,
          20278447,
          19798228,
          19798228,
          19798228,
          19798228,
          19798228,
          19798228,
          11609756,
          11609756,
          11609756,
          5436519,
          5436519,
          5436519,
          12790505,
          12790505,
          12790505,
          6809946,
          6809946,
          6809946,
          583200,
          583200,
          583200,
          27419612,
          27419612,
          27419612,
          10201635,
          10201635,
          10201635,
          583200,
          583200,
          583200,
          2903820,
          2903820,
          2903820,
          20278447,
          20278447,
          20278447,
          5996079,
          5996079,
          5996079,
          12790505,
          12790505,
          12790505,
          38982847,
          38982847,
          38982847,
          10201635,
          10201635,
          10201635,
          10052564,
          10052564,
          10052564,
          2903820,
          2903820,
          2903820,
          19798228,
          19798228,
          19798228,
          4893444,
          4893444,
          4893444,
          2084828,
          2084828,
          2084828,
          5996079,
          5996079,
          5996079,
          12790505,
          12790505,
          12790505,
          6789319,
          6789319,
          6789319,
          8365952,
          8365952,
          8365952,
          738565,
          738565,
          738565,
          1836843,
          1836843,
          1836843,
          19798228,
          19798228,
          19798228,
          6614418,
          6614418,
          6614418,
          12790505,
          12790505,
          12790505,
          8365952,
          8365952,
          8365952,
          2084828,
          2084828,
          2084828,
          1029862,
          1029862,
          1029862,
          738565,
          738565,
          738565,
          38982847,
          38982847,
          38982847,
          19798228,
          19798228,
          19798228,
          2993941,
          2993941,
          2993941,
          2887725,
          2887725,
          2887725,
          6809946,
          6809946,
          6809946,
          5996079,
          5996079,
          5996079,
          1029862,
          1029862,
          1029862,
          5490726,
          5490726,
          5490726,
          5436519,
          5436519,
          5436519,
          583200,
          583200,
          583200,
          10052564,
          10052564,
          10052564,
          27419612,
          27419612,
          27419612,
          6075300,
          6075300,
          6075300,
          1657375,
          1657375,
          1657375,
          19798228,
          19798228,
          19798228,
          1421658,
          1421658,
          1421658,
          5996079,
          5996079,
          5996079,
          1421658,
          1421658,
          1421658,
          3118102,
          3118102,
          3118102,
          4850771,
          4850771,
          4850771,
          11609756,
          11609756,
          11609756,
          19798228,
          19798228,
          19798228,
          12790505,
          12790505,
          12790505,
          1893921,
          1893921,
          1893921,
          2977944,
          2977944,
          2977944,
          6075300,
          6075300,
          6075300,
          6809946,
          6809946,
          6809946,
          12790505,
          12790505,
          12790505,
          6614418,
          6614418,
          6614418,
          9925568,
          9925568,
          9925568,
          11609756,
          11609756,
          11609756,
          4663461,
          4663461,
          4663461,
          855444,
          855444,
          855444,
          6075300,
          6075300,
          6075300,
          4663461,
          4663461,
          4663461,
          10201635,
          10201635,
          10201635,
          4025127,
          4025127,
          4025127,
          6789319,
          6789319,
          6789319,
          12790505,
          12790505,
          12790505,
          38982847,
          38982847,
          38982847,
          38982847,
          38982847,
          38982847,
          1421658,
          1421658,
          1421658,
          1421658,
          1421658,
          1421658,
          738565,
          738565,
          738565,
          738565,
          738565,
          738565,
          10201635,
          10201635,
          10201635,
          9925568,
          9925568,
          9925568,
          4893444,
          4893444,
          4893444,
          738565,
          738565,
          738565,
          7169967,
          7169967,
          7169967,
          745475,
          745475,
          745475,
          738565,
          738565,
          738565,
          38982847,
          38982847,
          38982847,
          738565,
          738565,
          738565,
          27419612,
          27419612,
          27419612,
          7169967,
          7169967,
          7169967,
          38982847,
          38982847,
          38982847,
          1029862,
          1029862,
          1029862,
          6614418,
          6614418,
          6614418,
          12854526,
          12854526,
          12854526,
          4850771,
          4850771,
          4850771,
          6789319,
          6789319,
          6789319,
          6789319,
          6789319,
          6789319,
          27419612,
          27419612,
          27419612,
          624636,
          624636,
          624636,
          4424376,
          4424376,
          4424376,
          10201635,
          10201635,
          10201635,
          8365952,
          8365952,
          8365952,
          38982847,
          38982847,
          38982847,
          19798228,
          19798228,
          19798228,
          8365952,
          8365952,
          8365952,
          5436519,
          5436519,
          5436519,
          6789319,
          6789319,
          6789319,
          855444,
          855444,
          855444,
          5490726,
          5490726,
          5490726,
          6809946,
          6809946,
          6809946,
          10052564,
          10052564,
          10052564,
          38982847,
          38982847,
          38982847,
          5996079,
          5996079,
          5996079,
          7169967,
          7169967,
          7169967,
          8960161,
          8960161,
          8960161,
          855444,
          855444,
          855444,
          38982847,
          38982847,
          38982847,
          2993941,
          2993941,
          2993941,
          2986220,
          2986220,
          2986220,
          6809946,
          6809946,
          6809946,
          6789319,
          6789319,
          6789319,
          1836843,
          1836843,
          1836843,
          2903820,
          2903820,
          2903820,
          1893921,
          1893921,
          1893921,
          4893444,
          4893444,
          4893444,
          738565,
          738565,
          738565,
          7169967,
          7169967,
          7169967,
          10201635,
          10201635,
          10201635,
          7169967,
          7169967,
          7169967,
          4025127,
          4025127,
          4025127,
          6809946,
          6809946,
          6809946,
          6075300,
          6075300,
          6075300,
          27419612,
          27419612,
          27419612,
          8960161,
          8960161,
          8960161,
          27419612,
          27419612,
          27419612,
          2084828,
          2084828,
          2084828,
          6809946,
          6809946,
          6809946,
          2977944,
          2977944,
          2977944,
          8365952,
          8365952,
          8365952,
          2084828,
          2084828,
          2084828,
          11609756,
          11609756,
          11609756,
          38982847,
          38982847,
          38982847,
          5490726,
          5490726,
          5490726,
          9925568,
          9925568,
          9925568,
          5996079,
          5996079,
          5996079,
          6809946,
          6809946,
          6809946,
          38982847,
          38982847,
          38982847,
          38982847,
          38982847,
          38982847,
          8365952,
          8365952,
          8365952,
          1421658,
          1421658,
          1421658,
          1421658,
          1421658,
          1421658,
          2993941,
          2993941,
          2993941,
          38982847,
          38982847,
          38982847,
          8365952,
          8365952,
          8365952,
          27419612,
          27419612,
          27419612,
          9925568,
          9925568,
          9925568,
          5436519,
          5436519,
          5436519,
          38982847,
          38982847,
          38982847,
          1056138,
          1056138,
          1056138,
          4850771,
          4850771,
          4850771,
          27419612,
          27419612,
          27419612,
          1330158,
          1330158,
          1330158,
          38982847,
          38982847,
          38982847,
          1331848,
          1331848,
          1331848,
          6809946,
          6809946,
          6809946,
          19798228,
          19798228,
          19798228,
          6789319,
          6789319,
          6789319,
          7169967,
          7169967,
          7169967,
          6789319,
          6789319,
          6789319,
          38982847,
          38982847,
          38982847,
          5436519,
          5436519,
          5436519,
          19798228,
          19798228,
          19798228,
          2084828,
          2084828,
          2084828,
          19798228,
          19798228,
          19798228,
          1893921,
          1893921,
          1893921,
          8365952,
          8365952,
          8365952,
          738565,
          738565,
          738565,
          9925568,
          9925568,
          9925568,
          6789319,
          6789319,
          6789319,
          12790505,
          12790505,
          12790505,
          19798228,
          19798228,
          19798228,
          19798228,
          19798228,
          19798228,
          6597381,
          6597381,
          6597381,
          6809946,
          6809946,
          6809946,
          2903820,
          2903820,
          2903820,
          12790505,
          12790505,
          12790505,
          19798228,
          19798228,
          19798228,
          19798228,
          19798228,
          19798228,
          745475,
          745475,
          745475,
          5996079,
          5996079,
          5996079,
          2993941,
          2993941,
          2993941,
          20278447,
          20278447,
          20278447,
          6809946,
          6809946,
          6809946,
          4850771,
          4850771,
          4850771,
          4850771,
          4850771,
          4850771,
          6809946,
          6809946,
          6809946,
          6809946,
          6809946,
          6809946,
          6075300,
          6075300,
          6075300,
          12790505,
          12790505,
          12790505,
          1421658,
          1421658,
          1421658,
          19798228,
          19798228,
          19798228,
          5490726,
          5490726,
          5490726,
          3896251,
          3896251,
          3896251,
          6809946,
          6809946,
          6809946,
          27419612,
          27419612,
          27419612,
          3594478,
          3594478,
          3594478,
          38982847,
          38982847,
          38982847,
          7169967,
          7169967,
          7169967,
          2084828,
          2084828,
          2084828,
          855444,
          855444,
          855444,
          2977944,
          2977944,
          2977944,
          6075300,
          6075300,
          6075300,
          11609756,
          11609756,
          11609756,
          19798228,
          19798228,
          19798228,
          8365952,
          8365952,
          8365952,
          10052564,
          10052564,
          10052564,
          738565,
          738565,
          738565,
          6809946,
          6809946,
          6809946,
          38982847,
          38982847,
          38982847,
          738565,
          738565,
          738565,
          2993941,
          2993941,
          2993941
         ],
         "xaxis": "x",
         "y": [
          10212361,
          12927163,
          15199421,
          10212361,
          12927163,
          15199421,
          10212361,
          12927163,
          15199421,
          10212361,
          12927163,
          15199421,
          10212361,
          12927163,
          15199421,
          10212361,
          12927163,
          15199421,
          10212361,
          12927163,
          15199421,
          10212361,
          12927163,
          15199421,
          10212361,
          12927163,
          15199421,
          10212361,
          12927163,
          15199421,
          10212361,
          12927163,
          15199421,
          10212361,
          12927163,
          15199421,
          10212361,
          12927163,
          15199421,
          10212361,
          12927163,
          15199421,
          10212361,
          12927163,
          15199421,
          10212361,
          12927163,
          15199421,
          10212361,
          12927163,
          15199421,
          10212361,
          12927163,
          15199421,
          10212361,
          12927163,
          15199421,
          10212361,
          12927163,
          15199421,
          10212361,
          12927163,
          15199421,
          10212361,
          12927163,
          15199421,
          10212361,
          12927163,
          15199421,
          10212361,
          12927163,
          15199421,
          10212361,
          12927163,
          15199421,
          10212361,
          12927163,
          15199421,
          10212361,
          12927163,
          15199421,
          10212361,
          12927163,
          15199421,
          10212361,
          12927163,
          15199421,
          10212361,
          12927163,
          15199421,
          10212361,
          12927163,
          15199421,
          10212361,
          12927163,
          15199421,
          10212361,
          12927163,
          15199421,
          10212361,
          12927163,
          15199421,
          10212361,
          12927163,
          15199421,
          10212361,
          12927163,
          15199421,
          10212361,
          12927163,
          15199421,
          10212361,
          12927163,
          15199421,
          10212361,
          12927163,
          15199421,
          10212361,
          12927163,
          15199421,
          10212361,
          12927163,
          15199421,
          10212361,
          12927163,
          15199421,
          10212361,
          12927163,
          15199421,
          10212361,
          12927163,
          15199421,
          10212361,
          12927163,
          15199421,
          10212361,
          12927163,
          15199421,
          10212361,
          12927163,
          15199421,
          10212361,
          12927163,
          15199421,
          10212361,
          12927163,
          15199421,
          10212361,
          12927163,
          15199421,
          10212361,
          12927163,
          15199421,
          10212361,
          12927163,
          15199421,
          10212361,
          12927163,
          15199421,
          10212361,
          12927163,
          15199421,
          10212361,
          12927163,
          15199421,
          10212361,
          12927163,
          15199421,
          10212361,
          12927163,
          15199421,
          10212361,
          12927163,
          15199421,
          10212361,
          12927163,
          15199421,
          10212361,
          12927163,
          15199421,
          10212361,
          12927163,
          15199421,
          10212361,
          12927163,
          15199421,
          10212361,
          12927163,
          15199421,
          10212361,
          12927163,
          15199421,
          10212361,
          12927163,
          15199421,
          10212361,
          12927163,
          15199421,
          10212361,
          12927163,
          15199421,
          10212361,
          12927163,
          15199421,
          10212361,
          12927163,
          15199421,
          10212361,
          12927163,
          15199421,
          10212361,
          12927163,
          15199421,
          10212361,
          12927163,
          15199421,
          10212361,
          12927163,
          15199421,
          10212361,
          12927163,
          15199421,
          10212361,
          12927163,
          15199421,
          10212361,
          12927163,
          15199421,
          10212361,
          12927163,
          15199421,
          10212361,
          12927163,
          15199421,
          10212361,
          12927163,
          15199421,
          10212361,
          12927163,
          15199421,
          10212361,
          12927163,
          15199421,
          10212361,
          12927163,
          15199421,
          10212361,
          12927163,
          15199421,
          10212361,
          12927163,
          15199421,
          10212361,
          12927163,
          15199421,
          10212361,
          12927163,
          15199421,
          10212361,
          12927163,
          15199421,
          10212361,
          12927163,
          15199421,
          10212361,
          12927163,
          15199421,
          10212361,
          12927163,
          15199421,
          10212361,
          12927163,
          15199421,
          10212361,
          12927163,
          15199421,
          10212361,
          12927163,
          15199421,
          10212361,
          12927163,
          15199421,
          10212361,
          12927163,
          15199421,
          10212361,
          12927163,
          15199421,
          10212361,
          12927163,
          15199421,
          10212361,
          12927163,
          15199421,
          10212361,
          12927163,
          15199421,
          10212361,
          12927163,
          15199421,
          10212361,
          12927163,
          15199421,
          10212361,
          12927163,
          15199421,
          10212361,
          12927163,
          15199421,
          10212361,
          12927163,
          15199421,
          10212361,
          12927163,
          15199421,
          10212361,
          12927163,
          15199421,
          10212361,
          12927163,
          15199421,
          10212361,
          12927163,
          15199421,
          10212361,
          12927163,
          15199421,
          10212361,
          12927163,
          15199421,
          10212361,
          12927163,
          15199421,
          10212361,
          12927163,
          15199421,
          10212361,
          12927163,
          15199421,
          10212361,
          12927163,
          15199421,
          10212361,
          12927163,
          15199421,
          10212361,
          12927163,
          15199421,
          10212361,
          12927163,
          15199421,
          10212361,
          12927163,
          15199421,
          10212361,
          12927163,
          15199421,
          10212361,
          12927163,
          15199421,
          10212361,
          12927163,
          15199421,
          10212361,
          12927163,
          15199421,
          10212361,
          12927163,
          15199421,
          10212361,
          12927163,
          15199421,
          10212361,
          12927163,
          15199421,
          10212361,
          12927163,
          15199421,
          10212361,
          12927163,
          15199421,
          10212361,
          12927163,
          15199421,
          10212361,
          12927163,
          15199421,
          10212361,
          12927163,
          15199421,
          10212361,
          12927163,
          15199421,
          10212361,
          12927163,
          15199421,
          10212361,
          12927163,
          15199421,
          10212361,
          12927163,
          15199421,
          10212361,
          12927163,
          15199421,
          10212361,
          12927163,
          15199421,
          10212361,
          12927163,
          15199421,
          10212361,
          12927163,
          15199421,
          10212361,
          12927163,
          15199421,
          10212361,
          12927163,
          15199421,
          10212361,
          12927163,
          15199421,
          10212361,
          12927163,
          15199421,
          10212361,
          12927163,
          15199421,
          10212361,
          12927163,
          15199421,
          10212361,
          12927163,
          15199421,
          10212361,
          12927163,
          15199421,
          10212361,
          12927163,
          15199421,
          10212361,
          12927163,
          15199421,
          10212361,
          12927163,
          15199421,
          10212361,
          12927163,
          15199421,
          10212361,
          12927163,
          15199421,
          10212361,
          12927163,
          15199421,
          10212361,
          12927163,
          15199421,
          10212361,
          12927163,
          15199421,
          10212361,
          12927163,
          15199421,
          10212361,
          12927163,
          15199421,
          10212361,
          12927163,
          15199421,
          10212361,
          12927163,
          15199421,
          10212361,
          12927163,
          15199421,
          10212361,
          12927163,
          15199421,
          10212361,
          12927163,
          15199421,
          10212361,
          12927163,
          15199421,
          10212361,
          12927163,
          15199421,
          10212361,
          12927163,
          15199421,
          10212361,
          12927163,
          15199421,
          10212361,
          12927163,
          15199421,
          10212361,
          12927163,
          15199421,
          10212361,
          12927163,
          15199421,
          10212361,
          12927163,
          15199421,
          10212361,
          12927163,
          15199421,
          10212361,
          12927163,
          15199421,
          10212361,
          12927163,
          15199421,
          10212361,
          12927163,
          15199421,
          10212361,
          12927163,
          15199421,
          10212361,
          12927163,
          15199421,
          10212361,
          12927163,
          15199421,
          10212361,
          12927163,
          15199421,
          10212361,
          12927163,
          15199421,
          10212361,
          12927163,
          15199421,
          10212361,
          12927163,
          15199421,
          10212361,
          12927163,
          15199421,
          10212361,
          12927163,
          15199421,
          10212361,
          12927163,
          15199421,
          10212361,
          12927163,
          15199421,
          10212361,
          12927163,
          15199421,
          10212361,
          12927163,
          15199421,
          10212361,
          12927163,
          15199421,
          10212361,
          12927163,
          15199421,
          10212361,
          12927163,
          15199421,
          10212361,
          12927163,
          15199421,
          10212361,
          12927163,
          15199421,
          10212361,
          12927163,
          15199421,
          10212361,
          12927163,
          15199421,
          10212361,
          12927163,
          15199421,
          10212361,
          12927163,
          15199421,
          10212361,
          12927163,
          15199421,
          10212361,
          12927163,
          15199421,
          10212361,
          12927163,
          15199421,
          10212361,
          12927163,
          15199421,
          10212361,
          12927163,
          15199421,
          10212361,
          12927163,
          15199421,
          10212361,
          12927163,
          15199421,
          10212361,
          12927163,
          15199421,
          10212361,
          12927163,
          15199421,
          10212361,
          12927163,
          15199421,
          10212361,
          12927163,
          15199421,
          10212361,
          12927163,
          15199421,
          10212361,
          12927163,
          15199421,
          10212361,
          12927163,
          15199421,
          10212361,
          12927163,
          15199421,
          10212361,
          12927163,
          15199421,
          10212361,
          12927163,
          15199421,
          10212361,
          12927163,
          15199421,
          10212361,
          12927163,
          15199421,
          10212361,
          12927163,
          15199421,
          10212361,
          12927163,
          15199421,
          10212361,
          12927163,
          15199421,
          10212361,
          12927163,
          15199421,
          10212361,
          12927163,
          15199421,
          10212361,
          12927163,
          15199421,
          10212361,
          12927163,
          15199421,
          10212361,
          12927163,
          15199421,
          10212361,
          12927163,
          15199421,
          10212361,
          12927163,
          15199421,
          10212361,
          12927163,
          15199421,
          10212361,
          12927163,
          15199421,
          10212361,
          12927163,
          15199421,
          10212361,
          12927163,
          15199421,
          10212361,
          12927163,
          15199421,
          10212361,
          12927163,
          15199421,
          10212361,
          12927163,
          15199421,
          10212361,
          12927163,
          15199421,
          10212361,
          12927163,
          15199421,
          10212361,
          12927163,
          15199421,
          10212361,
          12927163,
          15199421,
          10212361,
          12927163,
          15199421,
          10212361,
          12927163,
          15199421,
          10212361,
          12927163,
          15199421,
          10212361,
          12927163,
          15199421,
          10212361,
          12927163,
          15199421,
          10212361,
          12927163,
          15199421,
          10212361,
          12927163,
          15199421,
          10212361,
          12927163,
          15199421,
          10212361,
          12927163,
          15199421,
          10212361,
          12927163,
          15199421,
          10212361,
          12927163,
          15199421,
          10212361,
          12927163,
          15199421,
          10212361,
          12927163,
          15199421,
          10212361,
          12927163,
          15199421,
          10212361,
          12927163,
          15199421,
          10212361,
          12927163,
          15199421,
          10212361,
          12927163,
          15199421,
          10212361,
          12927163,
          15199421,
          10212361,
          12927163,
          15199421,
          10212361,
          12927163,
          15199421,
          10212361,
          12927163,
          15199421,
          10212361,
          12927163,
          15199421,
          10212361,
          12927163,
          15199421,
          10212361,
          12927163,
          15199421,
          10212361,
          12927163,
          15199421,
          10212361,
          12927163,
          15199421,
          10212361,
          12927163,
          15199421,
          10212361,
          12927163,
          15199421,
          10212361,
          12927163,
          15199421,
          10212361,
          12927163,
          15199421,
          10212361,
          12927163,
          15199421,
          10212361,
          12927163,
          15199421,
          10212361,
          12927163,
          15199421,
          10212361,
          12927163,
          15199421,
          10212361,
          12927163,
          15199421,
          10212361,
          12927163,
          15199421,
          10212361,
          12927163,
          15199421,
          10212361,
          12927163,
          15199421,
          10212361,
          12927163,
          15199421,
          10212361,
          12927163,
          15199421,
          10212361,
          12927163,
          15199421,
          10212361,
          12927163,
          15199421,
          10212361,
          12927163,
          15199421,
          10212361,
          12927163,
          15199421,
          10212361,
          12927163,
          15199421,
          10212361,
          12927163,
          15199421,
          10212361,
          12927163,
          15199421,
          10212361,
          12927163,
          15199421,
          10212361,
          12927163,
          15199421,
          10212361,
          12927163,
          15199421,
          10212361,
          12927163,
          15199421,
          10212361,
          12927163,
          15199421,
          10212361,
          12927163,
          15199421,
          10212361,
          12927163,
          15199421,
          10212361,
          12927163,
          15199421,
          10212361,
          12927163,
          15199421,
          10212361,
          12927163,
          15199421,
          10212361,
          12927163,
          15199421,
          10212361,
          12927163,
          15199421,
          10212361,
          12927163,
          15199421,
          10212361,
          12927163,
          15199421,
          10212361,
          12927163,
          15199421,
          10212361,
          12927163,
          15199421,
          10212361,
          12927163,
          15199421,
          10212361,
          12927163,
          15199421,
          10212361,
          12927163,
          15199421,
          10212361,
          12927163,
          15199421,
          10212361,
          12927163,
          15199421,
          10212361,
          12927163,
          15199421,
          10212361,
          12927163,
          15199421,
          10212361,
          12927163,
          15199421,
          10212361,
          12927163,
          15199421,
          10212361,
          12927163,
          15199421,
          10212361,
          12927163,
          15199421,
          10212361,
          12927163,
          15199421,
          10212361,
          12927163,
          15199421
         ],
         "yaxis": "y"
        }
       ],
       "layout": {
        "legend": {
         "itemsizing": "constant",
         "tracegroupgap": 0
        },
        "margin": {
         "t": 60
        },
        "template": {
         "data": {
          "bar": [
           {
            "error_x": {
             "color": "#2a3f5f"
            },
            "error_y": {
             "color": "#2a3f5f"
            },
            "marker": {
             "line": {
              "color": "#E5ECF6",
              "width": 0.5
             }
            },
            "type": "bar"
           }
          ],
          "barpolar": [
           {
            "marker": {
             "line": {
              "color": "#E5ECF6",
              "width": 0.5
             }
            },
            "type": "barpolar"
           }
          ],
          "carpet": [
           {
            "aaxis": {
             "endlinecolor": "#2a3f5f",
             "gridcolor": "white",
             "linecolor": "white",
             "minorgridcolor": "white",
             "startlinecolor": "#2a3f5f"
            },
            "baxis": {
             "endlinecolor": "#2a3f5f",
             "gridcolor": "white",
             "linecolor": "white",
             "minorgridcolor": "white",
             "startlinecolor": "#2a3f5f"
            },
            "type": "carpet"
           }
          ],
          "choropleth": [
           {
            "colorbar": {
             "outlinewidth": 0,
             "ticks": ""
            },
            "type": "choropleth"
           }
          ],
          "contour": [
           {
            "colorbar": {
             "outlinewidth": 0,
             "ticks": ""
            },
            "colorscale": [
             [
              0,
              "#0d0887"
             ],
             [
              0.1111111111111111,
              "#46039f"
             ],
             [
              0.2222222222222222,
              "#7201a8"
             ],
             [
              0.3333333333333333,
              "#9c179e"
             ],
             [
              0.4444444444444444,
              "#bd3786"
             ],
             [
              0.5555555555555556,
              "#d8576b"
             ],
             [
              0.6666666666666666,
              "#ed7953"
             ],
             [
              0.7777777777777778,
              "#fb9f3a"
             ],
             [
              0.8888888888888888,
              "#fdca26"
             ],
             [
              1,
              "#f0f921"
             ]
            ],
            "type": "contour"
           }
          ],
          "contourcarpet": [
           {
            "colorbar": {
             "outlinewidth": 0,
             "ticks": ""
            },
            "type": "contourcarpet"
           }
          ],
          "heatmap": [
           {
            "colorbar": {
             "outlinewidth": 0,
             "ticks": ""
            },
            "colorscale": [
             [
              0,
              "#0d0887"
             ],
             [
              0.1111111111111111,
              "#46039f"
             ],
             [
              0.2222222222222222,
              "#7201a8"
             ],
             [
              0.3333333333333333,
              "#9c179e"
             ],
             [
              0.4444444444444444,
              "#bd3786"
             ],
             [
              0.5555555555555556,
              "#d8576b"
             ],
             [
              0.6666666666666666,
              "#ed7953"
             ],
             [
              0.7777777777777778,
              "#fb9f3a"
             ],
             [
              0.8888888888888888,
              "#fdca26"
             ],
             [
              1,
              "#f0f921"
             ]
            ],
            "type": "heatmap"
           }
          ],
          "heatmapgl": [
           {
            "colorbar": {
             "outlinewidth": 0,
             "ticks": ""
            },
            "colorscale": [
             [
              0,
              "#0d0887"
             ],
             [
              0.1111111111111111,
              "#46039f"
             ],
             [
              0.2222222222222222,
              "#7201a8"
             ],
             [
              0.3333333333333333,
              "#9c179e"
             ],
             [
              0.4444444444444444,
              "#bd3786"
             ],
             [
              0.5555555555555556,
              "#d8576b"
             ],
             [
              0.6666666666666666,
              "#ed7953"
             ],
             [
              0.7777777777777778,
              "#fb9f3a"
             ],
             [
              0.8888888888888888,
              "#fdca26"
             ],
             [
              1,
              "#f0f921"
             ]
            ],
            "type": "heatmapgl"
           }
          ],
          "histogram": [
           {
            "marker": {
             "colorbar": {
              "outlinewidth": 0,
              "ticks": ""
             }
            },
            "type": "histogram"
           }
          ],
          "histogram2d": [
           {
            "colorbar": {
             "outlinewidth": 0,
             "ticks": ""
            },
            "colorscale": [
             [
              0,
              "#0d0887"
             ],
             [
              0.1111111111111111,
              "#46039f"
             ],
             [
              0.2222222222222222,
              "#7201a8"
             ],
             [
              0.3333333333333333,
              "#9c179e"
             ],
             [
              0.4444444444444444,
              "#bd3786"
             ],
             [
              0.5555555555555556,
              "#d8576b"
             ],
             [
              0.6666666666666666,
              "#ed7953"
             ],
             [
              0.7777777777777778,
              "#fb9f3a"
             ],
             [
              0.8888888888888888,
              "#fdca26"
             ],
             [
              1,
              "#f0f921"
             ]
            ],
            "type": "histogram2d"
           }
          ],
          "histogram2dcontour": [
           {
            "colorbar": {
             "outlinewidth": 0,
             "ticks": ""
            },
            "colorscale": [
             [
              0,
              "#0d0887"
             ],
             [
              0.1111111111111111,
              "#46039f"
             ],
             [
              0.2222222222222222,
              "#7201a8"
             ],
             [
              0.3333333333333333,
              "#9c179e"
             ],
             [
              0.4444444444444444,
              "#bd3786"
             ],
             [
              0.5555555555555556,
              "#d8576b"
             ],
             [
              0.6666666666666666,
              "#ed7953"
             ],
             [
              0.7777777777777778,
              "#fb9f3a"
             ],
             [
              0.8888888888888888,
              "#fdca26"
             ],
             [
              1,
              "#f0f921"
             ]
            ],
            "type": "histogram2dcontour"
           }
          ],
          "mesh3d": [
           {
            "colorbar": {
             "outlinewidth": 0,
             "ticks": ""
            },
            "type": "mesh3d"
           }
          ],
          "parcoords": [
           {
            "line": {
             "colorbar": {
              "outlinewidth": 0,
              "ticks": ""
             }
            },
            "type": "parcoords"
           }
          ],
          "pie": [
           {
            "automargin": true,
            "type": "pie"
           }
          ],
          "scatter": [
           {
            "marker": {
             "colorbar": {
              "outlinewidth": 0,
              "ticks": ""
             }
            },
            "type": "scatter"
           }
          ],
          "scatter3d": [
           {
            "line": {
             "colorbar": {
              "outlinewidth": 0,
              "ticks": ""
             }
            },
            "marker": {
             "colorbar": {
              "outlinewidth": 0,
              "ticks": ""
             }
            },
            "type": "scatter3d"
           }
          ],
          "scattercarpet": [
           {
            "marker": {
             "colorbar": {
              "outlinewidth": 0,
              "ticks": ""
             }
            },
            "type": "scattercarpet"
           }
          ],
          "scattergeo": [
           {
            "marker": {
             "colorbar": {
              "outlinewidth": 0,
              "ticks": ""
             }
            },
            "type": "scattergeo"
           }
          ],
          "scattergl": [
           {
            "marker": {
             "colorbar": {
              "outlinewidth": 0,
              "ticks": ""
             }
            },
            "type": "scattergl"
           }
          ],
          "scattermapbox": [
           {
            "marker": {
             "colorbar": {
              "outlinewidth": 0,
              "ticks": ""
             }
            },
            "type": "scattermapbox"
           }
          ],
          "scatterpolar": [
           {
            "marker": {
             "colorbar": {
              "outlinewidth": 0,
              "ticks": ""
             }
            },
            "type": "scatterpolar"
           }
          ],
          "scatterpolargl": [
           {
            "marker": {
             "colorbar": {
              "outlinewidth": 0,
              "ticks": ""
             }
            },
            "type": "scatterpolargl"
           }
          ],
          "scatterternary": [
           {
            "marker": {
             "colorbar": {
              "outlinewidth": 0,
              "ticks": ""
             }
            },
            "type": "scatterternary"
           }
          ],
          "surface": [
           {
            "colorbar": {
             "outlinewidth": 0,
             "ticks": ""
            },
            "colorscale": [
             [
              0,
              "#0d0887"
             ],
             [
              0.1111111111111111,
              "#46039f"
             ],
             [
              0.2222222222222222,
              "#7201a8"
             ],
             [
              0.3333333333333333,
              "#9c179e"
             ],
             [
              0.4444444444444444,
              "#bd3786"
             ],
             [
              0.5555555555555556,
              "#d8576b"
             ],
             [
              0.6666666666666666,
              "#ed7953"
             ],
             [
              0.7777777777777778,
              "#fb9f3a"
             ],
             [
              0.8888888888888888,
              "#fdca26"
             ],
             [
              1,
              "#f0f921"
             ]
            ],
            "type": "surface"
           }
          ],
          "table": [
           {
            "cells": {
             "fill": {
              "color": "#EBF0F8"
             },
             "line": {
              "color": "white"
             }
            },
            "header": {
             "fill": {
              "color": "#C8D4E3"
             },
             "line": {
              "color": "white"
             }
            },
            "type": "table"
           }
          ]
         },
         "layout": {
          "annotationdefaults": {
           "arrowcolor": "#2a3f5f",
           "arrowhead": 0,
           "arrowwidth": 1
          },
          "coloraxis": {
           "colorbar": {
            "outlinewidth": 0,
            "ticks": ""
           }
          },
          "colorscale": {
           "diverging": [
            [
             0,
             "#8e0152"
            ],
            [
             0.1,
             "#c51b7d"
            ],
            [
             0.2,
             "#de77ae"
            ],
            [
             0.3,
             "#f1b6da"
            ],
            [
             0.4,
             "#fde0ef"
            ],
            [
             0.5,
             "#f7f7f7"
            ],
            [
             0.6,
             "#e6f5d0"
            ],
            [
             0.7,
             "#b8e186"
            ],
            [
             0.8,
             "#7fbc41"
            ],
            [
             0.9,
             "#4d9221"
            ],
            [
             1,
             "#276419"
            ]
           ],
           "sequential": [
            [
             0,
             "#0d0887"
            ],
            [
             0.1111111111111111,
             "#46039f"
            ],
            [
             0.2222222222222222,
             "#7201a8"
            ],
            [
             0.3333333333333333,
             "#9c179e"
            ],
            [
             0.4444444444444444,
             "#bd3786"
            ],
            [
             0.5555555555555556,
             "#d8576b"
            ],
            [
             0.6666666666666666,
             "#ed7953"
            ],
            [
             0.7777777777777778,
             "#fb9f3a"
            ],
            [
             0.8888888888888888,
             "#fdca26"
            ],
            [
             1,
             "#f0f921"
            ]
           ],
           "sequentialminus": [
            [
             0,
             "#0d0887"
            ],
            [
             0.1111111111111111,
             "#46039f"
            ],
            [
             0.2222222222222222,
             "#7201a8"
            ],
            [
             0.3333333333333333,
             "#9c179e"
            ],
            [
             0.4444444444444444,
             "#bd3786"
            ],
            [
             0.5555555555555556,
             "#d8576b"
            ],
            [
             0.6666666666666666,
             "#ed7953"
            ],
            [
             0.7777777777777778,
             "#fb9f3a"
            ],
            [
             0.8888888888888888,
             "#fdca26"
            ],
            [
             1,
             "#f0f921"
            ]
           ]
          },
          "colorway": [
           "#636efa",
           "#EF553B",
           "#00cc96",
           "#ab63fa",
           "#FFA15A",
           "#19d3f3",
           "#FF6692",
           "#B6E880",
           "#FF97FF",
           "#FECB52"
          ],
          "font": {
           "color": "#2a3f5f"
          },
          "geo": {
           "bgcolor": "white",
           "lakecolor": "white",
           "landcolor": "#E5ECF6",
           "showlakes": true,
           "showland": true,
           "subunitcolor": "white"
          },
          "hoverlabel": {
           "align": "left"
          },
          "hovermode": "closest",
          "mapbox": {
           "style": "light"
          },
          "paper_bgcolor": "white",
          "plot_bgcolor": "#E5ECF6",
          "polar": {
           "angularaxis": {
            "gridcolor": "white",
            "linecolor": "white",
            "ticks": ""
           },
           "bgcolor": "#E5ECF6",
           "radialaxis": {
            "gridcolor": "white",
            "linecolor": "white",
            "ticks": ""
           }
          },
          "scene": {
           "xaxis": {
            "backgroundcolor": "#E5ECF6",
            "gridcolor": "white",
            "gridwidth": 2,
            "linecolor": "white",
            "showbackground": true,
            "ticks": "",
            "zerolinecolor": "white"
           },
           "yaxis": {
            "backgroundcolor": "#E5ECF6",
            "gridcolor": "white",
            "gridwidth": 2,
            "linecolor": "white",
            "showbackground": true,
            "ticks": "",
            "zerolinecolor": "white"
           },
           "zaxis": {
            "backgroundcolor": "#E5ECF6",
            "gridcolor": "white",
            "gridwidth": 2,
            "linecolor": "white",
            "showbackground": true,
            "ticks": "",
            "zerolinecolor": "white"
           }
          },
          "shapedefaults": {
           "line": {
            "color": "#2a3f5f"
           }
          },
          "ternary": {
           "aaxis": {
            "gridcolor": "white",
            "linecolor": "white",
            "ticks": ""
           },
           "baxis": {
            "gridcolor": "white",
            "linecolor": "white",
            "ticks": ""
           },
           "bgcolor": "#E5ECF6",
           "caxis": {
            "gridcolor": "white",
            "linecolor": "white",
            "ticks": ""
           }
          },
          "title": {
           "x": 0.05
          },
          "xaxis": {
           "automargin": true,
           "gridcolor": "white",
           "linecolor": "white",
           "ticks": "",
           "title": {
            "standoff": 15
           },
           "zerolinecolor": "white",
           "zerolinewidth": 2
          },
          "yaxis": {
           "automargin": true,
           "gridcolor": "white",
           "linecolor": "white",
           "ticks": "",
           "title": {
            "standoff": 15
           },
           "zerolinecolor": "white",
           "zerolinewidth": 2
          }
         }
        },
        "title": {
         "text": "Population vs. Total Visitor"
        },
        "xaxis": {
         "anchor": "y",
         "domain": [
          0,
          1
         ],
         "title": {
          "text": "Population"
         }
        },
        "yaxis": {
         "anchor": "x",
         "domain": [
          0,
          1
         ],
         "title": {
          "text": "Total Visitors"
         }
        }
       }
      },
      "text/html": [
       "<div>\n",
       "        \n",
       "        \n",
       "            <div id=\"24580e61-7d70-42bc-9cf1-b7b380973199\" class=\"plotly-graph-div\" style=\"height:525px; width:100%;\"></div>\n",
       "            <script type=\"text/javascript\">\n",
       "                require([\"plotly\"], function(Plotly) {\n",
       "                    window.PLOTLYENV=window.PLOTLYENV || {};\n",
       "                    \n",
       "                if (document.getElementById(\"24580e61-7d70-42bc-9cf1-b7b380973199\")) {\n",
       "                    Plotly.newPlot(\n",
       "                        '24580e61-7d70-42bc-9cf1-b7b380973199',\n",
       "                        [{\"customdata\": [[\"KY\", \"ABLI\", 1], [\"KY\", \"ABLI\", 2], [\"KY\", \"ABLI\", 12], [\"ME\", \"ACAD\", 1], [\"ME\", \"ACAD\", 2], [\"ME\", \"ACAD\", 12], [\"MA\", \"ADAM\", 1], [\"MA\", \"ADAM\", 2], [\"MA\", \"ADAM\", 12], [\"NY\", \"AFBG\", 1], [\"NY\", \"AFBG\", 2], [\"NY\", \"AFBG\", 12], [\"NE\", \"AGFO\", 1], [\"NE\", \"AGFO\", 2], [\"NE\", \"AGFO\", 12], [\"TX\", \"ALFL\", 1], [\"TX\", \"ALFL\", 2], [\"TX\", \"ALFL\", 12], [\"PA\", \"ALPO\", 1], [\"PA\", \"ALPO\", 2], [\"PA\", \"ALPO\", 12], [\"TX\", \"AMIS\", 1], [\"TX\", \"AMIS\", 2], [\"TX\", \"AMIS\", 12], [\"GA\", \"ANDE\", 1], [\"GA\", \"ANDE\", 2], [\"GA\", \"ANDE\", 12], [\"AK\", \"ANIA\", 1], [\"AK\", \"ANIA\", 2], [\"AK\", \"ANIA\", 12], [\"TN\", \"ANJO\", 1], [\"TN\", \"ANJO\", 2], [\"TN\", \"ANJO\", 12], [\"MD\", \"ANTI\", 1], [\"MD\", \"ANTI\", 2], [\"MD\", \"ANTI\", 12], [\"VA\", \"APCO\", 1], [\"VA\", \"APCO\", 2], [\"VA\", \"APCO\", 12], [\"WI\", \"APIS\", 1], [\"WI\", \"APIS\", 2], [\"WI\", \"APIS\", 12], [\"UT\", \"ARCH\", 1], [\"UT\", \"ARCH\", 2], [\"UT\", \"ARCH\", 12], [\"VA\", \"ARHO\", 1], [\"VA\", \"ARHO\", 2], [\"VA\", \"ARHO\", 12], [\"AR\", \"ARPO\", 1], [\"AR\", \"ARPO\", 2], [\"AR\", \"ARPO\", 12], [\"NM\", \"AZRU\", 1], [\"NM\", \"AZRU\", 2], [\"NM\", \"AZRU\", 12], [\"SD\", \"BADL\", 1], [\"SD\", \"BADL\", 2], [\"SD\", \"BADL\", 12], [\"NM\", \"BAND\", 1], [\"NM\", \"BAND\", 2], [\"NM\", \"BAND\", 12], [\"AK\", \"BELA\", 1], [\"AK\", \"BELA\", 2], [\"AK\", \"BELA\", 12], [\"CO\", \"BEOL\", 1], [\"CO\", \"BEOL\", 2], [\"CO\", \"BEOL\", 12], [\"TX\", \"BIBE\", 1], [\"TX\", \"BIBE\", 2], [\"TX\", \"BIBE\", 12], [\"FL\", \"BICY\", 1], [\"FL\", \"BICY\", 2], [\"FL\", \"BICY\", 12], [\"MT\", \"BIHO\", 1], [\"MT\", \"BIHO\", 2], [\"MT\", \"BIHO\", 12], [\"FL\", \"BISC\", 1], [\"FL\", \"BISC\", 2], [\"FL\", \"BISC\", 12], [\"TX\", \"BITH\", 1], [\"TX\", \"BITH\", 2], [\"TX\", \"BITH\", 12], [\"CO\", \"BLCA\", 1], [\"CO\", \"BLCA\", 2], [\"CO\", \"BLCA\", 12], [\"WV\", \"BLUE\", 1], [\"WV\", \"BLUE\", 2], [\"WV\", \"BLUE\", 12], [\"MA\", \"BOAF\", 1], [\"MA\", \"BOAF\", 2], [\"MA\", \"BOAF\", 12], [\"MA\", \"BOST\", 1], [\"MA\", \"BOST\", 2], [\"MA\", \"BOST\", 12], [\"VA\", \"BOWA\", 1], [\"VA\", \"BOWA\", 2], [\"VA\", \"BOWA\", 12], [\"UT\", \"BRCA\", 1], [\"UT\", \"BRCA\", 2], [\"UT\", \"BRCA\", 12], [\"KS\", \"BRVB\", 1], [\"KS\", \"BRVB\", 2], [\"KS\", \"BRVB\", 12], [\"AR\", \"BUFF\", 1], [\"AR\", \"BUFF\", 2], [\"AR\", \"BUFF\", 12], [\"CA\", \"CABR\", 1], [\"CA\", \"CABR\", 2], [\"CA\", \"CABR\", 12], [\"AZ\", \"CACH\", 1], [\"AZ\", \"CACH\", 2], [\"AZ\", \"CACH\", 12], [\"NY\", \"CACL\", 1], [\"NY\", \"CACL\", 2], [\"NY\", \"CACL\", 12], [\"MA\", \"CACO\", 1], [\"MA\", \"CACO\", 2], [\"MA\", \"CACO\", 12], [\"AZ\", \"CAGR\", 1], [\"AZ\", \"CAGR\", 2], [\"AZ\", \"CAGR\", 12], [\"NC\", \"CAHA\", 1], [\"NC\", \"CAHA\", 2], [\"NC\", \"CAHA\", 12], [\"AK\", \"CAKR\", 1], [\"AK\", \"CAKR\", 2], [\"AK\", \"CAKR\", 12], [\"NC\", \"CALO\", 1], [\"NC\", \"CALO\", 2], [\"NC\", \"CALO\", 12], [\"FL\", \"CANA\", 1], [\"FL\", \"CANA\", 2], [\"FL\", \"CANA\", 12], [\"UT\", \"CANY\", 1], [\"UT\", \"CANY\", 2], [\"UT\", \"CANY\", 12], [\"UT\", \"CARE\", 1], [\"UT\", \"CARE\", 2], [\"UT\", \"CARE\", 12], [\"LA\", \"CARI\", 1], [\"LA\", \"CARI\", 2], [\"LA\", \"CARI\", 12], [\"NC\", \"CARL\", 1], [\"NC\", \"CARL\", 2], [\"NC\", \"CARL\", 12], [\"FL\", \"CASA\", 1], [\"FL\", \"CASA\", 2], [\"FL\", \"CASA\", 12], [\"MD\", \"CATO\", 1], [\"MD\", \"CATO\", 2], [\"MD\", \"CATO\", 12], [\"NM\", \"CAVE\", 1], [\"NM\", \"CAVE\", 2], [\"NM\", \"CAVE\", 12], [\"NM\", \"CAVO\", 1], [\"NM\", \"CAVO\", 2], [\"NM\", \"CAVO\", 12], [\"UT\", \"CEBR\", 1], [\"UT\", \"CEBR\", 2], [\"UT\", \"CEBR\", 12], [\"CA\", \"CECH\", 1], [\"CA\", \"CECH\", 2], [\"CA\", \"CECH\", 12], [\"TX\", \"CHAM\", 1], [\"TX\", \"CHAM\", 2], [\"TX\", \"CHAM\", 12], [\"GA\", \"CHAT\", 1], [\"GA\", \"CHAT\", 2], [\"GA\", \"CHAT\", 12], [\"NM\", \"CHCU\", 1], [\"NM\", \"CHCU\", 2], [\"NM\", \"CHCU\", 12], [\"OK\", \"CHIC\", 1], [\"OK\", \"CHIC\", 2], [\"OK\", \"CHIC\", 12], [\"AZ\", \"CHIR\", 1], [\"AZ\", \"CHIR\", 2], [\"AZ\", \"CHIR\", 12], [\"CA\", \"CHIS\", 1], [\"CA\", \"CHIS\", 2], [\"CA\", \"CHIS\", 12], [\"SC\", \"CHPI\", 1], [\"SC\", \"CHPI\", 2], [\"SC\", \"CHPI\", 12], [\"AR\", \"CHSC\", 1], [\"AR\", \"CHSC\", 2], [\"AR\", \"CHSC\", 12], [\"OH\", \"CHYO\", 1], [\"OH\", \"CHYO\", 2], [\"OH\", \"CHYO\", 12], [\"ID\", \"CIRO\", 1], [\"ID\", \"CIRO\", 2], [\"ID\", \"CIRO\", 12], [\"MD\", \"CLBA\", 1], [\"MD\", \"CLBA\", 2], [\"MD\", \"CLBA\", 12], [\"CO\", \"COLM\", 1], [\"CO\", \"COLM\", 2], [\"CO\", \"COLM\", 12], [\"VA\", \"COLO\", 1], [\"VA\", \"COLO\", 2], [\"VA\", \"COLO\", 12], [\"SC\", \"CONG\", 1], [\"SC\", \"CONG\", 2], [\"SC\", \"CONG\", 12], [\"AZ\", \"CORO\", 1], [\"AZ\", \"CORO\", 2], [\"AZ\", \"CORO\", 12], [\"SC\", \"COWP\", 1], [\"SC\", \"COWP\", 2], [\"SC\", \"COWP\", 12], [\"OR\", \"CRLA\", 1], [\"OR\", \"CRLA\", 2], [\"OR\", \"CRLA\", 12], [\"ID\", \"CRMO\", 1], [\"ID\", \"CRMO\", 2], [\"ID\", \"CRMO\", 12], [\"GA\", \"CUIS\", 1], [\"GA\", \"CUIS\", 2], [\"GA\", \"CUIS\", 12], [\"CO\", \"CURE\", 1], [\"CO\", \"CURE\", 2], [\"CO\", \"CURE\", 12], [\"OH\", \"CUVA\", 1], [\"OH\", \"CUVA\", 2], [\"OH\", \"CUVA\", 12], [\"OH\", \"DAAV\", 1], [\"OH\", \"DAAV\", 2], [\"OH\", \"DAAV\", 12], [\"AK\", \"DENA\", 1], [\"AK\", \"DENA\", 2], [\"AK\", \"DENA\", 12], [\"CA\", \"DEPO\", 1], [\"CA\", \"DEPO\", 2], [\"CA\", \"DEPO\", 12], [\"FL\", \"DESO\", 1], [\"FL\", \"DESO\", 2], [\"FL\", \"DESO\", 12], [\"WY\", \"DETO\", 1], [\"WY\", \"DETO\", 2], [\"WY\", \"DETO\", 12], [\"FL\", \"DRTO\", 1], [\"FL\", \"DRTO\", 2], [\"FL\", \"DRTO\", 12], [\"PA\", \"EDAL\", 1], [\"PA\", \"EDAL\", 2], [\"PA\", \"EDAL\", 12], [\"NJ\", \"EDIS\", 1], [\"NJ\", \"EDIS\", 2], [\"NJ\", \"EDIS\", 12], [\"IA\", \"EFMO\", 1], [\"IA\", \"EFMO\", 2], [\"IA\", \"EFMO\", 12], [\"PA\", \"EISE\", 1], [\"PA\", \"EISE\", 2], [\"PA\", \"EISE\", 12], [\"NM\", \"ELMA\", 1], [\"NM\", \"ELMA\", 2], [\"NM\", \"ELMA\", 12], [\"NM\", \"ELMO\", 1], [\"NM\", \"ELMO\", 2], [\"NM\", \"ELMO\", 12], [\"NY\", \"ELRO\", 1], [\"NY\", \"ELRO\", 2], [\"NY\", \"ELRO\", 12], [\"CA\", \"EUON\", 1], [\"CA\", \"EUON\", 2], [\"CA\", \"EUON\", 12], [\"FL\", \"EVER\", 1], [\"FL\", \"EVER\", 2], [\"FL\", \"EVER\", 12], [\"NY\", \"FEHA\", 1], [\"NY\", \"FEHA\", 2], [\"NY\", \"FEHA\", 12], [\"NY\", \"FIIS\", 1], [\"NY\", \"FIIS\", 2], [\"NY\", \"FIIS\", 12], [\"OH\", \"FILA\", 1], [\"OH\", \"FILA\", 2], [\"OH\", \"FILA\", 12], [\"CO\", \"FLFO\", 1], [\"CO\", \"FLFO\", 2], [\"CO\", \"FLFO\", 12], [\"PA\", \"FLNI\", 1], [\"PA\", \"FLNI\", 2], [\"PA\", \"FLNI\", 12], [\"AZ\", \"FOBO\", 1], [\"AZ\", \"FOBO\", 2], [\"AZ\", \"FOBO\", 12], [\"WY\", \"FOBU\", 1], [\"WY\", \"FOBU\", 2], [\"WY\", \"FOBU\", 12], [\"TX\", \"FODA\", 1], [\"TX\", \"FODA\", 2], [\"TX\", \"FODA\", 12], [\"GA\", \"FOFR\", 1], [\"GA\", \"FOFR\", 2], [\"GA\", \"FOFR\", 12], [\"WY\", \"FOLA\", 1], [\"WY\", \"FOLA\", 2], [\"WY\", \"FOLA\", 12], [\"KS\", \"FOLS\", 1], [\"KS\", \"FOLS\", 2], [\"KS\", \"FOLS\", 12], [\"FL\", \"FOMA\", 1], [\"FL\", \"FOMA\", 2], [\"FL\", \"FOMA\", 12], [\"MD\", \"FOMC\", 1], [\"MD\", \"FOMC\", 2], [\"MD\", \"FOMC\", 12], [\"PA\", \"FONE\", 1], [\"PA\", \"FONE\", 2], [\"PA\", \"FONE\", 12], [\"CA\", \"FOPO\", 1], [\"CA\", \"FOPO\", 2], [\"CA\", \"FOPO\", 12], [\"GA\", \"FOPU\", 1], [\"GA\", \"FOPU\", 2], [\"GA\", \"FOPU\", 12], [\"NC\", \"FORA\", 1], [\"NC\", \"FORA\", 2], [\"NC\", \"FORA\", 12], [\"KS\", \"FOSC\", 1], [\"KS\", \"FOSC\", 2], [\"KS\", \"FOSC\", 12], [\"NY\", \"FOST\", 1], [\"NY\", \"FOST\", 2], [\"NY\", \"FOST\", 12], [\"SC\", \"FOSU\", 1], [\"SC\", \"FOSU\", 2], [\"SC\", \"FOSU\", 12], [\"NM\", \"FOUN\", 1], [\"NM\", \"FOUN\", 2], [\"NM\", \"FOUN\", 12], [\"MD\", \"FOWA\", 1], [\"MD\", \"FOWA\", 2], [\"MD\", \"FOWA\", 12], [\"PA\", \"FRHI\", 1], [\"PA\", \"FRHI\", 2], [\"PA\", \"FRHI\", 12], [\"MA\", \"FRLA\", 1], [\"MA\", \"FRLA\", 2], [\"MA\", \"FRLA\", 12], [\"VA\", \"FRSP\", 1], [\"VA\", \"FRSP\", 2], [\"VA\", \"FRSP\", 12], [\"AK\", \"GAAR\", 1], [\"AK\", \"GAAR\", 2], [\"AK\", \"GAAR\", 12], [\"WV\", \"GARI\", 1], [\"WV\", \"GARI\", 2], [\"WV\", \"GARI\", 12], [\"NY\", \"GEGR\", 1], [\"NY\", \"GEGR\", 2], [\"NY\", \"GEGR\", 12], [\"IN\", \"GERO\", 1], [\"IN\", \"GERO\", 2], [\"IN\", \"GERO\", 12], [\"PA\", \"GETT\", 1], [\"PA\", \"GETT\", 2], [\"PA\", \"GETT\", 12], [\"VA\", \"GEWA\", 1], [\"VA\", \"GEWA\", 2], [\"VA\", \"GEWA\", 12], [\"NM\", \"GICL\", 1], [\"NM\", \"GICL\", 2], [\"NM\", \"GICL\", 12], [\"MT\", \"GLAC\", 1], [\"MT\", \"GLAC\", 2], [\"MT\", \"GLAC\", 12], [\"AK\", \"GLBA\", 1], [\"AK\", \"GLBA\", 2], [\"AK\", \"GLBA\", 12], [\"CA\", \"GOGA\", 1], [\"CA\", \"GOGA\", 2], [\"CA\", \"GOGA\", 12], [\"NY\", \"GOIS\", 1], [\"NY\", \"GOIS\", 2], [\"NY\", \"GOIS\", 12], [\"UT\", \"GOSP\", 1], [\"UT\", \"GOSP\", 2], [\"UT\", \"GOSP\", 12], [\"NV\", \"GRBA\", 1], [\"NV\", \"GRBA\", 2], [\"NV\", \"GRBA\", 12], [\"AZ\", \"GRCA\", 1], [\"AZ\", \"GRCA\", 2], [\"AZ\", \"GRCA\", 12], [\"MD\", \"GREE\", 1], [\"MD\", \"GREE\", 2], [\"MD\", \"GREE\", 12], [\"MT\", \"GRKO\", 1], [\"MT\", \"GRKO\", 2], [\"MT\", \"GRKO\", 12], [\"MN\", \"GRPO\", 1], [\"MN\", \"GRPO\", 2], [\"MN\", \"GRPO\", 12], [\"CO\", \"GRSA\", 1], [\"CO\", \"GRSA\", 2], [\"CO\", \"GRSA\", 12], [\"WY\", \"GRTE\", 1], [\"WY\", \"GRTE\", 2], [\"WY\", \"GRTE\", 12], [\"NC\", \"GUCO\", 1], [\"NC\", \"GUCO\", 2], [\"NC\", \"GUCO\", 12], [\"TX\", \"GUMO\", 1], [\"TX\", \"GUMO\", 2], [\"TX\", \"GUMO\", 12], [\"MO\", \"GWCA\", 1], [\"MO\", \"GWCA\", 2], [\"MO\", \"GWCA\", 12], [\"ID\", \"HAFO\", 1], [\"ID\", \"HAFO\", 2], [\"ID\", \"HAFO\", 12], [\"NY\", \"HAGR\", 1], [\"NY\", \"HAGR\", 2], [\"NY\", \"HAGR\", 12], [\"HI\", \"HALE\", 1], [\"HI\", \"HALE\", 2], [\"HI\", \"HALE\", 12], [\"MD\", \"HAMP\", 1], [\"MD\", \"HAMP\", 2], [\"MD\", \"HAMP\", 12], [\"HI\", \"HAVO\", 1], [\"HI\", \"HAVO\", 2], [\"HI\", \"HAVO\", 12], [\"IA\", \"HEHO\", 1], [\"IA\", \"HEHO\", 2], [\"IA\", \"HEHO\", 12], [\"AL\", \"HOBE\", 1], [\"AL\", \"HOBE\", 2], [\"AL\", \"HOBE\", 12], [\"OH\", \"HOCU\", 1], [\"OH\", \"HOCU\", 2], [\"OH\", \"HOCU\", 12], [\"NY\", \"HOFR\", 1], [\"NY\", \"HOFR\", 2], [\"NY\", \"HOFR\", 12], [\"PA\", \"HOFU\", 1], [\"PA\", \"HOFU\", 2], [\"PA\", \"HOFU\", 12], [\"NE\", \"HOME\", 1], [\"NE\", \"HOME\", 2], [\"NE\", \"HOME\", 12], [\"AR\", \"HOSP\", 1], [\"AR\", \"HOSP\", 2], [\"AR\", \"HOSP\", 12], [\"MO\", \"HSTR\", 1], [\"MO\", \"HSTR\", 2], [\"MO\", \"HSTR\", 12], [\"AZ\", \"HUTR\", 1], [\"AZ\", \"HUTR\", 2], [\"AZ\", \"HUTR\", 12], [\"PA\", \"INDE\", 1], [\"PA\", \"INDE\", 2], [\"PA\", \"INDE\", 12], [\"IN\", \"INDU\", 1], [\"IN\", \"INDU\", 2], [\"IN\", \"INDU\", 12], [\"MI\", \"ISRO\", 1], [\"MI\", \"ISRO\", 2], [\"MI\", \"ISRO\", 12], [\"OH\", \"JAGA\", 1], [\"OH\", \"JAGA\", 2], [\"OH\", \"JAGA\", 12], [\"LA\", \"JAZZ\", 1], [\"LA\", \"JAZZ\", 2], [\"LA\", \"JAZZ\", 12], [\"SD\", \"JECA\", 1], [\"SD\", \"JECA\", 2], [\"SD\", \"JECA\", 12], [\"MO\", \"JEFF\", 1], [\"MO\", \"JEFF\", 2], [\"MO\", \"JEFF\", 12], [\"LA\", \"JELA\", 1], [\"LA\", \"JELA\", 2], [\"LA\", \"JELA\", 12], [\"GA\", \"JICA\", 1], [\"GA\", \"JICA\", 2], [\"GA\", \"JICA\", 12], [\"OR\", \"JODA\", 1], [\"OR\", \"JODA\", 2], [\"OR\", \"JODA\", 12], [\"MA\", \"JOFI\", 1], [\"MA\", \"JOFI\", 2], [\"MA\", \"JOFI\", 12], [\"PA\", \"JOFL\", 1], [\"PA\", \"JOFL\", 2], [\"PA\", \"JOFL\", 12], [\"CA\", \"JOMU\", 1], [\"CA\", \"JOMU\", 2], [\"CA\", \"JOMU\", 12], [\"CA\", \"JOTR\", 1], [\"CA\", \"JOTR\", 2], [\"CA\", \"JOTR\", 12], [\"HI\", \"KAHO\", 1], [\"HI\", \"KAHO\", 2], [\"HI\", \"KAHO\", 12], [\"HI\", \"KALA\", 1], [\"HI\", \"KALA\", 2], [\"HI\", \"KALA\", 12], [\"AK\", \"KATM\", 1], [\"AK\", \"KATM\", 2], [\"AK\", \"KATM\", 12], [\"AK\", \"KEFJ\", 1], [\"AK\", \"KEFJ\", 2], [\"AK\", \"KEFJ\", 12], [\"GA\", \"KEMO\", 1], [\"GA\", \"KEMO\", 2], [\"GA\", \"KEMO\", 12], [\"MI\", \"KEWE\", 1], [\"MI\", \"KEWE\", 2], [\"MI\", \"KEWE\", 12], [\"SC\", \"KIMO\", 1], [\"SC\", \"KIMO\", 2], [\"SC\", \"KIMO\", 12], [\"AK\", \"KLGO\", 1], [\"AK\", \"KLGO\", 2], [\"AK\", \"KLGO\", 12], [\"WA\", \"KLSE\", 1], [\"WA\", \"KLSE\", 2], [\"WA\", \"KLSE\", 12], [\"ND\", \"KNRI\", 1], [\"ND\", \"KNRI\", 2], [\"ND\", \"KNRI\", 12], [\"AK\", \"KOVA\", 1], [\"AK\", \"KOVA\", 2], [\"AK\", \"KOVA\", 12], [\"CA\", \"LABE\", 1], [\"CA\", \"LABE\", 2], [\"CA\", \"LABE\", 12], [\"AK\", \"LACL\", 1], [\"AK\", \"LACL\", 2], [\"AK\", \"LACL\", 12], [\"TX\", \"LAMR\", 1], [\"TX\", \"LAMR\", 2], [\"TX\", \"LAMR\", 12], [\"WA\", \"LARO\", 1], [\"WA\", \"LARO\", 2], [\"WA\", \"LARO\", 12], [\"CA\", \"LAVO\", 1], [\"CA\", \"LAVO\", 2], [\"CA\", \"LAVO\", 12], [\"MT\", \"LIBI\", 1], [\"MT\", \"LIBI\", 2], [\"MT\", \"LIBI\", 12], [\"IN\", \"LIBO\", 1], [\"IN\", \"LIBO\", 2], [\"IN\", \"LIBO\", 12], [\"IL\", \"LIHO\", 1], [\"IL\", \"LIHO\", 2], [\"IL\", \"LIHO\", 12], [\"AL\", \"LIRI\", 1], [\"AL\", \"LIRI\", 2], [\"AL\", \"LIRI\", 12], [\"MA\", \"LONG\", 1], [\"MA\", \"LONG\", 2], [\"MA\", \"LONG\", 12], [\"MA\", \"LOWE\", 1], [\"MA\", \"LOWE\", 2], [\"MA\", \"LOWE\", 12], [\"TX\", \"LYJO\", 1], [\"TX\", \"LYJO\", 2], [\"TX\", \"LYJO\", 12], [\"VT\", \"MABI\", 1], [\"VT\", \"MABI\", 2], [\"VT\", \"MABI\", 12], [\"KY\", \"MACA\", 1], [\"KY\", \"MACA\", 2], [\"KY\", \"MACA\", 12], [\"GA\", \"MALU\", 1], [\"GA\", \"MALU\", 2], [\"GA\", \"MALU\", 12], [\"VA\", \"MANA\", 1], [\"VA\", \"MANA\", 2], [\"VA\", \"MANA\", 12], [\"CA\", \"MANZ\", 1], [\"CA\", \"MANZ\", 2], [\"CA\", \"MANZ\", 12], [\"NY\", \"MAVA\", 1], [\"NY\", \"MAVA\", 2], [\"NY\", \"MAVA\", 12], [\"VA\", \"MAWA\", 1], [\"VA\", \"MAWA\", 2], [\"VA\", \"MAWA\", 12], [\"CO\", \"MEVE\", 1], [\"CO\", \"MEVE\", 2], [\"CO\", \"MEVE\", 12], [\"MA\", \"MIMA\", 1], [\"MA\", \"MIMA\", 2], [\"MA\", \"MIMA\", 12], [\"SD\", \"MIMI\", 1], [\"SD\", \"MIMI\", 2], [\"SD\", \"MIMI\", 12], [\"MN\", \"MISS\", 1], [\"MN\", \"MISS\", 2], [\"MN\", \"MISS\", 12], [\"AZ\", \"MOCA\", 1], [\"AZ\", \"MOCA\", 2], [\"AZ\", \"MOCA\", 12], [\"NC\", \"MOCR\", 1], [\"NC\", \"MOCR\", 2], [\"NC\", \"MOCR\", 12], [\"CA\", \"MOJA\", 1], [\"CA\", \"MOJA\", 2], [\"CA\", \"MOJA\", 12], [\"MD\", \"MONO\", 1], [\"MD\", \"MONO\", 2], [\"MD\", \"MONO\", 12], [\"WA\", \"MORA\", 1], [\"WA\", \"MORA\", 2], [\"WA\", \"MORA\", 12], [\"NJ\", \"MORR\", 1], [\"NJ\", \"MORR\", 2], [\"NJ\", \"MORR\", 12], [\"SD\", \"MORU\", 1], [\"SD\", \"MORU\", 2], [\"SD\", \"MORU\", 12], [\"CA\", \"MUWO\", 1], [\"CA\", \"MUWO\", 2], [\"CA\", \"MUWO\", 12], [\"UT\", \"NABR\", 1], [\"UT\", \"NABR\", 2], [\"UT\", \"NABR\", 12], [\"MS\", \"NATC\", 1], [\"MS\", \"NATC\", 2], [\"MS\", \"NATC\", 12], [\"AZ\", \"NAVA\", 1], [\"AZ\", \"NAVA\", 2], [\"AZ\", \"NAVA\", 12], [\"MA\", \"NEBE\", 1], [\"MA\", \"NEBE\", 2], [\"MA\", \"NEBE\", 12], [\"WV\", \"NERI\", 1], [\"WV\", \"NERI\", 2], [\"WV\", \"NERI\", 12], [\"KS\", \"NICO\", 1], [\"KS\", \"NICO\", 2], [\"KS\", \"NICO\", 12], [\"NE\", \"NIOB\", 1], [\"NE\", \"NIOB\", 2], [\"NE\", \"NIOB\", 12], [\"SC\", \"NISI\", 1], [\"SC\", \"NISI\", 2], [\"SC\", \"NISI\", 12], [\"AK\", \"NOAT\", 1], [\"AK\", \"NOAT\", 2], [\"AK\", \"NOAT\", 12], [\"WA\", \"NOCA\", 1], [\"WA\", \"NOCA\", 2], [\"WA\", \"NOCA\", 12], [\"GA\", \"OCMU\", 1], [\"GA\", \"OCMU\", 2], [\"GA\", \"OCMU\", 12], [\"WA\", \"OLYM\", 1], [\"WA\", \"OLYM\", 2], [\"WA\", \"OLYM\", 12], [\"OR\", \"ORCA\", 1], [\"OR\", \"ORCA\", 2], [\"OR\", \"ORCA\", 12], [\"AZ\", \"ORPI\", 1], [\"AZ\", \"ORPI\", 2], [\"AZ\", \"ORPI\", 12], [\"MO\", \"OZAR\", 1], [\"MO\", \"OZAR\", 2], [\"MO\", \"OZAR\", 12], [\"TX\", \"PAAL\", 1], [\"TX\", \"PAAL\", 2], [\"TX\", \"PAAL\", 12], [\"NJ\", \"PAGR\", 1], [\"NJ\", \"PAGR\", 2], [\"NJ\", \"PAGR\", 12], [\"TX\", \"PAIS\", 1], [\"TX\", \"PAIS\", 2], [\"TX\", \"PAIS\", 12], [\"NM\", \"PECO\", 1], [\"NM\", \"PECO\", 2], [\"NM\", \"PECO\", 12], [\"AZ\", \"PEFO\", 1], [\"AZ\", \"PEFO\", 2], [\"AZ\", \"PEFO\", 12], [\"AR\", \"PERI\", 1], [\"AR\", \"PERI\", 2], [\"AR\", \"PERI\", 12], [\"VA\", \"PETE\", 1], [\"VA\", \"PETE\", 2], [\"VA\", \"PETE\", 12], [\"NM\", \"PETR\", 1], [\"NM\", \"PETR\", 2], [\"NM\", \"PETR\", 12], [\"OH\", \"PEVI\", 1], [\"OH\", \"PEVI\", 2], [\"OH\", \"PEVI\", 12], [\"CA\", \"PINN\", 1], [\"CA\", \"PINN\", 2], [\"CA\", \"PINN\", 12], [\"MN\", \"PIPE\", 1], [\"MN\", \"PIPE\", 2], [\"MN\", \"PIPE\", 12], [\"MI\", \"PIRO\", 1], [\"MI\", \"PIRO\", 2], [\"MI\", \"PIRO\", 12], [\"MD\", \"PISC\", 1], [\"MD\", \"PISC\", 2], [\"MD\", \"PISC\", 12], [\"AZ\", \"PISP\", 1], [\"AZ\", \"PISP\", 2], [\"AZ\", \"PISP\", 12], [\"CA\", \"POCH\", 1], [\"CA\", \"POCH\", 2], [\"CA\", \"POCH\", 12], [\"CA\", \"PORE\", 1], [\"CA\", \"PORE\", 2], [\"CA\", \"PORE\", 12], [\"VA\", \"PRWI\", 1], [\"VA\", \"PRWI\", 2], [\"VA\", \"PRWI\", 12], [\"HI\", \"PUHE\", 1], [\"HI\", \"PUHE\", 2], [\"HI\", \"PUHE\", 12], [\"HI\", \"PUHO\", 1], [\"HI\", \"PUHO\", 2], [\"HI\", \"PUHO\", 12], [\"UT\", \"RABR\", 1], [\"UT\", \"RABR\", 2], [\"UT\", \"RABR\", 12], [\"CA\", \"REDW\", 1], [\"CA\", \"REDW\", 2], [\"CA\", \"REDW\", 12], [\"VA\", \"RICH\", 1], [\"VA\", \"RICH\", 2], [\"VA\", \"RICH\", 12], [\"TX\", \"RIGR\", 1], [\"TX\", \"RIGR\", 2], [\"TX\", \"RIGR\", 12], [\"MI\", \"RIRA\", 1], [\"MI\", \"RIRA\", 2], [\"MI\", \"RIRA\", 12], [\"CO\", \"ROMO\", 1], [\"CO\", \"ROMO\", 2], [\"CO\", \"ROMO\", 12], [\"CA\", \"RORI\", 1], [\"CA\", \"RORI\", 2], [\"CA\", \"RORI\", 12], [\"RI\", \"ROWI\", 1], [\"RI\", \"ROWI\", 2], [\"RI\", \"ROWI\", 12], [\"AL\", \"RUCA\", 1], [\"AL\", \"RUCA\", 2], [\"AL\", \"RUCA\", 12], [\"TX\", \"SAAN\", 1], [\"TX\", \"SAAN\", 2], [\"TX\", \"SAAN\", 12], [\"ME\", \"SACR\", 1], [\"ME\", \"SACR\", 2], [\"ME\", \"SACR\", 12], [\"CA\", \"SAFR\", 1], [\"CA\", \"SAFR\", 2], [\"CA\", \"SAFR\", 12], [\"NH\", \"SAGA\", 1], [\"NH\", \"SAGA\", 2], [\"NH\", \"SAGA\", 12], [\"AZ\", \"SAGU\", 1], [\"AZ\", \"SAGU\", 2], [\"AZ\", \"SAGU\", 12], [\"NY\", \"SAHI\", 1], [\"NY\", \"SAHI\", 2], [\"NY\", \"SAHI\", 12], [\"MA\", \"SAIR\", 1], [\"MA\", \"SAIR\", 2], [\"MA\", \"SAIR\", 12], [\"WA\", \"SAJH\", 1], [\"WA\", \"SAJH\", 2], [\"WA\", \"SAJH\", 12], [\"MA\", \"SAMA\", 1], [\"MA\", \"SAMA\", 2], [\"MA\", \"SAMA\", 12], [\"CA\", \"SAMO\", 1], [\"CA\", \"SAMO\", 2], [\"CA\", \"SAMO\", 12], [\"CO\", \"SAND\", 1], [\"CO\", \"SAND\", 2], [\"CO\", \"SAND\", 12], [\"NY\", \"SAPA\", 1], [\"NY\", \"SAPA\", 2], [\"NY\", \"SAPA\", 12], [\"NM\", \"SAPU\", 1], [\"NM\", \"SAPU\", 2], [\"NM\", \"SAPU\", 12], [\"NY\", \"SARA\", 1], [\"NY\", \"SARA\", 2], [\"NY\", \"SARA\", 12], [\"NE\", \"SCBL\", 1], [\"NE\", \"SCBL\", 2], [\"NE\", \"SCBL\", 12], [\"VA\", \"SHEN\", 1], [\"VA\", \"SHEN\", 2], [\"VA\", \"SHEN\", 12], [\"AK\", \"SITK\", 1], [\"AK\", \"SITK\", 2], [\"AK\", \"SITK\", 12], [\"MI\", \"SLBE\", 1], [\"MI\", \"SLBE\", 2], [\"MI\", \"SLBE\", 12], [\"MA\", \"SPAR\", 1], [\"MA\", \"SPAR\", 2], [\"MA\", \"SPAR\", 12], [\"PA\", \"STEA\", 1], [\"PA\", \"STEA\", 2], [\"PA\", \"STEA\", 12], [\"NY\", \"STLI\", 1], [\"NY\", \"STLI\", 2], [\"NY\", \"STLI\", 12], [\"NY\", \"STON\", 1], [\"NY\", \"STON\", 2], [\"NY\", \"STON\", 12], [\"TN\", \"STRI\", 1], [\"TN\", \"STRI\", 2], [\"TN\", \"STRI\", 12], [\"AZ\", \"SUCR\", 1], [\"AZ\", \"SUCR\", 2], [\"AZ\", \"SUCR\", 12], [\"KS\", \"TAPR\", 1], [\"KS\", \"TAPR\", 2], [\"KS\", \"TAPR\", 12], [\"PA\", \"THKO\", 1], [\"PA\", \"THKO\", 2], [\"PA\", \"THKO\", 12], [\"NY\", \"THRB\", 1], [\"NY\", \"THRB\", 2], [\"NY\", \"THRB\", 12], [\"NY\", \"THRI\", 1], [\"NY\", \"THRI\", 2], [\"NY\", \"THRI\", 12], [\"ND\", \"THRO\", 1], [\"ND\", \"THRO\", 2], [\"ND\", \"THRO\", 12], [\"MD\", \"THST\", 1], [\"MD\", \"THST\", 2], [\"MD\", \"THST\", 12], [\"UT\", \"TICA\", 1], [\"UT\", \"TICA\", 2], [\"UT\", \"TICA\", 12], [\"FL\", \"TIMU\", 1], [\"FL\", \"TIMU\", 2], [\"FL\", \"TIMU\", 12], [\"AZ\", \"TONT\", 1], [\"AZ\", \"TONT\", 2], [\"AZ\", \"TONT\", 12], [\"AL\", \"TUAI\", 1], [\"AL\", \"TUAI\", 2], [\"AL\", \"TUAI\", 12], [\"AL\", \"TUIN\", 1], [\"AL\", \"TUIN\", 2], [\"AL\", \"TUIN\", 12], [\"AZ\", \"TUMA\", 1], [\"AZ\", \"TUMA\", 2], [\"AZ\", \"TUMA\", 12], [\"AZ\", \"TUZI\", 1], [\"AZ\", \"TUZI\", 2], [\"AZ\", \"TUZI\", 12], [\"MO\", \"ULSG\", 1], [\"MO\", \"ULSG\", 2], [\"MO\", \"ULSG\", 12], [\"PA\", \"VAFO\", 1], [\"PA\", \"VAFO\", 2], [\"PA\", \"VAFO\", 12], [\"HI\", \"VALR\", 1], [\"HI\", \"VALR\", 2], [\"HI\", \"VALR\", 12], [\"NY\", \"VAMA\", 1], [\"NY\", \"VAMA\", 2], [\"NY\", \"VAMA\", 12], [\"MN\", \"VOYA\", 1], [\"MN\", \"VOYA\", 2], [\"MN\", \"VOYA\", 12], [\"OK\", \"WABA\", 1], [\"OK\", \"WABA\", 2], [\"OK\", \"WABA\", 12], [\"AZ\", \"WACA\", 1], [\"AZ\", \"WACA\", 2], [\"AZ\", \"WACA\", 12], [\"TX\", \"WACO\", 1], [\"TX\", \"WACO\", 2], [\"TX\", \"WACO\", 12], [\"CT\", \"WEFA\", 1], [\"CT\", \"WEFA\", 2], [\"CT\", \"WEFA\", 12], [\"CA\", \"WHIS\", 1], [\"CA\", \"WHIS\", 2], [\"CA\", \"WHIS\", 12], [\"WA\", \"WHMI\", 1], [\"WA\", \"WHMI\", 2], [\"WA\", \"WHMI\", 12], [\"NM\", \"WHSA\", 1], [\"NM\", \"WHSA\", 2], [\"NM\", \"WHSA\", 12], [\"SD\", \"WICA\", 1], [\"SD\", \"WICA\", 2], [\"SD\", \"WICA\", 12], [\"AR\", \"WICL\", 1], [\"AR\", \"WICL\", 2], [\"AR\", \"WICL\", 12], [\"MO\", \"WICR\", 1], [\"MO\", \"WICR\", 2], [\"MO\", \"WICR\", 12], [\"OH\", \"WIHO\", 1], [\"OH\", \"WIHO\", 2], [\"OH\", \"WIHO\", 12], [\"NY\", \"WORI\", 1], [\"NY\", \"WORI\", 2], [\"NY\", \"WORI\", 12], [\"VA\", \"WOTR\", 1], [\"VA\", \"WOTR\", 2], [\"VA\", \"WOTR\", 12], [\"NC\", \"WRBR\", 1], [\"NC\", \"WRBR\", 2], [\"NC\", \"WRBR\", 12], [\"AK\", \"WRST\", 1], [\"AK\", \"WRST\", 2], [\"AK\", \"WRST\", 12], [\"AZ\", \"WUPA\", 1], [\"AZ\", \"WUPA\", 2], [\"AZ\", \"WUPA\", 12], [\"CA\", \"YOSE\", 1], [\"CA\", \"YOSE\", 2], [\"CA\", \"YOSE\", 12], [\"AK\", \"YUCH\", 1], [\"AK\", \"YUCH\", 2], [\"AK\", \"YUCH\", 12], [\"UT\", \"ZION\", 1], [\"UT\", \"ZION\", 2], [\"UT\", \"ZION\", 12]], \"hoverlabel\": {\"namelength\": 0}, \"hovertemplate\": \"Population=%{x}<br>Total Visitors=%{marker.size}<br>State Code=%{customdata[0]}<br>ParkCode=%{customdata[1]}<br>Month=%{customdata[2]}\", \"legendgroup\": \"\", \"marker\": {\"color\": \"#636efa\", \"size\": [10212361, 12927163, 15199421, 10212361, 12927163, 15199421, 10212361, 12927163, 15199421, 10212361, 12927163, 15199421, 10212361, 12927163, 15199421, 10212361, 12927163, 15199421, 10212361, 12927163, 15199421, 10212361, 12927163, 15199421, 10212361, 12927163, 15199421, 10212361, 12927163, 15199421, 10212361, 12927163, 15199421, 10212361, 12927163, 15199421, 10212361, 12927163, 15199421, 10212361, 12927163, 15199421, 10212361, 12927163, 15199421, 10212361, 12927163, 15199421, 10212361, 12927163, 15199421, 10212361, 12927163, 15199421, 10212361, 12927163, 15199421, 10212361, 12927163, 15199421, 10212361, 12927163, 15199421, 10212361, 12927163, 15199421, 10212361, 12927163, 15199421, 10212361, 12927163, 15199421, 10212361, 12927163, 15199421, 10212361, 12927163, 15199421, 10212361, 12927163, 15199421, 10212361, 12927163, 15199421, 10212361, 12927163, 15199421, 10212361, 12927163, 15199421, 10212361, 12927163, 15199421, 10212361, 12927163, 15199421, 10212361, 12927163, 15199421, 10212361, 12927163, 15199421, 10212361, 12927163, 15199421, 10212361, 12927163, 15199421, 10212361, 12927163, 15199421, 10212361, 12927163, 15199421, 10212361, 12927163, 15199421, 10212361, 12927163, 15199421, 10212361, 12927163, 15199421, 10212361, 12927163, 15199421, 10212361, 12927163, 15199421, 10212361, 12927163, 15199421, 10212361, 12927163, 15199421, 10212361, 12927163, 15199421, 10212361, 12927163, 15199421, 10212361, 12927163, 15199421, 10212361, 12927163, 15199421, 10212361, 12927163, 15199421, 10212361, 12927163, 15199421, 10212361, 12927163, 15199421, 10212361, 12927163, 15199421, 10212361, 12927163, 15199421, 10212361, 12927163, 15199421, 10212361, 12927163, 15199421, 10212361, 12927163, 15199421, 10212361, 12927163, 15199421, 10212361, 12927163, 15199421, 10212361, 12927163, 15199421, 10212361, 12927163, 15199421, 10212361, 12927163, 15199421, 10212361, 12927163, 15199421, 10212361, 12927163, 15199421, 10212361, 12927163, 15199421, 10212361, 12927163, 15199421, 10212361, 12927163, 15199421, 10212361, 12927163, 15199421, 10212361, 12927163, 15199421, 10212361, 12927163, 15199421, 10212361, 12927163, 15199421, 10212361, 12927163, 15199421, 10212361, 12927163, 15199421, 10212361, 12927163, 15199421, 10212361, 12927163, 15199421, 10212361, 12927163, 15199421, 10212361, 12927163, 15199421, 10212361, 12927163, 15199421, 10212361, 12927163, 15199421, 10212361, 12927163, 15199421, 10212361, 12927163, 15199421, 10212361, 12927163, 15199421, 10212361, 12927163, 15199421, 10212361, 12927163, 15199421, 10212361, 12927163, 15199421, 10212361, 12927163, 15199421, 10212361, 12927163, 15199421, 10212361, 12927163, 15199421, 10212361, 12927163, 15199421, 10212361, 12927163, 15199421, 10212361, 12927163, 15199421, 10212361, 12927163, 15199421, 10212361, 12927163, 15199421, 10212361, 12927163, 15199421, 10212361, 12927163, 15199421, 10212361, 12927163, 15199421, 10212361, 12927163, 15199421, 10212361, 12927163, 15199421, 10212361, 12927163, 15199421, 10212361, 12927163, 15199421, 10212361, 12927163, 15199421, 10212361, 12927163, 15199421, 10212361, 12927163, 15199421, 10212361, 12927163, 15199421, 10212361, 12927163, 15199421, 10212361, 12927163, 15199421, 10212361, 12927163, 15199421, 10212361, 12927163, 15199421, 10212361, 12927163, 15199421, 10212361, 12927163, 15199421, 10212361, 12927163, 15199421, 10212361, 12927163, 15199421, 10212361, 12927163, 15199421, 10212361, 12927163, 15199421, 10212361, 12927163, 15199421, 10212361, 12927163, 15199421, 10212361, 12927163, 15199421, 10212361, 12927163, 15199421, 10212361, 12927163, 15199421, 10212361, 12927163, 15199421, 10212361, 12927163, 15199421, 10212361, 12927163, 15199421, 10212361, 12927163, 15199421, 10212361, 12927163, 15199421, 10212361, 12927163, 15199421, 10212361, 12927163, 15199421, 10212361, 12927163, 15199421, 10212361, 12927163, 15199421, 10212361, 12927163, 15199421, 10212361, 12927163, 15199421, 10212361, 12927163, 15199421, 10212361, 12927163, 15199421, 10212361, 12927163, 15199421, 10212361, 12927163, 15199421, 10212361, 12927163, 15199421, 10212361, 12927163, 15199421, 10212361, 12927163, 15199421, 10212361, 12927163, 15199421, 10212361, 12927163, 15199421, 10212361, 12927163, 15199421, 10212361, 12927163, 15199421, 10212361, 12927163, 15199421, 10212361, 12927163, 15199421, 10212361, 12927163, 15199421, 10212361, 12927163, 15199421, 10212361, 12927163, 15199421, 10212361, 12927163, 15199421, 10212361, 12927163, 15199421, 10212361, 12927163, 15199421, 10212361, 12927163, 15199421, 10212361, 12927163, 15199421, 10212361, 12927163, 15199421, 10212361, 12927163, 15199421, 10212361, 12927163, 15199421, 10212361, 12927163, 15199421, 10212361, 12927163, 15199421, 10212361, 12927163, 15199421, 10212361, 12927163, 15199421, 10212361, 12927163, 15199421, 10212361, 12927163, 15199421, 10212361, 12927163, 15199421, 10212361, 12927163, 15199421, 10212361, 12927163, 15199421, 10212361, 12927163, 15199421, 10212361, 12927163, 15199421, 10212361, 12927163, 15199421, 10212361, 12927163, 15199421, 10212361, 12927163, 15199421, 10212361, 12927163, 15199421, 10212361, 12927163, 15199421, 10212361, 12927163, 15199421, 10212361, 12927163, 15199421, 10212361, 12927163, 15199421, 10212361, 12927163, 15199421, 10212361, 12927163, 15199421, 10212361, 12927163, 15199421, 10212361, 12927163, 15199421, 10212361, 12927163, 15199421, 10212361, 12927163, 15199421, 10212361, 12927163, 15199421, 10212361, 12927163, 15199421, 10212361, 12927163, 15199421, 10212361, 12927163, 15199421, 10212361, 12927163, 15199421, 10212361, 12927163, 15199421, 10212361, 12927163, 15199421, 10212361, 12927163, 15199421, 10212361, 12927163, 15199421, 10212361, 12927163, 15199421, 10212361, 12927163, 15199421, 10212361, 12927163, 15199421, 10212361, 12927163, 15199421, 10212361, 12927163, 15199421, 10212361, 12927163, 15199421, 10212361, 12927163, 15199421, 10212361, 12927163, 15199421, 10212361, 12927163, 15199421, 10212361, 12927163, 15199421, 10212361, 12927163, 15199421, 10212361, 12927163, 15199421, 10212361, 12927163, 15199421, 10212361, 12927163, 15199421, 10212361, 12927163, 15199421, 10212361, 12927163, 15199421, 10212361, 12927163, 15199421, 10212361, 12927163, 15199421, 10212361, 12927163, 15199421, 10212361, 12927163, 15199421, 10212361, 12927163, 15199421, 10212361, 12927163, 15199421, 10212361, 12927163, 15199421, 10212361, 12927163, 15199421, 10212361, 12927163, 15199421, 10212361, 12927163, 15199421, 10212361, 12927163, 15199421, 10212361, 12927163, 15199421, 10212361, 12927163, 15199421, 10212361, 12927163, 15199421, 10212361, 12927163, 15199421, 10212361, 12927163, 15199421, 10212361, 12927163, 15199421, 10212361, 12927163, 15199421, 10212361, 12927163, 15199421, 10212361, 12927163, 15199421, 10212361, 12927163, 15199421, 10212361, 12927163, 15199421, 10212361, 12927163, 15199421, 10212361, 12927163, 15199421, 10212361, 12927163, 15199421, 10212361, 12927163, 15199421, 10212361, 12927163, 15199421, 10212361, 12927163, 15199421, 10212361, 12927163, 15199421, 10212361, 12927163, 15199421, 10212361, 12927163, 15199421, 10212361, 12927163, 15199421, 10212361, 12927163, 15199421, 10212361, 12927163, 15199421, 10212361, 12927163, 15199421, 10212361, 12927163, 15199421, 10212361, 12927163, 15199421, 10212361, 12927163, 15199421, 10212361, 12927163, 15199421, 10212361, 12927163, 15199421, 10212361, 12927163, 15199421, 10212361, 12927163, 15199421, 10212361, 12927163, 15199421, 10212361, 12927163, 15199421, 10212361, 12927163, 15199421, 10212361, 12927163, 15199421, 10212361, 12927163, 15199421, 10212361, 12927163, 15199421, 10212361, 12927163, 15199421, 10212361, 12927163, 15199421, 10212361, 12927163, 15199421, 10212361, 12927163, 15199421, 10212361, 12927163, 15199421, 10212361, 12927163, 15199421, 10212361, 12927163, 15199421, 10212361, 12927163, 15199421, 10212361, 12927163, 15199421, 10212361, 12927163, 15199421, 10212361, 12927163, 15199421, 10212361, 12927163, 15199421, 10212361, 12927163, 15199421, 10212361, 12927163, 15199421, 10212361, 12927163, 15199421, 10212361, 12927163, 15199421, 10212361, 12927163, 15199421, 10212361, 12927163, 15199421, 10212361, 12927163, 15199421, 10212361, 12927163, 15199421, 10212361, 12927163, 15199421, 10212361, 12927163, 15199421, 10212361, 12927163, 15199421, 10212361, 12927163, 15199421, 10212361, 12927163, 15199421, 10212361, 12927163, 15199421, 10212361, 12927163, 15199421, 10212361, 12927163, 15199421, 10212361, 12927163, 15199421, 10212361, 12927163, 15199421, 10212361, 12927163, 15199421, 10212361, 12927163, 15199421, 10212361, 12927163, 15199421, 10212361, 12927163, 15199421, 10212361, 12927163, 15199421, 10212361, 12927163, 15199421, 10212361, 12927163, 15199421, 10212361, 12927163, 15199421, 10212361, 12927163, 15199421, 10212361, 12927163, 15199421, 10212361, 12927163, 15199421, 10212361, 12927163, 15199421, 10212361, 12927163, 15199421, 10212361, 12927163, 15199421, 10212361, 12927163, 15199421, 10212361, 12927163, 15199421, 10212361, 12927163, 15199421, 10212361, 12927163, 15199421, 10212361, 12927163, 15199421, 10212361, 12927163, 15199421, 10212361, 12927163, 15199421, 10212361, 12927163, 15199421, 10212361, 12927163, 15199421, 10212361, 12927163, 15199421, 10212361, 12927163, 15199421, 10212361, 12927163, 15199421, 10212361, 12927163, 15199421, 10212361, 12927163, 15199421, 10212361, 12927163, 15199421], \"sizemode\": \"area\", \"sizeref\": 37998.5525, \"symbol\": \"circle\"}, \"mode\": \"markers\", \"name\": \"\", \"showlegend\": false, \"type\": \"scatter\", \"x\": [4424376.0, 4424376.0, 4424376.0, 1330158.0, 1330158.0, 1330158.0, 6789319.0, 6789319.0, 6789319.0, 19798228.0, 19798228.0, 19798228.0, 1893921.0, 1893921.0, 1893921.0, 27419612.0, 27419612.0, 27419612.0, 12790505.0, 12790505.0, 12790505.0, 27419612.0, 27419612.0, 27419612.0, 10201635.0, 10201635.0, 10201635.0, 738565.0, 738565.0, 738565.0, 6597381.0, 6597381.0, 6597381.0, 5996079.0, 5996079.0, 5996079.0, 8365952.0, 8365952.0, 8365952.0, 5763217.0, 5763217.0, 5763217.0, 2993941.0, 2993941.0, 2993941.0, 8365952.0, 8365952.0, 8365952.0, 2977944.0, 2977944.0, 2977944.0, 2084828.0, 2084828.0, 2084828.0, 855444.0, 855444.0, 855444.0, 2084828.0, 2084828.0, 2084828.0, 738565.0, 738565.0, 738565.0, 5436519.0, 5436519.0, 5436519.0, 27419612.0, 27419612.0, 27419612.0, 20278447.0, 20278447.0, 20278447.0, 1029862.0, 1029862.0, 1029862.0, 20278447.0, 20278447.0, 20278447.0, 27419612.0, 27419612.0, 27419612.0, 5436519.0, 5436519.0, 5436519.0, 1836843.0, 1836843.0, 1836843.0, 6789319.0, 6789319.0, 6789319.0, 6789319.0, 6789319.0, 6789319.0, 8365952.0, 8365952.0, 8365952.0, 2993941.0, 2993941.0, 2993941.0, 2903820.0, 2903820.0, 2903820.0, 2977944.0, 2977944.0, 2977944.0, 38982847.0, 38982847.0, 38982847.0, 6809946.0, 6809946.0, 6809946.0, 19798228.0, 19798228.0, 19798228.0, 6789319.0, 6789319.0, 6789319.0, 6809946.0, 6809946.0, 6809946.0, 10052564.0, 10052564.0, 10052564.0, 738565.0, 738565.0, 738565.0, 10052564.0, 10052564.0, 10052564.0, 20278447.0, 20278447.0, 20278447.0, 2993941.0, 2993941.0, 2993941.0, 2993941.0, 2993941.0, 2993941.0, 4663461.0, 4663461.0, 4663461.0, 10052564.0, 10052564.0, 10052564.0, 20278447.0, 20278447.0, 20278447.0, 5996079.0, 5996079.0, 5996079.0, 2084828.0, 2084828.0, 2084828.0, 2084828.0, 2084828.0, 2084828.0, 2993941.0, 2993941.0, 2993941.0, 38982847.0, 38982847.0, 38982847.0, 27419612.0, 27419612.0, 27419612.0, 10201635.0, 10201635.0, 10201635.0, 2084828.0, 2084828.0, 2084828.0, 3896251.0, 3896251.0, 3896251.0, 6809946.0, 6809946.0, 6809946.0, 38982847.0, 38982847.0, 38982847.0, 4893444.0, 4893444.0, 4893444.0, 2977944.0, 2977944.0, 2977944.0, 11609756.0, 11609756.0, 11609756.0, 1657375.0, 1657375.0, 1657375.0, 5996079.0, 5996079.0, 5996079.0, 5436519.0, 5436519.0, 5436519.0, 8365952.0, 8365952.0, 8365952.0, 4893444.0, 4893444.0, 4893444.0, 6809946.0, 6809946.0, 6809946.0, 4893444.0, 4893444.0, 4893444.0, 4025127.0, 4025127.0, 4025127.0, 1657375.0, 1657375.0, 1657375.0, 10201635.0, 10201635.0, 10201635.0, 5436519.0, 5436519.0, 5436519.0, 11609756.0, 11609756.0, 11609756.0, 11609756.0, 11609756.0, 11609756.0, 738565.0, 738565.0, 738565.0, 38982847.0, 38982847.0, 38982847.0, 20278447.0, 20278447.0, 20278447.0, 583200.0, 583200.0, 583200.0, 20278447.0, 20278447.0, 20278447.0, 12790505.0, 12790505.0, 12790505.0, 8960161.0, 8960161.0, 8960161.0, 3118102.0, 3118102.0, 3118102.0, 12790505.0, 12790505.0, 12790505.0, 2084828.0, 2084828.0, 2084828.0, 2084828.0, 2084828.0, 2084828.0, 19798228.0, 19798228.0, 19798228.0, 38982847.0, 38982847.0, 38982847.0, 20278447.0, 20278447.0, 20278447.0, 19798228.0, 19798228.0, 19798228.0, 19798228.0, 19798228.0, 19798228.0, 11609756.0, 11609756.0, 11609756.0, 5436519.0, 5436519.0, 5436519.0, 12790505.0, 12790505.0, 12790505.0, 6809946.0, 6809946.0, 6809946.0, 583200.0, 583200.0, 583200.0, 27419612.0, 27419612.0, 27419612.0, 10201635.0, 10201635.0, 10201635.0, 583200.0, 583200.0, 583200.0, 2903820.0, 2903820.0, 2903820.0, 20278447.0, 20278447.0, 20278447.0, 5996079.0, 5996079.0, 5996079.0, 12790505.0, 12790505.0, 12790505.0, 38982847.0, 38982847.0, 38982847.0, 10201635.0, 10201635.0, 10201635.0, 10052564.0, 10052564.0, 10052564.0, 2903820.0, 2903820.0, 2903820.0, 19798228.0, 19798228.0, 19798228.0, 4893444.0, 4893444.0, 4893444.0, 2084828.0, 2084828.0, 2084828.0, 5996079.0, 5996079.0, 5996079.0, 12790505.0, 12790505.0, 12790505.0, 6789319.0, 6789319.0, 6789319.0, 8365952.0, 8365952.0, 8365952.0, 738565.0, 738565.0, 738565.0, 1836843.0, 1836843.0, 1836843.0, 19798228.0, 19798228.0, 19798228.0, 6614418.0, 6614418.0, 6614418.0, 12790505.0, 12790505.0, 12790505.0, 8365952.0, 8365952.0, 8365952.0, 2084828.0, 2084828.0, 2084828.0, 1029862.0, 1029862.0, 1029862.0, 738565.0, 738565.0, 738565.0, 38982847.0, 38982847.0, 38982847.0, 19798228.0, 19798228.0, 19798228.0, 2993941.0, 2993941.0, 2993941.0, 2887725.0, 2887725.0, 2887725.0, 6809946.0, 6809946.0, 6809946.0, 5996079.0, 5996079.0, 5996079.0, 1029862.0, 1029862.0, 1029862.0, 5490726.0, 5490726.0, 5490726.0, 5436519.0, 5436519.0, 5436519.0, 583200.0, 583200.0, 583200.0, 10052564.0, 10052564.0, 10052564.0, 27419612.0, 27419612.0, 27419612.0, 6075300.0, 6075300.0, 6075300.0, 1657375.0, 1657375.0, 1657375.0, 19798228.0, 19798228.0, 19798228.0, 1421658.0, 1421658.0, 1421658.0, 5996079.0, 5996079.0, 5996079.0, 1421658.0, 1421658.0, 1421658.0, 3118102.0, 3118102.0, 3118102.0, 4850771.0, 4850771.0, 4850771.0, 11609756.0, 11609756.0, 11609756.0, 19798228.0, 19798228.0, 19798228.0, 12790505.0, 12790505.0, 12790505.0, 1893921.0, 1893921.0, 1893921.0, 2977944.0, 2977944.0, 2977944.0, 6075300.0, 6075300.0, 6075300.0, 6809946.0, 6809946.0, 6809946.0, 12790505.0, 12790505.0, 12790505.0, 6614418.0, 6614418.0, 6614418.0, 9925568.0, 9925568.0, 9925568.0, 11609756.0, 11609756.0, 11609756.0, 4663461.0, 4663461.0, 4663461.0, 855444.0, 855444.0, 855444.0, 6075300.0, 6075300.0, 6075300.0, 4663461.0, 4663461.0, 4663461.0, 10201635.0, 10201635.0, 10201635.0, 4025127.0, 4025127.0, 4025127.0, 6789319.0, 6789319.0, 6789319.0, 12790505.0, 12790505.0, 12790505.0, 38982847.0, 38982847.0, 38982847.0, 38982847.0, 38982847.0, 38982847.0, 1421658.0, 1421658.0, 1421658.0, 1421658.0, 1421658.0, 1421658.0, 738565.0, 738565.0, 738565.0, 738565.0, 738565.0, 738565.0, 10201635.0, 10201635.0, 10201635.0, 9925568.0, 9925568.0, 9925568.0, 4893444.0, 4893444.0, 4893444.0, 738565.0, 738565.0, 738565.0, 7169967.0, 7169967.0, 7169967.0, 745475.0, 745475.0, 745475.0, 738565.0, 738565.0, 738565.0, 38982847.0, 38982847.0, 38982847.0, 738565.0, 738565.0, 738565.0, 27419612.0, 27419612.0, 27419612.0, 7169967.0, 7169967.0, 7169967.0, 38982847.0, 38982847.0, 38982847.0, 1029862.0, 1029862.0, 1029862.0, 6614418.0, 6614418.0, 6614418.0, 12854526.0, 12854526.0, 12854526.0, 4850771.0, 4850771.0, 4850771.0, 6789319.0, 6789319.0, 6789319.0, 6789319.0, 6789319.0, 6789319.0, 27419612.0, 27419612.0, 27419612.0, 624636.0, 624636.0, 624636.0, 4424376.0, 4424376.0, 4424376.0, 10201635.0, 10201635.0, 10201635.0, 8365952.0, 8365952.0, 8365952.0, 38982847.0, 38982847.0, 38982847.0, 19798228.0, 19798228.0, 19798228.0, 8365952.0, 8365952.0, 8365952.0, 5436519.0, 5436519.0, 5436519.0, 6789319.0, 6789319.0, 6789319.0, 855444.0, 855444.0, 855444.0, 5490726.0, 5490726.0, 5490726.0, 6809946.0, 6809946.0, 6809946.0, 10052564.0, 10052564.0, 10052564.0, 38982847.0, 38982847.0, 38982847.0, 5996079.0, 5996079.0, 5996079.0, 7169967.0, 7169967.0, 7169967.0, 8960161.0, 8960161.0, 8960161.0, 855444.0, 855444.0, 855444.0, 38982847.0, 38982847.0, 38982847.0, 2993941.0, 2993941.0, 2993941.0, 2986220.0, 2986220.0, 2986220.0, 6809946.0, 6809946.0, 6809946.0, 6789319.0, 6789319.0, 6789319.0, 1836843.0, 1836843.0, 1836843.0, 2903820.0, 2903820.0, 2903820.0, 1893921.0, 1893921.0, 1893921.0, 4893444.0, 4893444.0, 4893444.0, 738565.0, 738565.0, 738565.0, 7169967.0, 7169967.0, 7169967.0, 10201635.0, 10201635.0, 10201635.0, 7169967.0, 7169967.0, 7169967.0, 4025127.0, 4025127.0, 4025127.0, 6809946.0, 6809946.0, 6809946.0, 6075300.0, 6075300.0, 6075300.0, 27419612.0, 27419612.0, 27419612.0, 8960161.0, 8960161.0, 8960161.0, 27419612.0, 27419612.0, 27419612.0, 2084828.0, 2084828.0, 2084828.0, 6809946.0, 6809946.0, 6809946.0, 2977944.0, 2977944.0, 2977944.0, 8365952.0, 8365952.0, 8365952.0, 2084828.0, 2084828.0, 2084828.0, 11609756.0, 11609756.0, 11609756.0, 38982847.0, 38982847.0, 38982847.0, 5490726.0, 5490726.0, 5490726.0, 9925568.0, 9925568.0, 9925568.0, 5996079.0, 5996079.0, 5996079.0, 6809946.0, 6809946.0, 6809946.0, 38982847.0, 38982847.0, 38982847.0, 38982847.0, 38982847.0, 38982847.0, 8365952.0, 8365952.0, 8365952.0, 1421658.0, 1421658.0, 1421658.0, 1421658.0, 1421658.0, 1421658.0, 2993941.0, 2993941.0, 2993941.0, 38982847.0, 38982847.0, 38982847.0, 8365952.0, 8365952.0, 8365952.0, 27419612.0, 27419612.0, 27419612.0, 9925568.0, 9925568.0, 9925568.0, 5436519.0, 5436519.0, 5436519.0, 38982847.0, 38982847.0, 38982847.0, 1056138.0, 1056138.0, 1056138.0, 4850771.0, 4850771.0, 4850771.0, 27419612.0, 27419612.0, 27419612.0, 1330158.0, 1330158.0, 1330158.0, 38982847.0, 38982847.0, 38982847.0, 1331848.0, 1331848.0, 1331848.0, 6809946.0, 6809946.0, 6809946.0, 19798228.0, 19798228.0, 19798228.0, 6789319.0, 6789319.0, 6789319.0, 7169967.0, 7169967.0, 7169967.0, 6789319.0, 6789319.0, 6789319.0, 38982847.0, 38982847.0, 38982847.0, 5436519.0, 5436519.0, 5436519.0, 19798228.0, 19798228.0, 19798228.0, 2084828.0, 2084828.0, 2084828.0, 19798228.0, 19798228.0, 19798228.0, 1893921.0, 1893921.0, 1893921.0, 8365952.0, 8365952.0, 8365952.0, 738565.0, 738565.0, 738565.0, 9925568.0, 9925568.0, 9925568.0, 6789319.0, 6789319.0, 6789319.0, 12790505.0, 12790505.0, 12790505.0, 19798228.0, 19798228.0, 19798228.0, 19798228.0, 19798228.0, 19798228.0, 6597381.0, 6597381.0, 6597381.0, 6809946.0, 6809946.0, 6809946.0, 2903820.0, 2903820.0, 2903820.0, 12790505.0, 12790505.0, 12790505.0, 19798228.0, 19798228.0, 19798228.0, 19798228.0, 19798228.0, 19798228.0, 745475.0, 745475.0, 745475.0, 5996079.0, 5996079.0, 5996079.0, 2993941.0, 2993941.0, 2993941.0, 20278447.0, 20278447.0, 20278447.0, 6809946.0, 6809946.0, 6809946.0, 4850771.0, 4850771.0, 4850771.0, 4850771.0, 4850771.0, 4850771.0, 6809946.0, 6809946.0, 6809946.0, 6809946.0, 6809946.0, 6809946.0, 6075300.0, 6075300.0, 6075300.0, 12790505.0, 12790505.0, 12790505.0, 1421658.0, 1421658.0, 1421658.0, 19798228.0, 19798228.0, 19798228.0, 5490726.0, 5490726.0, 5490726.0, 3896251.0, 3896251.0, 3896251.0, 6809946.0, 6809946.0, 6809946.0, 27419612.0, 27419612.0, 27419612.0, 3594478.0, 3594478.0, 3594478.0, 38982847.0, 38982847.0, 38982847.0, 7169967.0, 7169967.0, 7169967.0, 2084828.0, 2084828.0, 2084828.0, 855444.0, 855444.0, 855444.0, 2977944.0, 2977944.0, 2977944.0, 6075300.0, 6075300.0, 6075300.0, 11609756.0, 11609756.0, 11609756.0, 19798228.0, 19798228.0, 19798228.0, 8365952.0, 8365952.0, 8365952.0, 10052564.0, 10052564.0, 10052564.0, 738565.0, 738565.0, 738565.0, 6809946.0, 6809946.0, 6809946.0, 38982847.0, 38982847.0, 38982847.0, 738565.0, 738565.0, 738565.0, 2993941.0, 2993941.0, 2993941.0], \"xaxis\": \"x\", \"y\": [10212361, 12927163, 15199421, 10212361, 12927163, 15199421, 10212361, 12927163, 15199421, 10212361, 12927163, 15199421, 10212361, 12927163, 15199421, 10212361, 12927163, 15199421, 10212361, 12927163, 15199421, 10212361, 12927163, 15199421, 10212361, 12927163, 15199421, 10212361, 12927163, 15199421, 10212361, 12927163, 15199421, 10212361, 12927163, 15199421, 10212361, 12927163, 15199421, 10212361, 12927163, 15199421, 10212361, 12927163, 15199421, 10212361, 12927163, 15199421, 10212361, 12927163, 15199421, 10212361, 12927163, 15199421, 10212361, 12927163, 15199421, 10212361, 12927163, 15199421, 10212361, 12927163, 15199421, 10212361, 12927163, 15199421, 10212361, 12927163, 15199421, 10212361, 12927163, 15199421, 10212361, 12927163, 15199421, 10212361, 12927163, 15199421, 10212361, 12927163, 15199421, 10212361, 12927163, 15199421, 10212361, 12927163, 15199421, 10212361, 12927163, 15199421, 10212361, 12927163, 15199421, 10212361, 12927163, 15199421, 10212361, 12927163, 15199421, 10212361, 12927163, 15199421, 10212361, 12927163, 15199421, 10212361, 12927163, 15199421, 10212361, 12927163, 15199421, 10212361, 12927163, 15199421, 10212361, 12927163, 15199421, 10212361, 12927163, 15199421, 10212361, 12927163, 15199421, 10212361, 12927163, 15199421, 10212361, 12927163, 15199421, 10212361, 12927163, 15199421, 10212361, 12927163, 15199421, 10212361, 12927163, 15199421, 10212361, 12927163, 15199421, 10212361, 12927163, 15199421, 10212361, 12927163, 15199421, 10212361, 12927163, 15199421, 10212361, 12927163, 15199421, 10212361, 12927163, 15199421, 10212361, 12927163, 15199421, 10212361, 12927163, 15199421, 10212361, 12927163, 15199421, 10212361, 12927163, 15199421, 10212361, 12927163, 15199421, 10212361, 12927163, 15199421, 10212361, 12927163, 15199421, 10212361, 12927163, 15199421, 10212361, 12927163, 15199421, 10212361, 12927163, 15199421, 10212361, 12927163, 15199421, 10212361, 12927163, 15199421, 10212361, 12927163, 15199421, 10212361, 12927163, 15199421, 10212361, 12927163, 15199421, 10212361, 12927163, 15199421, 10212361, 12927163, 15199421, 10212361, 12927163, 15199421, 10212361, 12927163, 15199421, 10212361, 12927163, 15199421, 10212361, 12927163, 15199421, 10212361, 12927163, 15199421, 10212361, 12927163, 15199421, 10212361, 12927163, 15199421, 10212361, 12927163, 15199421, 10212361, 12927163, 15199421, 10212361, 12927163, 15199421, 10212361, 12927163, 15199421, 10212361, 12927163, 15199421, 10212361, 12927163, 15199421, 10212361, 12927163, 15199421, 10212361, 12927163, 15199421, 10212361, 12927163, 15199421, 10212361, 12927163, 15199421, 10212361, 12927163, 15199421, 10212361, 12927163, 15199421, 10212361, 12927163, 15199421, 10212361, 12927163, 15199421, 10212361, 12927163, 15199421, 10212361, 12927163, 15199421, 10212361, 12927163, 15199421, 10212361, 12927163, 15199421, 10212361, 12927163, 15199421, 10212361, 12927163, 15199421, 10212361, 12927163, 15199421, 10212361, 12927163, 15199421, 10212361, 12927163, 15199421, 10212361, 12927163, 15199421, 10212361, 12927163, 15199421, 10212361, 12927163, 15199421, 10212361, 12927163, 15199421, 10212361, 12927163, 15199421, 10212361, 12927163, 15199421, 10212361, 12927163, 15199421, 10212361, 12927163, 15199421, 10212361, 12927163, 15199421, 10212361, 12927163, 15199421, 10212361, 12927163, 15199421, 10212361, 12927163, 15199421, 10212361, 12927163, 15199421, 10212361, 12927163, 15199421, 10212361, 12927163, 15199421, 10212361, 12927163, 15199421, 10212361, 12927163, 15199421, 10212361, 12927163, 15199421, 10212361, 12927163, 15199421, 10212361, 12927163, 15199421, 10212361, 12927163, 15199421, 10212361, 12927163, 15199421, 10212361, 12927163, 15199421, 10212361, 12927163, 15199421, 10212361, 12927163, 15199421, 10212361, 12927163, 15199421, 10212361, 12927163, 15199421, 10212361, 12927163, 15199421, 10212361, 12927163, 15199421, 10212361, 12927163, 15199421, 10212361, 12927163, 15199421, 10212361, 12927163, 15199421, 10212361, 12927163, 15199421, 10212361, 12927163, 15199421, 10212361, 12927163, 15199421, 10212361, 12927163, 15199421, 10212361, 12927163, 15199421, 10212361, 12927163, 15199421, 10212361, 12927163, 15199421, 10212361, 12927163, 15199421, 10212361, 12927163, 15199421, 10212361, 12927163, 15199421, 10212361, 12927163, 15199421, 10212361, 12927163, 15199421, 10212361, 12927163, 15199421, 10212361, 12927163, 15199421, 10212361, 12927163, 15199421, 10212361, 12927163, 15199421, 10212361, 12927163, 15199421, 10212361, 12927163, 15199421, 10212361, 12927163, 15199421, 10212361, 12927163, 15199421, 10212361, 12927163, 15199421, 10212361, 12927163, 15199421, 10212361, 12927163, 15199421, 10212361, 12927163, 15199421, 10212361, 12927163, 15199421, 10212361, 12927163, 15199421, 10212361, 12927163, 15199421, 10212361, 12927163, 15199421, 10212361, 12927163, 15199421, 10212361, 12927163, 15199421, 10212361, 12927163, 15199421, 10212361, 12927163, 15199421, 10212361, 12927163, 15199421, 10212361, 12927163, 15199421, 10212361, 12927163, 15199421, 10212361, 12927163, 15199421, 10212361, 12927163, 15199421, 10212361, 12927163, 15199421, 10212361, 12927163, 15199421, 10212361, 12927163, 15199421, 10212361, 12927163, 15199421, 10212361, 12927163, 15199421, 10212361, 12927163, 15199421, 10212361, 12927163, 15199421, 10212361, 12927163, 15199421, 10212361, 12927163, 15199421, 10212361, 12927163, 15199421, 10212361, 12927163, 15199421, 10212361, 12927163, 15199421, 10212361, 12927163, 15199421, 10212361, 12927163, 15199421, 10212361, 12927163, 15199421, 10212361, 12927163, 15199421, 10212361, 12927163, 15199421, 10212361, 12927163, 15199421, 10212361, 12927163, 15199421, 10212361, 12927163, 15199421, 10212361, 12927163, 15199421, 10212361, 12927163, 15199421, 10212361, 12927163, 15199421, 10212361, 12927163, 15199421, 10212361, 12927163, 15199421, 10212361, 12927163, 15199421, 10212361, 12927163, 15199421, 10212361, 12927163, 15199421, 10212361, 12927163, 15199421, 10212361, 12927163, 15199421, 10212361, 12927163, 15199421, 10212361, 12927163, 15199421, 10212361, 12927163, 15199421, 10212361, 12927163, 15199421, 10212361, 12927163, 15199421, 10212361, 12927163, 15199421, 10212361, 12927163, 15199421, 10212361, 12927163, 15199421, 10212361, 12927163, 15199421, 10212361, 12927163, 15199421, 10212361, 12927163, 15199421, 10212361, 12927163, 15199421, 10212361, 12927163, 15199421, 10212361, 12927163, 15199421, 10212361, 12927163, 15199421, 10212361, 12927163, 15199421, 10212361, 12927163, 15199421, 10212361, 12927163, 15199421, 10212361, 12927163, 15199421, 10212361, 12927163, 15199421, 10212361, 12927163, 15199421, 10212361, 12927163, 15199421, 10212361, 12927163, 15199421, 10212361, 12927163, 15199421, 10212361, 12927163, 15199421, 10212361, 12927163, 15199421, 10212361, 12927163, 15199421, 10212361, 12927163, 15199421, 10212361, 12927163, 15199421, 10212361, 12927163, 15199421, 10212361, 12927163, 15199421, 10212361, 12927163, 15199421, 10212361, 12927163, 15199421, 10212361, 12927163, 15199421, 10212361, 12927163, 15199421, 10212361, 12927163, 15199421, 10212361, 12927163, 15199421, 10212361, 12927163, 15199421, 10212361, 12927163, 15199421, 10212361, 12927163, 15199421, 10212361, 12927163, 15199421, 10212361, 12927163, 15199421, 10212361, 12927163, 15199421, 10212361, 12927163, 15199421, 10212361, 12927163, 15199421, 10212361, 12927163, 15199421, 10212361, 12927163, 15199421, 10212361, 12927163, 15199421, 10212361, 12927163, 15199421, 10212361, 12927163, 15199421, 10212361, 12927163, 15199421, 10212361, 12927163, 15199421, 10212361, 12927163, 15199421, 10212361, 12927163, 15199421, 10212361, 12927163, 15199421, 10212361, 12927163, 15199421, 10212361, 12927163, 15199421, 10212361, 12927163, 15199421, 10212361, 12927163, 15199421, 10212361, 12927163, 15199421, 10212361, 12927163, 15199421, 10212361, 12927163, 15199421, 10212361, 12927163, 15199421, 10212361, 12927163, 15199421, 10212361, 12927163, 15199421, 10212361, 12927163, 15199421, 10212361, 12927163, 15199421, 10212361, 12927163, 15199421, 10212361, 12927163, 15199421, 10212361, 12927163, 15199421, 10212361, 12927163, 15199421, 10212361, 12927163, 15199421, 10212361, 12927163, 15199421, 10212361, 12927163, 15199421, 10212361, 12927163, 15199421, 10212361, 12927163, 15199421, 10212361, 12927163, 15199421, 10212361, 12927163, 15199421, 10212361, 12927163, 15199421, 10212361, 12927163, 15199421, 10212361, 12927163, 15199421, 10212361, 12927163, 15199421, 10212361, 12927163, 15199421, 10212361, 12927163, 15199421, 10212361, 12927163, 15199421, 10212361, 12927163, 15199421, 10212361, 12927163, 15199421, 10212361, 12927163, 15199421, 10212361, 12927163, 15199421, 10212361, 12927163, 15199421, 10212361, 12927163, 15199421, 10212361, 12927163, 15199421, 10212361, 12927163, 15199421, 10212361, 12927163, 15199421, 10212361, 12927163, 15199421, 10212361, 12927163, 15199421, 10212361, 12927163, 15199421, 10212361, 12927163, 15199421, 10212361, 12927163, 15199421, 10212361, 12927163, 15199421, 10212361, 12927163, 15199421, 10212361, 12927163, 15199421, 10212361, 12927163, 15199421, 10212361, 12927163, 15199421, 10212361, 12927163, 15199421, 10212361, 12927163, 15199421, 10212361, 12927163, 15199421, 10212361, 12927163, 15199421, 10212361, 12927163, 15199421, 10212361, 12927163, 15199421, 10212361, 12927163, 15199421, 10212361, 12927163, 15199421, 10212361, 12927163, 15199421], \"yaxis\": \"y\"}],\n",
       "                        {\"legend\": {\"itemsizing\": \"constant\", \"tracegroupgap\": 0}, \"margin\": {\"t\": 60}, \"template\": {\"data\": {\"bar\": [{\"error_x\": {\"color\": \"#2a3f5f\"}, \"error_y\": {\"color\": \"#2a3f5f\"}, \"marker\": {\"line\": {\"color\": \"#E5ECF6\", \"width\": 0.5}}, \"type\": \"bar\"}], \"barpolar\": [{\"marker\": {\"line\": {\"color\": \"#E5ECF6\", \"width\": 0.5}}, \"type\": \"barpolar\"}], \"carpet\": [{\"aaxis\": {\"endlinecolor\": \"#2a3f5f\", \"gridcolor\": \"white\", \"linecolor\": \"white\", \"minorgridcolor\": \"white\", \"startlinecolor\": \"#2a3f5f\"}, \"baxis\": {\"endlinecolor\": \"#2a3f5f\", \"gridcolor\": \"white\", \"linecolor\": \"white\", \"minorgridcolor\": \"white\", \"startlinecolor\": \"#2a3f5f\"}, \"type\": \"carpet\"}], \"choropleth\": [{\"colorbar\": {\"outlinewidth\": 0, \"ticks\": \"\"}, \"type\": \"choropleth\"}], \"contour\": [{\"colorbar\": {\"outlinewidth\": 0, \"ticks\": \"\"}, \"colorscale\": [[0.0, \"#0d0887\"], [0.1111111111111111, \"#46039f\"], [0.2222222222222222, \"#7201a8\"], [0.3333333333333333, \"#9c179e\"], [0.4444444444444444, \"#bd3786\"], [0.5555555555555556, \"#d8576b\"], [0.6666666666666666, \"#ed7953\"], [0.7777777777777778, \"#fb9f3a\"], [0.8888888888888888, \"#fdca26\"], [1.0, \"#f0f921\"]], \"type\": \"contour\"}], \"contourcarpet\": [{\"colorbar\": {\"outlinewidth\": 0, \"ticks\": \"\"}, \"type\": \"contourcarpet\"}], \"heatmap\": [{\"colorbar\": {\"outlinewidth\": 0, \"ticks\": \"\"}, \"colorscale\": [[0.0, \"#0d0887\"], [0.1111111111111111, \"#46039f\"], [0.2222222222222222, \"#7201a8\"], [0.3333333333333333, \"#9c179e\"], [0.4444444444444444, \"#bd3786\"], [0.5555555555555556, \"#d8576b\"], [0.6666666666666666, \"#ed7953\"], [0.7777777777777778, \"#fb9f3a\"], [0.8888888888888888, \"#fdca26\"], [1.0, \"#f0f921\"]], \"type\": \"heatmap\"}], \"heatmapgl\": [{\"colorbar\": {\"outlinewidth\": 0, \"ticks\": \"\"}, \"colorscale\": [[0.0, \"#0d0887\"], [0.1111111111111111, \"#46039f\"], [0.2222222222222222, \"#7201a8\"], [0.3333333333333333, \"#9c179e\"], [0.4444444444444444, \"#bd3786\"], [0.5555555555555556, \"#d8576b\"], [0.6666666666666666, \"#ed7953\"], [0.7777777777777778, \"#fb9f3a\"], [0.8888888888888888, \"#fdca26\"], [1.0, \"#f0f921\"]], \"type\": \"heatmapgl\"}], \"histogram\": [{\"marker\": {\"colorbar\": {\"outlinewidth\": 0, \"ticks\": \"\"}}, \"type\": \"histogram\"}], \"histogram2d\": [{\"colorbar\": {\"outlinewidth\": 0, \"ticks\": \"\"}, \"colorscale\": [[0.0, \"#0d0887\"], [0.1111111111111111, \"#46039f\"], [0.2222222222222222, \"#7201a8\"], [0.3333333333333333, \"#9c179e\"], [0.4444444444444444, \"#bd3786\"], [0.5555555555555556, \"#d8576b\"], [0.6666666666666666, \"#ed7953\"], [0.7777777777777778, \"#fb9f3a\"], [0.8888888888888888, \"#fdca26\"], [1.0, \"#f0f921\"]], \"type\": \"histogram2d\"}], \"histogram2dcontour\": [{\"colorbar\": {\"outlinewidth\": 0, \"ticks\": \"\"}, \"colorscale\": [[0.0, \"#0d0887\"], [0.1111111111111111, \"#46039f\"], [0.2222222222222222, \"#7201a8\"], [0.3333333333333333, \"#9c179e\"], [0.4444444444444444, \"#bd3786\"], [0.5555555555555556, \"#d8576b\"], [0.6666666666666666, \"#ed7953\"], [0.7777777777777778, \"#fb9f3a\"], [0.8888888888888888, \"#fdca26\"], [1.0, \"#f0f921\"]], \"type\": \"histogram2dcontour\"}], \"mesh3d\": [{\"colorbar\": {\"outlinewidth\": 0, \"ticks\": \"\"}, \"type\": \"mesh3d\"}], \"parcoords\": [{\"line\": {\"colorbar\": {\"outlinewidth\": 0, \"ticks\": \"\"}}, \"type\": \"parcoords\"}], \"pie\": [{\"automargin\": true, \"type\": \"pie\"}], \"scatter\": [{\"marker\": {\"colorbar\": {\"outlinewidth\": 0, \"ticks\": \"\"}}, \"type\": \"scatter\"}], \"scatter3d\": [{\"line\": {\"colorbar\": {\"outlinewidth\": 0, \"ticks\": \"\"}}, \"marker\": {\"colorbar\": {\"outlinewidth\": 0, \"ticks\": \"\"}}, \"type\": \"scatter3d\"}], \"scattercarpet\": [{\"marker\": {\"colorbar\": {\"outlinewidth\": 0, \"ticks\": \"\"}}, \"type\": \"scattercarpet\"}], \"scattergeo\": [{\"marker\": {\"colorbar\": {\"outlinewidth\": 0, \"ticks\": \"\"}}, \"type\": \"scattergeo\"}], \"scattergl\": [{\"marker\": {\"colorbar\": {\"outlinewidth\": 0, \"ticks\": \"\"}}, \"type\": \"scattergl\"}], \"scattermapbox\": [{\"marker\": {\"colorbar\": {\"outlinewidth\": 0, \"ticks\": \"\"}}, \"type\": \"scattermapbox\"}], \"scatterpolar\": [{\"marker\": {\"colorbar\": {\"outlinewidth\": 0, \"ticks\": \"\"}}, \"type\": \"scatterpolar\"}], \"scatterpolargl\": [{\"marker\": {\"colorbar\": {\"outlinewidth\": 0, \"ticks\": \"\"}}, \"type\": \"scatterpolargl\"}], \"scatterternary\": [{\"marker\": {\"colorbar\": {\"outlinewidth\": 0, \"ticks\": \"\"}}, \"type\": \"scatterternary\"}], \"surface\": [{\"colorbar\": {\"outlinewidth\": 0, \"ticks\": \"\"}, \"colorscale\": [[0.0, \"#0d0887\"], [0.1111111111111111, \"#46039f\"], [0.2222222222222222, \"#7201a8\"], [0.3333333333333333, \"#9c179e\"], [0.4444444444444444, \"#bd3786\"], [0.5555555555555556, \"#d8576b\"], [0.6666666666666666, \"#ed7953\"], [0.7777777777777778, \"#fb9f3a\"], [0.8888888888888888, \"#fdca26\"], [1.0, \"#f0f921\"]], \"type\": \"surface\"}], \"table\": [{\"cells\": {\"fill\": {\"color\": \"#EBF0F8\"}, \"line\": {\"color\": \"white\"}}, \"header\": {\"fill\": {\"color\": \"#C8D4E3\"}, \"line\": {\"color\": \"white\"}}, \"type\": \"table\"}]}, \"layout\": {\"annotationdefaults\": {\"arrowcolor\": \"#2a3f5f\", \"arrowhead\": 0, \"arrowwidth\": 1}, \"coloraxis\": {\"colorbar\": {\"outlinewidth\": 0, \"ticks\": \"\"}}, \"colorscale\": {\"diverging\": [[0, \"#8e0152\"], [0.1, \"#c51b7d\"], [0.2, \"#de77ae\"], [0.3, \"#f1b6da\"], [0.4, \"#fde0ef\"], [0.5, \"#f7f7f7\"], [0.6, \"#e6f5d0\"], [0.7, \"#b8e186\"], [0.8, \"#7fbc41\"], [0.9, \"#4d9221\"], [1, \"#276419\"]], \"sequential\": [[0.0, \"#0d0887\"], [0.1111111111111111, \"#46039f\"], [0.2222222222222222, \"#7201a8\"], [0.3333333333333333, \"#9c179e\"], [0.4444444444444444, \"#bd3786\"], [0.5555555555555556, \"#d8576b\"], [0.6666666666666666, \"#ed7953\"], [0.7777777777777778, \"#fb9f3a\"], [0.8888888888888888, \"#fdca26\"], [1.0, \"#f0f921\"]], \"sequentialminus\": [[0.0, \"#0d0887\"], [0.1111111111111111, \"#46039f\"], [0.2222222222222222, \"#7201a8\"], [0.3333333333333333, \"#9c179e\"], [0.4444444444444444, \"#bd3786\"], [0.5555555555555556, \"#d8576b\"], [0.6666666666666666, \"#ed7953\"], [0.7777777777777778, \"#fb9f3a\"], [0.8888888888888888, \"#fdca26\"], [1.0, \"#f0f921\"]]}, \"colorway\": [\"#636efa\", \"#EF553B\", \"#00cc96\", \"#ab63fa\", \"#FFA15A\", \"#19d3f3\", \"#FF6692\", \"#B6E880\", \"#FF97FF\", \"#FECB52\"], \"font\": {\"color\": \"#2a3f5f\"}, \"geo\": {\"bgcolor\": \"white\", \"lakecolor\": \"white\", \"landcolor\": \"#E5ECF6\", \"showlakes\": true, \"showland\": true, \"subunitcolor\": \"white\"}, \"hoverlabel\": {\"align\": \"left\"}, \"hovermode\": \"closest\", \"mapbox\": {\"style\": \"light\"}, \"paper_bgcolor\": \"white\", \"plot_bgcolor\": \"#E5ECF6\", \"polar\": {\"angularaxis\": {\"gridcolor\": \"white\", \"linecolor\": \"white\", \"ticks\": \"\"}, \"bgcolor\": \"#E5ECF6\", \"radialaxis\": {\"gridcolor\": \"white\", \"linecolor\": \"white\", \"ticks\": \"\"}}, \"scene\": {\"xaxis\": {\"backgroundcolor\": \"#E5ECF6\", \"gridcolor\": \"white\", \"gridwidth\": 2, \"linecolor\": \"white\", \"showbackground\": true, \"ticks\": \"\", \"zerolinecolor\": \"white\"}, \"yaxis\": {\"backgroundcolor\": \"#E5ECF6\", \"gridcolor\": \"white\", \"gridwidth\": 2, \"linecolor\": \"white\", \"showbackground\": true, \"ticks\": \"\", \"zerolinecolor\": \"white\"}, \"zaxis\": {\"backgroundcolor\": \"#E5ECF6\", \"gridcolor\": \"white\", \"gridwidth\": 2, \"linecolor\": \"white\", \"showbackground\": true, \"ticks\": \"\", \"zerolinecolor\": \"white\"}}, \"shapedefaults\": {\"line\": {\"color\": \"#2a3f5f\"}}, \"ternary\": {\"aaxis\": {\"gridcolor\": \"white\", \"linecolor\": \"white\", \"ticks\": \"\"}, \"baxis\": {\"gridcolor\": \"white\", \"linecolor\": \"white\", \"ticks\": \"\"}, \"bgcolor\": \"#E5ECF6\", \"caxis\": {\"gridcolor\": \"white\", \"linecolor\": \"white\", \"ticks\": \"\"}}, \"title\": {\"x\": 0.05}, \"xaxis\": {\"automargin\": true, \"gridcolor\": \"white\", \"linecolor\": \"white\", \"ticks\": \"\", \"title\": {\"standoff\": 15}, \"zerolinecolor\": \"white\", \"zerolinewidth\": 2}, \"yaxis\": {\"automargin\": true, \"gridcolor\": \"white\", \"linecolor\": \"white\", \"ticks\": \"\", \"title\": {\"standoff\": 15}, \"zerolinecolor\": \"white\", \"zerolinewidth\": 2}}}, \"title\": {\"text\": \"Population vs. Total Visitor\"}, \"xaxis\": {\"anchor\": \"y\", \"domain\": [0.0, 1.0], \"title\": {\"text\": \"Population\"}}, \"yaxis\": {\"anchor\": \"x\", \"domain\": [0.0, 1.0], \"title\": {\"text\": \"Total Visitors\"}}},\n",
       "                        {\"responsive\": true}\n",
       "                    ).then(function(){\n",
       "                            \n",
       "var gd = document.getElementById('24580e61-7d70-42bc-9cf1-b7b380973199');\n",
       "var x = new MutationObserver(function (mutations, observer) {{\n",
       "        var display = window.getComputedStyle(gd).display;\n",
       "        if (!display || display === 'none') {{\n",
       "            console.log([gd, 'removed!']);\n",
       "            Plotly.purge(gd);\n",
       "            observer.disconnect();\n",
       "        }}\n",
       "}});\n",
       "\n",
       "// Listen for the removal of the full notebook cells\n",
       "var notebookContainer = gd.closest('#notebook-container');\n",
       "if (notebookContainer) {{\n",
       "    x.observe(notebookContainer, {childList: true});\n",
       "}}\n",
       "\n",
       "// Listen for the clearing of the current output cell\n",
       "var outputEl = gd.closest('.output');\n",
       "if (outputEl) {{\n",
       "    x.observe(outputEl, {childList: true});\n",
       "}}\n",
       "\n",
       "                        })\n",
       "                };\n",
       "                });\n",
       "            </script>\n",
       "        </div>"
      ]
     },
     "metadata": {},
     "output_type": "display_data"
    }
   ],
   "source": [
    "fig = px.scatter(Winter, x=\"Population\", y=\"Total Visitors\", hover_data=[\"State Code\", \"ParkCode\", \"Month\"], size=\"Total Visitors\" )\n",
    "fig.update_layout(title='Population vs. Total Visitor')"
   ]
  },
  {
   "cell_type": "code",
   "execution_count": null,
   "metadata": {},
   "outputs": [],
   "source": []
  },
  {
   "cell_type": "code",
   "execution_count": 225,
   "metadata": {},
   "outputs": [
    {
     "data": {
      "text/html": [
       "<div>\n",
       "<style scoped>\n",
       "    .dataframe tbody tr th:only-of-type {\n",
       "        vertical-align: middle;\n",
       "    }\n",
       "\n",
       "    .dataframe tbody tr th {\n",
       "        vertical-align: top;\n",
       "    }\n",
       "\n",
       "    .dataframe thead th {\n",
       "        text-align: right;\n",
       "    }\n",
       "</style>\n",
       "<table border=\"1\" class=\"dataframe\">\n",
       "  <thead>\n",
       "    <tr style=\"text-align: right;\">\n",
       "      <th></th>\n",
       "      <th>Month</th>\n",
       "      <th>ParkCode</th>\n",
       "      <th>Full Name</th>\n",
       "      <th>Lat</th>\n",
       "      <th>Lon</th>\n",
       "      <th>State Code</th>\n",
       "      <th>Name</th>\n",
       "      <th>Latitude</th>\n",
       "      <th>Longitude</th>\n",
       "      <th>Total Visitors</th>\n",
       "      <th>Population</th>\n",
       "    </tr>\n",
       "  </thead>\n",
       "  <tbody>\n",
       "    <tr>\n",
       "      <td>2</td>\n",
       "      <td>3</td>\n",
       "      <td>ABLI</td>\n",
       "      <td>Abraham Lincoln Birthplace National Historical...</td>\n",
       "      <td>37.585866</td>\n",
       "      <td>-85.673305</td>\n",
       "      <td>KY</td>\n",
       "      <td>Kentucky</td>\n",
       "      <td>37.5347</td>\n",
       "      <td>-85.3021</td>\n",
       "      <td>20698590</td>\n",
       "      <td>4424376.0</td>\n",
       "    </tr>\n",
       "    <tr>\n",
       "      <td>3</td>\n",
       "      <td>4</td>\n",
       "      <td>ABLI</td>\n",
       "      <td>Abraham Lincoln Birthplace National Historical...</td>\n",
       "      <td>37.585866</td>\n",
       "      <td>-85.673305</td>\n",
       "      <td>KY</td>\n",
       "      <td>Kentucky</td>\n",
       "      <td>37.5347</td>\n",
       "      <td>-85.3021</td>\n",
       "      <td>26131016</td>\n",
       "      <td>4424376.0</td>\n",
       "    </tr>\n",
       "    <tr>\n",
       "      <td>4</td>\n",
       "      <td>5</td>\n",
       "      <td>ABLI</td>\n",
       "      <td>Abraham Lincoln Birthplace National Historical...</td>\n",
       "      <td>37.585866</td>\n",
       "      <td>-85.673305</td>\n",
       "      <td>KY</td>\n",
       "      <td>Kentucky</td>\n",
       "      <td>37.5347</td>\n",
       "      <td>-85.3021</td>\n",
       "      <td>31066774</td>\n",
       "      <td>4424376.0</td>\n",
       "    </tr>\n",
       "    <tr>\n",
       "      <td>14</td>\n",
       "      <td>3</td>\n",
       "      <td>ACAD</td>\n",
       "      <td>Acadia National Park</td>\n",
       "      <td>44.307775</td>\n",
       "      <td>-68.300633</td>\n",
       "      <td>ME</td>\n",
       "      <td>Maine</td>\n",
       "      <td>45.3695</td>\n",
       "      <td>-69.2428</td>\n",
       "      <td>20698590</td>\n",
       "      <td>1330158.0</td>\n",
       "    </tr>\n",
       "    <tr>\n",
       "      <td>15</td>\n",
       "      <td>4</td>\n",
       "      <td>ACAD</td>\n",
       "      <td>Acadia National Park</td>\n",
       "      <td>44.307775</td>\n",
       "      <td>-68.300633</td>\n",
       "      <td>ME</td>\n",
       "      <td>Maine</td>\n",
       "      <td>45.3695</td>\n",
       "      <td>-69.2428</td>\n",
       "      <td>26131016</td>\n",
       "      <td>1330158.0</td>\n",
       "    </tr>\n",
       "  </tbody>\n",
       "</table>\n",
       "</div>"
      ],
      "text/plain": [
       "    Month ParkCode                                          Full Name  \\\n",
       "2       3     ABLI  Abraham Lincoln Birthplace National Historical...   \n",
       "3       4     ABLI  Abraham Lincoln Birthplace National Historical...   \n",
       "4       5     ABLI  Abraham Lincoln Birthplace National Historical...   \n",
       "14      3     ACAD                               Acadia National Park   \n",
       "15      4     ACAD                               Acadia National Park   \n",
       "\n",
       "          Lat        Lon State Code      Name  Latitude  Longitude  \\\n",
       "2   37.585866 -85.673305         KY  Kentucky   37.5347   -85.3021   \n",
       "3   37.585866 -85.673305         KY  Kentucky   37.5347   -85.3021   \n",
       "4   37.585866 -85.673305         KY  Kentucky   37.5347   -85.3021   \n",
       "14  44.307775 -68.300633         ME     Maine   45.3695   -69.2428   \n",
       "15  44.307775 -68.300633         ME     Maine   45.3695   -69.2428   \n",
       "\n",
       "    Total Visitors  Population  \n",
       "2         20698590   4424376.0  \n",
       "3         26131016   4424376.0  \n",
       "4         31066774   4424376.0  \n",
       "14        20698590   1330158.0  \n",
       "15        26131016   1330158.0  "
      ]
     },
     "execution_count": 225,
     "metadata": {},
     "output_type": "execute_result"
    }
   ],
   "source": [
    "# Spring Season: Mar - June\n",
    "Spring= Final_Data[(Final_Data['Month']==3) | (Final_Data['Month']==4) | (Final_Data['Month']==5) ]\n",
    "Spring.head()"
   ]
  },
  {
   "cell_type": "code",
   "execution_count": 231,
   "metadata": {},
   "outputs": [
    {
     "data": {
      "application/vnd.plotly.v1+json": {
       "config": {
        "plotlyServerURL": "https://plot.ly"
       },
       "data": [
        {
         "customdata": [
          [
           "KY"
          ],
          [
           "KY"
          ],
          [
           "KY"
          ],
          [
           "ME"
          ],
          [
           "ME"
          ],
          [
           "ME"
          ],
          [
           "MA"
          ],
          [
           "MA"
          ],
          [
           "MA"
          ],
          [
           "NY"
          ],
          [
           "NY"
          ],
          [
           "NY"
          ],
          [
           "NE"
          ],
          [
           "NE"
          ],
          [
           "NE"
          ],
          [
           "TX"
          ],
          [
           "TX"
          ],
          [
           "TX"
          ],
          [
           "PA"
          ],
          [
           "PA"
          ],
          [
           "PA"
          ],
          [
           "TX"
          ],
          [
           "TX"
          ],
          [
           "TX"
          ],
          [
           "GA"
          ],
          [
           "GA"
          ],
          [
           "GA"
          ],
          [
           "AK"
          ],
          [
           "AK"
          ],
          [
           "AK"
          ],
          [
           "TN"
          ],
          [
           "TN"
          ],
          [
           "TN"
          ],
          [
           "MD"
          ],
          [
           "MD"
          ],
          [
           "MD"
          ],
          [
           "VA"
          ],
          [
           "VA"
          ],
          [
           "VA"
          ],
          [
           "WI"
          ],
          [
           "WI"
          ],
          [
           "WI"
          ],
          [
           "UT"
          ],
          [
           "UT"
          ],
          [
           "UT"
          ],
          [
           "VA"
          ],
          [
           "VA"
          ],
          [
           "VA"
          ],
          [
           "AR"
          ],
          [
           "AR"
          ],
          [
           "AR"
          ],
          [
           "NM"
          ],
          [
           "NM"
          ],
          [
           "NM"
          ],
          [
           "SD"
          ],
          [
           "SD"
          ],
          [
           "SD"
          ],
          [
           "NM"
          ],
          [
           "NM"
          ],
          [
           "NM"
          ],
          [
           "AK"
          ],
          [
           "AK"
          ],
          [
           "AK"
          ],
          [
           "CO"
          ],
          [
           "CO"
          ],
          [
           "CO"
          ],
          [
           "TX"
          ],
          [
           "TX"
          ],
          [
           "TX"
          ],
          [
           "FL"
          ],
          [
           "FL"
          ],
          [
           "FL"
          ],
          [
           "MT"
          ],
          [
           "MT"
          ],
          [
           "MT"
          ],
          [
           "FL"
          ],
          [
           "FL"
          ],
          [
           "FL"
          ],
          [
           "TX"
          ],
          [
           "TX"
          ],
          [
           "TX"
          ],
          [
           "CO"
          ],
          [
           "CO"
          ],
          [
           "CO"
          ],
          [
           "WV"
          ],
          [
           "WV"
          ],
          [
           "WV"
          ],
          [
           "MA"
          ],
          [
           "MA"
          ],
          [
           "MA"
          ],
          [
           "MA"
          ],
          [
           "MA"
          ],
          [
           "MA"
          ],
          [
           "VA"
          ],
          [
           "VA"
          ],
          [
           "VA"
          ],
          [
           "UT"
          ],
          [
           "UT"
          ],
          [
           "UT"
          ],
          [
           "KS"
          ],
          [
           "KS"
          ],
          [
           "KS"
          ],
          [
           "AR"
          ],
          [
           "AR"
          ],
          [
           "AR"
          ],
          [
           "CA"
          ],
          [
           "CA"
          ],
          [
           "CA"
          ],
          [
           "AZ"
          ],
          [
           "AZ"
          ],
          [
           "AZ"
          ],
          [
           "NY"
          ],
          [
           "NY"
          ],
          [
           "NY"
          ],
          [
           "MA"
          ],
          [
           "MA"
          ],
          [
           "MA"
          ],
          [
           "AZ"
          ],
          [
           "AZ"
          ],
          [
           "AZ"
          ],
          [
           "NC"
          ],
          [
           "NC"
          ],
          [
           "NC"
          ],
          [
           "AK"
          ],
          [
           "AK"
          ],
          [
           "AK"
          ],
          [
           "NC"
          ],
          [
           "NC"
          ],
          [
           "NC"
          ],
          [
           "FL"
          ],
          [
           "FL"
          ],
          [
           "FL"
          ],
          [
           "UT"
          ],
          [
           "UT"
          ],
          [
           "UT"
          ],
          [
           "UT"
          ],
          [
           "UT"
          ],
          [
           "UT"
          ],
          [
           "LA"
          ],
          [
           "LA"
          ],
          [
           "LA"
          ],
          [
           "NC"
          ],
          [
           "NC"
          ],
          [
           "NC"
          ],
          [
           "FL"
          ],
          [
           "FL"
          ],
          [
           "FL"
          ],
          [
           "MD"
          ],
          [
           "MD"
          ],
          [
           "MD"
          ],
          [
           "NM"
          ],
          [
           "NM"
          ],
          [
           "NM"
          ],
          [
           "NM"
          ],
          [
           "NM"
          ],
          [
           "NM"
          ],
          [
           "UT"
          ],
          [
           "UT"
          ],
          [
           "UT"
          ],
          [
           "CA"
          ],
          [
           "CA"
          ],
          [
           "CA"
          ],
          [
           "TX"
          ],
          [
           "TX"
          ],
          [
           "TX"
          ],
          [
           "GA"
          ],
          [
           "GA"
          ],
          [
           "GA"
          ],
          [
           "NM"
          ],
          [
           "NM"
          ],
          [
           "NM"
          ],
          [
           "OK"
          ],
          [
           "OK"
          ],
          [
           "OK"
          ],
          [
           "AZ"
          ],
          [
           "AZ"
          ],
          [
           "AZ"
          ],
          [
           "CA"
          ],
          [
           "CA"
          ],
          [
           "CA"
          ],
          [
           "SC"
          ],
          [
           "SC"
          ],
          [
           "SC"
          ],
          [
           "AR"
          ],
          [
           "AR"
          ],
          [
           "AR"
          ],
          [
           "OH"
          ],
          [
           "OH"
          ],
          [
           "OH"
          ],
          [
           "ID"
          ],
          [
           "ID"
          ],
          [
           "ID"
          ],
          [
           "MD"
          ],
          [
           "MD"
          ],
          [
           "MD"
          ],
          [
           "CO"
          ],
          [
           "CO"
          ],
          [
           "CO"
          ],
          [
           "VA"
          ],
          [
           "VA"
          ],
          [
           "VA"
          ],
          [
           "SC"
          ],
          [
           "SC"
          ],
          [
           "SC"
          ],
          [
           "AZ"
          ],
          [
           "AZ"
          ],
          [
           "AZ"
          ],
          [
           "SC"
          ],
          [
           "SC"
          ],
          [
           "SC"
          ],
          [
           "OR"
          ],
          [
           "OR"
          ],
          [
           "OR"
          ],
          [
           "ID"
          ],
          [
           "ID"
          ],
          [
           "ID"
          ],
          [
           "GA"
          ],
          [
           "GA"
          ],
          [
           "GA"
          ],
          [
           "CO"
          ],
          [
           "CO"
          ],
          [
           "CO"
          ],
          [
           "OH"
          ],
          [
           "OH"
          ],
          [
           "OH"
          ],
          [
           "OH"
          ],
          [
           "OH"
          ],
          [
           "OH"
          ],
          [
           "AK"
          ],
          [
           "AK"
          ],
          [
           "AK"
          ],
          [
           "CA"
          ],
          [
           "CA"
          ],
          [
           "CA"
          ],
          [
           "FL"
          ],
          [
           "FL"
          ],
          [
           "FL"
          ],
          [
           "WY"
          ],
          [
           "WY"
          ],
          [
           "WY"
          ],
          [
           "FL"
          ],
          [
           "FL"
          ],
          [
           "FL"
          ],
          [
           "PA"
          ],
          [
           "PA"
          ],
          [
           "PA"
          ],
          [
           "NJ"
          ],
          [
           "NJ"
          ],
          [
           "NJ"
          ],
          [
           "IA"
          ],
          [
           "IA"
          ],
          [
           "IA"
          ],
          [
           "PA"
          ],
          [
           "PA"
          ],
          [
           "PA"
          ],
          [
           "NM"
          ],
          [
           "NM"
          ],
          [
           "NM"
          ],
          [
           "NM"
          ],
          [
           "NM"
          ],
          [
           "NM"
          ],
          [
           "NY"
          ],
          [
           "NY"
          ],
          [
           "NY"
          ],
          [
           "CA"
          ],
          [
           "CA"
          ],
          [
           "CA"
          ],
          [
           "FL"
          ],
          [
           "FL"
          ],
          [
           "FL"
          ],
          [
           "NY"
          ],
          [
           "NY"
          ],
          [
           "NY"
          ],
          [
           "NY"
          ],
          [
           "NY"
          ],
          [
           "NY"
          ],
          [
           "OH"
          ],
          [
           "OH"
          ],
          [
           "OH"
          ],
          [
           "CO"
          ],
          [
           "CO"
          ],
          [
           "CO"
          ],
          [
           "PA"
          ],
          [
           "PA"
          ],
          [
           "PA"
          ],
          [
           "AZ"
          ],
          [
           "AZ"
          ],
          [
           "AZ"
          ],
          [
           "WY"
          ],
          [
           "WY"
          ],
          [
           "WY"
          ],
          [
           "TX"
          ],
          [
           "TX"
          ],
          [
           "TX"
          ],
          [
           "GA"
          ],
          [
           "GA"
          ],
          [
           "GA"
          ],
          [
           "WY"
          ],
          [
           "WY"
          ],
          [
           "WY"
          ],
          [
           "KS"
          ],
          [
           "KS"
          ],
          [
           "KS"
          ],
          [
           "FL"
          ],
          [
           "FL"
          ],
          [
           "FL"
          ],
          [
           "MD"
          ],
          [
           "MD"
          ],
          [
           "MD"
          ],
          [
           "PA"
          ],
          [
           "PA"
          ],
          [
           "PA"
          ],
          [
           "CA"
          ],
          [
           "CA"
          ],
          [
           "CA"
          ],
          [
           "GA"
          ],
          [
           "GA"
          ],
          [
           "GA"
          ],
          [
           "NC"
          ],
          [
           "NC"
          ],
          [
           "NC"
          ],
          [
           "KS"
          ],
          [
           "KS"
          ],
          [
           "KS"
          ],
          [
           "NY"
          ],
          [
           "NY"
          ],
          [
           "NY"
          ],
          [
           "SC"
          ],
          [
           "SC"
          ],
          [
           "SC"
          ],
          [
           "NM"
          ],
          [
           "NM"
          ],
          [
           "NM"
          ],
          [
           "MD"
          ],
          [
           "MD"
          ],
          [
           "MD"
          ],
          [
           "PA"
          ],
          [
           "PA"
          ],
          [
           "PA"
          ],
          [
           "MA"
          ],
          [
           "MA"
          ],
          [
           "MA"
          ],
          [
           "VA"
          ],
          [
           "VA"
          ],
          [
           "VA"
          ],
          [
           "AK"
          ],
          [
           "AK"
          ],
          [
           "AK"
          ],
          [
           "WV"
          ],
          [
           "WV"
          ],
          [
           "WV"
          ],
          [
           "NY"
          ],
          [
           "NY"
          ],
          [
           "NY"
          ],
          [
           "IN"
          ],
          [
           "IN"
          ],
          [
           "IN"
          ],
          [
           "PA"
          ],
          [
           "PA"
          ],
          [
           "PA"
          ],
          [
           "VA"
          ],
          [
           "VA"
          ],
          [
           "VA"
          ],
          [
           "NM"
          ],
          [
           "NM"
          ],
          [
           "NM"
          ],
          [
           "MT"
          ],
          [
           "MT"
          ],
          [
           "MT"
          ],
          [
           "AK"
          ],
          [
           "AK"
          ],
          [
           "AK"
          ],
          [
           "CA"
          ],
          [
           "CA"
          ],
          [
           "CA"
          ],
          [
           "NY"
          ],
          [
           "NY"
          ],
          [
           "NY"
          ],
          [
           "UT"
          ],
          [
           "UT"
          ],
          [
           "UT"
          ],
          [
           "NV"
          ],
          [
           "NV"
          ],
          [
           "NV"
          ],
          [
           "AZ"
          ],
          [
           "AZ"
          ],
          [
           "AZ"
          ],
          [
           "MD"
          ],
          [
           "MD"
          ],
          [
           "MD"
          ],
          [
           "MT"
          ],
          [
           "MT"
          ],
          [
           "MT"
          ],
          [
           "MN"
          ],
          [
           "MN"
          ],
          [
           "MN"
          ],
          [
           "CO"
          ],
          [
           "CO"
          ],
          [
           "CO"
          ],
          [
           "WY"
          ],
          [
           "WY"
          ],
          [
           "WY"
          ],
          [
           "NC"
          ],
          [
           "NC"
          ],
          [
           "NC"
          ],
          [
           "TX"
          ],
          [
           "TX"
          ],
          [
           "TX"
          ],
          [
           "MO"
          ],
          [
           "MO"
          ],
          [
           "MO"
          ],
          [
           "ID"
          ],
          [
           "ID"
          ],
          [
           "ID"
          ],
          [
           "NY"
          ],
          [
           "NY"
          ],
          [
           "NY"
          ],
          [
           "HI"
          ],
          [
           "HI"
          ],
          [
           "HI"
          ],
          [
           "MD"
          ],
          [
           "MD"
          ],
          [
           "MD"
          ],
          [
           "HI"
          ],
          [
           "HI"
          ],
          [
           "HI"
          ],
          [
           "IA"
          ],
          [
           "IA"
          ],
          [
           "IA"
          ],
          [
           "AL"
          ],
          [
           "AL"
          ],
          [
           "AL"
          ],
          [
           "OH"
          ],
          [
           "OH"
          ],
          [
           "OH"
          ],
          [
           "NY"
          ],
          [
           "NY"
          ],
          [
           "NY"
          ],
          [
           "PA"
          ],
          [
           "PA"
          ],
          [
           "PA"
          ],
          [
           "NE"
          ],
          [
           "NE"
          ],
          [
           "NE"
          ],
          [
           "AR"
          ],
          [
           "AR"
          ],
          [
           "AR"
          ],
          [
           "MO"
          ],
          [
           "MO"
          ],
          [
           "MO"
          ],
          [
           "AZ"
          ],
          [
           "AZ"
          ],
          [
           "AZ"
          ],
          [
           "PA"
          ],
          [
           "PA"
          ],
          [
           "PA"
          ],
          [
           "IN"
          ],
          [
           "IN"
          ],
          [
           "IN"
          ],
          [
           "MI"
          ],
          [
           "MI"
          ],
          [
           "MI"
          ],
          [
           "OH"
          ],
          [
           "OH"
          ],
          [
           "OH"
          ],
          [
           "LA"
          ],
          [
           "LA"
          ],
          [
           "LA"
          ],
          [
           "SD"
          ],
          [
           "SD"
          ],
          [
           "SD"
          ],
          [
           "MO"
          ],
          [
           "MO"
          ],
          [
           "MO"
          ],
          [
           "LA"
          ],
          [
           "LA"
          ],
          [
           "LA"
          ],
          [
           "GA"
          ],
          [
           "GA"
          ],
          [
           "GA"
          ],
          [
           "OR"
          ],
          [
           "OR"
          ],
          [
           "OR"
          ],
          [
           "MA"
          ],
          [
           "MA"
          ],
          [
           "MA"
          ],
          [
           "PA"
          ],
          [
           "PA"
          ],
          [
           "PA"
          ],
          [
           "CA"
          ],
          [
           "CA"
          ],
          [
           "CA"
          ],
          [
           "CA"
          ],
          [
           "CA"
          ],
          [
           "CA"
          ],
          [
           "HI"
          ],
          [
           "HI"
          ],
          [
           "HI"
          ],
          [
           "HI"
          ],
          [
           "HI"
          ],
          [
           "HI"
          ],
          [
           "AK"
          ],
          [
           "AK"
          ],
          [
           "AK"
          ],
          [
           "AK"
          ],
          [
           "AK"
          ],
          [
           "AK"
          ],
          [
           "GA"
          ],
          [
           "GA"
          ],
          [
           "GA"
          ],
          [
           "MI"
          ],
          [
           "MI"
          ],
          [
           "MI"
          ],
          [
           "SC"
          ],
          [
           "SC"
          ],
          [
           "SC"
          ],
          [
           "AK"
          ],
          [
           "AK"
          ],
          [
           "AK"
          ],
          [
           "WA"
          ],
          [
           "WA"
          ],
          [
           "WA"
          ],
          [
           "ND"
          ],
          [
           "ND"
          ],
          [
           "ND"
          ],
          [
           "AK"
          ],
          [
           "AK"
          ],
          [
           "AK"
          ],
          [
           "CA"
          ],
          [
           "CA"
          ],
          [
           "CA"
          ],
          [
           "AK"
          ],
          [
           "AK"
          ],
          [
           "AK"
          ],
          [
           "TX"
          ],
          [
           "TX"
          ],
          [
           "TX"
          ],
          [
           "WA"
          ],
          [
           "WA"
          ],
          [
           "WA"
          ],
          [
           "CA"
          ],
          [
           "CA"
          ],
          [
           "CA"
          ],
          [
           "MT"
          ],
          [
           "MT"
          ],
          [
           "MT"
          ],
          [
           "IN"
          ],
          [
           "IN"
          ],
          [
           "IN"
          ],
          [
           "IL"
          ],
          [
           "IL"
          ],
          [
           "IL"
          ],
          [
           "AL"
          ],
          [
           "AL"
          ],
          [
           "AL"
          ],
          [
           "MA"
          ],
          [
           "MA"
          ],
          [
           "MA"
          ],
          [
           "MA"
          ],
          [
           "MA"
          ],
          [
           "MA"
          ],
          [
           "TX"
          ],
          [
           "TX"
          ],
          [
           "TX"
          ],
          [
           "VT"
          ],
          [
           "VT"
          ],
          [
           "VT"
          ],
          [
           "KY"
          ],
          [
           "KY"
          ],
          [
           "KY"
          ],
          [
           "GA"
          ],
          [
           "GA"
          ],
          [
           "GA"
          ],
          [
           "VA"
          ],
          [
           "VA"
          ],
          [
           "VA"
          ],
          [
           "CA"
          ],
          [
           "CA"
          ],
          [
           "CA"
          ],
          [
           "NY"
          ],
          [
           "NY"
          ],
          [
           "NY"
          ],
          [
           "VA"
          ],
          [
           "VA"
          ],
          [
           "VA"
          ],
          [
           "CO"
          ],
          [
           "CO"
          ],
          [
           "CO"
          ],
          [
           "MA"
          ],
          [
           "MA"
          ],
          [
           "MA"
          ],
          [
           "SD"
          ],
          [
           "SD"
          ],
          [
           "SD"
          ],
          [
           "MN"
          ],
          [
           "MN"
          ],
          [
           "MN"
          ],
          [
           "AZ"
          ],
          [
           "AZ"
          ],
          [
           "AZ"
          ],
          [
           "NC"
          ],
          [
           "NC"
          ],
          [
           "NC"
          ],
          [
           "CA"
          ],
          [
           "CA"
          ],
          [
           "CA"
          ],
          [
           "MD"
          ],
          [
           "MD"
          ],
          [
           "MD"
          ],
          [
           "WA"
          ],
          [
           "WA"
          ],
          [
           "WA"
          ],
          [
           "NJ"
          ],
          [
           "NJ"
          ],
          [
           "NJ"
          ],
          [
           "SD"
          ],
          [
           "SD"
          ],
          [
           "SD"
          ],
          [
           "CA"
          ],
          [
           "CA"
          ],
          [
           "CA"
          ],
          [
           "UT"
          ],
          [
           "UT"
          ],
          [
           "UT"
          ],
          [
           "MS"
          ],
          [
           "MS"
          ],
          [
           "MS"
          ],
          [
           "AZ"
          ],
          [
           "AZ"
          ],
          [
           "AZ"
          ],
          [
           "MA"
          ],
          [
           "MA"
          ],
          [
           "MA"
          ],
          [
           "WV"
          ],
          [
           "WV"
          ],
          [
           "WV"
          ],
          [
           "KS"
          ],
          [
           "KS"
          ],
          [
           "KS"
          ],
          [
           "NE"
          ],
          [
           "NE"
          ],
          [
           "NE"
          ],
          [
           "SC"
          ],
          [
           "SC"
          ],
          [
           "SC"
          ],
          [
           "AK"
          ],
          [
           "AK"
          ],
          [
           "AK"
          ],
          [
           "WA"
          ],
          [
           "WA"
          ],
          [
           "WA"
          ],
          [
           "GA"
          ],
          [
           "GA"
          ],
          [
           "GA"
          ],
          [
           "WA"
          ],
          [
           "WA"
          ],
          [
           "WA"
          ],
          [
           "OR"
          ],
          [
           "OR"
          ],
          [
           "OR"
          ],
          [
           "AZ"
          ],
          [
           "AZ"
          ],
          [
           "AZ"
          ],
          [
           "MO"
          ],
          [
           "MO"
          ],
          [
           "MO"
          ],
          [
           "TX"
          ],
          [
           "TX"
          ],
          [
           "TX"
          ],
          [
           "NJ"
          ],
          [
           "NJ"
          ],
          [
           "NJ"
          ],
          [
           "TX"
          ],
          [
           "TX"
          ],
          [
           "TX"
          ],
          [
           "NM"
          ],
          [
           "NM"
          ],
          [
           "NM"
          ],
          [
           "AZ"
          ],
          [
           "AZ"
          ],
          [
           "AZ"
          ],
          [
           "AR"
          ],
          [
           "AR"
          ],
          [
           "AR"
          ],
          [
           "VA"
          ],
          [
           "VA"
          ],
          [
           "VA"
          ],
          [
           "NM"
          ],
          [
           "NM"
          ],
          [
           "NM"
          ],
          [
           "OH"
          ],
          [
           "OH"
          ],
          [
           "OH"
          ],
          [
           "CA"
          ],
          [
           "CA"
          ],
          [
           "CA"
          ],
          [
           "MN"
          ],
          [
           "MN"
          ],
          [
           "MN"
          ],
          [
           "MI"
          ],
          [
           "MI"
          ],
          [
           "MI"
          ],
          [
           "MD"
          ],
          [
           "MD"
          ],
          [
           "MD"
          ],
          [
           "AZ"
          ],
          [
           "AZ"
          ],
          [
           "AZ"
          ],
          [
           "CA"
          ],
          [
           "CA"
          ],
          [
           "CA"
          ],
          [
           "CA"
          ],
          [
           "CA"
          ],
          [
           "CA"
          ],
          [
           "VA"
          ],
          [
           "VA"
          ],
          [
           "VA"
          ],
          [
           "HI"
          ],
          [
           "HI"
          ],
          [
           "HI"
          ],
          [
           "HI"
          ],
          [
           "HI"
          ],
          [
           "HI"
          ],
          [
           "UT"
          ],
          [
           "UT"
          ],
          [
           "UT"
          ],
          [
           "CA"
          ],
          [
           "CA"
          ],
          [
           "CA"
          ],
          [
           "VA"
          ],
          [
           "VA"
          ],
          [
           "VA"
          ],
          [
           "TX"
          ],
          [
           "TX"
          ],
          [
           "TX"
          ],
          [
           "MI"
          ],
          [
           "MI"
          ],
          [
           "MI"
          ],
          [
           "CO"
          ],
          [
           "CO"
          ],
          [
           "CO"
          ],
          [
           "CA"
          ],
          [
           "CA"
          ],
          [
           "CA"
          ],
          [
           "RI"
          ],
          [
           "RI"
          ],
          [
           "RI"
          ],
          [
           "AL"
          ],
          [
           "AL"
          ],
          [
           "AL"
          ],
          [
           "TX"
          ],
          [
           "TX"
          ],
          [
           "TX"
          ],
          [
           "ME"
          ],
          [
           "ME"
          ],
          [
           "ME"
          ],
          [
           "CA"
          ],
          [
           "CA"
          ],
          [
           "CA"
          ],
          [
           "NH"
          ],
          [
           "NH"
          ],
          [
           "NH"
          ],
          [
           "AZ"
          ],
          [
           "AZ"
          ],
          [
           "AZ"
          ],
          [
           "NY"
          ],
          [
           "NY"
          ],
          [
           "NY"
          ],
          [
           "MA"
          ],
          [
           "MA"
          ],
          [
           "MA"
          ],
          [
           "WA"
          ],
          [
           "WA"
          ],
          [
           "WA"
          ],
          [
           "MA"
          ],
          [
           "MA"
          ],
          [
           "MA"
          ],
          [
           "CA"
          ],
          [
           "CA"
          ],
          [
           "CA"
          ],
          [
           "CO"
          ],
          [
           "CO"
          ],
          [
           "CO"
          ],
          [
           "NY"
          ],
          [
           "NY"
          ],
          [
           "NY"
          ],
          [
           "NM"
          ],
          [
           "NM"
          ],
          [
           "NM"
          ],
          [
           "NY"
          ],
          [
           "NY"
          ],
          [
           "NY"
          ],
          [
           "NE"
          ],
          [
           "NE"
          ],
          [
           "NE"
          ],
          [
           "VA"
          ],
          [
           "VA"
          ],
          [
           "VA"
          ],
          [
           "AK"
          ],
          [
           "AK"
          ],
          [
           "AK"
          ],
          [
           "MI"
          ],
          [
           "MI"
          ],
          [
           "MI"
          ],
          [
           "MA"
          ],
          [
           "MA"
          ],
          [
           "MA"
          ],
          [
           "PA"
          ],
          [
           "PA"
          ],
          [
           "PA"
          ],
          [
           "NY"
          ],
          [
           "NY"
          ],
          [
           "NY"
          ],
          [
           "NY"
          ],
          [
           "NY"
          ],
          [
           "NY"
          ],
          [
           "TN"
          ],
          [
           "TN"
          ],
          [
           "TN"
          ],
          [
           "AZ"
          ],
          [
           "AZ"
          ],
          [
           "AZ"
          ],
          [
           "KS"
          ],
          [
           "KS"
          ],
          [
           "KS"
          ],
          [
           "PA"
          ],
          [
           "PA"
          ],
          [
           "PA"
          ],
          [
           "NY"
          ],
          [
           "NY"
          ],
          [
           "NY"
          ],
          [
           "NY"
          ],
          [
           "NY"
          ],
          [
           "NY"
          ],
          [
           "ND"
          ],
          [
           "ND"
          ],
          [
           "ND"
          ],
          [
           "MD"
          ],
          [
           "MD"
          ],
          [
           "MD"
          ],
          [
           "UT"
          ],
          [
           "UT"
          ],
          [
           "UT"
          ],
          [
           "FL"
          ],
          [
           "FL"
          ],
          [
           "FL"
          ],
          [
           "AZ"
          ],
          [
           "AZ"
          ],
          [
           "AZ"
          ],
          [
           "AL"
          ],
          [
           "AL"
          ],
          [
           "AL"
          ],
          [
           "AL"
          ],
          [
           "AL"
          ],
          [
           "AL"
          ],
          [
           "AZ"
          ],
          [
           "AZ"
          ],
          [
           "AZ"
          ],
          [
           "AZ"
          ],
          [
           "AZ"
          ],
          [
           "AZ"
          ],
          [
           "MO"
          ],
          [
           "MO"
          ],
          [
           "MO"
          ],
          [
           "PA"
          ],
          [
           "PA"
          ],
          [
           "PA"
          ],
          [
           "HI"
          ],
          [
           "HI"
          ],
          [
           "HI"
          ],
          [
           "NY"
          ],
          [
           "NY"
          ],
          [
           "NY"
          ],
          [
           "MN"
          ],
          [
           "MN"
          ],
          [
           "MN"
          ],
          [
           "OK"
          ],
          [
           "OK"
          ],
          [
           "OK"
          ],
          [
           "AZ"
          ],
          [
           "AZ"
          ],
          [
           "AZ"
          ],
          [
           "TX"
          ],
          [
           "TX"
          ],
          [
           "TX"
          ],
          [
           "CT"
          ],
          [
           "CT"
          ],
          [
           "CT"
          ],
          [
           "CA"
          ],
          [
           "CA"
          ],
          [
           "CA"
          ],
          [
           "WA"
          ],
          [
           "WA"
          ],
          [
           "WA"
          ],
          [
           "NM"
          ],
          [
           "NM"
          ],
          [
           "NM"
          ],
          [
           "SD"
          ],
          [
           "SD"
          ],
          [
           "SD"
          ],
          [
           "AR"
          ],
          [
           "AR"
          ],
          [
           "AR"
          ],
          [
           "MO"
          ],
          [
           "MO"
          ],
          [
           "MO"
          ],
          [
           "OH"
          ],
          [
           "OH"
          ],
          [
           "OH"
          ],
          [
           "NY"
          ],
          [
           "NY"
          ],
          [
           "NY"
          ],
          [
           "VA"
          ],
          [
           "VA"
          ],
          [
           "VA"
          ],
          [
           "NC"
          ],
          [
           "NC"
          ],
          [
           "NC"
          ],
          [
           "AK"
          ],
          [
           "AK"
          ],
          [
           "AK"
          ],
          [
           "AZ"
          ],
          [
           "AZ"
          ],
          [
           "AZ"
          ],
          [
           "CA"
          ],
          [
           "CA"
          ],
          [
           "CA"
          ],
          [
           "AK"
          ],
          [
           "AK"
          ],
          [
           "AK"
          ],
          [
           "UT"
          ],
          [
           "UT"
          ],
          [
           "UT"
          ]
         ],
         "hoverlabel": {
          "namelength": 0
         },
         "hovertemplate": "Population=%{x}<br>Total Visitors=%{y}<br>Month=%{marker.size}<br>State Code=%{customdata[0]}",
         "legendgroup": "",
         "marker": {
          "color": "#636efa",
          "size": [
           3,
           4,
           5,
           3,
           4,
           5,
           3,
           4,
           5,
           3,
           4,
           5,
           3,
           4,
           5,
           3,
           4,
           5,
           3,
           4,
           5,
           3,
           4,
           5,
           3,
           4,
           5,
           3,
           4,
           5,
           3,
           4,
           5,
           3,
           4,
           5,
           3,
           4,
           5,
           3,
           4,
           5,
           3,
           4,
           5,
           3,
           4,
           5,
           3,
           4,
           5,
           3,
           4,
           5,
           3,
           4,
           5,
           3,
           4,
           5,
           3,
           4,
           5,
           3,
           4,
           5,
           3,
           4,
           5,
           3,
           4,
           5,
           3,
           4,
           5,
           3,
           4,
           5,
           3,
           4,
           5,
           3,
           4,
           5,
           3,
           4,
           5,
           3,
           4,
           5,
           3,
           4,
           5,
           3,
           4,
           5,
           3,
           4,
           5,
           3,
           4,
           5,
           3,
           4,
           5,
           3,
           4,
           5,
           3,
           4,
           5,
           3,
           4,
           5,
           3,
           4,
           5,
           3,
           4,
           5,
           3,
           4,
           5,
           3,
           4,
           5,
           3,
           4,
           5,
           3,
           4,
           5,
           3,
           4,
           5,
           3,
           4,
           5,
           3,
           4,
           5,
           3,
           4,
           5,
           3,
           4,
           5,
           3,
           4,
           5,
           3,
           4,
           5,
           3,
           4,
           5,
           3,
           4,
           5,
           3,
           4,
           5,
           3,
           4,
           5,
           3,
           4,
           5,
           3,
           4,
           5,
           3,
           4,
           5,
           3,
           4,
           5,
           3,
           4,
           5,
           3,
           4,
           5,
           3,
           4,
           5,
           3,
           4,
           5,
           3,
           4,
           5,
           3,
           4,
           5,
           3,
           4,
           5,
           3,
           4,
           5,
           3,
           4,
           5,
           3,
           4,
           5,
           3,
           4,
           5,
           3,
           4,
           5,
           3,
           4,
           5,
           3,
           4,
           5,
           3,
           4,
           5,
           3,
           4,
           5,
           3,
           4,
           5,
           3,
           4,
           5,
           3,
           4,
           5,
           3,
           4,
           5,
           3,
           4,
           5,
           3,
           4,
           5,
           3,
           4,
           5,
           3,
           4,
           5,
           3,
           4,
           5,
           3,
           4,
           5,
           3,
           4,
           5,
           3,
           4,
           5,
           3,
           4,
           5,
           3,
           4,
           5,
           3,
           4,
           5,
           3,
           4,
           5,
           3,
           4,
           5,
           3,
           4,
           5,
           3,
           4,
           5,
           3,
           4,
           5,
           3,
           4,
           5,
           3,
           4,
           5,
           3,
           4,
           5,
           3,
           4,
           5,
           3,
           4,
           5,
           3,
           4,
           5,
           3,
           4,
           5,
           3,
           4,
           5,
           3,
           4,
           5,
           3,
           4,
           5,
           3,
           4,
           5,
           3,
           4,
           5,
           3,
           4,
           5,
           3,
           4,
           5,
           3,
           4,
           5,
           3,
           4,
           5,
           3,
           4,
           5,
           3,
           4,
           5,
           3,
           4,
           5,
           3,
           4,
           5,
           3,
           4,
           5,
           3,
           4,
           5,
           3,
           4,
           5,
           3,
           4,
           5,
           3,
           4,
           5,
           3,
           4,
           5,
           3,
           4,
           5,
           3,
           4,
           5,
           3,
           4,
           5,
           3,
           4,
           5,
           3,
           4,
           5,
           3,
           4,
           5,
           3,
           4,
           5,
           3,
           4,
           5,
           3,
           4,
           5,
           3,
           4,
           5,
           3,
           4,
           5,
           3,
           4,
           5,
           3,
           4,
           5,
           3,
           4,
           5,
           3,
           4,
           5,
           3,
           4,
           5,
           3,
           4,
           5,
           3,
           4,
           5,
           3,
           4,
           5,
           3,
           4,
           5,
           3,
           4,
           5,
           3,
           4,
           5,
           3,
           4,
           5,
           3,
           4,
           5,
           3,
           4,
           5,
           3,
           4,
           5,
           3,
           4,
           5,
           3,
           4,
           5,
           3,
           4,
           5,
           3,
           4,
           5,
           3,
           4,
           5,
           3,
           4,
           5,
           3,
           4,
           5,
           3,
           4,
           5,
           3,
           4,
           5,
           3,
           4,
           5,
           3,
           4,
           5,
           3,
           4,
           5,
           3,
           4,
           5,
           3,
           4,
           5,
           3,
           4,
           5,
           3,
           4,
           5,
           3,
           4,
           5,
           3,
           4,
           5,
           3,
           4,
           5,
           3,
           4,
           5,
           3,
           4,
           5,
           3,
           4,
           5,
           3,
           4,
           5,
           3,
           4,
           5,
           3,
           4,
           5,
           3,
           4,
           5,
           3,
           4,
           5,
           3,
           4,
           5,
           3,
           4,
           5,
           3,
           4,
           5,
           3,
           4,
           5,
           3,
           4,
           5,
           3,
           4,
           5,
           3,
           4,
           5,
           3,
           4,
           5,
           3,
           4,
           5,
           3,
           4,
           5,
           3,
           4,
           5,
           3,
           4,
           5,
           3,
           4,
           5,
           3,
           4,
           5,
           3,
           4,
           5,
           3,
           4,
           5,
           3,
           4,
           5,
           3,
           4,
           5,
           3,
           4,
           5,
           3,
           4,
           5,
           3,
           4,
           5,
           3,
           4,
           5,
           3,
           4,
           5,
           3,
           4,
           5,
           3,
           4,
           5,
           3,
           4,
           5,
           3,
           4,
           5,
           3,
           4,
           5,
           3,
           4,
           5,
           3,
           4,
           5,
           3,
           4,
           5,
           3,
           4,
           5,
           3,
           4,
           5,
           3,
           4,
           5,
           3,
           4,
           5,
           3,
           4,
           5,
           3,
           4,
           5,
           3,
           4,
           5,
           3,
           4,
           5,
           3,
           4,
           5,
           3,
           4,
           5,
           3,
           4,
           5,
           3,
           4,
           5,
           3,
           4,
           5,
           3,
           4,
           5,
           3,
           4,
           5,
           3,
           4,
           5,
           3,
           4,
           5,
           3,
           4,
           5,
           3,
           4,
           5,
           3,
           4,
           5,
           3,
           4,
           5,
           3,
           4,
           5,
           3,
           4,
           5,
           3,
           4,
           5,
           3,
           4,
           5,
           3,
           4,
           5,
           3,
           4,
           5,
           3,
           4,
           5,
           3,
           4,
           5,
           3,
           4,
           5,
           3,
           4,
           5,
           3,
           4,
           5,
           3,
           4,
           5,
           3,
           4,
           5,
           3,
           4,
           5,
           3,
           4,
           5,
           3,
           4,
           5,
           3,
           4,
           5,
           3,
           4,
           5,
           3,
           4,
           5,
           3,
           4,
           5,
           3,
           4,
           5,
           3,
           4,
           5,
           3,
           4,
           5,
           3,
           4,
           5,
           3,
           4,
           5,
           3,
           4,
           5,
           3,
           4,
           5,
           3,
           4,
           5,
           3,
           4,
           5,
           3,
           4,
           5,
           3,
           4,
           5,
           3,
           4,
           5,
           3,
           4,
           5,
           3,
           4,
           5,
           3,
           4,
           5,
           3,
           4,
           5,
           3,
           4,
           5,
           3,
           4,
           5,
           3,
           4,
           5,
           3,
           4,
           5,
           3,
           4,
           5,
           3,
           4,
           5,
           3,
           4,
           5,
           3,
           4,
           5,
           3,
           4,
           5,
           3,
           4,
           5,
           3,
           4,
           5,
           3,
           4,
           5,
           3,
           4,
           5,
           3,
           4,
           5,
           3,
           4,
           5,
           3,
           4,
           5,
           3,
           4,
           5,
           3,
           4,
           5,
           3,
           4,
           5,
           3,
           4,
           5,
           3,
           4,
           5,
           3,
           4,
           5,
           3,
           4,
           5,
           3,
           4,
           5,
           3,
           4,
           5,
           3,
           4,
           5,
           3,
           4,
           5,
           3,
           4,
           5,
           3,
           4,
           5,
           3,
           4,
           5,
           3,
           4,
           5,
           3,
           4,
           5,
           3,
           4,
           5,
           3,
           4,
           5,
           3,
           4,
           5,
           3,
           4,
           5,
           3,
           4,
           5,
           3,
           4,
           5,
           3,
           4,
           5,
           3,
           4,
           5,
           3,
           4,
           5,
           3,
           4,
           5,
           3,
           4,
           5,
           3,
           4,
           5,
           3,
           4,
           5,
           3,
           4,
           5,
           3,
           4,
           5,
           3,
           4,
           5,
           3,
           4,
           5
          ],
          "sizemode": "area",
          "sizeref": 0.0125,
          "symbol": "circle"
         },
         "mode": "markers",
         "name": "",
         "showlegend": false,
         "type": "scatter",
         "x": [
          4424376,
          4424376,
          4424376,
          1330158,
          1330158,
          1330158,
          6789319,
          6789319,
          6789319,
          19798228,
          19798228,
          19798228,
          1893921,
          1893921,
          1893921,
          27419612,
          27419612,
          27419612,
          12790505,
          12790505,
          12790505,
          27419612,
          27419612,
          27419612,
          10201635,
          10201635,
          10201635,
          738565,
          738565,
          738565,
          6597381,
          6597381,
          6597381,
          5996079,
          5996079,
          5996079,
          8365952,
          8365952,
          8365952,
          5763217,
          5763217,
          5763217,
          2993941,
          2993941,
          2993941,
          8365952,
          8365952,
          8365952,
          2977944,
          2977944,
          2977944,
          2084828,
          2084828,
          2084828,
          855444,
          855444,
          855444,
          2084828,
          2084828,
          2084828,
          738565,
          738565,
          738565,
          5436519,
          5436519,
          5436519,
          27419612,
          27419612,
          27419612,
          20278447,
          20278447,
          20278447,
          1029862,
          1029862,
          1029862,
          20278447,
          20278447,
          20278447,
          27419612,
          27419612,
          27419612,
          5436519,
          5436519,
          5436519,
          1836843,
          1836843,
          1836843,
          6789319,
          6789319,
          6789319,
          6789319,
          6789319,
          6789319,
          8365952,
          8365952,
          8365952,
          2993941,
          2993941,
          2993941,
          2903820,
          2903820,
          2903820,
          2977944,
          2977944,
          2977944,
          38982847,
          38982847,
          38982847,
          6809946,
          6809946,
          6809946,
          19798228,
          19798228,
          19798228,
          6789319,
          6789319,
          6789319,
          6809946,
          6809946,
          6809946,
          10052564,
          10052564,
          10052564,
          738565,
          738565,
          738565,
          10052564,
          10052564,
          10052564,
          20278447,
          20278447,
          20278447,
          2993941,
          2993941,
          2993941,
          2993941,
          2993941,
          2993941,
          4663461,
          4663461,
          4663461,
          10052564,
          10052564,
          10052564,
          20278447,
          20278447,
          20278447,
          5996079,
          5996079,
          5996079,
          2084828,
          2084828,
          2084828,
          2084828,
          2084828,
          2084828,
          2993941,
          2993941,
          2993941,
          38982847,
          38982847,
          38982847,
          27419612,
          27419612,
          27419612,
          10201635,
          10201635,
          10201635,
          2084828,
          2084828,
          2084828,
          3896251,
          3896251,
          3896251,
          6809946,
          6809946,
          6809946,
          38982847,
          38982847,
          38982847,
          4893444,
          4893444,
          4893444,
          2977944,
          2977944,
          2977944,
          11609756,
          11609756,
          11609756,
          1657375,
          1657375,
          1657375,
          5996079,
          5996079,
          5996079,
          5436519,
          5436519,
          5436519,
          8365952,
          8365952,
          8365952,
          4893444,
          4893444,
          4893444,
          6809946,
          6809946,
          6809946,
          4893444,
          4893444,
          4893444,
          4025127,
          4025127,
          4025127,
          1657375,
          1657375,
          1657375,
          10201635,
          10201635,
          10201635,
          5436519,
          5436519,
          5436519,
          11609756,
          11609756,
          11609756,
          11609756,
          11609756,
          11609756,
          738565,
          738565,
          738565,
          38982847,
          38982847,
          38982847,
          20278447,
          20278447,
          20278447,
          583200,
          583200,
          583200,
          20278447,
          20278447,
          20278447,
          12790505,
          12790505,
          12790505,
          8960161,
          8960161,
          8960161,
          3118102,
          3118102,
          3118102,
          12790505,
          12790505,
          12790505,
          2084828,
          2084828,
          2084828,
          2084828,
          2084828,
          2084828,
          19798228,
          19798228,
          19798228,
          38982847,
          38982847,
          38982847,
          20278447,
          20278447,
          20278447,
          19798228,
          19798228,
          19798228,
          19798228,
          19798228,
          19798228,
          11609756,
          11609756,
          11609756,
          5436519,
          5436519,
          5436519,
          12790505,
          12790505,
          12790505,
          6809946,
          6809946,
          6809946,
          583200,
          583200,
          583200,
          27419612,
          27419612,
          27419612,
          10201635,
          10201635,
          10201635,
          583200,
          583200,
          583200,
          2903820,
          2903820,
          2903820,
          20278447,
          20278447,
          20278447,
          5996079,
          5996079,
          5996079,
          12790505,
          12790505,
          12790505,
          38982847,
          38982847,
          38982847,
          10201635,
          10201635,
          10201635,
          10052564,
          10052564,
          10052564,
          2903820,
          2903820,
          2903820,
          19798228,
          19798228,
          19798228,
          4893444,
          4893444,
          4893444,
          2084828,
          2084828,
          2084828,
          5996079,
          5996079,
          5996079,
          12790505,
          12790505,
          12790505,
          6789319,
          6789319,
          6789319,
          8365952,
          8365952,
          8365952,
          738565,
          738565,
          738565,
          1836843,
          1836843,
          1836843,
          19798228,
          19798228,
          19798228,
          6614418,
          6614418,
          6614418,
          12790505,
          12790505,
          12790505,
          8365952,
          8365952,
          8365952,
          2084828,
          2084828,
          2084828,
          1029862,
          1029862,
          1029862,
          738565,
          738565,
          738565,
          38982847,
          38982847,
          38982847,
          19798228,
          19798228,
          19798228,
          2993941,
          2993941,
          2993941,
          2887725,
          2887725,
          2887725,
          6809946,
          6809946,
          6809946,
          5996079,
          5996079,
          5996079,
          1029862,
          1029862,
          1029862,
          5490726,
          5490726,
          5490726,
          5436519,
          5436519,
          5436519,
          583200,
          583200,
          583200,
          10052564,
          10052564,
          10052564,
          27419612,
          27419612,
          27419612,
          6075300,
          6075300,
          6075300,
          1657375,
          1657375,
          1657375,
          19798228,
          19798228,
          19798228,
          1421658,
          1421658,
          1421658,
          5996079,
          5996079,
          5996079,
          1421658,
          1421658,
          1421658,
          3118102,
          3118102,
          3118102,
          4850771,
          4850771,
          4850771,
          11609756,
          11609756,
          11609756,
          19798228,
          19798228,
          19798228,
          12790505,
          12790505,
          12790505,
          1893921,
          1893921,
          1893921,
          2977944,
          2977944,
          2977944,
          6075300,
          6075300,
          6075300,
          6809946,
          6809946,
          6809946,
          12790505,
          12790505,
          12790505,
          6614418,
          6614418,
          6614418,
          9925568,
          9925568,
          9925568,
          11609756,
          11609756,
          11609756,
          4663461,
          4663461,
          4663461,
          855444,
          855444,
          855444,
          6075300,
          6075300,
          6075300,
          4663461,
          4663461,
          4663461,
          10201635,
          10201635,
          10201635,
          4025127,
          4025127,
          4025127,
          6789319,
          6789319,
          6789319,
          12790505,
          12790505,
          12790505,
          38982847,
          38982847,
          38982847,
          38982847,
          38982847,
          38982847,
          1421658,
          1421658,
          1421658,
          1421658,
          1421658,
          1421658,
          738565,
          738565,
          738565,
          738565,
          738565,
          738565,
          10201635,
          10201635,
          10201635,
          9925568,
          9925568,
          9925568,
          4893444,
          4893444,
          4893444,
          738565,
          738565,
          738565,
          7169967,
          7169967,
          7169967,
          745475,
          745475,
          745475,
          738565,
          738565,
          738565,
          38982847,
          38982847,
          38982847,
          738565,
          738565,
          738565,
          27419612,
          27419612,
          27419612,
          7169967,
          7169967,
          7169967,
          38982847,
          38982847,
          38982847,
          1029862,
          1029862,
          1029862,
          6614418,
          6614418,
          6614418,
          12854526,
          12854526,
          12854526,
          4850771,
          4850771,
          4850771,
          6789319,
          6789319,
          6789319,
          6789319,
          6789319,
          6789319,
          27419612,
          27419612,
          27419612,
          624636,
          624636,
          624636,
          4424376,
          4424376,
          4424376,
          10201635,
          10201635,
          10201635,
          8365952,
          8365952,
          8365952,
          38982847,
          38982847,
          38982847,
          19798228,
          19798228,
          19798228,
          8365952,
          8365952,
          8365952,
          5436519,
          5436519,
          5436519,
          6789319,
          6789319,
          6789319,
          855444,
          855444,
          855444,
          5490726,
          5490726,
          5490726,
          6809946,
          6809946,
          6809946,
          10052564,
          10052564,
          10052564,
          38982847,
          38982847,
          38982847,
          5996079,
          5996079,
          5996079,
          7169967,
          7169967,
          7169967,
          8960161,
          8960161,
          8960161,
          855444,
          855444,
          855444,
          38982847,
          38982847,
          38982847,
          2993941,
          2993941,
          2993941,
          2986220,
          2986220,
          2986220,
          6809946,
          6809946,
          6809946,
          6789319,
          6789319,
          6789319,
          1836843,
          1836843,
          1836843,
          2903820,
          2903820,
          2903820,
          1893921,
          1893921,
          1893921,
          4893444,
          4893444,
          4893444,
          738565,
          738565,
          738565,
          7169967,
          7169967,
          7169967,
          10201635,
          10201635,
          10201635,
          7169967,
          7169967,
          7169967,
          4025127,
          4025127,
          4025127,
          6809946,
          6809946,
          6809946,
          6075300,
          6075300,
          6075300,
          27419612,
          27419612,
          27419612,
          8960161,
          8960161,
          8960161,
          27419612,
          27419612,
          27419612,
          2084828,
          2084828,
          2084828,
          6809946,
          6809946,
          6809946,
          2977944,
          2977944,
          2977944,
          8365952,
          8365952,
          8365952,
          2084828,
          2084828,
          2084828,
          11609756,
          11609756,
          11609756,
          38982847,
          38982847,
          38982847,
          5490726,
          5490726,
          5490726,
          9925568,
          9925568,
          9925568,
          5996079,
          5996079,
          5996079,
          6809946,
          6809946,
          6809946,
          38982847,
          38982847,
          38982847,
          38982847,
          38982847,
          38982847,
          8365952,
          8365952,
          8365952,
          1421658,
          1421658,
          1421658,
          1421658,
          1421658,
          1421658,
          2993941,
          2993941,
          2993941,
          38982847,
          38982847,
          38982847,
          8365952,
          8365952,
          8365952,
          27419612,
          27419612,
          27419612,
          9925568,
          9925568,
          9925568,
          5436519,
          5436519,
          5436519,
          38982847,
          38982847,
          38982847,
          1056138,
          1056138,
          1056138,
          4850771,
          4850771,
          4850771,
          27419612,
          27419612,
          27419612,
          1330158,
          1330158,
          1330158,
          38982847,
          38982847,
          38982847,
          1331848,
          1331848,
          1331848,
          6809946,
          6809946,
          6809946,
          19798228,
          19798228,
          19798228,
          6789319,
          6789319,
          6789319,
          7169967,
          7169967,
          7169967,
          6789319,
          6789319,
          6789319,
          38982847,
          38982847,
          38982847,
          5436519,
          5436519,
          5436519,
          19798228,
          19798228,
          19798228,
          2084828,
          2084828,
          2084828,
          19798228,
          19798228,
          19798228,
          1893921,
          1893921,
          1893921,
          8365952,
          8365952,
          8365952,
          738565,
          738565,
          738565,
          9925568,
          9925568,
          9925568,
          6789319,
          6789319,
          6789319,
          12790505,
          12790505,
          12790505,
          19798228,
          19798228,
          19798228,
          19798228,
          19798228,
          19798228,
          6597381,
          6597381,
          6597381,
          6809946,
          6809946,
          6809946,
          2903820,
          2903820,
          2903820,
          12790505,
          12790505,
          12790505,
          19798228,
          19798228,
          19798228,
          19798228,
          19798228,
          19798228,
          745475,
          745475,
          745475,
          5996079,
          5996079,
          5996079,
          2993941,
          2993941,
          2993941,
          20278447,
          20278447,
          20278447,
          6809946,
          6809946,
          6809946,
          4850771,
          4850771,
          4850771,
          4850771,
          4850771,
          4850771,
          6809946,
          6809946,
          6809946,
          6809946,
          6809946,
          6809946,
          6075300,
          6075300,
          6075300,
          12790505,
          12790505,
          12790505,
          1421658,
          1421658,
          1421658,
          19798228,
          19798228,
          19798228,
          5490726,
          5490726,
          5490726,
          3896251,
          3896251,
          3896251,
          6809946,
          6809946,
          6809946,
          27419612,
          27419612,
          27419612,
          3594478,
          3594478,
          3594478,
          38982847,
          38982847,
          38982847,
          7169967,
          7169967,
          7169967,
          2084828,
          2084828,
          2084828,
          855444,
          855444,
          855444,
          2977944,
          2977944,
          2977944,
          6075300,
          6075300,
          6075300,
          11609756,
          11609756,
          11609756,
          19798228,
          19798228,
          19798228,
          8365952,
          8365952,
          8365952,
          10052564,
          10052564,
          10052564,
          738565,
          738565,
          738565,
          6809946,
          6809946,
          6809946,
          38982847,
          38982847,
          38982847,
          738565,
          738565,
          738565,
          2993941,
          2993941,
          2993941
         ],
         "xaxis": "x",
         "y": [
          20698590,
          26131016,
          31066774,
          20698590,
          26131016,
          31066774,
          20698590,
          26131016,
          31066774,
          20698590,
          26131016,
          31066774,
          20698590,
          26131016,
          31066774,
          20698590,
          26131016,
          31066774,
          20698590,
          26131016,
          31066774,
          20698590,
          26131016,
          31066774,
          20698590,
          26131016,
          31066774,
          20698590,
          26131016,
          31066774,
          20698590,
          26131016,
          31066774,
          20698590,
          26131016,
          31066774,
          20698590,
          26131016,
          31066774,
          20698590,
          26131016,
          31066774,
          20698590,
          26131016,
          31066774,
          20698590,
          26131016,
          31066774,
          20698590,
          26131016,
          31066774,
          20698590,
          26131016,
          31066774,
          20698590,
          26131016,
          31066774,
          20698590,
          26131016,
          31066774,
          20698590,
          26131016,
          31066774,
          20698590,
          26131016,
          31066774,
          20698590,
          26131016,
          31066774,
          20698590,
          26131016,
          31066774,
          20698590,
          26131016,
          31066774,
          20698590,
          26131016,
          31066774,
          20698590,
          26131016,
          31066774,
          20698590,
          26131016,
          31066774,
          20698590,
          26131016,
          31066774,
          20698590,
          26131016,
          31066774,
          20698590,
          26131016,
          31066774,
          20698590,
          26131016,
          31066774,
          20698590,
          26131016,
          31066774,
          20698590,
          26131016,
          31066774,
          20698590,
          26131016,
          31066774,
          20698590,
          26131016,
          31066774,
          20698590,
          26131016,
          31066774,
          20698590,
          26131016,
          31066774,
          20698590,
          26131016,
          31066774,
          20698590,
          26131016,
          31066774,
          20698590,
          26131016,
          31066774,
          20698590,
          26131016,
          31066774,
          20698590,
          26131016,
          31066774,
          20698590,
          26131016,
          31066774,
          20698590,
          26131016,
          31066774,
          20698590,
          26131016,
          31066774,
          20698590,
          26131016,
          31066774,
          20698590,
          26131016,
          31066774,
          20698590,
          26131016,
          31066774,
          20698590,
          26131016,
          31066774,
          20698590,
          26131016,
          31066774,
          20698590,
          26131016,
          31066774,
          20698590,
          26131016,
          31066774,
          20698590,
          26131016,
          31066774,
          20698590,
          26131016,
          31066774,
          20698590,
          26131016,
          31066774,
          20698590,
          26131016,
          31066774,
          20698590,
          26131016,
          31066774,
          20698590,
          26131016,
          31066774,
          20698590,
          26131016,
          31066774,
          20698590,
          26131016,
          31066774,
          20698590,
          26131016,
          31066774,
          20698590,
          26131016,
          31066774,
          20698590,
          26131016,
          31066774,
          20698590,
          26131016,
          31066774,
          20698590,
          26131016,
          31066774,
          20698590,
          26131016,
          31066774,
          20698590,
          26131016,
          31066774,
          20698590,
          26131016,
          31066774,
          20698590,
          26131016,
          31066774,
          20698590,
          26131016,
          31066774,
          20698590,
          26131016,
          31066774,
          20698590,
          26131016,
          31066774,
          20698590,
          26131016,
          31066774,
          20698590,
          26131016,
          31066774,
          20698590,
          26131016,
          31066774,
          20698590,
          26131016,
          31066774,
          20698590,
          26131016,
          31066774,
          20698590,
          26131016,
          31066774,
          20698590,
          26131016,
          31066774,
          20698590,
          26131016,
          31066774,
          20698590,
          26131016,
          31066774,
          20698590,
          26131016,
          31066774,
          20698590,
          26131016,
          31066774,
          20698590,
          26131016,
          31066774,
          20698590,
          26131016,
          31066774,
          20698590,
          26131016,
          31066774,
          20698590,
          26131016,
          31066774,
          20698590,
          26131016,
          31066774,
          20698590,
          26131016,
          31066774,
          20698590,
          26131016,
          31066774,
          20698590,
          26131016,
          31066774,
          20698590,
          26131016,
          31066774,
          20698590,
          26131016,
          31066774,
          20698590,
          26131016,
          31066774,
          20698590,
          26131016,
          31066774,
          20698590,
          26131016,
          31066774,
          20698590,
          26131016,
          31066774,
          20698590,
          26131016,
          31066774,
          20698590,
          26131016,
          31066774,
          20698590,
          26131016,
          31066774,
          20698590,
          26131016,
          31066774,
          20698590,
          26131016,
          31066774,
          20698590,
          26131016,
          31066774,
          20698590,
          26131016,
          31066774,
          20698590,
          26131016,
          31066774,
          20698590,
          26131016,
          31066774,
          20698590,
          26131016,
          31066774,
          20698590,
          26131016,
          31066774,
          20698590,
          26131016,
          31066774,
          20698590,
          26131016,
          31066774,
          20698590,
          26131016,
          31066774,
          20698590,
          26131016,
          31066774,
          20698590,
          26131016,
          31066774,
          20698590,
          26131016,
          31066774,
          20698590,
          26131016,
          31066774,
          20698590,
          26131016,
          31066774,
          20698590,
          26131016,
          31066774,
          20698590,
          26131016,
          31066774,
          20698590,
          26131016,
          31066774,
          20698590,
          26131016,
          31066774,
          20698590,
          26131016,
          31066774,
          20698590,
          26131016,
          31066774,
          20698590,
          26131016,
          31066774,
          20698590,
          26131016,
          31066774,
          20698590,
          26131016,
          31066774,
          20698590,
          26131016,
          31066774,
          20698590,
          26131016,
          31066774,
          20698590,
          26131016,
          31066774,
          20698590,
          26131016,
          31066774,
          20698590,
          26131016,
          31066774,
          20698590,
          26131016,
          31066774,
          20698590,
          26131016,
          31066774,
          20698590,
          26131016,
          31066774,
          20698590,
          26131016,
          31066774,
          20698590,
          26131016,
          31066774,
          20698590,
          26131016,
          31066774,
          20698590,
          26131016,
          31066774,
          20698590,
          26131016,
          31066774,
          20698590,
          26131016,
          31066774,
          20698590,
          26131016,
          31066774,
          20698590,
          26131016,
          31066774,
          20698590,
          26131016,
          31066774,
          20698590,
          26131016,
          31066774,
          20698590,
          26131016,
          31066774,
          20698590,
          26131016,
          31066774,
          20698590,
          26131016,
          31066774,
          20698590,
          26131016,
          31066774,
          20698590,
          26131016,
          31066774,
          20698590,
          26131016,
          31066774,
          20698590,
          26131016,
          31066774,
          20698590,
          26131016,
          31066774,
          20698590,
          26131016,
          31066774,
          20698590,
          26131016,
          31066774,
          20698590,
          26131016,
          31066774,
          20698590,
          26131016,
          31066774,
          20698590,
          26131016,
          31066774,
          20698590,
          26131016,
          31066774,
          20698590,
          26131016,
          31066774,
          20698590,
          26131016,
          31066774,
          20698590,
          26131016,
          31066774,
          20698590,
          26131016,
          31066774,
          20698590,
          26131016,
          31066774,
          20698590,
          26131016,
          31066774,
          20698590,
          26131016,
          31066774,
          20698590,
          26131016,
          31066774,
          20698590,
          26131016,
          31066774,
          20698590,
          26131016,
          31066774,
          20698590,
          26131016,
          31066774,
          20698590,
          26131016,
          31066774,
          20698590,
          26131016,
          31066774,
          20698590,
          26131016,
          31066774,
          20698590,
          26131016,
          31066774,
          20698590,
          26131016,
          31066774,
          20698590,
          26131016,
          31066774,
          20698590,
          26131016,
          31066774,
          20698590,
          26131016,
          31066774,
          20698590,
          26131016,
          31066774,
          20698590,
          26131016,
          31066774,
          20698590,
          26131016,
          31066774,
          20698590,
          26131016,
          31066774,
          20698590,
          26131016,
          31066774,
          20698590,
          26131016,
          31066774,
          20698590,
          26131016,
          31066774,
          20698590,
          26131016,
          31066774,
          20698590,
          26131016,
          31066774,
          20698590,
          26131016,
          31066774,
          20698590,
          26131016,
          31066774,
          20698590,
          26131016,
          31066774,
          20698590,
          26131016,
          31066774,
          20698590,
          26131016,
          31066774,
          20698590,
          26131016,
          31066774,
          20698590,
          26131016,
          31066774,
          20698590,
          26131016,
          31066774,
          20698590,
          26131016,
          31066774,
          20698590,
          26131016,
          31066774,
          20698590,
          26131016,
          31066774,
          20698590,
          26131016,
          31066774,
          20698590,
          26131016,
          31066774,
          20698590,
          26131016,
          31066774,
          20698590,
          26131016,
          31066774,
          20698590,
          26131016,
          31066774,
          20698590,
          26131016,
          31066774,
          20698590,
          26131016,
          31066774,
          20698590,
          26131016,
          31066774,
          20698590,
          26131016,
          31066774,
          20698590,
          26131016,
          31066774,
          20698590,
          26131016,
          31066774,
          20698590,
          26131016,
          31066774,
          20698590,
          26131016,
          31066774,
          20698590,
          26131016,
          31066774,
          20698590,
          26131016,
          31066774,
          20698590,
          26131016,
          31066774,
          20698590,
          26131016,
          31066774,
          20698590,
          26131016,
          31066774,
          20698590,
          26131016,
          31066774,
          20698590,
          26131016,
          31066774,
          20698590,
          26131016,
          31066774,
          20698590,
          26131016,
          31066774,
          20698590,
          26131016,
          31066774,
          20698590,
          26131016,
          31066774,
          20698590,
          26131016,
          31066774,
          20698590,
          26131016,
          31066774,
          20698590,
          26131016,
          31066774,
          20698590,
          26131016,
          31066774,
          20698590,
          26131016,
          31066774,
          20698590,
          26131016,
          31066774,
          20698590,
          26131016,
          31066774,
          20698590,
          26131016,
          31066774,
          20698590,
          26131016,
          31066774,
          20698590,
          26131016,
          31066774,
          20698590,
          26131016,
          31066774,
          20698590,
          26131016,
          31066774,
          20698590,
          26131016,
          31066774,
          20698590,
          26131016,
          31066774,
          20698590,
          26131016,
          31066774,
          20698590,
          26131016,
          31066774,
          20698590,
          26131016,
          31066774,
          20698590,
          26131016,
          31066774,
          20698590,
          26131016,
          31066774,
          20698590,
          26131016,
          31066774,
          20698590,
          26131016,
          31066774,
          20698590,
          26131016,
          31066774,
          20698590,
          26131016,
          31066774,
          20698590,
          26131016,
          31066774,
          20698590,
          26131016,
          31066774,
          20698590,
          26131016,
          31066774,
          20698590,
          26131016,
          31066774,
          20698590,
          26131016,
          31066774,
          20698590,
          26131016,
          31066774,
          20698590,
          26131016,
          31066774,
          20698590,
          26131016,
          31066774,
          20698590,
          26131016,
          31066774,
          20698590,
          26131016,
          31066774,
          20698590,
          26131016,
          31066774,
          20698590,
          26131016,
          31066774,
          20698590,
          26131016,
          31066774,
          20698590,
          26131016,
          31066774,
          20698590,
          26131016,
          31066774,
          20698590,
          26131016,
          31066774,
          20698590,
          26131016,
          31066774,
          20698590,
          26131016,
          31066774,
          20698590,
          26131016,
          31066774,
          20698590,
          26131016,
          31066774,
          20698590,
          26131016,
          31066774,
          20698590,
          26131016,
          31066774,
          20698590,
          26131016,
          31066774,
          20698590,
          26131016,
          31066774,
          20698590,
          26131016,
          31066774,
          20698590,
          26131016,
          31066774,
          20698590,
          26131016,
          31066774,
          20698590,
          26131016,
          31066774,
          20698590,
          26131016,
          31066774,
          20698590,
          26131016,
          31066774,
          20698590,
          26131016,
          31066774,
          20698590,
          26131016,
          31066774,
          20698590,
          26131016,
          31066774,
          20698590,
          26131016,
          31066774,
          20698590,
          26131016,
          31066774,
          20698590,
          26131016,
          31066774,
          20698590,
          26131016,
          31066774,
          20698590,
          26131016,
          31066774,
          20698590,
          26131016,
          31066774,
          20698590,
          26131016,
          31066774,
          20698590,
          26131016,
          31066774,
          20698590,
          26131016,
          31066774,
          20698590,
          26131016,
          31066774,
          20698590,
          26131016,
          31066774,
          20698590,
          26131016,
          31066774,
          20698590,
          26131016,
          31066774,
          20698590,
          26131016,
          31066774,
          20698590,
          26131016,
          31066774,
          20698590,
          26131016,
          31066774,
          20698590,
          26131016,
          31066774,
          20698590,
          26131016,
          31066774,
          20698590,
          26131016,
          31066774,
          20698590,
          26131016,
          31066774,
          20698590,
          26131016,
          31066774,
          20698590,
          26131016,
          31066774,
          20698590,
          26131016,
          31066774,
          20698590,
          26131016,
          31066774,
          20698590,
          26131016,
          31066774,
          20698590,
          26131016,
          31066774,
          20698590,
          26131016,
          31066774,
          20698590,
          26131016,
          31066774,
          20698590,
          26131016,
          31066774,
          20698590,
          26131016,
          31066774,
          20698590,
          26131016,
          31066774,
          20698590,
          26131016,
          31066774,
          20698590,
          26131016,
          31066774,
          20698590,
          26131016,
          31066774
         ],
         "yaxis": "y"
        }
       ],
       "layout": {
        "legend": {
         "itemsizing": "constant",
         "tracegroupgap": 0
        },
        "margin": {
         "t": 60
        },
        "template": {
         "data": {
          "bar": [
           {
            "error_x": {
             "color": "#2a3f5f"
            },
            "error_y": {
             "color": "#2a3f5f"
            },
            "marker": {
             "line": {
              "color": "#E5ECF6",
              "width": 0.5
             }
            },
            "type": "bar"
           }
          ],
          "barpolar": [
           {
            "marker": {
             "line": {
              "color": "#E5ECF6",
              "width": 0.5
             }
            },
            "type": "barpolar"
           }
          ],
          "carpet": [
           {
            "aaxis": {
             "endlinecolor": "#2a3f5f",
             "gridcolor": "white",
             "linecolor": "white",
             "minorgridcolor": "white",
             "startlinecolor": "#2a3f5f"
            },
            "baxis": {
             "endlinecolor": "#2a3f5f",
             "gridcolor": "white",
             "linecolor": "white",
             "minorgridcolor": "white",
             "startlinecolor": "#2a3f5f"
            },
            "type": "carpet"
           }
          ],
          "choropleth": [
           {
            "colorbar": {
             "outlinewidth": 0,
             "ticks": ""
            },
            "type": "choropleth"
           }
          ],
          "contour": [
           {
            "colorbar": {
             "outlinewidth": 0,
             "ticks": ""
            },
            "colorscale": [
             [
              0,
              "#0d0887"
             ],
             [
              0.1111111111111111,
              "#46039f"
             ],
             [
              0.2222222222222222,
              "#7201a8"
             ],
             [
              0.3333333333333333,
              "#9c179e"
             ],
             [
              0.4444444444444444,
              "#bd3786"
             ],
             [
              0.5555555555555556,
              "#d8576b"
             ],
             [
              0.6666666666666666,
              "#ed7953"
             ],
             [
              0.7777777777777778,
              "#fb9f3a"
             ],
             [
              0.8888888888888888,
              "#fdca26"
             ],
             [
              1,
              "#f0f921"
             ]
            ],
            "type": "contour"
           }
          ],
          "contourcarpet": [
           {
            "colorbar": {
             "outlinewidth": 0,
             "ticks": ""
            },
            "type": "contourcarpet"
           }
          ],
          "heatmap": [
           {
            "colorbar": {
             "outlinewidth": 0,
             "ticks": ""
            },
            "colorscale": [
             [
              0,
              "#0d0887"
             ],
             [
              0.1111111111111111,
              "#46039f"
             ],
             [
              0.2222222222222222,
              "#7201a8"
             ],
             [
              0.3333333333333333,
              "#9c179e"
             ],
             [
              0.4444444444444444,
              "#bd3786"
             ],
             [
              0.5555555555555556,
              "#d8576b"
             ],
             [
              0.6666666666666666,
              "#ed7953"
             ],
             [
              0.7777777777777778,
              "#fb9f3a"
             ],
             [
              0.8888888888888888,
              "#fdca26"
             ],
             [
              1,
              "#f0f921"
             ]
            ],
            "type": "heatmap"
           }
          ],
          "heatmapgl": [
           {
            "colorbar": {
             "outlinewidth": 0,
             "ticks": ""
            },
            "colorscale": [
             [
              0,
              "#0d0887"
             ],
             [
              0.1111111111111111,
              "#46039f"
             ],
             [
              0.2222222222222222,
              "#7201a8"
             ],
             [
              0.3333333333333333,
              "#9c179e"
             ],
             [
              0.4444444444444444,
              "#bd3786"
             ],
             [
              0.5555555555555556,
              "#d8576b"
             ],
             [
              0.6666666666666666,
              "#ed7953"
             ],
             [
              0.7777777777777778,
              "#fb9f3a"
             ],
             [
              0.8888888888888888,
              "#fdca26"
             ],
             [
              1,
              "#f0f921"
             ]
            ],
            "type": "heatmapgl"
           }
          ],
          "histogram": [
           {
            "marker": {
             "colorbar": {
              "outlinewidth": 0,
              "ticks": ""
             }
            },
            "type": "histogram"
           }
          ],
          "histogram2d": [
           {
            "colorbar": {
             "outlinewidth": 0,
             "ticks": ""
            },
            "colorscale": [
             [
              0,
              "#0d0887"
             ],
             [
              0.1111111111111111,
              "#46039f"
             ],
             [
              0.2222222222222222,
              "#7201a8"
             ],
             [
              0.3333333333333333,
              "#9c179e"
             ],
             [
              0.4444444444444444,
              "#bd3786"
             ],
             [
              0.5555555555555556,
              "#d8576b"
             ],
             [
              0.6666666666666666,
              "#ed7953"
             ],
             [
              0.7777777777777778,
              "#fb9f3a"
             ],
             [
              0.8888888888888888,
              "#fdca26"
             ],
             [
              1,
              "#f0f921"
             ]
            ],
            "type": "histogram2d"
           }
          ],
          "histogram2dcontour": [
           {
            "colorbar": {
             "outlinewidth": 0,
             "ticks": ""
            },
            "colorscale": [
             [
              0,
              "#0d0887"
             ],
             [
              0.1111111111111111,
              "#46039f"
             ],
             [
              0.2222222222222222,
              "#7201a8"
             ],
             [
              0.3333333333333333,
              "#9c179e"
             ],
             [
              0.4444444444444444,
              "#bd3786"
             ],
             [
              0.5555555555555556,
              "#d8576b"
             ],
             [
              0.6666666666666666,
              "#ed7953"
             ],
             [
              0.7777777777777778,
              "#fb9f3a"
             ],
             [
              0.8888888888888888,
              "#fdca26"
             ],
             [
              1,
              "#f0f921"
             ]
            ],
            "type": "histogram2dcontour"
           }
          ],
          "mesh3d": [
           {
            "colorbar": {
             "outlinewidth": 0,
             "ticks": ""
            },
            "type": "mesh3d"
           }
          ],
          "parcoords": [
           {
            "line": {
             "colorbar": {
              "outlinewidth": 0,
              "ticks": ""
             }
            },
            "type": "parcoords"
           }
          ],
          "pie": [
           {
            "automargin": true,
            "type": "pie"
           }
          ],
          "scatter": [
           {
            "marker": {
             "colorbar": {
              "outlinewidth": 0,
              "ticks": ""
             }
            },
            "type": "scatter"
           }
          ],
          "scatter3d": [
           {
            "line": {
             "colorbar": {
              "outlinewidth": 0,
              "ticks": ""
             }
            },
            "marker": {
             "colorbar": {
              "outlinewidth": 0,
              "ticks": ""
             }
            },
            "type": "scatter3d"
           }
          ],
          "scattercarpet": [
           {
            "marker": {
             "colorbar": {
              "outlinewidth": 0,
              "ticks": ""
             }
            },
            "type": "scattercarpet"
           }
          ],
          "scattergeo": [
           {
            "marker": {
             "colorbar": {
              "outlinewidth": 0,
              "ticks": ""
             }
            },
            "type": "scattergeo"
           }
          ],
          "scattergl": [
           {
            "marker": {
             "colorbar": {
              "outlinewidth": 0,
              "ticks": ""
             }
            },
            "type": "scattergl"
           }
          ],
          "scattermapbox": [
           {
            "marker": {
             "colorbar": {
              "outlinewidth": 0,
              "ticks": ""
             }
            },
            "type": "scattermapbox"
           }
          ],
          "scatterpolar": [
           {
            "marker": {
             "colorbar": {
              "outlinewidth": 0,
              "ticks": ""
             }
            },
            "type": "scatterpolar"
           }
          ],
          "scatterpolargl": [
           {
            "marker": {
             "colorbar": {
              "outlinewidth": 0,
              "ticks": ""
             }
            },
            "type": "scatterpolargl"
           }
          ],
          "scatterternary": [
           {
            "marker": {
             "colorbar": {
              "outlinewidth": 0,
              "ticks": ""
             }
            },
            "type": "scatterternary"
           }
          ],
          "surface": [
           {
            "colorbar": {
             "outlinewidth": 0,
             "ticks": ""
            },
            "colorscale": [
             [
              0,
              "#0d0887"
             ],
             [
              0.1111111111111111,
              "#46039f"
             ],
             [
              0.2222222222222222,
              "#7201a8"
             ],
             [
              0.3333333333333333,
              "#9c179e"
             ],
             [
              0.4444444444444444,
              "#bd3786"
             ],
             [
              0.5555555555555556,
              "#d8576b"
             ],
             [
              0.6666666666666666,
              "#ed7953"
             ],
             [
              0.7777777777777778,
              "#fb9f3a"
             ],
             [
              0.8888888888888888,
              "#fdca26"
             ],
             [
              1,
              "#f0f921"
             ]
            ],
            "type": "surface"
           }
          ],
          "table": [
           {
            "cells": {
             "fill": {
              "color": "#EBF0F8"
             },
             "line": {
              "color": "white"
             }
            },
            "header": {
             "fill": {
              "color": "#C8D4E3"
             },
             "line": {
              "color": "white"
             }
            },
            "type": "table"
           }
          ]
         },
         "layout": {
          "annotationdefaults": {
           "arrowcolor": "#2a3f5f",
           "arrowhead": 0,
           "arrowwidth": 1
          },
          "coloraxis": {
           "colorbar": {
            "outlinewidth": 0,
            "ticks": ""
           }
          },
          "colorscale": {
           "diverging": [
            [
             0,
             "#8e0152"
            ],
            [
             0.1,
             "#c51b7d"
            ],
            [
             0.2,
             "#de77ae"
            ],
            [
             0.3,
             "#f1b6da"
            ],
            [
             0.4,
             "#fde0ef"
            ],
            [
             0.5,
             "#f7f7f7"
            ],
            [
             0.6,
             "#e6f5d0"
            ],
            [
             0.7,
             "#b8e186"
            ],
            [
             0.8,
             "#7fbc41"
            ],
            [
             0.9,
             "#4d9221"
            ],
            [
             1,
             "#276419"
            ]
           ],
           "sequential": [
            [
             0,
             "#0d0887"
            ],
            [
             0.1111111111111111,
             "#46039f"
            ],
            [
             0.2222222222222222,
             "#7201a8"
            ],
            [
             0.3333333333333333,
             "#9c179e"
            ],
            [
             0.4444444444444444,
             "#bd3786"
            ],
            [
             0.5555555555555556,
             "#d8576b"
            ],
            [
             0.6666666666666666,
             "#ed7953"
            ],
            [
             0.7777777777777778,
             "#fb9f3a"
            ],
            [
             0.8888888888888888,
             "#fdca26"
            ],
            [
             1,
             "#f0f921"
            ]
           ],
           "sequentialminus": [
            [
             0,
             "#0d0887"
            ],
            [
             0.1111111111111111,
             "#46039f"
            ],
            [
             0.2222222222222222,
             "#7201a8"
            ],
            [
             0.3333333333333333,
             "#9c179e"
            ],
            [
             0.4444444444444444,
             "#bd3786"
            ],
            [
             0.5555555555555556,
             "#d8576b"
            ],
            [
             0.6666666666666666,
             "#ed7953"
            ],
            [
             0.7777777777777778,
             "#fb9f3a"
            ],
            [
             0.8888888888888888,
             "#fdca26"
            ],
            [
             1,
             "#f0f921"
            ]
           ]
          },
          "colorway": [
           "#636efa",
           "#EF553B",
           "#00cc96",
           "#ab63fa",
           "#FFA15A",
           "#19d3f3",
           "#FF6692",
           "#B6E880",
           "#FF97FF",
           "#FECB52"
          ],
          "font": {
           "color": "#2a3f5f"
          },
          "geo": {
           "bgcolor": "white",
           "lakecolor": "white",
           "landcolor": "#E5ECF6",
           "showlakes": true,
           "showland": true,
           "subunitcolor": "white"
          },
          "hoverlabel": {
           "align": "left"
          },
          "hovermode": "closest",
          "mapbox": {
           "style": "light"
          },
          "paper_bgcolor": "white",
          "plot_bgcolor": "#E5ECF6",
          "polar": {
           "angularaxis": {
            "gridcolor": "white",
            "linecolor": "white",
            "ticks": ""
           },
           "bgcolor": "#E5ECF6",
           "radialaxis": {
            "gridcolor": "white",
            "linecolor": "white",
            "ticks": ""
           }
          },
          "scene": {
           "xaxis": {
            "backgroundcolor": "#E5ECF6",
            "gridcolor": "white",
            "gridwidth": 2,
            "linecolor": "white",
            "showbackground": true,
            "ticks": "",
            "zerolinecolor": "white"
           },
           "yaxis": {
            "backgroundcolor": "#E5ECF6",
            "gridcolor": "white",
            "gridwidth": 2,
            "linecolor": "white",
            "showbackground": true,
            "ticks": "",
            "zerolinecolor": "white"
           },
           "zaxis": {
            "backgroundcolor": "#E5ECF6",
            "gridcolor": "white",
            "gridwidth": 2,
            "linecolor": "white",
            "showbackground": true,
            "ticks": "",
            "zerolinecolor": "white"
           }
          },
          "shapedefaults": {
           "line": {
            "color": "#2a3f5f"
           }
          },
          "ternary": {
           "aaxis": {
            "gridcolor": "white",
            "linecolor": "white",
            "ticks": ""
           },
           "baxis": {
            "gridcolor": "white",
            "linecolor": "white",
            "ticks": ""
           },
           "bgcolor": "#E5ECF6",
           "caxis": {
            "gridcolor": "white",
            "linecolor": "white",
            "ticks": ""
           }
          },
          "title": {
           "x": 0.05
          },
          "xaxis": {
           "automargin": true,
           "gridcolor": "white",
           "linecolor": "white",
           "ticks": "",
           "title": {
            "standoff": 15
           },
           "zerolinecolor": "white",
           "zerolinewidth": 2
          },
          "yaxis": {
           "automargin": true,
           "gridcolor": "white",
           "linecolor": "white",
           "ticks": "",
           "title": {
            "standoff": 15
           },
           "zerolinecolor": "white",
           "zerolinewidth": 2
          }
         }
        },
        "title": {
         "text": "Population vs. Total Visitor"
        },
        "xaxis": {
         "anchor": "y",
         "domain": [
          0,
          1
         ],
         "title": {
          "text": "Population"
         }
        },
        "yaxis": {
         "anchor": "x",
         "domain": [
          0,
          1
         ],
         "title": {
          "text": "Total Visitors"
         }
        }
       }
      },
      "text/html": [
       "<div>\n",
       "        \n",
       "        \n",
       "            <div id=\"c0391024-ab8a-4823-850f-b1416fa0c8b3\" class=\"plotly-graph-div\" style=\"height:525px; width:100%;\"></div>\n",
       "            <script type=\"text/javascript\">\n",
       "                require([\"plotly\"], function(Plotly) {\n",
       "                    window.PLOTLYENV=window.PLOTLYENV || {};\n",
       "                    \n",
       "                if (document.getElementById(\"c0391024-ab8a-4823-850f-b1416fa0c8b3\")) {\n",
       "                    Plotly.newPlot(\n",
       "                        'c0391024-ab8a-4823-850f-b1416fa0c8b3',\n",
       "                        [{\"customdata\": [[\"KY\"], [\"KY\"], [\"KY\"], [\"ME\"], [\"ME\"], [\"ME\"], [\"MA\"], [\"MA\"], [\"MA\"], [\"NY\"], [\"NY\"], [\"NY\"], [\"NE\"], [\"NE\"], [\"NE\"], [\"TX\"], [\"TX\"], [\"TX\"], [\"PA\"], [\"PA\"], [\"PA\"], [\"TX\"], [\"TX\"], [\"TX\"], [\"GA\"], [\"GA\"], [\"GA\"], [\"AK\"], [\"AK\"], [\"AK\"], [\"TN\"], [\"TN\"], [\"TN\"], [\"MD\"], [\"MD\"], [\"MD\"], [\"VA\"], [\"VA\"], [\"VA\"], [\"WI\"], [\"WI\"], [\"WI\"], [\"UT\"], [\"UT\"], [\"UT\"], [\"VA\"], [\"VA\"], [\"VA\"], [\"AR\"], [\"AR\"], [\"AR\"], [\"NM\"], [\"NM\"], [\"NM\"], [\"SD\"], [\"SD\"], [\"SD\"], [\"NM\"], [\"NM\"], [\"NM\"], [\"AK\"], [\"AK\"], [\"AK\"], [\"CO\"], [\"CO\"], [\"CO\"], [\"TX\"], [\"TX\"], [\"TX\"], [\"FL\"], [\"FL\"], [\"FL\"], [\"MT\"], [\"MT\"], [\"MT\"], [\"FL\"], [\"FL\"], [\"FL\"], [\"TX\"], [\"TX\"], [\"TX\"], [\"CO\"], [\"CO\"], [\"CO\"], [\"WV\"], [\"WV\"], [\"WV\"], [\"MA\"], [\"MA\"], [\"MA\"], [\"MA\"], [\"MA\"], [\"MA\"], [\"VA\"], [\"VA\"], [\"VA\"], [\"UT\"], [\"UT\"], [\"UT\"], [\"KS\"], [\"KS\"], [\"KS\"], [\"AR\"], [\"AR\"], [\"AR\"], [\"CA\"], [\"CA\"], [\"CA\"], [\"AZ\"], [\"AZ\"], [\"AZ\"], [\"NY\"], [\"NY\"], [\"NY\"], [\"MA\"], [\"MA\"], [\"MA\"], [\"AZ\"], [\"AZ\"], [\"AZ\"], [\"NC\"], [\"NC\"], [\"NC\"], [\"AK\"], [\"AK\"], [\"AK\"], [\"NC\"], [\"NC\"], [\"NC\"], [\"FL\"], [\"FL\"], [\"FL\"], [\"UT\"], [\"UT\"], [\"UT\"], [\"UT\"], [\"UT\"], [\"UT\"], [\"LA\"], [\"LA\"], [\"LA\"], [\"NC\"], [\"NC\"], [\"NC\"], [\"FL\"], [\"FL\"], [\"FL\"], [\"MD\"], [\"MD\"], [\"MD\"], [\"NM\"], [\"NM\"], [\"NM\"], [\"NM\"], [\"NM\"], [\"NM\"], [\"UT\"], [\"UT\"], [\"UT\"], [\"CA\"], [\"CA\"], [\"CA\"], [\"TX\"], [\"TX\"], [\"TX\"], [\"GA\"], [\"GA\"], [\"GA\"], [\"NM\"], [\"NM\"], [\"NM\"], [\"OK\"], [\"OK\"], [\"OK\"], [\"AZ\"], [\"AZ\"], [\"AZ\"], [\"CA\"], [\"CA\"], [\"CA\"], [\"SC\"], [\"SC\"], [\"SC\"], [\"AR\"], [\"AR\"], [\"AR\"], [\"OH\"], [\"OH\"], [\"OH\"], [\"ID\"], [\"ID\"], [\"ID\"], [\"MD\"], [\"MD\"], [\"MD\"], [\"CO\"], [\"CO\"], [\"CO\"], [\"VA\"], [\"VA\"], [\"VA\"], [\"SC\"], [\"SC\"], [\"SC\"], [\"AZ\"], [\"AZ\"], [\"AZ\"], [\"SC\"], [\"SC\"], [\"SC\"], [\"OR\"], [\"OR\"], [\"OR\"], [\"ID\"], [\"ID\"], [\"ID\"], [\"GA\"], [\"GA\"], [\"GA\"], [\"CO\"], [\"CO\"], [\"CO\"], [\"OH\"], [\"OH\"], [\"OH\"], [\"OH\"], [\"OH\"], [\"OH\"], [\"AK\"], [\"AK\"], [\"AK\"], [\"CA\"], [\"CA\"], [\"CA\"], [\"FL\"], [\"FL\"], [\"FL\"], [\"WY\"], [\"WY\"], [\"WY\"], [\"FL\"], [\"FL\"], [\"FL\"], [\"PA\"], [\"PA\"], [\"PA\"], [\"NJ\"], [\"NJ\"], [\"NJ\"], [\"IA\"], [\"IA\"], [\"IA\"], [\"PA\"], [\"PA\"], [\"PA\"], [\"NM\"], [\"NM\"], [\"NM\"], [\"NM\"], [\"NM\"], [\"NM\"], [\"NY\"], [\"NY\"], [\"NY\"], [\"CA\"], [\"CA\"], [\"CA\"], [\"FL\"], [\"FL\"], [\"FL\"], [\"NY\"], [\"NY\"], [\"NY\"], [\"NY\"], [\"NY\"], [\"NY\"], [\"OH\"], [\"OH\"], [\"OH\"], [\"CO\"], [\"CO\"], [\"CO\"], [\"PA\"], [\"PA\"], [\"PA\"], [\"AZ\"], [\"AZ\"], [\"AZ\"], [\"WY\"], [\"WY\"], [\"WY\"], [\"TX\"], [\"TX\"], [\"TX\"], [\"GA\"], [\"GA\"], [\"GA\"], [\"WY\"], [\"WY\"], [\"WY\"], [\"KS\"], [\"KS\"], [\"KS\"], [\"FL\"], [\"FL\"], [\"FL\"], [\"MD\"], [\"MD\"], [\"MD\"], [\"PA\"], [\"PA\"], [\"PA\"], [\"CA\"], [\"CA\"], [\"CA\"], [\"GA\"], [\"GA\"], [\"GA\"], [\"NC\"], [\"NC\"], [\"NC\"], [\"KS\"], [\"KS\"], [\"KS\"], [\"NY\"], [\"NY\"], [\"NY\"], [\"SC\"], [\"SC\"], [\"SC\"], [\"NM\"], [\"NM\"], [\"NM\"], [\"MD\"], [\"MD\"], [\"MD\"], [\"PA\"], [\"PA\"], [\"PA\"], [\"MA\"], [\"MA\"], [\"MA\"], [\"VA\"], [\"VA\"], [\"VA\"], [\"AK\"], [\"AK\"], [\"AK\"], [\"WV\"], [\"WV\"], [\"WV\"], [\"NY\"], [\"NY\"], [\"NY\"], [\"IN\"], [\"IN\"], [\"IN\"], [\"PA\"], [\"PA\"], [\"PA\"], [\"VA\"], [\"VA\"], [\"VA\"], [\"NM\"], [\"NM\"], [\"NM\"], [\"MT\"], [\"MT\"], [\"MT\"], [\"AK\"], [\"AK\"], [\"AK\"], [\"CA\"], [\"CA\"], [\"CA\"], [\"NY\"], [\"NY\"], [\"NY\"], [\"UT\"], [\"UT\"], [\"UT\"], [\"NV\"], [\"NV\"], [\"NV\"], [\"AZ\"], [\"AZ\"], [\"AZ\"], [\"MD\"], [\"MD\"], [\"MD\"], [\"MT\"], [\"MT\"], [\"MT\"], [\"MN\"], [\"MN\"], [\"MN\"], [\"CO\"], [\"CO\"], [\"CO\"], [\"WY\"], [\"WY\"], [\"WY\"], [\"NC\"], [\"NC\"], [\"NC\"], [\"TX\"], [\"TX\"], [\"TX\"], [\"MO\"], [\"MO\"], [\"MO\"], [\"ID\"], [\"ID\"], [\"ID\"], [\"NY\"], [\"NY\"], [\"NY\"], [\"HI\"], [\"HI\"], [\"HI\"], [\"MD\"], [\"MD\"], [\"MD\"], [\"HI\"], [\"HI\"], [\"HI\"], [\"IA\"], [\"IA\"], [\"IA\"], [\"AL\"], [\"AL\"], [\"AL\"], [\"OH\"], [\"OH\"], [\"OH\"], [\"NY\"], [\"NY\"], [\"NY\"], [\"PA\"], [\"PA\"], [\"PA\"], [\"NE\"], [\"NE\"], [\"NE\"], [\"AR\"], [\"AR\"], [\"AR\"], [\"MO\"], [\"MO\"], [\"MO\"], [\"AZ\"], [\"AZ\"], [\"AZ\"], [\"PA\"], [\"PA\"], [\"PA\"], [\"IN\"], [\"IN\"], [\"IN\"], [\"MI\"], [\"MI\"], [\"MI\"], [\"OH\"], [\"OH\"], [\"OH\"], [\"LA\"], [\"LA\"], [\"LA\"], [\"SD\"], [\"SD\"], [\"SD\"], [\"MO\"], [\"MO\"], [\"MO\"], [\"LA\"], [\"LA\"], [\"LA\"], [\"GA\"], [\"GA\"], [\"GA\"], [\"OR\"], [\"OR\"], [\"OR\"], [\"MA\"], [\"MA\"], [\"MA\"], [\"PA\"], [\"PA\"], [\"PA\"], [\"CA\"], [\"CA\"], [\"CA\"], [\"CA\"], [\"CA\"], [\"CA\"], [\"HI\"], [\"HI\"], [\"HI\"], [\"HI\"], [\"HI\"], [\"HI\"], [\"AK\"], [\"AK\"], [\"AK\"], [\"AK\"], [\"AK\"], [\"AK\"], [\"GA\"], [\"GA\"], [\"GA\"], [\"MI\"], [\"MI\"], [\"MI\"], [\"SC\"], [\"SC\"], [\"SC\"], [\"AK\"], [\"AK\"], [\"AK\"], [\"WA\"], [\"WA\"], [\"WA\"], [\"ND\"], [\"ND\"], [\"ND\"], [\"AK\"], [\"AK\"], [\"AK\"], [\"CA\"], [\"CA\"], [\"CA\"], [\"AK\"], [\"AK\"], [\"AK\"], [\"TX\"], [\"TX\"], [\"TX\"], [\"WA\"], [\"WA\"], [\"WA\"], [\"CA\"], [\"CA\"], [\"CA\"], [\"MT\"], [\"MT\"], [\"MT\"], [\"IN\"], [\"IN\"], [\"IN\"], [\"IL\"], [\"IL\"], [\"IL\"], [\"AL\"], [\"AL\"], [\"AL\"], [\"MA\"], [\"MA\"], [\"MA\"], [\"MA\"], [\"MA\"], [\"MA\"], [\"TX\"], [\"TX\"], [\"TX\"], [\"VT\"], [\"VT\"], [\"VT\"], [\"KY\"], [\"KY\"], [\"KY\"], [\"GA\"], [\"GA\"], [\"GA\"], [\"VA\"], [\"VA\"], [\"VA\"], [\"CA\"], [\"CA\"], [\"CA\"], [\"NY\"], [\"NY\"], [\"NY\"], [\"VA\"], [\"VA\"], [\"VA\"], [\"CO\"], [\"CO\"], [\"CO\"], [\"MA\"], [\"MA\"], [\"MA\"], [\"SD\"], [\"SD\"], [\"SD\"], [\"MN\"], [\"MN\"], [\"MN\"], [\"AZ\"], [\"AZ\"], [\"AZ\"], [\"NC\"], [\"NC\"], [\"NC\"], [\"CA\"], [\"CA\"], [\"CA\"], [\"MD\"], [\"MD\"], [\"MD\"], [\"WA\"], [\"WA\"], [\"WA\"], [\"NJ\"], [\"NJ\"], [\"NJ\"], [\"SD\"], [\"SD\"], [\"SD\"], [\"CA\"], [\"CA\"], [\"CA\"], [\"UT\"], [\"UT\"], [\"UT\"], [\"MS\"], [\"MS\"], [\"MS\"], [\"AZ\"], [\"AZ\"], [\"AZ\"], [\"MA\"], [\"MA\"], [\"MA\"], [\"WV\"], [\"WV\"], [\"WV\"], [\"KS\"], [\"KS\"], [\"KS\"], [\"NE\"], [\"NE\"], [\"NE\"], [\"SC\"], [\"SC\"], [\"SC\"], [\"AK\"], [\"AK\"], [\"AK\"], [\"WA\"], [\"WA\"], [\"WA\"], [\"GA\"], [\"GA\"], [\"GA\"], [\"WA\"], [\"WA\"], [\"WA\"], [\"OR\"], [\"OR\"], [\"OR\"], [\"AZ\"], [\"AZ\"], [\"AZ\"], [\"MO\"], [\"MO\"], [\"MO\"], [\"TX\"], [\"TX\"], [\"TX\"], [\"NJ\"], [\"NJ\"], [\"NJ\"], [\"TX\"], [\"TX\"], [\"TX\"], [\"NM\"], [\"NM\"], [\"NM\"], [\"AZ\"], [\"AZ\"], [\"AZ\"], [\"AR\"], [\"AR\"], [\"AR\"], [\"VA\"], [\"VA\"], [\"VA\"], [\"NM\"], [\"NM\"], [\"NM\"], [\"OH\"], [\"OH\"], [\"OH\"], [\"CA\"], [\"CA\"], [\"CA\"], [\"MN\"], [\"MN\"], [\"MN\"], [\"MI\"], [\"MI\"], [\"MI\"], [\"MD\"], [\"MD\"], [\"MD\"], [\"AZ\"], [\"AZ\"], [\"AZ\"], [\"CA\"], [\"CA\"], [\"CA\"], [\"CA\"], [\"CA\"], [\"CA\"], [\"VA\"], [\"VA\"], [\"VA\"], [\"HI\"], [\"HI\"], [\"HI\"], [\"HI\"], [\"HI\"], [\"HI\"], [\"UT\"], [\"UT\"], [\"UT\"], [\"CA\"], [\"CA\"], [\"CA\"], [\"VA\"], [\"VA\"], [\"VA\"], [\"TX\"], [\"TX\"], [\"TX\"], [\"MI\"], [\"MI\"], [\"MI\"], [\"CO\"], [\"CO\"], [\"CO\"], [\"CA\"], [\"CA\"], [\"CA\"], [\"RI\"], [\"RI\"], [\"RI\"], [\"AL\"], [\"AL\"], [\"AL\"], [\"TX\"], [\"TX\"], [\"TX\"], [\"ME\"], [\"ME\"], [\"ME\"], [\"CA\"], [\"CA\"], [\"CA\"], [\"NH\"], [\"NH\"], [\"NH\"], [\"AZ\"], [\"AZ\"], [\"AZ\"], [\"NY\"], [\"NY\"], [\"NY\"], [\"MA\"], [\"MA\"], [\"MA\"], [\"WA\"], [\"WA\"], [\"WA\"], [\"MA\"], [\"MA\"], [\"MA\"], [\"CA\"], [\"CA\"], [\"CA\"], [\"CO\"], [\"CO\"], [\"CO\"], [\"NY\"], [\"NY\"], [\"NY\"], [\"NM\"], [\"NM\"], [\"NM\"], [\"NY\"], [\"NY\"], [\"NY\"], [\"NE\"], [\"NE\"], [\"NE\"], [\"VA\"], [\"VA\"], [\"VA\"], [\"AK\"], [\"AK\"], [\"AK\"], [\"MI\"], [\"MI\"], [\"MI\"], [\"MA\"], [\"MA\"], [\"MA\"], [\"PA\"], [\"PA\"], [\"PA\"], [\"NY\"], [\"NY\"], [\"NY\"], [\"NY\"], [\"NY\"], [\"NY\"], [\"TN\"], [\"TN\"], [\"TN\"], [\"AZ\"], [\"AZ\"], [\"AZ\"], [\"KS\"], [\"KS\"], [\"KS\"], [\"PA\"], [\"PA\"], [\"PA\"], [\"NY\"], [\"NY\"], [\"NY\"], [\"NY\"], [\"NY\"], [\"NY\"], [\"ND\"], [\"ND\"], [\"ND\"], [\"MD\"], [\"MD\"], [\"MD\"], [\"UT\"], [\"UT\"], [\"UT\"], [\"FL\"], [\"FL\"], [\"FL\"], [\"AZ\"], [\"AZ\"], [\"AZ\"], [\"AL\"], [\"AL\"], [\"AL\"], [\"AL\"], [\"AL\"], [\"AL\"], [\"AZ\"], [\"AZ\"], [\"AZ\"], [\"AZ\"], [\"AZ\"], [\"AZ\"], [\"MO\"], [\"MO\"], [\"MO\"], [\"PA\"], [\"PA\"], [\"PA\"], [\"HI\"], [\"HI\"], [\"HI\"], [\"NY\"], [\"NY\"], [\"NY\"], [\"MN\"], [\"MN\"], [\"MN\"], [\"OK\"], [\"OK\"], [\"OK\"], [\"AZ\"], [\"AZ\"], [\"AZ\"], [\"TX\"], [\"TX\"], [\"TX\"], [\"CT\"], [\"CT\"], [\"CT\"], [\"CA\"], [\"CA\"], [\"CA\"], [\"WA\"], [\"WA\"], [\"WA\"], [\"NM\"], [\"NM\"], [\"NM\"], [\"SD\"], [\"SD\"], [\"SD\"], [\"AR\"], [\"AR\"], [\"AR\"], [\"MO\"], [\"MO\"], [\"MO\"], [\"OH\"], [\"OH\"], [\"OH\"], [\"NY\"], [\"NY\"], [\"NY\"], [\"VA\"], [\"VA\"], [\"VA\"], [\"NC\"], [\"NC\"], [\"NC\"], [\"AK\"], [\"AK\"], [\"AK\"], [\"AZ\"], [\"AZ\"], [\"AZ\"], [\"CA\"], [\"CA\"], [\"CA\"], [\"AK\"], [\"AK\"], [\"AK\"], [\"UT\"], [\"UT\"], [\"UT\"]], \"hoverlabel\": {\"namelength\": 0}, \"hovertemplate\": \"Population=%{x}<br>Total Visitors=%{y}<br>Month=%{marker.size}<br>State Code=%{customdata[0]}\", \"legendgroup\": \"\", \"marker\": {\"color\": \"#636efa\", \"size\": [3, 4, 5, 3, 4, 5, 3, 4, 5, 3, 4, 5, 3, 4, 5, 3, 4, 5, 3, 4, 5, 3, 4, 5, 3, 4, 5, 3, 4, 5, 3, 4, 5, 3, 4, 5, 3, 4, 5, 3, 4, 5, 3, 4, 5, 3, 4, 5, 3, 4, 5, 3, 4, 5, 3, 4, 5, 3, 4, 5, 3, 4, 5, 3, 4, 5, 3, 4, 5, 3, 4, 5, 3, 4, 5, 3, 4, 5, 3, 4, 5, 3, 4, 5, 3, 4, 5, 3, 4, 5, 3, 4, 5, 3, 4, 5, 3, 4, 5, 3, 4, 5, 3, 4, 5, 3, 4, 5, 3, 4, 5, 3, 4, 5, 3, 4, 5, 3, 4, 5, 3, 4, 5, 3, 4, 5, 3, 4, 5, 3, 4, 5, 3, 4, 5, 3, 4, 5, 3, 4, 5, 3, 4, 5, 3, 4, 5, 3, 4, 5, 3, 4, 5, 3, 4, 5, 3, 4, 5, 3, 4, 5, 3, 4, 5, 3, 4, 5, 3, 4, 5, 3, 4, 5, 3, 4, 5, 3, 4, 5, 3, 4, 5, 3, 4, 5, 3, 4, 5, 3, 4, 5, 3, 4, 5, 3, 4, 5, 3, 4, 5, 3, 4, 5, 3, 4, 5, 3, 4, 5, 3, 4, 5, 3, 4, 5, 3, 4, 5, 3, 4, 5, 3, 4, 5, 3, 4, 5, 3, 4, 5, 3, 4, 5, 3, 4, 5, 3, 4, 5, 3, 4, 5, 3, 4, 5, 3, 4, 5, 3, 4, 5, 3, 4, 5, 3, 4, 5, 3, 4, 5, 3, 4, 5, 3, 4, 5, 3, 4, 5, 3, 4, 5, 3, 4, 5, 3, 4, 5, 3, 4, 5, 3, 4, 5, 3, 4, 5, 3, 4, 5, 3, 4, 5, 3, 4, 5, 3, 4, 5, 3, 4, 5, 3, 4, 5, 3, 4, 5, 3, 4, 5, 3, 4, 5, 3, 4, 5, 3, 4, 5, 3, 4, 5, 3, 4, 5, 3, 4, 5, 3, 4, 5, 3, 4, 5, 3, 4, 5, 3, 4, 5, 3, 4, 5, 3, 4, 5, 3, 4, 5, 3, 4, 5, 3, 4, 5, 3, 4, 5, 3, 4, 5, 3, 4, 5, 3, 4, 5, 3, 4, 5, 3, 4, 5, 3, 4, 5, 3, 4, 5, 3, 4, 5, 3, 4, 5, 3, 4, 5, 3, 4, 5, 3, 4, 5, 3, 4, 5, 3, 4, 5, 3, 4, 5, 3, 4, 5, 3, 4, 5, 3, 4, 5, 3, 4, 5, 3, 4, 5, 3, 4, 5, 3, 4, 5, 3, 4, 5, 3, 4, 5, 3, 4, 5, 3, 4, 5, 3, 4, 5, 3, 4, 5, 3, 4, 5, 3, 4, 5, 3, 4, 5, 3, 4, 5, 3, 4, 5, 3, 4, 5, 3, 4, 5, 3, 4, 5, 3, 4, 5, 3, 4, 5, 3, 4, 5, 3, 4, 5, 3, 4, 5, 3, 4, 5, 3, 4, 5, 3, 4, 5, 3, 4, 5, 3, 4, 5, 3, 4, 5, 3, 4, 5, 3, 4, 5, 3, 4, 5, 3, 4, 5, 3, 4, 5, 3, 4, 5, 3, 4, 5, 3, 4, 5, 3, 4, 5, 3, 4, 5, 3, 4, 5, 3, 4, 5, 3, 4, 5, 3, 4, 5, 3, 4, 5, 3, 4, 5, 3, 4, 5, 3, 4, 5, 3, 4, 5, 3, 4, 5, 3, 4, 5, 3, 4, 5, 3, 4, 5, 3, 4, 5, 3, 4, 5, 3, 4, 5, 3, 4, 5, 3, 4, 5, 3, 4, 5, 3, 4, 5, 3, 4, 5, 3, 4, 5, 3, 4, 5, 3, 4, 5, 3, 4, 5, 3, 4, 5, 3, 4, 5, 3, 4, 5, 3, 4, 5, 3, 4, 5, 3, 4, 5, 3, 4, 5, 3, 4, 5, 3, 4, 5, 3, 4, 5, 3, 4, 5, 3, 4, 5, 3, 4, 5, 3, 4, 5, 3, 4, 5, 3, 4, 5, 3, 4, 5, 3, 4, 5, 3, 4, 5, 3, 4, 5, 3, 4, 5, 3, 4, 5, 3, 4, 5, 3, 4, 5, 3, 4, 5, 3, 4, 5, 3, 4, 5, 3, 4, 5, 3, 4, 5, 3, 4, 5, 3, 4, 5, 3, 4, 5, 3, 4, 5, 3, 4, 5, 3, 4, 5, 3, 4, 5, 3, 4, 5, 3, 4, 5, 3, 4, 5, 3, 4, 5, 3, 4, 5, 3, 4, 5, 3, 4, 5, 3, 4, 5, 3, 4, 5, 3, 4, 5, 3, 4, 5, 3, 4, 5, 3, 4, 5, 3, 4, 5, 3, 4, 5, 3, 4, 5, 3, 4, 5, 3, 4, 5, 3, 4, 5, 3, 4, 5, 3, 4, 5, 3, 4, 5, 3, 4, 5, 3, 4, 5, 3, 4, 5, 3, 4, 5, 3, 4, 5, 3, 4, 5, 3, 4, 5, 3, 4, 5, 3, 4, 5, 3, 4, 5, 3, 4, 5, 3, 4, 5, 3, 4, 5, 3, 4, 5, 3, 4, 5, 3, 4, 5, 3, 4, 5, 3, 4, 5, 3, 4, 5, 3, 4, 5, 3, 4, 5, 3, 4, 5, 3, 4, 5, 3, 4, 5, 3, 4, 5, 3, 4, 5, 3, 4, 5, 3, 4, 5, 3, 4, 5, 3, 4, 5, 3, 4, 5, 3, 4, 5, 3, 4, 5, 3, 4, 5, 3, 4, 5, 3, 4, 5, 3, 4, 5, 3, 4, 5, 3, 4, 5, 3, 4, 5, 3, 4, 5, 3, 4, 5, 3, 4, 5, 3, 4, 5, 3, 4, 5, 3, 4, 5, 3, 4, 5, 3, 4, 5, 3, 4, 5, 3, 4, 5, 3, 4, 5], \"sizemode\": \"area\", \"sizeref\": 0.0125, \"symbol\": \"circle\"}, \"mode\": \"markers\", \"name\": \"\", \"showlegend\": false, \"type\": \"scatter\", \"x\": [4424376.0, 4424376.0, 4424376.0, 1330158.0, 1330158.0, 1330158.0, 6789319.0, 6789319.0, 6789319.0, 19798228.0, 19798228.0, 19798228.0, 1893921.0, 1893921.0, 1893921.0, 27419612.0, 27419612.0, 27419612.0, 12790505.0, 12790505.0, 12790505.0, 27419612.0, 27419612.0, 27419612.0, 10201635.0, 10201635.0, 10201635.0, 738565.0, 738565.0, 738565.0, 6597381.0, 6597381.0, 6597381.0, 5996079.0, 5996079.0, 5996079.0, 8365952.0, 8365952.0, 8365952.0, 5763217.0, 5763217.0, 5763217.0, 2993941.0, 2993941.0, 2993941.0, 8365952.0, 8365952.0, 8365952.0, 2977944.0, 2977944.0, 2977944.0, 2084828.0, 2084828.0, 2084828.0, 855444.0, 855444.0, 855444.0, 2084828.0, 2084828.0, 2084828.0, 738565.0, 738565.0, 738565.0, 5436519.0, 5436519.0, 5436519.0, 27419612.0, 27419612.0, 27419612.0, 20278447.0, 20278447.0, 20278447.0, 1029862.0, 1029862.0, 1029862.0, 20278447.0, 20278447.0, 20278447.0, 27419612.0, 27419612.0, 27419612.0, 5436519.0, 5436519.0, 5436519.0, 1836843.0, 1836843.0, 1836843.0, 6789319.0, 6789319.0, 6789319.0, 6789319.0, 6789319.0, 6789319.0, 8365952.0, 8365952.0, 8365952.0, 2993941.0, 2993941.0, 2993941.0, 2903820.0, 2903820.0, 2903820.0, 2977944.0, 2977944.0, 2977944.0, 38982847.0, 38982847.0, 38982847.0, 6809946.0, 6809946.0, 6809946.0, 19798228.0, 19798228.0, 19798228.0, 6789319.0, 6789319.0, 6789319.0, 6809946.0, 6809946.0, 6809946.0, 10052564.0, 10052564.0, 10052564.0, 738565.0, 738565.0, 738565.0, 10052564.0, 10052564.0, 10052564.0, 20278447.0, 20278447.0, 20278447.0, 2993941.0, 2993941.0, 2993941.0, 2993941.0, 2993941.0, 2993941.0, 4663461.0, 4663461.0, 4663461.0, 10052564.0, 10052564.0, 10052564.0, 20278447.0, 20278447.0, 20278447.0, 5996079.0, 5996079.0, 5996079.0, 2084828.0, 2084828.0, 2084828.0, 2084828.0, 2084828.0, 2084828.0, 2993941.0, 2993941.0, 2993941.0, 38982847.0, 38982847.0, 38982847.0, 27419612.0, 27419612.0, 27419612.0, 10201635.0, 10201635.0, 10201635.0, 2084828.0, 2084828.0, 2084828.0, 3896251.0, 3896251.0, 3896251.0, 6809946.0, 6809946.0, 6809946.0, 38982847.0, 38982847.0, 38982847.0, 4893444.0, 4893444.0, 4893444.0, 2977944.0, 2977944.0, 2977944.0, 11609756.0, 11609756.0, 11609756.0, 1657375.0, 1657375.0, 1657375.0, 5996079.0, 5996079.0, 5996079.0, 5436519.0, 5436519.0, 5436519.0, 8365952.0, 8365952.0, 8365952.0, 4893444.0, 4893444.0, 4893444.0, 6809946.0, 6809946.0, 6809946.0, 4893444.0, 4893444.0, 4893444.0, 4025127.0, 4025127.0, 4025127.0, 1657375.0, 1657375.0, 1657375.0, 10201635.0, 10201635.0, 10201635.0, 5436519.0, 5436519.0, 5436519.0, 11609756.0, 11609756.0, 11609756.0, 11609756.0, 11609756.0, 11609756.0, 738565.0, 738565.0, 738565.0, 38982847.0, 38982847.0, 38982847.0, 20278447.0, 20278447.0, 20278447.0, 583200.0, 583200.0, 583200.0, 20278447.0, 20278447.0, 20278447.0, 12790505.0, 12790505.0, 12790505.0, 8960161.0, 8960161.0, 8960161.0, 3118102.0, 3118102.0, 3118102.0, 12790505.0, 12790505.0, 12790505.0, 2084828.0, 2084828.0, 2084828.0, 2084828.0, 2084828.0, 2084828.0, 19798228.0, 19798228.0, 19798228.0, 38982847.0, 38982847.0, 38982847.0, 20278447.0, 20278447.0, 20278447.0, 19798228.0, 19798228.0, 19798228.0, 19798228.0, 19798228.0, 19798228.0, 11609756.0, 11609756.0, 11609756.0, 5436519.0, 5436519.0, 5436519.0, 12790505.0, 12790505.0, 12790505.0, 6809946.0, 6809946.0, 6809946.0, 583200.0, 583200.0, 583200.0, 27419612.0, 27419612.0, 27419612.0, 10201635.0, 10201635.0, 10201635.0, 583200.0, 583200.0, 583200.0, 2903820.0, 2903820.0, 2903820.0, 20278447.0, 20278447.0, 20278447.0, 5996079.0, 5996079.0, 5996079.0, 12790505.0, 12790505.0, 12790505.0, 38982847.0, 38982847.0, 38982847.0, 10201635.0, 10201635.0, 10201635.0, 10052564.0, 10052564.0, 10052564.0, 2903820.0, 2903820.0, 2903820.0, 19798228.0, 19798228.0, 19798228.0, 4893444.0, 4893444.0, 4893444.0, 2084828.0, 2084828.0, 2084828.0, 5996079.0, 5996079.0, 5996079.0, 12790505.0, 12790505.0, 12790505.0, 6789319.0, 6789319.0, 6789319.0, 8365952.0, 8365952.0, 8365952.0, 738565.0, 738565.0, 738565.0, 1836843.0, 1836843.0, 1836843.0, 19798228.0, 19798228.0, 19798228.0, 6614418.0, 6614418.0, 6614418.0, 12790505.0, 12790505.0, 12790505.0, 8365952.0, 8365952.0, 8365952.0, 2084828.0, 2084828.0, 2084828.0, 1029862.0, 1029862.0, 1029862.0, 738565.0, 738565.0, 738565.0, 38982847.0, 38982847.0, 38982847.0, 19798228.0, 19798228.0, 19798228.0, 2993941.0, 2993941.0, 2993941.0, 2887725.0, 2887725.0, 2887725.0, 6809946.0, 6809946.0, 6809946.0, 5996079.0, 5996079.0, 5996079.0, 1029862.0, 1029862.0, 1029862.0, 5490726.0, 5490726.0, 5490726.0, 5436519.0, 5436519.0, 5436519.0, 583200.0, 583200.0, 583200.0, 10052564.0, 10052564.0, 10052564.0, 27419612.0, 27419612.0, 27419612.0, 6075300.0, 6075300.0, 6075300.0, 1657375.0, 1657375.0, 1657375.0, 19798228.0, 19798228.0, 19798228.0, 1421658.0, 1421658.0, 1421658.0, 5996079.0, 5996079.0, 5996079.0, 1421658.0, 1421658.0, 1421658.0, 3118102.0, 3118102.0, 3118102.0, 4850771.0, 4850771.0, 4850771.0, 11609756.0, 11609756.0, 11609756.0, 19798228.0, 19798228.0, 19798228.0, 12790505.0, 12790505.0, 12790505.0, 1893921.0, 1893921.0, 1893921.0, 2977944.0, 2977944.0, 2977944.0, 6075300.0, 6075300.0, 6075300.0, 6809946.0, 6809946.0, 6809946.0, 12790505.0, 12790505.0, 12790505.0, 6614418.0, 6614418.0, 6614418.0, 9925568.0, 9925568.0, 9925568.0, 11609756.0, 11609756.0, 11609756.0, 4663461.0, 4663461.0, 4663461.0, 855444.0, 855444.0, 855444.0, 6075300.0, 6075300.0, 6075300.0, 4663461.0, 4663461.0, 4663461.0, 10201635.0, 10201635.0, 10201635.0, 4025127.0, 4025127.0, 4025127.0, 6789319.0, 6789319.0, 6789319.0, 12790505.0, 12790505.0, 12790505.0, 38982847.0, 38982847.0, 38982847.0, 38982847.0, 38982847.0, 38982847.0, 1421658.0, 1421658.0, 1421658.0, 1421658.0, 1421658.0, 1421658.0, 738565.0, 738565.0, 738565.0, 738565.0, 738565.0, 738565.0, 10201635.0, 10201635.0, 10201635.0, 9925568.0, 9925568.0, 9925568.0, 4893444.0, 4893444.0, 4893444.0, 738565.0, 738565.0, 738565.0, 7169967.0, 7169967.0, 7169967.0, 745475.0, 745475.0, 745475.0, 738565.0, 738565.0, 738565.0, 38982847.0, 38982847.0, 38982847.0, 738565.0, 738565.0, 738565.0, 27419612.0, 27419612.0, 27419612.0, 7169967.0, 7169967.0, 7169967.0, 38982847.0, 38982847.0, 38982847.0, 1029862.0, 1029862.0, 1029862.0, 6614418.0, 6614418.0, 6614418.0, 12854526.0, 12854526.0, 12854526.0, 4850771.0, 4850771.0, 4850771.0, 6789319.0, 6789319.0, 6789319.0, 6789319.0, 6789319.0, 6789319.0, 27419612.0, 27419612.0, 27419612.0, 624636.0, 624636.0, 624636.0, 4424376.0, 4424376.0, 4424376.0, 10201635.0, 10201635.0, 10201635.0, 8365952.0, 8365952.0, 8365952.0, 38982847.0, 38982847.0, 38982847.0, 19798228.0, 19798228.0, 19798228.0, 8365952.0, 8365952.0, 8365952.0, 5436519.0, 5436519.0, 5436519.0, 6789319.0, 6789319.0, 6789319.0, 855444.0, 855444.0, 855444.0, 5490726.0, 5490726.0, 5490726.0, 6809946.0, 6809946.0, 6809946.0, 10052564.0, 10052564.0, 10052564.0, 38982847.0, 38982847.0, 38982847.0, 5996079.0, 5996079.0, 5996079.0, 7169967.0, 7169967.0, 7169967.0, 8960161.0, 8960161.0, 8960161.0, 855444.0, 855444.0, 855444.0, 38982847.0, 38982847.0, 38982847.0, 2993941.0, 2993941.0, 2993941.0, 2986220.0, 2986220.0, 2986220.0, 6809946.0, 6809946.0, 6809946.0, 6789319.0, 6789319.0, 6789319.0, 1836843.0, 1836843.0, 1836843.0, 2903820.0, 2903820.0, 2903820.0, 1893921.0, 1893921.0, 1893921.0, 4893444.0, 4893444.0, 4893444.0, 738565.0, 738565.0, 738565.0, 7169967.0, 7169967.0, 7169967.0, 10201635.0, 10201635.0, 10201635.0, 7169967.0, 7169967.0, 7169967.0, 4025127.0, 4025127.0, 4025127.0, 6809946.0, 6809946.0, 6809946.0, 6075300.0, 6075300.0, 6075300.0, 27419612.0, 27419612.0, 27419612.0, 8960161.0, 8960161.0, 8960161.0, 27419612.0, 27419612.0, 27419612.0, 2084828.0, 2084828.0, 2084828.0, 6809946.0, 6809946.0, 6809946.0, 2977944.0, 2977944.0, 2977944.0, 8365952.0, 8365952.0, 8365952.0, 2084828.0, 2084828.0, 2084828.0, 11609756.0, 11609756.0, 11609756.0, 38982847.0, 38982847.0, 38982847.0, 5490726.0, 5490726.0, 5490726.0, 9925568.0, 9925568.0, 9925568.0, 5996079.0, 5996079.0, 5996079.0, 6809946.0, 6809946.0, 6809946.0, 38982847.0, 38982847.0, 38982847.0, 38982847.0, 38982847.0, 38982847.0, 8365952.0, 8365952.0, 8365952.0, 1421658.0, 1421658.0, 1421658.0, 1421658.0, 1421658.0, 1421658.0, 2993941.0, 2993941.0, 2993941.0, 38982847.0, 38982847.0, 38982847.0, 8365952.0, 8365952.0, 8365952.0, 27419612.0, 27419612.0, 27419612.0, 9925568.0, 9925568.0, 9925568.0, 5436519.0, 5436519.0, 5436519.0, 38982847.0, 38982847.0, 38982847.0, 1056138.0, 1056138.0, 1056138.0, 4850771.0, 4850771.0, 4850771.0, 27419612.0, 27419612.0, 27419612.0, 1330158.0, 1330158.0, 1330158.0, 38982847.0, 38982847.0, 38982847.0, 1331848.0, 1331848.0, 1331848.0, 6809946.0, 6809946.0, 6809946.0, 19798228.0, 19798228.0, 19798228.0, 6789319.0, 6789319.0, 6789319.0, 7169967.0, 7169967.0, 7169967.0, 6789319.0, 6789319.0, 6789319.0, 38982847.0, 38982847.0, 38982847.0, 5436519.0, 5436519.0, 5436519.0, 19798228.0, 19798228.0, 19798228.0, 2084828.0, 2084828.0, 2084828.0, 19798228.0, 19798228.0, 19798228.0, 1893921.0, 1893921.0, 1893921.0, 8365952.0, 8365952.0, 8365952.0, 738565.0, 738565.0, 738565.0, 9925568.0, 9925568.0, 9925568.0, 6789319.0, 6789319.0, 6789319.0, 12790505.0, 12790505.0, 12790505.0, 19798228.0, 19798228.0, 19798228.0, 19798228.0, 19798228.0, 19798228.0, 6597381.0, 6597381.0, 6597381.0, 6809946.0, 6809946.0, 6809946.0, 2903820.0, 2903820.0, 2903820.0, 12790505.0, 12790505.0, 12790505.0, 19798228.0, 19798228.0, 19798228.0, 19798228.0, 19798228.0, 19798228.0, 745475.0, 745475.0, 745475.0, 5996079.0, 5996079.0, 5996079.0, 2993941.0, 2993941.0, 2993941.0, 20278447.0, 20278447.0, 20278447.0, 6809946.0, 6809946.0, 6809946.0, 4850771.0, 4850771.0, 4850771.0, 4850771.0, 4850771.0, 4850771.0, 6809946.0, 6809946.0, 6809946.0, 6809946.0, 6809946.0, 6809946.0, 6075300.0, 6075300.0, 6075300.0, 12790505.0, 12790505.0, 12790505.0, 1421658.0, 1421658.0, 1421658.0, 19798228.0, 19798228.0, 19798228.0, 5490726.0, 5490726.0, 5490726.0, 3896251.0, 3896251.0, 3896251.0, 6809946.0, 6809946.0, 6809946.0, 27419612.0, 27419612.0, 27419612.0, 3594478.0, 3594478.0, 3594478.0, 38982847.0, 38982847.0, 38982847.0, 7169967.0, 7169967.0, 7169967.0, 2084828.0, 2084828.0, 2084828.0, 855444.0, 855444.0, 855444.0, 2977944.0, 2977944.0, 2977944.0, 6075300.0, 6075300.0, 6075300.0, 11609756.0, 11609756.0, 11609756.0, 19798228.0, 19798228.0, 19798228.0, 8365952.0, 8365952.0, 8365952.0, 10052564.0, 10052564.0, 10052564.0, 738565.0, 738565.0, 738565.0, 6809946.0, 6809946.0, 6809946.0, 38982847.0, 38982847.0, 38982847.0, 738565.0, 738565.0, 738565.0, 2993941.0, 2993941.0, 2993941.0], \"xaxis\": \"x\", \"y\": [20698590, 26131016, 31066774, 20698590, 26131016, 31066774, 20698590, 26131016, 31066774, 20698590, 26131016, 31066774, 20698590, 26131016, 31066774, 20698590, 26131016, 31066774, 20698590, 26131016, 31066774, 20698590, 26131016, 31066774, 20698590, 26131016, 31066774, 20698590, 26131016, 31066774, 20698590, 26131016, 31066774, 20698590, 26131016, 31066774, 20698590, 26131016, 31066774, 20698590, 26131016, 31066774, 20698590, 26131016, 31066774, 20698590, 26131016, 31066774, 20698590, 26131016, 31066774, 20698590, 26131016, 31066774, 20698590, 26131016, 31066774, 20698590, 26131016, 31066774, 20698590, 26131016, 31066774, 20698590, 26131016, 31066774, 20698590, 26131016, 31066774, 20698590, 26131016, 31066774, 20698590, 26131016, 31066774, 20698590, 26131016, 31066774, 20698590, 26131016, 31066774, 20698590, 26131016, 31066774, 20698590, 26131016, 31066774, 20698590, 26131016, 31066774, 20698590, 26131016, 31066774, 20698590, 26131016, 31066774, 20698590, 26131016, 31066774, 20698590, 26131016, 31066774, 20698590, 26131016, 31066774, 20698590, 26131016, 31066774, 20698590, 26131016, 31066774, 20698590, 26131016, 31066774, 20698590, 26131016, 31066774, 20698590, 26131016, 31066774, 20698590, 26131016, 31066774, 20698590, 26131016, 31066774, 20698590, 26131016, 31066774, 20698590, 26131016, 31066774, 20698590, 26131016, 31066774, 20698590, 26131016, 31066774, 20698590, 26131016, 31066774, 20698590, 26131016, 31066774, 20698590, 26131016, 31066774, 20698590, 26131016, 31066774, 20698590, 26131016, 31066774, 20698590, 26131016, 31066774, 20698590, 26131016, 31066774, 20698590, 26131016, 31066774, 20698590, 26131016, 31066774, 20698590, 26131016, 31066774, 20698590, 26131016, 31066774, 20698590, 26131016, 31066774, 20698590, 26131016, 31066774, 20698590, 26131016, 31066774, 20698590, 26131016, 31066774, 20698590, 26131016, 31066774, 20698590, 26131016, 31066774, 20698590, 26131016, 31066774, 20698590, 26131016, 31066774, 20698590, 26131016, 31066774, 20698590, 26131016, 31066774, 20698590, 26131016, 31066774, 20698590, 26131016, 31066774, 20698590, 26131016, 31066774, 20698590, 26131016, 31066774, 20698590, 26131016, 31066774, 20698590, 26131016, 31066774, 20698590, 26131016, 31066774, 20698590, 26131016, 31066774, 20698590, 26131016, 31066774, 20698590, 26131016, 31066774, 20698590, 26131016, 31066774, 20698590, 26131016, 31066774, 20698590, 26131016, 31066774, 20698590, 26131016, 31066774, 20698590, 26131016, 31066774, 20698590, 26131016, 31066774, 20698590, 26131016, 31066774, 20698590, 26131016, 31066774, 20698590, 26131016, 31066774, 20698590, 26131016, 31066774, 20698590, 26131016, 31066774, 20698590, 26131016, 31066774, 20698590, 26131016, 31066774, 20698590, 26131016, 31066774, 20698590, 26131016, 31066774, 20698590, 26131016, 31066774, 20698590, 26131016, 31066774, 20698590, 26131016, 31066774, 20698590, 26131016, 31066774, 20698590, 26131016, 31066774, 20698590, 26131016, 31066774, 20698590, 26131016, 31066774, 20698590, 26131016, 31066774, 20698590, 26131016, 31066774, 20698590, 26131016, 31066774, 20698590, 26131016, 31066774, 20698590, 26131016, 31066774, 20698590, 26131016, 31066774, 20698590, 26131016, 31066774, 20698590, 26131016, 31066774, 20698590, 26131016, 31066774, 20698590, 26131016, 31066774, 20698590, 26131016, 31066774, 20698590, 26131016, 31066774, 20698590, 26131016, 31066774, 20698590, 26131016, 31066774, 20698590, 26131016, 31066774, 20698590, 26131016, 31066774, 20698590, 26131016, 31066774, 20698590, 26131016, 31066774, 20698590, 26131016, 31066774, 20698590, 26131016, 31066774, 20698590, 26131016, 31066774, 20698590, 26131016, 31066774, 20698590, 26131016, 31066774, 20698590, 26131016, 31066774, 20698590, 26131016, 31066774, 20698590, 26131016, 31066774, 20698590, 26131016, 31066774, 20698590, 26131016, 31066774, 20698590, 26131016, 31066774, 20698590, 26131016, 31066774, 20698590, 26131016, 31066774, 20698590, 26131016, 31066774, 20698590, 26131016, 31066774, 20698590, 26131016, 31066774, 20698590, 26131016, 31066774, 20698590, 26131016, 31066774, 20698590, 26131016, 31066774, 20698590, 26131016, 31066774, 20698590, 26131016, 31066774, 20698590, 26131016, 31066774, 20698590, 26131016, 31066774, 20698590, 26131016, 31066774, 20698590, 26131016, 31066774, 20698590, 26131016, 31066774, 20698590, 26131016, 31066774, 20698590, 26131016, 31066774, 20698590, 26131016, 31066774, 20698590, 26131016, 31066774, 20698590, 26131016, 31066774, 20698590, 26131016, 31066774, 20698590, 26131016, 31066774, 20698590, 26131016, 31066774, 20698590, 26131016, 31066774, 20698590, 26131016, 31066774, 20698590, 26131016, 31066774, 20698590, 26131016, 31066774, 20698590, 26131016, 31066774, 20698590, 26131016, 31066774, 20698590, 26131016, 31066774, 20698590, 26131016, 31066774, 20698590, 26131016, 31066774, 20698590, 26131016, 31066774, 20698590, 26131016, 31066774, 20698590, 26131016, 31066774, 20698590, 26131016, 31066774, 20698590, 26131016, 31066774, 20698590, 26131016, 31066774, 20698590, 26131016, 31066774, 20698590, 26131016, 31066774, 20698590, 26131016, 31066774, 20698590, 26131016, 31066774, 20698590, 26131016, 31066774, 20698590, 26131016, 31066774, 20698590, 26131016, 31066774, 20698590, 26131016, 31066774, 20698590, 26131016, 31066774, 20698590, 26131016, 31066774, 20698590, 26131016, 31066774, 20698590, 26131016, 31066774, 20698590, 26131016, 31066774, 20698590, 26131016, 31066774, 20698590, 26131016, 31066774, 20698590, 26131016, 31066774, 20698590, 26131016, 31066774, 20698590, 26131016, 31066774, 20698590, 26131016, 31066774, 20698590, 26131016, 31066774, 20698590, 26131016, 31066774, 20698590, 26131016, 31066774, 20698590, 26131016, 31066774, 20698590, 26131016, 31066774, 20698590, 26131016, 31066774, 20698590, 26131016, 31066774, 20698590, 26131016, 31066774, 20698590, 26131016, 31066774, 20698590, 26131016, 31066774, 20698590, 26131016, 31066774, 20698590, 26131016, 31066774, 20698590, 26131016, 31066774, 20698590, 26131016, 31066774, 20698590, 26131016, 31066774, 20698590, 26131016, 31066774, 20698590, 26131016, 31066774, 20698590, 26131016, 31066774, 20698590, 26131016, 31066774, 20698590, 26131016, 31066774, 20698590, 26131016, 31066774, 20698590, 26131016, 31066774, 20698590, 26131016, 31066774, 20698590, 26131016, 31066774, 20698590, 26131016, 31066774, 20698590, 26131016, 31066774, 20698590, 26131016, 31066774, 20698590, 26131016, 31066774, 20698590, 26131016, 31066774, 20698590, 26131016, 31066774, 20698590, 26131016, 31066774, 20698590, 26131016, 31066774, 20698590, 26131016, 31066774, 20698590, 26131016, 31066774, 20698590, 26131016, 31066774, 20698590, 26131016, 31066774, 20698590, 26131016, 31066774, 20698590, 26131016, 31066774, 20698590, 26131016, 31066774, 20698590, 26131016, 31066774, 20698590, 26131016, 31066774, 20698590, 26131016, 31066774, 20698590, 26131016, 31066774, 20698590, 26131016, 31066774, 20698590, 26131016, 31066774, 20698590, 26131016, 31066774, 20698590, 26131016, 31066774, 20698590, 26131016, 31066774, 20698590, 26131016, 31066774, 20698590, 26131016, 31066774, 20698590, 26131016, 31066774, 20698590, 26131016, 31066774, 20698590, 26131016, 31066774, 20698590, 26131016, 31066774, 20698590, 26131016, 31066774, 20698590, 26131016, 31066774, 20698590, 26131016, 31066774, 20698590, 26131016, 31066774, 20698590, 26131016, 31066774, 20698590, 26131016, 31066774, 20698590, 26131016, 31066774, 20698590, 26131016, 31066774, 20698590, 26131016, 31066774, 20698590, 26131016, 31066774, 20698590, 26131016, 31066774, 20698590, 26131016, 31066774, 20698590, 26131016, 31066774, 20698590, 26131016, 31066774, 20698590, 26131016, 31066774, 20698590, 26131016, 31066774, 20698590, 26131016, 31066774, 20698590, 26131016, 31066774, 20698590, 26131016, 31066774, 20698590, 26131016, 31066774, 20698590, 26131016, 31066774, 20698590, 26131016, 31066774, 20698590, 26131016, 31066774, 20698590, 26131016, 31066774, 20698590, 26131016, 31066774, 20698590, 26131016, 31066774, 20698590, 26131016, 31066774, 20698590, 26131016, 31066774, 20698590, 26131016, 31066774, 20698590, 26131016, 31066774, 20698590, 26131016, 31066774, 20698590, 26131016, 31066774, 20698590, 26131016, 31066774, 20698590, 26131016, 31066774, 20698590, 26131016, 31066774, 20698590, 26131016, 31066774, 20698590, 26131016, 31066774, 20698590, 26131016, 31066774, 20698590, 26131016, 31066774, 20698590, 26131016, 31066774, 20698590, 26131016, 31066774, 20698590, 26131016, 31066774, 20698590, 26131016, 31066774, 20698590, 26131016, 31066774, 20698590, 26131016, 31066774, 20698590, 26131016, 31066774, 20698590, 26131016, 31066774, 20698590, 26131016, 31066774, 20698590, 26131016, 31066774, 20698590, 26131016, 31066774, 20698590, 26131016, 31066774, 20698590, 26131016, 31066774, 20698590, 26131016, 31066774, 20698590, 26131016, 31066774, 20698590, 26131016, 31066774, 20698590, 26131016, 31066774, 20698590, 26131016, 31066774, 20698590, 26131016, 31066774, 20698590, 26131016, 31066774, 20698590, 26131016, 31066774, 20698590, 26131016, 31066774, 20698590, 26131016, 31066774, 20698590, 26131016, 31066774, 20698590, 26131016, 31066774, 20698590, 26131016, 31066774, 20698590, 26131016, 31066774, 20698590, 26131016, 31066774, 20698590, 26131016, 31066774, 20698590, 26131016, 31066774, 20698590, 26131016, 31066774, 20698590, 26131016, 31066774, 20698590, 26131016, 31066774], \"yaxis\": \"y\"}],\n",
       "                        {\"legend\": {\"itemsizing\": \"constant\", \"tracegroupgap\": 0}, \"margin\": {\"t\": 60}, \"template\": {\"data\": {\"bar\": [{\"error_x\": {\"color\": \"#2a3f5f\"}, \"error_y\": {\"color\": \"#2a3f5f\"}, \"marker\": {\"line\": {\"color\": \"#E5ECF6\", \"width\": 0.5}}, \"type\": \"bar\"}], \"barpolar\": [{\"marker\": {\"line\": {\"color\": \"#E5ECF6\", \"width\": 0.5}}, \"type\": \"barpolar\"}], \"carpet\": [{\"aaxis\": {\"endlinecolor\": \"#2a3f5f\", \"gridcolor\": \"white\", \"linecolor\": \"white\", \"minorgridcolor\": \"white\", \"startlinecolor\": \"#2a3f5f\"}, \"baxis\": {\"endlinecolor\": \"#2a3f5f\", \"gridcolor\": \"white\", \"linecolor\": \"white\", \"minorgridcolor\": \"white\", \"startlinecolor\": \"#2a3f5f\"}, \"type\": \"carpet\"}], \"choropleth\": [{\"colorbar\": {\"outlinewidth\": 0, \"ticks\": \"\"}, \"type\": \"choropleth\"}], \"contour\": [{\"colorbar\": {\"outlinewidth\": 0, \"ticks\": \"\"}, \"colorscale\": [[0.0, \"#0d0887\"], [0.1111111111111111, \"#46039f\"], [0.2222222222222222, \"#7201a8\"], [0.3333333333333333, \"#9c179e\"], [0.4444444444444444, \"#bd3786\"], [0.5555555555555556, \"#d8576b\"], [0.6666666666666666, \"#ed7953\"], [0.7777777777777778, \"#fb9f3a\"], [0.8888888888888888, \"#fdca26\"], [1.0, \"#f0f921\"]], \"type\": \"contour\"}], \"contourcarpet\": [{\"colorbar\": {\"outlinewidth\": 0, \"ticks\": \"\"}, \"type\": \"contourcarpet\"}], \"heatmap\": [{\"colorbar\": {\"outlinewidth\": 0, \"ticks\": \"\"}, \"colorscale\": [[0.0, \"#0d0887\"], [0.1111111111111111, \"#46039f\"], [0.2222222222222222, \"#7201a8\"], [0.3333333333333333, \"#9c179e\"], [0.4444444444444444, \"#bd3786\"], [0.5555555555555556, \"#d8576b\"], [0.6666666666666666, \"#ed7953\"], [0.7777777777777778, \"#fb9f3a\"], [0.8888888888888888, \"#fdca26\"], [1.0, \"#f0f921\"]], \"type\": \"heatmap\"}], \"heatmapgl\": [{\"colorbar\": {\"outlinewidth\": 0, \"ticks\": \"\"}, \"colorscale\": [[0.0, \"#0d0887\"], [0.1111111111111111, \"#46039f\"], [0.2222222222222222, \"#7201a8\"], [0.3333333333333333, \"#9c179e\"], [0.4444444444444444, \"#bd3786\"], [0.5555555555555556, \"#d8576b\"], [0.6666666666666666, \"#ed7953\"], [0.7777777777777778, \"#fb9f3a\"], [0.8888888888888888, \"#fdca26\"], [1.0, \"#f0f921\"]], \"type\": \"heatmapgl\"}], \"histogram\": [{\"marker\": {\"colorbar\": {\"outlinewidth\": 0, \"ticks\": \"\"}}, \"type\": \"histogram\"}], \"histogram2d\": [{\"colorbar\": {\"outlinewidth\": 0, \"ticks\": \"\"}, \"colorscale\": [[0.0, \"#0d0887\"], [0.1111111111111111, \"#46039f\"], [0.2222222222222222, \"#7201a8\"], [0.3333333333333333, \"#9c179e\"], [0.4444444444444444, \"#bd3786\"], [0.5555555555555556, \"#d8576b\"], [0.6666666666666666, \"#ed7953\"], [0.7777777777777778, \"#fb9f3a\"], [0.8888888888888888, \"#fdca26\"], [1.0, \"#f0f921\"]], \"type\": \"histogram2d\"}], \"histogram2dcontour\": [{\"colorbar\": {\"outlinewidth\": 0, \"ticks\": \"\"}, \"colorscale\": [[0.0, \"#0d0887\"], [0.1111111111111111, \"#46039f\"], [0.2222222222222222, \"#7201a8\"], [0.3333333333333333, \"#9c179e\"], [0.4444444444444444, \"#bd3786\"], [0.5555555555555556, \"#d8576b\"], [0.6666666666666666, \"#ed7953\"], [0.7777777777777778, \"#fb9f3a\"], [0.8888888888888888, \"#fdca26\"], [1.0, \"#f0f921\"]], \"type\": \"histogram2dcontour\"}], \"mesh3d\": [{\"colorbar\": {\"outlinewidth\": 0, \"ticks\": \"\"}, \"type\": \"mesh3d\"}], \"parcoords\": [{\"line\": {\"colorbar\": {\"outlinewidth\": 0, \"ticks\": \"\"}}, \"type\": \"parcoords\"}], \"pie\": [{\"automargin\": true, \"type\": \"pie\"}], \"scatter\": [{\"marker\": {\"colorbar\": {\"outlinewidth\": 0, \"ticks\": \"\"}}, \"type\": \"scatter\"}], \"scatter3d\": [{\"line\": {\"colorbar\": {\"outlinewidth\": 0, \"ticks\": \"\"}}, \"marker\": {\"colorbar\": {\"outlinewidth\": 0, \"ticks\": \"\"}}, \"type\": \"scatter3d\"}], \"scattercarpet\": [{\"marker\": {\"colorbar\": {\"outlinewidth\": 0, \"ticks\": \"\"}}, \"type\": \"scattercarpet\"}], \"scattergeo\": [{\"marker\": {\"colorbar\": {\"outlinewidth\": 0, \"ticks\": \"\"}}, \"type\": \"scattergeo\"}], \"scattergl\": [{\"marker\": {\"colorbar\": {\"outlinewidth\": 0, \"ticks\": \"\"}}, \"type\": \"scattergl\"}], \"scattermapbox\": [{\"marker\": {\"colorbar\": {\"outlinewidth\": 0, \"ticks\": \"\"}}, \"type\": \"scattermapbox\"}], \"scatterpolar\": [{\"marker\": {\"colorbar\": {\"outlinewidth\": 0, \"ticks\": \"\"}}, \"type\": \"scatterpolar\"}], \"scatterpolargl\": [{\"marker\": {\"colorbar\": {\"outlinewidth\": 0, \"ticks\": \"\"}}, \"type\": \"scatterpolargl\"}], \"scatterternary\": [{\"marker\": {\"colorbar\": {\"outlinewidth\": 0, \"ticks\": \"\"}}, \"type\": \"scatterternary\"}], \"surface\": [{\"colorbar\": {\"outlinewidth\": 0, \"ticks\": \"\"}, \"colorscale\": [[0.0, \"#0d0887\"], [0.1111111111111111, \"#46039f\"], [0.2222222222222222, \"#7201a8\"], [0.3333333333333333, \"#9c179e\"], [0.4444444444444444, \"#bd3786\"], [0.5555555555555556, \"#d8576b\"], [0.6666666666666666, \"#ed7953\"], [0.7777777777777778, \"#fb9f3a\"], [0.8888888888888888, \"#fdca26\"], [1.0, \"#f0f921\"]], \"type\": \"surface\"}], \"table\": [{\"cells\": {\"fill\": {\"color\": \"#EBF0F8\"}, \"line\": {\"color\": \"white\"}}, \"header\": {\"fill\": {\"color\": \"#C8D4E3\"}, \"line\": {\"color\": \"white\"}}, \"type\": \"table\"}]}, \"layout\": {\"annotationdefaults\": {\"arrowcolor\": \"#2a3f5f\", \"arrowhead\": 0, \"arrowwidth\": 1}, \"coloraxis\": {\"colorbar\": {\"outlinewidth\": 0, \"ticks\": \"\"}}, \"colorscale\": {\"diverging\": [[0, \"#8e0152\"], [0.1, \"#c51b7d\"], [0.2, \"#de77ae\"], [0.3, \"#f1b6da\"], [0.4, \"#fde0ef\"], [0.5, \"#f7f7f7\"], [0.6, \"#e6f5d0\"], [0.7, \"#b8e186\"], [0.8, \"#7fbc41\"], [0.9, \"#4d9221\"], [1, \"#276419\"]], \"sequential\": [[0.0, \"#0d0887\"], [0.1111111111111111, \"#46039f\"], [0.2222222222222222, \"#7201a8\"], [0.3333333333333333, \"#9c179e\"], [0.4444444444444444, \"#bd3786\"], [0.5555555555555556, \"#d8576b\"], [0.6666666666666666, \"#ed7953\"], [0.7777777777777778, \"#fb9f3a\"], [0.8888888888888888, \"#fdca26\"], [1.0, \"#f0f921\"]], \"sequentialminus\": [[0.0, \"#0d0887\"], [0.1111111111111111, \"#46039f\"], [0.2222222222222222, \"#7201a8\"], [0.3333333333333333, \"#9c179e\"], [0.4444444444444444, \"#bd3786\"], [0.5555555555555556, \"#d8576b\"], [0.6666666666666666, \"#ed7953\"], [0.7777777777777778, \"#fb9f3a\"], [0.8888888888888888, \"#fdca26\"], [1.0, \"#f0f921\"]]}, \"colorway\": [\"#636efa\", \"#EF553B\", \"#00cc96\", \"#ab63fa\", \"#FFA15A\", \"#19d3f3\", \"#FF6692\", \"#B6E880\", \"#FF97FF\", \"#FECB52\"], \"font\": {\"color\": \"#2a3f5f\"}, \"geo\": {\"bgcolor\": \"white\", \"lakecolor\": \"white\", \"landcolor\": \"#E5ECF6\", \"showlakes\": true, \"showland\": true, \"subunitcolor\": \"white\"}, \"hoverlabel\": {\"align\": \"left\"}, \"hovermode\": \"closest\", \"mapbox\": {\"style\": \"light\"}, \"paper_bgcolor\": \"white\", \"plot_bgcolor\": \"#E5ECF6\", \"polar\": {\"angularaxis\": {\"gridcolor\": \"white\", \"linecolor\": \"white\", \"ticks\": \"\"}, \"bgcolor\": \"#E5ECF6\", \"radialaxis\": {\"gridcolor\": \"white\", \"linecolor\": \"white\", \"ticks\": \"\"}}, \"scene\": {\"xaxis\": {\"backgroundcolor\": \"#E5ECF6\", \"gridcolor\": \"white\", \"gridwidth\": 2, \"linecolor\": \"white\", \"showbackground\": true, \"ticks\": \"\", \"zerolinecolor\": \"white\"}, \"yaxis\": {\"backgroundcolor\": \"#E5ECF6\", \"gridcolor\": \"white\", \"gridwidth\": 2, \"linecolor\": \"white\", \"showbackground\": true, \"ticks\": \"\", \"zerolinecolor\": \"white\"}, \"zaxis\": {\"backgroundcolor\": \"#E5ECF6\", \"gridcolor\": \"white\", \"gridwidth\": 2, \"linecolor\": \"white\", \"showbackground\": true, \"ticks\": \"\", \"zerolinecolor\": \"white\"}}, \"shapedefaults\": {\"line\": {\"color\": \"#2a3f5f\"}}, \"ternary\": {\"aaxis\": {\"gridcolor\": \"white\", \"linecolor\": \"white\", \"ticks\": \"\"}, \"baxis\": {\"gridcolor\": \"white\", \"linecolor\": \"white\", \"ticks\": \"\"}, \"bgcolor\": \"#E5ECF6\", \"caxis\": {\"gridcolor\": \"white\", \"linecolor\": \"white\", \"ticks\": \"\"}}, \"title\": {\"x\": 0.05}, \"xaxis\": {\"automargin\": true, \"gridcolor\": \"white\", \"linecolor\": \"white\", \"ticks\": \"\", \"title\": {\"standoff\": 15}, \"zerolinecolor\": \"white\", \"zerolinewidth\": 2}, \"yaxis\": {\"automargin\": true, \"gridcolor\": \"white\", \"linecolor\": \"white\", \"ticks\": \"\", \"title\": {\"standoff\": 15}, \"zerolinecolor\": \"white\", \"zerolinewidth\": 2}}}, \"title\": {\"text\": \"Population vs. Total Visitor\"}, \"xaxis\": {\"anchor\": \"y\", \"domain\": [0.0, 1.0], \"title\": {\"text\": \"Population\"}}, \"yaxis\": {\"anchor\": \"x\", \"domain\": [0.0, 1.0], \"title\": {\"text\": \"Total Visitors\"}}},\n",
       "                        {\"responsive\": true}\n",
       "                    ).then(function(){\n",
       "                            \n",
       "var gd = document.getElementById('c0391024-ab8a-4823-850f-b1416fa0c8b3');\n",
       "var x = new MutationObserver(function (mutations, observer) {{\n",
       "        var display = window.getComputedStyle(gd).display;\n",
       "        if (!display || display === 'none') {{\n",
       "            console.log([gd, 'removed!']);\n",
       "            Plotly.purge(gd);\n",
       "            observer.disconnect();\n",
       "        }}\n",
       "}});\n",
       "\n",
       "// Listen for the removal of the full notebook cells\n",
       "var notebookContainer = gd.closest('#notebook-container');\n",
       "if (notebookContainer) {{\n",
       "    x.observe(notebookContainer, {childList: true});\n",
       "}}\n",
       "\n",
       "// Listen for the clearing of the current output cell\n",
       "var outputEl = gd.closest('.output');\n",
       "if (outputEl) {{\n",
       "    x.observe(outputEl, {childList: true});\n",
       "}}\n",
       "\n",
       "                        })\n",
       "                };\n",
       "                });\n",
       "            </script>\n",
       "        </div>"
      ]
     },
     "metadata": {},
     "output_type": "display_data"
    }
   ],
   "source": [
    "fig = px.scatter(Spring, x=\"Population\", y=\"Total Visitors\", hover_data=[\"State Code\"], size=\"Month\" )\n",
    "fig.update_layout(title='Population vs. Total Visitor')"
   ]
  },
  {
   "cell_type": "code",
   "execution_count": null,
   "metadata": {},
   "outputs": [],
   "source": []
  },
  {
   "cell_type": "code",
   "execution_count": 224,
   "metadata": {},
   "outputs": [
    {
     "data": {
      "text/html": [
       "<div>\n",
       "<style scoped>\n",
       "    .dataframe tbody tr th:only-of-type {\n",
       "        vertical-align: middle;\n",
       "    }\n",
       "\n",
       "    .dataframe tbody tr th {\n",
       "        vertical-align: top;\n",
       "    }\n",
       "\n",
       "    .dataframe thead th {\n",
       "        text-align: right;\n",
       "    }\n",
       "</style>\n",
       "<table border=\"1\" class=\"dataframe\">\n",
       "  <thead>\n",
       "    <tr style=\"text-align: right;\">\n",
       "      <th></th>\n",
       "      <th>Month</th>\n",
       "      <th>ParkCode</th>\n",
       "      <th>Full Name</th>\n",
       "      <th>Lat</th>\n",
       "      <th>Lon</th>\n",
       "      <th>State Code</th>\n",
       "      <th>Name</th>\n",
       "      <th>Latitude</th>\n",
       "      <th>Longitude</th>\n",
       "      <th>Total Visitors</th>\n",
       "      <th>Population</th>\n",
       "    </tr>\n",
       "  </thead>\n",
       "  <tbody>\n",
       "    <tr>\n",
       "      <td>5</td>\n",
       "      <td>6</td>\n",
       "      <td>ABLI</td>\n",
       "      <td>Abraham Lincoln Birthplace National Historical...</td>\n",
       "      <td>37.585866</td>\n",
       "      <td>-85.673305</td>\n",
       "      <td>KY</td>\n",
       "      <td>Kentucky</td>\n",
       "      <td>37.5347</td>\n",
       "      <td>-85.3021</td>\n",
       "      <td>40206974</td>\n",
       "      <td>4424376.0</td>\n",
       "    </tr>\n",
       "    <tr>\n",
       "      <td>6</td>\n",
       "      <td>7</td>\n",
       "      <td>ABLI</td>\n",
       "      <td>Abraham Lincoln Birthplace National Historical...</td>\n",
       "      <td>37.585866</td>\n",
       "      <td>-85.673305</td>\n",
       "      <td>KY</td>\n",
       "      <td>Kentucky</td>\n",
       "      <td>37.5347</td>\n",
       "      <td>-85.3021</td>\n",
       "      <td>43357526</td>\n",
       "      <td>4424376.0</td>\n",
       "    </tr>\n",
       "    <tr>\n",
       "      <td>7</td>\n",
       "      <td>8</td>\n",
       "      <td>ABLI</td>\n",
       "      <td>Abraham Lincoln Birthplace National Historical...</td>\n",
       "      <td>37.585866</td>\n",
       "      <td>-85.673305</td>\n",
       "      <td>KY</td>\n",
       "      <td>Kentucky</td>\n",
       "      <td>37.5347</td>\n",
       "      <td>-85.3021</td>\n",
       "      <td>39287542</td>\n",
       "      <td>4424376.0</td>\n",
       "    </tr>\n",
       "    <tr>\n",
       "      <td>17</td>\n",
       "      <td>6</td>\n",
       "      <td>ACAD</td>\n",
       "      <td>Acadia National Park</td>\n",
       "      <td>44.307775</td>\n",
       "      <td>-68.300633</td>\n",
       "      <td>ME</td>\n",
       "      <td>Maine</td>\n",
       "      <td>45.3695</td>\n",
       "      <td>-69.2428</td>\n",
       "      <td>40206974</td>\n",
       "      <td>1330158.0</td>\n",
       "    </tr>\n",
       "    <tr>\n",
       "      <td>18</td>\n",
       "      <td>7</td>\n",
       "      <td>ACAD</td>\n",
       "      <td>Acadia National Park</td>\n",
       "      <td>44.307775</td>\n",
       "      <td>-68.300633</td>\n",
       "      <td>ME</td>\n",
       "      <td>Maine</td>\n",
       "      <td>45.3695</td>\n",
       "      <td>-69.2428</td>\n",
       "      <td>43357526</td>\n",
       "      <td>1330158.0</td>\n",
       "    </tr>\n",
       "  </tbody>\n",
       "</table>\n",
       "</div>"
      ],
      "text/plain": [
       "    Month ParkCode                                          Full Name  \\\n",
       "5       6     ABLI  Abraham Lincoln Birthplace National Historical...   \n",
       "6       7     ABLI  Abraham Lincoln Birthplace National Historical...   \n",
       "7       8     ABLI  Abraham Lincoln Birthplace National Historical...   \n",
       "17      6     ACAD                               Acadia National Park   \n",
       "18      7     ACAD                               Acadia National Park   \n",
       "\n",
       "          Lat        Lon State Code      Name  Latitude  Longitude  \\\n",
       "5   37.585866 -85.673305         KY  Kentucky   37.5347   -85.3021   \n",
       "6   37.585866 -85.673305         KY  Kentucky   37.5347   -85.3021   \n",
       "7   37.585866 -85.673305         KY  Kentucky   37.5347   -85.3021   \n",
       "17  44.307775 -68.300633         ME     Maine   45.3695   -69.2428   \n",
       "18  44.307775 -68.300633         ME     Maine   45.3695   -69.2428   \n",
       "\n",
       "    Total Visitors  Population  \n",
       "5         40206974   4424376.0  \n",
       "6         43357526   4424376.0  \n",
       "7         39287542   4424376.0  \n",
       "17        40206974   1330158.0  \n",
       "18        43357526   1330158.0  "
      ]
     },
     "execution_count": 224,
     "metadata": {},
     "output_type": "execute_result"
    }
   ],
   "source": [
    "# Summer Season: June - Sep\n",
    "Summer= Final_Data[(Final_Data['Month']==6) | (Final_Data['Month']==7) | (Final_Data['Month']==8) ]\n",
    "Summer.head()"
   ]
  },
  {
   "cell_type": "code",
   "execution_count": 230,
   "metadata": {},
   "outputs": [
    {
     "data": {
      "application/vnd.plotly.v1+json": {
       "config": {
        "plotlyServerURL": "https://plot.ly"
       },
       "data": [
        {
         "customdata": [
          [
           "KY"
          ],
          [
           "KY"
          ],
          [
           "KY"
          ],
          [
           "ME"
          ],
          [
           "ME"
          ],
          [
           "ME"
          ],
          [
           "MA"
          ],
          [
           "MA"
          ],
          [
           "MA"
          ],
          [
           "NY"
          ],
          [
           "NY"
          ],
          [
           "NY"
          ],
          [
           "NE"
          ],
          [
           "NE"
          ],
          [
           "NE"
          ],
          [
           "TX"
          ],
          [
           "TX"
          ],
          [
           "TX"
          ],
          [
           "PA"
          ],
          [
           "PA"
          ],
          [
           "PA"
          ],
          [
           "TX"
          ],
          [
           "TX"
          ],
          [
           "TX"
          ],
          [
           "GA"
          ],
          [
           "GA"
          ],
          [
           "GA"
          ],
          [
           "AK"
          ],
          [
           "AK"
          ],
          [
           "AK"
          ],
          [
           "TN"
          ],
          [
           "TN"
          ],
          [
           "TN"
          ],
          [
           "MD"
          ],
          [
           "MD"
          ],
          [
           "MD"
          ],
          [
           "VA"
          ],
          [
           "VA"
          ],
          [
           "VA"
          ],
          [
           "WI"
          ],
          [
           "WI"
          ],
          [
           "WI"
          ],
          [
           "UT"
          ],
          [
           "UT"
          ],
          [
           "UT"
          ],
          [
           "VA"
          ],
          [
           "VA"
          ],
          [
           "VA"
          ],
          [
           "AR"
          ],
          [
           "AR"
          ],
          [
           "AR"
          ],
          [
           "NM"
          ],
          [
           "NM"
          ],
          [
           "NM"
          ],
          [
           "SD"
          ],
          [
           "SD"
          ],
          [
           "SD"
          ],
          [
           "NM"
          ],
          [
           "NM"
          ],
          [
           "NM"
          ],
          [
           "AK"
          ],
          [
           "AK"
          ],
          [
           "AK"
          ],
          [
           "CO"
          ],
          [
           "CO"
          ],
          [
           "CO"
          ],
          [
           "TX"
          ],
          [
           "TX"
          ],
          [
           "TX"
          ],
          [
           "FL"
          ],
          [
           "FL"
          ],
          [
           "FL"
          ],
          [
           "MT"
          ],
          [
           "MT"
          ],
          [
           "MT"
          ],
          [
           "FL"
          ],
          [
           "FL"
          ],
          [
           "FL"
          ],
          [
           "TX"
          ],
          [
           "TX"
          ],
          [
           "TX"
          ],
          [
           "CO"
          ],
          [
           "CO"
          ],
          [
           "CO"
          ],
          [
           "WV"
          ],
          [
           "WV"
          ],
          [
           "WV"
          ],
          [
           "MA"
          ],
          [
           "MA"
          ],
          [
           "MA"
          ],
          [
           "MA"
          ],
          [
           "MA"
          ],
          [
           "MA"
          ],
          [
           "VA"
          ],
          [
           "VA"
          ],
          [
           "VA"
          ],
          [
           "UT"
          ],
          [
           "UT"
          ],
          [
           "UT"
          ],
          [
           "KS"
          ],
          [
           "KS"
          ],
          [
           "KS"
          ],
          [
           "AR"
          ],
          [
           "AR"
          ],
          [
           "AR"
          ],
          [
           "CA"
          ],
          [
           "CA"
          ],
          [
           "CA"
          ],
          [
           "AZ"
          ],
          [
           "AZ"
          ],
          [
           "AZ"
          ],
          [
           "NY"
          ],
          [
           "NY"
          ],
          [
           "NY"
          ],
          [
           "MA"
          ],
          [
           "MA"
          ],
          [
           "MA"
          ],
          [
           "AZ"
          ],
          [
           "AZ"
          ],
          [
           "AZ"
          ],
          [
           "NC"
          ],
          [
           "NC"
          ],
          [
           "NC"
          ],
          [
           "AK"
          ],
          [
           "AK"
          ],
          [
           "AK"
          ],
          [
           "NC"
          ],
          [
           "NC"
          ],
          [
           "NC"
          ],
          [
           "FL"
          ],
          [
           "FL"
          ],
          [
           "FL"
          ],
          [
           "UT"
          ],
          [
           "UT"
          ],
          [
           "UT"
          ],
          [
           "UT"
          ],
          [
           "UT"
          ],
          [
           "UT"
          ],
          [
           "LA"
          ],
          [
           "LA"
          ],
          [
           "LA"
          ],
          [
           "NC"
          ],
          [
           "NC"
          ],
          [
           "NC"
          ],
          [
           "FL"
          ],
          [
           "FL"
          ],
          [
           "FL"
          ],
          [
           "MD"
          ],
          [
           "MD"
          ],
          [
           "MD"
          ],
          [
           "NM"
          ],
          [
           "NM"
          ],
          [
           "NM"
          ],
          [
           "NM"
          ],
          [
           "NM"
          ],
          [
           "NM"
          ],
          [
           "UT"
          ],
          [
           "UT"
          ],
          [
           "UT"
          ],
          [
           "CA"
          ],
          [
           "CA"
          ],
          [
           "CA"
          ],
          [
           "TX"
          ],
          [
           "TX"
          ],
          [
           "TX"
          ],
          [
           "GA"
          ],
          [
           "GA"
          ],
          [
           "GA"
          ],
          [
           "NM"
          ],
          [
           "NM"
          ],
          [
           "NM"
          ],
          [
           "OK"
          ],
          [
           "OK"
          ],
          [
           "OK"
          ],
          [
           "AZ"
          ],
          [
           "AZ"
          ],
          [
           "AZ"
          ],
          [
           "CA"
          ],
          [
           "CA"
          ],
          [
           "CA"
          ],
          [
           "SC"
          ],
          [
           "SC"
          ],
          [
           "SC"
          ],
          [
           "AR"
          ],
          [
           "AR"
          ],
          [
           "AR"
          ],
          [
           "OH"
          ],
          [
           "OH"
          ],
          [
           "OH"
          ],
          [
           "ID"
          ],
          [
           "ID"
          ],
          [
           "ID"
          ],
          [
           "MD"
          ],
          [
           "MD"
          ],
          [
           "MD"
          ],
          [
           "CO"
          ],
          [
           "CO"
          ],
          [
           "CO"
          ],
          [
           "VA"
          ],
          [
           "VA"
          ],
          [
           "VA"
          ],
          [
           "SC"
          ],
          [
           "SC"
          ],
          [
           "SC"
          ],
          [
           "AZ"
          ],
          [
           "AZ"
          ],
          [
           "AZ"
          ],
          [
           "SC"
          ],
          [
           "SC"
          ],
          [
           "SC"
          ],
          [
           "OR"
          ],
          [
           "OR"
          ],
          [
           "OR"
          ],
          [
           "ID"
          ],
          [
           "ID"
          ],
          [
           "ID"
          ],
          [
           "GA"
          ],
          [
           "GA"
          ],
          [
           "GA"
          ],
          [
           "CO"
          ],
          [
           "CO"
          ],
          [
           "CO"
          ],
          [
           "OH"
          ],
          [
           "OH"
          ],
          [
           "OH"
          ],
          [
           "OH"
          ],
          [
           "OH"
          ],
          [
           "OH"
          ],
          [
           "AK"
          ],
          [
           "AK"
          ],
          [
           "AK"
          ],
          [
           "CA"
          ],
          [
           "CA"
          ],
          [
           "CA"
          ],
          [
           "FL"
          ],
          [
           "FL"
          ],
          [
           "FL"
          ],
          [
           "WY"
          ],
          [
           "WY"
          ],
          [
           "WY"
          ],
          [
           "FL"
          ],
          [
           "FL"
          ],
          [
           "FL"
          ],
          [
           "PA"
          ],
          [
           "PA"
          ],
          [
           "PA"
          ],
          [
           "NJ"
          ],
          [
           "NJ"
          ],
          [
           "NJ"
          ],
          [
           "IA"
          ],
          [
           "IA"
          ],
          [
           "IA"
          ],
          [
           "PA"
          ],
          [
           "PA"
          ],
          [
           "PA"
          ],
          [
           "NM"
          ],
          [
           "NM"
          ],
          [
           "NM"
          ],
          [
           "NM"
          ],
          [
           "NM"
          ],
          [
           "NM"
          ],
          [
           "NY"
          ],
          [
           "NY"
          ],
          [
           "NY"
          ],
          [
           "CA"
          ],
          [
           "CA"
          ],
          [
           "CA"
          ],
          [
           "FL"
          ],
          [
           "FL"
          ],
          [
           "FL"
          ],
          [
           "NY"
          ],
          [
           "NY"
          ],
          [
           "NY"
          ],
          [
           "NY"
          ],
          [
           "NY"
          ],
          [
           "NY"
          ],
          [
           "OH"
          ],
          [
           "OH"
          ],
          [
           "OH"
          ],
          [
           "CO"
          ],
          [
           "CO"
          ],
          [
           "CO"
          ],
          [
           "PA"
          ],
          [
           "PA"
          ],
          [
           "PA"
          ],
          [
           "AZ"
          ],
          [
           "AZ"
          ],
          [
           "AZ"
          ],
          [
           "WY"
          ],
          [
           "WY"
          ],
          [
           "WY"
          ],
          [
           "TX"
          ],
          [
           "TX"
          ],
          [
           "TX"
          ],
          [
           "GA"
          ],
          [
           "GA"
          ],
          [
           "GA"
          ],
          [
           "WY"
          ],
          [
           "WY"
          ],
          [
           "WY"
          ],
          [
           "KS"
          ],
          [
           "KS"
          ],
          [
           "KS"
          ],
          [
           "FL"
          ],
          [
           "FL"
          ],
          [
           "FL"
          ],
          [
           "MD"
          ],
          [
           "MD"
          ],
          [
           "MD"
          ],
          [
           "PA"
          ],
          [
           "PA"
          ],
          [
           "PA"
          ],
          [
           "CA"
          ],
          [
           "CA"
          ],
          [
           "CA"
          ],
          [
           "GA"
          ],
          [
           "GA"
          ],
          [
           "GA"
          ],
          [
           "NC"
          ],
          [
           "NC"
          ],
          [
           "NC"
          ],
          [
           "KS"
          ],
          [
           "KS"
          ],
          [
           "KS"
          ],
          [
           "NY"
          ],
          [
           "NY"
          ],
          [
           "NY"
          ],
          [
           "SC"
          ],
          [
           "SC"
          ],
          [
           "SC"
          ],
          [
           "NM"
          ],
          [
           "NM"
          ],
          [
           "NM"
          ],
          [
           "MD"
          ],
          [
           "MD"
          ],
          [
           "MD"
          ],
          [
           "PA"
          ],
          [
           "PA"
          ],
          [
           "PA"
          ],
          [
           "MA"
          ],
          [
           "MA"
          ],
          [
           "MA"
          ],
          [
           "VA"
          ],
          [
           "VA"
          ],
          [
           "VA"
          ],
          [
           "AK"
          ],
          [
           "AK"
          ],
          [
           "AK"
          ],
          [
           "WV"
          ],
          [
           "WV"
          ],
          [
           "WV"
          ],
          [
           "NY"
          ],
          [
           "NY"
          ],
          [
           "NY"
          ],
          [
           "IN"
          ],
          [
           "IN"
          ],
          [
           "IN"
          ],
          [
           "PA"
          ],
          [
           "PA"
          ],
          [
           "PA"
          ],
          [
           "VA"
          ],
          [
           "VA"
          ],
          [
           "VA"
          ],
          [
           "NM"
          ],
          [
           "NM"
          ],
          [
           "NM"
          ],
          [
           "MT"
          ],
          [
           "MT"
          ],
          [
           "MT"
          ],
          [
           "AK"
          ],
          [
           "AK"
          ],
          [
           "AK"
          ],
          [
           "CA"
          ],
          [
           "CA"
          ],
          [
           "CA"
          ],
          [
           "NY"
          ],
          [
           "NY"
          ],
          [
           "NY"
          ],
          [
           "UT"
          ],
          [
           "UT"
          ],
          [
           "UT"
          ],
          [
           "NV"
          ],
          [
           "NV"
          ],
          [
           "NV"
          ],
          [
           "AZ"
          ],
          [
           "AZ"
          ],
          [
           "AZ"
          ],
          [
           "MD"
          ],
          [
           "MD"
          ],
          [
           "MD"
          ],
          [
           "MT"
          ],
          [
           "MT"
          ],
          [
           "MT"
          ],
          [
           "MN"
          ],
          [
           "MN"
          ],
          [
           "MN"
          ],
          [
           "CO"
          ],
          [
           "CO"
          ],
          [
           "CO"
          ],
          [
           "WY"
          ],
          [
           "WY"
          ],
          [
           "WY"
          ],
          [
           "NC"
          ],
          [
           "NC"
          ],
          [
           "NC"
          ],
          [
           "TX"
          ],
          [
           "TX"
          ],
          [
           "TX"
          ],
          [
           "MO"
          ],
          [
           "MO"
          ],
          [
           "MO"
          ],
          [
           "ID"
          ],
          [
           "ID"
          ],
          [
           "ID"
          ],
          [
           "NY"
          ],
          [
           "NY"
          ],
          [
           "NY"
          ],
          [
           "HI"
          ],
          [
           "HI"
          ],
          [
           "HI"
          ],
          [
           "MD"
          ],
          [
           "MD"
          ],
          [
           "MD"
          ],
          [
           "HI"
          ],
          [
           "HI"
          ],
          [
           "HI"
          ],
          [
           "IA"
          ],
          [
           "IA"
          ],
          [
           "IA"
          ],
          [
           "AL"
          ],
          [
           "AL"
          ],
          [
           "AL"
          ],
          [
           "OH"
          ],
          [
           "OH"
          ],
          [
           "OH"
          ],
          [
           "NY"
          ],
          [
           "NY"
          ],
          [
           "NY"
          ],
          [
           "PA"
          ],
          [
           "PA"
          ],
          [
           "PA"
          ],
          [
           "NE"
          ],
          [
           "NE"
          ],
          [
           "NE"
          ],
          [
           "AR"
          ],
          [
           "AR"
          ],
          [
           "AR"
          ],
          [
           "MO"
          ],
          [
           "MO"
          ],
          [
           "MO"
          ],
          [
           "AZ"
          ],
          [
           "AZ"
          ],
          [
           "AZ"
          ],
          [
           "PA"
          ],
          [
           "PA"
          ],
          [
           "PA"
          ],
          [
           "IN"
          ],
          [
           "IN"
          ],
          [
           "IN"
          ],
          [
           "MI"
          ],
          [
           "MI"
          ],
          [
           "MI"
          ],
          [
           "OH"
          ],
          [
           "OH"
          ],
          [
           "OH"
          ],
          [
           "LA"
          ],
          [
           "LA"
          ],
          [
           "LA"
          ],
          [
           "SD"
          ],
          [
           "SD"
          ],
          [
           "SD"
          ],
          [
           "MO"
          ],
          [
           "MO"
          ],
          [
           "MO"
          ],
          [
           "LA"
          ],
          [
           "LA"
          ],
          [
           "LA"
          ],
          [
           "GA"
          ],
          [
           "GA"
          ],
          [
           "GA"
          ],
          [
           "OR"
          ],
          [
           "OR"
          ],
          [
           "OR"
          ],
          [
           "MA"
          ],
          [
           "MA"
          ],
          [
           "MA"
          ],
          [
           "PA"
          ],
          [
           "PA"
          ],
          [
           "PA"
          ],
          [
           "CA"
          ],
          [
           "CA"
          ],
          [
           "CA"
          ],
          [
           "CA"
          ],
          [
           "CA"
          ],
          [
           "CA"
          ],
          [
           "HI"
          ],
          [
           "HI"
          ],
          [
           "HI"
          ],
          [
           "HI"
          ],
          [
           "HI"
          ],
          [
           "HI"
          ],
          [
           "AK"
          ],
          [
           "AK"
          ],
          [
           "AK"
          ],
          [
           "AK"
          ],
          [
           "AK"
          ],
          [
           "AK"
          ],
          [
           "GA"
          ],
          [
           "GA"
          ],
          [
           "GA"
          ],
          [
           "MI"
          ],
          [
           "MI"
          ],
          [
           "MI"
          ],
          [
           "SC"
          ],
          [
           "SC"
          ],
          [
           "SC"
          ],
          [
           "AK"
          ],
          [
           "AK"
          ],
          [
           "AK"
          ],
          [
           "WA"
          ],
          [
           "WA"
          ],
          [
           "WA"
          ],
          [
           "ND"
          ],
          [
           "ND"
          ],
          [
           "ND"
          ],
          [
           "AK"
          ],
          [
           "AK"
          ],
          [
           "AK"
          ],
          [
           "CA"
          ],
          [
           "CA"
          ],
          [
           "CA"
          ],
          [
           "AK"
          ],
          [
           "AK"
          ],
          [
           "AK"
          ],
          [
           "TX"
          ],
          [
           "TX"
          ],
          [
           "TX"
          ],
          [
           "WA"
          ],
          [
           "WA"
          ],
          [
           "WA"
          ],
          [
           "CA"
          ],
          [
           "CA"
          ],
          [
           "CA"
          ],
          [
           "MT"
          ],
          [
           "MT"
          ],
          [
           "MT"
          ],
          [
           "IN"
          ],
          [
           "IN"
          ],
          [
           "IN"
          ],
          [
           "IL"
          ],
          [
           "IL"
          ],
          [
           "IL"
          ],
          [
           "AL"
          ],
          [
           "AL"
          ],
          [
           "AL"
          ],
          [
           "MA"
          ],
          [
           "MA"
          ],
          [
           "MA"
          ],
          [
           "MA"
          ],
          [
           "MA"
          ],
          [
           "MA"
          ],
          [
           "TX"
          ],
          [
           "TX"
          ],
          [
           "TX"
          ],
          [
           "VT"
          ],
          [
           "VT"
          ],
          [
           "VT"
          ],
          [
           "KY"
          ],
          [
           "KY"
          ],
          [
           "KY"
          ],
          [
           "GA"
          ],
          [
           "GA"
          ],
          [
           "GA"
          ],
          [
           "VA"
          ],
          [
           "VA"
          ],
          [
           "VA"
          ],
          [
           "CA"
          ],
          [
           "CA"
          ],
          [
           "CA"
          ],
          [
           "NY"
          ],
          [
           "NY"
          ],
          [
           "NY"
          ],
          [
           "VA"
          ],
          [
           "VA"
          ],
          [
           "VA"
          ],
          [
           "CO"
          ],
          [
           "CO"
          ],
          [
           "CO"
          ],
          [
           "MA"
          ],
          [
           "MA"
          ],
          [
           "MA"
          ],
          [
           "SD"
          ],
          [
           "SD"
          ],
          [
           "SD"
          ],
          [
           "MN"
          ],
          [
           "MN"
          ],
          [
           "MN"
          ],
          [
           "AZ"
          ],
          [
           "AZ"
          ],
          [
           "AZ"
          ],
          [
           "NC"
          ],
          [
           "NC"
          ],
          [
           "NC"
          ],
          [
           "CA"
          ],
          [
           "CA"
          ],
          [
           "CA"
          ],
          [
           "MD"
          ],
          [
           "MD"
          ],
          [
           "MD"
          ],
          [
           "WA"
          ],
          [
           "WA"
          ],
          [
           "WA"
          ],
          [
           "NJ"
          ],
          [
           "NJ"
          ],
          [
           "NJ"
          ],
          [
           "SD"
          ],
          [
           "SD"
          ],
          [
           "SD"
          ],
          [
           "CA"
          ],
          [
           "CA"
          ],
          [
           "CA"
          ],
          [
           "UT"
          ],
          [
           "UT"
          ],
          [
           "UT"
          ],
          [
           "MS"
          ],
          [
           "MS"
          ],
          [
           "MS"
          ],
          [
           "AZ"
          ],
          [
           "AZ"
          ],
          [
           "AZ"
          ],
          [
           "MA"
          ],
          [
           "MA"
          ],
          [
           "MA"
          ],
          [
           "WV"
          ],
          [
           "WV"
          ],
          [
           "WV"
          ],
          [
           "KS"
          ],
          [
           "KS"
          ],
          [
           "KS"
          ],
          [
           "NE"
          ],
          [
           "NE"
          ],
          [
           "NE"
          ],
          [
           "SC"
          ],
          [
           "SC"
          ],
          [
           "SC"
          ],
          [
           "AK"
          ],
          [
           "AK"
          ],
          [
           "AK"
          ],
          [
           "WA"
          ],
          [
           "WA"
          ],
          [
           "WA"
          ],
          [
           "GA"
          ],
          [
           "GA"
          ],
          [
           "GA"
          ],
          [
           "WA"
          ],
          [
           "WA"
          ],
          [
           "WA"
          ],
          [
           "OR"
          ],
          [
           "OR"
          ],
          [
           "OR"
          ],
          [
           "AZ"
          ],
          [
           "AZ"
          ],
          [
           "AZ"
          ],
          [
           "MO"
          ],
          [
           "MO"
          ],
          [
           "MO"
          ],
          [
           "TX"
          ],
          [
           "TX"
          ],
          [
           "TX"
          ],
          [
           "NJ"
          ],
          [
           "NJ"
          ],
          [
           "NJ"
          ],
          [
           "TX"
          ],
          [
           "TX"
          ],
          [
           "TX"
          ],
          [
           "NM"
          ],
          [
           "NM"
          ],
          [
           "NM"
          ],
          [
           "AZ"
          ],
          [
           "AZ"
          ],
          [
           "AZ"
          ],
          [
           "AR"
          ],
          [
           "AR"
          ],
          [
           "AR"
          ],
          [
           "VA"
          ],
          [
           "VA"
          ],
          [
           "VA"
          ],
          [
           "NM"
          ],
          [
           "NM"
          ],
          [
           "NM"
          ],
          [
           "OH"
          ],
          [
           "OH"
          ],
          [
           "OH"
          ],
          [
           "CA"
          ],
          [
           "CA"
          ],
          [
           "CA"
          ],
          [
           "MN"
          ],
          [
           "MN"
          ],
          [
           "MN"
          ],
          [
           "MI"
          ],
          [
           "MI"
          ],
          [
           "MI"
          ],
          [
           "MD"
          ],
          [
           "MD"
          ],
          [
           "MD"
          ],
          [
           "AZ"
          ],
          [
           "AZ"
          ],
          [
           "AZ"
          ],
          [
           "CA"
          ],
          [
           "CA"
          ],
          [
           "CA"
          ],
          [
           "CA"
          ],
          [
           "CA"
          ],
          [
           "CA"
          ],
          [
           "VA"
          ],
          [
           "VA"
          ],
          [
           "VA"
          ],
          [
           "HI"
          ],
          [
           "HI"
          ],
          [
           "HI"
          ],
          [
           "HI"
          ],
          [
           "HI"
          ],
          [
           "HI"
          ],
          [
           "UT"
          ],
          [
           "UT"
          ],
          [
           "UT"
          ],
          [
           "CA"
          ],
          [
           "CA"
          ],
          [
           "CA"
          ],
          [
           "VA"
          ],
          [
           "VA"
          ],
          [
           "VA"
          ],
          [
           "TX"
          ],
          [
           "TX"
          ],
          [
           "TX"
          ],
          [
           "MI"
          ],
          [
           "MI"
          ],
          [
           "MI"
          ],
          [
           "CO"
          ],
          [
           "CO"
          ],
          [
           "CO"
          ],
          [
           "CA"
          ],
          [
           "CA"
          ],
          [
           "CA"
          ],
          [
           "RI"
          ],
          [
           "RI"
          ],
          [
           "RI"
          ],
          [
           "AL"
          ],
          [
           "AL"
          ],
          [
           "AL"
          ],
          [
           "TX"
          ],
          [
           "TX"
          ],
          [
           "TX"
          ],
          [
           "ME"
          ],
          [
           "ME"
          ],
          [
           "ME"
          ],
          [
           "CA"
          ],
          [
           "CA"
          ],
          [
           "CA"
          ],
          [
           "NH"
          ],
          [
           "NH"
          ],
          [
           "NH"
          ],
          [
           "AZ"
          ],
          [
           "AZ"
          ],
          [
           "AZ"
          ],
          [
           "NY"
          ],
          [
           "NY"
          ],
          [
           "NY"
          ],
          [
           "MA"
          ],
          [
           "MA"
          ],
          [
           "MA"
          ],
          [
           "WA"
          ],
          [
           "WA"
          ],
          [
           "WA"
          ],
          [
           "MA"
          ],
          [
           "MA"
          ],
          [
           "MA"
          ],
          [
           "CA"
          ],
          [
           "CA"
          ],
          [
           "CA"
          ],
          [
           "CO"
          ],
          [
           "CO"
          ],
          [
           "CO"
          ],
          [
           "NY"
          ],
          [
           "NY"
          ],
          [
           "NY"
          ],
          [
           "NM"
          ],
          [
           "NM"
          ],
          [
           "NM"
          ],
          [
           "NY"
          ],
          [
           "NY"
          ],
          [
           "NY"
          ],
          [
           "NE"
          ],
          [
           "NE"
          ],
          [
           "NE"
          ],
          [
           "VA"
          ],
          [
           "VA"
          ],
          [
           "VA"
          ],
          [
           "AK"
          ],
          [
           "AK"
          ],
          [
           "AK"
          ],
          [
           "MI"
          ],
          [
           "MI"
          ],
          [
           "MI"
          ],
          [
           "MA"
          ],
          [
           "MA"
          ],
          [
           "MA"
          ],
          [
           "PA"
          ],
          [
           "PA"
          ],
          [
           "PA"
          ],
          [
           "NY"
          ],
          [
           "NY"
          ],
          [
           "NY"
          ],
          [
           "NY"
          ],
          [
           "NY"
          ],
          [
           "NY"
          ],
          [
           "TN"
          ],
          [
           "TN"
          ],
          [
           "TN"
          ],
          [
           "AZ"
          ],
          [
           "AZ"
          ],
          [
           "AZ"
          ],
          [
           "KS"
          ],
          [
           "KS"
          ],
          [
           "KS"
          ],
          [
           "PA"
          ],
          [
           "PA"
          ],
          [
           "PA"
          ],
          [
           "NY"
          ],
          [
           "NY"
          ],
          [
           "NY"
          ],
          [
           "NY"
          ],
          [
           "NY"
          ],
          [
           "NY"
          ],
          [
           "ND"
          ],
          [
           "ND"
          ],
          [
           "ND"
          ],
          [
           "MD"
          ],
          [
           "MD"
          ],
          [
           "MD"
          ],
          [
           "UT"
          ],
          [
           "UT"
          ],
          [
           "UT"
          ],
          [
           "FL"
          ],
          [
           "FL"
          ],
          [
           "FL"
          ],
          [
           "AZ"
          ],
          [
           "AZ"
          ],
          [
           "AZ"
          ],
          [
           "AL"
          ],
          [
           "AL"
          ],
          [
           "AL"
          ],
          [
           "AL"
          ],
          [
           "AL"
          ],
          [
           "AL"
          ],
          [
           "AZ"
          ],
          [
           "AZ"
          ],
          [
           "AZ"
          ],
          [
           "AZ"
          ],
          [
           "AZ"
          ],
          [
           "AZ"
          ],
          [
           "MO"
          ],
          [
           "MO"
          ],
          [
           "MO"
          ],
          [
           "PA"
          ],
          [
           "PA"
          ],
          [
           "PA"
          ],
          [
           "HI"
          ],
          [
           "HI"
          ],
          [
           "HI"
          ],
          [
           "NY"
          ],
          [
           "NY"
          ],
          [
           "NY"
          ],
          [
           "MN"
          ],
          [
           "MN"
          ],
          [
           "MN"
          ],
          [
           "OK"
          ],
          [
           "OK"
          ],
          [
           "OK"
          ],
          [
           "AZ"
          ],
          [
           "AZ"
          ],
          [
           "AZ"
          ],
          [
           "TX"
          ],
          [
           "TX"
          ],
          [
           "TX"
          ],
          [
           "CT"
          ],
          [
           "CT"
          ],
          [
           "CT"
          ],
          [
           "CA"
          ],
          [
           "CA"
          ],
          [
           "CA"
          ],
          [
           "WA"
          ],
          [
           "WA"
          ],
          [
           "WA"
          ],
          [
           "NM"
          ],
          [
           "NM"
          ],
          [
           "NM"
          ],
          [
           "SD"
          ],
          [
           "SD"
          ],
          [
           "SD"
          ],
          [
           "AR"
          ],
          [
           "AR"
          ],
          [
           "AR"
          ],
          [
           "MO"
          ],
          [
           "MO"
          ],
          [
           "MO"
          ],
          [
           "OH"
          ],
          [
           "OH"
          ],
          [
           "OH"
          ],
          [
           "NY"
          ],
          [
           "NY"
          ],
          [
           "NY"
          ],
          [
           "VA"
          ],
          [
           "VA"
          ],
          [
           "VA"
          ],
          [
           "NC"
          ],
          [
           "NC"
          ],
          [
           "NC"
          ],
          [
           "AK"
          ],
          [
           "AK"
          ],
          [
           "AK"
          ],
          [
           "AZ"
          ],
          [
           "AZ"
          ],
          [
           "AZ"
          ],
          [
           "CA"
          ],
          [
           "CA"
          ],
          [
           "CA"
          ],
          [
           "AK"
          ],
          [
           "AK"
          ],
          [
           "AK"
          ],
          [
           "UT"
          ],
          [
           "UT"
          ],
          [
           "UT"
          ]
         ],
         "hoverlabel": {
          "namelength": 0
         },
         "hovertemplate": "Population=%{x}<br>Total Visitors=%{y}<br>Month=%{marker.size}<br>State Code=%{customdata[0]}",
         "legendgroup": "",
         "marker": {
          "color": "#636efa",
          "size": [
           6,
           7,
           8,
           6,
           7,
           8,
           6,
           7,
           8,
           6,
           7,
           8,
           6,
           7,
           8,
           6,
           7,
           8,
           6,
           7,
           8,
           6,
           7,
           8,
           6,
           7,
           8,
           6,
           7,
           8,
           6,
           7,
           8,
           6,
           7,
           8,
           6,
           7,
           8,
           6,
           7,
           8,
           6,
           7,
           8,
           6,
           7,
           8,
           6,
           7,
           8,
           6,
           7,
           8,
           6,
           7,
           8,
           6,
           7,
           8,
           6,
           7,
           8,
           6,
           7,
           8,
           6,
           7,
           8,
           6,
           7,
           8,
           6,
           7,
           8,
           6,
           7,
           8,
           6,
           7,
           8,
           6,
           7,
           8,
           6,
           7,
           8,
           6,
           7,
           8,
           6,
           7,
           8,
           6,
           7,
           8,
           6,
           7,
           8,
           6,
           7,
           8,
           6,
           7,
           8,
           6,
           7,
           8,
           6,
           7,
           8,
           6,
           7,
           8,
           6,
           7,
           8,
           6,
           7,
           8,
           6,
           7,
           8,
           6,
           7,
           8,
           6,
           7,
           8,
           6,
           7,
           8,
           6,
           7,
           8,
           6,
           7,
           8,
           6,
           7,
           8,
           6,
           7,
           8,
           6,
           7,
           8,
           6,
           7,
           8,
           6,
           7,
           8,
           6,
           7,
           8,
           6,
           7,
           8,
           6,
           7,
           8,
           6,
           7,
           8,
           6,
           7,
           8,
           6,
           7,
           8,
           6,
           7,
           8,
           6,
           7,
           8,
           6,
           7,
           8,
           6,
           7,
           8,
           6,
           7,
           8,
           6,
           7,
           8,
           6,
           7,
           8,
           6,
           7,
           8,
           6,
           7,
           8,
           6,
           7,
           8,
           6,
           7,
           8,
           6,
           7,
           8,
           6,
           7,
           8,
           6,
           7,
           8,
           6,
           7,
           8,
           6,
           7,
           8,
           6,
           7,
           8,
           6,
           7,
           8,
           6,
           7,
           8,
           6,
           7,
           8,
           6,
           7,
           8,
           6,
           7,
           8,
           6,
           7,
           8,
           6,
           7,
           8,
           6,
           7,
           8,
           6,
           7,
           8,
           6,
           7,
           8,
           6,
           7,
           8,
           6,
           7,
           8,
           6,
           7,
           8,
           6,
           7,
           8,
           6,
           7,
           8,
           6,
           7,
           8,
           6,
           7,
           8,
           6,
           7,
           8,
           6,
           7,
           8,
           6,
           7,
           8,
           6,
           7,
           8,
           6,
           7,
           8,
           6,
           7,
           8,
           6,
           7,
           8,
           6,
           7,
           8,
           6,
           7,
           8,
           6,
           7,
           8,
           6,
           7,
           8,
           6,
           7,
           8,
           6,
           7,
           8,
           6,
           7,
           8,
           6,
           7,
           8,
           6,
           7,
           8,
           6,
           7,
           8,
           6,
           7,
           8,
           6,
           7,
           8,
           6,
           7,
           8,
           6,
           7,
           8,
           6,
           7,
           8,
           6,
           7,
           8,
           6,
           7,
           8,
           6,
           7,
           8,
           6,
           7,
           8,
           6,
           7,
           8,
           6,
           7,
           8,
           6,
           7,
           8,
           6,
           7,
           8,
           6,
           7,
           8,
           6,
           7,
           8,
           6,
           7,
           8,
           6,
           7,
           8,
           6,
           7,
           8,
           6,
           7,
           8,
           6,
           7,
           8,
           6,
           7,
           8,
           6,
           7,
           8,
           6,
           7,
           8,
           6,
           7,
           8,
           6,
           7,
           8,
           6,
           7,
           8,
           6,
           7,
           8,
           6,
           7,
           8,
           6,
           7,
           8,
           6,
           7,
           8,
           6,
           7,
           8,
           6,
           7,
           8,
           6,
           7,
           8,
           6,
           7,
           8,
           6,
           7,
           8,
           6,
           7,
           8,
           6,
           7,
           8,
           6,
           7,
           8,
           6,
           7,
           8,
           6,
           7,
           8,
           6,
           7,
           8,
           6,
           7,
           8,
           6,
           7,
           8,
           6,
           7,
           8,
           6,
           7,
           8,
           6,
           7,
           8,
           6,
           7,
           8,
           6,
           7,
           8,
           6,
           7,
           8,
           6,
           7,
           8,
           6,
           7,
           8,
           6,
           7,
           8,
           6,
           7,
           8,
           6,
           7,
           8,
           6,
           7,
           8,
           6,
           7,
           8,
           6,
           7,
           8,
           6,
           7,
           8,
           6,
           7,
           8,
           6,
           7,
           8,
           6,
           7,
           8,
           6,
           7,
           8,
           6,
           7,
           8,
           6,
           7,
           8,
           6,
           7,
           8,
           6,
           7,
           8,
           6,
           7,
           8,
           6,
           7,
           8,
           6,
           7,
           8,
           6,
           7,
           8,
           6,
           7,
           8,
           6,
           7,
           8,
           6,
           7,
           8,
           6,
           7,
           8,
           6,
           7,
           8,
           6,
           7,
           8,
           6,
           7,
           8,
           6,
           7,
           8,
           6,
           7,
           8,
           6,
           7,
           8,
           6,
           7,
           8,
           6,
           7,
           8,
           6,
           7,
           8,
           6,
           7,
           8,
           6,
           7,
           8,
           6,
           7,
           8,
           6,
           7,
           8,
           6,
           7,
           8,
           6,
           7,
           8,
           6,
           7,
           8,
           6,
           7,
           8,
           6,
           7,
           8,
           6,
           7,
           8,
           6,
           7,
           8,
           6,
           7,
           8,
           6,
           7,
           8,
           6,
           7,
           8,
           6,
           7,
           8,
           6,
           7,
           8,
           6,
           7,
           8,
           6,
           7,
           8,
           6,
           7,
           8,
           6,
           7,
           8,
           6,
           7,
           8,
           6,
           7,
           8,
           6,
           7,
           8,
           6,
           7,
           8,
           6,
           7,
           8,
           6,
           7,
           8,
           6,
           7,
           8,
           6,
           7,
           8,
           6,
           7,
           8,
           6,
           7,
           8,
           6,
           7,
           8,
           6,
           7,
           8,
           6,
           7,
           8,
           6,
           7,
           8,
           6,
           7,
           8,
           6,
           7,
           8,
           6,
           7,
           8,
           6,
           7,
           8,
           6,
           7,
           8,
           6,
           7,
           8,
           6,
           7,
           8,
           6,
           7,
           8,
           6,
           7,
           8,
           6,
           7,
           8,
           6,
           7,
           8,
           6,
           7,
           8,
           6,
           7,
           8,
           6,
           7,
           8,
           6,
           7,
           8,
           6,
           7,
           8,
           6,
           7,
           8,
           6,
           7,
           8,
           6,
           7,
           8,
           6,
           7,
           8,
           6,
           7,
           8,
           6,
           7,
           8,
           6,
           7,
           8,
           6,
           7,
           8,
           6,
           7,
           8,
           6,
           7,
           8,
           6,
           7,
           8,
           6,
           7,
           8,
           6,
           7,
           8,
           6,
           7,
           8,
           6,
           7,
           8,
           6,
           7,
           8,
           6,
           7,
           8,
           6,
           7,
           8,
           6,
           7,
           8,
           6,
           7,
           8,
           6,
           7,
           8,
           6,
           7,
           8,
           6,
           7,
           8,
           6,
           7,
           8,
           6,
           7,
           8,
           6,
           7,
           8,
           6,
           7,
           8,
           6,
           7,
           8,
           6,
           7,
           8,
           6,
           7,
           8,
           6,
           7,
           8,
           6,
           7,
           8,
           6,
           7,
           8,
           6,
           7,
           8,
           6,
           7,
           8,
           6,
           7,
           8,
           6,
           7,
           8,
           6,
           7,
           8,
           6,
           7,
           8,
           6,
           7,
           8,
           6,
           7,
           8,
           6,
           7,
           8,
           6,
           7,
           8,
           6,
           7,
           8,
           6,
           7,
           8,
           6,
           7,
           8,
           6,
           7,
           8,
           6,
           7,
           8,
           6,
           7,
           8,
           6,
           7,
           8,
           6,
           7,
           8,
           6,
           7,
           8,
           6,
           7,
           8,
           6,
           7,
           8,
           6,
           7,
           8,
           6,
           7,
           8,
           6,
           7,
           8,
           6,
           7,
           8,
           6,
           7,
           8,
           6,
           7,
           8,
           6,
           7,
           8,
           6,
           7,
           8,
           6,
           7,
           8,
           6,
           7,
           8,
           6,
           7,
           8,
           6,
           7,
           8,
           6,
           7,
           8,
           6,
           7,
           8,
           6,
           7,
           8,
           6,
           7,
           8
          ],
          "sizemode": "area",
          "sizeref": 0.02,
          "symbol": "circle"
         },
         "mode": "markers",
         "name": "",
         "showlegend": false,
         "type": "scatter",
         "x": [
          4424376,
          4424376,
          4424376,
          1330158,
          1330158,
          1330158,
          6789319,
          6789319,
          6789319,
          19798228,
          19798228,
          19798228,
          1893921,
          1893921,
          1893921,
          27419612,
          27419612,
          27419612,
          12790505,
          12790505,
          12790505,
          27419612,
          27419612,
          27419612,
          10201635,
          10201635,
          10201635,
          738565,
          738565,
          738565,
          6597381,
          6597381,
          6597381,
          5996079,
          5996079,
          5996079,
          8365952,
          8365952,
          8365952,
          5763217,
          5763217,
          5763217,
          2993941,
          2993941,
          2993941,
          8365952,
          8365952,
          8365952,
          2977944,
          2977944,
          2977944,
          2084828,
          2084828,
          2084828,
          855444,
          855444,
          855444,
          2084828,
          2084828,
          2084828,
          738565,
          738565,
          738565,
          5436519,
          5436519,
          5436519,
          27419612,
          27419612,
          27419612,
          20278447,
          20278447,
          20278447,
          1029862,
          1029862,
          1029862,
          20278447,
          20278447,
          20278447,
          27419612,
          27419612,
          27419612,
          5436519,
          5436519,
          5436519,
          1836843,
          1836843,
          1836843,
          6789319,
          6789319,
          6789319,
          6789319,
          6789319,
          6789319,
          8365952,
          8365952,
          8365952,
          2993941,
          2993941,
          2993941,
          2903820,
          2903820,
          2903820,
          2977944,
          2977944,
          2977944,
          38982847,
          38982847,
          38982847,
          6809946,
          6809946,
          6809946,
          19798228,
          19798228,
          19798228,
          6789319,
          6789319,
          6789319,
          6809946,
          6809946,
          6809946,
          10052564,
          10052564,
          10052564,
          738565,
          738565,
          738565,
          10052564,
          10052564,
          10052564,
          20278447,
          20278447,
          20278447,
          2993941,
          2993941,
          2993941,
          2993941,
          2993941,
          2993941,
          4663461,
          4663461,
          4663461,
          10052564,
          10052564,
          10052564,
          20278447,
          20278447,
          20278447,
          5996079,
          5996079,
          5996079,
          2084828,
          2084828,
          2084828,
          2084828,
          2084828,
          2084828,
          2993941,
          2993941,
          2993941,
          38982847,
          38982847,
          38982847,
          27419612,
          27419612,
          27419612,
          10201635,
          10201635,
          10201635,
          2084828,
          2084828,
          2084828,
          3896251,
          3896251,
          3896251,
          6809946,
          6809946,
          6809946,
          38982847,
          38982847,
          38982847,
          4893444,
          4893444,
          4893444,
          2977944,
          2977944,
          2977944,
          11609756,
          11609756,
          11609756,
          1657375,
          1657375,
          1657375,
          5996079,
          5996079,
          5996079,
          5436519,
          5436519,
          5436519,
          8365952,
          8365952,
          8365952,
          4893444,
          4893444,
          4893444,
          6809946,
          6809946,
          6809946,
          4893444,
          4893444,
          4893444,
          4025127,
          4025127,
          4025127,
          1657375,
          1657375,
          1657375,
          10201635,
          10201635,
          10201635,
          5436519,
          5436519,
          5436519,
          11609756,
          11609756,
          11609756,
          11609756,
          11609756,
          11609756,
          738565,
          738565,
          738565,
          38982847,
          38982847,
          38982847,
          20278447,
          20278447,
          20278447,
          583200,
          583200,
          583200,
          20278447,
          20278447,
          20278447,
          12790505,
          12790505,
          12790505,
          8960161,
          8960161,
          8960161,
          3118102,
          3118102,
          3118102,
          12790505,
          12790505,
          12790505,
          2084828,
          2084828,
          2084828,
          2084828,
          2084828,
          2084828,
          19798228,
          19798228,
          19798228,
          38982847,
          38982847,
          38982847,
          20278447,
          20278447,
          20278447,
          19798228,
          19798228,
          19798228,
          19798228,
          19798228,
          19798228,
          11609756,
          11609756,
          11609756,
          5436519,
          5436519,
          5436519,
          12790505,
          12790505,
          12790505,
          6809946,
          6809946,
          6809946,
          583200,
          583200,
          583200,
          27419612,
          27419612,
          27419612,
          10201635,
          10201635,
          10201635,
          583200,
          583200,
          583200,
          2903820,
          2903820,
          2903820,
          20278447,
          20278447,
          20278447,
          5996079,
          5996079,
          5996079,
          12790505,
          12790505,
          12790505,
          38982847,
          38982847,
          38982847,
          10201635,
          10201635,
          10201635,
          10052564,
          10052564,
          10052564,
          2903820,
          2903820,
          2903820,
          19798228,
          19798228,
          19798228,
          4893444,
          4893444,
          4893444,
          2084828,
          2084828,
          2084828,
          5996079,
          5996079,
          5996079,
          12790505,
          12790505,
          12790505,
          6789319,
          6789319,
          6789319,
          8365952,
          8365952,
          8365952,
          738565,
          738565,
          738565,
          1836843,
          1836843,
          1836843,
          19798228,
          19798228,
          19798228,
          6614418,
          6614418,
          6614418,
          12790505,
          12790505,
          12790505,
          8365952,
          8365952,
          8365952,
          2084828,
          2084828,
          2084828,
          1029862,
          1029862,
          1029862,
          738565,
          738565,
          738565,
          38982847,
          38982847,
          38982847,
          19798228,
          19798228,
          19798228,
          2993941,
          2993941,
          2993941,
          2887725,
          2887725,
          2887725,
          6809946,
          6809946,
          6809946,
          5996079,
          5996079,
          5996079,
          1029862,
          1029862,
          1029862,
          5490726,
          5490726,
          5490726,
          5436519,
          5436519,
          5436519,
          583200,
          583200,
          583200,
          10052564,
          10052564,
          10052564,
          27419612,
          27419612,
          27419612,
          6075300,
          6075300,
          6075300,
          1657375,
          1657375,
          1657375,
          19798228,
          19798228,
          19798228,
          1421658,
          1421658,
          1421658,
          5996079,
          5996079,
          5996079,
          1421658,
          1421658,
          1421658,
          3118102,
          3118102,
          3118102,
          4850771,
          4850771,
          4850771,
          11609756,
          11609756,
          11609756,
          19798228,
          19798228,
          19798228,
          12790505,
          12790505,
          12790505,
          1893921,
          1893921,
          1893921,
          2977944,
          2977944,
          2977944,
          6075300,
          6075300,
          6075300,
          6809946,
          6809946,
          6809946,
          12790505,
          12790505,
          12790505,
          6614418,
          6614418,
          6614418,
          9925568,
          9925568,
          9925568,
          11609756,
          11609756,
          11609756,
          4663461,
          4663461,
          4663461,
          855444,
          855444,
          855444,
          6075300,
          6075300,
          6075300,
          4663461,
          4663461,
          4663461,
          10201635,
          10201635,
          10201635,
          4025127,
          4025127,
          4025127,
          6789319,
          6789319,
          6789319,
          12790505,
          12790505,
          12790505,
          38982847,
          38982847,
          38982847,
          38982847,
          38982847,
          38982847,
          1421658,
          1421658,
          1421658,
          1421658,
          1421658,
          1421658,
          738565,
          738565,
          738565,
          738565,
          738565,
          738565,
          10201635,
          10201635,
          10201635,
          9925568,
          9925568,
          9925568,
          4893444,
          4893444,
          4893444,
          738565,
          738565,
          738565,
          7169967,
          7169967,
          7169967,
          745475,
          745475,
          745475,
          738565,
          738565,
          738565,
          38982847,
          38982847,
          38982847,
          738565,
          738565,
          738565,
          27419612,
          27419612,
          27419612,
          7169967,
          7169967,
          7169967,
          38982847,
          38982847,
          38982847,
          1029862,
          1029862,
          1029862,
          6614418,
          6614418,
          6614418,
          12854526,
          12854526,
          12854526,
          4850771,
          4850771,
          4850771,
          6789319,
          6789319,
          6789319,
          6789319,
          6789319,
          6789319,
          27419612,
          27419612,
          27419612,
          624636,
          624636,
          624636,
          4424376,
          4424376,
          4424376,
          10201635,
          10201635,
          10201635,
          8365952,
          8365952,
          8365952,
          38982847,
          38982847,
          38982847,
          19798228,
          19798228,
          19798228,
          8365952,
          8365952,
          8365952,
          5436519,
          5436519,
          5436519,
          6789319,
          6789319,
          6789319,
          855444,
          855444,
          855444,
          5490726,
          5490726,
          5490726,
          6809946,
          6809946,
          6809946,
          10052564,
          10052564,
          10052564,
          38982847,
          38982847,
          38982847,
          5996079,
          5996079,
          5996079,
          7169967,
          7169967,
          7169967,
          8960161,
          8960161,
          8960161,
          855444,
          855444,
          855444,
          38982847,
          38982847,
          38982847,
          2993941,
          2993941,
          2993941,
          2986220,
          2986220,
          2986220,
          6809946,
          6809946,
          6809946,
          6789319,
          6789319,
          6789319,
          1836843,
          1836843,
          1836843,
          2903820,
          2903820,
          2903820,
          1893921,
          1893921,
          1893921,
          4893444,
          4893444,
          4893444,
          738565,
          738565,
          738565,
          7169967,
          7169967,
          7169967,
          10201635,
          10201635,
          10201635,
          7169967,
          7169967,
          7169967,
          4025127,
          4025127,
          4025127,
          6809946,
          6809946,
          6809946,
          6075300,
          6075300,
          6075300,
          27419612,
          27419612,
          27419612,
          8960161,
          8960161,
          8960161,
          27419612,
          27419612,
          27419612,
          2084828,
          2084828,
          2084828,
          6809946,
          6809946,
          6809946,
          2977944,
          2977944,
          2977944,
          8365952,
          8365952,
          8365952,
          2084828,
          2084828,
          2084828,
          11609756,
          11609756,
          11609756,
          38982847,
          38982847,
          38982847,
          5490726,
          5490726,
          5490726,
          9925568,
          9925568,
          9925568,
          5996079,
          5996079,
          5996079,
          6809946,
          6809946,
          6809946,
          38982847,
          38982847,
          38982847,
          38982847,
          38982847,
          38982847,
          8365952,
          8365952,
          8365952,
          1421658,
          1421658,
          1421658,
          1421658,
          1421658,
          1421658,
          2993941,
          2993941,
          2993941,
          38982847,
          38982847,
          38982847,
          8365952,
          8365952,
          8365952,
          27419612,
          27419612,
          27419612,
          9925568,
          9925568,
          9925568,
          5436519,
          5436519,
          5436519,
          38982847,
          38982847,
          38982847,
          1056138,
          1056138,
          1056138,
          4850771,
          4850771,
          4850771,
          27419612,
          27419612,
          27419612,
          1330158,
          1330158,
          1330158,
          38982847,
          38982847,
          38982847,
          1331848,
          1331848,
          1331848,
          6809946,
          6809946,
          6809946,
          19798228,
          19798228,
          19798228,
          6789319,
          6789319,
          6789319,
          7169967,
          7169967,
          7169967,
          6789319,
          6789319,
          6789319,
          38982847,
          38982847,
          38982847,
          5436519,
          5436519,
          5436519,
          19798228,
          19798228,
          19798228,
          2084828,
          2084828,
          2084828,
          19798228,
          19798228,
          19798228,
          1893921,
          1893921,
          1893921,
          8365952,
          8365952,
          8365952,
          738565,
          738565,
          738565,
          9925568,
          9925568,
          9925568,
          6789319,
          6789319,
          6789319,
          12790505,
          12790505,
          12790505,
          19798228,
          19798228,
          19798228,
          19798228,
          19798228,
          19798228,
          6597381,
          6597381,
          6597381,
          6809946,
          6809946,
          6809946,
          2903820,
          2903820,
          2903820,
          12790505,
          12790505,
          12790505,
          19798228,
          19798228,
          19798228,
          19798228,
          19798228,
          19798228,
          745475,
          745475,
          745475,
          5996079,
          5996079,
          5996079,
          2993941,
          2993941,
          2993941,
          20278447,
          20278447,
          20278447,
          6809946,
          6809946,
          6809946,
          4850771,
          4850771,
          4850771,
          4850771,
          4850771,
          4850771,
          6809946,
          6809946,
          6809946,
          6809946,
          6809946,
          6809946,
          6075300,
          6075300,
          6075300,
          12790505,
          12790505,
          12790505,
          1421658,
          1421658,
          1421658,
          19798228,
          19798228,
          19798228,
          5490726,
          5490726,
          5490726,
          3896251,
          3896251,
          3896251,
          6809946,
          6809946,
          6809946,
          27419612,
          27419612,
          27419612,
          3594478,
          3594478,
          3594478,
          38982847,
          38982847,
          38982847,
          7169967,
          7169967,
          7169967,
          2084828,
          2084828,
          2084828,
          855444,
          855444,
          855444,
          2977944,
          2977944,
          2977944,
          6075300,
          6075300,
          6075300,
          11609756,
          11609756,
          11609756,
          19798228,
          19798228,
          19798228,
          8365952,
          8365952,
          8365952,
          10052564,
          10052564,
          10052564,
          738565,
          738565,
          738565,
          6809946,
          6809946,
          6809946,
          38982847,
          38982847,
          38982847,
          738565,
          738565,
          738565,
          2993941,
          2993941,
          2993941
         ],
         "xaxis": "x",
         "y": [
          40206974,
          43357526,
          39287542,
          40206974,
          43357526,
          39287542,
          40206974,
          43357526,
          39287542,
          40206974,
          43357526,
          39287542,
          40206974,
          43357526,
          39287542,
          40206974,
          43357526,
          39287542,
          40206974,
          43357526,
          39287542,
          40206974,
          43357526,
          39287542,
          40206974,
          43357526,
          39287542,
          40206974,
          43357526,
          39287542,
          40206974,
          43357526,
          39287542,
          40206974,
          43357526,
          39287542,
          40206974,
          43357526,
          39287542,
          40206974,
          43357526,
          39287542,
          40206974,
          43357526,
          39287542,
          40206974,
          43357526,
          39287542,
          40206974,
          43357526,
          39287542,
          40206974,
          43357526,
          39287542,
          40206974,
          43357526,
          39287542,
          40206974,
          43357526,
          39287542,
          40206974,
          43357526,
          39287542,
          40206974,
          43357526,
          39287542,
          40206974,
          43357526,
          39287542,
          40206974,
          43357526,
          39287542,
          40206974,
          43357526,
          39287542,
          40206974,
          43357526,
          39287542,
          40206974,
          43357526,
          39287542,
          40206974,
          43357526,
          39287542,
          40206974,
          43357526,
          39287542,
          40206974,
          43357526,
          39287542,
          40206974,
          43357526,
          39287542,
          40206974,
          43357526,
          39287542,
          40206974,
          43357526,
          39287542,
          40206974,
          43357526,
          39287542,
          40206974,
          43357526,
          39287542,
          40206974,
          43357526,
          39287542,
          40206974,
          43357526,
          39287542,
          40206974,
          43357526,
          39287542,
          40206974,
          43357526,
          39287542,
          40206974,
          43357526,
          39287542,
          40206974,
          43357526,
          39287542,
          40206974,
          43357526,
          39287542,
          40206974,
          43357526,
          39287542,
          40206974,
          43357526,
          39287542,
          40206974,
          43357526,
          39287542,
          40206974,
          43357526,
          39287542,
          40206974,
          43357526,
          39287542,
          40206974,
          43357526,
          39287542,
          40206974,
          43357526,
          39287542,
          40206974,
          43357526,
          39287542,
          40206974,
          43357526,
          39287542,
          40206974,
          43357526,
          39287542,
          40206974,
          43357526,
          39287542,
          40206974,
          43357526,
          39287542,
          40206974,
          43357526,
          39287542,
          40206974,
          43357526,
          39287542,
          40206974,
          43357526,
          39287542,
          40206974,
          43357526,
          39287542,
          40206974,
          43357526,
          39287542,
          40206974,
          43357526,
          39287542,
          40206974,
          43357526,
          39287542,
          40206974,
          43357526,
          39287542,
          40206974,
          43357526,
          39287542,
          40206974,
          43357526,
          39287542,
          40206974,
          43357526,
          39287542,
          40206974,
          43357526,
          39287542,
          40206974,
          43357526,
          39287542,
          40206974,
          43357526,
          39287542,
          40206974,
          43357526,
          39287542,
          40206974,
          43357526,
          39287542,
          40206974,
          43357526,
          39287542,
          40206974,
          43357526,
          39287542,
          40206974,
          43357526,
          39287542,
          40206974,
          43357526,
          39287542,
          40206974,
          43357526,
          39287542,
          40206974,
          43357526,
          39287542,
          40206974,
          43357526,
          39287542,
          40206974,
          43357526,
          39287542,
          40206974,
          43357526,
          39287542,
          40206974,
          43357526,
          39287542,
          40206974,
          43357526,
          39287542,
          40206974,
          43357526,
          39287542,
          40206974,
          43357526,
          39287542,
          40206974,
          43357526,
          39287542,
          40206974,
          43357526,
          39287542,
          40206974,
          43357526,
          39287542,
          40206974,
          43357526,
          39287542,
          40206974,
          43357526,
          39287542,
          40206974,
          43357526,
          39287542,
          40206974,
          43357526,
          39287542,
          40206974,
          43357526,
          39287542,
          40206974,
          43357526,
          39287542,
          40206974,
          43357526,
          39287542,
          40206974,
          43357526,
          39287542,
          40206974,
          43357526,
          39287542,
          40206974,
          43357526,
          39287542,
          40206974,
          43357526,
          39287542,
          40206974,
          43357526,
          39287542,
          40206974,
          43357526,
          39287542,
          40206974,
          43357526,
          39287542,
          40206974,
          43357526,
          39287542,
          40206974,
          43357526,
          39287542,
          40206974,
          43357526,
          39287542,
          40206974,
          43357526,
          39287542,
          40206974,
          43357526,
          39287542,
          40206974,
          43357526,
          39287542,
          40206974,
          43357526,
          39287542,
          40206974,
          43357526,
          39287542,
          40206974,
          43357526,
          39287542,
          40206974,
          43357526,
          39287542,
          40206974,
          43357526,
          39287542,
          40206974,
          43357526,
          39287542,
          40206974,
          43357526,
          39287542,
          40206974,
          43357526,
          39287542,
          40206974,
          43357526,
          39287542,
          40206974,
          43357526,
          39287542,
          40206974,
          43357526,
          39287542,
          40206974,
          43357526,
          39287542,
          40206974,
          43357526,
          39287542,
          40206974,
          43357526,
          39287542,
          40206974,
          43357526,
          39287542,
          40206974,
          43357526,
          39287542,
          40206974,
          43357526,
          39287542,
          40206974,
          43357526,
          39287542,
          40206974,
          43357526,
          39287542,
          40206974,
          43357526,
          39287542,
          40206974,
          43357526,
          39287542,
          40206974,
          43357526,
          39287542,
          40206974,
          43357526,
          39287542,
          40206974,
          43357526,
          39287542,
          40206974,
          43357526,
          39287542,
          40206974,
          43357526,
          39287542,
          40206974,
          43357526,
          39287542,
          40206974,
          43357526,
          39287542,
          40206974,
          43357526,
          39287542,
          40206974,
          43357526,
          39287542,
          40206974,
          43357526,
          39287542,
          40206974,
          43357526,
          39287542,
          40206974,
          43357526,
          39287542,
          40206974,
          43357526,
          39287542,
          40206974,
          43357526,
          39287542,
          40206974,
          43357526,
          39287542,
          40206974,
          43357526,
          39287542,
          40206974,
          43357526,
          39287542,
          40206974,
          43357526,
          39287542,
          40206974,
          43357526,
          39287542,
          40206974,
          43357526,
          39287542,
          40206974,
          43357526,
          39287542,
          40206974,
          43357526,
          39287542,
          40206974,
          43357526,
          39287542,
          40206974,
          43357526,
          39287542,
          40206974,
          43357526,
          39287542,
          40206974,
          43357526,
          39287542,
          40206974,
          43357526,
          39287542,
          40206974,
          43357526,
          39287542,
          40206974,
          43357526,
          39287542,
          40206974,
          43357526,
          39287542,
          40206974,
          43357526,
          39287542,
          40206974,
          43357526,
          39287542,
          40206974,
          43357526,
          39287542,
          40206974,
          43357526,
          39287542,
          40206974,
          43357526,
          39287542,
          40206974,
          43357526,
          39287542,
          40206974,
          43357526,
          39287542,
          40206974,
          43357526,
          39287542,
          40206974,
          43357526,
          39287542,
          40206974,
          43357526,
          39287542,
          40206974,
          43357526,
          39287542,
          40206974,
          43357526,
          39287542,
          40206974,
          43357526,
          39287542,
          40206974,
          43357526,
          39287542,
          40206974,
          43357526,
          39287542,
          40206974,
          43357526,
          39287542,
          40206974,
          43357526,
          39287542,
          40206974,
          43357526,
          39287542,
          40206974,
          43357526,
          39287542,
          40206974,
          43357526,
          39287542,
          40206974,
          43357526,
          39287542,
          40206974,
          43357526,
          39287542,
          40206974,
          43357526,
          39287542,
          40206974,
          43357526,
          39287542,
          40206974,
          43357526,
          39287542,
          40206974,
          43357526,
          39287542,
          40206974,
          43357526,
          39287542,
          40206974,
          43357526,
          39287542,
          40206974,
          43357526,
          39287542,
          40206974,
          43357526,
          39287542,
          40206974,
          43357526,
          39287542,
          40206974,
          43357526,
          39287542,
          40206974,
          43357526,
          39287542,
          40206974,
          43357526,
          39287542,
          40206974,
          43357526,
          39287542,
          40206974,
          43357526,
          39287542,
          40206974,
          43357526,
          39287542,
          40206974,
          43357526,
          39287542,
          40206974,
          43357526,
          39287542,
          40206974,
          43357526,
          39287542,
          40206974,
          43357526,
          39287542,
          40206974,
          43357526,
          39287542,
          40206974,
          43357526,
          39287542,
          40206974,
          43357526,
          39287542,
          40206974,
          43357526,
          39287542,
          40206974,
          43357526,
          39287542,
          40206974,
          43357526,
          39287542,
          40206974,
          43357526,
          39287542,
          40206974,
          43357526,
          39287542,
          40206974,
          43357526,
          39287542,
          40206974,
          43357526,
          39287542,
          40206974,
          43357526,
          39287542,
          40206974,
          43357526,
          39287542,
          40206974,
          43357526,
          39287542,
          40206974,
          43357526,
          39287542,
          40206974,
          43357526,
          39287542,
          40206974,
          43357526,
          39287542,
          40206974,
          43357526,
          39287542,
          40206974,
          43357526,
          39287542,
          40206974,
          43357526,
          39287542,
          40206974,
          43357526,
          39287542,
          40206974,
          43357526,
          39287542,
          40206974,
          43357526,
          39287542,
          40206974,
          43357526,
          39287542,
          40206974,
          43357526,
          39287542,
          40206974,
          43357526,
          39287542,
          40206974,
          43357526,
          39287542,
          40206974,
          43357526,
          39287542,
          40206974,
          43357526,
          39287542,
          40206974,
          43357526,
          39287542,
          40206974,
          43357526,
          39287542,
          40206974,
          43357526,
          39287542,
          40206974,
          43357526,
          39287542,
          40206974,
          43357526,
          39287542,
          40206974,
          43357526,
          39287542,
          40206974,
          43357526,
          39287542,
          40206974,
          43357526,
          39287542,
          40206974,
          43357526,
          39287542,
          40206974,
          43357526,
          39287542,
          40206974,
          43357526,
          39287542,
          40206974,
          43357526,
          39287542,
          40206974,
          43357526,
          39287542,
          40206974,
          43357526,
          39287542,
          40206974,
          43357526,
          39287542,
          40206974,
          43357526,
          39287542,
          40206974,
          43357526,
          39287542,
          40206974,
          43357526,
          39287542,
          40206974,
          43357526,
          39287542,
          40206974,
          43357526,
          39287542,
          40206974,
          43357526,
          39287542,
          40206974,
          43357526,
          39287542,
          40206974,
          43357526,
          39287542,
          40206974,
          43357526,
          39287542,
          40206974,
          43357526,
          39287542,
          40206974,
          43357526,
          39287542,
          40206974,
          43357526,
          39287542,
          40206974,
          43357526,
          39287542,
          40206974,
          43357526,
          39287542,
          40206974,
          43357526,
          39287542,
          40206974,
          43357526,
          39287542,
          40206974,
          43357526,
          39287542,
          40206974,
          43357526,
          39287542,
          40206974,
          43357526,
          39287542,
          40206974,
          43357526,
          39287542,
          40206974,
          43357526,
          39287542,
          40206974,
          43357526,
          39287542,
          40206974,
          43357526,
          39287542,
          40206974,
          43357526,
          39287542,
          40206974,
          43357526,
          39287542,
          40206974,
          43357526,
          39287542,
          40206974,
          43357526,
          39287542,
          40206974,
          43357526,
          39287542,
          40206974,
          43357526,
          39287542,
          40206974,
          43357526,
          39287542,
          40206974,
          43357526,
          39287542,
          40206974,
          43357526,
          39287542,
          40206974,
          43357526,
          39287542,
          40206974,
          43357526,
          39287542,
          40206974,
          43357526,
          39287542,
          40206974,
          43357526,
          39287542,
          40206974,
          43357526,
          39287542,
          40206974,
          43357526,
          39287542,
          40206974,
          43357526,
          39287542,
          40206974,
          43357526,
          39287542,
          40206974,
          43357526,
          39287542,
          40206974,
          43357526,
          39287542,
          40206974,
          43357526,
          39287542,
          40206974,
          43357526,
          39287542,
          40206974,
          43357526,
          39287542,
          40206974,
          43357526,
          39287542,
          40206974,
          43357526,
          39287542,
          40206974,
          43357526,
          39287542,
          40206974,
          43357526,
          39287542,
          40206974,
          43357526,
          39287542,
          40206974,
          43357526,
          39287542,
          40206974,
          43357526,
          39287542,
          40206974,
          43357526,
          39287542,
          40206974,
          43357526,
          39287542,
          40206974,
          43357526,
          39287542,
          40206974,
          43357526,
          39287542,
          40206974,
          43357526,
          39287542,
          40206974,
          43357526,
          39287542,
          40206974,
          43357526,
          39287542,
          40206974,
          43357526,
          39287542,
          40206974,
          43357526,
          39287542,
          40206974,
          43357526,
          39287542,
          40206974,
          43357526,
          39287542,
          40206974,
          43357526,
          39287542,
          40206974,
          43357526,
          39287542,
          40206974,
          43357526,
          39287542,
          40206974,
          43357526,
          39287542,
          40206974,
          43357526,
          39287542,
          40206974,
          43357526,
          39287542,
          40206974,
          43357526,
          39287542
         ],
         "yaxis": "y"
        }
       ],
       "layout": {
        "legend": {
         "itemsizing": "constant",
         "tracegroupgap": 0
        },
        "margin": {
         "t": 60
        },
        "template": {
         "data": {
          "bar": [
           {
            "error_x": {
             "color": "#2a3f5f"
            },
            "error_y": {
             "color": "#2a3f5f"
            },
            "marker": {
             "line": {
              "color": "#E5ECF6",
              "width": 0.5
             }
            },
            "type": "bar"
           }
          ],
          "barpolar": [
           {
            "marker": {
             "line": {
              "color": "#E5ECF6",
              "width": 0.5
             }
            },
            "type": "barpolar"
           }
          ],
          "carpet": [
           {
            "aaxis": {
             "endlinecolor": "#2a3f5f",
             "gridcolor": "white",
             "linecolor": "white",
             "minorgridcolor": "white",
             "startlinecolor": "#2a3f5f"
            },
            "baxis": {
             "endlinecolor": "#2a3f5f",
             "gridcolor": "white",
             "linecolor": "white",
             "minorgridcolor": "white",
             "startlinecolor": "#2a3f5f"
            },
            "type": "carpet"
           }
          ],
          "choropleth": [
           {
            "colorbar": {
             "outlinewidth": 0,
             "ticks": ""
            },
            "type": "choropleth"
           }
          ],
          "contour": [
           {
            "colorbar": {
             "outlinewidth": 0,
             "ticks": ""
            },
            "colorscale": [
             [
              0,
              "#0d0887"
             ],
             [
              0.1111111111111111,
              "#46039f"
             ],
             [
              0.2222222222222222,
              "#7201a8"
             ],
             [
              0.3333333333333333,
              "#9c179e"
             ],
             [
              0.4444444444444444,
              "#bd3786"
             ],
             [
              0.5555555555555556,
              "#d8576b"
             ],
             [
              0.6666666666666666,
              "#ed7953"
             ],
             [
              0.7777777777777778,
              "#fb9f3a"
             ],
             [
              0.8888888888888888,
              "#fdca26"
             ],
             [
              1,
              "#f0f921"
             ]
            ],
            "type": "contour"
           }
          ],
          "contourcarpet": [
           {
            "colorbar": {
             "outlinewidth": 0,
             "ticks": ""
            },
            "type": "contourcarpet"
           }
          ],
          "heatmap": [
           {
            "colorbar": {
             "outlinewidth": 0,
             "ticks": ""
            },
            "colorscale": [
             [
              0,
              "#0d0887"
             ],
             [
              0.1111111111111111,
              "#46039f"
             ],
             [
              0.2222222222222222,
              "#7201a8"
             ],
             [
              0.3333333333333333,
              "#9c179e"
             ],
             [
              0.4444444444444444,
              "#bd3786"
             ],
             [
              0.5555555555555556,
              "#d8576b"
             ],
             [
              0.6666666666666666,
              "#ed7953"
             ],
             [
              0.7777777777777778,
              "#fb9f3a"
             ],
             [
              0.8888888888888888,
              "#fdca26"
             ],
             [
              1,
              "#f0f921"
             ]
            ],
            "type": "heatmap"
           }
          ],
          "heatmapgl": [
           {
            "colorbar": {
             "outlinewidth": 0,
             "ticks": ""
            },
            "colorscale": [
             [
              0,
              "#0d0887"
             ],
             [
              0.1111111111111111,
              "#46039f"
             ],
             [
              0.2222222222222222,
              "#7201a8"
             ],
             [
              0.3333333333333333,
              "#9c179e"
             ],
             [
              0.4444444444444444,
              "#bd3786"
             ],
             [
              0.5555555555555556,
              "#d8576b"
             ],
             [
              0.6666666666666666,
              "#ed7953"
             ],
             [
              0.7777777777777778,
              "#fb9f3a"
             ],
             [
              0.8888888888888888,
              "#fdca26"
             ],
             [
              1,
              "#f0f921"
             ]
            ],
            "type": "heatmapgl"
           }
          ],
          "histogram": [
           {
            "marker": {
             "colorbar": {
              "outlinewidth": 0,
              "ticks": ""
             }
            },
            "type": "histogram"
           }
          ],
          "histogram2d": [
           {
            "colorbar": {
             "outlinewidth": 0,
             "ticks": ""
            },
            "colorscale": [
             [
              0,
              "#0d0887"
             ],
             [
              0.1111111111111111,
              "#46039f"
             ],
             [
              0.2222222222222222,
              "#7201a8"
             ],
             [
              0.3333333333333333,
              "#9c179e"
             ],
             [
              0.4444444444444444,
              "#bd3786"
             ],
             [
              0.5555555555555556,
              "#d8576b"
             ],
             [
              0.6666666666666666,
              "#ed7953"
             ],
             [
              0.7777777777777778,
              "#fb9f3a"
             ],
             [
              0.8888888888888888,
              "#fdca26"
             ],
             [
              1,
              "#f0f921"
             ]
            ],
            "type": "histogram2d"
           }
          ],
          "histogram2dcontour": [
           {
            "colorbar": {
             "outlinewidth": 0,
             "ticks": ""
            },
            "colorscale": [
             [
              0,
              "#0d0887"
             ],
             [
              0.1111111111111111,
              "#46039f"
             ],
             [
              0.2222222222222222,
              "#7201a8"
             ],
             [
              0.3333333333333333,
              "#9c179e"
             ],
             [
              0.4444444444444444,
              "#bd3786"
             ],
             [
              0.5555555555555556,
              "#d8576b"
             ],
             [
              0.6666666666666666,
              "#ed7953"
             ],
             [
              0.7777777777777778,
              "#fb9f3a"
             ],
             [
              0.8888888888888888,
              "#fdca26"
             ],
             [
              1,
              "#f0f921"
             ]
            ],
            "type": "histogram2dcontour"
           }
          ],
          "mesh3d": [
           {
            "colorbar": {
             "outlinewidth": 0,
             "ticks": ""
            },
            "type": "mesh3d"
           }
          ],
          "parcoords": [
           {
            "line": {
             "colorbar": {
              "outlinewidth": 0,
              "ticks": ""
             }
            },
            "type": "parcoords"
           }
          ],
          "pie": [
           {
            "automargin": true,
            "type": "pie"
           }
          ],
          "scatter": [
           {
            "marker": {
             "colorbar": {
              "outlinewidth": 0,
              "ticks": ""
             }
            },
            "type": "scatter"
           }
          ],
          "scatter3d": [
           {
            "line": {
             "colorbar": {
              "outlinewidth": 0,
              "ticks": ""
             }
            },
            "marker": {
             "colorbar": {
              "outlinewidth": 0,
              "ticks": ""
             }
            },
            "type": "scatter3d"
           }
          ],
          "scattercarpet": [
           {
            "marker": {
             "colorbar": {
              "outlinewidth": 0,
              "ticks": ""
             }
            },
            "type": "scattercarpet"
           }
          ],
          "scattergeo": [
           {
            "marker": {
             "colorbar": {
              "outlinewidth": 0,
              "ticks": ""
             }
            },
            "type": "scattergeo"
           }
          ],
          "scattergl": [
           {
            "marker": {
             "colorbar": {
              "outlinewidth": 0,
              "ticks": ""
             }
            },
            "type": "scattergl"
           }
          ],
          "scattermapbox": [
           {
            "marker": {
             "colorbar": {
              "outlinewidth": 0,
              "ticks": ""
             }
            },
            "type": "scattermapbox"
           }
          ],
          "scatterpolar": [
           {
            "marker": {
             "colorbar": {
              "outlinewidth": 0,
              "ticks": ""
             }
            },
            "type": "scatterpolar"
           }
          ],
          "scatterpolargl": [
           {
            "marker": {
             "colorbar": {
              "outlinewidth": 0,
              "ticks": ""
             }
            },
            "type": "scatterpolargl"
           }
          ],
          "scatterternary": [
           {
            "marker": {
             "colorbar": {
              "outlinewidth": 0,
              "ticks": ""
             }
            },
            "type": "scatterternary"
           }
          ],
          "surface": [
           {
            "colorbar": {
             "outlinewidth": 0,
             "ticks": ""
            },
            "colorscale": [
             [
              0,
              "#0d0887"
             ],
             [
              0.1111111111111111,
              "#46039f"
             ],
             [
              0.2222222222222222,
              "#7201a8"
             ],
             [
              0.3333333333333333,
              "#9c179e"
             ],
             [
              0.4444444444444444,
              "#bd3786"
             ],
             [
              0.5555555555555556,
              "#d8576b"
             ],
             [
              0.6666666666666666,
              "#ed7953"
             ],
             [
              0.7777777777777778,
              "#fb9f3a"
             ],
             [
              0.8888888888888888,
              "#fdca26"
             ],
             [
              1,
              "#f0f921"
             ]
            ],
            "type": "surface"
           }
          ],
          "table": [
           {
            "cells": {
             "fill": {
              "color": "#EBF0F8"
             },
             "line": {
              "color": "white"
             }
            },
            "header": {
             "fill": {
              "color": "#C8D4E3"
             },
             "line": {
              "color": "white"
             }
            },
            "type": "table"
           }
          ]
         },
         "layout": {
          "annotationdefaults": {
           "arrowcolor": "#2a3f5f",
           "arrowhead": 0,
           "arrowwidth": 1
          },
          "coloraxis": {
           "colorbar": {
            "outlinewidth": 0,
            "ticks": ""
           }
          },
          "colorscale": {
           "diverging": [
            [
             0,
             "#8e0152"
            ],
            [
             0.1,
             "#c51b7d"
            ],
            [
             0.2,
             "#de77ae"
            ],
            [
             0.3,
             "#f1b6da"
            ],
            [
             0.4,
             "#fde0ef"
            ],
            [
             0.5,
             "#f7f7f7"
            ],
            [
             0.6,
             "#e6f5d0"
            ],
            [
             0.7,
             "#b8e186"
            ],
            [
             0.8,
             "#7fbc41"
            ],
            [
             0.9,
             "#4d9221"
            ],
            [
             1,
             "#276419"
            ]
           ],
           "sequential": [
            [
             0,
             "#0d0887"
            ],
            [
             0.1111111111111111,
             "#46039f"
            ],
            [
             0.2222222222222222,
             "#7201a8"
            ],
            [
             0.3333333333333333,
             "#9c179e"
            ],
            [
             0.4444444444444444,
             "#bd3786"
            ],
            [
             0.5555555555555556,
             "#d8576b"
            ],
            [
             0.6666666666666666,
             "#ed7953"
            ],
            [
             0.7777777777777778,
             "#fb9f3a"
            ],
            [
             0.8888888888888888,
             "#fdca26"
            ],
            [
             1,
             "#f0f921"
            ]
           ],
           "sequentialminus": [
            [
             0,
             "#0d0887"
            ],
            [
             0.1111111111111111,
             "#46039f"
            ],
            [
             0.2222222222222222,
             "#7201a8"
            ],
            [
             0.3333333333333333,
             "#9c179e"
            ],
            [
             0.4444444444444444,
             "#bd3786"
            ],
            [
             0.5555555555555556,
             "#d8576b"
            ],
            [
             0.6666666666666666,
             "#ed7953"
            ],
            [
             0.7777777777777778,
             "#fb9f3a"
            ],
            [
             0.8888888888888888,
             "#fdca26"
            ],
            [
             1,
             "#f0f921"
            ]
           ]
          },
          "colorway": [
           "#636efa",
           "#EF553B",
           "#00cc96",
           "#ab63fa",
           "#FFA15A",
           "#19d3f3",
           "#FF6692",
           "#B6E880",
           "#FF97FF",
           "#FECB52"
          ],
          "font": {
           "color": "#2a3f5f"
          },
          "geo": {
           "bgcolor": "white",
           "lakecolor": "white",
           "landcolor": "#E5ECF6",
           "showlakes": true,
           "showland": true,
           "subunitcolor": "white"
          },
          "hoverlabel": {
           "align": "left"
          },
          "hovermode": "closest",
          "mapbox": {
           "style": "light"
          },
          "paper_bgcolor": "white",
          "plot_bgcolor": "#E5ECF6",
          "polar": {
           "angularaxis": {
            "gridcolor": "white",
            "linecolor": "white",
            "ticks": ""
           },
           "bgcolor": "#E5ECF6",
           "radialaxis": {
            "gridcolor": "white",
            "linecolor": "white",
            "ticks": ""
           }
          },
          "scene": {
           "xaxis": {
            "backgroundcolor": "#E5ECF6",
            "gridcolor": "white",
            "gridwidth": 2,
            "linecolor": "white",
            "showbackground": true,
            "ticks": "",
            "zerolinecolor": "white"
           },
           "yaxis": {
            "backgroundcolor": "#E5ECF6",
            "gridcolor": "white",
            "gridwidth": 2,
            "linecolor": "white",
            "showbackground": true,
            "ticks": "",
            "zerolinecolor": "white"
           },
           "zaxis": {
            "backgroundcolor": "#E5ECF6",
            "gridcolor": "white",
            "gridwidth": 2,
            "linecolor": "white",
            "showbackground": true,
            "ticks": "",
            "zerolinecolor": "white"
           }
          },
          "shapedefaults": {
           "line": {
            "color": "#2a3f5f"
           }
          },
          "ternary": {
           "aaxis": {
            "gridcolor": "white",
            "linecolor": "white",
            "ticks": ""
           },
           "baxis": {
            "gridcolor": "white",
            "linecolor": "white",
            "ticks": ""
           },
           "bgcolor": "#E5ECF6",
           "caxis": {
            "gridcolor": "white",
            "linecolor": "white",
            "ticks": ""
           }
          },
          "title": {
           "x": 0.05
          },
          "xaxis": {
           "automargin": true,
           "gridcolor": "white",
           "linecolor": "white",
           "ticks": "",
           "title": {
            "standoff": 15
           },
           "zerolinecolor": "white",
           "zerolinewidth": 2
          },
          "yaxis": {
           "automargin": true,
           "gridcolor": "white",
           "linecolor": "white",
           "ticks": "",
           "title": {
            "standoff": 15
           },
           "zerolinecolor": "white",
           "zerolinewidth": 2
          }
         }
        },
        "title": {
         "text": "Population vs. Total Visitor"
        },
        "xaxis": {
         "anchor": "y",
         "domain": [
          0,
          1
         ],
         "title": {
          "text": "Population"
         }
        },
        "yaxis": {
         "anchor": "x",
         "domain": [
          0,
          1
         ],
         "title": {
          "text": "Total Visitors"
         }
        }
       }
      },
      "text/html": [
       "<div>\n",
       "        \n",
       "        \n",
       "            <div id=\"869329ea-d041-4eaa-bec7-86ba172b50a7\" class=\"plotly-graph-div\" style=\"height:525px; width:100%;\"></div>\n",
       "            <script type=\"text/javascript\">\n",
       "                require([\"plotly\"], function(Plotly) {\n",
       "                    window.PLOTLYENV=window.PLOTLYENV || {};\n",
       "                    \n",
       "                if (document.getElementById(\"869329ea-d041-4eaa-bec7-86ba172b50a7\")) {\n",
       "                    Plotly.newPlot(\n",
       "                        '869329ea-d041-4eaa-bec7-86ba172b50a7',\n",
       "                        [{\"customdata\": [[\"KY\"], [\"KY\"], [\"KY\"], [\"ME\"], [\"ME\"], [\"ME\"], [\"MA\"], [\"MA\"], [\"MA\"], [\"NY\"], [\"NY\"], [\"NY\"], [\"NE\"], [\"NE\"], [\"NE\"], [\"TX\"], [\"TX\"], [\"TX\"], [\"PA\"], [\"PA\"], [\"PA\"], [\"TX\"], [\"TX\"], [\"TX\"], [\"GA\"], [\"GA\"], [\"GA\"], [\"AK\"], [\"AK\"], [\"AK\"], [\"TN\"], [\"TN\"], [\"TN\"], [\"MD\"], [\"MD\"], [\"MD\"], [\"VA\"], [\"VA\"], [\"VA\"], [\"WI\"], [\"WI\"], [\"WI\"], [\"UT\"], [\"UT\"], [\"UT\"], [\"VA\"], [\"VA\"], [\"VA\"], [\"AR\"], [\"AR\"], [\"AR\"], [\"NM\"], [\"NM\"], [\"NM\"], [\"SD\"], [\"SD\"], [\"SD\"], [\"NM\"], [\"NM\"], [\"NM\"], [\"AK\"], [\"AK\"], [\"AK\"], [\"CO\"], [\"CO\"], [\"CO\"], [\"TX\"], [\"TX\"], [\"TX\"], [\"FL\"], [\"FL\"], [\"FL\"], [\"MT\"], [\"MT\"], [\"MT\"], [\"FL\"], [\"FL\"], [\"FL\"], [\"TX\"], [\"TX\"], [\"TX\"], [\"CO\"], [\"CO\"], [\"CO\"], [\"WV\"], [\"WV\"], [\"WV\"], [\"MA\"], [\"MA\"], [\"MA\"], [\"MA\"], [\"MA\"], [\"MA\"], [\"VA\"], [\"VA\"], [\"VA\"], [\"UT\"], [\"UT\"], [\"UT\"], [\"KS\"], [\"KS\"], [\"KS\"], [\"AR\"], [\"AR\"], [\"AR\"], [\"CA\"], [\"CA\"], [\"CA\"], [\"AZ\"], [\"AZ\"], [\"AZ\"], [\"NY\"], [\"NY\"], [\"NY\"], [\"MA\"], [\"MA\"], [\"MA\"], [\"AZ\"], [\"AZ\"], [\"AZ\"], [\"NC\"], [\"NC\"], [\"NC\"], [\"AK\"], [\"AK\"], [\"AK\"], [\"NC\"], [\"NC\"], [\"NC\"], [\"FL\"], [\"FL\"], [\"FL\"], [\"UT\"], [\"UT\"], [\"UT\"], [\"UT\"], [\"UT\"], [\"UT\"], [\"LA\"], [\"LA\"], [\"LA\"], [\"NC\"], [\"NC\"], [\"NC\"], [\"FL\"], [\"FL\"], [\"FL\"], [\"MD\"], [\"MD\"], [\"MD\"], [\"NM\"], [\"NM\"], [\"NM\"], [\"NM\"], [\"NM\"], [\"NM\"], [\"UT\"], [\"UT\"], [\"UT\"], [\"CA\"], [\"CA\"], [\"CA\"], [\"TX\"], [\"TX\"], [\"TX\"], [\"GA\"], [\"GA\"], [\"GA\"], [\"NM\"], [\"NM\"], [\"NM\"], [\"OK\"], [\"OK\"], [\"OK\"], [\"AZ\"], [\"AZ\"], [\"AZ\"], [\"CA\"], [\"CA\"], [\"CA\"], [\"SC\"], [\"SC\"], [\"SC\"], [\"AR\"], [\"AR\"], [\"AR\"], [\"OH\"], [\"OH\"], [\"OH\"], [\"ID\"], [\"ID\"], [\"ID\"], [\"MD\"], [\"MD\"], [\"MD\"], [\"CO\"], [\"CO\"], [\"CO\"], [\"VA\"], [\"VA\"], [\"VA\"], [\"SC\"], [\"SC\"], [\"SC\"], [\"AZ\"], [\"AZ\"], [\"AZ\"], [\"SC\"], [\"SC\"], [\"SC\"], [\"OR\"], [\"OR\"], [\"OR\"], [\"ID\"], [\"ID\"], [\"ID\"], [\"GA\"], [\"GA\"], [\"GA\"], [\"CO\"], [\"CO\"], [\"CO\"], [\"OH\"], [\"OH\"], [\"OH\"], [\"OH\"], [\"OH\"], [\"OH\"], [\"AK\"], [\"AK\"], [\"AK\"], [\"CA\"], [\"CA\"], [\"CA\"], [\"FL\"], [\"FL\"], [\"FL\"], [\"WY\"], [\"WY\"], [\"WY\"], [\"FL\"], [\"FL\"], [\"FL\"], [\"PA\"], [\"PA\"], [\"PA\"], [\"NJ\"], [\"NJ\"], [\"NJ\"], [\"IA\"], [\"IA\"], [\"IA\"], [\"PA\"], [\"PA\"], [\"PA\"], [\"NM\"], [\"NM\"], [\"NM\"], [\"NM\"], [\"NM\"], [\"NM\"], [\"NY\"], [\"NY\"], [\"NY\"], [\"CA\"], [\"CA\"], [\"CA\"], [\"FL\"], [\"FL\"], [\"FL\"], [\"NY\"], [\"NY\"], [\"NY\"], [\"NY\"], [\"NY\"], [\"NY\"], [\"OH\"], [\"OH\"], [\"OH\"], [\"CO\"], [\"CO\"], [\"CO\"], [\"PA\"], [\"PA\"], [\"PA\"], [\"AZ\"], [\"AZ\"], [\"AZ\"], [\"WY\"], [\"WY\"], [\"WY\"], [\"TX\"], [\"TX\"], [\"TX\"], [\"GA\"], [\"GA\"], [\"GA\"], [\"WY\"], [\"WY\"], [\"WY\"], [\"KS\"], [\"KS\"], [\"KS\"], [\"FL\"], [\"FL\"], [\"FL\"], [\"MD\"], [\"MD\"], [\"MD\"], [\"PA\"], [\"PA\"], [\"PA\"], [\"CA\"], [\"CA\"], [\"CA\"], [\"GA\"], [\"GA\"], [\"GA\"], [\"NC\"], [\"NC\"], [\"NC\"], [\"KS\"], [\"KS\"], [\"KS\"], [\"NY\"], [\"NY\"], [\"NY\"], [\"SC\"], [\"SC\"], [\"SC\"], [\"NM\"], [\"NM\"], [\"NM\"], [\"MD\"], [\"MD\"], [\"MD\"], [\"PA\"], [\"PA\"], [\"PA\"], [\"MA\"], [\"MA\"], [\"MA\"], [\"VA\"], [\"VA\"], [\"VA\"], [\"AK\"], [\"AK\"], [\"AK\"], [\"WV\"], [\"WV\"], [\"WV\"], [\"NY\"], [\"NY\"], [\"NY\"], [\"IN\"], [\"IN\"], [\"IN\"], [\"PA\"], [\"PA\"], [\"PA\"], [\"VA\"], [\"VA\"], [\"VA\"], [\"NM\"], [\"NM\"], [\"NM\"], [\"MT\"], [\"MT\"], [\"MT\"], [\"AK\"], [\"AK\"], [\"AK\"], [\"CA\"], [\"CA\"], [\"CA\"], [\"NY\"], [\"NY\"], [\"NY\"], [\"UT\"], [\"UT\"], [\"UT\"], [\"NV\"], [\"NV\"], [\"NV\"], [\"AZ\"], [\"AZ\"], [\"AZ\"], [\"MD\"], [\"MD\"], [\"MD\"], [\"MT\"], [\"MT\"], [\"MT\"], [\"MN\"], [\"MN\"], [\"MN\"], [\"CO\"], [\"CO\"], [\"CO\"], [\"WY\"], [\"WY\"], [\"WY\"], [\"NC\"], [\"NC\"], [\"NC\"], [\"TX\"], [\"TX\"], [\"TX\"], [\"MO\"], [\"MO\"], [\"MO\"], [\"ID\"], [\"ID\"], [\"ID\"], [\"NY\"], [\"NY\"], [\"NY\"], [\"HI\"], [\"HI\"], [\"HI\"], [\"MD\"], [\"MD\"], [\"MD\"], [\"HI\"], [\"HI\"], [\"HI\"], [\"IA\"], [\"IA\"], [\"IA\"], [\"AL\"], [\"AL\"], [\"AL\"], [\"OH\"], [\"OH\"], [\"OH\"], [\"NY\"], [\"NY\"], [\"NY\"], [\"PA\"], [\"PA\"], [\"PA\"], [\"NE\"], [\"NE\"], [\"NE\"], [\"AR\"], [\"AR\"], [\"AR\"], [\"MO\"], [\"MO\"], [\"MO\"], [\"AZ\"], [\"AZ\"], [\"AZ\"], [\"PA\"], [\"PA\"], [\"PA\"], [\"IN\"], [\"IN\"], [\"IN\"], [\"MI\"], [\"MI\"], [\"MI\"], [\"OH\"], [\"OH\"], [\"OH\"], [\"LA\"], [\"LA\"], [\"LA\"], [\"SD\"], [\"SD\"], [\"SD\"], [\"MO\"], [\"MO\"], [\"MO\"], [\"LA\"], [\"LA\"], [\"LA\"], [\"GA\"], [\"GA\"], [\"GA\"], [\"OR\"], [\"OR\"], [\"OR\"], [\"MA\"], [\"MA\"], [\"MA\"], [\"PA\"], [\"PA\"], [\"PA\"], [\"CA\"], [\"CA\"], [\"CA\"], [\"CA\"], [\"CA\"], [\"CA\"], [\"HI\"], [\"HI\"], [\"HI\"], [\"HI\"], [\"HI\"], [\"HI\"], [\"AK\"], [\"AK\"], [\"AK\"], [\"AK\"], [\"AK\"], [\"AK\"], [\"GA\"], [\"GA\"], [\"GA\"], [\"MI\"], [\"MI\"], [\"MI\"], [\"SC\"], [\"SC\"], [\"SC\"], [\"AK\"], [\"AK\"], [\"AK\"], [\"WA\"], [\"WA\"], [\"WA\"], [\"ND\"], [\"ND\"], [\"ND\"], [\"AK\"], [\"AK\"], [\"AK\"], [\"CA\"], [\"CA\"], [\"CA\"], [\"AK\"], [\"AK\"], [\"AK\"], [\"TX\"], [\"TX\"], [\"TX\"], [\"WA\"], [\"WA\"], [\"WA\"], [\"CA\"], [\"CA\"], [\"CA\"], [\"MT\"], [\"MT\"], [\"MT\"], [\"IN\"], [\"IN\"], [\"IN\"], [\"IL\"], [\"IL\"], [\"IL\"], [\"AL\"], [\"AL\"], [\"AL\"], [\"MA\"], [\"MA\"], [\"MA\"], [\"MA\"], [\"MA\"], [\"MA\"], [\"TX\"], [\"TX\"], [\"TX\"], [\"VT\"], [\"VT\"], [\"VT\"], [\"KY\"], [\"KY\"], [\"KY\"], [\"GA\"], [\"GA\"], [\"GA\"], [\"VA\"], [\"VA\"], [\"VA\"], [\"CA\"], [\"CA\"], [\"CA\"], [\"NY\"], [\"NY\"], [\"NY\"], [\"VA\"], [\"VA\"], [\"VA\"], [\"CO\"], [\"CO\"], [\"CO\"], [\"MA\"], [\"MA\"], [\"MA\"], [\"SD\"], [\"SD\"], [\"SD\"], [\"MN\"], [\"MN\"], [\"MN\"], [\"AZ\"], [\"AZ\"], [\"AZ\"], [\"NC\"], [\"NC\"], [\"NC\"], [\"CA\"], [\"CA\"], [\"CA\"], [\"MD\"], [\"MD\"], [\"MD\"], [\"WA\"], [\"WA\"], [\"WA\"], [\"NJ\"], [\"NJ\"], [\"NJ\"], [\"SD\"], [\"SD\"], [\"SD\"], [\"CA\"], [\"CA\"], [\"CA\"], [\"UT\"], [\"UT\"], [\"UT\"], [\"MS\"], [\"MS\"], [\"MS\"], [\"AZ\"], [\"AZ\"], [\"AZ\"], [\"MA\"], [\"MA\"], [\"MA\"], [\"WV\"], [\"WV\"], [\"WV\"], [\"KS\"], [\"KS\"], [\"KS\"], [\"NE\"], [\"NE\"], [\"NE\"], [\"SC\"], [\"SC\"], [\"SC\"], [\"AK\"], [\"AK\"], [\"AK\"], [\"WA\"], [\"WA\"], [\"WA\"], [\"GA\"], [\"GA\"], [\"GA\"], [\"WA\"], [\"WA\"], [\"WA\"], [\"OR\"], [\"OR\"], [\"OR\"], [\"AZ\"], [\"AZ\"], [\"AZ\"], [\"MO\"], [\"MO\"], [\"MO\"], [\"TX\"], [\"TX\"], [\"TX\"], [\"NJ\"], [\"NJ\"], [\"NJ\"], [\"TX\"], [\"TX\"], [\"TX\"], [\"NM\"], [\"NM\"], [\"NM\"], [\"AZ\"], [\"AZ\"], [\"AZ\"], [\"AR\"], [\"AR\"], [\"AR\"], [\"VA\"], [\"VA\"], [\"VA\"], [\"NM\"], [\"NM\"], [\"NM\"], [\"OH\"], [\"OH\"], [\"OH\"], [\"CA\"], [\"CA\"], [\"CA\"], [\"MN\"], [\"MN\"], [\"MN\"], [\"MI\"], [\"MI\"], [\"MI\"], [\"MD\"], [\"MD\"], [\"MD\"], [\"AZ\"], [\"AZ\"], [\"AZ\"], [\"CA\"], [\"CA\"], [\"CA\"], [\"CA\"], [\"CA\"], [\"CA\"], [\"VA\"], [\"VA\"], [\"VA\"], [\"HI\"], [\"HI\"], [\"HI\"], [\"HI\"], [\"HI\"], [\"HI\"], [\"UT\"], [\"UT\"], [\"UT\"], [\"CA\"], [\"CA\"], [\"CA\"], [\"VA\"], [\"VA\"], [\"VA\"], [\"TX\"], [\"TX\"], [\"TX\"], [\"MI\"], [\"MI\"], [\"MI\"], [\"CO\"], [\"CO\"], [\"CO\"], [\"CA\"], [\"CA\"], [\"CA\"], [\"RI\"], [\"RI\"], [\"RI\"], [\"AL\"], [\"AL\"], [\"AL\"], [\"TX\"], [\"TX\"], [\"TX\"], [\"ME\"], [\"ME\"], [\"ME\"], [\"CA\"], [\"CA\"], [\"CA\"], [\"NH\"], [\"NH\"], [\"NH\"], [\"AZ\"], [\"AZ\"], [\"AZ\"], [\"NY\"], [\"NY\"], [\"NY\"], [\"MA\"], [\"MA\"], [\"MA\"], [\"WA\"], [\"WA\"], [\"WA\"], [\"MA\"], [\"MA\"], [\"MA\"], [\"CA\"], [\"CA\"], [\"CA\"], [\"CO\"], [\"CO\"], [\"CO\"], [\"NY\"], [\"NY\"], [\"NY\"], [\"NM\"], [\"NM\"], [\"NM\"], [\"NY\"], [\"NY\"], [\"NY\"], [\"NE\"], [\"NE\"], [\"NE\"], [\"VA\"], [\"VA\"], [\"VA\"], [\"AK\"], [\"AK\"], [\"AK\"], [\"MI\"], [\"MI\"], [\"MI\"], [\"MA\"], [\"MA\"], [\"MA\"], [\"PA\"], [\"PA\"], [\"PA\"], [\"NY\"], [\"NY\"], [\"NY\"], [\"NY\"], [\"NY\"], [\"NY\"], [\"TN\"], [\"TN\"], [\"TN\"], [\"AZ\"], [\"AZ\"], [\"AZ\"], [\"KS\"], [\"KS\"], [\"KS\"], [\"PA\"], [\"PA\"], [\"PA\"], [\"NY\"], [\"NY\"], [\"NY\"], [\"NY\"], [\"NY\"], [\"NY\"], [\"ND\"], [\"ND\"], [\"ND\"], [\"MD\"], [\"MD\"], [\"MD\"], [\"UT\"], [\"UT\"], [\"UT\"], [\"FL\"], [\"FL\"], [\"FL\"], [\"AZ\"], [\"AZ\"], [\"AZ\"], [\"AL\"], [\"AL\"], [\"AL\"], [\"AL\"], [\"AL\"], [\"AL\"], [\"AZ\"], [\"AZ\"], [\"AZ\"], [\"AZ\"], [\"AZ\"], [\"AZ\"], [\"MO\"], [\"MO\"], [\"MO\"], [\"PA\"], [\"PA\"], [\"PA\"], [\"HI\"], [\"HI\"], [\"HI\"], [\"NY\"], [\"NY\"], [\"NY\"], [\"MN\"], [\"MN\"], [\"MN\"], [\"OK\"], [\"OK\"], [\"OK\"], [\"AZ\"], [\"AZ\"], [\"AZ\"], [\"TX\"], [\"TX\"], [\"TX\"], [\"CT\"], [\"CT\"], [\"CT\"], [\"CA\"], [\"CA\"], [\"CA\"], [\"WA\"], [\"WA\"], [\"WA\"], [\"NM\"], [\"NM\"], [\"NM\"], [\"SD\"], [\"SD\"], [\"SD\"], [\"AR\"], [\"AR\"], [\"AR\"], [\"MO\"], [\"MO\"], [\"MO\"], [\"OH\"], [\"OH\"], [\"OH\"], [\"NY\"], [\"NY\"], [\"NY\"], [\"VA\"], [\"VA\"], [\"VA\"], [\"NC\"], [\"NC\"], [\"NC\"], [\"AK\"], [\"AK\"], [\"AK\"], [\"AZ\"], [\"AZ\"], [\"AZ\"], [\"CA\"], [\"CA\"], [\"CA\"], [\"AK\"], [\"AK\"], [\"AK\"], [\"UT\"], [\"UT\"], [\"UT\"]], \"hoverlabel\": {\"namelength\": 0}, \"hovertemplate\": \"Population=%{x}<br>Total Visitors=%{y}<br>Month=%{marker.size}<br>State Code=%{customdata[0]}\", \"legendgroup\": \"\", \"marker\": {\"color\": \"#636efa\", \"size\": [6, 7, 8, 6, 7, 8, 6, 7, 8, 6, 7, 8, 6, 7, 8, 6, 7, 8, 6, 7, 8, 6, 7, 8, 6, 7, 8, 6, 7, 8, 6, 7, 8, 6, 7, 8, 6, 7, 8, 6, 7, 8, 6, 7, 8, 6, 7, 8, 6, 7, 8, 6, 7, 8, 6, 7, 8, 6, 7, 8, 6, 7, 8, 6, 7, 8, 6, 7, 8, 6, 7, 8, 6, 7, 8, 6, 7, 8, 6, 7, 8, 6, 7, 8, 6, 7, 8, 6, 7, 8, 6, 7, 8, 6, 7, 8, 6, 7, 8, 6, 7, 8, 6, 7, 8, 6, 7, 8, 6, 7, 8, 6, 7, 8, 6, 7, 8, 6, 7, 8, 6, 7, 8, 6, 7, 8, 6, 7, 8, 6, 7, 8, 6, 7, 8, 6, 7, 8, 6, 7, 8, 6, 7, 8, 6, 7, 8, 6, 7, 8, 6, 7, 8, 6, 7, 8, 6, 7, 8, 6, 7, 8, 6, 7, 8, 6, 7, 8, 6, 7, 8, 6, 7, 8, 6, 7, 8, 6, 7, 8, 6, 7, 8, 6, 7, 8, 6, 7, 8, 6, 7, 8, 6, 7, 8, 6, 7, 8, 6, 7, 8, 6, 7, 8, 6, 7, 8, 6, 7, 8, 6, 7, 8, 6, 7, 8, 6, 7, 8, 6, 7, 8, 6, 7, 8, 6, 7, 8, 6, 7, 8, 6, 7, 8, 6, 7, 8, 6, 7, 8, 6, 7, 8, 6, 7, 8, 6, 7, 8, 6, 7, 8, 6, 7, 8, 6, 7, 8, 6, 7, 8, 6, 7, 8, 6, 7, 8, 6, 7, 8, 6, 7, 8, 6, 7, 8, 6, 7, 8, 6, 7, 8, 6, 7, 8, 6, 7, 8, 6, 7, 8, 6, 7, 8, 6, 7, 8, 6, 7, 8, 6, 7, 8, 6, 7, 8, 6, 7, 8, 6, 7, 8, 6, 7, 8, 6, 7, 8, 6, 7, 8, 6, 7, 8, 6, 7, 8, 6, 7, 8, 6, 7, 8, 6, 7, 8, 6, 7, 8, 6, 7, 8, 6, 7, 8, 6, 7, 8, 6, 7, 8, 6, 7, 8, 6, 7, 8, 6, 7, 8, 6, 7, 8, 6, 7, 8, 6, 7, 8, 6, 7, 8, 6, 7, 8, 6, 7, 8, 6, 7, 8, 6, 7, 8, 6, 7, 8, 6, 7, 8, 6, 7, 8, 6, 7, 8, 6, 7, 8, 6, 7, 8, 6, 7, 8, 6, 7, 8, 6, 7, 8, 6, 7, 8, 6, 7, 8, 6, 7, 8, 6, 7, 8, 6, 7, 8, 6, 7, 8, 6, 7, 8, 6, 7, 8, 6, 7, 8, 6, 7, 8, 6, 7, 8, 6, 7, 8, 6, 7, 8, 6, 7, 8, 6, 7, 8, 6, 7, 8, 6, 7, 8, 6, 7, 8, 6, 7, 8, 6, 7, 8, 6, 7, 8, 6, 7, 8, 6, 7, 8, 6, 7, 8, 6, 7, 8, 6, 7, 8, 6, 7, 8, 6, 7, 8, 6, 7, 8, 6, 7, 8, 6, 7, 8, 6, 7, 8, 6, 7, 8, 6, 7, 8, 6, 7, 8, 6, 7, 8, 6, 7, 8, 6, 7, 8, 6, 7, 8, 6, 7, 8, 6, 7, 8, 6, 7, 8, 6, 7, 8, 6, 7, 8, 6, 7, 8, 6, 7, 8, 6, 7, 8, 6, 7, 8, 6, 7, 8, 6, 7, 8, 6, 7, 8, 6, 7, 8, 6, 7, 8, 6, 7, 8, 6, 7, 8, 6, 7, 8, 6, 7, 8, 6, 7, 8, 6, 7, 8, 6, 7, 8, 6, 7, 8, 6, 7, 8, 6, 7, 8, 6, 7, 8, 6, 7, 8, 6, 7, 8, 6, 7, 8, 6, 7, 8, 6, 7, 8, 6, 7, 8, 6, 7, 8, 6, 7, 8, 6, 7, 8, 6, 7, 8, 6, 7, 8, 6, 7, 8, 6, 7, 8, 6, 7, 8, 6, 7, 8, 6, 7, 8, 6, 7, 8, 6, 7, 8, 6, 7, 8, 6, 7, 8, 6, 7, 8, 6, 7, 8, 6, 7, 8, 6, 7, 8, 6, 7, 8, 6, 7, 8, 6, 7, 8, 6, 7, 8, 6, 7, 8, 6, 7, 8, 6, 7, 8, 6, 7, 8, 6, 7, 8, 6, 7, 8, 6, 7, 8, 6, 7, 8, 6, 7, 8, 6, 7, 8, 6, 7, 8, 6, 7, 8, 6, 7, 8, 6, 7, 8, 6, 7, 8, 6, 7, 8, 6, 7, 8, 6, 7, 8, 6, 7, 8, 6, 7, 8, 6, 7, 8, 6, 7, 8, 6, 7, 8, 6, 7, 8, 6, 7, 8, 6, 7, 8, 6, 7, 8, 6, 7, 8, 6, 7, 8, 6, 7, 8, 6, 7, 8, 6, 7, 8, 6, 7, 8, 6, 7, 8, 6, 7, 8, 6, 7, 8, 6, 7, 8, 6, 7, 8, 6, 7, 8, 6, 7, 8, 6, 7, 8, 6, 7, 8, 6, 7, 8, 6, 7, 8, 6, 7, 8, 6, 7, 8, 6, 7, 8, 6, 7, 8, 6, 7, 8, 6, 7, 8, 6, 7, 8, 6, 7, 8, 6, 7, 8, 6, 7, 8, 6, 7, 8, 6, 7, 8, 6, 7, 8, 6, 7, 8, 6, 7, 8, 6, 7, 8, 6, 7, 8, 6, 7, 8, 6, 7, 8, 6, 7, 8, 6, 7, 8, 6, 7, 8, 6, 7, 8, 6, 7, 8, 6, 7, 8, 6, 7, 8, 6, 7, 8, 6, 7, 8, 6, 7, 8, 6, 7, 8, 6, 7, 8, 6, 7, 8, 6, 7, 8, 6, 7, 8, 6, 7, 8, 6, 7, 8, 6, 7, 8, 6, 7, 8], \"sizemode\": \"area\", \"sizeref\": 0.02, \"symbol\": \"circle\"}, \"mode\": \"markers\", \"name\": \"\", \"showlegend\": false, \"type\": \"scatter\", \"x\": [4424376.0, 4424376.0, 4424376.0, 1330158.0, 1330158.0, 1330158.0, 6789319.0, 6789319.0, 6789319.0, 19798228.0, 19798228.0, 19798228.0, 1893921.0, 1893921.0, 1893921.0, 27419612.0, 27419612.0, 27419612.0, 12790505.0, 12790505.0, 12790505.0, 27419612.0, 27419612.0, 27419612.0, 10201635.0, 10201635.0, 10201635.0, 738565.0, 738565.0, 738565.0, 6597381.0, 6597381.0, 6597381.0, 5996079.0, 5996079.0, 5996079.0, 8365952.0, 8365952.0, 8365952.0, 5763217.0, 5763217.0, 5763217.0, 2993941.0, 2993941.0, 2993941.0, 8365952.0, 8365952.0, 8365952.0, 2977944.0, 2977944.0, 2977944.0, 2084828.0, 2084828.0, 2084828.0, 855444.0, 855444.0, 855444.0, 2084828.0, 2084828.0, 2084828.0, 738565.0, 738565.0, 738565.0, 5436519.0, 5436519.0, 5436519.0, 27419612.0, 27419612.0, 27419612.0, 20278447.0, 20278447.0, 20278447.0, 1029862.0, 1029862.0, 1029862.0, 20278447.0, 20278447.0, 20278447.0, 27419612.0, 27419612.0, 27419612.0, 5436519.0, 5436519.0, 5436519.0, 1836843.0, 1836843.0, 1836843.0, 6789319.0, 6789319.0, 6789319.0, 6789319.0, 6789319.0, 6789319.0, 8365952.0, 8365952.0, 8365952.0, 2993941.0, 2993941.0, 2993941.0, 2903820.0, 2903820.0, 2903820.0, 2977944.0, 2977944.0, 2977944.0, 38982847.0, 38982847.0, 38982847.0, 6809946.0, 6809946.0, 6809946.0, 19798228.0, 19798228.0, 19798228.0, 6789319.0, 6789319.0, 6789319.0, 6809946.0, 6809946.0, 6809946.0, 10052564.0, 10052564.0, 10052564.0, 738565.0, 738565.0, 738565.0, 10052564.0, 10052564.0, 10052564.0, 20278447.0, 20278447.0, 20278447.0, 2993941.0, 2993941.0, 2993941.0, 2993941.0, 2993941.0, 2993941.0, 4663461.0, 4663461.0, 4663461.0, 10052564.0, 10052564.0, 10052564.0, 20278447.0, 20278447.0, 20278447.0, 5996079.0, 5996079.0, 5996079.0, 2084828.0, 2084828.0, 2084828.0, 2084828.0, 2084828.0, 2084828.0, 2993941.0, 2993941.0, 2993941.0, 38982847.0, 38982847.0, 38982847.0, 27419612.0, 27419612.0, 27419612.0, 10201635.0, 10201635.0, 10201635.0, 2084828.0, 2084828.0, 2084828.0, 3896251.0, 3896251.0, 3896251.0, 6809946.0, 6809946.0, 6809946.0, 38982847.0, 38982847.0, 38982847.0, 4893444.0, 4893444.0, 4893444.0, 2977944.0, 2977944.0, 2977944.0, 11609756.0, 11609756.0, 11609756.0, 1657375.0, 1657375.0, 1657375.0, 5996079.0, 5996079.0, 5996079.0, 5436519.0, 5436519.0, 5436519.0, 8365952.0, 8365952.0, 8365952.0, 4893444.0, 4893444.0, 4893444.0, 6809946.0, 6809946.0, 6809946.0, 4893444.0, 4893444.0, 4893444.0, 4025127.0, 4025127.0, 4025127.0, 1657375.0, 1657375.0, 1657375.0, 10201635.0, 10201635.0, 10201635.0, 5436519.0, 5436519.0, 5436519.0, 11609756.0, 11609756.0, 11609756.0, 11609756.0, 11609756.0, 11609756.0, 738565.0, 738565.0, 738565.0, 38982847.0, 38982847.0, 38982847.0, 20278447.0, 20278447.0, 20278447.0, 583200.0, 583200.0, 583200.0, 20278447.0, 20278447.0, 20278447.0, 12790505.0, 12790505.0, 12790505.0, 8960161.0, 8960161.0, 8960161.0, 3118102.0, 3118102.0, 3118102.0, 12790505.0, 12790505.0, 12790505.0, 2084828.0, 2084828.0, 2084828.0, 2084828.0, 2084828.0, 2084828.0, 19798228.0, 19798228.0, 19798228.0, 38982847.0, 38982847.0, 38982847.0, 20278447.0, 20278447.0, 20278447.0, 19798228.0, 19798228.0, 19798228.0, 19798228.0, 19798228.0, 19798228.0, 11609756.0, 11609756.0, 11609756.0, 5436519.0, 5436519.0, 5436519.0, 12790505.0, 12790505.0, 12790505.0, 6809946.0, 6809946.0, 6809946.0, 583200.0, 583200.0, 583200.0, 27419612.0, 27419612.0, 27419612.0, 10201635.0, 10201635.0, 10201635.0, 583200.0, 583200.0, 583200.0, 2903820.0, 2903820.0, 2903820.0, 20278447.0, 20278447.0, 20278447.0, 5996079.0, 5996079.0, 5996079.0, 12790505.0, 12790505.0, 12790505.0, 38982847.0, 38982847.0, 38982847.0, 10201635.0, 10201635.0, 10201635.0, 10052564.0, 10052564.0, 10052564.0, 2903820.0, 2903820.0, 2903820.0, 19798228.0, 19798228.0, 19798228.0, 4893444.0, 4893444.0, 4893444.0, 2084828.0, 2084828.0, 2084828.0, 5996079.0, 5996079.0, 5996079.0, 12790505.0, 12790505.0, 12790505.0, 6789319.0, 6789319.0, 6789319.0, 8365952.0, 8365952.0, 8365952.0, 738565.0, 738565.0, 738565.0, 1836843.0, 1836843.0, 1836843.0, 19798228.0, 19798228.0, 19798228.0, 6614418.0, 6614418.0, 6614418.0, 12790505.0, 12790505.0, 12790505.0, 8365952.0, 8365952.0, 8365952.0, 2084828.0, 2084828.0, 2084828.0, 1029862.0, 1029862.0, 1029862.0, 738565.0, 738565.0, 738565.0, 38982847.0, 38982847.0, 38982847.0, 19798228.0, 19798228.0, 19798228.0, 2993941.0, 2993941.0, 2993941.0, 2887725.0, 2887725.0, 2887725.0, 6809946.0, 6809946.0, 6809946.0, 5996079.0, 5996079.0, 5996079.0, 1029862.0, 1029862.0, 1029862.0, 5490726.0, 5490726.0, 5490726.0, 5436519.0, 5436519.0, 5436519.0, 583200.0, 583200.0, 583200.0, 10052564.0, 10052564.0, 10052564.0, 27419612.0, 27419612.0, 27419612.0, 6075300.0, 6075300.0, 6075300.0, 1657375.0, 1657375.0, 1657375.0, 19798228.0, 19798228.0, 19798228.0, 1421658.0, 1421658.0, 1421658.0, 5996079.0, 5996079.0, 5996079.0, 1421658.0, 1421658.0, 1421658.0, 3118102.0, 3118102.0, 3118102.0, 4850771.0, 4850771.0, 4850771.0, 11609756.0, 11609756.0, 11609756.0, 19798228.0, 19798228.0, 19798228.0, 12790505.0, 12790505.0, 12790505.0, 1893921.0, 1893921.0, 1893921.0, 2977944.0, 2977944.0, 2977944.0, 6075300.0, 6075300.0, 6075300.0, 6809946.0, 6809946.0, 6809946.0, 12790505.0, 12790505.0, 12790505.0, 6614418.0, 6614418.0, 6614418.0, 9925568.0, 9925568.0, 9925568.0, 11609756.0, 11609756.0, 11609756.0, 4663461.0, 4663461.0, 4663461.0, 855444.0, 855444.0, 855444.0, 6075300.0, 6075300.0, 6075300.0, 4663461.0, 4663461.0, 4663461.0, 10201635.0, 10201635.0, 10201635.0, 4025127.0, 4025127.0, 4025127.0, 6789319.0, 6789319.0, 6789319.0, 12790505.0, 12790505.0, 12790505.0, 38982847.0, 38982847.0, 38982847.0, 38982847.0, 38982847.0, 38982847.0, 1421658.0, 1421658.0, 1421658.0, 1421658.0, 1421658.0, 1421658.0, 738565.0, 738565.0, 738565.0, 738565.0, 738565.0, 738565.0, 10201635.0, 10201635.0, 10201635.0, 9925568.0, 9925568.0, 9925568.0, 4893444.0, 4893444.0, 4893444.0, 738565.0, 738565.0, 738565.0, 7169967.0, 7169967.0, 7169967.0, 745475.0, 745475.0, 745475.0, 738565.0, 738565.0, 738565.0, 38982847.0, 38982847.0, 38982847.0, 738565.0, 738565.0, 738565.0, 27419612.0, 27419612.0, 27419612.0, 7169967.0, 7169967.0, 7169967.0, 38982847.0, 38982847.0, 38982847.0, 1029862.0, 1029862.0, 1029862.0, 6614418.0, 6614418.0, 6614418.0, 12854526.0, 12854526.0, 12854526.0, 4850771.0, 4850771.0, 4850771.0, 6789319.0, 6789319.0, 6789319.0, 6789319.0, 6789319.0, 6789319.0, 27419612.0, 27419612.0, 27419612.0, 624636.0, 624636.0, 624636.0, 4424376.0, 4424376.0, 4424376.0, 10201635.0, 10201635.0, 10201635.0, 8365952.0, 8365952.0, 8365952.0, 38982847.0, 38982847.0, 38982847.0, 19798228.0, 19798228.0, 19798228.0, 8365952.0, 8365952.0, 8365952.0, 5436519.0, 5436519.0, 5436519.0, 6789319.0, 6789319.0, 6789319.0, 855444.0, 855444.0, 855444.0, 5490726.0, 5490726.0, 5490726.0, 6809946.0, 6809946.0, 6809946.0, 10052564.0, 10052564.0, 10052564.0, 38982847.0, 38982847.0, 38982847.0, 5996079.0, 5996079.0, 5996079.0, 7169967.0, 7169967.0, 7169967.0, 8960161.0, 8960161.0, 8960161.0, 855444.0, 855444.0, 855444.0, 38982847.0, 38982847.0, 38982847.0, 2993941.0, 2993941.0, 2993941.0, 2986220.0, 2986220.0, 2986220.0, 6809946.0, 6809946.0, 6809946.0, 6789319.0, 6789319.0, 6789319.0, 1836843.0, 1836843.0, 1836843.0, 2903820.0, 2903820.0, 2903820.0, 1893921.0, 1893921.0, 1893921.0, 4893444.0, 4893444.0, 4893444.0, 738565.0, 738565.0, 738565.0, 7169967.0, 7169967.0, 7169967.0, 10201635.0, 10201635.0, 10201635.0, 7169967.0, 7169967.0, 7169967.0, 4025127.0, 4025127.0, 4025127.0, 6809946.0, 6809946.0, 6809946.0, 6075300.0, 6075300.0, 6075300.0, 27419612.0, 27419612.0, 27419612.0, 8960161.0, 8960161.0, 8960161.0, 27419612.0, 27419612.0, 27419612.0, 2084828.0, 2084828.0, 2084828.0, 6809946.0, 6809946.0, 6809946.0, 2977944.0, 2977944.0, 2977944.0, 8365952.0, 8365952.0, 8365952.0, 2084828.0, 2084828.0, 2084828.0, 11609756.0, 11609756.0, 11609756.0, 38982847.0, 38982847.0, 38982847.0, 5490726.0, 5490726.0, 5490726.0, 9925568.0, 9925568.0, 9925568.0, 5996079.0, 5996079.0, 5996079.0, 6809946.0, 6809946.0, 6809946.0, 38982847.0, 38982847.0, 38982847.0, 38982847.0, 38982847.0, 38982847.0, 8365952.0, 8365952.0, 8365952.0, 1421658.0, 1421658.0, 1421658.0, 1421658.0, 1421658.0, 1421658.0, 2993941.0, 2993941.0, 2993941.0, 38982847.0, 38982847.0, 38982847.0, 8365952.0, 8365952.0, 8365952.0, 27419612.0, 27419612.0, 27419612.0, 9925568.0, 9925568.0, 9925568.0, 5436519.0, 5436519.0, 5436519.0, 38982847.0, 38982847.0, 38982847.0, 1056138.0, 1056138.0, 1056138.0, 4850771.0, 4850771.0, 4850771.0, 27419612.0, 27419612.0, 27419612.0, 1330158.0, 1330158.0, 1330158.0, 38982847.0, 38982847.0, 38982847.0, 1331848.0, 1331848.0, 1331848.0, 6809946.0, 6809946.0, 6809946.0, 19798228.0, 19798228.0, 19798228.0, 6789319.0, 6789319.0, 6789319.0, 7169967.0, 7169967.0, 7169967.0, 6789319.0, 6789319.0, 6789319.0, 38982847.0, 38982847.0, 38982847.0, 5436519.0, 5436519.0, 5436519.0, 19798228.0, 19798228.0, 19798228.0, 2084828.0, 2084828.0, 2084828.0, 19798228.0, 19798228.0, 19798228.0, 1893921.0, 1893921.0, 1893921.0, 8365952.0, 8365952.0, 8365952.0, 738565.0, 738565.0, 738565.0, 9925568.0, 9925568.0, 9925568.0, 6789319.0, 6789319.0, 6789319.0, 12790505.0, 12790505.0, 12790505.0, 19798228.0, 19798228.0, 19798228.0, 19798228.0, 19798228.0, 19798228.0, 6597381.0, 6597381.0, 6597381.0, 6809946.0, 6809946.0, 6809946.0, 2903820.0, 2903820.0, 2903820.0, 12790505.0, 12790505.0, 12790505.0, 19798228.0, 19798228.0, 19798228.0, 19798228.0, 19798228.0, 19798228.0, 745475.0, 745475.0, 745475.0, 5996079.0, 5996079.0, 5996079.0, 2993941.0, 2993941.0, 2993941.0, 20278447.0, 20278447.0, 20278447.0, 6809946.0, 6809946.0, 6809946.0, 4850771.0, 4850771.0, 4850771.0, 4850771.0, 4850771.0, 4850771.0, 6809946.0, 6809946.0, 6809946.0, 6809946.0, 6809946.0, 6809946.0, 6075300.0, 6075300.0, 6075300.0, 12790505.0, 12790505.0, 12790505.0, 1421658.0, 1421658.0, 1421658.0, 19798228.0, 19798228.0, 19798228.0, 5490726.0, 5490726.0, 5490726.0, 3896251.0, 3896251.0, 3896251.0, 6809946.0, 6809946.0, 6809946.0, 27419612.0, 27419612.0, 27419612.0, 3594478.0, 3594478.0, 3594478.0, 38982847.0, 38982847.0, 38982847.0, 7169967.0, 7169967.0, 7169967.0, 2084828.0, 2084828.0, 2084828.0, 855444.0, 855444.0, 855444.0, 2977944.0, 2977944.0, 2977944.0, 6075300.0, 6075300.0, 6075300.0, 11609756.0, 11609756.0, 11609756.0, 19798228.0, 19798228.0, 19798228.0, 8365952.0, 8365952.0, 8365952.0, 10052564.0, 10052564.0, 10052564.0, 738565.0, 738565.0, 738565.0, 6809946.0, 6809946.0, 6809946.0, 38982847.0, 38982847.0, 38982847.0, 738565.0, 738565.0, 738565.0, 2993941.0, 2993941.0, 2993941.0], \"xaxis\": \"x\", \"y\": [40206974, 43357526, 39287542, 40206974, 43357526, 39287542, 40206974, 43357526, 39287542, 40206974, 43357526, 39287542, 40206974, 43357526, 39287542, 40206974, 43357526, 39287542, 40206974, 43357526, 39287542, 40206974, 43357526, 39287542, 40206974, 43357526, 39287542, 40206974, 43357526, 39287542, 40206974, 43357526, 39287542, 40206974, 43357526, 39287542, 40206974, 43357526, 39287542, 40206974, 43357526, 39287542, 40206974, 43357526, 39287542, 40206974, 43357526, 39287542, 40206974, 43357526, 39287542, 40206974, 43357526, 39287542, 40206974, 43357526, 39287542, 40206974, 43357526, 39287542, 40206974, 43357526, 39287542, 40206974, 43357526, 39287542, 40206974, 43357526, 39287542, 40206974, 43357526, 39287542, 40206974, 43357526, 39287542, 40206974, 43357526, 39287542, 40206974, 43357526, 39287542, 40206974, 43357526, 39287542, 40206974, 43357526, 39287542, 40206974, 43357526, 39287542, 40206974, 43357526, 39287542, 40206974, 43357526, 39287542, 40206974, 43357526, 39287542, 40206974, 43357526, 39287542, 40206974, 43357526, 39287542, 40206974, 43357526, 39287542, 40206974, 43357526, 39287542, 40206974, 43357526, 39287542, 40206974, 43357526, 39287542, 40206974, 43357526, 39287542, 40206974, 43357526, 39287542, 40206974, 43357526, 39287542, 40206974, 43357526, 39287542, 40206974, 43357526, 39287542, 40206974, 43357526, 39287542, 40206974, 43357526, 39287542, 40206974, 43357526, 39287542, 40206974, 43357526, 39287542, 40206974, 43357526, 39287542, 40206974, 43357526, 39287542, 40206974, 43357526, 39287542, 40206974, 43357526, 39287542, 40206974, 43357526, 39287542, 40206974, 43357526, 39287542, 40206974, 43357526, 39287542, 40206974, 43357526, 39287542, 40206974, 43357526, 39287542, 40206974, 43357526, 39287542, 40206974, 43357526, 39287542, 40206974, 43357526, 39287542, 40206974, 43357526, 39287542, 40206974, 43357526, 39287542, 40206974, 43357526, 39287542, 40206974, 43357526, 39287542, 40206974, 43357526, 39287542, 40206974, 43357526, 39287542, 40206974, 43357526, 39287542, 40206974, 43357526, 39287542, 40206974, 43357526, 39287542, 40206974, 43357526, 39287542, 40206974, 43357526, 39287542, 40206974, 43357526, 39287542, 40206974, 43357526, 39287542, 40206974, 43357526, 39287542, 40206974, 43357526, 39287542, 40206974, 43357526, 39287542, 40206974, 43357526, 39287542, 40206974, 43357526, 39287542, 40206974, 43357526, 39287542, 40206974, 43357526, 39287542, 40206974, 43357526, 39287542, 40206974, 43357526, 39287542, 40206974, 43357526, 39287542, 40206974, 43357526, 39287542, 40206974, 43357526, 39287542, 40206974, 43357526, 39287542, 40206974, 43357526, 39287542, 40206974, 43357526, 39287542, 40206974, 43357526, 39287542, 40206974, 43357526, 39287542, 40206974, 43357526, 39287542, 40206974, 43357526, 39287542, 40206974, 43357526, 39287542, 40206974, 43357526, 39287542, 40206974, 43357526, 39287542, 40206974, 43357526, 39287542, 40206974, 43357526, 39287542, 40206974, 43357526, 39287542, 40206974, 43357526, 39287542, 40206974, 43357526, 39287542, 40206974, 43357526, 39287542, 40206974, 43357526, 39287542, 40206974, 43357526, 39287542, 40206974, 43357526, 39287542, 40206974, 43357526, 39287542, 40206974, 43357526, 39287542, 40206974, 43357526, 39287542, 40206974, 43357526, 39287542, 40206974, 43357526, 39287542, 40206974, 43357526, 39287542, 40206974, 43357526, 39287542, 40206974, 43357526, 39287542, 40206974, 43357526, 39287542, 40206974, 43357526, 39287542, 40206974, 43357526, 39287542, 40206974, 43357526, 39287542, 40206974, 43357526, 39287542, 40206974, 43357526, 39287542, 40206974, 43357526, 39287542, 40206974, 43357526, 39287542, 40206974, 43357526, 39287542, 40206974, 43357526, 39287542, 40206974, 43357526, 39287542, 40206974, 43357526, 39287542, 40206974, 43357526, 39287542, 40206974, 43357526, 39287542, 40206974, 43357526, 39287542, 40206974, 43357526, 39287542, 40206974, 43357526, 39287542, 40206974, 43357526, 39287542, 40206974, 43357526, 39287542, 40206974, 43357526, 39287542, 40206974, 43357526, 39287542, 40206974, 43357526, 39287542, 40206974, 43357526, 39287542, 40206974, 43357526, 39287542, 40206974, 43357526, 39287542, 40206974, 43357526, 39287542, 40206974, 43357526, 39287542, 40206974, 43357526, 39287542, 40206974, 43357526, 39287542, 40206974, 43357526, 39287542, 40206974, 43357526, 39287542, 40206974, 43357526, 39287542, 40206974, 43357526, 39287542, 40206974, 43357526, 39287542, 40206974, 43357526, 39287542, 40206974, 43357526, 39287542, 40206974, 43357526, 39287542, 40206974, 43357526, 39287542, 40206974, 43357526, 39287542, 40206974, 43357526, 39287542, 40206974, 43357526, 39287542, 40206974, 43357526, 39287542, 40206974, 43357526, 39287542, 40206974, 43357526, 39287542, 40206974, 43357526, 39287542, 40206974, 43357526, 39287542, 40206974, 43357526, 39287542, 40206974, 43357526, 39287542, 40206974, 43357526, 39287542, 40206974, 43357526, 39287542, 40206974, 43357526, 39287542, 40206974, 43357526, 39287542, 40206974, 43357526, 39287542, 40206974, 43357526, 39287542, 40206974, 43357526, 39287542, 40206974, 43357526, 39287542, 40206974, 43357526, 39287542, 40206974, 43357526, 39287542, 40206974, 43357526, 39287542, 40206974, 43357526, 39287542, 40206974, 43357526, 39287542, 40206974, 43357526, 39287542, 40206974, 43357526, 39287542, 40206974, 43357526, 39287542, 40206974, 43357526, 39287542, 40206974, 43357526, 39287542, 40206974, 43357526, 39287542, 40206974, 43357526, 39287542, 40206974, 43357526, 39287542, 40206974, 43357526, 39287542, 40206974, 43357526, 39287542, 40206974, 43357526, 39287542, 40206974, 43357526, 39287542, 40206974, 43357526, 39287542, 40206974, 43357526, 39287542, 40206974, 43357526, 39287542, 40206974, 43357526, 39287542, 40206974, 43357526, 39287542, 40206974, 43357526, 39287542, 40206974, 43357526, 39287542, 40206974, 43357526, 39287542, 40206974, 43357526, 39287542, 40206974, 43357526, 39287542, 40206974, 43357526, 39287542, 40206974, 43357526, 39287542, 40206974, 43357526, 39287542, 40206974, 43357526, 39287542, 40206974, 43357526, 39287542, 40206974, 43357526, 39287542, 40206974, 43357526, 39287542, 40206974, 43357526, 39287542, 40206974, 43357526, 39287542, 40206974, 43357526, 39287542, 40206974, 43357526, 39287542, 40206974, 43357526, 39287542, 40206974, 43357526, 39287542, 40206974, 43357526, 39287542, 40206974, 43357526, 39287542, 40206974, 43357526, 39287542, 40206974, 43357526, 39287542, 40206974, 43357526, 39287542, 40206974, 43357526, 39287542, 40206974, 43357526, 39287542, 40206974, 43357526, 39287542, 40206974, 43357526, 39287542, 40206974, 43357526, 39287542, 40206974, 43357526, 39287542, 40206974, 43357526, 39287542, 40206974, 43357526, 39287542, 40206974, 43357526, 39287542, 40206974, 43357526, 39287542, 40206974, 43357526, 39287542, 40206974, 43357526, 39287542, 40206974, 43357526, 39287542, 40206974, 43357526, 39287542, 40206974, 43357526, 39287542, 40206974, 43357526, 39287542, 40206974, 43357526, 39287542, 40206974, 43357526, 39287542, 40206974, 43357526, 39287542, 40206974, 43357526, 39287542, 40206974, 43357526, 39287542, 40206974, 43357526, 39287542, 40206974, 43357526, 39287542, 40206974, 43357526, 39287542, 40206974, 43357526, 39287542, 40206974, 43357526, 39287542, 40206974, 43357526, 39287542, 40206974, 43357526, 39287542, 40206974, 43357526, 39287542, 40206974, 43357526, 39287542, 40206974, 43357526, 39287542, 40206974, 43357526, 39287542, 40206974, 43357526, 39287542, 40206974, 43357526, 39287542, 40206974, 43357526, 39287542, 40206974, 43357526, 39287542, 40206974, 43357526, 39287542, 40206974, 43357526, 39287542, 40206974, 43357526, 39287542, 40206974, 43357526, 39287542, 40206974, 43357526, 39287542, 40206974, 43357526, 39287542, 40206974, 43357526, 39287542, 40206974, 43357526, 39287542, 40206974, 43357526, 39287542, 40206974, 43357526, 39287542, 40206974, 43357526, 39287542, 40206974, 43357526, 39287542, 40206974, 43357526, 39287542, 40206974, 43357526, 39287542, 40206974, 43357526, 39287542, 40206974, 43357526, 39287542, 40206974, 43357526, 39287542, 40206974, 43357526, 39287542, 40206974, 43357526, 39287542, 40206974, 43357526, 39287542, 40206974, 43357526, 39287542, 40206974, 43357526, 39287542, 40206974, 43357526, 39287542, 40206974, 43357526, 39287542, 40206974, 43357526, 39287542, 40206974, 43357526, 39287542, 40206974, 43357526, 39287542, 40206974, 43357526, 39287542, 40206974, 43357526, 39287542, 40206974, 43357526, 39287542, 40206974, 43357526, 39287542, 40206974, 43357526, 39287542, 40206974, 43357526, 39287542, 40206974, 43357526, 39287542, 40206974, 43357526, 39287542, 40206974, 43357526, 39287542, 40206974, 43357526, 39287542, 40206974, 43357526, 39287542, 40206974, 43357526, 39287542, 40206974, 43357526, 39287542, 40206974, 43357526, 39287542, 40206974, 43357526, 39287542, 40206974, 43357526, 39287542, 40206974, 43357526, 39287542, 40206974, 43357526, 39287542, 40206974, 43357526, 39287542, 40206974, 43357526, 39287542, 40206974, 43357526, 39287542, 40206974, 43357526, 39287542, 40206974, 43357526, 39287542, 40206974, 43357526, 39287542, 40206974, 43357526, 39287542, 40206974, 43357526, 39287542, 40206974, 43357526, 39287542, 40206974, 43357526, 39287542, 40206974, 43357526, 39287542, 40206974, 43357526, 39287542, 40206974, 43357526, 39287542, 40206974, 43357526, 39287542, 40206974, 43357526, 39287542, 40206974, 43357526, 39287542, 40206974, 43357526, 39287542], \"yaxis\": \"y\"}],\n",
       "                        {\"legend\": {\"itemsizing\": \"constant\", \"tracegroupgap\": 0}, \"margin\": {\"t\": 60}, \"template\": {\"data\": {\"bar\": [{\"error_x\": {\"color\": \"#2a3f5f\"}, \"error_y\": {\"color\": \"#2a3f5f\"}, \"marker\": {\"line\": {\"color\": \"#E5ECF6\", \"width\": 0.5}}, \"type\": \"bar\"}], \"barpolar\": [{\"marker\": {\"line\": {\"color\": \"#E5ECF6\", \"width\": 0.5}}, \"type\": \"barpolar\"}], \"carpet\": [{\"aaxis\": {\"endlinecolor\": \"#2a3f5f\", \"gridcolor\": \"white\", \"linecolor\": \"white\", \"minorgridcolor\": \"white\", \"startlinecolor\": \"#2a3f5f\"}, \"baxis\": {\"endlinecolor\": \"#2a3f5f\", \"gridcolor\": \"white\", \"linecolor\": \"white\", \"minorgridcolor\": \"white\", \"startlinecolor\": \"#2a3f5f\"}, \"type\": \"carpet\"}], \"choropleth\": [{\"colorbar\": {\"outlinewidth\": 0, \"ticks\": \"\"}, \"type\": \"choropleth\"}], \"contour\": [{\"colorbar\": {\"outlinewidth\": 0, \"ticks\": \"\"}, \"colorscale\": [[0.0, \"#0d0887\"], [0.1111111111111111, \"#46039f\"], [0.2222222222222222, \"#7201a8\"], [0.3333333333333333, \"#9c179e\"], [0.4444444444444444, \"#bd3786\"], [0.5555555555555556, \"#d8576b\"], [0.6666666666666666, \"#ed7953\"], [0.7777777777777778, \"#fb9f3a\"], [0.8888888888888888, \"#fdca26\"], [1.0, \"#f0f921\"]], \"type\": \"contour\"}], \"contourcarpet\": [{\"colorbar\": {\"outlinewidth\": 0, \"ticks\": \"\"}, \"type\": \"contourcarpet\"}], \"heatmap\": [{\"colorbar\": {\"outlinewidth\": 0, \"ticks\": \"\"}, \"colorscale\": [[0.0, \"#0d0887\"], [0.1111111111111111, \"#46039f\"], [0.2222222222222222, \"#7201a8\"], [0.3333333333333333, \"#9c179e\"], [0.4444444444444444, \"#bd3786\"], [0.5555555555555556, \"#d8576b\"], [0.6666666666666666, \"#ed7953\"], [0.7777777777777778, \"#fb9f3a\"], [0.8888888888888888, \"#fdca26\"], [1.0, \"#f0f921\"]], \"type\": \"heatmap\"}], \"heatmapgl\": [{\"colorbar\": {\"outlinewidth\": 0, \"ticks\": \"\"}, \"colorscale\": [[0.0, \"#0d0887\"], [0.1111111111111111, \"#46039f\"], [0.2222222222222222, \"#7201a8\"], [0.3333333333333333, \"#9c179e\"], [0.4444444444444444, \"#bd3786\"], [0.5555555555555556, \"#d8576b\"], [0.6666666666666666, \"#ed7953\"], [0.7777777777777778, \"#fb9f3a\"], [0.8888888888888888, \"#fdca26\"], [1.0, \"#f0f921\"]], \"type\": \"heatmapgl\"}], \"histogram\": [{\"marker\": {\"colorbar\": {\"outlinewidth\": 0, \"ticks\": \"\"}}, \"type\": \"histogram\"}], \"histogram2d\": [{\"colorbar\": {\"outlinewidth\": 0, \"ticks\": \"\"}, \"colorscale\": [[0.0, \"#0d0887\"], [0.1111111111111111, \"#46039f\"], [0.2222222222222222, \"#7201a8\"], [0.3333333333333333, \"#9c179e\"], [0.4444444444444444, \"#bd3786\"], [0.5555555555555556, \"#d8576b\"], [0.6666666666666666, \"#ed7953\"], [0.7777777777777778, \"#fb9f3a\"], [0.8888888888888888, \"#fdca26\"], [1.0, \"#f0f921\"]], \"type\": \"histogram2d\"}], \"histogram2dcontour\": [{\"colorbar\": {\"outlinewidth\": 0, \"ticks\": \"\"}, \"colorscale\": [[0.0, \"#0d0887\"], [0.1111111111111111, \"#46039f\"], [0.2222222222222222, \"#7201a8\"], [0.3333333333333333, \"#9c179e\"], [0.4444444444444444, \"#bd3786\"], [0.5555555555555556, \"#d8576b\"], [0.6666666666666666, \"#ed7953\"], [0.7777777777777778, \"#fb9f3a\"], [0.8888888888888888, \"#fdca26\"], [1.0, \"#f0f921\"]], \"type\": \"histogram2dcontour\"}], \"mesh3d\": [{\"colorbar\": {\"outlinewidth\": 0, \"ticks\": \"\"}, \"type\": \"mesh3d\"}], \"parcoords\": [{\"line\": {\"colorbar\": {\"outlinewidth\": 0, \"ticks\": \"\"}}, \"type\": \"parcoords\"}], \"pie\": [{\"automargin\": true, \"type\": \"pie\"}], \"scatter\": [{\"marker\": {\"colorbar\": {\"outlinewidth\": 0, \"ticks\": \"\"}}, \"type\": \"scatter\"}], \"scatter3d\": [{\"line\": {\"colorbar\": {\"outlinewidth\": 0, \"ticks\": \"\"}}, \"marker\": {\"colorbar\": {\"outlinewidth\": 0, \"ticks\": \"\"}}, \"type\": \"scatter3d\"}], \"scattercarpet\": [{\"marker\": {\"colorbar\": {\"outlinewidth\": 0, \"ticks\": \"\"}}, \"type\": \"scattercarpet\"}], \"scattergeo\": [{\"marker\": {\"colorbar\": {\"outlinewidth\": 0, \"ticks\": \"\"}}, \"type\": \"scattergeo\"}], \"scattergl\": [{\"marker\": {\"colorbar\": {\"outlinewidth\": 0, \"ticks\": \"\"}}, \"type\": \"scattergl\"}], \"scattermapbox\": [{\"marker\": {\"colorbar\": {\"outlinewidth\": 0, \"ticks\": \"\"}}, \"type\": \"scattermapbox\"}], \"scatterpolar\": [{\"marker\": {\"colorbar\": {\"outlinewidth\": 0, \"ticks\": \"\"}}, \"type\": \"scatterpolar\"}], \"scatterpolargl\": [{\"marker\": {\"colorbar\": {\"outlinewidth\": 0, \"ticks\": \"\"}}, \"type\": \"scatterpolargl\"}], \"scatterternary\": [{\"marker\": {\"colorbar\": {\"outlinewidth\": 0, \"ticks\": \"\"}}, \"type\": \"scatterternary\"}], \"surface\": [{\"colorbar\": {\"outlinewidth\": 0, \"ticks\": \"\"}, \"colorscale\": [[0.0, \"#0d0887\"], [0.1111111111111111, \"#46039f\"], [0.2222222222222222, \"#7201a8\"], [0.3333333333333333, \"#9c179e\"], [0.4444444444444444, \"#bd3786\"], [0.5555555555555556, \"#d8576b\"], [0.6666666666666666, \"#ed7953\"], [0.7777777777777778, \"#fb9f3a\"], [0.8888888888888888, \"#fdca26\"], [1.0, \"#f0f921\"]], \"type\": \"surface\"}], \"table\": [{\"cells\": {\"fill\": {\"color\": \"#EBF0F8\"}, \"line\": {\"color\": \"white\"}}, \"header\": {\"fill\": {\"color\": \"#C8D4E3\"}, \"line\": {\"color\": \"white\"}}, \"type\": \"table\"}]}, \"layout\": {\"annotationdefaults\": {\"arrowcolor\": \"#2a3f5f\", \"arrowhead\": 0, \"arrowwidth\": 1}, \"coloraxis\": {\"colorbar\": {\"outlinewidth\": 0, \"ticks\": \"\"}}, \"colorscale\": {\"diverging\": [[0, \"#8e0152\"], [0.1, \"#c51b7d\"], [0.2, \"#de77ae\"], [0.3, \"#f1b6da\"], [0.4, \"#fde0ef\"], [0.5, \"#f7f7f7\"], [0.6, \"#e6f5d0\"], [0.7, \"#b8e186\"], [0.8, \"#7fbc41\"], [0.9, \"#4d9221\"], [1, \"#276419\"]], \"sequential\": [[0.0, \"#0d0887\"], [0.1111111111111111, \"#46039f\"], [0.2222222222222222, \"#7201a8\"], [0.3333333333333333, \"#9c179e\"], [0.4444444444444444, \"#bd3786\"], [0.5555555555555556, \"#d8576b\"], [0.6666666666666666, \"#ed7953\"], [0.7777777777777778, \"#fb9f3a\"], [0.8888888888888888, \"#fdca26\"], [1.0, \"#f0f921\"]], \"sequentialminus\": [[0.0, \"#0d0887\"], [0.1111111111111111, \"#46039f\"], [0.2222222222222222, \"#7201a8\"], [0.3333333333333333, \"#9c179e\"], [0.4444444444444444, \"#bd3786\"], [0.5555555555555556, \"#d8576b\"], [0.6666666666666666, \"#ed7953\"], [0.7777777777777778, \"#fb9f3a\"], [0.8888888888888888, \"#fdca26\"], [1.0, \"#f0f921\"]]}, \"colorway\": [\"#636efa\", \"#EF553B\", \"#00cc96\", \"#ab63fa\", \"#FFA15A\", \"#19d3f3\", \"#FF6692\", \"#B6E880\", \"#FF97FF\", \"#FECB52\"], \"font\": {\"color\": \"#2a3f5f\"}, \"geo\": {\"bgcolor\": \"white\", \"lakecolor\": \"white\", \"landcolor\": \"#E5ECF6\", \"showlakes\": true, \"showland\": true, \"subunitcolor\": \"white\"}, \"hoverlabel\": {\"align\": \"left\"}, \"hovermode\": \"closest\", \"mapbox\": {\"style\": \"light\"}, \"paper_bgcolor\": \"white\", \"plot_bgcolor\": \"#E5ECF6\", \"polar\": {\"angularaxis\": {\"gridcolor\": \"white\", \"linecolor\": \"white\", \"ticks\": \"\"}, \"bgcolor\": \"#E5ECF6\", \"radialaxis\": {\"gridcolor\": \"white\", \"linecolor\": \"white\", \"ticks\": \"\"}}, \"scene\": {\"xaxis\": {\"backgroundcolor\": \"#E5ECF6\", \"gridcolor\": \"white\", \"gridwidth\": 2, \"linecolor\": \"white\", \"showbackground\": true, \"ticks\": \"\", \"zerolinecolor\": \"white\"}, \"yaxis\": {\"backgroundcolor\": \"#E5ECF6\", \"gridcolor\": \"white\", \"gridwidth\": 2, \"linecolor\": \"white\", \"showbackground\": true, \"ticks\": \"\", \"zerolinecolor\": \"white\"}, \"zaxis\": {\"backgroundcolor\": \"#E5ECF6\", \"gridcolor\": \"white\", \"gridwidth\": 2, \"linecolor\": \"white\", \"showbackground\": true, \"ticks\": \"\", \"zerolinecolor\": \"white\"}}, \"shapedefaults\": {\"line\": {\"color\": \"#2a3f5f\"}}, \"ternary\": {\"aaxis\": {\"gridcolor\": \"white\", \"linecolor\": \"white\", \"ticks\": \"\"}, \"baxis\": {\"gridcolor\": \"white\", \"linecolor\": \"white\", \"ticks\": \"\"}, \"bgcolor\": \"#E5ECF6\", \"caxis\": {\"gridcolor\": \"white\", \"linecolor\": \"white\", \"ticks\": \"\"}}, \"title\": {\"x\": 0.05}, \"xaxis\": {\"automargin\": true, \"gridcolor\": \"white\", \"linecolor\": \"white\", \"ticks\": \"\", \"title\": {\"standoff\": 15}, \"zerolinecolor\": \"white\", \"zerolinewidth\": 2}, \"yaxis\": {\"automargin\": true, \"gridcolor\": \"white\", \"linecolor\": \"white\", \"ticks\": \"\", \"title\": {\"standoff\": 15}, \"zerolinecolor\": \"white\", \"zerolinewidth\": 2}}}, \"title\": {\"text\": \"Population vs. Total Visitor\"}, \"xaxis\": {\"anchor\": \"y\", \"domain\": [0.0, 1.0], \"title\": {\"text\": \"Population\"}}, \"yaxis\": {\"anchor\": \"x\", \"domain\": [0.0, 1.0], \"title\": {\"text\": \"Total Visitors\"}}},\n",
       "                        {\"responsive\": true}\n",
       "                    ).then(function(){\n",
       "                            \n",
       "var gd = document.getElementById('869329ea-d041-4eaa-bec7-86ba172b50a7');\n",
       "var x = new MutationObserver(function (mutations, observer) {{\n",
       "        var display = window.getComputedStyle(gd).display;\n",
       "        if (!display || display === 'none') {{\n",
       "            console.log([gd, 'removed!']);\n",
       "            Plotly.purge(gd);\n",
       "            observer.disconnect();\n",
       "        }}\n",
       "}});\n",
       "\n",
       "// Listen for the removal of the full notebook cells\n",
       "var notebookContainer = gd.closest('#notebook-container');\n",
       "if (notebookContainer) {{\n",
       "    x.observe(notebookContainer, {childList: true});\n",
       "}}\n",
       "\n",
       "// Listen for the clearing of the current output cell\n",
       "var outputEl = gd.closest('.output');\n",
       "if (outputEl) {{\n",
       "    x.observe(outputEl, {childList: true});\n",
       "}}\n",
       "\n",
       "                        })\n",
       "                };\n",
       "                });\n",
       "            </script>\n",
       "        </div>"
      ]
     },
     "metadata": {},
     "output_type": "display_data"
    }
   ],
   "source": [
    "fig = px.scatter(Summer, x=\"Population\", y=\"Total Visitors\", hover_data=[\"State Code\"], size=\"Month\" )\n",
    "fig.update_layout(title='Population vs. Total Visitor')\n",
    "# fig.show()"
   ]
  },
  {
   "cell_type": "code",
   "execution_count": null,
   "metadata": {},
   "outputs": [],
   "source": []
  },
  {
   "cell_type": "code",
   "execution_count": 223,
   "metadata": {},
   "outputs": [
    {
     "data": {
      "text/html": [
       "<div>\n",
       "<style scoped>\n",
       "    .dataframe tbody tr th:only-of-type {\n",
       "        vertical-align: middle;\n",
       "    }\n",
       "\n",
       "    .dataframe tbody tr th {\n",
       "        vertical-align: top;\n",
       "    }\n",
       "\n",
       "    .dataframe thead th {\n",
       "        text-align: right;\n",
       "    }\n",
       "</style>\n",
       "<table border=\"1\" class=\"dataframe\">\n",
       "  <thead>\n",
       "    <tr style=\"text-align: right;\">\n",
       "      <th></th>\n",
       "      <th>Month</th>\n",
       "      <th>ParkCode</th>\n",
       "      <th>Full Name</th>\n",
       "      <th>Lat</th>\n",
       "      <th>Lon</th>\n",
       "      <th>State Code</th>\n",
       "      <th>Name</th>\n",
       "      <th>Latitude</th>\n",
       "      <th>Longitude</th>\n",
       "      <th>Total Visitors</th>\n",
       "      <th>Population</th>\n",
       "    </tr>\n",
       "  </thead>\n",
       "  <tbody>\n",
       "    <tr>\n",
       "      <td>8</td>\n",
       "      <td>9</td>\n",
       "      <td>ABLI</td>\n",
       "      <td>Abraham Lincoln Birthplace National Historical...</td>\n",
       "      <td>37.585866</td>\n",
       "      <td>-85.673305</td>\n",
       "      <td>KY</td>\n",
       "      <td>Kentucky</td>\n",
       "      <td>37.5347</td>\n",
       "      <td>-85.3021</td>\n",
       "      <td>31349153</td>\n",
       "      <td>4424376.0</td>\n",
       "    </tr>\n",
       "    <tr>\n",
       "      <td>9</td>\n",
       "      <td>10</td>\n",
       "      <td>ABLI</td>\n",
       "      <td>Abraham Lincoln Birthplace National Historical...</td>\n",
       "      <td>37.585866</td>\n",
       "      <td>-85.673305</td>\n",
       "      <td>KY</td>\n",
       "      <td>Kentucky</td>\n",
       "      <td>37.5347</td>\n",
       "      <td>-85.3021</td>\n",
       "      <td>26646960</td>\n",
       "      <td>4424376.0</td>\n",
       "    </tr>\n",
       "    <tr>\n",
       "      <td>10</td>\n",
       "      <td>11</td>\n",
       "      <td>ABLI</td>\n",
       "      <td>Abraham Lincoln Birthplace National Historical...</td>\n",
       "      <td>37.585866</td>\n",
       "      <td>-85.673305</td>\n",
       "      <td>KY</td>\n",
       "      <td>Kentucky</td>\n",
       "      <td>37.5347</td>\n",
       "      <td>-85.3021</td>\n",
       "      <td>18794009</td>\n",
       "      <td>4424376.0</td>\n",
       "    </tr>\n",
       "    <tr>\n",
       "      <td>20</td>\n",
       "      <td>9</td>\n",
       "      <td>ACAD</td>\n",
       "      <td>Acadia National Park</td>\n",
       "      <td>44.307775</td>\n",
       "      <td>-68.300633</td>\n",
       "      <td>ME</td>\n",
       "      <td>Maine</td>\n",
       "      <td>45.3695</td>\n",
       "      <td>-69.2428</td>\n",
       "      <td>31349153</td>\n",
       "      <td>1330158.0</td>\n",
       "    </tr>\n",
       "    <tr>\n",
       "      <td>21</td>\n",
       "      <td>10</td>\n",
       "      <td>ACAD</td>\n",
       "      <td>Acadia National Park</td>\n",
       "      <td>44.307775</td>\n",
       "      <td>-68.300633</td>\n",
       "      <td>ME</td>\n",
       "      <td>Maine</td>\n",
       "      <td>45.3695</td>\n",
       "      <td>-69.2428</td>\n",
       "      <td>26646960</td>\n",
       "      <td>1330158.0</td>\n",
       "    </tr>\n",
       "  </tbody>\n",
       "</table>\n",
       "</div>"
      ],
      "text/plain": [
       "    Month ParkCode                                          Full Name  \\\n",
       "8       9     ABLI  Abraham Lincoln Birthplace National Historical...   \n",
       "9      10     ABLI  Abraham Lincoln Birthplace National Historical...   \n",
       "10     11     ABLI  Abraham Lincoln Birthplace National Historical...   \n",
       "20      9     ACAD                               Acadia National Park   \n",
       "21     10     ACAD                               Acadia National Park   \n",
       "\n",
       "          Lat        Lon State Code      Name  Latitude  Longitude  \\\n",
       "8   37.585866 -85.673305         KY  Kentucky   37.5347   -85.3021   \n",
       "9   37.585866 -85.673305         KY  Kentucky   37.5347   -85.3021   \n",
       "10  37.585866 -85.673305         KY  Kentucky   37.5347   -85.3021   \n",
       "20  44.307775 -68.300633         ME     Maine   45.3695   -69.2428   \n",
       "21  44.307775 -68.300633         ME     Maine   45.3695   -69.2428   \n",
       "\n",
       "    Total Visitors  Population  \n",
       "8         31349153   4424376.0  \n",
       "9         26646960   4424376.0  \n",
       "10        18794009   4424376.0  \n",
       "20        31349153   1330158.0  \n",
       "21        26646960   1330158.0  "
      ]
     },
     "execution_count": 223,
     "metadata": {},
     "output_type": "execute_result"
    }
   ],
   "source": [
    "# Fall Season: Sep - Dec\n",
    "Fall= Final_Data[(Final_Data['Month']==9) | (Final_Data['Month']==10) | (Final_Data['Month']==11) ]\n",
    "Fall.head()"
   ]
  },
  {
   "cell_type": "code",
   "execution_count": 229,
   "metadata": {},
   "outputs": [
    {
     "data": {
      "application/vnd.plotly.v1+json": {
       "config": {
        "plotlyServerURL": "https://plot.ly"
       },
       "data": [
        {
         "customdata": [
          [
           "KY"
          ],
          [
           "KY"
          ],
          [
           "KY"
          ],
          [
           "ME"
          ],
          [
           "ME"
          ],
          [
           "ME"
          ],
          [
           "MA"
          ],
          [
           "MA"
          ],
          [
           "MA"
          ],
          [
           "NY"
          ],
          [
           "NY"
          ],
          [
           "NY"
          ],
          [
           "NE"
          ],
          [
           "NE"
          ],
          [
           "NE"
          ],
          [
           "TX"
          ],
          [
           "TX"
          ],
          [
           "TX"
          ],
          [
           "PA"
          ],
          [
           "PA"
          ],
          [
           "PA"
          ],
          [
           "TX"
          ],
          [
           "TX"
          ],
          [
           "TX"
          ],
          [
           "GA"
          ],
          [
           "GA"
          ],
          [
           "GA"
          ],
          [
           "AK"
          ],
          [
           "AK"
          ],
          [
           "AK"
          ],
          [
           "TN"
          ],
          [
           "TN"
          ],
          [
           "TN"
          ],
          [
           "MD"
          ],
          [
           "MD"
          ],
          [
           "MD"
          ],
          [
           "VA"
          ],
          [
           "VA"
          ],
          [
           "VA"
          ],
          [
           "WI"
          ],
          [
           "WI"
          ],
          [
           "WI"
          ],
          [
           "UT"
          ],
          [
           "UT"
          ],
          [
           "UT"
          ],
          [
           "VA"
          ],
          [
           "VA"
          ],
          [
           "VA"
          ],
          [
           "AR"
          ],
          [
           "AR"
          ],
          [
           "AR"
          ],
          [
           "NM"
          ],
          [
           "NM"
          ],
          [
           "NM"
          ],
          [
           "SD"
          ],
          [
           "SD"
          ],
          [
           "SD"
          ],
          [
           "NM"
          ],
          [
           "NM"
          ],
          [
           "NM"
          ],
          [
           "AK"
          ],
          [
           "AK"
          ],
          [
           "AK"
          ],
          [
           "CO"
          ],
          [
           "CO"
          ],
          [
           "CO"
          ],
          [
           "TX"
          ],
          [
           "TX"
          ],
          [
           "TX"
          ],
          [
           "FL"
          ],
          [
           "FL"
          ],
          [
           "FL"
          ],
          [
           "MT"
          ],
          [
           "MT"
          ],
          [
           "MT"
          ],
          [
           "FL"
          ],
          [
           "FL"
          ],
          [
           "FL"
          ],
          [
           "TX"
          ],
          [
           "TX"
          ],
          [
           "TX"
          ],
          [
           "CO"
          ],
          [
           "CO"
          ],
          [
           "CO"
          ],
          [
           "WV"
          ],
          [
           "WV"
          ],
          [
           "WV"
          ],
          [
           "MA"
          ],
          [
           "MA"
          ],
          [
           "MA"
          ],
          [
           "MA"
          ],
          [
           "MA"
          ],
          [
           "MA"
          ],
          [
           "VA"
          ],
          [
           "VA"
          ],
          [
           "VA"
          ],
          [
           "UT"
          ],
          [
           "UT"
          ],
          [
           "UT"
          ],
          [
           "KS"
          ],
          [
           "KS"
          ],
          [
           "KS"
          ],
          [
           "AR"
          ],
          [
           "AR"
          ],
          [
           "AR"
          ],
          [
           "CA"
          ],
          [
           "CA"
          ],
          [
           "CA"
          ],
          [
           "AZ"
          ],
          [
           "AZ"
          ],
          [
           "AZ"
          ],
          [
           "NY"
          ],
          [
           "NY"
          ],
          [
           "NY"
          ],
          [
           "MA"
          ],
          [
           "MA"
          ],
          [
           "MA"
          ],
          [
           "AZ"
          ],
          [
           "AZ"
          ],
          [
           "AZ"
          ],
          [
           "NC"
          ],
          [
           "NC"
          ],
          [
           "NC"
          ],
          [
           "AK"
          ],
          [
           "AK"
          ],
          [
           "AK"
          ],
          [
           "NC"
          ],
          [
           "NC"
          ],
          [
           "NC"
          ],
          [
           "FL"
          ],
          [
           "FL"
          ],
          [
           "FL"
          ],
          [
           "UT"
          ],
          [
           "UT"
          ],
          [
           "UT"
          ],
          [
           "UT"
          ],
          [
           "UT"
          ],
          [
           "UT"
          ],
          [
           "LA"
          ],
          [
           "LA"
          ],
          [
           "LA"
          ],
          [
           "NC"
          ],
          [
           "NC"
          ],
          [
           "NC"
          ],
          [
           "FL"
          ],
          [
           "FL"
          ],
          [
           "FL"
          ],
          [
           "MD"
          ],
          [
           "MD"
          ],
          [
           "MD"
          ],
          [
           "NM"
          ],
          [
           "NM"
          ],
          [
           "NM"
          ],
          [
           "NM"
          ],
          [
           "NM"
          ],
          [
           "NM"
          ],
          [
           "UT"
          ],
          [
           "UT"
          ],
          [
           "UT"
          ],
          [
           "CA"
          ],
          [
           "CA"
          ],
          [
           "CA"
          ],
          [
           "TX"
          ],
          [
           "TX"
          ],
          [
           "TX"
          ],
          [
           "GA"
          ],
          [
           "GA"
          ],
          [
           "GA"
          ],
          [
           "NM"
          ],
          [
           "NM"
          ],
          [
           "NM"
          ],
          [
           "OK"
          ],
          [
           "OK"
          ],
          [
           "OK"
          ],
          [
           "AZ"
          ],
          [
           "AZ"
          ],
          [
           "AZ"
          ],
          [
           "CA"
          ],
          [
           "CA"
          ],
          [
           "CA"
          ],
          [
           "SC"
          ],
          [
           "SC"
          ],
          [
           "SC"
          ],
          [
           "AR"
          ],
          [
           "AR"
          ],
          [
           "AR"
          ],
          [
           "OH"
          ],
          [
           "OH"
          ],
          [
           "OH"
          ],
          [
           "ID"
          ],
          [
           "ID"
          ],
          [
           "ID"
          ],
          [
           "MD"
          ],
          [
           "MD"
          ],
          [
           "MD"
          ],
          [
           "CO"
          ],
          [
           "CO"
          ],
          [
           "CO"
          ],
          [
           "VA"
          ],
          [
           "VA"
          ],
          [
           "VA"
          ],
          [
           "SC"
          ],
          [
           "SC"
          ],
          [
           "SC"
          ],
          [
           "AZ"
          ],
          [
           "AZ"
          ],
          [
           "AZ"
          ],
          [
           "SC"
          ],
          [
           "SC"
          ],
          [
           "SC"
          ],
          [
           "OR"
          ],
          [
           "OR"
          ],
          [
           "OR"
          ],
          [
           "ID"
          ],
          [
           "ID"
          ],
          [
           "ID"
          ],
          [
           "GA"
          ],
          [
           "GA"
          ],
          [
           "GA"
          ],
          [
           "CO"
          ],
          [
           "CO"
          ],
          [
           "CO"
          ],
          [
           "OH"
          ],
          [
           "OH"
          ],
          [
           "OH"
          ],
          [
           "OH"
          ],
          [
           "OH"
          ],
          [
           "OH"
          ],
          [
           "AK"
          ],
          [
           "AK"
          ],
          [
           "AK"
          ],
          [
           "CA"
          ],
          [
           "CA"
          ],
          [
           "CA"
          ],
          [
           "FL"
          ],
          [
           "FL"
          ],
          [
           "FL"
          ],
          [
           "WY"
          ],
          [
           "WY"
          ],
          [
           "WY"
          ],
          [
           "FL"
          ],
          [
           "FL"
          ],
          [
           "FL"
          ],
          [
           "PA"
          ],
          [
           "PA"
          ],
          [
           "PA"
          ],
          [
           "NJ"
          ],
          [
           "NJ"
          ],
          [
           "NJ"
          ],
          [
           "IA"
          ],
          [
           "IA"
          ],
          [
           "IA"
          ],
          [
           "PA"
          ],
          [
           "PA"
          ],
          [
           "PA"
          ],
          [
           "NM"
          ],
          [
           "NM"
          ],
          [
           "NM"
          ],
          [
           "NM"
          ],
          [
           "NM"
          ],
          [
           "NM"
          ],
          [
           "NY"
          ],
          [
           "NY"
          ],
          [
           "NY"
          ],
          [
           "CA"
          ],
          [
           "CA"
          ],
          [
           "CA"
          ],
          [
           "FL"
          ],
          [
           "FL"
          ],
          [
           "FL"
          ],
          [
           "NY"
          ],
          [
           "NY"
          ],
          [
           "NY"
          ],
          [
           "NY"
          ],
          [
           "NY"
          ],
          [
           "NY"
          ],
          [
           "OH"
          ],
          [
           "OH"
          ],
          [
           "OH"
          ],
          [
           "CO"
          ],
          [
           "CO"
          ],
          [
           "CO"
          ],
          [
           "PA"
          ],
          [
           "PA"
          ],
          [
           "PA"
          ],
          [
           "AZ"
          ],
          [
           "AZ"
          ],
          [
           "AZ"
          ],
          [
           "WY"
          ],
          [
           "WY"
          ],
          [
           "WY"
          ],
          [
           "TX"
          ],
          [
           "TX"
          ],
          [
           "TX"
          ],
          [
           "GA"
          ],
          [
           "GA"
          ],
          [
           "GA"
          ],
          [
           "WY"
          ],
          [
           "WY"
          ],
          [
           "WY"
          ],
          [
           "KS"
          ],
          [
           "KS"
          ],
          [
           "KS"
          ],
          [
           "FL"
          ],
          [
           "FL"
          ],
          [
           "FL"
          ],
          [
           "MD"
          ],
          [
           "MD"
          ],
          [
           "MD"
          ],
          [
           "PA"
          ],
          [
           "PA"
          ],
          [
           "PA"
          ],
          [
           "CA"
          ],
          [
           "CA"
          ],
          [
           "CA"
          ],
          [
           "GA"
          ],
          [
           "GA"
          ],
          [
           "GA"
          ],
          [
           "NC"
          ],
          [
           "NC"
          ],
          [
           "NC"
          ],
          [
           "KS"
          ],
          [
           "KS"
          ],
          [
           "KS"
          ],
          [
           "NY"
          ],
          [
           "NY"
          ],
          [
           "NY"
          ],
          [
           "SC"
          ],
          [
           "SC"
          ],
          [
           "SC"
          ],
          [
           "NM"
          ],
          [
           "NM"
          ],
          [
           "NM"
          ],
          [
           "MD"
          ],
          [
           "MD"
          ],
          [
           "MD"
          ],
          [
           "PA"
          ],
          [
           "PA"
          ],
          [
           "PA"
          ],
          [
           "MA"
          ],
          [
           "MA"
          ],
          [
           "MA"
          ],
          [
           "VA"
          ],
          [
           "VA"
          ],
          [
           "VA"
          ],
          [
           "AK"
          ],
          [
           "AK"
          ],
          [
           "AK"
          ],
          [
           "WV"
          ],
          [
           "WV"
          ],
          [
           "WV"
          ],
          [
           "NY"
          ],
          [
           "NY"
          ],
          [
           "NY"
          ],
          [
           "IN"
          ],
          [
           "IN"
          ],
          [
           "IN"
          ],
          [
           "PA"
          ],
          [
           "PA"
          ],
          [
           "PA"
          ],
          [
           "VA"
          ],
          [
           "VA"
          ],
          [
           "VA"
          ],
          [
           "NM"
          ],
          [
           "NM"
          ],
          [
           "NM"
          ],
          [
           "MT"
          ],
          [
           "MT"
          ],
          [
           "MT"
          ],
          [
           "AK"
          ],
          [
           "AK"
          ],
          [
           "AK"
          ],
          [
           "CA"
          ],
          [
           "CA"
          ],
          [
           "CA"
          ],
          [
           "NY"
          ],
          [
           "NY"
          ],
          [
           "NY"
          ],
          [
           "UT"
          ],
          [
           "UT"
          ],
          [
           "UT"
          ],
          [
           "NV"
          ],
          [
           "NV"
          ],
          [
           "NV"
          ],
          [
           "AZ"
          ],
          [
           "AZ"
          ],
          [
           "AZ"
          ],
          [
           "MD"
          ],
          [
           "MD"
          ],
          [
           "MD"
          ],
          [
           "MT"
          ],
          [
           "MT"
          ],
          [
           "MT"
          ],
          [
           "MN"
          ],
          [
           "MN"
          ],
          [
           "MN"
          ],
          [
           "CO"
          ],
          [
           "CO"
          ],
          [
           "CO"
          ],
          [
           "WY"
          ],
          [
           "WY"
          ],
          [
           "WY"
          ],
          [
           "NC"
          ],
          [
           "NC"
          ],
          [
           "NC"
          ],
          [
           "TX"
          ],
          [
           "TX"
          ],
          [
           "TX"
          ],
          [
           "MO"
          ],
          [
           "MO"
          ],
          [
           "MO"
          ],
          [
           "ID"
          ],
          [
           "ID"
          ],
          [
           "ID"
          ],
          [
           "NY"
          ],
          [
           "NY"
          ],
          [
           "NY"
          ],
          [
           "HI"
          ],
          [
           "HI"
          ],
          [
           "HI"
          ],
          [
           "MD"
          ],
          [
           "MD"
          ],
          [
           "MD"
          ],
          [
           "HI"
          ],
          [
           "HI"
          ],
          [
           "HI"
          ],
          [
           "IA"
          ],
          [
           "IA"
          ],
          [
           "IA"
          ],
          [
           "AL"
          ],
          [
           "AL"
          ],
          [
           "AL"
          ],
          [
           "OH"
          ],
          [
           "OH"
          ],
          [
           "OH"
          ],
          [
           "NY"
          ],
          [
           "NY"
          ],
          [
           "NY"
          ],
          [
           "PA"
          ],
          [
           "PA"
          ],
          [
           "PA"
          ],
          [
           "NE"
          ],
          [
           "NE"
          ],
          [
           "NE"
          ],
          [
           "AR"
          ],
          [
           "AR"
          ],
          [
           "AR"
          ],
          [
           "MO"
          ],
          [
           "MO"
          ],
          [
           "MO"
          ],
          [
           "AZ"
          ],
          [
           "AZ"
          ],
          [
           "AZ"
          ],
          [
           "PA"
          ],
          [
           "PA"
          ],
          [
           "PA"
          ],
          [
           "IN"
          ],
          [
           "IN"
          ],
          [
           "IN"
          ],
          [
           "MI"
          ],
          [
           "MI"
          ],
          [
           "MI"
          ],
          [
           "OH"
          ],
          [
           "OH"
          ],
          [
           "OH"
          ],
          [
           "LA"
          ],
          [
           "LA"
          ],
          [
           "LA"
          ],
          [
           "SD"
          ],
          [
           "SD"
          ],
          [
           "SD"
          ],
          [
           "MO"
          ],
          [
           "MO"
          ],
          [
           "MO"
          ],
          [
           "LA"
          ],
          [
           "LA"
          ],
          [
           "LA"
          ],
          [
           "GA"
          ],
          [
           "GA"
          ],
          [
           "GA"
          ],
          [
           "OR"
          ],
          [
           "OR"
          ],
          [
           "OR"
          ],
          [
           "MA"
          ],
          [
           "MA"
          ],
          [
           "MA"
          ],
          [
           "PA"
          ],
          [
           "PA"
          ],
          [
           "PA"
          ],
          [
           "CA"
          ],
          [
           "CA"
          ],
          [
           "CA"
          ],
          [
           "CA"
          ],
          [
           "CA"
          ],
          [
           "CA"
          ],
          [
           "HI"
          ],
          [
           "HI"
          ],
          [
           "HI"
          ],
          [
           "HI"
          ],
          [
           "HI"
          ],
          [
           "HI"
          ],
          [
           "AK"
          ],
          [
           "AK"
          ],
          [
           "AK"
          ],
          [
           "AK"
          ],
          [
           "AK"
          ],
          [
           "AK"
          ],
          [
           "GA"
          ],
          [
           "GA"
          ],
          [
           "GA"
          ],
          [
           "MI"
          ],
          [
           "MI"
          ],
          [
           "MI"
          ],
          [
           "SC"
          ],
          [
           "SC"
          ],
          [
           "SC"
          ],
          [
           "AK"
          ],
          [
           "AK"
          ],
          [
           "AK"
          ],
          [
           "WA"
          ],
          [
           "WA"
          ],
          [
           "WA"
          ],
          [
           "ND"
          ],
          [
           "ND"
          ],
          [
           "ND"
          ],
          [
           "AK"
          ],
          [
           "AK"
          ],
          [
           "AK"
          ],
          [
           "CA"
          ],
          [
           "CA"
          ],
          [
           "CA"
          ],
          [
           "AK"
          ],
          [
           "AK"
          ],
          [
           "AK"
          ],
          [
           "TX"
          ],
          [
           "TX"
          ],
          [
           "TX"
          ],
          [
           "WA"
          ],
          [
           "WA"
          ],
          [
           "WA"
          ],
          [
           "CA"
          ],
          [
           "CA"
          ],
          [
           "CA"
          ],
          [
           "MT"
          ],
          [
           "MT"
          ],
          [
           "MT"
          ],
          [
           "IN"
          ],
          [
           "IN"
          ],
          [
           "IN"
          ],
          [
           "IL"
          ],
          [
           "IL"
          ],
          [
           "IL"
          ],
          [
           "AL"
          ],
          [
           "AL"
          ],
          [
           "AL"
          ],
          [
           "MA"
          ],
          [
           "MA"
          ],
          [
           "MA"
          ],
          [
           "MA"
          ],
          [
           "MA"
          ],
          [
           "MA"
          ],
          [
           "TX"
          ],
          [
           "TX"
          ],
          [
           "TX"
          ],
          [
           "VT"
          ],
          [
           "VT"
          ],
          [
           "VT"
          ],
          [
           "KY"
          ],
          [
           "KY"
          ],
          [
           "KY"
          ],
          [
           "GA"
          ],
          [
           "GA"
          ],
          [
           "GA"
          ],
          [
           "VA"
          ],
          [
           "VA"
          ],
          [
           "VA"
          ],
          [
           "CA"
          ],
          [
           "CA"
          ],
          [
           "CA"
          ],
          [
           "NY"
          ],
          [
           "NY"
          ],
          [
           "NY"
          ],
          [
           "VA"
          ],
          [
           "VA"
          ],
          [
           "VA"
          ],
          [
           "CO"
          ],
          [
           "CO"
          ],
          [
           "CO"
          ],
          [
           "MA"
          ],
          [
           "MA"
          ],
          [
           "MA"
          ],
          [
           "SD"
          ],
          [
           "SD"
          ],
          [
           "SD"
          ],
          [
           "MN"
          ],
          [
           "MN"
          ],
          [
           "MN"
          ],
          [
           "AZ"
          ],
          [
           "AZ"
          ],
          [
           "AZ"
          ],
          [
           "NC"
          ],
          [
           "NC"
          ],
          [
           "NC"
          ],
          [
           "CA"
          ],
          [
           "CA"
          ],
          [
           "CA"
          ],
          [
           "MD"
          ],
          [
           "MD"
          ],
          [
           "MD"
          ],
          [
           "WA"
          ],
          [
           "WA"
          ],
          [
           "WA"
          ],
          [
           "NJ"
          ],
          [
           "NJ"
          ],
          [
           "NJ"
          ],
          [
           "SD"
          ],
          [
           "SD"
          ],
          [
           "SD"
          ],
          [
           "CA"
          ],
          [
           "CA"
          ],
          [
           "CA"
          ],
          [
           "UT"
          ],
          [
           "UT"
          ],
          [
           "UT"
          ],
          [
           "MS"
          ],
          [
           "MS"
          ],
          [
           "MS"
          ],
          [
           "AZ"
          ],
          [
           "AZ"
          ],
          [
           "AZ"
          ],
          [
           "MA"
          ],
          [
           "MA"
          ],
          [
           "MA"
          ],
          [
           "WV"
          ],
          [
           "WV"
          ],
          [
           "WV"
          ],
          [
           "KS"
          ],
          [
           "KS"
          ],
          [
           "KS"
          ],
          [
           "NE"
          ],
          [
           "NE"
          ],
          [
           "NE"
          ],
          [
           "SC"
          ],
          [
           "SC"
          ],
          [
           "SC"
          ],
          [
           "AK"
          ],
          [
           "AK"
          ],
          [
           "AK"
          ],
          [
           "WA"
          ],
          [
           "WA"
          ],
          [
           "WA"
          ],
          [
           "GA"
          ],
          [
           "GA"
          ],
          [
           "GA"
          ],
          [
           "WA"
          ],
          [
           "WA"
          ],
          [
           "WA"
          ],
          [
           "OR"
          ],
          [
           "OR"
          ],
          [
           "OR"
          ],
          [
           "AZ"
          ],
          [
           "AZ"
          ],
          [
           "AZ"
          ],
          [
           "MO"
          ],
          [
           "MO"
          ],
          [
           "MO"
          ],
          [
           "TX"
          ],
          [
           "TX"
          ],
          [
           "TX"
          ],
          [
           "NJ"
          ],
          [
           "NJ"
          ],
          [
           "NJ"
          ],
          [
           "TX"
          ],
          [
           "TX"
          ],
          [
           "TX"
          ],
          [
           "NM"
          ],
          [
           "NM"
          ],
          [
           "NM"
          ],
          [
           "AZ"
          ],
          [
           "AZ"
          ],
          [
           "AZ"
          ],
          [
           "AR"
          ],
          [
           "AR"
          ],
          [
           "AR"
          ],
          [
           "VA"
          ],
          [
           "VA"
          ],
          [
           "VA"
          ],
          [
           "NM"
          ],
          [
           "NM"
          ],
          [
           "NM"
          ],
          [
           "OH"
          ],
          [
           "OH"
          ],
          [
           "OH"
          ],
          [
           "CA"
          ],
          [
           "CA"
          ],
          [
           "CA"
          ],
          [
           "MN"
          ],
          [
           "MN"
          ],
          [
           "MN"
          ],
          [
           "MI"
          ],
          [
           "MI"
          ],
          [
           "MI"
          ],
          [
           "MD"
          ],
          [
           "MD"
          ],
          [
           "MD"
          ],
          [
           "AZ"
          ],
          [
           "AZ"
          ],
          [
           "AZ"
          ],
          [
           "CA"
          ],
          [
           "CA"
          ],
          [
           "CA"
          ],
          [
           "CA"
          ],
          [
           "CA"
          ],
          [
           "CA"
          ],
          [
           "VA"
          ],
          [
           "VA"
          ],
          [
           "VA"
          ],
          [
           "HI"
          ],
          [
           "HI"
          ],
          [
           "HI"
          ],
          [
           "HI"
          ],
          [
           "HI"
          ],
          [
           "HI"
          ],
          [
           "UT"
          ],
          [
           "UT"
          ],
          [
           "UT"
          ],
          [
           "CA"
          ],
          [
           "CA"
          ],
          [
           "CA"
          ],
          [
           "VA"
          ],
          [
           "VA"
          ],
          [
           "VA"
          ],
          [
           "TX"
          ],
          [
           "TX"
          ],
          [
           "TX"
          ],
          [
           "MI"
          ],
          [
           "MI"
          ],
          [
           "MI"
          ],
          [
           "CO"
          ],
          [
           "CO"
          ],
          [
           "CO"
          ],
          [
           "CA"
          ],
          [
           "CA"
          ],
          [
           "CA"
          ],
          [
           "RI"
          ],
          [
           "RI"
          ],
          [
           "RI"
          ],
          [
           "AL"
          ],
          [
           "AL"
          ],
          [
           "AL"
          ],
          [
           "TX"
          ],
          [
           "TX"
          ],
          [
           "TX"
          ],
          [
           "ME"
          ],
          [
           "ME"
          ],
          [
           "ME"
          ],
          [
           "CA"
          ],
          [
           "CA"
          ],
          [
           "CA"
          ],
          [
           "NH"
          ],
          [
           "NH"
          ],
          [
           "NH"
          ],
          [
           "AZ"
          ],
          [
           "AZ"
          ],
          [
           "AZ"
          ],
          [
           "NY"
          ],
          [
           "NY"
          ],
          [
           "NY"
          ],
          [
           "MA"
          ],
          [
           "MA"
          ],
          [
           "MA"
          ],
          [
           "WA"
          ],
          [
           "WA"
          ],
          [
           "WA"
          ],
          [
           "MA"
          ],
          [
           "MA"
          ],
          [
           "MA"
          ],
          [
           "CA"
          ],
          [
           "CA"
          ],
          [
           "CA"
          ],
          [
           "CO"
          ],
          [
           "CO"
          ],
          [
           "CO"
          ],
          [
           "NY"
          ],
          [
           "NY"
          ],
          [
           "NY"
          ],
          [
           "NM"
          ],
          [
           "NM"
          ],
          [
           "NM"
          ],
          [
           "NY"
          ],
          [
           "NY"
          ],
          [
           "NY"
          ],
          [
           "NE"
          ],
          [
           "NE"
          ],
          [
           "NE"
          ],
          [
           "VA"
          ],
          [
           "VA"
          ],
          [
           "VA"
          ],
          [
           "AK"
          ],
          [
           "AK"
          ],
          [
           "AK"
          ],
          [
           "MI"
          ],
          [
           "MI"
          ],
          [
           "MI"
          ],
          [
           "MA"
          ],
          [
           "MA"
          ],
          [
           "MA"
          ],
          [
           "PA"
          ],
          [
           "PA"
          ],
          [
           "PA"
          ],
          [
           "NY"
          ],
          [
           "NY"
          ],
          [
           "NY"
          ],
          [
           "NY"
          ],
          [
           "NY"
          ],
          [
           "NY"
          ],
          [
           "TN"
          ],
          [
           "TN"
          ],
          [
           "TN"
          ],
          [
           "AZ"
          ],
          [
           "AZ"
          ],
          [
           "AZ"
          ],
          [
           "KS"
          ],
          [
           "KS"
          ],
          [
           "KS"
          ],
          [
           "PA"
          ],
          [
           "PA"
          ],
          [
           "PA"
          ],
          [
           "NY"
          ],
          [
           "NY"
          ],
          [
           "NY"
          ],
          [
           "NY"
          ],
          [
           "NY"
          ],
          [
           "NY"
          ],
          [
           "ND"
          ],
          [
           "ND"
          ],
          [
           "ND"
          ],
          [
           "MD"
          ],
          [
           "MD"
          ],
          [
           "MD"
          ],
          [
           "UT"
          ],
          [
           "UT"
          ],
          [
           "UT"
          ],
          [
           "FL"
          ],
          [
           "FL"
          ],
          [
           "FL"
          ],
          [
           "AZ"
          ],
          [
           "AZ"
          ],
          [
           "AZ"
          ],
          [
           "AL"
          ],
          [
           "AL"
          ],
          [
           "AL"
          ],
          [
           "AL"
          ],
          [
           "AL"
          ],
          [
           "AL"
          ],
          [
           "AZ"
          ],
          [
           "AZ"
          ],
          [
           "AZ"
          ],
          [
           "AZ"
          ],
          [
           "AZ"
          ],
          [
           "AZ"
          ],
          [
           "MO"
          ],
          [
           "MO"
          ],
          [
           "MO"
          ],
          [
           "PA"
          ],
          [
           "PA"
          ],
          [
           "PA"
          ],
          [
           "HI"
          ],
          [
           "HI"
          ],
          [
           "HI"
          ],
          [
           "NY"
          ],
          [
           "NY"
          ],
          [
           "NY"
          ],
          [
           "MN"
          ],
          [
           "MN"
          ],
          [
           "MN"
          ],
          [
           "OK"
          ],
          [
           "OK"
          ],
          [
           "OK"
          ],
          [
           "AZ"
          ],
          [
           "AZ"
          ],
          [
           "AZ"
          ],
          [
           "TX"
          ],
          [
           "TX"
          ],
          [
           "TX"
          ],
          [
           "CT"
          ],
          [
           "CT"
          ],
          [
           "CT"
          ],
          [
           "CA"
          ],
          [
           "CA"
          ],
          [
           "CA"
          ],
          [
           "WA"
          ],
          [
           "WA"
          ],
          [
           "WA"
          ],
          [
           "NM"
          ],
          [
           "NM"
          ],
          [
           "NM"
          ],
          [
           "SD"
          ],
          [
           "SD"
          ],
          [
           "SD"
          ],
          [
           "AR"
          ],
          [
           "AR"
          ],
          [
           "AR"
          ],
          [
           "MO"
          ],
          [
           "MO"
          ],
          [
           "MO"
          ],
          [
           "OH"
          ],
          [
           "OH"
          ],
          [
           "OH"
          ],
          [
           "NY"
          ],
          [
           "NY"
          ],
          [
           "NY"
          ],
          [
           "VA"
          ],
          [
           "VA"
          ],
          [
           "VA"
          ],
          [
           "NC"
          ],
          [
           "NC"
          ],
          [
           "NC"
          ],
          [
           "AK"
          ],
          [
           "AK"
          ],
          [
           "AK"
          ],
          [
           "AZ"
          ],
          [
           "AZ"
          ],
          [
           "AZ"
          ],
          [
           "CA"
          ],
          [
           "CA"
          ],
          [
           "CA"
          ],
          [
           "AK"
          ],
          [
           "AK"
          ],
          [
           "AK"
          ],
          [
           "UT"
          ],
          [
           "UT"
          ],
          [
           "UT"
          ]
         ],
         "hoverlabel": {
          "namelength": 0
         },
         "hovertemplate": "Population=%{x}<br>Total Visitors=%{y}<br>Month=%{marker.size}<br>State Code=%{customdata[0]}",
         "legendgroup": "",
         "marker": {
          "color": "#636efa",
          "size": [
           9,
           10,
           11,
           9,
           10,
           11,
           9,
           10,
           11,
           9,
           10,
           11,
           9,
           10,
           11,
           9,
           10,
           11,
           9,
           10,
           11,
           9,
           10,
           11,
           9,
           10,
           11,
           9,
           10,
           11,
           9,
           10,
           11,
           9,
           10,
           11,
           9,
           10,
           11,
           9,
           10,
           11,
           9,
           10,
           11,
           9,
           10,
           11,
           9,
           10,
           11,
           9,
           10,
           11,
           9,
           10,
           11,
           9,
           10,
           11,
           9,
           10,
           11,
           9,
           10,
           11,
           9,
           10,
           11,
           9,
           10,
           11,
           9,
           10,
           11,
           9,
           10,
           11,
           9,
           10,
           11,
           9,
           10,
           11,
           9,
           10,
           11,
           9,
           10,
           11,
           9,
           10,
           11,
           9,
           10,
           11,
           9,
           10,
           11,
           9,
           10,
           11,
           9,
           10,
           11,
           9,
           10,
           11,
           9,
           10,
           11,
           9,
           10,
           11,
           9,
           10,
           11,
           9,
           10,
           11,
           9,
           10,
           11,
           9,
           10,
           11,
           9,
           10,
           11,
           9,
           10,
           11,
           9,
           10,
           11,
           9,
           10,
           11,
           9,
           10,
           11,
           9,
           10,
           11,
           9,
           10,
           11,
           9,
           10,
           11,
           9,
           10,
           11,
           9,
           10,
           11,
           9,
           10,
           11,
           9,
           10,
           11,
           9,
           10,
           11,
           9,
           10,
           11,
           9,
           10,
           11,
           9,
           10,
           11,
           9,
           10,
           11,
           9,
           10,
           11,
           9,
           10,
           11,
           9,
           10,
           11,
           9,
           10,
           11,
           9,
           10,
           11,
           9,
           10,
           11,
           9,
           10,
           11,
           9,
           10,
           11,
           9,
           10,
           11,
           9,
           10,
           11,
           9,
           10,
           11,
           9,
           10,
           11,
           9,
           10,
           11,
           9,
           10,
           11,
           9,
           10,
           11,
           9,
           10,
           11,
           9,
           10,
           11,
           9,
           10,
           11,
           9,
           10,
           11,
           9,
           10,
           11,
           9,
           10,
           11,
           9,
           10,
           11,
           9,
           10,
           11,
           9,
           10,
           11,
           9,
           10,
           11,
           9,
           10,
           11,
           9,
           10,
           11,
           9,
           10,
           11,
           9,
           10,
           11,
           9,
           10,
           11,
           9,
           10,
           11,
           9,
           10,
           11,
           9,
           10,
           11,
           9,
           10,
           11,
           9,
           10,
           11,
           9,
           10,
           11,
           9,
           10,
           11,
           9,
           10,
           11,
           9,
           10,
           11,
           9,
           10,
           11,
           9,
           10,
           11,
           9,
           10,
           11,
           9,
           10,
           11,
           9,
           10,
           11,
           9,
           10,
           11,
           9,
           10,
           11,
           9,
           10,
           11,
           9,
           10,
           11,
           9,
           10,
           11,
           9,
           10,
           11,
           9,
           10,
           11,
           9,
           10,
           11,
           9,
           10,
           11,
           9,
           10,
           11,
           9,
           10,
           11,
           9,
           10,
           11,
           9,
           10,
           11,
           9,
           10,
           11,
           9,
           10,
           11,
           9,
           10,
           11,
           9,
           10,
           11,
           9,
           10,
           11,
           9,
           10,
           11,
           9,
           10,
           11,
           9,
           10,
           11,
           9,
           10,
           11,
           9,
           10,
           11,
           9,
           10,
           11,
           9,
           10,
           11,
           9,
           10,
           11,
           9,
           10,
           11,
           9,
           10,
           11,
           9,
           10,
           11,
           9,
           10,
           11,
           9,
           10,
           11,
           9,
           10,
           11,
           9,
           10,
           11,
           9,
           10,
           11,
           9,
           10,
           11,
           9,
           10,
           11,
           9,
           10,
           11,
           9,
           10,
           11,
           9,
           10,
           11,
           9,
           10,
           11,
           9,
           10,
           11,
           9,
           10,
           11,
           9,
           10,
           11,
           9,
           10,
           11,
           9,
           10,
           11,
           9,
           10,
           11,
           9,
           10,
           11,
           9,
           10,
           11,
           9,
           10,
           11,
           9,
           10,
           11,
           9,
           10,
           11,
           9,
           10,
           11,
           9,
           10,
           11,
           9,
           10,
           11,
           9,
           10,
           11,
           9,
           10,
           11,
           9,
           10,
           11,
           9,
           10,
           11,
           9,
           10,
           11,
           9,
           10,
           11,
           9,
           10,
           11,
           9,
           10,
           11,
           9,
           10,
           11,
           9,
           10,
           11,
           9,
           10,
           11,
           9,
           10,
           11,
           9,
           10,
           11,
           9,
           10,
           11,
           9,
           10,
           11,
           9,
           10,
           11,
           9,
           10,
           11,
           9,
           10,
           11,
           9,
           10,
           11,
           9,
           10,
           11,
           9,
           10,
           11,
           9,
           10,
           11,
           9,
           10,
           11,
           9,
           10,
           11,
           9,
           10,
           11,
           9,
           10,
           11,
           9,
           10,
           11,
           9,
           10,
           11,
           9,
           10,
           11,
           9,
           10,
           11,
           9,
           10,
           11,
           9,
           10,
           11,
           9,
           10,
           11,
           9,
           10,
           11,
           9,
           10,
           11,
           9,
           10,
           11,
           9,
           10,
           11,
           9,
           10,
           11,
           9,
           10,
           11,
           9,
           10,
           11,
           9,
           10,
           11,
           9,
           10,
           11,
           9,
           10,
           11,
           9,
           10,
           11,
           9,
           10,
           11,
           9,
           10,
           11,
           9,
           10,
           11,
           9,
           10,
           11,
           9,
           10,
           11,
           9,
           10,
           11,
           9,
           10,
           11,
           9,
           10,
           11,
           9,
           10,
           11,
           9,
           10,
           11,
           9,
           10,
           11,
           9,
           10,
           11,
           9,
           10,
           11,
           9,
           10,
           11,
           9,
           10,
           11,
           9,
           10,
           11,
           9,
           10,
           11,
           9,
           10,
           11,
           9,
           10,
           11,
           9,
           10,
           11,
           9,
           10,
           11,
           9,
           10,
           11,
           9,
           10,
           11,
           9,
           10,
           11,
           9,
           10,
           11,
           9,
           10,
           11,
           9,
           10,
           11,
           9,
           10,
           11,
           9,
           10,
           11,
           9,
           10,
           11,
           9,
           10,
           11,
           9,
           10,
           11,
           9,
           10,
           11,
           9,
           10,
           11,
           9,
           10,
           11,
           9,
           10,
           11,
           9,
           10,
           11,
           9,
           10,
           11,
           9,
           10,
           11,
           9,
           10,
           11,
           9,
           10,
           11,
           9,
           10,
           11,
           9,
           10,
           11,
           9,
           10,
           11,
           9,
           10,
           11,
           9,
           10,
           11,
           9,
           10,
           11,
           9,
           10,
           11,
           9,
           10,
           11,
           9,
           10,
           11,
           9,
           10,
           11,
           9,
           10,
           11,
           9,
           10,
           11,
           9,
           10,
           11,
           9,
           10,
           11,
           9,
           10,
           11,
           9,
           10,
           11,
           9,
           10,
           11,
           9,
           10,
           11,
           9,
           10,
           11,
           9,
           10,
           11,
           9,
           10,
           11,
           9,
           10,
           11,
           9,
           10,
           11,
           9,
           10,
           11,
           9,
           10,
           11,
           9,
           10,
           11,
           9,
           10,
           11,
           9,
           10,
           11,
           9,
           10,
           11,
           9,
           10,
           11,
           9,
           10,
           11,
           9,
           10,
           11,
           9,
           10,
           11,
           9,
           10,
           11,
           9,
           10,
           11,
           9,
           10,
           11,
           9,
           10,
           11,
           9,
           10,
           11,
           9,
           10,
           11,
           9,
           10,
           11,
           9,
           10,
           11,
           9,
           10,
           11,
           9,
           10,
           11,
           9,
           10,
           11,
           9,
           10,
           11,
           9,
           10,
           11,
           9,
           10,
           11,
           9,
           10,
           11,
           9,
           10,
           11,
           9,
           10,
           11,
           9,
           10,
           11,
           9,
           10,
           11,
           9,
           10,
           11,
           9,
           10,
           11,
           9,
           10,
           11,
           9,
           10,
           11,
           9,
           10,
           11,
           9,
           10,
           11,
           9,
           10,
           11,
           9,
           10,
           11,
           9,
           10,
           11,
           9,
           10,
           11,
           9,
           10,
           11,
           9,
           10,
           11,
           9,
           10,
           11,
           9,
           10,
           11,
           9,
           10,
           11,
           9,
           10,
           11,
           9,
           10,
           11
          ],
          "sizemode": "area",
          "sizeref": 0.0275,
          "symbol": "circle"
         },
         "mode": "markers",
         "name": "",
         "showlegend": false,
         "type": "scatter",
         "x": [
          4424376,
          4424376,
          4424376,
          1330158,
          1330158,
          1330158,
          6789319,
          6789319,
          6789319,
          19798228,
          19798228,
          19798228,
          1893921,
          1893921,
          1893921,
          27419612,
          27419612,
          27419612,
          12790505,
          12790505,
          12790505,
          27419612,
          27419612,
          27419612,
          10201635,
          10201635,
          10201635,
          738565,
          738565,
          738565,
          6597381,
          6597381,
          6597381,
          5996079,
          5996079,
          5996079,
          8365952,
          8365952,
          8365952,
          5763217,
          5763217,
          5763217,
          2993941,
          2993941,
          2993941,
          8365952,
          8365952,
          8365952,
          2977944,
          2977944,
          2977944,
          2084828,
          2084828,
          2084828,
          855444,
          855444,
          855444,
          2084828,
          2084828,
          2084828,
          738565,
          738565,
          738565,
          5436519,
          5436519,
          5436519,
          27419612,
          27419612,
          27419612,
          20278447,
          20278447,
          20278447,
          1029862,
          1029862,
          1029862,
          20278447,
          20278447,
          20278447,
          27419612,
          27419612,
          27419612,
          5436519,
          5436519,
          5436519,
          1836843,
          1836843,
          1836843,
          6789319,
          6789319,
          6789319,
          6789319,
          6789319,
          6789319,
          8365952,
          8365952,
          8365952,
          2993941,
          2993941,
          2993941,
          2903820,
          2903820,
          2903820,
          2977944,
          2977944,
          2977944,
          38982847,
          38982847,
          38982847,
          6809946,
          6809946,
          6809946,
          19798228,
          19798228,
          19798228,
          6789319,
          6789319,
          6789319,
          6809946,
          6809946,
          6809946,
          10052564,
          10052564,
          10052564,
          738565,
          738565,
          738565,
          10052564,
          10052564,
          10052564,
          20278447,
          20278447,
          20278447,
          2993941,
          2993941,
          2993941,
          2993941,
          2993941,
          2993941,
          4663461,
          4663461,
          4663461,
          10052564,
          10052564,
          10052564,
          20278447,
          20278447,
          20278447,
          5996079,
          5996079,
          5996079,
          2084828,
          2084828,
          2084828,
          2084828,
          2084828,
          2084828,
          2993941,
          2993941,
          2993941,
          38982847,
          38982847,
          38982847,
          27419612,
          27419612,
          27419612,
          10201635,
          10201635,
          10201635,
          2084828,
          2084828,
          2084828,
          3896251,
          3896251,
          3896251,
          6809946,
          6809946,
          6809946,
          38982847,
          38982847,
          38982847,
          4893444,
          4893444,
          4893444,
          2977944,
          2977944,
          2977944,
          11609756,
          11609756,
          11609756,
          1657375,
          1657375,
          1657375,
          5996079,
          5996079,
          5996079,
          5436519,
          5436519,
          5436519,
          8365952,
          8365952,
          8365952,
          4893444,
          4893444,
          4893444,
          6809946,
          6809946,
          6809946,
          4893444,
          4893444,
          4893444,
          4025127,
          4025127,
          4025127,
          1657375,
          1657375,
          1657375,
          10201635,
          10201635,
          10201635,
          5436519,
          5436519,
          5436519,
          11609756,
          11609756,
          11609756,
          11609756,
          11609756,
          11609756,
          738565,
          738565,
          738565,
          38982847,
          38982847,
          38982847,
          20278447,
          20278447,
          20278447,
          583200,
          583200,
          583200,
          20278447,
          20278447,
          20278447,
          12790505,
          12790505,
          12790505,
          8960161,
          8960161,
          8960161,
          3118102,
          3118102,
          3118102,
          12790505,
          12790505,
          12790505,
          2084828,
          2084828,
          2084828,
          2084828,
          2084828,
          2084828,
          19798228,
          19798228,
          19798228,
          38982847,
          38982847,
          38982847,
          20278447,
          20278447,
          20278447,
          19798228,
          19798228,
          19798228,
          19798228,
          19798228,
          19798228,
          11609756,
          11609756,
          11609756,
          5436519,
          5436519,
          5436519,
          12790505,
          12790505,
          12790505,
          6809946,
          6809946,
          6809946,
          583200,
          583200,
          583200,
          27419612,
          27419612,
          27419612,
          10201635,
          10201635,
          10201635,
          583200,
          583200,
          583200,
          2903820,
          2903820,
          2903820,
          20278447,
          20278447,
          20278447,
          5996079,
          5996079,
          5996079,
          12790505,
          12790505,
          12790505,
          38982847,
          38982847,
          38982847,
          10201635,
          10201635,
          10201635,
          10052564,
          10052564,
          10052564,
          2903820,
          2903820,
          2903820,
          19798228,
          19798228,
          19798228,
          4893444,
          4893444,
          4893444,
          2084828,
          2084828,
          2084828,
          5996079,
          5996079,
          5996079,
          12790505,
          12790505,
          12790505,
          6789319,
          6789319,
          6789319,
          8365952,
          8365952,
          8365952,
          738565,
          738565,
          738565,
          1836843,
          1836843,
          1836843,
          19798228,
          19798228,
          19798228,
          6614418,
          6614418,
          6614418,
          12790505,
          12790505,
          12790505,
          8365952,
          8365952,
          8365952,
          2084828,
          2084828,
          2084828,
          1029862,
          1029862,
          1029862,
          738565,
          738565,
          738565,
          38982847,
          38982847,
          38982847,
          19798228,
          19798228,
          19798228,
          2993941,
          2993941,
          2993941,
          2887725,
          2887725,
          2887725,
          6809946,
          6809946,
          6809946,
          5996079,
          5996079,
          5996079,
          1029862,
          1029862,
          1029862,
          5490726,
          5490726,
          5490726,
          5436519,
          5436519,
          5436519,
          583200,
          583200,
          583200,
          10052564,
          10052564,
          10052564,
          27419612,
          27419612,
          27419612,
          6075300,
          6075300,
          6075300,
          1657375,
          1657375,
          1657375,
          19798228,
          19798228,
          19798228,
          1421658,
          1421658,
          1421658,
          5996079,
          5996079,
          5996079,
          1421658,
          1421658,
          1421658,
          3118102,
          3118102,
          3118102,
          4850771,
          4850771,
          4850771,
          11609756,
          11609756,
          11609756,
          19798228,
          19798228,
          19798228,
          12790505,
          12790505,
          12790505,
          1893921,
          1893921,
          1893921,
          2977944,
          2977944,
          2977944,
          6075300,
          6075300,
          6075300,
          6809946,
          6809946,
          6809946,
          12790505,
          12790505,
          12790505,
          6614418,
          6614418,
          6614418,
          9925568,
          9925568,
          9925568,
          11609756,
          11609756,
          11609756,
          4663461,
          4663461,
          4663461,
          855444,
          855444,
          855444,
          6075300,
          6075300,
          6075300,
          4663461,
          4663461,
          4663461,
          10201635,
          10201635,
          10201635,
          4025127,
          4025127,
          4025127,
          6789319,
          6789319,
          6789319,
          12790505,
          12790505,
          12790505,
          38982847,
          38982847,
          38982847,
          38982847,
          38982847,
          38982847,
          1421658,
          1421658,
          1421658,
          1421658,
          1421658,
          1421658,
          738565,
          738565,
          738565,
          738565,
          738565,
          738565,
          10201635,
          10201635,
          10201635,
          9925568,
          9925568,
          9925568,
          4893444,
          4893444,
          4893444,
          738565,
          738565,
          738565,
          7169967,
          7169967,
          7169967,
          745475,
          745475,
          745475,
          738565,
          738565,
          738565,
          38982847,
          38982847,
          38982847,
          738565,
          738565,
          738565,
          27419612,
          27419612,
          27419612,
          7169967,
          7169967,
          7169967,
          38982847,
          38982847,
          38982847,
          1029862,
          1029862,
          1029862,
          6614418,
          6614418,
          6614418,
          12854526,
          12854526,
          12854526,
          4850771,
          4850771,
          4850771,
          6789319,
          6789319,
          6789319,
          6789319,
          6789319,
          6789319,
          27419612,
          27419612,
          27419612,
          624636,
          624636,
          624636,
          4424376,
          4424376,
          4424376,
          10201635,
          10201635,
          10201635,
          8365952,
          8365952,
          8365952,
          38982847,
          38982847,
          38982847,
          19798228,
          19798228,
          19798228,
          8365952,
          8365952,
          8365952,
          5436519,
          5436519,
          5436519,
          6789319,
          6789319,
          6789319,
          855444,
          855444,
          855444,
          5490726,
          5490726,
          5490726,
          6809946,
          6809946,
          6809946,
          10052564,
          10052564,
          10052564,
          38982847,
          38982847,
          38982847,
          5996079,
          5996079,
          5996079,
          7169967,
          7169967,
          7169967,
          8960161,
          8960161,
          8960161,
          855444,
          855444,
          855444,
          38982847,
          38982847,
          38982847,
          2993941,
          2993941,
          2993941,
          2986220,
          2986220,
          2986220,
          6809946,
          6809946,
          6809946,
          6789319,
          6789319,
          6789319,
          1836843,
          1836843,
          1836843,
          2903820,
          2903820,
          2903820,
          1893921,
          1893921,
          1893921,
          4893444,
          4893444,
          4893444,
          738565,
          738565,
          738565,
          7169967,
          7169967,
          7169967,
          10201635,
          10201635,
          10201635,
          7169967,
          7169967,
          7169967,
          4025127,
          4025127,
          4025127,
          6809946,
          6809946,
          6809946,
          6075300,
          6075300,
          6075300,
          27419612,
          27419612,
          27419612,
          8960161,
          8960161,
          8960161,
          27419612,
          27419612,
          27419612,
          2084828,
          2084828,
          2084828,
          6809946,
          6809946,
          6809946,
          2977944,
          2977944,
          2977944,
          8365952,
          8365952,
          8365952,
          2084828,
          2084828,
          2084828,
          11609756,
          11609756,
          11609756,
          38982847,
          38982847,
          38982847,
          5490726,
          5490726,
          5490726,
          9925568,
          9925568,
          9925568,
          5996079,
          5996079,
          5996079,
          6809946,
          6809946,
          6809946,
          38982847,
          38982847,
          38982847,
          38982847,
          38982847,
          38982847,
          8365952,
          8365952,
          8365952,
          1421658,
          1421658,
          1421658,
          1421658,
          1421658,
          1421658,
          2993941,
          2993941,
          2993941,
          38982847,
          38982847,
          38982847,
          8365952,
          8365952,
          8365952,
          27419612,
          27419612,
          27419612,
          9925568,
          9925568,
          9925568,
          5436519,
          5436519,
          5436519,
          38982847,
          38982847,
          38982847,
          1056138,
          1056138,
          1056138,
          4850771,
          4850771,
          4850771,
          27419612,
          27419612,
          27419612,
          1330158,
          1330158,
          1330158,
          38982847,
          38982847,
          38982847,
          1331848,
          1331848,
          1331848,
          6809946,
          6809946,
          6809946,
          19798228,
          19798228,
          19798228,
          6789319,
          6789319,
          6789319,
          7169967,
          7169967,
          7169967,
          6789319,
          6789319,
          6789319,
          38982847,
          38982847,
          38982847,
          5436519,
          5436519,
          5436519,
          19798228,
          19798228,
          19798228,
          2084828,
          2084828,
          2084828,
          19798228,
          19798228,
          19798228,
          1893921,
          1893921,
          1893921,
          8365952,
          8365952,
          8365952,
          738565,
          738565,
          738565,
          9925568,
          9925568,
          9925568,
          6789319,
          6789319,
          6789319,
          12790505,
          12790505,
          12790505,
          19798228,
          19798228,
          19798228,
          19798228,
          19798228,
          19798228,
          6597381,
          6597381,
          6597381,
          6809946,
          6809946,
          6809946,
          2903820,
          2903820,
          2903820,
          12790505,
          12790505,
          12790505,
          19798228,
          19798228,
          19798228,
          19798228,
          19798228,
          19798228,
          745475,
          745475,
          745475,
          5996079,
          5996079,
          5996079,
          2993941,
          2993941,
          2993941,
          20278447,
          20278447,
          20278447,
          6809946,
          6809946,
          6809946,
          4850771,
          4850771,
          4850771,
          4850771,
          4850771,
          4850771,
          6809946,
          6809946,
          6809946,
          6809946,
          6809946,
          6809946,
          6075300,
          6075300,
          6075300,
          12790505,
          12790505,
          12790505,
          1421658,
          1421658,
          1421658,
          19798228,
          19798228,
          19798228,
          5490726,
          5490726,
          5490726,
          3896251,
          3896251,
          3896251,
          6809946,
          6809946,
          6809946,
          27419612,
          27419612,
          27419612,
          3594478,
          3594478,
          3594478,
          38982847,
          38982847,
          38982847,
          7169967,
          7169967,
          7169967,
          2084828,
          2084828,
          2084828,
          855444,
          855444,
          855444,
          2977944,
          2977944,
          2977944,
          6075300,
          6075300,
          6075300,
          11609756,
          11609756,
          11609756,
          19798228,
          19798228,
          19798228,
          8365952,
          8365952,
          8365952,
          10052564,
          10052564,
          10052564,
          738565,
          738565,
          738565,
          6809946,
          6809946,
          6809946,
          38982847,
          38982847,
          38982847,
          738565,
          738565,
          738565,
          2993941,
          2993941,
          2993941
         ],
         "xaxis": "x",
         "y": [
          31349153,
          26646960,
          18794009,
          31349153,
          26646960,
          18794009,
          31349153,
          26646960,
          18794009,
          31349153,
          26646960,
          18794009,
          31349153,
          26646960,
          18794009,
          31349153,
          26646960,
          18794009,
          31349153,
          26646960,
          18794009,
          31349153,
          26646960,
          18794009,
          31349153,
          26646960,
          18794009,
          31349153,
          26646960,
          18794009,
          31349153,
          26646960,
          18794009,
          31349153,
          26646960,
          18794009,
          31349153,
          26646960,
          18794009,
          31349153,
          26646960,
          18794009,
          31349153,
          26646960,
          18794009,
          31349153,
          26646960,
          18794009,
          31349153,
          26646960,
          18794009,
          31349153,
          26646960,
          18794009,
          31349153,
          26646960,
          18794009,
          31349153,
          26646960,
          18794009,
          31349153,
          26646960,
          18794009,
          31349153,
          26646960,
          18794009,
          31349153,
          26646960,
          18794009,
          31349153,
          26646960,
          18794009,
          31349153,
          26646960,
          18794009,
          31349153,
          26646960,
          18794009,
          31349153,
          26646960,
          18794009,
          31349153,
          26646960,
          18794009,
          31349153,
          26646960,
          18794009,
          31349153,
          26646960,
          18794009,
          31349153,
          26646960,
          18794009,
          31349153,
          26646960,
          18794009,
          31349153,
          26646960,
          18794009,
          31349153,
          26646960,
          18794009,
          31349153,
          26646960,
          18794009,
          31349153,
          26646960,
          18794009,
          31349153,
          26646960,
          18794009,
          31349153,
          26646960,
          18794009,
          31349153,
          26646960,
          18794009,
          31349153,
          26646960,
          18794009,
          31349153,
          26646960,
          18794009,
          31349153,
          26646960,
          18794009,
          31349153,
          26646960,
          18794009,
          31349153,
          26646960,
          18794009,
          31349153,
          26646960,
          18794009,
          31349153,
          26646960,
          18794009,
          31349153,
          26646960,
          18794009,
          31349153,
          26646960,
          18794009,
          31349153,
          26646960,
          18794009,
          31349153,
          26646960,
          18794009,
          31349153,
          26646960,
          18794009,
          31349153,
          26646960,
          18794009,
          31349153,
          26646960,
          18794009,
          31349153,
          26646960,
          18794009,
          31349153,
          26646960,
          18794009,
          31349153,
          26646960,
          18794009,
          31349153,
          26646960,
          18794009,
          31349153,
          26646960,
          18794009,
          31349153,
          26646960,
          18794009,
          31349153,
          26646960,
          18794009,
          31349153,
          26646960,
          18794009,
          31349153,
          26646960,
          18794009,
          31349153,
          26646960,
          18794009,
          31349153,
          26646960,
          18794009,
          31349153,
          26646960,
          18794009,
          31349153,
          26646960,
          18794009,
          31349153,
          26646960,
          18794009,
          31349153,
          26646960,
          18794009,
          31349153,
          26646960,
          18794009,
          31349153,
          26646960,
          18794009,
          31349153,
          26646960,
          18794009,
          31349153,
          26646960,
          18794009,
          31349153,
          26646960,
          18794009,
          31349153,
          26646960,
          18794009,
          31349153,
          26646960,
          18794009,
          31349153,
          26646960,
          18794009,
          31349153,
          26646960,
          18794009,
          31349153,
          26646960,
          18794009,
          31349153,
          26646960,
          18794009,
          31349153,
          26646960,
          18794009,
          31349153,
          26646960,
          18794009,
          31349153,
          26646960,
          18794009,
          31349153,
          26646960,
          18794009,
          31349153,
          26646960,
          18794009,
          31349153,
          26646960,
          18794009,
          31349153,
          26646960,
          18794009,
          31349153,
          26646960,
          18794009,
          31349153,
          26646960,
          18794009,
          31349153,
          26646960,
          18794009,
          31349153,
          26646960,
          18794009,
          31349153,
          26646960,
          18794009,
          31349153,
          26646960,
          18794009,
          31349153,
          26646960,
          18794009,
          31349153,
          26646960,
          18794009,
          31349153,
          26646960,
          18794009,
          31349153,
          26646960,
          18794009,
          31349153,
          26646960,
          18794009,
          31349153,
          26646960,
          18794009,
          31349153,
          26646960,
          18794009,
          31349153,
          26646960,
          18794009,
          31349153,
          26646960,
          18794009,
          31349153,
          26646960,
          18794009,
          31349153,
          26646960,
          18794009,
          31349153,
          26646960,
          18794009,
          31349153,
          26646960,
          18794009,
          31349153,
          26646960,
          18794009,
          31349153,
          26646960,
          18794009,
          31349153,
          26646960,
          18794009,
          31349153,
          26646960,
          18794009,
          31349153,
          26646960,
          18794009,
          31349153,
          26646960,
          18794009,
          31349153,
          26646960,
          18794009,
          31349153,
          26646960,
          18794009,
          31349153,
          26646960,
          18794009,
          31349153,
          26646960,
          18794009,
          31349153,
          26646960,
          18794009,
          31349153,
          26646960,
          18794009,
          31349153,
          26646960,
          18794009,
          31349153,
          26646960,
          18794009,
          31349153,
          26646960,
          18794009,
          31349153,
          26646960,
          18794009,
          31349153,
          26646960,
          18794009,
          31349153,
          26646960,
          18794009,
          31349153,
          26646960,
          18794009,
          31349153,
          26646960,
          18794009,
          31349153,
          26646960,
          18794009,
          31349153,
          26646960,
          18794009,
          31349153,
          26646960,
          18794009,
          31349153,
          26646960,
          18794009,
          31349153,
          26646960,
          18794009,
          31349153,
          26646960,
          18794009,
          31349153,
          26646960,
          18794009,
          31349153,
          26646960,
          18794009,
          31349153,
          26646960,
          18794009,
          31349153,
          26646960,
          18794009,
          31349153,
          26646960,
          18794009,
          31349153,
          26646960,
          18794009,
          31349153,
          26646960,
          18794009,
          31349153,
          26646960,
          18794009,
          31349153,
          26646960,
          18794009,
          31349153,
          26646960,
          18794009,
          31349153,
          26646960,
          18794009,
          31349153,
          26646960,
          18794009,
          31349153,
          26646960,
          18794009,
          31349153,
          26646960,
          18794009,
          31349153,
          26646960,
          18794009,
          31349153,
          26646960,
          18794009,
          31349153,
          26646960,
          18794009,
          31349153,
          26646960,
          18794009,
          31349153,
          26646960,
          18794009,
          31349153,
          26646960,
          18794009,
          31349153,
          26646960,
          18794009,
          31349153,
          26646960,
          18794009,
          31349153,
          26646960,
          18794009,
          31349153,
          26646960,
          18794009,
          31349153,
          26646960,
          18794009,
          31349153,
          26646960,
          18794009,
          31349153,
          26646960,
          18794009,
          31349153,
          26646960,
          18794009,
          31349153,
          26646960,
          18794009,
          31349153,
          26646960,
          18794009,
          31349153,
          26646960,
          18794009,
          31349153,
          26646960,
          18794009,
          31349153,
          26646960,
          18794009,
          31349153,
          26646960,
          18794009,
          31349153,
          26646960,
          18794009,
          31349153,
          26646960,
          18794009,
          31349153,
          26646960,
          18794009,
          31349153,
          26646960,
          18794009,
          31349153,
          26646960,
          18794009,
          31349153,
          26646960,
          18794009,
          31349153,
          26646960,
          18794009,
          31349153,
          26646960,
          18794009,
          31349153,
          26646960,
          18794009,
          31349153,
          26646960,
          18794009,
          31349153,
          26646960,
          18794009,
          31349153,
          26646960,
          18794009,
          31349153,
          26646960,
          18794009,
          31349153,
          26646960,
          18794009,
          31349153,
          26646960,
          18794009,
          31349153,
          26646960,
          18794009,
          31349153,
          26646960,
          18794009,
          31349153,
          26646960,
          18794009,
          31349153,
          26646960,
          18794009,
          31349153,
          26646960,
          18794009,
          31349153,
          26646960,
          18794009,
          31349153,
          26646960,
          18794009,
          31349153,
          26646960,
          18794009,
          31349153,
          26646960,
          18794009,
          31349153,
          26646960,
          18794009,
          31349153,
          26646960,
          18794009,
          31349153,
          26646960,
          18794009,
          31349153,
          26646960,
          18794009,
          31349153,
          26646960,
          18794009,
          31349153,
          26646960,
          18794009,
          31349153,
          26646960,
          18794009,
          31349153,
          26646960,
          18794009,
          31349153,
          26646960,
          18794009,
          31349153,
          26646960,
          18794009,
          31349153,
          26646960,
          18794009,
          31349153,
          26646960,
          18794009,
          31349153,
          26646960,
          18794009,
          31349153,
          26646960,
          18794009,
          31349153,
          26646960,
          18794009,
          31349153,
          26646960,
          18794009,
          31349153,
          26646960,
          18794009,
          31349153,
          26646960,
          18794009,
          31349153,
          26646960,
          18794009,
          31349153,
          26646960,
          18794009,
          31349153,
          26646960,
          18794009,
          31349153,
          26646960,
          18794009,
          31349153,
          26646960,
          18794009,
          31349153,
          26646960,
          18794009,
          31349153,
          26646960,
          18794009,
          31349153,
          26646960,
          18794009,
          31349153,
          26646960,
          18794009,
          31349153,
          26646960,
          18794009,
          31349153,
          26646960,
          18794009,
          31349153,
          26646960,
          18794009,
          31349153,
          26646960,
          18794009,
          31349153,
          26646960,
          18794009,
          31349153,
          26646960,
          18794009,
          31349153,
          26646960,
          18794009,
          31349153,
          26646960,
          18794009,
          31349153,
          26646960,
          18794009,
          31349153,
          26646960,
          18794009,
          31349153,
          26646960,
          18794009,
          31349153,
          26646960,
          18794009,
          31349153,
          26646960,
          18794009,
          31349153,
          26646960,
          18794009,
          31349153,
          26646960,
          18794009,
          31349153,
          26646960,
          18794009,
          31349153,
          26646960,
          18794009,
          31349153,
          26646960,
          18794009,
          31349153,
          26646960,
          18794009,
          31349153,
          26646960,
          18794009,
          31349153,
          26646960,
          18794009,
          31349153,
          26646960,
          18794009,
          31349153,
          26646960,
          18794009,
          31349153,
          26646960,
          18794009,
          31349153,
          26646960,
          18794009,
          31349153,
          26646960,
          18794009,
          31349153,
          26646960,
          18794009,
          31349153,
          26646960,
          18794009,
          31349153,
          26646960,
          18794009,
          31349153,
          26646960,
          18794009,
          31349153,
          26646960,
          18794009,
          31349153,
          26646960,
          18794009,
          31349153,
          26646960,
          18794009,
          31349153,
          26646960,
          18794009,
          31349153,
          26646960,
          18794009,
          31349153,
          26646960,
          18794009,
          31349153,
          26646960,
          18794009,
          31349153,
          26646960,
          18794009,
          31349153,
          26646960,
          18794009,
          31349153,
          26646960,
          18794009,
          31349153,
          26646960,
          18794009,
          31349153,
          26646960,
          18794009,
          31349153,
          26646960,
          18794009,
          31349153,
          26646960,
          18794009,
          31349153,
          26646960,
          18794009,
          31349153,
          26646960,
          18794009,
          31349153,
          26646960,
          18794009,
          31349153,
          26646960,
          18794009,
          31349153,
          26646960,
          18794009,
          31349153,
          26646960,
          18794009,
          31349153,
          26646960,
          18794009,
          31349153,
          26646960,
          18794009,
          31349153,
          26646960,
          18794009,
          31349153,
          26646960,
          18794009,
          31349153,
          26646960,
          18794009,
          31349153,
          26646960,
          18794009,
          31349153,
          26646960,
          18794009,
          31349153,
          26646960,
          18794009,
          31349153,
          26646960,
          18794009,
          31349153,
          26646960,
          18794009,
          31349153,
          26646960,
          18794009,
          31349153,
          26646960,
          18794009,
          31349153,
          26646960,
          18794009,
          31349153,
          26646960,
          18794009,
          31349153,
          26646960,
          18794009,
          31349153,
          26646960,
          18794009,
          31349153,
          26646960,
          18794009,
          31349153,
          26646960,
          18794009,
          31349153,
          26646960,
          18794009,
          31349153,
          26646960,
          18794009,
          31349153,
          26646960,
          18794009,
          31349153,
          26646960,
          18794009,
          31349153,
          26646960,
          18794009,
          31349153,
          26646960,
          18794009,
          31349153,
          26646960,
          18794009,
          31349153,
          26646960,
          18794009,
          31349153,
          26646960,
          18794009,
          31349153,
          26646960,
          18794009,
          31349153,
          26646960,
          18794009,
          31349153,
          26646960,
          18794009,
          31349153,
          26646960,
          18794009,
          31349153,
          26646960,
          18794009,
          31349153,
          26646960,
          18794009,
          31349153,
          26646960,
          18794009,
          31349153,
          26646960,
          18794009,
          31349153,
          26646960,
          18794009,
          31349153,
          26646960,
          18794009,
          31349153,
          26646960,
          18794009,
          31349153,
          26646960,
          18794009,
          31349153,
          26646960,
          18794009,
          31349153,
          26646960,
          18794009,
          31349153,
          26646960,
          18794009,
          31349153,
          26646960,
          18794009,
          31349153,
          26646960,
          18794009,
          31349153,
          26646960,
          18794009
         ],
         "yaxis": "y"
        }
       ],
       "layout": {
        "legend": {
         "itemsizing": "constant",
         "tracegroupgap": 0
        },
        "margin": {
         "t": 60
        },
        "template": {
         "data": {
          "bar": [
           {
            "error_x": {
             "color": "#2a3f5f"
            },
            "error_y": {
             "color": "#2a3f5f"
            },
            "marker": {
             "line": {
              "color": "#E5ECF6",
              "width": 0.5
             }
            },
            "type": "bar"
           }
          ],
          "barpolar": [
           {
            "marker": {
             "line": {
              "color": "#E5ECF6",
              "width": 0.5
             }
            },
            "type": "barpolar"
           }
          ],
          "carpet": [
           {
            "aaxis": {
             "endlinecolor": "#2a3f5f",
             "gridcolor": "white",
             "linecolor": "white",
             "minorgridcolor": "white",
             "startlinecolor": "#2a3f5f"
            },
            "baxis": {
             "endlinecolor": "#2a3f5f",
             "gridcolor": "white",
             "linecolor": "white",
             "minorgridcolor": "white",
             "startlinecolor": "#2a3f5f"
            },
            "type": "carpet"
           }
          ],
          "choropleth": [
           {
            "colorbar": {
             "outlinewidth": 0,
             "ticks": ""
            },
            "type": "choropleth"
           }
          ],
          "contour": [
           {
            "colorbar": {
             "outlinewidth": 0,
             "ticks": ""
            },
            "colorscale": [
             [
              0,
              "#0d0887"
             ],
             [
              0.1111111111111111,
              "#46039f"
             ],
             [
              0.2222222222222222,
              "#7201a8"
             ],
             [
              0.3333333333333333,
              "#9c179e"
             ],
             [
              0.4444444444444444,
              "#bd3786"
             ],
             [
              0.5555555555555556,
              "#d8576b"
             ],
             [
              0.6666666666666666,
              "#ed7953"
             ],
             [
              0.7777777777777778,
              "#fb9f3a"
             ],
             [
              0.8888888888888888,
              "#fdca26"
             ],
             [
              1,
              "#f0f921"
             ]
            ],
            "type": "contour"
           }
          ],
          "contourcarpet": [
           {
            "colorbar": {
             "outlinewidth": 0,
             "ticks": ""
            },
            "type": "contourcarpet"
           }
          ],
          "heatmap": [
           {
            "colorbar": {
             "outlinewidth": 0,
             "ticks": ""
            },
            "colorscale": [
             [
              0,
              "#0d0887"
             ],
             [
              0.1111111111111111,
              "#46039f"
             ],
             [
              0.2222222222222222,
              "#7201a8"
             ],
             [
              0.3333333333333333,
              "#9c179e"
             ],
             [
              0.4444444444444444,
              "#bd3786"
             ],
             [
              0.5555555555555556,
              "#d8576b"
             ],
             [
              0.6666666666666666,
              "#ed7953"
             ],
             [
              0.7777777777777778,
              "#fb9f3a"
             ],
             [
              0.8888888888888888,
              "#fdca26"
             ],
             [
              1,
              "#f0f921"
             ]
            ],
            "type": "heatmap"
           }
          ],
          "heatmapgl": [
           {
            "colorbar": {
             "outlinewidth": 0,
             "ticks": ""
            },
            "colorscale": [
             [
              0,
              "#0d0887"
             ],
             [
              0.1111111111111111,
              "#46039f"
             ],
             [
              0.2222222222222222,
              "#7201a8"
             ],
             [
              0.3333333333333333,
              "#9c179e"
             ],
             [
              0.4444444444444444,
              "#bd3786"
             ],
             [
              0.5555555555555556,
              "#d8576b"
             ],
             [
              0.6666666666666666,
              "#ed7953"
             ],
             [
              0.7777777777777778,
              "#fb9f3a"
             ],
             [
              0.8888888888888888,
              "#fdca26"
             ],
             [
              1,
              "#f0f921"
             ]
            ],
            "type": "heatmapgl"
           }
          ],
          "histogram": [
           {
            "marker": {
             "colorbar": {
              "outlinewidth": 0,
              "ticks": ""
             }
            },
            "type": "histogram"
           }
          ],
          "histogram2d": [
           {
            "colorbar": {
             "outlinewidth": 0,
             "ticks": ""
            },
            "colorscale": [
             [
              0,
              "#0d0887"
             ],
             [
              0.1111111111111111,
              "#46039f"
             ],
             [
              0.2222222222222222,
              "#7201a8"
             ],
             [
              0.3333333333333333,
              "#9c179e"
             ],
             [
              0.4444444444444444,
              "#bd3786"
             ],
             [
              0.5555555555555556,
              "#d8576b"
             ],
             [
              0.6666666666666666,
              "#ed7953"
             ],
             [
              0.7777777777777778,
              "#fb9f3a"
             ],
             [
              0.8888888888888888,
              "#fdca26"
             ],
             [
              1,
              "#f0f921"
             ]
            ],
            "type": "histogram2d"
           }
          ],
          "histogram2dcontour": [
           {
            "colorbar": {
             "outlinewidth": 0,
             "ticks": ""
            },
            "colorscale": [
             [
              0,
              "#0d0887"
             ],
             [
              0.1111111111111111,
              "#46039f"
             ],
             [
              0.2222222222222222,
              "#7201a8"
             ],
             [
              0.3333333333333333,
              "#9c179e"
             ],
             [
              0.4444444444444444,
              "#bd3786"
             ],
             [
              0.5555555555555556,
              "#d8576b"
             ],
             [
              0.6666666666666666,
              "#ed7953"
             ],
             [
              0.7777777777777778,
              "#fb9f3a"
             ],
             [
              0.8888888888888888,
              "#fdca26"
             ],
             [
              1,
              "#f0f921"
             ]
            ],
            "type": "histogram2dcontour"
           }
          ],
          "mesh3d": [
           {
            "colorbar": {
             "outlinewidth": 0,
             "ticks": ""
            },
            "type": "mesh3d"
           }
          ],
          "parcoords": [
           {
            "line": {
             "colorbar": {
              "outlinewidth": 0,
              "ticks": ""
             }
            },
            "type": "parcoords"
           }
          ],
          "pie": [
           {
            "automargin": true,
            "type": "pie"
           }
          ],
          "scatter": [
           {
            "marker": {
             "colorbar": {
              "outlinewidth": 0,
              "ticks": ""
             }
            },
            "type": "scatter"
           }
          ],
          "scatter3d": [
           {
            "line": {
             "colorbar": {
              "outlinewidth": 0,
              "ticks": ""
             }
            },
            "marker": {
             "colorbar": {
              "outlinewidth": 0,
              "ticks": ""
             }
            },
            "type": "scatter3d"
           }
          ],
          "scattercarpet": [
           {
            "marker": {
             "colorbar": {
              "outlinewidth": 0,
              "ticks": ""
             }
            },
            "type": "scattercarpet"
           }
          ],
          "scattergeo": [
           {
            "marker": {
             "colorbar": {
              "outlinewidth": 0,
              "ticks": ""
             }
            },
            "type": "scattergeo"
           }
          ],
          "scattergl": [
           {
            "marker": {
             "colorbar": {
              "outlinewidth": 0,
              "ticks": ""
             }
            },
            "type": "scattergl"
           }
          ],
          "scattermapbox": [
           {
            "marker": {
             "colorbar": {
              "outlinewidth": 0,
              "ticks": ""
             }
            },
            "type": "scattermapbox"
           }
          ],
          "scatterpolar": [
           {
            "marker": {
             "colorbar": {
              "outlinewidth": 0,
              "ticks": ""
             }
            },
            "type": "scatterpolar"
           }
          ],
          "scatterpolargl": [
           {
            "marker": {
             "colorbar": {
              "outlinewidth": 0,
              "ticks": ""
             }
            },
            "type": "scatterpolargl"
           }
          ],
          "scatterternary": [
           {
            "marker": {
             "colorbar": {
              "outlinewidth": 0,
              "ticks": ""
             }
            },
            "type": "scatterternary"
           }
          ],
          "surface": [
           {
            "colorbar": {
             "outlinewidth": 0,
             "ticks": ""
            },
            "colorscale": [
             [
              0,
              "#0d0887"
             ],
             [
              0.1111111111111111,
              "#46039f"
             ],
             [
              0.2222222222222222,
              "#7201a8"
             ],
             [
              0.3333333333333333,
              "#9c179e"
             ],
             [
              0.4444444444444444,
              "#bd3786"
             ],
             [
              0.5555555555555556,
              "#d8576b"
             ],
             [
              0.6666666666666666,
              "#ed7953"
             ],
             [
              0.7777777777777778,
              "#fb9f3a"
             ],
             [
              0.8888888888888888,
              "#fdca26"
             ],
             [
              1,
              "#f0f921"
             ]
            ],
            "type": "surface"
           }
          ],
          "table": [
           {
            "cells": {
             "fill": {
              "color": "#EBF0F8"
             },
             "line": {
              "color": "white"
             }
            },
            "header": {
             "fill": {
              "color": "#C8D4E3"
             },
             "line": {
              "color": "white"
             }
            },
            "type": "table"
           }
          ]
         },
         "layout": {
          "annotationdefaults": {
           "arrowcolor": "#2a3f5f",
           "arrowhead": 0,
           "arrowwidth": 1
          },
          "coloraxis": {
           "colorbar": {
            "outlinewidth": 0,
            "ticks": ""
           }
          },
          "colorscale": {
           "diverging": [
            [
             0,
             "#8e0152"
            ],
            [
             0.1,
             "#c51b7d"
            ],
            [
             0.2,
             "#de77ae"
            ],
            [
             0.3,
             "#f1b6da"
            ],
            [
             0.4,
             "#fde0ef"
            ],
            [
             0.5,
             "#f7f7f7"
            ],
            [
             0.6,
             "#e6f5d0"
            ],
            [
             0.7,
             "#b8e186"
            ],
            [
             0.8,
             "#7fbc41"
            ],
            [
             0.9,
             "#4d9221"
            ],
            [
             1,
             "#276419"
            ]
           ],
           "sequential": [
            [
             0,
             "#0d0887"
            ],
            [
             0.1111111111111111,
             "#46039f"
            ],
            [
             0.2222222222222222,
             "#7201a8"
            ],
            [
             0.3333333333333333,
             "#9c179e"
            ],
            [
             0.4444444444444444,
             "#bd3786"
            ],
            [
             0.5555555555555556,
             "#d8576b"
            ],
            [
             0.6666666666666666,
             "#ed7953"
            ],
            [
             0.7777777777777778,
             "#fb9f3a"
            ],
            [
             0.8888888888888888,
             "#fdca26"
            ],
            [
             1,
             "#f0f921"
            ]
           ],
           "sequentialminus": [
            [
             0,
             "#0d0887"
            ],
            [
             0.1111111111111111,
             "#46039f"
            ],
            [
             0.2222222222222222,
             "#7201a8"
            ],
            [
             0.3333333333333333,
             "#9c179e"
            ],
            [
             0.4444444444444444,
             "#bd3786"
            ],
            [
             0.5555555555555556,
             "#d8576b"
            ],
            [
             0.6666666666666666,
             "#ed7953"
            ],
            [
             0.7777777777777778,
             "#fb9f3a"
            ],
            [
             0.8888888888888888,
             "#fdca26"
            ],
            [
             1,
             "#f0f921"
            ]
           ]
          },
          "colorway": [
           "#636efa",
           "#EF553B",
           "#00cc96",
           "#ab63fa",
           "#FFA15A",
           "#19d3f3",
           "#FF6692",
           "#B6E880",
           "#FF97FF",
           "#FECB52"
          ],
          "font": {
           "color": "#2a3f5f"
          },
          "geo": {
           "bgcolor": "white",
           "lakecolor": "white",
           "landcolor": "#E5ECF6",
           "showlakes": true,
           "showland": true,
           "subunitcolor": "white"
          },
          "hoverlabel": {
           "align": "left"
          },
          "hovermode": "closest",
          "mapbox": {
           "style": "light"
          },
          "paper_bgcolor": "white",
          "plot_bgcolor": "#E5ECF6",
          "polar": {
           "angularaxis": {
            "gridcolor": "white",
            "linecolor": "white",
            "ticks": ""
           },
           "bgcolor": "#E5ECF6",
           "radialaxis": {
            "gridcolor": "white",
            "linecolor": "white",
            "ticks": ""
           }
          },
          "scene": {
           "xaxis": {
            "backgroundcolor": "#E5ECF6",
            "gridcolor": "white",
            "gridwidth": 2,
            "linecolor": "white",
            "showbackground": true,
            "ticks": "",
            "zerolinecolor": "white"
           },
           "yaxis": {
            "backgroundcolor": "#E5ECF6",
            "gridcolor": "white",
            "gridwidth": 2,
            "linecolor": "white",
            "showbackground": true,
            "ticks": "",
            "zerolinecolor": "white"
           },
           "zaxis": {
            "backgroundcolor": "#E5ECF6",
            "gridcolor": "white",
            "gridwidth": 2,
            "linecolor": "white",
            "showbackground": true,
            "ticks": "",
            "zerolinecolor": "white"
           }
          },
          "shapedefaults": {
           "line": {
            "color": "#2a3f5f"
           }
          },
          "ternary": {
           "aaxis": {
            "gridcolor": "white",
            "linecolor": "white",
            "ticks": ""
           },
           "baxis": {
            "gridcolor": "white",
            "linecolor": "white",
            "ticks": ""
           },
           "bgcolor": "#E5ECF6",
           "caxis": {
            "gridcolor": "white",
            "linecolor": "white",
            "ticks": ""
           }
          },
          "title": {
           "x": 0.05
          },
          "xaxis": {
           "automargin": true,
           "gridcolor": "white",
           "linecolor": "white",
           "ticks": "",
           "title": {
            "standoff": 15
           },
           "zerolinecolor": "white",
           "zerolinewidth": 2
          },
          "yaxis": {
           "automargin": true,
           "gridcolor": "white",
           "linecolor": "white",
           "ticks": "",
           "title": {
            "standoff": 15
           },
           "zerolinecolor": "white",
           "zerolinewidth": 2
          }
         }
        },
        "title": {
         "text": "Population vs. Total Visitor"
        },
        "xaxis": {
         "anchor": "y",
         "domain": [
          0,
          1
         ],
         "title": {
          "text": "Population"
         }
        },
        "yaxis": {
         "anchor": "x",
         "domain": [
          0,
          1
         ],
         "title": {
          "text": "Total Visitors"
         }
        }
       }
      },
      "text/html": [
       "<div>\n",
       "        \n",
       "        \n",
       "            <div id=\"e91c1aa0-f456-466a-9c97-056c092c00c0\" class=\"plotly-graph-div\" style=\"height:525px; width:100%;\"></div>\n",
       "            <script type=\"text/javascript\">\n",
       "                require([\"plotly\"], function(Plotly) {\n",
       "                    window.PLOTLYENV=window.PLOTLYENV || {};\n",
       "                    \n",
       "                if (document.getElementById(\"e91c1aa0-f456-466a-9c97-056c092c00c0\")) {\n",
       "                    Plotly.newPlot(\n",
       "                        'e91c1aa0-f456-466a-9c97-056c092c00c0',\n",
       "                        [{\"customdata\": [[\"KY\"], [\"KY\"], [\"KY\"], [\"ME\"], [\"ME\"], [\"ME\"], [\"MA\"], [\"MA\"], [\"MA\"], [\"NY\"], [\"NY\"], [\"NY\"], [\"NE\"], [\"NE\"], [\"NE\"], [\"TX\"], [\"TX\"], [\"TX\"], [\"PA\"], [\"PA\"], [\"PA\"], [\"TX\"], [\"TX\"], [\"TX\"], [\"GA\"], [\"GA\"], [\"GA\"], [\"AK\"], [\"AK\"], [\"AK\"], [\"TN\"], [\"TN\"], [\"TN\"], [\"MD\"], [\"MD\"], [\"MD\"], [\"VA\"], [\"VA\"], [\"VA\"], [\"WI\"], [\"WI\"], [\"WI\"], [\"UT\"], [\"UT\"], [\"UT\"], [\"VA\"], [\"VA\"], [\"VA\"], [\"AR\"], [\"AR\"], [\"AR\"], [\"NM\"], [\"NM\"], [\"NM\"], [\"SD\"], [\"SD\"], [\"SD\"], [\"NM\"], [\"NM\"], [\"NM\"], [\"AK\"], [\"AK\"], [\"AK\"], [\"CO\"], [\"CO\"], [\"CO\"], [\"TX\"], [\"TX\"], [\"TX\"], [\"FL\"], [\"FL\"], [\"FL\"], [\"MT\"], [\"MT\"], [\"MT\"], [\"FL\"], [\"FL\"], [\"FL\"], [\"TX\"], [\"TX\"], [\"TX\"], [\"CO\"], [\"CO\"], [\"CO\"], [\"WV\"], [\"WV\"], [\"WV\"], [\"MA\"], [\"MA\"], [\"MA\"], [\"MA\"], [\"MA\"], [\"MA\"], [\"VA\"], [\"VA\"], [\"VA\"], [\"UT\"], [\"UT\"], [\"UT\"], [\"KS\"], [\"KS\"], [\"KS\"], [\"AR\"], [\"AR\"], [\"AR\"], [\"CA\"], [\"CA\"], [\"CA\"], [\"AZ\"], [\"AZ\"], [\"AZ\"], [\"NY\"], [\"NY\"], [\"NY\"], [\"MA\"], [\"MA\"], [\"MA\"], [\"AZ\"], [\"AZ\"], [\"AZ\"], [\"NC\"], [\"NC\"], [\"NC\"], [\"AK\"], [\"AK\"], [\"AK\"], [\"NC\"], [\"NC\"], [\"NC\"], [\"FL\"], [\"FL\"], [\"FL\"], [\"UT\"], [\"UT\"], [\"UT\"], [\"UT\"], [\"UT\"], [\"UT\"], [\"LA\"], [\"LA\"], [\"LA\"], [\"NC\"], [\"NC\"], [\"NC\"], [\"FL\"], [\"FL\"], [\"FL\"], [\"MD\"], [\"MD\"], [\"MD\"], [\"NM\"], [\"NM\"], [\"NM\"], [\"NM\"], [\"NM\"], [\"NM\"], [\"UT\"], [\"UT\"], [\"UT\"], [\"CA\"], [\"CA\"], [\"CA\"], [\"TX\"], [\"TX\"], [\"TX\"], [\"GA\"], [\"GA\"], [\"GA\"], [\"NM\"], [\"NM\"], [\"NM\"], [\"OK\"], [\"OK\"], [\"OK\"], [\"AZ\"], [\"AZ\"], [\"AZ\"], [\"CA\"], [\"CA\"], [\"CA\"], [\"SC\"], [\"SC\"], [\"SC\"], [\"AR\"], [\"AR\"], [\"AR\"], [\"OH\"], [\"OH\"], [\"OH\"], [\"ID\"], [\"ID\"], [\"ID\"], [\"MD\"], [\"MD\"], [\"MD\"], [\"CO\"], [\"CO\"], [\"CO\"], [\"VA\"], [\"VA\"], [\"VA\"], [\"SC\"], [\"SC\"], [\"SC\"], [\"AZ\"], [\"AZ\"], [\"AZ\"], [\"SC\"], [\"SC\"], [\"SC\"], [\"OR\"], [\"OR\"], [\"OR\"], [\"ID\"], [\"ID\"], [\"ID\"], [\"GA\"], [\"GA\"], [\"GA\"], [\"CO\"], [\"CO\"], [\"CO\"], [\"OH\"], [\"OH\"], [\"OH\"], [\"OH\"], [\"OH\"], [\"OH\"], [\"AK\"], [\"AK\"], [\"AK\"], [\"CA\"], [\"CA\"], [\"CA\"], [\"FL\"], [\"FL\"], [\"FL\"], [\"WY\"], [\"WY\"], [\"WY\"], [\"FL\"], [\"FL\"], [\"FL\"], [\"PA\"], [\"PA\"], [\"PA\"], [\"NJ\"], [\"NJ\"], [\"NJ\"], [\"IA\"], [\"IA\"], [\"IA\"], [\"PA\"], [\"PA\"], [\"PA\"], [\"NM\"], [\"NM\"], [\"NM\"], [\"NM\"], [\"NM\"], [\"NM\"], [\"NY\"], [\"NY\"], [\"NY\"], [\"CA\"], [\"CA\"], [\"CA\"], [\"FL\"], [\"FL\"], [\"FL\"], [\"NY\"], [\"NY\"], [\"NY\"], [\"NY\"], [\"NY\"], [\"NY\"], [\"OH\"], [\"OH\"], [\"OH\"], [\"CO\"], [\"CO\"], [\"CO\"], [\"PA\"], [\"PA\"], [\"PA\"], [\"AZ\"], [\"AZ\"], [\"AZ\"], [\"WY\"], [\"WY\"], [\"WY\"], [\"TX\"], [\"TX\"], [\"TX\"], [\"GA\"], [\"GA\"], [\"GA\"], [\"WY\"], [\"WY\"], [\"WY\"], [\"KS\"], [\"KS\"], [\"KS\"], [\"FL\"], [\"FL\"], [\"FL\"], [\"MD\"], [\"MD\"], [\"MD\"], [\"PA\"], [\"PA\"], [\"PA\"], [\"CA\"], [\"CA\"], [\"CA\"], [\"GA\"], [\"GA\"], [\"GA\"], [\"NC\"], [\"NC\"], [\"NC\"], [\"KS\"], [\"KS\"], [\"KS\"], [\"NY\"], [\"NY\"], [\"NY\"], [\"SC\"], [\"SC\"], [\"SC\"], [\"NM\"], [\"NM\"], [\"NM\"], [\"MD\"], [\"MD\"], [\"MD\"], [\"PA\"], [\"PA\"], [\"PA\"], [\"MA\"], [\"MA\"], [\"MA\"], [\"VA\"], [\"VA\"], [\"VA\"], [\"AK\"], [\"AK\"], [\"AK\"], [\"WV\"], [\"WV\"], [\"WV\"], [\"NY\"], [\"NY\"], [\"NY\"], [\"IN\"], [\"IN\"], [\"IN\"], [\"PA\"], [\"PA\"], [\"PA\"], [\"VA\"], [\"VA\"], [\"VA\"], [\"NM\"], [\"NM\"], [\"NM\"], [\"MT\"], [\"MT\"], [\"MT\"], [\"AK\"], [\"AK\"], [\"AK\"], [\"CA\"], [\"CA\"], [\"CA\"], [\"NY\"], [\"NY\"], [\"NY\"], [\"UT\"], [\"UT\"], [\"UT\"], [\"NV\"], [\"NV\"], [\"NV\"], [\"AZ\"], [\"AZ\"], [\"AZ\"], [\"MD\"], [\"MD\"], [\"MD\"], [\"MT\"], [\"MT\"], [\"MT\"], [\"MN\"], [\"MN\"], [\"MN\"], [\"CO\"], [\"CO\"], [\"CO\"], [\"WY\"], [\"WY\"], [\"WY\"], [\"NC\"], [\"NC\"], [\"NC\"], [\"TX\"], [\"TX\"], [\"TX\"], [\"MO\"], [\"MO\"], [\"MO\"], [\"ID\"], [\"ID\"], [\"ID\"], [\"NY\"], [\"NY\"], [\"NY\"], [\"HI\"], [\"HI\"], [\"HI\"], [\"MD\"], [\"MD\"], [\"MD\"], [\"HI\"], [\"HI\"], [\"HI\"], [\"IA\"], [\"IA\"], [\"IA\"], [\"AL\"], [\"AL\"], [\"AL\"], [\"OH\"], [\"OH\"], [\"OH\"], [\"NY\"], [\"NY\"], [\"NY\"], [\"PA\"], [\"PA\"], [\"PA\"], [\"NE\"], [\"NE\"], [\"NE\"], [\"AR\"], [\"AR\"], [\"AR\"], [\"MO\"], [\"MO\"], [\"MO\"], [\"AZ\"], [\"AZ\"], [\"AZ\"], [\"PA\"], [\"PA\"], [\"PA\"], [\"IN\"], [\"IN\"], [\"IN\"], [\"MI\"], [\"MI\"], [\"MI\"], [\"OH\"], [\"OH\"], [\"OH\"], [\"LA\"], [\"LA\"], [\"LA\"], [\"SD\"], [\"SD\"], [\"SD\"], [\"MO\"], [\"MO\"], [\"MO\"], [\"LA\"], [\"LA\"], [\"LA\"], [\"GA\"], [\"GA\"], [\"GA\"], [\"OR\"], [\"OR\"], [\"OR\"], [\"MA\"], [\"MA\"], [\"MA\"], [\"PA\"], [\"PA\"], [\"PA\"], [\"CA\"], [\"CA\"], [\"CA\"], [\"CA\"], [\"CA\"], [\"CA\"], [\"HI\"], [\"HI\"], [\"HI\"], [\"HI\"], [\"HI\"], [\"HI\"], [\"AK\"], [\"AK\"], [\"AK\"], [\"AK\"], [\"AK\"], [\"AK\"], [\"GA\"], [\"GA\"], [\"GA\"], [\"MI\"], [\"MI\"], [\"MI\"], [\"SC\"], [\"SC\"], [\"SC\"], [\"AK\"], [\"AK\"], [\"AK\"], [\"WA\"], [\"WA\"], [\"WA\"], [\"ND\"], [\"ND\"], [\"ND\"], [\"AK\"], [\"AK\"], [\"AK\"], [\"CA\"], [\"CA\"], [\"CA\"], [\"AK\"], [\"AK\"], [\"AK\"], [\"TX\"], [\"TX\"], [\"TX\"], [\"WA\"], [\"WA\"], [\"WA\"], [\"CA\"], [\"CA\"], [\"CA\"], [\"MT\"], [\"MT\"], [\"MT\"], [\"IN\"], [\"IN\"], [\"IN\"], [\"IL\"], [\"IL\"], [\"IL\"], [\"AL\"], [\"AL\"], [\"AL\"], [\"MA\"], [\"MA\"], [\"MA\"], [\"MA\"], [\"MA\"], [\"MA\"], [\"TX\"], [\"TX\"], [\"TX\"], [\"VT\"], [\"VT\"], [\"VT\"], [\"KY\"], [\"KY\"], [\"KY\"], [\"GA\"], [\"GA\"], [\"GA\"], [\"VA\"], [\"VA\"], [\"VA\"], [\"CA\"], [\"CA\"], [\"CA\"], [\"NY\"], [\"NY\"], [\"NY\"], [\"VA\"], [\"VA\"], [\"VA\"], [\"CO\"], [\"CO\"], [\"CO\"], [\"MA\"], [\"MA\"], [\"MA\"], [\"SD\"], [\"SD\"], [\"SD\"], [\"MN\"], [\"MN\"], [\"MN\"], [\"AZ\"], [\"AZ\"], [\"AZ\"], [\"NC\"], [\"NC\"], [\"NC\"], [\"CA\"], [\"CA\"], [\"CA\"], [\"MD\"], [\"MD\"], [\"MD\"], [\"WA\"], [\"WA\"], [\"WA\"], [\"NJ\"], [\"NJ\"], [\"NJ\"], [\"SD\"], [\"SD\"], [\"SD\"], [\"CA\"], [\"CA\"], [\"CA\"], [\"UT\"], [\"UT\"], [\"UT\"], [\"MS\"], [\"MS\"], [\"MS\"], [\"AZ\"], [\"AZ\"], [\"AZ\"], [\"MA\"], [\"MA\"], [\"MA\"], [\"WV\"], [\"WV\"], [\"WV\"], [\"KS\"], [\"KS\"], [\"KS\"], [\"NE\"], [\"NE\"], [\"NE\"], [\"SC\"], [\"SC\"], [\"SC\"], [\"AK\"], [\"AK\"], [\"AK\"], [\"WA\"], [\"WA\"], [\"WA\"], [\"GA\"], [\"GA\"], [\"GA\"], [\"WA\"], [\"WA\"], [\"WA\"], [\"OR\"], [\"OR\"], [\"OR\"], [\"AZ\"], [\"AZ\"], [\"AZ\"], [\"MO\"], [\"MO\"], [\"MO\"], [\"TX\"], [\"TX\"], [\"TX\"], [\"NJ\"], [\"NJ\"], [\"NJ\"], [\"TX\"], [\"TX\"], [\"TX\"], [\"NM\"], [\"NM\"], [\"NM\"], [\"AZ\"], [\"AZ\"], [\"AZ\"], [\"AR\"], [\"AR\"], [\"AR\"], [\"VA\"], [\"VA\"], [\"VA\"], [\"NM\"], [\"NM\"], [\"NM\"], [\"OH\"], [\"OH\"], [\"OH\"], [\"CA\"], [\"CA\"], [\"CA\"], [\"MN\"], [\"MN\"], [\"MN\"], [\"MI\"], [\"MI\"], [\"MI\"], [\"MD\"], [\"MD\"], [\"MD\"], [\"AZ\"], [\"AZ\"], [\"AZ\"], [\"CA\"], [\"CA\"], [\"CA\"], [\"CA\"], [\"CA\"], [\"CA\"], [\"VA\"], [\"VA\"], [\"VA\"], [\"HI\"], [\"HI\"], [\"HI\"], [\"HI\"], [\"HI\"], [\"HI\"], [\"UT\"], [\"UT\"], [\"UT\"], [\"CA\"], [\"CA\"], [\"CA\"], [\"VA\"], [\"VA\"], [\"VA\"], [\"TX\"], [\"TX\"], [\"TX\"], [\"MI\"], [\"MI\"], [\"MI\"], [\"CO\"], [\"CO\"], [\"CO\"], [\"CA\"], [\"CA\"], [\"CA\"], [\"RI\"], [\"RI\"], [\"RI\"], [\"AL\"], [\"AL\"], [\"AL\"], [\"TX\"], [\"TX\"], [\"TX\"], [\"ME\"], [\"ME\"], [\"ME\"], [\"CA\"], [\"CA\"], [\"CA\"], [\"NH\"], [\"NH\"], [\"NH\"], [\"AZ\"], [\"AZ\"], [\"AZ\"], [\"NY\"], [\"NY\"], [\"NY\"], [\"MA\"], [\"MA\"], [\"MA\"], [\"WA\"], [\"WA\"], [\"WA\"], [\"MA\"], [\"MA\"], [\"MA\"], [\"CA\"], [\"CA\"], [\"CA\"], [\"CO\"], [\"CO\"], [\"CO\"], [\"NY\"], [\"NY\"], [\"NY\"], [\"NM\"], [\"NM\"], [\"NM\"], [\"NY\"], [\"NY\"], [\"NY\"], [\"NE\"], [\"NE\"], [\"NE\"], [\"VA\"], [\"VA\"], [\"VA\"], [\"AK\"], [\"AK\"], [\"AK\"], [\"MI\"], [\"MI\"], [\"MI\"], [\"MA\"], [\"MA\"], [\"MA\"], [\"PA\"], [\"PA\"], [\"PA\"], [\"NY\"], [\"NY\"], [\"NY\"], [\"NY\"], [\"NY\"], [\"NY\"], [\"TN\"], [\"TN\"], [\"TN\"], [\"AZ\"], [\"AZ\"], [\"AZ\"], [\"KS\"], [\"KS\"], [\"KS\"], [\"PA\"], [\"PA\"], [\"PA\"], [\"NY\"], [\"NY\"], [\"NY\"], [\"NY\"], [\"NY\"], [\"NY\"], [\"ND\"], [\"ND\"], [\"ND\"], [\"MD\"], [\"MD\"], [\"MD\"], [\"UT\"], [\"UT\"], [\"UT\"], [\"FL\"], [\"FL\"], [\"FL\"], [\"AZ\"], [\"AZ\"], [\"AZ\"], [\"AL\"], [\"AL\"], [\"AL\"], [\"AL\"], [\"AL\"], [\"AL\"], [\"AZ\"], [\"AZ\"], [\"AZ\"], [\"AZ\"], [\"AZ\"], [\"AZ\"], [\"MO\"], [\"MO\"], [\"MO\"], [\"PA\"], [\"PA\"], [\"PA\"], [\"HI\"], [\"HI\"], [\"HI\"], [\"NY\"], [\"NY\"], [\"NY\"], [\"MN\"], [\"MN\"], [\"MN\"], [\"OK\"], [\"OK\"], [\"OK\"], [\"AZ\"], [\"AZ\"], [\"AZ\"], [\"TX\"], [\"TX\"], [\"TX\"], [\"CT\"], [\"CT\"], [\"CT\"], [\"CA\"], [\"CA\"], [\"CA\"], [\"WA\"], [\"WA\"], [\"WA\"], [\"NM\"], [\"NM\"], [\"NM\"], [\"SD\"], [\"SD\"], [\"SD\"], [\"AR\"], [\"AR\"], [\"AR\"], [\"MO\"], [\"MO\"], [\"MO\"], [\"OH\"], [\"OH\"], [\"OH\"], [\"NY\"], [\"NY\"], [\"NY\"], [\"VA\"], [\"VA\"], [\"VA\"], [\"NC\"], [\"NC\"], [\"NC\"], [\"AK\"], [\"AK\"], [\"AK\"], [\"AZ\"], [\"AZ\"], [\"AZ\"], [\"CA\"], [\"CA\"], [\"CA\"], [\"AK\"], [\"AK\"], [\"AK\"], [\"UT\"], [\"UT\"], [\"UT\"]], \"hoverlabel\": {\"namelength\": 0}, \"hovertemplate\": \"Population=%{x}<br>Total Visitors=%{y}<br>Month=%{marker.size}<br>State Code=%{customdata[0]}\", \"legendgroup\": \"\", \"marker\": {\"color\": \"#636efa\", \"size\": [9, 10, 11, 9, 10, 11, 9, 10, 11, 9, 10, 11, 9, 10, 11, 9, 10, 11, 9, 10, 11, 9, 10, 11, 9, 10, 11, 9, 10, 11, 9, 10, 11, 9, 10, 11, 9, 10, 11, 9, 10, 11, 9, 10, 11, 9, 10, 11, 9, 10, 11, 9, 10, 11, 9, 10, 11, 9, 10, 11, 9, 10, 11, 9, 10, 11, 9, 10, 11, 9, 10, 11, 9, 10, 11, 9, 10, 11, 9, 10, 11, 9, 10, 11, 9, 10, 11, 9, 10, 11, 9, 10, 11, 9, 10, 11, 9, 10, 11, 9, 10, 11, 9, 10, 11, 9, 10, 11, 9, 10, 11, 9, 10, 11, 9, 10, 11, 9, 10, 11, 9, 10, 11, 9, 10, 11, 9, 10, 11, 9, 10, 11, 9, 10, 11, 9, 10, 11, 9, 10, 11, 9, 10, 11, 9, 10, 11, 9, 10, 11, 9, 10, 11, 9, 10, 11, 9, 10, 11, 9, 10, 11, 9, 10, 11, 9, 10, 11, 9, 10, 11, 9, 10, 11, 9, 10, 11, 9, 10, 11, 9, 10, 11, 9, 10, 11, 9, 10, 11, 9, 10, 11, 9, 10, 11, 9, 10, 11, 9, 10, 11, 9, 10, 11, 9, 10, 11, 9, 10, 11, 9, 10, 11, 9, 10, 11, 9, 10, 11, 9, 10, 11, 9, 10, 11, 9, 10, 11, 9, 10, 11, 9, 10, 11, 9, 10, 11, 9, 10, 11, 9, 10, 11, 9, 10, 11, 9, 10, 11, 9, 10, 11, 9, 10, 11, 9, 10, 11, 9, 10, 11, 9, 10, 11, 9, 10, 11, 9, 10, 11, 9, 10, 11, 9, 10, 11, 9, 10, 11, 9, 10, 11, 9, 10, 11, 9, 10, 11, 9, 10, 11, 9, 10, 11, 9, 10, 11, 9, 10, 11, 9, 10, 11, 9, 10, 11, 9, 10, 11, 9, 10, 11, 9, 10, 11, 9, 10, 11, 9, 10, 11, 9, 10, 11, 9, 10, 11, 9, 10, 11, 9, 10, 11, 9, 10, 11, 9, 10, 11, 9, 10, 11, 9, 10, 11, 9, 10, 11, 9, 10, 11, 9, 10, 11, 9, 10, 11, 9, 10, 11, 9, 10, 11, 9, 10, 11, 9, 10, 11, 9, 10, 11, 9, 10, 11, 9, 10, 11, 9, 10, 11, 9, 10, 11, 9, 10, 11, 9, 10, 11, 9, 10, 11, 9, 10, 11, 9, 10, 11, 9, 10, 11, 9, 10, 11, 9, 10, 11, 9, 10, 11, 9, 10, 11, 9, 10, 11, 9, 10, 11, 9, 10, 11, 9, 10, 11, 9, 10, 11, 9, 10, 11, 9, 10, 11, 9, 10, 11, 9, 10, 11, 9, 10, 11, 9, 10, 11, 9, 10, 11, 9, 10, 11, 9, 10, 11, 9, 10, 11, 9, 10, 11, 9, 10, 11, 9, 10, 11, 9, 10, 11, 9, 10, 11, 9, 10, 11, 9, 10, 11, 9, 10, 11, 9, 10, 11, 9, 10, 11, 9, 10, 11, 9, 10, 11, 9, 10, 11, 9, 10, 11, 9, 10, 11, 9, 10, 11, 9, 10, 11, 9, 10, 11, 9, 10, 11, 9, 10, 11, 9, 10, 11, 9, 10, 11, 9, 10, 11, 9, 10, 11, 9, 10, 11, 9, 10, 11, 9, 10, 11, 9, 10, 11, 9, 10, 11, 9, 10, 11, 9, 10, 11, 9, 10, 11, 9, 10, 11, 9, 10, 11, 9, 10, 11, 9, 10, 11, 9, 10, 11, 9, 10, 11, 9, 10, 11, 9, 10, 11, 9, 10, 11, 9, 10, 11, 9, 10, 11, 9, 10, 11, 9, 10, 11, 9, 10, 11, 9, 10, 11, 9, 10, 11, 9, 10, 11, 9, 10, 11, 9, 10, 11, 9, 10, 11, 9, 10, 11, 9, 10, 11, 9, 10, 11, 9, 10, 11, 9, 10, 11, 9, 10, 11, 9, 10, 11, 9, 10, 11, 9, 10, 11, 9, 10, 11, 9, 10, 11, 9, 10, 11, 9, 10, 11, 9, 10, 11, 9, 10, 11, 9, 10, 11, 9, 10, 11, 9, 10, 11, 9, 10, 11, 9, 10, 11, 9, 10, 11, 9, 10, 11, 9, 10, 11, 9, 10, 11, 9, 10, 11, 9, 10, 11, 9, 10, 11, 9, 10, 11, 9, 10, 11, 9, 10, 11, 9, 10, 11, 9, 10, 11, 9, 10, 11, 9, 10, 11, 9, 10, 11, 9, 10, 11, 9, 10, 11, 9, 10, 11, 9, 10, 11, 9, 10, 11, 9, 10, 11, 9, 10, 11, 9, 10, 11, 9, 10, 11, 9, 10, 11, 9, 10, 11, 9, 10, 11, 9, 10, 11, 9, 10, 11, 9, 10, 11, 9, 10, 11, 9, 10, 11, 9, 10, 11, 9, 10, 11, 9, 10, 11, 9, 10, 11, 9, 10, 11, 9, 10, 11, 9, 10, 11, 9, 10, 11, 9, 10, 11, 9, 10, 11, 9, 10, 11, 9, 10, 11, 9, 10, 11, 9, 10, 11, 9, 10, 11, 9, 10, 11, 9, 10, 11, 9, 10, 11, 9, 10, 11, 9, 10, 11, 9, 10, 11, 9, 10, 11, 9, 10, 11, 9, 10, 11, 9, 10, 11, 9, 10, 11, 9, 10, 11, 9, 10, 11, 9, 10, 11, 9, 10, 11, 9, 10, 11, 9, 10, 11, 9, 10, 11, 9, 10, 11, 9, 10, 11, 9, 10, 11, 9, 10, 11, 9, 10, 11, 9, 10, 11, 9, 10, 11, 9, 10, 11, 9, 10, 11, 9, 10, 11, 9, 10, 11, 9, 10, 11, 9, 10, 11, 9, 10, 11, 9, 10, 11, 9, 10, 11, 9, 10, 11, 9, 10, 11, 9, 10, 11, 9, 10, 11, 9, 10, 11], \"sizemode\": \"area\", \"sizeref\": 0.0275, \"symbol\": \"circle\"}, \"mode\": \"markers\", \"name\": \"\", \"showlegend\": false, \"type\": \"scatter\", \"x\": [4424376.0, 4424376.0, 4424376.0, 1330158.0, 1330158.0, 1330158.0, 6789319.0, 6789319.0, 6789319.0, 19798228.0, 19798228.0, 19798228.0, 1893921.0, 1893921.0, 1893921.0, 27419612.0, 27419612.0, 27419612.0, 12790505.0, 12790505.0, 12790505.0, 27419612.0, 27419612.0, 27419612.0, 10201635.0, 10201635.0, 10201635.0, 738565.0, 738565.0, 738565.0, 6597381.0, 6597381.0, 6597381.0, 5996079.0, 5996079.0, 5996079.0, 8365952.0, 8365952.0, 8365952.0, 5763217.0, 5763217.0, 5763217.0, 2993941.0, 2993941.0, 2993941.0, 8365952.0, 8365952.0, 8365952.0, 2977944.0, 2977944.0, 2977944.0, 2084828.0, 2084828.0, 2084828.0, 855444.0, 855444.0, 855444.0, 2084828.0, 2084828.0, 2084828.0, 738565.0, 738565.0, 738565.0, 5436519.0, 5436519.0, 5436519.0, 27419612.0, 27419612.0, 27419612.0, 20278447.0, 20278447.0, 20278447.0, 1029862.0, 1029862.0, 1029862.0, 20278447.0, 20278447.0, 20278447.0, 27419612.0, 27419612.0, 27419612.0, 5436519.0, 5436519.0, 5436519.0, 1836843.0, 1836843.0, 1836843.0, 6789319.0, 6789319.0, 6789319.0, 6789319.0, 6789319.0, 6789319.0, 8365952.0, 8365952.0, 8365952.0, 2993941.0, 2993941.0, 2993941.0, 2903820.0, 2903820.0, 2903820.0, 2977944.0, 2977944.0, 2977944.0, 38982847.0, 38982847.0, 38982847.0, 6809946.0, 6809946.0, 6809946.0, 19798228.0, 19798228.0, 19798228.0, 6789319.0, 6789319.0, 6789319.0, 6809946.0, 6809946.0, 6809946.0, 10052564.0, 10052564.0, 10052564.0, 738565.0, 738565.0, 738565.0, 10052564.0, 10052564.0, 10052564.0, 20278447.0, 20278447.0, 20278447.0, 2993941.0, 2993941.0, 2993941.0, 2993941.0, 2993941.0, 2993941.0, 4663461.0, 4663461.0, 4663461.0, 10052564.0, 10052564.0, 10052564.0, 20278447.0, 20278447.0, 20278447.0, 5996079.0, 5996079.0, 5996079.0, 2084828.0, 2084828.0, 2084828.0, 2084828.0, 2084828.0, 2084828.0, 2993941.0, 2993941.0, 2993941.0, 38982847.0, 38982847.0, 38982847.0, 27419612.0, 27419612.0, 27419612.0, 10201635.0, 10201635.0, 10201635.0, 2084828.0, 2084828.0, 2084828.0, 3896251.0, 3896251.0, 3896251.0, 6809946.0, 6809946.0, 6809946.0, 38982847.0, 38982847.0, 38982847.0, 4893444.0, 4893444.0, 4893444.0, 2977944.0, 2977944.0, 2977944.0, 11609756.0, 11609756.0, 11609756.0, 1657375.0, 1657375.0, 1657375.0, 5996079.0, 5996079.0, 5996079.0, 5436519.0, 5436519.0, 5436519.0, 8365952.0, 8365952.0, 8365952.0, 4893444.0, 4893444.0, 4893444.0, 6809946.0, 6809946.0, 6809946.0, 4893444.0, 4893444.0, 4893444.0, 4025127.0, 4025127.0, 4025127.0, 1657375.0, 1657375.0, 1657375.0, 10201635.0, 10201635.0, 10201635.0, 5436519.0, 5436519.0, 5436519.0, 11609756.0, 11609756.0, 11609756.0, 11609756.0, 11609756.0, 11609756.0, 738565.0, 738565.0, 738565.0, 38982847.0, 38982847.0, 38982847.0, 20278447.0, 20278447.0, 20278447.0, 583200.0, 583200.0, 583200.0, 20278447.0, 20278447.0, 20278447.0, 12790505.0, 12790505.0, 12790505.0, 8960161.0, 8960161.0, 8960161.0, 3118102.0, 3118102.0, 3118102.0, 12790505.0, 12790505.0, 12790505.0, 2084828.0, 2084828.0, 2084828.0, 2084828.0, 2084828.0, 2084828.0, 19798228.0, 19798228.0, 19798228.0, 38982847.0, 38982847.0, 38982847.0, 20278447.0, 20278447.0, 20278447.0, 19798228.0, 19798228.0, 19798228.0, 19798228.0, 19798228.0, 19798228.0, 11609756.0, 11609756.0, 11609756.0, 5436519.0, 5436519.0, 5436519.0, 12790505.0, 12790505.0, 12790505.0, 6809946.0, 6809946.0, 6809946.0, 583200.0, 583200.0, 583200.0, 27419612.0, 27419612.0, 27419612.0, 10201635.0, 10201635.0, 10201635.0, 583200.0, 583200.0, 583200.0, 2903820.0, 2903820.0, 2903820.0, 20278447.0, 20278447.0, 20278447.0, 5996079.0, 5996079.0, 5996079.0, 12790505.0, 12790505.0, 12790505.0, 38982847.0, 38982847.0, 38982847.0, 10201635.0, 10201635.0, 10201635.0, 10052564.0, 10052564.0, 10052564.0, 2903820.0, 2903820.0, 2903820.0, 19798228.0, 19798228.0, 19798228.0, 4893444.0, 4893444.0, 4893444.0, 2084828.0, 2084828.0, 2084828.0, 5996079.0, 5996079.0, 5996079.0, 12790505.0, 12790505.0, 12790505.0, 6789319.0, 6789319.0, 6789319.0, 8365952.0, 8365952.0, 8365952.0, 738565.0, 738565.0, 738565.0, 1836843.0, 1836843.0, 1836843.0, 19798228.0, 19798228.0, 19798228.0, 6614418.0, 6614418.0, 6614418.0, 12790505.0, 12790505.0, 12790505.0, 8365952.0, 8365952.0, 8365952.0, 2084828.0, 2084828.0, 2084828.0, 1029862.0, 1029862.0, 1029862.0, 738565.0, 738565.0, 738565.0, 38982847.0, 38982847.0, 38982847.0, 19798228.0, 19798228.0, 19798228.0, 2993941.0, 2993941.0, 2993941.0, 2887725.0, 2887725.0, 2887725.0, 6809946.0, 6809946.0, 6809946.0, 5996079.0, 5996079.0, 5996079.0, 1029862.0, 1029862.0, 1029862.0, 5490726.0, 5490726.0, 5490726.0, 5436519.0, 5436519.0, 5436519.0, 583200.0, 583200.0, 583200.0, 10052564.0, 10052564.0, 10052564.0, 27419612.0, 27419612.0, 27419612.0, 6075300.0, 6075300.0, 6075300.0, 1657375.0, 1657375.0, 1657375.0, 19798228.0, 19798228.0, 19798228.0, 1421658.0, 1421658.0, 1421658.0, 5996079.0, 5996079.0, 5996079.0, 1421658.0, 1421658.0, 1421658.0, 3118102.0, 3118102.0, 3118102.0, 4850771.0, 4850771.0, 4850771.0, 11609756.0, 11609756.0, 11609756.0, 19798228.0, 19798228.0, 19798228.0, 12790505.0, 12790505.0, 12790505.0, 1893921.0, 1893921.0, 1893921.0, 2977944.0, 2977944.0, 2977944.0, 6075300.0, 6075300.0, 6075300.0, 6809946.0, 6809946.0, 6809946.0, 12790505.0, 12790505.0, 12790505.0, 6614418.0, 6614418.0, 6614418.0, 9925568.0, 9925568.0, 9925568.0, 11609756.0, 11609756.0, 11609756.0, 4663461.0, 4663461.0, 4663461.0, 855444.0, 855444.0, 855444.0, 6075300.0, 6075300.0, 6075300.0, 4663461.0, 4663461.0, 4663461.0, 10201635.0, 10201635.0, 10201635.0, 4025127.0, 4025127.0, 4025127.0, 6789319.0, 6789319.0, 6789319.0, 12790505.0, 12790505.0, 12790505.0, 38982847.0, 38982847.0, 38982847.0, 38982847.0, 38982847.0, 38982847.0, 1421658.0, 1421658.0, 1421658.0, 1421658.0, 1421658.0, 1421658.0, 738565.0, 738565.0, 738565.0, 738565.0, 738565.0, 738565.0, 10201635.0, 10201635.0, 10201635.0, 9925568.0, 9925568.0, 9925568.0, 4893444.0, 4893444.0, 4893444.0, 738565.0, 738565.0, 738565.0, 7169967.0, 7169967.0, 7169967.0, 745475.0, 745475.0, 745475.0, 738565.0, 738565.0, 738565.0, 38982847.0, 38982847.0, 38982847.0, 738565.0, 738565.0, 738565.0, 27419612.0, 27419612.0, 27419612.0, 7169967.0, 7169967.0, 7169967.0, 38982847.0, 38982847.0, 38982847.0, 1029862.0, 1029862.0, 1029862.0, 6614418.0, 6614418.0, 6614418.0, 12854526.0, 12854526.0, 12854526.0, 4850771.0, 4850771.0, 4850771.0, 6789319.0, 6789319.0, 6789319.0, 6789319.0, 6789319.0, 6789319.0, 27419612.0, 27419612.0, 27419612.0, 624636.0, 624636.0, 624636.0, 4424376.0, 4424376.0, 4424376.0, 10201635.0, 10201635.0, 10201635.0, 8365952.0, 8365952.0, 8365952.0, 38982847.0, 38982847.0, 38982847.0, 19798228.0, 19798228.0, 19798228.0, 8365952.0, 8365952.0, 8365952.0, 5436519.0, 5436519.0, 5436519.0, 6789319.0, 6789319.0, 6789319.0, 855444.0, 855444.0, 855444.0, 5490726.0, 5490726.0, 5490726.0, 6809946.0, 6809946.0, 6809946.0, 10052564.0, 10052564.0, 10052564.0, 38982847.0, 38982847.0, 38982847.0, 5996079.0, 5996079.0, 5996079.0, 7169967.0, 7169967.0, 7169967.0, 8960161.0, 8960161.0, 8960161.0, 855444.0, 855444.0, 855444.0, 38982847.0, 38982847.0, 38982847.0, 2993941.0, 2993941.0, 2993941.0, 2986220.0, 2986220.0, 2986220.0, 6809946.0, 6809946.0, 6809946.0, 6789319.0, 6789319.0, 6789319.0, 1836843.0, 1836843.0, 1836843.0, 2903820.0, 2903820.0, 2903820.0, 1893921.0, 1893921.0, 1893921.0, 4893444.0, 4893444.0, 4893444.0, 738565.0, 738565.0, 738565.0, 7169967.0, 7169967.0, 7169967.0, 10201635.0, 10201635.0, 10201635.0, 7169967.0, 7169967.0, 7169967.0, 4025127.0, 4025127.0, 4025127.0, 6809946.0, 6809946.0, 6809946.0, 6075300.0, 6075300.0, 6075300.0, 27419612.0, 27419612.0, 27419612.0, 8960161.0, 8960161.0, 8960161.0, 27419612.0, 27419612.0, 27419612.0, 2084828.0, 2084828.0, 2084828.0, 6809946.0, 6809946.0, 6809946.0, 2977944.0, 2977944.0, 2977944.0, 8365952.0, 8365952.0, 8365952.0, 2084828.0, 2084828.0, 2084828.0, 11609756.0, 11609756.0, 11609756.0, 38982847.0, 38982847.0, 38982847.0, 5490726.0, 5490726.0, 5490726.0, 9925568.0, 9925568.0, 9925568.0, 5996079.0, 5996079.0, 5996079.0, 6809946.0, 6809946.0, 6809946.0, 38982847.0, 38982847.0, 38982847.0, 38982847.0, 38982847.0, 38982847.0, 8365952.0, 8365952.0, 8365952.0, 1421658.0, 1421658.0, 1421658.0, 1421658.0, 1421658.0, 1421658.0, 2993941.0, 2993941.0, 2993941.0, 38982847.0, 38982847.0, 38982847.0, 8365952.0, 8365952.0, 8365952.0, 27419612.0, 27419612.0, 27419612.0, 9925568.0, 9925568.0, 9925568.0, 5436519.0, 5436519.0, 5436519.0, 38982847.0, 38982847.0, 38982847.0, 1056138.0, 1056138.0, 1056138.0, 4850771.0, 4850771.0, 4850771.0, 27419612.0, 27419612.0, 27419612.0, 1330158.0, 1330158.0, 1330158.0, 38982847.0, 38982847.0, 38982847.0, 1331848.0, 1331848.0, 1331848.0, 6809946.0, 6809946.0, 6809946.0, 19798228.0, 19798228.0, 19798228.0, 6789319.0, 6789319.0, 6789319.0, 7169967.0, 7169967.0, 7169967.0, 6789319.0, 6789319.0, 6789319.0, 38982847.0, 38982847.0, 38982847.0, 5436519.0, 5436519.0, 5436519.0, 19798228.0, 19798228.0, 19798228.0, 2084828.0, 2084828.0, 2084828.0, 19798228.0, 19798228.0, 19798228.0, 1893921.0, 1893921.0, 1893921.0, 8365952.0, 8365952.0, 8365952.0, 738565.0, 738565.0, 738565.0, 9925568.0, 9925568.0, 9925568.0, 6789319.0, 6789319.0, 6789319.0, 12790505.0, 12790505.0, 12790505.0, 19798228.0, 19798228.0, 19798228.0, 19798228.0, 19798228.0, 19798228.0, 6597381.0, 6597381.0, 6597381.0, 6809946.0, 6809946.0, 6809946.0, 2903820.0, 2903820.0, 2903820.0, 12790505.0, 12790505.0, 12790505.0, 19798228.0, 19798228.0, 19798228.0, 19798228.0, 19798228.0, 19798228.0, 745475.0, 745475.0, 745475.0, 5996079.0, 5996079.0, 5996079.0, 2993941.0, 2993941.0, 2993941.0, 20278447.0, 20278447.0, 20278447.0, 6809946.0, 6809946.0, 6809946.0, 4850771.0, 4850771.0, 4850771.0, 4850771.0, 4850771.0, 4850771.0, 6809946.0, 6809946.0, 6809946.0, 6809946.0, 6809946.0, 6809946.0, 6075300.0, 6075300.0, 6075300.0, 12790505.0, 12790505.0, 12790505.0, 1421658.0, 1421658.0, 1421658.0, 19798228.0, 19798228.0, 19798228.0, 5490726.0, 5490726.0, 5490726.0, 3896251.0, 3896251.0, 3896251.0, 6809946.0, 6809946.0, 6809946.0, 27419612.0, 27419612.0, 27419612.0, 3594478.0, 3594478.0, 3594478.0, 38982847.0, 38982847.0, 38982847.0, 7169967.0, 7169967.0, 7169967.0, 2084828.0, 2084828.0, 2084828.0, 855444.0, 855444.0, 855444.0, 2977944.0, 2977944.0, 2977944.0, 6075300.0, 6075300.0, 6075300.0, 11609756.0, 11609756.0, 11609756.0, 19798228.0, 19798228.0, 19798228.0, 8365952.0, 8365952.0, 8365952.0, 10052564.0, 10052564.0, 10052564.0, 738565.0, 738565.0, 738565.0, 6809946.0, 6809946.0, 6809946.0, 38982847.0, 38982847.0, 38982847.0, 738565.0, 738565.0, 738565.0, 2993941.0, 2993941.0, 2993941.0], \"xaxis\": \"x\", \"y\": [31349153, 26646960, 18794009, 31349153, 26646960, 18794009, 31349153, 26646960, 18794009, 31349153, 26646960, 18794009, 31349153, 26646960, 18794009, 31349153, 26646960, 18794009, 31349153, 26646960, 18794009, 31349153, 26646960, 18794009, 31349153, 26646960, 18794009, 31349153, 26646960, 18794009, 31349153, 26646960, 18794009, 31349153, 26646960, 18794009, 31349153, 26646960, 18794009, 31349153, 26646960, 18794009, 31349153, 26646960, 18794009, 31349153, 26646960, 18794009, 31349153, 26646960, 18794009, 31349153, 26646960, 18794009, 31349153, 26646960, 18794009, 31349153, 26646960, 18794009, 31349153, 26646960, 18794009, 31349153, 26646960, 18794009, 31349153, 26646960, 18794009, 31349153, 26646960, 18794009, 31349153, 26646960, 18794009, 31349153, 26646960, 18794009, 31349153, 26646960, 18794009, 31349153, 26646960, 18794009, 31349153, 26646960, 18794009, 31349153, 26646960, 18794009, 31349153, 26646960, 18794009, 31349153, 26646960, 18794009, 31349153, 26646960, 18794009, 31349153, 26646960, 18794009, 31349153, 26646960, 18794009, 31349153, 26646960, 18794009, 31349153, 26646960, 18794009, 31349153, 26646960, 18794009, 31349153, 26646960, 18794009, 31349153, 26646960, 18794009, 31349153, 26646960, 18794009, 31349153, 26646960, 18794009, 31349153, 26646960, 18794009, 31349153, 26646960, 18794009, 31349153, 26646960, 18794009, 31349153, 26646960, 18794009, 31349153, 26646960, 18794009, 31349153, 26646960, 18794009, 31349153, 26646960, 18794009, 31349153, 26646960, 18794009, 31349153, 26646960, 18794009, 31349153, 26646960, 18794009, 31349153, 26646960, 18794009, 31349153, 26646960, 18794009, 31349153, 26646960, 18794009, 31349153, 26646960, 18794009, 31349153, 26646960, 18794009, 31349153, 26646960, 18794009, 31349153, 26646960, 18794009, 31349153, 26646960, 18794009, 31349153, 26646960, 18794009, 31349153, 26646960, 18794009, 31349153, 26646960, 18794009, 31349153, 26646960, 18794009, 31349153, 26646960, 18794009, 31349153, 26646960, 18794009, 31349153, 26646960, 18794009, 31349153, 26646960, 18794009, 31349153, 26646960, 18794009, 31349153, 26646960, 18794009, 31349153, 26646960, 18794009, 31349153, 26646960, 18794009, 31349153, 26646960, 18794009, 31349153, 26646960, 18794009, 31349153, 26646960, 18794009, 31349153, 26646960, 18794009, 31349153, 26646960, 18794009, 31349153, 26646960, 18794009, 31349153, 26646960, 18794009, 31349153, 26646960, 18794009, 31349153, 26646960, 18794009, 31349153, 26646960, 18794009, 31349153, 26646960, 18794009, 31349153, 26646960, 18794009, 31349153, 26646960, 18794009, 31349153, 26646960, 18794009, 31349153, 26646960, 18794009, 31349153, 26646960, 18794009, 31349153, 26646960, 18794009, 31349153, 26646960, 18794009, 31349153, 26646960, 18794009, 31349153, 26646960, 18794009, 31349153, 26646960, 18794009, 31349153, 26646960, 18794009, 31349153, 26646960, 18794009, 31349153, 26646960, 18794009, 31349153, 26646960, 18794009, 31349153, 26646960, 18794009, 31349153, 26646960, 18794009, 31349153, 26646960, 18794009, 31349153, 26646960, 18794009, 31349153, 26646960, 18794009, 31349153, 26646960, 18794009, 31349153, 26646960, 18794009, 31349153, 26646960, 18794009, 31349153, 26646960, 18794009, 31349153, 26646960, 18794009, 31349153, 26646960, 18794009, 31349153, 26646960, 18794009, 31349153, 26646960, 18794009, 31349153, 26646960, 18794009, 31349153, 26646960, 18794009, 31349153, 26646960, 18794009, 31349153, 26646960, 18794009, 31349153, 26646960, 18794009, 31349153, 26646960, 18794009, 31349153, 26646960, 18794009, 31349153, 26646960, 18794009, 31349153, 26646960, 18794009, 31349153, 26646960, 18794009, 31349153, 26646960, 18794009, 31349153, 26646960, 18794009, 31349153, 26646960, 18794009, 31349153, 26646960, 18794009, 31349153, 26646960, 18794009, 31349153, 26646960, 18794009, 31349153, 26646960, 18794009, 31349153, 26646960, 18794009, 31349153, 26646960, 18794009, 31349153, 26646960, 18794009, 31349153, 26646960, 18794009, 31349153, 26646960, 18794009, 31349153, 26646960, 18794009, 31349153, 26646960, 18794009, 31349153, 26646960, 18794009, 31349153, 26646960, 18794009, 31349153, 26646960, 18794009, 31349153, 26646960, 18794009, 31349153, 26646960, 18794009, 31349153, 26646960, 18794009, 31349153, 26646960, 18794009, 31349153, 26646960, 18794009, 31349153, 26646960, 18794009, 31349153, 26646960, 18794009, 31349153, 26646960, 18794009, 31349153, 26646960, 18794009, 31349153, 26646960, 18794009, 31349153, 26646960, 18794009, 31349153, 26646960, 18794009, 31349153, 26646960, 18794009, 31349153, 26646960, 18794009, 31349153, 26646960, 18794009, 31349153, 26646960, 18794009, 31349153, 26646960, 18794009, 31349153, 26646960, 18794009, 31349153, 26646960, 18794009, 31349153, 26646960, 18794009, 31349153, 26646960, 18794009, 31349153, 26646960, 18794009, 31349153, 26646960, 18794009, 31349153, 26646960, 18794009, 31349153, 26646960, 18794009, 31349153, 26646960, 18794009, 31349153, 26646960, 18794009, 31349153, 26646960, 18794009, 31349153, 26646960, 18794009, 31349153, 26646960, 18794009, 31349153, 26646960, 18794009, 31349153, 26646960, 18794009, 31349153, 26646960, 18794009, 31349153, 26646960, 18794009, 31349153, 26646960, 18794009, 31349153, 26646960, 18794009, 31349153, 26646960, 18794009, 31349153, 26646960, 18794009, 31349153, 26646960, 18794009, 31349153, 26646960, 18794009, 31349153, 26646960, 18794009, 31349153, 26646960, 18794009, 31349153, 26646960, 18794009, 31349153, 26646960, 18794009, 31349153, 26646960, 18794009, 31349153, 26646960, 18794009, 31349153, 26646960, 18794009, 31349153, 26646960, 18794009, 31349153, 26646960, 18794009, 31349153, 26646960, 18794009, 31349153, 26646960, 18794009, 31349153, 26646960, 18794009, 31349153, 26646960, 18794009, 31349153, 26646960, 18794009, 31349153, 26646960, 18794009, 31349153, 26646960, 18794009, 31349153, 26646960, 18794009, 31349153, 26646960, 18794009, 31349153, 26646960, 18794009, 31349153, 26646960, 18794009, 31349153, 26646960, 18794009, 31349153, 26646960, 18794009, 31349153, 26646960, 18794009, 31349153, 26646960, 18794009, 31349153, 26646960, 18794009, 31349153, 26646960, 18794009, 31349153, 26646960, 18794009, 31349153, 26646960, 18794009, 31349153, 26646960, 18794009, 31349153, 26646960, 18794009, 31349153, 26646960, 18794009, 31349153, 26646960, 18794009, 31349153, 26646960, 18794009, 31349153, 26646960, 18794009, 31349153, 26646960, 18794009, 31349153, 26646960, 18794009, 31349153, 26646960, 18794009, 31349153, 26646960, 18794009, 31349153, 26646960, 18794009, 31349153, 26646960, 18794009, 31349153, 26646960, 18794009, 31349153, 26646960, 18794009, 31349153, 26646960, 18794009, 31349153, 26646960, 18794009, 31349153, 26646960, 18794009, 31349153, 26646960, 18794009, 31349153, 26646960, 18794009, 31349153, 26646960, 18794009, 31349153, 26646960, 18794009, 31349153, 26646960, 18794009, 31349153, 26646960, 18794009, 31349153, 26646960, 18794009, 31349153, 26646960, 18794009, 31349153, 26646960, 18794009, 31349153, 26646960, 18794009, 31349153, 26646960, 18794009, 31349153, 26646960, 18794009, 31349153, 26646960, 18794009, 31349153, 26646960, 18794009, 31349153, 26646960, 18794009, 31349153, 26646960, 18794009, 31349153, 26646960, 18794009, 31349153, 26646960, 18794009, 31349153, 26646960, 18794009, 31349153, 26646960, 18794009, 31349153, 26646960, 18794009, 31349153, 26646960, 18794009, 31349153, 26646960, 18794009, 31349153, 26646960, 18794009, 31349153, 26646960, 18794009, 31349153, 26646960, 18794009, 31349153, 26646960, 18794009, 31349153, 26646960, 18794009, 31349153, 26646960, 18794009, 31349153, 26646960, 18794009, 31349153, 26646960, 18794009, 31349153, 26646960, 18794009, 31349153, 26646960, 18794009, 31349153, 26646960, 18794009, 31349153, 26646960, 18794009, 31349153, 26646960, 18794009, 31349153, 26646960, 18794009, 31349153, 26646960, 18794009, 31349153, 26646960, 18794009, 31349153, 26646960, 18794009, 31349153, 26646960, 18794009, 31349153, 26646960, 18794009, 31349153, 26646960, 18794009, 31349153, 26646960, 18794009, 31349153, 26646960, 18794009, 31349153, 26646960, 18794009, 31349153, 26646960, 18794009, 31349153, 26646960, 18794009, 31349153, 26646960, 18794009, 31349153, 26646960, 18794009, 31349153, 26646960, 18794009, 31349153, 26646960, 18794009, 31349153, 26646960, 18794009, 31349153, 26646960, 18794009, 31349153, 26646960, 18794009, 31349153, 26646960, 18794009, 31349153, 26646960, 18794009, 31349153, 26646960, 18794009, 31349153, 26646960, 18794009, 31349153, 26646960, 18794009, 31349153, 26646960, 18794009, 31349153, 26646960, 18794009, 31349153, 26646960, 18794009, 31349153, 26646960, 18794009, 31349153, 26646960, 18794009, 31349153, 26646960, 18794009, 31349153, 26646960, 18794009, 31349153, 26646960, 18794009, 31349153, 26646960, 18794009, 31349153, 26646960, 18794009, 31349153, 26646960, 18794009, 31349153, 26646960, 18794009, 31349153, 26646960, 18794009, 31349153, 26646960, 18794009, 31349153, 26646960, 18794009, 31349153, 26646960, 18794009, 31349153, 26646960, 18794009, 31349153, 26646960, 18794009, 31349153, 26646960, 18794009, 31349153, 26646960, 18794009, 31349153, 26646960, 18794009, 31349153, 26646960, 18794009, 31349153, 26646960, 18794009, 31349153, 26646960, 18794009, 31349153, 26646960, 18794009, 31349153, 26646960, 18794009, 31349153, 26646960, 18794009, 31349153, 26646960, 18794009, 31349153, 26646960, 18794009], \"yaxis\": \"y\"}],\n",
       "                        {\"legend\": {\"itemsizing\": \"constant\", \"tracegroupgap\": 0}, \"margin\": {\"t\": 60}, \"template\": {\"data\": {\"bar\": [{\"error_x\": {\"color\": \"#2a3f5f\"}, \"error_y\": {\"color\": \"#2a3f5f\"}, \"marker\": {\"line\": {\"color\": \"#E5ECF6\", \"width\": 0.5}}, \"type\": \"bar\"}], \"barpolar\": [{\"marker\": {\"line\": {\"color\": \"#E5ECF6\", \"width\": 0.5}}, \"type\": \"barpolar\"}], \"carpet\": [{\"aaxis\": {\"endlinecolor\": \"#2a3f5f\", \"gridcolor\": \"white\", \"linecolor\": \"white\", \"minorgridcolor\": \"white\", \"startlinecolor\": \"#2a3f5f\"}, \"baxis\": {\"endlinecolor\": \"#2a3f5f\", \"gridcolor\": \"white\", \"linecolor\": \"white\", \"minorgridcolor\": \"white\", \"startlinecolor\": \"#2a3f5f\"}, \"type\": \"carpet\"}], \"choropleth\": [{\"colorbar\": {\"outlinewidth\": 0, \"ticks\": \"\"}, \"type\": \"choropleth\"}], \"contour\": [{\"colorbar\": {\"outlinewidth\": 0, \"ticks\": \"\"}, \"colorscale\": [[0.0, \"#0d0887\"], [0.1111111111111111, \"#46039f\"], [0.2222222222222222, \"#7201a8\"], [0.3333333333333333, \"#9c179e\"], [0.4444444444444444, \"#bd3786\"], [0.5555555555555556, \"#d8576b\"], [0.6666666666666666, \"#ed7953\"], [0.7777777777777778, \"#fb9f3a\"], [0.8888888888888888, \"#fdca26\"], [1.0, \"#f0f921\"]], \"type\": \"contour\"}], \"contourcarpet\": [{\"colorbar\": {\"outlinewidth\": 0, \"ticks\": \"\"}, \"type\": \"contourcarpet\"}], \"heatmap\": [{\"colorbar\": {\"outlinewidth\": 0, \"ticks\": \"\"}, \"colorscale\": [[0.0, \"#0d0887\"], [0.1111111111111111, \"#46039f\"], [0.2222222222222222, \"#7201a8\"], [0.3333333333333333, \"#9c179e\"], [0.4444444444444444, \"#bd3786\"], [0.5555555555555556, \"#d8576b\"], [0.6666666666666666, \"#ed7953\"], [0.7777777777777778, \"#fb9f3a\"], [0.8888888888888888, \"#fdca26\"], [1.0, \"#f0f921\"]], \"type\": \"heatmap\"}], \"heatmapgl\": [{\"colorbar\": {\"outlinewidth\": 0, \"ticks\": \"\"}, \"colorscale\": [[0.0, \"#0d0887\"], [0.1111111111111111, \"#46039f\"], [0.2222222222222222, \"#7201a8\"], [0.3333333333333333, \"#9c179e\"], [0.4444444444444444, \"#bd3786\"], [0.5555555555555556, \"#d8576b\"], [0.6666666666666666, \"#ed7953\"], [0.7777777777777778, \"#fb9f3a\"], [0.8888888888888888, \"#fdca26\"], [1.0, \"#f0f921\"]], \"type\": \"heatmapgl\"}], \"histogram\": [{\"marker\": {\"colorbar\": {\"outlinewidth\": 0, \"ticks\": \"\"}}, \"type\": \"histogram\"}], \"histogram2d\": [{\"colorbar\": {\"outlinewidth\": 0, \"ticks\": \"\"}, \"colorscale\": [[0.0, \"#0d0887\"], [0.1111111111111111, \"#46039f\"], [0.2222222222222222, \"#7201a8\"], [0.3333333333333333, \"#9c179e\"], [0.4444444444444444, \"#bd3786\"], [0.5555555555555556, \"#d8576b\"], [0.6666666666666666, \"#ed7953\"], [0.7777777777777778, \"#fb9f3a\"], [0.8888888888888888, \"#fdca26\"], [1.0, \"#f0f921\"]], \"type\": \"histogram2d\"}], \"histogram2dcontour\": [{\"colorbar\": {\"outlinewidth\": 0, \"ticks\": \"\"}, \"colorscale\": [[0.0, \"#0d0887\"], [0.1111111111111111, \"#46039f\"], [0.2222222222222222, \"#7201a8\"], [0.3333333333333333, \"#9c179e\"], [0.4444444444444444, \"#bd3786\"], [0.5555555555555556, \"#d8576b\"], [0.6666666666666666, \"#ed7953\"], [0.7777777777777778, \"#fb9f3a\"], [0.8888888888888888, \"#fdca26\"], [1.0, \"#f0f921\"]], \"type\": \"histogram2dcontour\"}], \"mesh3d\": [{\"colorbar\": {\"outlinewidth\": 0, \"ticks\": \"\"}, \"type\": \"mesh3d\"}], \"parcoords\": [{\"line\": {\"colorbar\": {\"outlinewidth\": 0, \"ticks\": \"\"}}, \"type\": \"parcoords\"}], \"pie\": [{\"automargin\": true, \"type\": \"pie\"}], \"scatter\": [{\"marker\": {\"colorbar\": {\"outlinewidth\": 0, \"ticks\": \"\"}}, \"type\": \"scatter\"}], \"scatter3d\": [{\"line\": {\"colorbar\": {\"outlinewidth\": 0, \"ticks\": \"\"}}, \"marker\": {\"colorbar\": {\"outlinewidth\": 0, \"ticks\": \"\"}}, \"type\": \"scatter3d\"}], \"scattercarpet\": [{\"marker\": {\"colorbar\": {\"outlinewidth\": 0, \"ticks\": \"\"}}, \"type\": \"scattercarpet\"}], \"scattergeo\": [{\"marker\": {\"colorbar\": {\"outlinewidth\": 0, \"ticks\": \"\"}}, \"type\": \"scattergeo\"}], \"scattergl\": [{\"marker\": {\"colorbar\": {\"outlinewidth\": 0, \"ticks\": \"\"}}, \"type\": \"scattergl\"}], \"scattermapbox\": [{\"marker\": {\"colorbar\": {\"outlinewidth\": 0, \"ticks\": \"\"}}, \"type\": \"scattermapbox\"}], \"scatterpolar\": [{\"marker\": {\"colorbar\": {\"outlinewidth\": 0, \"ticks\": \"\"}}, \"type\": \"scatterpolar\"}], \"scatterpolargl\": [{\"marker\": {\"colorbar\": {\"outlinewidth\": 0, \"ticks\": \"\"}}, \"type\": \"scatterpolargl\"}], \"scatterternary\": [{\"marker\": {\"colorbar\": {\"outlinewidth\": 0, \"ticks\": \"\"}}, \"type\": \"scatterternary\"}], \"surface\": [{\"colorbar\": {\"outlinewidth\": 0, \"ticks\": \"\"}, \"colorscale\": [[0.0, \"#0d0887\"], [0.1111111111111111, \"#46039f\"], [0.2222222222222222, \"#7201a8\"], [0.3333333333333333, \"#9c179e\"], [0.4444444444444444, \"#bd3786\"], [0.5555555555555556, \"#d8576b\"], [0.6666666666666666, \"#ed7953\"], [0.7777777777777778, \"#fb9f3a\"], [0.8888888888888888, \"#fdca26\"], [1.0, \"#f0f921\"]], \"type\": \"surface\"}], \"table\": [{\"cells\": {\"fill\": {\"color\": \"#EBF0F8\"}, \"line\": {\"color\": \"white\"}}, \"header\": {\"fill\": {\"color\": \"#C8D4E3\"}, \"line\": {\"color\": \"white\"}}, \"type\": \"table\"}]}, \"layout\": {\"annotationdefaults\": {\"arrowcolor\": \"#2a3f5f\", \"arrowhead\": 0, \"arrowwidth\": 1}, \"coloraxis\": {\"colorbar\": {\"outlinewidth\": 0, \"ticks\": \"\"}}, \"colorscale\": {\"diverging\": [[0, \"#8e0152\"], [0.1, \"#c51b7d\"], [0.2, \"#de77ae\"], [0.3, \"#f1b6da\"], [0.4, \"#fde0ef\"], [0.5, \"#f7f7f7\"], [0.6, \"#e6f5d0\"], [0.7, \"#b8e186\"], [0.8, \"#7fbc41\"], [0.9, \"#4d9221\"], [1, \"#276419\"]], \"sequential\": [[0.0, \"#0d0887\"], [0.1111111111111111, \"#46039f\"], [0.2222222222222222, \"#7201a8\"], [0.3333333333333333, \"#9c179e\"], [0.4444444444444444, \"#bd3786\"], [0.5555555555555556, \"#d8576b\"], [0.6666666666666666, \"#ed7953\"], [0.7777777777777778, \"#fb9f3a\"], [0.8888888888888888, \"#fdca26\"], [1.0, \"#f0f921\"]], \"sequentialminus\": [[0.0, \"#0d0887\"], [0.1111111111111111, \"#46039f\"], [0.2222222222222222, \"#7201a8\"], [0.3333333333333333, \"#9c179e\"], [0.4444444444444444, \"#bd3786\"], [0.5555555555555556, \"#d8576b\"], [0.6666666666666666, \"#ed7953\"], [0.7777777777777778, \"#fb9f3a\"], [0.8888888888888888, \"#fdca26\"], [1.0, \"#f0f921\"]]}, \"colorway\": [\"#636efa\", \"#EF553B\", \"#00cc96\", \"#ab63fa\", \"#FFA15A\", \"#19d3f3\", \"#FF6692\", \"#B6E880\", \"#FF97FF\", \"#FECB52\"], \"font\": {\"color\": \"#2a3f5f\"}, \"geo\": {\"bgcolor\": \"white\", \"lakecolor\": \"white\", \"landcolor\": \"#E5ECF6\", \"showlakes\": true, \"showland\": true, \"subunitcolor\": \"white\"}, \"hoverlabel\": {\"align\": \"left\"}, \"hovermode\": \"closest\", \"mapbox\": {\"style\": \"light\"}, \"paper_bgcolor\": \"white\", \"plot_bgcolor\": \"#E5ECF6\", \"polar\": {\"angularaxis\": {\"gridcolor\": \"white\", \"linecolor\": \"white\", \"ticks\": \"\"}, \"bgcolor\": \"#E5ECF6\", \"radialaxis\": {\"gridcolor\": \"white\", \"linecolor\": \"white\", \"ticks\": \"\"}}, \"scene\": {\"xaxis\": {\"backgroundcolor\": \"#E5ECF6\", \"gridcolor\": \"white\", \"gridwidth\": 2, \"linecolor\": \"white\", \"showbackground\": true, \"ticks\": \"\", \"zerolinecolor\": \"white\"}, \"yaxis\": {\"backgroundcolor\": \"#E5ECF6\", \"gridcolor\": \"white\", \"gridwidth\": 2, \"linecolor\": \"white\", \"showbackground\": true, \"ticks\": \"\", \"zerolinecolor\": \"white\"}, \"zaxis\": {\"backgroundcolor\": \"#E5ECF6\", \"gridcolor\": \"white\", \"gridwidth\": 2, \"linecolor\": \"white\", \"showbackground\": true, \"ticks\": \"\", \"zerolinecolor\": \"white\"}}, \"shapedefaults\": {\"line\": {\"color\": \"#2a3f5f\"}}, \"ternary\": {\"aaxis\": {\"gridcolor\": \"white\", \"linecolor\": \"white\", \"ticks\": \"\"}, \"baxis\": {\"gridcolor\": \"white\", \"linecolor\": \"white\", \"ticks\": \"\"}, \"bgcolor\": \"#E5ECF6\", \"caxis\": {\"gridcolor\": \"white\", \"linecolor\": \"white\", \"ticks\": \"\"}}, \"title\": {\"x\": 0.05}, \"xaxis\": {\"automargin\": true, \"gridcolor\": \"white\", \"linecolor\": \"white\", \"ticks\": \"\", \"title\": {\"standoff\": 15}, \"zerolinecolor\": \"white\", \"zerolinewidth\": 2}, \"yaxis\": {\"automargin\": true, \"gridcolor\": \"white\", \"linecolor\": \"white\", \"ticks\": \"\", \"title\": {\"standoff\": 15}, \"zerolinecolor\": \"white\", \"zerolinewidth\": 2}}}, \"title\": {\"text\": \"Population vs. Total Visitor\"}, \"xaxis\": {\"anchor\": \"y\", \"domain\": [0.0, 1.0], \"title\": {\"text\": \"Population\"}}, \"yaxis\": {\"anchor\": \"x\", \"domain\": [0.0, 1.0], \"title\": {\"text\": \"Total Visitors\"}}},\n",
       "                        {\"responsive\": true}\n",
       "                    ).then(function(){\n",
       "                            \n",
       "var gd = document.getElementById('e91c1aa0-f456-466a-9c97-056c092c00c0');\n",
       "var x = new MutationObserver(function (mutations, observer) {{\n",
       "        var display = window.getComputedStyle(gd).display;\n",
       "        if (!display || display === 'none') {{\n",
       "            console.log([gd, 'removed!']);\n",
       "            Plotly.purge(gd);\n",
       "            observer.disconnect();\n",
       "        }}\n",
       "}});\n",
       "\n",
       "// Listen for the removal of the full notebook cells\n",
       "var notebookContainer = gd.closest('#notebook-container');\n",
       "if (notebookContainer) {{\n",
       "    x.observe(notebookContainer, {childList: true});\n",
       "}}\n",
       "\n",
       "// Listen for the clearing of the current output cell\n",
       "var outputEl = gd.closest('.output');\n",
       "if (outputEl) {{\n",
       "    x.observe(outputEl, {childList: true});\n",
       "}}\n",
       "\n",
       "                        })\n",
       "                };\n",
       "                });\n",
       "            </script>\n",
       "        </div>"
      ]
     },
     "metadata": {},
     "output_type": "display_data"
    }
   ],
   "source": [
    "# import plotly.express as px\n",
    "fig = px.scatter(Fall, x=\"Population\", y=\"Total Visitors\", hover_data=[\"State Code\"], size=\"Month\" )\n",
    "fig.update_layout(title='Population vs. Total Visitor')\n",
    "# fig.show()\n"
   ]
  },
  {
   "cell_type": "code",
   "execution_count": null,
   "metadata": {},
   "outputs": [],
   "source": []
  }
 ],
 "metadata": {
  "kernelspec": {
   "display_name": "Python 3",
   "language": "python",
   "name": "python3"
  },
  "language_info": {
   "codemirror_mode": {
    "name": "ipython",
    "version": 3
   },
   "file_extension": ".py",
   "mimetype": "text/x-python",
   "name": "python",
   "nbconvert_exporter": "python",
   "pygments_lexer": "ipython3",
   "version": "3.7.4"
  }
 },
 "nbformat": 4,
 "nbformat_minor": 2
}
